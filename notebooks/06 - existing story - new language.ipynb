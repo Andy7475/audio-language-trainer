{
 "cells": [
  {
   "cell_type": "markdown",
   "metadata": {},
   "source": [
    "# Existing Story in a new language\n",
    "Here we will load a story JSON file (that contains the text), but process it into a new language"
   ]
  },
  {
   "cell_type": "code",
   "execution_count": 1,
   "metadata": {},
   "outputs": [],
   "source": [
    "%load_ext autoreload\n",
    "%autoreload 2\n",
    "from dotenv import load_dotenv\n",
    "load_dotenv()\n",
    "\n",
    "PAY_FOR_API = True #change to True to run cells that cost money via API calls"
   ]
  },
  {
   "cell_type": "code",
   "execution_count": 2,
   "metadata": {},
   "outputs": [
    {
     "name": "stdout",
     "output_type": "stream",
     "text": [
      "FFmpeg path added to system PATH: C:\\Program Files\\ffmpeg-7.0-essentials_build\\bin\n"
     ]
    }
   ],
   "source": [
    "from pathlib import Path\n",
    "from src.config_loader import config\n",
    "from PIL import Image\n",
    "from src.utils import load_json, load_text_file, save_json, save_pickle, upload_to_gcs, upload_story_to_gcs\n",
    "from src.generate import add_audio, add_translations\n",
    "from src.story import generate_index_html\n",
    "# Add the parent directory of 'src' to the Python path\n"
   ]
  },
  {
   "cell_type": "markdown",
   "metadata": {},
   "source": [
    "### Add directories\n",
    "story images can be re-used between languages, but audio files are language specific, so we structure the story directory story_name/language with audio files in 'language/' and images and the english JSON file in story_name dir"
   ]
  },
  {
   "cell_type": "code",
   "execution_count": 5,
   "metadata": {},
   "outputs": [],
   "source": [
    "notebook_dir = Path().absolute()  # This gives src/notebooks\n",
    "phrase_dir = notebook_dir.parent / \"data\" / \"phrases\" #where we store text files of phrases\n",
    "story_dir = notebook_dir.parent / \"outputs\" / \"stories\" # where we store our stories"
   ]
  },
  {
   "cell_type": "code",
   "execution_count": 8,
   "metadata": {},
   "outputs": [
    {
     "data": {
      "text/plain": [
       "(VoiceInfo(name='en-GB-Studio-B', provider=<VoiceProvider.GOOGLE: 'google'>, voice_type=<VoiceType.STUDIO: 'studio'>, gender='MALE', language_code='en-GB', country_code='GB', voice_id='en-GB-Studio-B'),\n",
       " VoiceInfo(name='ru-RU-Wavenet-A', provider=<VoiceProvider.GOOGLE: 'google'>, voice_type=<VoiceType.WAVENET: 'wavenet'>, gender='FEMALE', language_code='ru-RU', country_code='RU', voice_id='ru-RU-Wavenet-A'),\n",
       " VoiceInfo(name='ru-RU-Wavenet-B', provider=<VoiceProvider.GOOGLE: 'google'>, voice_type=<VoiceType.WAVENET: 'wavenet'>, gender='MALE', language_code='ru-RU', country_code='RU', voice_id='ru-RU-Wavenet-B'))"
      ]
     },
     "execution_count": 8,
     "metadata": {},
     "output_type": "execute_result"
    }
   ],
   "source": [
    "story_name = \"dining_dilemma_at_local_restaurant\" #omit the leading story_\n",
    "clean_story_name = f\"story_{story_name.lower().replace(' ', '_')}\"\n",
    "story_path = story_dir / clean_story_name / f\"{clean_story_name}.json\"\n",
    "\n",
    "story_dict = load_json(story_path)\n",
    "config.get_voice_models()"
   ]
  },
  {
   "cell_type": "markdown",
   "metadata": {},
   "source": [
    "## Generate the story files\n",
    "Once you are happy with the flashcard coverage, you can:\n",
    "* translate and add audio\n",
    "* create the story images\n",
    "* create the story album files (M4a files with synced lyrics)\n",
    "* create the story HTML file using those previous files, and upload to Google Cloud Storage\n",
    "* tag the flascards with the story name...this will then mean you can link to the story from within Anki (the template uses tags to auto-create hyperlinks)"
   ]
  },
  {
   "cell_type": "code",
   "execution_count": 9,
   "metadata": {},
   "outputs": [
    {
     "name": "stderr",
     "output_type": "stream",
     "text": [
      "adding translations:   0%|          | 0/2 [00:00<?, ?it/s]"
     ]
    },
    {
     "name": "stdout",
     "output_type": "stream",
     "text": [
      "Beginning translation for setup\n"
     ]
    },
    {
     "name": "stderr",
     "output_type": "stream",
     "text": [
      "adding translations:  50%|█████     | 1/2 [00:02<00:02,  2.08s/it]"
     ]
    },
    {
     "name": "stdout",
     "output_type": "stream",
     "text": [
      "Translated dialogue\n",
      "Beginning translation for resolution\n"
     ]
    },
    {
     "name": "stderr",
     "output_type": "stream",
     "text": [
      "adding translations: 100%|██████████| 2/2 [00:03<00:00,  1.98s/it]\n"
     ]
    },
    {
     "name": "stdout",
     "output_type": "stream",
     "text": [
      "Translated dialogue\n"
     ]
    },
    {
     "name": "stderr",
     "output_type": "stream",
     "text": [
      "adding audio:   0%|          | 0/2 [00:00<?, ?it/s]"
     ]
    },
    {
     "name": "stdout",
     "output_type": "stream",
     "text": [
      "Beginning text-to-speech for setup\n"
     ]
    },
    {
     "name": "stderr",
     "output_type": "stream",
     "text": [
      "Generating dialogue audio: 100%|██████████| 7/7 [00:16<00:00,  2.41s/it]\n",
      "adding audio:  50%|█████     | 1/2 [00:32<00:32, 32.02s/it]"
     ]
    },
    {
     "name": "stdout",
     "output_type": "stream",
     "text": [
      "Text-to-speech for dialogue done\n",
      "Beginning text-to-speech for resolution\n"
     ]
    },
    {
     "name": "stderr",
     "output_type": "stream",
     "text": [
      "Generating dialogue audio: 100%|██████████| 6/6 [00:13<00:00,  2.31s/it]\n",
      "adding audio: 100%|██████████| 2/2 [00:46<00:00, 23.09s/it]"
     ]
    },
    {
     "name": "stdout",
     "output_type": "stream",
     "text": [
      "Text-to-speech for dialogue done\n"
     ]
    },
    {
     "name": "stderr",
     "output_type": "stream",
     "text": [
      "\n"
     ]
    }
   ],
   "source": [
    "story_dialogue_audio = add_translations(story_dict)\n",
    "story_dialogue_audio = add_audio(story_dialogue_audio)"
   ]
  },
  {
   "cell_type": "code",
   "execution_count": 10,
   "metadata": {},
   "outputs": [],
   "source": [
    "#this has target language content in now so we save in language dir\n",
    "save_pickle(data=story_dialogue_audio, file_path=story_dir / clean_story_name / config.TARGET_LANGUAGE_NAME / f\"{clean_story_name}.pkl\")"
   ]
  },
  {
   "cell_type": "markdown",
   "metadata": {},
   "source": [
    "M4A audio files which you will be able to download and play via a media player.\n",
    "They have synced lyrics which can be viewed in the Oto Music Player app"
   ]
  },
  {
   "cell_type": "code",
   "execution_count": 11,
   "metadata": {},
   "outputs": [
    {
     "name": "stderr",
     "output_type": "stream",
     "text": [
      "creating album:  50%|█████     | 1/2 [00:03<00:03,  3.39s/it]"
     ]
    },
    {
     "name": "stdout",
     "output_type": "stream",
     "text": [
      "Saved M4A file track number 1\n"
     ]
    },
    {
     "name": "stderr",
     "output_type": "stream",
     "text": [
      "creating album: 100%|██████████| 2/2 [00:06<00:00,  3.16s/it]"
     ]
    },
    {
     "name": "stdout",
     "output_type": "stream",
     "text": [
      "Saved M4A file track number 2\n"
     ]
    },
    {
     "name": "stderr",
     "output_type": "stream",
     "text": [
      "\n"
     ]
    }
   ],
   "source": [
    "from src.story import create_album_files\n",
    "FIRST_STORY_PART = list(story_dialogue_audio.keys())[0]\n",
    "#may need to change depending on size of story made and what parts there are\n",
    "album_image = Image.open(story_dir / clean_story_name / f\"{clean_story_name}_{FIRST_STORY_PART}.png\")\n",
    "#create m4a file:\n",
    "create_album_files(story_data_dict=story_dialogue_audio, cover_image=album_image, output_dir=story_dir / clean_story_name / config.TARGET_LANGUAGE_NAME, story_name=clean_story_name)"
   ]
  },
  {
   "cell_type": "markdown",
   "metadata": {},
   "source": [
    "Now we generate the main html file - this wraps up the M4A files and image files within it, so it's self-contained"
   ]
  },
  {
   "cell_type": "code",
   "execution_count": 12,
   "metadata": {},
   "outputs": [
    {
     "name": "stderr",
     "output_type": "stream",
     "text": [
      "Preparing HTML data: 100%|██████████| 2/2 [02:12<00:00, 66.13s/it]\n"
     ]
    },
    {
     "name": "stdout",
     "output_type": "stream",
     "text": [
      "HTML story created at: y:\\Python Scripts\\audio-language-trainer\\outputs\\stories\\story_dining_dilemma_at_local_restaurant\\Russian\\story_dining_dilemma_at_local_restaurant.html\n"
     ]
    }
   ],
   "source": [
    "from src.story import create_html_story\n",
    "\n",
    "create_html_story(\n",
    "            story_data_dict=story_dialogue_audio,\n",
    "            image_dir=story_dir / clean_story_name, #the langauge sub-folders will be picked up automatically\n",
    "            story_name=clean_story_name,\n",
    "        )"
   ]
  },
  {
   "cell_type": "markdown",
   "metadata": {},
   "source": [
    "Upload to a public google cloud bucket"
   ]
  },
  {
   "cell_type": "code",
   "execution_count": 13,
   "metadata": {},
   "outputs": [
    {
     "data": {
      "text/plain": [
       "'https://storage.googleapis.com/audio-language-trainer-stories/russian/story_dining_dilemma_at_local_restaurant/story_dining_dilemma_at_local_restaurant.html'"
      ]
     },
     "execution_count": 13,
     "metadata": {},
     "output_type": "execute_result"
    }
   ],
   "source": [
    "html_story_path = story_dir / clean_story_name / config.TARGET_LANGUAGE_NAME / f\"{clean_story_name}.html\"\n",
    "assert html_story_path.exists()\n",
    "upload_story_to_gcs(html_file_path=html_story_path)"
   ]
  },
  {
   "cell_type": "markdown",
   "metadata": {},
   "source": [
    "Update the index webpage"
   ]
  },
  {
   "cell_type": "code",
   "execution_count": 15,
   "metadata": {},
   "outputs": [
    {
     "data": {
      "text/plain": [
       "'https://storage.googleapis.com/audio-language-trainer-stories/index.html'"
      ]
     },
     "execution_count": 15,
     "metadata": {},
     "output_type": "execute_result"
    }
   ],
   "source": [
    "generate_index_html()\n",
    "#will default to public GCS bucket\n",
    "upload_to_gcs(\n",
    "    file_path=\"../outputs/stories/index.html\",\n",
    "    content_type=\"text/html\"\n",
    ")"
   ]
  },
  {
   "cell_type": "code",
   "execution_count": null,
   "metadata": {},
   "outputs": [],
   "source": []
  }
 ],
 "metadata": {
  "kernelspec": {
   "display_name": ".venv",
   "language": "python",
   "name": "python3"
  },
  "language_info": {
   "codemirror_mode": {
    "name": "ipython",
    "version": 3
   },
   "file_extension": ".py",
   "mimetype": "text/x-python",
   "name": "python",
   "nbconvert_exporter": "python",
   "pygments_lexer": "ipython3",
   "version": "3.11.4"
  }
 },
 "nbformat": 4,
 "nbformat_minor": 2
}
