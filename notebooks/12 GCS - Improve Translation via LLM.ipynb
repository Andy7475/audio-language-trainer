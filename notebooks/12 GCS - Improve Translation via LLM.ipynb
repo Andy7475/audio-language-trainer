{
 "cells": [
  {
   "cell_type": "code",
   "execution_count": 1,
   "metadata": {},
   "outputs": [],
   "source": [
    "from google.auth import default\n",
    "credentials, project = default()"
   ]
  },
  {
   "cell_type": "code",
   "execution_count": 23,
   "metadata": {},
   "outputs": [
    {
     "name": "stdout",
     "output_type": "stream",
     "text": [
      "The autoreload extension is already loaded. To reload it, use:\n",
      "  %reload_ext autoreload\n"
     ]
    },
    {
     "data": {
      "text/plain": [
       "'Spanish'"
      ]
     },
     "execution_count": 23,
     "metadata": {},
     "output_type": "execute_result"
    }
   ],
   "source": [
    "%load_ext autoreload\n",
    "%autoreload 2\n",
    "import os\n",
    "import sys\n",
    "from pathlib import Path\n",
    "module_path = os.path.abspath(os.path.join('..'))\n",
    "if module_path not in sys.path:\n",
    "    sys.path.append(module_path)\n",
    "from dotenv import load_dotenv\n",
    "load_dotenv()\n",
    "\n",
    "from src.config_loader import config\n",
    "from src.translation import review_translations_with_anthropic, review_translated_phrases_batch\n",
    "from src.utils import get_first_n_items\n",
    "from src.gcs_storage import get_translated_phrases_path, read_from_gcs, upload_to_gcs\n",
    "config.TARGET_LANGUAGE_NAME"
   ]
  },
  {
   "cell_type": "markdown",
   "metadata": {},
   "source": [
    "# Translation Refinement\n",
    "\n",
    "## Issues with Google Translate\n",
    "\n",
    "It can sound stiff / formal and be more related to written text rather than verbal.\n",
    "\n",
    "## Approach\n",
    "\n",
    "Use Sonnet 3.5 via the Anthropic API, using a tool to return adjusted translations in JSON format for re-uploading to our phrase translation store (json file)"
   ]
  },
  {
   "cell_type": "code",
   "execution_count": 20,
   "metadata": {},
   "outputs": [],
   "source": [
    "# get current translated JSON file\n",
    "translated_file_path =get_translated_phrases_path(collection=\"LM1000\")\n",
    "\n",
    "phrase_translations = read_from_gcs(bucket_name=config.GCS_PRIVATE_BUCKET, file_path=translated_file_path)"
   ]
  },
  {
   "cell_type": "code",
   "execution_count": 24,
   "metadata": {},
   "outputs": [],
   "source": [
    "test_dict = get_first_n_items(phrase_translations, 20)"
   ]
  },
  {
   "cell_type": "code",
   "execution_count": 22,
   "metadata": {},
   "outputs": [
    {
     "data": {
      "text/plain": [
       "830"
      ]
     },
     "execution_count": 22,
     "metadata": {},
     "output_type": "execute_result"
    }
   ],
   "source": [
    "len(phrase_translations)"
   ]
  },
  {
   "cell_type": "code",
   "execution_count": 27,
   "metadata": {},
   "outputs": [
    {
     "name": "stdout",
     "output_type": "stream",
     "text": [
      "Processing batch 1 with 20 phrases...\n",
      "Processing batch 2 with 20 phrases...\n",
      "Processing batch 3 with 20 phrases...\n",
      "Processing batch 4 with 20 phrases...\n",
      "Processing batch 5 with 20 phrases...\n",
      "Processing batch 6 with 20 phrases...\n",
      "Processing batch 7 with 20 phrases...\n",
      "Processing batch 8 with 20 phrases...\n",
      "Processing batch 9 with 20 phrases...\n",
      "Processing batch 10 with 20 phrases...\n",
      "Processing batch 11 with 20 phrases...\n",
      "Processing batch 12 with 20 phrases...\n",
      "Processing batch 13 with 20 phrases...\n",
      "Processing batch 14 with 20 phrases...\n",
      "Processing batch 15 with 20 phrases...\n",
      "Processing batch 16 with 20 phrases...\n",
      "Processing batch 17 with 20 phrases...\n",
      "Processing batch 18 with 20 phrases...\n",
      "Processing batch 19 with 20 phrases...\n",
      "Processing batch 20 with 20 phrases...\n",
      "Processing batch 21 with 20 phrases...\n",
      "Processing batch 22 with 20 phrases...\n",
      "Processing batch 23 with 20 phrases...\n",
      "Processing batch 24 with 20 phrases...\n",
      "Processing batch 25 with 20 phrases...\n",
      "Processing batch 26 with 20 phrases...\n",
      "Processing batch 27 with 20 phrases...\n",
      "Processing batch 28 with 20 phrases...\n",
      "Processing batch 29 with 20 phrases...\n",
      "Processing batch 30 with 20 phrases...\n",
      "Processing batch 31 with 20 phrases...\n",
      "Processing batch 32 with 20 phrases...\n",
      "Processing batch 33 with 20 phrases...\n",
      "Processing batch 34 with 20 phrases...\n",
      "Processing batch 35 with 20 phrases...\n",
      "Processing batch 36 with 20 phrases...\n",
      "Processing batch 37 with 20 phrases...\n",
      "Processing batch 38 with 20 phrases...\n",
      "Processing batch 39 with 20 phrases...\n",
      "Processing batch 40 with 20 phrases...\n",
      "Processing batch 41 with 20 phrases...\n",
      "Processing batch 42 with 10 phrases...\n"
     ]
    }
   ],
   "source": [
    "improved_translations = review_translated_phrases_batch(phrase_translations, model = \"claude-3-5-sonnet-latest\")"
   ]
  },
  {
   "cell_type": "code",
   "execution_count": 30,
   "metadata": {},
   "outputs": [
    {
     "data": {
      "text/plain": [
       "830"
      ]
     },
     "execution_count": 30,
     "metadata": {},
     "output_type": "execute_result"
    }
   ],
   "source": [
    "len(improved_translations)"
   ]
  },
  {
   "cell_type": "code",
   "execution_count": 29,
   "metadata": {},
   "outputs": [
    {
     "data": {
      "text/plain": [
       "'gs://audio-language-trainer-private-content/collections/LM1000/spanish/translations.json'"
      ]
     },
     "execution_count": 29,
     "metadata": {},
     "output_type": "execute_result"
    }
   ],
   "source": [
    "upload_to_gcs(obj=improved_translations, bucket_name=config.GCS_PRIVATE_BUCKET, file_name=translated_file_path)"
   ]
  },
  {
   "cell_type": "code",
   "execution_count": null,
   "metadata": {},
   "outputs": [],
   "source": []
  }
 ],
 "metadata": {
  "kernelspec": {
   "display_name": ".venv",
   "language": "python",
   "name": "python3"
  },
  "language_info": {
   "codemirror_mode": {
    "name": "ipython",
    "version": 3
   },
   "file_extension": ".py",
   "mimetype": "text/x-python",
   "name": "python",
   "nbconvert_exporter": "python",
   "pygments_lexer": "ipython3",
   "version": "3.12.0"
  }
 },
 "nbformat": 4,
 "nbformat_minor": 2
}
