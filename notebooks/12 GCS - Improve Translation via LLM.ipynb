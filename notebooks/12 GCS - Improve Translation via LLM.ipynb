{
 "cells": [
  {
   "cell_type": "code",
   "execution_count": 1,
   "metadata": {},
   "outputs": [],
   "source": [
    "from google.auth import default\n",
    "credentials, project = default()"
   ]
  },
  {
   "cell_type": "code",
   "execution_count": 2,
   "metadata": {},
   "outputs": [
    {
     "name": "stdout",
     "output_type": "stream",
     "text": [
      "Swedish\n"
     ]
    }
   ],
   "source": [
    "%load_ext autoreload\n",
    "%autoreload 2\n",
    "import os\n",
    "import sys\n",
    "from pathlib import Path\n",
    "module_path = os.path.abspath(os.path.join('..'))\n",
    "if module_path not in sys.path:\n",
    "    sys.path.append(module_path)\n",
    "from dotenv import load_dotenv\n",
    "load_dotenv()\n",
    "\n",
    "from src.config_loader import config\n",
    "from src.translation import review_translations_with_anthropic, review_translated_phrases_batch\n",
    "from src.utils import get_first_n_items\n",
    "from src.gcs_storage import get_translated_phrases_path, read_from_gcs, upload_to_gcs\n",
    "print(config.TARGET_LANGUAGE_NAME)\n",
    "COLLECTION = \"WarmUp150\""
   ]
  },
  {
   "cell_type": "markdown",
   "metadata": {},
   "source": [
    "# Translation Refinement\n",
    "\n",
    "## Issues with Google Translate\n",
    "\n",
    "It can sound stiff / formal and be more related to written text rather than verbal.\n",
    "\n",
    "## Approach\n",
    "\n",
    "Use Sonnet 3.5 via the Anthropic API, using a tool to return adjusted translations in JSON format for re-uploading to our phrase translation store (json file)"
   ]
  },
  {
   "cell_type": "code",
   "execution_count": 18,
   "metadata": {},
   "outputs": [],
   "source": [
    "# get current translated JSON file\n",
    "translated_file_path =get_translated_phrases_path(collection=COLLECTION)\n",
    "\n",
    "phrase_translations = read_from_gcs(bucket_name=config.GCS_PRIVATE_BUCKET, file_path=translated_file_path)"
   ]
  },
  {
   "cell_type": "code",
   "execution_count": 19,
   "metadata": {},
   "outputs": [],
   "source": [
    "test_dict = get_first_n_items(phrase_translations, 5)"
   ]
  },
  {
   "cell_type": "code",
   "execution_count": 20,
   "metadata": {},
   "outputs": [
    {
     "name": "stdout",
     "output_type": "stream",
     "text": [
      "Processing batch 1 with 5 phrases...\n"
     ]
    }
   ],
   "source": [
    "improved_translations = review_translated_phrases_batch(test_dict)"
   ]
  },
  {
   "cell_type": "code",
   "execution_count": null,
   "metadata": {},
   "outputs": [],
   "source": [
    "len(improved_translations)"
   ]
  },
  {
   "cell_type": "code",
   "execution_count": null,
   "metadata": {},
   "outputs": [],
   "source": [
    "upload_to_gcs(obj=improved_translations, bucket_name=config.GCS_PRIVATE_BUCKET, file_name=translated_file_path)"
   ]
  },
  {
   "cell_type": "code",
   "execution_count": 21,
   "metadata": {},
   "outputs": [
    {
     "data": {
      "text/plain": [
       "{'i_cant_figure_it_out': {'english': \"I can't figure it out\",\n",
       "  'swedish': 'Jag kan inte komma på det',\n",
       "  'modified': True},\n",
       " 'do_you_know_the_way': {'english': 'Do you know the way?',\n",
       "  'swedish': 'Vet du vägen?',\n",
       "  'modified': False},\n",
       " 'lets_have_tea_this_afternoon': {'english': \"Let's have tea this afternoon\",\n",
       "  'swedish': 'Ska vi dricka te i eftermiddag?',\n",
       "  'modified': True},\n",
       " 'im_trying_to_lose_weight': {'english': \"I'm trying to lose weight\",\n",
       "  'swedish': 'Jag försöker gå ner i vikt',\n",
       "  'modified': False},\n",
       " 'i_might_get_a_new_job': {'english': 'I might get a new job',\n",
       "  'swedish': 'Jag kanske får ett nytt jobb',\n",
       "  'modified': False}}"
      ]
     },
     "execution_count": 21,
     "metadata": {},
     "output_type": "execute_result"
    }
   ],
   "source": [
    "improved_translations"
   ]
  },
  {
   "cell_type": "code",
   "execution_count": null,
   "metadata": {},
   "outputs": [],
   "source": []
  }
 ],
 "metadata": {
  "kernelspec": {
   "display_name": ".venv (3.12.0)",
   "language": "python",
   "name": "python3"
  },
  "language_info": {
   "codemirror_mode": {
    "name": "ipython",
    "version": 3
   },
   "file_extension": ".py",
   "mimetype": "text/x-python",
   "name": "python",
   "nbconvert_exporter": "python",
   "pygments_lexer": "ipython3",
   "version": "3.12.0"
  }
 },
 "nbformat": 4,
 "nbformat_minor": 2
}
