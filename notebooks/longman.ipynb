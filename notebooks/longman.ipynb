{
 "cells": [
  {
   "cell_type": "code",
   "execution_count": 1,
   "metadata": {},
   "outputs": [],
   "source": [
    "%load_ext autoreload"
   ]
  },
  {
   "cell_type": "code",
   "execution_count": 3,
   "metadata": {},
   "outputs": [],
   "source": [
    "%autoreload 2"
   ]
  },
  {
   "cell_type": "code",
   "execution_count": 5,
   "metadata": {},
   "outputs": [],
   "source": [
    "# Add the parent directory of 'src' to the Python path\n",
    "import os\n",
    "import sys\n",
    "\n",
    "\n",
    "module_path = os.path.abspath(os.path.join('..'))\n",
    "if module_path not in sys.path:\n",
    "    sys.path.append(module_path)"
   ]
  },
  {
   "cell_type": "code",
   "execution_count": 6,
   "metadata": {},
   "outputs": [
    {
     "name": "stdout",
     "output_type": "stream",
     "text": [
      "Searching for config.json...\n",
      "Checking: c:\\Users\\i5\\Documents\\Python Scripts\\audio-language-trainer\\notebooks\\config.json\n",
      "Checking: c:\\Users\\i5\\Documents\\Python Scripts\\audio-language-trainer\\src\\config.json\n",
      "Found config file at: c:\\Users\\i5\\Documents\\Python Scripts\\audio-language-trainer\\src\\config.json\n",
      "Successfully loaded config from: c:\\Users\\i5\\Documents\\Python Scripts\\audio-language-trainer\\src\\config.json\n",
      "Multiple country codes available for en: en-AU, en-GB, en-IN, en-US\n",
      "Config loader initialized.\n",
      "Config file location: c:\\Users\\i5\\Documents\\Python Scripts\\audio-language-trainer\\src\\config.json\n",
      "Current working directory: c:\\Users\\i5\\Documents\\Python Scripts\\audio-language-trainer\\notebooks\n"
     ]
    }
   ],
   "source": [
    "from src.phrase import *\n",
    "\n",
    "file_path = '../data/longman-communication-3000.json'\n",
    "data = load_longman_data(file_path)\n",
    "s1_words = filter_s1_words(data)\n"
   ]
  },
  {
   "cell_type": "code",
   "execution_count": 10,
   "metadata": {},
   "outputs": [],
   "source": [
    "word_list = [word for words in s1_words.values() for word in words]"
   ]
  },
  {
   "cell_type": "code",
   "execution_count": 15,
   "metadata": {},
   "outputs": [],
   "source": [
    "from random import shuffle\n",
    "\n",
    "\n",
    "shuffle(word_list)"
   ]
  },
  {
   "cell_type": "code",
   "execution_count": 17,
   "metadata": {},
   "outputs": [],
   "source": [
    "\n",
    "phrases = generate_phrases_with_llm(word_list[0:500], num_phrases=100)\n"
   ]
  },
  {
   "cell_type": "code",
   "execution_count": 26,
   "metadata": {},
   "outputs": [
    {
     "data": {
      "text/plain": [
       "['{',\n",
       " '    \"phrases\": [',\n",
       " '        \"The lovely couple will watch the sunset together\",',\n",
       " '        \"How did you manage to organize the event\",',\n",
       " '        \"She had to suffer through a difficult exam\",',\n",
       " '        \"They are considering a move to the west\",',\n",
       " '        \"Can you please pass me that blue bottle\",',\n",
       " '        \"We should add more information to the report\",',\n",
       " '        \"The doctor will provide an answer next week\",',\n",
       " '        \"They have been waiting for hours in line\",',\n",
       " '        \"He realized the importance of a good education\",',\n",
       " '        \"The tired student needed a coffee break badly\",',\n",
       " '        \"We ought to pay more attention to health\",',\n",
       " '        \"The wife wondered about their future together\",',\n",
       " '        \"They will build a new office in the centre\",',\n",
       " '        \"She had to break the news to her mother\",',\n",
       " '        \"The minister spoke about the environment yesterday\",',\n",
       " '        \"You must apply for the job by Friday\",',\n",
       " '        \"They are planning to open a new shop\",',\n",
       " '        \"He will teach us how to play the game\",',\n",
       " '        \"The weather has been pretty bad lately\",',\n",
       " '        \"We should collect more data for the project\",',\n",
       " '        \"She wants to live in a village near the sea\",',\n",
       " '        \"They were concerned about the quality of service\",',\n",
       " '        \"He will show you how to use the phone\",',\n",
       " '        \"The union will negotiate a new contract soon\",',\n",
       " '        \"We need to compare prices before we buy\",',\n",
       " '        \"She had to miss her friend\\'s birthday party\",',\n",
       " '        \"They are considering a change in management style\",',\n",
       " '        \"He wants to learn how to sing well\",',\n",
       " '        \"We should talk about this over a drink\",',\n",
       " '        \"They will discuss the issue at the next meeting\",',\n",
       " '        \"She has been reading a book about animal education\",',\n",
       " '        \"We ought to keep our environment clean and green\",',\n",
       " '        \"He will turn the page when you say so\",',\n",
       " '        \"They were standing in front of the building\",',\n",
       " '        \"We should consider the cost before making a decision\",',\n",
       " '        \"She wants to grow flowers in her garden\",',\n",
       " '        \"They will produce a new product next year\",',\n",
       " '        \"He has been working hard on the project\",',\n",
       " '        \"We need to find a solution to this problem\",',\n",
       " '        \"She wants to travel around the world someday\",',\n",
       " '        \"They were discussing the current political situation yesterday\",',\n",
       " '        \"He will check the figures in the report\",',\n",
       " '        \"We should finish our work before we leave\",',\n",
       " '        \"She had to carry a heavy bag home\",',\n",
       " '        \"They are planning to visit the art museum\",',\n",
       " '        \"He wants to improve his public speaking skills\",',\n",
       " '        \"We need to set clear goals for ourselves\",',\n",
       " '        \"She will draw a picture of her family\",',\n",
       " '        \"They have been living in this city for years\",',\n",
       " '        \"He wants to learn more about local history\",',\n",
       " '        \"We should respect the opinions of others\",',\n",
       " '        \"She had to make a difficult decision yesterday\",',\n",
       " '        \"They will discuss the budget at the meeting\",',\n",
       " '        \"He wants to start his own business soon\",',\n",
       " '        \"We need to find a better way to communicate\",',\n",
       " '        \"She will write a story about her experiences\",',\n",
       " '        \"They have been working on this project for months\",',\n",
       " '        \"He wants to learn how to cook better\",',\n",
       " '        \"We should consider the environmental impact of our actions\",',\n",
       " '        \"She had to speak in front of a large audience\",',\n",
       " '        \"They will celebrate their anniversary next week\",',\n",
       " '        \"He wants to improve his time management skills\",',\n",
       " '        \"We need to find a solution quickly\",',\n",
       " '        \"She will study hard for her upcoming exams\",',\n",
       " '        \"They have been friends since childhood\",',\n",
       " '        \"He wants to learn a new language this year\",',\n",
       " '        \"We should always strive to be honest\",',\n",
       " '        \"She had to make a presentation to the board\",',\n",
       " '        \"They will discuss the new policy tomorrow\",',\n",
       " '        \"He wants to start a community garden project\",',\n",
       " '        \"We need to address these issues immediately\",',\n",
       " '        \"She will attend a conference next month\",',\n",
       " '        \"They have been working overtime lately\",',\n",
       " '        \"He wants to improve his leadership skills\",',\n",
       " '        \"We should consider all options before deciding\",',\n",
       " '        \"She had to deal with a difficult customer\",',\n",
       " '        \"They will launch the new product soon\",',\n",
       " '        \"He wants to learn more about local politics\",',\n",
       " '        \"We need to find ways to reduce costs\",',\n",
       " '        \"She will start her new job next week\",',\n",
       " '        \"They have been planning this trip for months\",',\n",
       " '        \"He wants to improve his physical fitness\",',\n",
       " '        \"We should always treat others with respect\",',\n",
       " '        \"She had to give a speech at the wedding\",',\n",
       " '        \"']"
      ]
     },
     "execution_count": 26,
     "metadata": {},
     "output_type": "execute_result"
    }
   ],
   "source": [
    "phrases.split(\"\\n\")"
   ]
  },
  {
   "cell_type": "code",
   "execution_count": null,
   "metadata": {},
   "outputs": [],
   "source": [
    "\n",
    "print(f\"Generated {len(phrases)} phrases:\")\n",
    "for phrase in phrases:\n",
    "    print(phrase)\n",
    "\n",
    "print(f\"\\nUsed {len(used_words)} unique words.\")\n",
    "\n",
    "# Update word usage\n",
    "data = update_word_usage(data, used_words)\n"
   ]
  },
  {
   "cell_type": "code",
   "execution_count": null,
   "metadata": {},
   "outputs": [],
   "source": [
    "\n",
    "# Optionally, save the updated data back to the file\n",
    "with open(file_path, 'w') as file:\n",
    "    json.dump(data, file, indent=2)"
   ]
  }
 ],
 "metadata": {
  "kernelspec": {
   "display_name": ".venv",
   "language": "python",
   "name": "python3"
  },
  "language_info": {
   "codemirror_mode": {
    "name": "ipython",
    "version": 3
   },
   "file_extension": ".py",
   "mimetype": "text/x-python",
   "name": "python",
   "nbconvert_exporter": "python",
   "pygments_lexer": "ipython3",
   "version": "3.11.4"
  }
 },
 "nbformat": 4,
 "nbformat_minor": 2
}
