{
 "cells": [
  {
   "cell_type": "code",
   "execution_count": 2,
   "metadata": {},
   "outputs": [],
   "source": [
    "%load_ext autoreload\n",
    "%autoreload 2"
   ]
  },
  {
   "cell_type": "code",
   "execution_count": 3,
   "metadata": {},
   "outputs": [],
   "source": [
    "# Add the parent directory of 'src' to the Python path\n",
    "import os\n",
    "import sys\n",
    "\n",
    "module_path = os.path.abspath(os.path.join('..'))\n",
    "if module_path not in sys.path:\n",
    "    sys.path.append(module_path)"
   ]
  },
  {
   "cell_type": "markdown",
   "metadata": {},
   "source": [
    "# Longman phrase and anki deck generation\n",
    "A more memorable way to learn the core vocabulary as defined in Longman Communications vocab lists, we take the vocab and use an LLM\n",
    "to generate phrases using it.\n",
    "\n",
    "## Longman 1000, 2000 and 3000 already provided\n",
    "Enlish phrases for the longman vocab have already been created and can be found in the 'data' folder"
   ]
  },
  {
   "cell_type": "code",
   "execution_count": 32,
   "metadata": {},
   "outputs": [],
   "source": [
    "from src.utils import get_longman_verb_vocab_dict\n",
    "from src.phrase import generate_phrases_from_vocab_dict\n",
    "\n",
    "file_path = '../data/longman-communication-3000.json'\n",
    "vocab_dict = get_longman_verb_vocab_dict(file_path, \"S3\") #S1 = 1st 1000 words used in Speech, options are S1-3 and W1-3"
   ]
  },
  {
   "cell_type": "code",
   "execution_count": null,
   "metadata": {},
   "outputs": [],
   "source": [
    "#uses LLM calls - it sometimes generates phrases terminated too early (e.g. Mind the pot on the), so advise you scan through and check\n",
    "\n",
    "#english phrases only initially\n",
    "longman_phrases = generate_phrases_from_vocab_dict(vocab_dict, max_iterations=15)"
   ]
  },
  {
   "cell_type": "code",
   "execution_count": null,
   "metadata": {},
   "outputs": [],
   "source": [
    "with open(\"../outputs/longman/longman_1000_phrases.txt\", \"w\", encoding=\"utf-8\") as f:\n",
    "    for phrase in longman_phrases:\n",
    "        f.write(phrase + \"\\n\")"
   ]
  },
  {
   "cell_type": "markdown",
   "metadata": {},
   "source": [
    "## Create an Anki deck from thoses phrases\n",
    "\n",
    "Or, load one of the english Longman phrase lists in data/ already created and apply to your language\n",
    "\n",
    "This function:\n",
    "1. translates\n",
    "2. generates audio using text to speech\n",
    "3. packages up the text and audio into several anki decks (in batches), that can be imported into Anki.\n",
    "\n",
    "The deck_name will is used to derive the deck_id and so despite there being several *.apkg files created, these will all merge successfully into the same deck\n"
   ]
  },
  {
   "cell_type": "code",
   "execution_count": null,
   "metadata": {},
   "outputs": [],
   "source": [
    "\n",
    "from src.anki_tools import create_anki_deck_from_english_phrase_list, export_to_anki_with_images\n",
    "from src.generate import ( \n",
    "    add_practice_phrases,\n",
    "    create_story_plan_and_dialogue,\n",
    "    add_translations,\n",
    "    add_audio,\n",
    "    create_album_files)\n",
    "\n",
    "from src.utils import add_image_paths, test_image_reading\n",
    "\n"
   ]
  },
  {
   "cell_type": "code",
   "execution_count": null,
   "metadata": {},
   "outputs": [],
   "source": [
    "\n",
    "_ = await create_anki_deck_from_english_phrase_list(example_phrases, deck_name=\"Longman 1000 - Basque\", anki_filename_prefix=\"longman_1000_basque\", batch_size=50)"
   ]
  },
  {
   "cell_type": "markdown",
   "metadata": {},
   "source": [
    "## Get anki flash card data\n"
   ]
  },
  {
   "cell_type": "code",
   "execution_count": 51,
   "metadata": {},
   "outputs": [],
   "source": [
    "from src.anki_tools import convert_anki_to_story_dict, print_deck_info\n",
    "# Example usage\n",
    "collection_path =r\"C:\\Users\\i5\\AppData\\Roaming\\Anki2\\User 1\\collection.anki2\"  # Your Anki database path\n",
    "deck_name = \"Longman 1000 - Swedish\"\n",
    "\n",
    "# Convert the Anki deck to story_dict format\n",
    "story_dict = convert_anki_to_story_dict(collection_path, deck_name)"
   ]
  },
  {
   "cell_type": "code",
   "execution_count": 73,
   "metadata": {},
   "outputs": [],
   "source": [
    "from src.utils import create_test_story_dict\n",
    "\n",
    "\n",
    "test_dict = create_test_story_dict(story_dict, 1, 2, 3)"
   ]
  },
  {
   "cell_type": "code",
   "execution_count": 75,
   "metadata": {},
   "outputs": [],
   "source": [
    "test_phrases = []\n",
    "for english, target in test_dict['part_1']['translated_phrase_list']:\n",
    "    test_phrases.append(english)"
   ]
  },
  {
   "cell_type": "code",
   "execution_count": 77,
   "metadata": {},
   "outputs": [
    {
     "data": {
      "text/plain": [
       "['The kids love to sing in the rain',\n",
       " 'We should thank dad for the useful advice']"
      ]
     },
     "execution_count": 77,
     "metadata": {},
     "output_type": "execute_result"
    }
   ],
   "source": [
    "test_phrases"
   ]
  },
  {
   "cell_type": "markdown",
   "metadata": {},
   "source": [
    "# Generate Images"
   ]
  },
  {
   "cell_type": "code",
   "execution_count": 83,
   "metadata": {},
   "outputs": [
    {
     "name": "stderr",
     "output_type": "stream",
     "text": [
      "[autoreload of src.utils failed: Traceback (most recent call last):\n",
      "  File \"y:\\Python Scripts\\audio-language-trainer\\.venv\\Lib\\site-packages\\IPython\\extensions\\autoreload.py\", line 276, in check\n",
      "    superreload(m, reload, self.old_objects)\n",
      "  File \"y:\\Python Scripts\\audio-language-trainer\\.venv\\Lib\\site-packages\\IPython\\extensions\\autoreload.py\", line 475, in superreload\n",
      "    module = reload(module)\n",
      "             ^^^^^^^^^^^^^^\n",
      "  File \"C:\\Users\\i5\\AppData\\Local\\Programs\\Python\\Python311\\Lib\\importlib\\__init__.py\", line 169, in reload\n",
      "    _bootstrap._exec(spec, module)\n",
      "  File \"<frozen importlib._bootstrap>\", line 621, in _exec\n",
      "  File \"<frozen importlib._bootstrap_external>\", line 940, in exec_module\n",
      "  File \"<frozen importlib._bootstrap>\", line 241, in _call_with_frames_removed\n",
      "  File \"y:\\Python Scripts\\audio-language-trainer\\src\\utils.py\", line 28, in <module>\n",
      "    from vertexai.preview.vision_models import (\n",
      "ImportError: cannot import name 'HarmCategory' from 'vertexai.preview.vision_models' (y:\\Python Scripts\\audio-language-trainer\\.venv\\Lib\\site-packages\\vertexai\\preview\\vision_models.py)\n",
      "]\n"
     ]
    }
   ],
   "source": [
    "from src.utils import create_image_generation_prompt, generate_image_imagen, add_images_to_phrases, clean_filename, save_json\n",
    "import time\n",
    "from src.config_loader import config\n",
    "\n"
   ]
  },
  {
   "cell_type": "code",
   "execution_count": null,
   "metadata": {},
   "outputs": [
    {
     "name": "stdout",
     "output_type": "stream",
     "text": [
      "Attempt 1 failed: \"No image generated using imagen-3.0-generate-001 with prompt: A group of joyful young people singing and dancing in a heavy rainstorm, splashing in puddles, with musical notes floating around them. in the style of a children's book illustration, Axel Scheffler style, thick brushstrokes, colored pencil texture, expressive characters, bold outlines, textured shading, earthy color palette\"\n",
      "Waiting 10.0s before retry...\n",
      "Attempt 2 failed: 429 Quota exceeded for aiplatform.googleapis.com/online_prediction_requests_per_base_model with base model: imagen-3.0-generate. Please submit a quota increase request. https://cloud.google.com/vertex-ai/docs/generative-ai/quotas-genai.\n",
      "Waiting 20.0s before retry...\n"
     ]
    },
    {
     "ename": "Exception",
     "evalue": "Image generation failed after 3 attempts. Last error: \"No image generated using imagen-3.0-generate-001 with prompt: A group of joyful young people singing and dancing in a heavy rainstorm, splashing in puddles, with musical notes floating around them. in the style of a children's book illustration, Axel Scheffler style, thick brushstrokes, colored pencil texture, expressive characters, bold outlines, textured shading, earthy color palette\"",
     "output_type": "error",
     "traceback": [
      "\u001b[1;31m---------------------------------------------------------------------------\u001b[0m",
      "\u001b[1;31mKeyError\u001b[0m                                  Traceback (most recent call last)",
      "File \u001b[1;32my:\\Python Scripts\\audio-language-trainer\\src\\utils.py:309\u001b[0m, in \u001b[0;36mgenerate_image_imagen\u001b[1;34m(prompt, model, max_attempts, initial_delay, delay_multiplier)\u001b[0m\n\u001b[0;32m    308\u001b[0m     \u001b[38;5;28;01melse\u001b[39;00m:\n\u001b[1;32m--> 309\u001b[0m         \u001b[38;5;28;01mraise\u001b[39;00m \u001b[38;5;167;01mKeyError\u001b[39;00m(\n\u001b[0;32m    310\u001b[0m             \u001b[38;5;124mf\u001b[39m\u001b[38;5;124m\"\u001b[39m\u001b[38;5;124mNo image generated using \u001b[39m\u001b[38;5;132;01m{\u001b[39;00mmodel\u001b[38;5;132;01m}\u001b[39;00m\u001b[38;5;124m with prompt: \u001b[39m\u001b[38;5;132;01m{\u001b[39;00mprompt\u001b[38;5;132;01m}\u001b[39;00m\u001b[38;5;124m\"\u001b[39m\n\u001b[0;32m    311\u001b[0m         )\n\u001b[0;32m    313\u001b[0m \u001b[38;5;28;01mexcept\u001b[39;00m \u001b[38;5;167;01mException\u001b[39;00m \u001b[38;5;28;01mas\u001b[39;00m e:\n",
      "\u001b[1;31mKeyError\u001b[0m: \"No image generated using imagen-3.0-generate-001 with prompt: A group of joyful young people singing and dancing in a heavy rainstorm, splashing in puddles, with musical notes floating around them. in the style of a children's book illustration, Axel Scheffler style, thick brushstrokes, colored pencil texture, expressive characters, bold outlines, textured shading, earthy color palette\"",
      "\nDuring handling of the above exception, another exception occurred:\n",
      "\u001b[1;31mException\u001b[0m                                 Traceback (most recent call last)",
      "Cell \u001b[1;32mIn[88], line 2\u001b[0m\n\u001b[0;32m      1\u001b[0m prompt \u001b[38;5;241m=\u001b[39m \u001b[38;5;124m\"\u001b[39m\u001b[38;5;124mA group of joyful young people singing and dancing in a heavy rainstorm, splashing in puddles, with musical notes floating around them. in the style of a children\u001b[39m\u001b[38;5;124m'\u001b[39m\u001b[38;5;124ms book illustration, Axel Scheffler style, thick brushstrokes, colored pencil texture, expressive characters, bold outlines, textured shading, earthy color palette\u001b[39m\u001b[38;5;124m\"\u001b[39m\n\u001b[1;32m----> 2\u001b[0m image \u001b[38;5;241m=\u001b[39m \u001b[43mgenerate_image_imagen\u001b[49m\u001b[43m(\u001b[49m\u001b[43mprompt\u001b[49m\u001b[43m)\u001b[49m\n",
      "File \u001b[1;32my:\\Python Scripts\\audio-language-trainer\\src\\utils.py:321\u001b[0m, in \u001b[0;36mgenerate_image_imagen\u001b[1;34m(prompt, model, max_attempts, initial_delay, delay_multiplier)\u001b[0m\n\u001b[0;32m    318\u001b[0m             current_delay \u001b[38;5;241m*\u001b[39m\u001b[38;5;241m=\u001b[39m delay_multiplier  \u001b[38;5;66;03m# Increase delay for next attempt\u001b[39;00m\n\u001b[0;32m    319\u001b[0m         \u001b[38;5;28;01melse\u001b[39;00m:\n\u001b[0;32m    320\u001b[0m             \u001b[38;5;66;03m# If this was the last attempt, raise the exception\u001b[39;00m\n\u001b[1;32m--> 321\u001b[0m             \u001b[38;5;28;01mraise\u001b[39;00m \u001b[38;5;167;01mException\u001b[39;00m(\n\u001b[0;32m    322\u001b[0m                 \u001b[38;5;124mf\u001b[39m\u001b[38;5;124m\"\u001b[39m\u001b[38;5;124mImage generation failed after \u001b[39m\u001b[38;5;132;01m{\u001b[39;00mmax_attempts\u001b[38;5;132;01m}\u001b[39;00m\u001b[38;5;124m attempts. \u001b[39m\u001b[38;5;124m\"\u001b[39m\n\u001b[0;32m    323\u001b[0m                 \u001b[38;5;124mf\u001b[39m\u001b[38;5;124m\"\u001b[39m\u001b[38;5;124mLast error: \u001b[39m\u001b[38;5;132;01m{\u001b[39;00m\u001b[38;5;28mstr\u001b[39m(e)\u001b[38;5;132;01m}\u001b[39;00m\u001b[38;5;124m\"\u001b[39m\n\u001b[0;32m    324\u001b[0m             )\n\u001b[0;32m    326\u001b[0m \u001b[38;5;66;03m# This should never be reached due to the exception in the last iteration\u001b[39;00m\n\u001b[0;32m    327\u001b[0m \u001b[38;5;28;01mraise\u001b[39;00m \u001b[38;5;167;01mException\u001b[39;00m(\u001b[38;5;124m\"\u001b[39m\u001b[38;5;124mUnexpected end of retry loop\u001b[39m\u001b[38;5;124m\"\u001b[39m)\n",
      "\u001b[1;31mException\u001b[0m: Image generation failed after 3 attempts. Last error: \"No image generated using imagen-3.0-generate-001 with prompt: A group of joyful young people singing and dancing in a heavy rainstorm, splashing in puddles, with musical notes floating around them. in the style of a children's book illustration, Axel Scheffler style, thick brushstrokes, colored pencil texture, expressive characters, bold outlines, textured shading, earthy color palette\""
     ]
    }
   ],
   "source": [
    "prompt = \"A group of joyful small people singing and dancing in a heavy rainstorm, splashing in puddles, with musical notes floating around them. in the style of a children's book illustration, Axel Scheffler style, thick brushstrokes, colored pencil texture, expressive characters, bold outlines, textured shading, earthy color palette\"\n",
    "image = generate_image_imagen(prompt)"
   ]
  },
  {
   "cell_type": "code",
   "execution_count": 78,
   "metadata": {},
   "outputs": [
    {
     "name": "stdout",
     "output_type": "stream",
     "text": [
      "Attempt 1 failed: \"No image generated using imagen-3.0-generate-001 with prompt: A group of joyful children singing and dancing in a heavy rainstorm, splashing in puddles, with musical notes floating around them. in the style of a children's book illustration, Axel Scheffler style, thick brushstrokes, colored pencil texture, expressive characters, bold outlines, textured shading, earthy color palette\"\n",
      "Waiting 10.0s before retry...\n",
      "Attempt 2 failed: \"No image generated using imagen-3.0-generate-001 with prompt: A group of joyful children singing and dancing in a heavy rainstorm, splashing in puddles, with musical notes floating around them. in the style of a children's book illustration, Axel Scheffler style, thick brushstrokes, colored pencil texture, expressive characters, bold outlines, textured shading, earthy color palette\"\n",
      "Waiting 20.0s before retry...\n",
      "Error processing phrase 'The kids love to sing in the rain': Image generation failed after 3 attempts. Last error: \"No image generated using imagen-3.0-generate-001 with prompt: A group of joyful children singing and dancing in a heavy rainstorm, splashing in puddles, with musical notes floating around them. in the style of a children's book illustration, Axel Scheffler style, thick brushstrokes, colored pencil texture, expressive characters, bold outlines, textured shading, earthy color palette\"\n",
      "Generation successful, waiting 10.0s before next request...\n",
      "Successfully processed: We should thank dad for the useful advice\n"
     ]
    }
   ],
   "source": [
    "result = add_images_to_phrases(test_phrases, output_dir=\"../data/longman_phrase_images\")"
   ]
  },
  {
   "cell_type": "code",
   "execution_count": 79,
   "metadata": {},
   "outputs": [],
   "source": [
    "save_json(result, \"../data/longman_phrase_images/phrase_image_dict.json\")"
   ]
  },
  {
   "cell_type": "code",
   "execution_count": null,
   "metadata": {},
   "outputs": [],
   "source": []
  }
 ],
 "metadata": {
  "kernelspec": {
   "display_name": ".venv",
   "language": "python",
   "name": "python3"
  },
  "language_info": {
   "codemirror_mode": {
    "name": "ipython",
    "version": 3
   },
   "file_extension": ".py",
   "mimetype": "text/x-python",
   "name": "python",
   "nbconvert_exporter": "python",
   "pygments_lexer": "ipython3",
   "version": "3.11.4"
  }
 },
 "nbformat": 4,
 "nbformat_minor": 2
}
