{
 "cells": [
  {
   "cell_type": "code",
   "execution_count": null,
   "metadata": {},
   "outputs": [],
   "source": [
    "%load_ext autoreload\n",
    "%autoreload 2"
   ]
  },
  {
   "cell_type": "code",
   "execution_count": null,
   "metadata": {},
   "outputs": [],
   "source": [
    "# Add the parent directory of 'src' to the Python path\n",
    "import os\n",
    "import sys\n",
    "\n",
    "module_path = os.path.abspath(os.path.join('..'))\n",
    "if module_path not in sys.path:\n",
    "    sys.path.append(module_path)"
   ]
  },
  {
   "cell_type": "markdown",
   "metadata": {},
   "source": [
    "# Longman phrase and anki deck generation\n",
    "A more memorable way to learn the core vocabulary as defined in Longman Communications vocab lists, we take the vocab and use an LLM\n",
    "to generate phrases using it.\n",
    "\n",
    "## Longman 1000, 2000 and 3000 already provided\n",
    "Enlish phrases for the longman vocab have already been created and can be found in the 'data' folder"
   ]
  },
  {
   "cell_type": "code",
   "execution_count": null,
   "metadata": {},
   "outputs": [],
   "source": [
    "from src.utils import get_longman_verb_vocab_dict\n",
    "from src.phrase import generate_phrases_from_vocab_dict\n",
    "\n",
    "file_path = '../data/longman-communication-3000.json'\n",
    "vocab_dict = get_longman_verb_vocab_dict(file_path, \"S3\") #S1 = 1st 1000 words used in Speech, options are S1-3 and W1-3"
   ]
  },
  {
   "cell_type": "code",
   "execution_count": null,
   "metadata": {},
   "outputs": [],
   "source": [
    "#uses LLM calls - it sometimes generates phrases terminated too early (e.g. Mind the pot on the), so advise you scan through and check\n",
    "\n",
    "#english phrases only initially\n",
    "longman_phrases = generate_phrases_from_vocab_dict(vocab_dict, max_iterations=15)"
   ]
  },
  {
   "cell_type": "code",
   "execution_count": null,
   "metadata": {},
   "outputs": [],
   "source": [
    "with open(\"../outputs/longman/longman_1000_phrases.txt\", \"w\", encoding=\"utf-8\") as f:\n",
    "    for phrase in longman_phrases:\n",
    "        f.write(phrase + \"\\n\")"
   ]
  },
  {
   "cell_type": "markdown",
   "metadata": {},
   "source": [
    "## Create an Anki deck from thoses phrases\n",
    "\n",
    "Or, load one of the english Longman phrase lists in data/ already created and apply to your language\n",
    "\n",
    "This function:\n",
    "1. translates\n",
    "2. generates audio using text to speech\n",
    "3. packages up the text and audio into several anki decks (in batches), that can be imported into Anki.\n",
    "\n",
    "The deck_name will is used to derive the deck_id and so despite there being several *.apkg files created, these will all merge successfully into the same deck\n"
   ]
  },
  {
   "cell_type": "code",
   "execution_count": null,
   "metadata": {},
   "outputs": [],
   "source": [
    "\n",
    "from src.anki_tools import create_anki_deck_from_english_phrase_list, export_to_anki_with_images\n",
    "from src.generate import ( \n",
    "    add_practice_phrases,\n",
    "    create_story_plan_and_dialogue,\n",
    "    add_translations,\n",
    "    add_audio,\n",
    "    create_album_files)\n",
    "\n",
    "from src.utils import add_image_paths, test_image_reading\n",
    "\n"
   ]
  },
  {
   "cell_type": "code",
   "execution_count": null,
   "metadata": {},
   "outputs": [],
   "source": [
    "\n",
    "_ = await create_anki_deck_from_english_phrase_list(example_phrases, deck_name=\"Longman 1000 - Basque\", anki_filename_prefix=\"longman_1000_basque\", batch_size=50)"
   ]
  },
  {
   "cell_type": "markdown",
   "metadata": {},
   "source": [
    "## Get anki flash card data\n"
   ]
  },
  {
   "cell_type": "code",
   "execution_count": null,
   "metadata": {},
   "outputs": [],
   "source": [
    "from src.anki_tools import convert_anki_to_story_dict, print_deck_info\n",
    "# Example usage\n",
    "collection_path =r\"C:\\Users\\i5\\AppData\\Roaming\\Anki2\\User 1\\collection.anki2\"  # Your Anki database path\n",
    "deck_name = \"Longman 1000 - Swedish\"\n",
    "\n",
    "# Convert the Anki deck to story_dict format\n",
    "story_dict = convert_anki_to_story_dict(collection_path, deck_name)"
   ]
  },
  {
   "cell_type": "code",
   "execution_count": null,
   "metadata": {},
   "outputs": [],
   "source": [
    "from src.utils import create_test_story_dict\n",
    "\n",
    "\n",
    "test_dict = create_test_story_dict(story_dict, 1, 2, 3)"
   ]
  },
  {
   "cell_type": "code",
   "execution_count": null,
   "metadata": {},
   "outputs": [],
   "source": [
    "test_phrases = []\n",
    "for english, target in test_dict['part_1']['translated_phrase_list']:\n",
    "    test_phrases.append(english)"
   ]
  },
  {
   "cell_type": "code",
   "execution_count": null,
   "metadata": {},
   "outputs": [],
   "source": [
    "test_phrases"
   ]
  },
  {
   "cell_type": "markdown",
   "metadata": {},
   "source": [
    "# Generate Images for Longman Phrases"
   ]
  },
  {
   "cell_type": "code",
   "execution_count": 20,
   "metadata": {},
   "outputs": [],
   "source": [
    "from src.utils import create_image_generation_prompt, generate_image_imagen, add_images_to_phrases, clean_filename, save_json, generate_image_stability, load_json, generate_image_deepai\n",
    "import time\n",
    "from src.config_loader import config\n",
    "\n"
   ]
  },
  {
   "cell_type": "code",
   "execution_count": 24,
   "metadata": {},
   "outputs": [],
   "source": [
    "\n",
    "with open(\"../data/longman_1000_phrases.txt\", \"r\") as f:\n",
    "    LONGMAN_PHRASES = [line.strip() for line in f.readlines()]\n",
    "PROMPT_DICT = load_json(\"../data/longman_phrase_images/phrase_image_dict.json\")"
   ]
  },
  {
   "cell_type": "code",
   "execution_count": null,
   "metadata": {},
   "outputs": [
    {
     "name": "stderr",
     "output_type": "stream",
     "text": [
      " 37%|███▋      | 37/100 [00:00<00:00, 276.69it/s]"
     ]
    },
    {
     "name": "stdout",
     "output_type": "stream",
     "text": [
      "Warning: Image already exists for 'The driver will face terrible traffic on holiday', skipping generation\n",
      "Warning: Image already exists for 'I need to read the important letter quickly', skipping generation\n",
      "Warning: Image already exists for 'They enjoyed the beautiful garden until late afternoon', skipping generation\n",
      "Warning: Image already exists for 'She might forget to bring her lunch today', skipping generation\n",
      "Warning: Image already exists for 'We must decide which movie to watch', skipping generation\n",
      "Warning: Image already exists for 'The kids love to sing in the rain', skipping generation\n",
      "Warning: Image already exists for 'He will build a proper table for us', skipping generation\n",
      "Warning: Image already exists for 'They chose to spend their holiday down south', skipping generation\n",
      "Warning: Image already exists for 'I plan to organize the office party soon', skipping generation\n",
      "Warning: Image already exists for 'She couldn't afford the expensive birthday gift unfortunately', skipping generation\n",
      "Warning: Image already exists for 'We should thank dad for the useful advice', skipping generation\n",
      "Warning: Image already exists for 'The teacher will mention your good work today', skipping generation\n",
      "Warning: Image already exists for 'They continued to cook despite the bad weather', skipping generation\n",
      "Warning: Image already exists for 'He might lose his job if he's late', skipping generation\n",
      "Warning: Image already exists for 'We need to reduce our expenses this month', skipping generation\n",
      "Warning: Image already exists for 'She will write a letter to the local newspaper', skipping generation\n",
      "Warning: Image already exists for 'They decided to join the football team yesterday', skipping generation\n",
      "Warning: Image already exists for 'He wants to grow vegetables in his garden', skipping generation\n",
      "Warning: Image already exists for 'We should compare prices before making a decision', skipping generation\n",
      "Warning: Image already exists for 'She will answer the phone call from work', skipping generation\n",
      "Warning: Image already exists for 'They plan to shut the shop early today', skipping generation\n",
      "Warning: Image already exists for 'He might draw a picture of the village', skipping generation\n",
      "Warning: Image already exists for 'We need to find a solution to this problem', skipping generation\n",
      "Warning: Image already exists for 'She will start her new job next week', skipping generation\n",
      "Warning: Image already exists for 'They chose to live in the countryside last year', skipping generation\n",
      "Warning: Image already exists for 'He wants to learn how to cook better', skipping generation\n",
      "Warning: Image already exists for 'We should listen to the weather forecast today', skipping generation\n",
      "Warning: Image already exists for 'She might show us her art collection soon', skipping generation\n",
      "Warning: Image already exists for 'They decided to move to a different city', skipping generation\n",
      "Warning: Image already exists for 'He will pick up the kids from school', skipping generation\n",
      "Warning: Image already exists for 'We need to save money for our holiday', skipping generation\n",
      "Warning: Image already exists for 'She wants to share her experience with us', skipping generation\n",
      "Warning: Image already exists for 'They chose to build a house near the sea', skipping generation\n",
      "Warning: Image already exists for 'He might offer to help with the work', skipping generation\n",
      "Warning: Image already exists for 'We should keep our options open for now', skipping generation\n",
      "Warning: Image already exists for 'She will ring the doorbell when she arrives', skipping generation\n",
      "Warning: Image already exists for 'They decided to turn off the lights early', skipping generation\n"
     ]
    },
    {
     "name": "stderr",
     "output_type": "stream",
     "text": [
      "100%|██████████| 100/100 [00:00<00:00, 294.56it/s]"
     ]
    },
    {
     "name": "stdout",
     "output_type": "stream",
     "text": [
      "Warning: Image already exists for 'He wants to learn how to speak French', skipping generation\n",
      "Warning: Image already exists for 'We need to sort out this mess quickly', skipping generation\n",
      "Warning: Image already exists for 'She might imagine a better future for herself', skipping generation\n",
      "Warning: Image already exists for 'They chose to eat at the local restaurant', skipping generation\n",
      "Warning: Image already exists for 'He will press the red button to start', skipping generation\n",
      "Warning: Image already exists for 'We should worry less about small things', skipping generation\n",
      "Warning: Image already exists for 'She wants to apply for a new job soon', skipping generation\n",
      "Warning: Image already exists for 'They decided to close the shop for renovations', skipping generation\n",
      "Warning: Image already exists for 'He might charge his phone before leaving', skipping generation\n",
      "Warning: Image already exists for 'We need to mind our own business sometimes', skipping generation\n",
      "Warning: Image already exists for 'She will allow the children to play outside', skipping generation\n",
      "Warning: Image already exists for 'They chose to produce their own vegetables', skipping generation\n",
      "Warning: Image already exists for 'He wants to refer a friend for the job', skipping generation\n",
      "Warning: Image already exists for 'We should sleep early to feel better tomorrow', skipping generation\n",
      "Warning: Image already exists for 'She might become a famous artist one day', skipping generation\n",
      "Warning: Image already exists for 'They decided to pull out of the competition', skipping generation\n",
      "Warning: Image already exists for 'He will show us around the new office', skipping generation\n",
      "Warning: Image already exists for 'We need to pass the exam to graduate', skipping generation\n",
      "Warning: Image already exists for 'She wants to continue her studies abroad', skipping generation\n",
      "Warning: Image already exists for 'They chose to like the Facebook page yesterday', skipping generation\n",
      "Warning: Image already exists for 'He might enjoy the concert this evening', skipping generation\n",
      "Warning: Image already exists for 'We should love our neighbors as ourselves', skipping generation\n",
      "Warning: Image already exists for 'She will cost the project before starting it', skipping generation\n",
      "Warning: Image already exists for 'They decided to keep the old furniture for now', skipping generation\n",
      "Warning: Image already exists for 'He wants to guess the answer to the question', skipping generation\n",
      "Warning: Image already exists for 'We need to phone the doctor for an appointment', skipping generation\n",
      "Warning: Image already exists for 'She might include everyone in the plan', skipping generation\n",
      "Warning: Image already exists for 'They chose to bring cake to the party', skipping generation\n",
      "Warning: Image already exists for 'He will stamp the letter before mailing it', skipping generation\n",
      "Warning: Image already exists for 'We should work hard to achieve our goals', skipping generation\n",
      "Warning: Image already exists for 'She wants to answer all the questions correctly', skipping generation\n",
      "Warning: Image already exists for 'They decided to put the meeting on hold', skipping generation\n",
      "Warning: Image already exists for 'He might mention your name in the report', skipping generation\n",
      "Warning: Image already exists for 'We need to tell the truth about the incident', skipping generation\n",
      "Warning: Image already exists for 'She will start the car and drive home', skipping generation\n",
      "Warning: Image already exists for 'They chose to pick flowers from the garden', skipping generation\n",
      "Warning: Image already exists for 'He wants to sit quietly and read a book', skipping generation\n",
      "Warning: Image already exists for 'We should share our food with the poor', skipping generation\n",
      "Warning: Image already exists for 'She might begin her speech with a joke', skipping generation\n",
      "Warning: Image already exists for 'They decided to sing at the local concert', skipping generation\n",
      "Warning: Image already exists for 'He will move to a new apartment next month', skipping generation\n",
      "Warning: Image already exists for 'We need to face our fears to grow stronger', skipping generation\n",
      "Warning: Image already exists for 'She wants to feel happy and content always', skipping generation\n",
      "Warning: Image already exists for 'They chose to speak softly in the library', skipping generation\n",
      "Warning: Image already exists for 'He might sleep late on the weekend', skipping generation\n",
      "Warning: Image already exists for 'We should press for better working conditions', skipping generation\n",
      "Warning: Image already exists for 'She will produce a report by next week', skipping generation\n",
      "Warning: Image already exists for 'They decided to allow pets in the building', skipping generation\n",
      "Warning: Image already exists for 'He wants to charge his electric car overnight', skipping generation\n",
      "Warning: Image already exists for 'We need to eat more vegetables for health', skipping generation\n",
      "Warning: Image already exists for 'She might plan a surprise party for mom', skipping generation\n",
      "Warning: Image already exists for 'They chose to let the children play outside', skipping generation\n",
      "Warning: Image already exists for 'He will draw a map to the new office', skipping generation\n",
      "Warning: Image already exists for 'We should walk more and drive less', skipping generation\n",
      "Warning: Image already exists for 'She wants to live in a big city someday', skipping generation\n",
      "Warning: Image already exists for 'They decided to cook dinner together every night', skipping generation\n",
      "Warning: Image already exists for 'He might sound excited about the new project', skipping generation\n",
      "Warning: Image already exists for 'We need to compare prices before buying anything', skipping generation\n",
      "Warning: Image already exists for 'She will listen to music while working out', skipping generation\n",
      "Warning: Image already exists for 'They chose to pull the car over safely', skipping generation\n",
      "Warning: Image already exists for 'He wants to show his artwork at the gallery', skipping generation\n",
      "Warning: Image already exists for 'We should pass on the good news quickly', skipping generation\n",
      "Warning: Image already exists for 'The manager will fill the cup with tea', skipping generation\n"
     ]
    },
    {
     "name": "stderr",
     "output_type": "stream",
     "text": [
      "\n"
     ]
    }
   ],
   "source": [
    "new_prompt_dict = add_images_to_phrases(LONGMAN_PHRASES[100:200], output_dir=\"../data/longman_phrase_images\")\n"
   ]
  },
  {
   "cell_type": "code",
   "execution_count": null,
   "metadata": {},
   "outputs": [],
   "source": [
    "\n",
    "PROMPT_DICT.update(new_prompt_dict)\n",
    "save_json(PROMPT_DICT, \"../data/longman_phrase_images/phrase_image_dict.json\")"
   ]
  },
  {
   "cell_type": "code",
   "execution_count": null,
   "metadata": {},
   "outputs": [],
   "source": [
    "from openai import OpenAI\n",
    "client = OpenAI()\n",
    "\n",
    "openai_image = client.images.generate(\n",
    "  model=\"dall-e-3\",\n",
    "  prompt=\"A stressed woman frantically typing on a laptop, surrounded by stacks of papers, with a large calendar nearby showing \\\"Next Week\\\" circled in red. In the style of a children's book illustration, Colored pencil sketch, shaded textures, pastel palette\",\n",
    "  n=1,\n",
    "  size=\"1024x1024\",\n",
    "  style=\"natural\",\n",
    "  response_format=\"b64_json\"\n",
    ")\n",
    "\n",
    "import base64\n",
    "import io\n",
    "from PIL import Image\n",
    "\n",
    "\n",
    "image_data = base64.b64decode(openai_image.data[0].b64_json)\n",
    "        \n",
    "        # Convert to PIL Image\n",
    "image = Image.open(io.BytesIO(image_data))\n",
    "image.show()"
   ]
  },
  {
   "cell_type": "code",
   "execution_count": null,
   "metadata": {},
   "outputs": [],
   "source": []
  }
 ],
 "metadata": {
  "kernelspec": {
   "display_name": ".venv",
   "language": "python",
   "name": "python3"
  },
  "language_info": {
   "codemirror_mode": {
    "name": "ipython",
    "version": 3
   },
   "file_extension": ".py",
   "mimetype": "text/x-python",
   "name": "python",
   "nbconvert_exporter": "python",
   "pygments_lexer": "ipython3",
   "version": "3.11.4"
  }
 },
 "nbformat": 4,
 "nbformat_minor": 2
}
