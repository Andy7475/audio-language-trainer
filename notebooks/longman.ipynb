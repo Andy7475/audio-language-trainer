{
 "cells": [
  {
   "cell_type": "code",
   "execution_count": 6,
   "metadata": {},
   "outputs": [
    {
     "name": "stdout",
     "output_type": "stream",
     "text": [
      "The autoreload extension is already loaded. To reload it, use:\n",
      "  %reload_ext autoreload\n"
     ]
    }
   ],
   "source": [
    "%load_ext autoreload\n",
    "%autoreload 2"
   ]
  },
  {
   "cell_type": "code",
   "execution_count": 7,
   "metadata": {},
   "outputs": [],
   "source": [
    "# Add the parent directory of 'src' to the Python path\n",
    "import os\n",
    "import sys\n",
    "\n",
    "module_path = os.path.abspath(os.path.join('..'))\n",
    "if module_path not in sys.path:\n",
    "    sys.path.append(module_path)"
   ]
  },
  {
   "cell_type": "markdown",
   "metadata": {},
   "source": [
    "# Longman phrase and anki deck generation\n",
    "A more memorable way to learn the core vocabulary as defined in Longman Communications vocab lists, we take the vocab and use an LLM\n",
    "to generate phrases using it.\n",
    "\n",
    "## Longman 1000, 2000 and 3000 already provided\n",
    "Enlish phrases for the longman vocab have already been created and can be found in the 'data' folder"
   ]
  },
  {
   "cell_type": "code",
   "execution_count": null,
   "metadata": {},
   "outputs": [],
   "source": [
    "from src.utils import get_longman_verb_vocab_dict\n",
    "from src.phrase import generate_phrases_from_vocab_dict\n",
    "\n",
    "file_path = '../data/longman-communication-3000.json'\n",
    "vocab_dict = get_longman_verb_vocab_dict(file_path, \"S3\") #S1 = 1st 1000 words used in Speech, options are S1-3 and W1-3"
   ]
  },
  {
   "cell_type": "code",
   "execution_count": null,
   "metadata": {},
   "outputs": [],
   "source": [
    "#uses LLM calls - it sometimes generates phrases terminated too early (e.g. Mind the pot on the), so advise you scan through and check\n",
    "\n",
    "#english phrases only initially\n",
    "longman_phrases = generate_phrases_from_vocab_dict(vocab_dict, max_iterations=15)"
   ]
  },
  {
   "cell_type": "code",
   "execution_count": null,
   "metadata": {},
   "outputs": [],
   "source": [
    "with open(\"../outputs/longman/longman_1000_phrases.txt\", \"w\", encoding=\"utf-8\") as f:\n",
    "    for phrase in longman_phrases:\n",
    "        f.write(phrase + \"\\n\")"
   ]
  },
  {
   "cell_type": "markdown",
   "metadata": {},
   "source": [
    "## Create an Anki deck from thoses phrases\n",
    "\n",
    "Or, load one of the english Longman phrase lists in data/ already created and apply to your language\n",
    "\n",
    "This function:\n",
    "1. translates\n",
    "2. generates audio using text to speech\n",
    "3. packages up the text and audio into several anki decks (in batches), that can be imported into Anki.\n",
    "\n",
    "The deck_name will is used to derive the deck_id and so despite there being several *.apkg files created, these will all merge successfully into the same deck\n"
   ]
  },
  {
   "cell_type": "code",
   "execution_count": 9,
   "metadata": {},
   "outputs": [
    {
     "name": "stdout",
     "output_type": "stream",
     "text": [
      "Language name: French determined from code fr\n",
      "Successfully loaded config from: y:\\Python Scripts\\audio-language-trainer\\src\\config.json\n",
      "Multiple country codes available for en: en-AU, en-GB, en-IN, en-US\n",
      "Multiple country codes available for fr: fr-CA, fr-FR\n",
      "{'language_code': 'en-GB', 'male_voice': 'en-GB-Studio-B', 'female_voice': 'en-GB-Studio-C'} {'language_code': 'fr-CA', 'male_voice': 'fr-CA-Neural2-B', 'female_voice': 'fr-CA-Neural2-A'}\n"
     ]
    }
   ],
   "source": [
    "\n",
    "from src.anki_tools import create_anki_deck_from_english_phrase_list, export_to_anki_with_images, export_to_anki_with_images_english\n",
    "from src.config_loader import config\n",
    "from src.audio_generation import generate_phrase_audio_files\n",
    "config._load_config()\n",
    "\n",
    "print(config.english_voice_models, config.target_language_voice_models)\n"
   ]
  },
  {
   "cell_type": "markdown",
   "metadata": {},
   "source": [
    "#### Load longman phrases"
   ]
  },
  {
   "cell_type": "code",
   "execution_count": 10,
   "metadata": {},
   "outputs": [],
   "source": [
    "with open(\"..\\data\\longman_phrases_convo_1000.txt\", \"r\", encoding=\"utf-8\") as f:\n",
    "    longman_phrases = [line.strip() for line in f]"
   ]
  },
  {
   "cell_type": "markdown",
   "metadata": {},
   "source": [
    "#### Add english audio for each longman phrase"
   ]
  },
  {
   "cell_type": "code",
   "execution_count": 16,
   "metadata": {},
   "outputs": [],
   "source": [
    "example_phrases = [\"Raise your hand if you have a question\", \"The professor will teach us about science tomorrow\"]"
   ]
  },
  {
   "cell_type": "code",
   "execution_count": 17,
   "metadata": {},
   "outputs": [
    {
     "name": "stderr",
     "output_type": "stream",
     "text": [
      " 50%|█████     | 1/2 [00:06<00:06,  6.20s/it]"
     ]
    },
    {
     "name": "stdout",
     "output_type": "stream",
     "text": [
      "Generated audio files for phrase: Raise your hand if you have a question\n"
     ]
    },
    {
     "name": "stderr",
     "output_type": "stream",
     "text": [
      "100%|██████████| 2/2 [00:12<00:00,  6.24s/it]"
     ]
    },
    {
     "name": "stdout",
     "output_type": "stream",
     "text": [
      "Generated audio files for phrase: The professor will teach us about science tomorrow\n"
     ]
    },
    {
     "name": "stderr",
     "output_type": "stream",
     "text": [
      "\n"
     ]
    }
   ],
   "source": [
    "generate_phrase_audio_files(example_phrases, output_dir=\"../data/longman_audio\")"
   ]
  },
  {
   "cell_type": "code",
   "execution_count": 20,
   "metadata": {},
   "outputs": [
    {
     "name": "stdout",
     "output_type": "stream",
     "text": [
      "English learning Anki deck exported to ../outputs/test\\eal_swedish_english_anki_deck.apkg\n",
      "Cleanup of temporary files completed.\n"
     ]
    }
   ],
   "source": [
    "AUDIO_DIR = \"../data/longman_audio\"\n",
    "IMAGE_DIR = \"../data/longman_phrase_images\"\n",
    "export_to_anki_with_images_english(example_phrases, output_dir = \"../outputs/test\", image_dir=IMAGE_DIR, audio_dir=AUDIO_DIR, story_name=\"eal_swedish\", deck_name=\"Swedish EAL\")"
   ]
  },
  {
   "cell_type": "markdown",
   "metadata": {},
   "source": [
    "#### create an anki flash deck in any language"
   ]
  },
  {
   "cell_type": "code",
   "execution_count": 16,
   "metadata": {},
   "outputs": [
    {
     "name": "stdout",
     "output_type": "stream",
     "text": [
      "Language name: Spanish determined from code es\n",
      "Successfully loaded config from: y:\\Python Scripts\\audio-language-trainer\\src\\config.json\n",
      "Multiple country codes available for en: en-AU, en-GB, en-IN, en-US\n",
      "Multiple country codes available for es: es-ES, es-US\n"
     ]
    }
   ],
   "source": [
    "config._load_config()"
   ]
  },
  {
   "cell_type": "code",
   "execution_count": 17,
   "metadata": {},
   "outputs": [
    {
     "name": "stderr",
     "output_type": "stream",
     "text": [
      "adding translations:   0%|          | 0/1 [00:00<?, ?it/s]"
     ]
    },
    {
     "name": "stdout",
     "output_type": "stream",
     "text": [
      "Beginning translation for anki\n"
     ]
    },
    {
     "name": "stderr",
     "output_type": "stream",
     "text": [
      "adding translations: 100%|██████████| 1/1 [00:01<00:00,  1.76s/it]\n"
     ]
    },
    {
     "name": "stdout",
     "output_type": "stream",
     "text": [
      "Translated phrases\n",
      "\n"
     ]
    },
    {
     "name": "stderr",
     "output_type": "stream",
     "text": [
      "Generating audio: 100%|██████████| 10/10 [01:31<00:00,  9.11s/it]\n",
      "adding audio: 100%|██████████| 1/1 [01:31<00:00, 91.07s/it]\n"
     ]
    },
    {
     "name": "stdout",
     "output_type": "stream",
     "text": [
      "Text-to-speech for phrases done\n",
      "\n"
     ]
    },
    {
     "name": "stderr",
     "output_type": "stream",
     "text": [
      "Processing story parts: 100%|██████████| 1/1 [00:00<00:00, 166.61it/s]\n",
      "generating image and sound files: 10it [01:00,  6.04s/it]\n",
      "adding notes to deck: 100%|██████████| 10/10 [00:00<00:00, 10012.66it/s]\n"
     ]
    },
    {
     "name": "stdout",
     "output_type": "stream",
     "text": [
      "Anki deck exported to ../outputs/longman\\longman_1000_spanish_0_anki_deck.apkg\n"
     ]
    },
    {
     "name": "stderr",
     "output_type": "stream",
     "text": [
      "deleting temp files: 100%|██████████| 30/30 [00:00<00:00, 3764.41it/s]"
     ]
    },
    {
     "name": "stdout",
     "output_type": "stream",
     "text": [
      "Cleanup of temporary files completed.\n"
     ]
    },
    {
     "name": "stderr",
     "output_type": "stream",
     "text": [
      "\n"
     ]
    }
   ],
   "source": [
    "#the longman 1000 images are already generated, so can be reused for different languages\n",
    "anki_dict = create_anki_deck_from_english_phrase_list(longman_phrases[:10],\n",
    "                                                     deck_name=f\"Longman 1000 Images - {config.language_name}\",\n",
    "                                                       anki_filename_prefix=f\"longman_1000_{config.language_name.lower()}\",\n",
    "                                                         batch_size=50,\n",
    "                                                         image_dir=\"../data/longman_phrase_images\")"
   ]
  },
  {
   "cell_type": "code",
   "execution_count": 6,
   "metadata": {},
   "outputs": [
    {
     "data": {
      "text/plain": [
       "<coroutine object create_anki_deck_from_english_phrase_list at 0x00000218DE51A200>"
      ]
     },
     "execution_count": 6,
     "metadata": {},
     "output_type": "execute_result"
    }
   ],
   "source": [
    "anki_dict"
   ]
  },
  {
   "cell_type": "markdown",
   "metadata": {},
   "source": [
    "## Get anki flash card data\n",
    "This is bespoke for my flashcard format"
   ]
  },
  {
   "cell_type": "code",
   "execution_count": null,
   "metadata": {},
   "outputs": [],
   "source": [
    "from src.anki_tools import convert_anki_to_story_dict, print_deck_info\n",
    "# Example usage\n",
    "collection_path =r\"C:\\Users\\i5\\AppData\\Roaming\\Anki2\\User 1\\collection.anki2\"  # Your Anki database path\n",
    "deck_name = \"Longman 1000 - Swedish\"\n",
    "\n",
    "# Convert the Anki deck to story_dict format\n",
    "story_dict = convert_anki_to_story_dict(collection_path, deck_name)"
   ]
  },
  {
   "cell_type": "markdown",
   "metadata": {},
   "source": [
    "# Generate Images for Longman Phrases"
   ]
  },
  {
   "cell_type": "code",
   "execution_count": null,
   "metadata": {},
   "outputs": [],
   "source": [
    "from src.utils import create_image_generation_prompt, generate_image_imagen, add_images_to_phrases, clean_filename, save_json, generate_image_stability, load_json, generate_image_deepai, add_image_paths\n",
    "from src.config_loader import config\n",
    "\n"
   ]
  },
  {
   "cell_type": "code",
   "execution_count": null,
   "metadata": {},
   "outputs": [],
   "source": [
    "\n",
    "with open(\"../data/longman_1000_phrases.txt\", \"r\") as f:\n",
    "    LONGMAN_PHRASES = [line.strip() for line in f.readlines()]\n",
    "PROMPT_DICT = load_json(\"../data/longman_phrase_images/phrase_image_dict.json\")"
   ]
  },
  {
   "cell_type": "code",
   "execution_count": null,
   "metadata": {},
   "outputs": [],
   "source": [
    "new_prompt_dict = add_images_to_phrases(LONGMAN_PHRASES, output_dir=\"../data/longman_phrase_images\")\n"
   ]
  },
  {
   "cell_type": "code",
   "execution_count": null,
   "metadata": {},
   "outputs": [],
   "source": [
    "\n",
    "PROMPT_DICT.update(new_prompt_dict)\n",
    "save_json(PROMPT_DICT, \"../data/longman_phrase_images/phrase_image_dict.json\")"
   ]
  },
  {
   "cell_type": "markdown",
   "metadata": {},
   "source": [
    "### Add image paths to story_data_dict"
   ]
  },
  {
   "cell_type": "code",
   "execution_count": null,
   "metadata": {},
   "outputs": [],
   "source": [
    "story_dict = add_image_paths(story_dict, image_dir=\"../data/longman_phrase_images\")"
   ]
  },
  {
   "cell_type": "markdown",
   "metadata": {},
   "source": [
    "Now image_paths are linked to each phrase we can createa an Anki flash deck with images"
   ]
  },
  {
   "cell_type": "code",
   "execution_count": null,
   "metadata": {},
   "outputs": [],
   "source": [
    "export_to_anki_with_images(story_dict, output_dir=\"../outputs/longman\", deck_name=\"Longman 1000 Images - Swedish\", story_name=\"longman_swedish_images\")"
   ]
  },
  {
   "cell_type": "code",
   "execution_count": null,
   "metadata": {},
   "outputs": [],
   "source": []
  }
 ],
 "metadata": {
  "kernelspec": {
   "display_name": ".venv",
   "language": "python",
   "name": "python3"
  },
  "language_info": {
   "codemirror_mode": {
    "name": "ipython",
    "version": 3
   },
   "file_extension": ".py",
   "mimetype": "text/x-python",
   "name": "python",
   "nbconvert_exporter": "python",
   "pygments_lexer": "ipython3",
   "version": "3.11.4"
  }
 },
 "nbformat": 4,
 "nbformat_minor": 2
}
