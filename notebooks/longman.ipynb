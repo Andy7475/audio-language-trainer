{
 "cells": [
  {
   "cell_type": "code",
   "execution_count": null,
   "metadata": {},
   "outputs": [],
   "source": [
    "%load_ext autoreload\n",
    "%autoreload 2"
   ]
  },
  {
   "cell_type": "code",
   "execution_count": null,
   "metadata": {},
   "outputs": [],
   "source": [
    "# Add the parent directory of 'src' to the Python path\n",
    "import os\n",
    "import sys\n",
    "\n",
    "module_path = os.path.abspath(os.path.join('..'))\n",
    "if module_path not in sys.path:\n",
    "    sys.path.append(module_path)"
   ]
  },
  {
   "cell_type": "markdown",
   "metadata": {},
   "source": [
    "# Longman phrase and anki deck generation\n",
    "A more memorable way to learn the core vocabulary as defined in Longman Communications vocab lists, we take the vocab and use an LLM\n",
    "to generate phrases using it.\n",
    "\n",
    "## Longman 1000, 2000 and 3000 already provided\n",
    "Enlish phrases for the longman vocab have already been created and can be found in the 'data' folder"
   ]
  },
  {
   "cell_type": "code",
   "execution_count": null,
   "metadata": {},
   "outputs": [],
   "source": [
    "from src.utils import get_longman_verb_vocab_dict\n",
    "from src.phrase import generate_phrases_from_vocab_dict\n",
    "\n",
    "file_path = '../data/longman-communication-3000.json'\n",
    "vocab_dict = get_longman_verb_vocab_dict(file_path, \"S3\") #S1 = 1st 1000 words used in Speech, options are S1-3 and W1-3"
   ]
  },
  {
   "cell_type": "code",
   "execution_count": null,
   "metadata": {},
   "outputs": [],
   "source": [
    "#uses LLM calls - it sometimes generates phrases terminated too early (e.g. Mind the pot on the), so advise you scan through and check\n",
    "\n",
    "#english phrases only initially\n",
    "longman_phrases = generate_phrases_from_vocab_dict(vocab_dict, max_iterations=15)"
   ]
  },
  {
   "cell_type": "code",
   "execution_count": null,
   "metadata": {},
   "outputs": [],
   "source": [
    "with open(\"../outputs/longman/longman_1000_phrases.txt\", \"w\", encoding=\"utf-8\") as f:\n",
    "    for phrase in longman_phrases:\n",
    "        f.write(phrase + \"\\n\")"
   ]
  },
  {
   "cell_type": "markdown",
   "metadata": {},
   "source": [
    "## Create an Anki deck from thoses phrases\n",
    "\n",
    "Or, load one of the english Longman phrase lists in data/ already created and apply to your language\n",
    "\n",
    "This function:\n",
    "1. translates\n",
    "2. generates audio using text to speech\n",
    "3. packages up the text and audio into several anki decks (in batches), that can be imported into Anki.\n",
    "\n",
    "The deck_name will is used to derive the deck_id and so despite there being several *.apkg files created, these will all merge successfully into the same deck\n"
   ]
  },
  {
   "cell_type": "code",
   "execution_count": null,
   "metadata": {},
   "outputs": [],
   "source": [
    "\n",
    "from src.anki_tools import create_anki_deck_from_english_phrase_list, export_to_anki_with_images\n",
    "from src.generate import ( \n",
    "    add_practice_phrases,\n",
    "    create_story_plan_and_dialogue,\n",
    "    add_translations,\n",
    "    add_audio,\n",
    "    create_album_files)\n",
    "\n",
    "from src.utils import add_image_paths, test_image_reading\n",
    "\n"
   ]
  },
  {
   "cell_type": "code",
   "execution_count": null,
   "metadata": {},
   "outputs": [],
   "source": [
    "\n",
    "_ = await create_anki_deck_from_english_phrase_list(example_phrases, deck_name=\"Longman 1000 - Basque\", anki_filename_prefix=\"longman_1000_basque\", batch_size=50)"
   ]
  },
  {
   "cell_type": "markdown",
   "metadata": {},
   "source": [
    "## Get anki flash card data\n"
   ]
  },
  {
   "cell_type": "code",
   "execution_count": null,
   "metadata": {},
   "outputs": [],
   "source": [
    "from src.anki_tools import convert_anki_to_story_dict, print_deck_info\n",
    "# Example usage\n",
    "collection_path =r\"C:\\Users\\i5\\AppData\\Roaming\\Anki2\\User 1\\collection.anki2\"  # Your Anki database path\n",
    "deck_name = \"Longman 1000 - Swedish\"\n",
    "\n",
    "# Convert the Anki deck to story_dict format\n",
    "story_dict = convert_anki_to_story_dict(collection_path, deck_name)"
   ]
  },
  {
   "cell_type": "code",
   "execution_count": null,
   "metadata": {},
   "outputs": [],
   "source": [
    "from src.utils import create_test_story_dict\n",
    "\n",
    "\n",
    "test_dict = create_test_story_dict(story_dict, 1, 2, 3)"
   ]
  },
  {
   "cell_type": "code",
   "execution_count": null,
   "metadata": {},
   "outputs": [],
   "source": [
    "test_phrases = []\n",
    "for english, target in test_dict['part_1']['translated_phrase_list']:\n",
    "    test_phrases.append(english)"
   ]
  },
  {
   "cell_type": "code",
   "execution_count": null,
   "metadata": {},
   "outputs": [],
   "source": [
    "test_phrases"
   ]
  },
  {
   "cell_type": "markdown",
   "metadata": {},
   "source": [
    "# Generate Images for Longman Phrases"
   ]
  },
  {
   "cell_type": "code",
   "execution_count": 20,
   "metadata": {},
   "outputs": [],
   "source": [
    "from src.utils import create_image_generation_prompt, generate_image_imagen, add_images_to_phrases, clean_filename, save_json, generate_image_stability, load_json, generate_image_deepai\n",
    "import time\n",
    "from src.config_loader import config\n",
    "\n"
   ]
  },
  {
   "cell_type": "code",
   "execution_count": 24,
   "metadata": {},
   "outputs": [],
   "source": [
    "\n",
    "with open(\"../data/longman_1000_phrases.txt\", \"r\") as f:\n",
    "    LONGMAN_PHRASES = [line.strip() for line in f.readlines()]\n",
    "PROMPT_DICT = load_json(\"../data/longman_phrase_images/phrase_image_dict.json\")"
   ]
  },
  {
   "cell_type": "code",
   "execution_count": null,
   "metadata": {},
   "outputs": [
    {
     "name": "stderr",
     "output_type": "stream",
     "text": [
      "  0%|          | 0/853 [00:00<?, ?it/s]"
     ]
    },
    {
     "name": "stdout",
     "output_type": "stream",
     "text": [
      "Warning: Image already exists for 'The driver will face terrible traffic on holiday', skipping generation\n",
      "Warning: Image already exists for 'I need to read the important letter quickly', skipping generation\n",
      "Warning: Image already exists for 'They enjoyed the beautiful garden until late afternoon', skipping generation\n",
      "Warning: Image already exists for 'She might forget to bring her lunch today', skipping generation\n",
      "Warning: Image already exists for 'We must decide which movie to watch', skipping generation\n",
      "Warning: Image already exists for 'The kids love to sing in the rain', skipping generation\n",
      "Warning: Image already exists for 'He will build a proper table for us', skipping generation\n",
      "Warning: Image already exists for 'They chose to spend their holiday down south', skipping generation\n",
      "Warning: Image already exists for 'I plan to organize the office party soon', skipping generation\n",
      "Warning: Image already exists for 'She couldn't afford the expensive birthday gift unfortunately', skipping generation\n",
      "Warning: Image already exists for 'We should thank dad for the useful advice', skipping generation\n",
      "Warning: Image already exists for 'The teacher will mention your good work today', skipping generation\n",
      "Warning: Image already exists for 'They continued to cook despite the bad weather', skipping generation\n",
      "Warning: Image already exists for 'He might lose his job if he's late', skipping generation\n",
      "Warning: Image already exists for 'We need to reduce our expenses this month', skipping generation\n",
      "Warning: Image already exists for 'She will write a letter to the local newspaper', skipping generation\n",
      "Warning: Image already exists for 'They decided to join the football team yesterday', skipping generation\n",
      "Warning: Image already exists for 'He wants to grow vegetables in his garden', skipping generation\n",
      "Warning: Image already exists for 'We should compare prices before making a decision', skipping generation\n",
      "Warning: Image already exists for 'She will answer the phone call from work', skipping generation\n",
      "Warning: Image already exists for 'They plan to shut the shop early today', skipping generation\n",
      "Warning: Image already exists for 'He might draw a picture of the village', skipping generation\n",
      "Warning: Image already exists for 'We need to find a solution to this problem', skipping generation\n",
      "Warning: Image already exists for 'She will start her new job next week', skipping generation\n",
      "Warning: Image already exists for 'They chose to live in the countryside last year', skipping generation\n",
      "Warning: Image already exists for 'He wants to learn how to cook better', skipping generation\n",
      "Warning: Image already exists for 'We should listen to the weather forecast today', skipping generation\n",
      "Warning: Image already exists for 'She might show us her art collection soon', skipping generation\n",
      "Warning: Image already exists for 'They decided to move to a different city', skipping generation\n",
      "Warning: Image already exists for 'He will pick up the kids from school', skipping generation\n",
      "Warning: Image already exists for 'We need to save money for our holiday', skipping generation\n",
      "Warning: Image already exists for 'She wants to share her experience with us', skipping generation\n",
      "Warning: Image already exists for 'They chose to build a house near the sea', skipping generation\n",
      "Warning: Image already exists for 'He might offer to help with the work', skipping generation\n",
      "Warning: Image already exists for 'We should keep our options open for now', skipping generation\n",
      "Warning: Image already exists for 'She will ring the doorbell when she arrives', skipping generation\n",
      "Warning: Image already exists for 'They decided to turn off the lights early', skipping generation\n",
      "Warning: Image already exists for 'He wants to learn how to speak French', skipping generation\n",
      "Warning: Image already exists for 'We need to sort out this mess quickly', skipping generation\n",
      "Warning: Image already exists for 'She might imagine a better future for herself', skipping generation\n",
      "Warning: Image already exists for 'They chose to eat at the local restaurant', skipping generation\n",
      "Warning: Image already exists for 'He will press the red button to start', skipping generation\n",
      "Warning: Image already exists for 'We should worry less about small things', skipping generation\n",
      "Warning: Image already exists for 'She wants to apply for a new job soon', skipping generation\n",
      "Warning: Image already exists for 'They decided to close the shop for renovations', skipping generation\n",
      "Warning: Image already exists for 'He might charge his phone before leaving', skipping generation\n",
      "Warning: Image already exists for 'We need to mind our own business sometimes', skipping generation\n",
      "Warning: Image already exists for 'She will allow the children to play outside', skipping generation\n",
      "Warning: Image already exists for 'They chose to produce their own vegetables', skipping generation\n",
      "Warning: Image already exists for 'He wants to refer a friend for the job', skipping generation\n",
      "Warning: Image already exists for 'We should sleep early to feel better tomorrow', skipping generation\n",
      "Warning: Image already exists for 'She might become a famous artist one day', skipping generation\n",
      "Warning: Image already exists for 'They decided to pull out of the competition', skipping generation\n",
      "Warning: Image already exists for 'He will show us around the new office', skipping generation\n",
      "Warning: Image already exists for 'We need to pass the exam to graduate', skipping generation\n",
      "Warning: Image already exists for 'She wants to continue her studies abroad', skipping generation\n",
      "Warning: Image already exists for 'They chose to like the Facebook page yesterday', skipping generation\n",
      "Warning: Image already exists for 'He might enjoy the concert this evening', skipping generation\n",
      "Warning: Image already exists for 'We should love our neighbors as ourselves', skipping generation\n",
      "Warning: Image already exists for 'She will cost the project before starting it', skipping generation\n",
      "Warning: Image already exists for 'They decided to keep the old furniture for now', skipping generation\n",
      "Warning: Image already exists for 'He wants to guess the answer to the question', skipping generation\n",
      "Warning: Image already exists for 'We need to phone the doctor for an appointment', skipping generation\n",
      "Warning: Image already exists for 'She might include everyone in the plan', skipping generation\n",
      "Warning: Image already exists for 'They chose to bring cake to the party', skipping generation\n",
      "Warning: Image already exists for 'He will stamp the letter before mailing it', skipping generation\n",
      "Warning: Image already exists for 'We should work hard to achieve our goals', skipping generation\n",
      "Warning: Image already exists for 'She wants to answer all the questions correctly', skipping generation\n",
      "Warning: Image already exists for 'They decided to put the meeting on hold', skipping generation\n",
      "Warning: Image already exists for 'He might mention your name in the report', skipping generation\n",
      "Warning: Image already exists for 'We need to tell the truth about the incident', skipping generation\n",
      "Warning: Image already exists for 'She will start the car and drive home', skipping generation\n",
      "Warning: Image already exists for 'They chose to pick flowers from the garden', skipping generation\n",
      "Warning: Image already exists for 'He wants to sit quietly and read a book', skipping generation\n",
      "Warning: Image already exists for 'We should share our food with the poor', skipping generation\n",
      "Warning: Image already exists for 'She might begin her speech with a joke', skipping generation\n",
      "Warning: Image already exists for 'They decided to sing at the local concert', skipping generation\n",
      "Warning: Image already exists for 'He will move to a new apartment next month', skipping generation\n",
      "Warning: Image already exists for 'We need to face our fears to grow stronger', skipping generation\n",
      "Warning: Image already exists for 'She wants to feel happy and content always', skipping generation\n",
      "Warning: Image already exists for 'They chose to speak softly in the library', skipping generation\n",
      "Warning: Image already exists for 'He might sleep late on the weekend', skipping generation\n",
      "Warning: Image already exists for 'We should press for better working conditions', skipping generation\n",
      "Warning: Image already exists for 'She will produce a report by next week', skipping generation\n",
      "Warning: Image already exists for 'They decided to allow pets in the building', skipping generation\n",
      "Warning: Image already exists for 'He wants to charge his electric car overnight', skipping generation\n",
      "Warning: Image already exists for 'We need to eat more vegetables for health', skipping generation\n",
      "Warning: Image already exists for 'She might plan a surprise party for mom', skipping generation\n",
      "Warning: Image already exists for 'They chose to let the children play outside', skipping generation\n",
      "Warning: Image already exists for 'He will draw a map to the new office', skipping generation\n",
      "Warning: Image already exists for 'We should walk more and drive less', skipping generation\n",
      "Warning: Image already exists for 'She wants to live in a big city someday', skipping generation\n",
      "Warning: Image already exists for 'They decided to cook dinner together every night', skipping generation\n",
      "Warning: Image already exists for 'He might sound excited about the new project', skipping generation\n",
      "Warning: Image already exists for 'We need to compare prices before buying anything', skipping generation\n",
      "Warning: Image already exists for 'She will listen to music while working out', skipping generation\n",
      "Warning: Image already exists for 'They chose to pull the car over safely', skipping generation\n",
      "Warning: Image already exists for 'He wants to show his artwork at the gallery', skipping generation\n",
      "Warning: Image already exists for 'We should pass on the good news quickly', skipping generation\n",
      "Warning: Image already exists for 'The manager will fill the cup with tea', skipping generation\n",
      "Warning: Image already exists for 'They won the game against all odds', skipping generation\n",
      "Warning: Image already exists for 'He suffered a heavy loss at the bank', skipping generation\n",
      "Warning: Image already exists for 'Can you manage the office until tonight?', skipping generation\n",
      "Warning: Image already exists for 'Push the door open with your free hand', skipping generation\n",
      "Warning: Image already exists for 'I suppose the meeting will end soon', skipping generation\n",
      "Warning: Image already exists for 'She collects old bottles as a hobby', skipping generation\n",
      "Warning: Image already exists for 'The dog caught the ball in midair', skipping generation\n",
      "Warning: Image already exists for 'Please explain the difference between these rules', skipping generation\n",
      "Warning: Image already exists for 'We train every day to win the cup', skipping generation\n",
      "Warning: Image already exists for 'Do you support the new regional development programme?', skipping generation\n",
      "Warning: Image already exists for 'The feeling of success will remain with you', skipping generation\n",
      "Warning: Image already exists for 'Wash your hands before you drink tea', skipping generation\n",
      "Warning: Image already exists for 'Check the file for any recent changes', skipping generation\n",
      "Warning: Image already exists for 'They lay the foundation for a new hospital', skipping generation\n",
      "Warning: Image already exists for 'Change your shirt before the important meeting', skipping generation\n",
      "Warning: Image already exists for 'Let's talk about the opportunity over coffee', skipping generation\n",
      "Warning: Image already exists for 'I suggest we take a quick break', skipping generation\n",
      "Warning: Image already exists for 'Someone knocked on the door late at night', skipping generation\n",
      "Warning: Image already exists for 'Did you see the new film last week?', skipping generation\n",
      "Warning: Image already exists for 'Clean the floor before the guests arrive', skipping generation\n",
      "Warning: Image already exists for 'The two boys fight over a toy car', skipping generation\n",
      "Warning: Image already exists for 'I bet you can't eat the whole cake', skipping generation\n",
      "Warning: Image already exists for 'The situation seems difficult to understand', skipping generation\n",
      "Warning: Image already exists for 'The plant will die without enough water', skipping generation\n",
      "Warning: Image already exists for 'Cover your mouth when you cough, please', skipping generation\n",
      "Warning: Image already exists for 'Look at the beautiful view from here', skipping generation\n",
      "Warning: Image already exists for 'Consider the long-term effects of your decision', skipping generation\n",
      "Warning: Image already exists for 'What did you say to him yesterday?', skipping generation\n",
      "Warning: Image already exists for 'High pressure at work can cause stress', skipping generation\n",
      "Warning: Image already exists for 'Do you know the way to the hospital?', skipping generation\n",
      "Warning: Image already exists for 'When will the package come in the mail?', skipping generation\n",
      "Warning: Image already exists for 'I care about the quality of education', skipping generation\n",
      "Warning: Image already exists for 'Call me if you need any help', skipping generation\n",
      "Warning: Image already exists for 'What do you mean by that statement?', skipping generation\n",
      "Warning: Image already exists for 'What will you do with your free time?', skipping generation\n",
      "Warning: Image already exists for 'The movie will end in a few minutes', skipping generation\n",
      "Warning: Image already exists for 'Raise your hand if you have a question', skipping generation\n",
      "Warning: Image already exists for 'Stand up straight when you give your speech', skipping generation\n",
      "Warning: Image already exists for 'They plan to marry in the spring', skipping generation\n",
      "Warning: Image already exists for 'Ask your parents for their opinion first', skipping generation\n",
      "Warning: Image already exists for 'Don't bother him while he's working', skipping generation\n",
      "Warning: Image already exists for 'We expect the rain to stop soon', skipping generation\n",
      "Warning: Image already exists for 'The glass will break if you drop it', skipping generation\n",
      "Warning: Image already exists for 'Remember to bring your passport for the trip', skipping generation\n",
      "Warning: Image already exists for 'I hope the weather will be nice tomorrow', skipping generation\n",
      "Warning: Image already exists for 'Do you agree with the new company policy?', skipping generation\n",
      "Warning: Image already exists for 'Let's drink to our success tonight', skipping generation\n",
      "Warning: Image already exists for 'What will happen if we're late?', skipping generation\n",
      "Warning: Image already exists for 'Send the application as soon as possible', skipping generation\n",
      "Warning: Image already exists for 'The car will stop at the next station', skipping generation\n",
      "Warning: Image already exists for 'I wonder what's for dinner tonight', skipping generation\n",
      "Warning: Image already exists for 'Can you carry this heavy bag for me?', skipping generation\n",
      "Warning: Image already exists for 'Excuse me, where is the nearest bank?', skipping generation\n",
      "Warning: Image already exists for 'Don't forget to feed the dog tonight', skipping generation\n",
      "Warning: Image already exists for 'Will you accept my apology for being late?', skipping generation\n",
      "Warning: Image already exists for 'The hotel will provide breakfast in the morning', skipping generation\n",
      "Warning: Image already exists for 'It all depends on tomorrow's test results', skipping generation\n",
      "Warning: Image already exists for 'Hang the wet clothes out to dry', skipping generation\n",
      "Warning: Image already exists for 'Cut the cake into equal pieces, please', skipping generation\n",
      "Warning: Image already exists for 'Wait for me at the bottom of the stairs', skipping generation\n",
      "Warning: Image already exists for 'Use this bottle to carry your water', skipping generation\n",
      "Warning: Image already exists for 'Follow the road until you reach the bridge', skipping generation\n",
      "Warning: Image already exists for 'They claim the product is entirely safe', skipping generation\n",
      "Warning: Image already exists for 'Does it matter what color we choose?', skipping generation\n",
      "Warning: Image already exists for 'Who will teach the class next week?', skipping generation\n",
      "Warning: Image already exists for 'The ball hit the wall and bounced back', skipping generation\n",
      "Warning: Image already exists for 'Roll the dice to see who goes first', skipping generation\n",
      "Warning: Image already exists for 'I just realized I forgot my keys', skipping generation\n",
      "Warning: Image already exists for 'Do you understand the main idea here?', skipping generation\n",
      "Warning: Image already exists for 'Think carefully before making your final decision', skipping generation\n",
      "Warning: Image already exists for 'Can you figure out this math problem?', skipping generation\n",
      "Warning: Image already exists for 'I recognize that man from somewhere', skipping generation\n",
      "Warning: Image already exists for 'Take your time answering the question', skipping generation\n",
      "Warning: Image already exists for 'Let's get rid of these old newspapers', skipping generation\n",
      "Warning: Image already exists for 'The meeting will start in five minutes', skipping generation\n",
      "Warning: Image already exists for 'Fill in this form with your personal details', skipping generation\n",
      "Warning: Image already exists for 'She won an award for her scientific research', skipping generation\n",
      "Warning: Image already exists for 'The company suffered significant financial losses recently', skipping generation\n",
      "Warning: Image already exists for 'How do you manage your time so efficiently?', skipping generation\n",
      "Warning: Image already exists for 'Push the red button to start the machine', skipping generation\n",
      "Warning: Image already exists for 'I suppose we should leave early tomorrow', skipping generation\n",
      "Warning: Image already exists for 'He collects rare coins as a hobby', skipping generation\n",
      "Warning: Image already exists for 'The police caught the thief last night', skipping generation\n",
      "Warning: Image already exists for 'Can you explain this chart to me?', skipping generation\n",
      "Warning: Image already exists for 'They train hard for the upcoming competition', skipping generation\n",
      "Warning: Image already exists for 'We should support local businesses more often', skipping generation\n",
      "Warning: Image already exists for 'The old building will remain closed for renovation', skipping generation\n",
      "Warning: Image already exists for 'Wash your hands before handling food', skipping generation\n",
      "Warning: Image already exists for 'Always check your emails in the morning', skipping generation\n",
      "Warning: Image already exists for 'Lay the table for dinner, please', skipping generation\n",
      "Warning: Image already exists for 'The weather might change later today', skipping generation\n",
      "Warning: Image already exists for 'Let's talk about our holiday plans', skipping generation\n",
      "Warning: Image already exists for 'I suggest we try the new restaurant', skipping generation\n",
      "Warning: Image already exists for 'Someone knocked at the door past midnight', skipping generation\n",
      "Warning: Image already exists for 'Did you see that shooting star?', skipping generation\n",
      "Warning: Image already exists for 'Clean your room before going out', skipping generation\n",
      "Warning: Image already exists for 'The two teams will fight for first place', skipping generation\n",
      "Warning: Image already exists for 'I bet it will rain this weekend', skipping generation\n",
      "Warning: Image already exists for 'The solution seems quite simple actually', skipping generation\n",
      "Warning: Image already exists for 'The blue chair fell across the large room', skipping generation\n",
      "Successfully processed: I believe your brother will run towards hell. Now sleeping.\n"
     ]
    },
    {
     "name": "stderr",
     "output_type": "stream",
     "text": [
      "Sleeping: 100%|\u001b[34m████████████████████████████\u001b[0m| 45/45 [00:45<00:00,  1.01s/it]\u001b[0m\n",
      " 24%|██▎       | 201/853 [01:01<03:18,  3.28it/s]"
     ]
    },
    {
     "name": "stdout",
     "output_type": "stream",
     "text": [
      "No image generated using imagen-3.0-generate-001 with prompt: A woman in a kitchen presenting a beautifully decorated egg on a plate to her smiling mother, with a warm, loving atmosphere and sunlight streaming through a window. in the style of a children's book illustration, Axel Scheffler style, thick brushstrokes, colored pencil texture, expressive characters, bold outlines, textured shading, pastel color palette\n",
      "Successfully processed: She prepared a lovely egg for her mum. Now sleeping.\n"
     ]
    },
    {
     "name": "stderr",
     "output_type": "stream",
     "text": [
      "Sleeping: 100%|\u001b[34m████████████████████████████\u001b[0m| 45/45 [00:45<00:00,  1.01s/it]\u001b[0m\n",
      " 24%|██▎       | 202/853 [02:04<08:05,  1.34it/s]"
     ]
    },
    {
     "name": "stdout",
     "output_type": "stream",
     "text": [
      "Successfully processed: They served excellent coffee at the national park. Now sleeping.\n"
     ]
    },
    {
     "name": "stderr",
     "output_type": "stream",
     "text": [
      "Sleeping: 100%|\u001b[34m████████████████████████████\u001b[0m| 45/45 [00:45<00:00,  1.01s/it]\u001b[0m\n",
      " 24%|██▍       | 203/853 [03:04<14:32,  1.34s/it]"
     ]
    },
    {
     "name": "stdout",
     "output_type": "stream",
     "text": [
      "Successfully processed: He wished to sell his hat for dollars. Now sleeping.\n"
     ]
    },
    {
     "name": "stderr",
     "output_type": "stream",
     "text": [
      "Sleeping: 100%|\u001b[34m████████████████████████████\u001b[0m| 45/45 [00:45<00:00,  1.01s/it]\u001b[0m\n",
      " 24%|██▍       | 204/853 [04:04<23:29,  2.17s/it]"
     ]
    },
    {
     "name": "stdout",
     "output_type": "stream",
     "text": [
      "Imagen generation failed with error 400 Image generation failed with the following error: The prompt could not be submitted. This prompt contains sensitive words that violate Google's Responsible AI practices. Try rephrasing the prompt. If you think this was an error, send feedback. Support codes: 42876398\n",
      "Successfully processed: The lady noticed the stupid comment on Twitter. Now sleeping.\n"
     ]
    },
    {
     "name": "stderr",
     "output_type": "stream",
     "text": [
      "Sleeping: 100%|\u001b[34m████████████████████████████\u001b[0m| 45/45 [00:45<00:00,  1.01s/it]\u001b[0m\n",
      " 24%|██▍       | 205/853 [05:00<34:43,  3.21s/it]"
     ]
    },
    {
     "name": "stdout",
     "output_type": "stream",
     "text": [
      "Successfully processed: We held the meeting in the central office. Now sleeping.\n"
     ]
    },
    {
     "name": "stderr",
     "output_type": "stream",
     "text": [
      "Sleeping: 100%|\u001b[34m████████████████████████████\u001b[0m| 45/45 [00:45<00:00,  1.01s/it]\u001b[0m\n",
      " 24%|██▍       | 206/853 [06:00<51:34,  4.78s/it]"
     ]
    },
    {
     "name": "stdout",
     "output_type": "stream",
     "text": [
      "No image generated using imagen-3.0-generate-001 with prompt: A stressed student at a cluttered desk surrounded by books and papers, glancing anxiously at a ticking clock while working on homework under a dim lamp late at night. in the style of a children's book illustration, Axel Scheffler style, thick brushstrokes, colored pencil texture, expressive characters, bold outlines, textured shading, pastel color palette\n",
      "Successfully processed: The student required extra time to finish homework. Now sleeping.\n"
     ]
    },
    {
     "name": "stderr",
     "output_type": "stream",
     "text": [
      "Sleeping: 100%|\u001b[34m████████████████████████████\u001b[0m| 45/45 [00:45<00:00,  1.01s/it]\u001b[0m\n",
      " 24%|██▍       | 207/853 [07:07<1:16:37,  7.12s/it]"
     ]
    },
    {
     "name": "stdout",
     "output_type": "stream",
     "text": [
      "Successfully processed: They opened a new bar in the centre. Now sleeping.\n"
     ]
    },
    {
     "name": "stderr",
     "output_type": "stream",
     "text": [
      "Sleeping: 100%|\u001b[34m████████████████████████████\u001b[0m| 45/45 [00:45<00:00,  1.01s/it]\u001b[0m\n",
      " 24%|██▍       | 208/853 [08:07<1:45:35,  9.82s/it]"
     ]
    },
    {
     "name": "stdout",
     "output_type": "stream",
     "text": [
      "Successfully processed: He killed time reading books about nature. Now sleeping.\n"
     ]
    },
    {
     "name": "stderr",
     "output_type": "stream",
     "text": [
      "Sleeping: 100%|\u001b[34m████████████████████████████\u001b[0m| 45/45 [00:45<00:00,  1.01s/it]\u001b[0m\n",
      " 25%|██▍       | 209/853 [09:08<2:22:31, 13.28s/it]"
     ]
    },
    {
     "name": "stdout",
     "output_type": "stream",
     "text": [
      "No image generated using imagen-3.0-generate-001 with prompt: A determined young girl standing on a ladder, reaching towards a shining star labeled \"Success\" in the night sky, with a focused expression on her face. in the style of a children's book illustration, Axel Scheffler style, thick brushstrokes, colored pencil texture, expressive characters, bold outlines, textured shading, pastel color palette\n",
      "Successfully processed: The young girl set her sights on success. Now sleeping.\n"
     ]
    },
    {
     "name": "stderr",
     "output_type": "stream",
     "text": [
      "Sleeping: 100%|\u001b[34m████████████████████████████\u001b[0m| 45/45 [00:45<00:00,  1.01s/it]\u001b[0m\n",
      " 25%|██▍       | 210/853 [10:11<3:09:29, 17.68s/it]"
     ]
    },
    {
     "name": "stdout",
     "output_type": "stream",
     "text": [
      "Successfully processed: I hate to miss the bus in summer. Now sleeping.\n"
     ]
    },
    {
     "name": "stderr",
     "output_type": "stream",
     "text": [
      "Sleeping: 100%|\u001b[34m████████████████████████████\u001b[0m| 45/45 [00:45<00:00,  1.01s/it]\u001b[0m\n",
      " 25%|██▍       | 211/853 [11:11<3:59:47, 22.41s/it]"
     ]
    },
    {
     "name": "stdout",
     "output_type": "stream",
     "text": [
      "Successfully processed: They received a fair deal on the car. Now sleeping.\n"
     ]
    },
    {
     "name": "stderr",
     "output_type": "stream",
     "text": [
      "Sleeping: 100%|\u001b[34m████████████████████████████\u001b[0m| 45/45 [00:45<00:00,  1.01s/it]\u001b[0m\n",
      " 25%|██▍       | 212/853 [12:11<4:55:49, 27.69s/it]"
     ]
    },
    {
     "name": "stdout",
     "output_type": "stream",
     "text": [
      "Successfully processed: The black horse tends to run very fast. Now sleeping.\n"
     ]
    },
    {
     "name": "stderr",
     "output_type": "stream",
     "text": [
      "Sleeping: 100%|\u001b[34m████████████████████████████\u001b[0m| 45/45 [00:45<00:00,  1.01s/it]\u001b[0m\n",
      " 25%|██▍       | 213/853 [13:12<5:53:28, 33.14s/it]"
     ]
    },
    {
     "name": "stdout",
     "output_type": "stream",
     "text": [
      "Successfully processed: She reminded herself to pay the gas bill. Now sleeping.\n"
     ]
    },
    {
     "name": "stderr",
     "output_type": "stream",
     "text": [
      "Sleeping: 100%|\u001b[34m████████████████████████████\u001b[0m| 45/45 [00:45<00:00,  1.01s/it]\u001b[0m\n",
      " 25%|██▌       | 214/853 [14:13<6:49:14, 38.43s/it]"
     ]
    },
    {
     "name": "stdout",
     "output_type": "stream",
     "text": [
      "Successfully processed: He wore a funny hat to the party. Now sleeping.\n"
     ]
    },
    {
     "name": "stderr",
     "output_type": "stream",
     "text": [
      "Sleeping: 100%|\u001b[34m████████████████████████████\u001b[0m| 45/45 [00:45<00:00,  1.01s/it]\u001b[0m\n",
      " 25%|██▌       | 215/853 [15:14<7:39:33, 43.22s/it]"
     ]
    },
    {
     "name": "stdout",
     "output_type": "stream",
     "text": [
      "No image generated using imagen-3.0-generate-001 with prompt: A short, muscular man in a vibrant outfit throwing a colorful ball with great force across a vast, open field, the ball soaring surprisingly far into the distance. in the style of a children's book illustration, Axel Scheffler style, thick brushstrokes, colored pencil texture, expressive characters, bold outlines, textured shading, pastel color palette\n",
      "Successfully processed: The short man threw the ball pretty far. Now sleeping.\n"
     ]
    },
    {
     "name": "stderr",
     "output_type": "stream",
     "text": [
      "Sleeping: 100%|\u001b[34m████████████████████████████\u001b[0m| 45/45 [00:45<00:00,  1.01s/it]\u001b[0m\n",
      " 25%|██▌       | 216/853 [16:17<8:27:31, 47.80s/it]"
     ]
    },
    {
     "name": "stdout",
     "output_type": "stream",
     "text": [
      "Successfully processed: We met at the coffee shop last week. Now sleeping.\n"
     ]
    },
    {
     "name": "stderr",
     "output_type": "stream",
     "text": [
      "Sleeping: 100%|\u001b[34m████████████████████████████\u001b[0m| 45/45 [00:45<00:00,  1.01s/it]\u001b[0m\n",
      " 25%|██▌       | 217/853 [17:17<8:59:44, 50.92s/it]"
     ]
    },
    {
     "name": "stdout",
     "output_type": "stream",
     "text": [
      "Successfully processed: They reckoned the price was too high. Now sleeping.\n"
     ]
    },
    {
     "name": "stderr",
     "output_type": "stream",
     "text": [
      "Sleeping: 100%|\u001b[34m████████████████████████████\u001b[0m| 45/45 [00:45<00:00,  1.01s/it]\u001b[0m\n",
      " 26%|██▌       | 218/853 [18:18<9:26:40, 53.54s/it]"
     ]
    },
    {
     "name": "stdout",
     "output_type": "stream",
     "text": [
      "No image generated using imagen-3.0-generate-001 with prompt: A newborn baby boy cradled in a rustic wooden cradle, surrounded by quaint country town buildings with a prominent church steeple in the background. in the style of a children's book illustration, Axel Scheffler style, thick brushstrokes, colored pencil texture, expressive characters, bold outlines, textured shading, pastel color palette\n",
      "Successfully processed: The boy was born in a small country town. Now sleeping.\n"
     ]
    },
    {
     "name": "stderr",
     "output_type": "stream",
     "text": [
      "Sleeping: 100%|\u001b[34m████████████████████████████\u001b[0m| 45/45 [00:45<00:00,  1.01s/it]\u001b[0m\n",
      " 26%|██▌       | 219/853 [19:22<9:55:43, 56.38s/it]"
     ]
    },
    {
     "name": "stdout",
     "output_type": "stream",
     "text": [
      "Successfully processed: She added fresh flowers to each room. Now sleeping.\n"
     ]
    },
    {
     "name": "stderr",
     "output_type": "stream",
     "text": [
      "Sleeping: 100%|\u001b[34m████████████████████████████\u001b[0m| 45/45 [00:45<00:00,  1.01s/it]\u001b[0m\n",
      " 26%|██▌       | 220/853 [20:22<10:06:07, 57.45s/it]"
     ]
    },
    {
     "name": "stdout",
     "output_type": "stream",
     "text": [
      "Successfully processed: He hurt his leg during the football game. Now sleeping.\n"
     ]
    },
    {
     "name": "stderr",
     "output_type": "stream",
     "text": [
      "Sleeping: 100%|\u001b[34m████████████████████████████\u001b[0m| 45/45 [00:45<00:00,  1.01s/it]\u001b[0m\n",
      " 26%|██▌       | 221/853 [21:22<10:13:58, 58.29s/it]"
     ]
    },
    {
     "name": "stdout",
     "output_type": "stream",
     "text": [
      "Successfully processed: The show lasted for an hour and half. Now sleeping.\n"
     ]
    },
    {
     "name": "stderr",
     "output_type": "stream",
     "text": [
      "Sleeping: 100%|\u001b[34m████████████████████████████\u001b[0m| 45/45 [00:45<00:00,  1.01s/it]\u001b[0m\n",
      " 26%|██▌       | 222/853 [22:23<10:19:24, 58.90s/it]"
     ]
    },
    {
     "name": "stdout",
     "output_type": "stream",
     "text": [
      "Successfully processed: They stayed at a lovely hotel by the sea. Now sleeping.\n"
     ]
    },
    {
     "name": "stderr",
     "output_type": "stream",
     "text": [
      "Sleeping: 100%|\u001b[34m████████████████████████████\u001b[0m| 45/45 [00:45<00:00,  1.01s/it]\u001b[0m\n",
      " 26%|██▌       | 223/853 [23:23<10:24:01, 59.43s/it]"
     ]
    },
    {
     "name": "stdout",
     "output_type": "stream",
     "text": [
      "Successfully processed: He cleared his throat before the speech began. Now sleeping.\n"
     ]
    },
    {
     "name": "stderr",
     "output_type": "stream",
     "text": [
      "Sleeping: 100%|\u001b[34m████████████████████████████\u001b[0m| 45/45 [00:45<00:00,  1.01s/it]\u001b[0m\n",
      " 26%|██▋       | 224/853 [24:24<10:25:24, 59.66s/it]"
     ]
    },
    {
     "name": "stdout",
     "output_type": "stream",
     "text": [
      "Successfully processed: The accident occurred on a busy street corner. Now sleeping.\n"
     ]
    },
    {
     "name": "stderr",
     "output_type": "stream",
     "text": [
      "Sleeping: 100%|\u001b[34m████████████████████████████\u001b[0m| 45/45 [00:45<00:00,  1.01s/it]\u001b[0m\n",
      " 26%|██▋       | 225/853 [25:23<10:23:59, 59.62s/it]"
     ]
    },
    {
     "name": "stdout",
     "output_type": "stream",
     "text": [
      "Successfully processed: She based her decision on previous experience. Now sleeping.\n"
     ]
    },
    {
     "name": "stderr",
     "output_type": "stream",
     "text": [
      "Sleeping: 100%|\u001b[34m████████████████████████████\u001b[0m| 45/45 [00:45<00:00,  1.01s/it]\u001b[0m\n",
      " 26%|██▋       | 226/853 [26:23<10:25:27, 59.85s/it]"
     ]
    },
    {
     "name": "stdout",
     "output_type": "stream",
     "text": [
      "Successfully processed: He threw the old computer in the trash. Now sleeping.\n"
     ]
    },
    {
     "name": "stderr",
     "output_type": "stream",
     "text": [
      "Sleeping: 100%|\u001b[34m████████████████████████████\u001b[0m| 45/45 [00:45<00:00,  1.01s/it]\u001b[0m\n",
      " 27%|██▋       | 227/853 [27:24<10:25:55, 59.99s/it]"
     ]
    },
    {
     "name": "stdout",
     "output_type": "stream",
     "text": [
      "No image generated using imagen-3.0-generate-001 with prompt: A family gathered at the bottom of a staircase, looking up with puzzled expressions, as a glowing green tentacle emerges from the top of the stairs. in the style of a children's book illustration, Axel Scheffler style, thick brushstrokes, colored pencil texture, expressive characters, bold outlines, textured shading, pastel color palette\n",
      "Successfully processed: They heard a strange noise coming from upstairs. Now sleeping.\n"
     ]
    },
    {
     "name": "stderr",
     "output_type": "stream",
     "text": [
      "Sleeping: 100%|\u001b[34m████████████████████████████\u001b[0m| 45/45 [00:45<00:00,  1.01s/it]\u001b[0m\n",
      " 27%|██▋       | 228/853 [28:27<10:34:50, 60.94s/it]"
     ]
    },
    {
     "name": "stdout",
     "output_type": "stream",
     "text": [
      "Successfully processed: The new shoes didn't fit her feet properly. Now sleeping.\n"
     ]
    },
    {
     "name": "stderr",
     "output_type": "stream",
     "text": [
      "Sleeping: 100%|\u001b[34m████████████████████████████\u001b[0m| 45/45 [00:45<00:00,  1.01s/it]\u001b[0m\n",
      " 27%|██▋       | 229/853 [29:28<10:33:43, 60.94s/it]"
     ]
    },
    {
     "name": "stdout",
     "output_type": "stream",
     "text": [
      "Successfully processed: He paid a high price for his mistake. Now sleeping.\n"
     ]
    },
    {
     "name": "stderr",
     "output_type": "stream",
     "text": [
      "Sleeping: 100%|\u001b[34m████████████████████████████\u001b[0m| 45/45 [00:45<00:00,  1.01s/it]\u001b[0m\n",
      " 27%|██▋       | 230/853 [30:28<10:31:08, 60.78s/it]"
     ]
    },
    {
     "name": "stdout",
     "output_type": "stream",
     "text": [
      "Successfully processed: The sun cleared away the morning fog. Now sleeping.\n"
     ]
    },
    {
     "name": "stderr",
     "output_type": "stream",
     "text": [
      "Sleeping: 100%|\u001b[34m████████████████████████████\u001b[0m| 45/45 [00:45<00:00,  1.01s/it]\u001b[0m\n",
      " 27%|██▋       | 231/853 [31:29<10:29:10, 60.69s/it]"
     ]
    },
    {
     "name": "stdout",
     "output_type": "stream",
     "text": [
      "Successfully processed: She wore a green dress to the party. Now sleeping.\n"
     ]
    },
    {
     "name": "stderr",
     "output_type": "stream",
     "text": [
      "Sleeping: 100%|\u001b[34m████████████████████████████\u001b[0m| 45/45 [00:45<00:00,  1.01s/it]\u001b[0m\n",
      " 27%|██▋       | 232/853 [32:29<10:25:47, 60.46s/it]"
     ]
    },
    {
     "name": "stdout",
     "output_type": "stream",
     "text": [
      "Successfully processed: They dealt with the problem in private. Now sleeping.\n"
     ]
    },
    {
     "name": "stderr",
     "output_type": "stream",
     "text": [
      "Sleeping: 100%|\u001b[34m████████████████████████████\u001b[0m| 45/45 [00:45<00:00,  1.01s/it]\u001b[0m\n",
      " 27%|██▋       | 233/853 [33:29<10:24:29, 60.43s/it]"
     ]
    },
    {
     "name": "stdout",
     "output_type": "stream",
     "text": [
      "Successfully processed: He led the team to victory last night. Now sleeping.\n"
     ]
    },
    {
     "name": "stderr",
     "output_type": "stream",
     "text": [
      "Sleeping: 100%|\u001b[34m████████████████████████████\u001b[0m| 45/45 [00:45<00:00,  1.01s/it]\u001b[0m\n",
      " 27%|██▋       | 234/853 [34:30<10:23:53, 60.47s/it]"
     ]
    },
    {
     "name": "stdout",
     "output_type": "stream",
     "text": [
      "Successfully processed: She served coffee to all her guests. Now sleeping.\n"
     ]
    },
    {
     "name": "stderr",
     "output_type": "stream",
     "text": [
      "Sleeping: 100%|\u001b[34m████████████████████████████\u001b[0m| 45/45 [00:45<00:00,  1.01s/it]\u001b[0m\n",
      " 28%|██▊       | 235/853 [35:30<10:22:18, 60.42s/it]"
     ]
    },
    {
     "name": "stdout",
     "output_type": "stream",
     "text": [
      "Successfully processed: They believed in the power of positive thinking. Now sleeping.\n"
     ]
    },
    {
     "name": "stderr",
     "output_type": "stream",
     "text": [
      "Sleeping: 100%|\u001b[34m████████████████████████████\u001b[0m| 45/45 [00:45<00:00,  1.01s/it]\u001b[0m\n",
      " 28%|██▊       | 236/853 [36:30<10:21:20, 60.42s/it]"
     ]
    },
    {
     "name": "stdout",
     "output_type": "stream",
     "text": [
      "Successfully processed: He held onto the railing for dear life. Now sleeping.\n"
     ]
    },
    {
     "name": "stderr",
     "output_type": "stream",
     "text": [
      "Sleeping: 100%|\u001b[34m████████████████████████████\u001b[0m| 45/45 [00:45<00:00,  1.01s/it]\u001b[0m\n",
      " 28%|██▊       | 237/853 [37:31<10:20:18, 60.42s/it]"
     ]
    },
    {
     "name": "stdout",
     "output_type": "stream",
     "text": [
      "No image generated using imagen-3.0-generate-001 with prompt: A cheerful woman in a kitchen, presenting a steaming, colorful meal to her smiling family gathered around a dining table, with various cooking utensils and ingredients visible in the background. in the style of a children's book illustration, Axel Scheffler style, thick brushstrokes, colored pencil texture, expressive characters, bold outlines, textured shading, pastel color palette\n",
      "Successfully processed: She prepared a delicious meal for her family. Now sleeping.\n"
     ]
    },
    {
     "name": "stderr",
     "output_type": "stream",
     "text": [
      "Sleeping: 100%|\u001b[34m████████████████████████████\u001b[0m| 45/45 [00:45<00:00,  1.01s/it]\u001b[0m\n",
      " 28%|██▊       | 238/853 [38:34<10:28:01, 61.27s/it]"
     ]
    },
    {
     "name": "stdout",
     "output_type": "stream",
     "text": [
      "Successfully processed: They stuck to their original plan despite doubts. Now sleeping.\n"
     ]
    },
    {
     "name": "stderr",
     "output_type": "stream",
     "text": [
      "Sleeping: 100%|\u001b[34m████████████████████████████\u001b[0m| 45/45 [00:45<00:00,  1.01s/it]\u001b[0m\n",
      " 28%|██▊       | 239/853 [39:34<10:23:35, 60.94s/it]"
     ]
    },
    {
     "name": "stdout",
     "output_type": "stream",
     "text": [
      "No image generated using imagen-3.0-generate-001 with prompt: A frustrated student at a desk surrounded by scattered papers and textbooks, reaching out towards a helping hand offering a pencil and guidebook. in the style of a children's book illustration, Axel Scheffler style, thick brushstrokes, colored pencil texture, expressive characters, bold outlines, textured shading, pastel color palette\n",
      "Successfully processed: He required assistance with his homework assignment. Now sleeping.\n"
     ]
    },
    {
     "name": "stderr",
     "output_type": "stream",
     "text": [
      "Sleeping: 100%|\u001b[34m████████████████████████████\u001b[0m| 45/45 [00:45<00:00,  1.01s/it]\u001b[0m\n",
      " 28%|██▊       | 240/853 [40:37<10:27:58, 61.47s/it]"
     ]
    },
    {
     "name": "stdout",
     "output_type": "stream",
     "text": [
      "Successfully processed: She opened her heart to new possibilities. Now sleeping.\n"
     ]
    },
    {
     "name": "stderr",
     "output_type": "stream",
     "text": [
      "Sleeping: 100%|\u001b[34m████████████████████████████\u001b[0m| 45/45 [00:45<00:00,  1.01s/it]\u001b[0m\n",
      " 28%|██▊       | 241/853 [41:37<10:23:05, 61.09s/it]"
     ]
    },
    {
     "name": "stdout",
     "output_type": "stream",
     "text": [
      "Successfully processed: They set a new record in the race. Now sleeping.\n"
     ]
    },
    {
     "name": "stderr",
     "output_type": "stream",
     "text": [
      "Sleeping: 100%|\u001b[34m████████████████████████████\u001b[0m| 45/45 [00:45<00:00,  1.01s/it]\u001b[0m\n",
      " 28%|██▊       | 242/853 [42:38<10:20:16, 60.91s/it]"
     ]
    },
    {
     "name": "stdout",
     "output_type": "stream",
     "text": [
      "Successfully processed: He noticed her beautiful smile across the room. Now sleeping.\n"
     ]
    },
    {
     "name": "stderr",
     "output_type": "stream",
     "text": [
      "Sleeping: 100%|\u001b[34m████████████████████████████\u001b[0m| 45/45 [00:45<00:00,  1.01s/it]\u001b[0m\n",
      " 28%|██▊       | 243/853 [43:38<10:17:31, 60.74s/it]"
     ]
    },
    {
     "name": "stdout",
     "output_type": "stream",
     "text": [
      "Successfully processed: She based her argument on scientific facts. Now sleeping.\n"
     ]
    },
    {
     "name": "stderr",
     "output_type": "stream",
     "text": [
      "Sleeping: 100%|\u001b[34m████████████████████████████\u001b[0m| 45/45 [00:45<00:00,  1.01s/it]\u001b[0m\n",
      " 29%|██▊       | 244/853 [44:38<10:15:41, 60.66s/it]"
     ]
    },
    {
     "name": "stdout",
     "output_type": "stream",
     "text": [
      "Successfully processed: They threw a surprise party for their mother. Now sleeping.\n"
     ]
    },
    {
     "name": "stderr",
     "output_type": "stream",
     "text": [
      "Sleeping: 100%|\u001b[34m████████████████████████████\u001b[0m| 45/45 [00:45<00:00,  1.01s/it]\u001b[0m\n",
      " 29%|██▊       | 245/853 [45:39<10:13:27, 60.54s/it]"
     ]
    },
    {
     "name": "stdout",
     "output_type": "stream",
     "text": [
      "Successfully processed: He reminded everyone to be on time. Now sleeping.\n"
     ]
    },
    {
     "name": "stderr",
     "output_type": "stream",
     "text": [
      "Sleeping: 100%|\u001b[34m████████████████████████████\u001b[0m| 45/45 [00:45<00:00,  1.01s/it]\u001b[0m\n",
      " 29%|██▉       | 246/853 [46:39<10:11:25, 60.44s/it]"
     ]
    },
    {
     "name": "stdout",
     "output_type": "stream",
     "text": [
      "No image generated using imagen-3.0-generate-001 with prompt: A young girl with an exaggerated disgusted expression pushing away a plate full of brussels sprouts, with one sprout comically oversized and menacing. in the style of a children's book illustration, Axel Scheffler style, thick brushstrokes, colored pencil texture, expressive characters, bold outlines, textured shading, pastel color palette\n",
      "Successfully processed: She hated the taste of brussels sprouts. Now sleeping.\n"
     ]
    },
    {
     "name": "stderr",
     "output_type": "stream",
     "text": [
      "Sleeping: 100%|\u001b[34m████████████████████████████\u001b[0m| 45/45 [00:45<00:00,  1.01s/it]\u001b[0m\n",
      " 29%|██▉       | 247/853 [47:41<10:16:43, 61.06s/it]"
     ]
    },
    {
     "name": "stdout",
     "output_type": "stream",
     "text": [
      "No image generated using imagen-3.0-generate-001 with prompt: A cheerful family embracing arriving travelers at an airport gate, surrounded by luggage and welcome signs, with a bustling terminal in the background. in the style of a children's book illustration, Axel Scheffler style, thick brushstrokes, colored pencil texture, expressive characters, bold outlines, textured shading, pastel color palette\n",
      "Successfully processed: They received a warm welcome at the airport. Now sleeping.\n"
     ]
    },
    {
     "name": "stderr",
     "output_type": "stream",
     "text": [
      "Sleeping: 100%|\u001b[34m████████████████████████████\u001b[0m| 45/45 [00:45<00:00,  1.01s/it]\u001b[0m\n",
      " 29%|██▉       | 248/853 [48:45<10:23:13, 61.81s/it]"
     ]
    },
    {
     "name": "stdout",
     "output_type": "stream",
     "text": [
      "Successfully processed: He met his wife at a social event. Now sleeping.\n"
     ]
    },
    {
     "name": "stderr",
     "output_type": "stream",
     "text": [
      "Sleeping: 100%|\u001b[34m████████████████████████████\u001b[0m| 45/45 [00:45<00:00,  1.01s/it]\u001b[0m\n",
      " 29%|██▉       | 249/853 [49:45<10:17:47, 61.37s/it]"
     ]
    },
    {
     "name": "stdout",
     "output_type": "stream",
     "text": [
      "Successfully processed: She reckoned it was time for a change. Now sleeping.\n"
     ]
    },
    {
     "name": "stderr",
     "output_type": "stream",
     "text": [
      "Sleeping: 100%|\u001b[34m████████████████████████████\u001b[0m| 45/45 [00:45<00:00,  1.01s/it]\u001b[0m\n",
      " 29%|██▉       | 250/853 [50:45<10:12:15, 60.92s/it]"
     ]
    },
    {
     "name": "stdout",
     "output_type": "stream",
     "text": [
      "No image generated using imagen-3.0-generate-001 with prompt: A group of diverse people standing together under a starry night sky, their faces illuminated as they gaze upward with hopeful expressions, one person pointing to an especially bright star. in the style of a children's book illustration, Axel Scheffler style, thick brushstrokes, colored pencil texture, expressive characters, bold outlines, textured shading, pastel color palette\n",
      "Successfully processed: They wished upon a star that night. Now sleeping.\n"
     ]
    },
    {
     "name": "stderr",
     "output_type": "stream",
     "text": [
      "Sleeping: 100%|\u001b[34m████████████████████████████\u001b[0m| 45/45 [00:45<00:00,  1.01s/it]\u001b[0m\n",
      " 29%|██▉       | 251/853 [51:48<10:18:23, 61.63s/it]"
     ]
    },
    {
     "name": "stdout",
     "output_type": "stream",
     "text": [
      "No image generated using imagen-3.0-generate-001 with prompt: A baby wrapped in expensive silk blankets, surrounded by gold coins and jewelry, being cradled by well-dressed parents in a luxurious mansion foyer with grand staircase. in the style of a children's book illustration, Axel Scheffler style, thick brushstrokes, colored pencil texture, expressive characters, bold outlines, textured shading, pastel color palette\n",
      "Successfully processed: He was born into a wealthy family. Now sleeping.\n"
     ]
    },
    {
     "name": "stderr",
     "output_type": "stream",
     "text": [
      "Sleeping: 100%|\u001b[34m████████████████████████████\u001b[0m| 45/45 [00:45<00:00,  1.01s/it]\u001b[0m\n",
      " 30%|██▉       | 252/853 [52:51<10:20:24, 61.94s/it]"
     ]
    },
    {
     "name": "stdout",
     "output_type": "stream",
     "text": [
      "Successfully processed: She added spice to make the dish tastier. Now sleeping.\n"
     ]
    },
    {
     "name": "stderr",
     "output_type": "stream",
     "text": [
      "Sleeping: 100%|\u001b[34m████████████████████████████\u001b[0m| 45/45 [00:45<00:00,  1.01s/it]\u001b[0m\n",
      " 30%|██▉       | 253/853 [53:51<10:14:28, 61.45s/it]"
     ]
    },
    {
     "name": "stdout",
     "output_type": "stream",
     "text": [
      "Successfully processed: They missed the train by five minutes. Now sleeping.\n"
     ]
    },
    {
     "name": "stderr",
     "output_type": "stream",
     "text": [
      "Sleeping: 100%|\u001b[34m████████████████████████████\u001b[0m| 45/45 [00:45<00:00,  1.01s/it]\u001b[0m\n",
      " 30%|██▉       | 254/853 [54:51<10:08:34, 60.96s/it]"
     ]
    },
    {
     "name": "stdout",
     "output_type": "stream",
     "text": [
      "Successfully processed: He hurt his back lifting heavy boxes. Now sleeping.\n"
     ]
    },
    {
     "name": "stderr",
     "output_type": "stream",
     "text": [
      "Sleeping: 100%|\u001b[34m████████████████████████████\u001b[0m| 45/45 [00:45<00:00,  1.01s/it]\u001b[0m\n",
      " 30%|██▉       | 255/853 [55:51<10:04:51, 60.69s/it]"
     ]
    },
    {
     "name": "stdout",
     "output_type": "stream",
     "text": [
      "Successfully processed: The movie tended to drag on endlessly. Now sleeping.\n"
     ]
    },
    {
     "name": "stderr",
     "output_type": "stream",
     "text": [
      "Sleeping: 100%|\u001b[34m████████████████████████████\u001b[0m| 45/45 [00:45<00:00,  1.01s/it]\u001b[0m\n",
      " 30%|███       | 256/853 [56:51<10:02:15, 60.53s/it]"
     ]
    },
    {
     "name": "stdout",
     "output_type": "stream",
     "text": [
      "No image generated using imagen-3.0-generate-001 with prompt: A young girl triumphantly closing her textbook at a desk, with a clock showing dinner time and a steaming plate of food visible nearby. in the style of a children's book illustration, Axel Scheffler style, thick brushstrokes, colored pencil texture, expressive characters, bold outlines, textured shading, pastel color palette\n",
      "Successfully processed: She finished her homework before dinner time. Now sleeping.\n"
     ]
    },
    {
     "name": "stderr",
     "output_type": "stream",
     "text": [
      "Sleeping: 100%|\u001b[34m████████████████████████████\u001b[0m| 45/45 [00:45<00:00,  1.01s/it]\u001b[0m\n",
      " 30%|███       | 257/853 [57:54<10:06:53, 61.10s/it]"
     ]
    },
    {
     "name": "stdout",
     "output_type": "stream",
     "text": [
      "No image generated using imagen-3.0-generate-001 with prompt: A crowded lecture hall with students slumped over desks, eyes closed and sleeping peacefully, while a monotonous professor drones on at the front, his words appearing as a stream of Zs floating above the sleepy audience. in the style of a children's book illustration, Axel Scheffler style, thick brushstrokes, colored pencil texture, expressive characters, bold outlines, textured shading, pastel color palette\n",
      "Successfully processed: They fell asleep during the boring lecture. Now sleeping.\n"
     ]
    },
    {
     "name": "stderr",
     "output_type": "stream",
     "text": [
      "Sleeping: 100%|\u001b[34m████████████████████████████\u001b[0m| 45/45 [00:45<00:00,  1.01s/it]\u001b[0m\n",
      " 30%|███       | 258/853 [58:58<10:13:44, 61.89s/it]"
     ]
    },
    {
     "name": "stdout",
     "output_type": "stream",
     "text": [
      "Successfully processed: He heard a lovely bird song this morning. Now sleeping.\n"
     ]
    },
    {
     "name": "stderr",
     "output_type": "stream",
     "text": [
      "Sleeping: 100%|\u001b[34m████████████████████████████\u001b[0m| 45/45 [00:45<00:00,  1.01s/it]\u001b[0m\n",
      " 30%|███       | 259/853 [59:58<10:07:04, 61.32s/it]"
     ]
    },
    {
     "name": "stdout",
     "output_type": "stream",
     "text": [
      "Successfully processed: The dress fit her like a glove. Now sleeping.\n"
     ]
    },
    {
     "name": "stderr",
     "output_type": "stream",
     "text": [
      "Sleeping: 100%|\u001b[34m████████████████████████████\u001b[0m| 45/45 [00:45<00:00,  1.01s/it]\u001b[0m\n",
      " 30%|███       | 260/853 [1:00:58<10:03:39, 61.08s/it]"
     ]
    },
    {
     "name": "stdout",
     "output_type": "stream",
     "text": [
      "Successfully processed: She paid attention to every little detail. Now sleeping.\n"
     ]
    },
    {
     "name": "stderr",
     "output_type": "stream",
     "text": [
      "Sleeping: 100%|\u001b[34m████████████████████████████\u001b[0m| 45/45 [00:45<00:00,  1.01s/it]\u001b[0m\n",
      " 31%|███       | 261/853 [1:01:58<9:59:13, 60.73s/it] "
     ]
    },
    {
     "name": "stdout",
     "output_type": "stream",
     "text": [
      "No image generated using imagen-3.0-generate-001 with prompt: A family clearing dishes from a dinner table, stacking plates and utensils, with visible remnants of a meal, warm lighting evoking a cozy post-dinner atmosphere. in the style of a children's book illustration, Axel Scheffler style, thick brushstrokes, colored pencil texture, expressive characters, bold outlines, textured shading, pastel color palette\n",
      "Successfully processed: They cleared the table after dinner. Now sleeping.\n"
     ]
    },
    {
     "name": "stderr",
     "output_type": "stream",
     "text": [
      "Sleeping: 100%|\u001b[34m████████████████████████████\u001b[0m| 45/45 [00:45<00:00,  1.01s/it]\u001b[0m\n",
      " 31%|███       | 262/853 [1:03:00<10:02:45, 61.19s/it]"
     ]
    },
    {
     "name": "stdout",
     "output_type": "stream",
     "text": [
      "Successfully processed: Strange things occur in that old house. Now sleeping.\n"
     ]
    },
    {
     "name": "stderr",
     "output_type": "stream",
     "text": [
      "Sleeping: 100%|\u001b[34m████████████████████████████\u001b[0m| 45/45 [00:45<00:00,  1.01s/it]\u001b[0m\n",
      " 31%|███       | 263/853 [1:04:01<9:59:06, 60.93s/it] "
     ]
    },
    {
     "name": "stdout",
     "output_type": "stream",
     "text": [
      "Successfully processed: He ran a mile every morning before work. Now sleeping.\n"
     ]
    },
    {
     "name": "stderr",
     "output_type": "stream",
     "text": [
      "Sleeping: 100%|\u001b[34m████████████████████████████\u001b[0m| 45/45 [00:45<00:00,  1.01s/it]\u001b[0m\n",
      " 31%|███       | 264/853 [1:05:00<9:54:51, 60.60s/it]"
     ]
    },
    {
     "name": "stdout",
     "output_type": "stream",
     "text": [
      "Successfully processed: She led the discussion with great enthusiasm. Now sleeping.\n"
     ]
    },
    {
     "name": "stderr",
     "output_type": "stream",
     "text": [
      "Sleeping: 100%|\u001b[34m████████████████████████████\u001b[0m| 45/45 [00:45<00:00,  1.01s/it]\u001b[0m\n",
      " 31%|███       | 265/853 [1:06:00<9:51:15, 60.33s/it]"
     ]
    },
    {
     "name": "stdout",
     "output_type": "stream",
     "text": [
      "No image generated using imagen-3.0-generate-001 with prompt: A cozy bedroom with a smiling couple in pajamas, enjoying a lavish breakfast spread on a tray in bed, sunlight streaming through curtains, and a wall calendar showing Sunday. in the style of a children's book illustration, Axel Scheffler style, thick brushstrokes, colored pencil texture, expressive characters, bold outlines, textured shading, pastel color palette\n",
      "Successfully processed: They served breakfast in bed on Sundays. Now sleeping.\n"
     ]
    },
    {
     "name": "stderr",
     "output_type": "stream",
     "text": [
      "Sleeping: 100%|\u001b[34m████████████████████████████\u001b[0m| 45/45 [00:45<00:00,  1.01s/it]\u001b[0m\n",
      " 31%|███       | 266/853 [1:07:04<10:00:15, 61.35s/it]"
     ]
    },
    {
     "name": "stdout",
     "output_type": "stream",
     "text": [
      "Successfully processed: He dealt the cards quickly and efficiently. Now sleeping.\n"
     ]
    },
    {
     "name": "stderr",
     "output_type": "stream",
     "text": [
      "Sleeping: 100%|\u001b[34m████████████████████████████\u001b[0m| 45/45 [00:45<00:00,  1.01s/it]\u001b[0m\n",
      " 31%|███▏      | 267/853 [1:08:05<9:57:08, 61.14s/it] "
     ]
    },
    {
     "name": "stdout",
     "output_type": "stream",
     "text": [
      "Successfully processed: She believed in ghosts and supernatural phenomena. Now sleeping.\n"
     ]
    },
    {
     "name": "stderr",
     "output_type": "stream",
     "text": [
      "Sleeping: 100%|\u001b[34m████████████████████████████\u001b[0m| 45/45 [00:45<00:00,  1.01s/it]\u001b[0m\n",
      " 31%|███▏      | 268/853 [1:09:05<9:53:28, 60.87s/it]"
     ]
    },
    {
     "name": "stdout",
     "output_type": "stream",
     "text": [
      "No image generated using imagen-3.0-generate-001 with prompt: A group of diverse swimmers underwater, holding their breath with puffed cheeks, surrounded by bubbles and marine life, their eyes wide with excitement and anticipation. in the style of a children's book illustration, Axel Scheffler style, thick brushstrokes, colored pencil texture, expressive characters, bold outlines, textured shading, pastel color palette\n",
      "Successfully processed: They held their breath as they dove underwater. Now sleeping.\n"
     ]
    },
    {
     "name": "stderr",
     "output_type": "stream",
     "text": [
      "Sleeping: 100%|\u001b[34m████████████████████████████\u001b[0m| 45/45 [00:45<00:00,  1.00s/it]\u001b[0m\n",
      " 32%|███▏      | 269/853 [1:10:09<10:02:46, 61.93s/it]"
     ]
    },
    {
     "name": "stdout",
     "output_type": "stream",
     "text": [
      "Successfully processed: He prepared for the worst but hoped for the best. Now sleeping.\n"
     ]
    },
    {
     "name": "stderr",
     "output_type": "stream",
     "text": [
      "Sleeping: 100%|\u001b[34m████████████████████████████\u001b[0m| 45/45 [00:45<00:00,  1.01s/it]\u001b[0m\n",
      " 32%|███▏      | 270/853 [1:11:10<9:58:09, 61.56s/it] "
     ]
    },
    {
     "name": "stdout",
     "output_type": "stream",
     "text": [
      "No image generated using imagen-3.0-generate-001 with prompt: A young girl with her tongue fully extended, making a silly face at her annoyed brother, both standing in a playful sibling rivalry pose in a living room setting. in the style of a children's book illustration, Axel Scheffler style, thick brushstrokes, colored pencil texture, expressive characters, bold outlines, textured shading, pastel color palette\n",
      "Successfully processed: She stuck her tongue out at her brother. Now sleeping.\n"
     ]
    },
    {
     "name": "stderr",
     "output_type": "stream",
     "text": [
      "Sleeping: 100%|\u001b[34m████████████████████████████\u001b[0m| 45/45 [00:45<00:00,  1.01s/it]\u001b[0m\n",
      " 32%|███▏      | 271/853 [1:12:12<10:00:06, 61.87s/it]"
     ]
    },
    {
     "name": "stdout",
     "output_type": "stream",
     "text": [
      "Successfully processed: They required everyone to wear a mask inside. Now sleeping.\n"
     ]
    },
    {
     "name": "stderr",
     "output_type": "stream",
     "text": [
      "Sleeping: 100%|\u001b[34m████████████████████████████\u001b[0m| 45/45 [00:45<00:00,  1.00s/it]\u001b[0m\n",
      " 32%|███▏      | 272/853 [1:13:12<9:52:56, 61.23s/it] "
     ]
    },
    {
     "name": "stdout",
     "output_type": "stream",
     "text": [
      "No image generated using imagen-3.0-generate-001 with prompt: A young, diverse couple standing at a crossroads, pointing towards multiple white churches of different architectural styles, with a modern cityscape in the background. in the style of a children's book illustration, Axel Scheffler style, thick brushstrokes, colored pencil texture, expressive characters, bold outlines, textured shading, pastel color palette\n",
      "Successfully processed: The modern couple must choose a white church. Now sleeping.\n"
     ]
    },
    {
     "name": "stderr",
     "output_type": "stream",
     "text": [
      "Sleeping: 100%|\u001b[34m████████████████████████████\u001b[0m| 45/45 [00:45<00:00,  1.01s/it]\u001b[0m\n",
      " 32%|███▏      | 273/853 [1:14:15<9:55:56, 61.65s/it]"
     ]
    },
    {
     "name": "stdout",
     "output_type": "stream",
     "text": [
      "No image generated using imagen-3.0-generate-001 with prompt: A young woman in a graduation cap and gown, standing at the edge of a giant calendar, about to step from the \"May\" page onto the \"June\" page, with a college building visible in the background. in the style of a children's book illustration, Axel Scheffler style, thick brushstrokes, colored pencil texture, expressive characters, bold outlines, textured shading, pastel color palette\n",
      "Successfully processed: She will graduate from college next period. Now sleeping.\n"
     ]
    },
    {
     "name": "stderr",
     "output_type": "stream",
     "text": [
      "Sleeping: 100%|\u001b[34m████████████████████████████\u001b[0m| 45/45 [00:45<00:00,  1.00s/it]\u001b[0m\n",
      " 32%|███▏      | 274/853 [1:15:17<9:56:53, 61.85s/it]"
     ]
    },
    {
     "name": "stdout",
     "output_type": "stream",
     "text": [
      "Successfully processed: They married on a boat in hot weather. Now sleeping.\n"
     ]
    },
    {
     "name": "stderr",
     "output_type": "stream",
     "text": [
      "Sleeping: 100%|\u001b[34m████████████████████████████\u001b[0m| 45/45 [00:45<00:00,  1.00s/it]\u001b[0m\n",
      " 32%|███▏      | 275/853 [1:16:17<9:50:40, 61.32s/it]"
     ]
    },
    {
     "name": "stdout",
     "output_type": "stream",
     "text": [
      "Successfully processed: He tried to sell the radio at market. Now sleeping.\n"
     ]
    },
    {
     "name": "stderr",
     "output_type": "stream",
     "text": [
      "Sleeping: 100%|\u001b[34m████████████████████████████\u001b[0m| 45/45 [00:45<00:00,  1.00s/it]\u001b[0m\n",
      " 32%|███▏      | 276/853 [1:17:17<9:44:32, 60.78s/it]"
     ]
    },
    {
     "name": "stdout",
     "output_type": "stream",
     "text": [
      "Successfully processed: I should have noticed the huge fire. Now sleeping.\n"
     ]
    },
    {
     "name": "stderr",
     "output_type": "stream",
     "text": [
      "Sleeping: 100%|\u001b[34m████████████████████████████\u001b[0m| 45/45 [00:45<00:00,  1.01s/it]\u001b[0m\n",
      " 32%|███▏      | 277/853 [1:18:17<9:41:03, 60.53s/it]"
     ]
    },
    {
     "name": "stdout",
     "output_type": "stream",
     "text": [
      "Successfully processed: The cat bounced off the kitchen window. Now sleeping.\n"
     ]
    },
    {
     "name": "stderr",
     "output_type": "stream",
     "text": [
      "Sleeping: 100%|\u001b[34m████████████████████████████\u001b[0m| 45/45 [00:45<00:00,  1.01s/it]\u001b[0m\n",
      " 33%|███▎      | 278/853 [1:19:17<9:39:29, 60.47s/it]"
     ]
    },
    {
     "name": "stdout",
     "output_type": "stream",
     "text": [
      "Successfully processed: You can pick any tree in this area. Now sleeping.\n"
     ]
    },
    {
     "name": "stderr",
     "output_type": "stream",
     "text": [
      "Sleeping: 100%|\u001b[34m████████████████████████████\u001b[0m| 45/45 [00:45<00:00,  1.01s/it]\u001b[0m\n",
      " 33%|███▎      | 279/853 [1:20:18<9:38:37, 60.48s/it]"
     ]
    },
    {
     "name": "stdout",
     "output_type": "stream",
     "text": [
      "Successfully processed: We will drink coffee on the ground. Now sleeping.\n"
     ]
    },
    {
     "name": "stderr",
     "output_type": "stream",
     "text": [
      "Sleeping: 100%|\u001b[34m████████████████████████████\u001b[0m| 45/45 [00:45<00:00,  1.01s/it]\u001b[0m\n",
      " 33%|███▎      | 280/853 [1:21:18<9:38:23, 60.56s/it]"
     ]
    },
    {
     "name": "stdout",
     "output_type": "stream",
     "text": [
      "Successfully processed: They forgot to include data in the report. Now sleeping.\n"
     ]
    },
    {
     "name": "stderr",
     "output_type": "stream",
     "text": [
      "Sleeping: 100%|\u001b[34m████████████████████████████\u001b[0m| 45/45 [00:45<00:00,  1.01s/it]\u001b[0m\n",
      " 33%|███▎      | 281/853 [1:22:19<9:36:57, 60.52s/it]"
     ]
    },
    {
     "name": "stdout",
     "output_type": "stream",
     "text": [
      "Successfully processed: He has been wearing the same shirt since. Now sleeping.\n"
     ]
    },
    {
     "name": "stderr",
     "output_type": "stream",
     "text": [
      "Sleeping: 100%|\u001b[34m████████████████████████████\u001b[0m| 45/45 [00:45<00:00,  1.01s/it]\u001b[0m\n",
      " 33%|███▎      | 282/853 [1:23:19<9:35:18, 60.45s/it]"
     ]
    },
    {
     "name": "stdout",
     "output_type": "stream",
     "text": [
      "Successfully processed: The army officer must face the enemy soon. Now sleeping.\n"
     ]
    },
    {
     "name": "stderr",
     "output_type": "stream",
     "text": [
      "Sleeping: 100%|\u001b[34m████████████████████████████\u001b[0m| 45/45 [00:45<00:00,  1.01s/it]\u001b[0m\n",
      " 33%|███▎      | 283/853 [1:24:19<9:33:23, 60.36s/it]"
     ]
    },
    {
     "name": "stdout",
     "output_type": "stream",
     "text": [
      "Successfully processed: She hopes to win the contract this week. Now sleeping.\n"
     ]
    },
    {
     "name": "stderr",
     "output_type": "stream",
     "text": [
      "Sleeping: 100%|\u001b[34m████████████████████████████\u001b[0m| 45/45 [00:45<00:00,  1.01s/it]\u001b[0m\n",
      " 33%|███▎      | 284/853 [1:25:19<9:31:04, 60.22s/it]"
     ]
    },
    {
     "name": "stdout",
     "output_type": "stream",
     "text": [
      "Successfully processed: I cannot handle this awful heat anymore. Now sleeping.\n"
     ]
    },
    {
     "name": "stderr",
     "output_type": "stream",
     "text": [
      "Sleeping: 100%|\u001b[34m████████████████████████████\u001b[0m| 45/45 [00:45<00:00,  1.01s/it]\u001b[0m\n",
      " 33%|███▎      | 285/853 [1:26:19<9:30:01, 60.21s/it]"
     ]
    },
    {
     "name": "stdout",
     "output_type": "stream",
     "text": [
      "Successfully processed: We should refer to the second copy. Now sleeping.\n"
     ]
    },
    {
     "name": "stderr",
     "output_type": "stream",
     "text": [
      "Sleeping: 100%|\u001b[34m████████████████████████████\u001b[0m| 45/45 [00:45<00:00,  1.01s/it]\u001b[0m\n",
      " 34%|███▎      | 286/853 [1:27:20<9:29:18, 60.25s/it]"
     ]
    },
    {
     "name": "stdout",
     "output_type": "stream",
     "text": [
      "Successfully processed: They will continue to produce cheap materials. Now sleeping.\n"
     ]
    },
    {
     "name": "stderr",
     "output_type": "stream",
     "text": [
      "Sleeping: 100%|\u001b[34m████████████████████████████\u001b[0m| 45/45 [00:45<00:00,  1.01s/it]\u001b[0m\n",
      " 34%|███▎      | 287/853 [1:28:19<9:27:19, 60.14s/it]"
     ]
    },
    {
     "name": "stdout",
     "output_type": "stream",
     "text": [
      "No image generated using imagen-3.0-generate-001 with prompt: A newborn baby surrounded by fishing nets and boats in a tiny coastal village, with proud parents and curious villagers gathered around. in the style of a children's book illustration, Axel Scheffler style, thick brushstrokes, colored pencil texture, expressive characters, bold outlines, textured shading, pastel color palette\n",
      "Successfully processed: He was born in a small fishing village. Now sleeping.\n"
     ]
    },
    {
     "name": "stderr",
     "output_type": "stream",
     "text": [
      "Sleeping: 100%|\u001b[34m████████████████████████████\u001b[0m| 45/45 [00:45<00:00,  1.01s/it]\u001b[0m\n",
      " 34%|███▍      | 288/853 [1:29:22<9:32:07, 60.76s/it]"
     ]
    },
    {
     "name": "stdout",
     "output_type": "stream",
     "text": [
      "Successfully processed: The company will charge a fair amount. Now sleeping.\n"
     ]
    },
    {
     "name": "stderr",
     "output_type": "stream",
     "text": [
      "Sleeping: 100%|\u001b[34m████████████████████████████\u001b[0m| 45/45 [00:45<00:00,  1.01s/it]\u001b[0m\n",
      " 34%|███▍      | 289/853 [1:30:22<9:29:38, 60.60s/it]"
     ]
    },
    {
     "name": "stdout",
     "output_type": "stream",
     "text": [
      "Successfully processed: She might forget to ring the church bell. Now sleeping.\n"
     ]
    },
    {
     "name": "stderr",
     "output_type": "stream",
     "text": [
      "Sleeping: 100%|\u001b[34m████████████████████████████\u001b[0m| 45/45 [00:45<00:00,  1.01s/it]\u001b[0m\n",
      " 34%|███▍      | 290/853 [1:31:22<9:27:08, 60.44s/it]"
     ]
    },
    {
     "name": "stdout",
     "output_type": "stream",
     "text": [
      "Successfully processed: You must push the button to answer. Now sleeping.\n"
     ]
    },
    {
     "name": "stderr",
     "output_type": "stream",
     "text": [
      "Sleeping: 100%|\u001b[34m████████████████████████████\u001b[0m| 45/45 [00:45<00:00,  1.01s/it]\u001b[0m\n",
      " 34%|███▍      | 291/853 [1:32:23<9:27:26, 60.58s/it]"
     ]
    },
    {
     "name": "stdout",
     "output_type": "stream",
     "text": [
      "No image generated using imagen-3.0-generate-001 with prompt: A group of children eagerly collecting colorful rocks along a sunny beach, with a diverse array of interesting rock specimens scattered in the foreground and waves lapping at their feet. in the style of a children's book illustration, Axel Scheffler style, thick brushstrokes, colored pencil texture, expressive characters, bold outlines, textured shading, pastel color palette\n",
      "Successfully processed: We can collect interesting rocks along the beach. Now sleeping.\n"
     ]
    },
    {
     "name": "stderr",
     "output_type": "stream",
     "text": [
      "Sleeping: 100%|\u001b[34m████████████████████████████\u001b[0m| 45/45 [00:45<00:00,  1.01s/it]\u001b[0m\n",
      " 34%|███▍      | 292/853 [1:33:26<9:32:43, 61.25s/it]"
     ]
    },
    {
     "name": "stdout",
     "output_type": "stream",
     "text": [
      "No image generated using imagen-3.0-generate-001 with prompt: A family cozy inside their home, looking wistfully out a window at heavy rain, with a canceled outdoor picnic visible on a table. in the style of a children's book illustration, Axel Scheffler style, thick brushstrokes, colored pencil texture, expressive characters, bold outlines, textured shading, pastel color palette\n",
      "Successfully processed: They will stay at home because of rain. Now sleeping.\n"
     ]
    },
    {
     "name": "stderr",
     "output_type": "stream",
     "text": [
      "Sleeping: 100%|\u001b[34m████████████████████████████\u001b[0m| 45/45 [00:45<00:00,  1.01s/it]\u001b[0m\n",
      " 34%|███▍      | 293/853 [1:34:28<9:35:02, 61.61s/it]"
     ]
    },
    {
     "name": "stdout",
     "output_type": "stream",
     "text": [
      "Successfully processed: He dropped the glass and it broke. Now sleeping.\n"
     ]
    },
    {
     "name": "stderr",
     "output_type": "stream",
     "text": [
      "Sleeping: 100%|\u001b[34m████████████████████████████\u001b[0m| 45/45 [00:45<00:00,  1.01s/it]\u001b[0m\n",
      " 34%|███▍      | 294/853 [1:35:29<9:31:06, 61.30s/it]"
     ]
    },
    {
     "name": "stdout",
     "output_type": "stream",
     "text": [
      "No image generated using imagen-3.0-generate-001 with prompt: A young girl laughing and playing with a fluffy orange cat, using a colorful feather toy, in a cozy living room with sunlight streaming through the window. in the style of a children's book illustration, Axel Scheffler style, thick brushstrokes, colored pencil texture, expressive characters, bold outlines, textured shading, pastel color palette\n",
      "Successfully processed: She likes to play with her pet cat. Now sleeping.\n"
     ]
    },
    {
     "name": "stderr",
     "output_type": "stream",
     "text": [
      "Sleeping: 100%|\u001b[34m████████████████████████████\u001b[0m| 45/45 [00:45<00:00,  1.01s/it]\u001b[0m\n",
      " 35%|███▍      | 295/853 [1:36:33<9:38:12, 62.17s/it]"
     ]
    },
    {
     "name": "stdout",
     "output_type": "stream",
     "text": [
      "Successfully processed: I will talk to the manager about this. Now sleeping.\n"
     ]
    },
    {
     "name": "stderr",
     "output_type": "stream",
     "text": [
      "Sleeping: 100%|\u001b[34m████████████████████████████\u001b[0m| 45/45 [00:45<00:00,  1.01s/it]\u001b[0m\n",
      " 35%|███▍      | 296/853 [1:37:33<9:31:38, 61.58s/it]"
     ]
    },
    {
     "name": "stdout",
     "output_type": "stream",
     "text": [
      "Successfully processed: You should cut your hair before the interview. Now sleeping.\n"
     ]
    },
    {
     "name": "stderr",
     "output_type": "stream",
     "text": [
      "Sleeping: 100%|\u001b[34m████████████████████████████\u001b[0m| 45/45 [00:45<00:00,  1.01s/it]\u001b[0m\n",
      " 35%|███▍      | 297/853 [1:38:33<9:26:49, 61.17s/it]"
     ]
    },
    {
     "name": "stdout",
     "output_type": "stream",
     "text": [
      "Successfully processed: We must find a solution to this issue. Now sleeping.\n"
     ]
    },
    {
     "name": "stderr",
     "output_type": "stream",
     "text": [
      "Sleeping: 100%|\u001b[34m████████████████████████████\u001b[0m| 45/45 [00:45<00:00,  1.01s/it]\u001b[0m\n",
      " 35%|███▍      | 298/853 [1:39:34<9:23:03, 60.87s/it]"
     ]
    },
    {
     "name": "stdout",
     "output_type": "stream",
     "text": [
      "Successfully processed: They agreed to meet at the store. Now sleeping.\n"
     ]
    },
    {
     "name": "stderr",
     "output_type": "stream",
     "text": [
      "Sleeping: 100%|\u001b[34m████████████████████████████\u001b[0m| 45/45 [00:45<00:00,  1.01s/it]\u001b[0m\n",
      " 35%|███▌      | 299/853 [1:40:34<9:19:40, 60.61s/it]"
     ]
    },
    {
     "name": "stdout",
     "output_type": "stream",
     "text": [
      "Successfully processed: He wants to buy a new television set. Now sleeping.\n"
     ]
    },
    {
     "name": "stderr",
     "output_type": "stream",
     "text": [
      "Sleeping: 100%|\u001b[34m████████████████████████████\u001b[0m| 45/45 [00:45<00:00,  1.01s/it]\u001b[0m\n",
      " 35%|███▌      | 300/853 [1:41:34<9:17:15, 60.46s/it]"
     ]
    },
    {
     "name": "stdout",
     "output_type": "stream",
     "text": [
      "Successfully processed: She will remind him to bring the ticket. Now sleeping.\n"
     ]
    },
    {
     "name": "stderr",
     "output_type": "stream",
     "text": [
      "Sleeping: 100%|\u001b[34m████████████████████████████\u001b[0m| 45/45 [00:45<00:00,  1.01s/it]\u001b[0m\n",
      " 35%|███▌      | 301/853 [1:42:34<9:16:08, 60.45s/it]"
     ]
    },
    {
     "name": "stdout",
     "output_type": "stream",
     "text": [
      "Successfully processed: I cannot understand why he did that. Now sleeping.\n"
     ]
    },
    {
     "name": "stderr",
     "output_type": "stream",
     "text": [
      "Sleeping: 100%|\u001b[34m████████████████████████████\u001b[0m| 45/45 [00:45<00:00,  1.00s/it]\u001b[0m\n",
      " 35%|███▌      | 302/853 [1:43:34<9:14:39, 60.40s/it]"
     ]
    },
    {
     "name": "stdout",
     "output_type": "stream",
     "text": [
      "No image generated using imagen-3.0-generate-001 with prompt: A large, diverse family gathered around a cozy fireplace, engaged in various activities like board games and storytelling, with a clock prominently displayed showing extended time spent together. in the style of a children's book illustration, Axel Scheffler style, thick brushstrokes, colored pencil texture, expressive characters, bold outlines, textured shading, pastel color palette\n",
      "Successfully processed: We should spend more time with family. Now sleeping.\n"
     ]
    },
    {
     "name": "stderr",
     "output_type": "stream",
     "text": [
      "Sleeping: 100%|\u001b[34m████████████████████████████\u001b[0m| 45/45 [00:45<00:00,  1.00s/it]\u001b[0m\n",
      " 36%|███▌      | 303/853 [1:44:37<9:19:19, 61.02s/it]"
     ]
    },
    {
     "name": "stdout",
     "output_type": "stream",
     "text": [
      "Successfully processed: They must stop the production immediately. Now sleeping.\n"
     ]
    },
    {
     "name": "stderr",
     "output_type": "stream",
     "text": [
      "Sleeping: 100%|\u001b[34m████████████████████████████\u001b[0m| 45/45 [00:45<00:00,  1.00s/it]\u001b[0m\n",
      " 36%|███▌      | 304/853 [1:45:36<9:14:00, 60.55s/it]"
     ]
    },
    {
     "name": "stdout",
     "output_type": "stream",
     "text": [
      "No image generated using imagen-3.0-generate-001 with prompt: A cheerful male guide gesturing towards grand college buildings, leading a small group of curious students across a sprawling campus with trees and pathways. in the style of a children's book illustration, Axel Scheffler style, thick brushstrokes, colored pencil texture, expressive characters, bold outlines, textured shading, pastel color palette\n",
      "Successfully processed: He will show us around the college campus. Now sleeping.\n"
     ]
    },
    {
     "name": "stderr",
     "output_type": "stream",
     "text": [
      "Sleeping: 100%|\u001b[34m████████████████████████████\u001b[0m| 45/45 [00:45<00:00,  1.00s/it]\u001b[0m\n",
      " 36%|███▌      | 305/853 [1:46:41<9:23:18, 61.68s/it]"
     ]
    },
    {
     "name": "stdout",
     "output_type": "stream",
     "text": [
      "Successfully processed: She tried to lift the heavy box herself. Now sleeping.\n"
     ]
    },
    {
     "name": "stderr",
     "output_type": "stream",
     "text": [
      "Sleeping: 100%|\u001b[34m████████████████████████████\u001b[0m| 45/45 [00:45<00:00,  1.00s/it]\u001b[0m\n",
      " 36%|███▌      | 306/853 [1:47:41<9:17:52, 61.19s/it]"
     ]
    },
    {
     "name": "stdout",
     "output_type": "stream",
     "text": [
      "Successfully processed: You can sit anywhere in this section. Now sleeping.\n"
     ]
    },
    {
     "name": "stderr",
     "output_type": "stream",
     "text": [
      "Sleeping: 100%|\u001b[34m████████████████████████████\u001b[0m| 45/45 [00:45<00:00,  1.00s/it]\u001b[0m\n",
      " 36%|███▌      | 307/853 [1:48:41<9:13:38, 60.84s/it]"
     ]
    },
    {
     "name": "stdout",
     "output_type": "stream",
     "text": [
      "Successfully processed: We will base our decision on the data. Now sleeping.\n"
     ]
    },
    {
     "name": "stderr",
     "output_type": "stream",
     "text": [
      "Sleeping: 100%|\u001b[34m████████████████████████████\u001b[0m| 45/45 [00:45<00:00,  1.01s/it]\u001b[0m\n",
      " 36%|███▌      | 308/853 [1:49:41<9:10:28, 60.60s/it]"
     ]
    },
    {
     "name": "stdout",
     "output_type": "stream",
     "text": [
      "Successfully processed: They hope to reach an agreement soon. Now sleeping.\n"
     ]
    },
    {
     "name": "stderr",
     "output_type": "stream",
     "text": [
      "Sleeping: 100%|\u001b[34m████████████████████████████\u001b[0m| 45/45 [00:45<00:00,  1.01s/it]\u001b[0m\n",
      " 36%|███▌      | 309/853 [1:50:41<9:08:19, 60.48s/it]"
     ]
    },
    {
     "name": "stdout",
     "output_type": "stream",
     "text": [
      "Successfully processed: He forgot to pay the electricity bill. Now sleeping.\n"
     ]
    },
    {
     "name": "stderr",
     "output_type": "stream",
     "text": [
      "Sleeping: 100%|\u001b[34m████████████████████████████\u001b[0m| 45/45 [00:45<00:00,  1.01s/it]\u001b[0m\n",
      " 36%|███▋      | 310/853 [1:51:41<9:06:42, 60.41s/it]"
     ]
    },
    {
     "name": "stdout",
     "output_type": "stream",
     "text": [
      "Successfully processed: She must accept the job offer today. Now sleeping.\n"
     ]
    },
    {
     "name": "stderr",
     "output_type": "stream",
     "text": [
      "Sleeping: 100%|\u001b[34m████████████████████████████\u001b[0m| 45/45 [00:45<00:00,  1.01s/it]\u001b[0m\n",
      " 36%|███▋      | 311/853 [1:52:41<9:05:26, 60.38s/it]"
     ]
    },
    {
     "name": "stdout",
     "output_type": "stream",
     "text": [
      "Successfully processed: I will take the dog for a walk. Now sleeping.\n"
     ]
    },
    {
     "name": "stderr",
     "output_type": "stream",
     "text": [
      "Sleeping: 100%|\u001b[34m████████████████████████████\u001b[0m| 45/45 [00:45<00:00,  1.01s/it]\u001b[0m\n",
      " 37%|███▋      | 312/853 [1:53:41<9:02:36, 60.18s/it]"
     ]
    },
    {
     "name": "stdout",
     "output_type": "stream",
     "text": [
      "Successfully processed: We should make an effort to save money. Now sleeping.\n"
     ]
    },
    {
     "name": "stderr",
     "output_type": "stream",
     "text": [
      "Sleeping: 100%|\u001b[34m████████████████████████████\u001b[0m| 45/45 [00:45<00:00,  1.01s/it]\u001b[0m\n",
      " 37%|███▋      | 313/853 [1:54:41<9:00:51, 60.10s/it]"
     ]
    },
    {
     "name": "stdout",
     "output_type": "stream",
     "text": [
      "No image generated using imagen-3.0-generate-001 with prompt: A group of excited friends decorating a living room with balloons and streamers, while a large calendar on the wall shows the upcoming weekend circled in red. in the style of a children's book illustration, Axel Scheffler style, thick brushstrokes, colored pencil texture, expressive characters, bold outlines, textured shading, pastel color palette\n",
      "Successfully processed: They will throw a party next weekend. Now sleeping.\n"
     ]
    },
    {
     "name": "stderr",
     "output_type": "stream",
     "text": [
      "Sleeping: 100%|\u001b[34m████████████████████████████\u001b[0m| 45/45 [00:45<00:00,  1.01s/it]\u001b[0m\n",
      " 37%|███▋      | 314/853 [1:55:44<9:08:00, 61.00s/it]"
     ]
    },
    {
     "name": "stdout",
     "output_type": "stream",
     "text": [
      "Successfully processed: He tried to catch the falling glass. Now sleeping.\n"
     ]
    },
    {
     "name": "stderr",
     "output_type": "stream",
     "text": [
      "Sleeping: 100%|\u001b[34m████████████████████████████\u001b[0m| 45/45 [00:45<00:00,  1.01s/it]\u001b[0m\n",
      " 37%|███▋      | 315/853 [1:56:46<9:08:45, 61.20s/it]"
     ]
    },
    {
     "name": "stdout",
     "output_type": "stream",
     "text": [
      "No image generated using imagen-3.0-generate-001 with prompt: A young woman standing at the edge of a futuristic cityscape, gazing in awe at towering skyscrapers, flying cars, and holographic billboards, her expression filled with excitement and hope. in the style of a children's book illustration, Axel Scheffler style, thick brushstrokes, colored pencil texture, expressive characters, bold outlines, textured shading, pastel color palette\n",
      "Successfully processed: She wants to live in a modern city. Now sleeping.\n"
     ]
    },
    {
     "name": "stderr",
     "output_type": "stream",
     "text": [
      "Sleeping: 100%|\u001b[34m████████████████████████████\u001b[0m| 45/45 [00:45<00:00,  1.01s/it]\u001b[0m\n",
      " 37%|███▋      | 316/853 [1:57:50<9:15:20, 62.05s/it]"
     ]
    },
    {
     "name": "stdout",
     "output_type": "stream",
     "text": [
      "No image generated using imagen-3.0-generate-001 with prompt: A hand reaching to turn off an old-fashioned radio on a bedside table, with a glowing clock showing late night time, and a sleeping figure visible in the background. in the style of a children's book illustration, Axel Scheffler style, thick brushstrokes, colored pencil texture, expressive characters, bold outlines, textured shading, pastel color palette\n",
      "Successfully processed: You must turn off the radio now. Now sleeping.\n"
     ]
    },
    {
     "name": "stderr",
     "output_type": "stream",
     "text": [
      "Sleeping: 100%|\u001b[34m████████████████████████████\u001b[0m| 45/45 [00:45<00:00,  1.01s/it]\u001b[0m\n",
      " 37%|███▋      | 317/853 [1:58:52<9:15:48, 62.22s/it]"
     ]
    },
    {
     "name": "stdout",
     "output_type": "stream",
     "text": [
      "Successfully processed: We will run a marathon for charity. Now sleeping.\n"
     ]
    },
    {
     "name": "stderr",
     "output_type": "stream",
     "text": [
      "Sleeping: 100%|\u001b[34m████████████████████████████\u001b[0m| 45/45 [00:45<00:00,  1.01s/it]\u001b[0m\n",
      " 37%|███▋      | 318/853 [1:59:53<9:09:06, 61.58s/it]"
     ]
    },
    {
     "name": "stdout",
     "output_type": "stream",
     "text": [
      "Successfully processed: They should remain calm during the interview. Now sleeping.\n"
     ]
    },
    {
     "name": "stderr",
     "output_type": "stream",
     "text": [
      "Sleeping: 100%|\u001b[34m████████████████████████████\u001b[0m| 45/45 [00:45<00:00,  1.01s/it]\u001b[0m\n",
      " 37%|███▋      | 319/853 [2:00:53<9:04:21, 61.16s/it]"
     ]
    },
    {
     "name": "stdout",
     "output_type": "stream",
     "text": [
      "Successfully processed: He likes to play golf on weekends. Now sleeping.\n"
     ]
    },
    {
     "name": "stderr",
     "output_type": "stream",
     "text": [
      "Sleeping: 100%|\u001b[34m████████████████████████████\u001b[0m| 45/45 [00:45<00:00,  1.01s/it]\u001b[0m\n",
      " 38%|███▊      | 320/853 [2:01:54<9:02:36, 61.08s/it]"
     ]
    },
    {
     "name": "stdout",
     "output_type": "stream",
     "text": [
      "No image generated using imagen-3.0-generate-001 with prompt: A woman gesturing 'wait' with her hand while a ringing telephone floats in the background, with a clock showing a later time hovering above. in the style of a children's book illustration, Axel Scheffler style, thick brushstrokes, colored pencil texture, expressive characters, bold outlines, textured shading, pastel color palette\n",
      "Successfully processed: She will answer the telephone call later. Now sleeping.\n"
     ]
    },
    {
     "name": "stderr",
     "output_type": "stream",
     "text": [
      "Sleeping: 100%|\u001b[34m████████████████████████████\u001b[0m| 45/45 [00:45<00:00,  1.01s/it]\u001b[0m\n",
      " 38%|███▊      | 321/853 [2:02:57<9:08:29, 61.86s/it]"
     ]
    },
    {
     "name": "stdout",
     "output_type": "stream",
     "text": [
      "Successfully processed: I must find my lost ticket soon. Now sleeping.\n"
     ]
    },
    {
     "name": "stderr",
     "output_type": "stream",
     "text": [
      "Sleeping: 100%|\u001b[34m████████████████████████████\u001b[0m| 45/45 [00:45<00:00,  1.01s/it]\u001b[0m\n",
      " 38%|███▊      | 322/853 [2:03:57<9:02:40, 61.32s/it]"
     ]
    },
    {
     "name": "stdout",
     "output_type": "stream",
     "text": [
      "No image generated using imagen-3.0-generate-001 with prompt: A group of diverse students enthusiastically gathering colorful materials for a school project, with a central figure holding up a key piece triumphantly. in the style of a children's book illustration, Axel Scheffler style, thick brushstrokes, colored pencil texture, expressive characters, bold outlines, textured shading, pastel color palette\n",
      "Successfully processed: We can use this material for the project. Now sleeping.\n"
     ]
    },
    {
     "name": "stderr",
     "output_type": "stream",
     "text": [
      "Sleeping: 100%|\u001b[34m████████████████████████████\u001b[0m| 45/45 [00:45<00:00,  1.01s/it]\u001b[0m\n",
      " 38%|███▊      | 323/853 [2:04:59<9:03:42, 61.55s/it]"
     ]
    },
    {
     "name": "stdout",
     "output_type": "stream",
     "text": [
      "Successfully processed: They will suffer if they lie again. Now sleeping.\n"
     ]
    },
    {
     "name": "stderr",
     "output_type": "stream",
     "text": [
      "Sleeping: 100%|\u001b[34m████████████████████████████\u001b[0m| 45/45 [00:45<00:00,  1.01s/it]\u001b[0m\n",
      " 38%|███▊      | 324/853 [2:06:00<9:00:17, 61.28s/it]"
     ]
    },
    {
     "name": "stdout",
     "output_type": "stream",
     "text": [
      "Successfully processed: He should have chosen a different colour. Now sleeping.\n"
     ]
    },
    {
     "name": "stderr",
     "output_type": "stream",
     "text": [
      "Sleeping: 100%|\u001b[34m████████████████████████████\u001b[0m| 45/45 [00:45<00:00,  1.01s/it]\u001b[0m\n",
      " 38%|███▊      | 325/853 [2:07:01<8:57:35, 61.09s/it]"
     ]
    },
    {
     "name": "stdout",
     "output_type": "stream",
     "text": [
      "No image generated using imagen-3.0-generate-001 with prompt: A young woman striking a dramatic pose on a Hollywood-style red carpet, with flashing cameras and a giant movie poster of herself in the background. in the style of a children's book illustration, Axel Scheffler style, thick brushstrokes, colored pencil texture, expressive characters, bold outlines, textured shading, pastel color palette\n",
      "Successfully processed: She wants to become a famous actress. Now sleeping.\n"
     ]
    },
    {
     "name": "stderr",
     "output_type": "stream",
     "text": [
      "Sleeping: 100%|\u001b[34m████████████████████████████\u001b[0m| 45/45 [00:45<00:00,  1.01s/it]\u001b[0m\n",
      " 38%|███▊      | 326/853 [2:08:05<9:04:11, 61.96s/it]"
     ]
    },
    {
     "name": "stdout",
     "output_type": "stream",
     "text": [
      "Successfully processed: You must stamp these envelopes before mailing. Now sleeping.\n"
     ]
    },
    {
     "name": "stderr",
     "output_type": "stream",
     "text": [
      "Sleeping: 100%|\u001b[34m████████████████████████████\u001b[0m| 45/45 [00:45<00:00,  1.01s/it]\u001b[0m\n",
      " 38%|███▊      | 327/853 [2:09:05<8:59:41, 61.56s/it]"
     ]
    },
    {
     "name": "stdout",
     "output_type": "stream",
     "text": [
      "Successfully processed: We will end the meeting at noon. Now sleeping.\n"
     ]
    },
    {
     "name": "stderr",
     "output_type": "stream",
     "text": [
      "Sleeping: 100%|\u001b[34m████████████████████████████\u001b[0m| 45/45 [00:45<00:00,  1.01s/it]\u001b[0m\n",
      " 38%|███▊      | 328/853 [2:10:06<8:55:48, 61.23s/it]"
     ]
    },
    {
     "name": "stdout",
     "output_type": "stream",
     "text": [
      "No image generated using imagen-3.0-generate-001 with prompt: A young person helping an elderly person cross a busy street, with onlookers smiling and nodding approvingly in the background. in the style of a children's book illustration, Axel Scheffler style, thick brushstrokes, colored pencil texture, expressive characters, bold outlines, textured shading, pastel color palette\n",
      "Successfully processed: They should give more respect to elders. Now sleeping.\n"
     ]
    },
    {
     "name": "stderr",
     "output_type": "stream",
     "text": [
      "Sleeping: 100%|\u001b[34m████████████████████████████\u001b[0m| 45/45 [00:45<00:00,  1.01s/it]\u001b[0m\n",
      " 39%|███▊      | 329/853 [2:11:09<8:58:31, 61.66s/it]"
     ]
    },
    {
     "name": "stdout",
     "output_type": "stream",
     "text": [
      "No image generated using imagen-3.0-generate-001 with prompt: A puzzled student scratching his head, standing in front of a giant multiple-choice question board with colorful answer options, reaching out tentatively to select one. in the style of a children's book illustration, Axel Scheffler style, thick brushstrokes, colored pencil texture, expressive characters, bold outlines, textured shading, pastel color palette\n",
      "Successfully processed: He tried to guess the correct answer. Now sleeping.\n"
     ]
    },
    {
     "name": "stderr",
     "output_type": "stream",
     "text": [
      "Sleeping: 100%|\u001b[34m████████████████████████████\u001b[0m| 45/45 [00:45<00:00,  1.01s/it]\u001b[0m\n",
      " 39%|███▊      | 330/853 [2:12:11<9:00:03, 61.96s/it]"
     ]
    },
    {
     "name": "stdout",
     "output_type": "stream",
     "text": [
      "Successfully processed: She will bother him until he agrees. Now sleeping.\n"
     ]
    },
    {
     "name": "stderr",
     "output_type": "stream",
     "text": [
      "Sleeping: 100%|\u001b[34m████████████████████████████\u001b[0m| 45/45 [00:45<00:00,  1.01s/it]\u001b[0m\n",
      " 39%|███▉      | 331/853 [2:13:12<8:55:03, 61.50s/it]"
     ]
    },
    {
     "name": "stdout",
     "output_type": "stream",
     "text": [
      "No image generated using imagen-3.0-generate-001 with prompt: A frustrated person tossing and turning in bed, covering their ears, while loud music and street noises seep through an open window. in the style of a children's book illustration, Axel Scheffler style, thick brushstrokes, colored pencil texture, expressive characters, bold outlines, textured shading, pastel color palette\n",
      "Successfully processed: I cannot sleep because of the noise. Now sleeping.\n"
     ]
    },
    {
     "name": "stderr",
     "output_type": "stream",
     "text": [
      "Sleeping: 100%|\u001b[34m████████████████████████████\u001b[0m| 45/45 [00:45<00:00,  1.01s/it]\u001b[0m\n",
      " 39%|███▉      | 332/853 [2:14:14<8:55:41, 61.69s/it]"
     ]
    },
    {
     "name": "stdout",
     "output_type": "stream",
     "text": [
      "Successfully processed: We must face our fears to succeed. Now sleeping.\n"
     ]
    },
    {
     "name": "stderr",
     "output_type": "stream",
     "text": [
      "Sleeping: 100%|\u001b[34m████████████████████████████\u001b[0m| 45/45 [00:45<00:00,  1.01s/it]\u001b[0m\n",
      " 39%|███▉      | 333/853 [2:15:14<8:50:06, 61.17s/it]"
     ]
    },
    {
     "name": "stdout",
     "output_type": "stream",
     "text": [
      "No image generated using imagen-3.0-generate-001 with prompt: A lively group of people walking towards a colorful house at night, with party decorations visible through the windows and music notes floating in the air. in the style of a children's book illustration, Axel Scheffler style, thick brushstrokes, colored pencil texture, expressive characters, bold outlines, textured shading, pastel color palette\n",
      "Successfully processed: They will come to the party tonight. Now sleeping.\n"
     ]
    },
    {
     "name": "stderr",
     "output_type": "stream",
     "text": [
      "Sleeping: 100%|\u001b[34m████████████████████████████\u001b[0m| 45/45 [00:45<00:00,  1.01s/it]\u001b[0m\n",
      " 39%|███▉      | 334/853 [2:16:17<8:53:30, 61.68s/it]"
     ]
    },
    {
     "name": "stdout",
     "output_type": "stream",
     "text": [
      "Successfully processed: He likes to collect rare coins as hobby. Now sleeping.\n"
     ]
    },
    {
     "name": "stderr",
     "output_type": "stream",
     "text": [
      "Sleeping: 100%|\u001b[34m████████████████████████████\u001b[0m| 45/45 [00:45<00:00,  1.01s/it]\u001b[0m\n",
      " 39%|███▉      | 335/853 [2:17:17<8:48:48, 61.25s/it]"
     ]
    },
    {
     "name": "stdout",
     "output_type": "stream",
     "text": [
      "Successfully processed: She should have realized her mistake earlier. Now sleeping.\n"
     ]
    },
    {
     "name": "stderr",
     "output_type": "stream",
     "text": [
      "Sleeping: 100%|\u001b[34m████████████████████████████\u001b[0m| 45/45 [00:45<00:00,  1.01s/it]\u001b[0m\n",
      " 39%|███▉      | 336/853 [2:18:17<8:44:58, 60.93s/it]"
     ]
    },
    {
     "name": "stdout",
     "output_type": "stream",
     "text": [
      "No image generated using imagen-3.0-generate-001 with prompt: A hand crushing a cigarette in front of a mirror, with the reflection showing a healthier, happier version of the person smiling back. in the style of a children's book illustration, Axel Scheffler style, thick brushstrokes, colored pencil texture, expressive characters, bold outlines, textured shading, pastel color palette\n",
      "Successfully processed: You must stop smoking for your health. Now sleeping.\n"
     ]
    },
    {
     "name": "stderr",
     "output_type": "stream",
     "text": [
      "Sleeping: 100%|\u001b[34m████████████████████████████\u001b[0m| 45/45 [00:45<00:00,  1.01s/it]\u001b[0m\n",
      " 40%|███▉      | 337/853 [2:19:20<8:50:00, 61.63s/it]"
     ]
    },
    {
     "name": "stdout",
     "output_type": "stream",
     "text": [
      "Successfully processed: We will miss the train if late. Now sleeping.\n"
     ]
    },
    {
     "name": "stderr",
     "output_type": "stream",
     "text": [
      "Sleeping: 100%|\u001b[34m████████████████████████████\u001b[0m| 45/45 [00:45<00:00,  1.01s/it]\u001b[0m\n",
      " 40%|███▉      | 338/853 [2:20:20<8:43:59, 61.05s/it]"
     ]
    },
    {
     "name": "stdout",
     "output_type": "stream",
     "text": [
      "No image generated using imagen-3.0-generate-001 with prompt: A group of excited people holding oversized lottery tickets, dreaming of stacks of money and luxurious items floating above their heads in thought bubbles. in the style of a children's book illustration, Axel Scheffler style, thick brushstrokes, colored pencil texture, expressive characters, bold outlines, textured shading, pastel color palette\n",
      "Successfully processed: They hope to win the lottery someday. Now sleeping.\n"
     ]
    },
    {
     "name": "stderr",
     "output_type": "stream",
     "text": [
      "Sleeping: 100%|\u001b[34m████████████████████████████\u001b[0m| 45/45 [00:45<00:00,  1.01s/it]\u001b[0m\n",
      " 40%|███▉      | 339/853 [2:21:22<8:46:15, 61.43s/it]"
     ]
    },
    {
     "name": "stdout",
     "output_type": "stream",
     "text": [
      "Successfully processed: He forgot to bring his license again. Now sleeping.\n"
     ]
    },
    {
     "name": "stderr",
     "output_type": "stream",
     "text": [
      "Sleeping: 100%|\u001b[34m████████████████████████████\u001b[0m| 45/45 [00:45<00:00,  1.01s/it]\u001b[0m\n",
      " 40%|███▉      | 340/853 [2:22:23<8:42:25, 61.10s/it]"
     ]
    },
    {
     "name": "stdout",
     "output_type": "stream",
     "text": [
      "No image generated using imagen-3.0-generate-001 with prompt: A young woman in a graduation cap and gown, standing on the edge of a university campus, looking towards a bright sun rising over the horizon, with a calendar showing \"Next Year\" in the foreground. in the style of a children's book illustration, Axel Scheffler style, thick brushstrokes, colored pencil texture, expressive characters, bold outlines, textured shading, pastel color palette\n",
      "Successfully processed: She will graduate from university next year. Now sleeping.\n"
     ]
    },
    {
     "name": "stderr",
     "output_type": "stream",
     "text": [
      "Sleeping: 100%|\u001b[34m████████████████████████████\u001b[0m| 45/45 [00:45<00:00,  1.01s/it]\u001b[0m\n",
      " 40%|███▉      | 341/853 [2:23:25<8:45:12, 61.55s/it]"
     ]
    },
    {
     "name": "stdout",
     "output_type": "stream",
     "text": [
      "Successfully processed: I must include everyone in this event. Now sleeping.\n"
     ]
    },
    {
     "name": "stderr",
     "output_type": "stream",
     "text": [
      "Sleeping: 100%|\u001b[34m████████████████████████████\u001b[0m| 45/45 [00:45<00:00,  1.01s/it]\u001b[0m\n",
      " 40%|████      | 342/853 [2:24:26<8:42:32, 61.36s/it]"
     ]
    },
    {
     "name": "stdout",
     "output_type": "stream",
     "text": [
      "No image generated using imagen-3.0-generate-001 with prompt: A farmer and family in a vibrant vegetable garden, selecting colorful fresh vegetables for a dinner basket, with a cozy kitchen visible through an open window in the background. in the style of a children's book illustration, Axel Scheffler style, thick brushstrokes, colored pencil texture, expressive characters, bold outlines, textured shading, pastel color palette\n",
      "Successfully processed: We should pick fresh vegetables for dinner. Now sleeping.\n"
     ]
    },
    {
     "name": "stderr",
     "output_type": "stream",
     "text": [
      "Sleeping: 100%|\u001b[34m████████████████████████████\u001b[0m| 45/45 [00:45<00:00,  1.01s/it]\u001b[0m\n",
      " 40%|████      | 343/853 [2:25:29<8:45:59, 61.88s/it]"
     ]
    },
    {
     "name": "stdout",
     "output_type": "stream",
     "text": [
      "No image generated using imagen-3.0-generate-001 with prompt: A family standing next to an old, rusty car with a \"For Sale\" sign, while a shiny new car gleams in the background, conveying a sense of anticipation and excitement. in the style of a children's book illustration, Axel Scheffler style, thick brushstrokes, colored pencil texture, expressive characters, bold outlines, textured shading, pastel color palette\n",
      "Successfully processed: They will sell their old car soon. Now sleeping.\n"
     ]
    },
    {
     "name": "stderr",
     "output_type": "stream",
     "text": [
      "Sleeping: 100%|\u001b[34m████████████████████████████\u001b[0m| 45/45 [00:45<00:00,  1.01s/it]\u001b[0m\n",
      " 40%|████      | 344/853 [2:26:31<8:45:37, 61.96s/it]"
     ]
    },
    {
     "name": "stdout",
     "output_type": "stream",
     "text": [
      "Successfully processed: He wants to marry his longtime girlfriend. Now sleeping.\n"
     ]
    },
    {
     "name": "stderr",
     "output_type": "stream",
     "text": [
      "Sleeping: 100%|\u001b[34m████████████████████████████\u001b[0m| 45/45 [00:45<00:00,  1.01s/it]\u001b[0m\n",
      " 40%|████      | 345/853 [2:27:31<8:39:31, 61.36s/it]"
     ]
    },
    {
     "name": "stdout",
     "output_type": "stream",
     "text": [
      "Successfully processed: She must choose between two job offers. Now sleeping.\n"
     ]
    },
    {
     "name": "stderr",
     "output_type": "stream",
     "text": [
      "Sleeping: 100%|\u001b[34m████████████████████████████\u001b[0m| 45/45 [00:45<00:00,  1.01s/it]\u001b[0m\n",
      " 41%|████      | 346/853 [2:28:31<8:34:38, 60.90s/it]"
     ]
    },
    {
     "name": "stdout",
     "output_type": "stream",
     "text": [
      "No image generated using imagen-3.0-generate-001 with prompt: A person holding a large glass of water, surrounded by multiple empty glasses, with a clock showing different times of day in the background. The person looks refreshed and energized, contrasting with a wilted plant nearby. in the style of a children's book illustration, Axel Scheffler style, thick brushstrokes, colored pencil texture, expressive characters, bold outlines, textured shading, pastel color palette\n",
      "Successfully processed: You should drink more water every day. Now sleeping.\n"
     ]
    },
    {
     "name": "stderr",
     "output_type": "stream",
     "text": [
      "Sleeping: 100%|\u001b[34m████████████████████████████\u001b[0m| 45/45 [00:45<00:00,  1.01s/it]\u001b[0m\n",
      " 41%|████      | 347/853 [2:29:35<8:41:04, 61.79s/it]"
     ]
    },
    {
     "name": "stdout",
     "output_type": "stream",
     "text": [
      "Successfully processed: We will base our research on this data. Now sleeping.\n"
     ]
    },
    {
     "name": "stderr",
     "output_type": "stream",
     "text": [
      "Sleeping: 100%|\u001b[34m████████████████████████████\u001b[0m| 45/45 [00:45<00:00,  1.01s/it]\u001b[0m\n",
      " 41%|████      | 348/853 [2:30:35<8:35:57, 61.30s/it]"
     ]
    },
    {
     "name": "stdout",
     "output_type": "stream",
     "text": [
      "No image generated using imagen-3.0-generate-001 with prompt: A group of excited treasure hunters digging on a beach, with a partially uncovered treasure chest visible in the sand and a map with an \"X\" nearby. in the style of a children's book illustration, Axel Scheffler style, thick brushstrokes, colored pencil texture, expressive characters, bold outlines, textured shading, pastel color palette\n",
      "Successfully processed: They hope to find buried treasure someday. Now sleeping.\n"
     ]
    },
    {
     "name": "stderr",
     "output_type": "stream",
     "text": [
      "Sleeping: 100%|\u001b[34m████████████████████████████\u001b[0m| 45/45 [00:45<00:00,  1.01s/it]\u001b[0m\n",
      " 41%|████      | 349/853 [2:31:38<8:39:51, 61.89s/it]"
     ]
    },
    {
     "name": "stdout",
     "output_type": "stream",
     "text": [
      "No image generated using imagen-3.0-generate-001 with prompt: A man lunging forward with outstretched arms, desperately reaching for a colorful plate falling through the air, his face intense with concentration and worry. in the style of a children's book illustration, Axel Scheffler style, thick brushstrokes, colored pencil texture, expressive characters, bold outlines, textured shading, pastel color palette\n",
      "Successfully processed: He tried to catch the falling plate. Now sleeping.\n"
     ]
    },
    {
     "name": "stderr",
     "output_type": "stream",
     "text": [
      "Sleeping: 100%|\u001b[34m████████████████████████████\u001b[0m| 45/45 [00:45<00:00,  1.01s/it]\u001b[0m\n",
      " 41%|████      | 350/853 [2:32:41<8:41:23, 62.19s/it]"
     ]
    },
    {
     "name": "stdout",
     "output_type": "stream",
     "text": [
      "No image generated using imagen-3.0-generate-001 with prompt: A young woman typing furiously on a laptop, surrounded by stacks of books, with her name in lights above a bookstore window in the background. in the style of a children's book illustration, Axel Scheffler style, thick brushstrokes, colored pencil texture, expressive characters, bold outlines, textured shading, pastel color palette\n",
      "Successfully processed: She wants to become a famous writer. Now sleeping.\n"
     ]
    },
    {
     "name": "stderr",
     "output_type": "stream",
     "text": [
      "Sleeping: 100%|\u001b[34m████████████████████████████\u001b[0m| 45/45 [00:45<00:00,  1.01s/it]\u001b[0m\n",
      " 41%|████      | 351/853 [2:33:44<8:41:30, 62.33s/it]"
     ]
    },
    {
     "name": "stdout",
     "output_type": "stream",
     "text": [
      "No image generated using imagen-3.0-generate-001 with prompt: A friendly tour guide gesturing towards iconic city landmarks, with a small group of excited tourists following, surrounded by a bustling urban environment. in the style of a children's book illustration, Axel Scheffler style, thick brushstrokes, colored pencil texture, expressive characters, bold outlines, textured shading, pastel color palette\n",
      "Successfully processed: I will show you around the city. Now sleeping.\n"
     ]
    },
    {
     "name": "stderr",
     "output_type": "stream",
     "text": [
      "Sleeping: 100%|\u001b[34m████████████████████████████\u001b[0m| 45/45 [00:45<00:00,  1.01s/it]\u001b[0m\n",
      " 41%|████▏     | 352/853 [2:34:46<8:40:04, 62.28s/it]"
     ]
    },
    {
     "name": "stdout",
     "output_type": "stream",
     "text": [
      "Successfully processed: We must handle this situation carefully. Now sleeping.\n"
     ]
    },
    {
     "name": "stderr",
     "output_type": "stream",
     "text": [
      "Sleeping: 100%|\u001b[34m████████████████████████████\u001b[0m| 45/45 [00:45<00:00,  1.01s/it]\u001b[0m\n",
      " 41%|████▏     | 353/853 [2:35:46<8:33:55, 61.67s/it]"
     ]
    },
    {
     "name": "stdout",
     "output_type": "stream",
     "text": [
      "Successfully processed: They should stop wasting time on this. Now sleeping.\n"
     ]
    },
    {
     "name": "stderr",
     "output_type": "stream",
     "text": [
      "Sleeping: 100%|\u001b[34m████████████████████████████\u001b[0m| 45/45 [00:45<00:00,  1.01s/it]\u001b[0m\n",
      " 42%|████▏     | 354/853 [2:36:47<8:30:03, 61.33s/it]"
     ]
    },
    {
     "name": "stdout",
     "output_type": "stream",
     "text": [
      "No image generated using imagen-3.0-generate-001 with prompt: A young man in pajamas playing an acoustic guitar in a dimly lit bedroom, with a glowing moon visible through the window, creating a peaceful nighttime atmosphere. in the style of a children's book illustration, Axel Scheffler style, thick brushstrokes, colored pencil texture, expressive characters, bold outlines, textured shading, pastel color palette\n",
      "Successfully processed: He likes to play the guitar at night. Now sleeping.\n"
     ]
    },
    {
     "name": "stderr",
     "output_type": "stream",
     "text": [
      "Sleeping: 100%|\u001b[34m████████████████████████████\u001b[0m| 45/45 [00:45<00:00,  1.01s/it]\u001b[0m\n",
      " 42%|████▏     | 355/853 [2:37:50<8:33:12, 61.83s/it]"
     ]
    },
    {
     "name": "stdout",
     "output_type": "stream",
     "text": [
      "Successfully processed: She will take a vacation next month. Now sleeping.\n"
     ]
    },
    {
     "name": "stderr",
     "output_type": "stream",
     "text": [
      "Sleeping: 100%|\u001b[34m████████████████████████████\u001b[0m| 45/45 [00:45<00:00,  1.01s/it]\u001b[0m\n",
      " 42%|████▏     | 356/853 [2:38:50<8:28:08, 61.34s/it]"
     ]
    },
    {
     "name": "stdout",
     "output_type": "stream",
     "text": [
      "Successfully processed: You must wear a helmet while cycling. Now sleeping.\n"
     ]
    },
    {
     "name": "stderr",
     "output_type": "stream",
     "text": [
      "Sleeping: 100%|\u001b[34m████████████████████████████\u001b[0m| 45/45 [00:45<00:00,  1.01s/it]\u001b[0m\n",
      " 42%|████▏     | 357/853 [2:39:50<8:23:51, 60.95s/it]"
     ]
    },
    {
     "name": "stdout",
     "output_type": "stream",
     "text": [
      "Successfully processed: We should cut unnecessary expenses this year. Now sleeping.\n"
     ]
    },
    {
     "name": "stderr",
     "output_type": "stream",
     "text": [
      "Sleeping: 100%|\u001b[34m████████████████████████████\u001b[0m| 45/45 [00:45<00:00,  1.01s/it]\u001b[0m\n",
      " 42%|████▏     | 358/853 [2:40:50<8:20:25, 60.66s/it]"
     ]
    },
    {
     "name": "stdout",
     "output_type": "stream",
     "text": [
      "Successfully processed: They will produce a new product soon. Now sleeping.\n"
     ]
    },
    {
     "name": "stderr",
     "output_type": "stream",
     "text": [
      "Sleeping: 100%|\u001b[34m████████████████████████████\u001b[0m| 45/45 [00:45<00:00,  1.01s/it]\u001b[0m\n",
      " 42%|████▏     | 359/853 [2:41:51<8:19:52, 60.71s/it]"
     ]
    },
    {
     "name": "stdout",
     "output_type": "stream",
     "text": [
      "Successfully processed: He forgot to turn off the stove. Now sleeping.\n"
     ]
    },
    {
     "name": "stderr",
     "output_type": "stream",
     "text": [
      "Sleeping: 100%|\u001b[34m████████████████████████████\u001b[0m| 45/45 [00:45<00:00,  1.01s/it]\u001b[0m\n",
      " 42%|████▏     | 360/853 [2:42:51<8:16:44, 60.46s/it]"
     ]
    },
    {
     "name": "stdout",
     "output_type": "stream",
     "text": [
      "No image generated using imagen-3.0-generate-001 with prompt: A woman facing a giant mirror, her reflection showing consequences of her actions like job loss or broken relationships, with a determined expression as she reaches out to touch the mirror's surface. in the style of a children's book illustration, Axel Scheffler style, thick brushstrokes, colored pencil texture, expressive characters, bold outlines, textured shading, pastel color palette\n",
      "Successfully processed: She must accept the consequences of her actions. Now sleeping.\n"
     ]
    },
    {
     "name": "stderr",
     "output_type": "stream",
     "text": [
      "Sleeping: 100%|\u001b[34m████████████████████████████\u001b[0m| 45/45 [00:45<00:00,  1.01s/it]\u001b[0m\n",
      " 42%|████▏     | 361/853 [2:43:53<8:20:33, 61.04s/it]"
     ]
    },
    {
     "name": "stdout",
     "output_type": "stream",
     "text": [
      "No image generated using imagen-3.0-generate-001 with prompt: A frustrated student scratching their head while staring at a blackboard filled with complex mathematical equations and symbols, with a large question mark hovering above. in the style of a children's book illustration, Axel Scheffler style, thick brushstrokes, colored pencil texture, expressive characters, bold outlines, textured shading, pastel color palette\n",
      "Successfully processed: I cannot understand this complex math problem. Now sleeping.\n"
     ]
    },
    {
     "name": "stderr",
     "output_type": "stream",
     "text": [
      "Sleeping: 100%|\u001b[34m████████████████████████████\u001b[0m| 45/45 [00:45<00:00,  1.01s/it]\u001b[0m\n",
      " 42%|████▏     | 362/853 [2:44:57<8:25:36, 61.79s/it]"
     ]
    },
    {
     "name": "stdout",
     "output_type": "stream",
     "text": [
      "No image generated using imagen-3.0-generate-001 with prompt: A family secretly decorating a living room with balloons and a \"Surprise!\" banner, while a confused but excited mom peeks through a slightly open door. in the style of a children's book illustration, Axel Scheffler style, thick brushstrokes, colored pencil texture, expressive characters, bold outlines, textured shading, pastel color palette\n",
      "Successfully processed: We will throw a surprise party for mom. Now sleeping.\n"
     ]
    },
    {
     "name": "stderr",
     "output_type": "stream",
     "text": [
      "Sleeping: 100%|\u001b[34m████████████████████████████\u001b[0m| 45/45 [00:45<00:00,  1.01s/it]\u001b[0m\n",
      " 43%|████▎     | 363/853 [2:46:01<8:29:29, 62.39s/it]"
     ]
    },
    {
     "name": "stdout",
     "output_type": "stream",
     "text": [
      "Successfully processed: They should give more attention to details. Now sleeping.\n"
     ]
    },
    {
     "name": "stderr",
     "output_type": "stream",
     "text": [
      "Sleeping: 100%|\u001b[34m████████████████████████████\u001b[0m| 45/45 [00:45<00:00,  1.01s/it]\u001b[0m\n",
      " 43%|████▎     | 364/853 [2:47:01<8:23:04, 61.73s/it]"
     ]
    },
    {
     "name": "stdout",
     "output_type": "stream",
     "text": [
      "Successfully processed: He tried to lift the heavy furniture alone. Now sleeping.\n"
     ]
    },
    {
     "name": "stderr",
     "output_type": "stream",
     "text": [
      "Sleeping: 100%|\u001b[34m████████████████████████████\u001b[0m| 45/45 [00:45<00:00,  1.01s/it]\u001b[0m\n",
      " 43%|████▎     | 365/853 [2:48:01<8:18:01, 61.23s/it]"
     ]
    },
    {
     "name": "stdout",
     "output_type": "stream",
     "text": [
      "Successfully processed: She wants to live in a quiet neighborhood. Now sleeping.\n"
     ]
    },
    {
     "name": "stderr",
     "output_type": "stream",
     "text": [
      "Sleeping: 100%|\u001b[34m████████████████████████████\u001b[0m| 45/45 [00:45<00:00,  1.01s/it]\u001b[0m\n",
      " 43%|████▎     | 366/853 [2:49:01<8:15:00, 60.99s/it]"
     ]
    },
    {
     "name": "stdout",
     "output_type": "stream",
     "text": [
      "Successfully processed: You must answer all questions honestly. Now sleeping.\n"
     ]
    },
    {
     "name": "stderr",
     "output_type": "stream",
     "text": [
      "Sleeping: 100%|\u001b[34m████████████████████████████\u001b[0m| 45/45 [00:45<00:00,  1.01s/it]\u001b[0m\n",
      " 43%|████▎     | 367/853 [2:50:01<8:11:32, 60.68s/it]"
     ]
    },
    {
     "name": "stdout",
     "output_type": "stream",
     "text": [
      "Successfully processed: We will run the company efficiently. Now sleeping.\n"
     ]
    },
    {
     "name": "stderr",
     "output_type": "stream",
     "text": [
      "Sleeping: 100%|\u001b[34m████████████████████████████\u001b[0m| 45/45 [00:45<00:00,  1.01s/it]\u001b[0m\n",
      " 43%|████▎     | 368/853 [2:51:01<8:09:05, 60.51s/it]"
     ]
    },
    {
     "name": "stdout",
     "output_type": "stream",
     "text": [
      "Successfully processed: They hope to reach their goals soon. Now sleeping.\n"
     ]
    },
    {
     "name": "stderr",
     "output_type": "stream",
     "text": [
      "Sleeping: 100%|\u001b[34m████████████████████████████\u001b[0m| 45/45 [00:45<00:00,  1.01s/it]\u001b[0m\n",
      " 43%|████▎     | 369/853 [2:52:01<8:07:04, 60.38s/it]"
     ]
    },
    {
     "name": "stdout",
     "output_type": "stream",
     "text": [
      "Successfully processed: He should have chosen a different career path. Now sleeping.\n"
     ]
    },
    {
     "name": "stderr",
     "output_type": "stream",
     "text": [
      "Sleeping: 100%|\u001b[34m████████████████████████████\u001b[0m| 45/45 [00:45<00:00,  1.01s/it]\u001b[0m\n",
      " 43%|████▎     | 370/853 [2:53:02<8:05:23, 60.30s/it]"
     ]
    },
    {
     "name": "stdout",
     "output_type": "stream",
     "text": [
      "No image generated using imagen-3.0-generate-001 with prompt: A young woman kneeling on a sandy beach, carefully picking up colorful seashells and placing them into a decorative bucket, with a serene ocean backdrop and gentle waves lapping at the shore. in the style of a children's book illustration, Axel Scheffler style, thick brushstrokes, colored pencil texture, expressive characters, bold outlines, textured shading, pastel color palette\n",
      "Successfully processed: She likes to collect seashells at the beach. Now sleeping.\n"
     ]
    },
    {
     "name": "stderr",
     "output_type": "stream",
     "text": [
      "Sleeping: 100%|\u001b[34m████████████████████████████\u001b[0m| 45/45 [00:45<00:00,  1.01s/it]\u001b[0m\n",
      " 43%|████▎     | 371/853 [2:54:04<8:10:22, 61.04s/it]"
     ]
    },
    {
     "name": "stdout",
     "output_type": "stream",
     "text": [
      "Successfully processed: I will remind you about the meeting tomorrow. Now sleeping.\n"
     ]
    },
    {
     "name": "stderr",
     "output_type": "stream",
     "text": [
      "Sleeping: 100%|\u001b[34m████████████████████████████\u001b[0m| 45/45 [00:45<00:00,  1.01s/it]\u001b[0m\n",
      " 44%|████▎     | 372/853 [2:55:04<8:06:53, 60.73s/it]"
     ]
    },
    {
     "name": "stdout",
     "output_type": "stream",
     "text": [
      "Successfully processed: I wonder if the customer will recognize me. Now sleeping.\n"
     ]
    },
    {
     "name": "stderr",
     "output_type": "stream",
     "text": [
      "Sleeping: 100%|\u001b[34m████████████████████████████\u001b[0m| 45/45 [00:45<00:00,  1.01s/it]\u001b[0m\n",
      " 44%|████▎     | 373/853 [2:56:05<8:05:29, 60.69s/it]"
     ]
    },
    {
     "name": "stdout",
     "output_type": "stream",
     "text": [
      "No image generated using imagen-3.0-generate-001 with prompt: Two people with exaggerated ears pressed against a transparent wall, overhearing animated speech bubbles from silhouettes on the other side. in the style of a children's book illustration, Axel Scheffler style, thick brushstrokes, colored pencil texture, expressive characters, bold outlines, textured shading, pastel color palette\n",
      "Successfully processed: They heard the conversation through the thin wall. Now sleeping.\n"
     ]
    },
    {
     "name": "stderr",
     "output_type": "stream",
     "text": [
      "Sleeping: 100%|\u001b[34m████████████████████████████\u001b[0m| 45/45 [00:45<00:00,  1.01s/it]\u001b[0m\n",
      " 44%|████▍     | 374/853 [2:57:09<8:12:07, 61.64s/it]"
     ]
    },
    {
     "name": "stdout",
     "output_type": "stream",
     "text": [
      "No image generated using imagen-3.0-generate-001 with prompt: A young woman confidently singing on a stage, surrounded by a diverse audience with encouraging expressions, spotlight illuminating her triumphant pose. in the style of a children's book illustration, Axel Scheffler style, thick brushstrokes, colored pencil texture, expressive characters, bold outlines, textured shading, pastel color palette\n",
      "Successfully processed: She learned to sing in front of everybody. Now sleeping.\n"
     ]
    },
    {
     "name": "stderr",
     "output_type": "stream",
     "text": [
      "Sleeping: 100%|\u001b[34m████████████████████████████\u001b[0m| 45/45 [00:45<00:00,  1.01s/it]\u001b[0m\n",
      " 44%|████▍     | 375/853 [2:58:11<8:12:46, 61.85s/it]"
     ]
    },
    {
     "name": "stdout",
     "output_type": "stream",
     "text": [
      "Successfully processed: He might eat the fish if it's fresh. Now sleeping.\n"
     ]
    },
    {
     "name": "stderr",
     "output_type": "stream",
     "text": [
      "Sleeping: 100%|\u001b[34m████████████████████████████\u001b[0m| 45/45 [00:45<00:00,  1.01s/it]\u001b[0m\n",
      " 44%|████▍     | 376/853 [2:59:12<8:08:29, 61.45s/it]"
     ]
    },
    {
     "name": "stdout",
     "output_type": "stream",
     "text": [
      "Successfully processed: The minister claimed to support the community's interests. Now sleeping.\n"
     ]
    },
    {
     "name": "stderr",
     "output_type": "stream",
     "text": [
      "Sleeping: 100%|\u001b[34m████████████████████████████\u001b[0m| 45/45 [00:45<00:00,  1.01s/it]\u001b[0m\n",
      " 44%|████▍     | 377/853 [3:00:12<8:04:30, 61.07s/it]"
     ]
    },
    {
     "name": "stdout",
     "output_type": "stream",
     "text": [
      "Successfully processed: We could help organize the sale next week. Now sleeping.\n"
     ]
    },
    {
     "name": "stderr",
     "output_type": "stream",
     "text": [
      "Sleeping: 100%|\u001b[34m████████████████████████████\u001b[0m| 45/45 [00:45<00:00,  1.01s/it]\u001b[0m\n",
      " 44%|████▍     | 378/853 [3:01:12<8:01:11, 60.78s/it]"
     ]
    },
    {
     "name": "stdout",
     "output_type": "stream",
     "text": [
      "Successfully processed: The dead body was found behind the club. Now sleeping.\n"
     ]
    },
    {
     "name": "stderr",
     "output_type": "stream",
     "text": [
      "Sleeping: 100%|\u001b[34m████████████████████████████\u001b[0m| 45/45 [00:45<00:00,  1.01s/it]\u001b[0m\n",
      " 44%|████▍     | 379/853 [3:02:12<7:59:17, 60.67s/it]"
     ]
    },
    {
     "name": "stdout",
     "output_type": "stream",
     "text": [
      "Successfully processed: She tends to forget people's names, it's embarrassing. Now sleeping.\n"
     ]
    },
    {
     "name": "stderr",
     "output_type": "stream",
     "text": [
      "Sleeping: 100%|\u001b[34m████████████████████████████\u001b[0m| 45/45 [00:45<00:00,  1.01s/it]\u001b[0m\n",
      " 45%|████▍     | 380/853 [3:03:13<7:57:27, 60.57s/it]"
     ]
    },
    {
     "name": "stdout",
     "output_type": "stream",
     "text": [
      "No image generated using imagen-3.0-generate-001 with prompt: A makeup artist demonstrating techniques on a student's face, surrounded by colorful cosmetics and brushes, with other eager learners watching attentively in the background. in the style of a children's book illustration, Axel Scheffler style, thick brushstrokes, colored pencil texture, expressive characters, bold outlines, textured shading, pastel color palette\n",
      "Successfully processed: They will teach us how to apply makeup. Now sleeping.\n"
     ]
    },
    {
     "name": "stderr",
     "output_type": "stream",
     "text": [
      "Sleeping: 100%|\u001b[34m████████████████████████████\u001b[0m| 45/45 [00:45<00:00,  1.01s/it]\u001b[0m\n",
      " 45%|████▍     | 381/853 [3:04:15<8:00:29, 61.08s/it]"
     ]
    },
    {
     "name": "stdout",
     "output_type": "stream",
     "text": [
      "No image generated using imagen-3.0-generate-001 with prompt: A man struggling to balance a miniature Earth on his shoulders, his face strained with effort, standing alone on a barren landscape under a stormy sky. in the style of a children's book illustration, Axel Scheffler style, thick brushstrokes, colored pencil texture, expressive characters, bold outlines, textured shading, pastel color palette\n",
      "Successfully processed: He tried to carry the weight of the world. Now sleeping.\n"
     ]
    },
    {
     "name": "stderr",
     "output_type": "stream",
     "text": [
      "Sleeping: 100%|\u001b[34m████████████████████████████\u001b[0m| 45/45 [00:45<00:00,  1.01s/it]\u001b[0m\n",
      " 45%|████▍     | 382/853 [3:05:18<8:04:08, 61.67s/it]"
     ]
    },
    {
     "name": "stdout",
     "output_type": "stream",
     "text": [
      "Successfully processed: The group suggested we move to another location. Now sleeping.\n"
     ]
    },
    {
     "name": "stderr",
     "output_type": "stream",
     "text": [
      "Sleeping: 100%|\u001b[34m████████████████████████████\u001b[0m| 45/45 [00:45<00:00,  1.01s/it]\u001b[0m\n",
      " 45%|████▍     | 383/853 [3:06:18<7:59:39, 61.23s/it]"
     ]
    },
    {
     "name": "stdout",
     "output_type": "stream",
     "text": [
      "No image generated using imagen-3.0-generate-001 with prompt: A person playfully squeezing through a tiny, cartoonishly small hole in a wall, with onlookers placing bets and cheering, while another person looks skeptical and points at the hole. in the style of a children's book illustration, Axel Scheffler style, thick brushstrokes, colored pencil texture, expressive characters, bold outlines, textured shading, pastel color palette\n",
      "Successfully processed: I bet you can't fit through that hole. Now sleeping.\n"
     ]
    },
    {
     "name": "stderr",
     "output_type": "stream",
     "text": [
      "Sleeping: 100%|\u001b[34m████████████████████████████\u001b[0m| 45/45 [00:45<00:00,  1.01s/it]\u001b[0m\n",
      " 45%|████▌     | 384/853 [3:07:21<8:02:50, 61.77s/it]"
     ]
    },
    {
     "name": "stdout",
     "output_type": "stream",
     "text": [
      "Successfully processed: The company offered a reasonable salary for the position. Now sleeping.\n"
     ]
    },
    {
     "name": "stderr",
     "output_type": "stream",
     "text": [
      "Sleeping: 100%|\u001b[34m████████████████████████████\u001b[0m| 45/45 [00:45<00:00,  1.01s/it]\u001b[0m\n",
      " 45%|████▌     | 385/853 [3:08:22<7:58:31, 61.35s/it]"
     ]
    },
    {
     "name": "stdout",
     "output_type": "stream",
     "text": [
      "Successfully processed: She wants to read more books this year. Now sleeping.\n"
     ]
    },
    {
     "name": "stderr",
     "output_type": "stream",
     "text": [
      "Sleeping: 100%|\u001b[34m████████████████████████████\u001b[0m| 45/45 [00:45<00:00,  1.01s/it]\u001b[0m\n",
      " 45%|████▌     | 386/853 [3:09:22<7:54:47, 61.00s/it]"
     ]
    },
    {
     "name": "stdout",
     "output_type": "stream",
     "text": [
      "Successfully processed: They hope to receive a response by tomorrow. Now sleeping.\n"
     ]
    },
    {
     "name": "stderr",
     "output_type": "stream",
     "text": [
      "Sleeping: 100%|\u001b[34m████████████████████████████\u001b[0m| 45/45 [00:45<00:00,  1.01s/it]\u001b[0m\n",
      " 45%|████▌     | 387/853 [3:10:22<7:51:47, 60.75s/it]"
     ]
    },
    {
     "name": "stdout",
     "output_type": "stream",
     "text": [
      "Successfully processed: He couldn't remember where he left his keys. Now sleeping.\n"
     ]
    },
    {
     "name": "stderr",
     "output_type": "stream",
     "text": [
      "Sleeping: 100%|\u001b[34m████████████████████████████\u001b[0m| 45/45 [00:45<00:00,  1.01s/it]\u001b[0m\n",
      " 45%|████▌     | 388/853 [3:11:23<7:50:47, 60.75s/it]"
     ]
    },
    {
     "name": "stdout",
     "output_type": "stream",
     "text": [
      "Successfully processed: The animal started to drag itself across the field. Now sleeping.\n"
     ]
    },
    {
     "name": "stderr",
     "output_type": "stream",
     "text": [
      "Sleeping: 100%|\u001b[34m████████████████████████████\u001b[0m| 45/45 [00:45<00:00,  1.01s/it]\u001b[0m\n",
      " 46%|████▌     | 389/853 [3:12:23<7:49:07, 60.66s/it]"
     ]
    },
    {
     "name": "stdout",
     "output_type": "stream",
     "text": [
      "Successfully processed: She will call you as soon as possible. Now sleeping.\n"
     ]
    },
    {
     "name": "stderr",
     "output_type": "stream",
     "text": [
      "Sleeping: 100%|\u001b[34m████████████████████████████\u001b[0m| 45/45 [00:45<00:00,  1.01s/it]\u001b[0m\n",
      " 46%|████▌     | 390/853 [3:13:23<7:46:33, 60.46s/it]"
     ]
    },
    {
     "name": "stdout",
     "output_type": "stream",
     "text": [
      "Successfully processed: We shared our food with the homeless guy. Now sleeping.\n"
     ]
    },
    {
     "name": "stderr",
     "output_type": "stream",
     "text": [
      "Sleeping: 100%|\u001b[34m████████████████████████████\u001b[0m| 45/45 [00:45<00:00,  1.01s/it]\u001b[0m\n",
      " 46%|████▌     | 391/853 [3:14:23<7:44:23, 60.31s/it]"
     ]
    },
    {
     "name": "stdout",
     "output_type": "stream",
     "text": [
      "Successfully processed: They plan to shut down the factory next month. Now sleeping.\n"
     ]
    },
    {
     "name": "stderr",
     "output_type": "stream",
     "text": [
      "Sleeping: 100%|\u001b[34m████████████████████████████\u001b[0m| 45/45 [00:45<00:00,  1.01s/it]\u001b[0m\n",
      " 46%|████▌     | 392/853 [3:15:23<7:42:44, 60.23s/it]"
     ]
    },
    {
     "name": "stdout",
     "output_type": "stream",
     "text": [
      "Successfully processed: He wished to join the army years ago. Now sleeping.\n"
     ]
    },
    {
     "name": "stderr",
     "output_type": "stream",
     "text": [
      "Sleeping: 100%|\u001b[34m████████████████████████████\u001b[0m| 45/45 [00:45<00:00,  1.01s/it]\u001b[0m\n",
      " 46%|████▌     | 393/853 [3:16:23<7:40:29, 60.06s/it]"
     ]
    },
    {
     "name": "stdout",
     "output_type": "stream",
     "text": [
      "Successfully processed: She tried to rid herself of negative thoughts. Now sleeping.\n"
     ]
    },
    {
     "name": "stderr",
     "output_type": "stream",
     "text": [
      "Sleeping: 100%|\u001b[34m████████████████████████████\u001b[0m| 45/45 [00:45<00:00,  1.01s/it]\u001b[0m\n",
      " 46%|████▌     | 394/853 [3:17:23<7:39:39, 60.09s/it]"
     ]
    },
    {
     "name": "stdout",
     "output_type": "stream",
     "text": [
      "Successfully processed: They walked through the park every evening. Now sleeping.\n"
     ]
    },
    {
     "name": "stderr",
     "output_type": "stream",
     "text": [
      "Sleeping: 100%|\u001b[34m████████████████████████████\u001b[0m| 45/45 [00:45<00:00,  1.01s/it]\u001b[0m\n",
      " 46%|████▋     | 395/853 [3:18:23<7:38:23, 60.05s/it]"
     ]
    },
    {
     "name": "stdout",
     "output_type": "stream",
     "text": [
      "Successfully processed: The video showed how to prepare a meal. Now sleeping.\n"
     ]
    },
    {
     "name": "stderr",
     "output_type": "stream",
     "text": [
      "Sleeping: 100%|\u001b[34m████████████████████████████\u001b[0m| 45/45 [00:45<00:00,  1.01s/it]\u001b[0m\n",
      " 46%|████▋     | 396/853 [3:19:23<7:37:41, 60.09s/it]"
     ]
    },
    {
     "name": "stdout",
     "output_type": "stream",
     "text": [
      "Warning: Image already exists for 'He opened the letter with shaking hands', skipping generation\n",
      "Warning: Image already exists for 'She excused herself from the boring conversation', skipping generation\n",
      "Warning: Image already exists for 'They told us the story of their journey', skipping generation\n",
      "No image generated using imagen-3.0-generate-001 with prompt: A father anxiously scanning faces at a busy airport arrival gate, his eyes lighting up as he spots his daughter emerging from the crowd with her luggage. in the style of a children's book illustration, Axel Scheffler style, thick brushstrokes, colored pencil texture, expressive characters, bold outlines, textured shading, pastel color palette\n",
      "Successfully processed: He expected to see his daughter at the airport. Now sleeping.\n"
     ]
    },
    {
     "name": "stderr",
     "output_type": "stream",
     "text": [
      "Sleeping: 100%|\u001b[34m████████████████████████████\u001b[0m| 45/45 [00:45<00:00,  1.01s/it]\u001b[0m\n",
      " 47%|████▋     | 400/853 [3:20:27<4:02:48, 32.16s/it]"
     ]
    },
    {
     "name": "stdout",
     "output_type": "stream",
     "text": [
      "No image generated using imagen-3.0-generate-001 with prompt: A group of friends with wide-eyed expressions and open mouths, watching a giant movie screen displaying vibrant, fantastical scenes, surrounded by floating stars and exclamation marks. in the style of a children's book illustration, Axel Scheffler style, thick brushstrokes, colored pencil texture, expressive characters, bold outlines, textured shading, pastel color palette\n",
      "Successfully processed: We thought the film was absolutely amazing. Now sleeping.\n"
     ]
    },
    {
     "name": "stderr",
     "output_type": "stream",
     "text": [
      "Sleeping: 100%|\u001b[34m████████████████████████████\u001b[0m| 45/45 [00:45<00:00,  1.01s/it]\u001b[0m\n",
      " 47%|████▋     | 401/853 [3:21:31<4:46:36, 38.05s/it]"
     ]
    },
    {
     "name": "stdout",
     "output_type": "stream",
     "text": [
      "Successfully processed: She watched the sunset from her balcony. Now sleeping.\n"
     ]
    },
    {
     "name": "stderr",
     "output_type": "stream",
     "text": [
      "Sleeping: 100%|\u001b[34m████████████████████████████\u001b[0m| 45/45 [00:45<00:00,  1.01s/it]\u001b[0m\n",
      " 47%|████▋     | 402/853 [3:22:32<5:21:38, 42.79s/it]"
     ]
    },
    {
     "name": "stdout",
     "output_type": "stream",
     "text": [
      "Successfully processed: He hurt himself while fixing the roof. Now sleeping.\n"
     ]
    },
    {
     "name": "stderr",
     "output_type": "stream",
     "text": [
      "Sleeping: 100%|\u001b[34m████████████████████████████\u001b[0m| 45/45 [00:45<00:00,  1.01s/it]\u001b[0m\n",
      " 47%|████▋     | 403/853 [3:23:31<5:50:25, 46.72s/it]"
     ]
    },
    {
     "name": "stdout",
     "output_type": "stream",
     "text": [
      "Successfully processed: They carried the injured person to safety. Now sleeping.\n"
     ]
    },
    {
     "name": "stderr",
     "output_type": "stream",
     "text": [
      "Sleeping: 100%|\u001b[34m████████████████████████████\u001b[0m| 45/45 [00:45<00:00,  1.01s/it]\u001b[0m\n",
      " 47%|████▋     | 404/853 [3:24:32<6:14:15, 50.01s/it]"
     ]
    },
    {
     "name": "stdout",
     "output_type": "stream",
     "text": [
      "Successfully processed: She thanked them for their kind gesture. Now sleeping.\n"
     ]
    },
    {
     "name": "stderr",
     "output_type": "stream",
     "text": [
      "Sleeping: 100%|\u001b[34m████████████████████████████\u001b[0m| 45/45 [00:45<00:00,  1.01s/it]\u001b[0m\n",
      " 47%|████▋     | 405/853 [3:25:32<6:33:16, 52.67s/it]"
     ]
    },
    {
     "name": "stdout",
     "output_type": "stream",
     "text": [
      "Successfully processed: The waiter served us with a smile. Now sleeping.\n"
     ]
    },
    {
     "name": "stderr",
     "output_type": "stream",
     "text": [
      "Sleeping: 100%|\u001b[34m████████████████████████████\u001b[0m| 45/45 [00:45<00:00,  1.01s/it]\u001b[0m\n",
      " 48%|████▊     | 406/853 [3:26:32<6:47:53, 54.75s/it]"
     ]
    },
    {
     "name": "stdout",
     "output_type": "stream",
     "text": [
      "Successfully processed: They allowed us to enter the building. Now sleeping.\n"
     ]
    },
    {
     "name": "stderr",
     "output_type": "stream",
     "text": [
      "Sleeping: 100%|\u001b[34m████████████████████████████\u001b[0m| 45/45 [00:45<00:00,  1.01s/it]\u001b[0m\n",
      " 48%|████▊     | 407/853 [3:27:32<6:57:42, 56.19s/it]"
     ]
    },
    {
     "name": "stdout",
     "output_type": "stream",
     "text": [
      "Successfully processed: The trip will cost us a pretty penny. Now sleeping.\n"
     ]
    },
    {
     "name": "stderr",
     "output_type": "stream",
     "text": [
      "Sleeping: 100%|\u001b[34m████████████████████████████\u001b[0m| 45/45 [00:45<00:00,  1.01s/it]\u001b[0m\n",
      " 48%|████▊     | 408/853 [3:28:32<7:05:05, 57.32s/it]"
     ]
    },
    {
     "name": "stdout",
     "output_type": "stream",
     "text": [
      "Successfully processed: We shared our concerns with the panel. Now sleeping.\n"
     ]
    },
    {
     "name": "stderr",
     "output_type": "stream",
     "text": [
      "Sleeping: 100%|\u001b[34m████████████████████████████\u001b[0m| 45/45 [00:45<00:00,  1.01s/it]\u001b[0m\n",
      " 48%|████▊     | 409/853 [3:29:32<7:10:23, 58.16s/it]"
     ]
    },
    {
     "name": "stdout",
     "output_type": "stream",
     "text": [
      "No image generated using imagen-3.0-generate-001 with prompt: A young man looking surprised at his smartphone screen, with a ghostly image of an older man (his father) appearing above the phone, sending a glowing message. in the style of a children's book illustration, Axel Scheffler style, thick brushstrokes, colored pencil texture, expressive characters, bold outlines, textured shading, pastel color palette\n",
      "Successfully processed: He received a message from his father. Now sleeping.\n"
     ]
    },
    {
     "name": "stderr",
     "output_type": "stream",
     "text": [
      "Sleeping: 100%|\u001b[34m████████████████████████████\u001b[0m| 45/45 [00:45<00:00,  1.01s/it]\u001b[0m\n",
      " 48%|████▊     | 410/853 [3:30:36<7:21:26, 59.79s/it]"
     ]
    },
    {
     "name": "stdout",
     "output_type": "stream",
     "text": [
      "Successfully processed: They joined the protest against high taxes. Now sleeping.\n"
     ]
    },
    {
     "name": "stderr",
     "output_type": "stream",
     "text": [
      "Sleeping: 100%|\u001b[34m████████████████████████████\u001b[0m| 45/45 [00:45<00:00,  1.00s/it]\u001b[0m\n",
      " 48%|████▊     | 411/853 [3:31:36<7:20:55, 59.85s/it]"
     ]
    },
    {
     "name": "stdout",
     "output_type": "stream",
     "text": [
      "Successfully processed: She wanted to get rid of old furniture. Now sleeping.\n"
     ]
    },
    {
     "name": "stderr",
     "output_type": "stream",
     "text": [
      "Sleeping: 100%|\u001b[34m████████████████████████████\u001b[0m| 45/45 [00:45<00:00,  1.00s/it]\u001b[0m\n",
      " 48%|████▊     | 412/853 [3:32:36<7:19:43, 59.83s/it]"
     ]
    },
    {
     "name": "stdout",
     "output_type": "stream",
     "text": [
      "Successfully processed: We walked to work to save money. Now sleeping.\n"
     ]
    },
    {
     "name": "stderr",
     "output_type": "stream",
     "text": [
      "Sleeping: 100%|\u001b[34m████████████████████████████\u001b[0m| 45/45 [00:45<00:00,  1.01s/it]\u001b[0m\n",
      " 48%|████▊     | 413/853 [3:33:36<7:18:51, 59.84s/it]"
     ]
    },
    {
     "name": "stdout",
     "output_type": "stream",
     "text": [
      "Successfully processed: They supported the new environmental laws. Now sleeping.\n"
     ]
    },
    {
     "name": "stderr",
     "output_type": "stream",
     "text": [
      "Sleeping: 100%|\u001b[34m████████████████████████████\u001b[0m| 45/45 [00:45<00:00,  1.01s/it]\u001b[0m\n",
      " 49%|████▊     | 414/853 [3:34:36<7:18:13, 59.89s/it]"
     ]
    },
    {
     "name": "stdout",
     "output_type": "stream",
     "text": [
      "Successfully processed: He wondered if the rumor was true. Now sleeping.\n"
     ]
    },
    {
     "name": "stderr",
     "output_type": "stream",
     "text": [
      "Sleeping: 100%|\u001b[34m████████████████████████████\u001b[0m| 45/45 [00:45<00:00,  1.01s/it]\u001b[0m\n",
      " 49%|████▊     | 415/853 [3:35:37<7:21:06, 60.43s/it]"
     ]
    },
    {
     "name": "stdout",
     "output_type": "stream",
     "text": [
      "Successfully processed: The accident occurred on a busy street. Now sleeping.\n"
     ]
    },
    {
     "name": "stderr",
     "output_type": "stream",
     "text": [
      "Sleeping: 100%|\u001b[34m████████████████████████████\u001b[0m| 45/45 [00:45<00:00,  1.01s/it]\u001b[0m\n",
      " 49%|████▉     | 416/853 [3:36:37<7:18:59, 60.27s/it]"
     ]
    },
    {
     "name": "stdout",
     "output_type": "stream",
     "text": [
      "No image generated using imagen-3.0-generate-001 with prompt: A tired but determined woman at multiple jobs: office desk with computer, waitress uniform, and cleaning supplies nearby. Family photo on desk shows smiling children and spouse. in the style of a children's book illustration, Axel Scheffler style, thick brushstrokes, colored pencil texture, expressive characters, bold outlines, textured shading, pastel color palette\n",
      "Successfully processed: She works hard to provide for her family. Now sleeping.\n"
     ]
    },
    {
     "name": "stderr",
     "output_type": "stream",
     "text": [
      "Sleeping: 100%|\u001b[34m████████████████████████████\u001b[0m| 45/45 [00:45<00:00,  1.01s/it]\u001b[0m\n",
      " 49%|████▉     | 417/853 [3:37:40<7:23:38, 61.05s/it]"
     ]
    },
    {
     "name": "stdout",
     "output_type": "stream",
     "text": [
      "Successfully processed: Many soldiers died defending their country. Now sleeping.\n"
     ]
    },
    {
     "name": "stderr",
     "output_type": "stream",
     "text": [
      "Sleeping: 100%|\u001b[34m████████████████████████████\u001b[0m| 45/45 [00:45<00:00,  1.00s/it]\u001b[0m\n",
      " 49%|████▉     | 418/853 [3:38:40<7:20:08, 60.71s/it]"
     ]
    },
    {
     "name": "stdout",
     "output_type": "stream",
     "text": [
      "Successfully processed: He wrote a letter to his local minister. Now sleeping.\n"
     ]
    },
    {
     "name": "stderr",
     "output_type": "stream",
     "text": [
      "Sleeping: 100%|\u001b[34m████████████████████████████\u001b[0m| 45/45 [00:45<00:00,  1.00s/it]\u001b[0m\n",
      " 49%|████▉     | 419/853 [3:39:40<7:16:34, 60.36s/it]"
     ]
    },
    {
     "name": "stdout",
     "output_type": "stream",
     "text": [
      "No image generated using imagen-3.0-generate-001 with prompt: A happy family lounging on a sunny beach, surrounded by vacation essentials like beach towels, umbrellas, and sandcastles, with a sparkling blue sea in the background. in the style of a children's book illustration, Axel Scheffler style, thick brushstrokes, colored pencil texture, expressive characters, bold outlines, textured shading, pastel color palette\n",
      "Successfully processed: We enjoyed our vacation by the sea. Now sleeping.\n"
     ]
    },
    {
     "name": "stderr",
     "output_type": "stream",
     "text": [
      "Sleeping: 100%|\u001b[34m████████████████████████████\u001b[0m| 45/45 [00:45<00:00,  1.01s/it]\u001b[0m\n",
      " 49%|████▉     | 420/853 [3:40:42<7:19:37, 60.92s/it]"
     ]
    },
    {
     "name": "stdout",
     "output_type": "stream",
     "text": [
      "Successfully processed: She tends to mention her ex in conversations. Now sleeping.\n"
     ]
    },
    {
     "name": "stderr",
     "output_type": "stream",
     "text": [
      "Sleeping: 100%|\u001b[34m████████████████████████████\u001b[0m| 45/45 [00:45<00:00,  1.01s/it]\u001b[0m\n",
      " 49%|████▉     | 421/853 [3:41:42<7:16:47, 60.67s/it]"
     ]
    },
    {
     "name": "stdout",
     "output_type": "stream",
     "text": [
      "Successfully processed: It doesn't matter what others think of you. Now sleeping.\n"
     ]
    },
    {
     "name": "stderr",
     "output_type": "stream",
     "text": [
      "Sleeping: 100%|\u001b[34m████████████████████████████\u001b[0m| 45/45 [00:45<00:00,  1.01s/it]\u001b[0m\n",
      " 49%|████▉     | 422/853 [3:42:43<7:15:50, 60.67s/it]"
     ]
    },
    {
     "name": "stdout",
     "output_type": "stream",
     "text": [
      "Successfully processed: He tried to dry his clothes in the sun. Now sleeping.\n"
     ]
    },
    {
     "name": "stderr",
     "output_type": "stream",
     "text": [
      "Sleeping: 100%|\u001b[34m████████████████████████████\u001b[0m| 45/45 [00:45<00:00,  1.00s/it]\u001b[0m\n",
      " 50%|████▉     | 423/853 [3:43:43<7:14:22, 60.61s/it]"
     ]
    },
    {
     "name": "stdout",
     "output_type": "stream",
     "text": [
      "No image generated using imagen-3.0-generate-001 with prompt: A family cheerfully tossing bread to eager ducks in a sunny park, with a picturesque pond and lush trees in the background. in the style of a children's book illustration, Axel Scheffler style, thick brushstrokes, colored pencil texture, expressive characters, bold outlines, textured shading, pastel color palette\n",
      "Successfully processed: We went to the park to feed ducks. Now sleeping.\n"
     ]
    },
    {
     "name": "stderr",
     "output_type": "stream",
     "text": [
      "Sleeping: 100%|\u001b[34m████████████████████████████\u001b[0m| 45/45 [00:45<00:00,  1.01s/it]\u001b[0m\n",
      " 50%|████▉     | 424/853 [3:44:46<7:17:56, 61.25s/it]"
     ]
    },
    {
     "name": "stdout",
     "output_type": "stream",
     "text": [
      "Successfully processed: She let her hair grow long and wild. Now sleeping.\n"
     ]
    },
    {
     "name": "stderr",
     "output_type": "stream",
     "text": [
      "Sleeping: 100%|\u001b[34m████████████████████████████\u001b[0m| 45/45 [00:45<00:00,  1.01s/it]\u001b[0m\n",
      " 50%|████▉     | 425/853 [3:45:46<7:14:46, 60.95s/it]"
     ]
    },
    {
     "name": "stdout",
     "output_type": "stream",
     "text": [
      "Successfully processed: They plan to expand their business next year. Now sleeping.\n"
     ]
    },
    {
     "name": "stderr",
     "output_type": "stream",
     "text": [
      "Sleeping: 100%|\u001b[34m████████████████████████████\u001b[0m| 45/45 [00:45<00:00,  1.01s/it]\u001b[0m\n",
      " 50%|████▉     | 426/853 [3:46:46<7:12:05, 60.72s/it]"
     ]
    },
    {
     "name": "stdout",
     "output_type": "stream",
     "text": [
      "Successfully processed: The job requires excellent communication skills. Now sleeping.\n"
     ]
    },
    {
     "name": "stderr",
     "output_type": "stream",
     "text": [
      "Sleeping: 100%|\u001b[34m████████████████████████████\u001b[0m| 45/45 [00:45<00:00,  1.01s/it]\u001b[0m\n",
      " 50%|█████     | 427/853 [3:47:46<7:09:39, 60.51s/it]"
     ]
    },
    {
     "name": "stdout",
     "output_type": "stream",
     "text": [
      "Successfully processed: He phoned his mother to say hello. Now sleeping.\n"
     ]
    },
    {
     "name": "stderr",
     "output_type": "stream",
     "text": [
      "Sleeping: 100%|\u001b[34m████████████████████████████\u001b[0m| 45/45 [00:45<00:00,  1.00s/it]\u001b[0m\n",
      " 50%|█████     | 428/853 [3:48:46<7:07:47, 60.39s/it]"
     ]
    },
    {
     "name": "stdout",
     "output_type": "stream",
     "text": [
      "No image generated using imagen-3.0-generate-001 with prompt: A group of young people gently assisting elderly individuals across a bustling city street, with visible traffic lights and crosswalk, showcasing kindness and community spirit. in the style of a children's book illustration, Axel Scheffler style, thick brushstrokes, colored pencil texture, expressive characters, bold outlines, textured shading, pastel color palette\n",
      "Successfully processed: We helped the elderly cross the street. Now sleeping.\n"
     ]
    },
    {
     "name": "stderr",
     "output_type": "stream",
     "text": [
      "Sleeping: 100%|\u001b[34m████████████████████████████\u001b[0m| 45/45 [00:45<00:00,  1.01s/it]\u001b[0m\n",
      " 50%|█████     | 429/853 [3:49:50<7:12:54, 61.26s/it]"
     ]
    },
    {
     "name": "stdout",
     "output_type": "stream",
     "text": [
      "Successfully processed: She checked her account balance every day. Now sleeping.\n"
     ]
    },
    {
     "name": "stderr",
     "output_type": "stream",
     "text": [
      "Sleeping: 100%|\u001b[34m████████████████████████████\u001b[0m| 45/45 [00:45<00:00,  1.01s/it]\u001b[0m\n",
      " 50%|█████     | 430/853 [3:50:50<7:10:51, 61.12s/it]"
     ]
    },
    {
     "name": "stdout",
     "output_type": "stream",
     "text": [
      "No image generated using imagen-3.0-generate-001 with prompt: A frustrated person reluctantly handing over control to a confident teammate, with two diverging paths visible in the background, one well-worn and the other untrodden. in the style of a children's book illustration, Axel Scheffler style, thick brushstrokes, colored pencil texture, expressive characters, bold outlines, textured shading, pastel color palette\n",
      "Successfully processed: I suppose we could try it your way. Now sleeping.\n"
     ]
    },
    {
     "name": "stderr",
     "output_type": "stream",
     "text": [
      "Sleeping: 100%|\u001b[34m████████████████████████████\u001b[0m| 45/45 [00:45<00:00,  1.01s/it]\u001b[0m\n",
      " 51%|█████     | 431/853 [3:51:53<7:13:19, 61.61s/it]"
     ]
    },
    {
     "name": "stdout",
     "output_type": "stream",
     "text": [
      "Successfully processed: They tried to sort out their differences. Now sleeping.\n"
     ]
    },
    {
     "name": "stderr",
     "output_type": "stream",
     "text": [
      "Sleeping: 100%|\u001b[34m████████████████████████████\u001b[0m| 45/45 [00:45<00:00,  1.00s/it]\u001b[0m\n",
      " 51%|█████     | 432/853 [3:52:53<7:09:19, 61.19s/it]"
     ]
    },
    {
     "name": "stdout",
     "output_type": "stream",
     "text": [
      "Successfully processed: He wants to lead the team to victory. Now sleeping.\n"
     ]
    },
    {
     "name": "stderr",
     "output_type": "stream",
     "text": [
      "Sleeping: 100%|\u001b[34m████████████████████████████\u001b[0m| 45/45 [00:45<00:00,  1.00s/it]\u001b[0m\n",
      " 51%|█████     | 433/853 [3:53:54<7:06:45, 60.96s/it]"
     ]
    },
    {
     "name": "stdout",
     "output_type": "stream",
     "text": [
      "No image generated using imagen-3.0-generate-001 with prompt: A professor in a lab coat pointing to a giant floating DNA strand and planets, with eager students seated at desks, a clock showing the time as just before midnight. in the style of a children's book illustration, Axel Scheffler style, thick brushstrokes, colored pencil texture, expressive characters, bold outlines, textured shading, pastel color palette\n",
      "Successfully processed: The professor will teach us about science tomorrow. Now sleeping.\n"
     ]
    },
    {
     "name": "stderr",
     "output_type": "stream",
     "text": [
      "Sleeping: 100%|\u001b[34m████████████████████████████\u001b[0m| 45/45 [00:45<00:00,  1.00s/it]\u001b[0m\n",
      " 51%|█████     | 434/853 [3:54:56<7:07:32, 61.22s/it]"
     ]
    },
    {
     "name": "stdout",
     "output_type": "stream",
     "text": [
      "Successfully processed: It might rain later, bring an umbrella. Now sleeping.\n"
     ]
    },
    {
     "name": "stderr",
     "output_type": "stream",
     "text": [
      "Sleeping: 100%|\u001b[34m████████████████████████████\u001b[0m| 45/45 [00:45<00:00,  1.01s/it]\u001b[0m\n",
      " 51%|█████     | 435/853 [3:55:57<7:06:48, 61.26s/it]"
     ]
    },
    {
     "name": "stdout",
     "output_type": "stream",
     "text": [
      "Successfully processed: He coughed loudly during the quiet moment. Now sleeping.\n"
     ]
    },
    {
     "name": "stderr",
     "output_type": "stream",
     "text": [
      "Sleeping: 100%|\u001b[34m████████████████████████████\u001b[0m| 45/45 [00:45<00:00,  1.00s/it]\u001b[0m\n",
      " 51%|█████     | 436/853 [3:56:58<7:04:02, 61.01s/it]"
     ]
    },
    {
     "name": "stdout",
     "output_type": "stream",
     "text": [
      "No image generated using imagen-3.0-generate-001 with prompt: A family carrying boxes into a new, vibrant house with a \"SOLD\" sign in the front yard, surrounded by moving trucks and a calendar showing last month's date. in the style of a children's book illustration, Axel Scheffler style, thick brushstrokes, colored pencil texture, expressive characters, bold outlines, textured shading, pastel color palette\n",
      "Successfully processed: We moved to a new house last month. Now sleeping.\n"
     ]
    },
    {
     "name": "stderr",
     "output_type": "stream",
     "text": [
      "Sleeping: 100%|\u001b[34m████████████████████████████\u001b[0m| 45/45 [00:45<00:00,  1.01s/it]\u001b[0m\n",
      " 51%|█████     | 437/853 [3:58:00<7:05:59, 61.44s/it]"
     ]
    },
    {
     "name": "stdout",
     "output_type": "stream",
     "text": [
      "Successfully processed: She believes in ghosts and supernatural phenomena. Now sleeping.\n"
     ]
    },
    {
     "name": "stderr",
     "output_type": "stream",
     "text": [
      "Sleeping: 100%|\u001b[34m████████████████████████████\u001b[0m| 45/45 [00:45<00:00,  1.01s/it]\u001b[0m\n",
      " 51%|█████▏    | 438/853 [3:59:00<7:02:32, 61.09s/it]"
     ]
    },
    {
     "name": "stdout",
     "output_type": "stream",
     "text": [
      "No image generated using imagen-3.0-generate-001 with prompt: A young girl singing softly to a smiling baby in a crib, with musical notes floating around them and a crescent moon visible through a nearby window. in the style of a children's book illustration, Axel Scheffler style, thick brushstrokes, colored pencil texture, expressive characters, bold outlines, textured shading, pastel color palette\n",
      "Successfully processed: I sang a lullaby to my baby sister. Now sleeping.\n"
     ]
    },
    {
     "name": "stderr",
     "output_type": "stream",
     "text": [
      "Sleeping: 100%|\u001b[34m████████████████████████████\u001b[0m| 45/45 [00:45<00:00,  1.01s/it]\u001b[0m\n",
      " 51%|█████▏    | 439/853 [4:00:03<7:04:17, 61.49s/it]"
     ]
    },
    {
     "name": "stdout",
     "output_type": "stream",
     "text": [
      "No image generated using imagen-3.0-generate-001 with prompt: A giant shining key labeled \"Honesty\" unlocking a treasure chest filled with golden coins and jewels, surrounded by smiling people giving thumbs up. in the style of a children's book illustration, Axel Scheffler style, thick brushstrokes, colored pencil texture, expressive characters, bold outlines, textured shading, pastel color palette\n",
      "Successfully processed: They say that honesty is the best policy. Now sleeping.\n"
     ]
    },
    {
     "name": "stderr",
     "output_type": "stream",
     "text": [
      "Sleeping: 100%|\u001b[34m████████████████████████████\u001b[0m| 45/45 [00:45<00:00,  1.01s/it]\u001b[0m\n",
      " 52%|█████▏    | 440/853 [4:01:07<7:08:35, 62.27s/it]"
     ]
    },
    {
     "name": "stdout",
     "output_type": "stream",
     "text": [
      "No image generated using imagen-3.0-generate-001 with prompt: A diverse group of students gathered around a globe in a colorful classroom, each student wearing traditional clothing from different cultures, with textbooks and cultural artifacts scattered on desks. in the style of a children's book illustration, Axel Scheffler style, thick brushstrokes, colored pencil texture, expressive characters, bold outlines, textured shading, pastel color palette\n",
      "Successfully processed: We learned about various cultures in school. Now sleeping.\n"
     ]
    },
    {
     "name": "stderr",
     "output_type": "stream",
     "text": [
      "Sleeping: 100%|\u001b[34m████████████████████████████\u001b[0m| 45/45 [00:45<00:00,  1.01s/it]\u001b[0m\n",
      " 52%|█████▏    | 441/853 [4:02:10<7:08:56, 62.47s/it]"
     ]
    },
    {
     "name": "stdout",
     "output_type": "stream",
     "text": [
      "Successfully processed: He recognized her voice on the phone. Now sleeping.\n"
     ]
    },
    {
     "name": "stderr",
     "output_type": "stream",
     "text": [
      "Sleeping: 100%|\u001b[34m████████████████████████████\u001b[0m| 45/45 [00:45<00:00,  1.01s/it]\u001b[0m\n",
      " 52%|█████▏    | 442/853 [4:03:10<7:03:55, 61.89s/it]"
     ]
    },
    {
     "name": "stdout",
     "output_type": "stream",
     "text": [
      "Successfully processed: They applied for a loan at the bank. Now sleeping.\n"
     ]
    },
    {
     "name": "stderr",
     "output_type": "stream",
     "text": [
      "Sleeping: 100%|\u001b[34m████████████████████████████\u001b[0m| 45/45 [00:45<00:00,  1.01s/it]\u001b[0m\n",
      " 52%|█████▏    | 443/853 [4:04:10<6:59:29, 61.39s/it]"
     ]
    },
    {
     "name": "stdout",
     "output_type": "stream",
     "text": [
      "No image generated using imagen-3.0-generate-001 with prompt: A mother in pajamas sitting on a child's bed, reading an oversized, colorful storybook to two attentive children, with a warm nightlight casting a cozy glow in the background. in the style of a children's book illustration, Axel Scheffler style, thick brushstrokes, colored pencil texture, expressive characters, bold outlines, textured shading, pastel color palette\n",
      "Successfully processed: She reads bedtime stories to her children. Now sleeping.\n"
     ]
    },
    {
     "name": "stderr",
     "output_type": "stream",
     "text": [
      "Sleeping: 100%|\u001b[34m████████████████████████████\u001b[0m| 45/45 [00:45<00:00,  1.01s/it]\u001b[0m\n",
      " 52%|█████▏    | 444/853 [4:05:13<7:01:15, 61.80s/it]"
     ]
    },
    {
     "name": "stdout",
     "output_type": "stream",
     "text": [
      "Successfully processed: We called for help when the car broke down. Now sleeping.\n"
     ]
    },
    {
     "name": "stderr",
     "output_type": "stream",
     "text": [
      "Sleeping: 100%|\u001b[34m████████████████████████████\u001b[0m| 45/45 [00:45<00:00,  1.01s/it]\u001b[0m\n",
      " 52%|█████▏    | 445/853 [4:06:14<6:57:29, 61.40s/it]"
     ]
    },
    {
     "name": "stdout",
     "output_type": "stream",
     "text": [
      "Successfully processed: He covered his face with his hands. Now sleeping.\n"
     ]
    },
    {
     "name": "stderr",
     "output_type": "stream",
     "text": [
      "Sleeping: 100%|\u001b[34m████████████████████████████\u001b[0m| 45/45 [00:45<00:00,  1.01s/it]\u001b[0m\n",
      " 52%|█████▏    | 446/853 [4:07:14<6:53:40, 60.98s/it]"
     ]
    },
    {
     "name": "stdout",
     "output_type": "stream",
     "text": [
      "No image generated using imagen-3.0-generate-001 with prompt: A triumphant student surrounded by colorful paper airplanes soaring through the air, holding a test paper marked with an A+, with a vibrant rainbow arching overhead. in the style of a children's book illustration, Axel Scheffler style, thick brushstrokes, colored pencil texture, expressive characters, bold outlines, textured shading, pastel color palette\n",
      "Successfully processed: They passed the test with flying colors. Now sleeping.\n"
     ]
    },
    {
     "name": "stderr",
     "output_type": "stream",
     "text": [
      "Sleeping: 100%|\u001b[34m████████████████████████████\u001b[0m| 45/45 [00:45<00:00,  1.01s/it]\u001b[0m\n",
      " 52%|█████▏    | 447/853 [4:08:17<6:57:40, 61.73s/it]"
     ]
    },
    {
     "name": "stdout",
     "output_type": "stream",
     "text": [
      "Successfully processed: She set the table for dinner guests. Now sleeping.\n"
     ]
    },
    {
     "name": "stderr",
     "output_type": "stream",
     "text": [
      "Sleeping: 100%|\u001b[34m████████████████████████████\u001b[0m| 45/45 [00:45<00:00,  1.01s/it]\u001b[0m\n",
      " 53%|█████▎    | 448/853 [4:09:17<6:53:35, 61.27s/it]"
     ]
    },
    {
     "name": "stdout",
     "output_type": "stream",
     "text": [
      "Successfully processed: We offered to help with the cleanup. Now sleeping.\n"
     ]
    },
    {
     "name": "stderr",
     "output_type": "stream",
     "text": [
      "Sleeping: 100%|\u001b[34m████████████████████████████\u001b[0m| 45/45 [00:45<00:00,  1.01s/it]\u001b[0m\n",
      " 53%|█████▎    | 449/853 [4:10:17<6:50:13, 60.92s/it]"
     ]
    },
    {
     "name": "stdout",
     "output_type": "stream",
     "text": [
      "Successfully processed: He hates waking up early in the morning. Now sleeping.\n"
     ]
    },
    {
     "name": "stderr",
     "output_type": "stream",
     "text": [
      "Sleeping: 100%|\u001b[34m████████████████████████████\u001b[0m| 45/45 [00:45<00:00,  1.01s/it]\u001b[0m\n",
      " 53%|█████▎    | 450/853 [4:11:18<6:48:02, 60.75s/it]"
     ]
    },
    {
     "name": "stdout",
     "output_type": "stream",
     "text": [
      "Successfully processed: The assassin tried to kill the president. Now sleeping.\n"
     ]
    },
    {
     "name": "stderr",
     "output_type": "stream",
     "text": [
      "Sleeping: 100%|\u001b[34m████████████████████████████\u001b[0m| 45/45 [00:45<00:00,  1.01s/it]\u001b[0m\n",
      " 53%|█████▎    | 451/853 [4:12:18<6:46:00, 60.60s/it]"
     ]
    },
    {
     "name": "stdout",
     "output_type": "stream",
     "text": [
      "No image generated using imagen-3.0-generate-001 with prompt: A person struggling to button up a colorful shirt that's clearly too small, with a frustrated expression and old clothes falling out of an overflowing closet in the background. in the style of a children's book illustration, Axel Scheffler style, thick brushstrokes, colored pencil texture, expressive characters, bold outlines, textured shading, pastel color palette\n",
      "Successfully processed: This shirt doesn't fit me anymore. Now sleeping.\n"
     ]
    },
    {
     "name": "stderr",
     "output_type": "stream",
     "text": [
      "Sleeping: 100%|\u001b[34m████████████████████████████\u001b[0m| 45/45 [00:45<00:00,  1.01s/it]\u001b[0m\n",
      " 53%|█████▎    | 452/853 [4:13:22<6:51:11, 61.52s/it]"
     ]
    },
    {
     "name": "stdout",
     "output_type": "stream",
     "text": [
      "Successfully processed: They suggested we take a different route. Now sleeping.\n"
     ]
    },
    {
     "name": "stderr",
     "output_type": "stream",
     "text": [
      "Sleeping: 100%|\u001b[34m████████████████████████████\u001b[0m| 45/45 [00:45<00:00,  1.01s/it]\u001b[0m\n",
      " 53%|█████▎    | 453/853 [4:14:22<6:48:01, 61.20s/it]"
     ]
    },
    {
     "name": "stdout",
     "output_type": "stream",
     "text": [
      "Successfully processed: I can't remember where I parked my car. Now sleeping.\n"
     ]
    },
    {
     "name": "stderr",
     "output_type": "stream",
     "text": [
      "Sleeping: 100%|\u001b[34m████████████████████████████\u001b[0m| 45/45 [00:45<00:00,  1.01s/it]\u001b[0m\n",
      " 53%|█████▎    | 454/853 [4:15:22<6:44:18, 60.80s/it]"
     ]
    },
    {
     "name": "stdout",
     "output_type": "stream",
     "text": [
      "Successfully processed: She claimed to be an expert in the field. Now sleeping.\n"
     ]
    },
    {
     "name": "stderr",
     "output_type": "stream",
     "text": [
      "Sleeping: 100%|\u001b[34m████████████████████████████\u001b[0m| 45/45 [00:45<00:00,  1.01s/it]\u001b[0m\n",
      " 53%|█████▎    | 455/853 [4:16:22<6:42:03, 60.61s/it]"
     ]
    },
    {
     "name": "stdout",
     "output_type": "stream",
     "text": [
      "No image generated using imagen-3.0-generate-001 with prompt: A clock face transforming into a butterfly, with hands spinning rapidly, surrounded by people nodding in agreement and pointing towards the metamorphosing timepiece. in the style of a children's book illustration, Axel Scheffler style, thick brushstrokes, colored pencil texture, expressive characters, bold outlines, textured shading, pastel color palette\n",
      "Successfully processed: We reckon it's time for a change. Now sleeping.\n"
     ]
    },
    {
     "name": "stderr",
     "output_type": "stream",
     "text": [
      "Sleeping: 100%|\u001b[34m████████████████████████████\u001b[0m| 45/45 [00:45<00:00,  1.01s/it]\u001b[0m\n",
      " 53%|█████▎    | 456/853 [4:17:24<6:44:11, 61.09s/it]"
     ]
    },
    {
     "name": "stdout",
     "output_type": "stream",
     "text": [
      "Successfully processed: He changed his mind at the last moment. Now sleeping.\n"
     ]
    },
    {
     "name": "stderr",
     "output_type": "stream",
     "text": [
      "Sleeping: 100%|\u001b[34m████████████████████████████\u001b[0m| 45/45 [00:45<00:00,  1.01s/it]\u001b[0m\n",
      " 54%|█████▎    | 457/853 [4:18:25<6:42:13, 60.94s/it]"
     ]
    },
    {
     "name": "stdout",
     "output_type": "stream",
     "text": [
      "Successfully processed: I bet she won't show up tonight. Now sleeping.\n"
     ]
    },
    {
     "name": "stderr",
     "output_type": "stream",
     "text": [
      "Sleeping: 100%|\u001b[34m████████████████████████████\u001b[0m| 45/45 [00:45<00:00,  1.01s/it]\u001b[0m\n",
      " 54%|█████▎    | 458/853 [4:19:25<6:39:36, 60.70s/it]"
     ]
    },
    {
     "name": "stdout",
     "output_type": "stream",
     "text": [
      "Successfully processed: They prepared a feast for the wedding. Now sleeping.\n"
     ]
    },
    {
     "name": "stderr",
     "output_type": "stream",
     "text": [
      "Sleeping: 100%|\u001b[34m████████████████████████████\u001b[0m| 45/45 [00:45<00:00,  1.01s/it]\u001b[0m\n",
      " 54%|█████▍    | 459/853 [4:20:25<6:37:06, 60.47s/it]"
     ]
    },
    {
     "name": "stdout",
     "output_type": "stream",
     "text": [
      "No image generated using imagen-3.0-generate-001 with prompt: A group of friends forming a circle, extending their hands towards the center with crossed fingers, radiating hopeful expressions and positive energy. in the style of a children's book illustration, Axel Scheffler style, thick brushstrokes, colored pencil texture, expressive characters, bold outlines, textured shading, pastel color palette\n",
      "Successfully processed: We wish you the best of luck. Now sleeping.\n"
     ]
    },
    {
     "name": "stderr",
     "output_type": "stream",
     "text": [
      "Sleeping: 100%|\u001b[34m████████████████████████████\u001b[0m| 45/45 [00:45<00:00,  1.01s/it]\u001b[0m\n",
      " 54%|█████▍    | 460/853 [4:21:27<6:39:14, 60.95s/it]"
     ]
    },
    {
     "name": "stdout",
     "output_type": "stream",
     "text": [
      "Warning: Image already exists for 'The meeting will start in five minutes', skipping generation\n",
      "Successfully processed: He dove into the pool to cool off. Now sleeping.\n"
     ]
    },
    {
     "name": "stderr",
     "output_type": "stream",
     "text": [
      "Sleeping: 100%|\u001b[34m████████████████████████████\u001b[0m| 45/45 [00:45<00:00,  1.01s/it]\u001b[0m\n",
      " 54%|█████▍    | 462/853 [4:22:28<5:04:43, 46.76s/it]"
     ]
    },
    {
     "name": "stdout",
     "output_type": "stream",
     "text": [
      "Warning: Image already exists for 'She opened her heart to new possibilities', skipping generation\n",
      "Successfully processed: We excused ourselves from the boring party. Now sleeping.\n"
     ]
    },
    {
     "name": "stderr",
     "output_type": "stream",
     "text": [
      "Sleeping: 100%|\u001b[34m████████████████████████████\u001b[0m| 45/45 [00:45<00:00,  1.01s/it]\u001b[0m\n",
      " 54%|█████▍    | 464/853 [4:23:27<4:19:45, 40.07s/it]"
     ]
    },
    {
     "name": "stdout",
     "output_type": "stream",
     "text": [
      "No image generated using imagen-3.0-generate-001 with prompt: A man gesturing excitedly to a small group, surrounded by thought bubbles containing images of exotic locations and adventure scenes like pyramids, safaris, and mountain climbing. in the style of a children's book illustration, Axel Scheffler style, thick brushstrokes, colored pencil texture, expressive characters, bold outlines, textured shading, pastel color palette\n",
      "Successfully processed: He told us about his adventures abroad. Now sleeping.\n"
     ]
    },
    {
     "name": "stderr",
     "output_type": "stream",
     "text": [
      "Sleeping: 100%|\u001b[34m████████████████████████████\u001b[0m| 45/45 [00:45<00:00,  1.01s/it]\u001b[0m\n",
      " 55%|█████▍    | 465/853 [4:24:31<4:52:33, 45.24s/it]"
     ]
    },
    {
     "name": "stdout",
     "output_type": "stream",
     "text": [
      "No image generated using imagen-3.0-generate-001 with prompt: Two children sitting alone at a table, surrounded by cake crumbs and empty plates, with comically bloated bellies and guilty expressions on their faces. in the style of a children's book illustration, Axel Scheffler style, thick brushstrokes, colored pencil texture, expressive characters, bold outlines, textured shading, pastel color palette\n",
      "Successfully processed: They ate the entire cake by themselves. Now sleeping.\n"
     ]
    },
    {
     "name": "stderr",
     "output_type": "stream",
     "text": [
      "Sleeping: 100%|\u001b[34m████████████████████████████\u001b[0m| 45/45 [00:45<00:00,  1.01s/it]\u001b[0m\n",
      " 55%|█████▍    | 466/853 [4:25:33<5:17:48, 49.27s/it]"
     ]
    },
    {
     "name": "stdout",
     "output_type": "stream",
     "text": [
      "Successfully processed: I think we should leave now. Now sleeping.\n"
     ]
    },
    {
     "name": "stderr",
     "output_type": "stream",
     "text": [
      "Sleeping: 100%|\u001b[34m████████████████████████████\u001b[0m| 45/45 [00:45<00:00,  1.01s/it]\u001b[0m\n",
      " 55%|█████▍    | 467/853 [4:26:33<5:34:34, 52.01s/it]"
     ]
    },
    {
     "name": "stdout",
     "output_type": "stream",
     "text": [
      "No image generated using imagen-3.0-generate-001 with prompt: A young woman in a graduation cap tossing her textbooks into the air, with cherry blossoms blooming in the background and a calendar showing \"Spring\" prominently displayed. in the style of a children's book illustration, Axel Scheffler style, thick brushstrokes, colored pencil texture, expressive characters, bold outlines, textured shading, pastel color palette\n",
      "Successfully processed: She expects to graduate next spring. Now sleeping.\n"
     ]
    },
    {
     "name": "stderr",
     "output_type": "stream",
     "text": [
      "Sleeping: 100%|\u001b[34m████████████████████████████\u001b[0m| 45/45 [00:45<00:00,  1.01s/it]\u001b[0m\n",
      " 55%|█████▍    | 468/853 [4:27:35<5:51:06, 54.72s/it]"
     ]
    },
    {
     "name": "stdout",
     "output_type": "stream",
     "text": [
      "Successfully processed: He meant to call but forgot. Now sleeping.\n"
     ]
    },
    {
     "name": "stderr",
     "output_type": "stream",
     "text": [
      "Sleeping: 100%|\u001b[34m████████████████████████████\u001b[0m| 45/45 [00:45<00:00,  1.01s/it]\u001b[0m\n",
      " 55%|█████▍    | 469/853 [4:28:36<6:00:38, 56.35s/it]"
     ]
    },
    {
     "name": "stdout",
     "output_type": "stream",
     "text": [
      "Successfully processed: We watched the sunrise over the mountains. Now sleeping.\n"
     ]
    },
    {
     "name": "stderr",
     "output_type": "stream",
     "text": [
      "Sleeping: 100%|\u001b[34m████████████████████████████\u001b[0m| 45/45 [00:45<00:00,  1.01s/it]\u001b[0m\n",
      " 55%|█████▌    | 470/853 [4:29:36<6:07:40, 57.60s/it]"
     ]
    },
    {
     "name": "stdout",
     "output_type": "stream",
     "text": [
      "Successfully processed: She hurt her ankle while playing tennis. Now sleeping.\n"
     ]
    },
    {
     "name": "stderr",
     "output_type": "stream",
     "text": [
      "Sleeping: 100%|\u001b[34m████████████████████████████\u001b[0m| 45/45 [00:45<00:00,  1.01s/it]\u001b[0m\n",
      " 55%|█████▌    | 471/853 [4:30:37<6:12:04, 58.44s/it]"
     ]
    },
    {
     "name": "stdout",
     "output_type": "stream",
     "text": [
      "Successfully processed: Listen to the wonderful sound of nature. Now sleeping.\n"
     ]
    },
    {
     "name": "stderr",
     "output_type": "stream",
     "text": [
      "Sleeping: 100%|\u001b[34m████████████████████████████\u001b[0m| 45/45 [00:45<00:00,  1.01s/it]\u001b[0m\n",
      " 55%|█████▌    | 472/853 [4:31:37<6:13:32, 58.83s/it]"
     ]
    },
    {
     "name": "stdout",
     "output_type": "stream",
     "text": [
      "Successfully processed: They compared the size of their profits. Now sleeping.\n"
     ]
    },
    {
     "name": "stderr",
     "output_type": "stream",
     "text": [
      "Sleeping: 100%|\u001b[34m████████████████████████████\u001b[0m| 45/45 [00:45<00:00,  1.01s/it]\u001b[0m\n",
      " 55%|█████▌    | 473/853 [4:32:38<6:16:46, 59.49s/it]"
     ]
    },
    {
     "name": "stdout",
     "output_type": "stream",
     "text": [
      "Successfully processed: We care about the public's opinion. Now sleeping.\n"
     ]
    },
    {
     "name": "stderr",
     "output_type": "stream",
     "text": [
      "Sleeping: 100%|\u001b[34m████████████████████████████\u001b[0m| 45/45 [00:45<00:00,  1.01s/it]\u001b[0m\n",
      " 56%|█████▌    | 474/853 [4:33:38<6:17:49, 59.81s/it]"
     ]
    },
    {
     "name": "stdout",
     "output_type": "stream",
     "text": [
      "Successfully processed: She loves to cook in her bedroom. Now sleeping.\n"
     ]
    },
    {
     "name": "stderr",
     "output_type": "stream",
     "text": [
      "Sleeping: 100%|\u001b[34m████████████████████████████\u001b[0m| 45/45 [00:45<00:00,  1.01s/it]\u001b[0m\n",
      " 56%|█████▌    | 475/853 [4:34:39<6:18:09, 60.03s/it]"
     ]
    },
    {
     "name": "stdout",
     "output_type": "stream",
     "text": [
      "Successfully processed: I achieved my goals within three months. Now sleeping.\n"
     ]
    },
    {
     "name": "stderr",
     "output_type": "stream",
     "text": [
      "Sleeping: 100%|\u001b[34m████████████████████████████\u001b[0m| 45/45 [00:45<00:00,  1.01s/it]\u001b[0m\n",
      " 56%|█████▌    | 476/853 [4:35:39<6:18:05, 60.17s/it]"
     ]
    },
    {
     "name": "stdout",
     "output_type": "stream",
     "text": [
      "No image generated using imagen-3.0-generate-001 with prompt: A person reaching up to place a sheet of paper on a large, colorful bulletin board in a classroom, with a friendly, helpful expression and a speech bubble containing \"please\" near their mouth. in the style of a children's book illustration, Axel Scheffler style, thick brushstrokes, colored pencil texture, expressive characters, bold outlines, textured shading, pastel color palette\n",
      "Successfully processed: Put the paper on the board, please. Now sleeping.\n"
     ]
    },
    {
     "name": "stderr",
     "output_type": "stream",
     "text": [
      "Sleeping: 100%|\u001b[34m████████████████████████████\u001b[0m| 45/45 [00:45<00:00,  1.01s/it]\u001b[0m\n",
      " 56%|█████▌    | 477/853 [4:36:42<6:21:53, 60.94s/it]"
     ]
    },
    {
     "name": "stdout",
     "output_type": "stream",
     "text": [
      "No image generated using imagen-3.0-generate-001 with prompt: A person anxiously counting coins and bills, standing in front of a large house with a \"For Sale\" sign, their expression a mix of hope and worry. in the style of a children's book illustration, Axel Scheffler style, thick brushstrokes, colored pencil texture, expressive characters, bold outlines, textured shading, pastel color palette\n",
      "Successfully processed: Can you afford to buy a house?. Now sleeping.\n"
     ]
    },
    {
     "name": "stderr",
     "output_type": "stream",
     "text": [
      "Sleeping: 100%|\u001b[34m████████████████████████████\u001b[0m| 45/45 [00:45<00:00,  1.01s/it]\u001b[0m\n",
      " 56%|█████▌    | 478/853 [4:37:46<6:25:27, 61.67s/it]"
     ]
    },
    {
     "name": "stdout",
     "output_type": "stream",
     "text": [
      "Successfully processed: Look at the clear sky up north. Now sleeping.\n"
     ]
    },
    {
     "name": "stderr",
     "output_type": "stream",
     "text": [
      "Sleeping: 100%|\u001b[34m████████████████████████████\u001b[0m| 45/45 [00:45<00:00,  1.01s/it]\u001b[0m\n",
      " 56%|█████▌    | 479/853 [4:38:46<6:21:47, 61.25s/it]"
     ]
    },
    {
     "name": "stdout",
     "output_type": "stream",
     "text": [
      "Successfully processed: Wash your hands before you cook, okay?. Now sleeping.\n"
     ]
    },
    {
     "name": "stderr",
     "output_type": "stream",
     "text": [
      "Sleeping: 100%|\u001b[34m████████████████████████████\u001b[0m| 45/45 [00:45<00:00,  1.01s/it]\u001b[0m\n",
      " 56%|█████▋    | 480/853 [4:39:47<6:19:58, 61.12s/it]"
     ]
    },
    {
     "name": "stdout",
     "output_type": "stream",
     "text": [
      "No image generated using imagen-3.0-generate-001 with prompt: A young artist sketching a detailed landscape on a large canvas, with rolling hills, trees, and a distant mountain range visible through the window behind him. in the style of a children's book illustration, Axel Scheffler style, thick brushstrokes, colored pencil texture, expressive characters, bold outlines, textured shading, pastel color palette\n",
      "Successfully processed: He drew a picture of the land. Now sleeping.\n"
     ]
    },
    {
     "name": "stderr",
     "output_type": "stream",
     "text": [
      "Sleeping: 100%|\u001b[34m████████████████████████████\u001b[0m| 45/45 [00:45<00:00,  1.01s/it]\u001b[0m\n",
      " 56%|█████▋    | 481/853 [4:40:49<6:21:12, 61.49s/it]"
     ]
    },
    {
     "name": "stdout",
     "output_type": "stream",
     "text": [
      "Successfully processed: The noise caused trouble in the neighborhood. Now sleeping.\n"
     ]
    },
    {
     "name": "stderr",
     "output_type": "stream",
     "text": [
      "Sleeping: 100%|\u001b[34m████████████████████████████\u001b[0m| 45/45 [00:45<00:00,  1.01s/it]\u001b[0m\n",
      " 57%|█████▋    | 482/853 [4:41:49<6:17:21, 61.03s/it]"
     ]
    },
    {
     "name": "stdout",
     "output_type": "stream",
     "text": [
      "No image generated using imagen-3.0-generate-001 with prompt: A person's hand mid-knock on a closed wooden door, with a curious face peeking around the edge, suggesting they're about to enter. in the style of a children's book illustration, Axel Scheffler style, thick brushstrokes, colored pencil texture, expressive characters, bold outlines, textured shading, pastel color palette\n",
      "Successfully processed: Knock on the door before you enter. Now sleeping.\n"
     ]
    },
    {
     "name": "stderr",
     "output_type": "stream",
     "text": [
      "Sleeping: 100%|\u001b[34m████████████████████████████\u001b[0m| 45/45 [00:45<00:00,  1.01s/it]\u001b[0m\n",
      " 57%|█████▋    | 483/853 [4:42:51<6:19:01, 61.46s/it]"
     ]
    },
    {
     "name": "stdout",
     "output_type": "stream",
     "text": [
      "No image generated using imagen-3.0-generate-001 with prompt: A queasy person clutching their stomach, surrounded by unidentifiable, unappetizing food items, with a green tinge to their face and wavy lines indicating nausea. in the style of a children's book illustration, Axel Scheffler style, thick brushstrokes, colored pencil texture, expressive characters, bold outlines, textured shading, pastel color palette\n",
      "Successfully processed: I feel sick after eating that stuff. Now sleeping.\n"
     ]
    },
    {
     "name": "stderr",
     "output_type": "stream",
     "text": [
      "Sleeping: 100%|\u001b[34m████████████████████████████\u001b[0m| 45/45 [00:45<00:00,  1.01s/it]\u001b[0m\n",
      " 57%|█████▋    | 484/853 [4:43:54<6:19:58, 61.79s/it]"
     ]
    },
    {
     "name": "stdout",
     "output_type": "stream",
     "text": [
      "Successfully processed: We dove underwater to explore the reef. Now sleeping.\n"
     ]
    },
    {
     "name": "stderr",
     "output_type": "stream",
     "text": [
      "Sleeping: 100%|\u001b[34m████████████████████████████\u001b[0m| 45/45 [00:45<00:00,  1.01s/it]\u001b[0m\n",
      " 57%|█████▋    | 485/853 [4:44:54<6:15:41, 61.25s/it]"
     ]
    },
    {
     "name": "stdout",
     "output_type": "stream",
     "text": [
      "No image generated using imagen-3.0-generate-001 with prompt: A young man peering over a tall fence, trying to spy on his neighbors, while an older figure points accusingly at him with a stern expression. in the style of a children's book illustration, Axel Scheffler style, thick brushstrokes, colored pencil texture, expressive characters, bold outlines, textured shading, pastel color palette\n",
      "Successfully processed: Mind your own business, young man. Now sleeping.\n"
     ]
    },
    {
     "name": "stderr",
     "output_type": "stream",
     "text": [
      "Sleeping: 100%|\u001b[34m████████████████████████████\u001b[0m| 45/45 [00:45<00:00,  1.01s/it]\u001b[0m\n",
      " 57%|█████▋    | 486/853 [4:45:58<6:19:16, 62.01s/it]"
     ]
    },
    {
     "name": "stdout",
     "output_type": "stream",
     "text": [
      "No image generated using imagen-3.0-generate-001 with prompt: A car slowing down near a school zone sign, with a police officer gesturing to reduce speed, children crossing in the background. in the style of a children's book illustration, Axel Scheffler style, thick brushstrokes, colored pencil texture, expressive characters, bold outlines, textured shading, pastel color palette\n",
      "Successfully processed: Reduce your speed in this area, please. Now sleeping.\n"
     ]
    },
    {
     "name": "stderr",
     "output_type": "stream",
     "text": [
      "Sleeping: 100%|\u001b[34m████████████████████████████\u001b[0m| 45/45 [00:45<00:00,  1.01s/it]\u001b[0m\n",
      " 57%|█████▋    | 487/853 [4:47:00<6:19:21, 62.19s/it]"
     ]
    },
    {
     "name": "stdout",
     "output_type": "stream",
     "text": [
      "Successfully processed: Keep your eyes on the road ahead. Now sleeping.\n"
     ]
    },
    {
     "name": "stderr",
     "output_type": "stream",
     "text": [
      "Sleeping: 100%|\u001b[34m████████████████████████████\u001b[0m| 45/45 [00:45<00:00,  1.01s/it]\u001b[0m\n",
      " 57%|█████▋    | 488/853 [4:48:01<6:15:15, 61.69s/it]"
     ]
    },
    {
     "name": "stdout",
     "output_type": "stream",
     "text": [
      "Successfully processed: Don't lose hope in difficult times, sir. Now sleeping.\n"
     ]
    },
    {
     "name": "stderr",
     "output_type": "stream",
     "text": []
    }
   ],
   "source": [
    "new_prompt_dict = add_images_to_phrases(LONGMAN_PHRASES, output_dir=\"../data/longman_phrase_images\")\n"
   ]
  },
  {
   "cell_type": "code",
   "execution_count": null,
   "metadata": {},
   "outputs": [],
   "source": [
    "\n",
    "PROMPT_DICT.update(new_prompt_dict)\n",
    "save_json(PROMPT_DICT, \"../data/longman_phrase_images/phrase_image_dict.json\")"
   ]
  },
  {
   "cell_type": "code",
   "execution_count": null,
   "metadata": {},
   "outputs": [],
   "source": []
  }
 ],
 "metadata": {
  "kernelspec": {
   "display_name": ".venv",
   "language": "python",
   "name": "python3"
  },
  "language_info": {
   "codemirror_mode": {
    "name": "ipython",
    "version": 3
   },
   "file_extension": ".py",
   "mimetype": "text/x-python",
   "name": "python",
   "nbconvert_exporter": "python",
   "pygments_lexer": "ipython3",
   "version": "3.11.4"
  }
 },
 "nbformat": 4,
 "nbformat_minor": 2
}
