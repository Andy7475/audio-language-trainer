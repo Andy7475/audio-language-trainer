{
 "cells": [
  {
   "cell_type": "code",
   "execution_count": 14,
   "metadata": {},
   "outputs": [],
   "source": [
    "from google.auth import default\n",
    "credentials, project = default()"
   ]
  },
  {
   "cell_type": "code",
   "execution_count": 15,
   "metadata": {},
   "outputs": [
    {
     "name": "stdout",
     "output_type": "stream",
     "text": [
      "The autoreload extension is already loaded. To reload it, use:\n",
      "  %reload_ext autoreload\n",
      "French\n"
     ]
    }
   ],
   "source": [
    "%load_ext autoreload\n",
    "%autoreload 2\n",
    "import os\n",
    "import sys\n",
    "from pathlib import Path\n",
    "module_path = os.path.abspath(os.path.join('..'))\n",
    "if module_path not in sys.path:\n",
    "    sys.path.append(module_path)\n",
    "from dotenv import load_dotenv\n",
    "load_dotenv()\n",
    "from tqdm import tqdm\n",
    "\n",
    "from src.utils import (load_json, get_first_n_items, save_json, save_text_file, load_text_file)  # noqa: E402\n",
    "from src.story import upload_story_image, prepare_dialogue_with_wiktionary\n",
    "from src.translation import review_story_dialogue_translations\n",
    "from src.gcs_storage import check_blob_exists, read_from_gcs, upload_to_gcs, get_story_translated_dialogue_path, get_story_dialogue_path\n",
    "from src.config_loader import config\n",
    "print(config.TARGET_LANGUAGE_NAME)\n",
    "COLLECTION = \"WarmUp150\""
   ]
  },
  {
   "cell_type": "code",
   "execution_count": null,
   "metadata": {},
   "outputs": [],
   "source": [
    "config._load_config()\n",
    "language_name = config.TARGET_LANGUAGE_NAME.lower()\n",
    "print(language_name)\n",
    "config.get_voice_models(enum_type=\"stories\")"
   ]
  },
  {
   "cell_type": "code",
   "execution_count": 4,
   "metadata": {},
   "outputs": [],
   "source": [
    "from src.gcs_storage import get_stories_from_collection\n",
    "\n",
    "all_stories = get_stories_from_collection(collection=COLLECTION)"
   ]
  },
  {
   "cell_type": "code",
   "execution_count": 13,
   "metadata": {},
   "outputs": [
    {
     "data": {
      "text/plain": [
       "['story_airport_wedding_chaos',\n",
       " 'story_birthday_train_adventure',\n",
       " 'story_concert_plans_unravel',\n",
       " 'story_midnight_bakery',\n",
       " 'story_mysterious_wedding_gift',\n",
       " 'story_sunset_adventure_documentary',\n",
       " 'story_the_wedding_planner',\n",
       " 'story_underwater_community_centre']"
      ]
     },
     "execution_count": 13,
     "metadata": {},
     "output_type": "execute_result"
    }
   ],
   "source": [
    "sorted(all_stories)"
   ]
  },
  {
   "cell_type": "markdown",
   "metadata": {},
   "source": [
    "## Loop all stories (text)\n",
    "\n",
    "Translate and re-upload"
   ]
  },
  {
   "cell_type": "code",
   "execution_count": null,
   "metadata": {},
   "outputs": [],
   "source": [
    "# loop stories and translate\n",
    "from src.gcs_storage import check_blob_exists, get_story_dialogue_path, get_story_translated_dialogue_path\n",
    "from src.dialogue_generation import translate_and_upload_dialogue\n",
    "from src.translation import review_story_dialogue_translations\n",
    "\n",
    "for story_name in all_stories:\n",
    "    # get the dialogue\n",
    "    story_file_path = get_story_dialogue_path(story_name, collection=COLLECTION)\n",
    "    translated_file_path = get_story_translated_dialogue_path(story_name, collection=COLLECTION)\n",
    "    if check_blob_exists(config.GCS_PRIVATE_BUCKET, translated_file_path):\n",
    "        print(f\"{story_name} already translated\")\n",
    "        #continue\n",
    "    story_dialogue = read_from_gcs(config.GCS_PRIVATE_BUCKET, story_file_path)\n",
    "    translate_and_upload_dialogue(story_dialogue, story_name, collection=COLLECTION)"
   ]
  },
  {
   "cell_type": "markdown",
   "metadata": {},
   "source": [
    "## Review translations with LLM"
   ]
  },
  {
   "cell_type": "code",
   "execution_count": null,
   "metadata": {},
   "outputs": [],
   "source": [
    "for story_name in all_stories:\n",
    "    print(f\"processing {story_name}\")\n",
    "    # get the dialogue\n",
    "    translated_file_path = get_story_translated_dialogue_path(story_name, collection=COLLECTION)\n",
    "    translated_dialogue = read_from_gcs(config.GCS_PRIVATE_BUCKET, translated_file_path)\n",
    "    reviewed_dialogue = review_story_dialogue_translations(translated_dialogue)\n",
    "    upload_to_gcs(obj=reviewed_dialogue, bucket_name=config.GCS_PRIVATE_BUCKET, file_name=translated_file_path)"
   ]
  },
  {
   "cell_type": "markdown",
   "metadata": {},
   "source": [
    "## Add wiktionary links to each story utterance"
   ]
  },
  {
   "cell_type": "code",
   "execution_count": null,
   "metadata": {},
   "outputs": [],
   "source": [
    "for story_name in all_stories:\n",
    "\n",
    "    # get the dialogue\n",
    "    translated_file_path = get_story_translated_dialogue_path(story_name, collection=COLLECTION)\n",
    "    if not check_blob_exists(config.GCS_PRIVATE_BUCKET, translated_file_path):\n",
    "        print(f\"{story_name} not yet translated\")\n",
    "        continue\n",
    "    translated_dialogue = read_from_gcs(config.GCS_PRIVATE_BUCKET, translated_file_path)\n",
    "    translated_dialogue_with_links = prepare_dialogue_with_wiktionary(translated_dialogue)\n",
    "    # now re-upload it with embedded witkionary_links\n",
    "    upload_to_gcs(obj=translated_dialogue_with_links, bucket_name=config.GCS_PRIVATE_BUCKET, file_name=translated_file_path)\n"
   ]
  },
  {
   "cell_type": "markdown",
   "metadata": {},
   "source": [
    "Generate audio and upload"
   ]
  },
  {
   "cell_type": "markdown",
   "metadata": {},
   "source": [
    "### Generate audio and upload"
   ]
  },
  {
   "cell_type": "markdown",
   "metadata": {},
   "source": [
    "### Loop through stories to generate audio"
   ]
  },
  {
   "cell_type": "code",
   "execution_count": 16,
   "metadata": {},
   "outputs": [
    {
     "data": {
      "text/plain": [
       "['story_mysterious_wedding_gift',\n",
       " 'story_airport_wedding_chaos',\n",
       " 'story_birthday_train_adventure',\n",
       " 'story_underwater_community_centre',\n",
       " 'story_concert_plans_unravel',\n",
       " 'story_sunset_adventure_documentary',\n",
       " 'story_midnight_bakery',\n",
       " 'story_the_wedding_planner']"
      ]
     },
     "execution_count": 16,
     "metadata": {},
     "output_type": "execute_result"
    }
   ],
   "source": [
    "all_stories"
   ]
  },
  {
   "cell_type": "code",
   "execution_count": null,
   "metadata": {},
   "outputs": [],
   "source": [
    "from src.audio_generation import generate_dialogue_audio_and_upload\n",
    "for story_name in all_stories:\n",
    "    # get the dialogue\n",
    "    translated_file_path = get_story_translated_dialogue_path(story_name, collection=COLLECTION)\n",
    "\n",
    "    translated_dialogue = read_from_gcs(config.GCS_PRIVATE_BUCKET, translated_file_path)\n",
    "    generate_dialogue_audio_and_upload(translated_dialogue, story_name, collection=COLLECTION, overwrite=True)"
   ]
  },
  {
   "cell_type": "markdown",
   "metadata": {},
   "source": [
    "### Fast Audio \n",
    "1 file for each story part"
   ]
  },
  {
   "cell_type": "code",
   "execution_count": 19,
   "metadata": {},
   "outputs": [
    {
     "name": "stderr",
     "output_type": "stream",
     "text": [
      "[autoreload of src.story failed: Traceback (most recent call last):\n",
      "  File \"y:\\Python Scripts\\audio-language-trainer\\.venv\\Lib\\site-packages\\IPython\\extensions\\autoreload.py\", line 276, in check\n",
      "    superreload(m, reload, self.old_objects)\n",
      "  File \"y:\\Python Scripts\\audio-language-trainer\\.venv\\Lib\\site-packages\\IPython\\extensions\\autoreload.py\", line 475, in superreload\n",
      "    module = reload(module)\n",
      "             ^^^^^^^^^^^^^^\n",
      "  File \"C:\\Users\\i5\\AppData\\Local\\Programs\\Python\\Python311\\Lib\\importlib\\__init__.py\", line 169, in reload\n",
      "    _bootstrap._exec(spec, module)\n",
      "  File \"<frozen importlib._bootstrap>\", line 621, in _exec\n",
      "  File \"<frozen importlib._bootstrap_external>\", line 940, in exec_module\n",
      "  File \"<frozen importlib._bootstrap>\", line 241, in _call_with_frames_removed\n",
      "  File \"y:\\Python Scripts\\audio-language-trainer\\src\\story.py\", line 24, in <module>\n",
      "    from src.gcs_storage import (\n",
      "ImportError: cannot import name 'get_fast_audio_path' from 'src.gcs_storage' (y:\\Python Scripts\\audio-language-trainer\\src\\gcs_storage.py)\n",
      "]\n"
     ]
    },
    {
     "name": "stdout",
     "output_type": "stream",
     "text": [
      "Default FFmpeg path added to system PATH: C:\\Program Files\\ffmpeg-7.0-essentials_build\\bin\n"
     ]
    },
    {
     "name": "stderr",
     "output_type": "stream",
     "text": [
      "  0%|          | 0/8 [00:00<?, ?it/s]\n",
      "\u001b[A\n",
      "\u001b[A\n",
      "Collecting utterance audio for introduction: 5it [00:00, 15.15it/s]\n"
     ]
    },
    {
     "name": "stdout",
     "output_type": "stream",
     "text": [
      "Generating fast audio for introduction...\n"
     ]
    },
    {
     "name": "stderr",
     "output_type": "stream",
     "text": []
    },
    {
     "name": "stdout",
     "output_type": "stream",
     "text": [
      "Uploaded fast audio for introduction to gs://audio-language-trainer-private-content/collections/WarmUp150/french/audio/french_01_story_mysterious_wedding_gift_introduction_FAST.m4a\n"
     ]
    },
    {
     "name": "stderr",
     "output_type": "stream",
     "text": [
      "\n",
      "\u001b[A\n",
      "\u001b[A\n",
      "\u001b[A\n",
      "Collecting utterance audio for development: 5it [00:00, 12.32it/s]\n"
     ]
    },
    {
     "name": "stdout",
     "output_type": "stream",
     "text": [
      "Generating fast audio for development...\n"
     ]
    },
    {
     "name": "stderr",
     "output_type": "stream",
     "text": []
    },
    {
     "name": "stdout",
     "output_type": "stream",
     "text": [
      "Uploaded fast audio for development to gs://audio-language-trainer-private-content/collections/WarmUp150/french/audio/french_01_story_mysterious_wedding_gift_development_FAST.m4a\n"
     ]
    },
    {
     "name": "stderr",
     "output_type": "stream",
     "text": [
      "\n",
      "\u001b[A\n",
      "\u001b[A\n",
      "Collecting utterance audio for resolution: 5it [00:00, 16.13it/s]\n"
     ]
    },
    {
     "name": "stdout",
     "output_type": "stream",
     "text": [
      "Generating fast audio for resolution...\n"
     ]
    },
    {
     "name": "stderr",
     "output_type": "stream",
     "text": [
      "Processing story_mysterious_wedding_gift in french: 100%|██████████| 3/3 [00:13<00:00,  4.36s/it]\n",
      " 12%|█▎        | 1/8 [00:13<01:31, 13.09s/it]"
     ]
    },
    {
     "name": "stdout",
     "output_type": "stream",
     "text": [
      "Uploaded fast audio for resolution to gs://audio-language-trainer-private-content/collections/WarmUp150/french/audio/french_01_story_mysterious_wedding_gift_resolution_FAST.m4a\n"
     ]
    },
    {
     "name": "stderr",
     "output_type": "stream",
     "text": [
      "\n",
      "\u001b[A\n",
      "\u001b[A\n",
      "Collecting utterance audio for introduction: 5it [00:00, 16.56it/s]\n"
     ]
    },
    {
     "name": "stdout",
     "output_type": "stream",
     "text": [
      "Generating fast audio for introduction...\n"
     ]
    },
    {
     "name": "stderr",
     "output_type": "stream",
     "text": []
    },
    {
     "name": "stdout",
     "output_type": "stream",
     "text": [
      "Uploaded fast audio for introduction to gs://audio-language-trainer-private-content/collections/WarmUp150/french/audio/french_02_story_airport_wedding_chaos_introduction_FAST.m4a\n"
     ]
    },
    {
     "name": "stderr",
     "output_type": "stream",
     "text": [
      "\n",
      "\u001b[A\n",
      "\u001b[A\n",
      "Collecting utterance audio for development: 5it [00:00, 14.84it/s]\n"
     ]
    },
    {
     "name": "stdout",
     "output_type": "stream",
     "text": [
      "Generating fast audio for development...\n"
     ]
    },
    {
     "name": "stderr",
     "output_type": "stream",
     "text": []
    },
    {
     "name": "stdout",
     "output_type": "stream",
     "text": [
      "Uploaded fast audio for development to gs://audio-language-trainer-private-content/collections/WarmUp150/french/audio/french_02_story_airport_wedding_chaos_development_FAST.m4a\n"
     ]
    },
    {
     "name": "stderr",
     "output_type": "stream",
     "text": [
      "\n",
      "\u001b[A\n",
      "\u001b[A\n",
      "Collecting utterance audio for resolution: 5it [00:00, 15.62it/s]\n"
     ]
    },
    {
     "name": "stdout",
     "output_type": "stream",
     "text": [
      "Generating fast audio for resolution...\n"
     ]
    },
    {
     "name": "stderr",
     "output_type": "stream",
     "text": [
      "Processing story_airport_wedding_chaos in french: 100%|██████████| 3/3 [00:12<00:00,  4.30s/it]\n",
      " 25%|██▌       | 2/8 [00:26<01:17, 12.99s/it]"
     ]
    },
    {
     "name": "stdout",
     "output_type": "stream",
     "text": [
      "Uploaded fast audio for resolution to gs://audio-language-trainer-private-content/collections/WarmUp150/french/audio/french_02_story_airport_wedding_chaos_resolution_FAST.m4a\n"
     ]
    },
    {
     "name": "stderr",
     "output_type": "stream",
     "text": [
      "\n",
      "\u001b[A\n",
      "\u001b[A\n",
      "\u001b[A\n",
      "Collecting utterance audio for introduction: 6it [00:00, 12.96it/s]\n"
     ]
    },
    {
     "name": "stdout",
     "output_type": "stream",
     "text": [
      "Generating fast audio for introduction...\n"
     ]
    },
    {
     "name": "stderr",
     "output_type": "stream",
     "text": []
    },
    {
     "name": "stdout",
     "output_type": "stream",
     "text": [
      "Uploaded fast audio for introduction to gs://audio-language-trainer-private-content/collections/WarmUp150/french/audio/french_03_story_birthday_train_adventure_introduction_FAST.m4a\n"
     ]
    },
    {
     "name": "stderr",
     "output_type": "stream",
     "text": [
      "\n",
      "\u001b[A\n",
      "\u001b[A\n",
      "\u001b[A\n",
      "Collecting utterance audio for development: 6it [00:00, 13.86it/s]\n"
     ]
    },
    {
     "name": "stdout",
     "output_type": "stream",
     "text": [
      "Generating fast audio for development...\n"
     ]
    },
    {
     "name": "stderr",
     "output_type": "stream",
     "text": []
    },
    {
     "name": "stdout",
     "output_type": "stream",
     "text": [
      "Uploaded fast audio for development to gs://audio-language-trainer-private-content/collections/WarmUp150/french/audio/french_03_story_birthday_train_adventure_development_FAST.m4a\n"
     ]
    },
    {
     "name": "stderr",
     "output_type": "stream",
     "text": [
      "\n",
      "\u001b[A\n",
      "\u001b[A\n",
      "\u001b[A\n",
      "Collecting utterance audio for resolution: 6it [00:00, 17.00it/s]\n"
     ]
    },
    {
     "name": "stdout",
     "output_type": "stream",
     "text": [
      "Generating fast audio for resolution...\n"
     ]
    },
    {
     "name": "stderr",
     "output_type": "stream",
     "text": [
      "Processing story_birthday_train_adventure in french: 100%|██████████| 3/3 [00:13<00:00,  4.38s/it]\n",
      " 38%|███▊      | 3/8 [00:39<01:05, 13.05s/it]"
     ]
    },
    {
     "name": "stdout",
     "output_type": "stream",
     "text": [
      "Uploaded fast audio for resolution to gs://audio-language-trainer-private-content/collections/WarmUp150/french/audio/french_03_story_birthday_train_adventure_resolution_FAST.m4a\n"
     ]
    },
    {
     "name": "stderr",
     "output_type": "stream",
     "text": [
      "\n",
      "\u001b[A\n",
      "\u001b[A\n",
      "\u001b[A\n",
      "Collecting utterance audio for setup: 7it [00:00, 16.99it/s]\n"
     ]
    },
    {
     "name": "stdout",
     "output_type": "stream",
     "text": [
      "Generating fast audio for setup...\n"
     ]
    },
    {
     "name": "stderr",
     "output_type": "stream",
     "text": []
    },
    {
     "name": "stdout",
     "output_type": "stream",
     "text": [
      "Uploaded fast audio for setup to gs://audio-language-trainer-private-content/collections/WarmUp150/french/audio/french_04_story_underwater_community_centre_setup_FAST.m4a\n"
     ]
    },
    {
     "name": "stderr",
     "output_type": "stream",
     "text": [
      "\n",
      "\u001b[A\n",
      "\u001b[A\n",
      "\u001b[A\n",
      "Collecting utterance audio for resolution: 6it [00:00, 12.12it/s]\n"
     ]
    },
    {
     "name": "stdout",
     "output_type": "stream",
     "text": [
      "Generating fast audio for resolution...\n"
     ]
    },
    {
     "name": "stderr",
     "output_type": "stream",
     "text": [
      "Processing story_underwater_community_centre in french: 100%|██████████| 2/2 [00:08<00:00,  4.35s/it]\n",
      " 50%|█████     | 4/8 [00:47<00:45, 11.33s/it]"
     ]
    },
    {
     "name": "stdout",
     "output_type": "stream",
     "text": [
      "Uploaded fast audio for resolution to gs://audio-language-trainer-private-content/collections/WarmUp150/french/audio/french_04_story_underwater_community_centre_resolution_FAST.m4a\n"
     ]
    },
    {
     "name": "stderr",
     "output_type": "stream",
     "text": [
      "\n",
      "\u001b[A\n",
      "\u001b[A\n",
      "\u001b[A\n",
      "Collecting utterance audio for introduction: 6it [00:00, 14.63it/s]\n"
     ]
    },
    {
     "name": "stdout",
     "output_type": "stream",
     "text": [
      "Generating fast audio for introduction...\n"
     ]
    },
    {
     "name": "stderr",
     "output_type": "stream",
     "text": []
    },
    {
     "name": "stdout",
     "output_type": "stream",
     "text": [
      "Uploaded fast audio for introduction to gs://audio-language-trainer-private-content/collections/WarmUp150/french/audio/french_05_story_concert_plans_unravel_introduction_FAST.m4a\n"
     ]
    },
    {
     "name": "stderr",
     "output_type": "stream",
     "text": [
      "\n",
      "\u001b[A\n",
      "\u001b[A\n",
      "\u001b[A\n",
      "Collecting utterance audio for development: 6it [00:00, 14.82it/s]\n"
     ]
    },
    {
     "name": "stdout",
     "output_type": "stream",
     "text": [
      "Generating fast audio for development...\n"
     ]
    },
    {
     "name": "stderr",
     "output_type": "stream",
     "text": []
    },
    {
     "name": "stdout",
     "output_type": "stream",
     "text": [
      "Uploaded fast audio for development to gs://audio-language-trainer-private-content/collections/WarmUp150/french/audio/french_05_story_concert_plans_unravel_development_FAST.m4a\n"
     ]
    },
    {
     "name": "stderr",
     "output_type": "stream",
     "text": [
      "\n",
      "\u001b[A\n",
      "\u001b[A\n",
      "\u001b[A\n",
      "Collecting utterance audio for resolution: 6it [00:00, 12.70it/s]\n"
     ]
    },
    {
     "name": "stdout",
     "output_type": "stream",
     "text": [
      "Generating fast audio for resolution...\n"
     ]
    },
    {
     "name": "stderr",
     "output_type": "stream",
     "text": [
      "Processing story_concert_plans_unravel in french: 100%|██████████| 3/3 [00:12<00:00,  4.09s/it]\n",
      " 62%|██████▎   | 5/8 [01:00<00:35, 11.68s/it]"
     ]
    },
    {
     "name": "stdout",
     "output_type": "stream",
     "text": [
      "Uploaded fast audio for resolution to gs://audio-language-trainer-private-content/collections/WarmUp150/french/audio/french_05_story_concert_plans_unravel_resolution_FAST.m4a\n"
     ]
    },
    {
     "name": "stderr",
     "output_type": "stream",
     "text": [
      "\n",
      "\u001b[A\n",
      "\u001b[A\n",
      "Collecting utterance audio for introduction: 5it [00:00, 14.04it/s]\n"
     ]
    },
    {
     "name": "stdout",
     "output_type": "stream",
     "text": [
      "Generating fast audio for introduction...\n"
     ]
    },
    {
     "name": "stderr",
     "output_type": "stream",
     "text": []
    },
    {
     "name": "stdout",
     "output_type": "stream",
     "text": [
      "Uploaded fast audio for introduction to gs://audio-language-trainer-private-content/collections/WarmUp150/french/audio/french_06_story_sunset_adventure_documentary_introduction_FAST.m4a\n"
     ]
    },
    {
     "name": "stderr",
     "output_type": "stream",
     "text": [
      "\n",
      "\u001b[A\n",
      "\u001b[A\n",
      "\u001b[A\n",
      "Collecting utterance audio for development: 6it [00:00, 12.46it/s]\n"
     ]
    },
    {
     "name": "stdout",
     "output_type": "stream",
     "text": [
      "Generating fast audio for development...\n"
     ]
    },
    {
     "name": "stderr",
     "output_type": "stream",
     "text": []
    },
    {
     "name": "stdout",
     "output_type": "stream",
     "text": [
      "Uploaded fast audio for development to gs://audio-language-trainer-private-content/collections/WarmUp150/french/audio/french_06_story_sunset_adventure_documentary_development_FAST.m4a\n"
     ]
    },
    {
     "name": "stderr",
     "output_type": "stream",
     "text": [
      "\n",
      "\u001b[A\n",
      "\u001b[A\n",
      "Collecting utterance audio for resolution: 5it [00:00, 14.85it/s]\n"
     ]
    },
    {
     "name": "stdout",
     "output_type": "stream",
     "text": [
      "Generating fast audio for resolution...\n"
     ]
    },
    {
     "name": "stderr",
     "output_type": "stream",
     "text": [
      "Processing story_sunset_adventure_documentary in french: 100%|██████████| 3/3 [00:12<00:00,  4.24s/it]\n",
      " 75%|███████▌  | 6/8 [01:12<00:24, 12.04s/it]"
     ]
    },
    {
     "name": "stdout",
     "output_type": "stream",
     "text": [
      "Uploaded fast audio for resolution to gs://audio-language-trainer-private-content/collections/WarmUp150/french/audio/french_06_story_sunset_adventure_documentary_resolution_FAST.m4a\n"
     ]
    },
    {
     "name": "stderr",
     "output_type": "stream",
     "text": [
      "\n",
      "\u001b[A\n",
      "\u001b[A\n",
      "\u001b[A\n",
      "Collecting utterance audio for introduction: 6it [00:00, 14.82it/s]\n"
     ]
    },
    {
     "name": "stdout",
     "output_type": "stream",
     "text": [
      "Generating fast audio for introduction...\n"
     ]
    },
    {
     "name": "stderr",
     "output_type": "stream",
     "text": []
    },
    {
     "name": "stdout",
     "output_type": "stream",
     "text": [
      "Uploaded fast audio for introduction to gs://audio-language-trainer-private-content/collections/WarmUp150/french/audio/french_07_story_midnight_bakery_introduction_FAST.m4a\n"
     ]
    },
    {
     "name": "stderr",
     "output_type": "stream",
     "text": [
      "\n",
      "\u001b[A\n",
      "\u001b[A\n",
      "\u001b[A\n",
      "\u001b[A\n",
      "Collecting utterance audio for development: 8it [00:00, 13.14it/s]\n"
     ]
    },
    {
     "name": "stdout",
     "output_type": "stream",
     "text": [
      "Generating fast audio for development...\n"
     ]
    },
    {
     "name": "stderr",
     "output_type": "stream",
     "text": []
    },
    {
     "name": "stdout",
     "output_type": "stream",
     "text": [
      "Uploaded fast audio for development to gs://audio-language-trainer-private-content/collections/WarmUp150/french/audio/french_07_story_midnight_bakery_development_FAST.m4a\n"
     ]
    },
    {
     "name": "stderr",
     "output_type": "stream",
     "text": [
      "\n",
      "\u001b[A\n",
      "\u001b[A\n",
      "\u001b[A\n",
      "\u001b[A\n",
      "Collecting utterance audio for resolution: 8it [00:00, 14.92it/s]\n"
     ]
    },
    {
     "name": "stdout",
     "output_type": "stream",
     "text": [
      "Generating fast audio for resolution...\n"
     ]
    },
    {
     "name": "stderr",
     "output_type": "stream",
     "text": [
      "Processing story_midnight_bakery in french: 100%|██████████| 3/3 [00:13<00:00,  4.53s/it]\n",
      " 88%|████████▊ | 7/8 [01:26<00:12, 12.55s/it]"
     ]
    },
    {
     "name": "stdout",
     "output_type": "stream",
     "text": [
      "Uploaded fast audio for resolution to gs://audio-language-trainer-private-content/collections/WarmUp150/french/audio/french_07_story_midnight_bakery_resolution_FAST.m4a\n"
     ]
    },
    {
     "name": "stderr",
     "output_type": "stream",
     "text": [
      "\n",
      "\u001b[A\n",
      "\u001b[A\n",
      "\u001b[A\n",
      "\u001b[A\n",
      "\u001b[A\n",
      "Collecting utterance audio for introduction: 10it [00:00, 14.79it/s]\n"
     ]
    },
    {
     "name": "stdout",
     "output_type": "stream",
     "text": [
      "Generating fast audio for introduction...\n"
     ]
    },
    {
     "name": "stderr",
     "output_type": "stream",
     "text": []
    },
    {
     "name": "stdout",
     "output_type": "stream",
     "text": [
      "Uploaded fast audio for introduction to gs://audio-language-trainer-private-content/collections/WarmUp150/french/audio/french_08_story_the_wedding_planner_introduction_FAST.m4a\n"
     ]
    },
    {
     "name": "stderr",
     "output_type": "stream",
     "text": [
      "\n",
      "\u001b[A\n",
      "\u001b[A\n",
      "\u001b[A\n",
      "\u001b[A\n",
      "\u001b[A\n",
      "\u001b[A\n",
      "Collecting utterance audio for development: 12it [00:00, 13.24it/s]\n"
     ]
    },
    {
     "name": "stdout",
     "output_type": "stream",
     "text": [
      "Generating fast audio for development...\n"
     ]
    },
    {
     "name": "stderr",
     "output_type": "stream",
     "text": []
    },
    {
     "name": "stdout",
     "output_type": "stream",
     "text": [
      "Uploaded fast audio for development to gs://audio-language-trainer-private-content/collections/WarmUp150/french/audio/french_08_story_the_wedding_planner_development_FAST.m4a\n"
     ]
    },
    {
     "name": "stderr",
     "output_type": "stream",
     "text": [
      "\n",
      "\u001b[A\n",
      "\u001b[A\n",
      "\u001b[A\n",
      "\u001b[A\n",
      "\u001b[A\n",
      "\u001b[A\n",
      "Collecting utterance audio for resolution: 12it [00:00, 14.79it/s]\n"
     ]
    },
    {
     "name": "stdout",
     "output_type": "stream",
     "text": [
      "Generating fast audio for resolution...\n"
     ]
    },
    {
     "name": "stderr",
     "output_type": "stream",
     "text": [
      "Processing story_the_wedding_planner in french: 100%|██████████| 3/3 [00:15<00:00,  5.01s/it]\n",
      "100%|██████████| 8/8 [01:41<00:00, 12.69s/it]"
     ]
    },
    {
     "name": "stdout",
     "output_type": "stream",
     "text": [
      "Uploaded fast audio for resolution to gs://audio-language-trainer-private-content/collections/WarmUp150/french/audio/french_08_story_the_wedding_planner_resolution_FAST.m4a\n"
     ]
    },
    {
     "name": "stderr",
     "output_type": "stream",
     "text": [
      "\n"
     ]
    }
   ],
   "source": [
    "from src.audio_generation import generate_and_upload_fast_audio\n",
    "\n",
    "for story_name in tqdm(all_stories):\n",
    "    # uploads 1 fast mp3 file for each story part. \n",
    "    generate_and_upload_fast_audio(story_name, collection=COLLECTION, overwrite=True)"
   ]
  },
  {
   "cell_type": "markdown",
   "metadata": {},
   "source": [
    "## Upload challenges"
   ]
  },
  {
   "cell_type": "code",
   "execution_count": 11,
   "metadata": {},
   "outputs": [
    {
     "ename": "FileNotFoundError",
     "evalue": "File not found in GCS: audio-language-trainer-private-content/collections/LM1000/common/stories/story_mysterious_wedding_gift/challenges.json",
     "output_type": "error",
     "traceback": [
      "\u001b[1;31m---------------------------------------------------------------------------\u001b[0m",
      "\u001b[1;31mFileNotFoundError\u001b[0m                         Traceback (most recent call last)",
      "Cell \u001b[1;32mIn[11], line 6\u001b[0m\n\u001b[0;32m      4\u001b[0m \u001b[38;5;28;01mfor\u001b[39;00m story_name \u001b[38;5;129;01min\u001b[39;00m all_stories:\n\u001b[0;32m      5\u001b[0m     challenge_file_path \u001b[38;5;241m=\u001b[39m get_story_challenges_path(story_name, collection\u001b[38;5;241m=\u001b[39mCOLLECTION)\n\u001b[1;32m----> 6\u001b[0m     scenario_dicts \u001b[38;5;241m=\u001b[39m \u001b[43mread_from_gcs\u001b[49m\u001b[43m(\u001b[49m\u001b[43mbucket_name\u001b[49m\u001b[38;5;241;43m=\u001b[39;49m\u001b[43mconfig\u001b[49m\u001b[38;5;241;43m.\u001b[39;49m\u001b[43mGCS_PRIVATE_BUCKET\u001b[49m\u001b[43m,\u001b[49m\u001b[43m \u001b[49m\u001b[43mfile_path\u001b[49m\u001b[38;5;241;43m=\u001b[39;49m\u001b[43mchallenge_file_path\u001b[49m\u001b[43m)\u001b[49m\n\u001b[0;32m      7\u001b[0m     challenges \u001b[38;5;241m=\u001b[39m get_html_challenge_inputs(scenario_dicts)\n\u001b[0;32m      8\u001b[0m     chat_webpage_file \u001b[38;5;241m=\u001b[39m create_html_challenges(challenges, story_name\u001b[38;5;241m=\u001b[39mstory_name, collection\u001b[38;5;241m=\u001b[39mCOLLECTION) \u001b[38;5;66;03m# this creates and uploades\u001b[39;00m\n",
      "File \u001b[1;32my:\\Python Scripts\\audio-language-trainer\\src\\gcs_storage.py:307\u001b[0m, in \u001b[0;36mread_from_gcs\u001b[1;34m(bucket_name, file_path, expected_type, use_local, local_base_dir)\u001b[0m\n\u001b[0;32m    305\u001b[0m \u001b[38;5;66;03m# Check if file exists\u001b[39;00m\n\u001b[0;32m    306\u001b[0m \u001b[38;5;28;01mif\u001b[39;00m \u001b[38;5;129;01mnot\u001b[39;00m blob\u001b[38;5;241m.\u001b[39mexists():\n\u001b[1;32m--> 307\u001b[0m     \u001b[38;5;28;01mraise\u001b[39;00m \u001b[38;5;167;01mFileNotFoundError\u001b[39;00m(\u001b[38;5;124mf\u001b[39m\u001b[38;5;124m\"\u001b[39m\u001b[38;5;124mFile not found in GCS: \u001b[39m\u001b[38;5;132;01m{\u001b[39;00mbucket_name\u001b[38;5;132;01m}\u001b[39;00m\u001b[38;5;124m/\u001b[39m\u001b[38;5;132;01m{\u001b[39;00mfile_path\u001b[38;5;132;01m}\u001b[39;00m\u001b[38;5;124m\"\u001b[39m)\n\u001b[0;32m    309\u001b[0m \u001b[38;5;66;03m# Download file into memory\u001b[39;00m\n\u001b[0;32m    310\u001b[0m content \u001b[38;5;241m=\u001b[39m blob\u001b[38;5;241m.\u001b[39mdownload_as_bytes()\n",
      "\u001b[1;31mFileNotFoundError\u001b[0m: File not found in GCS: audio-language-trainer-private-content/collections/LM1000/common/stories/story_mysterious_wedding_gift/challenges.json"
     ]
    }
   ],
   "source": [
    "from src.chat import get_html_challenge_inputs, create_html_challenges\n",
    "from src.gcs_storage import upload_to_gcs, get_story_challenges_path, get_story_translated_challenges_path, read_from_gcs\n",
    "\n",
    "for story_name in all_stories:\n",
    "    challenge_file_path = get_story_challenges_path(story_name, collection=COLLECTION)\n",
    "    scenario_dicts = read_from_gcs(bucket_name=config.GCS_PRIVATE_BUCKET, file_path=challenge_file_path)\n",
    "    challenges = get_html_challenge_inputs(scenario_dicts)\n",
    "    chat_webpage_file = create_html_challenges(challenges, story_name=story_name, collection=COLLECTION) # this creates and uploades\n"
   ]
  },
  {
   "cell_type": "code",
   "execution_count": 10,
   "metadata": {},
   "outputs": [],
   "source": [
    "COLLECTION=\"LM1000\""
   ]
  },
  {
   "cell_type": "code",
   "execution_count": null,
   "metadata": {},
   "outputs": [],
   "source": []
  }
 ],
 "metadata": {
  "kernelspec": {
   "display_name": ".venv",
   "language": "python",
   "name": "python3"
  },
  "language_info": {
   "codemirror_mode": {
    "name": "ipython",
    "version": 3
   },
   "file_extension": ".py",
   "mimetype": "text/x-python",
   "name": "python",
   "nbconvert_exporter": "python",
   "pygments_lexer": "ipython3",
   "version": "3.11.4"
  }
 },
 "nbformat": 4,
 "nbformat_minor": 2
}
