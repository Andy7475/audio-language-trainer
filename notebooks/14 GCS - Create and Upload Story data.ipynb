{
 "cells": [
  {
   "cell_type": "code",
   "execution_count": 1,
   "metadata": {},
   "outputs": [],
   "source": [
    "from google.auth import default\n",
    "credentials, project = default()"
   ]
  },
  {
   "cell_type": "code",
   "execution_count": 2,
   "metadata": {},
   "outputs": [
    {
     "name": "stdout",
     "output_type": "stream",
     "text": [
      "Found existing FFmpeg paths:\n",
      "  C:\\Users\\andyl\\AppData\\Local\\Microsoft\\WinGet\\Packages\\Gyan.FFmpeg_Microsoft.Winget.Source_8wekyb3d8bbwe\\ffmpeg-7.1.1-full_build\\bin\n",
      "French\n"
     ]
    }
   ],
   "source": [
    "%load_ext autoreload\n",
    "%autoreload 2\n",
    "import os\n",
    "import sys\n",
    "from pathlib import Path\n",
    "module_path = os.path.abspath(os.path.join('..'))\n",
    "if module_path not in sys.path:\n",
    "    sys.path.append(module_path)\n",
    "from dotenv import load_dotenv\n",
    "load_dotenv()\n",
    "from tqdm import tqdm\n",
    "\n",
    "from src.utils import (load_json, get_first_n_items, save_json, save_text_file, load_text_file)  # noqa: E402\n",
    "from src.story import upload_story_image, prepare_dialogue_with_wiktionary\n",
    "from src.translation import review_story_dialogue_translations\n",
    "from src.gcs_storage import check_blob_exists, read_from_gcs, upload_to_gcs, get_story_translated_dialogue_path, get_story_dialogue_path\n",
    "from src.config_loader import config\n",
    "print(config.TARGET_LANGUAGE_NAME)\n",
    "COLLECTION = \"WarmUp150\""
   ]
  },
  {
   "cell_type": "code",
   "execution_count": 3,
   "metadata": {},
   "outputs": [
    {
     "name": "stdout",
     "output_type": "stream",
     "text": [
      "french\n"
     ]
    },
    {
     "data": {
      "text/plain": [
       "(VoiceInfo(name='en-GB-Chirp3-HD-Algenib', provider=<VoiceProvider.GOOGLE: 'google'>, voice_id='en-GB-Chirp3-HD-Algenib', language_code='en-GB'),\n",
       " VoiceInfo(name='fr-FR-Chirp3-HD-Zephyr', provider=<VoiceProvider.GOOGLE: 'google'>, voice_id='fr-FR-Chirp3-HD-Zephyr', language_code='fr-FR'),\n",
       " VoiceInfo(name='fr-FR-Chirp3-HD-Puck', provider=<VoiceProvider.GOOGLE: 'google'>, voice_id='fr-FR-Chirp3-HD-Puck', language_code='fr-FR'))"
      ]
     },
     "execution_count": 3,
     "metadata": {},
     "output_type": "execute_result"
    }
   ],
   "source": [
    "config._load_config()\n",
    "language_name = config.TARGET_LANGUAGE_NAME.lower()\n",
    "print(language_name)\n",
    "config.get_voice_models(enum_type=\"stories\")"
   ]
  },
  {
   "cell_type": "code",
   "execution_count": 4,
   "metadata": {},
   "outputs": [],
   "source": [
    "from src.gcs_storage import get_stories_from_collection\n",
    "\n",
    "all_stories = get_stories_from_collection(collection=COLLECTION)"
   ]
  },
  {
   "cell_type": "code",
   "execution_count": 5,
   "metadata": {},
   "outputs": [
    {
     "data": {
      "text/plain": [
       "['story_mysterious_wedding_gift',\n",
       " 'story_airport_wedding_chaos',\n",
       " 'story_birthday_train_adventure',\n",
       " 'story_underwater_community_centre',\n",
       " 'story_concert_plans_unravel',\n",
       " 'story_sunset_adventure_documentary',\n",
       " 'story_midnight_bakery',\n",
       " 'story_the_wedding_planner']"
      ]
     },
     "execution_count": 5,
     "metadata": {},
     "output_type": "execute_result"
    }
   ],
   "source": [
    "all_stories"
   ]
  },
  {
   "cell_type": "markdown",
   "metadata": {},
   "source": [
    "## Loop all stories (text)\n",
    "\n",
    "Translate and re-upload"
   ]
  },
  {
   "cell_type": "code",
   "execution_count": 6,
   "metadata": {},
   "outputs": [
    {
     "name": "stderr",
     "output_type": "stream",
     "text": [
      "adding translations:   0%|          | 0/3 [00:00<?, ?it/s]"
     ]
    },
    {
     "name": "stdout",
     "output_type": "stream",
     "text": [
      "Beginning translation for introduction\n"
     ]
    },
    {
     "name": "stderr",
     "output_type": "stream",
     "text": [
      "adding translations:  33%|███▎      | 1/3 [00:01<00:03,  1.90s/it]"
     ]
    },
    {
     "name": "stdout",
     "output_type": "stream",
     "text": [
      "Translated dialogue\n",
      "Beginning translation for development\n"
     ]
    },
    {
     "name": "stderr",
     "output_type": "stream",
     "text": [
      "adding translations:  67%|██████▋   | 2/3 [00:03<00:01,  1.82s/it]"
     ]
    },
    {
     "name": "stdout",
     "output_type": "stream",
     "text": [
      "Translated dialogue\n",
      "Beginning translation for resolution\n"
     ]
    },
    {
     "name": "stderr",
     "output_type": "stream",
     "text": [
      "adding translations: 100%|██████████| 3/3 [00:05<00:00,  1.77s/it]"
     ]
    },
    {
     "name": "stdout",
     "output_type": "stream",
     "text": [
      "Translated dialogue\n"
     ]
    },
    {
     "name": "stderr",
     "output_type": "stream",
     "text": [
      "\n"
     ]
    },
    {
     "name": "stdout",
     "output_type": "stream",
     "text": [
      "Translated dialogue uploaded to gs://audio-language-trainer-private-content/collections/WarmUp150/french/stories/story_mysterious_wedding_gift/translated_dialogue.json\n"
     ]
    },
    {
     "name": "stderr",
     "output_type": "stream",
     "text": [
      "adding translations:   0%|          | 0/3 [00:00<?, ?it/s]"
     ]
    },
    {
     "name": "stdout",
     "output_type": "stream",
     "text": [
      "Beginning translation for introduction\n"
     ]
    },
    {
     "name": "stderr",
     "output_type": "stream",
     "text": [
      "adding translations:  33%|███▎      | 1/3 [00:01<00:03,  1.93s/it]"
     ]
    },
    {
     "name": "stdout",
     "output_type": "stream",
     "text": [
      "Translated dialogue\n",
      "Beginning translation for development\n"
     ]
    },
    {
     "name": "stderr",
     "output_type": "stream",
     "text": [
      "adding translations:  67%|██████▋   | 2/3 [00:03<00:01,  1.76s/it]"
     ]
    },
    {
     "name": "stdout",
     "output_type": "stream",
     "text": [
      "Translated dialogue\n",
      "Beginning translation for resolution\n"
     ]
    },
    {
     "name": "stderr",
     "output_type": "stream",
     "text": [
      "adding translations: 100%|██████████| 3/3 [00:05<00:00,  1.80s/it]"
     ]
    },
    {
     "name": "stdout",
     "output_type": "stream",
     "text": [
      "Translated dialogue\n"
     ]
    },
    {
     "name": "stderr",
     "output_type": "stream",
     "text": [
      "\n"
     ]
    },
    {
     "name": "stdout",
     "output_type": "stream",
     "text": [
      "Translated dialogue uploaded to gs://audio-language-trainer-private-content/collections/WarmUp150/french/stories/story_airport_wedding_chaos/translated_dialogue.json\n"
     ]
    },
    {
     "name": "stderr",
     "output_type": "stream",
     "text": [
      "adding translations:   0%|          | 0/3 [00:00<?, ?it/s]"
     ]
    },
    {
     "name": "stdout",
     "output_type": "stream",
     "text": [
      "Beginning translation for introduction\n"
     ]
    },
    {
     "name": "stderr",
     "output_type": "stream",
     "text": [
      "adding translations:  33%|███▎      | 1/3 [00:01<00:03,  1.59s/it]"
     ]
    },
    {
     "name": "stdout",
     "output_type": "stream",
     "text": [
      "Translated dialogue\n",
      "Beginning translation for development\n"
     ]
    },
    {
     "name": "stderr",
     "output_type": "stream",
     "text": [
      "adding translations:  67%|██████▋   | 2/3 [00:03<00:01,  1.67s/it]"
     ]
    },
    {
     "name": "stdout",
     "output_type": "stream",
     "text": [
      "Translated dialogue\n",
      "Beginning translation for resolution\n"
     ]
    },
    {
     "name": "stderr",
     "output_type": "stream",
     "text": [
      "adding translations: 100%|██████████| 3/3 [00:05<00:00,  1.68s/it]"
     ]
    },
    {
     "name": "stdout",
     "output_type": "stream",
     "text": [
      "Translated dialogue\n"
     ]
    },
    {
     "name": "stderr",
     "output_type": "stream",
     "text": [
      "\n"
     ]
    },
    {
     "name": "stdout",
     "output_type": "stream",
     "text": [
      "Translated dialogue uploaded to gs://audio-language-trainer-private-content/collections/WarmUp150/french/stories/story_birthday_train_adventure/translated_dialogue.json\n"
     ]
    },
    {
     "name": "stderr",
     "output_type": "stream",
     "text": [
      "adding translations:   0%|          | 0/2 [00:00<?, ?it/s]"
     ]
    },
    {
     "name": "stdout",
     "output_type": "stream",
     "text": [
      "Beginning translation for setup\n"
     ]
    },
    {
     "name": "stderr",
     "output_type": "stream",
     "text": [
      "adding translations:  50%|█████     | 1/2 [00:01<00:01,  1.64s/it]"
     ]
    },
    {
     "name": "stdout",
     "output_type": "stream",
     "text": [
      "Translated dialogue\n",
      "Beginning translation for resolution\n"
     ]
    },
    {
     "name": "stderr",
     "output_type": "stream",
     "text": [
      "adding translations: 100%|██████████| 2/2 [00:03<00:00,  1.68s/it]"
     ]
    },
    {
     "name": "stdout",
     "output_type": "stream",
     "text": [
      "Translated dialogue\n"
     ]
    },
    {
     "name": "stderr",
     "output_type": "stream",
     "text": [
      "\n"
     ]
    },
    {
     "name": "stdout",
     "output_type": "stream",
     "text": [
      "Translated dialogue uploaded to gs://audio-language-trainer-private-content/collections/WarmUp150/french/stories/story_underwater_community_centre/translated_dialogue.json\n"
     ]
    },
    {
     "name": "stderr",
     "output_type": "stream",
     "text": [
      "adding translations:   0%|          | 0/3 [00:00<?, ?it/s]"
     ]
    },
    {
     "name": "stdout",
     "output_type": "stream",
     "text": [
      "Beginning translation for introduction\n"
     ]
    },
    {
     "name": "stderr",
     "output_type": "stream",
     "text": [
      "adding translations:  33%|███▎      | 1/3 [00:01<00:03,  1.78s/it]"
     ]
    },
    {
     "name": "stdout",
     "output_type": "stream",
     "text": [
      "Translated dialogue\n",
      "Beginning translation for development\n"
     ]
    },
    {
     "name": "stderr",
     "output_type": "stream",
     "text": [
      "adding translations:  67%|██████▋   | 2/3 [00:03<00:01,  1.74s/it]"
     ]
    },
    {
     "name": "stdout",
     "output_type": "stream",
     "text": [
      "Translated dialogue\n",
      "Beginning translation for resolution\n"
     ]
    },
    {
     "name": "stderr",
     "output_type": "stream",
     "text": [
      "adding translations: 100%|██████████| 3/3 [00:05<00:00,  1.79s/it]"
     ]
    },
    {
     "name": "stdout",
     "output_type": "stream",
     "text": [
      "Translated dialogue\n"
     ]
    },
    {
     "name": "stderr",
     "output_type": "stream",
     "text": [
      "\n"
     ]
    },
    {
     "name": "stdout",
     "output_type": "stream",
     "text": [
      "Translated dialogue uploaded to gs://audio-language-trainer-private-content/collections/WarmUp150/french/stories/story_concert_plans_unravel/translated_dialogue.json\n"
     ]
    },
    {
     "name": "stderr",
     "output_type": "stream",
     "text": [
      "adding translations:   0%|          | 0/3 [00:00<?, ?it/s]"
     ]
    },
    {
     "name": "stdout",
     "output_type": "stream",
     "text": [
      "Beginning translation for introduction\n"
     ]
    },
    {
     "name": "stderr",
     "output_type": "stream",
     "text": [
      "adding translations:  33%|███▎      | 1/3 [00:01<00:03,  1.68s/it]"
     ]
    },
    {
     "name": "stdout",
     "output_type": "stream",
     "text": [
      "Translated dialogue\n",
      "Beginning translation for development\n"
     ]
    },
    {
     "name": "stderr",
     "output_type": "stream",
     "text": [
      "adding translations:  67%|██████▋   | 2/3 [00:03<00:01,  1.76s/it]"
     ]
    },
    {
     "name": "stdout",
     "output_type": "stream",
     "text": [
      "Translated dialogue\n",
      "Beginning translation for resolution\n"
     ]
    },
    {
     "name": "stderr",
     "output_type": "stream",
     "text": [
      "adding translations: 100%|██████████| 3/3 [00:05<00:00,  1.78s/it]"
     ]
    },
    {
     "name": "stdout",
     "output_type": "stream",
     "text": [
      "Translated dialogue\n"
     ]
    },
    {
     "name": "stderr",
     "output_type": "stream",
     "text": [
      "\n"
     ]
    },
    {
     "name": "stdout",
     "output_type": "stream",
     "text": [
      "Translated dialogue uploaded to gs://audio-language-trainer-private-content/collections/WarmUp150/french/stories/story_sunset_adventure_documentary/translated_dialogue.json\n"
     ]
    },
    {
     "name": "stderr",
     "output_type": "stream",
     "text": [
      "adding translations:   0%|          | 0/3 [00:00<?, ?it/s]"
     ]
    },
    {
     "name": "stdout",
     "output_type": "stream",
     "text": [
      "Beginning translation for introduction\n"
     ]
    },
    {
     "name": "stderr",
     "output_type": "stream",
     "text": [
      "adding translations:  33%|███▎      | 1/3 [00:01<00:03,  1.73s/it]"
     ]
    },
    {
     "name": "stdout",
     "output_type": "stream",
     "text": [
      "Translated dialogue\n",
      "Beginning translation for development\n"
     ]
    },
    {
     "name": "stderr",
     "output_type": "stream",
     "text": [
      "adding translations:  67%|██████▋   | 2/3 [00:03<00:01,  1.73s/it]"
     ]
    },
    {
     "name": "stdout",
     "output_type": "stream",
     "text": [
      "Translated dialogue\n",
      "Beginning translation for resolution\n"
     ]
    },
    {
     "name": "stderr",
     "output_type": "stream",
     "text": [
      "adding translations: 100%|██████████| 3/3 [00:05<00:00,  1.74s/it]"
     ]
    },
    {
     "name": "stdout",
     "output_type": "stream",
     "text": [
      "Translated dialogue\n"
     ]
    },
    {
     "name": "stderr",
     "output_type": "stream",
     "text": [
      "\n"
     ]
    },
    {
     "name": "stdout",
     "output_type": "stream",
     "text": [
      "Translated dialogue uploaded to gs://audio-language-trainer-private-content/collections/WarmUp150/french/stories/story_midnight_bakery/translated_dialogue.json\n"
     ]
    },
    {
     "name": "stderr",
     "output_type": "stream",
     "text": [
      "adding translations:   0%|          | 0/3 [00:00<?, ?it/s]"
     ]
    },
    {
     "name": "stdout",
     "output_type": "stream",
     "text": [
      "Beginning translation for introduction\n"
     ]
    },
    {
     "name": "stderr",
     "output_type": "stream",
     "text": [
      "adding translations:  33%|███▎      | 1/3 [00:01<00:03,  1.92s/it]"
     ]
    },
    {
     "name": "stdout",
     "output_type": "stream",
     "text": [
      "Translated dialogue\n",
      "Beginning translation for development\n"
     ]
    },
    {
     "name": "stderr",
     "output_type": "stream",
     "text": [
      "adding translations:  67%|██████▋   | 2/3 [00:03<00:01,  1.93s/it]"
     ]
    },
    {
     "name": "stdout",
     "output_type": "stream",
     "text": [
      "Translated dialogue\n",
      "Beginning translation for resolution\n"
     ]
    },
    {
     "name": "stderr",
     "output_type": "stream",
     "text": [
      "adding translations: 100%|██████████| 3/3 [00:05<00:00,  1.90s/it]"
     ]
    },
    {
     "name": "stdout",
     "output_type": "stream",
     "text": [
      "Translated dialogue\n"
     ]
    },
    {
     "name": "stderr",
     "output_type": "stream",
     "text": [
      "\n"
     ]
    },
    {
     "name": "stdout",
     "output_type": "stream",
     "text": [
      "Translated dialogue uploaded to gs://audio-language-trainer-private-content/collections/WarmUp150/french/stories/story_the_wedding_planner/translated_dialogue.json\n"
     ]
    }
   ],
   "source": [
    "# loop stories and translate\n",
    "from src.gcs_storage import check_blob_exists, get_story_dialogue_path, get_story_translated_dialogue_path\n",
    "from src.dialogue_generation import translate_and_upload_dialogue\n",
    "from src.translation import review_story_dialogue_translations\n",
    "\n",
    "for story_name in all_stories:\n",
    "    # get the dialogue\n",
    "    story_file_path = get_story_dialogue_path(story_name, collection=COLLECTION)\n",
    "    translated_file_path = get_story_translated_dialogue_path(story_name, collection=COLLECTION)\n",
    "    if check_blob_exists(config.GCS_PRIVATE_BUCKET, translated_file_path):\n",
    "        print(f\"{story_name} already translated\")\n",
    "        #continue\n",
    "    story_dialogue = read_from_gcs(config.GCS_PRIVATE_BUCKET, story_file_path)\n",
    "    translate_and_upload_dialogue(story_dialogue, story_name, collection=COLLECTION)"
   ]
  },
  {
   "cell_type": "markdown",
   "metadata": {},
   "source": [
    "## Review translations with LLM"
   ]
  },
  {
   "cell_type": "code",
   "execution_count": 7,
   "metadata": {},
   "outputs": [
    {
     "name": "stdout",
     "output_type": "stream",
     "text": [
      "processing story_mysterious_wedding_gift\n",
      "processing story_airport_wedding_chaos\n",
      "processing story_birthday_train_adventure\n",
      "processing story_underwater_community_centre\n",
      "processing story_concert_plans_unravel\n",
      "processing story_sunset_adventure_documentary\n",
      "processing story_midnight_bakery\n",
      "processing story_the_wedding_planner\n"
     ]
    }
   ],
   "source": [
    "for story_name in all_stories:\n",
    "    print(f\"processing {story_name}\")\n",
    "    # get the dialogue\n",
    "    translated_file_path = get_story_translated_dialogue_path(story_name, collection=COLLECTION)\n",
    "    translated_dialogue = read_from_gcs(config.GCS_PRIVATE_BUCKET, translated_file_path)\n",
    "    reviewed_dialogue = review_story_dialogue_translations(translated_dialogue)\n",
    "    upload_to_gcs(obj=reviewed_dialogue, bucket_name=config.GCS_PRIVATE_BUCKET, file_name=translated_file_path)"
   ]
  },
  {
   "cell_type": "markdown",
   "metadata": {},
   "source": [
    "## Add wiktionary links to each story utterance"
   ]
  },
  {
   "cell_type": "code",
   "execution_count": null,
   "metadata": {},
   "outputs": [
    {
     "name": "stdout",
     "output_type": "stream",
     "text": [
      "processing story_mysterious_wedding_gift\n",
      "Got word link cache of size 3271 from GCS\n"
     ]
    },
    {
     "name": "stderr",
     "output_type": "stream",
     "text": [
      "Getting dialogue links for story_parts: 100%|██████████| 3/3 [00:08<00:00,  2.92s/it]\n"
     ]
    }
   ],
   "source": [
    "for story_name in all_stories:\n",
    "    print(f\"processing {story_name}\")\n",
    "    # get the dialogue\n",
    "    translated_file_path = get_story_translated_dialogue_path(story_name, collection=COLLECTION)\n",
    "    if not check_blob_exists(config.GCS_PRIVATE_BUCKET, translated_file_path):\n",
    "        print(f\"{story_name} not yet translated\")\n",
    "        continue\n",
    "    translated_dialogue = read_from_gcs(config.GCS_PRIVATE_BUCKET, translated_file_path)\n",
    "    translated_dialogue_with_links = prepare_dialogue_with_wiktionary(translated_dialogue)\n",
    "    # now re-upload it with embedded witkionary_links\n",
    "    uploaded = upload_to_gcs(obj=translated_dialogue_with_links, bucket_name=config.GCS_PRIVATE_BUCKET, file_name=translated_file_path)\n",
    "    print(f\"uploaded {story_name} : {uploaded}\")"
   ]
  },
  {
   "cell_type": "markdown",
   "metadata": {},
   "source": [
    "Generate audio and upload"
   ]
  },
  {
   "cell_type": "markdown",
   "metadata": {},
   "source": [
    "### Generate audio and upload"
   ]
  },
  {
   "cell_type": "markdown",
   "metadata": {},
   "source": [
    "### Loop through stories to generate audio"
   ]
  },
  {
   "cell_type": "code",
   "execution_count": 1,
   "metadata": {},
   "outputs": [
    {
     "ename": "NameError",
     "evalue": "name 'all_stories' is not defined",
     "output_type": "error",
     "traceback": [
      "\u001b[1;31m---------------------------------------------------------------------------\u001b[0m",
      "\u001b[1;31mNameError\u001b[0m                                 Traceback (most recent call last)",
      "Cell \u001b[1;32mIn[1], line 1\u001b[0m\n\u001b[1;32m----> 1\u001b[0m \u001b[43mall_stories\u001b[49m\n",
      "\u001b[1;31mNameError\u001b[0m: name 'all_stories' is not defined"
     ]
    }
   ],
   "source": [
    "all_stories"
   ]
  },
  {
   "cell_type": "code",
   "execution_count": 13,
   "metadata": {},
   "outputs": [
    {
     "name": "stderr",
     "output_type": "stream",
     "text": [
      "Processing story parts:   0%|          | 0/3 [00:00<?, ?it/s]"
     ]
    },
    {
     "name": "stdout",
     "output_type": "stream",
     "text": [
      "Generated and uploaded: gs://audio-language-trainer-private-content/collections/LM1000/swedish/stories/story_sunset_wedding_blues/audio/introduction/part_0_alex.mp3\n"
     ]
    },
    {
     "name": "stderr",
     "output_type": "stream",
     "text": []
    },
    {
     "name": "stdout",
     "output_type": "stream",
     "text": [
      "Generated and uploaded: gs://audio-language-trainer-private-content/collections/LM1000/swedish/stories/story_sunset_wedding_blues/audio/introduction/part_1_sam.mp3\n"
     ]
    },
    {
     "name": "stderr",
     "output_type": "stream",
     "text": []
    },
    {
     "name": "stdout",
     "output_type": "stream",
     "text": [
      "Generated and uploaded: gs://audio-language-trainer-private-content/collections/LM1000/swedish/stories/story_sunset_wedding_blues/audio/introduction/part_2_alex.mp3\n"
     ]
    },
    {
     "name": "stderr",
     "output_type": "stream",
     "text": []
    },
    {
     "name": "stdout",
     "output_type": "stream",
     "text": [
      "Generated and uploaded: gs://audio-language-trainer-private-content/collections/LM1000/swedish/stories/story_sunset_wedding_blues/audio/introduction/part_3_sam.mp3\n"
     ]
    },
    {
     "name": "stderr",
     "output_type": "stream",
     "text": []
    },
    {
     "name": "stdout",
     "output_type": "stream",
     "text": [
      "Generated and uploaded: gs://audio-language-trainer-private-content/collections/LM1000/swedish/stories/story_sunset_wedding_blues/audio/introduction/part_4_alex.mp3\n"
     ]
    },
    {
     "name": "stderr",
     "output_type": "stream",
     "text": [
      "Processing story parts:  33%|███▎      | 1/3 [00:50<01:40, 50.23s/it]"
     ]
    },
    {
     "name": "stdout",
     "output_type": "stream",
     "text": [
      "Generated and uploaded: gs://audio-language-trainer-private-content/collections/LM1000/swedish/stories/story_sunset_wedding_blues/audio/introduction/part_5_sam.mp3\n"
     ]
    },
    {
     "name": "stderr",
     "output_type": "stream",
     "text": []
    },
    {
     "name": "stdout",
     "output_type": "stream",
     "text": [
      "Generated and uploaded: gs://audio-language-trainer-private-content/collections/LM1000/swedish/stories/story_sunset_wedding_blues/audio/development/part_0_alex.mp3\n"
     ]
    },
    {
     "name": "stderr",
     "output_type": "stream",
     "text": []
    },
    {
     "name": "stdout",
     "output_type": "stream",
     "text": [
      "Generated and uploaded: gs://audio-language-trainer-private-content/collections/LM1000/swedish/stories/story_sunset_wedding_blues/audio/development/part_1_sam.mp3\n"
     ]
    },
    {
     "name": "stderr",
     "output_type": "stream",
     "text": []
    },
    {
     "name": "stdout",
     "output_type": "stream",
     "text": [
      "Generated and uploaded: gs://audio-language-trainer-private-content/collections/LM1000/swedish/stories/story_sunset_wedding_blues/audio/development/part_2_alex.mp3\n"
     ]
    },
    {
     "name": "stderr",
     "output_type": "stream",
     "text": []
    },
    {
     "name": "stdout",
     "output_type": "stream",
     "text": [
      "Generated and uploaded: gs://audio-language-trainer-private-content/collections/LM1000/swedish/stories/story_sunset_wedding_blues/audio/development/part_3_sam.mp3\n"
     ]
    },
    {
     "name": "stderr",
     "output_type": "stream",
     "text": []
    },
    {
     "name": "stdout",
     "output_type": "stream",
     "text": [
      "Generated and uploaded: gs://audio-language-trainer-private-content/collections/LM1000/swedish/stories/story_sunset_wedding_blues/audio/development/part_4_alex.mp3\n"
     ]
    },
    {
     "name": "stderr",
     "output_type": "stream",
     "text": []
    },
    {
     "name": "stdout",
     "output_type": "stream",
     "text": [
      "Generated and uploaded: gs://audio-language-trainer-private-content/collections/LM1000/swedish/stories/story_sunset_wedding_blues/audio/development/part_5_sam.mp3\n"
     ]
    },
    {
     "name": "stderr",
     "output_type": "stream",
     "text": []
    },
    {
     "name": "stdout",
     "output_type": "stream",
     "text": [
      "Generated and uploaded: gs://audio-language-trainer-private-content/collections/LM1000/swedish/stories/story_sunset_wedding_blues/audio/development/part_6_alex.mp3\n"
     ]
    },
    {
     "name": "stderr",
     "output_type": "stream",
     "text": [
      "Processing story parts:  67%|██████▋   | 2/3 [01:56<00:59, 59.42s/it]"
     ]
    },
    {
     "name": "stdout",
     "output_type": "stream",
     "text": [
      "Generated and uploaded: gs://audio-language-trainer-private-content/collections/LM1000/swedish/stories/story_sunset_wedding_blues/audio/development/part_7_sam.mp3\n"
     ]
    },
    {
     "name": "stderr",
     "output_type": "stream",
     "text": []
    },
    {
     "name": "stdout",
     "output_type": "stream",
     "text": [
      "Generated and uploaded: gs://audio-language-trainer-private-content/collections/LM1000/swedish/stories/story_sunset_wedding_blues/audio/resolution/part_0_alex.mp3\n"
     ]
    },
    {
     "name": "stderr",
     "output_type": "stream",
     "text": []
    },
    {
     "name": "stdout",
     "output_type": "stream",
     "text": [
      "Generated and uploaded: gs://audio-language-trainer-private-content/collections/LM1000/swedish/stories/story_sunset_wedding_blues/audio/resolution/part_1_sam.mp3\n"
     ]
    },
    {
     "name": "stderr",
     "output_type": "stream",
     "text": []
    },
    {
     "name": "stdout",
     "output_type": "stream",
     "text": [
      "Generated and uploaded: gs://audio-language-trainer-private-content/collections/LM1000/swedish/stories/story_sunset_wedding_blues/audio/resolution/part_2_alex.mp3\n"
     ]
    },
    {
     "name": "stderr",
     "output_type": "stream",
     "text": []
    },
    {
     "name": "stdout",
     "output_type": "stream",
     "text": [
      "Generated and uploaded: gs://audio-language-trainer-private-content/collections/LM1000/swedish/stories/story_sunset_wedding_blues/audio/resolution/part_3_sam.mp3\n"
     ]
    },
    {
     "name": "stderr",
     "output_type": "stream",
     "text": []
    },
    {
     "name": "stdout",
     "output_type": "stream",
     "text": [
      "Generated and uploaded: gs://audio-language-trainer-private-content/collections/LM1000/swedish/stories/story_sunset_wedding_blues/audio/resolution/part_4_alex.mp3\n"
     ]
    },
    {
     "name": "stderr",
     "output_type": "stream",
     "text": [
      "Processing story parts: 100%|██████████| 3/3 [02:45<00:00, 55.29s/it]\n"
     ]
    },
    {
     "name": "stdout",
     "output_type": "stream",
     "text": [
      "Generated and uploaded: gs://audio-language-trainer-private-content/collections/LM1000/swedish/stories/story_sunset_wedding_blues/audio/resolution/part_5_sam.mp3\n"
     ]
    },
    {
     "name": "stderr",
     "output_type": "stream",
     "text": [
      "Processing story parts:   0%|          | 0/3 [00:00<?, ?it/s]"
     ]
    },
    {
     "name": "stdout",
     "output_type": "stream",
     "text": [
      "Generated and uploaded: gs://audio-language-trainer-private-content/collections/LM1000/swedish/stories/story_better_than_a_movie/audio/introduction/part_0_alex.mp3\n"
     ]
    },
    {
     "name": "stderr",
     "output_type": "stream",
     "text": []
    },
    {
     "name": "stdout",
     "output_type": "stream",
     "text": [
      "Generated and uploaded: gs://audio-language-trainer-private-content/collections/LM1000/swedish/stories/story_better_than_a_movie/audio/introduction/part_1_sam.mp3\n"
     ]
    },
    {
     "name": "stderr",
     "output_type": "stream",
     "text": []
    },
    {
     "name": "stdout",
     "output_type": "stream",
     "text": [
      "Generated and uploaded: gs://audio-language-trainer-private-content/collections/LM1000/swedish/stories/story_better_than_a_movie/audio/introduction/part_2_alex.mp3\n"
     ]
    },
    {
     "name": "stderr",
     "output_type": "stream",
     "text": []
    },
    {
     "name": "stdout",
     "output_type": "stream",
     "text": [
      "Generated and uploaded: gs://audio-language-trainer-private-content/collections/LM1000/swedish/stories/story_better_than_a_movie/audio/introduction/part_3_sam.mp3\n"
     ]
    },
    {
     "name": "stderr",
     "output_type": "stream",
     "text": []
    },
    {
     "name": "stdout",
     "output_type": "stream",
     "text": [
      "Generated and uploaded: gs://audio-language-trainer-private-content/collections/LM1000/swedish/stories/story_better_than_a_movie/audio/introduction/part_4_alex.mp3\n"
     ]
    },
    {
     "name": "stderr",
     "output_type": "stream",
     "text": [
      "Processing story parts:  33%|███▎      | 1/3 [00:48<01:37, 48.57s/it]"
     ]
    },
    {
     "name": "stdout",
     "output_type": "stream",
     "text": [
      "Generated and uploaded: gs://audio-language-trainer-private-content/collections/LM1000/swedish/stories/story_better_than_a_movie/audio/introduction/part_5_sam.mp3\n"
     ]
    },
    {
     "name": "stderr",
     "output_type": "stream",
     "text": []
    },
    {
     "name": "stdout",
     "output_type": "stream",
     "text": [
      "Generated and uploaded: gs://audio-language-trainer-private-content/collections/LM1000/swedish/stories/story_better_than_a_movie/audio/development/part_0_alex.mp3\n"
     ]
    },
    {
     "name": "stderr",
     "output_type": "stream",
     "text": []
    },
    {
     "name": "stdout",
     "output_type": "stream",
     "text": [
      "Generated and uploaded: gs://audio-language-trainer-private-content/collections/LM1000/swedish/stories/story_better_than_a_movie/audio/development/part_1_sam.mp3\n"
     ]
    },
    {
     "name": "stderr",
     "output_type": "stream",
     "text": []
    },
    {
     "name": "stdout",
     "output_type": "stream",
     "text": [
      "Generated and uploaded: gs://audio-language-trainer-private-content/collections/LM1000/swedish/stories/story_better_than_a_movie/audio/development/part_2_alex.mp3\n"
     ]
    },
    {
     "name": "stderr",
     "output_type": "stream",
     "text": []
    },
    {
     "name": "stdout",
     "output_type": "stream",
     "text": [
      "Generated and uploaded: gs://audio-language-trainer-private-content/collections/LM1000/swedish/stories/story_better_than_a_movie/audio/development/part_3_sam.mp3\n"
     ]
    },
    {
     "name": "stderr",
     "output_type": "stream",
     "text": []
    },
    {
     "name": "stdout",
     "output_type": "stream",
     "text": [
      "Generated and uploaded: gs://audio-language-trainer-private-content/collections/LM1000/swedish/stories/story_better_than_a_movie/audio/development/part_4_alex.mp3\n"
     ]
    },
    {
     "name": "stderr",
     "output_type": "stream",
     "text": []
    },
    {
     "name": "stdout",
     "output_type": "stream",
     "text": [
      "Generated and uploaded: gs://audio-language-trainer-private-content/collections/LM1000/swedish/stories/story_better_than_a_movie/audio/development/part_5_sam.mp3\n"
     ]
    },
    {
     "name": "stderr",
     "output_type": "stream",
     "text": []
    },
    {
     "name": "stdout",
     "output_type": "stream",
     "text": [
      "Generated and uploaded: gs://audio-language-trainer-private-content/collections/LM1000/swedish/stories/story_better_than_a_movie/audio/development/part_6_alex.mp3\n"
     ]
    },
    {
     "name": "stderr",
     "output_type": "stream",
     "text": []
    },
    {
     "name": "stdout",
     "output_type": "stream",
     "text": [
      "Generated and uploaded: gs://audio-language-trainer-private-content/collections/LM1000/swedish/stories/story_better_than_a_movie/audio/development/part_7_sam.mp3\n"
     ]
    },
    {
     "name": "stderr",
     "output_type": "stream",
     "text": []
    },
    {
     "name": "stdout",
     "output_type": "stream",
     "text": [
      "Generated and uploaded: gs://audio-language-trainer-private-content/collections/LM1000/swedish/stories/story_better_than_a_movie/audio/development/part_8_alex.mp3\n"
     ]
    },
    {
     "name": "stderr",
     "output_type": "stream",
     "text": [
      "Processing story parts:  67%|██████▋   | 2/3 [02:07<01:06, 66.70s/it]"
     ]
    },
    {
     "name": "stdout",
     "output_type": "stream",
     "text": [
      "Generated and uploaded: gs://audio-language-trainer-private-content/collections/LM1000/swedish/stories/story_better_than_a_movie/audio/development/part_9_sam.mp3\n"
     ]
    },
    {
     "name": "stderr",
     "output_type": "stream",
     "text": []
    },
    {
     "name": "stdout",
     "output_type": "stream",
     "text": [
      "Generated and uploaded: gs://audio-language-trainer-private-content/collections/LM1000/swedish/stories/story_better_than_a_movie/audio/resolution/part_0_alex.mp3\n"
     ]
    },
    {
     "name": "stderr",
     "output_type": "stream",
     "text": []
    },
    {
     "name": "stdout",
     "output_type": "stream",
     "text": [
      "Generated and uploaded: gs://audio-language-trainer-private-content/collections/LM1000/swedish/stories/story_better_than_a_movie/audio/resolution/part_1_sam.mp3\n"
     ]
    },
    {
     "name": "stderr",
     "output_type": "stream",
     "text": []
    },
    {
     "name": "stdout",
     "output_type": "stream",
     "text": [
      "Generated and uploaded: gs://audio-language-trainer-private-content/collections/LM1000/swedish/stories/story_better_than_a_movie/audio/resolution/part_2_alex.mp3\n"
     ]
    },
    {
     "name": "stderr",
     "output_type": "stream",
     "text": []
    },
    {
     "name": "stdout",
     "output_type": "stream",
     "text": [
      "Generated and uploaded: gs://audio-language-trainer-private-content/collections/LM1000/swedish/stories/story_better_than_a_movie/audio/resolution/part_3_sam.mp3\n"
     ]
    },
    {
     "name": "stderr",
     "output_type": "stream",
     "text": []
    },
    {
     "name": "stdout",
     "output_type": "stream",
     "text": [
      "Generated and uploaded: gs://audio-language-trainer-private-content/collections/LM1000/swedish/stories/story_better_than_a_movie/audio/resolution/part_4_alex.mp3\n"
     ]
    },
    {
     "name": "stderr",
     "output_type": "stream",
     "text": []
    },
    {
     "name": "stdout",
     "output_type": "stream",
     "text": [
      "Generated and uploaded: gs://audio-language-trainer-private-content/collections/LM1000/swedish/stories/story_better_than_a_movie/audio/resolution/part_5_sam.mp3\n"
     ]
    },
    {
     "name": "stderr",
     "output_type": "stream",
     "text": []
    },
    {
     "name": "stdout",
     "output_type": "stream",
     "text": [
      "Generated and uploaded: gs://audio-language-trainer-private-content/collections/LM1000/swedish/stories/story_better_than_a_movie/audio/resolution/part_6_alex.mp3\n"
     ]
    },
    {
     "name": "stderr",
     "output_type": "stream",
     "text": []
    },
    {
     "name": "stdout",
     "output_type": "stream",
     "text": [
      "Generated and uploaded: gs://audio-language-trainer-private-content/collections/LM1000/swedish/stories/story_better_than_a_movie/audio/resolution/part_7_sam.mp3\n"
     ]
    },
    {
     "name": "stderr",
     "output_type": "stream",
     "text": []
    },
    {
     "name": "stdout",
     "output_type": "stream",
     "text": [
      "Generated and uploaded: gs://audio-language-trainer-private-content/collections/LM1000/swedish/stories/story_better_than_a_movie/audio/resolution/part_8_alex.mp3\n"
     ]
    },
    {
     "name": "stderr",
     "output_type": "stream",
     "text": [
      "Processing story parts: 100%|██████████| 3/3 [03:27<00:00, 69.30s/it]\n"
     ]
    },
    {
     "name": "stdout",
     "output_type": "stream",
     "text": [
      "Generated and uploaded: gs://audio-language-trainer-private-content/collections/LM1000/swedish/stories/story_better_than_a_movie/audio/resolution/part_9_sam.mp3\n"
     ]
    },
    {
     "name": "stderr",
     "output_type": "stream",
     "text": [
      "Processing story parts:   0%|          | 0/3 [00:00<?, ?it/s]"
     ]
    },
    {
     "name": "stdout",
     "output_type": "stream",
     "text": [
      "Generated and uploaded: gs://audio-language-trainer-private-content/collections/LM1000/swedish/stories/story_unexpected_wedding_guests/audio/introduction/part_0_alex.mp3\n"
     ]
    },
    {
     "name": "stderr",
     "output_type": "stream",
     "text": []
    },
    {
     "name": "stdout",
     "output_type": "stream",
     "text": [
      "Generated and uploaded: gs://audio-language-trainer-private-content/collections/LM1000/swedish/stories/story_unexpected_wedding_guests/audio/introduction/part_1_sam.mp3\n"
     ]
    },
    {
     "name": "stderr",
     "output_type": "stream",
     "text": []
    },
    {
     "name": "stdout",
     "output_type": "stream",
     "text": [
      "Generated and uploaded: gs://audio-language-trainer-private-content/collections/LM1000/swedish/stories/story_unexpected_wedding_guests/audio/introduction/part_2_alex.mp3\n"
     ]
    },
    {
     "name": "stderr",
     "output_type": "stream",
     "text": []
    },
    {
     "name": "stdout",
     "output_type": "stream",
     "text": [
      "Generated and uploaded: gs://audio-language-trainer-private-content/collections/LM1000/swedish/stories/story_unexpected_wedding_guests/audio/introduction/part_3_sam.mp3\n"
     ]
    },
    {
     "name": "stderr",
     "output_type": "stream",
     "text": []
    },
    {
     "name": "stdout",
     "output_type": "stream",
     "text": [
      "Generated and uploaded: gs://audio-language-trainer-private-content/collections/LM1000/swedish/stories/story_unexpected_wedding_guests/audio/introduction/part_4_alex.mp3\n"
     ]
    },
    {
     "name": "stderr",
     "output_type": "stream",
     "text": [
      "Processing story parts:  33%|███▎      | 1/3 [00:50<01:41, 50.63s/it]"
     ]
    },
    {
     "name": "stdout",
     "output_type": "stream",
     "text": [
      "Generated and uploaded: gs://audio-language-trainer-private-content/collections/LM1000/swedish/stories/story_unexpected_wedding_guests/audio/introduction/part_5_sam.mp3\n"
     ]
    },
    {
     "name": "stderr",
     "output_type": "stream",
     "text": []
    },
    {
     "name": "stdout",
     "output_type": "stream",
     "text": [
      "Generated and uploaded: gs://audio-language-trainer-private-content/collections/LM1000/swedish/stories/story_unexpected_wedding_guests/audio/development/part_0_alex.mp3\n"
     ]
    },
    {
     "name": "stderr",
     "output_type": "stream",
     "text": []
    },
    {
     "name": "stdout",
     "output_type": "stream",
     "text": [
      "Generated and uploaded: gs://audio-language-trainer-private-content/collections/LM1000/swedish/stories/story_unexpected_wedding_guests/audio/development/part_1_sam.mp3\n"
     ]
    },
    {
     "name": "stderr",
     "output_type": "stream",
     "text": []
    },
    {
     "name": "stdout",
     "output_type": "stream",
     "text": [
      "Generated and uploaded: gs://audio-language-trainer-private-content/collections/LM1000/swedish/stories/story_unexpected_wedding_guests/audio/development/part_2_alex.mp3\n"
     ]
    },
    {
     "name": "stderr",
     "output_type": "stream",
     "text": []
    },
    {
     "name": "stdout",
     "output_type": "stream",
     "text": [
      "Generated and uploaded: gs://audio-language-trainer-private-content/collections/LM1000/swedish/stories/story_unexpected_wedding_guests/audio/development/part_3_sam.mp3\n"
     ]
    },
    {
     "name": "stderr",
     "output_type": "stream",
     "text": []
    },
    {
     "name": "stdout",
     "output_type": "stream",
     "text": [
      "Generated and uploaded: gs://audio-language-trainer-private-content/collections/LM1000/swedish/stories/story_unexpected_wedding_guests/audio/development/part_4_alex.mp3\n"
     ]
    },
    {
     "name": "stderr",
     "output_type": "stream",
     "text": []
    },
    {
     "name": "stdout",
     "output_type": "stream",
     "text": [
      "Generated and uploaded: gs://audio-language-trainer-private-content/collections/LM1000/swedish/stories/story_unexpected_wedding_guests/audio/development/part_5_sam.mp3\n"
     ]
    },
    {
     "name": "stderr",
     "output_type": "stream",
     "text": []
    },
    {
     "name": "stdout",
     "output_type": "stream",
     "text": [
      "Generated and uploaded: gs://audio-language-trainer-private-content/collections/LM1000/swedish/stories/story_unexpected_wedding_guests/audio/development/part_6_alex.mp3\n"
     ]
    },
    {
     "name": "stderr",
     "output_type": "stream",
     "text": [
      "Processing story parts:  67%|██████▋   | 2/3 [01:54<00:58, 58.51s/it]"
     ]
    },
    {
     "name": "stdout",
     "output_type": "stream",
     "text": [
      "Generated and uploaded: gs://audio-language-trainer-private-content/collections/LM1000/swedish/stories/story_unexpected_wedding_guests/audio/development/part_7_sam.mp3\n"
     ]
    },
    {
     "name": "stderr",
     "output_type": "stream",
     "text": []
    },
    {
     "name": "stdout",
     "output_type": "stream",
     "text": [
      "Generated and uploaded: gs://audio-language-trainer-private-content/collections/LM1000/swedish/stories/story_unexpected_wedding_guests/audio/resolution/part_0_alex.mp3\n"
     ]
    },
    {
     "name": "stderr",
     "output_type": "stream",
     "text": []
    },
    {
     "name": "stdout",
     "output_type": "stream",
     "text": [
      "Generated and uploaded: gs://audio-language-trainer-private-content/collections/LM1000/swedish/stories/story_unexpected_wedding_guests/audio/resolution/part_1_sam.mp3\n"
     ]
    },
    {
     "name": "stderr",
     "output_type": "stream",
     "text": []
    },
    {
     "name": "stdout",
     "output_type": "stream",
     "text": [
      "Generated and uploaded: gs://audio-language-trainer-private-content/collections/LM1000/swedish/stories/story_unexpected_wedding_guests/audio/resolution/part_2_alex.mp3\n"
     ]
    },
    {
     "name": "stderr",
     "output_type": "stream",
     "text": []
    },
    {
     "name": "stdout",
     "output_type": "stream",
     "text": [
      "Generated and uploaded: gs://audio-language-trainer-private-content/collections/LM1000/swedish/stories/story_unexpected_wedding_guests/audio/resolution/part_3_sam.mp3\n"
     ]
    },
    {
     "name": "stderr",
     "output_type": "stream",
     "text": []
    },
    {
     "name": "stdout",
     "output_type": "stream",
     "text": [
      "Generated and uploaded: gs://audio-language-trainer-private-content/collections/LM1000/swedish/stories/story_unexpected_wedding_guests/audio/resolution/part_4_alex.mp3\n"
     ]
    },
    {
     "name": "stderr",
     "output_type": "stream",
     "text": []
    },
    {
     "name": "stdout",
     "output_type": "stream",
     "text": [
      "Generated and uploaded: gs://audio-language-trainer-private-content/collections/LM1000/swedish/stories/story_unexpected_wedding_guests/audio/resolution/part_5_sam.mp3\n"
     ]
    },
    {
     "name": "stderr",
     "output_type": "stream",
     "text": []
    },
    {
     "name": "stdout",
     "output_type": "stream",
     "text": [
      "Generated and uploaded: gs://audio-language-trainer-private-content/collections/LM1000/swedish/stories/story_unexpected_wedding_guests/audio/resolution/part_6_alex.mp3\n"
     ]
    },
    {
     "name": "stderr",
     "output_type": "stream",
     "text": [
      "Processing story parts: 100%|██████████| 3/3 [02:59<00:00, 59.85s/it]\n"
     ]
    },
    {
     "name": "stdout",
     "output_type": "stream",
     "text": [
      "Generated and uploaded: gs://audio-language-trainer-private-content/collections/LM1000/swedish/stories/story_unexpected_wedding_guests/audio/resolution/part_7_sam.mp3\n"
     ]
    },
    {
     "name": "stderr",
     "output_type": "stream",
     "text": [
      "Processing story parts:   0%|          | 0/3 [00:00<?, ?it/s]"
     ]
    },
    {
     "name": "stdout",
     "output_type": "stream",
     "text": [
      "Generated and uploaded: gs://audio-language-trainer-private-content/collections/LM1000/swedish/stories/story_midnight_garden_mystery/audio/introduction/part_0_alex.mp3\n"
     ]
    },
    {
     "name": "stderr",
     "output_type": "stream",
     "text": []
    },
    {
     "name": "stdout",
     "output_type": "stream",
     "text": [
      "Generated and uploaded: gs://audio-language-trainer-private-content/collections/LM1000/swedish/stories/story_midnight_garden_mystery/audio/introduction/part_1_sam.mp3\n"
     ]
    },
    {
     "name": "stderr",
     "output_type": "stream",
     "text": []
    },
    {
     "name": "stdout",
     "output_type": "stream",
     "text": [
      "Generated and uploaded: gs://audio-language-trainer-private-content/collections/LM1000/swedish/stories/story_midnight_garden_mystery/audio/introduction/part_2_alex.mp3\n"
     ]
    },
    {
     "name": "stderr",
     "output_type": "stream",
     "text": []
    },
    {
     "name": "stdout",
     "output_type": "stream",
     "text": [
      "Generated and uploaded: gs://audio-language-trainer-private-content/collections/LM1000/swedish/stories/story_midnight_garden_mystery/audio/introduction/part_3_sam.mp3\n"
     ]
    },
    {
     "name": "stderr",
     "output_type": "stream",
     "text": []
    },
    {
     "name": "stdout",
     "output_type": "stream",
     "text": [
      "Generated and uploaded: gs://audio-language-trainer-private-content/collections/LM1000/swedish/stories/story_midnight_garden_mystery/audio/introduction/part_4_alex.mp3\n"
     ]
    },
    {
     "name": "stderr",
     "output_type": "stream",
     "text": [
      "Processing story parts:  33%|███▎      | 1/3 [00:49<01:38, 49.48s/it]"
     ]
    },
    {
     "name": "stdout",
     "output_type": "stream",
     "text": [
      "Generated and uploaded: gs://audio-language-trainer-private-content/collections/LM1000/swedish/stories/story_midnight_garden_mystery/audio/introduction/part_5_sam.mp3\n"
     ]
    },
    {
     "name": "stderr",
     "output_type": "stream",
     "text": []
    },
    {
     "name": "stdout",
     "output_type": "stream",
     "text": [
      "Generated and uploaded: gs://audio-language-trainer-private-content/collections/LM1000/swedish/stories/story_midnight_garden_mystery/audio/development/part_0_alex.mp3\n"
     ]
    },
    {
     "name": "stderr",
     "output_type": "stream",
     "text": []
    },
    {
     "name": "stdout",
     "output_type": "stream",
     "text": [
      "Generated and uploaded: gs://audio-language-trainer-private-content/collections/LM1000/swedish/stories/story_midnight_garden_mystery/audio/development/part_1_sam.mp3\n"
     ]
    },
    {
     "name": "stderr",
     "output_type": "stream",
     "text": []
    },
    {
     "name": "stdout",
     "output_type": "stream",
     "text": [
      "Generated and uploaded: gs://audio-language-trainer-private-content/collections/LM1000/swedish/stories/story_midnight_garden_mystery/audio/development/part_2_alex.mp3\n"
     ]
    },
    {
     "name": "stderr",
     "output_type": "stream",
     "text": []
    },
    {
     "name": "stdout",
     "output_type": "stream",
     "text": [
      "Generated and uploaded: gs://audio-language-trainer-private-content/collections/LM1000/swedish/stories/story_midnight_garden_mystery/audio/development/part_3_sam.mp3\n"
     ]
    },
    {
     "name": "stderr",
     "output_type": "stream",
     "text": []
    },
    {
     "name": "stdout",
     "output_type": "stream",
     "text": [
      "Generated and uploaded: gs://audio-language-trainer-private-content/collections/LM1000/swedish/stories/story_midnight_garden_mystery/audio/development/part_4_alex.mp3\n"
     ]
    },
    {
     "name": "stderr",
     "output_type": "stream",
     "text": []
    },
    {
     "name": "stdout",
     "output_type": "stream",
     "text": [
      "Generated and uploaded: gs://audio-language-trainer-private-content/collections/LM1000/swedish/stories/story_midnight_garden_mystery/audio/development/part_5_sam.mp3\n"
     ]
    },
    {
     "name": "stderr",
     "output_type": "stream",
     "text": [
      "Processing story parts:  67%|██████▋   | 2/3 [01:47<00:54, 54.39s/it]"
     ]
    },
    {
     "name": "stdout",
     "output_type": "stream",
     "text": [
      "Generated and uploaded: gs://audio-language-trainer-private-content/collections/LM1000/swedish/stories/story_midnight_garden_mystery/audio/development/part_6_alex.mp3\n"
     ]
    },
    {
     "name": "stderr",
     "output_type": "stream",
     "text": []
    },
    {
     "name": "stdout",
     "output_type": "stream",
     "text": [
      "Generated and uploaded: gs://audio-language-trainer-private-content/collections/LM1000/swedish/stories/story_midnight_garden_mystery/audio/resolution/part_0_sam.mp3\n"
     ]
    },
    {
     "name": "stderr",
     "output_type": "stream",
     "text": []
    },
    {
     "name": "stdout",
     "output_type": "stream",
     "text": [
      "Generated and uploaded: gs://audio-language-trainer-private-content/collections/LM1000/swedish/stories/story_midnight_garden_mystery/audio/resolution/part_1_alex.mp3\n"
     ]
    },
    {
     "name": "stderr",
     "output_type": "stream",
     "text": []
    },
    {
     "name": "stdout",
     "output_type": "stream",
     "text": [
      "Generated and uploaded: gs://audio-language-trainer-private-content/collections/LM1000/swedish/stories/story_midnight_garden_mystery/audio/resolution/part_2_sam.mp3\n"
     ]
    },
    {
     "name": "stderr",
     "output_type": "stream",
     "text": []
    },
    {
     "name": "stdout",
     "output_type": "stream",
     "text": [
      "Generated and uploaded: gs://audio-language-trainer-private-content/collections/LM1000/swedish/stories/story_midnight_garden_mystery/audio/resolution/part_3_alex.mp3\n"
     ]
    },
    {
     "name": "stderr",
     "output_type": "stream",
     "text": []
    },
    {
     "name": "stdout",
     "output_type": "stream",
     "text": [
      "Generated and uploaded: gs://audio-language-trainer-private-content/collections/LM1000/swedish/stories/story_midnight_garden_mystery/audio/resolution/part_4_sam.mp3\n"
     ]
    },
    {
     "name": "stderr",
     "output_type": "stream",
     "text": []
    },
    {
     "name": "stdout",
     "output_type": "stream",
     "text": [
      "Generated and uploaded: gs://audio-language-trainer-private-content/collections/LM1000/swedish/stories/story_midnight_garden_mystery/audio/resolution/part_5_alex.mp3\n"
     ]
    },
    {
     "name": "stderr",
     "output_type": "stream",
     "text": []
    },
    {
     "name": "stdout",
     "output_type": "stream",
     "text": [
      "Generated and uploaded: gs://audio-language-trainer-private-content/collections/LM1000/swedish/stories/story_midnight_garden_mystery/audio/resolution/part_6_sam.mp3\n"
     ]
    },
    {
     "name": "stderr",
     "output_type": "stream",
     "text": [
      "Processing story parts: 100%|██████████| 3/3 [02:51<00:00, 57.05s/it]\n"
     ]
    },
    {
     "name": "stdout",
     "output_type": "stream",
     "text": [
      "Generated and uploaded: gs://audio-language-trainer-private-content/collections/LM1000/swedish/stories/story_midnight_garden_mystery/audio/resolution/part_7_alex.mp3\n"
     ]
    },
    {
     "name": "stderr",
     "output_type": "stream",
     "text": [
      "Processing story parts:   0%|          | 0/3 [00:00<?, ?it/s]"
     ]
    },
    {
     "name": "stdout",
     "output_type": "stream",
     "text": [
      "Generated and uploaded: gs://audio-language-trainer-private-content/collections/LM1000/swedish/stories/story_workplace_stress_vacation/audio/introduction/part_0_alex.mp3\n"
     ]
    },
    {
     "name": "stderr",
     "output_type": "stream",
     "text": []
    },
    {
     "name": "stdout",
     "output_type": "stream",
     "text": [
      "Generated and uploaded: gs://audio-language-trainer-private-content/collections/LM1000/swedish/stories/story_workplace_stress_vacation/audio/introduction/part_1_sam.mp3\n"
     ]
    },
    {
     "name": "stderr",
     "output_type": "stream",
     "text": []
    },
    {
     "name": "stdout",
     "output_type": "stream",
     "text": [
      "Generated and uploaded: gs://audio-language-trainer-private-content/collections/LM1000/swedish/stories/story_workplace_stress_vacation/audio/introduction/part_2_alex.mp3\n"
     ]
    },
    {
     "name": "stderr",
     "output_type": "stream",
     "text": []
    },
    {
     "name": "stdout",
     "output_type": "stream",
     "text": [
      "Generated and uploaded: gs://audio-language-trainer-private-content/collections/LM1000/swedish/stories/story_workplace_stress_vacation/audio/introduction/part_3_sam.mp3\n"
     ]
    },
    {
     "name": "stderr",
     "output_type": "stream",
     "text": []
    },
    {
     "name": "stdout",
     "output_type": "stream",
     "text": [
      "Generated and uploaded: gs://audio-language-trainer-private-content/collections/LM1000/swedish/stories/story_workplace_stress_vacation/audio/introduction/part_4_alex.mp3\n"
     ]
    },
    {
     "name": "stderr",
     "output_type": "stream",
     "text": []
    },
    {
     "name": "stdout",
     "output_type": "stream",
     "text": [
      "Generated and uploaded: gs://audio-language-trainer-private-content/collections/LM1000/swedish/stories/story_workplace_stress_vacation/audio/introduction/part_5_sam.mp3\n"
     ]
    },
    {
     "name": "stderr",
     "output_type": "stream",
     "text": [
      "Processing story parts:  33%|███▎      | 1/3 [00:56<01:53, 56.93s/it]"
     ]
    },
    {
     "name": "stdout",
     "output_type": "stream",
     "text": [
      "Generated and uploaded: gs://audio-language-trainer-private-content/collections/LM1000/swedish/stories/story_workplace_stress_vacation/audio/introduction/part_6_alex.mp3\n"
     ]
    },
    {
     "name": "stderr",
     "output_type": "stream",
     "text": []
    },
    {
     "name": "stdout",
     "output_type": "stream",
     "text": [
      "Generated and uploaded: gs://audio-language-trainer-private-content/collections/LM1000/swedish/stories/story_workplace_stress_vacation/audio/development/part_0_sam.mp3\n"
     ]
    },
    {
     "name": "stderr",
     "output_type": "stream",
     "text": []
    },
    {
     "name": "stdout",
     "output_type": "stream",
     "text": [
      "Generated and uploaded: gs://audio-language-trainer-private-content/collections/LM1000/swedish/stories/story_workplace_stress_vacation/audio/development/part_1_alex.mp3\n"
     ]
    },
    {
     "name": "stderr",
     "output_type": "stream",
     "text": []
    },
    {
     "name": "stdout",
     "output_type": "stream",
     "text": [
      "Generated and uploaded: gs://audio-language-trainer-private-content/collections/LM1000/swedish/stories/story_workplace_stress_vacation/audio/development/part_2_sam.mp3\n"
     ]
    },
    {
     "name": "stderr",
     "output_type": "stream",
     "text": []
    },
    {
     "name": "stdout",
     "output_type": "stream",
     "text": [
      "Generated and uploaded: gs://audio-language-trainer-private-content/collections/LM1000/swedish/stories/story_workplace_stress_vacation/audio/development/part_3_alex.mp3\n"
     ]
    },
    {
     "name": "stderr",
     "output_type": "stream",
     "text": []
    },
    {
     "name": "stdout",
     "output_type": "stream",
     "text": [
      "Generated and uploaded: gs://audio-language-trainer-private-content/collections/LM1000/swedish/stories/story_workplace_stress_vacation/audio/development/part_4_sam.mp3\n"
     ]
    },
    {
     "name": "stderr",
     "output_type": "stream",
     "text": []
    },
    {
     "name": "stdout",
     "output_type": "stream",
     "text": [
      "Generated and uploaded: gs://audio-language-trainer-private-content/collections/LM1000/swedish/stories/story_workplace_stress_vacation/audio/development/part_5_alex.mp3\n"
     ]
    },
    {
     "name": "stderr",
     "output_type": "stream",
     "text": []
    },
    {
     "name": "stdout",
     "output_type": "stream",
     "text": [
      "Generated and uploaded: gs://audio-language-trainer-private-content/collections/LM1000/swedish/stories/story_workplace_stress_vacation/audio/development/part_6_sam.mp3\n"
     ]
    },
    {
     "name": "stderr",
     "output_type": "stream",
     "text": [
      "Processing story parts:  67%|██████▋   | 2/3 [02:01<01:01, 61.68s/it]"
     ]
    },
    {
     "name": "stdout",
     "output_type": "stream",
     "text": [
      "Generated and uploaded: gs://audio-language-trainer-private-content/collections/LM1000/swedish/stories/story_workplace_stress_vacation/audio/development/part_7_alex.mp3\n"
     ]
    },
    {
     "name": "stderr",
     "output_type": "stream",
     "text": []
    },
    {
     "name": "stdout",
     "output_type": "stream",
     "text": [
      "Generated and uploaded: gs://audio-language-trainer-private-content/collections/LM1000/swedish/stories/story_workplace_stress_vacation/audio/resolution/part_0_sam.mp3\n"
     ]
    },
    {
     "name": "stderr",
     "output_type": "stream",
     "text": []
    },
    {
     "name": "stdout",
     "output_type": "stream",
     "text": [
      "Generated and uploaded: gs://audio-language-trainer-private-content/collections/LM1000/swedish/stories/story_workplace_stress_vacation/audio/resolution/part_1_alex.mp3\n"
     ]
    },
    {
     "name": "stderr",
     "output_type": "stream",
     "text": []
    },
    {
     "name": "stdout",
     "output_type": "stream",
     "text": [
      "Generated and uploaded: gs://audio-language-trainer-private-content/collections/LM1000/swedish/stories/story_workplace_stress_vacation/audio/resolution/part_2_sam.mp3\n"
     ]
    },
    {
     "name": "stderr",
     "output_type": "stream",
     "text": []
    },
    {
     "name": "stdout",
     "output_type": "stream",
     "text": [
      "Generated and uploaded: gs://audio-language-trainer-private-content/collections/LM1000/swedish/stories/story_workplace_stress_vacation/audio/resolution/part_3_alex.mp3\n"
     ]
    },
    {
     "name": "stderr",
     "output_type": "stream",
     "text": []
    },
    {
     "name": "stdout",
     "output_type": "stream",
     "text": [
      "Generated and uploaded: gs://audio-language-trainer-private-content/collections/LM1000/swedish/stories/story_workplace_stress_vacation/audio/resolution/part_4_sam.mp3\n"
     ]
    },
    {
     "name": "stderr",
     "output_type": "stream",
     "text": []
    },
    {
     "name": "stdout",
     "output_type": "stream",
     "text": [
      "Generated and uploaded: gs://audio-language-trainer-private-content/collections/LM1000/swedish/stories/story_workplace_stress_vacation/audio/resolution/part_5_alex.mp3\n"
     ]
    },
    {
     "name": "stderr",
     "output_type": "stream",
     "text": []
    },
    {
     "name": "stdout",
     "output_type": "stream",
     "text": [
      "Generated and uploaded: gs://audio-language-trainer-private-content/collections/LM1000/swedish/stories/story_workplace_stress_vacation/audio/resolution/part_6_sam.mp3\n"
     ]
    },
    {
     "name": "stderr",
     "output_type": "stream",
     "text": [
      "Processing story parts: 100%|██████████| 3/3 [03:06<00:00, 62.18s/it]\n"
     ]
    },
    {
     "name": "stdout",
     "output_type": "stream",
     "text": [
      "Generated and uploaded: gs://audio-language-trainer-private-content/collections/LM1000/swedish/stories/story_workplace_stress_vacation/audio/resolution/part_7_alex.mp3\n"
     ]
    },
    {
     "name": "stderr",
     "output_type": "stream",
     "text": [
      "Processing story parts:   0%|          | 0/3 [00:00<?, ?it/s]"
     ]
    },
    {
     "name": "stdout",
     "output_type": "stream",
     "text": [
      "Generated and uploaded: gs://audio-language-trainer-private-content/collections/LM1000/swedish/stories/story_the_marathon/audio/introduction/part_0_alex.mp3\n"
     ]
    },
    {
     "name": "stderr",
     "output_type": "stream",
     "text": []
    },
    {
     "name": "stdout",
     "output_type": "stream",
     "text": [
      "Generated and uploaded: gs://audio-language-trainer-private-content/collections/LM1000/swedish/stories/story_the_marathon/audio/introduction/part_1_sam.mp3\n"
     ]
    },
    {
     "name": "stderr",
     "output_type": "stream",
     "text": []
    },
    {
     "name": "stdout",
     "output_type": "stream",
     "text": [
      "Generated and uploaded: gs://audio-language-trainer-private-content/collections/LM1000/swedish/stories/story_the_marathon/audio/introduction/part_2_alex.mp3\n"
     ]
    },
    {
     "name": "stderr",
     "output_type": "stream",
     "text": []
    },
    {
     "name": "stdout",
     "output_type": "stream",
     "text": [
      "Generated and uploaded: gs://audio-language-trainer-private-content/collections/LM1000/swedish/stories/story_the_marathon/audio/introduction/part_3_sam.mp3\n"
     ]
    },
    {
     "name": "stderr",
     "output_type": "stream",
     "text": []
    },
    {
     "name": "stdout",
     "output_type": "stream",
     "text": [
      "Generated and uploaded: gs://audio-language-trainer-private-content/collections/LM1000/swedish/stories/story_the_marathon/audio/introduction/part_4_alex.mp3\n"
     ]
    },
    {
     "name": "stderr",
     "output_type": "stream",
     "text": [
      "Processing story parts:  33%|███▎      | 1/3 [00:51<01:43, 51.52s/it]"
     ]
    },
    {
     "name": "stdout",
     "output_type": "stream",
     "text": [
      "Generated and uploaded: gs://audio-language-trainer-private-content/collections/LM1000/swedish/stories/story_the_marathon/audio/introduction/part_5_sam.mp3\n"
     ]
    },
    {
     "name": "stderr",
     "output_type": "stream",
     "text": []
    },
    {
     "name": "stdout",
     "output_type": "stream",
     "text": [
      "Generated and uploaded: gs://audio-language-trainer-private-content/collections/LM1000/swedish/stories/story_the_marathon/audio/development/part_0_alex.mp3\n"
     ]
    },
    {
     "name": "stderr",
     "output_type": "stream",
     "text": []
    },
    {
     "name": "stdout",
     "output_type": "stream",
     "text": [
      "Generated and uploaded: gs://audio-language-trainer-private-content/collections/LM1000/swedish/stories/story_the_marathon/audio/development/part_1_sam.mp3\n"
     ]
    },
    {
     "name": "stderr",
     "output_type": "stream",
     "text": []
    },
    {
     "name": "stdout",
     "output_type": "stream",
     "text": [
      "Generated and uploaded: gs://audio-language-trainer-private-content/collections/LM1000/swedish/stories/story_the_marathon/audio/development/part_2_alex.mp3\n"
     ]
    },
    {
     "name": "stderr",
     "output_type": "stream",
     "text": []
    },
    {
     "name": "stdout",
     "output_type": "stream",
     "text": [
      "Generated and uploaded: gs://audio-language-trainer-private-content/collections/LM1000/swedish/stories/story_the_marathon/audio/development/part_3_sam.mp3\n"
     ]
    },
    {
     "name": "stderr",
     "output_type": "stream",
     "text": []
    },
    {
     "name": "stdout",
     "output_type": "stream",
     "text": [
      "Generated and uploaded: gs://audio-language-trainer-private-content/collections/LM1000/swedish/stories/story_the_marathon/audio/development/part_4_alex.mp3\n"
     ]
    },
    {
     "name": "stderr",
     "output_type": "stream",
     "text": []
    },
    {
     "name": "stdout",
     "output_type": "stream",
     "text": [
      "Generated and uploaded: gs://audio-language-trainer-private-content/collections/LM1000/swedish/stories/story_the_marathon/audio/development/part_5_sam.mp3\n"
     ]
    },
    {
     "name": "stderr",
     "output_type": "stream",
     "text": [
      "Processing story parts:  67%|██████▋   | 2/3 [01:49<00:55, 55.27s/it]"
     ]
    },
    {
     "name": "stdout",
     "output_type": "stream",
     "text": [
      "Generated and uploaded: gs://audio-language-trainer-private-content/collections/LM1000/swedish/stories/story_the_marathon/audio/development/part_6_alex.mp3\n"
     ]
    },
    {
     "name": "stderr",
     "output_type": "stream",
     "text": []
    },
    {
     "name": "stdout",
     "output_type": "stream",
     "text": [
      "Generated and uploaded: gs://audio-language-trainer-private-content/collections/LM1000/swedish/stories/story_the_marathon/audio/resolution/part_0_sam.mp3\n"
     ]
    },
    {
     "name": "stderr",
     "output_type": "stream",
     "text": []
    },
    {
     "name": "stdout",
     "output_type": "stream",
     "text": [
      "Generated and uploaded: gs://audio-language-trainer-private-content/collections/LM1000/swedish/stories/story_the_marathon/audio/resolution/part_1_alex.mp3\n"
     ]
    },
    {
     "name": "stderr",
     "output_type": "stream",
     "text": []
    },
    {
     "name": "stdout",
     "output_type": "stream",
     "text": [
      "Generated and uploaded: gs://audio-language-trainer-private-content/collections/LM1000/swedish/stories/story_the_marathon/audio/resolution/part_2_sam.mp3\n"
     ]
    },
    {
     "name": "stderr",
     "output_type": "stream",
     "text": []
    },
    {
     "name": "stdout",
     "output_type": "stream",
     "text": [
      "Generated and uploaded: gs://audio-language-trainer-private-content/collections/LM1000/swedish/stories/story_the_marathon/audio/resolution/part_3_alex.mp3\n"
     ]
    },
    {
     "name": "stderr",
     "output_type": "stream",
     "text": []
    },
    {
     "name": "stdout",
     "output_type": "stream",
     "text": [
      "Generated and uploaded: gs://audio-language-trainer-private-content/collections/LM1000/swedish/stories/story_the_marathon/audio/resolution/part_4_sam.mp3\n"
     ]
    },
    {
     "name": "stderr",
     "output_type": "stream",
     "text": []
    },
    {
     "name": "stdout",
     "output_type": "stream",
     "text": [
      "Generated and uploaded: gs://audio-language-trainer-private-content/collections/LM1000/swedish/stories/story_the_marathon/audio/resolution/part_5_alex.mp3\n"
     ]
    },
    {
     "name": "stderr",
     "output_type": "stream",
     "text": [
      "Processing story parts: 100%|██████████| 3/3 [02:46<00:00, 55.55s/it]\n"
     ]
    },
    {
     "name": "stdout",
     "output_type": "stream",
     "text": [
      "Generated and uploaded: gs://audio-language-trainer-private-content/collections/LM1000/swedish/stories/story_the_marathon/audio/resolution/part_6_sam.mp3\n"
     ]
    },
    {
     "name": "stderr",
     "output_type": "stream",
     "text": [
      "Processing story parts:   0%|          | 0/3 [00:00<?, ?it/s]"
     ]
    },
    {
     "name": "stdout",
     "output_type": "stream",
     "text": [
      "Generated and uploaded: gs://audio-language-trainer-private-content/collections/LM1000/swedish/stories/story_teaching_music/audio/introduction/part_0_alex.mp3\n"
     ]
    },
    {
     "name": "stderr",
     "output_type": "stream",
     "text": []
    },
    {
     "name": "stdout",
     "output_type": "stream",
     "text": [
      "Generated and uploaded: gs://audio-language-trainer-private-content/collections/LM1000/swedish/stories/story_teaching_music/audio/introduction/part_1_sam.mp3\n"
     ]
    },
    {
     "name": "stderr",
     "output_type": "stream",
     "text": []
    },
    {
     "name": "stdout",
     "output_type": "stream",
     "text": [
      "Generated and uploaded: gs://audio-language-trainer-private-content/collections/LM1000/swedish/stories/story_teaching_music/audio/introduction/part_2_alex.mp3\n"
     ]
    },
    {
     "name": "stderr",
     "output_type": "stream",
     "text": []
    },
    {
     "name": "stdout",
     "output_type": "stream",
     "text": [
      "Generated and uploaded: gs://audio-language-trainer-private-content/collections/LM1000/swedish/stories/story_teaching_music/audio/introduction/part_3_sam.mp3\n"
     ]
    },
    {
     "name": "stderr",
     "output_type": "stream",
     "text": []
    },
    {
     "name": "stdout",
     "output_type": "stream",
     "text": [
      "Generated and uploaded: gs://audio-language-trainer-private-content/collections/LM1000/swedish/stories/story_teaching_music/audio/introduction/part_4_alex.mp3\n"
     ]
    },
    {
     "name": "stderr",
     "output_type": "stream",
     "text": []
    },
    {
     "name": "stdout",
     "output_type": "stream",
     "text": [
      "Generated and uploaded: gs://audio-language-trainer-private-content/collections/LM1000/swedish/stories/story_teaching_music/audio/introduction/part_5_sam.mp3\n"
     ]
    },
    {
     "name": "stderr",
     "output_type": "stream",
     "text": []
    },
    {
     "name": "stdout",
     "output_type": "stream",
     "text": [
      "Generated and uploaded: gs://audio-language-trainer-private-content/collections/LM1000/swedish/stories/story_teaching_music/audio/introduction/part_6_alex.mp3\n"
     ]
    },
    {
     "name": "stderr",
     "output_type": "stream",
     "text": [
      "Processing story parts:  33%|███▎      | 1/3 [01:07<02:14, 67.43s/it]"
     ]
    },
    {
     "name": "stdout",
     "output_type": "stream",
     "text": [
      "Generated and uploaded: gs://audio-language-trainer-private-content/collections/LM1000/swedish/stories/story_teaching_music/audio/introduction/part_7_sam.mp3\n"
     ]
    },
    {
     "name": "stderr",
     "output_type": "stream",
     "text": []
    },
    {
     "name": "stdout",
     "output_type": "stream",
     "text": [
      "Generated and uploaded: gs://audio-language-trainer-private-content/collections/LM1000/swedish/stories/story_teaching_music/audio/development/part_0_alex.mp3\n"
     ]
    },
    {
     "name": "stderr",
     "output_type": "stream",
     "text": []
    },
    {
     "name": "stdout",
     "output_type": "stream",
     "text": [
      "Generated and uploaded: gs://audio-language-trainer-private-content/collections/LM1000/swedish/stories/story_teaching_music/audio/development/part_1_sam.mp3\n"
     ]
    },
    {
     "name": "stderr",
     "output_type": "stream",
     "text": []
    },
    {
     "name": "stdout",
     "output_type": "stream",
     "text": [
      "Generated and uploaded: gs://audio-language-trainer-private-content/collections/LM1000/swedish/stories/story_teaching_music/audio/development/part_2_alex.mp3\n"
     ]
    },
    {
     "name": "stderr",
     "output_type": "stream",
     "text": []
    },
    {
     "name": "stdout",
     "output_type": "stream",
     "text": [
      "Generated and uploaded: gs://audio-language-trainer-private-content/collections/LM1000/swedish/stories/story_teaching_music/audio/development/part_3_sam.mp3\n"
     ]
    },
    {
     "name": "stderr",
     "output_type": "stream",
     "text": []
    },
    {
     "name": "stdout",
     "output_type": "stream",
     "text": [
      "Generated and uploaded: gs://audio-language-trainer-private-content/collections/LM1000/swedish/stories/story_teaching_music/audio/development/part_4_alex.mp3\n"
     ]
    },
    {
     "name": "stderr",
     "output_type": "stream",
     "text": []
    },
    {
     "name": "stdout",
     "output_type": "stream",
     "text": [
      "Generated and uploaded: gs://audio-language-trainer-private-content/collections/LM1000/swedish/stories/story_teaching_music/audio/development/part_5_sam.mp3\n"
     ]
    },
    {
     "name": "stderr",
     "output_type": "stream",
     "text": []
    },
    {
     "name": "stdout",
     "output_type": "stream",
     "text": [
      "Generated and uploaded: gs://audio-language-trainer-private-content/collections/LM1000/swedish/stories/story_teaching_music/audio/development/part_6_alex.mp3\n"
     ]
    },
    {
     "name": "stderr",
     "output_type": "stream",
     "text": []
    },
    {
     "name": "stdout",
     "output_type": "stream",
     "text": [
      "Generated and uploaded: gs://audio-language-trainer-private-content/collections/LM1000/swedish/stories/story_teaching_music/audio/development/part_7_sam.mp3\n"
     ]
    },
    {
     "name": "stderr",
     "output_type": "stream",
     "text": []
    },
    {
     "name": "stdout",
     "output_type": "stream",
     "text": [
      "Generated and uploaded: gs://audio-language-trainer-private-content/collections/LM1000/swedish/stories/story_teaching_music/audio/development/part_8_alex.mp3\n"
     ]
    },
    {
     "name": "stderr",
     "output_type": "stream",
     "text": [
      "Processing story parts:  67%|██████▋   | 2/3 [02:27<01:14, 74.82s/it]"
     ]
    },
    {
     "name": "stdout",
     "output_type": "stream",
     "text": [
      "Generated and uploaded: gs://audio-language-trainer-private-content/collections/LM1000/swedish/stories/story_teaching_music/audio/development/part_9_sam.mp3\n"
     ]
    },
    {
     "name": "stderr",
     "output_type": "stream",
     "text": []
    },
    {
     "name": "stdout",
     "output_type": "stream",
     "text": [
      "Generated and uploaded: gs://audio-language-trainer-private-content/collections/LM1000/swedish/stories/story_teaching_music/audio/resolution/part_0_alex.mp3\n"
     ]
    },
    {
     "name": "stderr",
     "output_type": "stream",
     "text": []
    },
    {
     "name": "stdout",
     "output_type": "stream",
     "text": [
      "Generated and uploaded: gs://audio-language-trainer-private-content/collections/LM1000/swedish/stories/story_teaching_music/audio/resolution/part_1_sam.mp3\n"
     ]
    },
    {
     "name": "stderr",
     "output_type": "stream",
     "text": []
    },
    {
     "name": "stdout",
     "output_type": "stream",
     "text": [
      "Generated and uploaded: gs://audio-language-trainer-private-content/collections/LM1000/swedish/stories/story_teaching_music/audio/resolution/part_2_alex.mp3\n"
     ]
    },
    {
     "name": "stderr",
     "output_type": "stream",
     "text": []
    },
    {
     "name": "stdout",
     "output_type": "stream",
     "text": [
      "Generated and uploaded: gs://audio-language-trainer-private-content/collections/LM1000/swedish/stories/story_teaching_music/audio/resolution/part_3_sam.mp3\n"
     ]
    },
    {
     "name": "stderr",
     "output_type": "stream",
     "text": []
    },
    {
     "name": "stdout",
     "output_type": "stream",
     "text": [
      "Generated and uploaded: gs://audio-language-trainer-private-content/collections/LM1000/swedish/stories/story_teaching_music/audio/resolution/part_4_alex.mp3\n"
     ]
    },
    {
     "name": "stderr",
     "output_type": "stream",
     "text": []
    },
    {
     "name": "stdout",
     "output_type": "stream",
     "text": [
      "Generated and uploaded: gs://audio-language-trainer-private-content/collections/LM1000/swedish/stories/story_teaching_music/audio/resolution/part_5_sam.mp3\n"
     ]
    },
    {
     "name": "stderr",
     "output_type": "stream",
     "text": []
    },
    {
     "name": "stdout",
     "output_type": "stream",
     "text": [
      "Generated and uploaded: gs://audio-language-trainer-private-content/collections/LM1000/swedish/stories/story_teaching_music/audio/resolution/part_6_alex.mp3\n"
     ]
    },
    {
     "name": "stderr",
     "output_type": "stream",
     "text": []
    },
    {
     "name": "stdout",
     "output_type": "stream",
     "text": [
      "Generated and uploaded: gs://audio-language-trainer-private-content/collections/LM1000/swedish/stories/story_teaching_music/audio/resolution/part_7_sam.mp3\n"
     ]
    },
    {
     "name": "stderr",
     "output_type": "stream",
     "text": [
      "Processing story parts: 100%|██████████| 3/3 [03:39<00:00, 73.01s/it]\n"
     ]
    },
    {
     "name": "stdout",
     "output_type": "stream",
     "text": [
      "Generated and uploaded: gs://audio-language-trainer-private-content/collections/LM1000/swedish/stories/story_teaching_music/audio/resolution/part_8_alex.mp3\n"
     ]
    },
    {
     "name": "stderr",
     "output_type": "stream",
     "text": [
      "Processing story parts:   0%|          | 0/3 [00:00<?, ?it/s]"
     ]
    },
    {
     "name": "stdout",
     "output_type": "stream",
     "text": [
      "Generated and uploaded: gs://audio-language-trainer-private-content/collections/LM1000/swedish/stories/story_job_interview_gone_wrong/audio/introduction/part_0_alex.mp3\n"
     ]
    },
    {
     "name": "stderr",
     "output_type": "stream",
     "text": []
    },
    {
     "name": "stdout",
     "output_type": "stream",
     "text": [
      "Generated and uploaded: gs://audio-language-trainer-private-content/collections/LM1000/swedish/stories/story_job_interview_gone_wrong/audio/introduction/part_1_sam.mp3\n"
     ]
    },
    {
     "name": "stderr",
     "output_type": "stream",
     "text": []
    },
    {
     "name": "stdout",
     "output_type": "stream",
     "text": [
      "Generated and uploaded: gs://audio-language-trainer-private-content/collections/LM1000/swedish/stories/story_job_interview_gone_wrong/audio/introduction/part_2_alex.mp3\n"
     ]
    },
    {
     "name": "stderr",
     "output_type": "stream",
     "text": []
    },
    {
     "name": "stdout",
     "output_type": "stream",
     "text": [
      "Generated and uploaded: gs://audio-language-trainer-private-content/collections/LM1000/swedish/stories/story_job_interview_gone_wrong/audio/introduction/part_3_sam.mp3\n"
     ]
    },
    {
     "name": "stderr",
     "output_type": "stream",
     "text": []
    },
    {
     "name": "stdout",
     "output_type": "stream",
     "text": [
      "Generated and uploaded: gs://audio-language-trainer-private-content/collections/LM1000/swedish/stories/story_job_interview_gone_wrong/audio/introduction/part_4_alex.mp3\n"
     ]
    },
    {
     "name": "stderr",
     "output_type": "stream",
     "text": []
    },
    {
     "name": "stdout",
     "output_type": "stream",
     "text": [
      "Generated and uploaded: gs://audio-language-trainer-private-content/collections/LM1000/swedish/stories/story_job_interview_gone_wrong/audio/introduction/part_5_sam.mp3\n"
     ]
    },
    {
     "name": "stderr",
     "output_type": "stream",
     "text": []
    },
    {
     "name": "stdout",
     "output_type": "stream",
     "text": [
      "Generated and uploaded: gs://audio-language-trainer-private-content/collections/LM1000/swedish/stories/story_job_interview_gone_wrong/audio/introduction/part_6_alex.mp3\n"
     ]
    },
    {
     "name": "stderr",
     "output_type": "stream",
     "text": [
      "Processing story parts:  33%|███▎      | 1/3 [01:04<02:09, 64.55s/it]"
     ]
    },
    {
     "name": "stdout",
     "output_type": "stream",
     "text": [
      "Generated and uploaded: gs://audio-language-trainer-private-content/collections/LM1000/swedish/stories/story_job_interview_gone_wrong/audio/introduction/part_7_sam.mp3\n"
     ]
    },
    {
     "name": "stderr",
     "output_type": "stream",
     "text": []
    },
    {
     "name": "stdout",
     "output_type": "stream",
     "text": [
      "Generated and uploaded: gs://audio-language-trainer-private-content/collections/LM1000/swedish/stories/story_job_interview_gone_wrong/audio/development/part_0_alex.mp3\n"
     ]
    },
    {
     "name": "stderr",
     "output_type": "stream",
     "text": []
    },
    {
     "name": "stdout",
     "output_type": "stream",
     "text": [
      "Generated and uploaded: gs://audio-language-trainer-private-content/collections/LM1000/swedish/stories/story_job_interview_gone_wrong/audio/development/part_1_sam.mp3\n"
     ]
    },
    {
     "name": "stderr",
     "output_type": "stream",
     "text": []
    },
    {
     "name": "stdout",
     "output_type": "stream",
     "text": [
      "Generated and uploaded: gs://audio-language-trainer-private-content/collections/LM1000/swedish/stories/story_job_interview_gone_wrong/audio/development/part_2_alex.mp3\n"
     ]
    },
    {
     "name": "stderr",
     "output_type": "stream",
     "text": []
    },
    {
     "name": "stdout",
     "output_type": "stream",
     "text": [
      "Generated and uploaded: gs://audio-language-trainer-private-content/collections/LM1000/swedish/stories/story_job_interview_gone_wrong/audio/development/part_3_sam.mp3\n"
     ]
    },
    {
     "name": "stderr",
     "output_type": "stream",
     "text": []
    },
    {
     "name": "stdout",
     "output_type": "stream",
     "text": [
      "Generated and uploaded: gs://audio-language-trainer-private-content/collections/LM1000/swedish/stories/story_job_interview_gone_wrong/audio/development/part_4_alex.mp3\n"
     ]
    },
    {
     "name": "stderr",
     "output_type": "stream",
     "text": []
    },
    {
     "name": "stdout",
     "output_type": "stream",
     "text": [
      "Generated and uploaded: gs://audio-language-trainer-private-content/collections/LM1000/swedish/stories/story_job_interview_gone_wrong/audio/development/part_5_sam.mp3\n"
     ]
    },
    {
     "name": "stderr",
     "output_type": "stream",
     "text": []
    },
    {
     "name": "stdout",
     "output_type": "stream",
     "text": [
      "Generated and uploaded: gs://audio-language-trainer-private-content/collections/LM1000/swedish/stories/story_job_interview_gone_wrong/audio/development/part_6_alex.mp3\n"
     ]
    },
    {
     "name": "stderr",
     "output_type": "stream",
     "text": [
      "Processing story parts:  67%|██████▋   | 2/3 [02:09<01:04, 64.66s/it]"
     ]
    },
    {
     "name": "stdout",
     "output_type": "stream",
     "text": [
      "Generated and uploaded: gs://audio-language-trainer-private-content/collections/LM1000/swedish/stories/story_job_interview_gone_wrong/audio/development/part_7_sam.mp3\n"
     ]
    },
    {
     "name": "stderr",
     "output_type": "stream",
     "text": []
    },
    {
     "name": "stdout",
     "output_type": "stream",
     "text": [
      "Generated and uploaded: gs://audio-language-trainer-private-content/collections/LM1000/swedish/stories/story_job_interview_gone_wrong/audio/resolution/part_0_alex.mp3\n"
     ]
    },
    {
     "name": "stderr",
     "output_type": "stream",
     "text": []
    },
    {
     "name": "stdout",
     "output_type": "stream",
     "text": [
      "Generated and uploaded: gs://audio-language-trainer-private-content/collections/LM1000/swedish/stories/story_job_interview_gone_wrong/audio/resolution/part_1_sam.mp3\n"
     ]
    },
    {
     "name": "stderr",
     "output_type": "stream",
     "text": [
      "Processing story parts:  67%|██████▋   | 2/3 [02:28<01:14, 74.43s/it]\n"
     ]
    },
    {
     "ename": "Exception",
     "evalue": "ElevenLabs speech synthesis error: API request failed with status code 401: {\"detail\":{\"status\":\"quota_exceeded\",\"message\":\"This request exceeds your quota of 32184. You have 11 credits remaining, while 81 credits are required for this request.\"}}",
     "output_type": "error",
     "traceback": [
      "\u001b[1;31m---------------------------------------------------------------------------\u001b[0m",
      "\u001b[1;31mException\u001b[0m                                 Traceback (most recent call last)",
      "File \u001b[1;32my:\\Python Scripts\\audio-language-trainer\\src\\audio_generation.py:403\u001b[0m, in \u001b[0;36mtext_to_speech_elevenlabs\u001b[1;34m(text, voice_model, speaking_rate, is_ssml)\u001b[0m\n\u001b[0;32m    402\u001b[0m \u001b[38;5;28;01mif\u001b[39;00m response\u001b[38;5;241m.\u001b[39mstatus_code \u001b[38;5;241m!=\u001b[39m \u001b[38;5;241m200\u001b[39m:\n\u001b[1;32m--> 403\u001b[0m     \u001b[38;5;28;01mraise\u001b[39;00m \u001b[38;5;167;01mException\u001b[39;00m(\n\u001b[0;32m    404\u001b[0m         \u001b[38;5;124mf\u001b[39m\u001b[38;5;124m\"\u001b[39m\u001b[38;5;124mAPI request failed with status code \u001b[39m\u001b[38;5;132;01m{\u001b[39;00mresponse\u001b[38;5;241m.\u001b[39mstatus_code\u001b[38;5;132;01m}\u001b[39;00m\u001b[38;5;124m: \u001b[39m\u001b[38;5;132;01m{\u001b[39;00mresponse\u001b[38;5;241m.\u001b[39mtext\u001b[38;5;132;01m}\u001b[39;00m\u001b[38;5;124m\"\u001b[39m\n\u001b[0;32m    405\u001b[0m     )\n\u001b[0;32m    407\u001b[0m \u001b[38;5;66;03m# Convert response to audio segment\u001b[39;00m\n",
      "\u001b[1;31mException\u001b[0m: API request failed with status code 401: {\"detail\":{\"status\":\"quota_exceeded\",\"message\":\"This request exceeds your quota of 32184. You have 11 credits remaining, while 81 credits are required for this request.\"}}",
      "\nDuring handling of the above exception, another exception occurred:\n",
      "\u001b[1;31mException\u001b[0m                                 Traceback (most recent call last)",
      "Cell \u001b[1;32mIn[13], line 7\u001b[0m\n\u001b[0;32m      4\u001b[0m translated_file_path \u001b[38;5;241m=\u001b[39m get_story_translated_dialogue_path(story_name, collection\u001b[38;5;241m=\u001b[39m\u001b[38;5;124m\"\u001b[39m\u001b[38;5;124mLM1000\u001b[39m\u001b[38;5;124m\"\u001b[39m)\n\u001b[0;32m      6\u001b[0m translated_dialogue \u001b[38;5;241m=\u001b[39m read_from_gcs(config\u001b[38;5;241m.\u001b[39mGCS_PRIVATE_BUCKET, translated_file_path)\n\u001b[1;32m----> 7\u001b[0m \u001b[43mgenerate_dialogue_audio_and_upload\u001b[49m\u001b[43m(\u001b[49m\u001b[43mtranslated_dialogue\u001b[49m\u001b[43m,\u001b[49m\u001b[43m \u001b[49m\u001b[43mstory_name\u001b[49m\u001b[43m,\u001b[49m\u001b[43m \u001b[49m\u001b[43moverwrite\u001b[49m\u001b[38;5;241;43m=\u001b[39;49m\u001b[38;5;28;43;01mTrue\u001b[39;49;00m\u001b[43m)\u001b[49m\n",
      "File \u001b[1;32my:\\Python Scripts\\audio-language-trainer\\src\\audio_generation.py:1106\u001b[0m, in \u001b[0;36mgenerate_dialogue_audio_and_upload\u001b[1;34m(translated_dialogue_dict, story_name, collection, bucket_name, overwrite)\u001b[0m\n\u001b[0;32m   1103\u001b[0m     audio_uri \u001b[38;5;241m=\u001b[39m \u001b[38;5;124mf\u001b[39m\u001b[38;5;124m\"\u001b[39m\u001b[38;5;124mgs://\u001b[39m\u001b[38;5;132;01m{\u001b[39;00mbucket_name\u001b[38;5;132;01m}\u001b[39;00m\u001b[38;5;124m/\u001b[39m\u001b[38;5;132;01m{\u001b[39;00maudio_path\u001b[38;5;132;01m}\u001b[39;00m\u001b[38;5;124m\"\u001b[39m\n\u001b[0;32m   1104\u001b[0m \u001b[38;5;28;01melse\u001b[39;00m:\n\u001b[0;32m   1105\u001b[0m     \u001b[38;5;66;03m# Generate and upload audio\u001b[39;00m\n\u001b[1;32m-> 1106\u001b[0m     audio_uri \u001b[38;5;241m=\u001b[39m \u001b[43mgenerate_and_upload_audio_for_utterance\u001b[49m\u001b[43m(\u001b[49m\n\u001b[0;32m   1107\u001b[0m \u001b[43m        \u001b[49m\u001b[43mutterance\u001b[49m\u001b[43m,\u001b[49m\n\u001b[0;32m   1108\u001b[0m \u001b[43m        \u001b[49m\u001b[43mstory_part\u001b[49m\u001b[43m,\u001b[49m\n\u001b[0;32m   1109\u001b[0m \u001b[43m        \u001b[49m\u001b[43mutterance_index\u001b[49m\u001b[43m,\u001b[49m\n\u001b[0;32m   1110\u001b[0m \u001b[43m        \u001b[49m\u001b[43mstory_name\u001b[49m\u001b[43m,\u001b[49m\n\u001b[0;32m   1111\u001b[0m \u001b[43m        \u001b[49m\u001b[43mcollection\u001b[49m\u001b[43m,\u001b[49m\n\u001b[0;32m   1112\u001b[0m \u001b[43m        \u001b[49m\u001b[43mbucket_name\u001b[49m\u001b[43m,\u001b[49m\n\u001b[0;32m   1113\u001b[0m \u001b[43m    \u001b[49m\u001b[43m)\u001b[49m\n\u001b[0;32m   1114\u001b[0m     \u001b[38;5;28mprint\u001b[39m(\u001b[38;5;124mf\u001b[39m\u001b[38;5;124m\"\u001b[39m\u001b[38;5;124mGenerated and uploaded: \u001b[39m\u001b[38;5;132;01m{\u001b[39;00maudio_uri\u001b[38;5;132;01m}\u001b[39;00m\u001b[38;5;124m\"\u001b[39m)\n\u001b[0;32m   1116\u001b[0m audio_uris[story_part]\u001b[38;5;241m.\u001b[39mappend(audio_uri)\n",
      "File \u001b[1;32my:\\Python Scripts\\audio-language-trainer\\src\\audio_generation.py:1018\u001b[0m, in \u001b[0;36mgenerate_and_upload_audio_for_utterance\u001b[1;34m(utterance, story_part, utterance_index, story_name, collection, bucket_name)\u001b[0m\n\u001b[0;32m   1015\u001b[0m gender \u001b[38;5;241m=\u001b[39m \u001b[38;5;124m\"\u001b[39m\u001b[38;5;124mMALE\u001b[39m\u001b[38;5;124m\"\u001b[39m \u001b[38;5;28;01mif\u001b[39;00m utterance[\u001b[38;5;124m\"\u001b[39m\u001b[38;5;124mspeaker\u001b[39m\u001b[38;5;124m\"\u001b[39m] \u001b[38;5;241m==\u001b[39m \u001b[38;5;124m\"\u001b[39m\u001b[38;5;124mSam\u001b[39m\u001b[38;5;124m\"\u001b[39m \u001b[38;5;28;01melse\u001b[39;00m \u001b[38;5;124m\"\u001b[39m\u001b[38;5;124mFEMALE\u001b[39m\u001b[38;5;124m\"\u001b[39m\n\u001b[0;32m   1017\u001b[0m \u001b[38;5;66;03m# Generate audio for this utterance\u001b[39;00m\n\u001b[1;32m-> 1018\u001b[0m audio \u001b[38;5;241m=\u001b[39m \u001b[43mtext_to_speech\u001b[49m\u001b[43m(\u001b[49m\n\u001b[0;32m   1019\u001b[0m \u001b[43m    \u001b[49m\u001b[43mutterance\u001b[49m\u001b[43m[\u001b[49m\u001b[38;5;124;43m\"\u001b[39;49m\u001b[38;5;124;43mtext\u001b[39;49m\u001b[38;5;124;43m\"\u001b[39;49m\u001b[43m]\u001b[49m\u001b[43m,\u001b[49m\n\u001b[0;32m   1020\u001b[0m \u001b[43m    \u001b[49m\u001b[43mconfig_language\u001b[49m\u001b[38;5;241;43m=\u001b[39;49m\u001b[38;5;124;43m\"\u001b[39;49m\u001b[38;5;124;43mtarget\u001b[39;49m\u001b[38;5;124;43m\"\u001b[39;49m\u001b[43m,\u001b[49m\n\u001b[0;32m   1021\u001b[0m \u001b[43m    \u001b[49m\u001b[43mgender\u001b[49m\u001b[38;5;241;43m=\u001b[39;49m\u001b[43mgender\u001b[49m\u001b[43m,\u001b[49m\n\u001b[0;32m   1022\u001b[0m \u001b[43m    \u001b[49m\u001b[43mspeaking_rate\u001b[49m\u001b[38;5;241;43m=\u001b[39;49m\u001b[38;5;241;43m1.0\u001b[39;49m\u001b[43m,\u001b[49m\n\u001b[0;32m   1023\u001b[0m \u001b[43m    \u001b[49m\u001b[43mvoice_setting\u001b[49m\u001b[38;5;241;43m=\u001b[39;49m\u001b[38;5;124;43m\"\u001b[39;49m\u001b[38;5;124;43mstories\u001b[39;49m\u001b[38;5;124;43m\"\u001b[39;49m\u001b[43m,\u001b[49m\n\u001b[0;32m   1024\u001b[0m \u001b[43m\u001b[49m\u001b[43m)\u001b[49m\n\u001b[0;32m   1026\u001b[0m audio_path \u001b[38;5;241m=\u001b[39m get_utterance_audio_path(\n\u001b[0;32m   1027\u001b[0m     story_name,\n\u001b[0;32m   1028\u001b[0m     story_part,\n\u001b[1;32m   (...)\u001b[0m\n\u001b[0;32m   1032\u001b[0m     collection,\n\u001b[0;32m   1033\u001b[0m )\n\u001b[0;32m   1034\u001b[0m \u001b[38;5;66;03m# Upload the audio\u001b[39;00m\n",
      "File \u001b[1;32my:\\Python Scripts\\audio-language-trainer\\src\\audio_generation.py:198\u001b[0m, in \u001b[0;36mtext_to_speech\u001b[1;34m(text, config_language, gender, speaking_rate, is_ssml, voice_setting)\u001b[0m\n\u001b[0;32m    196\u001b[0m     \u001b[38;5;28;01mreturn\u001b[39;00m text_to_speech_azure(text, voice_model, speaking_rate, is_ssml)\n\u001b[0;32m    197\u001b[0m \u001b[38;5;28;01melif\u001b[39;00m voice_model\u001b[38;5;241m.\u001b[39mprovider \u001b[38;5;241m==\u001b[39m VoiceProvider\u001b[38;5;241m.\u001b[39mELEVENLABS:\n\u001b[1;32m--> 198\u001b[0m     \u001b[38;5;28;01mreturn\u001b[39;00m \u001b[43mtext_to_speech_elevenlabs\u001b[49m\u001b[43m(\u001b[49m\u001b[43mtext\u001b[49m\u001b[43m,\u001b[49m\u001b[43m \u001b[49m\u001b[43mvoice_model\u001b[49m\u001b[43m,\u001b[49m\u001b[43m \u001b[49m\u001b[43mspeaking_rate\u001b[49m\u001b[43m,\u001b[49m\u001b[43m \u001b[49m\u001b[43mis_ssml\u001b[49m\u001b[43m)\u001b[49m\n\u001b[0;32m    199\u001b[0m \u001b[38;5;28;01melse\u001b[39;00m:\n\u001b[0;32m    200\u001b[0m     \u001b[38;5;28;01mraise\u001b[39;00m \u001b[38;5;167;01mValueError\u001b[39;00m(\u001b[38;5;124mf\u001b[39m\u001b[38;5;124m\"\u001b[39m\u001b[38;5;124mUnsupported voice provider: \u001b[39m\u001b[38;5;132;01m{\u001b[39;00mvoice_model\u001b[38;5;241m.\u001b[39mprovider\u001b[38;5;132;01m}\u001b[39;00m\u001b[38;5;124m\"\u001b[39m)\n",
      "File \u001b[1;32my:\\Python Scripts\\audio-language-trainer\\src\\audio_generation.py:412\u001b[0m, in \u001b[0;36mtext_to_speech_elevenlabs\u001b[1;34m(text, voice_model, speaking_rate, is_ssml)\u001b[0m\n\u001b[0;32m    409\u001b[0m     \u001b[38;5;28;01mreturn\u001b[39;00m AudioSegment\u001b[38;5;241m.\u001b[39mfrom_mp3(audio_bytes)\n\u001b[0;32m    411\u001b[0m \u001b[38;5;28;01mexcept\u001b[39;00m \u001b[38;5;167;01mException\u001b[39;00m \u001b[38;5;28;01mas\u001b[39;00m e:\n\u001b[1;32m--> 412\u001b[0m     \u001b[38;5;28;01mraise\u001b[39;00m \u001b[38;5;167;01mException\u001b[39;00m(\u001b[38;5;124mf\u001b[39m\u001b[38;5;124m\"\u001b[39m\u001b[38;5;124mElevenLabs speech synthesis error: \u001b[39m\u001b[38;5;132;01m{\u001b[39;00m\u001b[38;5;28mstr\u001b[39m(e)\u001b[38;5;132;01m}\u001b[39;00m\u001b[38;5;124m\"\u001b[39m)\n",
      "\u001b[1;31mException\u001b[0m: ElevenLabs speech synthesis error: API request failed with status code 401: {\"detail\":{\"status\":\"quota_exceeded\",\"message\":\"This request exceeds your quota of 32184. You have 11 credits remaining, while 81 credits are required for this request.\"}}"
     ]
    }
   ],
   "source": [
    "from src.audio_generation import generate_dialogue_audio_and_upload\n",
    "for story_name in all_stories:\n",
    "    # get the dialogue\n",
    "    translated_file_path = get_story_translated_dialogue_path(story_name, collection=COLLECTION)\n",
    "\n",
    "    translated_dialogue = read_from_gcs(config.GCS_PRIVATE_BUCKET, translated_file_path)\n",
    "    generate_dialogue_audio_and_upload(translated_dialogue, story_name, collection=COLLECTION, overwrite=True)"
   ]
  },
  {
   "cell_type": "markdown",
   "metadata": {},
   "source": [
    "### Fast Audio \n",
    "1 file for each story part"
   ]
  },
  {
   "cell_type": "code",
   "execution_count": null,
   "metadata": {},
   "outputs": [],
   "source": [
    "from src.audio_generation import generate_and_upload_fast_audio\n",
    "\n",
    "for story_name in tqdm(all_stories):\n",
    "    # uploads 1 fast mp3 file for each story part. \n",
    "    generate_and_upload_fast_audio(story_name, collection=COLLECTION, overwrite=True)"
   ]
  },
  {
   "cell_type": "markdown",
   "metadata": {},
   "source": [
    "## Upload challenges"
   ]
  },
  {
   "cell_type": "code",
   "execution_count": null,
   "metadata": {},
   "outputs": [],
   "source": [
    "from src.chat import get_html_challenge_inputs, create_html_challenges\n",
    "from src.gcs_storage import upload_to_gcs, get_story_challenges_path, get_story_translated_challenges_path, read_from_gcs\n",
    "\n",
    "for story_name in all_stories:\n",
    "    challenge_file_path = get_story_challenges_path(story_name, collection=COLLECTION)\n",
    "    scenario_dicts = read_from_gcs(bucket_name=config.GCS_PRIVATE_BUCKET, file_path=challenge_file_path)\n",
    "    challenges = get_html_challenge_inputs(scenario_dicts)\n",
    "    chat_webpage_file = create_html_challenges(challenges, story_name=story_name, collection=COLLECTION) # this creates and uploades\n"
   ]
  },
  {
   "cell_type": "code",
   "execution_count": null,
   "metadata": {},
   "outputs": [],
   "source": []
  }
 ],
 "metadata": {
  "kernelspec": {
   "display_name": ".venv",
   "language": "python",
   "name": "python3"
  },
  "language_info": {
   "codemirror_mode": {
    "name": "ipython",
    "version": 3
   },
   "file_extension": ".py",
   "mimetype": "text/x-python",
   "name": "python",
   "nbconvert_exporter": "python",
   "pygments_lexer": "ipython3",
   "version": "3.12.0"
  }
 },
 "nbformat": 4,
 "nbformat_minor": 2
}
