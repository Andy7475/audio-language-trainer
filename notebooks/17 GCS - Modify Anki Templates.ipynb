{
 "cells": [
  {
   "cell_type": "code",
   "execution_count": 1,
   "metadata": {},
   "outputs": [],
   "source": [
    "from google.auth import default\n",
    "credentials, project = default()"
   ]
  },
  {
   "cell_type": "code",
   "execution_count": 1,
   "metadata": {},
   "outputs": [],
   "source": [
    "import spacy"
   ]
  },
  {
   "cell_type": "code",
   "execution_count": 2,
   "metadata": {},
   "outputs": [
    {
     "name": "stdout",
     "output_type": "stream",
     "text": [
      "Default FFmpeg path added to system PATH: C:\\Program Files\\ffmpeg-7.0-essentials_build\\bin\n"
     ]
    }
   ],
   "source": [
    "%load_ext autoreload\n",
    "%autoreload 2\n",
    "import os\n",
    "import sys\n",
    "from pathlib import Path\n",
    "module_path = os.path.abspath(os.path.join('..'))\n",
    "if module_path not in sys.path:\n",
    "    sys.path.append(module_path)\n",
    "\n",
    "from src.utils import load_json, save_text_file, load_text_file  # noqa: E402\n",
    "from src.config_loader import config\n",
    "from src.phrase import build_phrase_dict_from_gcs"
   ]
  },
  {
   "cell_type": "code",
   "execution_count": 36,
   "metadata": {},
   "outputs": [
    {
     "name": "stderr",
     "output_type": "stream",
     "text": [
      "Building phrase dictionary: 100%|██████████| 1/1 [00:00<00:00,  7.81it/s]\n"
     ]
    },
    {
     "name": "stdout",
     "output_type": "stream",
     "text": [
      "Exported normal audio to ../outputs/test_templates\\normal_lets_call_for_help_the_car_broke_down.mp3\n",
      "Exported slow audio to ../outputs/test_templates\\slow_lets_call_for_help_the_car_broke_down.mp3\n",
      "Exported image to ../outputs/test_templates\\lets_call_for_help_the_car_broke_down.png\n",
      "Generated test HTML files in '../outputs/test_templates' directory\n",
      "Open '../outputs/test_templates\\index.html' to navigate between the templates\n"
     ]
    }
   ],
   "source": [
    "from src.template_testing import generate_test_html\n",
    "    # You can adjust these parameters as needed\n",
    "generate_test_html(\n",
    "    phrase_key=\"lets_call_for_help_the_car_broke_down\",\n",
    "    output_dir=\"../outputs/test_templates\",\n",
    "    collection=\"LM1000\",\n",
    "    bucket_name=None,  # Will use default from config\n",
    ")\n"
   ]
  },
  {
   "cell_type": "code",
   "execution_count": 39,
   "metadata": {},
   "outputs": [
    {
     "name": "stdout",
     "output_type": "stream",
     "text": [
      "Connected to Anki collection: C:/Users/i5/AppData/Roaming/Anki2/User 1/collection.anki2\n",
      "Successfully updated templates for model: Language Practice With Images\n",
      "Successfully updated templates\n",
      "Model: Language Practice With Images\n",
      "ID: 1607392434\n",
      "Fields: ['TargetText', 'TargetAudio', 'TargetAudioSlow', 'EnglishText', 'WiktionaryLinks', 'Picture', 'TargetLanguageName']\n",
      "Templates: ['Listening Card', 'Reading Card', 'Speaking Card']\n",
      "CSS Length: 9484 characters\n",
      "\n",
      "Template 1: Listening Card\n",
      "Question format (first 100 chars): <div class=\"card\">\n",
      "    <div class=\"picture-container\">\n",
      "        <div class=\"flip-container flip-conta...\n",
      "Answer format (first 100 chars): <div class=\"card\">\n",
      "    <hr id=\"answer\">\n",
      "    <div class=\"picture-container\">{{Picture}}</div>\n",
      "    \n",
      "  ...\n",
      "\n",
      "Template 2: Reading Card\n",
      "Question format (first 100 chars): <div class=\"card\">\n",
      "    <div class=\"picture-container\">{{Picture}}</div>\n",
      "\n",
      "    <div class=\"target-text...\n",
      "Answer format (first 100 chars): <div class=\"card\">\n",
      "    <hr id=\"answer\">\n",
      "    <div class=\"picture-container\">{{Picture}}</div>\n",
      "    \n",
      "  ...\n",
      "\n",
      "Template 3: Speaking Card\n",
      "Question format (first 100 chars): <div class=\"card\">\n",
      "    <div class=\"picture-container\">{{Picture}}</div>  \n",
      "\n",
      "    <div class=\"english-t...\n",
      "Answer format (first 100 chars): <div class=\"card\">\n",
      "    <hr id=\"answer\">\n",
      "    <div class=\"picture-container\">{{Picture}}</div>\n",
      "    \n",
      "  ...\n"
     ]
    }
   ],
   "source": [
    "from src.anki_tools import update_language_model_templates\n",
    "update_language_model_templates(model_id = 1607392313, model_name =\"Language Practice With Images\")\n"
   ]
  },
  {
   "cell_type": "code",
   "execution_count": null,
   "metadata": {},
   "outputs": [],
   "source": []
  }
 ],
 "metadata": {
  "kernelspec": {
   "display_name": ".venv",
   "language": "python",
   "name": "python3"
  },
  "language_info": {
   "codemirror_mode": {
    "name": "ipython",
    "version": 3
   },
   "file_extension": ".py",
   "mimetype": "text/x-python",
   "name": "python",
   "nbconvert_exporter": "python",
   "pygments_lexer": "ipython3",
   "version": "3.11.4"
  }
 },
 "nbformat": 4,
 "nbformat_minor": 2
}
