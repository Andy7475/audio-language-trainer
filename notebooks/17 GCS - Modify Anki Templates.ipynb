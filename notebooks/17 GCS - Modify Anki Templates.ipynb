{
 "cells": [
  {
   "cell_type": "code",
   "execution_count": 1,
   "metadata": {},
   "outputs": [],
   "source": [
    "from google.auth import default\n",
    "credentials, project = default()"
   ]
  },
  {
   "cell_type": "code",
   "execution_count": 4,
   "metadata": {},
   "outputs": [
    {
     "name": "stdout",
     "output_type": "stream",
     "text": [
      "The autoreload extension is already loaded. To reload it, use:\n",
      "  %reload_ext autoreload\n"
     ]
    }
   ],
   "execution_count": null,
   "metadata": {},
   "outputs": [],
   "source": [
    "%load_ext autoreload\n",
    "%autoreload 2\n",
    "import os\n",
    "import sys\n",
    "from pathlib import Path\n",
    "module_path = os.path.abspath(os.path.join('..'))\n",
    "if module_path not in sys.path:\n",
    "    sys.path.append(module_path)\n",
    "\n",
    "from src.utils import load_json, save_text_file, load_text_file  # noqa: E402\n",
    "from src.config_loader import config\n",
    "from src.phrase import build_phrase_dict_from_gcs"
   ]
  },
  {
   "cell_type": "code",
   "execution_count": 10,
   "execution_count": null,
   "metadata": {},
   "outputs": [
    {
     "name": "stderr",
     "output_type": "stream",
     "text": [
      "Building phrase dictionary: 100%|██████████| 1/1 [00:00<00:00,  7.47it/s]\n"
     ]
    },
    {
     "name": "stdout",
     "output_type": "stream",
     "text": [
      "Exported normal audio to ../outputs/test_templates\\normal_lets_call_for_help_the_car_broke_down.mp3\n",
      "Exported slow audio to ../outputs/test_templates\\slow_lets_call_for_help_the_car_broke_down.mp3\n",
      "Exported image to ../outputs/test_templates\\lets_call_for_help_the_car_broke_down.png\n",
      "Generated test HTML files in '../outputs/test_templates' directory\n",
      "Open '../outputs/test_templates\\index.html' to navigate between the templates\n"
     ]
    }
   ],
   "outputs": [],
   "source": [
    "from src.template_testing import generate_test_html\n",
    "    # You can adjust these parameters as needed\n",
    "generate_test_html(\n",
    "    phrase_key=\"lets_call_for_help_the_car_broke_down\",\n",
    "    output_dir=\"../outputs/test_templates\",\n",
    "    collection=\"LM1000\",\n",
    "    bucket_name=None,  # Will use default from config\n",
    ")\n"
   ]
  },
  {
   "cell_type": "code",
   "execution_count": 11,
   "metadata": {},
   "outputs": [
    {
     "data": {
      "text/plain": [
       "'../outputs/test_templates/listening_back.png'"
      ]
     },
     "execution_count": 11,
     "metadata": {},
     "output_type": "execute_result"
    }
   ],
   "source": [
    "from src.template_testing import create_png_of_html\n",
    "create_png_of_html(\"../outputs/test_templates/listening_back.html\", \n",
    "                   output_path=\"../outputs/test_templates/listening_back.png\",\n",
    "                   height=1100)"
   ]
  },
  {
   "cell_type": "code",
   "execution_count": null,
   "metadata": {},
   "outputs": [],
   "source": [
    "from src.anki_tools import update_language_model_templates\n",
    "update_language_model_templates(model_id = 1607392313, model_name =\"Language Practice With Images\")\n"
   ]
  },
  {
   "cell_type": "markdown",
   "metadata": {},
   "source": [
    "# Modify a phrase"
   ]
  },
  {
   "cell_type": "code",
   "execution_count": null,
   "metadata": {},
   "outputs": [],
   "source": [
    "from src.utils import change_phrase\n",
    "change_phrase(\"Suddenly, it all became clear as a sheet.\", \"Suddenly, it all became clear as day.\", keep_image=True, collection=\"LM1000\")"
   ]
  }
 ],
 "metadata": {
  "kernelspec": {
   "display_name": ".venv",
   "language": "python",
   "name": "python3"
  },
  "language_info": {
   "codemirror_mode": {
    "name": "ipython",
    "version": 3
   },
   "file_extension": ".py",
   "mimetype": "text/x-python",
   "name": "python",
   "nbconvert_exporter": "python",
   "pygments_lexer": "ipython3",
   "version": "3.12.0"
  }
 },
 "nbformat": 4,
 "nbformat_minor": 2
}
