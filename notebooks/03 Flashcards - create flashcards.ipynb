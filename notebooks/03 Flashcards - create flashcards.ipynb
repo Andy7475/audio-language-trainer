{
 "cells": [
  {
   "cell_type": "code",
   "execution_count": 3,
   "metadata": {},
   "outputs": [
    {
     "name": "stdout",
     "output_type": "stream",
     "text": [
      "The autoreload extension is already loaded. To reload it, use:\n",
      "  %reload_ext autoreload\n"
     ]
    }
   ],
   "source": [
    "%load_ext autoreload\n",
    "%autoreload 2\n",
    "import os\n",
    "import sys\n",
    "\n",
    "module_path = os.path.abspath(os.path.join('..'))\n",
    "if module_path not in sys.path:\n",
    "    sys.path.append(module_path)\n",
    "\n",
    "PAY_FOR_API = True #change to True to run cells that cost money via API calls"
   ]
  },
  {
   "cell_type": "markdown",
   "metadata": {},
   "source": [
    "# Flash Card Generation 03\n",
    "\n",
    "## Generate flash cards\n",
    "\n",
    "The english phrases (01 notebook) and images (02 notebook) can now be re-used on whatever language you want.\n",
    "\n",
    "The translation and audio generation gets done at the same time as exporting to our unique RapidRetain flash card format.\n",
    "\n",
    "_IMPORTANT_\n",
    "\n",
    "If you are learning more than one language, to prevent memory interference, you should use a different set of images with each language."
   ]
  },
  {
   "cell_type": "markdown",
   "metadata": {},
   "source": [
    "### Load phrases\n",
    "\n",
    "I've already generated some phrases using the longman corpus from earlier"
   ]
  },
  {
   "cell_type": "code",
   "execution_count": 4,
   "metadata": {},
   "outputs": [
    {
     "name": "stdout",
     "output_type": "stream",
     "text": [
      "(\"First few phrases ['Eighteen yellow flowers on Saturday', 'Seventeen \"\n",
      " \"balloons for my birthday']\")\n"
     ]
    }
   ],
   "source": [
    "from src.anki_tools import create_anki_deck_from_english_phrase_list, export_to_anki_with_images\n",
    "from src.utils import load_text_file, save_json, load_json\n",
    "from pprint import pprint\n",
    "import random\n",
    "\n",
    "filepath = \"../data/numbers_days copy.txt\"\n",
    "phrases = load_text_file(filepath)\n",
    "pprint(f\"First few phrases {phrases[:10]}\")"
   ]
  },
  {
   "cell_type": "markdown",
   "metadata": {},
   "source": [
    "### Generate the flash cards\n",
    "\n",
    "The main function (under the hood) is export_to_anki_with_images()\n",
    "An earlier version of the code created flashcards without images (export_to_anki)\n",
    "\n",
    "Assuming you ran notebook 02 against your phrases, then this next step is a single line of code:"
   ]
  },
  {
   "cell_type": "code",
   "execution_count": 8,
   "metadata": {},
   "outputs": [
    {
     "name": "stdout",
     "output_type": "stream",
     "text": [
      "['Eighteen yellow flowers on Saturday', 'Seventeen balloons for my birthday']\n",
      "VoiceInfo(name='en-GB-Studio-B', provider=<VoiceProvider.GOOGLE: 'google'>, voice_type=<VoiceType.STUDIO: 'studio'>, gender='MALE', language_code='en-GB', country_code='GB', voice_id='en-GB-Studio-B')\n",
      "VoiceInfo(name='sv-SE-Wavenet-A', provider=<VoiceProvider.GOOGLE: 'google'>, voice_type=<VoiceType.WAVENET: 'wavenet'>, gender='FEMALE', language_code='sv-SE', country_code='SE', voice_id='sv-SE-Wavenet-A')\n",
      "VoiceInfo(name='sv-SE-Wavenet-C', provider=<VoiceProvider.GOOGLE: 'google'>, voice_type=<VoiceType.WAVENET: 'wavenet'>, gender='MALE', language_code='sv-SE', country_code='SE', voice_id='sv-SE-Wavenet-C')\n",
      "Swedish\n",
      "RapidRetention - Swedish - NumbersDays\n"
     ]
    }
   ],
   "source": [
    "import random\n",
    "from src.config_loader import config\n",
    "\n",
    "config._load_config() #worth doing if you are switching between languages etc\n",
    "image_dir = \"../outputs/images/numbers_days\"\n",
    "assert os.path.exists(image_dir)\n",
    "anki_output_dir = f\"../outputs/flashcards/{config.TARGET_LANGUAGE_NAME.lower()}\"\n",
    "deck_name = f\"RapidRetention - {config.TARGET_LANGUAGE_NAME} - NumbersDays\" #this is used to genearte the Deck ID in Anki\n",
    "anki_filename_prefix = f\"longman_numberDays_{config.TARGET_LANGUAGE_NAME.lower()}\"\n",
    "pprint(phrases[:10])\n",
    "\n",
    "#may need to override voices to suppport speaking rate adjustments, do this\n",
    "# in the config.json file by setting the relevent voice ID:\n",
    "# \"TARGET_LANGUAGE_FEMALE_VOICE\": \"it-IT-WaveNet-E\", etc or null if you don't want to override\n",
    "\n",
    "voice_models = config.get_voice_models()\n",
    "for vm in voice_models:\n",
    "    print(vm)\n",
    "print(config.TARGET_LANGUAGE_NAME)\n",
    "print(deck_name)"
   ]
  },
  {
   "cell_type": "code",
   "execution_count": 6,
   "metadata": {},
   "outputs": [
    {
     "name": "stderr",
     "output_type": "stream",
     "text": [
      "adding translations:   0%|          | 0/1 [00:00<?, ?it/s]"
     ]
    },
    {
     "name": "stdout",
     "output_type": "stream",
     "text": [
      "Beginning translation for anki\n"
     ]
    },
    {
     "name": "stderr",
     "output_type": "stream",
     "text": [
      "adding translations: 100%|██████████| 1/1 [00:01<00:00,  1.66s/it]\n"
     ]
    },
    {
     "name": "stdout",
     "output_type": "stream",
     "text": [
      "Translated phrases\n",
      "\n"
     ]
    },
    {
     "name": "stderr",
     "output_type": "stream",
     "text": [
      "Generating audio: 100%|██████████| 2/2 [00:07<00:00,  3.81s/it]\n",
      "adding audio: 100%|██████████| 1/1 [00:07<00:00,  7.62s/it]\n"
     ]
    },
    {
     "name": "stdout",
     "output_type": "stream",
     "text": [
      "Text-to-speech for phrases done\n",
      "\n"
     ]
    },
    {
     "name": "stderr",
     "output_type": "stream",
     "text": [
      "Processing story parts: 100%|██████████| 1/1 [00:00<00:00, 124.96it/s]\n"
     ]
    },
    {
     "name": "stdout",
     "output_type": "stream",
     "text": [
      "Warning: Image not found or not readable: ../outputs/images/numbers_days\\seventeen_balloons_for_my_birthday.png\n"
     ]
    },
    {
     "name": "stderr",
     "output_type": "stream",
     "text": [
      "generating image and sound files: 2it [00:13,  6.99s/it]\n",
      "adding notes to deck: 100%|██████████| 2/2 [00:00<?, ?it/s]\n"
     ]
    },
    {
     "name": "stdout",
     "output_type": "stream",
     "text": [
      "Anki deck exported to ../outputs/flashcards/swedish\\longman_numberDays_swedish_0_anki_deck.apkg\n"
     ]
    },
    {
     "name": "stderr",
     "output_type": "stream",
     "text": [
      "deleting temp files: 100%|██████████| 5/5 [00:00<00:00, 2496.31it/s]"
     ]
    },
    {
     "name": "stdout",
     "output_type": "stream",
     "text": [
      "Cleanup of temporary files completed.\n"
     ]
    },
    {
     "name": "stderr",
     "output_type": "stream",
     "text": [
      "\n"
     ]
    }
   ],
   "source": [
    "\n",
    "if PAY_FOR_API:\n",
    "  anki_data = create_anki_deck_from_english_phrase_list(phrase_list=phrases,\n",
    "                                                      deck_name = deck_name,\n",
    "                                                      anki_filename_prefix=anki_filename_prefix,\n",
    "                                                      batch_size=50, #saves in batches of 50 notes per apkg file - useful for very large decks to split up\n",
    "                                                      output_dir=anki_output_dir,\n",
    "                                                      image_dir=image_dir #this is where our images are stored\n",
    "                                                    )\n",
    "\n",
    "\n"
   ]
  },
  {
   "cell_type": "markdown",
   "metadata": {},
   "source": [
    "### Testing / Development\n",
    "The anki_data is a dictionary which contains all translations, and audio, you can re-use this to save on API costs if iterating over flashcard design / testing, or if you want to save the data, and create the flashcards later."
   ]
  },
  {
   "cell_type": "code",
   "execution_count": null,
   "metadata": {},
   "outputs": [],
   "source": []
  },
  {
   "cell_type": "code",
   "execution_count": 9,
   "metadata": {},
   "outputs": [
    {
     "name": "stderr",
     "output_type": "stream",
     "text": [
      "Processing story parts: 100%|██████████| 1/1 [00:00<00:00, 142.85it/s]\n"
     ]
    }
   ],
   "source": [
    "from src.images import add_image_paths\n",
    "\n",
    "anki_data = add_image_paths(anki_data, image_dir=image_dir) #adds the image directory filepaths to the dictionary\n"
   ]
  },
  {
   "cell_type": "code",
   "execution_count": 13,
   "metadata": {},
   "outputs": [
    {
     "name": "stderr",
     "output_type": "stream",
     "text": [
      "generating image and sound files: 2it [00:02,  1.21s/it]\n",
      "adding notes to deck: 100%|██████████| 2/2 [00:00<?, ?it/s]\n"
     ]
    },
    {
     "name": "stdout",
     "output_type": "stream",
     "text": [
      "Anki deck exported to ../outputs/flashcards/swedish\\longman_numberDays_swedish_anki_deck.apkg\n"
     ]
    },
    {
     "name": "stderr",
     "output_type": "stream",
     "text": [
      "deleting temp files: 100%|██████████| 6/6 [00:00<00:00, 2012.62it/s]"
     ]
    },
    {
     "name": "stdout",
     "output_type": "stream",
     "text": [
      "Cleanup of temporary files completed.\n"
     ]
    },
    {
     "name": "stderr",
     "output_type": "stream",
     "text": [
      "\n"
     ]
    }
   ],
   "source": [
    "\n",
    "export_to_anki_with_images(anki_data,\n",
    "                           output_dir= anki_output_dir,\n",
    "                           story_name=anki_filename_prefix,\n",
    "                           deck_name=deck_name)"
   ]
  },
  {
   "cell_type": "code",
   "execution_count": null,
   "metadata": {},
   "outputs": [],
   "source": [
    "config.config.TARGET_LANGUAGE_NAME"
   ]
  }
 ],
 "metadata": {
  "kernelspec": {
   "display_name": ".venv",
   "language": "python",
   "name": "python3"
  },
  "language_info": {
   "codemirror_mode": {
    "name": "ipython",
    "version": 3
   },
   "file_extension": ".py",
   "mimetype": "text/x-python",
   "name": "python",
   "nbconvert_exporter": "python",
   "pygments_lexer": "ipython3",
   "version": "3.11.4"
  }
 },
 "nbformat": 4,
 "nbformat_minor": 2
}
