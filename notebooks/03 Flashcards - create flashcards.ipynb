{
 "cells": [
  {
   "cell_type": "code",
   "execution_count": 2,
   "metadata": {},
   "outputs": [],
   "source": [
    "%load_ext autoreload\n",
    "%autoreload 2\n",
    "import os\n",
    "import sys\n",
    "\n",
    "module_path = os.path.abspath(os.path.join('..'))\n",
    "if module_path not in sys.path:\n",
    "    sys.path.append(module_path)\n",
    "\n",
    "PAY_FOR_API = True #change to True to run cells that cost money via API calls"
   ]
  },
  {
   "cell_type": "markdown",
   "metadata": {},
   "source": [
    "# Flash Card Generation 03\n",
    "\n",
    "## Generate flash cards\n",
    "\n",
    "The english phrases (01 notebook) and images (02 notebook) can now be re-used on whatever language you want.\n",
    "\n",
    "The translation and audio generation gets done at the same time as exporting to our unique RapidRetain flash card format.\n",
    "\n",
    "_IMPORTANT_\n",
    "\n",
    "If you are learning more than one language, to prevent memory interference, you should use a different set of images with each language."
   ]
  },
  {
   "cell_type": "markdown",
   "metadata": {},
   "source": [
    "### Load phrases\n",
    "\n",
    "I've already generated some phrases using the longman corpus from earlier"
   ]
  },
  {
   "cell_type": "code",
   "execution_count": 3,
   "metadata": {},
   "outputs": [
    {
     "name": "stdout",
     "output_type": "stream",
     "text": [
      "FFmpeg path added to system PATH: C:\\Program Files\\ffmpeg-7.0-essentials_build\\bin\n",
      "(\"First few phrases ['Three white cats on Monday', 'Seven red books on \"\n",
      " \"Tuesday', 'Twelve silver spoons at bedtime', 'Twenty gold stars in \"\n",
      " \"December', 'Five brown dogs in January', 'Eight grey birds in February', \"\n",
      " \"'Two pink cakes on Wednesday', 'Nine yellow bananas on Thursday', 'Sixteen \"\n",
      " \"purple grapes for breakfast', 'Four green apples in March']\")\n"
     ]
    }
   ],
   "source": [
    "from src.anki_tools import create_anki_deck_from_english_phrase_list, export_to_anki_with_images\n",
    "from src.utils import load_text_file, save_json, load_json\n",
    "from src.config_loader import config\n",
    "from pprint import pprint\n",
    "import random\n",
    "\n",
    "filepath = \"../data/numbers_days.txt\"\n",
    "phrases = load_text_file(filepath)\n",
    "pprint(f\"First few phrases {phrases[:10]}\")"
   ]
  },
  {
   "cell_type": "markdown",
   "metadata": {},
   "source": [
    "### Generate the flash cards\n",
    "\n",
    "The main function (under the hood) is export_to_anki_with_images()\n",
    "An earlier version of the code created flashcards without images (export_to_anki)\n",
    "\n",
    "Assuming you ran notebook 02 against your phrases, then this next step is a single line of code:"
   ]
  },
  {
   "cell_type": "code",
   "execution_count": 7,
   "metadata": {},
   "outputs": [
    {
     "name": "stdout",
     "output_type": "stream",
     "text": [
      "['Three white cats on Monday',\n",
      " 'Seven red books on Tuesday',\n",
      " 'Twelve silver spoons at bedtime',\n",
      " 'Twenty gold stars in December',\n",
      " 'Five brown dogs in January',\n",
      " 'Eight grey birds in February',\n",
      " 'Two pink cakes on Wednesday',\n",
      " 'Nine yellow bananas on Thursday',\n",
      " 'Sixteen purple grapes for breakfast',\n",
      " 'Four green apples in March']\n",
      "VoiceInfo(name='en-GB-Journey-D', provider=<VoiceProvider.GOOGLE: 'google'>, voice_type=<VoiceType.JOURNEY: 'journey'>, gender='MALE', language_code='en-GB', country_code='GB', voice_id='en-GB-Journey-D')\n",
      "VoiceInfo(name='sv-SE-Wavenet-A', provider=<VoiceProvider.GOOGLE: 'google'>, voice_type=<VoiceType.WAVENET: 'wavenet'>, gender='FEMALE', language_code='sv-SE', country_code='SE', voice_id='sv-SE-Wavenet-A')\n",
      "VoiceInfo(name='sv-SE-Wavenet-C', provider=<VoiceProvider.GOOGLE: 'google'>, voice_type=<VoiceType.WAVENET: 'wavenet'>, gender='MALE', language_code='sv-SE', country_code='SE', voice_id='sv-SE-Wavenet-C')\n",
      "Swedish\n",
      "RapidRetention - Swedish - NumbersDays\n"
     ]
    }
   ],
   "source": [
    "import random\n",
    "\n",
    "\n",
    "config._load_config() #worth doing if you are switching between languages etc\n",
    "image_dir = \"../outputs/images/numbers_days\"\n",
    "assert os.path.exists(image_dir)\n",
    "anki_output_dir = f\"../outputs/flashcards/{config.TARGET_LANGUAGE_NAME.lower()}\"\n",
    "deck_name = f\"RapidRetention - {config.TARGET_LANGUAGE_NAME} - NumbersDays\" #this is used to genearte the Deck ID in Anki\n",
    "anki_filename_prefix = f\"longman_numberDays_{config.TARGET_LANGUAGE_NAME.lower()}\"\n",
    "pprint(phrases[:10])\n",
    "voice_models = config.get_voice_models()\n",
    "for vm in voice_models:\n",
    "    print(vm)\n",
    "print(config.TARGET_LANGUAGE_NAME)\n",
    "print(deck_name)"
   ]
  },
  {
   "cell_type": "code",
   "execution_count": 8,
   "metadata": {},
   "outputs": [
    {
     "name": "stderr",
     "output_type": "stream",
     "text": [
      "adding translations:   0%|          | 0/1 [00:00<?, ?it/s]"
     ]
    },
    {
     "name": "stdout",
     "output_type": "stream",
     "text": [
      "Beginning translation for anki\n"
     ]
    },
    {
     "name": "stderr",
     "output_type": "stream",
     "text": [
      "adding translations: 100%|██████████| 1/1 [00:01<00:00,  1.63s/it]\n"
     ]
    },
    {
     "name": "stdout",
     "output_type": "stream",
     "text": [
      "Translated phrases\n",
      "\n"
     ]
    },
    {
     "name": "stderr",
     "output_type": "stream",
     "text": [
      "Generating audio: 100%|██████████| 24/24 [07:33<00:00, 18.91s/it]\n",
      "adding audio: 100%|██████████| 1/1 [07:33<00:00, 453.79s/it]\n"
     ]
    },
    {
     "name": "stdout",
     "output_type": "stream",
     "text": [
      "Text-to-speech for phrases done\n",
      "\n"
     ]
    },
    {
     "name": "stderr",
     "output_type": "stream",
     "text": [
      "Processing story parts: 100%|██████████| 1/1 [00:00<00:00, 110.98it/s]\n",
      "generating image and sound files: 24it [01:57,  4.88s/it]\n",
      "adding notes to deck: 100%|██████████| 24/24 [00:00<?, ?it/s]\n"
     ]
    },
    {
     "name": "stdout",
     "output_type": "stream",
     "text": [
      "Anki deck exported to ../outputs/flashcards/swedish\\longman_numberDays_swedish_0_anki_deck.apkg\n"
     ]
    },
    {
     "name": "stderr",
     "output_type": "stream",
     "text": [
      "deleting temp files: 100%|██████████| 72/72 [00:00<00:00, 4800.42it/s]"
     ]
    },
    {
     "name": "stdout",
     "output_type": "stream",
     "text": [
      "Cleanup of temporary files completed.\n"
     ]
    },
    {
     "name": "stderr",
     "output_type": "stream",
     "text": [
      "\n"
     ]
    }
   ],
   "source": [
    "\n",
    "if PAY_FOR_API:\n",
    "  anki_data = create_anki_deck_from_english_phrase_list(phrase_list=phrases,\n",
    "                                                      deck_name = deck_name,\n",
    "                                                      anki_filename_prefix=anki_filename_prefix,\n",
    "                                                      batch_size=50, #saves in batches of 50 notes per apkg file - useful for very large decks to split up\n",
    "                                                      output_dir=anki_output_dir,\n",
    "                                                      image_dir=image_dir #this is where our images are stored\n",
    "                                                    )\n",
    "\n",
    "\n"
   ]
  },
  {
   "cell_type": "markdown",
   "metadata": {},
   "source": [
    "### Testing / Development\n",
    "The anki_data is a dictionary which contains all translations, and audio, you can re-use this to save on API costs if iterating over flashcard design / testing, or if you want to save the data, and create the flashcards later."
   ]
  },
  {
   "cell_type": "code",
   "execution_count": 6,
   "metadata": {},
   "outputs": [
    {
     "name": "stderr",
     "output_type": "stream",
     "text": [
      "Processing story parts: 100%|██████████| 1/1 [00:00<00:00, 142.77it/s]\n"
     ]
    }
   ],
   "source": [
    "from src.images import add_image_paths\n",
    "\n",
    "anki_data = add_image_paths(anki_data, image_dir=image_dir) #adds the image directory filepaths to the dictionary\n"
   ]
  },
  {
   "cell_type": "code",
   "execution_count": 9,
   "metadata": {},
   "outputs": [
    {
     "data": {
      "text/plain": [
       "{'anki': {'translated_phrase_list': [('Three white cats on Monday',\n",
       "    'Tre vita katter på måndag'),\n",
       "   ('Seven red books on Tuesday', 'Sju röda böcker på tisdag'),\n",
       "   ('Twelve silver spoons at bedtime', 'Tolv silverskedar vid läggdags'),\n",
       "   ('Twenty gold stars in December', 'Tjugo guldstjärnor i december'),\n",
       "   ('Five brown dogs in January', 'Fem bruna hundar i januari'),\n",
       "   ('Eight grey birds in February', 'Åtta gråa fåglar i februari'),\n",
       "   ('Two pink cakes on Wednesday', 'Två rosa tårtor på onsdag'),\n",
       "   ('Nine yellow bananas on Thursday', 'Nio gula bananer på torsdag'),\n",
       "   ('Sixteen purple grapes for breakfast', 'Sexton lila druvor till frukost'),\n",
       "   ('Four green apples in March', 'Fyra gröna äpplen i mars'),\n",
       "   ('Thirteen blue pencils in April', 'Tretton blå pennor i april'),\n",
       "   ('One black horse in May', 'En svart häst i maj'),\n",
       "   ('Ten orange fish on Friday', 'Tio apelsinfiskar på fredag'),\n",
       "   ('Eighteen yellow flower on Saturday', 'Arton gul blomma på lördag'),\n",
       "   ('Six green cups at lunchtime', 'Sex gröna koppar vid lunchtid'),\n",
       "   ('Eleven red cookies in June', 'Elva röda kakor i juni'),\n",
       "   ('Three red cars in July', 'Tre röda bilar i juli'),\n",
       "   ('Fifteen fluffy clouds in August', 'Femton fluffiga moln i augusti'),\n",
       "   ('Fourteen brown rabbits on Sunday', 'Fjorton bruna kaniner på söndag'),\n",
       "   ('Nineteen meals at dinnertime', 'Nitton måltider vid middagstid'),\n",
       "   ('Eight golden croissants for breakfast',\n",
       "    'Åtta gyllene croissanter till frukost'),\n",
       "   ('Seven black shoes in September', 'Sju svarta skor i september'),\n",
       "   ('Four brown bears in October', 'Fyra brunbjörnar i oktober'),\n",
       "   ('Twenty yellow leaves in November', 'Tjugo gula blad i november')],\n",
       "  'translated_phrase_list_audio': [[<pydub.audio_segment.AudioSegment at 0x1d436cbb7d0>,\n",
       "    <pydub.audio_segment.AudioSegment at 0x1d434c43450>,\n",
       "    <pydub.audio_segment.AudioSegment at 0x1d436caeb50>],\n",
       "   [<pydub.audio_segment.AudioSegment at 0x1d432f44050>,\n",
       "    <pydub.audio_segment.AudioSegment at 0x1d434ba4790>,\n",
       "    <pydub.audio_segment.AudioSegment at 0x1d434c7b490>],\n",
       "   [<pydub.audio_segment.AudioSegment at 0x1d434bcca10>,\n",
       "    <pydub.audio_segment.AudioSegment at 0x1d433629dd0>,\n",
       "    <pydub.audio_segment.AudioSegment at 0x1d433629210>],\n",
       "   [<pydub.audio_segment.AudioSegment at 0x1d433622150>,\n",
       "    <pydub.audio_segment.AudioSegment at 0x1d432842550>,\n",
       "    <pydub.audio_segment.AudioSegment at 0x1d432843e10>],\n",
       "   [<pydub.audio_segment.AudioSegment at 0x1d434c34490>,\n",
       "    <pydub.audio_segment.AudioSegment at 0x1d43361d510>,\n",
       "    <pydub.audio_segment.AudioSegment at 0x1d43361e510>],\n",
       "   [<pydub.audio_segment.AudioSegment at 0x1d436ccdb10>,\n",
       "    <pydub.audio_segment.AudioSegment at 0x1d436ccce50>,\n",
       "    <pydub.audio_segment.AudioSegment at 0x1d436cccdd0>],\n",
       "   [<pydub.audio_segment.AudioSegment at 0x1d436ccce90>,\n",
       "    <pydub.audio_segment.AudioSegment at 0x1d436cccc90>,\n",
       "    <pydub.audio_segment.AudioSegment at 0x1d436cce950>],\n",
       "   [<pydub.audio_segment.AudioSegment at 0x1d436ccca90>,\n",
       "    <pydub.audio_segment.AudioSegment at 0x1d436ccf850>,\n",
       "    <pydub.audio_segment.AudioSegment at 0x1d436cce890>],\n",
       "   [<pydub.audio_segment.AudioSegment at 0x1d436ccf9d0>,\n",
       "    <pydub.audio_segment.AudioSegment at 0x1d436ccf810>,\n",
       "    <pydub.audio_segment.AudioSegment at 0x1d436ccedd0>],\n",
       "   [<pydub.audio_segment.AudioSegment at 0x1d436cceb50>,\n",
       "    <pydub.audio_segment.AudioSegment at 0x1d436cc7550>,\n",
       "    <pydub.audio_segment.AudioSegment at 0x1d436cd9510>],\n",
       "   [<pydub.audio_segment.AudioSegment at 0x1d436cdb850>,\n",
       "    <pydub.audio_segment.AudioSegment at 0x1d436cd8690>,\n",
       "    <pydub.audio_segment.AudioSegment at 0x1d436cd8f50>],\n",
       "   [<pydub.audio_segment.AudioSegment at 0x1d436cd8d10>,\n",
       "    <pydub.audio_segment.AudioSegment at 0x1d436cd9a90>,\n",
       "    <pydub.audio_segment.AudioSegment at 0x1d436cd9290>],\n",
       "   [<pydub.audio_segment.AudioSegment at 0x1d436cdbad0>,\n",
       "    <pydub.audio_segment.AudioSegment at 0x1d436cd9750>,\n",
       "    <pydub.audio_segment.AudioSegment at 0x1d436cd9b90>],\n",
       "   [<pydub.audio_segment.AudioSegment at 0x1d436cdba50>,\n",
       "    <pydub.audio_segment.AudioSegment at 0x1d436cdb310>,\n",
       "    <pydub.audio_segment.AudioSegment at 0x1d436cd9190>],\n",
       "   [<pydub.audio_segment.AudioSegment at 0x1d436cd9090>,\n",
       "    <pydub.audio_segment.AudioSegment at 0x1d436cd8d50>,\n",
       "    <pydub.audio_segment.AudioSegment at 0x1d436cd8550>],\n",
       "   [<pydub.audio_segment.AudioSegment at 0x1d436cdbb50>,\n",
       "    <pydub.audio_segment.AudioSegment at 0x1d436cd9950>,\n",
       "    <pydub.audio_segment.AudioSegment at 0x1d436cd9c10>],\n",
       "   [<pydub.audio_segment.AudioSegment at 0x1d436cdbc90>,\n",
       "    <pydub.audio_segment.AudioSegment at 0x1d436cd9650>,\n",
       "    <pydub.audio_segment.AudioSegment at 0x1d436cd9b10>],\n",
       "   [<pydub.audio_segment.AudioSegment at 0x1d436cdbfd0>,\n",
       "    <pydub.audio_segment.AudioSegment at 0x1d436cd9810>,\n",
       "    <pydub.audio_segment.AudioSegment at 0x1d436cdafd0>],\n",
       "   [<pydub.audio_segment.AudioSegment at 0x1d436cda650>,\n",
       "    <pydub.audio_segment.AudioSegment at 0x1d436ca3410>,\n",
       "    <pydub.audio_segment.AudioSegment at 0x1d436ca0810>],\n",
       "   [<pydub.audio_segment.AudioSegment at 0x1d436ca3050>,\n",
       "    <pydub.audio_segment.AudioSegment at 0x1d436ca3750>,\n",
       "    <pydub.audio_segment.AudioSegment at 0x1d436ca3d10>],\n",
       "   [<pydub.audio_segment.AudioSegment at 0x1d436ca0210>,\n",
       "    <pydub.audio_segment.AudioSegment at 0x1d436ca2f90>,\n",
       "    <pydub.audio_segment.AudioSegment at 0x1d436ca01d0>],\n",
       "   [<pydub.audio_segment.AudioSegment at 0x1d436ca3f90>,\n",
       "    <pydub.audio_segment.AudioSegment at 0x1d436ca2dd0>,\n",
       "    <pydub.audio_segment.AudioSegment at 0x1d436ca3610>],\n",
       "   [<pydub.audio_segment.AudioSegment at 0x1d436ca2d90>,\n",
       "    <pydub.audio_segment.AudioSegment at 0x1d436ca1a90>,\n",
       "    <pydub.audio_segment.AudioSegment at 0x1d436ca2e50>],\n",
       "   [<pydub.audio_segment.AudioSegment at 0x1d436ca3650>,\n",
       "    <pydub.audio_segment.AudioSegment at 0x1d436ca0ed0>,\n",
       "    <pydub.audio_segment.AudioSegment at 0x1d436ca3010>]],\n",
       "  'image_path': ['../outputs/images/numbers_days\\\\three_white_cats_on_monday.png',\n",
       "   '../outputs/images/numbers_days\\\\seven_red_books_on_tuesday.png',\n",
       "   '../outputs/images/numbers_days\\\\twelve_silver_spoons_at_bedtime.png',\n",
       "   '../outputs/images/numbers_days\\\\twenty_gold_stars_in_december.png',\n",
       "   '../outputs/images/numbers_days\\\\five_brown_dogs_in_january.png',\n",
       "   '../outputs/images/numbers_days\\\\eight_grey_birds_in_february.png',\n",
       "   '../outputs/images/numbers_days\\\\two_pink_cakes_on_wednesday.png',\n",
       "   '../outputs/images/numbers_days\\\\nine_yellow_bananas_on_thursday.png',\n",
       "   '../outputs/images/numbers_days\\\\sixteen_purple_grapes_for_breakfast.png',\n",
       "   '../outputs/images/numbers_days\\\\four_green_apples_in_march.png',\n",
       "   '../outputs/images/numbers_days\\\\thirteen_blue_pencils_in_april.png',\n",
       "   '../outputs/images/numbers_days\\\\one_black_horse_in_may.png',\n",
       "   '../outputs/images/numbers_days\\\\ten_orange_fish_on_friday.png',\n",
       "   '../outputs/images/numbers_days\\\\eighteen_yellow_flower_on_saturday.png',\n",
       "   '../outputs/images/numbers_days\\\\six_green_cups_at_lunchtime.png',\n",
       "   '../outputs/images/numbers_days\\\\eleven_red_cookies_in_june.png',\n",
       "   '../outputs/images/numbers_days\\\\three_red_cars_in_july.png',\n",
       "   '../outputs/images/numbers_days\\\\fifteen_fluffy_clouds_in_august.png',\n",
       "   '../outputs/images/numbers_days\\\\fourteen_brown_rabbits_on_sunday.png',\n",
       "   '../outputs/images/numbers_days\\\\nineteen_meals_at_dinnertime.png',\n",
       "   '../outputs/images/numbers_days\\\\eight_golden_croissants_for_breakfast.png',\n",
       "   '../outputs/images/numbers_days\\\\seven_black_shoes_in_september.png',\n",
       "   '../outputs/images/numbers_days\\\\four_brown_bears_in_october.png',\n",
       "   '../outputs/images/numbers_days\\\\twenty_yellow_leaves_in_november.png']}}"
      ]
     },
     "execution_count": 9,
     "metadata": {},
     "output_type": "execute_result"
    }
   ],
   "source": [
    "anki_data"
   ]
  },
  {
   "cell_type": "code",
   "execution_count": 10,
   "metadata": {},
   "outputs": [
    {
     "name": "stderr",
     "output_type": "stream",
     "text": [
      "generating image and sound files: 24it [00:39,  1.66s/it]\n",
      "adding notes to deck: 100%|██████████| 24/24 [00:00<?, ?it/s]\n"
     ]
    },
    {
     "name": "stdout",
     "output_type": "stream",
     "text": [
      "Anki deck exported to ../outputs/flashcards/swedish\\longman_numberDays_swedish_anki_deck.apkg\n"
     ]
    },
    {
     "name": "stderr",
     "output_type": "stream",
     "text": [
      "deleting temp files: 100%|██████████| 72/72 [00:00<00:00, 4235.07it/s]"
     ]
    },
    {
     "name": "stdout",
     "output_type": "stream",
     "text": [
      "Cleanup of temporary files completed.\n"
     ]
    },
    {
     "name": "stderr",
     "output_type": "stream",
     "text": [
      "\n"
     ]
    }
   ],
   "source": [
    "\n",
    "export_to_anki_with_images(anki_data,\n",
    "                           output_dir= anki_output_dir,\n",
    "                           story_name=anki_filename_prefix,\n",
    "                           deck_name=deck_name)"
   ]
  }
 ],
 "metadata": {
  "kernelspec": {
   "display_name": ".venv",
   "language": "python",
   "name": "python3"
  },
  "language_info": {
   "codemirror_mode": {
    "name": "ipython",
    "version": 3
   },
   "file_extension": ".py",
   "mimetype": "text/x-python",
   "name": "python",
   "nbconvert_exporter": "python",
   "pygments_lexer": "ipython3",
   "version": "3.11.4"
  }
 },
 "nbformat": 4,
 "nbformat_minor": 2
}
