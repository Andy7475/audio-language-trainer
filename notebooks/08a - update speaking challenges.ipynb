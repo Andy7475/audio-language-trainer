{
 "cells": [
  {
   "cell_type": "markdown",
   "metadata": {},
   "source": [
    "## Updating speaking challenges\n",
    "If you update ChallengeViewer.js, then run this to refresh the templates across all challenges"
   ]
  },
  {
   "cell_type": "code",
   "execution_count": 1,
   "metadata": {},
   "outputs": [],
   "source": [
    "%load_ext autoreload"
   ]
  },
  {
   "cell_type": "code",
   "execution_count": 2,
   "metadata": {},
   "outputs": [
    {
     "name": "stdout",
     "output_type": "stream",
     "text": [
      "setting voice override: sv-SE-HilleviNeural\n",
      "setting voice override: sv-SE-MattiasNeural\n",
      "FFmpeg path added to system PATH: C:\\Program Files\\ffmpeg-7.0-essentials_build\\bin\n"
     ]
    }
   ],
   "source": [
    "%autoreload 2\n",
    "\n",
    "from tqdm import tqdm\n",
    "from pathlib import Path\n",
    "from dotenv import load_dotenv\n",
    "load_dotenv()\n",
    "from src.config_loader import config\n",
    "from src.utils import upload_to_gcs, load_json, list_story_folders\n",
    "from src.chat import create_html_challenges, get_html_challenge_inputs"
   ]
  },
  {
   "cell_type": "markdown",
   "metadata": {},
   "source": [
    "### For a single challenge update"
   ]
  },
  {
   "cell_type": "code",
   "execution_count": 3,
   "metadata": {},
   "outputs": [
    {
     "data": {
      "text/plain": [
       "['story_birthday_party_planning_mishap',\n",
       " 'story_camping_trip_gone_awry',\n",
       " 'story_community_park',\n",
       " 'story_dining_dilemma_at_local_restaurant',\n",
       " 'story_fishing_trip_gone_awry',\n",
       " 'story_job_interview_gone_wrong',\n",
       " 'story_lost_in_stockholm',\n",
       " 'story_roblox_bot_trouble',\n",
       " 'story_swedish_adventure_in_winter_wilderness',\n",
       " 'story_underwater_adventure_gone_wrong']"
      ]
     },
     "execution_count": 3,
     "metadata": {},
     "output_type": "execute_result"
    }
   ],
   "source": [
    "all_stories = list_story_folders()\n",
    "all_stories"
   ]
  },
  {
   "cell_type": "code",
   "execution_count": 25,
   "metadata": {},
   "outputs": [
    {
     "name": "stdout",
     "output_type": "stream",
     "text": [
      "Config file has been modified. Reloading...\n",
      "setting voice override: sv-SE-HilleviNeural\n",
      "setting voice override: sv-SE-MattiasNeural\n",
      "Russian\n"
     ]
    }
   ],
   "source": [
    "STORY_NAME = \"story_dining_dilemma_at_local_restaurant\"\n",
    "notebook_dir = Path().absolute()  # This gives src/notebooks\n",
    "story_dir = notebook_dir.parent / \"outputs\" / \"stories\"\n",
    "output_dir = story_dir / STORY_NAME / config.TARGET_LANGUAGE_NAME\n",
    "print(config.TARGET_LANGUAGE_NAME)"
   ]
  },
  {
   "cell_type": "code",
   "execution_count": 26,
   "metadata": {},
   "outputs": [
    {
     "name": "stdout",
     "output_type": "stream",
     "text": [
      "HTML challenges created at: y:\\Python Scripts\\audio-language-trainer\\outputs\\stories\\story_dining_dilemma_at_local_restaurant\\Russian\\challenges.html\n"
     ]
    }
   ],
   "source": [
    "scenario_dicts = load_json(file_path=f\"{story_dir}/{STORY_NAME}/scenarios.json\")\n",
    "challenges = get_html_challenge_inputs(scenario_dicts) # this is the first time config.TARGET_LANGUAGE_NAME is used\n",
    "chat_webpage_file = create_html_challenges(challenges, output_dir=output_dir,\n",
    "story_name=STORY_NAME)\n"
   ]
  },
  {
   "cell_type": "code",
   "execution_count": 27,
   "metadata": {},
   "outputs": [
    {
     "data": {
      "text/plain": [
       "'https://storage.googleapis.com/audio-language-trainer-stories/russian/story_dining_dilemma_at_local_restaurant/challenges.html'"
      ]
     },
     "execution_count": 27,
     "metadata": {},
     "output_type": "execute_result"
    }
   ],
   "source": [
    "upload_to_gcs(file_path=chat_webpage_file, bucket_prefix=f\"{config.TARGET_LANGUAGE_NAME}/{STORY_NAME}\")"
   ]
  },
  {
   "cell_type": "markdown",
   "metadata": {},
   "source": [
    "## Update all challenges"
   ]
  },
  {
   "cell_type": "code",
   "execution_count": 15,
   "metadata": {},
   "outputs": [
    {
     "name": "stdout",
     "output_type": "stream",
     "text": [
      "Config file has been modified. Reloading...\n",
      "setting voice override: sv-SE-HilleviNeural\n",
      "setting voice override: sv-SE-MattiasNeural\n",
      "Italian\n"
     ]
    }
   ],
   "source": [
    "print(config.TARGET_LANGUAGE_NAME)"
   ]
  },
  {
   "cell_type": "code",
   "execution_count": 14,
   "metadata": {},
   "outputs": [
    {
     "name": "stderr",
     "output_type": "stream",
     "text": [
      "  0%|          | 0/10 [00:00<?, ?it/s]"
     ]
    },
    {
     "name": "stdout",
     "output_type": "stream",
     "text": [
      "HTML challenges created at: y:\\Python Scripts\\audio-language-trainer\\outputs\\stories\\story_birthday_party_planning_mishap\\Swedish\\challenges.html\n"
     ]
    },
    {
     "name": "stderr",
     "output_type": "stream",
     "text": [
      " 10%|█         | 1/10 [00:03<00:34,  3.85s/it]"
     ]
    },
    {
     "name": "stdout",
     "output_type": "stream",
     "text": [
      "HTML challenges created at: y:\\Python Scripts\\audio-language-trainer\\outputs\\stories\\story_camping_trip_gone_awry\\Swedish\\challenges.html\n"
     ]
    },
    {
     "name": "stderr",
     "output_type": "stream",
     "text": [
      " 20%|██        | 2/10 [00:07<00:30,  3.82s/it]"
     ]
    },
    {
     "name": "stdout",
     "output_type": "stream",
     "text": [
      "HTML challenges created at: y:\\Python Scripts\\audio-language-trainer\\outputs\\stories\\story_community_park\\Swedish\\challenges.html\n"
     ]
    },
    {
     "name": "stderr",
     "output_type": "stream",
     "text": [
      " 30%|███       | 3/10 [00:11<00:27,  3.89s/it]"
     ]
    },
    {
     "name": "stdout",
     "output_type": "stream",
     "text": [
      "HTML challenges created at: y:\\Python Scripts\\audio-language-trainer\\outputs\\stories\\story_dining_dilemma_at_local_restaurant\\Swedish\\challenges.html\n"
     ]
    },
    {
     "name": "stderr",
     "output_type": "stream",
     "text": [
      " 40%|████      | 4/10 [00:15<00:23,  3.84s/it]"
     ]
    },
    {
     "name": "stdout",
     "output_type": "stream",
     "text": [
      "HTML challenges created at: y:\\Python Scripts\\audio-language-trainer\\outputs\\stories\\story_fishing_trip_gone_awry\\Swedish\\challenges.html\n"
     ]
    },
    {
     "name": "stderr",
     "output_type": "stream",
     "text": [
      " 50%|█████     | 5/10 [00:19<00:19,  3.86s/it]"
     ]
    },
    {
     "name": "stdout",
     "output_type": "stream",
     "text": [
      "HTML challenges created at: y:\\Python Scripts\\audio-language-trainer\\outputs\\stories\\story_job_interview_gone_wrong\\Swedish\\challenges.html\n"
     ]
    },
    {
     "name": "stderr",
     "output_type": "stream",
     "text": [
      " 60%|██████    | 6/10 [00:23<00:15,  3.86s/it]"
     ]
    },
    {
     "name": "stdout",
     "output_type": "stream",
     "text": [
      "No challenges for story_lost_in_stockholm\n",
      "No challenges for story_roblox_bot_trouble\n",
      "HTML challenges created at: y:\\Python Scripts\\audio-language-trainer\\outputs\\stories\\story_swedish_adventure_in_winter_wilderness\\Swedish\\challenges.html\n"
     ]
    },
    {
     "name": "stderr",
     "output_type": "stream",
     "text": [
      " 90%|█████████ | 9/10 [00:27<00:02,  2.33s/it]"
     ]
    },
    {
     "name": "stdout",
     "output_type": "stream",
     "text": [
      "HTML challenges created at: y:\\Python Scripts\\audio-language-trainer\\outputs\\stories\\story_underwater_adventure_gone_wrong\\Swedish\\challenges.html\n"
     ]
    },
    {
     "name": "stderr",
     "output_type": "stream",
     "text": [
      "100%|██████████| 10/10 [00:31<00:00,  3.10s/it]\n"
     ]
    }
   ],
   "source": [
    "for story_name in tqdm(all_stories):\n",
    "    try:\n",
    "        scenario_dicts = load_json(file_path=f\"{story_dir}/{story_name}/scenarios.json\")\n",
    "    except FileNotFoundError:\n",
    "        print(f\"No challenges for {story_name}\")\n",
    "        continue\n",
    "    challenges = get_html_challenge_inputs(scenario_dicts) # this is the first time config.TARGET_LANGUAGE_NAME is used\n",
    "    output_dir = story_dir / story_name / config.TARGET_LANGUAGE_NAME\n",
    "    chat_webpage_file = create_html_challenges(challenges, output_dir=output_dir,\n",
    "    story_name=story_name)\n",
    "    upload_to_gcs(file_path=chat_webpage_file, bucket_prefix=f\"{config.TARGET_LANGUAGE_NAME}/{story_name}\")"
   ]
  },
  {
   "cell_type": "code",
   "execution_count": null,
   "metadata": {},
   "outputs": [],
   "source": []
  }
 ],
 "metadata": {
  "kernelspec": {
   "display_name": ".venv",
   "language": "python",
   "name": "python3"
  },
  "language_info": {
   "codemirror_mode": {
    "name": "ipython",
    "version": 3
   },
   "file_extension": ".py",
   "mimetype": "text/x-python",
   "name": "python",
   "nbconvert_exporter": "python",
   "pygments_lexer": "ipython3",
   "version": "3.11.4"
  }
 },
 "nbformat": 4,
 "nbformat_minor": 2
}
