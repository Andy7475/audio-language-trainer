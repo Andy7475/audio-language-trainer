{
 "cells": [
  {
   "cell_type": "markdown",
   "metadata": {},
   "source": [
    "# Story Generation\n",
    "We remember things better as stories. The plan here is to pick a subset of our phrases, extract the vocabularly, and generate a story based off of them. We can then pull in more flashcards / phrases to ensure a more complete phrase coverage"
   ]
  },
  {
   "cell_type": "code",
   "execution_count": 2,
   "metadata": {},
   "outputs": [],
   "source": [
    "%load_ext autoreload\n",
    "%autoreload 2"
   ]
  },
  {
   "cell_type": "code",
   "execution_count": null,
   "metadata": {},
   "outputs": [],
   "source": [
    "from dotenv import load_dotenv\n",
    "import sys\n",
    "import os\n",
    "import pickle\n",
    "from pathlib import Path\n",
    "load_dotenv()\n",
    "# Add the parent directory of 'src' to the Python path\n",
    "module_path = os.path.abspath(os.path.join('..'))\n",
    "if module_path not in sys.path:\n",
    "    sys.path.append(module_path)"
   ]
  },
  {
   "cell_type": "code",
   "execution_count": null,
   "metadata": {},
   "outputs": [
    {
     "name": "stdout",
     "output_type": "stream",
     "text": [
      "(\"First few phrases ['Do you want to become a famous writer?', 'Let me show \"\n",
      " \"you around the city', 'We need to handle this situation carefully', 'Stop \"\n",
      " 'wasting time on this\\', \\'Do you like playing the guitar at night?\\', \"I\\'m '\n",
      " 'taking a vacation next month\", \"Don\\'t forget to wear a helmet while '\n",
      " 'cycling\", \"Let\\'s cut unnecessary expenses this year\", \"We\\'re producing a '\n",
      " 'new product soon\", \\'Did you remember to turn off the stove?\\']')\n"
     ]
    }
   ],
   "source": [
    "from src.utils import load_text_file, save_json, load_json\n",
    "from src.nlp import get_vocab_dictionary_from_phrases, get_vocab_dict_from_dialogue, compare_vocab_overlap\n",
    "from src.config_loader import config\n",
    "from pprint import pprint\n",
    "import random\n",
    "\n",
    "filepath = \"../data/longman_1000_phrases.txt\"\n",
    "phrases = load_text_file(filepath)\n",
    "pprint(f\"First few phrases {phrases[:10]}\")\n",
    "\n",
    "#we already have flashcards generated for some phrases:\n",
    "#a flashcard index allows us to select flashcards that cover a specific\n",
    "#vocabulary range, it's quite computationally expensive, but is generated\n",
    "#using create_flashcard_index\n",
    "\n"
   ]
  },
  {
   "cell_type": "markdown",
   "metadata": {},
   "source": [
    "## create the flashcard index"
   ]
  },
  {
   "cell_type": "code",
   "execution_count": null,
   "metadata": {},
   "outputs": [],
   "source": [
    "\n",
    "\n",
    "\n",
    "flashcard_index_path = Path()"
   ]
  },
  {
   "cell_type": "code",
   "execution_count": null,
   "metadata": {},
   "outputs": [],
   "source": [
    "\n",
    "\n",
    "flashcard_index = load_json(\"../data/longman_1000_phrase_index.json\")"
   ]
  },
  {
   "cell_type": "code",
   "execution_count": 7,
   "metadata": {},
   "outputs": [],
   "source": [
    "vocab_dict_flashcards = get_vocab_dictionary_from_phrases(phrases[:50])"
   ]
  },
  {
   "cell_type": "code",
   "execution_count": null,
   "metadata": {},
   "outputs": [],
   "source": [
    "from src.dialogue_generation import generate_story\n",
    "story_50_phrases = generate_story(vocab_dict_flashcards)"
   ]
  },
  {
   "cell_type": "markdown",
   "metadata": {},
   "source": [
    "Now we have a story, it has probably added additional vocabulary, so we need to check our flaschard sample covers the story"
   ]
  },
  {
   "cell_type": "code",
   "execution_count": 17,
   "metadata": {},
   "outputs": [],
   "source": [
    "#load story from before\n",
    "\n",
    "story_50_phrases = load_json(\"../data/stories/test_story/story_community_park.json\")"
   ]
  },
  {
   "cell_type": "code",
   "execution_count": 39,
   "metadata": {},
   "outputs": [],
   "source": [
    "from src. nlp import get_vocab_dict_from_dialogue\n",
    "vocab_dict_story = get_vocab_dict_from_dialogue(story_50_phrases, limit_story_parts=[\"introduction\"])"
   ]
  },
  {
   "cell_type": "code",
   "execution_count": 40,
   "metadata": {},
   "outputs": [
    {
     "name": "stdout",
     "output_type": "stream",
     "text": [
      "=== VERB ANALYSIS ===\n",
      "Original verbs: 77\n",
      "Verbs used in story: 33\n",
      "Verbs from original used: 18 (23.4%)\n",
      "New verbs introduced: 15\n",
      "Examples of new verbs: ['plan', 'could', 'cycle', 'ride', 'love']\n",
      "\n",
      "=== VOCABULARY ANALYSIS ===\n",
      "Original vocabulary: 148\n",
      "Vocabulary used in story: 86\n",
      "Vocabulary from original used: 37 (25.0%)\n",
      "New vocabulary introduced: 49\n",
      "Examples of new vocabulary: ['when', 'work', 'forward', 'free', 'definitely']\n"
     ]
    }
   ],
   "source": [
    "vocab_overlap = compare_vocab_overlap(vocab_dict_flashcards, vocab_dict_story)"
   ]
  },
  {
   "cell_type": "code",
   "execution_count": 41,
   "metadata": {},
   "outputs": [
    {
     "name": "stderr",
     "output_type": "stream",
     "text": [
      "verb matches: 100%|██████████| 33/33 [00:00<?, ?it/s]\n",
      "vocab matches: 100%|██████████| 86/86 [00:00<?, ?it/s]\n",
      "ranking cards: 100%|██████████| 803/803 [00:00<00:00, 267515.97it/s]\n",
      "verb matches: 100%|██████████| 29/29 [00:00<?, ?it/s]\n",
      "vocab matches: 100%|██████████| 81/81 [00:00<00:00, 81025.19it/s]\n",
      "ranking cards: 100%|██████████| 749/749 [00:00<00:00, 149853.73it/s]\n",
      "verb matches: 100%|██████████| 28/28 [00:00<00:00, 28042.15it/s]\n",
      "vocab matches: 100%|██████████| 75/75 [00:00<00:00, 74987.56it/s]\n",
      "ranking cards: 100%|██████████| 726/726 [00:00<00:00, 359426.90it/s]\n",
      "verb matches: 100%|██████████| 26/26 [00:00<00:00, 25689.49it/s]\n",
      "vocab matches: 100%|██████████| 71/71 [00:00<?, ?it/s]\n",
      "ranking cards: 100%|██████████| 667/667 [00:00<00:00, 166682.60it/s]\n",
      "verb matches: 100%|██████████| 24/24 [00:00<?, ?it/s]\n",
      "vocab matches: 100%|██████████| 68/68 [00:00<?, ?it/s]\n",
      "ranking cards: 100%|██████████| 641/641 [00:00<00:00, 213478.55it/s]\n",
      "verb matches: 100%|██████████| 23/23 [00:00<?, ?it/s]\n",
      "vocab matches: 100%|██████████| 64/64 [00:00<?, ?it/s]\n",
      "ranking cards: 100%|██████████| 562/562 [00:00<00:00, 140526.94it/s]\n",
      "verb matches: 100%|██████████| 22/22 [00:00<?, ?it/s]\n",
      "vocab matches: 100%|██████████| 60/60 [00:00<?, ?it/s]\n",
      "ranking cards: 100%|██████████| 527/527 [00:00<00:00, 131728.14it/s]\n",
      "verb matches: 100%|██████████| 20/20 [00:00<00:00, 19972.88it/s]\n",
      "vocab matches: 100%|██████████| 58/58 [00:00<?, ?it/s]\n",
      "ranking cards: 100%|██████████| 489/489 [00:00<00:00, 162947.06it/s]\n",
      "verb matches: 100%|██████████| 19/19 [00:00<00:00, 19019.52it/s]\n",
      "vocab matches: 100%|██████████| 55/55 [00:00<00:00, 54977.77it/s]\n",
      "ranking cards: 100%|██████████| 435/435 [00:00<00:00, 217697.44it/s]\n",
      "verb matches: 100%|██████████| 19/19 [00:00<?, ?it/s]\n",
      "vocab matches: 100%|██████████| 51/51 [00:00<?, ?it/s]\n",
      "ranking cards: 100%|██████████| 402/402 [00:00<00:00, 100477.34it/s]\n",
      "verb matches: 100%|██████████| 17/17 [00:00<00:00, 16968.86it/s]\n",
      "vocab matches: 100%|██████████| 50/50 [00:00<?, ?it/s]\n",
      "ranking cards: 100%|██████████| 364/364 [00:00<00:00, 366209.32it/s]\n",
      "verb matches: 100%|██████████| 16/16 [00:00<?, ?it/s]\n",
      "vocab matches: 100%|██████████| 48/48 [00:00<?, ?it/s]\n",
      "ranking cards: 100%|██████████| 301/301 [00:00<00:00, 301165.44it/s]\n",
      "verb matches: 100%|██████████| 16/16 [00:00<?, ?it/s]\n",
      "vocab matches: 100%|██████████| 45/45 [00:00<?, ?it/s]\n",
      "ranking cards: 100%|██████████| 271/271 [00:00<00:00, 270761.41it/s]\n",
      "verb matches: 100%|██████████| 15/15 [00:00<?, ?it/s]\n",
      "vocab matches: 100%|██████████| 43/43 [00:00<?, ?it/s]\n",
      "ranking cards: 100%|██████████| 252/252 [00:00<00:00, 252258.86it/s]\n",
      "verb matches: 100%|██████████| 14/14 [00:00<?, ?it/s]\n",
      "vocab matches: 100%|██████████| 41/41 [00:00<?, ?it/s]\n",
      "ranking cards: 100%|██████████| 197/197 [00:00<?, ?it/s]\n",
      "verb matches: 100%|██████████| 13/13 [00:00<?, ?it/s]\n",
      "vocab matches: 100%|██████████| 39/39 [00:00<?, ?it/s]\n",
      "ranking cards: 100%|██████████| 184/184 [00:00<00:00, 183925.63it/s]\n",
      "verb matches: 100%|██████████| 12/12 [00:00<?, ?it/s]\n",
      "vocab matches: 100%|██████████| 38/38 [00:00<?, ?it/s]\n",
      "ranking cards: 100%|██████████| 179/179 [00:00<00:00, 178799.81it/s]\n",
      "verb matches: 100%|██████████| 11/11 [00:00<?, ?it/s]\n",
      "vocab matches: 100%|██████████| 37/37 [00:00<?, ?it/s]\n",
      "ranking cards: 100%|██████████| 163/163 [00:00<00:00, 162934.12it/s]\n",
      "verb matches: 100%|██████████| 10/10 [00:00<?, ?it/s]\n",
      "vocab matches: 100%|██████████| 36/36 [00:00<?, ?it/s]\n",
      "ranking cards: 100%|██████████| 158/158 [00:00<00:00, 158200.06it/s]\n",
      "verb matches: 100%|██████████| 10/10 [00:00<00:00, 10036.62it/s]\n",
      "vocab matches: 100%|██████████| 34/34 [00:00<?, ?it/s]\n",
      "ranking cards: 100%|██████████| 151/151 [00:00<00:00, 151408.06it/s]\n",
      "verb matches: 100%|██████████| 9/9 [00:00<?, ?it/s]\n",
      "vocab matches: 100%|██████████| 33/33 [00:00<?, ?it/s]\n",
      "ranking cards: 100%|██████████| 107/107 [00:00<00:00, 107109.91it/s]\n",
      "verb matches: 100%|██████████| 8/8 [00:00<?, ?it/s]\n",
      "vocab matches: 100%|██████████| 32/32 [00:00<00:00, 31979.44it/s]\n",
      "ranking cards: 100%|██████████| 80/80 [00:00<00:00, 80043.97it/s]\n",
      "verb matches: 100%|██████████| 7/7 [00:00<00:00, 6998.84it/s]\n",
      "vocab matches: 100%|██████████| 31/31 [00:00<00:00, 31061.50it/s]\n",
      "ranking cards: 100%|██████████| 61/61 [00:00<00:00, 61018.97it/s]\n",
      "verb matches: 100%|██████████| 6/6 [00:00<?, ?it/s]\n",
      "vocab matches: 100%|██████████| 30/30 [00:00<?, ?it/s]\n",
      "ranking cards: 100%|██████████| 52/52 [00:00<?, ?it/s]\n",
      "verb matches: 100%|██████████| 5/5 [00:00<?, ?it/s]\n",
      "vocab matches: 100%|██████████| 29/29 [00:00<?, ?it/s]\n",
      "ranking cards: 100%|██████████| 46/46 [00:00<?, ?it/s]\n",
      "verb matches: 100%|██████████| 5/5 [00:00<00:00, 4981.36it/s]\n",
      "vocab matches: 100%|██████████| 28/28 [00:00<?, ?it/s]\n",
      "ranking cards: 100%|██████████| 42/42 [00:00<?, ?it/s]\n",
      "verb matches: 100%|██████████| 5/5 [00:00<?, ?it/s]\n",
      "vocab matches: 100%|██████████| 27/27 [00:00<?, ?it/s]\n",
      "ranking cards: 100%|██████████| 40/40 [00:00<?, ?it/s]\n",
      "verb matches: 100%|██████████| 5/5 [00:00<00:00, 4995.60it/s]\n",
      "vocab matches: 100%|██████████| 26/26 [00:00<00:00, 26008.09it/s]\n",
      "ranking cards: 100%|██████████| 33/33 [00:00<00:00, 33152.58it/s]\n",
      "verb matches: 100%|██████████| 5/5 [00:00<?, ?it/s]\n",
      "vocab matches: 100%|██████████| 25/25 [00:00<?, ?it/s]\n",
      "ranking cards: 100%|██████████| 32/32 [00:00<?, ?it/s]\n",
      "verb matches: 100%|██████████| 5/5 [00:00<?, ?it/s]\n",
      "vocab matches: 100%|██████████| 24/24 [00:00<?, ?it/s]\n",
      "ranking cards: 100%|██████████| 30/30 [00:00<00:00, 29995.02it/s]\n",
      "verb matches: 100%|██████████| 5/5 [00:00<?, ?it/s]\n",
      "vocab matches: 100%|██████████| 23/23 [00:00<00:00, 23040.12it/s]\n",
      "ranking cards: 100%|██████████| 29/29 [00:00<?, ?it/s]\n",
      "verb matches: 100%|██████████| 5/5 [00:00<?, ?it/s]\n",
      "vocab matches: 100%|██████████| 22/22 [00:00<00:00, 22085.85it/s]\n",
      "ranking cards: 100%|██████████| 27/27 [00:00<00:00, 27021.29it/s]\n",
      "verb matches: 100%|██████████| 5/5 [00:00<?, ?it/s]\n",
      "vocab matches: 100%|██████████| 21/21 [00:00<?, ?it/s]\n",
      "ranking cards: 100%|██████████| 23/23 [00:00<?, ?it/s]\n",
      "verb matches: 100%|██████████| 5/5 [00:00<?, ?it/s]\n",
      "vocab matches: 100%|██████████| 20/20 [00:00<?, ?it/s]\n",
      "ranking cards: 100%|██████████| 22/22 [00:00<?, ?it/s]\n",
      "verb matches: 100%|██████████| 4/4 [00:00<?, ?it/s]\n",
      "vocab matches: 100%|██████████| 20/20 [00:00<?, ?it/s]\n",
      "ranking cards: 100%|██████████| 19/19 [00:00<00:00, 19028.60it/s]\n",
      "verb matches: 100%|██████████| 4/4 [00:00<?, ?it/s]\n",
      "vocab matches: 100%|██████████| 19/19 [00:00<00:00, 18983.27it/s]\n",
      "ranking cards: 100%|██████████| 18/18 [00:00<?, ?it/s]\n",
      "verb matches: 100%|██████████| 4/4 [00:00<?, ?it/s]\n",
      "vocab matches: 100%|██████████| 18/18 [00:00<?, ?it/s]\n",
      "ranking cards: 100%|██████████| 17/17 [00:00<?, ?it/s]\n",
      "verb matches: 100%|██████████| 4/4 [00:00<?, ?it/s]\n",
      "vocab matches: 100%|██████████| 17/17 [00:00<?, ?it/s]\n",
      "ranking cards: 100%|██████████| 13/13 [00:00<00:00, 12997.84it/s]\n",
      "verb matches: 100%|██████████| 3/3 [00:00<?, ?it/s]\n",
      "vocab matches: 100%|██████████| 17/17 [00:00<00:00, 16972.90it/s]\n",
      "ranking cards: 100%|██████████| 10/10 [00:00<?, ?it/s]\n",
      "verb matches: 100%|██████████| 3/3 [00:00<00:00, 3005.95it/s]\n",
      "vocab matches: 100%|██████████| 16/16 [00:00<00:00, 15997.35it/s]\n",
      "ranking cards: 100%|██████████| 9/9 [00:00<00:00, 8972.84it/s]\n",
      "verb matches: 100%|██████████| 3/3 [00:00<?, ?it/s]\n",
      "vocab matches: 100%|██████████| 15/15 [00:00<00:00, 15001.09it/s]\n",
      "ranking cards: 100%|██████████| 7/7 [00:00<?, ?it/s]\n",
      "verb matches: 100%|██████████| 3/3 [00:00<?, ?it/s]\n",
      "vocab matches: 100%|██████████| 14/14 [00:00<?, ?it/s]\n",
      "ranking cards: 100%|██████████| 5/5 [00:00<00:00, 1667.18it/s]\n",
      "verb matches: 100%|██████████| 3/3 [00:00<?, ?it/s]\n",
      "vocab matches: 100%|██████████| 13/13 [00:00<?, ?it/s]\n",
      "ranking cards: 100%|██████████| 3/3 [00:00<?, ?it/s]\n",
      "verb matches: 100%|██████████| 3/3 [00:00<?, ?it/s]\n",
      "vocab matches: 100%|██████████| 12/12 [00:00<?, ?it/s]\n",
      "ranking cards: 100%|██████████| 1/1 [00:00<?, ?it/s]\n",
      "verb matches: 100%|██████████| 3/3 [00:00<?, ?it/s]\n",
      "vocab matches: 100%|██████████| 11/11 [00:00<00:00, 11000.80it/s]\n"
     ]
    }
   ],
   "source": [
    "from src.nlp import get_matching_flashcards_indexed\n",
    "# Let's pull all the existing phrases we need to cover the vocab on our story\n",
    "results = get_matching_flashcards_indexed(vocab_dict_story, flashcard_index)"
   ]
  },
  {
   "cell_type": "code",
   "execution_count": 42,
   "metadata": {},
   "outputs": [],
   "source": [
    "proposed_flashcard_phrases = [card.get('phrase') for card in results['selected_cards']]\n",
    "vocab_from_new_flashcards = get_vocab_dictionary_from_phrases(proposed_flashcard_phrases)"
   ]
  },
  {
   "cell_type": "code",
   "execution_count": 43,
   "metadata": {},
   "outputs": [
    {
     "name": "stdout",
     "output_type": "stream",
     "text": [
      "=== VERB ANALYSIS ===\n",
      "Original verbs: 65\n",
      "Verbs used in story: 33\n",
      "Verbs from original used: 30 (46.2%)\n",
      "New verbs introduced: 3\n",
      "Examples of new verbs: ['ride', 'cycle', 'create']\n",
      "\n",
      "=== VOCABULARY ANALYSIS ===\n",
      "Original vocabulary: 148\n",
      "Vocabulary used in story: 86\n",
      "Vocabulary from original used: 75 (50.7%)\n",
      "New vocabulary introduced: 11\n",
      "Examples of new vocabulary: ['snack', 'call', 'outdoors', 'alright', 'perfect']\n"
     ]
    }
   ],
   "source": [
    "new_overlap = compare_vocab_overlap(vocab_from_new_flashcards, vocab_dict_story)"
   ]
  },
  {
   "cell_type": "code",
   "execution_count": 45,
   "metadata": {},
   "outputs": [
    {
     "data": {
      "text/plain": [
       "[\"Don't worry, you'll get used to the new system.\",\n",
       " 'Bye for now, see you later this evening!',\n",
       " \"I'm planning to organize the office party soon\",\n",
       " \"Don't forget to wear a helmet while cycling\",\n",
       " 'Could the best solution be right in front of us?',\n",
       " 'Look at that beautiful sunset over there',\n",
       " \"Did you hear they're building a new community center?\",\n",
       " 'Make sure to double-check your work',\n",
       " 'Oh no, I dropped the glass and it broke!',\n",
       " 'I should have chosen a different career path',\n",
       " \"Don't you think they worry too much about small things?\",\n",
       " 'How do you manage your time so efficiently?',\n",
       " 'Remember when we met at the coffee shop last week?',\n",
       " 'I really want to achieve more in my career',\n",
       " 'We need to cut back on spending this month',\n",
       " 'Do you like playing the guitar at night?',\n",
       " 'Shall we go to the park to feed the ducks?',\n",
       " 'I hope the weather will be nice tomorrow',\n",
       " \"We must ensure everyone's safety first.\",\n",
       " 'Can you hang the wet clothes out to dry?',\n",
       " 'Should we start from the beginning again?',\n",
       " \"Actually, I'd rather not discuss it, if possible.\",\n",
       " \"She's loved art since she was little\",\n",
       " \"Don't forget to bring your own food to the picnic\",\n",
       " 'Let me show you around the city',\n",
       " 'Can you imagine a world without any troubles?',\n",
       " \"Shouldn't we try to save some money?\",\n",
       " \"I'll definitely note your concerns about this.\",\n",
       " \"Let's meet at the usual place tonight\",\n",
       " 'Is this space wide enough for us?',\n",
       " 'This accident is causing a major traffic jam',\n",
       " \"Don't you think it's a good idea?\",\n",
       " 'Should we move to another location?',\n",
       " \"Don't worry, the alarm will sound if there's danger\",\n",
       " \"I'm certain this is the right way forward.\",\n",
       " 'Shall we take a quick break?',\n",
       " 'Feel free to pick any tree in this area',\n",
       " 'Speak clearly when you give directions',\n",
       " 'Have you been wearing the same shirt since then?',\n",
       " 'Which job offer should I choose?',\n",
       " 'Did you enjoy the beautiful garden this afternoon?',\n",
       " \"She's writing a letter to the local newspaper\",\n",
       " 'I feel sick after eating that stuff',\n",
       " \"Wouldn't it be great to win the lottery?\"]"
      ]
     },
     "execution_count": 45,
     "metadata": {},
     "output_type": "execute_result"
    }
   ],
   "source": [
    "proposed_flashcard_phrases"
   ]
  }
 ],
 "metadata": {
  "kernelspec": {
   "display_name": ".venv",
   "language": "python",
   "name": "python3"
  },
  "language_info": {
   "codemirror_mode": {
    "name": "ipython",
    "version": 3
   },
   "file_extension": ".py",
   "mimetype": "text/x-python",
   "name": "python",
   "nbconvert_exporter": "python",
   "pygments_lexer": "ipython3",
   "version": "3.11.4"
  }
 },
 "nbformat": 4,
 "nbformat_minor": 2
}
