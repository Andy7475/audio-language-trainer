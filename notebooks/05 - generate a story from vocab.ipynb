{
 "cells": [
  {
   "cell_type": "markdown",
   "metadata": {},
   "source": [
    "# Story Generation\n",
    "We remember things better as stories. The plan here is to pick a subset of our phrases, extract the vocabularly, and generate a story based off of them. We can then pull in more flashcards / phrases to ensure a more complete phrase coverage.\n",
    "\n",
    "The story name will be story_some_title; when added as a 'tag' into Anki, this will add a hyperlink to a google cloud bucket of a specific format of bucket/language/story_name/story_name.html\n",
    "\n",
    "This means it is easy to add new stories to an existing flashcard deck, and the links will update as soon as you add the tags"
   ]
  },
  {
   "cell_type": "code",
   "execution_count": 1,
   "metadata": {},
   "outputs": [],
   "source": [
    "%load_ext autoreload\n",
    "%autoreload 2\n",
    "import os\n",
    "import sys\n",
    "\n",
    "module_path = os.path.abspath(os.path.join('..'))\n",
    "if module_path not in sys.path:\n",
    "    sys.path.append(module_path)\n",
    "\n",
    "from google.auth import default\n",
    "credentials, project = default()"
   ]
  },
  {
   "cell_type": "code",
   "execution_count": 2,
   "metadata": {},
   "outputs": [],
   "source": [
    "\n",
    "from src.config_loader import config\n",
    "from src.nlp import (\n",
    "    get_vocab_dictionary_from_phrases,\n",
    ")\n",
    "from src.gcs_storage import get_phrase_path, upload_to_gcs, read_from_gcs, get_phrase_index_path, get_story_dialogue_path\n"
   ]
  },
  {
   "cell_type": "markdown",
   "metadata": {},
   "source": [
    "### Add directories\n",
    "story images can be re-used between languages, but audio files are language specific, so we structure the story directory story_name/language with audio files in 'language/' and images and the english JSON file in story_name dir"
   ]
  },
  {
   "cell_type": "markdown",
   "metadata": {},
   "source": [
    "we already have flashcards generated for some phrases:\n",
    "a flashcard index allows us to select flashcards that cover a specific vocabulary range, it's quite computationally expensive, but is generated\n",
    "using create_flashcard_index"
   ]
  },
  {
   "cell_type": "code",
   "execution_count": 3,
   "metadata": {},
   "outputs": [],
   "source": [
    "COLLECTION = \"WarmUp150\"\n",
    "phrases = read_from_gcs(bucket_name=config.GCS_PRIVATE_BUCKET,\n",
    "                        file_path=get_phrase_path(collection=COLLECTION))\n",
    "phrase_index = read_from_gcs(bucket_name=config.GCS_PRIVATE_BUCKET,\n",
    "                             file_path=get_phrase_index_path(collection=COLLECTION))\n",
    "\n"
   ]
  },
  {
   "cell_type": "markdown",
   "metadata": {},
   "source": [
    "## If generating a new story - random sample some new phrases\n",
    "\n",
    "We want to sample from phrases that have no tags"
   ]
  },
  {
   "cell_type": "code",
   "execution_count": null,
   "metadata": {},
   "outputs": [],
   "source": [
    "len(phrases)\n",
    "# interactive cell, go through the phrases and generate a story, adjust the story name, upload\n",
    "# \n"
   ]
  },
  {
   "cell_type": "code",
   "execution_count": null,
   "metadata": {},
   "outputs": [],
   "source": [
    "vocab_dict_flashcards = get_vocab_dictionary_from_phrases(phrases[210:]) #75 phrases should give a decent amount of vocab\n",
    "print(f\"{len(vocab_dict_flashcards['verbs'])} verbs and {len(vocab_dict_flashcards['vocab'])}\")"
   ]
  },
  {
   "cell_type": "code",
   "execution_count": null,
   "metadata": {},
   "outputs": [],
   "source": [
    "vocab_dict_flashcards"
   ]
  },
  {
   "cell_type": "markdown",
   "metadata": {},
   "source": [
    "Now generate the story"
   ]
  },
  {
   "cell_type": "code",
   "execution_count": null,
   "metadata": {},
   "outputs": [],
   "source": [
    "from src.dialogue_generation import generate_story\n",
    "\n",
    "story_name, story_dialogue = generate_story(vocab_dict_flashcards)\n",
    "print(f\"story_name is {story_name} for {COLLECTION}\")\n",
    "print(f\"Story parts are {story_dialogue.keys()}\")\n"
   ]
  },
  {
   "cell_type": "code",
   "execution_count": null,
   "metadata": {},
   "outputs": [],
   "source": [
    "story_dialogue"
   ]
  },
  {
   "cell_type": "code",
   "execution_count": null,
   "metadata": {},
   "outputs": [],
   "source": [
    "story_name = \"Underwater Community Centre\"\n",
    "clean_story_name = f\"story_{story_name.lower().replace(' ', '_')}\"\n",
    "upload_to_gcs(obj=story_dialogue, bucket_name=config.GCS_PRIVATE_BUCKET,\n",
    "              file_name = get_story_dialogue_path(clean_story_name, COLLECTION))"
   ]
  },
  {
   "cell_type": "markdown",
   "metadata": {},
   "source": [
    "Image files for each part of the story:"
   ]
  },
  {
   "cell_type": "code",
   "execution_count": null,
   "metadata": {},
   "outputs": [],
   "source": [
    "# --- Generate and upload images for all stories in the collection ---\n",
    "from src.gcs_storage import get_story_names, get_story_dialogue_path, read_from_gcs\n",
    "from src.images import generate_and_save_story_images\n",
    "from src.config_loader import config\n",
    "\n",
    "all_story_names = get_story_names(collection=COLLECTION, bucket_name=config.GCS_PRIVATE_BUCKET)\n",
    "print(f\"Found {len(all_story_names)} stories in collection '{COLLECTION}':\", all_story_names)\n",
    "\n",
    "for story_name in all_story_names[1:]:\n",
    "    print(f\"\\nProcessing story: {story_name}\")\n",
    "    dialogue_path = get_story_dialogue_path(story_name, collection=COLLECTION)\n",
    "    try:\n",
    "        story_dialogue = read_from_gcs(\n",
    "            bucket_name=config.GCS_PRIVATE_BUCKET,\n",
    "            file_path=dialogue_path,\n",
    "            expected_type=\"json\"\n",
    "        )\n",
    "    except Exception as e:\n",
    "        print(f\"  ❌ Failed to load dialogue for {story_name}: {e}\")\n",
    "        continue\n",
    "    try:\n",
    "        image_results = generate_and_save_story_images(\n",
    "            story_dict=story_dialogue,\n",
    "            story_name=story_name,\n",
    "            collection=COLLECTION,\n",
    "            model_order=[\"deepai\", \"stability\"]\n",
    "        )\n",
    "        print(f\"  ✅ Images generated and uploaded for {story_name}: {image_results}\")\n",
    "    except Exception as e:\n",
    "        print(f\"  ❌ Failed to generate/upload images for {story_name}: {e}\")\n"
   ]
  },
  {
   "cell_type": "code",
   "execution_count": null,
   "metadata": {},
   "outputs": [],
   "source": []
  }
 ],
 "metadata": {
  "kernelspec": {
   "display_name": ".venv",
   "language": "python",
   "name": "python3"
  },
  "language_info": {
   "codemirror_mode": {
    "name": "ipython",
    "version": 3
   },
   "file_extension": ".py",
   "mimetype": "text/x-python",
   "name": "python",
   "nbconvert_exporter": "python",
   "pygments_lexer": "ipython3",
   "version": "3.12.0"
  }
 },
 "nbformat": 4,
 "nbformat_minor": 2
}
