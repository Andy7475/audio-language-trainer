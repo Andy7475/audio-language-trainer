{
 "cells": [
  {
   "cell_type": "markdown",
   "metadata": {},
   "source": [
    "# Story Generation\n",
    "We remember things better as stories. The plan here is to pick a subset of our phrases, extract the vocabularly, and generate a story based off of them. We can then pull in more flashcards / phrases to ensure a more complete phrase coverage.\n",
    "\n",
    "The story name will be story_some_title; when added as a 'tag' into Anki, this will add a hyperlink to a google cloud bucket of a specific format of bucket/language/story_name/story_name.html\n",
    "\n",
    "This means it is easy to add new stories to an existing flashcard deck, and the links will update as soon as you add the tags"
   ]
  },
  {
   "cell_type": "code",
   "execution_count": 1,
   "metadata": {},
   "outputs": [],
   "source": [
    "%load_ext autoreload\n",
    "%autoreload 2\n",
    "from dotenv import load_dotenv\n",
    "\n",
    "load_dotenv()\n",
    "\n",
    "PAY_FOR_API = True #change to True to run cells that cost money via API calls"
   ]
  },
  {
   "cell_type": "code",
   "execution_count": null,
   "metadata": {},
   "outputs": [],
   "source": [
    "import random\n",
    "from pathlib import Path\n",
    "from pprint import pprint\n",
    "\n",
    "from src.anki_tools import AnkiCollectionReader, get_deck_contents\n",
    "from src.config_loader import config\n",
    "from src.nlp import (\n",
    "    create_flashcard_index,\n",
    "    find_missing_vocabulary,\n",
    "    get_vocab_dict_from_dialogue,\n",
    "    get_vocab_dictionary_from_phrases,\n",
    "    get_index_subset\n",
    ")\n",
    "from src.utils import (\n",
    "    load_json,\n",
    "    load_text_file,\n",
    "    save_json,\n",
    "    save_pickle,\n",
    "    load_pickle,\n",
    "    upload_story_to_gcs,\n",
    "    upload_to_gcs,\n",
    ")\n",
    "\n",
    "from src.phrase import get_phrase_indices\n",
    "from copy import deepcopy\n"
   ]
  },
  {
   "cell_type": "markdown",
   "metadata": {},
   "source": [
    "### Add directories\n",
    "story images can be re-used between languages, but audio files are language specific, so we structure the story directory story_name/language with audio files in 'language/' and images and the english JSON file in story_name dir"
   ]
  },
  {
   "cell_type": "code",
   "execution_count": 3,
   "metadata": {},
   "outputs": [],
   "source": [
    "notebook_dir = Path().absolute()  # This gives src/notebooks\n",
    "phrase_dir = notebook_dir.parent / \"data\" / \"phrases\" #where we store text files of phrases\n",
    "story_dir = notebook_dir.parent / \"outputs\" / \"stories\" # where we store our stories"
   ]
  },
  {
   "cell_type": "markdown",
   "metadata": {},
   "source": [
    "we already have flashcards generated for some phrases:\n",
    "a flashcard index allows us to select flashcards that cover a specific vocabulary range, it's quite computationally expensive, but is generated\n",
    "using create_flashcard_index"
   ]
  },
  {
   "cell_type": "code",
   "execution_count": 4,
   "metadata": {},
   "outputs": [
    {
     "name": "stdout",
     "output_type": "stream",
     "text": [
      "(\"First few phrases ['Do you want to become a famous writer?', 'Let me show \"\n",
      " \"you around the city', 'We need to handle this situation carefully', 'Stop \"\n",
      " 'wasting time on this\\', \\'Do you like playing the guitar at night?\\', \"I\\'m '\n",
      " 'taking a vacation next month\", \"Don\\'t forget to wear a helmet while '\n",
      " 'cycling\", \"Let\\'s cut unnecessary expenses this year\", \"We\\'re producing a '\n",
      " 'new product soon\", \\'Did you remember to turn off the stove?\\']')\n"
     ]
    }
   ],
   "source": [
    "PHRASE_LIST_NAME = \"longman_1000_phrases\"\n",
    "phrase_file = phrase_dir / f\"{PHRASE_LIST_NAME}.txt\"\n",
    "phrases = load_text_file(phrase_file)\n",
    "pprint(f\"First few phrases {phrases[:10]}\")\n",
    "\n"
   ]
  },
  {
   "cell_type": "markdown",
   "metadata": {},
   "source": [
    "## create the flashcard index\n",
    "This makes it very fast to find matching flashcards from a given vocab list"
   ]
  },
  {
   "cell_type": "code",
   "execution_count": 5,
   "metadata": {},
   "outputs": [],
   "source": [
    "# long process, so only create if it doesn't exist\n",
    "notebook_dir = Path().absolute()  # This gives src/notebooks\n",
    "index_file = phrase_dir / f\"{PHRASE_LIST_NAME}_index.json\"\n",
    "\n",
    "if index_file.exists():\n",
    "    phrase_index = load_json(index_file)\n",
    "else:\n",
    "    phrase_index = create_flashcard_index(phrases)\n",
    "    save_json(data=phrase_index, file_path=index_file)\n",
    "\n"
   ]
  },
  {
   "cell_type": "markdown",
   "metadata": {},
   "source": [
    "## Sample some phrases to generate the story from\n",
    "This will pin the story to the vocab found in some pre-existing phrases"
   ]
  },
  {
   "cell_type": "code",
   "execution_count": 6,
   "metadata": {},
   "outputs": [
    {
     "name": "stdout",
     "output_type": "stream",
     "text": [
      "{1: 'Default',\n",
      " 1731524665442: 'Swedish EAL',\n",
      " 1732020971325: 'RapidRetention - Swedish::LM1000',\n",
      " 1732637740663: 'RapidRetention - Welsh - LM1000',\n",
      " 1734260227418: 'RapidRetention - Swedish::NumbersDays',\n",
      " 1734261644938: 'RapidRetention - Russian::NumbersDays',\n",
      " 1734264578929: 'RapidRetention - Italian - NumbersDays',\n",
      " 1734426251278: 'RapidRetention - French - NumbersDays',\n",
      " 1735660105659: 'RapidRetention - Swedish::EatingOut',\n",
      " 1735684325990: 'RapidRetention - Czech - EatingOut',\n",
      " 1735687489606: 'RapidRetention - Welsh - EatingOut',\n",
      " 1735998451053: 'RapidRetention - Italian - EatingOut',\n",
      " 1737410923009: 'RapidRetention - Swedish::LanguageMeetUp',\n",
      " 1737964362773: 'RapidRetention - Swedish',\n",
      " 1739041921475: 'RapidRetention - Russian::EatingOut',\n",
      " 1739041939923: 'RapidRetention - Russian',\n",
      " 1739715099478: 'RapidRetention - Spanish',\n",
      " 1739715099479: 'RapidRetention - Spanish::EatingOut',\n",
      " 1741030244238: 'RapidRetention - Chinese',\n",
      " 1741030244239: 'RapidRetention - Chinese::EatingOut'}\n"
     ]
    }
   ],
   "source": [
    "#we can obtain phrases we know to create a story from:\n",
    "# NOTE: you must close Anki Desktop when trying to form a connection here\n",
    "with AnkiCollectionReader() as reader:\n",
    "    pprint(reader.get_deck_names())\n",
    "\n",
    "#this will print out deck_id : deck_name -> we want to copy the relevant deck_name"
   ]
  },
  {
   "cell_type": "markdown",
   "metadata": {},
   "source": [
    "## RESTART here to refresh the list of phrases without tags"
   ]
  },
  {
   "cell_type": "code",
   "execution_count": 297,
   "metadata": {},
   "outputs": [
    {
     "data": {
      "application/vnd.microsoft.datawrangler.viewer.v0+json": {
       "columns": [
        {
         "name": "index",
         "rawType": "int64",
         "type": "integer"
        },
        {
         "name": "note_id",
         "rawType": "int64",
         "type": "integer"
        },
        {
         "name": "model_name",
         "rawType": "object",
         "type": "string"
        },
        {
         "name": "tags",
         "rawType": "object",
         "type": "string"
        },
        {
         "name": "n_cards",
         "rawType": "int64",
         "type": "integer"
        },
        {
         "name": "avg_ease",
         "rawType": "float64",
         "type": "float"
        },
        {
         "name": "total_reps",
         "rawType": "int64",
         "type": "integer"
        },
        {
         "name": "avg_reps",
         "rawType": "float64",
         "type": "float"
        },
        {
         "name": "total_lapses",
         "rawType": "int64",
         "type": "integer"
        },
        {
         "name": "avg_lapses",
         "rawType": "float64",
         "type": "float"
        },
        {
         "name": "avg_interval",
         "rawType": "float64",
         "type": "float"
        },
        {
         "name": "TargetText",
         "rawType": "object",
         "type": "string"
        },
        {
         "name": "TargetAudio",
         "rawType": "object",
         "type": "string"
        },
        {
         "name": "TargetAudioSlow",
         "rawType": "object",
         "type": "string"
        },
        {
         "name": "EnglishText",
         "rawType": "object",
         "type": "string"
        },
        {
         "name": "WiktionaryLinks",
         "rawType": "object",
         "type": "string"
        },
        {
         "name": "Picture",
         "rawType": "object",
         "type": "string"
        },
        {
         "name": "TargetLanguageName",
         "rawType": "object",
         "type": "string"
        },
        {
         "name": "knowledge_score",
         "rawType": "float64",
         "type": "float"
        }
       ],
       "conversionMethod": "pd.DataFrame",
       "ref": "0c58e19d-0f75-4f56-baac-39df5e546f2c",
       "rows": [
        [
         "0",
         "1732020511348",
         "Language Practice With Images",
         "story_rainy_football_match",
         "3",
         "93.3",
         "6",
         "2.0",
         "0",
         "0.0",
         "56.7",
         "Var mer uppmärksam på detaljer",
         "[sound:a821f020-5a84-44fb-af42-c6c4133e4379.mp3]",
         "[sound:3d6997c2-92c7-43c9-b31e-a20cc4f0bf9e.mp3]",
         "Pay more attention to details",
         "<a href=\"https://en.wiktionary.org/wiki/var#Swedish\">Var</a> <a href=\"https://en.wiktionary.org/wiki/mer#Swedish\">mer</a> <a href=\"https://en.wiktionary.org/wiki/uppm%C3%A4rksam#Swedish\">uppmärksam</a> <a href=\"https://en.wiktionary.org/wiki/p%C3%A5#Swedish\">på</a> <a href=\"https://en.wiktionary.org/wiki/detaljer#Swedish\">detaljer</a>",
         "<img src=\"f7153993-cfee-40f4-841c-1bd6cfaeb5a9.png\">",
         "Swedish",
         "0.394"
        ],
        [
         "1",
         "1732020511352",
         "Language Practice With Images",
         "story_unexpected_wedding_guests",
         "3",
         "280.0",
         "16",
         "5.3",
         "0",
         "0.0",
         "166.3",
         "Kommer kunden att känna igen mig?",
         "[sound:fa15b936-ef4e-44d5-932d-e94a6b477c9d.mp3]",
         "[sound:79a26555-55ef-43d6-a9ca-6ee02ade7721.mp3]",
         "Will the customer recognize me?",
         "<a href=\"https://en.wiktionary.org/wiki/kommer#Swedish\">Kommer</a> <a href=\"https://en.wiktionary.org/wiki/kunden#Swedish\">kunden</a> <a href=\"https://en.wiktionary.org/wiki/att#Swedish\">att</a> <a href=\"https://en.wiktionary.org/wiki/k%C3%A4nna#Swedish\">känna</a> <a href=\"https://en.wiktionary.org/wiki/igen#Swedish\">igen</a> <a href=\"https://en.wiktionary.org/wiki/mig#Swedish\">mig?</a>",
         "<img src=\"cd5e83e4-813e-4097-962a-cf536f866e99.png\">",
         "Swedish",
         "0.517"
        ],
        [
         "2",
         "1732020511356",
         "Language Practice With Images",
         "story_birthday_party_planning_mishap",
         "3",
         "83.3",
         "5",
         "1.7",
         "0",
         "0.0",
         "24.0",
         "Vänligen svara ärligt på alla frågor",
         "[sound:f54483fc-3303-427d-acef-6710ae244bc9.mp3]",
         "[sound:41c55da5-347a-4d0b-b6c8-40b27b46c1b9.mp3]",
         "Please answer all questions honestly",
         "<a href=\"https://en.wiktionary.org/wiki/v%C3%A4nligen#Swedish\">Vänligen</a> <a href=\"https://en.wiktionary.org/wiki/svara#Swedish\">svara</a> <a href=\"https://en.wiktionary.org/wiki/%C3%A4rligt#Swedish\">ärligt</a> <a href=\"https://en.wiktionary.org/wiki/p%C3%A5#Swedish\">på</a> <a href=\"https://en.wiktionary.org/wiki/alla#Swedish\">alla</a> <a href=\"https://en.wiktionary.org/wiki/fr%C3%A5gor#Swedish\">frågor</a>",
         "<img src=\"1a6640ec-fe2d-4808-b638-33a38b694224.png\">",
         "Swedish",
         "0.342"
        ],
        [
         "3",
         "1732020511360",
         "Language Practice With Images",
         "story_fishing_trip_gone_awry",
         "3",
         "186.7",
         "6",
         "2.0",
         "0",
         "0.0",
         "54.0",
         "Sluta slösa tid på detta",
         "[sound:b34a331b-6dd9-44a2-a588-f92be1b11d06.mp3]",
         "[sound:a1a6714c-9bfd-4cd7-b30e-1a209c0ab42b.mp3]",
         "Stop wasting time on this",
         "<a href=\"https://en.wiktionary.org/wiki/sluta#Swedish\">Sluta</a> <a href=\"https://en.wiktionary.org/wiki/sl%C3%B6sa#Swedish\">slösa</a> <a href=\"https://en.wiktionary.org/wiki/tid#Swedish\">tid</a> <a href=\"https://en.wiktionary.org/wiki/p%C3%A5#Swedish\">på</a> <a href=\"https://en.wiktionary.org/wiki/detta#Swedish\">detta</a>",
         "<img src=\"8de5a6d3-b10c-45ea-860c-512cc2673be7.png\">",
         "Swedish",
         "0.389"
        ],
        [
         "4",
         "1732020511364",
         "Language Practice With Images",
         "story_workplace_stress_vacation",
         "3",
         "270.0",
         "13",
         "4.3",
         "0",
         "0.0",
         "129.3",
         "Vi producerar en ny produkt snart",
         "[sound:10281f18-fddc-4a69-ab7b-6098f63b948f.mp3]",
         "[sound:0e472f07-e35b-4ab0-9161-e0a1474c6e34.mp3]",
         "We're producing a new product soon",
         "<a href=\"https://en.wiktionary.org/wiki/vi#Swedish\">Vi</a> <a href=\"https://en.wiktionary.org/wiki/producerar#Swedish\">producerar</a> <a href=\"https://en.wiktionary.org/wiki/en#Swedish\">en</a> <a href=\"https://en.wiktionary.org/wiki/ny#Swedish\">ny</a> <a href=\"https://en.wiktionary.org/wiki/produkt#Swedish\">produkt</a> <a href=\"https://en.wiktionary.org/wiki/snart#Swedish\">snart</a>",
         "<img src=\"329bfcb3-7cb4-4174-923f-567a1bfe7ec9.png\">",
         "Swedish",
         "0.475"
        ]
       ],
       "shape": {
        "columns": 18,
        "rows": 5
       }
      },
      "text/html": [
       "<div>\n",
       "<style scoped>\n",
       "    .dataframe tbody tr th:only-of-type {\n",
       "        vertical-align: middle;\n",
       "    }\n",
       "\n",
       "    .dataframe tbody tr th {\n",
       "        vertical-align: top;\n",
       "    }\n",
       "\n",
       "    .dataframe thead th {\n",
       "        text-align: right;\n",
       "    }\n",
       "</style>\n",
       "<table border=\"1\" class=\"dataframe\">\n",
       "  <thead>\n",
       "    <tr style=\"text-align: right;\">\n",
       "      <th></th>\n",
       "      <th>note_id</th>\n",
       "      <th>model_name</th>\n",
       "      <th>tags</th>\n",
       "      <th>n_cards</th>\n",
       "      <th>avg_ease</th>\n",
       "      <th>total_reps</th>\n",
       "      <th>avg_reps</th>\n",
       "      <th>total_lapses</th>\n",
       "      <th>avg_lapses</th>\n",
       "      <th>avg_interval</th>\n",
       "      <th>TargetText</th>\n",
       "      <th>TargetAudio</th>\n",
       "      <th>TargetAudioSlow</th>\n",
       "      <th>EnglishText</th>\n",
       "      <th>WiktionaryLinks</th>\n",
       "      <th>Picture</th>\n",
       "      <th>TargetLanguageName</th>\n",
       "      <th>knowledge_score</th>\n",
       "    </tr>\n",
       "  </thead>\n",
       "  <tbody>\n",
       "    <tr>\n",
       "      <th>0</th>\n",
       "      <td>1732020511348</td>\n",
       "      <td>Language Practice With Images</td>\n",
       "      <td>story_rainy_football_match</td>\n",
       "      <td>3</td>\n",
       "      <td>93.3</td>\n",
       "      <td>6</td>\n",
       "      <td>2.0</td>\n",
       "      <td>0</td>\n",
       "      <td>0.0</td>\n",
       "      <td>56.7</td>\n",
       "      <td>Var mer uppmärksam på detaljer</td>\n",
       "      <td>[sound:a821f020-5a84-44fb-af42-c6c4133e4379.mp3]</td>\n",
       "      <td>[sound:3d6997c2-92c7-43c9-b31e-a20cc4f0bf9e.mp3]</td>\n",
       "      <td>Pay more attention to details</td>\n",
       "      <td>&lt;a href=\"https://en.wiktionary.org/wiki/var#Sw...</td>\n",
       "      <td>&lt;img src=\"f7153993-cfee-40f4-841c-1bd6cfaeb5a9...</td>\n",
       "      <td>Swedish</td>\n",
       "      <td>0.394</td>\n",
       "    </tr>\n",
       "    <tr>\n",
       "      <th>1</th>\n",
       "      <td>1732020511352</td>\n",
       "      <td>Language Practice With Images</td>\n",
       "      <td>story_unexpected_wedding_guests</td>\n",
       "      <td>3</td>\n",
       "      <td>280.0</td>\n",
       "      <td>16</td>\n",
       "      <td>5.3</td>\n",
       "      <td>0</td>\n",
       "      <td>0.0</td>\n",
       "      <td>166.3</td>\n",
       "      <td>Kommer kunden att känna igen mig?</td>\n",
       "      <td>[sound:fa15b936-ef4e-44d5-932d-e94a6b477c9d.mp3]</td>\n",
       "      <td>[sound:79a26555-55ef-43d6-a9ca-6ee02ade7721.mp3]</td>\n",
       "      <td>Will the customer recognize me?</td>\n",
       "      <td>&lt;a href=\"https://en.wiktionary.org/wiki/kommer...</td>\n",
       "      <td>&lt;img src=\"cd5e83e4-813e-4097-962a-cf536f866e99...</td>\n",
       "      <td>Swedish</td>\n",
       "      <td>0.517</td>\n",
       "    </tr>\n",
       "    <tr>\n",
       "      <th>2</th>\n",
       "      <td>1732020511356</td>\n",
       "      <td>Language Practice With Images</td>\n",
       "      <td>story_birthday_party_planning_mishap</td>\n",
       "      <td>3</td>\n",
       "      <td>83.3</td>\n",
       "      <td>5</td>\n",
       "      <td>1.7</td>\n",
       "      <td>0</td>\n",
       "      <td>0.0</td>\n",
       "      <td>24.0</td>\n",
       "      <td>Vänligen svara ärligt på alla frågor</td>\n",
       "      <td>[sound:f54483fc-3303-427d-acef-6710ae244bc9.mp3]</td>\n",
       "      <td>[sound:41c55da5-347a-4d0b-b6c8-40b27b46c1b9.mp3]</td>\n",
       "      <td>Please answer all questions honestly</td>\n",
       "      <td>&lt;a href=\"https://en.wiktionary.org/wiki/v%C3%A...</td>\n",
       "      <td>&lt;img src=\"1a6640ec-fe2d-4808-b638-33a38b694224...</td>\n",
       "      <td>Swedish</td>\n",
       "      <td>0.342</td>\n",
       "    </tr>\n",
       "    <tr>\n",
       "      <th>3</th>\n",
       "      <td>1732020511360</td>\n",
       "      <td>Language Practice With Images</td>\n",
       "      <td>story_fishing_trip_gone_awry</td>\n",
       "      <td>3</td>\n",
       "      <td>186.7</td>\n",
       "      <td>6</td>\n",
       "      <td>2.0</td>\n",
       "      <td>0</td>\n",
       "      <td>0.0</td>\n",
       "      <td>54.0</td>\n",
       "      <td>Sluta slösa tid på detta</td>\n",
       "      <td>[sound:b34a331b-6dd9-44a2-a588-f92be1b11d06.mp3]</td>\n",
       "      <td>[sound:a1a6714c-9bfd-4cd7-b30e-1a209c0ab42b.mp3]</td>\n",
       "      <td>Stop wasting time on this</td>\n",
       "      <td>&lt;a href=\"https://en.wiktionary.org/wiki/sluta#...</td>\n",
       "      <td>&lt;img src=\"8de5a6d3-b10c-45ea-860c-512cc2673be7...</td>\n",
       "      <td>Swedish</td>\n",
       "      <td>0.389</td>\n",
       "    </tr>\n",
       "    <tr>\n",
       "      <th>4</th>\n",
       "      <td>1732020511364</td>\n",
       "      <td>Language Practice With Images</td>\n",
       "      <td>story_workplace_stress_vacation</td>\n",
       "      <td>3</td>\n",
       "      <td>270.0</td>\n",
       "      <td>13</td>\n",
       "      <td>4.3</td>\n",
       "      <td>0</td>\n",
       "      <td>0.0</td>\n",
       "      <td>129.3</td>\n",
       "      <td>Vi producerar en ny produkt snart</td>\n",
       "      <td>[sound:10281f18-fddc-4a69-ab7b-6098f63b948f.mp3]</td>\n",
       "      <td>[sound:0e472f07-e35b-4ab0-9161-e0a1474c6e34.mp3]</td>\n",
       "      <td>We're producing a new product soon</td>\n",
       "      <td>&lt;a href=\"https://en.wiktionary.org/wiki/vi#Swe...</td>\n",
       "      <td>&lt;img src=\"329bfcb3-7cb4-4174-923f-567a1bfe7ec9...</td>\n",
       "      <td>Swedish</td>\n",
       "      <td>0.475</td>\n",
       "    </tr>\n",
       "  </tbody>\n",
       "</table>\n",
       "</div>"
      ],
      "text/plain": [
       "         note_id                     model_name  \\\n",
       "0  1732020511348  Language Practice With Images   \n",
       "1  1732020511352  Language Practice With Images   \n",
       "2  1732020511356  Language Practice With Images   \n",
       "3  1732020511360  Language Practice With Images   \n",
       "4  1732020511364  Language Practice With Images   \n",
       "\n",
       "                                   tags  n_cards  avg_ease  total_reps  \\\n",
       "0            story_rainy_football_match        3      93.3           6   \n",
       "1       story_unexpected_wedding_guests        3     280.0          16   \n",
       "2  story_birthday_party_planning_mishap        3      83.3           5   \n",
       "3          story_fishing_trip_gone_awry        3     186.7           6   \n",
       "4       story_workplace_stress_vacation        3     270.0          13   \n",
       "\n",
       "   avg_reps  total_lapses  avg_lapses  avg_interval  \\\n",
       "0       2.0             0         0.0          56.7   \n",
       "1       5.3             0         0.0         166.3   \n",
       "2       1.7             0         0.0          24.0   \n",
       "3       2.0             0         0.0          54.0   \n",
       "4       4.3             0         0.0         129.3   \n",
       "\n",
       "                             TargetText  \\\n",
       "0        Var mer uppmärksam på detaljer   \n",
       "1     Kommer kunden att känna igen mig?   \n",
       "2  Vänligen svara ärligt på alla frågor   \n",
       "3              Sluta slösa tid på detta   \n",
       "4     Vi producerar en ny produkt snart   \n",
       "\n",
       "                                        TargetAudio  \\\n",
       "0  [sound:a821f020-5a84-44fb-af42-c6c4133e4379.mp3]   \n",
       "1  [sound:fa15b936-ef4e-44d5-932d-e94a6b477c9d.mp3]   \n",
       "2  [sound:f54483fc-3303-427d-acef-6710ae244bc9.mp3]   \n",
       "3  [sound:b34a331b-6dd9-44a2-a588-f92be1b11d06.mp3]   \n",
       "4  [sound:10281f18-fddc-4a69-ab7b-6098f63b948f.mp3]   \n",
       "\n",
       "                                    TargetAudioSlow  \\\n",
       "0  [sound:3d6997c2-92c7-43c9-b31e-a20cc4f0bf9e.mp3]   \n",
       "1  [sound:79a26555-55ef-43d6-a9ca-6ee02ade7721.mp3]   \n",
       "2  [sound:41c55da5-347a-4d0b-b6c8-40b27b46c1b9.mp3]   \n",
       "3  [sound:a1a6714c-9bfd-4cd7-b30e-1a209c0ab42b.mp3]   \n",
       "4  [sound:0e472f07-e35b-4ab0-9161-e0a1474c6e34.mp3]   \n",
       "\n",
       "                            EnglishText  \\\n",
       "0         Pay more attention to details   \n",
       "1       Will the customer recognize me?   \n",
       "2  Please answer all questions honestly   \n",
       "3             Stop wasting time on this   \n",
       "4    We're producing a new product soon   \n",
       "\n",
       "                                     WiktionaryLinks  \\\n",
       "0  <a href=\"https://en.wiktionary.org/wiki/var#Sw...   \n",
       "1  <a href=\"https://en.wiktionary.org/wiki/kommer...   \n",
       "2  <a href=\"https://en.wiktionary.org/wiki/v%C3%A...   \n",
       "3  <a href=\"https://en.wiktionary.org/wiki/sluta#...   \n",
       "4  <a href=\"https://en.wiktionary.org/wiki/vi#Swe...   \n",
       "\n",
       "                                             Picture TargetLanguageName  \\\n",
       "0  <img src=\"f7153993-cfee-40f4-841c-1bd6cfaeb5a9...            Swedish   \n",
       "1  <img src=\"cd5e83e4-813e-4097-962a-cf536f866e99...            Swedish   \n",
       "2  <img src=\"1a6640ec-fe2d-4808-b638-33a38b694224...            Swedish   \n",
       "3  <img src=\"8de5a6d3-b10c-45ea-860c-512cc2673be7...            Swedish   \n",
       "4  <img src=\"329bfcb3-7cb4-4174-923f-567a1bfe7ec9...            Swedish   \n",
       "\n",
       "   knowledge_score  \n",
       "0            0.394  \n",
       "1            0.517  \n",
       "2            0.342  \n",
       "3            0.389  \n",
       "4            0.475  "
      ]
     },
     "execution_count": 297,
     "metadata": {},
     "output_type": "execute_result"
    }
   ],
   "source": [
    "DECK_NAME = \"RapidRetention - Swedish::LM1000\"\n",
    "df = get_deck_contents(deck_name=DECK_NAME) #calculates knowledge score\n",
    "df.head()"
   ]
  },
  {
   "cell_type": "code",
   "execution_count": 298,
   "metadata": {},
   "outputs": [
    {
     "name": "stdout",
     "output_type": "stream",
     "text": [
      "8 phrases left\n"
     ]
    }
   ],
   "source": [
    "print(f\"\"\"{df.query(\"tags == ''\").shape[0]} phrases left\"\"\")"
   ]
  },
  {
   "cell_type": "markdown",
   "metadata": {},
   "source": [
    "# We want to arrive at all phrases assigned to stories (via tags)\n",
    "So we create an untagged index - an index of flashcards that do not have a tag. We will use these to link to story vocabularly"
   ]
  },
  {
   "cell_type": "code",
   "execution_count": 289,
   "metadata": {},
   "outputs": [
    {
     "name": "stdout",
     "output_type": "stream",
     "text": [
      "36 65\n"
     ]
    }
   ],
   "source": [
    "\n",
    "phrases_with_tags = df.query(\"tags != ''\")['EnglishText'].tolist()\n",
    "phrases_without_tags = df.query(\"tags == ''\")['EnglishText'].tolist()\n",
    "#how many words are yet to be assigned to a story?\n",
    "available_vocab = get_vocab_dictionary_from_phrases(phrases_without_tags)\n",
    "print(len(available_vocab['verbs']),  len(available_vocab['vocab']))\n",
    "\n",
    "#we need to know the location of each phrase as an integer in the phrase_index\n",
    "phrases_without_tags_indicies = get_phrase_indices(known_phrases = phrases_without_tags, all_phrases = phrase_index['phrases'])\n",
    "\n",
    "#if we already have a phrase linked to a story, we don't want to retrieve that from the index and link it to a story\n",
    "untagged_index = deepcopy(phrase_index)\n",
    "untagged_index['verb_index'] = get_index_subset(phrases_without_tags_indicies, untagged_index['verb_index'])\n",
    "untagged_index['vocab_index'] = get_index_subset(phrases_without_tags_indicies, untagged_index['vocab_index'])"
   ]
  },
  {
   "cell_type": "markdown",
   "metadata": {},
   "source": [
    "## If generating a new story - random sample some new phrases\n",
    "\n",
    "We want to sample from phrases that have no tags"
   ]
  },
  {
   "cell_type": "code",
   "execution_count": 290,
   "metadata": {},
   "outputs": [],
   "source": [
    "sampled_phrases = random.sample(phrases_without_tags, min(100, len(phrases_without_tags)))\n",
    "\n",
    "#or use sampled_phrases\n",
    "vocab_dict_flashcards = get_vocab_dictionary_from_phrases(sampled_phrases) #75 phrases should give a decent amount of vocab"
   ]
  },
  {
   "cell_type": "markdown",
   "metadata": {},
   "source": [
    "Now generate the story"
   ]
  },
  {
   "cell_type": "code",
   "execution_count": 291,
   "metadata": {},
   "outputs": [
    {
     "name": "stdout",
     "output_type": "stream",
     "text": [
      "Function that called this one: generate_story. Sleeping for 20 seconds\n",
      "generated story: Unexpected Power Outage\n"
     ]
    }
   ],
   "source": [
    "from src.dialogue_generation import generate_story\n",
    "\n",
    "story_name, story_dialogue = generate_story(vocab_dict_flashcards)\n"
   ]
  },
  {
   "cell_type": "markdown",
   "metadata": {},
   "source": [
    "## If using pre-generated story that we want to assign tags to?\n",
    "Then overwrite the story name and load the json dialogue file"
   ]
  },
  {
   "cell_type": "code",
   "execution_count": 292,
   "metadata": {},
   "outputs": [
    {
     "name": "stdout",
     "output_type": "stream",
     "text": [
      "saved story_unexpected_power_outage to y:\\Python Scripts\\audio-language-trainer\\outputs\\stories\\story_unexpected_power_outage\\story_unexpected_power_outage.json\n"
     ]
    }
   ],
   "source": [
    "#story_name = \"unexpected_music_project\"\n",
    "clean_story_name = f\"story_{story_name.lower().replace(' ', '_')}\"\n",
    "\n",
    "story_path = story_dir / clean_story_name / f\"{clean_story_name}.json\"\n",
    "\n",
    "#story_dialogue = load_json(story_path)\n",
    "save_json(story_dialogue, story_path)\n",
    "print(f\"saved {clean_story_name} to {story_path}\")\n",
    "\n",
    "vocab_dict_story = get_vocab_dict_from_dialogue(story_dialogue, limit_story_parts=None)"
   ]
  },
  {
   "cell_type": "markdown",
   "metadata": {},
   "source": [
    "Let's retrieve flashcards we know that better fit the story vocab"
   ]
  },
  {
   "cell_type": "code",
   "execution_count": 293,
   "metadata": {},
   "outputs": [],
   "source": [
    "from src.nlp import get_matching_flashcards_indexed\n",
    "\n",
    "# Let's find the minimal set of flashcards that we need to learn for the story\n",
    "candidate_flashcards = get_matching_flashcards_indexed(vocab_dict_story, untagged_index)\n",
    "candidate_phrases = [card.get('phrase') for card in candidate_flashcards['selected_cards']]\n"
   ]
  },
  {
   "cell_type": "markdown",
   "metadata": {},
   "source": [
    "We can check the coverage below, we want stories to stretch learners so 70% ish is fine"
   ]
  },
  {
   "cell_type": "code",
   "execution_count": 294,
   "metadata": {},
   "outputs": [
    {
     "name": "stdout",
     "output_type": "stream",
     "text": [
      "=== VOCABULARY COVERAGE ANALYSIS ===\n",
      "Target verbs covered by flashcards: 15.6%\n",
      "Target vocabulary covered by flashcards: 26.4%\n",
      "\n",
      "Verbs needing new flashcards:\n",
      "['find', 'know', 'flicker', \"'ve\", 'make'] ...\n",
      "\n",
      "Vocabulary needing new flashcards:\n",
      "['my', 'introduction', 'light', 'building', 'some'] ...\n"
     ]
    }
   ],
   "source": [
    "\n",
    "known_vocab_dict = get_vocab_dictionary_from_phrases(candidate_phrases)\n",
    "missing_vocab = find_missing_vocabulary(vocab_dict_source=known_vocab_dict, vocab_dict_target=vocab_dict_story)\n",
    "missing_vocab_dict = missing_vocab[\"missing_vocab\"]\n"
   ]
  },
  {
   "cell_type": "markdown",
   "metadata": {},
   "source": [
    "Now supplement these with any remaining flascards we don't yet know"
   ]
  },
  {
   "cell_type": "markdown",
   "metadata": {},
   "source": [
    "# Add tags to the flashcard deck"
   ]
  },
  {
   "cell_type": "code",
   "execution_count": 295,
   "metadata": {},
   "outputs": [
    {
     "name": "stdout",
     "output_type": "stream",
     "text": [
      "We are going to add 'story_unexpected_power_outage' tag to 17 phrases withing 'RapidRetention - Swedish::LM1000'\n"
     ]
    }
   ],
   "source": [
    "print(f\"We are going to add '{clean_story_name}' tag to {len(candidate_phrases)} phrases withing '{DECK_NAME}'\")"
   ]
  },
  {
   "cell_type": "code",
   "execution_count": 296,
   "metadata": {},
   "outputs": [
    {
     "name": "stdout",
     "output_type": "stream",
     "text": [
      "audio-language-trainer\\src\\anki_tools.py:217:save() is deprecated: saving is automatic\n",
      "Updated 17 notes\n"
     ]
    }
   ],
   "source": [
    "#sometimes this needs running twice...\n",
    "from src.anki_tools import add_tag_to_matching_notes\n",
    "\n",
    "updates, errors = add_tag_to_matching_notes(\n",
    "    deck_name=DECK_NAME,\n",
    "    phrases=candidate_phrases,\n",
    "    tag=clean_story_name\n",
    ")\n",
    "\n",
    "print(f\"Updated {updates} notes\")\n",
    "if errors:\n",
    "    print(\"Errors encountered:\")\n",
    "    for error in errors:\n",
    "        print(f\"- {error}\")"
   ]
  },
  {
   "cell_type": "markdown",
   "metadata": {},
   "source": [
    "## Repeat\n",
    "We can now update phrases without tags at the top of this notebook and generate another story"
   ]
  },
  {
   "cell_type": "markdown",
   "metadata": {},
   "source": [
    "## Generate the story files\n",
    "Once you are happy with the flashcard coverage, you can:\n",
    "* translate and add audio\n",
    "* create the story images\n",
    "* create the story album files (M4a files with synced lyrics)\n",
    "* create the story HTML file using those previous files, and upload to Google Cloud Storage\n",
    "* tag the flascards with the story name...this will then mean you can link to the story from within Anki (the template uses tags to auto-create hyperlinks)"
   ]
  },
  {
   "cell_type": "code",
   "execution_count": 304,
   "metadata": {},
   "outputs": [
    {
     "data": {
      "text/plain": [
       "'Han kan bli av med jobbet om han är sen'"
      ]
     },
     "execution_count": 304,
     "metadata": {},
     "output_type": "execute_result"
    }
   ],
   "source": [
    "str(df['TargetText'].sample().values[0])"
   ]
  },
  {
   "cell_type": "code",
   "execution_count": 321,
   "metadata": {},
   "outputs": [],
   "source": [
    "from src.config_loader import config"
   ]
  },
  {
   "cell_type": "code",
   "execution_count": 322,
   "metadata": {},
   "outputs": [
    {
     "name": "stdout",
     "output_type": "stream",
     "text": [
      "setting voice override: sv-SE-SofieNeural\n",
      "setting voice override: sv-SE-MattiasNeural\n"
     ]
    }
   ],
   "source": [
    "config._load_config()"
   ]
  },
  {
   "cell_type": "code",
   "execution_count": null,
   "metadata": {},
   "outputs": [],
   "source": []
  },
  {
   "cell_type": "code",
   "execution_count": null,
   "metadata": {},
   "outputs": [],
   "source": [
    "vm."
   ]
  },
  {
   "cell_type": "code",
   "execution_count": 320,
   "metadata": {},
   "outputs": [
    {
     "data": {
      "text/plain": [
       "(VoiceInfo(name='en-GB-Studio-B', provider=<VoiceProvider.GOOGLE: 'google'>, voice_type=<VoiceType.STUDIO: 'studio'>, gender='MALE', language_code='en-GB', country_code='GB', voice_id='en-GB-Studio-B'),\n",
       " VoiceInfo(name='Hillevi', provider=<VoiceProvider.AZURE: 'azure'>, voice_type=<VoiceType.NEURAL: 'neural'>, gender='FEMALE', language_code='sv-SE', country_code='SE', voice_id='sv-SE-HilleviNeural'),\n",
       " VoiceInfo(name='Mattias', provider=<VoiceProvider.AZURE: 'azure'>, voice_type=<VoiceType.NEURAL: 'neural'>, gender='MALE', language_code='sv-SE', country_code='SE', voice_id='sv-SE-MattiasNeural'))"
      ]
     },
     "execution_count": 320,
     "metadata": {},
     "output_type": "execute_result"
    }
   ],
   "source": [
    "config.get_voice_models()"
   ]
  },
  {
   "cell_type": "code",
   "execution_count": 324,
   "metadata": {},
   "outputs": [
    {
     "data": {
      "text/html": [
       "\n",
       "                    <audio controls>\n",
       "                        <source src=\"data:audio/mpeg;base64,SUQzBAAAAAAAIlRTU0UAAAAOAAADTGF2ZjYxLjEuMTAwAAAAAAAAAAAAAAD/81jAAAAAAAAAAAAASW5mbwAAAA8AAAFRAACO4AAEBgkLDhETFRgaHSAiJScqLS8yNDY5PD5BQ0ZJS05QUlVYWl1fYmVnamxucXR3eXt+gYOGiIqNkJOVl5qcn6Kkp6msr7Gztri7vsDDxcjLzc/S1Nfa3N/h5Ofp7O7w8/b4+/0AAAAATGF2YzYxLjMuAAAAAAAAAAAAAAAAJAJAAAAAAAAAjuD7v+72AAAAAAAAAAAAAAD/8zjEAAAAA0gAAAAATEFNRTMuMTAwVVVVVVVVVVVVVVVVVVVVVVVVVVVVCJUTB7JweBOPRQJ4PRCUzFHtbY+xNxSB9IWaVHMqcV307pTeE8R2EIrxHZKTwnZHN4jslNGQOwgOYRRAdhDslN3/8zjEXwAAA0gAAAAAkppTQ0porhFEOabwnppXhB2FhAcBDEEeQszuzX/qcit85FJN/lhZYiGA6lgCEM04xq8KgqkVjSrXI+rLmIOJJnXsyh9ItDEOTcbkUVl8XA4hFBxUUKMMpzWTUXLIZeH/8zjEoAAAA0gAAAAANgjaXXPoG7xaLBRc2ypIuwsu4lSScwlbFOaXs1NyzaxdhqZ5EmXIbPruLMxkqJ2iUijGTc3qYmaUmbIA5hrJn4GOhAAVOEik0eHDFdzFAhgltQQmx6Np2ICE9PB0j+b/8zjE/xraSeQiYYZVE7MInFlipUalKSJggaIMtpMoZy85wpAHQnhsFxZeZYxH5b3jW8NBAs7aijnW05RVtzirGRDHkNjCyL1K21uxAHCzBpboIjzSkVkz1ufJ5+MTJg6/jrYIVZBfWxAzAez/8zjE8im7OfgAykz9gj0QdcGTgsmt7ej4xi3dsNe2aEytFtnPMRXu3uunDw6nyqTDLySWfdKfZZ/bEQcQRRgif9+PpELt8sRyCyorQuIxQFhkBQZUkkjI3cXPfk+XLPirIMqCE3PR5cXBWI7/8zjEqiQjPhAAeZEdQCgFhl1pX70XaJJ5Bjnli64OhQJxlLg1ohUMClFvCszERkzEstjgPkaw/u+VCYIBEAuH6dMTGAaF03cX8VBEZsyJbVUMzs5t72WPHEU3YclOBw8ZM1752T7Xf47aPKP/8zjEeCYK3nBeQ9lgFLyweb9N+addhZ2+scv/N/Snwvz9OmcWOLP8osCHKgwqzAM8B3IesEHOtuSBCGWFJF3GbVYiIMNwoWbWFUD48Gglm7BXfp9829/6t//KLG7P+xFH2xsw2lOvbHBQdqD/8zjEPiESfowAexDcewFgfTEh2AOAHr8fOz5xk/JkEWvoj8S4+EABQTXkC7oHhbJLw/9ji75Ds8sXPfoXNfMaP64ritIq+zwecVKOSsKn+U/2iCq222y2ySSAUZTdVQU4S06z8nTbsvacnFf/8zjEGBoJnvZey9I6BCCWRGQggxD8RkpbzTV8hzmEpWdeeVS7m29ulFIs+EPnUy/89+bb5TXbojcLIcRJHHYoRJQyJ1fz8Xp7bTCzVKWmcSmT91EmQ5z////1EA/VAgLAeBcQnlFtPt1guon/8zjEDhe5isouC8wY671jm8bUY/i/hpvIEydXXzpOPyvetEL+2ll3uxmYrP8z/MUU0OFvugk5GG7vg2u/89rSe6KGB1YZnFq2xWvTAgXSfWsRr//qrIxXVGBQSEAk/aaqKcY2KICcFGpBCTj/8zjEDheRmt2Ok8Y2xp8rgaJYcIgNQXhbleDvQl1EmEg1eMbuK5FKkIJp+S2rf/ZjyMjYEgaU1OZTPyv2lZahh64yKJG7y7zRMGSw4XUfYkkWcEf//xFiEJBQlJpqqSIAjjIEeHH9VOXnTeb/8zjEDhTBptZeeMToWOFyYEYon1Hj5mUDa3Kpypv7pMVvLqvqFI42nM5Dd+ys1WY1rOxSP/5tH4YUsC3wMsRHV3IFwljyVThKHUM///+dcJgawABcerJyCtiYITNIpXtRCygQ8aCHhNBTz0f/8zjEGhSxMs22eYRa+bN012NkqrdHYKV2c0pWdxTr1avcsxscNB48wa6ho0Y8DBcG9uVOIsFZmkrSiee0t3f//QPAwfhyRKVlv+klu9GIM5RrwjN8Vz6BYTv7PcnF2s36qAyo64O3RNS5rsb/8zjEJhTx/upeOkYa/5f97rkxqGYoGhcOw5kueXTpOLp3bkOeXnTZjYECLuP77qEvT+haVTfkWTC2rldtoKmQ6iICAuDZAqbXkyShpEUHtVPQt2ZWMTnHOpkRZvQBbiFRml/y8W4grvRGU7r/8zjEMRT6wqB2SEUMWvCMrvLOBGzy/b0upznVqnrbum2vNvzVr273Qqj1C1/ddy0tN5Wqo9ad/AwNBjAmE7WXJWc2lNGwQCMKeSYdQETgH3ntvyd93eINJ+ynm531/buZDTcTpxPETohcT/v/8zjEPBTxgrp+OYwAMv2o1E8mcXR1rJgyuHVI89xZzfupBp5JUBdqhKeB0bxWdxJZhuHwckOIz6BqPvYy5QRE2UzZJbOeylax7duxGJrUzNGbY4aqRqqzNfzY1XzomKrOIuYLPErRhbtU3Qv/8zjERxTxlpEWMYZYWdPWcDAZ7Qmo9/q0rTQOoAFYlAsuiTBEKtRUmQkrpLkzVaQkLmFy4pMxSalKMv/QoCq5FyiWjIBAR65/DZmZqGY1Y6vrqTM1yM4GOVARENQ6oeMEQ8NFXVB2wsb9WHX/8zjEUhRxqmw2SAcgjyPoJIj8vaLrRZrTZNZnJiFgBg0dKktLNAqAEoRmulXiJLxSrlxz9ersWVgZoONMFQmdWGmCIRDvKnWSSILHi2dALhKMPN/QprZbstZ/6PrVbAxghIIAgjHkC4qAyRj/8zjEXxQQ/jAAwkZwMigowRiAsLBdY4JCVBkApWgkLB5507JGSod2VsfCSAmNAOVSF+oWZpi1SjK73MalrUiqUxz26HJsqY8tVjEUhZeICngBokBldYLEmHgM0qRwRdC0l1TaGJUFwOoTrLT/8zjEbRLwMiQAelIAVjVOmqyqKSOtJBohnSxvLjrCsk1yCKfiIzcxcwlkNIlGodWKQy1BVgjAqqUUAS0MVBmOuScnWHAosss05mKaqClqNtF2NsilJrtelSAIXGz6W5uXYS/7kVRJknnTkO//8zjEgBLYXiACwkYIMzMkPk7yTL1WtnrpmkpFqQlCR/P6RmCxwT3wyx998KTfRghC0EfBPPCw31NVAZWZkL6ZgGYTJCsyK5++fPnJqW1VVQwpE3Gsbu2bRqy9WND8qpf/tw1i/+xkvrDKOfP/8zjEkxgaXhgKekYxX+sf2GpLPb6rMZHkfV+AR2mFE9dllNiTNsb52Mv6O9sUcFcbc4KJFTX5BSpAIsBg3KYJiJYQoollJX/spJNjKS9FMVJJpn//JiqKc1v0UpJtETd/5SkksppL//0U0pr/8zjEkRdKKhxUe8YJ7//uU1ibv5jjKaVd//jMdcq7/yv8pLyYFNKSTEFNTEFNRTMuMTAwqqqqqqqqqqqqqqqqqqqqqqqqqqqqqqqqqqqqqqqqqqqqqqqqqqqqqqqqqqqqqqqqqqqqqqqqqqr/8zjEkhOABdDEEEYBqqqqqqqqqqqqqqqqqqqqqqqqqqqqqqqqqqqqqqqqTEFNRTMuMTAwqqqqqqqqqqqqqqqqqqqqqqqqqqqqqqqqqqqqqqqqqqqqqqqqqqqqqqqqqqqqqqqqqqqqqqqqqqr/8zjEoAAAA0gAAAAAqqqqqqqqqqqqqqqqqqqqqqqqqqqqqqqqqqqqqqqqTEFNRTMuMTAwqqqqqqqqqqqqqqqqqqqqqqqqqqqqqqqqqqqqqqqqqqqqqqqqqqqqqqqqqqqqqqqqqqqqqqqqqqr/8zjEoAAAA0gAAAAAqqqqqqqqqqqqqqqqqqqqqqqqqqqqqqqqqqqqqqqqTEFNRTMuMTAwqqqqqqqqqqqqqqqqqqqqqqqqqqqqqqqqqqqqqqqqqqqqqqqqqqqqqqqqqqqqqqqqqqqqqqqqqqr/8zjEoAAAA0gAAAAAqqqqqqqqqqqqqqqqqqqqqqqqqqqqqqqqqqqqqqqqTEFNRTMuMTAwqqqqqqqqqqqqqqqqqqqqqqqqqqqqqqqqqqqqqqqqqqqqqqqqqqqqqqqqqqqqqqqqqqqqqqqqqqr/8zjEoAAAA0gAAAAAqqqqqqqqqqqqqqqqqqqqqqqqqqqqqqqqqqqqqqqqTEFNRTMuMTAwqqqqqqqqqqqqqqqqqqqqqqqqqqqqqqqqqqqqqqqqqqqqqqqqqqqqqqqqqqqqqqqqqqqqqqqqqqr/8zjEoAAAA0gAAAAAqqqqqqqqqqqqqqqqqqqqqqqqqqqqqqqqqqqqqqqqTEFNRTMuMTAwqqqqqqqqqqqqqqqqqqqqqqqqqqqqqqqqqqqqqqqqqqqqqqqqqqqqqqqqqqqqqqqqqqqqqqqqqqr/8zjEoAAAA0gAAAAAqqqqqqqqqqqqqqqqqqqqqqqqqqqqqqqqqqqqqqqqTEFNRTMuMTAwqqqqqqqqqqqqqqqqqqqqqqqqqqqqqqqqqqqqqqqqqqqqqqqqqqqqqqqqqqqqqqqqqqqqqqqqqqr/8zjEoAAAA0gAAAAAqqqqqqqqqqqqqqqqqqqqqqqqqqqqqqqqqqqqqqqqTEFNRTMuMTAwqqqqqqqqqqqqqqqqqqqqqqqqqqqqqqqqqqqqqqqqqqqqqqqqqqqqqqqqqqqqqqqqqqqqqqqqqqr/8zjEoAAAA0gAAAAAqqqqqqqqqqqqqqqqqqqqqqqqqqqqqqqqqqqqqqqqTEFNRTMuMTAwqqqqqqqqqqqqqqqqqqqqqqqqqqqqqqqqqqqqqqqqqqqqqqqqqqqqqqqqqqqqqqqqqqqqqqqqqqr/8zjEoAAAA0gAAAAAqqqqqqqqqqqqqqqqqqqqqqqqqqqqqqqqqqqqqqqqTEFNRTMuMTAwqqqqqqqqqqqqqqqqqqqqqqqqqqqqqqqqqqqqqqqqqqqqqqqqqqqqqqqqqqqqqqqqqqqqqqqqqqr/8zjEoAAAA0gAAAAAqqqqqqqqqqqqqqqqqqqqqqqqqqqqqqqqqqqqqqqqTEFNRTMuMTAwqqqqqqqqqqqqqqqqqqqqqqqqqqqqqqqqqqqqqqqqqqqqqqqqqqqqqqqqqqqqqqqqqqqqqqqqqqr/8zjEoAAAA0gAAAAAqqqqqqqqqqqqqqqqqqqqqqqqqqqqqqqqqqqqqqqqTEFNRTMuMTAwqqqqqqqqqqqqqqqqqqqqqqqqqqqqqqqqqqqqqqqqqqqqqqqqqqqqqqqqqqqqqqqqqqqqqqqqqqr/8zjEoAAAA0gAAAAAqqqqqqqqqqqqqqqqqqqqqqqqqqqqqqqqqqqqqqqqTEFNRTMuMTAwqqqqqqqqqqqqqqqqqqqqqqqqqqqqqqqqqqqqqqqqqqqqqqqqqqqqqqqqqqqqqqqqqqqqqqqqqqr/8zjEoAAAA0gAAAAAqqqqqqqqqqqqqqqqqqqqqqqqqqqqqqqqqqqqqqqqTEFNRTMuMTAwqqqqqqqqqqqqqqqqqqqqqqqqqqqqqqqqqqqqqqqqqqqqqqqqqqqqqqqqqqqqqqqqqqqqqqqqqqr/8zjEoAAAA0gAAAAAqqqqqqqqqqqqqqqqqqqqqqqqqqqqqqqqqqqqqqqqTEFNRTMuMTAwqqqqqqqqqqqqqqqqqqqqqqqqqqqqqqqqqqqqqqqqqqqqqqqqqqqqqqqqqqqqqqqqqqqqqqqqqqr/8zjEoAAAA0gAAAAAqqqqqqqqqqqqqqqqqqqqqqqqqqqqqqqqqqqqqqqqTEFNRTMuMTAwqqqqqqqqqqqqqqqqqqqqqqqqqqqqqqqqqqqqqqqqqqqqqqqqqqqqqqqqqqqqqqqqqqqqqqqqqqr/8zjEoAAAA0gAAAAAqqqqqqqqqqqqqqqqqqqqqqqqqqqqqqqqqqqqqqqqACif0W4HcFAYCPleQRGN51tqHvgBjhbY5M4AYesyCiCgcLKIQ4Q6ekIwmuyawRByekE4iHT8IFEFA6ZRDLQe7ML/8zjEoAAAA0gAAAAABZPTyZRCT7ZCohydEEHISTWYQcnpNNiCB5OiGmIOnZiDmIWT0xA8mWT0wg5NZhOgRQOmYQwEQPT8IOn3TZDCe5d0Qw9NoTKIGhZSBiIAkmTYggDjz70xAsmyAipBFND/8zjEoAAAA0gAAAAAwnDljUC/zY6zOXwbDBDPAdLBk+TpG2R6MSo1NfERnoH2umrC1rhaCpYMPBtpSgm9lpcw9dIKKoxF5y00jzUjL6R6kDKPKpSJBLUTZNQWs81yRdVprlFaOh0ag5HpIkL/8zjE/ycTPe2UY8wJUtPDFESZJ0yNHXhKDcorLSlFNns1pP6/iFeJSZUpr9GcSdUlGk0WBKhyIVcFH6rrmmHhigMvAJxymUHomR1IwnBjK5kRyKIiQckE4BI0QJrgSRJjZdtBEQgMaNKLPKT/8zjEwSSjPgAKwkx4Y+trwyJSGFE2KjepG6ww1cJvdwR5F1DCbL6IF3C0yai9xti5SV4uOvFo3+ROguaYCs6PF2gmMPOIFm3WuR1BfzDI60A92jU1mmRAOmd7LNhO1PKGxrImVGkPFRrpKTL/8zjEjSL7MgAAy8wNMJsQgf5+DcMhRrYk5xj0KEI+SoGIFrDLELSRCHFRwkMgx3+FY8eMcaBE1q+P8axXNnlL7pWr+RkziApGETA9SXohSkvhGDJMT25IifgODYsAmWhESq2HXGKTPz9P6b7/8zjEYCLariACewWLd8XzR+b5sEQkKAg1nW+ejK6FV2pdSMdUKr5PX1bUIPNi83O59BEUfgaSO2rRfyyISAKzWerxCEguUEgDfOptThoKTGav3y+dclYzy8kT/7/+UbfmlfowsWVlg8m7ZmT/8zjEMyDqimQAexE0AoE8E4QFjJATCRWFmyxZS6wqAQHZQBQBhLbRmDrB4nXkuPc08p30YWXpnMLObX5KYsMKgBxi25kV1C3/T/6RvZCi9wH4wzhKLPDEEP//PqAd942vmPJzSBpt2fxQBFP/8zjEDhbKcpwAwhS9ZfPOQl41Fncqm7JYyrNjmPeE7/7vuL4jmeOlgUMEcH7BQaDc4H7gwgTopZ1WOLg0gYAWKP0JDmu29FPPu36TyRFIyd2P0b///23UuasqkrLkdmqAWDcZfQKDzdeQ+mX/8zjEERepXtpW0YTy6i1hdgQCyYk4NN7wmAIIQUEOu5BjXJBnHoNgdWrdugEnAwQaLY0mmVh5NPWjwtxAFEezwghf933P2Ix5AQBQr///////l/LCc0Lg+ICdKWkNEf9XT0oBH4s8joUiiO7/8zjEERjJ8sTswhi0/qZhlnMDywdBYFhmzjfmhVk+aPv2lPVqhGIDu7XRj6BMn4lUvLKc1Dr+5ar9nkx2kMKGMF8vvW7Ztu52T35P7l/r0cTETlujgDCrbndf///+hKpuUV2O+H//bK9lQ7z/8zjEDBhZXsEmy9KULj0h4qF3MvDH0GEHk8iEkaMXWa5LrP/jQtr7fs2ljZ662zIzP9NM77QgY9nFwoLO/gjdc9tSv7KpfGabYkzmxrG2PNAoosDM6T2elzKP/6vpmTimxLUEZtxzQkH7aK//8zjECRPo8tWuBhYaZaxxlQjkX4pf+qIgo0TvcY8zfn/yQBz4HoN2VCpSSizjVJlcpmp9nqlq9h1yE4ssFj7hKxzDNU5GnFBtNpYeQ/////0j12oAQAhvxANBwPh3xGpnSMQQgC9dREBxi5j/8zjEGBSxWsr2isTQOVVpimd9xSCEPNfJWvXqm5395gv+aCOQ87CFLwfoSZYIQcZqFKJmwTdLjBQ6JZoFctnWIDXo////+JYcWpoAEwIOxfCBgqicUZkPAXIK02RTJsSwQkKApQjSbFyPpuL/8zjEJBTxqs22io0Wi60UbKfqmeSFWZUNAWL+PtMifoVZsgXSj/NbWb54w+7Th9GhChFiKsm2d/////gS/+1GyjkmnxW2XsO0BY61aSxLFhWun8cHwMoc/VZyaziYmQNHkRs+8i1Ek0wxSBT/8zjELxTxmqwAwkawkn0v1X+BgJ1ARMeeOaR2I0REhdLJRmCpFxYqfew/f//////4joYByqEP7hKwuVWGxHkJguqitJAQLsURmpJxwz/b+8/yh1e4fLnf3TkUiMqVoaiTJ67//Y6KmxJFYrz/8zjEOhR5yrzuwwR2+vR/dWNHQKhksOES3C34Ptny+Tr///8hICH54CpaH0fohkETbT6YU8YEgBg6zEihlMeOmWVhgbQKes5L9V77gq6mpdMGJaBGs1qS3ZraKVVyy7kvY1fQ5SysrK2jqbf/8zjERxSpwqQSyYUEDP0mZayTxAONO3dSAr8EJB/7JQrN5slKt6PxFBOHFnYKMBgdJ87bGcccG6Wu5xiXd330CCCgSqTCeSgKmpcVel6KvdmJlK+6GbDH//rsu7EVRggnT////23Ch3/zFUD/8zjEUxRZvrRWwMUShK5WlAMM6KaT+GXEqAdKMEzJ4FWW2ildP7sv8xNKYiJxkYO4ueyCGoTBnwh8hKi3ufQbTryZE7/vzlQgAkgd5q7fp////////////2bqgd0qA6WkgWjHFGr46V82apX/8zjEYBRbPsmei8Sqh4VmkW2Qkr4QE2YVPflnSkNGlSUFwSFSw4CYrIwTfBbP02//v+3ShJ1IIIIIX+lmaxqZwjCwOy1Ns6WQp///////o8tRwALe2y8ADIkgmG0sA1RUL5NnxSBmm70yliz/8zjEbRS5RrxeDhIQm1d4/t9/4tZVQUkS5+rnNYAth0GceB/s4/4HLbCXSqYbMx+xBEFB0qDRVyM6iJXFoldkuVg0PNtIknsVQJBjMYrIVSgdLgUAOTDwqimojQPRwoUGQmRbcPGQMOEALAL/8zjEeRVRCtWfTHgChwkhedkA0CufIYbHyOPG5dKKikmtFR1I0HYOJ0xjgnNkES6ISkXcvGZ0PsOIol1FR9nU6iTLRPj2TjVtq2RfjvKBECqUhcAkiWv//HGOYJwNy4aIULL//b/WX7Jmxob/8zjEgiOSYnAXm5gA9/935OFjm+w//q/6FaaZIIJKqAFDWYQ4G0DIBkpmKCmqDtBD2aMRl0xVg6OZEej+mEaaruOREXS5+UU7Eu22HExl1DzKoFHHlbJ5/K+xEklVaEC3l8PxCy4QE82qzWn/8zjEUicyJqBVmXgASl3WorlAWUKLwOhgG+XWFiyehxqwmSGqIF3hMCflhTDjBtEc4jdFiPKYxvMbeHkjretYjRHkKWfd/rUtoFcTkRccUcS4xzh442mpiuoalo/dVWweFKrYhGgbGqEq1QP/8zjEFBlByrjv2DACpdE07+/aWBnuzbbS3mA+fzK5hFv0exi5Yy/3/fK08HG2Dha/y822f+nfYqCYCLLTKrfTvuM2f9n8evraozigxYqKGYR3agdu/+jttRW2VbGLQJv4bmA/c0QCgb9hYsr/8zjEDhgyQr2OwsbW7d0GGVqpE30Mp/Cut7nALlta5d5Bnd5n6hrWw96k8V8N96FyS0r6d8xmR8X4DHVwx01+/au9L6Xz0ClzyMBJ2u9WIZe37TQVf/+KQCLouEMVcBmAX/iZcwH7lCtzyd3/8zjEDBap6r2WwcTyiop72QF8YE6omjDZ2/DFseurn+odPqNlid6DzY82P8/R8QuaIocTwmLULtVqBroBNUiyjNv3/f9SYXpWKcm++fuF//yD2qEwAKvK1Uh8itDE7G10/AriCRs+t8oY9F3/8zjEEBShRtG2eYaOHnHV5IQneSX+DJ3pwogiC1Cq6Tn0/ZOfJCsCmx5Ccv/80iXGSGGNsss2KWQi40eSFz/p1ipmKzm1bEuS982j0Gmhai5GBtAA/uTEXt456ikE0iEhFdMZ1Ta2LchBuSH/8zjEHBTp9rR2eNCxk+nam3eFeNLt9+cULDyTJpFPtB3PcRvDEkycWHgNCRto1VtVPd/zPzzcUS+Y8AKCCLicUMSR+V2gdy298/8POFqTnlQsQTtEBFFixrB9ZxlmytCPCjHkhFP26ZbHryD/8zjEJxSx7s22MMS+qhVhsFUEzOrxWoUpHVSNT//6siHKUrMKIDYeZ+v/5RSOQKhKTEsTQXIDjDWNSR8obaOxesQNJizR7nI7bYZK3KgKOwHAZ9f5t68U6z4wJmIEgjo39G0fY/ff71chGiD/8zjEMxODJsEWMEq/yE/////+hHVyOrHfdnOU+z9XoyMIDQIHA+2RAAEW22YAG2EASFmlyoBsDhutK5+dbcIlzRDJPKJ5b/N/uWYcy6lPy/zhFf3Yq1efxzv/PuWTJbsIqVT5qZ0xRwFgfNr/8zjERBQR5speAwYQv//qk2+7UyLBJUTl1agVYqZj1JMfj1MYBOrGwDEJgoVJ1RtnPCRsSJhlYW9VMsH4ROlg7ptFOlLkV9M+06WcdxdA3A4DR5p3Fq1gMgoChptMtXEQdDgsz//+X/prHg//8zjEUhUpIt5+S8ZskXCykDl2tbcmmE0NQMntMTF7DoyekM9UMGajKJjalFARM9fVfVdtj9SDH/pG/JBWbHGP6zH/qv6qVAQWCjywNKHwVqeeiIkIhL/+1LSP9XLB3lmCI1UABxbDdSba4fr/8zjEXBSZit2+CwYOlAzAeFd9EJ7s+TNFJ9W5qeq2e6p53WrTZUN/XqhqbFshn8zeYwMBMpW/+gEK/2UqCtQF2GmFgaYDQhOtZVlw98AMSfwu37rDESuxeVWQWDUbDa7HabHZWt2SSMeRuCv/8zjEaBVhrppfWBAAlifPZywRDlM/eE8ZBnLE66IomCbfhc29IS2Rg2jrK/EyrHJPqMjDf/zzHTiciqT5JkijN/1k5mWlyYhIGdvz82KhX2dZAVIWCqKCIyuwyxD792/Osy9n8hFKXRmzK2H/8zjEcSY7As5fj0gAqOz1nzq//X+zrIX9///VAQsLkKosaRXIVCEsg+f0hGNOngo7/S3/Kvy/Wh0K4MbPaAhZbrRp2lblnlE6LL44p0vTP2yHhO9hYPBfK9j0AQauJA4EERh2nSonKkpU1Oz/8zjENxex9sAB2FgBWcmvj+frj+f7VfM9nJhVYdxYbmsWbSfmkoNGxLXNP9JQivtqVHRddooYFlvVSwSe2rgTIEVvOa7guKR8KbrhJNmTsliUSTXXw7EwjFsnjuVE4k5SHRBLOzmfz2cKJ9T/8zjENxojEt42ewRfpJEMb0P5jchnazm0KGAg28yWe2qIKMqQxpblbppq/ylL1b/50VXT///VzZZgT+iymlpgB3Gk5aJnEgIAasYCAUi0+28ldZXrz1c0cvF9tQ1dFVWybye3XSzqty96Q0L/8zjELRtrAtD+YMVXxLiRIdPUCT8dfXZsvsPuYUpkfDDYCysexM3K3fYMZHNDqAQcnLZvh2o5bs56odP8tisn//zMtzGVEFRXAt3e2DUAr2SoGECW6dj8OMJfcPiicnxKVuCeWSGSVhGRKRL/8zjEHhaYqrhWKxAejt0CqCrKoblje3EzgQOLDRUNKUKuVZNlZIiJhb1B3aHZV6yQ5DywVDqOWRMoCY/ZaXIzkAAA5VKyoarx6ngHlzkeA7kiiAVY1FmXMd5jtZrOC91nSa8hCZevvWoVPyv/8zjEIhOiusj+MMUuZL33sz7z4C90aZEv/6XUjB9zNdme7s79elXYj1f+/0T+j/pOKaeV1iyCzPlqRWQJuF/hyoiEgoWDNIgSpddvXDkStNwGxWGLmE2JHM0YJD9l2UOLq7XOro707yIyciX/8zjEMhQqmrWcSYRbE/+aikEMBuySOipZKdWNKYSZP////5yuAgQ4MFNflQqwKPATxZMVpytieqzjv022oam6i1h/aMVcbMTx+pCUeCQVV7I6FlXGx1MwsQRWij0aIjors8W28stfZdv/9zD/8zjEQBTKppw+YYVEcBCI79F0oq31an/////+5FGkdSoVZ723YD0iDTVsQ+KrhlWFqppIlbQN2xLT7CRN/IipYhACOGm79xxwoCjgmvyszL/+Tni0h5zpfX5jOIqUshyt+JB8MdylLp//////8zjESxRipo1eSMtI/vmUVERWioiVEOWk4zGkpj+VCHLteOp6hUJFH4tLoSY4mchIQ0AGjGRJktjeujqlLjZFCHJdABoArJC2SszOY+aaCqA0nU9YoafyPY21Z1XUVEzz1f//6A1VfXiwuGj/8zjEWBSI6kgAek0gOAGAYhIkRiRaNJEcBlaRmnZKXn0XjkRUpPlhpEqAzI6kp3OUmpnLfVq+9Xru+jr7CCVDKtX1N1OWOjDxNDHGqdL1cwWYCxSTUlcxs0lrk5InnaWrVaJGQVY8knnckir/8zjEZA94rjwMSYxMWda54sKpXOsMVXsF8YhD0MF9ifFF/f0m12Sx/RTIJ3vqGVz0nxGwYFrEiV6DC0TcrZlkudGmL78JSFme7D6ZAvHjp0kPd1uUrXxx/0V027/yolenucHVLpj3NRY4rQn/8zjEhRGQqigMekYw/CRQgVqWqtNeHw2Vof+Vh9ZSWOTWKupGhQ+uURpHAVkfvn23V/5A2tBYveL9POnvvLl389Yq7o57Cy9rdsS12Uo9bkYb34fD/fBy/L2FEDBhyaX7JrNPXMq/drm70m7/8zjEnQ8oWiQSewwAjdXt2jcXkTfvo7+VnNLoa/CrXTfxcGG6u7fOgtfO6NKMiv9n4qEFvLje7uLpu63v+dUt9ev50UiVbdyvzXtmdo2a6o8Bpk2Ta2HY2wOZyPTG4N4d9M7aB/f6u5A7lfT/8zjEvxOhKhAqGEdFq/pmVE9bXDwGFH2jLLASGTM1HxpQ7BtHzqYVpI1XbJM5g/lfWmUkOwJzg6I7wRQ6uaE5ogJKL0VzfCE5oVEO8RRcCMhOcGd68EV2Qk3NEBnBZJXYJuTmhV0SJRcRXdz/8zjEzxJQBeigEMYB0J3BJiK7Jh8EjLQGXaIzgAichPnAB8M0bTIYBOLCFx8AvJhWEZ0JOrAbamFGpMarVjVYzsakxqTEzVYzgLqTGqxo1WNVJSY1JjVqsaqgYmNSZqtWNVJjY1JjUmWNVjP/8zjE5BLwBeQAAMYBhUqJKSKFSQ0UKGgssaLCxRIkrBUmSKiho0UNmgwouSVKibJFCppwoUNmlnpMQU1FMy4xMDCqqqqqqqqqqqqqqqqqqqqqqqqqqqqqqqqqqqqqqqqqqqqqqqqqqqqqqqr/8zjE9xjZ8egAEEYBqqqqqqqqqqqqqqqqqqqqqqqqqqqqqqqqqqqqqqqqTEFNRTMuMTAwqqqqqqqqqqqqqqqqqqqqqqqqqqqqqqqqqqqqqqqqqqqqqqqqqqqqqqqqqqqqqqqqqqqqqqqqqqr/8zjE8hfhsdQAGMaVqqqqqqqqqqqqqqqqqqqqqqqqqqqqqqqqqqqqqqqqTEFNRTMuMTAwqqqqqqqqqqqqqqqqqqqqqqqqqqqqqqqqqqqqqqqqqqqqqqqqqqqqqqqqqqqqqqqqqqqqqqqqqqr/8zjEoAAAA0gAAAAAqqqqqqqqqqqqqqqqqqqqqqqqqqqqqqqqqqqqqqqqTEFNRTMuMTAwqqqqqqqqqqqqqqqqqqqqqqqqqqqqqqqqqqqqqqqqqqqqqqqqqqqqqqqqqqqqqqqqqqqqqqqqqqr/8zjEoAAAA0gAAAAAqqqqqqqqqqqqqqqqqqqqqqqqqqqqqqqqqqqqqqqqTEFNRTMuMTAwqqqqqqqqqqqqqqqqqqqqqqqqqqqqqqqqqqqqqqqqqqqqqqqqqqqqqqqqqqqqqqqqqqqqqqqqqqr/8zjEoAAAA0gAAAAAqqqqqqqqqqqqqqqqqqqqqqqqqqqqqqqqqqqqqqqqTEFNRTMuMTAwqqqqqqqqqqqqqqqqqqqqqqqqqqqqqqqqqqqqqqqqqqqqqqqqqqqqqqqqqqqqqqqqqqqqqqqqqqr/8zjEoAAAA0gAAAAAqqqqqqqqqqqqqqqqqqqqqqqqqqqqqqqqqqqqqqqqTEFNRTMuMTAwqqqqqqqqqqqqqqqqqqqqqqqqqqqqqqqqqqqqqqqqqqqqqqqqqqqqqqqqqqqqqqqqqqqqqqqqqqr/8zjEoAAAA0gAAAAAqqqqqqqqqqqqqqqqqqqqqqqqqqqqqqqqqqqqqqqqTEFNRTMuMTAwqqqqqqqqqqqqqqqqqqqqqqqqqqqqqqqqqqqqqqqqqqqqqqqqqqqqqqqqqqqqqqqqqqqqqqqqqqr/8zjEoAAAA0gAAAAAqqqqqqqqqqqqqqqqqqqqqqqqqqqqqqqqqqqqqqqqTEFNRTMuMTAwqqqqqqqqqqqqqqqqqqqqqqqqqqqqqqqqqqqqqqqqqqqqqqqqqqqqqqqqqqqqqqqqqqqqqqqqqqr/8zjEoAAAA0gAAAAAqqqqqqqqqqqqqqqqqqqqqqqqqqqqqqqqqqqqqqqqTEFNRTMuMTAwqqqqqqqqqqqqqqqqqqqqqqqqqqqqqqqqqqqqqqqqqqqqqqqqqqqqqqqqqqqqqqqqqqqqqqqqqqr/8zjEoAAAA0gAAAAAqqqqqqqqqqqqqqqqqqqqqqqqqqqqqqqqqqqqqqqqTEFNRTMuMTAwqqqqqqqqqqqqqqqqqqqqqqqqqqqqqqqqqqqqqqqqqqqqqqqqqqqqqqqqqqqqqqqqqqqqqqqqqqr/8zjEoAAAA0gAAAAAqqqqqqqqqqqqqqqqqqqqqqqqqqqqqqqqqqqqqqqqTEFNRTMuMTAwqqqqqqqqqqqqqqqqqqqqqqqqqqqqqqqqqqqqqqqqqqqqqqqqqqqqqqqqqqqqqqqqqqqqqqqqqqr/8zjEoAAAA0gAAAAAqqqqqqqqqqqqqqqqqqqqqqqqqqqqqqqqqqqqqqqqTEFNRTMuMTAwqqqqqqqqqqqqqqqqqqqqqqqqqqqqqqqqqqqqqqqqqqqqqqqqqqqqqqqqqqqqqqqqqqqqqqqqqqr/8zjEoAAAA0gAAAAAqqqqqqqqqqqqqqqqqqqqqqqqqqqqqqqqqqqqqqqqTEFNRTMuMTAwqqqqqqqqqqqqqqqqqqqqqqqqqqqqqqqqqqqqqqqqqqqqqqqqqqqqqqqqqqqqqqqqqqqqqqqqqqr/8zjEoAAAA0gAAAAAqqqqqqqqqqqqqqqqqqqqqqqqqqqqqqqqqqqqqqqqTEFNRTMuMTAwqqqqqqqqqqqqqqqqqqqqqqqqqqqqqqqqqqqqqqqqqqqqqqqqqqqqqqqqqqqqqqqqqqqqqqqqqqr/8zjEoAAAA0gAAAAAqqqqqqqqqqqqqqqqqqqqqqqqqqqqqqqqqqqqqqqqTEFNRTMuMTAwqqqqqqqqqqqqqqqqqqqqqqqqqqqqqqqqqqqqqqqqqqqqqqqqqqqqqqqqqqqqqqqqqqqqqqqqqqr/8zjEoAAAA0gAAAAAqqqqqqqqqqqqqqqqqqqqqqqqqqqqqqqqqqqqqqqqTEFNRTMuMTAwqqqqqqqqqqqqqqqqqqqqqqqqqqqqqqqqqqqqqqqqqqqqqqqqqqqqqqqqqqqqqqqqqqqqqqqqqqr/8zjEoAAAA0gAAAAAqqqqqqqqqqqqqqqqqqqqqqqqqqqqqqqqqqqqqqqqTEFNRTMuMTAwqqqqqqqqqqqqqqqqqqqqqqqqqqqqqqqqqqqqqqqqqqqqqqqqqqqqqqqqqqqqqqqqqqqqqqqqqqr/8zjEoAAAA0gAAAAAqqqqqqqqqqqqqqqqqqqqqqqqqqqqqqqqqqqqqqqqTEFNRTMuMTAwqqqqqqqqqqqqqqqqqqqqqqqqqqqqqqqqqqqqqqqqqqqqqqqqqqqqqqqqqqqqqqqqqqqqqqqqqqr/8zjEoAAAA0gAAAAAqqqqqqqqqqqqqqqqqqqqqqqqqqqqqqqqqqqqqqqq/AvgJ4Q0T78sbQK6X79XxznR/5dmFjAh/z4MPLmDf/IMtMxxo4r/+KcUpyDhllH//4iDRccLh+JlZyiiRn//4uf/8zjEoAAAA0gAAAAAqHZ5IvZYfCUY5J6DV////PQPx6HwYH4ww9Q9YPRBPEE4YKjjf////0MGChkVaJh4OcUHlFmjJwmIFhd7GC3/gP/lKtWhwKtMBUTnxftiDtSl+bcMWpFGpqve7Vp6fuP/8zjEoAAAA0gBQAAAT0u7MKID7XNKa3jS17cmrty5I7tGO4pLoyhChSPL7amjB8oZHU1wYVmosTwuET27drKY1CG7SgWtZ5B4hBKSmhTfOq7rEZd4g/8gY23zNuum+azTbUUa8olXpr0eUr7/8zjE/yDTJgQBj0AAlNI5JGy0Ios+6S1IvJUbCqw4AUMWGMue2XPvA8sl8OxeG/s2L9ek3Xzt832/6MOIdyqWzrU/YxujBzyW5D3pzFx4KCD3z+9YxjCGU31mvMUGeIJVdruX2X1DnpbDadP/8zjE2iIbMgQL2DABfPJxZ+ZlnU3NRRPF4oggrmXOPrH0UpHPu5j+p+IEDKwgp3SdFzGOjF+Nd7ZDXRzGorUgWFJOqcbmxIwyAjR0G36VixDYAaCo777qU5m85kxO5E00wNVAFGB8nm9Nwwv/8zjEsCG7Pgw1WDAAkmKAEIPs6a3Faj0F9y8OD+hnDQYwXoj8MhhboFEfy0X3YzcrgJSHPE5hcoBpAWLizP+iXyLl4nC4aIMADEN+BwQcYZkZQQlC4MWb/+o0HYboMmn4s4TaDcIYuGCHuEH/8zjEiCajzkwBnJgAEBO7v/////+9rdZj//////5xOvsYwSYNobAspBfTCDRJTpxTPj1euCSkgsFARtbAQLet+oEduNS2X4QHlKfeKRNwNQ49PTLJmSr8/FldKiIX9acS3ibkLc5hNBDFjBf/8zjETCZiGpgB2ngAc0zzeK9eUDIx0kOQ4KotXnWZbmYZczrHrJokB+GGONyfn46J4cFlK0ognDAhEjaPtLlvZkISJxJ4uDeq4hzt0TL1qcPv7iHHdf///+J6O90AAHHHojEkb0hCgJvqzcf/8zjEERTo6uB+Al4MUR814JLRDhqi5uarW1Sly+RZ4bxsQxGRVMyrgsCobEJFjamRJHShTQyrC02oFFur1bBY2YBLav970o//prf///9UvRCiRp2pIP/SUtorqXxaCrjeJPf3opTxj/6snjj/8zjEHBPiYuYueEdW6TY0iUC5x8WP5dsmMsKti+2QoRrIRfD////NqW1r+l0fhCv//+zXBYw6PPOZ//3ZGEzo5UARAzMBG4SLgMlsGvntyuzKnxCHpd1qb2lJjKVv3hn1uLbOK49H9aGnelf/8zjEKxtR8roeLgY8OWf4GMKO3GZRbwUSpRdhnAbjyA1KnAwrVPb//2uC/LVzMmPr/tz+q4Ud6DQXsCIfULCc+wmZbP//gpAx8weQIMQj1XFHiQpdm3bh/718lfdNa3XlMYbGAUoDA662Ewf/8zjEHBsLQupewYTakrf+SL9sAAsQO3sQIPP/KwmhXzH1Fm320s0RDFoNEfYQbO7ZW7e/0VJEnBjhdlRlNLSn/61ZCnZFvmEgKONRcFq5Af////or9UVkXBMFMIIq5iAeWpOXDO8o51NbTeL/8zjEDhR4puGeC8Qavj1HK9gpASQcqli3pEjuDFCYS7Gl/DPeeA7CRNwFAIUPBFQ8TTyzANHfWASK3JeFXHvSybFTqBXf/dK/62VEvGHodCWAAhK3aS6ge0cBknc0lZFE0iEslmkUY6goFqT/8zjEGxSwqtG+MgTG1bG/MBB0GSzyoKhMFXHgZGnUkpVUQrRLFQkOPHg1ewko9oBpTyoaPEhAFQVljpXPRY9PU/oy3lkLATaNqkWdPS8tqzBqgTnS2s+ycwFAZRJXQzFYlFpTDtSGnCACg0v/8zjEJxRxglwNWFAAKFyBVHDloccdb////m//rzn+cPnxKRj3iUFXQVOyTRSJSwVDVYdiI96gVQAggGAgYFAaHQ6BAAqhDAYWF7IAfiBffA3Eg3fA6YUCT3vuOAQuUic/vcR+HyBjAAUQ6D//8zjENCJDJpW/kpAAN1Nw6YQkFsEAQ2MNs/v+DZwLPj8TRDCQBsv/2Z28W4VuIVFnDyMqPRBB6//93u93IaPYxhESMGOHSMYM0SpDCHf////lMmCgTZMHRc5XKjlwrIk+VNOzUhpnNupGk03/8zjEChH4vrwB2GAA/aWWyVS+TVZhbRQZ7byZZpDGsLsPq6VOzJb5wEg5ROF8lD4scgeo0Mgg6j/+KyInB4Fyg+vJiBkBlDiDjygAUBoQJRjfhjOn1YfqdW7IlpzozBi3JZARQlHCcBbWdIb/8zjEIRRo1sX2fhig7XEj7UoQniSIp6EYxrmxV5iOYXglZbFK6kqrZAp05CI0WqrLAHdZ0///9PrKORJoRYk0gkcjjsgzBLC4NoA0OxmIo6UH5bVtDnruYbmNqJb0YCdTIbrr5ejaP7/r1Lr/8zjELhQ7HvI+UIcfcxj//9f//TRcOhPlHwhJXPm+8LOF/Ylf83PrJ5IESwAoGigAhpllKj7ARAC0VZM1JubDNWvdNxH8rzCvt9rZfRfv5/r//Ll/9ac+8vLphF676+znsEbex2rqMK1bFE3/8zjEPBfTRsWUQFMcAI1omRBGmeUmoekaOkZNFAXS1txKKkzIBDQGA/q6QoMgWRyqF2u12tsk2z9j1uZzYEhDDKIeTLFotU9hvQBONlIRZwz4FiHzpVuun6mRf/P0ZFv//k+re+ag7O//////8zjEOxSzQvZcGI122a9em9VKul2JT3Y69Tp57YRDHUEEC5N2n9zccckcgD+YEpTvcSOX3NswgSm7YFiNMVsYiFydGYFZ8gMpMLt6E/5EmYRL1w70PhHtBEMPYeORfHVOv5A+aMgRLqBJSez/8zjERxTQzu5cwkaKrpwO4qz/+jtX3nWaag9U5nWwMeL2KxMSgeHgA4aFTRxlDYYEg+GlDA6oGM8jsGBSOq7I4dria+frkAnFNeW1AGy+ZnAPj8DQ8P2Mi0gSSMuk//1AGcAUwr2/oryX////8zjEUhSo0tJQBhgYRdFGqftNwfF5C93/UjR8pi9vVDnsJeKkK1U2WzJzdRT1C+7bDkSnmyuBwdq2VCe/yzFbZ2u2qPYrFdjJ+j0itAGCpoSklrqPdkzEu4WIJ///6anMtQqAk1cctFT40PD/8zjEXhUZmt2WewTqp8REGRSKWEUiI+FW2SxMrls1jottVs+kn9gFVN5U8Ern1X2UWeWU9iwCGpASu9LQZWGfBV32dMqAngIO6v/wpET5Uq6HQaAzwVoAgBAE9L4pHkCOFcroNYM4NYEZYWX/8zjEaBSg+rDfSTAAroIUAXQBWmJ4hvGEHwg3JCzKiaHOIc70BHQ0gFyH8csc4ZYmVJ3fE9E+US8dIYz1rV+Sg4i2XssaP9C6YyQ5Biel4ixgTKKlort+6e7EYMwIWGSD8Q1SOsdxFxmTFRP/8zjEdCTjLkQNj5AASOtZRWiiqpv/+ssHSdTLBGlU5/s1Svf1uqmp5iXv+PoElJUe6QMQXRP78dVqAfH7Y4IIlfGjsaCoBfsK5QLsSRNEofBd/GQzF8WwuRcIQF4MPwWyZio3HgiB+AwF4Kz/8zjEPyUTzozJj1AAPe94sEY8GwzJiYRA/C0QD88n/5YnJ1J3JD1MJiEbk55GSj3/9KnMpcxyMncicWRkjEyHoSC7//mXbRjDGV5IRGR4VLGD8sKwrhZUWyX///Mb//8JZaq9pNxmRu/Cnaf/8zjECRVbKsG9xhADttkarXmiRKyVTYwtNrYg91YMrOZlVKOCdD6GbuUS6FoZ0MY+xjPo6JTVfQ5lTT6omttzfp//q0EGZC9n0f/29n0Nq30djfNQwZugoNVWKILzYCXaCFjDILTcogQcnvb/8zjEEhUhBq4+CYwYswhjAgyWJn6VF0CIXpknpxNnBF3tnp7nx7gyGowMFJR3D7MRxAET5cLiAMcUGhguHwAUDBP1qFaP/2/prPiAoAUB9f/eRDIjWzxUghDA4p+d++RD1RoYrFcUYm51OR3/8zjEHBtKCrgAeNFkB+GRpQTR12cEBgVDJVMCYKByfqBFrTxWIZV7HzIEpjQX8KJ5000iER/pdDDx6MaLkhJQhxdnTZfLzc266K72MkXLIG2YwyEAwERB////4nP2qj/warELP/nIo5I/Zw3/8zjEDReBmtGUeYVANCdN0hBDKfYbE4qsXnO87i4uLY6S0zgxtKDQlWnWOMPor3GEZKLOFj7BAsjt4aJJOjJWVXyr0s5bN+sGFKhSBjEiUeWWYd11KoX////6HRAa19kiJMtdl1H+ZBJDGlP/8zjEDhUBowpeeMTaNMIRw8r4UilmvtIK2kAIJFMTxvlyrL1wlWeQkSZCiI4CY2s+EVq5FShnCk/96MWKA1GB0RBlzE29WACQfeB2v//t/9eJaeuH7TsH+Wo+7eGVB4vGtJT2aTsKUk9g52v/8zjEGRQSQuFWeYSWKXJrxs7DqIDT1R+wK637oZiGKyfQt/p/o1jlYGcosjwx7EK6I+qf79dLYNExDrZ/8t+/VWGp6mrpj7tcl2HwPBnyKZbwqWvJbresTnIFJUe3im9SsbVjxaCjWZDrnCj/8zjEJxTCSu1+WMT2eYUl112jWQ6S85G/9H2q4oUVSt07du+upHWVkK2isgIBqeNd//Fll8jlqZKEap5a45cNAXYrJW4J1pTiFHZOujMS8C6YbU1vla4OuwHB+OemJoPvJWl5NNVxsNLvhOn/8zjEMxTo8s2eOxAyiD0OULAyNDRslP3v0MLkmWohoAtBX//WkVHLBYcut7ClB56CPyiAAbCfEUVI2XwQCyHJQF3Qxo6KIjcdHbZsbdd/5lFE6qO/dD52t9VISjb7f35CN26ueW+c5zoEEED/8zjEPhUpwpTSwYSUTWbz6VMqVTYW6Omt/OHFuLk7g/MM4PoAtRSTWoGmMYKoGM7kNoSIlLaWBImRNRPNVL5NmZmz+RyZgwCMK2qxpV/8tmHqt7fSYyZf+X6FAV7P9gwdEowXMP/LP4K/DXz/8zjESBTZnpJcekYshU/YGohWM8NeLEW1hlsEKKZlhORRBRtUM/UqO2Yv6PoJG+Z/L/+Z//VuZ8yirZWEhYrdQ61BIBg6ioHjf/0r/R/+Upf+YzdS/MHhZ5QFDxnmFvb/8RFRIWFKAiDgdKX/8zjEUxNbPlAIeYolRNmd9NFzMydxBxKQK5qjbUMQ4m8gD58owCHELioZQsxUKyxxCRI4AARZzAzC928isWBEVRtSGhjTNdqETWiixuVCc9qZKQEJRaLRaNRsNR6NRmI/toDwBYPsJDBEB/z/8zjEZBK4NigTTxgAkEWQD8nFnxaHotnMaKqfC8EWA2CwIMRQ/Kjwg/BSF+LYVwpx+UJgogCQhh9/EsQQmhqJ4sEgliLGyGyT/iUAgCwE8mEoEARYiBJIijuyHG//iIUhJ2GohxEEwrlCJjj/8zjEeCcDftpfh1ACfnER0xi7Dz//kJcuSHkg8NJSYkGotxqtle09DGzP//84k/4hWqmTesjMhqpRDp5wkg4BCsugZcZmBNWVUCwptsjRcTV+hMfunp9SzDL9Uz0yU83QASE5MmU+llTn1cP/8zjEOxmpcq5V2RgAUObmju6F+znxERQMAEBEmTWEzmb/YIAN2f8QiTNUEtG42LAUJRd4UhciZGLAOXbVIybQfhfmESb26imilvKURnBxnWpoWnWLn1gIPWaKi17Ttdb/VrbZB/ZAt2bqlVT/8zjEMyF7OrW+wxCwQ0bKGqtL3vXJZjIcEIsHYLymGg+HofWgo60MFjUFJ9JVQ7HoU48jIMnGELbueluIIsYaDcxe7r//////4bX/lf2//Wut471WaiUppabOo8oe2dNIwmTWcuhWP8lQo8f/8zjEDBgRptpWewZ2hkOPqQbABXugEDJJYmB7MlRTOmZUtRg4e7TOubCfDt7gj+/X+mfXZ3Dii4M2l/lLSlXh14egNTxbg8aBE8XBYQCYQGAfev///rWMbD7ww4QnGH3G1cIK7XBDQf0Pgh//8zjEChWZ+sGuegTUfJMzeNNTqsJrbeX8CMeB6LgmMaZD8zkMpXAiaC5CQhv5H8vLl6IrJRczZg9eBXXm1B3O7TheFbV+b+nvoVDAgqGWOON////061EqAMrpyRtNybYTjAoDKOgUlP7PIcX/8zjEEhUx9tEfTBgCB5y6uRxXlcye761VJsKX7cb2BCmZjeBhWgo1Mof3X1Xo3WMugJat/31yVV//Uv2aqpZQU8lDX2f/+3naI1QhdDoLOgESaaQG2G15IRMAWRwEzhsTxeI1hcuaCnxIElX/8zjEHBtLAojLmlABDj7uw7MaIjFLLLA1jv+VApg1jT1+K5OIsG8L9aLN/BQMxbC8HjTW/+PB4SCAACAIAJnf//C/cqPyfc////88WwaGRB4PBvQn/////cxR+TsH1RBB7x/p95gAexNbhFv/8zjEDRfpxsT1j1gAWKQnWggFAxkkqJiWm+LUQSj7xIuwEV10+6dOolbUeziB2j6ZUTO7eNC9uq8uWe2KOpJxs32chr9+40qp4SVUimv7/h/bH9sz0ktRxXQ//1tXfIoGE67DMKxdheasii3/8zjEDBRA1sRPzzAAqUtgzjEjxTKAWBf6o/nraVny6QiaMipMlo9sUEQgnSuBQoVUQW2fRe0DCNAVMPJuSso4p/NjbFE64xYx7HJ/o3klLr/qQgEl0UZ+Vwhf9x6jawuVHF+SQIbuCXc/nL3/8zjEGhQqRs1ueEdWkMtrLZX4Qxi0f5vFh1R8oZsVpGcxClDNnn2a4uQpmGDXYPemTCdiX/Tb2Pv/6DXu8h//8u6shRGQUEGoyCGT8o3SaTSk9VcepdkSjH5PQXpJ40yRNBV3YSWKBWD6Luj/8zjEKBRQ0sS2a8Q+9WmiszoYUz95hRlN4EOmlgJiYaTNQyeIfe+lDOc58/M8JG1C7E////qVZiQAL+2Bxj4yhq28fhHhNUG8lLansosApu1gsHQw6KzaCmipxBmZuRjWbeSKzJHsZju7f9H/8zjENRUh0t42ekSWb3Tv+WiWXezokyKrOljFB1DQfPgcos+a/////4GA4fUDgCsCxx49gEm+cRXLDw0f/rxUvxZszKGJkBFO0tEmLB9eZZSmqxe7O4rJaB37ICg8xivMYwJWpNEP532R9HH/8zjEPxShOr32bgo80WDH6WQtV6VAVzw3Ks9z/////rUMClnxxkzwRRzFmhgfITauY1APVZ1OaR+j0l5j6SQ5kFemBhIdmUCAiogoV1tepMc+XEUywqOsGiYbDQWWOPmTyyp1RIZYx71nap7/8zjESxTo4rVWA9Qc7eIR0l////yKAoAgIdoo/W5pFRoVI3ryAgjTq9O2RfsgpZeFl2SKlkt3vBWtSRCEiJAEyGf2iE7J5Zk5/NMr3ISaYOJpImE+ifY4uEw7S5ilNpFvI7sh///+Xv1dxJn/8zjEVhRxLrYWwYawVa4+BbRashlisD9XY6oevADIdDEbwpzNYuXn9GqOQ80xtv/N6mVYXJe1otkcdFZdLbb9u7/n5ocwmVpv3fQorpYhSu8tcmLzKVHzIQfC5UxBghuDOzDJ2lcQE/Fuxq7/8zjEYxQ53rgAwwa4c35ihGjqUyyot1nCqbZ9lVnb6zz9mfm0z7pI2Uji5SGkFiD52LN2CxsLlyTB5lw1RaWUDg8shvRxguGgo21n///UTcQAHGW0ow+WcMpLWBiEZNjBn6wOFByHYNy4rfb/8zjEcRUw/sjOE8waAIMh1FY2YDBsZm2XQsn9t3fgQYS4UefAAhCRGdKi8w3CiDIgAyVl0qRm1oc54oEGuppez////HLVIlgPzNH5Ob4EJaXZeEdRIX2hxcW4pCck2IOQZMp+M0eW8KJx6Iz/8zjEexUQ/rW2ewYwNbk9UjXrdLGDodBKSC9iT/fjc/7+/Uq2RxQKMcMLauNBgRk3nVEUvzTb3BAqWqTUflzPB2MEOaR5SFmmVCwZiDn7BylLViNStpedL2QtWKwqKP06279SvJozELdK/X//8zjEhRQ5hqxEegTw39HYUNWDFFQkgOrDQqMWtxIUBYSx5BNI3a/9y2n3ayA/m+TUfg7fKSKGoU+2vBnHinEmz8CHbQKtGzUgpExrfaecM19VhEzGWWd1O5zsOKrAWgVBfCQ5YKi6McBg6ar/8zjEkxTB/sT2SMTObXs9VfnR63jrRaTLf+mtNQpZg1vAnBJI4dlpambheVM0T00pMu5rUe1kBhCKMIGkYiwk4XRAkf/jt2iOgQnxJgRlDEFopGY0RmfH/xmxv97f9Vty4c0GDAJnxm84qjn/8zjEnxPZarz2SMzahallXdJI0rqW5JozmA66OoE8pxugiSoUTU5rClX2LGt5jzewTtIJK4RKQ0iyFTyMkDmOAOTX//6VlK9UqJM26JoVRLHkv/+ZAz729W6/1gKkhU/Naqnznacab6AybFD/8zjErhVp7qB2YEzwfRUC4oZGlP9FA4wATqGOspFjzepk5yuOi0PQTGTD5uRlBd+G2EzjcFTAVZeypOvG7tKf2Km3F7vG9hSBVGUSI1JrKkUtihxkqGRSeajLKJXdmF1tzZi1KzeuKOcrO/D/8zjEtxgqaq22ekY61VbTM93KgsokxbVUdFAaBaCoAo6ziTkTSO0LJpouYkYkKSUltzYIgFFbH0lo1Ze+pnTkO42oVB4DQ7QLNQFDL7tV+akepBgIjaqUO5ej02qVjakfUrf9voOhdk35vTf/8zjEtRlCQnhGYkTcqH11LmCRolXRllSB6p7YqrLsDQ7FCi8pLgi1iaHJCEYpyf31eVmbYHBwHPDZYZI+HUsfqftOlivVqiX4sdT/p+0b/x+0miAs1h4Kx4GSZbjuXMjjEBGoChJT0tw0+W7/8zjErxSiPmxOSMUVzI7ti1HvMvQ5tjiDnvTjNNFq/Q2TM7x3FS3ij3VKa1lZKI4s/KIlIS41zRjPCzSRCGcTygJYYVzh3MGpm5br7UtpPZy2JNaUzZ4Ze3sqHbz4fbCNV54O9LMzeuD5LUP/8zjEuxCpAkgGSEcE1wVjzLqxrqjhNxpPRl6AI5XWv8rh1kVJCx5Y/VB2R42qFdCXDHCUv6uDNKzMtkOgDqt4Bg6kZe00aKt/UxSk62Z+XGxqizDKNpGw4xCiTaGMjKvOKFhBjKCq6GCWbaz/8zjE1w7wVjA0YIYkXWHLxjJUptWViqP3KiYxspc4rUnLBMDI1Y/3JQxLuSARM4mXZSnYUco4TkIuiTlFKwgImwJOPTOWksbS5Ki1mKRYbWR1w3QyUiAuprdjCxsLGdZNUbKQ5upexEUOnqz/8zjE+hcxuhAqekYpecnc+IhJNbkkzIoRJwiLqt5uboilt2FUh2od7e52/rZMVywFK3nxxW+NSAljlUO6zhoBRkiRQmzVYx0lWHVXrMfsKoCZcP9lVf+MpdX6rHs3dijakx1qux0oW2q/WOn/8zjE/Bu7JgQAeYZ9eq6l1S9WP2NV+MaqXeqX5Mv1S+9XY7AwCXVjNW1JjqxV+l//Gb/YCaHVBhIgmgkRONNAizE1JTRxZR8bNTJRcXDTEZGmv2ZGWmrWWkZMssjkatZajkyhgYKGJBiVcMT/8zjE7BbStgQASYYsg1VIlESrhqg1VIlESrhqkqqVQaquVESqhqg1VcNUGqphqkq7Kkqqdq1KTEFNRTMuMTAwqqqqqqqqqqqqqqqqqqqqqqqqqqqqqqqqqqqqqqqqqqqqqqqqqqqqqqqqqqr/8zjE7xajKghMMEYgqqqqqqqqqqqqqqqqqqqqqqqqqqqqqqqqqqqqqqqqTEFNRTMuMTAwqqqqqqqqqqqqqqqqqqqqqqqqqqqqqqqqqqqqqqqqqqqqqqqqqqqqqqqqqqqqqqqqqqqqqqqqqqr/8zjE8xeZaTAAMEcJqqqqqqqqqqqqqqqqqqqqqqqqqqqqqqqqqqqqqqqqTEFNRTMuMTAwqqqqqqqqqqqqqqqqqqqqqqqqqqqqqqqqqqqqqqqqqqqqqqqqqqqqqqqqqqqqqqqqqqqqqqqqqqr/8zjEoAAAA0gAAAAAqqqqqqqqqqqqqqqqqqqqqqqqqqqqqqqqqqqqqqqqTEFNRTMuMTAwqqqqqqqqqqqqqqqqqqqqqqqqqqqqqqqqqqqqqqqqqqqqqqqqqqqqqqqqqqqqqqqqqqqqqqqqqqr/8zjEoAAAA0gAAAAAqqqqqqqqqqqqqqqqqqqqqqqqqqqqqqqqqqqqqqqqTEFNRTMuMTAwqqqqqqqqqqqqqqqqqqqqqqqqqqqqqqqqqqqqqqqqqqqqqqqqqqqqqqqqqqqqqqqqqqqqqqqqqqr/8zjEoAAAA0gAAAAAqqqqqqqqqqqqqqqqqqqqqqqqqqqqqqqqqqqqqqqqTEFNRTMuMTAwqqqqqqqqqqqqqqqqqqqqqqqqqqqqqqqqqqqqqqqqqqqqqqqqqqqqqqqqqqqqqqqqqqqqqqqqqqr/8zjEoAAAA0gAAAAAqqqqqqqqqqqqqqqqqqqqqqqqqqqqqqqqqqqqqqqqTEFNRTMuMTAwqqqqqqqqqqqqqqqqqqqqqqqqqqqqqqqqqqqqqqqqqqqqqqqqqqqqqqqqqqqqqqqqqqqqqqqqqqr/8zjEoAAAA0gAAAAAqqqqqqqqqqqqqqqqqqqqqqqqqqqqqqqqqqqqqqqqTEFNRTMuMTAwqqqqqqqqqqqqqqqqqqqqqqqqqqqqqqqqqqqqqqqqqqqqqqqqqqqqqqqqqqqqqqqqqqqqqqqqqqr/8zjEoAAAA0gAAAAAqqqqqqqqqqqqqqqqqqqqqqqqqqqqqqqqqqqqqqqqTEFNRTMuMTAwqqqqqqqqqqqqqqqqqqqqqqqqqqqqqqqqqqqqqqqqqqqqqqqqqqqqqqqqqqqqqqqqqqqqqqqqqqr/8zjEoAAAA0gAAAAAqqqqqqqqqqqqqqqqqqqqqqqqqqqqqqqqqqqqqqqqTEFNRTMuMTAwqqqqqqqqqqqqqqqqqqqqqqqqqqqqqqqqqqqqqqqqqqqqqqqqqqqqqqqqqqqqqqqqqqqqqqqqqqr/8zjEoAAAA0gAAAAAqqqqqqqqqqqqqqqqqqqqqqqqqqqqqqqqqqqqqqqqTEFNRTMuMTAwqqqqqqqqqqqqqqqqqqqqqqqqqqqqqqqqqqqqqqqqqqqqqqqqqqqqqqqqqqqqqqqqqqqqqqqqqqr/8zjEoAAAA0gAAAAAqqqqqqqqqqqqqqqqqqqqqqqqqqqqqqqqqqqqqqqqTEFNRTMuMTAwqqqqqqqqqqqqqqqqqqqqqqqqqqqqqqqqqqqqqqqqqqqqqqqqqqqqqqqqqqqqqqqqqqqqqqqqqqr/8zjEoAAAA0gAAAAAqqqqqqqqqqqqqqqqqqqqqqqqqqqqqqqqqqqqqqqqTEFNRTMuMTAwqqqqqqqqqqqqqqqqqqqqqqqqqqqqqqqqqqqqqqqqqqqqqqqqqqqqqqqqqqqqqqqqqqqqqqqqqqr/8zjEoAAAA0gAAAAAqqqqqqqqqqqqqqqqqqqqqqqqqqqqqqqqqqqqqqqqTEFNRTMuMTAwqqqqqqqqqqqqqqqqqqqqqqqqqqqqqqqqqqqqqqqqqqqqqqqqqqqqqqqqqqqqqqqqqqqqqqqqqqr/8zjEoAAAA0gAAAAAqqqqqqqqqqqqqqqqqqqqqqqqqqqqqqqqqqqqqqqqTEFNRTMuMTAwqqqqqqqqqqqqqqqqqqqqqqqqqqqqqqqqqqqqqqqqqqqqqqqqqqqqqqqqqqqqqqqqqqqqqqqqqqr/8zjEoAAAA0gAAAAAqqqqqqqqqqqqqqqqqqqqqqqqqqqqqqqqqqqqqqqqTEFNRTMuMTAwqqqqqqqqqqqqqqqqqqqqqqqqqqqqqqqqqqqqqqqqqqqqqqqqqqqqqqqqqqqqqqqqqqqqqqqqqqr/8zjEoAAAA0gAAAAAqqqqqqqqqqqqqqqqqqqqqqqqqqqqqqqqqqqqqqqqTEFNRTMuMTAwqqqqqqqqqqqqqqqqqqqqqqqqqqqqqqqqqqqqqqqqqqqqqqqqqqqqqqqqqqqqqqqqqqqqqqqqqqr/8zjEoAAAA0gAAAAAqqqqqqqqqqqqqqqqqqqqqqqqqqqqqqqqqqqqqqqqTEFNRTMuMTAwqqqqqqqqqqqqqqqqqqqqqqqqqqqqqqqqqqqqqqqqqqqqqqqqqqqqqqqqqqqqqqqqqqqqqqqqqqr/8zjEoAAAA0gAAAAAqqqqqqqqqqqqqqqqqqqqqqqqqqqqqqqqqqqqqqqqCWaBXKnXW0YACLeRSGJCytIhTSQU9aZjdvOkqRiWb1ynpySCAgFCBi0YoFAocj3CMnYUJHT2CaNjlAQY9QXDBJD/8zjEoAAAA0gAAAAAhFHOaNiEEDC6NtcUEjCYrFYrFZOSRbmFwTJ0aPJkYrC4bJ26XFYrFaNG3OQrbPJkyZOjAcBkwcm0GEAu7u/EEAGAyZMoAEEDAvYjxBhBMmmUQQiIJ2yGMCABUSToEAD/8zjEoAAAA0gAAAAAgxALogAAAgYQyCBBCAQAIZ/ah+V3BQScaR0EgQUNIYsjQ4TRisjTZou3yOUrCy3vcRLTzMz28Pc0mht5mWRQzLNfZx3vzOLy3NNz5bTOYju7CpV5M1lzjZTlcpry9iD/8zjE/yv7OeTywkz8lBq+6S6bTnp6bW2NZYVcZkJrsz2Z9yiRkeyktSuytJzssBVJ5kEjlt0IlS16h7dGWpSbGhKjEZfENPe/j3N61tuMB0EDUsVm8rkWnc/prc/OMHTCDvhnAJyRhYxIgZb/8zjEriADPgwswwwJxDdmzHjIOrUeQRk45PoSifOzkU7HlSXpynNwGPsjVqLadetY4ubxKQ5LbYuyIFSgYFHYTRWT7rRJHnbBZuagR4VnMy41AyRGF1Ks30SNJxJtIHyeSWakZehvR6nO4yr/8zjEjSRbMfwBWDABbxNScgoCAmQSQhUGXTqQrTUIQTmTxJ94YCLlFJzlnBmCVikqKJ8CYCckdaC0HSdEZaSLsmg9k1JtWicrNmSZFaqSKC2TZNSkz6alLMVJupFbaTrTN7omCFBJSSbqprb/8zjEWiQTJiRVmGgAdBLTWhW6mdfUhm7y6Z1ooIoVuip1y5Te5oas6FnUquugpM3SWplIKrRSSdFDSQdmc4T/7f+EqrkObX83QSJynhpz1oMI79TG2/DfAgISXzJgqNKm/aZnllt+23H1Gsz/8zjEKBOrIqABmDgA//2Q/PL/9G/iIrzWt////ZTT2N1Mdv///mZjW0WhjWHzx9m///yl/uWUSQyQs/daVCJYHPJ9bpYxGN/+reH/9P/dJ/slf738KRS85CLNuWNZRIaDg6jzCz31uKTq2Fz/8zjEOBVaAsAB2EAAOxgugiC5bNT8L7/fafd7/UxyYxKv//fNqW7yWc1qsQbTsnLOyCijWGAOHx/BWim6BPBTwhepMSeaEYjPnkyrcAKX0WR/RdL4Tl1zI4EEUGNl1yhaUBXnplzb8c2Ew+r/8zjEQRQxLvZWacbKHohN2gRBM//+R2bfgseSQhQASFh//hZUqEmE5zV0EFwUzn6eWNVEgILAK4in1S8qtjqWLUJkN8y4+dH8ulRr9rUiopij43zrj4gHchR0TMb4bRL3JOJoG0aaciPj+IX/8zjETyT6Uq4E08z4P2GPJfT6sfwGZhhQL5Up4oxVxmJDmFqq/ehIMbcIoJJR0k1bGKMczLZIjFokUNRd0n9tlgZKlFpH/+owe53OyqhYK6g79aSiIru2DeGdyJjBh4PMfyWiKITwprrRyE//8zjEGhs59s22wwaWQT2c0EQhdaaeSgWJVpyRNv87Ad3zWVhswYBASVQxgIn/Zj/woj/otJ8MoxqV9jMQ5uFOA8EOTTIUtcpQoCGxKImrexQ8aEBKd/1hqWDv8r8uJDIYOrqrlzHmAYEBGzj/8zjEDBTh+tGWiYSWiggOgQVKrghAYNpvEE0frQ6OfHBSkoiT0NfWVDSMz383ea1UDiWUygisx0FgLNoY35nTM7Iz21OrFriY1Ukno//wfD//5V7qIAQga97hsB1EuVpzljDlMk6njc92wGL/8zjEFxTilrAWeMS0xAMDOK9IzL3YXSKnje+haInXp5zv528lut7u6rORv7n/f2/7LIf/09qVOf1dqqd2UDAwfC20us16jlTpetUrAdFjFdC3sEkbcpIFmrAzn6BnL3PWhyOGt5UioiSQms7/8zjEIhT5/sgAa8RctnpPEG+q3uMmEACglAz1Ip7XRn9ORrOp0WoGOMMqBG5H8+kno1N0VjHEGoqi/////9Whvr8yHPjPsMmDr/ZeYlYVy2Dic6rhCQwUbBjDAZ3HyLhKt2e4BA4yqg9QAMb/8zjELRTpbszAeYdA5AscY+8Dv7uc8ofp33YrCOkQMYKnWjhUD2lr1BSswVs/h53///9CUYPG4YJuW/DfhnUPG65okE2XGAhraYsH+il/9mIt4YUzUFFS5QKrAQE+wM4yQ5jte6dVWq+zTUH/8zjEOBRpXubeC8QYVT5qn+obIsFwmGrO5+e/1LAodF0EJL/JKPWAvWyyAO23cUXQaIQAiWP5ETHomkc9aSSNmcz5PSEiVX1X/DFV/L7GDCmnWZj/7RKw0dCjyxYSwaDs6Sq8AgsuVcs7Gt7/8zjERRUJKspeSYZwWUOEsJhqR5UNFTB7/4lMKhiIA4A1AqD5mkOTim/1XU2BZtg6AVLVSbwwoKJvkFAS9gICM6sFBRqFHUj4YICVVUBElzLmxrl1Wdfyk9m//q/xv2YCAWDXkQkFAaflZYP/8zjETxTZ+nArSBgAVU8HQ1UAWhq73oCCTwD98C/z9h0nsYQ5Swb6dMSdeQzNCpM66y+LC0uOT2/r/mItedK0hs1DE+w4w5K43K+FereHN6L+321/r6snR7AZGct608q55zFnUmZKJnGSz+r/8zjEWiaTDq2Vi2AA2/x0dkBcqsu9+ZykuXu/8+d/HtSzKEZq4zaP8LrNkaV9OfvU6nT0zMzMzJcQKQ5WZbfvFe/WdvbZnHzjVf//5VU2WHmKycgCIP/LF+VMhQGhFHVrMNAocQBDMwQcqRP/8zjEHhWRctb32hgAXAfeGGsSDX/nnbX1cDMj7X7puZekBF/YlfDgZiD4DgtPthZb/6Fh3p0te2myy0Cf6Wkvs///rPrVqSDk2vXu6ifLeAoBJqGkY4RE1sNKtIWNq2UnsYcCkRDj5FAakHf/8zjEJhiZavJXSUACNFOKlOvcrVtqbusMqrDSqrf/9c1jTShYswyJXCUY0q6+twmgqCoLHVB1yn68iJa+Wf29hktUVCQNSQaEStl1uBk65CG8CSbDoTYMUaZXnuhYJMOYIaMOH5f1NSVwsPX/8zjEIh3J2sQrj8AA5z2efeXt/nIqfGcz7yvbrXJXXaJMS1/brJbfe0mHLsTlPbWUtrVc/7rDmfe0nf5awnYf/HWHxjlj88+4Yc7VsW/wt5czu8xz5d6CsHynBg+KtxcSi1WQAaXmlEHrpeL/8zjECRcx2uGXzzgCSxdKROvtv5H137AqpEQ9fPmqK+kB2JRUUjccPA8HYpFgbBYKRMNxqJNHYq23u1L1Z+/N6859FVDH/mXRkdHVldaF4BFAXEQcEo46bW6mKQ5///+t5IK40ndxq0VRlLH/8zjECxaDAt1+ewQ/qjPJxAdsVzXLhw9ZszUzK979pMtwfrZ7MOVqPDmost1W5WdDOebqpua9s7GBGK12Yi76XrKhDlMZNtW//+rTd7f///+x1LD6GOCdbSPfkMBCqJKW0R/A+fsSvnQ2T9X/8zjEEBR5btl+SYTOAgkXHgwwqo/863NU7/9wVXgGAx7U9nFoyfIEBFOxGdLf/qmQ6BkEwrQljGteOMgqkVmFtWryrA0K7fp+x+xQqrXQhAAKiaI0ACZsXQUNJXA2A3HpcAWO45ALAAP1rvL/8zjEHRR54tI+YgT1/eedpUtvq9pb+VZaFUAGDkDCQUEni7AsoUFHPcXukl+uK7YU2EBhbMzL//99tDaCjIuCW1XAAaDRRi+AfjJFioaKpxjLkGQBDOuoOhCVVk01J66RdU/3U/6XK2hZEFD/8zjEKhS5YsVuC9AQ8FQEAAgjwMsveJf54qp0uzksXcWHHP7YqFWiQRLZKvnOcIWf///qCVQYFqRpyC8INNAN8z8KGWm5XMnZtRr3hqYN0YRq5H0MpV3K2eiKjC8gmMCxW7zf9NlIHVcgsKz/8zjENhRx4tGOA8oWyqR/T5W9HvQyq4qdHC+BhYq1cNEDbf///rSNog5CR1w4/hm+SpCk4lUeLcok6tnLBldPoKppQqGCaOpKSIefqU/7AYUC1YVmJCOZRur/bUx2MaFElS6silpt1b1SVnr/8zjEQxU6Srx2eMS4W2XLQ1nM7ekMKYJKgf///6MlBWbkdXNyD2C5qZQ+sH5pNtNIhLjJkzmklUzIeGpDSZA+7lR06gKYWUqqRm9r+n0RSkGGF3DIHNJs+Qz7Xpa9TPcI6ogHJ06W1FGCNQn/8zjETRRpZsW2SMrK3pF9vJoAd63Xu5KNuHp1HQ4BIBXoUQKAi1jodhVdSjcyYqK7f6opSghUrf+b/pQz+jp/7KXQwClDIKmgSoYrOUxbcvMAhgyzKUKAQElAcNmXIQZzSfI/qbUCrxWAcpP/8zjEWhTaXrW2YMQ8U5leoYsAmUT1VY29v/zGzOUujfzasGM7q4UBKkpZpn+Zy6GMZqOhn0+n5pW7I5UuaVKPVS+XCs+jsiOj7IqtQzuqVElVzsiVGAX8RAAyEBgCB4D4MhelR+sfGodenWj/8zjEZRR6unRUeMQo/0NQz95U8xn5v/Uz/l1Qz+/SlE5k9StzfKzUMYzzBjFbwwdz0qdkToiDoKqPHmagaET/EsrlmtVVJIDBgMLDA03JMWHhcAmmpgmoAN+hgpANXlj9oqQgoUQuo/ZDD8z/8zjEchLKFjmVShAALZigQ9cjP33wUOAA4ArgXgF2A3f/ZbupkAFAgBTDkAGzhiAV8ETP//pg2+KmGCw/QaIrUOnEFAcL/+g2y3N1WC0AdpVDZwxmHxiVA3gD4hJA+cQR///+h+DcY0gCjjP/8zjEhSbLJng9jZgAQuAd4jsLgxDSJmgguDcsLTwtM///yaq/CwAWQjKUxgwGPmgEUOmYsHRhMMuIIYlo1rtIfVDeXMvl76aidmYpK8vbU9xCJdtDvxokIYKIWAuH4eGuLjNEmIS+7ae7VeP/8zjESCTLPp2V2EAB0r0r3dKDs+BcOBEFxwwxX7K5viYrisfCSKWPJs250Prqr54f+fa4tVWlYlHSylWGKFmgG1lD1DkcowXEX9YvDoQwXB0ow0Pig/IR1YAHts9bXBR/LOy5Y2lltCZY0dz/8zjEExlRjs2+elDsmg/oQXiZZYZdKrK/GPNnLZR625bWUbTTF0hJ1qPTaC5jYmstAskWb1dVV/de9ekZ9QguyBOLaDjhoDcGQ2GAIFwIgBpICoGOpcl/psW7///1gJWJQKyFxST0fh8z0wv/8zjEDBfa1tW+SMsGWSEro1bpSRJNSsUqwjEQkKFCmnpAFTCx2Yq3TDorK0ws/v9X1aVhFSJZqIwkZ1+rF+xb8xpjShkiS/lTX9OWpm3RHK50slxYlp1eVh57BpXOklUqbajSkZklt2HqDjT/8zjECxeB5tJeeYaerMtL0GX+E5wd2azOa77WceQNDdpIPORPa2+1v+u+r82iwIu7zf/9SZv8i2Mo0sNcMfGLqiYuvSz6WprhoSPBUUZZ9zWG2DgaWdaRUuLHa/yzap4AuMFQAefbgT4CQOr/8zjEDBTSBppeYEdsllSytOr77zLh9tse7ZbWuLYud3XbuUZnJnZmstE6GpWJ1tpbQpP/CSOaxTS+E/ic1ppmIUIUQGi+NY1YU+R/sFyqn3gqZOqqmRQR5PvJ3hxMMhzKJ4hcZE4+QgSLRKf/8zjEFxQI9kwAelhgz0kk1NE9tWXbbrTzLtly5k5Mozk9TKisTsMVkZJEU9sOBVTBKdXc7WGssHd69DoirtBb/blj0NfI1QDDrLcklwcGQynQ0wz3Itv7rV93+Y/9tV9Lvs3Kv2/t/O/9Gzb/8zjEJQmIFk2eGMQACyoKJNVQwKRCOwEi6UpkXn3IV00vZoxdZ0kxbnnNcqNYBDChbsx3qOAYuyxjXLJDUeBG3JdOE2HxYjm1piqUiAmUCmV/jgiPizjB6mDooHnQrFhUrQH7GMiliGxfixH/8zjEXRAAFiTUSMYAvx1KWVWuYIEdFrFl2dz6RuL+6u1qgMyL2c7GtSgAZIKpAoEZgMFibiIlUKyxlwZsUyuYHKQg6Z4rLAIqGbjyiV/GueyLODOIBxqgVpxRU9ap7Zk6W6xE8PNFTJVGqhv/8zjEfA6AEhjqSIQAuk4rHQ7kW1L8v2spkVR1y6dBPmh/dHyYkcv1nLDQyaMprNWKfWmcIysMnjBEG14g3oPydKkrf5lBLX8ZN3oGBfLgWCYKzh/uDH+GBYmBOiNcEPl5ToEgHBpw+nsCqD3/8zjEoRDwGgmMGMQAq+87r4STpHPvZaAIPSf+lluLDiyPS38VWnVE+R3U7itQg/+VO4bcRhfmZGpHan/7al1NqJu7VEGI2nfsWR0qRLaVuAKg60Jhij5EyNy5rPjUr7tu1hKfNQbJvCz3bJf/8zjEvBR6KewAGEfBZb/78dwYFT/4cyvq25+XMz/fwO2Z0vogeYupnyotp6r3Wf3zGflmKQq13HYDkqoGvk3Gm4CYoIRu6hzHtru+iF5ohyEiXN6em58i1+LUl/N/YkzPSHTJOnnl5kWWpj7/8zjEyRMQAfDKGMa5jzcvY8yUttdCKvETTt93IzKSOvva7Qaon9Lu4W9gzfPyAN8/VacsPNH5twhpb4eKRQVMnCzdiEmkMOLkoYzAmMOXKKF2qGmoqeYqpuKR8AbjRqZSY41aROChMkUsPwz/8zjE2xLIvfgAMMQdLGMZnRouE7wmQ05bm0gYYAXciLhei6LPIZiiZjHkjDe5XYpQXlqZ2InsZhVkAQxYxJEmZhlzDlfCSX6DEUy5OdRI0c2jLxVGKMomNy3IDiMuCH2IUxHKMtmCE20CUSj/8zjE7ha6Yhz+MEZhQmkRFCiY5VA2oXXTIUqBxSLTdcSWl3Rdlc+XQZOo6kkT6YBtFLDKLrRSPnzITgOskimznjNz7qXJ9SnZa2S7JLegOebk4TBBGvVdKitkESwVSuLgPEHHlSpxVA4vWqj/8zjE8iZjPfgBWDABPTFbj2MYLIOkRK6icZqKNJB0WVoa3u61koVTMgFErnzNSkdbrTMk1oJtWz1Ua1KVSexkj+z2W2b/8goACDipxqy0sABhZcdhJopEeMrjpmHmVAsPBtsw4VLtiBrowKL/8zjEtySbLhgBmIgApy/5CFEaCC5JgWsgAAg/UGHAbplEnRc5XNBN4ZcCysLQxhhfIMGBf5d7kSPi4ybK4FAwWKCxkMIpv0kUi4gxQHgzPFMi6CDTA0L6JYWOWKcRU1TNnJcrJn3pp75saEf/8zjEgycaWomVmqAAuTo+ytMzI4Vy8cK5KGD//vR1/kwYG5MFw/VEoBwDL+CAmZ1gy6Fy0xe0GAo+zEAOzIxmvOM3cxwBJ2VyF4SIHCqaVNNt9+Daf+RKvnlWeubu0schlynetgzoVEmOmAL/8zjERSZiHpQ92sAAEg1xTB41zIWOPAqlagxdhaD5LKLSF8JbBdSWVJl6H8dS9FXLd9rk7auw3fpYnP73T556xz/PmdPnuxzDOiry+1XjDsSyn+pGJRQ527cg5UvZ3s699SQWAFVB2f/ahq//8zjEChZZ9sBGBhAY3XxELFfvOuvIOA/et0jl2sJUQlTQu9tRd+/bULn8PJ5wKFPKBcaLlk2Y9zTyvXc09Co0wstTlPhIp3utu6m3+LuO5iXuSjCyxdAUDCC/w8pBlo/+D2j38pflR8QUMh7/8zjEDxhDOtgmegrv9m8KJ5TqY+2T7Tf9pe03qhdSh5BIOmD7KKtn06e3/fKXZTHIeR9///6K6oh2MsjTnXJyEQjnYi0O///4gvU7sogO4oYaomHwEcVHsHxw8co9pIAB0MZRe4y2MAkB5U3/8zjEDRf5hr2fTBgAHRJWHX8mEp/ToeRFi72T2SAmAQFDVTKNS+gQpgYwEOS1SYU5BgJfLz+l1fqzzpfWZjWCjwldDRDDp1kSjIdQDTx53Bn/+pMGnrdLHRpWWCygKCuUto6GlrhTCf1NsjH/8zjEDBWjzqwBiTgAfkziAFCw0/nsjj/zNqljTG/q7oyHqhg5/Toxhx7n7f9l7mLc8gN3oz//zH/7HuYznnI1v//oZV+eulVJzUPOGh76f//6k///xaLlbkSXVFoUEOyq5nEBkpxGzx9pTTb/8zjEFBOZDtIz2BgA4Aa47lFb/laGIxe3+hwiVy/c/z//67v8UO5ojoDA3iciIELB90Tg+wEQfuOMBCOOf6HKZCBj////8irWRty7SSW0UNk8iEA3XltAWE57IIjiKN2TKFBW2TWMORr2UbD/8zjEJBS5MxZeQYZeSpmxIi+51SKo5KJViMaCxLiEMBZYUGhgaDKELZciivrrUspJLAQVoBr7///67iMoIprVhWfccVxUO115gpJR8++kSxQCpgMFW4kjQKEYKENDeLEhEXU/VVhzhMfGb/r/8zjEMBUBWtm+AwYQpRo1JgooIgtEplMVEQ8MyuQ2Rz8OVHpHxLqO/+66eQGjxQOowBKVmpW32H9G4IKy1jI1ltAX1CwjZORRY1F3nGw65RkjTWKTNR85/SKHZSvdrUMR0V4khv6PmAx4lyP/8zjEOxU5Wr2+eYqUhAoKEZzU+AgKHliUYosetaQf8/d5/fo/QtDbYAjSGtJsI6aibOVDXkkN5GzWLC3GtjerZi4QyUKQZrV9fvYwNSzkCJsmokwkJciEQzET1zzpUa479NYCLGpEJhoOyxb/8zjERRVgypRdTxgAAoi/USFQEWKpQRPNiv54YVpJSS22UWyy2Wu12uxBLPz8vNxNXQxUKyI3IAcBSnvZCQAwLBD/ni56B2LQEM/6CAxI4aOFLvm3d2LD55rErGFslVP4dn3VdbO63M7x9/n/8zjETiAC7tpfj0ACwx5JGGUfAx4WL///f95F+3cYYRUracLMRXPz1/zc+8WW0o7qL2cjjoh0PFQM93/p/5EvXvfo/ms0OAJGwmWsnCkAJMMNF7sGCMLJr0QjEHOv3uVfr6hVen28/1b3V8r/8zjELRThdrmR2FgA8vslh8NUyQDgBNiSaRHQrcq7f3cbnxd8nqm1UFXooJg00Cf/W96KhBdbYjTccH+YCRNOJCRCrZIkQmQsotWapY0TK+zVfp7NkWWqfV/ZsMBGAqcYVKnZKJR7gVOgsDX/8zjEOBQBDs2/SRgC6XYiPIBUKJkiwNP/xF21Mg0yn/m2YcaeABUULRcbhkcgkMgiAAxpsSby28tzWSwsOYpMjZXVWIzTMogyom3WYRC54UlyRG/1l2WXwhA66IzjDcPKFgleFJmERkwpksn/8zjERycbHq5fj0gA1uR4VLGyabisr2F/3s4fJ/YJLE5gQpa1B+TrN+f///Z1kF8xNuYrChhsE7/7Wsvr3BTNnXhf97kMsbH3wLkZQSJILLBhyF8AcJv2CcLEwhgr/8Of8vVKGlWUSC5Vwur/8zjECRUg0sGV2EgAHj+uTLE9Bpa9ZRRvvEpbFYHLsJpyJsTEF0SuUP4CY8yuTk5SJGBgyRAgGAoZSnS753rbmBINDbyf9ScAHGMaX/RFzRcNzo2pn//55eJD30qMKEKAGuTKtt0uGLtZXrX/8zjEExSozuF2CwwWpCHRHJhDZ0ojMIWjCwwCLEjEp+y+nadYByqVgWB0Xhd4HnXiUiKAMUbCJAzQUCJQHEiQ2tyd+twa////oAx4qgDCQhwQxKKckAZnuxOC/XudBeqsIE8Wj6CXJA25nsv/8zjEHxP59rlSa8Rdju5vMmIOn4+xcVlsMPW/EfC8Iagz0Q2y0U2RKDa/apjOopKq1H76LkfOJscSqibtu4KVVFGSiTaY5Dgoas8V3PTcOKbPNSs9LwvLlIcm+t40HR0WDowsVbqAbLMS2wL/8zjELhURMri2DhAW5vNa4u+K9qvi/xxYpE8m4ggqdiIKXpkU0PDSw7/TY9a////oKwZVQJ+eRuXCj3bzeOGdrEmh6joS3N6vVOs0aYNKwndHoY/DicMBFKRjBRLVYeFVdmOxj8mjNq3tSrD/8zjEOBUBbsGfTxgCXxLZie1BKn5YCqWNSVlYdiITFZ5fk6f////EjhSCMMUQSQMA6AO63Z3C1aQTmu7O+7r0a3fwdaPKx5n0AUgFWXvKZgggIYT4SBLfQmh03HKOMKmCXCTfjnOGiCKY3Bn/8zjEQyX7HpD1mGgAxtL50Rj+mm5LmBQHgqTCcXiRGv/mZuX1IFxFNMoj2KQ9iRKh4jsH3/9OfQY0MzcvqNDQtclk0USwyJcexdKH//un9vzQLwUCSRLxoeY0cxOC3//+Lg5RHGYySnBYkHL/8zjEChVBWsG/yUAAgBqDoDBgmCkaIxPUEp15Rfni93ondp3LwldhRoWE6ta4mivedxz2SIljKeOXykxUJJabemTB9h+kJUYwf6ccp5ZNxKL+hXduod1qJaWbkVKiACJTJVCzUtqdCxoF1Mj/8zjEFBSg0tpWFhgWyFO4uqxIuMMCabX9YHh/liSJSJhI2Iixx4cQrmhUd3CkV7Uq0vDBEBxG8s40xZccsWlLVNuGM///zSbZ6DT6lD+r65Rh8+o43C9CMD8WdshKclgrGwDhKPql4GRtNWX/8zjEIBUxGtGWewx2T2WIJ/+tE83vIo5Kmk1XdFHOySWvVfae9ZJTQTDwSBOAMqdKueIg85/8Pnif/lf///5+sH5IBADYBrH6oo9a9M+jrkk5bWJhVE4JAoiTniyr8sd88spMK0nq9heMxLP/8zjEKhR5qrV0wwp9+NXhnY8xhz81Z1/Oc6XXM1ERTmElchBJXJK//7zxQMSJEfeaUf5X+aJwz9WVX2FSWqKjQJ3nY0TWkONyDGD2PaPq9clN9tQX+Vj9QkwdTTihkAwAWg5UdEv8+c28Vxb/8zjENxQhtsCqDhYU/uLlnXDP0zM5dJl6BxilH64av7XHwCWM/qVqgpONLQuFbfh8iaBBRJzMgjwt7S4jAZU2XQLXdgDqBbEuOgHrZloju/JjvzjuY22mVv//9/LVWEXeZOn///X///////3/8zjERRRrPtZOewp3///686aCYCB9hMROugwCkSqGPFCxEAL8P9SDXVEB48WCWKjeY6vS7I3znOZEHdFwwADIAzvhGOqkABGk+urroRFe1PNzq+ccWx7jl1KOE0UB+yscCBwTn/7f0XMf////8zjEUhT5fsWOA8QeLiuvOuWySBSgYeuPZR0ca8+XGvkfItlZsdKAe6Pdrko7Uj4Nh16WThLMwIh+F9Wswn0Zv194rbNUk+R7//+ZSx/9yQyJEWJXF1k3IPpU5n/////gmmqmX4vVUUS5CHD/8zjEXRSp0wpeeEdqE44nVxIXsTw4Zxb3pjGEF1GwSsI+EGapCeBgJGsKlyHITWuu+fEVS4sRQWPStQ+WfWdLApFm3VEZd3jP+xf///+SLA0FagOQLwh+a/X5hx1YBSut3coNZ1PacNlQGK3/8zjEaRPQsuI2Cx4GddtYdk61ZmUOw0xg1C/5mPApErIr0azaUWqTe6y1GgkkQqXRHNof/+ouiZvc1qSa5rMn88vVkIqmAAv5UAH+y6A5VTdjIOKU7gMkp5sSx4EVAJgTnh9pmoUmjhuangn/8zjEeBQgrr3yBhgdqPkxE4Q2mJRgykVLLLvOH+2hlkeUJJ//MEg8glXrAFkVw4bNPTUleA6GZurUQckScwHwLGeTDPkwS5NK0RqLrFQscxJtZF04OKgo5by9/5NXtSUqEaQlneul7rdFT/r/8zjEhhSRftGWewZy6LpT/r+7OdxMO7oRmopZ2ee6jPCM45P/5DraXgxVguYqATdsSlN04A0baYcUR2Xk7CIDsGspD6YWGdhYzsAwBCqh0VQeOciPERgsYqFKllM9FZqt3Tfp/TKXKKlhUBD/8zjEkhQKVt1+WgTSdJI/URhqdv1pLG0//JFmiGKuFH3qKBE+ZHKqsArQGpwdxnSSCIhvUiYeFnciRggk9j9GEgD6KzxUCXDzFmF7JMyHm5RJI0j8mbKW6JosLUOcnmhNcpEmXXJM1NlmpkX/8zjEoBVZisS3TCgC5aSyRNlNzN1MnSLyZk5OLtfSvs7MOEYUvGymLxsu67ddadmQZNAT5JZiisxrRMUVutkv7O1boOhWa/rd3U+3+v7qene+pp9f//8pAAoq6rv89+9Ap042YvBYF6OBovf/8zjEqSU7JmABm2gApIj3CHc3L2Jqna6TDWUODvIZwAg6F2LG5Yu+qYxQ3g5c8xUKotTNzdkn5hmaKmCLiwtBJIMGEGJn3xSc0+LMzpyuGQS12XT6ZTCGWPXCexpOPmiDF7t7+5PrRTFT/0z/8zjEcyZLHqGVmFgAfXf8NcVnmtqZ7+N+w+989nE90OUUtVhsxM9bqVt09ffdnIGs/4uqAHc90NdnjGspUm8qGzHhgz3aekKtVgn+KWqXS6q9FDj8cv62Tyz3K4po/97uy3Y97GYJ6GcpB+//8zjEOCHaDrW/2GAA5k/ladrsVAnABAKDclHD5LQispJCdPLh+nusPCoVE8R0hLY3R7OrKSuhNMrE6G0eHZdSRFgqOvuD0oTwHq+jrh8AI/5n7/9B6ChsFBgMvdWAv4BMbHsuRxjxdkoFqZH/8zjEDxgJ7rD2eYbuEDtMRjfm4MaBK2uNdp2bUdl7mDokUvVo+E1SgXTTW1K5QC4EymRnLByDOAs5M1hm5WBUNSUmdS//hzjF9W4VVRgYCMVd/VZ9X/+SKsAoSUWNKhvQbAMcxRIDLDjKi5X/8zjEDRfJ4nhPWDAAA7Anwd+BGnNJjE3OWuVrW/7lvlPkxW1PbaLIkVHIxXeafnXG4StjXKJJbRKjo9V3zUQUJmWOJVX/nG395me1f/P2re9USCstKnfqyP7f/oyri1X+ysAkDd/1AMRWfxP/8zjEDBaLHqgBj1AASHoDklgFQvhV8kWwiTzH/sfJDQuUf+e5+w8ICAnb/0MmMilCorg3/9Xnu/Hg8JWLk1m//2XfzyxOQnI17HN//7Pb9uTKxzMi3Ylv///1KgHABdpFPF02sRRE5RxOTTH/8zjEEBTw5sI1z2AAc0JVzC3q/GHjZPEyr2ZkTjgwISJtWYUEAECyJDkBIkqFhRuo8caWcyf9R0UIG7U9vdaAnEySofo17ufu///Qpv/6tyokH8xG5ACTRoYw0b7Y5se2uMVJmfGJ6eCQjBj/8zjEGxSw9sQUewZcAcEIkodHVymJDTqVByJyxaSxAbx0FFgnIiPBO0EWpptssqgiEiIwaABn/WtHyaB5Y3///+OJMFattuaVI5fqLRIAq4LoLoMGuoJWeMfFF8w4rEIFUp+iqQqTY6ZIMfP/8zjEJxVBrvY+GkYaIvaW5pJl/8v8iH5fM5eBiI1Y4SGCsURoBAGz7DPPTxUUJiWdU/+qgXqarlk2GtZQYLZWQfMhYdZIzfBmI+NxHnIzPKGvIKktbGtVjR1npTldKVW7mFnqfReFOmv3yLb/8zjEMRUBstGWekZ2c46eLZj8yyfDOXYYYObA9QoCCrw2ddEv/Pq////BWwkJQ03FQvlmlFGOjmEb/joDPykbZCUuk9vh1HMAlXroTdBTVV5SWTS6pzvQFTYU2GPI+X/e/ft9D6hQKRw5U+//8zjEPBThqsmWYYbmDmYU+bScF6ShkT1Ag4i+l6P///8jWKjKFjlktO4D2VDMZERromvFXKRNHVDX8a2xTlKNMoUULLKyOV+0zqay+blKVisUvUrfRHMsz6t5W7L1ZDV9DOrcs3N+hgw4Ilv/8zjERxVKSsEXSRADFAmWY7/83esrv3U//fjVOIymB+j1UW5O6xMCcUKt+VCha5jxzyaHB1+QAnJGo9H4nc3FxuguZGLGP4XOCUCoZCgBwLIqamKJi6fbFrCw8W8D7cAq5SAFKi2pZiapL/r/8zjEUCQjJmABj5gAwN7QJDBvAOEUuAVQP+HTiCll/b6/+LIIgFhgXCB0gNnxtlwUGLnK4ao/////HAaiyBchEFm8iaSZTIObof//4RUW22221gJ20f5EnAxtKgaicIJWIt2qFJFN9LwZNT7/8zjEHhUigspfzygAb29Wde1rdE/2+v3fRv//+rFp3VhMisVtrelbIqFVN92RHN3MQxSDUVFKqtnBRIEizUFnJ57+pQWr8AgMfJynFhrF2d6sSgYzcfgSc1CFiYMryIjsn1i9hkPPZ/fKsq7/8zjEKBQRcrj0ekbUf9+28uSPwKEhAKCqJGDiFYmFIqC6685D4Rk7q7hwXFB09/feJ3L7OhXACr+7cGHYjjuuQzO+W08uNs1NhpNBBQoQvMeh+TDbJl91vPXNW8nom46JlQxOtAwq1ZxprKX/8zjENhRaDtGWWMVmYZHbU5SlN7f//zP82hnJDPCXSVDzFs////lh6oCCTI25brbRI4aHYDDqtJuiBGjOvCxri5KCR4IFa0Xtd6tDVgoeYnluRrU8yYNMW6BjzAlJFkArrKjB+zigwILaLvz/8zjEQxUQxt5eMdAK8Vaww3es+kmz4gOHGrCwALoqBevM2I0EN1RXtCTRzK3KJVKZDr4jSsuJkMBoSDD+qIQazW+X///pfgrr9f/Ns4tm96ZvneId9/OIn3jUdsmn97v5/ukCn3WPqPR4rIv/8zjETSNTRqQUeF7cEY2d+xzscaJDas3T5cxcy5oeSxrONWHIdCgo8EcDoPxNGmX810aPWsD0HSXM5yfhqybJVrUcqeM8k6sJ4WA/HCpSoBO1F+X3T/27v5UZueVPZ3Z/Wj0b+xzk7f69nrT/8zjEHhmLQqwAENnh9FvVWdVnkTCzXJe8GV0PxxzYoYWpeZmatwQx0OGm22k7RFXjpJAVWJSnGKE9SVgwKRbbL5MvK/yMjulD5ENxCiGKcQyKAknS1Y03JZNJG5AoO4edl+6UTZROMGOnCs3/8zjEFhSRNuJcGYYanXOfON9UlQwM2OdzvGvGoMWADdDT6zCAkQVmqpRxYQVd9AWxzIfW9rizNOZc9yWg2MsxKiImHRGKD+lKFWeIdvtdbYNY3IuIhZE/MIDYAkUbnScskZgiSgF2AQIHAHn/8zjEIhK5Wwr40JLX4dbi7zTIupg7spgeknotzqtdKXS2t6uxjYtryIAxFRi0bqya7bx6NfaW2OW4ECD/xWDHTL+soIy4yP1pHgsoYygbrePQXgp38hynqa1zytFMvZ5mj1fL0uiAoGdGFhL/8zjENhPRas4uwEbwOrJqEpxhClgGGDk7/UXSZLkxdk3/////eirAAb4CdAFQ4XraFwDK2AwPlx+uKoemgnD/CkXniJ+qPHbDJaXKsNIvkThwa0wPI1iCtjvq0v/S+N/OCmhI/yyOOnNt7V//8zjERRRBdsmWEwYZyQUEH2sd23/T+uT6CWqu3BR6oerwPtherCBxi5ksJIwkbnqZKHbZsmTnrWLyeaokk5suxxLVKkxcP1UgZZQz4SiRcAkZYGjUJhryqdcsR1xLYVWCoNSooz///ER5QSH/8zjEUxTZUsj2WYZ+9cALockklw5cIos6QKdh2eLE8sXbZXYmhLietQhCaTQW+P6u/7ynNEy/k+mdN7EpIREi5sea6eQkhBEoNDCmfVR4goE71AhJ4gd//P7Plg6qgJf/gY1BBuwig4HGk5j/8zjEXhPJhsmeYkZSSRFRKW5kBq1SEoM32XcgM7xtOUrnVcf+reYVRDjHUnn6eF+18xKyMyvPMr3TtRdcmUWLKcg4uPp/WaW99DYYKGEWul7BYzVuCiaHQqpqUWdCOKuUxfjuSDM4A94w+2P/8zjEbRRxlrTUawR80VWrmeU4aptbsGyurPtJ1ZX03St/++vRCHCEEAbkMAEAZQolCRR481/QNUO008h///ydsKl9pRR+1mHF64GLXBoG/gDMYIjDEKJDywWb6EzDVY7b96xqGTsQBhYX2sH/8zjEehNpns12YgS28PngKdAoAUQETwoPbdhowsVAYOiQBvV3tkbBeXD55Z83Bp6HbP//+GmBwyuACZgDyOS4MvwuKsYKrlKiSetiYT23j2ScTXI3hdbOW5lTIULDATI4zKn7yz52qiQr5yv/8zjEixUw7sT2ekpaBRJZDOj5pWZEQjn/0Sb//MZZRhYNQwN58osg5pG8r7QB2skQ64EI3mmhFEKLOOpiXk3DTUeiCFlfJeTY1s25c04qn0kOofOIxN8hWarbOyytc6QMhEEsWF1/tx1sF6r/8zjElRQ6VsDWYMTu/Lb+W/993RWJCq42/W6k1eplRyvzE5uAPgXAZOLDdMq1TS4QEmua1Wc0xrttVObzrztJWJ4LiNAiZh08kP8owR+VX//6lKFBQWh//9qeBXuQhV+qf/9dvL/+IhG1Jxb/8zjEoxUxbsWWeYpf36m5soMGkCAI5uAJ8JQGuRy81A9XCqOW3BQCEgo3SIBSNhJuSOSIoz/JGAaeJCTtpjgCYOIqq5//7Hut40Oa5ksYvh7a+v8NWY+CgaesNVo/CRJ0lq22uXS8YiAfuif/8zjErRS5Wso+SYSfgCjrrNqFJmLlgo+CRpEJKIkUA5wUbJtbMoxWignCR5Fi4Sop0YwEZKX+x/3CqTVmZjY8CJSwVcDT6QWeIhLQzWqrSHwZZMQJxppRQ7AYYIgqJQViZjCNwlO1HpFAaiX/8zjEuRSxyoWeYYZ8d7m3wp9QNFZGwNKUbkyPF2SSwEbpZZO2MaVM0RKdUWtegs+5aFUICDJAui3A0nSuYDoiSBxGkQIObitJUFd4xS+bxUyFfG1zpPVU6bfCyXIhKkGZwwyNaYo2mReZfsT/8zjExRHZbjwAYYZ8W1y/zMz3jmvqRJs3MSV8gU8gelsyP8rbKpw1TJoGusk6IiZbIGUrRA0Ib3oyS+E6GMediSmkAmEiViYSpRjxTk9VIzUlIKtWqlpIRKtSHTyUiBGZmZNsxyHmVe3T8j7/8zjE3BDoMigMekYAMxsvbxkhaQvYzvqpN86ZtwotzpS6J1SCPwa91DvPTNRdeI3d8MdAlzluwu3VVema4ABwJotk0JzQj7SKuhWU+bsmXkpUjs9obHsd/5maAzQKOQGyyCMyQ1GSG6LHR2f/8zjE9xk6shASeYYx7JHuUflGALEjo5yJ1pdTeLn8y6aU5Mrui9x7P1cF5uWonlthDofjkjAMmRUaiDJAqiSyNGolJFosSgqrs6xY1L+/+UNaX989nWClKLBVExqupMakGONRLNVi7OAoBOD/8zjE8RfKaggAeYYpLqTNVY42u2vrGBjMayrtqQZGNc8wtBn/lCxhTQZeosSqJtg4407GKNFFVUxBTUUzLjEwMFVVVVVVVVVVVVVVVVVVVVVVVVVVVVVVVVVVVVVVVVVVVVVVVVVVVVVVVVX/8zjE8BVy2hhUGEeNVVVVVVVVVVVVVVVVVVVVVVVVVVVVVVVVVVVVVVVVTEFNRTMuMTAwVVVVVVVVVVVVVVVVVVVVVVVVVVVVVVVVVVVVVVVVVVVVVVVVVVVVVVVVVVVVVVVVVVVVVVVVVVX/8zjE+RlSaeQAYYYZVVVVVVVVVVVVVVVVVVVVVVVVVVVVVVVVVVVVVVVVTEFNRTMuMTAwVVVVVVVVVVVVVVVVVVVVVVVVVVVVVVVVVVVVVVVVVVVVVVVVVVVVVVVVVVVVVVVVVVVVVVVVVVX/8zjEoAAAA0gAAAAAVVVVVVVVVVVVVVVVVVVVVVVVVVVVVVVVVVVVVVVVTEFNRTMuMTAwVVVVVVVVVVVVVVVVVVVVVVVVVVVVVVVVVVVVVVVVVVVVVVVVVVVVVVVVVVVVVVVVVVVVVVVVVVX/8zjEoAAAA0gAAAAAVVVVVVVVVVVVVVVVVVVVVVVVVVVVVVVVVVVVVVVVTEFNRTMuMTAwVVVVVVVVVVVVVVVVVVVVVVVVVVVVVVVVVVVVVVVVVVVVVVVVVVVVVVVVVVVVVVVVVVVVVVVVVVX/8zjEoAAAA0gAAAAAVVVVVVVVVVVVVVVVVVVVVVVVVVVVVVVVVVVVVVVVTEFNRTMuMTAwVVVVVVVVVVVVVVVVVVVVVVVVVVVVVVVVVVVVVVVVVVVVVVVVVVVVVVVVVVVVVVVVVVVVVVVVVVX/8zjEoAAAA0gAAAAAVVVVVVVVVVVVVVVVVVVVVVVVVVVVVVVVVVVVVVVVTEFNRTMuMTAwVVVVVVVVVVVVVVVVVVVVVVVVVVVVVVVVVVVVVVVVVVVVVVVVVVVVVVVVVVVVVVVVVVVVVVVVVVX/8zjEoAAAA0gAAAAAVVVVVVVVVVVVVVVVVVVVVVVVVVVVVVVVVVVVVVVVTEFNRTMuMTAwVVVVVVVVVVVVVVVVVVVVVVVVVVVVVVVVVVVVVVVVVVVVVVVVVVVVVVVVVVVVVVVVVVVVVVVVVVX/8zjEoAAAA0gAAAAAVVVVVVVVVVVVVVVVVVVVVVVVVVVVVVVVVVVVVVVVTEFNRTMuMTAwVVVVVVVVVVVVVVVVVVVVVVVVVVVVVVVVVVVVVVVVVVVVVVVVVVVVVVVVVVVVVVVVVVVVVVVVVVX/8zjEoAAAA0gAAAAAVVVVVVVVVVVVVVVVVVVVVVVVVVVVVVVVVVVVVVVVTEFNRTMuMTAwVVVVVVVVVVVVVVVVVVVVVVVVVVVVVVVVVVVVVVVVVVVVVVVVVVVVVVVVVVVVVVVVVVVVVVVVVVX/8zjEoAAAA0gAAAAAVVVVVVVVVVVVVVVVVVVVVVVVVVVVVVVVVVVVVVVVTEFNRTMuMTAwVVVVVVVVVVVVVVVVVVVVVVVVVVVVVVVVVVVVVVVVVVVVVVVVVVVVVVVVVVVVVVVVVVVVVVVVVVX/8zjEoAAAA0gAAAAAVVVVVVVVVVVVVVVVVVVVVVVVVVVVVVVVVVVVVVVVTEFNRTMuMTAwVVVVVVVVVVVVVVVVVVVVVVVVVVVVVVVVVVVVVVVVVVVVVVVVVVVVVVVVVVVVVVVVVVVVVVVVVVX/8zjEoAAAA0gAAAAAVVVVVVVVVVVVVVVVVVVVVVVVVVVVVVVVVVVVVVVVTEFNRTMuMTAwVVVVVVVVVVVVVVVVVVVVVVVVVVVVVVVVVVVVVVVVVVVVVVVVVVVVVVVVVVVVVVVVVVVVVVVVVVX/8zjEoAAAA0gAAAAAVVVVVVVVVVVVVVVVVVVVVVVVVVVVVVVVVVVVVVVVTEFNRTMuMTAwVVVVVVVVVVVVVVVVVVVVVVVVVVVVVVVVVVVVVVVVVVVVVVVVVVVVVVVVVVVVVVVVVVVVVVVVVVX/8zjEoAAAA0gAAAAAVVVVVVVVVVVVVVVVVVVVVVVVVVVVVVVVVVVVVVVVTEFNRTMuMTAwVVVVVVVVVVVVVVVVVVVVVVVVVVVVVVVVVVVVVVVVVVVVVVVVVVVVVVVVVVVVVVVVVVVVVVVVVVX/8zjEoAAAA0gAAAAAVVVVVVVVVVVVVVVVVVVVVVVVVVVVVVVVVVVVVVVVTEFNRTMuMTAwVVVVVVVVVVVVVVVVVVVVVVVVVVVVVVVVVVVVVVVVVVVVVVVVVVVVVVVVVVVVVVVVVVVVVVVVVVX/8zjEoAAAA0gAAAAAVVVVVVVVVVVVVVVVVVVVVVVVVVVVVVVVVVVVVVVVTEFNRTMuMTAwVVVVVVVVVVVVVVVVVVVVVVVVVVVVVVVVVVVVVVVVVVVVVVVVVVVVVVVVVVVVVVVVVVVVVVVVVVX/8zjEoAAAA0gAAAAAVVVVVVVVVVVVVVVVVVVVVVVVVVVVVVVVVVVVVVVVTEFNRTMuMTAwVVVVVVVVVVVVVVVVVVVVVVVVVVVVVVVVVVVVVVVVVVVVVVVVVVVVVVVVVVVVVVVVVVVVVVVVVVX/8zjEoAAAA0gAAAAAVVVVVVVVVVVVVVVVVVVVVVVVVVVVVVVVVVVVVVVVTEFNRTMuMTAwVVVVVVVVVVVVVVVVVVVVVVVVVVVVVVVVVVVVVVVVVVVVVVVVVVVVVVVVVVVVVVVVVVVVVVVVVVX/8zjEoAAAA0gAAAAAVVVVVVVVVVVVVVVVVVVVVVVVVVVVVVVVVVVVVVVVTEFNRTMuMTAwVVVVVVVVVVVVVVVVVVVVVVVVVVVVVVVVVVVVVVVVVVVVVVVVVVVVVVVVVVVVVVVVVVVVVVVVVVX/8zjEoAAAA0gAAAAAVVVVVVVVVVVVVVVVVVVVVVVVVVVVVVVVVVVVVVVVTEFNRTMuMTAwVVVVVVVVVVVVVVVVVVVVVVVVVVVVVVVVVVVVVVVVVVVVVVVVVVVVVVVVVVVVVVVVVVVVVVVVVVX/8zjEoAAAA0gAAAAAVVVVVVVVVVVVVVVVVVVVVVVVVVVVVVVVVVVVVVVVVVVVVVVVVVVVVVVVVVVVVVVVVVVVVVVVVVVVVVVVVVVVVVVVVVVVVVVVVVVVVVVVVVVVVVVVVVVVVVVVVVVVVVX/8zjEoAAAA0gAAAAAVVVVVVVVVVVVVVVVVVVVVVVVVVVVVVVVVVVVVVVVVVVVVVVVVVVVVVVVVVVVVVVVVVVVVVVVVVVVVVVVVVVVVVVVVVVVVVVVVVVVVVVVVVVVVVVVVVVVVVVVVVVVVVU=\" type=\"audio/mpeg\"/>\n",
       "                        Your browser does not support the audio element.\n",
       "                    </audio>\n",
       "                  "
      ],
      "text/plain": [
       "<pydub.audio_segment.AudioSegment at 0x1a61837d2d0>"
      ]
     },
     "execution_count": 324,
     "metadata": {},
     "output_type": "execute_result"
    }
   ],
   "source": [
    "from src.audio_generation import text_to_speech\n",
    "\n",
    "text_to_speech(\"Hej! Hur mår du idag? Jag hoppas att allt är bra med dig. Det är en vacker dag ute, och jag tänkte ta en promenad i parken senare.\", config_language=\"target\", gender=\"MALE\")"
   ]
  },
  {
   "cell_type": "code",
   "execution_count": 325,
   "metadata": {},
   "outputs": [
    {
     "name": "stdout",
     "output_type": "stream",
     "text": [
      "About to generate story_midnight_garden_mystery\n"
     ]
    }
   ],
   "source": [
    "clean_story_name = \"story_midnight_garden_mystery\"\n",
    "# story_workplace_stress_vacation \n",
    "# story_unexpected_music_project\n",
    "# story_rainy_football_match \n",
    "# story_unexpected_train_adventure \n",
    "# story_unexpected_marathon_adventure\n",
    "# story_sunset_wedding_blues \n",
    "# story_unexpected_wedding_guests \n",
    "# story_unexpected_career_change\n",
    "# story_unexpected_coffee_adventure\n",
    "# story_unexpected_movie_adventure\n",
    "# story_surprise_hospital_adventure\n",
    "# story_unexpected_power_outage\n",
    "\n",
    "print(f\"About to generate {clean_story_name}\")"
   ]
  },
  {
   "cell_type": "code",
   "execution_count": 326,
   "metadata": {},
   "outputs": [],
   "source": [
    "story_path = story_dir / clean_story_name / f\"{clean_story_name}.json\"\n",
    "story_dialogue = load_json(story_path)"
   ]
  },
  {
   "cell_type": "code",
   "execution_count": 327,
   "metadata": {},
   "outputs": [
    {
     "name": "stderr",
     "output_type": "stream",
     "text": [
      "adding translations:   0%|          | 0/3 [00:00<?, ?it/s]"
     ]
    },
    {
     "name": "stdout",
     "output_type": "stream",
     "text": [
      "Beginning translation for introduction\n"
     ]
    },
    {
     "name": "stderr",
     "output_type": "stream",
     "text": [
      "adding translations:  33%|███▎      | 1/3 [00:01<00:03,  1.98s/it]"
     ]
    },
    {
     "name": "stdout",
     "output_type": "stream",
     "text": [
      "Translated dialogue\n",
      "Beginning translation for development\n"
     ]
    },
    {
     "name": "stderr",
     "output_type": "stream",
     "text": [
      "adding translations:  67%|██████▋   | 2/3 [00:03<00:01,  1.94s/it]"
     ]
    },
    {
     "name": "stdout",
     "output_type": "stream",
     "text": [
      "Translated dialogue\n",
      "Beginning translation for resolution\n"
     ]
    },
    {
     "name": "stderr",
     "output_type": "stream",
     "text": [
      "adding translations: 100%|██████████| 3/3 [00:05<00:00,  1.97s/it]\n"
     ]
    },
    {
     "name": "stdout",
     "output_type": "stream",
     "text": [
      "Translated dialogue\n"
     ]
    },
    {
     "name": "stderr",
     "output_type": "stream",
     "text": [
      "adding audio:   0%|          | 0/3 [00:00<?, ?it/s]"
     ]
    },
    {
     "name": "stdout",
     "output_type": "stream",
     "text": [
      "Beginning text-to-speech for introduction\n"
     ]
    },
    {
     "name": "stderr",
     "output_type": "stream",
     "text": [
      "Generating dialogue audio: 100%|██████████| 8/8 [00:08<00:00,  1.06s/it]\n",
      "adding audio:  33%|███▎      | 1/3 [00:23<00:47, 23.89s/it]"
     ]
    },
    {
     "name": "stdout",
     "output_type": "stream",
     "text": [
      "Text-to-speech for dialogue done\n",
      "Beginning text-to-speech for development\n"
     ]
    },
    {
     "name": "stderr",
     "output_type": "stream",
     "text": [
      "Generating dialogue audio: 100%|██████████| 10/10 [00:12<00:00,  1.23s/it]\n",
      "adding audio:  67%|██████▋   | 2/3 [00:36<00:17, 17.29s/it]"
     ]
    },
    {
     "name": "stdout",
     "output_type": "stream",
     "text": [
      "Text-to-speech for dialogue done\n",
      "Beginning text-to-speech for resolution\n"
     ]
    },
    {
     "name": "stderr",
     "output_type": "stream",
     "text": [
      "Generating dialogue audio: 100%|██████████| 9/9 [00:10<00:00,  1.13s/it]\n",
      "adding audio: 100%|██████████| 3/3 [00:47<00:00, 15.70s/it]"
     ]
    },
    {
     "name": "stdout",
     "output_type": "stream",
     "text": [
      "Text-to-speech for dialogue done\n"
     ]
    },
    {
     "name": "stderr",
     "output_type": "stream",
     "text": [
      "\n"
     ]
    }
   ],
   "source": [
    "from src.generate import add_audio, add_translations\n",
    "\n",
    "story_dialogue_audio = add_translations(story_dialogue)\n",
    "story_dialogue_audio = add_audio(story_dialogue_audio)"
   ]
  },
  {
   "cell_type": "code",
   "execution_count": 328,
   "metadata": {},
   "outputs": [],
   "source": [
    "#this has target language content in now so we save in language dir\n",
    "save_pickle(data=story_dialogue_audio, file_path=story_dir / clean_story_name / config.TARGET_LANGUAGE_NAME / f\"{clean_story_name}.pkl\")\n",
    "#story_dialogue_audio = load_pickle(story_dir / clean_story_name / config.TARGET_LANGUAGE_NAME / f\"{clean_story_name}.pkl\")"
   ]
  },
  {
   "cell_type": "markdown",
   "metadata": {},
   "source": [
    "Image files for each part of the story:"
   ]
  },
  {
   "cell_type": "code",
   "execution_count": 329,
   "metadata": {},
   "outputs": [
    {
     "name": "stderr",
     "output_type": "stream",
     "text": [
      "Generating story images:   0%|          | 0/3 [00:00<?, ?it/s]"
     ]
    },
    {
     "name": "stdout",
     "output_type": "stream",
     "text": [
      "Function that called this one: create_image_generation_prompt_for_story_part. Sleeping for 20 seconds\n"
     ]
    },
    {
     "name": "stderr",
     "output_type": "stream",
     "text": [
      "Waiting for API cooldown: 100%|\u001b[34m████████████\u001b[0m| 19/19 [00:19<00:00,  1.01s/it]\u001b[0m\n",
      "Waiting for API cooldown: 100%|\u001b[34m████████████\u001b[0m| 15/15 [00:15<00:00,  1.01s/it]\u001b[0m\n"
     ]
    },
    {
     "name": "stdout",
     "output_type": "stream",
     "text": [
      "No image generated using imagen-3.0-generate-001 with prompt: Interior of a bright, welcoming community center lobby with colorful posters advertising music classes, a reception desk with flyers, and glimpses of practice rooms through open doors, sunlight streaming through large windows, creating a warm and inviting atmosphere in the style of Studio Ghibli art style, soft atmospheric colors, detailed backgrounds, gentle gradients, natural elements, dreamy lighting, painted textures\n"
     ]
    },
    {
     "name": "stderr",
     "output_type": "stream",
     "text": [
      "Waiting for API cooldown: 100%|\u001b[34m██████████████\u001b[0m| 8/8 [00:08<00:00,  1.01s/it]\u001b[0m\n",
      "Generating story images:  33%|███▎      | 1/3 [01:02<02:04, 62.24s/it]"
     ]
    },
    {
     "name": "stdout",
     "output_type": "stream",
     "text": [
      "Generated image with deepai using prompt: Interior of a bright, welcoming community center lobby with colorful posters advertising music classes, a reception desk with flyers, and glimpses of practice rooms through open doors, sunlight streaming through large windows, creating a warm and inviting atmosphere in the style of Studio Ghibli art style, soft atmospheric colors, detailed backgrounds, gentle gradients, natural elements, dreamy lighting, painted textures\n",
      "Successfully generated and saved image for introduction\n"
     ]
    },
    {
     "name": "stderr",
     "output_type": "stream",
     "text": [
      "Waiting for API cooldown: 100%|\u001b[34m████████████\u001b[0m| 15/15 [00:15<00:00,  1.01s/it]\u001b[0m\n"
     ]
    },
    {
     "name": "stdout",
     "output_type": "stream",
     "text": [
      "Function that called this one: create_image_generation_prompt_for_story_part. Sleeping for 20 seconds\n"
     ]
    },
    {
     "name": "stderr",
     "output_type": "stream",
     "text": [
      "Waiting for API cooldown: 100%|\u001b[34m████████████\u001b[0m| 19/19 [00:19<00:00,  1.01s/it]\u001b[0m\n",
      "Waiting for API cooldown: 100%|\u001b[34m████████████\u001b[0m| 15/15 [00:15<00:00,  1.01s/it]\u001b[0m\n",
      "Generating story images:  67%|██████▋   | 2/3 [02:07<01:03, 63.74s/it]"
     ]
    },
    {
     "name": "stdout",
     "output_type": "stream",
     "text": [
      "Generated image with imagen using prompt: Late evening view of a dimly lit dorm room or small apartment, desk cluttered with school materials and open textbooks, a laptop glowing in the foreground, scattered sticky notes on a corkboard, and a window revealing city lights in the distance, creating an atmosphere of urgency and academic stress in the style of Studio Ghibli art style, soft atmospheric colors, detailed backgrounds, gentle gradients, natural elements, dreamy lighting, painted textures\n",
      "Successfully generated and saved image for development\n"
     ]
    },
    {
     "name": "stderr",
     "output_type": "stream",
     "text": [
      "Waiting for API cooldown: 100%|\u001b[34m██████████████\u001b[0m| 8/8 [00:08<00:00,  1.01s/it]\u001b[0m\n"
     ]
    },
    {
     "name": "stdout",
     "output_type": "stream",
     "text": [
      "Function that called this one: create_image_generation_prompt_for_story_part. Sleeping for 20 seconds\n"
     ]
    },
    {
     "name": "stderr",
     "output_type": "stream",
     "text": [
      "Waiting for API cooldown: 100%|\u001b[34m████████████\u001b[0m| 19/19 [00:19<00:00,  1.01s/it]\u001b[0m\n",
      "Waiting for API cooldown: 100%|\u001b[34m████████████\u001b[0m| 16/16 [00:16<00:00,  1.01s/it]\u001b[0m\n",
      "Generating story images: 100%|██████████| 3/3 [03:05<00:00, 61.80s/it]"
     ]
    },
    {
     "name": "stdout",
     "output_type": "stream",
     "text": [
      "Generated image with imagen using prompt: View of a cheerful classroom after school hours, soft afternoon light filtering through colorful curtains, children's artwork and French vocabulary posters adorning the walls, scattered musical instruments and rain-making props on desks, an atmosphere of accomplishment and creativity lingering in the air in the style of Studio Ghibli art style, soft atmospheric colors, detailed backgrounds, gentle gradients, natural elements, dreamy lighting, painted textures\n",
      "Successfully generated and saved image for resolution\n"
     ]
    },
    {
     "name": "stderr",
     "output_type": "stream",
     "text": [
      "\n"
     ]
    }
   ],
   "source": [
    "from src.images import generate_and_save_story_images\n",
    "    \n",
    "image_data = generate_and_save_story_images(story_dict=story_dialogue_audio, output_dir = story_dir / clean_story_name, story_name=clean_story_name)\n"
   ]
  },
  {
   "cell_type": "markdown",
   "metadata": {},
   "source": [
    "M4A audio files which you will be able to download and play via a media player.\n",
    "They have synced lyrics which can be viewed in the Oto Music Player app"
   ]
  },
  {
   "cell_type": "code",
   "execution_count": 330,
   "metadata": {},
   "outputs": [
    {
     "name": "stderr",
     "output_type": "stream",
     "text": [
      "creating album:  33%|███▎      | 1/3 [00:01<00:03,  1.96s/it]"
     ]
    },
    {
     "name": "stdout",
     "output_type": "stream",
     "text": [
      "Saved M4A file track number 1\n"
     ]
    },
    {
     "name": "stderr",
     "output_type": "stream",
     "text": [
      "creating album:  67%|██████▋   | 2/3 [00:04<00:02,  2.53s/it]"
     ]
    },
    {
     "name": "stdout",
     "output_type": "stream",
     "text": [
      "Saved M4A file track number 2\n"
     ]
    },
    {
     "name": "stderr",
     "output_type": "stream",
     "text": [
      "creating album: 100%|██████████| 3/3 [00:07<00:00,  2.53s/it]"
     ]
    },
    {
     "name": "stdout",
     "output_type": "stream",
     "text": [
      "Saved M4A file track number 3\n"
     ]
    },
    {
     "name": "stderr",
     "output_type": "stream",
     "text": [
      "\n"
     ]
    }
   ],
   "source": [
    "from PIL import Image\n",
    "from src.story import create_album_files, generate_index_html\n",
    "\n",
    "FIRST_STORY_PART = list(story_dialogue_audio.keys())[0]\n",
    "#may need to change depending on size of story made and what parts there are\n",
    "album_image = Image.open(story_dir / clean_story_name / f\"{clean_story_name}_{FIRST_STORY_PART}.png\")\n",
    "#create m4a file:\n",
    "create_album_files(story_data_dict=story_dialogue_audio, cover_image=album_image, output_dir=story_dir / clean_story_name / config.TARGET_LANGUAGE_NAME, story_name=clean_story_name)"
   ]
  },
  {
   "cell_type": "markdown",
   "metadata": {},
   "source": [
    "Now we generate the main html file - this wraps up the M4A files and image files within it, so it's self-contained"
   ]
  },
  {
   "cell_type": "code",
   "execution_count": null,
   "metadata": {},
   "outputs": [
    {
     "name": "stderr",
     "output_type": "stream",
     "text": [
      "Preparing HTML data:  33%|███▎      | 1/3 [01:51<03:42, 111.37s/it]"
     ]
    }
   ],
   "source": [
    "from src.story import create_html_story\n",
    "\n",
    "create_html_story(\n",
    "            story_data_dict=story_dialogue_audio,\n",
    "            image_dir=story_dir / clean_story_name, #the langauge sub-folders will be picked up automatically\n",
    "            story_name=clean_story_name,\n",
    "        )"
   ]
  },
  {
   "cell_type": "markdown",
   "metadata": {},
   "source": [
    "Upload to a public google cloud bucket"
   ]
  },
  {
   "cell_type": "code",
   "execution_count": null,
   "metadata": {},
   "outputs": [
    {
     "data": {
      "text/plain": [
       "'https://storage.googleapis.com/audio-language-trainer-stories/swedish/story_birthday_party_planning_mishap/story_birthday_party_planning_mishap.html'"
      ]
     },
     "execution_count": 30,
     "metadata": {},
     "output_type": "execute_result"
    }
   ],
   "source": [
    "html_story_path = story_dir / clean_story_name / config.TARGET_LANGUAGE_NAME / f\"{clean_story_name}.html\"\n",
    "assert html_story_path.exists()\n",
    "upload_story_to_gcs(html_file_path=html_story_path)"
   ]
  },
  {
   "cell_type": "markdown",
   "metadata": {},
   "source": [
    "Now update and reupload our index.html - which allows users to navigate all the stories"
   ]
  },
  {
   "cell_type": "code",
   "execution_count": null,
   "metadata": {},
   "outputs": [
    {
     "data": {
      "text/plain": [
       "'https://storage.googleapis.com/audio-language-trainer-stories/index.html'"
      ]
     },
     "execution_count": 25,
     "metadata": {},
     "output_type": "execute_result"
    }
   ],
   "source": [
    "generate_index_html()\n",
    "#will default to public GCS bucket\n",
    "upload_to_gcs(\n",
    "    file_path=\"../outputs/stories/index.html\",\n",
    "    content_type=\"text/html\"\n",
    ")\n"
   ]
  },
  {
   "cell_type": "markdown",
   "metadata": {},
   "source": []
  }
 ],
 "metadata": {
  "kernelspec": {
   "display_name": ".venv",
   "language": "python",
   "name": "python3"
  },
  "language_info": {
   "codemirror_mode": {
    "name": "ipython",
    "version": 3
   },
   "file_extension": ".py",
   "mimetype": "text/x-python",
   "name": "python",
   "nbconvert_exporter": "python",
   "pygments_lexer": "ipython3",
   "version": "3.11.4"
  }
 },
 "nbformat": 4,
 "nbformat_minor": 2
}
