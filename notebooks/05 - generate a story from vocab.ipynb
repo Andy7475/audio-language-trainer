{
 "cells": [
  {
   "cell_type": "markdown",
   "metadata": {},
   "source": [
    "# Story Generation\n",
    "We remember things better as stories. The plan here is to pick a subset of our phrases, extract the vocabularly, and generate a story based off of them. We can then pull in more flashcards / phrases to ensure a more complete phrase coverage.\n",
    "\n",
    "The story name will be story_some_title; when added as a 'tag' into Anki, this will add a hyperlink to a google cloud bucket of a specific format of bucket/language/story_name/story_name.html\n",
    "\n",
    "This means it is easy to add new stories to an existing flashcard deck, and the links will update as soon as you add the tags"
   ]
  },
  {
   "cell_type": "code",
   "execution_count": 29,
   "metadata": {},
   "outputs": [
    {
     "name": "stdout",
     "output_type": "stream",
     "text": [
      "The autoreload extension is already loaded. To reload it, use:\n",
      "  %reload_ext autoreload\n"
     ]
    }
   ],
   "source": [
    "%load_ext autoreload\n",
    "%autoreload 2\n",
    "from dotenv import load_dotenv\n",
    "load_dotenv()\n",
    "\n",
    "PAY_FOR_API = True #change to True to run cells that cost money via API calls"
   ]
  },
  {
   "cell_type": "code",
   "execution_count": 30,
   "metadata": {},
   "outputs": [],
   "source": [
    "import random\n",
    "from pathlib import Path\n",
    "from pprint import pprint\n",
    "from src.config_loader import config\n",
    "from src.nlp import (\n",
    "    create_flashcard_index,\n",
    "    get_vocab_dict_from_dialogue,\n",
    "    get_vocab_dictionary_from_phrases,\n",
    "    find_missing_vocabulary,\n",
    ")\n",
    "from src.utils import load_json, load_text_file, save_json, save_pickle, upload_to_gcs\n",
    "from src.anki_tools import get_deck_contents, AnkiCollectionReader\n",
    "# Add the parent directory of 'src' to the Python path\n"
   ]
  },
  {
   "cell_type": "markdown",
   "metadata": {},
   "source": [
    "### Add directories\n",
    "story images can be re-used between languages, but audio files are language specific, so we structure the story directory story_name/language with audio files in 'language/' and images and the english JSON file in story_name dir"
   ]
  },
  {
   "cell_type": "code",
   "execution_count": 3,
   "metadata": {},
   "outputs": [],
   "source": [
    "notebook_dir = Path().absolute()  # This gives src/notebooks\n",
    "phrase_dir = notebook_dir.parent / \"data\" / \"phrases\" #where we store text files of phrases\n",
    "story_dir = notebook_dir.parent / \"outputs\" / \"stories\" # where we store our stories"
   ]
  },
  {
   "cell_type": "markdown",
   "metadata": {},
   "source": [
    "we already have flashcards generated for some phrases:\n",
    "a flashcard index allows us to select flashcards that cover a specific vocabulary range, it's quite computationally expensive, but is generated\n",
    "using create_flashcard_index"
   ]
  },
  {
   "cell_type": "code",
   "execution_count": 4,
   "metadata": {},
   "outputs": [
    {
     "name": "stdout",
     "output_type": "stream",
     "text": [
      "(\"First few phrases ['Do you want to become a famous writer?', 'Let me show \"\n",
      " \"you around the city', 'We need to handle this situation carefully', 'Stop \"\n",
      " 'wasting time on this\\', \\'Do you like playing the guitar at night?\\', \"I\\'m '\n",
      " 'taking a vacation next month\", \"Don\\'t forget to wear a helmet while '\n",
      " 'cycling\", \"Let\\'s cut unnecessary expenses this year\", \"We\\'re producing a '\n",
      " 'new product soon\", \\'Did you remember to turn off the stove?\\']')\n"
     ]
    }
   ],
   "source": [
    "PHRASE_LIST_NAME = \"longman_1000_phrases\"\n",
    "phrase_file = phrase_dir / f\"{PHRASE_LIST_NAME}.txt\"\n",
    "phrases = load_text_file(phrase_file)\n",
    "pprint(f\"First few phrases {phrases[:10]}\")\n",
    "\n"
   ]
  },
  {
   "cell_type": "markdown",
   "metadata": {},
   "source": [
    "## create the flashcard index\n",
    "This makes it very fast to find matching flashcards from a given vocab list"
   ]
  },
  {
   "cell_type": "code",
   "execution_count": 5,
   "metadata": {},
   "outputs": [],
   "source": [
    "# long process, so only create if it doesn't exist\n",
    "notebook_dir = Path().absolute()  # This gives src/notebooks\n",
    "index_file = phrase_dir / f\"{PHRASE_LIST_NAME}_index.json\"\n",
    "\n",
    "if index_file.exists():\n",
    "    phrase_index = load_json(index_file)\n",
    "else:\n",
    "    phrase_index = create_flashcard_index(phrases)\n",
    "    save_json(data=phrase_index, file_path=index_file)\n",
    "\n"
   ]
  },
  {
   "cell_type": "markdown",
   "metadata": {},
   "source": [
    "## Sample some phrases to generate the story from\n",
    "This will pin the story to the vocab found in some pre-existing phrases"
   ]
  },
  {
   "cell_type": "code",
   "execution_count": 6,
   "metadata": {},
   "outputs": [
    {
     "name": "stdout",
     "output_type": "stream",
     "text": [
      "{1: 'Default',\n",
      " 1731524665442: 'Swedish EAL',\n",
      " 1732020971325: 'RapidRetention - Swedish - LM1000',\n",
      " 1732309563077: 'RapidRetention - Dutch - LM1000',\n",
      " 1732312948269: 'RapidRetention - German - LM1000',\n",
      " 1732313960891: 'RapidRetention - Arabic - LM1000',\n",
      " 1732314196963: 'RapidRetention - Spanish - LM1000',\n",
      " 1732314413500: 'RapidRetention - Japanese - LM1000',\n",
      " 1732316149591: 'RapidRetention - Russian - LM1000',\n",
      " 1732316158895: 'RapidRetention - Basque - LM1000',\n",
      " 1732316821915: 'RapidRetention - French - LM1000',\n",
      " 1732316936163: 'RapidRetention - Italian - LM1000',\n",
      " 1732460522330: 'RapidRetention - Persian - LM1000',\n",
      " 1732465028917: 'RapidRetention - Mandarin Chinese - LM1000',\n",
      " 1732637740663: 'RapidRetention - Welsh - LM1000',\n",
      " 1732980361514: 'RapidRetention - Russian - GCSE',\n",
      " 1732993700879: 'Persian Alphabet',\n",
      " 1733170456922: 'RapidRetention - Swedish - GCSE',\n",
      " 1733171641992: 'RapidRetention - Mandarin Chinese - GCSE',\n",
      " 1734260227418: 'RapidRetention - Swedish - NumbersDays',\n",
      " 1734261644938: 'RapidRetention - Russian - NumbersDays',\n",
      " 1734264578929: 'RapidRetention - Italian - NumbersDays',\n",
      " 1734267010699: 'RapidRetention - Ukrainian - NumbersDays',\n",
      " 1734280740510: 'community park',\n",
      " 1734426251278: 'RapidRetention - French - NumbersDays',\n",
      " 1735389198316: 'Swedish Copy Test',\n",
      " 1735660105659: 'RapidRetention - Swedish - EatingOut',\n",
      " 1735671007986: 'Custom study session',\n",
      " 1735684325990: 'RapidRetention - Czech - EatingOut',\n",
      " 1735687489606: 'RapidRetention - Welsh - EatingOut'}\n"
     ]
    }
   ],
   "source": [
    "#we can obtain phrases we know to create a story from:\n",
    "# NOTE: you must close Anki Desktop when trying to form a connection here\n",
    "with AnkiCollectionReader() as reader:\n",
    "    pprint(reader.get_deck_names())\n",
    "\n",
    "#this will print out deck_id : deck_name -> we want to copy the relevant deck_name"
   ]
  },
  {
   "cell_type": "code",
   "execution_count": 7,
   "metadata": {},
   "outputs": [
    {
     "data": {
      "text/html": [
       "<div>\n",
       "<style scoped>\n",
       "    .dataframe tbody tr th:only-of-type {\n",
       "        vertical-align: middle;\n",
       "    }\n",
       "\n",
       "    .dataframe tbody tr th {\n",
       "        vertical-align: top;\n",
       "    }\n",
       "\n",
       "    .dataframe thead th {\n",
       "        text-align: right;\n",
       "    }\n",
       "</style>\n",
       "<table border=\"1\" class=\"dataframe\">\n",
       "  <thead>\n",
       "    <tr style=\"text-align: right;\">\n",
       "      <th></th>\n",
       "      <th>note_id</th>\n",
       "      <th>model_name</th>\n",
       "      <th>tags</th>\n",
       "      <th>n_cards</th>\n",
       "      <th>avg_ease</th>\n",
       "      <th>total_reps</th>\n",
       "      <th>avg_reps</th>\n",
       "      <th>total_lapses</th>\n",
       "      <th>avg_lapses</th>\n",
       "      <th>avg_interval</th>\n",
       "      <th>TargetText</th>\n",
       "      <th>TargetAudio</th>\n",
       "      <th>TargetAudioSlow</th>\n",
       "      <th>EnglishText</th>\n",
       "      <th>WiktionaryLinks</th>\n",
       "      <th>Picture</th>\n",
       "      <th>TargetLanguageName</th>\n",
       "      <th>knowledge_score</th>\n",
       "    </tr>\n",
       "  </thead>\n",
       "  <tbody>\n",
       "    <tr>\n",
       "      <th>0</th>\n",
       "      <td>1732020511348</td>\n",
       "      <td>Language Practice With Images</td>\n",
       "      <td></td>\n",
       "      <td>3</td>\n",
       "      <td>0.0</td>\n",
       "      <td>0</td>\n",
       "      <td>0.0</td>\n",
       "      <td>0</td>\n",
       "      <td>0.0</td>\n",
       "      <td>0.0</td>\n",
       "      <td>Var mer uppmärksam på detaljer</td>\n",
       "      <td>[sound:a821f020-5a84-44fb-af42-c6c4133e4379.mp3]</td>\n",
       "      <td>[sound:3d6997c2-92c7-43c9-b31e-a20cc4f0bf9e.mp3]</td>\n",
       "      <td>Pay more attention to details</td>\n",
       "      <td>&lt;a href=\"https://en.wiktionary.org/wiki/var#Sw...</td>\n",
       "      <td>&lt;img src=\"f7153993-cfee-40f4-841c-1bd6cfaeb5a9...</td>\n",
       "      <td>Swedish</td>\n",
       "      <td>0.000</td>\n",
       "    </tr>\n",
       "    <tr>\n",
       "      <th>1</th>\n",
       "      <td>1732020511352</td>\n",
       "      <td>Language Practice With Images</td>\n",
       "      <td></td>\n",
       "      <td>3</td>\n",
       "      <td>270.0</td>\n",
       "      <td>13</td>\n",
       "      <td>4.3</td>\n",
       "      <td>0</td>\n",
       "      <td>0.0</td>\n",
       "      <td>51.3</td>\n",
       "      <td>Kommer kunden att känna igen mig?</td>\n",
       "      <td>[sound:fa15b936-ef4e-44d5-932d-e94a6b477c9d.mp3]</td>\n",
       "      <td>[sound:79a26555-55ef-43d6-a9ca-6ee02ade7721.mp3]</td>\n",
       "      <td>Will the customer recognize me?</td>\n",
       "      <td>&lt;a href=\"https://en.wiktionary.org/wiki/kommer...</td>\n",
       "      <td>&lt;img src=\"cd5e83e4-813e-4097-962a-cf536f866e99...</td>\n",
       "      <td>Swedish</td>\n",
       "      <td>0.369</td>\n",
       "    </tr>\n",
       "    <tr>\n",
       "      <th>2</th>\n",
       "      <td>1732020511356</td>\n",
       "      <td>Language Practice With Images</td>\n",
       "      <td></td>\n",
       "      <td>3</td>\n",
       "      <td>78.3</td>\n",
       "      <td>4</td>\n",
       "      <td>1.3</td>\n",
       "      <td>0</td>\n",
       "      <td>0.0</td>\n",
       "      <td>7.0</td>\n",
       "      <td>Vänligen svara ärligt på alla frågor</td>\n",
       "      <td>[sound:f54483fc-3303-427d-acef-6710ae244bc9.mp3]</td>\n",
       "      <td>[sound:41c55da5-347a-4d0b-b6c8-40b27b46c1b9.mp3]</td>\n",
       "      <td>Please answer all questions honestly</td>\n",
       "      <td>&lt;a href=\"https://en.wiktionary.org/wiki/v%C3%A...</td>\n",
       "      <td>&lt;img src=\"1a6640ec-fe2d-4808-b638-33a38b694224...</td>\n",
       "      <td>Swedish</td>\n",
       "      <td>0.314</td>\n",
       "    </tr>\n",
       "    <tr>\n",
       "      <th>3</th>\n",
       "      <td>1732020511360</td>\n",
       "      <td>Language Practice With Images</td>\n",
       "      <td></td>\n",
       "      <td>3</td>\n",
       "      <td>0.0</td>\n",
       "      <td>0</td>\n",
       "      <td>0.0</td>\n",
       "      <td>0</td>\n",
       "      <td>0.0</td>\n",
       "      <td>0.0</td>\n",
       "      <td>Sluta slösa tid på detta</td>\n",
       "      <td>[sound:b34a331b-6dd9-44a2-a588-f92be1b11d06.mp3]</td>\n",
       "      <td>[sound:a1a6714c-9bfd-4cd7-b30e-1a209c0ab42b.mp3]</td>\n",
       "      <td>Stop wasting time on this</td>\n",
       "      <td>&lt;a href=\"https://en.wiktionary.org/wiki/sluta#...</td>\n",
       "      <td>&lt;img src=\"8de5a6d3-b10c-45ea-860c-512cc2673be7...</td>\n",
       "      <td>Swedish</td>\n",
       "      <td>0.000</td>\n",
       "    </tr>\n",
       "    <tr>\n",
       "      <th>4</th>\n",
       "      <td>1732020511364</td>\n",
       "      <td>Language Practice With Images</td>\n",
       "      <td></td>\n",
       "      <td>3</td>\n",
       "      <td>255.0</td>\n",
       "      <td>10</td>\n",
       "      <td>3.3</td>\n",
       "      <td>0</td>\n",
       "      <td>0.0</td>\n",
       "      <td>37.3</td>\n",
       "      <td>Vi producerar en ny produkt snart</td>\n",
       "      <td>[sound:10281f18-fddc-4a69-ab7b-6098f63b948f.mp3]</td>\n",
       "      <td>[sound:0e472f07-e35b-4ab0-9161-e0a1474c6e34.mp3]</td>\n",
       "      <td>We're producing a new product soon</td>\n",
       "      <td>&lt;a href=\"https://en.wiktionary.org/wiki/vi#Swe...</td>\n",
       "      <td>&lt;img src=\"329bfcb3-7cb4-4174-923f-567a1bfe7ec9...</td>\n",
       "      <td>Swedish</td>\n",
       "      <td>0.353</td>\n",
       "    </tr>\n",
       "  </tbody>\n",
       "</table>\n",
       "</div>"
      ],
      "text/plain": [
       "         note_id                     model_name tags  n_cards  avg_ease  \\\n",
       "0  1732020511348  Language Practice With Images             3       0.0   \n",
       "1  1732020511352  Language Practice With Images             3     270.0   \n",
       "2  1732020511356  Language Practice With Images             3      78.3   \n",
       "3  1732020511360  Language Practice With Images             3       0.0   \n",
       "4  1732020511364  Language Practice With Images             3     255.0   \n",
       "\n",
       "   total_reps  avg_reps  total_lapses  avg_lapses  avg_interval  \\\n",
       "0           0       0.0             0         0.0           0.0   \n",
       "1          13       4.3             0         0.0          51.3   \n",
       "2           4       1.3             0         0.0           7.0   \n",
       "3           0       0.0             0         0.0           0.0   \n",
       "4          10       3.3             0         0.0          37.3   \n",
       "\n",
       "                             TargetText  \\\n",
       "0        Var mer uppmärksam på detaljer   \n",
       "1     Kommer kunden att känna igen mig?   \n",
       "2  Vänligen svara ärligt på alla frågor   \n",
       "3              Sluta slösa tid på detta   \n",
       "4     Vi producerar en ny produkt snart   \n",
       "\n",
       "                                        TargetAudio  \\\n",
       "0  [sound:a821f020-5a84-44fb-af42-c6c4133e4379.mp3]   \n",
       "1  [sound:fa15b936-ef4e-44d5-932d-e94a6b477c9d.mp3]   \n",
       "2  [sound:f54483fc-3303-427d-acef-6710ae244bc9.mp3]   \n",
       "3  [sound:b34a331b-6dd9-44a2-a588-f92be1b11d06.mp3]   \n",
       "4  [sound:10281f18-fddc-4a69-ab7b-6098f63b948f.mp3]   \n",
       "\n",
       "                                    TargetAudioSlow  \\\n",
       "0  [sound:3d6997c2-92c7-43c9-b31e-a20cc4f0bf9e.mp3]   \n",
       "1  [sound:79a26555-55ef-43d6-a9ca-6ee02ade7721.mp3]   \n",
       "2  [sound:41c55da5-347a-4d0b-b6c8-40b27b46c1b9.mp3]   \n",
       "3  [sound:a1a6714c-9bfd-4cd7-b30e-1a209c0ab42b.mp3]   \n",
       "4  [sound:0e472f07-e35b-4ab0-9161-e0a1474c6e34.mp3]   \n",
       "\n",
       "                            EnglishText  \\\n",
       "0         Pay more attention to details   \n",
       "1       Will the customer recognize me?   \n",
       "2  Please answer all questions honestly   \n",
       "3             Stop wasting time on this   \n",
       "4    We're producing a new product soon   \n",
       "\n",
       "                                     WiktionaryLinks  \\\n",
       "0  <a href=\"https://en.wiktionary.org/wiki/var#Sw...   \n",
       "1  <a href=\"https://en.wiktionary.org/wiki/kommer...   \n",
       "2  <a href=\"https://en.wiktionary.org/wiki/v%C3%A...   \n",
       "3  <a href=\"https://en.wiktionary.org/wiki/sluta#...   \n",
       "4  <a href=\"https://en.wiktionary.org/wiki/vi#Swe...   \n",
       "\n",
       "                                             Picture TargetLanguageName  \\\n",
       "0  <img src=\"f7153993-cfee-40f4-841c-1bd6cfaeb5a9...            Swedish   \n",
       "1  <img src=\"cd5e83e4-813e-4097-962a-cf536f866e99...            Swedish   \n",
       "2  <img src=\"1a6640ec-fe2d-4808-b638-33a38b694224...            Swedish   \n",
       "3  <img src=\"8de5a6d3-b10c-45ea-860c-512cc2673be7...            Swedish   \n",
       "4  <img src=\"329bfcb3-7cb4-4174-923f-567a1bfe7ec9...            Swedish   \n",
       "\n",
       "   knowledge_score  \n",
       "0            0.000  \n",
       "1            0.369  \n",
       "2            0.314  \n",
       "3            0.000  \n",
       "4            0.353  "
      ]
     },
     "execution_count": 7,
     "metadata": {},
     "output_type": "execute_result"
    }
   ],
   "source": [
    "DECK_NAME = \"RapidRetention - Swedish - LM1000\"\n",
    "df = get_deck_contents(deck_name=DECK_NAME) #calculates knowledge score\n",
    "df.head()"
   ]
  },
  {
   "cell_type": "markdown",
   "metadata": {},
   "source": [
    "Find phrases we know, and limit the flashcard index to those"
   ]
  },
  {
   "cell_type": "code",
   "execution_count": 8,
   "metadata": {},
   "outputs": [],
   "source": [
    "from src.phrase import get_phrase_indices\n",
    "known_phrases = df.query(\"knowledge_score > 0.2\").sort_values(by=\"knowledge_score\", ascending=False)['EnglishText'].tolist()\n",
    "\n",
    "#we need to know the location of each phrase as an integer in the phrase_index\n",
    "known_phrase_indicies = get_phrase_indices(known_phrases = known_phrases, all_phrases = phrase_index['phrases'])"
   ]
  },
  {
   "cell_type": "code",
   "execution_count": 9,
   "metadata": {},
   "outputs": [],
   "source": [
    "from src.nlp import remove_unknown_index_values\n",
    "from copy import deepcopy\n",
    "#if we don't know a phrase, we don't want to retrieve that from the index and link it to a story\n",
    "known_index = deepcopy(phrase_index)\n",
    "known_index['verb_index'] = remove_unknown_index_values(known_phrase_indicies, known_index['verb_index'])\n",
    "known_index['vocab_index'] = remove_unknown_index_values(known_phrase_indicies, known_index['vocab_index'])"
   ]
  },
  {
   "cell_type": "code",
   "execution_count": 10,
   "metadata": {},
   "outputs": [],
   "source": [
    "sampled_phrases = random.sample(known_phrases, min(75, len(known_phrases)))\n",
    "vocab_dict_flashcards = get_vocab_dictionary_from_phrases(sampled_phrases) #75 phrases should give a decent amount of vocab"
   ]
  },
  {
   "cell_type": "markdown",
   "metadata": {},
   "source": [
    "Now generate the story"
   ]
  },
  {
   "cell_type": "code",
   "execution_count": 11,
   "metadata": {},
   "outputs": [
    {
     "name": "stdout",
     "output_type": "stream",
     "text": [
      "Function that called this one: generate_story. Sleeping for 20 seconds\n",
      "generated story: Birthday Party Planning Mishap\n"
     ]
    }
   ],
   "source": [
    "from src.dialogue_generation import generate_story\n",
    "story_name, story_dialogue = generate_story(vocab_dict_flashcards)\n"
   ]
  },
  {
   "cell_type": "code",
   "execution_count": 12,
   "metadata": {},
   "outputs": [
    {
     "name": "stdout",
     "output_type": "stream",
     "text": [
      "saved story to y:\\Python Scripts\\audio-language-trainer\\outputs\\stories\\story_birthday_party_planning_mishap\\story_birthday_party_planning_mishap.json\n"
     ]
    }
   ],
   "source": [
    "clean_story_name = f\"story_{story_name.lower().replace(' ', '_')}\"\n",
    "story_path = story_dir / clean_story_name / f\"{clean_story_name}.json\"\n",
    "\n",
    "save_json(story_dialogue, story_path)\n",
    "print(f\"saved story to {story_path}\")"
   ]
  },
  {
   "cell_type": "markdown",
   "metadata": {},
   "source": [
    "We find that the LLM goes a bit beyond the vocab found in the flashcards"
   ]
  },
  {
   "cell_type": "code",
   "execution_count": 13,
   "metadata": {},
   "outputs": [
    {
     "name": "stdout",
     "output_type": "stream",
     "text": [
      "=== VOCABULARY COVERAGE ANALYSIS ===\n",
      "Target verbs covered by flashcards: 55.6%\n",
      "Target vocabulary covered by flashcards: 57.4%\n",
      "\n",
      "Verbs needing new flashcards:\n",
      "['hurry', 'expect', 'send', 'turn', 'would'] ...\n",
      "\n",
      "Vocabulary needing new flashcards:\n",
      "['cake', 'homemade', 'lasagna', 'help', 'like'] ...\n"
     ]
    }
   ],
   "source": [
    "\n",
    "vocab_dict_story = get_vocab_dict_from_dialogue(story_dialogue, limit_story_parts=None)\n",
    "vocab_overlap = find_missing_vocabulary(vocab_dict_flashcards, vocab_dict_story)"
   ]
  },
  {
   "cell_type": "markdown",
   "metadata": {},
   "source": [
    "Let's retrieve flashcards we know that better fit the story vocab"
   ]
  },
  {
   "cell_type": "code",
   "execution_count": 14,
   "metadata": {},
   "outputs": [
    {
     "name": "stdout",
     "output_type": "stream",
     "text": [
      "Average knowledge:  0.34838297872340424\n",
      "=== VOCABULARY COVERAGE ANALYSIS ===\n",
      "Target verbs covered by flashcards: 82.2%\n",
      "Target vocabulary covered by flashcards: 74.1%\n",
      "\n",
      "Verbs needing new flashcards:\n",
      "['expect', 'shop', 'pull', 'book', 'believe'] ...\n",
      "\n",
      "Vocabulary needing new flashcards:\n",
      "['homemade', 'lasagna', '8', 'brilliant', 'downtown'] ...\n"
     ]
    }
   ],
   "source": [
    "from src.nlp import get_matching_flashcards_indexed\n",
    "\n",
    "# Let's pull all the existing phrases we need to cover the vocab on our story\n",
    "#remember we modified the index to only use flashcards we known\n",
    "known_results = get_matching_flashcards_indexed(vocab_dict_story, known_index)\n",
    "known_flashcards = [card.get('phrase') for card in known_results['selected_cards']]\n",
    "print(\"Average knowledge: \", df.loc[df['EnglishText'].isin(known_flashcards)].knowledge_score.mean())\n",
    "known_vocab_dict = get_vocab_dictionary_from_phrases(known_flashcards)\n",
    "missing_vocab = find_missing_vocabulary(vocab_dict_source=known_vocab_dict, vocab_dict_target=vocab_dict_story)\n",
    "missing_vocab_dict = missing_vocab[\"missing_vocab\"]\n"
   ]
  },
  {
   "cell_type": "markdown",
   "metadata": {},
   "source": [
    "Now supplement these with any remaining flascards we don't yet know"
   ]
  },
  {
   "cell_type": "code",
   "execution_count": 15,
   "metadata": {},
   "outputs": [
    {
     "name": "stdout",
     "output_type": "stream",
     "text": [
      "14\n",
      "=== VOCABULARY COVERAGE ANALYSIS ===\n",
      "Target verbs covered by flashcards: 91.1%\n",
      "Target vocabulary covered by flashcards: 84.3%\n",
      "\n",
      "Verbs needing new flashcards:\n",
      "['book', 'shop', 'tackle', 'panic'] \n",
      "\n",
      "Vocabulary needing new flashcards:\n",
      "['8', 'full', 'brilliant', 'downtown', 'though'] ...\n"
     ]
    }
   ],
   "source": [
    "#we should have a higher match in the cell above, we can now draw missing flashcards from the full index\n",
    "\n",
    "additional_results = get_matching_flashcards_indexed(missing_vocab_dict, phrase_index)\n",
    "additional_flashcards = [card.get('phrase') for card in additional_results['selected_cards']]\n",
    "print(len(additional_flashcards))\n",
    "\n",
    "all_flashcards = additional_flashcards + known_flashcards\n",
    "all_flashcards_vocab_dict = get_vocab_dictionary_from_phrases(all_flashcards)\n",
    "final_missing_vocab = find_missing_vocabulary(all_flashcards_vocab_dict, vocab_dict_story)\n"
   ]
  },
  {
   "cell_type": "code",
   "execution_count": 16,
   "metadata": {},
   "outputs": [
    {
     "name": "stdout",
     "output_type": "stream",
     "text": [
      "We need 61 flashcards to cover the story\n"
     ]
    }
   ],
   "source": [
    "print(f\"We need {len(all_flashcards)} flashcards to cover the story\")"
   ]
  },
  {
   "cell_type": "markdown",
   "metadata": {},
   "source": [
    "## Generate the story files\n",
    "Once you are happy with the flashcard coverage, you can:\n",
    "* translate and add audio\n",
    "* create the story images\n",
    "* create the story album files (M4a files with synced lyrics)\n",
    "* create the story HTML file using those previous files, and upload to Google Cloud Storage\n",
    "* tag the flascards with the story name...this will then mean you can link to the story from within Anki (the template uses tags to auto-create hyperlinks)"
   ]
  },
  {
   "cell_type": "code",
   "execution_count": 31,
   "metadata": {},
   "outputs": [],
   "source": [
    "#if you generate a specific story you can just load it here:\n",
    "clean_story_name = \"story_roblox_bot_trouble\"\n",
    "story_dialogue = load_json(story_dir / clean_story_name / f\"{clean_story_name}.json\" )"
   ]
  },
  {
   "cell_type": "code",
   "execution_count": 33,
   "metadata": {},
   "outputs": [
    {
     "name": "stderr",
     "output_type": "stream",
     "text": [
      "adding translations:   0%|          | 0/2 [00:00<?, ?it/s]"
     ]
    },
    {
     "name": "stdout",
     "output_type": "stream",
     "text": [
      "Beginning translation for setup\n"
     ]
    },
    {
     "name": "stderr",
     "output_type": "stream",
     "text": [
      "adding translations:  50%|█████     | 1/2 [00:01<00:01,  1.69s/it]"
     ]
    },
    {
     "name": "stdout",
     "output_type": "stream",
     "text": [
      "Translated dialogue\n",
      "Beginning translation for resolution\n"
     ]
    },
    {
     "name": "stderr",
     "output_type": "stream",
     "text": [
      "adding translations: 100%|██████████| 2/2 [00:03<00:00,  1.76s/it]\n"
     ]
    },
    {
     "name": "stdout",
     "output_type": "stream",
     "text": [
      "Translated dialogue\n"
     ]
    },
    {
     "name": "stderr",
     "output_type": "stream",
     "text": [
      "adding audio:   0%|          | 0/2 [00:00<?, ?it/s]"
     ]
    },
    {
     "name": "stdout",
     "output_type": "stream",
     "text": [
      "Beginning text-to-speech for setup\n"
     ]
    },
    {
     "name": "stderr",
     "output_type": "stream",
     "text": [
      "Generating dialogue audio: 100%|██████████| 6/6 [00:11<00:00,  1.92s/it]\n",
      "adding audio:  50%|█████     | 1/2 [00:11<00:11, 11.86s/it]"
     ]
    },
    {
     "name": "stdout",
     "output_type": "stream",
     "text": [
      "Text-to-speech for dialogue done\n",
      "Beginning text-to-speech for resolution\n"
     ]
    },
    {
     "name": "stderr",
     "output_type": "stream",
     "text": [
      "Generating dialogue audio: 100%|██████████| 6/6 [00:11<00:00,  1.88s/it]\n",
      "adding audio: 100%|██████████| 2/2 [00:23<00:00, 11.76s/it]"
     ]
    },
    {
     "name": "stdout",
     "output_type": "stream",
     "text": [
      "Text-to-speech for dialogue done\n"
     ]
    },
    {
     "name": "stderr",
     "output_type": "stream",
     "text": [
      "\n"
     ]
    }
   ],
   "source": [
    "from src.generate import add_translations, add_audio\n",
    "story_dialogue_audio = add_translations(story_dialogue)\n",
    "story_dialogue_audio = add_audio(story_dialogue_audio)"
   ]
  },
  {
   "cell_type": "code",
   "execution_count": 34,
   "metadata": {},
   "outputs": [],
   "source": [
    "#this has target language content in now so we save in language dir\n",
    "save_pickle(data=story_dialogue_audio, file_path=story_dir / clean_story_name / config.TARGET_LANGUAGE_NAME / f\"{clean_story_name}.pkl\")"
   ]
  },
  {
   "cell_type": "markdown",
   "metadata": {},
   "source": [
    "Image files for each part of the story:"
   ]
  },
  {
   "cell_type": "code",
   "execution_count": 35,
   "metadata": {},
   "outputs": [
    {
     "name": "stderr",
     "output_type": "stream",
     "text": [
      "Generating story images:   0%|          | 0/2 [00:00<?, ?it/s]"
     ]
    },
    {
     "name": "stdout",
     "output_type": "stream",
     "text": [
      "Function that called this one: create_image_generation_prompt_for_story_part. Sleeping for 20 seconds\n"
     ]
    },
    {
     "name": "stderr",
     "output_type": "stream",
     "text": [
      "Waiting for API cooldown: 100%|\u001b[34m████████████\u001b[0m| 19/19 [00:19<00:00,  1.01s/it]\u001b[0m\n",
      "Waiting for API cooldown: 100%|\u001b[34m████████████\u001b[0m| 16/16 [00:16<00:00,  1.02s/it]\u001b[0m\n",
      "Generating story images:  50%|█████     | 1/2 [00:50<00:50, 50.30s/it]"
     ]
    },
    {
     "name": "stdout",
     "output_type": "stream",
     "text": [
      "Successfully generated and saved image for setup\n"
     ]
    },
    {
     "name": "stderr",
     "output_type": "stream",
     "text": [
      "Waiting for API cooldown: 100%|\u001b[34m██████████████\u001b[0m| 9/9 [00:09<00:00,  1.01s/it]\u001b[0m\n"
     ]
    },
    {
     "name": "stdout",
     "output_type": "stream",
     "text": [
      "Function that called this one: create_image_generation_prompt_for_story_part. Sleeping for 20 seconds\n"
     ]
    },
    {
     "name": "stderr",
     "output_type": "stream",
     "text": [
      "Waiting for API cooldown: 100%|\u001b[34m████████████\u001b[0m| 19/19 [00:19<00:00,  1.01s/it]\u001b[0m\n",
      "Waiting for API cooldown: 100%|\u001b[34m████████████\u001b[0m| 16/16 [00:16<00:00,  1.01s/it]\u001b[0m\n",
      "Generating story images: 100%|██████████| 2/2 [01:49<00:00, 54.77s/it]"
     ]
    },
    {
     "name": "stdout",
     "output_type": "stream",
     "text": [
      "Successfully generated and saved image for resolution\n"
     ]
    },
    {
     "name": "stderr",
     "output_type": "stream",
     "text": [
      "\n"
     ]
    }
   ],
   "source": [
    "from src.images import generate_and_save_story_images\n",
    "    \n",
    "image_data = generate_and_save_story_images(story_dict=story_dialogue, output_dir = story_dir / clean_story_name, story_name=clean_story_name)\n"
   ]
  },
  {
   "cell_type": "code",
   "execution_count": 36,
   "metadata": {},
   "outputs": [
    {
     "data": {
      "text/plain": [
       "{'setup': 'y:\\\\Python Scripts\\\\audio-language-trainer\\\\outputs\\\\stories\\\\story_roblox_bot_trouble\\\\story_roblox_bot_trouble_setup.png',\n",
       " 'resolution': 'y:\\\\Python Scripts\\\\audio-language-trainer\\\\outputs\\\\stories\\\\story_roblox_bot_trouble\\\\story_roblox_bot_trouble_resolution.png'}"
      ]
     },
     "execution_count": 36,
     "metadata": {},
     "output_type": "execute_result"
    }
   ],
   "source": [
    "image_data"
   ]
  },
  {
   "cell_type": "markdown",
   "metadata": {},
   "source": [
    "M4A audio files which you will be able to download and play via a media player.\n",
    "They have synced lyrics which can be viewed in the Oto Music Player app"
   ]
  },
  {
   "cell_type": "code",
   "execution_count": 37,
   "metadata": {},
   "outputs": [
    {
     "name": "stderr",
     "output_type": "stream",
     "text": [
      "creating album:  50%|█████     | 1/2 [00:03<00:03,  3.36s/it]"
     ]
    },
    {
     "name": "stdout",
     "output_type": "stream",
     "text": [
      "Saved M4A file track number 1\n"
     ]
    },
    {
     "name": "stderr",
     "output_type": "stream",
     "text": [
      "creating album: 100%|██████████| 2/2 [00:07<00:00,  3.59s/it]"
     ]
    },
    {
     "name": "stdout",
     "output_type": "stream",
     "text": [
      "Saved M4A file track number 2\n"
     ]
    },
    {
     "name": "stderr",
     "output_type": "stream",
     "text": [
      "\n"
     ]
    }
   ],
   "source": [
    "from PIL import Image\n",
    "from src.story import create_album_files\n",
    "FIRST_STORY_PART = list(image_data.keys())[0]\n",
    "#may need to change depending on size of story made and what parts there are\n",
    "album_image = Image.open(story_dir / clean_story_name / f\"{clean_story_name}_{FIRST_STORY_PART}.png\")\n",
    "#create m4a file:\n",
    "create_album_files(story_data_dict=story_dialogue_audio, cover_image=album_image, output_dir=story_dir / clean_story_name / config.TARGET_LANGUAGE_NAME, story_name=clean_story_name)"
   ]
  },
  {
   "cell_type": "markdown",
   "metadata": {},
   "source": [
    "Now we generate the main html file - this wraps up the M4A files and image files within it, so it's self-contained"
   ]
  },
  {
   "cell_type": "code",
   "execution_count": 41,
   "metadata": {},
   "outputs": [
    {
     "name": "stderr",
     "output_type": "stream",
     "text": [
      "Preparing HTML data: 100%|██████████| 2/2 [00:45<00:00, 22.86s/it]"
     ]
    },
    {
     "name": "stdout",
     "output_type": "stream",
     "text": [
      "HTML story created at: y:\\Python Scripts\\audio-language-trainer\\outputs\\stories\\story_roblox_bot_trouble\\Italian\\story_roblox_bot_trouble.html\n"
     ]
    },
    {
     "name": "stderr",
     "output_type": "stream",
     "text": [
      "\n"
     ]
    }
   ],
   "source": [
    "from src.story import create_html_story\n",
    "\n",
    "create_html_story(\n",
    "            story_dialogue_audio,\n",
    "            story_dir / clean_story_name, #the langauge sub-folders will be picked up automatically\n",
    "            component_path=\"../src/StoryViewer.js\",\n",
    "            story_name=clean_story_name,\n",
    "        )"
   ]
  },
  {
   "cell_type": "markdown",
   "metadata": {},
   "source": [
    "Upload to a public google cloud bucket"
   ]
  },
  {
   "cell_type": "code",
   "execution_count": 42,
   "metadata": {},
   "outputs": [
    {
     "data": {
      "text/plain": [
       "'https://storage.googleapis.com/audio-language-trainer-stories/italian/story_roblox_bot_trouble/story_roblox_bot_trouble.html'"
      ]
     },
     "execution_count": 42,
     "metadata": {},
     "output_type": "execute_result"
    }
   ],
   "source": [
    "html_story_path = story_dir / clean_story_name / config.TARGET_LANGUAGE_NAME / f\"{clean_story_name}.html\"\n",
    "upload_to_gcs(html_file_path=html_story_path)"
   ]
  },
  {
   "cell_type": "markdown",
   "metadata": {},
   "source": [
    "## Linking stories to flash cards\n",
    "We will use the Anki tag feature. Given a list of english phrases that are required to understand a story, we can tag each of those phrases within a specific Anki Deck.\n",
    "\n",
    "The card template will turn any tag starting story_ into a hyperlink to the public google cloud bucket"
   ]
  },
  {
   "cell_type": "code",
   "execution_count": 26,
   "metadata": {},
   "outputs": [
    {
     "name": "stdout",
     "output_type": "stream",
     "text": [
      "audio-language-trainer\\src\\anki_tools.py:217:save() is deprecated: saving is automatic\n",
      "Updated 54 notes\n"
     ]
    }
   ],
   "source": [
    "#sometimes this needs running twice...\n",
    "from src.anki_tools import add_tag_to_matching_notes\n",
    "updates, errors = add_tag_to_matching_notes(\n",
    "    deck_name=DECK_NAME,\n",
    "    phrases=all_flashcards,\n",
    "    tag=clean_story_name\n",
    ")\n",
    "\n",
    "print(f\"Updated {updates} notes\")\n",
    "if errors:\n",
    "    print(\"Errors encountered:\")\n",
    "    for error in errors:\n",
    "        print(f\"- {error}\")"
   ]
  },
  {
   "cell_type": "code",
   "execution_count": 27,
   "metadata": {},
   "outputs": [
    {
     "data": {
      "text/plain": [
       "(38, 18)"
      ]
     },
     "execution_count": 27,
     "metadata": {},
     "output_type": "execute_result"
    }
   ],
   "source": [
    "df_deck = get_deck_contents(DECK_NAME)\n",
    "df_deck.query(\"tags == @clean_story_name\").shape"
   ]
  },
  {
   "cell_type": "code",
   "execution_count": 28,
   "metadata": {},
   "outputs": [
    {
     "data": {
      "text/plain": [
       "<Axes: >"
      ]
     },
     "execution_count": 28,
     "metadata": {},
     "output_type": "execute_result"
    },
    {
     "data": {
      "image/png": "[encoded data removed]",
      "text/plain": [
       "<Figure size 640x480 with 1 Axes>"
      ]
     },
     "metadata": {},
     "output_type": "display_data"
    }
   ],
   "source": [
    "#we should know most of the vocab...\n",
    "df_deck.query(\"tags == @clean_story_name\").knowledge_score.hist()"
   ]
  },
  {
   "cell_type": "markdown",
   "metadata": {},
   "source": []
  }
 ],
 "metadata": {
  "kernelspec": {
   "display_name": ".venv",
   "language": "python",
   "name": "python3"
  },
  "language_info": {
   "codemirror_mode": {
    "name": "ipython",
    "version": 3
   },
   "file_extension": ".py",
   "mimetype": "text/x-python",
   "name": "python",
   "nbconvert_exporter": "python",
   "pygments_lexer": "ipython3",
   "version": "3.11.4"
  }
 },
 "nbformat": 4,
 "nbformat_minor": 2
}
