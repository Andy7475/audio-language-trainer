{
 "cells": [
  {
   "cell_type": "markdown",
   "metadata": {},
   "source": [
    "# Story Generation\n",
    "We remember things better as stories. The plan here is to pick a subset of our phrases, extract the vocabularly, and generate a story based off of them. We can then pull in more flashcards / phrases to ensure a more complete phrase coverage.\n",
    "\n",
    "The story name will be story_some_title; when added as a 'tag' into Anki, this will add a hyperlink to a google cloud bucket of a specific format of bucket/language/story_name/story_name.html\n",
    "\n",
    "This means it is easy to add new stories to an existing flashcard deck, and the links will update as soon as you add the tags"
   ]
  },
  {
   "cell_type": "code",
   "execution_count": 1,
   "metadata": {},
   "outputs": [],
   "source": [
    "%load_ext autoreload\n",
    "%autoreload 2\n",
    "from dotenv import load_dotenv\n",
    "\n",
    "load_dotenv()\n",
    "\n",
    "PAY_FOR_API = True #change to True to run cells that cost money via API calls"
   ]
  },
  {
   "cell_type": "code",
   "execution_count": 2,
   "metadata": {},
   "outputs": [
    {
     "name": "stdout",
     "output_type": "stream",
     "text": [
      "FFmpeg path added to system PATH: C:\\Program Files\\ffmpeg-7.0-essentials_build\\bin\n"
     ]
    }
   ],
   "source": [
    "import random\n",
    "from pathlib import Path\n",
    "from pprint import pprint\n",
    "\n",
    "from src.anki_tools import AnkiCollectionReader, get_deck_contents\n",
    "from src.config_loader import config\n",
    "from src.nlp import (\n",
    "    create_flashcard_index,\n",
    "    find_missing_vocabulary,\n",
    "    get_vocab_dict_from_dialogue,\n",
    "    get_vocab_dictionary_from_phrases,\n",
    ")\n",
    "from src.utils import (\n",
    "    load_json,\n",
    "    load_text_file,\n",
    "    save_json,\n",
    "    save_pickle,\n",
    "    load_pickle,\n",
    "    upload_story_to_gcs,\n",
    "    upload_to_gcs,\n",
    ")\n",
    "# Add the parent directory of 'src' to the Python path\n"
   ]
  },
  {
   "cell_type": "markdown",
   "metadata": {},
   "source": [
    "### Add directories\n",
    "story images can be re-used between languages, but audio files are language specific, so we structure the story directory story_name/language with audio files in 'language/' and images and the english JSON file in story_name dir"
   ]
  },
  {
   "cell_type": "code",
   "execution_count": 3,
   "metadata": {},
   "outputs": [],
   "source": [
    "notebook_dir = Path().absolute()  # This gives src/notebooks\n",
    "phrase_dir = notebook_dir.parent / \"data\" / \"phrases\" #where we store text files of phrases\n",
    "story_dir = notebook_dir.parent / \"outputs\" / \"stories\" # where we store our stories"
   ]
  },
  {
   "cell_type": "markdown",
   "metadata": {},
   "source": [
    "we already have flashcards generated for some phrases:\n",
    "a flashcard index allows us to select flashcards that cover a specific vocabulary range, it's quite computationally expensive, but is generated\n",
    "using create_flashcard_index"
   ]
  },
  {
   "cell_type": "code",
   "execution_count": 4,
   "metadata": {},
   "outputs": [
    {
     "name": "stdout",
     "output_type": "stream",
     "text": [
      "('First few phrases [\\'Could I have a table for two?\\', \"What\\'s the soup of '\n",
      " 'the day?\", \"I\\'d like the steak, medium rare.\", \\'Can I see the wine '\n",
      " \"list?', 'Is there a vegetarian option available?', 'Could you bring some \"\n",
      " \"more water?', 'Are there any gluten-free dishes?', 'What do you recommend \"\n",
      " \"for dessert?', 'May I have the bill, please?', 'Is service included in the \"\n",
      " \"price?']\")\n"
     ]
    }
   ],
   "source": [
    "PHRASE_LIST_NAME = \"eating_out\"\n",
    "phrase_file = phrase_dir / f\"{PHRASE_LIST_NAME}.txt\"\n",
    "phrases = load_text_file(phrase_file)\n",
    "pprint(f\"First few phrases {phrases[:10]}\")\n",
    "\n"
   ]
  },
  {
   "cell_type": "markdown",
   "metadata": {},
   "source": [
    "## create the flashcard index\n",
    "This makes it very fast to find matching flashcards from a given vocab list"
   ]
  },
  {
   "cell_type": "code",
   "execution_count": 5,
   "metadata": {},
   "outputs": [],
   "source": [
    "# long process, so only create if it doesn't exist\n",
    "notebook_dir = Path().absolute()  # This gives src/notebooks\n",
    "index_file = phrase_dir / f\"{PHRASE_LIST_NAME}_index.json\"\n",
    "\n",
    "if index_file.exists():\n",
    "    phrase_index = load_json(index_file)\n",
    "else:\n",
    "    phrase_index = create_flashcard_index(phrases)\n",
    "    save_json(data=phrase_index, file_path=index_file)\n",
    "\n"
   ]
  },
  {
   "cell_type": "markdown",
   "metadata": {},
   "source": [
    "## Sample some phrases to generate the story from\n",
    "This will pin the story to the vocab found in some pre-existing phrases"
   ]
  },
  {
   "cell_type": "code",
   "execution_count": 5,
   "metadata": {},
   "outputs": [
    {
     "name": "stdout",
     "output_type": "stream",
     "text": [
      "{1: 'Default',\n",
      " 1731524665442: 'Swedish EAL',\n",
      " 1732020971325: 'RapidRetention - Swedish::LM1000',\n",
      " 1732637740663: 'RapidRetention - Welsh - LM1000',\n",
      " 1734260227418: 'RapidRetention - Swedish::NumbersDays',\n",
      " 1734261644938: 'RapidRetention - Russian::NumbersDays',\n",
      " 1734264578929: 'RapidRetention - Italian - NumbersDays',\n",
      " 1734426251278: 'RapidRetention - French - NumbersDays',\n",
      " 1735660105659: 'RapidRetention - Swedish::EatingOut',\n",
      " 1735684325990: 'RapidRetention - Czech - EatingOut',\n",
      " 1735687489606: 'RapidRetention - Welsh - EatingOut',\n",
      " 1735998451053: 'RapidRetention - Italian - EatingOut',\n",
      " 1737410923009: 'RapidRetention - Swedish::LanguageMeetUp',\n",
      " 1737964362773: 'RapidRetention - Swedish',\n",
      " 1739041921475: 'RapidRetention - Russian::EatingOut',\n",
      " 1739041939923: 'RapidRetention - Russian',\n",
      " 1739715099478: 'RapidRetention - Spanish',\n",
      " 1739715099479: 'RapidRetention - Spanish::EatingOut'}\n"
     ]
    }
   ],
   "source": [
    "#we can obtain phrases we know to create a story from:\n",
    "# NOTE: you must close Anki Desktop when trying to form a connection here\n",
    "with AnkiCollectionReader() as reader:\n",
    "    pprint(reader.get_deck_names())\n",
    "\n",
    "#this will print out deck_id : deck_name -> we want to copy the relevant deck_name"
   ]
  },
  {
   "cell_type": "code",
   "execution_count": 6,
   "metadata": {},
   "outputs": [
    {
     "data": {
      "application/vnd.microsoft.datawrangler.viewer.v0+json": {
       "columns": [
        {
         "name": "index",
         "rawType": "int64",
         "type": "integer"
        },
        {
         "name": "note_id",
         "rawType": "int64",
         "type": "integer"
        },
        {
         "name": "model_name",
         "rawType": "object",
         "type": "string"
        },
        {
         "name": "tags",
         "rawType": "object",
         "type": "string"
        },
        {
         "name": "n_cards",
         "rawType": "int64",
         "type": "integer"
        },
        {
         "name": "avg_ease",
         "rawType": "float64",
         "type": "float"
        },
        {
         "name": "total_reps",
         "rawType": "int64",
         "type": "integer"
        },
        {
         "name": "avg_reps",
         "rawType": "float64",
         "type": "float"
        },
        {
         "name": "total_lapses",
         "rawType": "int64",
         "type": "integer"
        },
        {
         "name": "avg_lapses",
         "rawType": "float64",
         "type": "float"
        },
        {
         "name": "avg_interval",
         "rawType": "float64",
         "type": "float"
        },
        {
         "name": "SortOrder",
         "rawType": "object",
         "type": "string"
        },
        {
         "name": "TargetText",
         "rawType": "object",
         "type": "string"
        },
        {
         "name": "TargetAudio",
         "rawType": "object",
         "type": "string"
        },
        {
         "name": "TargetAudioSlow",
         "rawType": "object",
         "type": "string"
        },
        {
         "name": "EnglishText",
         "rawType": "object",
         "type": "string"
        },
        {
         "name": "WiktionaryLinks",
         "rawType": "object",
         "type": "string"
        },
        {
         "name": "Picture",
         "rawType": "object",
         "type": "string"
        },
        {
         "name": "TargetLanguageName",
         "rawType": "object",
         "type": "string"
        },
        {
         "name": "knowledge_score",
         "rawType": "float64",
         "type": "float"
        }
       ],
       "conversionMethod": "pd.DataFrame",
       "ref": "54fe7a17-9299-4299-b173-d46e2e3423fa",
       "rows": [
        [
         "0",
         "1739715058107",
         "Language Practice With Images Sort Order",
         "",
         "3",
         "0.0",
         "0",
         "0.0",
         "0",
         "0.0",
         "0.0",
         "0000-8316a7dd",
         "¿Podría tener una mesa para dos?",
         "[sound:ef9a3f97-b17d-4a82-8c5b-44e00e3fbf15.mp3]",
         "[sound:3509f91a-2e21-4739-9833-f726626e1625.mp3]",
         "Could I have a table for two?",
         "<a href=\"https://en.wiktionary.org/wiki/podr%C3%ADa#Spanish\">¿Podría</a> <a href=\"https://en.wiktionary.org/wiki/tener#Spanish\">tener</a> <a href=\"https://en.wiktionary.org/wiki/una#Spanish\">una</a> <a href=\"https://en.wiktionary.org/wiki/mesa#Spanish\">mesa</a> <a href=\"https://en.wiktionary.org/wiki/para#Spanish\">para</a> <a href=\"https://en.wiktionary.org/wiki/dos#Spanish\">dos?</a>",
         "<img src=\"1455a576-5dfa-4caa-9abb-3bd73e9920d4.png\">",
         "Spanish",
         "0.0"
        ],
        [
         "1",
         "1739715058111",
         "Language Practice With Images Sort Order",
         "",
         "3",
         "0.0",
         "0",
         "0.0",
         "0",
         "0.0",
         "0.0",
         "0001-758d3a04",
         "¿Cuál es la sopa del día?",
         "[sound:a497b043-31f5-4195-b798-8a5cdb62eb6e.mp3]",
         "[sound:806f6086-3b3b-41f3-a0e8-dda1796078cf.mp3]",
         "What's the soup of the day?",
         "<a href=\"https://en.wiktionary.org/wiki/cu%C3%A1l#Spanish\">¿Cuál</a> <a href=\"https://en.wiktionary.org/wiki/es#Spanish\">es</a> <a href=\"https://en.wiktionary.org/wiki/la#Spanish\">la</a> <a href=\"https://en.wiktionary.org/wiki/sopa#Spanish\">sopa</a> <a href=\"https://en.wiktionary.org/wiki/del#Spanish\">del</a> <a href=\"https://en.wiktionary.org/wiki/d%C3%ADa#Spanish\">día?</a>",
         "<img src=\"e4fd5dd3-149a-4511-816f-353b80e8cd9c.png\">",
         "Spanish",
         "0.0"
        ],
        [
         "2",
         "1739715058115",
         "Language Practice With Images Sort Order",
         "",
         "3",
         "0.0",
         "0",
         "0.0",
         "0",
         "0.0",
         "0.0",
         "0002-5bbb0237",
         "Me gustaría el bistec, medio crudo.",
         "[sound:7b0b6708-1621-43d1-9986-c8f68cdff25f.mp3]",
         "[sound:53758030-d686-4182-81a9-b937f34481ed.mp3]",
         "I'd like the steak, medium rare.",
         "<a href=\"https://en.wiktionary.org/wiki/me#Spanish\">Me</a> <a href=\"https://en.wiktionary.org/wiki/gustar%C3%ADa#Spanish\">gustaría</a> <a href=\"https://en.wiktionary.org/wiki/el#Spanish\">el</a> <a href=\"https://en.wiktionary.org/wiki/bistec#Spanish\">bistec,</a> <a href=\"https://en.wiktionary.org/wiki/medio#Spanish\">medio</a> <a href=\"https://en.wiktionary.org/wiki/crudo#Spanish\">crudo.</a>",
         "<img src=\"c762daa6-4b0e-440d-a10d-9dc5cb5a9893.png\">",
         "Spanish",
         "0.0"
        ],
        [
         "3",
         "1739715058119",
         "Language Practice With Images Sort Order",
         "",
         "3",
         "0.0",
         "0",
         "0.0",
         "0",
         "0.0",
         "0.0",
         "0003-63fd4376",
         "¿Puedo ver la carta de vinos?",
         "[sound:d7a29fb9-4cac-4d98-8daa-3bb778f6fb42.mp3]",
         "[sound:7ae11248-af7e-4396-b6d9-2ff53e99657e.mp3]",
         "Can I see the wine list?",
         "<a href=\"https://en.wiktionary.org/wiki/puedo#Spanish\">¿Puedo</a> <a href=\"https://en.wiktionary.org/wiki/ver#Spanish\">ver</a> <a href=\"https://en.wiktionary.org/wiki/la#Spanish\">la</a> <a href=\"https://en.wiktionary.org/wiki/carta#Spanish\">carta</a> <a href=\"https://en.wiktionary.org/wiki/de#Spanish\">de</a> <a href=\"https://en.wiktionary.org/wiki/vinos#Spanish\">vinos?</a>",
         "<img src=\"4c4db83f-7475-4be7-abc8-7ce8cc15e436.png\">",
         "Spanish",
         "0.0"
        ],
        [
         "4",
         "1739715058123",
         "Language Practice With Images Sort Order",
         "",
         "3",
         "0.0",
         "0",
         "0.0",
         "0",
         "0.0",
         "0.0",
         "0004-1a7140df",
         "¿Hay una opción vegetariana disponible?",
         "[sound:992bc640-066e-43e1-81c9-4f156021af33.mp3]",
         "[sound:e0a84828-19c1-4536-baf1-87ec73a28241.mp3]",
         "Is there a vegetarian option available?",
         "<a href=\"https://en.wiktionary.org/wiki/hay#Spanish\">¿Hay</a> <a href=\"https://en.wiktionary.org/wiki/una#Spanish\">una</a> <a href=\"https://en.wiktionary.org/wiki/opci%C3%B3n#Spanish\">opción</a> <a href=\"https://en.wiktionary.org/wiki/vegetariana#Spanish\">vegetariana</a> <a href=\"https://en.wiktionary.org/wiki/disponible#Spanish\">disponible?</a>",
         "<img src=\"1783d5f7-8343-459a-a482-2b19fbe3327a.png\">",
         "Spanish",
         "0.0"
        ]
       ],
       "shape": {
        "columns": 19,
        "rows": 5
       }
      },
      "text/html": [
       "<div>\n",
       "<style scoped>\n",
       "    .dataframe tbody tr th:only-of-type {\n",
       "        vertical-align: middle;\n",
       "    }\n",
       "\n",
       "    .dataframe tbody tr th {\n",
       "        vertical-align: top;\n",
       "    }\n",
       "\n",
       "    .dataframe thead th {\n",
       "        text-align: right;\n",
       "    }\n",
       "</style>\n",
       "<table border=\"1\" class=\"dataframe\">\n",
       "  <thead>\n",
       "    <tr style=\"text-align: right;\">\n",
       "      <th></th>\n",
       "      <th>note_id</th>\n",
       "      <th>model_name</th>\n",
       "      <th>tags</th>\n",
       "      <th>n_cards</th>\n",
       "      <th>avg_ease</th>\n",
       "      <th>total_reps</th>\n",
       "      <th>avg_reps</th>\n",
       "      <th>total_lapses</th>\n",
       "      <th>avg_lapses</th>\n",
       "      <th>avg_interval</th>\n",
       "      <th>SortOrder</th>\n",
       "      <th>TargetText</th>\n",
       "      <th>TargetAudio</th>\n",
       "      <th>TargetAudioSlow</th>\n",
       "      <th>EnglishText</th>\n",
       "      <th>WiktionaryLinks</th>\n",
       "      <th>Picture</th>\n",
       "      <th>TargetLanguageName</th>\n",
       "      <th>knowledge_score</th>\n",
       "    </tr>\n",
       "  </thead>\n",
       "  <tbody>\n",
       "    <tr>\n",
       "      <th>0</th>\n",
       "      <td>1739715058107</td>\n",
       "      <td>Language Practice With Images Sort Order</td>\n",
       "      <td></td>\n",
       "      <td>3</td>\n",
       "      <td>0.0</td>\n",
       "      <td>0</td>\n",
       "      <td>0.0</td>\n",
       "      <td>0</td>\n",
       "      <td>0.0</td>\n",
       "      <td>0.0</td>\n",
       "      <td>0000-8316a7dd</td>\n",
       "      <td>¿Podría tener una mesa para dos?</td>\n",
       "      <td>[sound:ef9a3f97-b17d-4a82-8c5b-44e00e3fbf15.mp3]</td>\n",
       "      <td>[sound:3509f91a-2e21-4739-9833-f726626e1625.mp3]</td>\n",
       "      <td>Could I have a table for two?</td>\n",
       "      <td>&lt;a href=\"https://en.wiktionary.org/wiki/podr%C...</td>\n",
       "      <td>&lt;img src=\"1455a576-5dfa-4caa-9abb-3bd73e9920d4...</td>\n",
       "      <td>Spanish</td>\n",
       "      <td>0.0</td>\n",
       "    </tr>\n",
       "    <tr>\n",
       "      <th>1</th>\n",
       "      <td>1739715058111</td>\n",
       "      <td>Language Practice With Images Sort Order</td>\n",
       "      <td></td>\n",
       "      <td>3</td>\n",
       "      <td>0.0</td>\n",
       "      <td>0</td>\n",
       "      <td>0.0</td>\n",
       "      <td>0</td>\n",
       "      <td>0.0</td>\n",
       "      <td>0.0</td>\n",
       "      <td>0001-758d3a04</td>\n",
       "      <td>¿Cuál es la sopa del día?</td>\n",
       "      <td>[sound:a497b043-31f5-4195-b798-8a5cdb62eb6e.mp3]</td>\n",
       "      <td>[sound:806f6086-3b3b-41f3-a0e8-dda1796078cf.mp3]</td>\n",
       "      <td>What's the soup of the day?</td>\n",
       "      <td>&lt;a href=\"https://en.wiktionary.org/wiki/cu%C3%...</td>\n",
       "      <td>&lt;img src=\"e4fd5dd3-149a-4511-816f-353b80e8cd9c...</td>\n",
       "      <td>Spanish</td>\n",
       "      <td>0.0</td>\n",
       "    </tr>\n",
       "    <tr>\n",
       "      <th>2</th>\n",
       "      <td>1739715058115</td>\n",
       "      <td>Language Practice With Images Sort Order</td>\n",
       "      <td></td>\n",
       "      <td>3</td>\n",
       "      <td>0.0</td>\n",
       "      <td>0</td>\n",
       "      <td>0.0</td>\n",
       "      <td>0</td>\n",
       "      <td>0.0</td>\n",
       "      <td>0.0</td>\n",
       "      <td>0002-5bbb0237</td>\n",
       "      <td>Me gustaría el bistec, medio crudo.</td>\n",
       "      <td>[sound:7b0b6708-1621-43d1-9986-c8f68cdff25f.mp3]</td>\n",
       "      <td>[sound:53758030-d686-4182-81a9-b937f34481ed.mp3]</td>\n",
       "      <td>I'd like the steak, medium rare.</td>\n",
       "      <td>&lt;a href=\"https://en.wiktionary.org/wiki/me#Spa...</td>\n",
       "      <td>&lt;img src=\"c762daa6-4b0e-440d-a10d-9dc5cb5a9893...</td>\n",
       "      <td>Spanish</td>\n",
       "      <td>0.0</td>\n",
       "    </tr>\n",
       "    <tr>\n",
       "      <th>3</th>\n",
       "      <td>1739715058119</td>\n",
       "      <td>Language Practice With Images Sort Order</td>\n",
       "      <td></td>\n",
       "      <td>3</td>\n",
       "      <td>0.0</td>\n",
       "      <td>0</td>\n",
       "      <td>0.0</td>\n",
       "      <td>0</td>\n",
       "      <td>0.0</td>\n",
       "      <td>0.0</td>\n",
       "      <td>0003-63fd4376</td>\n",
       "      <td>¿Puedo ver la carta de vinos?</td>\n",
       "      <td>[sound:d7a29fb9-4cac-4d98-8daa-3bb778f6fb42.mp3]</td>\n",
       "      <td>[sound:7ae11248-af7e-4396-b6d9-2ff53e99657e.mp3]</td>\n",
       "      <td>Can I see the wine list?</td>\n",
       "      <td>&lt;a href=\"https://en.wiktionary.org/wiki/puedo#...</td>\n",
       "      <td>&lt;img src=\"4c4db83f-7475-4be7-abc8-7ce8cc15e436...</td>\n",
       "      <td>Spanish</td>\n",
       "      <td>0.0</td>\n",
       "    </tr>\n",
       "    <tr>\n",
       "      <th>4</th>\n",
       "      <td>1739715058123</td>\n",
       "      <td>Language Practice With Images Sort Order</td>\n",
       "      <td></td>\n",
       "      <td>3</td>\n",
       "      <td>0.0</td>\n",
       "      <td>0</td>\n",
       "      <td>0.0</td>\n",
       "      <td>0</td>\n",
       "      <td>0.0</td>\n",
       "      <td>0.0</td>\n",
       "      <td>0004-1a7140df</td>\n",
       "      <td>¿Hay una opción vegetariana disponible?</td>\n",
       "      <td>[sound:992bc640-066e-43e1-81c9-4f156021af33.mp3]</td>\n",
       "      <td>[sound:e0a84828-19c1-4536-baf1-87ec73a28241.mp3]</td>\n",
       "      <td>Is there a vegetarian option available?</td>\n",
       "      <td>&lt;a href=\"https://en.wiktionary.org/wiki/hay#Sp...</td>\n",
       "      <td>&lt;img src=\"1783d5f7-8343-459a-a482-2b19fbe3327a...</td>\n",
       "      <td>Spanish</td>\n",
       "      <td>0.0</td>\n",
       "    </tr>\n",
       "  </tbody>\n",
       "</table>\n",
       "</div>"
      ],
      "text/plain": [
       "         note_id                                model_name tags  n_cards  \\\n",
       "0  1739715058107  Language Practice With Images Sort Order             3   \n",
       "1  1739715058111  Language Practice With Images Sort Order             3   \n",
       "2  1739715058115  Language Practice With Images Sort Order             3   \n",
       "3  1739715058119  Language Practice With Images Sort Order             3   \n",
       "4  1739715058123  Language Practice With Images Sort Order             3   \n",
       "\n",
       "   avg_ease  total_reps  avg_reps  total_lapses  avg_lapses  avg_interval  \\\n",
       "0       0.0           0       0.0             0         0.0           0.0   \n",
       "1       0.0           0       0.0             0         0.0           0.0   \n",
       "2       0.0           0       0.0             0         0.0           0.0   \n",
       "3       0.0           0       0.0             0         0.0           0.0   \n",
       "4       0.0           0       0.0             0         0.0           0.0   \n",
       "\n",
       "       SortOrder                               TargetText  \\\n",
       "0  0000-8316a7dd         ¿Podría tener una mesa para dos?   \n",
       "1  0001-758d3a04                ¿Cuál es la sopa del día?   \n",
       "2  0002-5bbb0237      Me gustaría el bistec, medio crudo.   \n",
       "3  0003-63fd4376            ¿Puedo ver la carta de vinos?   \n",
       "4  0004-1a7140df  ¿Hay una opción vegetariana disponible?   \n",
       "\n",
       "                                        TargetAudio  \\\n",
       "0  [sound:ef9a3f97-b17d-4a82-8c5b-44e00e3fbf15.mp3]   \n",
       "1  [sound:a497b043-31f5-4195-b798-8a5cdb62eb6e.mp3]   \n",
       "2  [sound:7b0b6708-1621-43d1-9986-c8f68cdff25f.mp3]   \n",
       "3  [sound:d7a29fb9-4cac-4d98-8daa-3bb778f6fb42.mp3]   \n",
       "4  [sound:992bc640-066e-43e1-81c9-4f156021af33.mp3]   \n",
       "\n",
       "                                    TargetAudioSlow  \\\n",
       "0  [sound:3509f91a-2e21-4739-9833-f726626e1625.mp3]   \n",
       "1  [sound:806f6086-3b3b-41f3-a0e8-dda1796078cf.mp3]   \n",
       "2  [sound:53758030-d686-4182-81a9-b937f34481ed.mp3]   \n",
       "3  [sound:7ae11248-af7e-4396-b6d9-2ff53e99657e.mp3]   \n",
       "4  [sound:e0a84828-19c1-4536-baf1-87ec73a28241.mp3]   \n",
       "\n",
       "                               EnglishText  \\\n",
       "0            Could I have a table for two?   \n",
       "1              What's the soup of the day?   \n",
       "2         I'd like the steak, medium rare.   \n",
       "3                 Can I see the wine list?   \n",
       "4  Is there a vegetarian option available?   \n",
       "\n",
       "                                     WiktionaryLinks  \\\n",
       "0  <a href=\"https://en.wiktionary.org/wiki/podr%C...   \n",
       "1  <a href=\"https://en.wiktionary.org/wiki/cu%C3%...   \n",
       "2  <a href=\"https://en.wiktionary.org/wiki/me#Spa...   \n",
       "3  <a href=\"https://en.wiktionary.org/wiki/puedo#...   \n",
       "4  <a href=\"https://en.wiktionary.org/wiki/hay#Sp...   \n",
       "\n",
       "                                             Picture TargetLanguageName  \\\n",
       "0  <img src=\"1455a576-5dfa-4caa-9abb-3bd73e9920d4...            Spanish   \n",
       "1  <img src=\"e4fd5dd3-149a-4511-816f-353b80e8cd9c...            Spanish   \n",
       "2  <img src=\"c762daa6-4b0e-440d-a10d-9dc5cb5a9893...            Spanish   \n",
       "3  <img src=\"4c4db83f-7475-4be7-abc8-7ce8cc15e436...            Spanish   \n",
       "4  <img src=\"1783d5f7-8343-459a-a482-2b19fbe3327a...            Spanish   \n",
       "\n",
       "   knowledge_score  \n",
       "0              0.0  \n",
       "1              0.0  \n",
       "2              0.0  \n",
       "3              0.0  \n",
       "4              0.0  "
      ]
     },
     "execution_count": 6,
     "metadata": {},
     "output_type": "execute_result"
    }
   ],
   "source": [
    "DECK_NAME = \"RapidRetention - Spanish::EatingOut\"\n",
    "df = get_deck_contents(deck_name=DECK_NAME) #calculates knowledge score\n",
    "df.head()"
   ]
  },
  {
   "cell_type": "markdown",
   "metadata": {},
   "source": [
    "Find phrases we know, and limit the flashcard index to those"
   ]
  },
  {
   "cell_type": "code",
   "execution_count": 10,
   "metadata": {},
   "outputs": [],
   "source": [
    "#how many words do I know?\n",
    "learnt = get_vocab_dictionary_from_phrases(df.query(\"knowledge_score > 0.0\").EnglishText.tolist())"
   ]
  },
  {
   "cell_type": "code",
   "execution_count": 15,
   "metadata": {},
   "outputs": [
    {
     "name": "stdout",
     "output_type": "stream",
     "text": [
      "254 859\n"
     ]
    }
   ],
   "source": [
    "print(len(learnt['verbs']),  len(learnt['vocab']))"
   ]
  },
  {
   "cell_type": "code",
   "execution_count": 8,
   "metadata": {},
   "outputs": [],
   "source": [
    "from src.phrase import get_phrase_indices\n",
    "\n",
    "known_phrases = df.query(\"knowledge_score > 0.2\").sort_values(by=\"knowledge_score\", ascending=False)['EnglishText'].tolist()\n",
    "\n",
    "#we need to know the location of each phrase as an integer in the phrase_index\n",
    "known_phrase_indicies = get_phrase_indices(known_phrases = known_phrases, all_phrases = phrase_index['phrases'])"
   ]
  },
  {
   "cell_type": "code",
   "execution_count": 9,
   "metadata": {},
   "outputs": [],
   "source": [
    "from copy import deepcopy\n",
    "from src.nlp import remove_unknown_index_values\n",
    "\n",
    "#if we don't know a phrase, we don't want to retrieve that from the index and link it to a story\n",
    "known_index = deepcopy(phrase_index)\n",
    "known_index['verb_index'] = remove_unknown_index_values(known_phrase_indicies, known_index['verb_index'])\n",
    "known_index['vocab_index'] = remove_unknown_index_values(known_phrase_indicies, known_index['vocab_index'])"
   ]
  },
  {
   "cell_type": "code",
   "execution_count": 10,
   "metadata": {},
   "outputs": [],
   "source": [
    "sampled_phrases = random.sample(known_phrases, min(75, len(known_phrases)))\n"
   ]
  },
  {
   "cell_type": "code",
   "execution_count": 12,
   "metadata": {},
   "outputs": [],
   "source": [
    "#or use sampled_phrases\n",
    "vocab_dict_flashcards = get_vocab_dictionary_from_phrases(sampled_phrases) #75 phrases should give a decent amount of vocab"
   ]
  },
  {
   "cell_type": "markdown",
   "metadata": {},
   "source": [
    "Now generate the story"
   ]
  },
  {
   "cell_type": "code",
   "execution_count": 13,
   "metadata": {},
   "outputs": [
    {
     "name": "stdout",
     "output_type": "stream",
     "text": [
      "Function that called this one: generate_story. Sleeping for 20 seconds\n",
      "generated story: Camping Trip Gone Awry\n"
     ]
    }
   ],
   "source": [
    "from src.dialogue_generation import generate_story\n",
    "\n",
    "story_name, story_dialogue = generate_story(vocab_dict_flashcards)\n"
   ]
  },
  {
   "cell_type": "code",
   "execution_count": 8,
   "metadata": {},
   "outputs": [],
   "source": [
    "story_name = \"dining_dilemma_at_local_restaurant\"\n",
    "clean_story_name = f\"story_{story_name.lower().replace(' ', '_')}\"\n"
   ]
  },
  {
   "cell_type": "code",
   "execution_count": null,
   "metadata": {},
   "outputs": [],
   "source": [
    "\n",
    "story_path = story_dir / clean_story_name / f\"{clean_story_name}.json\"\n"
   ]
  },
  {
   "cell_type": "code",
   "execution_count": null,
   "metadata": {},
   "outputs": [],
   "source": [
    "\n",
    "save_json(story_dialogue, story_path)\n",
    "print(f\"saved story to {story_path}\")"
   ]
  },
  {
   "cell_type": "markdown",
   "metadata": {},
   "source": [
    "We find that the LLM goes a bit beyond the vocab found in the flashcards"
   ]
  },
  {
   "cell_type": "code",
   "execution_count": 15,
   "metadata": {},
   "outputs": [
    {
     "name": "stdout",
     "output_type": "stream",
     "text": [
      "=== VOCABULARY COVERAGE ANALYSIS ===\n",
      "Target verbs covered by flashcards: 56.8%\n",
      "Target vocabulary covered by flashcards: 47.8%\n",
      "\n",
      "Verbs needing new flashcards:\n",
      "['grab', 'turn', 'could', \"'ve\", 'tell'] ...\n",
      "\n",
      "Vocabulary needing new flashcards:\n",
      "['thank', 'portable', 'hey', 'though', 'sometimes'] ...\n"
     ]
    }
   ],
   "source": [
    "vocab_dict_story = get_vocab_dict_from_dialogue(story_dialogue, limit_story_parts=None)\n",
    "vocab_overlap = find_missing_vocabulary(vocab_dict_flashcards, vocab_dict_story)"
   ]
  },
  {
   "cell_type": "markdown",
   "metadata": {},
   "source": [
    "Let's retrieve flashcards we know that better fit the story vocab"
   ]
  },
  {
   "cell_type": "code",
   "execution_count": 16,
   "metadata": {},
   "outputs": [
    {
     "name": "stdout",
     "output_type": "stream",
     "text": [
      "Average knowledge:  0.37\n",
      "=== VOCABULARY COVERAGE ANALYSIS ===\n",
      "Target verbs covered by flashcards: 81.1%\n",
      "Target vocabulary covered by flashcards: 69.0%\n",
      "\n",
      "Verbs needing new flashcards:\n",
      "['grab', 'sleep', 'wake', 'heat', 'pack'] ...\n",
      "\n",
      "Vocabulary needing new flashcards:\n",
      "['portable', 'hey', 'though', 'definitely', 'actually'] ...\n"
     ]
    }
   ],
   "source": [
    "from src.nlp import get_matching_flashcards_indexed\n",
    "\n",
    "# Let's pull all the existing phrases we need to cover the vocab on our story\n",
    "#remember we modified the index to only use flashcards we know\n",
    "known_results = get_matching_flashcards_indexed(vocab_dict_story, known_index)\n",
    "known_flashcards = [card.get('phrase') for card in known_results['selected_cards']]\n",
    "print(\"Average knowledge: \", df.loc[df['EnglishText'].isin(known_flashcards)].knowledge_score.mean())\n",
    "known_vocab_dict = get_vocab_dictionary_from_phrases(known_flashcards)\n",
    "missing_vocab = find_missing_vocabulary(vocab_dict_source=known_vocab_dict, vocab_dict_target=vocab_dict_story)\n",
    "missing_vocab_dict = missing_vocab[\"missing_vocab\"]\n"
   ]
  },
  {
   "cell_type": "markdown",
   "metadata": {},
   "source": [
    "Now supplement these with any remaining flascards we don't yet know"
   ]
  },
  {
   "cell_type": "code",
   "execution_count": 17,
   "metadata": {},
   "outputs": [
    {
     "name": "stdout",
     "output_type": "stream",
     "text": [
      "13\n",
      "=== VOCABULARY COVERAGE ANALYSIS ===\n",
      "Target verbs covered by flashcards: 86.5%\n",
      "Target vocabulary covered by flashcards: 78.8%\n",
      "\n",
      "Verbs needing new flashcards:\n",
      "['grab', 'heat', 'pack', 'soak', 'pour'] \n",
      "\n",
      "Vocabulary needing new flashcards:\n",
      "['portable', 'hey', 'though', 'fun', 'multiple'] ...\n"
     ]
    }
   ],
   "source": [
    "#we should have a higher match in the cell above, we can now draw missing flashcards from the full index\n",
    "\n",
    "additional_results = get_matching_flashcards_indexed(missing_vocab_dict, phrase_index)\n",
    "additional_flashcards = [card.get('phrase') for card in additional_results['selected_cards']]\n",
    "print(len(additional_flashcards))\n",
    "\n",
    "all_flashcards = additional_flashcards + known_flashcards\n",
    "all_flashcards_vocab_dict = get_vocab_dictionary_from_phrases(all_flashcards)\n",
    "final_missing_vocab = find_missing_vocabulary(all_flashcards_vocab_dict, vocab_dict_story)\n"
   ]
  },
  {
   "cell_type": "code",
   "execution_count": 18,
   "metadata": {},
   "outputs": [
    {
     "name": "stdout",
     "output_type": "stream",
     "text": [
      "We need 62 flashcards to cover the story\n"
     ]
    }
   ],
   "source": [
    "print(f\"We need {len(all_flashcards)} flashcards to cover the story\")"
   ]
  },
  {
   "cell_type": "markdown",
   "metadata": {},
   "source": [
    "## Generate the story files\n",
    "Once you are happy with the flashcard coverage, you can:\n",
    "* translate and add audio\n",
    "* create the story images\n",
    "* create the story album files (M4a files with synced lyrics)\n",
    "* create the story HTML file using those previous files, and upload to Google Cloud Storage\n",
    "* tag the flascards with the story name...this will then mean you can link to the story from within Anki (the template uses tags to auto-create hyperlinks)"
   ]
  },
  {
   "cell_type": "code",
   "execution_count": 19,
   "metadata": {},
   "outputs": [
    {
     "name": "stderr",
     "output_type": "stream",
     "text": [
      "adding translations:   0%|          | 0/3 [00:00<?, ?it/s]"
     ]
    },
    {
     "name": "stdout",
     "output_type": "stream",
     "text": [
      "Beginning translation for introduction\n"
     ]
    },
    {
     "name": "stderr",
     "output_type": "stream",
     "text": [
      "adding translations:  33%|███▎      | 1/3 [00:02<00:04,  2.12s/it]"
     ]
    },
    {
     "name": "stdout",
     "output_type": "stream",
     "text": [
      "Translated dialogue\n",
      "Beginning translation for development\n"
     ]
    },
    {
     "name": "stderr",
     "output_type": "stream",
     "text": [
      "adding translations:  67%|██████▋   | 2/3 [00:04<00:02,  2.00s/it]"
     ]
    },
    {
     "name": "stdout",
     "output_type": "stream",
     "text": [
      "Translated dialogue\n",
      "Beginning translation for resolution\n"
     ]
    },
    {
     "name": "stderr",
     "output_type": "stream",
     "text": [
      "adding translations: 100%|██████████| 3/3 [00:05<00:00,  2.00s/it]\n"
     ]
    },
    {
     "name": "stdout",
     "output_type": "stream",
     "text": [
      "Translated dialogue\n"
     ]
    },
    {
     "name": "stderr",
     "output_type": "stream",
     "text": [
      "adding audio:   0%|          | 0/3 [00:00<?, ?it/s]"
     ]
    },
    {
     "name": "stdout",
     "output_type": "stream",
     "text": [
      "Beginning text-to-speech for introduction\n"
     ]
    },
    {
     "name": "stderr",
     "output_type": "stream",
     "text": [
      "Generating dialogue audio: 100%|██████████| 7/7 [00:22<00:00,  3.26s/it]\n",
      "adding audio:  33%|███▎      | 1/3 [00:41<01:22, 41.14s/it]"
     ]
    },
    {
     "name": "stdout",
     "output_type": "stream",
     "text": [
      "Text-to-speech for dialogue done\n",
      "Beginning text-to-speech for development\n"
     ]
    },
    {
     "name": "stderr",
     "output_type": "stream",
     "text": [
      "Generating dialogue audio: 100%|██████████| 9/9 [00:18<00:00,  2.11s/it]\n",
      "adding audio:  67%|██████▋   | 2/3 [01:00<00:28, 28.32s/it]"
     ]
    },
    {
     "name": "stdout",
     "output_type": "stream",
     "text": [
      "Text-to-speech for dialogue done\n",
      "Beginning text-to-speech for resolution\n"
     ]
    },
    {
     "name": "stderr",
     "output_type": "stream",
     "text": [
      "Generating dialogue audio: 100%|██████████| 8/8 [00:19<00:00,  2.46s/it]\n",
      "adding audio: 100%|██████████| 3/3 [01:20<00:00, 26.83s/it]"
     ]
    },
    {
     "name": "stdout",
     "output_type": "stream",
     "text": [
      "Text-to-speech for dialogue done\n"
     ]
    },
    {
     "name": "stderr",
     "output_type": "stream",
     "text": [
      "\n"
     ]
    }
   ],
   "source": [
    "from src.generate import add_audio, add_translations\n",
    "\n",
    "story_dialogue_audio = add_translations(story_dialogue)\n",
    "story_dialogue_audio = add_audio(story_dialogue_audio)"
   ]
  },
  {
   "cell_type": "code",
   "execution_count": 28,
   "metadata": {},
   "outputs": [],
   "source": [
    "#this has target language content in now so we save in language dir\n",
    "#save_pickle(data=story_dialogue_audio, file_path=story_dir / clean_story_name / config.TARGET_LANGUAGE_NAME / f\"{clean_story_name}.pkl\")\n",
    "story_dialogue_audio = load_pickle(story_dir / clean_story_name / config.TARGET_LANGUAGE_NAME / f\"{clean_story_name}.pkl\")"
   ]
  },
  {
   "cell_type": "markdown",
   "metadata": {},
   "source": [
    "Image files for each part of the story:"
   ]
  },
  {
   "cell_type": "code",
   "execution_count": 21,
   "metadata": {},
   "outputs": [
    {
     "name": "stderr",
     "output_type": "stream",
     "text": [
      "Generating story images:   0%|          | 0/3 [00:00<?, ?it/s]"
     ]
    },
    {
     "name": "stdout",
     "output_type": "stream",
     "text": [
      "Function that called this one: create_image_generation_prompt_for_story_part. Sleeping for 20 seconds\n"
     ]
    },
    {
     "name": "stderr",
     "output_type": "stream",
     "text": [
      "Waiting for API cooldown: 100%|\u001b[34m████████████\u001b[0m| 19/19 [00:19<00:00,  1.02s/it]\u001b[0m\n",
      "Waiting for API cooldown: 100%|\u001b[34m████████████\u001b[0m| 15/15 [00:15<00:00,  1.02s/it]\u001b[0m\n",
      "Generating story images:  33%|███▎      | 1/3 [00:52<01:44, 52.39s/it]"
     ]
    },
    {
     "name": "stdout",
     "output_type": "stream",
     "text": [
      "Generated image with imagen using prompt: View from inside a cozy living room, late afternoon sunlight streaming through windows, camping gear and supplies scattered about, backpacks half-packed on the floor, a large tent box visible in the corner, and a warm, excited atmosphere conveyed through the golden light and disarray of preparations in the style of Studio Ghibli art style, soft atmospheric colors, detailed backgrounds, gentle gradients, natural elements, dreamy lighting, painted textures\n",
      "Successfully generated and saved image for introduction\n"
     ]
    },
    {
     "name": "stderr",
     "output_type": "stream",
     "text": [
      "Waiting for API cooldown: 100%|\u001b[34m██████████████\u001b[0m| 6/6 [00:06<00:00,  1.02s/it]\u001b[0m\n"
     ]
    },
    {
     "name": "stdout",
     "output_type": "stream",
     "text": [
      "Function that called this one: create_image_generation_prompt_for_story_part. Sleeping for 20 seconds\n"
     ]
    },
    {
     "name": "stderr",
     "output_type": "stream",
     "text": [
      "Waiting for API cooldown: 100%|\u001b[34m████████████\u001b[0m| 19/19 [00:19<00:00,  1.02s/it]\u001b[0m\n",
      "Waiting for API cooldown: 100%|\u001b[34m████████████\u001b[0m| 16/16 [00:16<00:00,  1.02s/it]\u001b[0m\n",
      "Generating story images:  67%|██████▋   | 2/3 [01:49<00:55, 55.43s/it]"
     ]
    },
    {
     "name": "stdout",
     "output_type": "stream",
     "text": [
      "Generated image with imagen using prompt: View through rain-streaked eyes of a dark, forested path leading to a rocky cave entrance, heavy rainfall obscuring distant trees and creating puddles, early morning gloom casting everything in muted tones and shadows in the style of Studio Ghibli art style, soft atmospheric colors, detailed backgrounds, gentle gradients, natural elements, dreamy lighting, painted textures\n",
      "Successfully generated and saved image for development\n"
     ]
    },
    {
     "name": "stderr",
     "output_type": "stream",
     "text": [
      "Waiting for API cooldown: 100%|\u001b[34m██████████████\u001b[0m| 8/8 [00:08<00:00,  1.01s/it]\u001b[0m\n"
     ]
    },
    {
     "name": "stdout",
     "output_type": "stream",
     "text": [
      "Function that called this one: create_image_generation_prompt_for_story_part. Sleeping for 20 seconds\n"
     ]
    },
    {
     "name": "stderr",
     "output_type": "stream",
     "text": [
      "Waiting for API cooldown: 100%|\u001b[34m████████████\u001b[0m| 19/19 [00:19<00:00,  1.02s/it]\u001b[0m\n",
      "Waiting for API cooldown: 100%|\u001b[34m████████████\u001b[0m| 16/16 [00:16<00:00,  1.02s/it]\u001b[0m\n",
      "Generating story images: 100%|██████████| 3/3 [02:48<00:00, 56.25s/it]"
     ]
    },
    {
     "name": "stdout",
     "output_type": "stream",
     "text": [
      "Generated image with imagen using prompt: Inside a dimly lit cave with a cozy campfire glow, looking out at heavy rain falling beyond the entrance, a small portable stove and camping gear visible in the foreground, creating an atmosphere of unexpected adventure and comfort amidst nature's elements in the style of Studio Ghibli art style, soft atmospheric colors, detailed backgrounds, gentle gradients, natural elements, dreamy lighting, painted textures\n",
      "Successfully generated and saved image for resolution\n"
     ]
    },
    {
     "name": "stderr",
     "output_type": "stream",
     "text": [
      "\n"
     ]
    }
   ],
   "source": [
    "from src.images import generate_and_save_story_images\n",
    "    \n",
    "image_data = generate_and_save_story_images(story_dict=story_dialogue_audio, output_dir = story_dir / clean_story_name, story_name=clean_story_name)\n"
   ]
  },
  {
   "cell_type": "markdown",
   "metadata": {},
   "source": [
    "M4A audio files which you will be able to download and play via a media player.\n",
    "They have synced lyrics which can be viewed in the Oto Music Player app"
   ]
  },
  {
   "cell_type": "code",
   "execution_count": 22,
   "metadata": {},
   "outputs": [
    {
     "name": "stderr",
     "output_type": "stream",
     "text": [
      "creating album:  33%|███▎      | 1/3 [00:03<00:06,  3.25s/it]"
     ]
    },
    {
     "name": "stdout",
     "output_type": "stream",
     "text": [
      "Saved M4A file track number 1\n"
     ]
    },
    {
     "name": "stderr",
     "output_type": "stream",
     "text": [
      "creating album:  67%|██████▋   | 2/3 [00:06<00:03,  3.35s/it]"
     ]
    },
    {
     "name": "stdout",
     "output_type": "stream",
     "text": [
      "Saved M4A file track number 2\n"
     ]
    },
    {
     "name": "stderr",
     "output_type": "stream",
     "text": [
      "creating album: 100%|██████████| 3/3 [00:10<00:00,  3.36s/it]"
     ]
    },
    {
     "name": "stdout",
     "output_type": "stream",
     "text": [
      "Saved M4A file track number 3\n"
     ]
    },
    {
     "name": "stderr",
     "output_type": "stream",
     "text": [
      "\n"
     ]
    }
   ],
   "source": [
    "from PIL import Image\n",
    "from src.story import create_album_files, generate_index_html\n",
    "\n",
    "FIRST_STORY_PART = list(story_dialogue_audio.keys())[0]\n",
    "#may need to change depending on size of story made and what parts there are\n",
    "album_image = Image.open(story_dir / clean_story_name / f\"{clean_story_name}_{FIRST_STORY_PART}.png\")\n",
    "#create m4a file:\n",
    "create_album_files(story_data_dict=story_dialogue_audio, cover_image=album_image, output_dir=story_dir / clean_story_name / config.TARGET_LANGUAGE_NAME, story_name=clean_story_name)"
   ]
  },
  {
   "cell_type": "markdown",
   "metadata": {},
   "source": [
    "Now we generate the main html file - this wraps up the M4A files and image files within it, so it's self-contained"
   ]
  },
  {
   "cell_type": "code",
   "execution_count": 29,
   "metadata": {},
   "outputs": [
    {
     "name": "stderr",
     "output_type": "stream",
     "text": [
      "Preparing HTML data:   0%|          | 0/3 [00:00<?, ?it/s]"
     ]
    },
    {
     "name": "stdout",
     "output_type": "stream",
     "text": [
      "Config file has been modified. Reloading...\n",
      "setting voice override: sv-SE-HilleviNeural\n",
      "setting voice override: sv-SE-MattiasNeural\n"
     ]
    },
    {
     "name": "stderr",
     "output_type": "stream",
     "text": [
      "Preparing HTML data: 100%|██████████| 3/3 [03:31<00:00, 70.42s/it]"
     ]
    },
    {
     "name": "stdout",
     "output_type": "stream",
     "text": [
      "HTML story created at: y:\\Python Scripts\\audio-language-trainer\\outputs\\stories\\story_birthday_party_planning_mishap\\Swedish\\story_birthday_party_planning_mishap.html\n"
     ]
    },
    {
     "name": "stderr",
     "output_type": "stream",
     "text": [
      "\n"
     ]
    }
   ],
   "source": [
    "from src.story import create_html_story\n",
    "\n",
    "create_html_story(\n",
    "            story_data_dict=story_dialogue_audio,\n",
    "            image_dir=story_dir / clean_story_name, #the langauge sub-folders will be picked up automatically\n",
    "            story_name=clean_story_name,\n",
    "        )"
   ]
  },
  {
   "cell_type": "markdown",
   "metadata": {},
   "source": [
    "Upload to a public google cloud bucket"
   ]
  },
  {
   "cell_type": "code",
   "execution_count": 30,
   "metadata": {},
   "outputs": [
    {
     "data": {
      "text/plain": [
       "'https://storage.googleapis.com/audio-language-trainer-stories/swedish/story_birthday_party_planning_mishap/story_birthday_party_planning_mishap.html'"
      ]
     },
     "execution_count": 30,
     "metadata": {},
     "output_type": "execute_result"
    }
   ],
   "source": [
    "html_story_path = story_dir / clean_story_name / config.TARGET_LANGUAGE_NAME / f\"{clean_story_name}.html\"\n",
    "assert html_story_path.exists()\n",
    "upload_story_to_gcs(html_file_path=html_story_path)"
   ]
  },
  {
   "cell_type": "markdown",
   "metadata": {},
   "source": [
    "Now update and reupload our index.html - which allows users to navigate all the stories"
   ]
  },
  {
   "cell_type": "code",
   "execution_count": 25,
   "metadata": {},
   "outputs": [
    {
     "data": {
      "text/plain": [
       "'https://storage.googleapis.com/audio-language-trainer-stories/index.html'"
      ]
     },
     "execution_count": 25,
     "metadata": {},
     "output_type": "execute_result"
    }
   ],
   "source": [
    "generate_index_html()\n",
    "#will default to public GCS bucket\n",
    "upload_to_gcs(\n",
    "    file_path=\"../outputs/stories/index.html\",\n",
    "    content_type=\"text/html\"\n",
    ")\n"
   ]
  },
  {
   "cell_type": "markdown",
   "metadata": {},
   "source": [
    "## Linking stories to flash cards\n",
    "We will use the Anki tag feature. Given a list of english phrases that are required to understand a story, we can tag each of those phrases within a specific Anki Deck.\n",
    "\n",
    "The card template will turn any tag starting story_ into a hyperlink to the public google cloud bucket"
   ]
  },
  {
   "cell_type": "code",
   "execution_count": 9,
   "metadata": {},
   "outputs": [
    {
     "data": {
      "text/plain": [
       "'story_dining_dilemma_at_local_restaurant'"
      ]
     },
     "execution_count": 9,
     "metadata": {},
     "output_type": "execute_result"
    }
   ],
   "source": [
    "clean_story_name"
   ]
  },
  {
   "cell_type": "code",
   "execution_count": 11,
   "metadata": {},
   "outputs": [
    {
     "name": "stdout",
     "output_type": "stream",
     "text": [
      "audio-language-trainer\\src\\anki_tools.py:217:save() is deprecated: saving is automatic\n",
      "Updated 55 notes\n"
     ]
    }
   ],
   "source": [
    "#sometimes this needs running twice...\n",
    "from src.anki_tools import add_tag_to_matching_notes\n",
    "\n",
    "updates, errors = add_tag_to_matching_notes(\n",
    "    deck_name=DECK_NAME,\n",
    "    phrases=phrases,\n",
    "    tag=clean_story_name\n",
    ")\n",
    "\n",
    "print(f\"Updated {updates} notes\")\n",
    "if errors:\n",
    "    print(\"Errors encountered:\")\n",
    "    for error in errors:\n",
    "        print(f\"- {error}\")"
   ]
  },
  {
   "cell_type": "code",
   "execution_count": 12,
   "metadata": {},
   "outputs": [
    {
     "data": {
      "text/plain": [
       "(55, 19)"
      ]
     },
     "execution_count": 12,
     "metadata": {},
     "output_type": "execute_result"
    }
   ],
   "source": [
    "df_deck = get_deck_contents(DECK_NAME)\n",
    "df_deck.query(\"tags == @clean_story_name\").shape"
   ]
  },
  {
   "cell_type": "code",
   "execution_count": 13,
   "metadata": {},
   "outputs": [
    {
     "data": {
      "text/plain": [
       "<Axes: >"
      ]
     },
     "execution_count": 13,
     "metadata": {},
     "output_type": "execute_result"
    },
    {
     "data": {
      "image/png": "[encoded data removed]",
      "text/plain": [
       "<Figure size 640x480 with 1 Axes>"
      ]
     },
     "metadata": {},
     "output_type": "display_data"
    }
   ],
   "source": [
    "#we should know most of the vocab...\n",
    "df_deck.query(\"tags == @clean_story_name\").knowledge_score.hist()"
   ]
  },
  {
   "cell_type": "markdown",
   "metadata": {},
   "source": []
  }
 ],
 "metadata": {
  "kernelspec": {
   "display_name": ".venv",
   "language": "python",
   "name": "python3"
  },
  "language_info": {
   "codemirror_mode": {
    "name": "ipython",
    "version": 3
   },
   "file_extension": ".py",
   "mimetype": "text/x-python",
   "name": "python",
   "nbconvert_exporter": "python",
   "pygments_lexer": "ipython3",
   "version": "3.11.4"
  }
 },
 "nbformat": 4,
 "nbformat_minor": 2
}
