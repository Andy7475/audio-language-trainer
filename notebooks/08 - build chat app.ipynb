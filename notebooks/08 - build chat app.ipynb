{
 "cells": [
  {
   "cell_type": "code",
   "execution_count": 2,
   "metadata": {},
   "outputs": [],
   "source": [
    "%load_ext autoreload"
   ]
  },
  {
   "cell_type": "code",
   "execution_count": 3,
   "metadata": {},
   "outputs": [
    {
     "name": "stdout",
     "output_type": "stream",
     "text": [
      "setting voice override: sv-SE-Wavenet-F\n",
      "setting voice override: sv-SE-Wavenet-G\n",
      "FFmpeg path added to system PATH: C:\\Program Files\\ffmpeg-7.0-essentials_build\\bin\n"
     ]
    }
   ],
   "source": [
    "%autoreload 2\n",
    "import os\n",
    "import sys\n",
    "from pathlib import Path\n",
    "from src.story import create_html_challenges\n",
    "chat_app_dir = Path().absolute().parent / \"chat-app\"\n",
    "assert chat_app_dir.exists()\n",
    "if (str(chat_app_dir)) not in sys.path:\n",
    "    sys.path.append(str(chat_app_dir))\n",
    "from src_code.utils.build import create_chat_interface\n"
   ]
  },
  {
   "cell_type": "code",
   "execution_count": 4,
   "metadata": {},
   "outputs": [],
   "source": [
    "notebook_dir = Path().absolute()  # This gives src/notebooks\n",
    "phrase_dir = notebook_dir.parent / \"data\" / \"phrases\" #where we store text files of phrases\n",
    "story_dir = notebook_dir.parent / \"outputs\" / \"stories\" # where we store our stories\n",
    "chat_dir = notebook_dir.parent / \"chat\""
   ]
  },
  {
   "cell_type": "code",
   "execution_count": 5,
   "metadata": {},
   "outputs": [
    {
     "name": "stdout",
     "output_type": "stream",
     "text": [
      "HTML challenges created at: y:\\Python Scripts\\audio-language-trainer\\chat\\duolaingo_conversation_practice.html\n"
     ]
    }
   ],
   "source": [
    "\n",
    "# Example challenges for testing\n",
    "test_challenges = [\n",
    "    {\n",
    "        \"challenge_description\": \"You are at a coffee shop, find out the server's name.\",\n",
    "        \"llm_prompt\": \"\"\"You are a barista at a coffee shop. Your name is Willow.\"\"\",\n",
    "        \"answer\": \"The person's name is Willow\"\n",
    "    },\n",
    "    {\n",
    "        \"challenge_description\": \"Order a coffee in Swedish and ask how much it costs\",\n",
    "        \"llm_prompt\": \"\"\"You are a role playing Swedish café worker for language learning. The learners has a challenge to order a coffee and find the price (they cost 10 kronor).\n",
    "        Respond naturally in Swedish; guiding the learner (using swedish) if the make a mistake.\"\"\",\n",
    "        \"answer\": \"The coffee costs 10 kronor (price in Swedish: 'Det kostar tio kronor')\"\n",
    "    },\n",
    "    {\n",
    "    \"challenge_description\": \"Order 2 beers in Russian and find out what the waitress thinks of your friend\",\n",
    "    \"llm_prompt\": \"\"\"IMPORTANT: Respond ONLY in Russian, no English.\n",
    "    \n",
    "    You are a waitress at a Russian bar. When customers order drinks, respond only in Russian. If they ask about their friend, say \"очень красивый\" (very handsome). If they make mistakes, guide them in Russian.\n",
    "    \n",
    "    DO NOT use any English - maintain Russian immersion.\"\"\",\n",
    "    \"answer\": \"The waitress thinks the friend is very handsome (in Russian: 'очень красивый')\"\n",
    "}\n",
    "]\n",
    "\n",
    "\n",
    "# Create the HTML file with test challenges\n",
    "create_html_challenges(\n",
    "    challenges=test_challenges,\n",
    "    output_dir=chat_dir,\n",
    "    title=\"DuoLaingo Conversation Practice\",\n",
    "    language=\"English and Swedish\"\n",
    ")"
   ]
  }
 ],
 "metadata": {
  "kernelspec": {
   "display_name": ".venv",
   "language": "python",
   "name": "python3"
  },
  "language_info": {
   "codemirror_mode": {
    "name": "ipython",
    "version": 3
   },
   "file_extension": ".py",
   "mimetype": "text/x-python",
   "name": "python",
   "nbconvert_exporter": "python",
   "pygments_lexer": "ipython3",
   "version": "3.11.4"
  }
 },
 "nbformat": 4,
 "nbformat_minor": 2
}
