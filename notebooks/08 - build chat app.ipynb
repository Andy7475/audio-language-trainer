{
 "cells": [
  {
   "cell_type": "code",
   "execution_count": 1,
   "metadata": {},
   "outputs": [],
   "source": [
    "%load_ext autoreload"
   ]
  },
  {
   "cell_type": "code",
   "execution_count": 8,
   "metadata": {},
   "outputs": [],
   "source": [
    "%autoreload 2\n",
    "import os\n",
    "import sys\n",
    "from pathlib import Path\n",
    "import pyperclip\n",
    "from src.story import create_html_challenges\n",
    "\n",
    "chat_app_dir = Path().absolute().parent / \"chat-app\"\n",
    "assert chat_app_dir.exists()\n",
    "if (str(chat_app_dir)) not in sys.path:\n",
    "    sys.path.append(str(chat_app_dir))\n",
    "from src.config_loader import config\n",
    "from src.utils import anthropic_generate, upload_to_gcs, load_json\n"
   ]
  },
  {
   "cell_type": "code",
   "execution_count": 3,
   "metadata": {},
   "outputs": [],
   "source": [
    "STORY_NAME = \"story_camping_trip_gone_awry\"\n",
    "notebook_dir = Path().absolute()  # This gives src/notebooks\n",
    "phrase_dir = notebook_dir.parent / \"data\" / \"phrases\" #where we store text files of phrases\n",
    "story_dir = notebook_dir.parent / \"outputs\" / \"stories\" / STORY_NAME \n",
    "chat_dir = notebook_dir.parent / \"chat\"\n",
    "story_dialgoue_file = story_dir / f\"{STORY_NAME}.json\""
   ]
  },
  {
   "cell_type": "code",
   "execution_count": 4,
   "metadata": {},
   "outputs": [],
   "source": [
    "story_dialogue = load_json(story_dialgoue_file)"
   ]
  },
  {
   "cell_type": "code",
   "execution_count": 16,
   "metadata": {},
   "outputs": [],
   "source": [
    "def get_challenge_generation_prompt(story_dialogue: dict) -> str:\n",
    "    \"\"\"\n",
    "    Generate a prompt for an LLM to create language learning scenarios where learners\n",
    "    must discover and handle complications.\n",
    "    \n",
    "    Args:\n",
    "        story_dialogue: Dictionary containing dialogue parts (\"setup\", \"resolution\" etc)\n",
    "        \n",
    "    Returns:\n",
    "        str: Formatted prompt for the LLM\n",
    "    \"\"\"\n",
    "    \n",
    "    dialogue_text = []\n",
    "    for part in story_dialogue.values():\n",
    "        if \"dialogue\" in part:\n",
    "            for utterance in part[\"dialogue\"]:\n",
    "                dialogue_text.append(f'{utterance[\"speaker\"]}: {utterance[\"text\"]}')\n",
    "    \n",
    "    story_context = \"\\n\".join(dialogue_text)\n",
    "    \n",
    "    prompt = f\"\"\"Analyze this dialogue and create 5 practical language learning scenarios.\n",
    "Each scenario should have a main challenge where the learner must discover why their request cannot be fulfilled immediately.\n",
    "Base the scenarios on this story context:\n",
    "\n",
    "{story_context}\n",
    "\n",
    "Create the scenarios in this JSON format:\n",
    "{{\n",
    "    \"scenarios\": [\n",
    "        {{\n",
    "            \"role\": \"who the teacher will roleplay (e.g. restaurant staff)\",\n",
    "            \"context\": \"brief setting description\",\n",
    "            \"challenge\": \"overall task to complete (e.g. 'Book a table for {{time}}')\", \n",
    "            \"question\": \"What problem or complication prevents your request? Why isn't it possible?\",\n",
    "            \"variables\": {{\n",
    "                \"time\": [\"6:30\", \"7:00\", \"7:30\"]\n",
    "            }},\n",
    "            \"complications\": [\n",
    "                \"I'm sorry, we're fully booked at {{time}}, but we have space an hour later\",\n",
    "                \"Unfortunately our kitchen closes early today, before {{time}}\",\n",
    "                \"We only have outdoor tables available at {{time}}, and it's expected to rain\"\n",
    "            ],\n",
    "            \"success_criteria\": \"specific condition showing challenge completion (e.g. 'Learner understands the complication and either accepts an alternative time or finds another solution')\"\n",
    "        }}\n",
    "    ]\n",
    "}}\n",
    "\n",
    "Requirements:\n",
    "1. Create 5 common scenarios (restaurant, hotel, shop, etc.)\n",
    "2. Each scenario should have:\n",
    "   - A practical main challenge\n",
    "   - The standard question about discovering the complication\n",
    "   - One simple variable (time, item, day, etc.)\n",
    "   - Three realistic complications that use the variable\n",
    "3. Complications should:\n",
    "   - Clearly explain why the original request can't be fulfilled\n",
    "   - Suggest or hint at possible alternatives\n",
    "   - Use the variable naturally\n",
    "4. Success criteria should:\n",
    "   - Focus on understanding the problem\n",
    "   - Allow for multiple solutions\n",
    "   - Include accepting alternatives\n",
    "\n",
    "Remember:\n",
    "- The question is always about discovering why the request can't be fulfilled\n",
    "- Complications are the answers that will be revealed\n",
    "- Keep language practical and everyday\n",
    "- Every complication should suggest a way forward\n",
    "- Success means understanding the problem and finding a solution\n",
    "\n",
    "Output only the JSON with no additional text.\"\"\"\n",
    "\n",
    "    return prompt"
   ]
  },
  {
   "cell_type": "code",
   "execution_count": 17,
   "metadata": {},
   "outputs": [],
   "source": [
    "prompt = get_challenge_generation_prompt(story_dialogue)"
   ]
  },
  {
   "cell_type": "code",
   "execution_count": 18,
   "metadata": {},
   "outputs": [],
   "source": [
    "pyperclip.copy(prompt)"
   ]
  },
  {
   "cell_type": "code",
   "execution_count": 17,
   "metadata": {},
   "outputs": [
    {
     "name": "stdout",
     "output_type": "stream",
     "text": [
      "HTML challenges created at: y:\\Python Scripts\\audio-language-trainer\\chat\\duolaingo_conversation_practice.html\n"
     ]
    }
   ],
   "source": [
    "\n",
    "# Example challenges for testing\n",
    "test_challenges = [\n",
    "    {\n",
    "        \"challenge_description\": \"You are at a coffee shop, find out the server's name.\",\n",
    "        \"llm_prompt\": \"\"\"You are a barista at a coffee shop. Your name is Willow.\"\"\",\n",
    "        \"answer\": \"The person's name is Willow\"\n",
    "    },\n",
    "    {\n",
    "        \"challenge_description\": \"Order a coffee in Swedish and ask how much it costs\",\n",
    "        \"llm_prompt\": \"\"\"You are a role playing Swedish café worker for language learning. The learners has a challenge to order a coffee and find the price (they cost 10 kronor).\n",
    "        Respond naturally in Swedish; guiding the learner (using swedish) if the make a mistake.\"\"\",\n",
    "        \"answer\": \"The coffee costs 10 kronor (price in Swedish: 'Det kostar tio kronor')\"\n",
    "    },\n",
    "    {\n",
    "    \"challenge_description\": \"Order 2 beers in Russian and find out what the waitress thinks of your friend\",\n",
    "    \"llm_prompt\": \"\"\"IMPORTANT: Respond ONLY in Russian, no English.\n",
    "    \n",
    "    You are a waitress at a Russian bar. When customers order drinks, respond only in Russian. If they ask about their friend, say \"очень красивый\" (very handsome). If they make mistakes, guide them in Russian.\n",
    "    \n",
    "    DO NOT use any English - maintain Russian immersion.\"\"\",\n",
    "    \"answer\": \"The waitress thinks the friend is very handsome (in Russian: 'очень красивый')\"\n",
    "},\n",
    "    {\n",
    "    \"challenge_description\": \"Order a massive cake in Spanish\",\n",
    "    \"llm_prompt\": \"\"\"IMPORTANT: Respond ONLY in Spanish, no English.\n",
    "    \n",
    "    You are a waitress at a Spanish cafe. Respond to the customer request, they are trying to order cake. Guide them to the correct use of Spanish if they make a mistake.\n",
    "    \n",
    "    DO NOT use any English - maintain Spanish immersion.\"\"\",\n",
    "    \"answer\": \"None really\"\n",
    "}\n",
    "]\n",
    "\n",
    "\n",
    "# Create the HTML file with test challenges\n",
    "create_html_challenges(\n",
    "    challenges=test_challenges,\n",
    "    output_dir=chat_dir,\n",
    "    title=\"DuoLaingo Conversation Practice\",\n",
    "    language=\"English and Swedish\"\n",
    ")"
   ]
  },
  {
   "cell_type": "code",
   "execution_count": 18,
   "metadata": {},
   "outputs": [
    {
     "data": {
      "text/plain": [
       "'https://storage.googleapis.com/audio-language-trainer-stories/test_challenges/duolaingo_conversation_practice.html'"
      ]
     },
     "execution_count": 18,
     "metadata": {},
     "output_type": "execute_result"
    }
   ],
   "source": [
    "upload_to_gcs(file_path=chat_dir / \"duolaingo_conversation_practice.html\", bucket_prefix=\"test_challenges\", )"
   ]
  },
  {
   "cell_type": "code",
   "execution_count": null,
   "metadata": {},
   "outputs": [],
   "source": []
  }
 ],
 "metadata": {
  "kernelspec": {
   "display_name": ".venv",
   "language": "python",
   "name": "python3"
  },
  "language_info": {
   "codemirror_mode": {
    "name": "ipython",
    "version": 3
   },
   "file_extension": ".py",
   "mimetype": "text/x-python",
   "name": "python",
   "nbconvert_exporter": "python",
   "pygments_lexer": "ipython3",
   "version": "3.11.4"
  }
 },
 "nbformat": 4,
 "nbformat_minor": 2
}
