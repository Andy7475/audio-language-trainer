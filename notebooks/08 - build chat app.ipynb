{
 "cells": [
  {
   "cell_type": "code",
   "execution_count": 2,
   "metadata": {},
   "outputs": [],
   "source": [
    "%load_ext autoreload"
   ]
  },
  {
   "cell_type": "code",
   "execution_count": 39,
   "metadata": {},
   "outputs": [],
   "source": [
    "%autoreload 2\n",
    "import os\n",
    "import sys\n",
    "from pathlib import Path\n",
    "import pyperclip\n",
    "from src.story import create_html_challenges, clean_story_name\n",
    "\n",
    "chat_app_dir = Path().absolute().parent / \"chat-app\"\n",
    "assert chat_app_dir.exists()\n",
    "if (str(chat_app_dir)) not in sys.path:\n",
    "    sys.path.append(str(chat_app_dir))\n",
    "from src.config_loader import config\n",
    "from src.utils import anthropic_generate, upload_to_gcs, load_json, extract_json_from_llm_response\n",
    "from src.chat import get_challenge_generation_prompt, generate_roleplay_prompt, create_html_challenges, get_html_challenge_inputs"
   ]
  },
  {
   "cell_type": "code",
   "execution_count": 53,
   "metadata": {},
   "outputs": [],
   "source": [
    "STORY_NAME = \"story_community_park\"\n",
    "notebook_dir = Path().absolute()  # This gives src/notebooks\n",
    "phrase_dir = notebook_dir.parent / \"data\" / \"phrases\" #where we store text files of phrases\n",
    "story_dir = notebook_dir.parent / \"outputs\" / \"stories\" / STORY_NAME \n",
    "chat_dir = story_dir / config.TARGET_LANGUAGE_NAME\n",
    "story_dialgoue_file = story_dir / f\"{STORY_NAME}.json\""
   ]
  },
  {
   "cell_type": "code",
   "execution_count": 54,
   "metadata": {},
   "outputs": [],
   "source": [
    "story_dialogue = load_json(story_dialgoue_file)"
   ]
  },
  {
   "cell_type": "code",
   "execution_count": 55,
   "metadata": {},
   "outputs": [
    {
     "name": "stdout",
     "output_type": "stream",
     "text": [
      "Function that called this one: <module>. Sleeping for 20 seconds\n"
     ]
    }
   ],
   "source": [
    "prompt = get_challenge_generation_prompt(story_dialogue)\n",
    "scenario_dicts = extract_json_from_llm_response(anthropic_generate(prompt, max_tokens=5000))"
   ]
  },
  {
   "cell_type": "code",
   "execution_count": 56,
   "metadata": {},
   "outputs": [
    {
     "name": "stdout",
     "output_type": "stream",
     "text": [
      "HTML challenges created at: y:\\Python Scripts\\audio-language-trainer\\outputs\\stories\\story_community_park\\Swedish\\challenges.html\n"
     ]
    }
   ],
   "source": [
    "challenges = get_html_challenge_inputs(scenario_dicts)\n",
    "chat_webpage_file = create_html_challenges(challenges, output_dir=chat_dir,\n",
    "story_name=STORY_NAME)\n"
   ]
  },
  {
   "cell_type": "code",
   "execution_count": 57,
   "metadata": {},
   "outputs": [
    {
     "data": {
      "text/plain": [
       "'https://storage.googleapis.com/audio-language-trainer-stories/swedish/story_community_park/challenges.html'"
      ]
     },
     "execution_count": 57,
     "metadata": {},
     "output_type": "execute_result"
    }
   ],
   "source": [
    "upload_to_gcs(file_path=chat_webpage_file, bucket_prefix=f\"{config.TARGET_LANGUAGE_NAME}/{STORY_NAME}\")"
   ]
  },
  {
   "cell_type": "code",
   "execution_count": null,
   "metadata": {},
   "outputs": [],
   "source": []
  }
 ],
 "metadata": {
  "kernelspec": {
   "display_name": ".venv",
   "language": "python",
   "name": "python3"
  },
  "language_info": {
   "codemirror_mode": {
    "name": "ipython",
    "version": 3
   },
   "file_extension": ".py",
   "mimetype": "text/x-python",
   "name": "python",
   "nbconvert_exporter": "python",
   "pygments_lexer": "ipython3",
   "version": "3.11.4"
  }
 },
 "nbformat": 4,
 "nbformat_minor": 2
}
