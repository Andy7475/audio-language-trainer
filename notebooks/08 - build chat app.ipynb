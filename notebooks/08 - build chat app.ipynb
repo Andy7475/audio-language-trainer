{
 "cells": [
  {
   "cell_type": "code",
   "execution_count": 1,
   "metadata": {},
   "outputs": [],
   "source": [
    "%load_ext autoreload"
   ]
  },
  {
   "cell_type": "code",
   "execution_count": 2,
   "metadata": {},
   "outputs": [
    {
     "name": "stdout",
     "output_type": "stream",
     "text": [
      "setting voice override: sv-SE-HilleviNeural\n",
      "setting voice override: sv-SE-MattiasNeural\n",
      "FFmpeg path added to system PATH: C:\\Program Files\\ffmpeg-7.0-essentials_build\\bin\n"
     ]
    }
   ],
   "source": [
    "%autoreload 2\n",
    "import os\n",
    "import sys\n",
    "from pathlib import Path\n",
    "import pyperclip\n",
    "from src.story import create_html_challenges\n",
    "\n",
    "chat_app_dir = Path().absolute().parent / \"chat-app\"\n",
    "assert chat_app_dir.exists()\n",
    "if (str(chat_app_dir)) not in sys.path:\n",
    "    sys.path.append(str(chat_app_dir))\n",
    "from src.config_loader import config\n",
    "from src.utils import anthropic_generate, upload_to_gcs, load_json\n"
   ]
  },
  {
   "cell_type": "code",
   "execution_count": 3,
   "metadata": {},
   "outputs": [],
   "source": [
    "STORY_NAME = \"story_camping_trip_gone_awry\"\n",
    "notebook_dir = Path().absolute()  # This gives src/notebooks\n",
    "phrase_dir = notebook_dir.parent / \"data\" / \"phrases\" #where we store text files of phrases\n",
    "story_dir = notebook_dir.parent / \"outputs\" / \"stories\" / STORY_NAME \n",
    "chat_dir = notebook_dir.parent / \"chat\"\n",
    "story_dialgoue_file = story_dir / f\"{STORY_NAME}.json\""
   ]
  },
  {
   "cell_type": "code",
   "execution_count": 4,
   "metadata": {},
   "outputs": [],
   "source": [
    "story_dialogue = load_json(story_dialgoue_file)"
   ]
  },
  {
   "cell_type": "code",
   "execution_count": 16,
   "metadata": {},
   "outputs": [],
   "source": [
    "def get_challenge_generation_prompt(story_dialogue: dict) -> str:\n",
    "    \"\"\"\n",
    "    Generate a prompt for an LLM to create language learning scenarios where learners\n",
    "    must complete a challenge while gathering specific information and potentially\n",
    "    handling complications.\n",
    "    \n",
    "    Args:\n",
    "        story_dialogue: Dictionary containing dialogue parts (\"setup\", \"resolution\" etc)\n",
    "        \n",
    "    Returns:\n",
    "        str: Formatted prompt for the LLM\n",
    "    \"\"\"\n",
    "    \n",
    "    dialogue_text = []\n",
    "    for part in story_dialogue.values():\n",
    "        if \"dialogue\" in part:\n",
    "            for utterance in part[\"dialogue\"]:\n",
    "                dialogue_text.append(f'{utterance[\"speaker\"]}: {utterance[\"text\"]}')\n",
    "    \n",
    "    story_context = \"\\n\".join(dialogue_text)\n",
    "    \n",
    "    prompt = f\"\"\"Analyze this dialogue and create 5 practical language learning scenarios.\n",
    "Each scenario should have a main challenge plus information the learner must discover,\n",
    "with possible complications that could arise.\n",
    "Base the scenarios on this story context:\n",
    "\n",
    "{story_context}\n",
    "\n",
    "Create the scenarios in this JSON format:\n",
    "{{\n",
    "    \"scenarios\": [\n",
    "        {{\n",
    "            \"role\": \"who the teacher will roleplay (e.g. coffee shop staff)\",\n",
    "            \"context\": \"brief setting description\",\n",
    "            \"challenge\": \"overall task to complete (e.g. 'Order a coffee')\",\n",
    "            \"information_task\": \"specific information to discover (e.g. 'What is the price of a  coffee?')\",\n",
    "            \"question\": \"What problem or complication prevents your request? Why isn't it possible?\",\n",
    "            \"complications\": [\n",
    "                \"I'm sorry, our cups are all being washed right now, but I could put it in a mug?\",\n",
    "                \"Unfortunately our coffee machine is just warming up, if you are happy waiting and I'll bring you the order when ready?\",\n",
    "                \"We've run out of coffee cups, but we can serve you in a takeaway cup\"\n",
    "            ],\n",
    "            \"success_criteria\": \"Learner discovers the price of their chosen size while handling any complications with the order\"\n",
    "        }}\n",
    "    ]\n",
    "}}\n",
    "\n",
    "Requirements:\n",
    "1. Create 5 scenarios that relate to the story provided using similar vocabulary\n",
    "2. Each scenario should have:\n",
    "   - A main challenge (e.g. \"order a coffee\")\n",
    "   - An information-seeking task about the variable (e.g. \"what is the price of a coffee?\")\n",
    "   - Three realistic complications to completing the challenge\n",
    "4. Information tasks should:\n",
    "   - Be discoverable through conversation\n",
    "5. Complications should:\n",
    "   - Clearly explain why the original request can't be fulfilled\n",
    "   - Suggest or hint at possible alternatives\n",
    "   - Not prevent the information task completion\n",
    "6. Success criteria should:\n",
    "   - Include both completing the challenge and discovering the information\n",
    "   - Allow for multiple solutions\n",
    "   - Include accepting alternatives\n",
    "\n",
    "Remember:\n",
    "- Keep language practical and everyday\n",
    "- Every complication should suggest a way forward\n",
    "- Success means both understanding any problems and gathering required information\n",
    "\n",
    "Output only the JSON with no additional text.\"\"\"\n",
    "\n",
    "    return prompt"
   ]
  },
  {
   "cell_type": "code",
   "execution_count": 17,
   "metadata": {},
   "outputs": [],
   "source": [
    "prompt = get_challenge_generation_prompt(story_dialogue)"
   ]
  },
  {
   "cell_type": "code",
   "execution_count": 18,
   "metadata": {},
   "outputs": [],
   "source": [
    "pyperclip.copy(prompt)"
   ]
  },
  {
   "cell_type": "code",
   "execution_count": 20,
   "metadata": {},
   "outputs": [],
   "source": [
    "test_scenarios = {\n",
    "\"scenarios\": [\n",
    "{\n",
    "\"role\": \"camping shop assistant\",\n",
    "\"context\": \"Local outdoor equipment shop\",\n",
    "\"challenge\": \"Purchase a tent suitable for two people\",\n",
    "\"information_task\": \"Discover the minimum temperature rating for the tent\",\n",
    "\"question\": \"Why isn't your first tent choice available?\",\n",
    "\"complications\": [\n",
    "\"That model is currently out of stock, but we have a similar one with better waterproofing for just £10 more\",\n",
    "\"The display tent is our last one and has a small repair on the outer layer, but I can offer a 15% discount\",\n",
    "\"This tent is slightly larger than what you asked for, but it's on sale and includes a footprint\"\n",
    "],\n",
    "\"success_criteria\": \"Learner obtains temperature rating information while dealing with stock limitations and makes an informed choice about alternative options\"\n",
    "},\n",
    "{\n",
    "\"role\": \"weather station operator\",\n",
    "\"context\": \"Local weather information centre\",\n",
    "\"challenge\": \"Get detailed weather forecast for a specific camping location\",\n",
    "\"information_task\": \"Find out the overnight temperatures and chance of rain\",\n",
    "\"question\": \"Why can't you get the exact forecast for your location?\",\n",
    "\"complications\": [\n",
    "\"Our local station is undergoing maintenance, but I can give you data from the nearest station 5 miles away\",\n",
    "\"The detailed forecast only goes up to tomorrow evening, but I can give you the general trend for the following days\",\n",
    "\"We don't have specific readings for that valley, but I can tell you about the surrounding higher ground\"\n",
    "],\n",
    "\"success_criteria\": \"Learner obtains weather information for their trip while understanding geographical and technical limitations\"\n",
    "},\n",
    "{\n",
    "\"role\": \"park ranger\",\n",
    "\"context\": \"National park information centre\",\n",
    "\"challenge\": \"Find a suitable camping spot near hiking trails\",\n",
    "\"information_task\": \"Learn about available emergency shelters and their locations\",\n",
    "\"question\": \"Why isn't your preferred camping area accessible?\",\n",
    "\"complications\": [\n",
    "\"That area is closed for wildlife protection, but there's a lovely spot just 2km further along the trail\",\n",
    "\"Recent rainfall has made the usual path muddy, but I can show you an alternative route that takes 15 minutes longer\",\n",
    "\"The main camping area is full, but we have overflow spots available near the ranger station\"\n",
    "],\n",
    "\"success_criteria\": \"Learner discovers emergency shelter locations while adapting to site availability and access restrictions\"\n",
    "},\n",
    "{\n",
    "\"role\": \"outdoor equipment rental staff\",\n",
    "\"context\": \"Camping equipment rental shop\",\n",
    "\"challenge\": \"Rent a portable cooking stove\",\n",
    "\"information_task\": \"Find out fuel type and usage duration\",\n",
    "\"question\": \"Why isn't the standard stove rental available?\",\n",
    "\"complications\": [\n",
    "\"Our gas stoves are all out, but we have multi-fuel stoves that also work with liquid fuel\",\n",
    "\"The weekend package isn't available, but I can offer you a weekly rate for the same price\",\n",
    "\"That model needs maintenance, but I can offer you our premium model at the standard rate\"\n",
    "],\n",
    "\"success_criteria\": \"Learner obtains fuel information while resolving equipment availability issues and understanding alternatives\"\n",
    "},\n",
    "{\n",
    "\"role\": \"campsite manager\",\n",
    "\"context\": \"Campsite reception area\",\n",
    "\"challenge\": \"Check in and find your assigned pitch\",\n",
    "\"information_task\": \"Learn about quiet hours and facilities access times\",\n",
    "\"question\": \"Why can't you access your booked pitch?\",\n",
    "\"complications\": [\n",
    "\"Recent rain has made your booked pitch waterlogged, but we have a drier spot on higher ground\",\n",
    "\"That area is being renovated, but we can offer you a premium pitch at the standard rate\",\n",
    "\"There's a fallen tree blocking access to that section, but we have a similar spot closer to the facilities\"\n",
    "],\n",
    "\"success_criteria\": \"Learner obtains campsite rules and timing information while handling site allocation changes\"\n",
    "}\n",
    "]\n",
    "}"
   ]
  },
  {
   "cell_type": "code",
   "execution_count": 21,
   "metadata": {},
   "outputs": [],
   "source": [
    "def generate_roleplay_prompt(scenario_data: dict, complication_index: int = 0) -> str:\n",
    "    \"\"\"\n",
    "    Generate a structured roleplay prompt for language learning scenarios.\n",
    "    \n",
    "    Args:\n",
    "        scenario_data (dict): Dictionary containing scenario information including\n",
    "                            role, context, challenges, and complications.\n",
    "        complication_index (int): Index of the complication to use (defaults to 0)\n",
    "    \n",
    "    Returns:\n",
    "        str: Formatted prompt template with placeholders for dynamic content\n",
    "    \"\"\"\n",
    "    if complication_index >= len(scenario_data['complications']):\n",
    "        raise ValueError(f\"Complication index {complication_index} out of range. Max index: {len(scenario_data['complications']) - 1}\")\n",
    "\n",
    "\n",
    "    prompt_template = f\"\"\"You are a helpful {config.TARGET_LANGUAGE_NAME} language learning assistant. You will engage in roleplay scenarios to help users practice their {config.TARGET_LANGUAGE_NAME} conversation skills. Here are the details for this challenge:\n",
    "\n",
    "[ROLEPLAY SCENARIO]\n",
    "You are playing the role of: {scenario_data['role']}\n",
    "Context: {scenario_data['context']}\n",
    "\n",
    "[LEARNER'S TASK]\n",
    "The learner needs to: {scenario_data['challenge']}\n",
    "They must also find out (FIND_OUT): {scenario_data['information_task']}\n",
    "\n",
    "[CORRECT INFORMATION TO PROVIDE]\n",
    "When the learner asks appropriately, you should create a suitable answer to what they are trying to find out (FIND_OUT) - remembering this answer to reveal at the end of the role-play.\n",
    "\n",
    "[COMPLICATION TO HANDLE]\n",
    "The roleplay has a complication for the learner: {scenario_data['question']}\n",
    "You should explain: {scenario_data['complications'][complication_index]}\n",
    "\n",
    "[SCENARIO FLOW]\n",
    "1. You should begin by greeting the learner in character\n",
    "2. You should respond naturally to the learner, in character, gently guiding them to find out the answers to their questions if they are struggling.\n",
    "3. If there is a complication, introduce it at the appropriate moment\n",
    "\n",
    "[CHALLENGE: SUCCESS CONDITIONS]\n",
    "{scenario_data['success_criteria']}\n",
    "\n",
    "ROLEPLAY GUIDELINES:\n",
    "1. Begin each interaction in {config.TARGET_LANGUAGE_NAME} staying in character for the scenario\n",
    "2. If the learner says \"PAUSE ROLEPLAY\", temporarily break character to:\n",
    "   - Provide relevant phrases or vocabulary in English\n",
    "   - Explain the current expectation\n",
    "   - Then resume the roleplay in {config.TARGET_LANGUAGE_NAME}\n",
    "3. If the learner is struggling, provide subtle hints while maintaining the roleplay\n",
    "4. Use simple, clear {config.TARGET_LANGUAGE_NAME} appropriate for the learner's level\n",
    "5. Stay in {config.TARGET_LANGUAGE_NAME} until the success conditions are met\n",
    "6. Once success conditions are met, provide constructive feedback in English about:\n",
    "   - Successful language usage\n",
    "   - Reveal the answer to what they had to find out (FIND_OUT)\n",
    "   - Areas for improvement\n",
    "   - Alternative phrases they could have used\n",
    "\n",
    "Start by introducing yourself in character, in {config.TARGET_LANGUAGE_NAME} appropriate to the challenge context and specified role.\"\"\"\n",
    "\n",
    "    return prompt_template\n",
    "\n"
   ]
  },
  {
   "cell_type": "code",
   "execution_count": 25,
   "metadata": {},
   "outputs": [],
   "source": [
    "\n",
    "prompt_chat = generate_roleplay_prompt(test_scenarios['scenarios'][0], 0)\n",
    "pyperclip.copy(prompt_chat)\n"
   ]
  },
  {
   "cell_type": "code",
   "execution_count": null,
   "metadata": {},
   "outputs": [],
   "source": []
  },
  {
   "cell_type": "code",
   "execution_count": 18,
   "metadata": {},
   "outputs": [
    {
     "data": {
      "text/plain": [
       "'https://storage.googleapis.com/audio-language-trainer-stories/test_challenges/duolaingo_conversation_practice.html'"
      ]
     },
     "execution_count": 18,
     "metadata": {},
     "output_type": "execute_result"
    }
   ],
   "source": [
    "upload_to_gcs(file_path=chat_dir / \"duolaingo_conversation_practice.html\", bucket_prefix=\"test_challenges\", )"
   ]
  },
  {
   "cell_type": "code",
   "execution_count": null,
   "metadata": {},
   "outputs": [],
   "source": []
  }
 ],
 "metadata": {
  "kernelspec": {
   "display_name": ".venv",
   "language": "python",
   "name": "python3"
  },
  "language_info": {
   "codemirror_mode": {
    "name": "ipython",
    "version": 3
   },
   "file_extension": ".py",
   "mimetype": "text/x-python",
   "name": "python",
   "nbconvert_exporter": "python",
   "pygments_lexer": "ipython3",
   "version": "3.11.4"
  }
 },
 "nbformat": 4,
 "nbformat_minor": 2
}
