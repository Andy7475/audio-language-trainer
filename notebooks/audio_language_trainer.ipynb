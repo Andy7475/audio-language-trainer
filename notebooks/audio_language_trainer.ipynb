{
 "cells": [
  {
   "cell_type": "code",
   "execution_count": 1,
   "metadata": {},
   "outputs": [],
   "source": [
    "%load_ext autoreload"
   ]
  },
  {
   "cell_type": "code",
   "execution_count": 2,
   "metadata": {},
   "outputs": [],
   "source": [
    "import os\n",
    "from dotenv import load_dotenv\n",
    "import sys\n",
    "import os\n",
    "import networkx as nx\n",
    "\n",
    "# Add the parent directory of 'src' to the Python path\n",
    "module_path = os.path.abspath(os.path.join('..'))\n",
    "if module_path not in sys.path:\n",
    "    sys.path.append(module_path)\n",
    "# Load environment variables from .env file\n"
   ]
  },
  {
   "cell_type": "code",
   "execution_count": 3,
   "metadata": {},
   "outputs": [],
   "source": [
    "from google.auth import default\n",
    "credentials, project = default()"
   ]
  },
  {
   "cell_type": "code",
   "execution_count": 4,
   "metadata": {},
   "outputs": [],
   "source": [
    "%autoreload 2\n",
    "# Now you can import from your local modules\n",
    "from src.phrase import correct_grammar\n",
    "\n",
    "# Test the import\n",
    "#correct_grammar(\"He love you\")"
   ]
  },
  {
   "cell_type": "code",
   "execution_count": 5,
   "metadata": {},
   "outputs": [
    {
     "name": "stdout",
     "output_type": "stream",
     "text": [
      "FFmpeg path added to system PATH: C:\\Program Files\\ffmpeg-7.0-essentials_build\\bin\n"
     ]
    },
    {
     "name": "stderr",
     "output_type": "stream",
     "text": [
      "c:\\Users\\i5\\Documents\\Python Scripts\\audio-language-trainer\\.venv\\Lib\\site-packages\\pydub\\utils.py:170: RuntimeWarning: Couldn't find ffmpeg or avconv - defaulting to ffmpeg, but may not work\n",
      "  warn(\"Couldn't find ffmpeg or avconv - defaulting to ffmpeg, but may not work\", RuntimeWarning)\n"
     ]
    }
   ],
   "source": [
    "\n",
    "\n",
    "# Usage examples\n",
    "from src.audio_generation import  text_to_speech, play_audio"
   ]
  },
  {
   "cell_type": "code",
   "execution_count": 6,
   "metadata": {},
   "outputs": [],
   "source": [
    "#audio_seg = text_to_speech(\"hello world\", language_code=\"en-GB\", voice_name=\"en-GB-Studio-C\")\n",
    "#play_audio(audio_seg)"
   ]
  },
  {
   "cell_type": "code",
   "execution_count": 7,
   "metadata": {},
   "outputs": [],
   "source": [
    "from src.dialogue_generation import anthropic_generate\n",
    "\n",
    "#anthropic_generate(\"test\") now enabled"
   ]
  },
  {
   "cell_type": "code",
   "execution_count": 63,
   "metadata": {},
   "outputs": [],
   "source": [
    "from src.language_graph import get_sentences_from_dialogue, get_directed_graph_from_sentence, plot_sentence_graph\n",
    "\n",
    "input_dialogue = [\n",
    "        (\"personA\", \"Hello, can I have a coffee? Can I also have a cake?\"),\n",
    "        (\"personB\", \"Yes, of course. What size would you like?\"),\n",
    "        (\"personA\", \"Medium, please.\"),\n",
    "        (\"personB\", \"OK, Goodbye.\"),\n",
    "    ]\n",
    "\n",
    "input_dialogue_small = [\n",
    "        (\"personA\", \"Hello, I want a coffee\"),\n",
    "        (\"personB\", \"Yes, you can have some cake\"),\n",
    "    ]"
   ]
  },
  {
   "cell_type": "code",
   "execution_count": 64,
   "metadata": {},
   "outputs": [],
   "source": [
    "sents = get_sentences_from_dialogue(input_dialogue_small)"
   ]
  },
  {
   "cell_type": "code",
   "execution_count": 65,
   "metadata": {},
   "outputs": [
    {
     "data": {
      "text/plain": [
       "[[{'text': 'Hello', 'text_lower': 'hello', 'part_of_speech': 'INTJ'},\n",
       "  {'text': ',', 'text_lower': ',', 'part_of_speech': 'PUNCT'},\n",
       "  {'text': 'I', 'text_lower': 'i', 'part_of_speech': 'PRON'},\n",
       "  {'text': 'want', 'text_lower': 'want', 'part_of_speech': 'VERB'},\n",
       "  {'text': 'a', 'text_lower': 'a', 'part_of_speech': 'DET'},\n",
       "  {'text': 'coffee', 'text_lower': 'coffee', 'part_of_speech': 'NOUN'}],\n",
       " [{'text': 'Yes', 'text_lower': 'yes', 'part_of_speech': 'INTJ'},\n",
       "  {'text': ',', 'text_lower': ',', 'part_of_speech': 'PUNCT'},\n",
       "  {'text': 'you', 'text_lower': 'you', 'part_of_speech': 'PRON'},\n",
       "  {'text': 'can', 'text_lower': 'can', 'part_of_speech': 'AUX'},\n",
       "  {'text': 'have', 'text_lower': 'have', 'part_of_speech': 'VERB'},\n",
       "  {'text': 'some', 'text_lower': 'some', 'part_of_speech': 'DET'},\n",
       "  {'text': 'cake', 'text_lower': 'cake', 'part_of_speech': 'NOUN'}]]"
      ]
     },
     "execution_count": 65,
     "metadata": {},
     "output_type": "execute_result"
    }
   ],
   "source": [
    "sents"
   ]
  },
  {
   "cell_type": "code",
   "execution_count": 66,
   "metadata": {},
   "outputs": [],
   "source": [
    "import ipywidgets as widgets"
   ]
  },
  {
   "cell_type": "code",
   "execution_count": 70,
   "metadata": {},
   "outputs": [
    {
     "data": {
      "application/vnd.jupyter.widget-view+json": {
       "model_id": "74c1750382a64bc9bbeef6b2340d270e",
       "version_major": 2,
       "version_minor": 0
      },
      "text/plain": [
       "VBox(children=(Button(description='Regenerate Graph', style=ButtonStyle()), CytoscapeWidget(cytoscape_layout={…"
      ]
     },
     "metadata": {},
     "output_type": "display_data"
    }
   ],
   "source": [
    "%autoreload\n",
    "from src.language_graph import get_sentences_from_dialogue, get_merged_graph_from_sentences, create_interactive_sentence_graph, enrich_graph\n",
    "\n",
    "# Get sentences from the dialogue\n",
    "sentences = get_sentences_from_dialogue(input_dialogue_small)\n",
    "\n",
    "# Create a graph from the first sentence\n",
    "G = get_merged_graph_from_sentences(sentences)\n",
    "\n",
    "\n",
    "# Plot the graph\n",
    "# Create the interactive graph\n",
    "interactive_graph = create_interactive_sentence_graph(G)\n",
    "\n",
    "# Display the interactive graph\n",
    "display(interactive_graph)"
   ]
  },
  {
   "cell_type": "code",
   "execution_count": 71,
   "metadata": {},
   "outputs": [
    {
     "name": "stdout",
     "output_type": "stream",
     "text": [
      "Added edge from yes (INTJ) to i (PRON)\n",
      "Added edge from can (AUX) to want (VERB)\n"
     ]
    },
    {
     "data": {
      "application/vnd.jupyter.widget-view+json": {
       "model_id": "0dd29cdd3ed344609aec29926bf7f494",
       "version_major": 2,
       "version_minor": 0
      },
      "text/plain": [
       "VBox(children=(Button(description='Regenerate Graph', style=ButtonStyle()), CytoscapeWidget(cytoscape_layout={…"
      ]
     },
     "metadata": {},
     "output_type": "display_data"
    }
   ],
   "source": [
    "# Enrich the graph, maintaining grammatical directions\n",
    "enriched_graph = enrich_graph(G, num_enrichments=5)\n",
    "\n",
    "# Create the interactive graph\n",
    "interactive_graph = create_interactive_sentence_graph(enriched_graph)\n",
    "\n",
    "# Display the interactive graph\n",
    "display(interactive_graph)"
   ]
  },
  {
   "cell_type": "code",
   "execution_count": null,
   "metadata": {},
   "outputs": [],
   "source": []
  }
 ],
 "metadata": {
  "kernelspec": {
   "display_name": ".venv",
   "language": "python",
   "name": "python3"
  },
  "language_info": {
   "codemirror_mode": {
    "name": "ipython",
    "version": 3
   },
   "file_extension": ".py",
   "mimetype": "text/x-python",
   "name": "python",
   "nbconvert_exporter": "python",
   "pygments_lexer": "ipython3",
   "version": "3.11.4"
  }
 },
 "nbformat": 4,
 "nbformat_minor": 2
}
