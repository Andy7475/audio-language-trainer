{
 "cells": [
  {
   "cell_type": "markdown",
   "metadata": {},
   "source": [
    "# Import"
   ]
  },
  {
   "cell_type": "code",
   "execution_count": 1,
   "metadata": {},
   "outputs": [],
   "source": [
    "%load_ext autoreload\n",
    "%autoreload 2"
   ]
  },
  {
   "cell_type": "code",
   "execution_count": 2,
   "metadata": {},
   "outputs": [],
   "source": [
    "import sys\n",
    "\n",
    "sys.path.insert(0, \"Y:/python scripts/audio-language-trainer/.venv/lib/site-packages\")"
   ]
  },
  {
   "cell_type": "code",
   "execution_count": 3,
   "metadata": {},
   "outputs": [
    {
     "name": "stdout",
     "output_type": "stream",
     "text": [
      "Found config file at: Y:\\Python Scripts\\audio-language-trainer\\src\\config.json\n",
      "Language name: Swedish determined from code sv\n",
      "Successfully loaded config from: Y:\\Python Scripts\\audio-language-trainer\\src\\config.json\n",
      "Multiple country codes available for en: en-AU, en-GB, en-IN, en-US\n",
      "FFmpeg path added to system PATH: C:\\Program Files\\ffmpeg-7.0-essentials_build\\bin\n"
     ]
    }
   ],
   "source": [
    "import os\n",
    "import pickle\n",
    "import sys\n",
    "\n",
    "from dotenv import load_dotenv\n",
    "\n",
    "# Add the parent directory of 'src' to the Python path\n",
    "module_path = os.path.abspath(os.path.join(\"..\"))\n",
    "if module_path not in sys.path:\n",
    "    sys.path.append(module_path)\n",
    "# Load environment variables from .env file\n",
    "load_dotenv()\n",
    "from src.anki_tools import export_to_anki\n",
    "from src.config_loader import config\n",
    "from src.generate import (\n",
    "    add_audio,\n",
    "    add_practice_phrases,\n",
    "    add_translations,\n",
    "    create_album_files,\n",
    "    create_story_plan_and_dialogue,\n",
    ")\n",
    "from src.utils import (\n",
    "    create_html_story,\n",
    "    generate_story_image,\n",
    "    load_json,\n",
    "    save_defaultdict,\n",
    ")"
   ]
  },
  {
   "cell_type": "markdown",
   "metadata": {},
   "source": [
    "## Setup Google Cloud credentials and prerequisites\n",
    "You will need a Google Project with the following APIs enabled:\n",
    "* Text to Speech\n",
    "* Translate\n",
    "* Vertex AI with the following Anthropic models enabled (from the model garden)\n",
    "    * Sonnet 3.5\n",
    "    * Imagen 3\n",
    "* Add your GOOGLE_PROJECT_ID to the .env file\n",
    "\n",
    "You should alter src/config.json which contains your target language.\n"
   ]
  },
  {
   "cell_type": "code",
   "execution_count": 4,
   "metadata": {},
   "outputs": [],
   "source": [
    "from google.auth import default\n",
    "\n",
    "credentials, project = default()"
   ]
  },
  {
   "cell_type": "markdown",
   "metadata": {},
   "source": [
    "### Setup story parameters"
   ]
  },
  {
   "cell_type": "code",
   "execution_count": 5,
   "metadata": {},
   "outputs": [
    {
     "name": "stdout",
     "output_type": "stream",
     "text": [
      "Language name: Swedish determined from code sv\n",
      "Successfully loaded config from: Y:\\Python Scripts\\audio-language-trainer\\src\\config.json\n",
      "Multiple country codes available for en: en-AU, en-GB, en-IN, en-US\n",
      "Your target language is Swedish\n"
     ]
    }
   ],
   "source": [
    "STORY_NAME = \"lost in stockholm\"  # this phrase will be used to prompt the story creation and the cover image creation\n",
    "\n",
    "STORY_NAME_CLEAN = STORY_NAME.replace(\" \", \"_\")  # just to make directory names easier\n",
    "OUTPUT_DIR = f\"../outputs/{STORY_NAME_CLEAN}\"\n",
    "STORY_DATA_PATH = f\"{OUTPUT_DIR}/story_data_{STORY_NAME_CLEAN}.json\"\n",
    "# Create the output directory if it doesn't exist\n",
    "os.makedirs(OUTPUT_DIR, exist_ok=True)\n",
    "config._load_config()\n",
    "print(f\"Your target language is {config.get_language_name()}\")"
   ]
  },
  {
   "cell_type": "markdown",
   "metadata": {},
   "source": [
    "### Generate story content and outputs"
   ]
  },
  {
   "cell_type": "code",
   "execution_count": 9,
   "metadata": {},
   "outputs": [],
   "source": [
    "from src.utils import anthropic_generate, extract_json_from_llm_response"
   ]
  },
  {
   "cell_type": "code",
   "execution_count": 7,
   "metadata": {},
   "outputs": [
    {
     "name": "stdout",
     "output_type": "stream",
     "text": [
      "Function that called this one: <module>. Sleeping for 20 seconds\n"
     ]
    }
   ],
   "source": [
    "response = anthropic_generate(prompt=\"provide a test response in JSON\")"
   ]
  },
  {
   "cell_type": "code",
   "execution_count": 10,
   "metadata": {},
   "outputs": [
    {
     "data": {
      "text/plain": [
       "{'status': 'success',\n",
       " 'code': 200,\n",
       " 'data': {'id': 12345,\n",
       "  'name': 'Test User',\n",
       "  'email': 'testuser@example.com',\n",
       "  'age': 30,\n",
       "  'is_active': True,\n",
       "  'interests': ['programming', 'reading', 'hiking'],\n",
       "  'address': {'street': '123 Main St',\n",
       "   'city': 'Anytown',\n",
       "   'state': 'CA',\n",
       "   'zip': '12345'}},\n",
       " 'metadata': {'timestamp': '2023-04-15T14:30:00Z', 'version': '1.0.0'}}"
      ]
     },
     "execution_count": 10,
     "metadata": {},
     "output_type": "execute_result"
    }
   ],
   "source": [
    "extract_json_from_llm_response(response)"
   ]
  },
  {
   "cell_type": "code",
   "execution_count": null,
   "metadata": {},
   "outputs": [],
   "source": [
    "story_data_dict = create_story_plan_and_dialogue(STORY_NAME, output_dir=OUTPUT_DIR)\n",
    "save_defaultdict(story_data_dict, STORY_DATA_PATH)"
   ]
  },
  {
   "cell_type": "code",
   "execution_count": 13,
   "metadata": {},
   "outputs": [
    {
     "name": "stdout",
     "output_type": "stream",
     "text": [
      "Function that called this one: generate_practice_phrases_from_dialogue. Sleeping for 20 seconds\n",
      "Added practice phrases for exposition\n",
      "\n",
      "Function that called this one: generate_practice_phrases_from_dialogue. Sleeping for 20 seconds\n"
     ]
    },
    {
     "name": "stderr",
     "output_type": "stream",
     "text": [
      "Waiting for API cooldown: 100%|\u001b[34m████████████\u001b[0m| 12/12 [00:12<00:00,  1.00s/it]\u001b[0m\n"
     ]
    },
    {
     "name": "stdout",
     "output_type": "stream",
     "text": [
      "Added practice phrases for rising_action\n",
      "\n",
      "Function that called this one: generate_practice_phrases_from_dialogue. Sleeping for 20 seconds\n"
     ]
    },
    {
     "name": "stderr",
     "output_type": "stream",
     "text": [
      "Waiting for API cooldown: 100%|\u001b[34m████████████\u001b[0m| 11/11 [00:11<00:00,  1.00s/it]\u001b[0m\n"
     ]
    },
    {
     "name": "stdout",
     "output_type": "stream",
     "text": [
      "Added practice phrases for climax\n",
      "\n",
      "Function that called this one: generate_practice_phrases_from_dialogue. Sleeping for 20 seconds\n"
     ]
    },
    {
     "name": "stderr",
     "output_type": "stream",
     "text": [
      "Waiting for API cooldown: 100%|\u001b[34m████████████\u001b[0m| 12/12 [00:12<00:00,  1.00s/it]\u001b[0m\n"
     ]
    },
    {
     "name": "stdout",
     "output_type": "stream",
     "text": [
      "Added practice phrases for falling_action\n",
      "\n",
      "Function that called this one: generate_practice_phrases_from_dialogue. Sleeping for 20 seconds\n"
     ]
    },
    {
     "name": "stderr",
     "output_type": "stream",
     "text": [
      "Waiting for API cooldown: 100%|\u001b[34m████████████\u001b[0m| 11/11 [00:11<00:00,  1.00s/it]\u001b[0m\n"
     ]
    },
    {
     "name": "stdout",
     "output_type": "stream",
     "text": [
      "Added practice phrases for resolution\n",
      "\n"
     ]
    }
   ],
   "source": [
    "story_data_dict = add_practice_phrases(story_data_dict)\n",
    "save_defaultdict(story_data_dict, STORY_DATA_PATH)"
   ]
  },
  {
   "cell_type": "code",
   "execution_count": 14,
   "metadata": {},
   "outputs": [
    {
     "name": "stderr",
     "output_type": "stream",
     "text": [
      "adding translations:   0%|                                                                       | 0/5 [00:00<?, ?it/s]"
     ]
    },
    {
     "name": "stdout",
     "output_type": "stream",
     "text": [
      "Beginning translation for exposition\n",
      "Translated dialogue\n"
     ]
    },
    {
     "name": "stderr",
     "output_type": "stream",
     "text": [
      "adding translations:  20%|████████████▌                                                  | 1/5 [00:00<00:02,  1.85it/s]"
     ]
    },
    {
     "name": "stdout",
     "output_type": "stream",
     "text": [
      "Translated phrases\n",
      "\n",
      "Beginning translation for rising_action\n",
      "Translated dialogue\n"
     ]
    },
    {
     "name": "stderr",
     "output_type": "stream",
     "text": [
      "adding translations:  40%|█████████████████████████▏                                     | 2/5 [00:01<00:01,  1.73it/s]"
     ]
    },
    {
     "name": "stdout",
     "output_type": "stream",
     "text": [
      "Translated phrases\n",
      "\n",
      "Beginning translation for climax\n",
      "Translated dialogue\n"
     ]
    },
    {
     "name": "stderr",
     "output_type": "stream",
     "text": [
      "adding translations:  60%|█████████████████████████████████████▊                         | 3/5 [00:01<00:01,  1.72it/s]"
     ]
    },
    {
     "name": "stdout",
     "output_type": "stream",
     "text": [
      "Translated phrases\n",
      "\n",
      "Beginning translation for falling_action\n",
      "Translated dialogue\n"
     ]
    },
    {
     "name": "stderr",
     "output_type": "stream",
     "text": [
      "adding translations:  80%|██████████████████████████████████████████████████▍            | 4/5 [00:02<00:00,  1.74it/s]"
     ]
    },
    {
     "name": "stdout",
     "output_type": "stream",
     "text": [
      "Translated phrases\n",
      "\n",
      "Beginning translation for resolution\n",
      "Translated dialogue\n"
     ]
    },
    {
     "name": "stderr",
     "output_type": "stream",
     "text": [
      "adding translations: 100%|███████████████████████████████████████████████████████████████| 5/5 [00:02<00:00,  1.75it/s]\n"
     ]
    },
    {
     "name": "stdout",
     "output_type": "stream",
     "text": [
      "Translated phrases\n",
      "\n"
     ]
    },
    {
     "name": "stderr",
     "output_type": "stream",
     "text": [
      "adding audio:   0%|                                                                              | 0/5 [00:00<?, ?it/s]"
     ]
    },
    {
     "name": "stdout",
     "output_type": "stream",
     "text": [
      "Beginning text-to-speech for exposition\n",
      "Text-to-speech for dialogue done\n"
     ]
    },
    {
     "name": "stderr",
     "output_type": "stream",
     "text": [
      "adding audio:  20%|██████████████                                                        | 1/5 [01:34<06:16, 94.15s/it]"
     ]
    },
    {
     "name": "stdout",
     "output_type": "stream",
     "text": [
      "Text-to-speech for phrases done\n",
      "\n",
      "Beginning text-to-speech for rising_action\n",
      "Text-to-speech for dialogue done\n"
     ]
    },
    {
     "name": "stderr",
     "output_type": "stream",
     "text": [
      "adding audio:  40%|████████████████████████████                                          | 2/5 [03:03<04:33, 91.23s/it]"
     ]
    },
    {
     "name": "stdout",
     "output_type": "stream",
     "text": [
      "Text-to-speech for phrases done\n",
      "\n",
      "Beginning text-to-speech for climax\n",
      "Text-to-speech for dialogue done\n"
     ]
    },
    {
     "name": "stderr",
     "output_type": "stream",
     "text": [
      "adding audio:  60%|██████████████████████████████████████████                            | 3/5 [04:28<02:56, 88.42s/it]"
     ]
    },
    {
     "name": "stdout",
     "output_type": "stream",
     "text": [
      "Text-to-speech for phrases done\n",
      "\n",
      "Beginning text-to-speech for falling_action\n",
      "Text-to-speech for dialogue done\n"
     ]
    },
    {
     "name": "stderr",
     "output_type": "stream",
     "text": [
      "adding audio:  80%|████████████████████████████████████████████████████████              | 4/5 [05:46<01:24, 84.54s/it]"
     ]
    },
    {
     "name": "stdout",
     "output_type": "stream",
     "text": [
      "Text-to-speech for phrases done\n",
      "\n",
      "Beginning text-to-speech for resolution\n",
      "Text-to-speech for dialogue done\n"
     ]
    },
    {
     "name": "stderr",
     "output_type": "stream",
     "text": [
      "adding audio: 100%|██████████████████████████████████████████████████████████████████████| 5/5 [07:07<00:00, 85.51s/it]"
     ]
    },
    {
     "name": "stdout",
     "output_type": "stream",
     "text": [
      "Text-to-speech for phrases done\n",
      "\n"
     ]
    },
    {
     "name": "stderr",
     "output_type": "stream",
     "text": [
      "\n",
      "creating album:  20%|█████████████▌                                                      | 1/5 [00:08<00:34,  8.61s/it]"
     ]
    },
    {
     "name": "stdout",
     "output_type": "stream",
     "text": [
      "Saving M4A file track number 1\n"
     ]
    },
    {
     "name": "stderr",
     "output_type": "stream",
     "text": [
      "creating album:  40%|███████████████████████████▏                                        | 2/5 [00:17<00:26,  8.72s/it]"
     ]
    },
    {
     "name": "stdout",
     "output_type": "stream",
     "text": [
      "Saving M4A file track number 2\n"
     ]
    },
    {
     "name": "stderr",
     "output_type": "stream",
     "text": [
      "creating album:  60%|████████████████████████████████████████▊                           | 3/5 [00:25<00:16,  8.26s/it]"
     ]
    },
    {
     "name": "stdout",
     "output_type": "stream",
     "text": [
      "Saving M4A file track number 3\n"
     ]
    },
    {
     "name": "stderr",
     "output_type": "stream",
     "text": [
      "creating album:  80%|██████████████████████████████████████████████████████▍             | 4/5 [00:33<00:08,  8.50s/it]"
     ]
    },
    {
     "name": "stdout",
     "output_type": "stream",
     "text": [
      "Saving M4A file track number 4\n"
     ]
    },
    {
     "name": "stderr",
     "output_type": "stream",
     "text": [
      "creating album: 100%|████████████████████████████████████████████████████████████████████| 5/5 [00:43<00:00,  8.72s/it]"
     ]
    },
    {
     "name": "stdout",
     "output_type": "stream",
     "text": [
      "Saving M4A file track number 5\n"
     ]
    },
    {
     "name": "stderr",
     "output_type": "stream",
     "text": [
      "\n"
     ]
    },
    {
     "name": "stdout",
     "output_type": "stream",
     "text": [
      "Saving M4A file track number 6\n"
     ]
    }
   ],
   "source": [
    "story_data_dict = add_translations(story_data_dict)\n",
    "save_defaultdict(story_data_dict, STORY_DATA_PATH)\n",
    "story_data_dict = await add_audio(story_data_dict)\n",
    "\n",
    "\n",
    "# Saving as pickle file to retain audio data\n",
    "with open(f\"{STORY_DATA_PATH}.pkl\", \"wb\") as file:\n",
    "    pickle.dump(dict(story_data_dict), file)\n",
    "\n",
    "IMAGE_DATA = generate_story_image(STORY_NAME_CLEAN)\n",
    "\n",
    "with open(f\"{OUTPUT_DIR}/cover_artwork.jpg\", \"wb\") as f:\n",
    "    f.write(IMAGE_DATA)\n",
    "\n",
    "create_album_files(story_data_dict, IMAGE_DATA, OUTPUT_DIR, STORY_NAME_CLEAN)"
   ]
  },
  {
   "cell_type": "code",
   "execution_count": 16,
   "metadata": {},
   "outputs": [
    {
     "name": "stdout",
     "output_type": "stream",
     "text": [
      "HTML story created at: ../outputs/lost_in_stockholm/lost_in_stockholm.html\n"
     ]
    }
   ],
   "source": [
    "create_html_story(\n",
    "    story_data_dict,\n",
    "    f\"{OUTPUT_DIR}/{STORY_NAME_CLEAN}.html\",\n",
    "    component_path=\"../src/StoryViewer.js\",\n",
    "    title=STORY_NAME,\n",
    ")\n",
    "\n",
    "# export_to_anki(story_data_dict, OUTPUT_DIR, STORY_NAME_CLEAN)"
   ]
  },
  {
   "cell_type": "markdown",
   "metadata": {},
   "source": [
    "### If picking up from a saved file:"
   ]
  },
  {
   "cell_type": "code",
   "execution_count": 10,
   "metadata": {},
   "outputs": [],
   "source": [
    "with open(f\"{STORY_DATA_PATH}.pkl\", \"rb\") as file:\n",
    "    story_data_dict = pickle.load(file)"
   ]
  },
  {
   "cell_type": "code",
   "execution_count": 11,
   "metadata": {},
   "outputs": [],
   "source": [
    "story_data_dict = load_json(STORY_DATA_PATH)"
   ]
  },
  {
   "cell_type": "code",
   "execution_count": 12,
   "metadata": {},
   "outputs": [
    {
     "data": {
      "text/plain": [
       "{'exposition': {'dialogue': [{'speaker': 'Alex',\n",
       "    'text': \"Hello, Sam! Isn't Stockholm great? I'm so excited to explore the city!\"},\n",
       "   {'speaker': 'Sam',\n",
       "    'text': \"It's amazing! We'll learn so much Swedish here, won't we?\"},\n",
       "   {'speaker': 'Alex',\n",
       "    'text': 'Absolutely! What should we do first? Visit the port or walk through the old town?'},\n",
       "   {'speaker': 'Sam',\n",
       "    'text': \"Let's walk through the old town. How do you spell it in Swedish?\"},\n",
       "   {'speaker': 'Alex',\n",
       "    'text': \"I think it's Gamla Stan. Why don't we ask that person over there?\"},\n",
       "   {'speaker': 'Sam',\n",
       "    'text': 'Great idea! Excuse me, hello! Could you help us, please?'}],\n",
       "  'dialogue_generation_prompt': 'Create a complete multi-part dialogue for language learners following these guidelines:\\n\\n    1. Create separate dialogues for each part of this story plan:\\n    exposition: Alex and Sam, two American students, arrive in Stockholm for a language exchange program. They\\'re excited to explore the city and practice their Swedish.\\nrising_action: While visiting the old town, Gamla Stan, they lose their way in the narrow, winding streets. Their phones are dead, and they can\\'t read the Swedish street signs.\\nclimax: As night falls, they stumble upon a lively Swedish folk dance competition in a small square. Alex and Sam decide to join in, hoping to make friends who can help them.\\nfalling_action: Through broken Swedish and laughter, they connect with locals who offer to guide them. As they walk, Alex and Sam share stories about their home country.\\nresolution: The new friends lead them to their hostel, and they all agree to meet the next day for a proper tour of Stockholm. Alex and Sam feel relieved and excited about their unexpected adventure.\\n\\n    2. For each story part, create dialogue using:\\n    - About 5 verbs from: {\\'spell\\': 1, \\'appear\\': 1, \\'wash\\': 2, \\'compare\\': 2, \\'wash\\': 2, \\'answer\\': 3, \\'cook\\': 3, \\'understand\\': 3, \\'laugh\\': 3, \\'explore\\': 4}\\n    - At least 10 words from: {\\'feet\\': 1, \\'learn\\': 1, \\'hot\\': 1, \\'catch\\': 1, \\'port\\': 1, \\'track\\': 1, \\'please\\': 1, \\'wood\\': 1, \\'quart\\': 1, \\'open\\': 1, \\'invent\\': 1, \\'rather\\': 1, \\'nation\\': 1, \\'leave\\': 1, \\'gave\\': 2, \\'swelling\\': 2, \\'thought\\': 2, \\'stead\\': 2, \\'pot\\': 2, \\'match\\': 2, \\'finger\\': 2, \\'walk\\': 2, \\'phone\\': 2, \\'both\\': 3, \\'person\\': 3, \\'either\\': 3, \\'excited\\': 3, \\'doctor\\': 3, \\'hello\\': 3, \\'great\\': 12}\\n    Prioritize words with lower usage numbers.\\n\\n    3. Each part should incorporate these grammatical concepts:\\n    questions - Wh- questions, questions - Tag questions, negation - Simple negation\\n\\n    4. For each story part:\\n    - Create 6-8 lines of dialogue (20-30 seconds spoken)\\n    - Use only Alex and Sam as speakers\\n    - Keep language simple and appropriate for beginners\\n    - Ensure natural flow between story parts\\n\\n    5. Output format should be a JSON object with story parts as keys:\\n    \\n    {\\n        \"exposition\": {\\n            \"dialogue\": [\\n                {\"speaker\": \"Alex\", \"text\": \"Hello! How are you today?\"},\\n                {\"speaker\": \"Sam\", \"text\": \"I\\'m doing well, thanks for asking.\"}\\n            ]\\n        },\\n        \"rising_action\": {\\n            \"dialogue\": [\\n                ...\\n            ]\\n        },\\n        ...\\n    }\\n    \\n\\n    Remember:\\n    - Each part should advance the story while practicing vocabulary\\n    - Balance concept practice (45%) with story progression (55%)\\n    - Maintain consistent personalities for Alex and Sam\\n    - Keep the story cohesive across all parts\\n    - You can use additional words if needed, but prioritize the provided lists\\n\\n    Generate the complete dialogue for all parts in a single JSON response.'},\n",
       " 'rising_action': {'dialogue': [{'speaker': 'Sam',\n",
       "    'text': \"Alex, I think we're lost. These streets are so narrow and winding!\"},\n",
       "   {'speaker': 'Alex',\n",
       "    'text': \"You're right. I can't understand these street signs. Is your phone working?\"},\n",
       "   {'speaker': 'Sam',\n",
       "    'text': \"No, my phone's dead. Isn't yours working either?\"},\n",
       "   {'speaker': 'Alex',\n",
       "    'text': \"Mine's dead too. We can't track our location or call for help.\"},\n",
       "   {'speaker': 'Sam',\n",
       "    'text': \"What should we do? It's getting dark, and I'd rather not be lost at night.\"},\n",
       "   {'speaker': 'Alex',\n",
       "    'text': \"Don't worry, we'll figure it out. Let's keep walking and try to find someone to help us.\"}],\n",
       "  'dialogue_generation_prompt': 'Create a complete multi-part dialogue for language learners following these guidelines:\\n\\n    1. Create separate dialogues for each part of this story plan:\\n    exposition: Alex and Sam, two American students, arrive in Stockholm for a language exchange program. They\\'re excited to explore the city and practice their Swedish.\\nrising_action: While visiting the old town, Gamla Stan, they lose their way in the narrow, winding streets. Their phones are dead, and they can\\'t read the Swedish street signs.\\nclimax: As night falls, they stumble upon a lively Swedish folk dance competition in a small square. Alex and Sam decide to join in, hoping to make friends who can help them.\\nfalling_action: Through broken Swedish and laughter, they connect with locals who offer to guide them. As they walk, Alex and Sam share stories about their home country.\\nresolution: The new friends lead them to their hostel, and they all agree to meet the next day for a proper tour of Stockholm. Alex and Sam feel relieved and excited about their unexpected adventure.\\n\\n    2. For each story part, create dialogue using:\\n    - About 5 verbs from: {\\'spell\\': 1, \\'appear\\': 1, \\'wash\\': 2, \\'compare\\': 2, \\'wash\\': 2, \\'answer\\': 3, \\'cook\\': 3, \\'understand\\': 3, \\'laugh\\': 3, \\'explore\\': 4}\\n    - At least 10 words from: {\\'feet\\': 1, \\'learn\\': 1, \\'hot\\': 1, \\'catch\\': 1, \\'port\\': 1, \\'track\\': 1, \\'please\\': 1, \\'wood\\': 1, \\'quart\\': 1, \\'open\\': 1, \\'invent\\': 1, \\'rather\\': 1, \\'nation\\': 1, \\'leave\\': 1, \\'gave\\': 2, \\'swelling\\': 2, \\'thought\\': 2, \\'stead\\': 2, \\'pot\\': 2, \\'match\\': 2, \\'finger\\': 2, \\'walk\\': 2, \\'phone\\': 2, \\'both\\': 3, \\'person\\': 3, \\'either\\': 3, \\'excited\\': 3, \\'doctor\\': 3, \\'hello\\': 3, \\'great\\': 12}\\n    Prioritize words with lower usage numbers.\\n\\n    3. Each part should incorporate these grammatical concepts:\\n    questions - Wh- questions, questions - Tag questions, negation - Simple negation\\n\\n    4. For each story part:\\n    - Create 6-8 lines of dialogue (20-30 seconds spoken)\\n    - Use only Alex and Sam as speakers\\n    - Keep language simple and appropriate for beginners\\n    - Ensure natural flow between story parts\\n\\n    5. Output format should be a JSON object with story parts as keys:\\n    \\n    {\\n        \"exposition\": {\\n            \"dialogue\": [\\n                {\"speaker\": \"Alex\", \"text\": \"Hello! How are you today?\"},\\n                {\"speaker\": \"Sam\", \"text\": \"I\\'m doing well, thanks for asking.\"}\\n            ]\\n        },\\n        \"rising_action\": {\\n            \"dialogue\": [\\n                ...\\n            ]\\n        },\\n        ...\\n    }\\n    \\n\\n    Remember:\\n    - Each part should advance the story while practicing vocabulary\\n    - Balance concept practice (45%) with story progression (55%)\\n    - Maintain consistent personalities for Alex and Sam\\n    - Keep the story cohesive across all parts\\n    - You can use additional words if needed, but prioritize the provided lists\\n\\n    Generate the complete dialogue for all parts in a single JSON response.'},\n",
       " 'climax': {'dialogue': [{'speaker': 'Sam',\n",
       "    'text': \"Alex, look! There's some kind of folk dance competition in that square!\"},\n",
       "   {'speaker': 'Alex',\n",
       "    'text': 'Wow, it looks like great fun! Should we join in?'},\n",
       "   {'speaker': 'Sam', 'text': \"Are you sure? We don't know the steps, do we?\"},\n",
       "   {'speaker': 'Alex',\n",
       "    'text': 'No, but it might help us make friends who can help us. Shall we give it a try?'},\n",
       "   {'speaker': 'Sam',\n",
       "    'text': \"Why not? It can't be worse than being lost, can it?\"},\n",
       "   {'speaker': 'Alex',\n",
       "    'text': \"That's the spirit! Let's go and see if we can catch on to the dance moves!\"}],\n",
       "  'dialogue_generation_prompt': 'Create a complete multi-part dialogue for language learners following these guidelines:\\n\\n    1. Create separate dialogues for each part of this story plan:\\n    exposition: Alex and Sam, two American students, arrive in Stockholm for a language exchange program. They\\'re excited to explore the city and practice their Swedish.\\nrising_action: While visiting the old town, Gamla Stan, they lose their way in the narrow, winding streets. Their phones are dead, and they can\\'t read the Swedish street signs.\\nclimax: As night falls, they stumble upon a lively Swedish folk dance competition in a small square. Alex and Sam decide to join in, hoping to make friends who can help them.\\nfalling_action: Through broken Swedish and laughter, they connect with locals who offer to guide them. As they walk, Alex and Sam share stories about their home country.\\nresolution: The new friends lead them to their hostel, and they all agree to meet the next day for a proper tour of Stockholm. Alex and Sam feel relieved and excited about their unexpected adventure.\\n\\n    2. For each story part, create dialogue using:\\n    - About 5 verbs from: {\\'spell\\': 1, \\'appear\\': 1, \\'wash\\': 2, \\'compare\\': 2, \\'wash\\': 2, \\'answer\\': 3, \\'cook\\': 3, \\'understand\\': 3, \\'laugh\\': 3, \\'explore\\': 4}\\n    - At least 10 words from: {\\'feet\\': 1, \\'learn\\': 1, \\'hot\\': 1, \\'catch\\': 1, \\'port\\': 1, \\'track\\': 1, \\'please\\': 1, \\'wood\\': 1, \\'quart\\': 1, \\'open\\': 1, \\'invent\\': 1, \\'rather\\': 1, \\'nation\\': 1, \\'leave\\': 1, \\'gave\\': 2, \\'swelling\\': 2, \\'thought\\': 2, \\'stead\\': 2, \\'pot\\': 2, \\'match\\': 2, \\'finger\\': 2, \\'walk\\': 2, \\'phone\\': 2, \\'both\\': 3, \\'person\\': 3, \\'either\\': 3, \\'excited\\': 3, \\'doctor\\': 3, \\'hello\\': 3, \\'great\\': 12}\\n    Prioritize words with lower usage numbers.\\n\\n    3. Each part should incorporate these grammatical concepts:\\n    questions - Wh- questions, questions - Tag questions, negation - Simple negation\\n\\n    4. For each story part:\\n    - Create 6-8 lines of dialogue (20-30 seconds spoken)\\n    - Use only Alex and Sam as speakers\\n    - Keep language simple and appropriate for beginners\\n    - Ensure natural flow between story parts\\n\\n    5. Output format should be a JSON object with story parts as keys:\\n    \\n    {\\n        \"exposition\": {\\n            \"dialogue\": [\\n                {\"speaker\": \"Alex\", \"text\": \"Hello! How are you today?\"},\\n                {\"speaker\": \"Sam\", \"text\": \"I\\'m doing well, thanks for asking.\"}\\n            ]\\n        },\\n        \"rising_action\": {\\n            \"dialogue\": [\\n                ...\\n            ]\\n        },\\n        ...\\n    }\\n    \\n\\n    Remember:\\n    - Each part should advance the story while practicing vocabulary\\n    - Balance concept practice (45%) with story progression (55%)\\n    - Maintain consistent personalities for Alex and Sam\\n    - Keep the story cohesive across all parts\\n    - You can use additional words if needed, but prioritize the provided lists\\n\\n    Generate the complete dialogue for all parts in a single JSON response.'},\n",
       " 'falling_action': {'dialogue': [{'speaker': 'Sam',\n",
       "    'text': \"Hej! We're a bit lost. Can you help us find our hostel, please?\"},\n",
       "   {'speaker': 'Alex',\n",
       "    'text': \"Yes, we're American students here to learn Swedish. We can't read the street signs yet.\"},\n",
       "   {'speaker': 'Sam',\n",
       "    'text': \"We've been exploring the city, but our phones are dead. We didn't invent a backup plan!\"},\n",
       "   {'speaker': 'Alex',\n",
       "    'text': \"That's right. We thought we could find our way, but we were wrong. Can you understand us?\"},\n",
       "   {'speaker': 'Sam',\n",
       "    'text': \"We're staying near the central station. Do you know where that is?\"},\n",
       "   {'speaker': 'Alex',\n",
       "    'text': 'Thank you so much for your help! Shall we all walk together?'}],\n",
       "  'dialogue_generation_prompt': 'Create a complete multi-part dialogue for language learners following these guidelines:\\n\\n    1. Create separate dialogues for each part of this story plan:\\n    exposition: Alex and Sam, two American students, arrive in Stockholm for a language exchange program. They\\'re excited to explore the city and practice their Swedish.\\nrising_action: While visiting the old town, Gamla Stan, they lose their way in the narrow, winding streets. Their phones are dead, and they can\\'t read the Swedish street signs.\\nclimax: As night falls, they stumble upon a lively Swedish folk dance competition in a small square. Alex and Sam decide to join in, hoping to make friends who can help them.\\nfalling_action: Through broken Swedish and laughter, they connect with locals who offer to guide them. As they walk, Alex and Sam share stories about their home country.\\nresolution: The new friends lead them to their hostel, and they all agree to meet the next day for a proper tour of Stockholm. Alex and Sam feel relieved and excited about their unexpected adventure.\\n\\n    2. For each story part, create dialogue using:\\n    - About 5 verbs from: {\\'spell\\': 1, \\'appear\\': 1, \\'wash\\': 2, \\'compare\\': 2, \\'wash\\': 2, \\'answer\\': 3, \\'cook\\': 3, \\'understand\\': 3, \\'laugh\\': 3, \\'explore\\': 4}\\n    - At least 10 words from: {\\'feet\\': 1, \\'learn\\': 1, \\'hot\\': 1, \\'catch\\': 1, \\'port\\': 1, \\'track\\': 1, \\'please\\': 1, \\'wood\\': 1, \\'quart\\': 1, \\'open\\': 1, \\'invent\\': 1, \\'rather\\': 1, \\'nation\\': 1, \\'leave\\': 1, \\'gave\\': 2, \\'swelling\\': 2, \\'thought\\': 2, \\'stead\\': 2, \\'pot\\': 2, \\'match\\': 2, \\'finger\\': 2, \\'walk\\': 2, \\'phone\\': 2, \\'both\\': 3, \\'person\\': 3, \\'either\\': 3, \\'excited\\': 3, \\'doctor\\': 3, \\'hello\\': 3, \\'great\\': 12}\\n    Prioritize words with lower usage numbers.\\n\\n    3. Each part should incorporate these grammatical concepts:\\n    questions - Wh- questions, questions - Tag questions, negation - Simple negation\\n\\n    4. For each story part:\\n    - Create 6-8 lines of dialogue (20-30 seconds spoken)\\n    - Use only Alex and Sam as speakers\\n    - Keep language simple and appropriate for beginners\\n    - Ensure natural flow between story parts\\n\\n    5. Output format should be a JSON object with story parts as keys:\\n    \\n    {\\n        \"exposition\": {\\n            \"dialogue\": [\\n                {\"speaker\": \"Alex\", \"text\": \"Hello! How are you today?\"},\\n                {\"speaker\": \"Sam\", \"text\": \"I\\'m doing well, thanks for asking.\"}\\n            ]\\n        },\\n        \"rising_action\": {\\n            \"dialogue\": [\\n                ...\\n            ]\\n        },\\n        ...\\n    }\\n    \\n\\n    Remember:\\n    - Each part should advance the story while practicing vocabulary\\n    - Balance concept practice (45%) with story progression (55%)\\n    - Maintain consistent personalities for Alex and Sam\\n    - Keep the story cohesive across all parts\\n    - You can use additional words if needed, but prioritize the provided lists\\n\\n    Generate the complete dialogue for all parts in a single JSON response.'},\n",
       " 'resolution': {'dialogue': [{'speaker': 'Sam',\n",
       "    'text': \"What an adventure! I can't believe we got lost and ended up dancing with locals.\"},\n",
       "   {'speaker': 'Alex',\n",
       "    'text': \"I know! It was rather unexpected, but so much fun. We made some great friends, didn't we?\"},\n",
       "   {'speaker': 'Sam',\n",
       "    'text': \"Absolutely! And they've offered to show us around tomorrow. Isn't that exciting?\"},\n",
       "   {'speaker': 'Alex',\n",
       "    'text': \"It's fantastic! We'll get to explore the city properly and practice our Swedish.\"},\n",
       "   {'speaker': 'Sam',\n",
       "    'text': \"I can't wait to learn more about Swedish culture. Maybe they'll teach us to cook some local dishes?\"},\n",
       "   {'speaker': 'Alex',\n",
       "    'text': \"That would be amazing! Let's wash up and get some rest. Tomorrow will be a great day!\"}],\n",
       "  'dialogue_generation_prompt': 'Create a complete multi-part dialogue for language learners following these guidelines:\\n\\n    1. Create separate dialogues for each part of this story plan:\\n    exposition: Alex and Sam, two American students, arrive in Stockholm for a language exchange program. They\\'re excited to explore the city and practice their Swedish.\\nrising_action: While visiting the old town, Gamla Stan, they lose their way in the narrow, winding streets. Their phones are dead, and they can\\'t read the Swedish street signs.\\nclimax: As night falls, they stumble upon a lively Swedish folk dance competition in a small square. Alex and Sam decide to join in, hoping to make friends who can help them.\\nfalling_action: Through broken Swedish and laughter, they connect with locals who offer to guide them. As they walk, Alex and Sam share stories about their home country.\\nresolution: The new friends lead them to their hostel, and they all agree to meet the next day for a proper tour of Stockholm. Alex and Sam feel relieved and excited about their unexpected adventure.\\n\\n    2. For each story part, create dialogue using:\\n    - About 5 verbs from: {\\'spell\\': 1, \\'appear\\': 1, \\'wash\\': 2, \\'compare\\': 2, \\'wash\\': 2, \\'answer\\': 3, \\'cook\\': 3, \\'understand\\': 3, \\'laugh\\': 3, \\'explore\\': 4}\\n    - At least 10 words from: {\\'feet\\': 1, \\'learn\\': 1, \\'hot\\': 1, \\'catch\\': 1, \\'port\\': 1, \\'track\\': 1, \\'please\\': 1, \\'wood\\': 1, \\'quart\\': 1, \\'open\\': 1, \\'invent\\': 1, \\'rather\\': 1, \\'nation\\': 1, \\'leave\\': 1, \\'gave\\': 2, \\'swelling\\': 2, \\'thought\\': 2, \\'stead\\': 2, \\'pot\\': 2, \\'match\\': 2, \\'finger\\': 2, \\'walk\\': 2, \\'phone\\': 2, \\'both\\': 3, \\'person\\': 3, \\'either\\': 3, \\'excited\\': 3, \\'doctor\\': 3, \\'hello\\': 3, \\'great\\': 12}\\n    Prioritize words with lower usage numbers.\\n\\n    3. Each part should incorporate these grammatical concepts:\\n    questions - Wh- questions, questions - Tag questions, negation - Simple negation\\n\\n    4. For each story part:\\n    - Create 6-8 lines of dialogue (20-30 seconds spoken)\\n    - Use only Alex and Sam as speakers\\n    - Keep language simple and appropriate for beginners\\n    - Ensure natural flow between story parts\\n\\n    5. Output format should be a JSON object with story parts as keys:\\n    \\n    {\\n        \"exposition\": {\\n            \"dialogue\": [\\n                {\"speaker\": \"Alex\", \"text\": \"Hello! How are you today?\"},\\n                {\"speaker\": \"Sam\", \"text\": \"I\\'m doing well, thanks for asking.\"}\\n            ]\\n        },\\n        \"rising_action\": {\\n            \"dialogue\": [\\n                ...\\n            ]\\n        },\\n        ...\\n    }\\n    \\n\\n    Remember:\\n    - Each part should advance the story while practicing vocabulary\\n    - Balance concept practice (45%) with story progression (55%)\\n    - Maintain consistent personalities for Alex and Sam\\n    - Keep the story cohesive across all parts\\n    - You can use additional words if needed, but prioritize the provided lists\\n\\n    Generate the complete dialogue for all parts in a single JSON response.'}}"
      ]
     },
     "execution_count": 12,
     "metadata": {},
     "output_type": "execute_result"
    }
   ],
   "source": [
    "story_data_dict"
   ]
  }
 ],
 "metadata": {
  "kernelspec": {
   "display_name": "Python 3 (ipykernel)",
   "language": "python",
   "name": "python3"
  },
  "language_info": {
   "codemirror_mode": {
    "name": "ipython",
    "version": 3
   },
   "file_extension": ".py",
   "mimetype": "text/x-python",
   "name": "python",
   "nbconvert_exporter": "python",
   "pygments_lexer": "ipython3",
   "version": "3.11.4"
  }
 },
 "nbformat": 4,
 "nbformat_minor": 4
}
