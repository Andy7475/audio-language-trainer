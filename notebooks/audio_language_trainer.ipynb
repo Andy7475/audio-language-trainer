{
 "cells": [
  {
   "cell_type": "markdown",
   "metadata": {},
   "source": [
    "# Import"
   ]
  },
  {
   "cell_type": "code",
   "execution_count": 1,
   "metadata": {},
   "outputs": [],
   "source": [
    "%load_ext autoreload"
   ]
  },
  {
   "cell_type": "code",
   "execution_count": 2,
   "metadata": {},
   "outputs": [
    {
     "name": "stdout",
     "output_type": "stream",
     "text": [
      "Searching for config.json...\n",
      "Checking: c:\\Users\\i5\\Documents\\Python Scripts\\audio-language-trainer\\notebooks\\config.json\n",
      "Checking: c:\\Users\\i5\\Documents\\Python Scripts\\audio-language-trainer\\src\\config.json\n",
      "Found config file at: c:\\Users\\i5\\Documents\\Python Scripts\\audio-language-trainer\\src\\config.json\n",
      "Successfully loaded config from: c:\\Users\\i5\\Documents\\Python Scripts\\audio-language-trainer\\src\\config.json\n",
      "Multiple country codes available for en: en-AU, en-GB, en-IN, en-US\n",
      "Config loader initialized.\n",
      "Config file location: c:\\Users\\i5\\Documents\\Python Scripts\\audio-language-trainer\\src\\config.json\n",
      "Current working directory: c:\\Users\\i5\\Documents\\Python Scripts\\audio-language-trainer\\notebooks\n",
      "Searching for config.json...\n",
      "Checking: c:\\Users\\i5\\Documents\\Python Scripts\\audio-language-trainer\\notebooks\\config.json\n",
      "Checking: c:\\Users\\i5\\Documents\\Python Scripts\\audio-language-trainer\\src\\config.json\n",
      "Found config file at: c:\\Users\\i5\\Documents\\Python Scripts\\audio-language-trainer\\src\\config.json\n",
      "Successfully loaded config from: c:\\Users\\i5\\Documents\\Python Scripts\\audio-language-trainer\\src\\config.json\n",
      "Multiple country codes available for en: en-AU, en-GB, en-IN, en-US\n",
      "Config loader initialized.\n",
      "Config file location: c:\\Users\\i5\\Documents\\Python Scripts\\audio-language-trainer\\src\\config.json\n",
      "Current working directory: c:\\Users\\i5\\Documents\\Python Scripts\\audio-language-trainer\\notebooks\n",
      "FFmpeg path added to system PATH: C:\\Program Files\\ffmpeg-7.0-essentials_build\\bin\n"
     ]
    }
   ],
   "source": [
    "%autoreload 2\n",
    "import os\n",
    "from dotenv import load_dotenv\n",
    "import sys\n",
    "import os\n",
    "import networkx as nx\n",
    "import ipywidgets as widgets\n",
    "from collections import defaultdict\n",
    "from tqdm import tqdm\n",
    "\n",
    "# Add the parent directory of 'src' to the Python path\n",
    "module_path = os.path.abspath(os.path.join('..'))\n",
    "if module_path not in sys.path:\n",
    "    sys.path.append(module_path)\n",
    "# Load environment variables from .env file\n",
    "load_dotenv()\n",
    "\n",
    "from src.dialogue_generation import get_vocab_from_dialogue, update_vocab_usage\n",
    "from src.dialogue_generation import generate_story_plan, generate_dialogue_prompt, generate_dialogue, generate_recap\n",
    "from src.audio_generation import  text_to_speech, play_audio, generate_audio_from_dialogue, generate_normal_and_fast_audio, generate_translated_phrase_audio, join_audio_segments, export_audio, async_process_phrases\n",
    "from src.phrase import generate_practice_phrases_from_dialogue\n",
    "from src.initialise import initialise_usage_data\n",
    "from src.utils import save_json, convert_defaultdict, save_defaultdict, load_json, create_pdf_booklet\n",
    "from src.translation import translate_dialogue, translate_phrases\n",
    "\n",
    "STORY_NAME = \"swedish_high_coast\"\n",
    "STORY_DATA_PATH = f\"../outputs/story_data_{STORY_NAME}.json\"\n"
   ]
  },
  {
   "cell_type": "markdown",
   "metadata": {},
   "source": [
    "## Setup Google Cloud credentials and prerequisites\n",
    "You will need a Google Project with the following APIs enabled:\n",
    "* Text to Speech\n",
    "* Translate\n",
    "* Vertex AI with the following Anthropic models enabled (from the model garden)\n",
    "    * Sonnet 3.5\n",
    "    * Haiku\n",
    "* Add your GOOGLE_PROJECT_ID to the .env file\n",
    "\n",
    "You should alter src/config.json which contains your target language.\n"
   ]
  },
  {
   "cell_type": "code",
   "execution_count": 3,
   "metadata": {},
   "outputs": [],
   "source": [
    "from google.auth import default\n",
    "credentials, project = default()"
   ]
  },
  {
   "cell_type": "markdown",
   "metadata": {},
   "source": [
    "# Audio Language Trainer Workflow\n",
    "\n",
    "The aim of this project is to create audio material for you to practise a foreign language. It needs to be engaging and be tailored to words you want to practise. \n",
    "\n",
    "The overall steps we follow are:\n",
    "\n",
    "1. Create an outline story plan based on a theme you select (e.g. 'an adventure', 'a holiday in Rome'). An LLM produces a story plan following a typical story arc (exposition, rising action, climax, falling action, resolution). This ensures an engaging plot.\n",
    "2. Flesh out the story using your practice vocabulary and grammatical concepts. Vocab and concepts are sampled from lists you provide in the 'data' folder (vocab_usage.json and grammar_concepts_usage.json), with sampling being skewed towards words you haven't heard yet. The output here is a dialogue between two people (Sam and Alex).\n",
    "\n",
    "Recaps are generated between each story part so when the LLM generates the next dialogue it logically continues from the previous one.\n",
    "\n",
    "3. The dialogue is broken up into shorter practice phrases via a 'language graph' concept, so we give you not just the long-form dialogue to listen and practise to, but smaller, mixed-up phrases based on the vocab in the story, starting small and buliding to more complex phrases.\n",
    "4. Your vocab list is updated based on the produced dialogue.\n",
    "5. The smaller phrases and main dialogue are translated into your target language and convert to speech.\n",
    "6. Research shows that listening to double-speed audio (on words you already known) can help with your listening comprehension for a foreign language (it helps the brain with the ability to separate distinct words). We therefore create a fast version of the dialogue for listening practice.\n",
    "7. The audio files are stiched together to create an MP3 file for each part in the story (there are 5 parts to the story). The stages for each audio lesson are: \n",
    "* dialogue in the target language\n",
    "* practice phrases of the form 'how do you say: \"practice phrase' in 'target language'?\". A pause (where you speak in the foreign language), then the correct translation is played twice, first fast, then slow.\n",
    "* repeat of the dialogue in the target language so you can satisfy yourself you understand it properly\n",
    "* 12 repeated playings of the fast version of the dialogue to improve your listening comprehension.\n",
    "\n",
    "The intent is then you would listen to the next audio lesson in the story.\n",
    "\n",
    "\n",
    "## Setup your vocab and grammatical concepts\n",
    "You should populate or edit\n",
    "* known_vocab_list.json \n",
    "* grammar_concepts.json\n",
    "\n",
    "### Initiliase the vocab and grammar counters\n",
    "This creates vocab_usage.json (setting all values to 0) and grammar_concepts_usage.json (setting all values to 'true' and counts to 0)\n",
    "\n",
    "You can tweak these to minimise what words and concepts you are exposed to"
   ]
  },
  {
   "cell_type": "code",
   "execution_count": null,
   "metadata": {},
   "outputs": [],
   "source": [
    "initialise_usage_data(overwrite=False) #the overwrite commands stops you wiping all your usage data if it already exists"
   ]
  },
  {
   "cell_type": "markdown",
   "metadata": {},
   "source": [
    "# Being Lesson Generation\n",
    "\n",
    "## Create a story plan"
   ]
  },
  {
   "cell_type": "code",
   "execution_count": 4,
   "metadata": {},
   "outputs": [
    {
     "name": "stdout",
     "output_type": "stream",
     "text": [
      "Data saved to ../outputs/story_plan.json\n"
     ]
    }
   ],
   "source": [
    "%autoreload 2\n",
    "from src.dialogue_generation import get_least_used_words, add_usage_to_words\n",
    "\n",
    "verbs_for_story = get_least_used_words(\"verbs\", 10)\n",
    "vocab_for_story = get_least_used_words(\"vocab\", 30)\n",
    "\n",
    "story_plan = generate_story_plan(story_guide = \"hiking the high coast in Sweden\", verb_list=verbs_for_story, vocab_list=vocab_for_story, test = False) #the test parameter will provide pre-canned responses avoiding LLM costs"
   ]
  },
  {
   "cell_type": "code",
   "execution_count": 5,
   "metadata": {},
   "outputs": [],
   "source": [
    "verbs_for_story_usage = add_usage_to_words(verbs_for_story, \"verbs\")\n",
    "vocab_for_story_usage = add_usage_to_words(vocab_for_story, \"vocab\")"
   ]
  },
  {
   "cell_type": "markdown",
   "metadata": {},
   "source": [
    "## Create all dialogue\n",
    "\n",
    "1. Create dialouge LLM prompt based on the story part\n",
    "2. LLM generates dialogue\n",
    "3. LLM generates recap\n",
    "4. move to next story part and repeat\n"
   ]
  },
  {
   "cell_type": "code",
   "execution_count": 6,
   "metadata": {},
   "outputs": [
    {
     "name": "stdout",
     "output_type": "stream",
     "text": [
      "Data saved to ../data/vocab_usage.json\n",
      "Data saved to ../data/vocab_usage.json\n",
      "Data saved to ../data/vocab_usage.json\n",
      "Data saved to ../data/vocab_usage.json\n",
      "Data saved to ../data/vocab_usage.json\n"
     ]
    }
   ],
   "source": [
    "PAY_FOR_LLM = True\n",
    "\n",
    "if PAY_FOR_LLM:\n",
    "    story_data_dict = defaultdict(lambda: defaultdict(str))\n",
    "    recap = \"This is the beginning of the story.\"\n",
    "    for step, story_part in enumerate(list(story_plan.keys())):\n",
    "        prompt = generate_dialogue_prompt(story_part=story_part,\n",
    "                                        story_part_outline=story_plan[story_part],\n",
    "                                        last_recap = recap,\n",
    "                                        verb_usage_str=verbs_for_story_usage,\n",
    "                                        vocab_usage_str=vocab_for_story_usage,\n",
    "                                        verb_use_count=5,\n",
    "                                        vocab_use_count=10,\n",
    "                                        grammar_concept_count=5,\n",
    "                                        grammar_use_count=3)\n",
    "        dialogue = generate_dialogue(prompt)\n",
    "        vocab_used = get_vocab_from_dialogue(dialogue)\n",
    "        update_vocab_usage(vocab_used)\n",
    "        verbs_for_story_usage = add_usage_to_words(verbs_for_story, \"verbs\")\n",
    "        vocab_for_story_usage = add_usage_to_words(vocab_for_story, \"vocab\")\n",
    "        recap = generate_recap(dialogue, test=False)\n",
    "        story_data_dict[story_part][\"dialogue_generation_prompt\"] = prompt\n",
    "        story_data_dict[story_part][\"dialogue\"] = dialogue\n",
    "        story_data_dict[story_part][\"recap\"] = recap\n"
   ]
  },
  {
   "cell_type": "code",
   "execution_count": 7,
   "metadata": {},
   "outputs": [
    {
     "name": "stdout",
     "output_type": "stream",
     "text": [
      "Data saved to ../outputs/story_data_swedish_high_coast.json\n"
     ]
    }
   ],
   "source": [
    "save_defaultdict(story_data_dict, STORY_DATA_PATH)\n"
   ]
  },
  {
   "cell_type": "markdown",
   "metadata": {},
   "source": [
    "### Build phrases from dialogue\n",
    "\n",
    "Here we:\n",
    "1. Break up the dialogue into separate sentences. For this bit we don't care who the speaker is, we just want to create different phrases of different lengths and combinations based on the vocab int the dialogue\n",
    "2. We use another LLM call to do this, with some one-shot learning"
   ]
  },
  {
   "cell_type": "code",
   "execution_count": null,
   "metadata": {},
   "outputs": [],
   "source": [
    "story_data_dict = load_json(STORY_DATA_PATH)"
   ]
  },
  {
   "cell_type": "code",
   "execution_count": 8,
   "metadata": {},
   "outputs": [],
   "source": [
    "for story_part in story_data_dict:\n",
    "    dialogue = story_data_dict[story_part][\"dialogue\"]\n",
    "    story_data_dict[story_part][\"corrected_phrase_list\"] = generate_practice_phrases_from_dialogue(dialogue)"
   ]
  },
  {
   "cell_type": "code",
   "execution_count": 9,
   "metadata": {},
   "outputs": [
    {
     "name": "stdout",
     "output_type": "stream",
     "text": [
      "Data saved to ../outputs/story_data_swedish_high_coast.json\n"
     ]
    }
   ],
   "source": [
    "save_defaultdict(story_data_dict, STORY_DATA_PATH)"
   ]
  },
  {
   "cell_type": "markdown",
   "metadata": {},
   "source": [
    "### Translate dialogue and phrases"
   ]
  },
  {
   "cell_type": "code",
   "execution_count": 10,
   "metadata": {},
   "outputs": [
    {
     "name": "stderr",
     "output_type": "stream",
     "text": [
      "100%|██████████| 5/5 [00:17<00:00,  3.51s/it]\n"
     ]
    }
   ],
   "source": [
    "PAY_FOR_TRANSLATE_API = True\n",
    "\n",
    "if PAY_FOR_TRANSLATE_API:\n",
    "\n",
    "    for story_part in tqdm(story_data_dict):\n",
    "        dialogue = story_data_dict[story_part][\"dialogue\"]\n",
    "        translated_dialogue = translate_dialogue(dialogue)\n",
    "\n",
    "        corrected_phrase_list = story_data_dict[story_part][\"corrected_phrase_list\"]\n",
    "        translated_phrase_list = translate_phrases(corrected_phrase_list)\n",
    "\n",
    "        story_data_dict[story_part][\"translated_dialogue\"] = translated_dialogue\n",
    "        story_data_dict[story_part][\"translated_phrase_list\"] = translated_phrase_list\n"
   ]
  },
  {
   "cell_type": "code",
   "execution_count": 11,
   "metadata": {},
   "outputs": [
    {
     "name": "stdout",
     "output_type": "stream",
     "text": [
      "Data saved to ../outputs/story_data_swedish_high_coast.json\n"
     ]
    }
   ],
   "source": [
    "save_defaultdict(story_data_dict, STORY_DATA_PATH)"
   ]
  },
  {
   "cell_type": "markdown",
   "metadata": {},
   "source": [
    "## Generate Audio Lesson\n",
    "\n",
    "The steps here are\n",
    "1. The target language dialogue at normal speed\n",
    "2. Each corrected and translated phrase in the form english - target fast - target slow\n",
    "3. Each dialogue utterance in the form english - target fast - target slow\n",
    "4. The 2 x sped up target language dialogue"
   ]
  },
  {
   "cell_type": "code",
   "execution_count": 4,
   "metadata": {},
   "outputs": [
    {
     "name": "stdout",
     "output_type": "stream",
     "text": [
      "IPython autoawait is `on`, and set to use `asyncio`\n"
     ]
    }
   ],
   "source": [
    "# attach audio segment data to story_data.json for later incorporation into M4A file\n",
    "%autoreload 2\n",
    "from src.audio_generation import async_process_phrases, generate_audio_from_dialogue, async_process_phrases_v2\n",
    "%autoawait\n"
   ]
  },
  {
   "cell_type": "code",
   "execution_count": 26,
   "metadata": {},
   "outputs": [],
   "source": [
    "story_data_dict =load_json(STORY_DATA_PATH)"
   ]
  },
  {
   "cell_type": "code",
   "execution_count": 27,
   "metadata": {},
   "outputs": [
    {
     "name": "stdout",
     "output_type": "stream",
     "text": [
      "<coroutine object AsyncFuture.result at 0x000001DF906B42B0>\n",
      "Waiting for Jag måste avsluta...\n"
     ]
    },
    {
     "ename": "AttributeError",
     "evalue": "'coroutine' object has no attribute 'done'",
     "output_type": "error",
     "traceback": [
      "\u001b[1;31m---------------------------------------------------------------------------\u001b[0m",
      "\u001b[1;31mAttributeError\u001b[0m                            Traceback (most recent call last)",
      "Cell \u001b[1;32mIn[27], line 2\u001b[0m\n\u001b[0;32m      1\u001b[0m translated_phrases \u001b[38;5;241m=\u001b[39m story_data_dict[\u001b[38;5;124m\"\u001b[39m\u001b[38;5;124mresolution\u001b[39m\u001b[38;5;124m\"\u001b[39m][\u001b[38;5;124m\"\u001b[39m\u001b[38;5;124mtranslated_phrase_list\u001b[39m\u001b[38;5;124m\"\u001b[39m][\u001b[38;5;241m0\u001b[39m:\u001b[38;5;241m3\u001b[39m]\n\u001b[1;32m----> 2\u001b[0m tranlsated_phrases_audio \u001b[38;5;241m=\u001b[39m \u001b[38;5;28;01mawait\u001b[39;00m async_process_phrases_v2(translated_phrases)\n",
      "File \u001b[1;32mc:\\Users\\i5\\Documents\\Python Scripts\\audio-language-trainer\\src\\audio_generation.py:572\u001b[0m, in \u001b[0;36masync_process_phrases_v2\u001b[1;34m(phrases, max_concurrency)\u001b[0m\n\u001b[0;32m    569\u001b[0m     \u001b[38;5;28;01masync\u001b[39;00m \u001b[38;5;28;01mwith\u001b[39;00m semaphore:\n\u001b[0;32m    570\u001b[0m         \u001b[38;5;28;01mreturn\u001b[39;00m \u001b[38;5;28;01mawait\u001b[39;00m async_generate_translated_phrase_audio_v2(phrase)\n\u001b[1;32m--> 572\u001b[0m \u001b[38;5;28;01mreturn\u001b[39;00m \u001b[38;5;28;01mawait\u001b[39;00m asyncio\u001b[38;5;241m.\u001b[39mgather(\u001b[38;5;241m*\u001b[39m[limited_task(phrase) \u001b[38;5;28;01mfor\u001b[39;00m phrase \u001b[38;5;129;01min\u001b[39;00m phrases])\n",
      "File \u001b[1;32mc:\\Users\\i5\\Documents\\Python Scripts\\audio-language-trainer\\src\\audio_generation.py:570\u001b[0m, in \u001b[0;36masync_process_phrases_v2.<locals>.limited_task\u001b[1;34m(phrase)\u001b[0m\n\u001b[0;32m    568\u001b[0m \u001b[38;5;28;01masync\u001b[39;00m \u001b[38;5;28;01mdef\u001b[39;00m \u001b[38;5;21mlimited_task\u001b[39m(phrase):\n\u001b[0;32m    569\u001b[0m     \u001b[38;5;28;01masync\u001b[39;00m \u001b[38;5;28;01mwith\u001b[39;00m semaphore:\n\u001b[1;32m--> 570\u001b[0m         \u001b[38;5;28;01mreturn\u001b[39;00m \u001b[38;5;28;01mawait\u001b[39;00m async_generate_translated_phrase_audio_v2(phrase)\n",
      "File \u001b[1;32mc:\\Users\\i5\\Documents\\Python Scripts\\audio-language-trainer\\src\\audio_generation.py:562\u001b[0m, in \u001b[0;36masync_generate_translated_phrase_audio_v2\u001b[1;34m(translated_phrase, english_voice_models, target_voice_models)\u001b[0m\n\u001b[0;32m    539\u001b[0m     target_voice_models \u001b[38;5;241m=\u001b[39m config\u001b[38;5;241m.\u001b[39mtarget_language_voice_models\n\u001b[0;32m    541\u001b[0m tasks \u001b[38;5;241m=\u001b[39m [\n\u001b[0;32m    542\u001b[0m     async_text_to_speech_v2(\n\u001b[0;32m    543\u001b[0m         translated_phrase[\u001b[38;5;241m0\u001b[39m],\n\u001b[1;32m   (...)\u001b[0m\n\u001b[0;32m    559\u001b[0m     ),\n\u001b[0;32m    560\u001b[0m ]\n\u001b[1;32m--> 562\u001b[0m \u001b[38;5;28;01mreturn\u001b[39;00m \u001b[38;5;28;01mawait\u001b[39;00m asyncio\u001b[38;5;241m.\u001b[39mgather(\u001b[38;5;241m*\u001b[39mtasks)\n",
      "File \u001b[1;32mc:\\Users\\i5\\Documents\\Python Scripts\\audio-language-trainer\\src\\audio_generation.py:494\u001b[0m, in \u001b[0;36masync_text_to_speech_v2\u001b[1;34m(text, language_code, voice_name, speaking_rate)\u001b[0m\n\u001b[0;32m    491\u001b[0m \u001b[38;5;28mprint\u001b[39m(\u001b[38;5;124mf\u001b[39m\u001b[38;5;124m\"\u001b[39m\u001b[38;5;124mWaiting for \u001b[39m\u001b[38;5;132;01m{\u001b[39;00mtext\u001b[38;5;132;01m}\u001b[39;00m\u001b[38;5;124m...\u001b[39m\u001b[38;5;124m\"\u001b[39m)\n\u001b[0;32m    493\u001b[0m \u001b[38;5;66;03m# Wait for the operation to complete\u001b[39;00m\n\u001b[1;32m--> 494\u001b[0m \u001b[38;5;28;01mwhile\u001b[39;00m \u001b[38;5;129;01mnot\u001b[39;00m \u001b[43moperation\u001b[49m\u001b[38;5;241;43m.\u001b[39;49m\u001b[43mdone\u001b[49m():\n\u001b[0;32m    495\u001b[0m     \u001b[38;5;28;01mawait\u001b[39;00m asyncio\u001b[38;5;241m.\u001b[39msleep(\u001b[38;5;241m5\u001b[39m)\n\u001b[0;32m    496\u001b[0m     \u001b[38;5;28mprint\u001b[39m(\u001b[38;5;124mf\u001b[39m\u001b[38;5;124m\"\u001b[39m\u001b[38;5;124mStill waiting for \u001b[39m\u001b[38;5;132;01m{\u001b[39;00mtext\u001b[38;5;132;01m}\u001b[39;00m\u001b[38;5;124m...\u001b[39m\u001b[38;5;124m\"\u001b[39m)\n",
      "\u001b[1;31mAttributeError\u001b[0m: 'coroutine' object has no attribute 'done'"
     ]
    },
    {
     "name": "stdout",
     "output_type": "stream",
     "text": [
      "<coroutine object AsyncFuture.result at 0x000001DFFA5FE330>\n",
      "Waiting for I must finish...\n",
      "<coroutine object AsyncFuture.result at 0x000001DFFA5FDF20>\n",
      "Waiting for It's beautiful...\n",
      "<coroutine object AsyncFuture.result at 0x000001DF906B4AD0>\n",
      "Waiting for Det är vackert...\n",
      "<coroutine object AsyncFuture.result at 0x000001DF90287510>\n",
      "Waiting for Du undervisar...\n",
      "<coroutine object AsyncFuture.result at 0x000001DF906B41E0>\n",
      "Waiting for Det är vackert...\n",
      "<coroutine object AsyncFuture.result at 0x000001DF903CF780>\n",
      "Waiting for Jag måste avsluta...\n",
      "<coroutine object AsyncFuture.result at 0x000001DFFA79E740>\n",
      "Waiting for Du undervisar...\n",
      "<coroutine object AsyncFuture.result at 0x000001DF903CF780>\n",
      "Waiting for You're teaching...\n"
     ]
    }
   ],
   "source": [
    "translated_phrases = story_data_dict[\"resolution\"][\"translated_phrase_list\"][0:3]\n",
    "tranlsated_phrases_audio = await async_process_phrases_v2(translated_phrases)"
   ]
  },
  {
   "cell_type": "code",
   "execution_count": 24,
   "metadata": {},
   "outputs": [
    {
     "data": {
      "text/html": [
       "\n",
       "                    <audio controls>\n",
       "                        <source src=\"data:audio/mpeg;base64,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\" type=\"audio/mpeg\"/>\n",
       "                        Your browser does not support the audio element.\n",
       "                    </audio>\n",
       "                  "
      ],
      "text/plain": [
       "<pydub.audio_segment.AudioSegment at 0x1df9030a450>"
      ]
     },
     "execution_count": 24,
     "metadata": {},
     "output_type": "execute_result"
    }
   ],
   "source": [
    "tranlsated_phrases_audio[1][2]"
   ]
  },
  {
   "cell_type": "code",
   "execution_count": null,
   "metadata": {},
   "outputs": [],
   "source": [
    "translated_phrases = story_data_dict[\"resolution\"][\"translated_phrase_list\"]\n",
    "tranlsated_phrases_audio = await async_process_phrases(translated_phrases)"
   ]
  },
  {
   "cell_type": "code",
   "execution_count": 5,
   "metadata": {},
   "outputs": [
    {
     "name": "stderr",
     "output_type": "stream",
     "text": [
      "  0%|          | 0/5 [00:00<?, ?it/s]"
     ]
    },
    {
     "name": "stdout",
     "output_type": "stream",
     "text": [
      "exposition dialogue done\n"
     ]
    },
    {
     "name": "stderr",
     "output_type": "stream",
     "text": [
      " 20%|██        | 1/5 [04:58<19:52, 298.13s/it]"
     ]
    },
    {
     "name": "stdout",
     "output_type": "stream",
     "text": [
      "exposition phrases done\n",
      "rising_action dialogue done\n"
     ]
    },
    {
     "name": "stderr",
     "output_type": "stream",
     "text": [
      " 40%|████      | 2/5 [09:50<14:45, 295.01s/it]"
     ]
    },
    {
     "name": "stdout",
     "output_type": "stream",
     "text": [
      "rising_action phrases done\n",
      "climax dialogue done\n"
     ]
    },
    {
     "name": "stderr",
     "output_type": "stream",
     "text": [
      " 60%|██████    | 3/5 [14:39<09:43, 291.95s/it]"
     ]
    },
    {
     "name": "stdout",
     "output_type": "stream",
     "text": [
      "climax phrases done\n",
      "falling_action dialogue done\n"
     ]
    },
    {
     "name": "stderr",
     "output_type": "stream",
     "text": [
      " 80%|████████  | 4/5 [19:32<04:52, 292.30s/it]"
     ]
    },
    {
     "name": "stdout",
     "output_type": "stream",
     "text": [
      "falling_action phrases done\n",
      "resolution dialogue done\n"
     ]
    },
    {
     "name": "stderr",
     "output_type": "stream",
     "text": [
      "100%|██████████| 5/5 [24:12<00:00, 290.43s/it]"
     ]
    },
    {
     "name": "stdout",
     "output_type": "stream",
     "text": [
      "resolution phrases done\n"
     ]
    },
    {
     "name": "stderr",
     "output_type": "stream",
     "text": [
      "\n"
     ]
    }
   ],
   "source": [
    "\n",
    "PAY_FOR_TEXT_TO_SPEECH = True\n",
    "\n",
    "story_data_dict =load_json(STORY_DATA_PATH)\n",
    "if PAY_FOR_TEXT_TO_SPEECH:\n",
    "    for story_part in tqdm(story_data_dict):\n",
    "\n",
    "        translated_dialogue_audio_segments = generate_audio_from_dialogue(story_data_dict[story_part][\"translated_dialogue\"])\n",
    "        story_data_dict[story_part][\"translated_dialogue_audio\"] = translated_dialogue_audio_segments\n",
    "        normal_translated_clip, fast_translated_clips = generate_normal_and_fast_audio(translated_dialogue_audio_segments)\n",
    "        story_data_dict[story_part][\"translated_dialogue_audio_fast\"] = fast_translated_clips\n",
    "        print(f\"{story_part} dialogue done\")\n",
    "        #now do phrases asynchronoulsy (still unsure if Google API allows this, not getting huge speed up)\n",
    "        translated_phrases = story_data_dict[story_part][\"translated_phrase_list\"]\n",
    "        tranlsated_phrases_audio = await async_process_phrases(translated_phrases)\n",
    "        story_data_dict[story_part][\"translated_phrase_list_audio\"] = tranlsated_phrases_audio\n",
    "        print(f\"{story_part} phrases done\")\n",
    "       \n"
   ]
  },
  {
   "cell_type": "markdown",
   "metadata": {},
   "source": [
    "### Generate M4A file with synchronised captions"
   ]
  },
  {
   "cell_type": "code",
   "execution_count": 6,
   "metadata": {},
   "outputs": [],
   "source": [
    "from pydub import AudioSegment\n",
    "from src.config_loader import config\n",
    "#get lists and audio clips synced together\n",
    "audio_list = []\n",
    "captions_list = []\n",
    "\n",
    "\n",
    "#fast dialogue (no text)\n",
    "PAUSE_TEXT = \"---------\"\n",
    "THINKING_GAP = AudioSegment.silent(duration=config.THINKING_GAP_MS)\n",
    "GAP_BETWEEN_PHRASES = AudioSegment.silent(duration=500)\n",
    "#translated dialogue\n",
    "\n",
    "for story_part in story_data_dict:\n",
    "    dialogue_list = [utterence[\"text\"] for utterence in story_data_dict[story_part][\"translated_dialogue\"]]\n",
    "    dialogue_audio_list = story_data_dict[story_part][\"translated_dialogue_audio\"]\n",
    "\n",
    "    normal_translated_clip, fast_translated_clips = generate_normal_and_fast_audio(translated_dialogue_audio_segments)\n",
    "\n",
    "    audio_list.append(GAP_BETWEEN_PHRASES)\n",
    "    captions_list.append(f\"{story_part} - First dialogue\")\n",
    "\n",
    "    audio_list.extend(dialogue_audio_list)\n",
    "    captions_list.extend(dialogue_list)\n",
    "    #print(f\"audio {len(audio_list)} - captions {len(captions_list)}\")\n",
    "\n",
    "    audio_list.append(GAP_BETWEEN_PHRASES)\n",
    "    captions_list.append(f\"{story_part} - Practice phrases\")\n",
    "    \n",
    "    for step, phrase in enumerate(story_data_dict[story_part][\"translated_phrase_list\"]):\n",
    "        english_text = phrase[0]\n",
    "        target_text = phrase[1]\n",
    "\n",
    "        english_audio = story_data_dict[story_part][\"translated_phrase_list_audio\"][step][0]\n",
    "        target_audio_normal = story_data_dict[story_part][\"translated_phrase_list_audio\"][step][1]\n",
    "        target_audio_slow = story_data_dict[story_part][\"translated_phrase_list_audio\"][step][2]\n",
    "\n",
    "        audio_list.append(english_audio)\n",
    "        captions_list.append(english_text)\n",
    "\n",
    "        audio_list.append(THINKING_GAP)\n",
    "        captions_list.append(PAUSE_TEXT)\n",
    "\n",
    "        audio_list.append(target_audio_normal)\n",
    "        captions_list.append(target_text)\n",
    "\n",
    "        audio_list.append(GAP_BETWEEN_PHRASES)\n",
    "        captions_list.append(PAUSE_TEXT)\n",
    "\n",
    "        audio_list.append(target_audio_slow)\n",
    "        captions_list.append(target_text)\n",
    "\n",
    "        audio_list.append(GAP_BETWEEN_PHRASES)\n",
    "        captions_list.append(PAUSE_TEXT)\n",
    "\n",
    "    audio_list.append(story_data_dict[story_part][\"translated_dialogue_audio_fast\"])\n",
    "    captions_list.append(f\"{story_part} - Repeated Fast Dialogue\")\n",
    "\n",
    "    audio_list.append(GAP_BETWEEN_PHRASES)\n",
    "    captions_list.append(f\"{story_part} - Final Dialogue\")\n",
    "    \n",
    "    audio_list.extend(dialogue_audio_list)\n",
    "    captions_list.extend(dialogue_list)\n",
    "\n",
    "\n",
    "\n",
    "\n",
    "\n"
   ]
  },
  {
   "cell_type": "code",
   "execution_count": 7,
   "metadata": {},
   "outputs": [],
   "source": [
    "%autoreload 2\n",
    "from src.audio_generation import create_m4a_with_timed_lyrics\n",
    "\n",
    "create_m4a_with_timed_lyrics(audio_list, captions_list, F\"final_lesson_{STORY_NAME}.m4a\")"
   ]
  },
  {
   "cell_type": "markdown",
   "metadata": {},
   "source": [
    "## Create PDF Booklet\n",
    "So you can see the spelling of the phrases and dialogue"
   ]
  },
  {
   "cell_type": "code",
   "execution_count": 8,
   "metadata": {},
   "outputs": [],
   "source": [
    "create_pdf_booklet(story_data_dict, output_filename=f\"../outputs/story_booklet_{STORY_NAME}.pdf\")\n"
   ]
  },
  {
   "cell_type": "code",
   "execution_count": null,
   "metadata": {},
   "outputs": [],
   "source": [
    "story_data_dict =load_json(STORY_DATA_PATH)\n",
    "test_dict = {}\n",
    "for story_part in story_data_dict:\n",
    "    test_dict[story_part] = {}\n",
    "    test_dict[story_part][\"translated_dialogue\"] = story_data_dict[story_part][\"translated_dialogue\"][:2]\n",
    "    test_dict[story_part][\"translated_phrase_list\"] = story_data_dict[story_part][\"translated_phrase_list\"][:2]\n",
    "\n",
    "test_dict"
   ]
  }
 ],
 "metadata": {
  "kernelspec": {
   "display_name": ".venv",
   "language": "python",
   "name": "python3"
  },
  "language_info": {
   "codemirror_mode": {
    "name": "ipython",
    "version": 3
   },
   "file_extension": ".py",
   "mimetype": "text/x-python",
   "name": "python",
   "nbconvert_exporter": "python",
   "pygments_lexer": "ipython3",
   "version": "3.11.4"
  }
 },
 "nbformat": 4,
 "nbformat_minor": 2
}
