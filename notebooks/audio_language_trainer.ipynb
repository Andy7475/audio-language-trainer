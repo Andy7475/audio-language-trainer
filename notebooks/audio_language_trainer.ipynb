{
 "cells": [
  {
   "cell_type": "markdown",
   "metadata": {},
   "source": [
    "# Import"
   ]
  },
  {
   "cell_type": "code",
   "execution_count": 1,
   "metadata": {},
   "outputs": [
    {
     "name": "stdout",
     "output_type": "stream",
     "text": [
      "Found config file at: y:\\Python Scripts\\audio-language-trainer\\src\\config.json\n",
      "Language name: Basque determined from code eu\n",
      "Successfully loaded config from: y:\\Python Scripts\\audio-language-trainer\\src\\config.json\n",
      "Multiple country codes available for en: en-AU, en-GB, en-IN, en-US\n",
      "FFmpeg path added to system PATH: C:\\Program Files\\ffmpeg-7.0-essentials_build\\bin\n"
     ]
    }
   ],
   "source": [
    "from dotenv import load_dotenv\n",
    "import sys\n",
    "import os\n",
    "import pickle\n",
    "\n",
    "# Add the parent directory of 'src' to the Python path\n",
    "module_path = os.path.abspath(os.path.join('..'))\n",
    "if module_path not in sys.path:\n",
    "    sys.path.append(module_path)\n",
    "# Load environment variables from .env file\n",
    "load_dotenv()\n",
    "from src.config_loader import config\n",
    "from src.generate import ( \n",
    "    add_practice_phrases,\n",
    "    create_story_plan_and_dialogue,\n",
    "    add_translations,\n",
    "    add_audio,\n",
    "    create_album_files)\n",
    "from src.utils import save_defaultdict, generate_story_image, create_pdf_booklet\n",
    "from src.anki_tools import export_to_anki"
   ]
  },
  {
   "cell_type": "markdown",
   "metadata": {},
   "source": [
    "## Setup Google Cloud credentials and prerequisites\n",
    "You will need a Google Project with the following APIs enabled:\n",
    "* Text to Speech\n",
    "* Translate\n",
    "* Vertex AI with the following Anthropic models enabled (from the model garden)\n",
    "    * Sonnet 3.5\n",
    "    * Imagen 3\n",
    "* Add your GOOGLE_PROJECT_ID to the .env file\n",
    "\n",
    "You should alter src/config.json which contains your target language.\n"
   ]
  },
  {
   "cell_type": "code",
   "execution_count": 2,
   "metadata": {},
   "outputs": [],
   "source": [
    "from google.auth import default\n",
    "credentials, project = default()"
   ]
  },
  {
   "cell_type": "markdown",
   "metadata": {},
   "source": [
    "### Setup story parameters"
   ]
  },
  {
   "cell_type": "code",
   "execution_count": 3,
   "metadata": {},
   "outputs": [
    {
     "name": "stdout",
     "output_type": "stream",
     "text": [
      "Your target language is Basque\n"
     ]
    }
   ],
   "source": [
    "STORY_NAME = \"a pyrenees hike\" # this phrase will be used to prompt the story creation and the cover image creation\n",
    "\n",
    "STORY_NAME_CLEAN = STORY_NAME.replace(\" \", \"_\") #just to make directory names easier\n",
    "OUTPUT_DIR = f\"../outputs/{STORY_NAME_CLEAN}\"\n",
    "STORY_DATA_PATH = f\"{OUTPUT_DIR}/story_data_{STORY_NAME_CLEAN}.json\"\n",
    "# Create the output directory if it doesn't exist\n",
    "os.makedirs(OUTPUT_DIR, exist_ok=True)\n",
    "\n",
    "print(f\"Your target language is {config.language_name}\")"
   ]
  },
  {
   "cell_type": "markdown",
   "metadata": {},
   "source": [
    "### Generate story content and outputs"
   ]
  },
  {
   "cell_type": "code",
   "execution_count": null,
   "metadata": {},
   "outputs": [
    {
     "name": "stdout",
     "output_type": "stream",
     "text": [
      "Story plan created {'exposition': 'Alex\n"
     ]
    },
    {
     "name": "stderr",
     "output_type": "stream",
     "text": [
      "generating dialogue: 100%|██████████| 5/5 [04:20<00:00, 52.03s/it]\n"
     ]
    },
    {
     "ename": "",
     "evalue": "",
     "output_type": "error",
     "traceback": [
      "\u001b[1;31mThe Kernel crashed while executing code in the current cell or a previous cell. \n",
      "\u001b[1;31mPlease review the code in the cell(s) to identify a possible cause of the failure. \n",
      "\u001b[1;31mClick <a href='https://aka.ms/vscodeJupyterKernelCrash'>here</a> for more info. \n",
      "\u001b[1;31mView Jupyter <a href='command:jupyter.viewOutput'>log</a> for further details."
     ]
    }
   ],
   "source": [
    "\n",
    "story_data_dict = create_story_plan_and_dialogue(STORY_NAME, output_dir=OUTPUT_DIR)\n",
    "save_defaultdict(story_data_dict, STORY_DATA_PATH)\n"
   ]
  },
  {
   "cell_type": "code",
   "execution_count": null,
   "metadata": {},
   "outputs": [
    {
     "name": "stderr",
     "output_type": "stream",
     "text": [
      "generating practice phrases:  20%|██        | 1/5 [00:09<00:38,  9.71s/it]"
     ]
    },
    {
     "name": "stdout",
     "output_type": "stream",
     "text": [
      "Added practice phrases for exposition\n",
      "\n"
     ]
    }
   ],
   "source": [
    "\n",
    "story_data_dict = add_practice_phrases(story_data_dict)\n",
    "save_defaultdict(story_data_dict, STORY_DATA_PATH)\n",
    "story_data_dict = add_translations(story_data_dict)\n",
    "save_defaultdict(story_data_dict, STORY_DATA_PATH)\n",
    "story_data_dict = await add_audio(story_data_dict)\n",
    "\n",
    "\n",
    "#Saving as pickle file to retain audio data\n",
    "with open(F'{STORY_DATA_PATH}.pkl', 'wb') as file:\n",
    "    pickle.dump(dict(story_data_dict), file)\n",
    "\n",
    "IMAGE_DATA = generate_story_image(STORY_NAME_CLEAN)\n",
    "\n",
    "with open(f\"{OUTPUT_DIR}/cover_artwork.jpg\", \"wb\") as f:\n",
    "    f.write(IMAGE_DATA)\n",
    "\n",
    "create_album_files(story_data_dict, IMAGE_DATA, OUTPUT_DIR, STORY_NAME_CLEAN)\n",
    "\n",
    "create_pdf_booklet(story_data_dict, output_filename=f\"{OUTPUT_DIR}/story_booklet_{STORY_NAME}.pdf\")\n",
    "\n",
    "#export_to_anki(story_data_dict, OUTPUT_DIR, STORY_NAME_CLEAN)\n"
   ]
  },
  {
   "cell_type": "code",
   "execution_count": null,
   "metadata": {},
   "outputs": [],
   "source": []
  }
 ],
 "metadata": {
  "kernelspec": {
   "display_name": ".venv",
   "language": "python",
   "name": "python3"
  },
  "language_info": {
   "codemirror_mode": {
    "name": "ipython",
    "version": 3
   },
   "file_extension": ".py",
   "mimetype": "text/x-python",
   "name": "python",
   "nbconvert_exporter": "python",
   "pygments_lexer": "ipython3",
   "version": "3.11.4"
  }
 },
 "nbformat": 4,
 "nbformat_minor": 2
}
