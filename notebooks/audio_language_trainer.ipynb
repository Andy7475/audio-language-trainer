{
 "cells": [
  {
   "cell_type": "markdown",
   "metadata": {},
   "source": [
    "# Import"
   ]
  },
  {
   "cell_type": "code",
   "execution_count": 33,
   "metadata": {},
   "outputs": [
    {
     "name": "stdout",
     "output_type": "stream",
     "text": [
      "The autoreload extension is already loaded. To reload it, use:\n",
      "  %reload_ext autoreload\n"
     ]
    }
   ],
   "source": [
    "%load_ext autoreload"
   ]
  },
  {
   "cell_type": "code",
   "execution_count": 52,
   "metadata": {},
   "outputs": [
    {
     "name": "stdout",
     "output_type": "stream",
     "text": [
      "IPython autoawait is `on`, and set to use `asyncio`\n"
     ]
    }
   ],
   "source": [
    "%autoreload 2\n",
    "%autoawait\n",
    "import os\n",
    "from dotenv import load_dotenv\n",
    "import sys\n",
    "import os\n",
    "from collections import defaultdict\n",
    "from tqdm import tqdm\n",
    "import pickle\n",
    "\n",
    "# Add the parent directory of 'src' to the Python path\n",
    "module_path = os.path.abspath(os.path.join('..'))\n",
    "if module_path not in sys.path:\n",
    "    sys.path.append(module_path)\n",
    "# Load environment variables from .env file\n",
    "load_dotenv()\n",
    "\n",
    "from src.audio_generation import async_process_phrases, generate_audio_from_dialogue, async_process_phrases_v2\n",
    "from pydub import AudioSegment\n",
    "from src.config_loader import config\n",
    "from src.dialogue_generation import get_vocab_from_dialogue, update_vocab_usage\n",
    "from src.dialogue_generation import generate_story_plan, generate_dialogue_prompt, generate_dialogue, generate_recap\n",
    "from src.audio_generation import  text_to_speech, play_audio, generate_audio_from_dialogue, generate_normal_and_fast_audio, join_audio_segments, export_audio, async_process_phrases\n",
    "from src.phrase import generate_practice_phrases_from_dialogue\n",
    "from src.initialise import initialise_usage_data, initialise_vocab_usage\n",
    "from src.utils import save_json, convert_defaultdict, save_defaultdict, load_json, create_pdf_booklet\n",
    "from src.translation import translate_dialogue, translate_phrases\n",
    "from src.audio_generation import create_m4a_with_timed_lyrics\n",
    "\n",
    "STORY_NAME = \"japanese_1\"\n",
    "STORY_NAME = STORY_NAME.replace(\" \", \"_\") #just to make directory names easier\n",
    "OUTPUT_DIR = f\"../outputs/{STORY_NAME}\"\n",
    "STORY_DATA_PATH = f\"{OUTPUT_DIR}/story_data_{STORY_NAME}.json\"\n",
    "\n",
    "# Create the output directory if it doesn't exist\n",
    "os.makedirs(OUTPUT_DIR, exist_ok=True)"
   ]
  },
  {
   "cell_type": "markdown",
   "metadata": {},
   "source": [
    "## Setup Google Cloud credentials and prerequisites\n",
    "You will need a Google Project with the following APIs enabled:\n",
    "* Text to Speech\n",
    "* Translate\n",
    "* Vertex AI with the following Anthropic models enabled (from the model garden)\n",
    "    * Sonnet 3.5\n",
    "    * Haiku\n",
    "* Add your GOOGLE_PROJECT_ID to the .env file\n",
    "\n",
    "You should alter src/config.json which contains your target language.\n"
   ]
  },
  {
   "cell_type": "code",
   "execution_count": 35,
   "metadata": {},
   "outputs": [],
   "source": [
    "from google.auth import default\n",
    "credentials, project = default()"
   ]
  },
  {
   "cell_type": "markdown",
   "metadata": {},
   "source": [
    "# Audio Language Trainer Workflow\n",
    "\n",
    "The aim of this project is to create audio material for you to practise a foreign language. It needs to be engaging and be tailored to words you want to practise. \n",
    "\n",
    "The overall steps we follow are:\n",
    "\n",
    "1. Create an outline story plan based on a theme you select (e.g. 'an adventure', 'a holiday in Rome'). An LLM produces a story plan following a typical story arc (exposition, rising action, climax, falling action, resolution). This ensures an engaging plot.\n",
    "2. Flesh out the story using your practice vocabulary and grammatical concepts. Vocab and concepts are sampled from lists you provide in the 'data' folder (vocab_usage.json and grammar_concepts_usage.json), with sampling being skewed towards words you haven't heard yet. The output here is a dialogue between two people (Sam and Alex).\n",
    "\n",
    "Recaps are generated between each story part so when the LLM generates the next dialogue it logically continues from the previous one.\n",
    "\n",
    "3. The dialogue is broken up into shorter practice phrases via a 'language graph' concept, so we give you not just the long-form dialogue to listen and practise to, but smaller, mixed-up phrases based on the vocab in the story, starting small and buliding to more complex phrases.\n",
    "4. Your vocab list is updated based on the produced dialogue.\n",
    "5. The smaller phrases and main dialogue are translated into your target language and convert to speech.\n",
    "6. Research shows that listening to double-speed audio (on words you already known) can help with your listening comprehension for a foreign language (it helps the brain with the ability to separate distinct words). We therefore create a fast version of the dialogue for listening practice.\n",
    "7. The audio files are stiched together to create an MP3 file for each part in the story (there are 5 parts to the story). The stages for each audio lesson are: \n",
    "* dialogue in the target language\n",
    "* practice phrases of the form 'how do you say: \"practice phrase' in 'target language'?\". A pause (where you speak in the foreign language), then the correct translation is played twice, first fast, then slow.\n",
    "* repeat of the dialogue in the target language so you can satisfy yourself you understand it properly\n",
    "* 12 repeated playings of the fast version of the dialogue to improve your listening comprehension.\n",
    "\n",
    "The intent is then you would listen to the next audio lesson in the story.\n",
    "\n",
    "\n",
    "## Setup your vocab and grammatical concepts\n",
    "You should populate or edit\n",
    "* known_vocab_list.json \n",
    "* grammar_concepts.json\n",
    "\n",
    "### Initiliase the vocab and grammar counters\n",
    "This creates vocab_usage.json (setting all values to 0) and grammar_concepts_usage.json (setting all values to 'true' and counts to 0)\n",
    "\n",
    "You can tweak these to minimise what words and concepts you are exposed to"
   ]
  },
  {
   "cell_type": "code",
   "execution_count": 37,
   "metadata": {},
   "outputs": [
    {
     "name": "stdout",
     "output_type": "stream",
     "text": [
      "Data saved to ../data/1000_vocab_usage.json\n",
      "Usage files already exist. Set overwrite=True to reinitialize.\n"
     ]
    }
   ],
   "source": [
    "initialise_vocab_usage()\n",
    "initialise_usage_data(overwrite=False) #the overwrite commands stops you wiping all your usage data if it already exists"
   ]
  },
  {
   "cell_type": "markdown",
   "metadata": {},
   "source": [
    "## Create a story plan"
   ]
  },
  {
   "cell_type": "code",
   "execution_count": 53,
   "metadata": {},
   "outputs": [
    {
     "name": "stdout",
     "output_type": "stream",
     "text": [
      "Config file has been modified. Reloading...\n",
      "Successfully loaded config from: c:\\Users\\i5\\Documents\\Python Scripts\\audio-language-trainer\\src\\config.json\n",
      "Multiple country codes available for en: en-AU, en-GB, en-IN, en-US\n",
      "[('cry', 'VERB'), ('settle', 'VERB'), ('divide', 'VERB'), ('differ', 'VERB'), ('consider', 'VERB'), ('drive', 'VERB'), ('hear', 'VERB'), ('change', 'VERB'), ('write', 'VERB'), ('pack', 'VERB')]\n",
      "Data saved to ../data/1000_vocab_usage.json\n",
      "[('interest', 'vocab'), ('except', 'vocab'), ('hunt', 'vocab'), ('travel', 'vocab'), ('night', 'vocab'), ('single', 'vocab'), ('foot', 'vocab'), ('close', 'vocab'), ('wild', 'vocab'), ('walk', 'vocab'), ('think', 'vocab'), ('cause', 'vocab'), ('took', 'vocab'), ('jump', 'vocab'), ('these', 'vocab'), ('serve', 'vocab'), ('weight', 'vocab'), ('surface', 'vocab'), ('ever', 'vocab'), ('fall', 'vocab'), ('between', 'vocab'), ('over', 'vocab'), ('destination', 'vocab'), ('fear', 'vocab'), ('success', 'vocab'), ('mountain', 'vocab'), ('write', 'vocab'), ('crowd', 'vocab'), ('noon', 'vocab'), ('fire', 'vocab')]\n",
      "Data saved to ../data/1000_vocab_usage.json\n",
      "Data saved to ../outputs/story_plan_japanese_1.json\n"
     ]
    }
   ],
   "source": [
    "%autoreload 2\n",
    "from src.dialogue_generation import get_least_used_words, add_usage_to_words\n",
    "\n",
    "verbs_for_story = get_least_used_words(\"verbs\", 10)\n",
    "vocab_for_story = get_least_used_words(\"vocab\", 30)\n",
    "\n",
    "story_plan = generate_story_plan(story_guide = \"learning to make sushi - when disaster strikes!\", verb_list=verbs_for_story, vocab_list=vocab_for_story, test = False, story_name= STORY_NAME) #the test parameter will provide pre-canned responses avoiding LLM costs"
   ]
  },
  {
   "cell_type": "code",
   "execution_count": 54,
   "metadata": {},
   "outputs": [],
   "source": [
    "verbs_for_story_usage = add_usage_to_words(verbs_for_story, \"verbs\")\n",
    "vocab_for_story_usage = add_usage_to_words(vocab_for_story, \"vocab\")"
   ]
  },
  {
   "cell_type": "markdown",
   "metadata": {},
   "source": [
    "## Create all dialogue\n",
    "\n",
    "1. Create dialouge LLM prompt based on the story part\n",
    "2. LLM generates dialogue\n",
    "3. LLM generates recap\n",
    "4. move to next story part and repeat\n"
   ]
  },
  {
   "cell_type": "code",
   "execution_count": 55,
   "metadata": {},
   "outputs": [
    {
     "name": "stdout",
     "output_type": "stream",
     "text": [
      "{('for', 'ADP'), ('travel', 'VERB'), ('there', 'ADV'), ('fine', 'ADJ'), ('and', 'CCONJ'), ('surface', 'NOUN'), ('find', 'VERB'), ('sushi', 'NOUN'), ('to', 'ADP'), ('success', 'NOUN'), ('like', 'VERB'), ('should', 'AUX'), ('noon', 'NOUN'), ('idea', 'NOUN'), ('the', 'DET'), ('in', 'ADP'), ('cause', 'VERB'), ('it', 'PRON'), ('market', 'NOUN'), ('ever', 'ADV'), ('might', 'AUX'), ('too', 'ADV'), ('to', 'PART'), ('water', 'NOUN'), ('some', 'DET'), ('nearby', 'ADV'), ('apartment', 'NOUN'), ('see', 'VERB'), ('learn', 'VERB'), ('wait', 'VERB'), ('need', 'VERB'), ('but', 'CCONJ'), ('a', 'DET'), ('close', 'ADJ'), ('view', 'NOUN'), ('we', 'PRON'), ('around', 'ADV'), ('not', 'PART'), ('adventure', 'NOUN'), ('have', 'VERB'), ('may', 'AUX'), ('wild', 'ADJ'), ('do', 'AUX'), ('that', 'PRON'), ('nice', 'ADJ'), ('settle', 'VERB'), ('crowd', 'NOUN'), ('fish', 'NOUN'), ('i', 'PRON'), ('about', 'ADP'), ('good', 'ADJ'), ('any', 'DET'), ('tonight', 'NOUN'), ('trip', 'NOUN'), ('mountain', 'NOUN'), ('this', 'DET'), ('will', 'AUX'), ('hunt', 'VERB'), ('journal', 'NOUN'), ('can', 'AUX'), ('be', 'AUX'), ('write', 'VERB'), ('think', 'VERB'), ('dehydration', 'NOUN'), ('my', 'PRON'), ('travel', 'NOUN'), ('course', 'ADV'), ('would', 'AUX'), ('serve', 'VERB'), ('our', 'PRON'), ('pack', 'VERB'), ('sun', 'NOUN'), ('walk', 'VERB'), ('ingredient', 'NOUN'), ('sure', 'INTJ'), ('city', 'NOUN'), ('of', 'ADV'), ('here', 'ADV')}\n",
      "Data saved to ../data/1000_vocab_usage.json\n",
      "{('for', 'ADP'), ('next', 'ADJ'), ('and', 'CCONJ'), ('interesting', 'ADJ'), ('more', 'ADJ'), ('sushi', 'NOUN'), ('to', 'ADP'), ('chef', 'NOUN'), ('online', 'NOUN'), ('true', 'ADJ'), ('success', 'NOUN'), ('should', 'AUX'), ('noon', 'NOUN'), ('cooking', 'NOUN'), ('make', 'VERB'), ('the', 'DET'), ('class', 'NOUN'), ('food', 'NOUN'), ('compare', 'VERB'), ('one', 'NOUN'), ('sound', 'VERB'), ('more', 'ADV'), ('it', 'PRON'), ('challenge', 'NOUN'), ('market', 'NOUN'), ('guide', 'NOUN'), ('might', 'AUX'), ('out', 'ADP'), ('now', 'ADV'), ('to', 'PART'), ('as', 'ADP'), ('how', 'SCONJ'), ('hurry', 'VERB'), ('with', 'ADP'), ('from', 'ADP'), ('learn', 'VERB'), ('divide', 'VERB'), ('part', 'NOUN'), ('figure', 'VERB'), ('but', 'CCONJ'), ('you', 'PRON'), ('cost', 'NOUN'), ('tricky', 'ADJ'), ('on', 'ADP'), ('a', 'DET'), ('step', 'NOUN'), ('budget', 'NOUN'), ('well', 'ADJ'), ('we', 'PRON'), ('properly', 'ADV'), ('maybe', 'ADV'), ('this', 'PRON'), ('decide', 'VERB'), ('consider', 'VERB'), ('not', 'PART'), ('differ', 'VERB'), ('adventure', 'NOUN'), ('about', 'SCONJ'), ('must', 'AUX'), ('have', 'VERB'), ('may', 'AUX'), ('professional', 'ADJ'), ('few', 'ADJ'), ('except', 'SCONJ'), ('wild', 'ADJ'), ('own', 'ADJ'), ('do', 'AUX'), ('that', 'PRON'), ('settle', 'VERB'), ('i', 'PRON'), ('good', 'ADJ'), ('tonight', 'NOUN'), ('could', 'AUX'), ('really', 'ADV'), ('down', 'ADP'), ('will', 'AUX'), ('at', 'ADP'), ('deal', 'NOUN'), ('have', 'AUX'), ('be', 'AUX'), ('write', 'VERB'), ('think', 'VERB'), ('win', 'NOUN'), ('would', 'AUX'), ('take', 'VERB'), ('serve', 'VERB'), ('our', 'PRON'), ('pack', 'VERB'), ('get', 'VERB'), ('walk', 'VERB'), ('ingredient', 'NOUN')}\n",
      "Data saved to ../data/1000_vocab_usage.json\n",
      "{('smoke', 'NOUN'), ('alarm', 'NOUN'), ('competition', 'NOUN'), ('ouch', 'INTJ'), ('hear', 'VERB'), ('door', 'NOUN'), ('hit', 'VERB'), ('this', 'PRON'), ('close', 'VERB'), ('and', 'CCONJ'), ('might', 'AUX'), ('this', 'DET'), ('will', 'AUX'), ('consider', 'VERB'), ('time', 'NOUN'), ('out', 'ADP'), ('ruin', 'VERB'), ('not', 'PART'), ('jump', 'VERB'), ('at', 'ADP'), ('to', 'PART'), ('kitchen', 'NOUN'), ('oh', 'INTJ'), ('pot', 'NOUN'), ('just', 'ADV'), ('catch', 'VERB'), ('water', 'NOUN'), ('be', 'AUX'), ('of', 'ADP'), ('can', 'AUX'), ('think', 'VERB'), ('no', 'DET'), ('sushi', 'NOUN'), ('put', 'VERB'), ('watch', 'VERB'), ('hand', 'NOUN'), ('my', 'PRON'), ('mess', 'NOUN'), ('up', 'ADP'), ('cloth', 'NOUN'), ('with', 'ADP'), ('stove', 'NOUN'), ('wild', 'ADJ'), ('do', 'AUX'), ('our', 'PRON'), ('pack', 'VERB'), ('try', 'VERB'), ('let', 'VERB'), ('hope', 'VERB'), ('grab', 'VERB'), ('us', 'PRON'), ('boiling', 'NOUN'), ('settle', 'VERB'), ('wait', 'VERB'), ('extinguisher', 'NOUN'), ('noon', 'NOUN'), ('before', 'SCONJ'), ('idea', 'NOUN'), ('fish', 'NOUN'), ('i', 'PRON'), ('the', 'DET'), ('good', 'ADJ'), ('get', 'VERB'), ('wet', 'ADJ'), ('you', 'PRON'), ('no', 'INTJ'), ('cause', 'VERB'), ('quick', 'ADJ'), ('on', 'ADP'), ('a', 'DET'), ('careful', 'ADJ'), ('spread', 'VERB'), ('fire', 'NOUN'), ('it', 'PRON')}\n",
      "Data saved to ../data/1000_vocab_usage.json\n",
      "{('competition', 'NOUN'), ('and', 'CCONJ'), ('surface', 'NOUN'), ('catch', 'VERB'), ('use', 'VERB'), ('to', 'ADP'), ('conquer', 'VERB'), ('also', 'ADV'), ('or', 'CCONJ'), ('before', 'SCONJ'), ('team', 'NOUN'), ('make', 'VERB'), ('the', 'DET'), ('in', 'ADP'), ('whether', 'SCONJ'), ('fail', 'VERB'), ('agree', 'VERB'), ('cause', 'VERB'), ('smother', 'VERB'), ('careful', 'ADJ'), ('wet', 'ADJ'), ('it', 'PRON'), ('challenge', 'NOUN'), ('act', 'VERB'), ('fast', 'ADV'), ('might', 'AUX'), ('out', 'ADP'), ('other', 'ADJ'), ('jump', 'VERB'), ('to', 'PART'), ('as', 'ADP'), ('how', 'SCONJ'), ('work', 'VERB'), ('okay', 'INTJ'), ('neither', 'CCONJ'), ('if', 'SCONJ'), ('with', 'ADP'), ('together', 'ADV'), ('let', 'VERB'), ('divide', 'VERB'), ('need', 'VERB'), ('but', 'CCONJ'), ('nor', 'CCONJ'), ('you', 'PRON'), ('a', 'DET'), ('fire', 'NOUN'), ('we', 'PRON'), ('hear', 'VERB'), ('cook', 'VERB'), ('overcome', 'VERB'), ('consider', 'VERB'), ('not', 'PART'), ('have', 'VERB'), ('right', 'ADJ'), ('put', 'VERB'), ('come', 'VERB'), ('cloth', 'NOUN'), ('wild', 'ADJ'), ('do', 'AUX'), ('well', 'ADV'), ('us', 'PRON'), ('do', 'VERB'), ('settle', 'VERB'), ('night', 'NOUN'), ('crowd', 'NOUN'), ('fish', 'NOUN'), ('i', 'PRON'), ('any', 'DET'), ('chaos', 'NOUN'), ('neighbor', 'NOUN'), ('this', 'DET'), ('will', 'AUX'), ('hunt', 'VERB'), ('have', 'AUX'), ('can', 'AUX'), ('be', 'AUX'), ('think', 'VERB'), ('phew', 'INTJ'), ('our', 'PRON'), ('footstep', 'NOUN'), ('get', 'VERB'), ('deal', 'VERB'), ('only', 'ADV')}\n",
      "Data saved to ../data/1000_vocab_usage.json\n",
      "{('for', 'ADP'), ('travel', 'VERB'), ('interest', 'VERB'), ('there', 'ADV'), ('and', 'CCONJ'), ('drive', 'VERB'), ('just', 'ADV'), ('more', 'ADJ'), ('of', 'ADP'), ('say', 'VERB'), ('sushi', 'NOUN'), ('to', 'ADP'), ('what', 'PRON'), ('chef', 'NOUN'), ('change', 'VERB'), ('why', 'SCONJ'), ('true', 'ADJ'), ('noon', 'NOUN'), ('idea', 'NOUN'), ('expert', 'NOUN'), ('the', 'DET'), ('between', 'ADP'), ('cause', 'VERB'), ('sound', 'VERB'), ('no', 'INTJ'), ('it', 'PRON'), ('before', 'ADP'), ('might', 'AUX'), ('jump', 'VERB'), ('to', 'PART'), ('nearby', 'ADV'), ('okay', 'INTJ'), ('from', 'ADP'), ('that', 'ADV'), ('learn', 'VERB'), ('let', 'VERB'), ('wait', 'VERB'), ('first', 'ADV'), ('single', 'ADJ'), ('but', 'CCONJ'), ('a', 'DET'), ('floor', 'NOUN'), ('close', 'ADJ'), ('fire', 'NOUN'), ('we', 'PRON'), ('hear', 'VERB'), ('great', 'ADJ'), ('not', 'PART'), ('adventure', 'NOUN'), ('heart', 'NOUN'), ('have', 'VERB'), ('mess', 'NOUN'), ('up', 'ADP'), ('except', 'SCONJ'), ('wild', 'ADJ'), ('do', 'AUX'), ('believe', 'VERB'), ('us', 'PRON'), ('settle', 'VERB'), ('far', 'ADV'), ('night', 'NOUN'), ('fish', 'NOUN'), ('i', 'PRON'), ('about', 'ADP'), ('good', 'ADJ'), ('instead', 'ADV'), ('experience', 'NOUN'), ('other', 'NOUN'), ('chaos', 'NOUN'), ('mountain', 'NOUN'), ('hey', 'INTJ'), ('right', 'ADV'), ('still', 'ADV'), ('down', 'ADP'), ('this', 'DET'), ('will', 'AUX'), ('all', 'ADV'), ('know', 'VERB'), ('hunt', 'VERB'), ('kitchen', 'NOUN'), ('can', 'AUX'), ('be', 'AUX'), ('write', 'VERB'), ('my', 'PRON'), ('over', 'ADP'), ('our', 'PRON'), ('wow', 'INTJ'), ('pack', 'VERB'), ('place', 'NOUN'), ('that', 'DET'), ('walk', 'VERB'), ('fishy', 'ADJ')}\n",
      "Data saved to ../data/1000_vocab_usage.json\n",
      "Data saved to ../outputs/japanese_1/story_data_japanese_1.json\n"
     ]
    }
   ],
   "source": [
    "PAY_FOR_LLM = True\n",
    "\n",
    "if PAY_FOR_LLM:\n",
    "    story_data_dict = defaultdict(lambda: defaultdict(str))\n",
    "    recap = \"This is the beginning of the story.\"\n",
    "    for step, story_part in enumerate(list(story_plan.keys())):\n",
    "        prompt = generate_dialogue_prompt(story_part=story_part,\n",
    "                                        story_part_outline=story_plan[story_part],\n",
    "                                        last_recap = recap,\n",
    "                                        verb_usage_str=verbs_for_story_usage,\n",
    "                                        vocab_usage_str=vocab_for_story_usage,\n",
    "                                        verb_use_count=5,\n",
    "                                        vocab_use_count=10,\n",
    "                                        grammar_concept_count=5,\n",
    "                                        grammar_use_count=3)\n",
    "        dialogue = generate_dialogue(prompt)\n",
    "        vocab_used = get_vocab_from_dialogue(dialogue)\n",
    "        update_vocab_usage(vocab_used)\n",
    "        verbs_for_story_usage = add_usage_to_words(verbs_for_story, \"verbs\")\n",
    "        vocab_for_story_usage = add_usage_to_words(vocab_for_story, \"vocab\")\n",
    "        recap = generate_recap(dialogue, test=False)\n",
    "        story_data_dict[story_part][\"dialogue_generation_prompt\"] = prompt\n",
    "        story_data_dict[story_part][\"dialogue\"] = dialogue\n",
    "        story_data_dict[story_part][\"recap\"] = recap\n",
    "\n",
    "save_defaultdict(story_data_dict, STORY_DATA_PATH)\n"
   ]
  },
  {
   "cell_type": "markdown",
   "metadata": {},
   "source": [
    "### Build phrases from dialogue\n",
    "\n",
    "Here we:\n",
    "1. Break up the dialogue into separate sentences. For this bit we don't care who the speaker is, we just want to create different phrases of different lengths and combinations based on the vocab int the dialogue\n",
    "2. We use another LLM call to do this, with some one-shot learning"
   ]
  },
  {
   "cell_type": "code",
   "execution_count": 56,
   "metadata": {},
   "outputs": [],
   "source": [
    "story_data_dict = load_json(STORY_DATA_PATH)"
   ]
  },
  {
   "cell_type": "code",
   "execution_count": 57,
   "metadata": {},
   "outputs": [],
   "source": [
    "for story_part in story_data_dict:\n",
    "    dialogue = story_data_dict[story_part][\"dialogue\"]\n",
    "    story_data_dict[story_part][\"corrected_phrase_list\"] = generate_practice_phrases_from_dialogue(dialogue)"
   ]
  },
  {
   "cell_type": "code",
   "execution_count": 58,
   "metadata": {},
   "outputs": [
    {
     "name": "stdout",
     "output_type": "stream",
     "text": [
      "Data saved to ../outputs/japanese_1/story_data_japanese_1.json\n"
     ]
    }
   ],
   "source": [
    "save_defaultdict(story_data_dict, STORY_DATA_PATH)"
   ]
  },
  {
   "cell_type": "markdown",
   "metadata": {},
   "source": [
    "### Translate dialogue and phrases"
   ]
  },
  {
   "cell_type": "code",
   "execution_count": 59,
   "metadata": {},
   "outputs": [
    {
     "name": "stderr",
     "output_type": "stream",
     "text": [
      "100%|██████████| 5/5 [00:17<00:00,  3.58s/it]\n"
     ]
    }
   ],
   "source": [
    "PAY_FOR_TRANSLATE_API = True\n",
    "\n",
    "if PAY_FOR_TRANSLATE_API:\n",
    "\n",
    "    for story_part in tqdm(story_data_dict):\n",
    "        dialogue = story_data_dict[story_part][\"dialogue\"]\n",
    "        translated_dialogue = translate_dialogue(dialogue)\n",
    "\n",
    "        corrected_phrase_list = story_data_dict[story_part][\"corrected_phrase_list\"]\n",
    "        translated_phrase_list = translate_phrases(corrected_phrase_list)\n",
    "\n",
    "        story_data_dict[story_part][\"translated_dialogue\"] = translated_dialogue\n",
    "        story_data_dict[story_part][\"translated_phrase_list\"] = translated_phrase_list\n"
   ]
  },
  {
   "cell_type": "code",
   "execution_count": 60,
   "metadata": {},
   "outputs": [
    {
     "name": "stdout",
     "output_type": "stream",
     "text": [
      "Data saved to ../outputs/japanese_1/story_data_japanese_1.json\n"
     ]
    }
   ],
   "source": [
    "save_defaultdict(story_data_dict, STORY_DATA_PATH)"
   ]
  },
  {
   "cell_type": "markdown",
   "metadata": {},
   "source": [
    "## Generate Audio Lesson\n",
    "\n",
    "The steps here are\n",
    "1. The target language dialogue at normal speed\n",
    "2. Each corrected and translated phrase in the form english - target fast - target slow\n",
    "3. Each dialogue utterance in the form english - target fast - target slow\n",
    "4. The 2 x sped up target language dialogue"
   ]
  },
  {
   "cell_type": "code",
   "execution_count": 61,
   "metadata": {},
   "outputs": [],
   "source": [
    "story_data_dict =load_json(STORY_DATA_PATH)"
   ]
  },
  {
   "cell_type": "code",
   "execution_count": 62,
   "metadata": {},
   "outputs": [
    {
     "name": "stderr",
     "output_type": "stream",
     "text": [
      "  0%|          | 0/5 [00:00<?, ?it/s]"
     ]
    },
    {
     "name": "stdout",
     "output_type": "stream",
     "text": [
      "exposition dialogue done\n"
     ]
    },
    {
     "name": "stderr",
     "output_type": "stream",
     "text": [
      " 20%|██        | 1/5 [05:05<20:22, 305.57s/it]"
     ]
    },
    {
     "name": "stdout",
     "output_type": "stream",
     "text": [
      "exposition phrases done\n",
      "rising_action dialogue done\n"
     ]
    },
    {
     "name": "stderr",
     "output_type": "stream",
     "text": [
      " 40%|████      | 2/5 [10:20<15:33, 311.26s/it]"
     ]
    },
    {
     "name": "stdout",
     "output_type": "stream",
     "text": [
      "rising_action phrases done\n",
      "climax dialogue done\n"
     ]
    },
    {
     "name": "stderr",
     "output_type": "stream",
     "text": [
      " 60%|██████    | 3/5 [15:36<10:26, 313.35s/it]"
     ]
    },
    {
     "name": "stdout",
     "output_type": "stream",
     "text": [
      "climax phrases done\n",
      "falling_action dialogue done\n"
     ]
    },
    {
     "name": "stderr",
     "output_type": "stream",
     "text": [
      " 80%|████████  | 4/5 [20:40<05:09, 309.44s/it]"
     ]
    },
    {
     "name": "stdout",
     "output_type": "stream",
     "text": [
      "falling_action phrases done\n",
      "resolution dialogue done\n"
     ]
    },
    {
     "name": "stderr",
     "output_type": "stream",
     "text": [
      "100%|██████████| 5/5 [26:14<00:00, 314.95s/it]"
     ]
    },
    {
     "name": "stdout",
     "output_type": "stream",
     "text": [
      "resolution phrases done\n"
     ]
    },
    {
     "name": "stderr",
     "output_type": "stream",
     "text": [
      "\n"
     ]
    }
   ],
   "source": [
    "\n",
    "PAY_FOR_TEXT_TO_SPEECH = True\n",
    "\n",
    "story_data_dict =load_json(STORY_DATA_PATH)\n",
    "if PAY_FOR_TEXT_TO_SPEECH:\n",
    "    for story_part in tqdm(story_data_dict):\n",
    "\n",
    "        translated_dialogue_audio_segments = generate_audio_from_dialogue(story_data_dict[story_part][\"translated_dialogue\"])\n",
    "        story_data_dict[story_part][\"translated_dialogue_audio\"] = translated_dialogue_audio_segments\n",
    "        normal_translated_clip, fast_translated_clips = generate_normal_and_fast_audio(translated_dialogue_audio_segments)\n",
    "        story_data_dict[story_part][\"translated_dialogue_audio_fast\"] = fast_translated_clips\n",
    "        print(f\"{story_part} dialogue done\")\n",
    "        #now do phrases asynchronoulsy (still unsure if Google API allows this, not getting huge speed up)\n",
    "        translated_phrases = story_data_dict[story_part][\"translated_phrase_list\"]\n",
    "        tranlsated_phrases_audio = await async_process_phrases(translated_phrases)\n",
    "        story_data_dict[story_part][\"translated_phrase_list_audio\"] = tranlsated_phrases_audio\n",
    "        print(f\"{story_part} phrases done\")\n",
    "\n",
    "\n",
    "       \n"
   ]
  },
  {
   "cell_type": "code",
   "execution_count": 63,
   "metadata": {},
   "outputs": [],
   "source": [
    "\n",
    "# Save the dictionary to a file\n",
    "with open(F'{STORY_DATA_PATH}.pkl', 'wb') as file:\n",
    "    pickle.dump(story_data_dict, file)"
   ]
  },
  {
   "cell_type": "code",
   "execution_count": 8,
   "metadata": {},
   "outputs": [],
   "source": [
    "# with open(F'{STORY_DATA_PATH}.pkl', 'rb') as file:\n",
    "#     story_data_dict = pickle.load(file)"
   ]
  },
  {
   "cell_type": "markdown",
   "metadata": {},
   "source": [
    "### Generate M4A file with synchronised captions"
   ]
  },
  {
   "cell_type": "code",
   "execution_count": 64,
   "metadata": {},
   "outputs": [],
   "source": [
    "\n",
    "#get lists and audio clips synced together\n",
    "full_audio_list = []\n",
    "full_captions_list = []\n",
    "\n",
    "\n",
    "#fast dialogue (no text)\n",
    "PAUSE_TEXT = \"---------\"\n",
    "THINKING_GAP = AudioSegment.silent(duration=config.THINKING_GAP_MS)\n",
    "GAP_BETWEEN_PHRASES = AudioSegment.silent(duration=500)\n",
    "#translated dialogue\n",
    "\n",
    "for story_part in story_data_dict:\n",
    "\n",
    "    audio_list = []\n",
    "    captions_list = []\n",
    "    dialogue_list = [utterence[\"text\"] for utterence in story_data_dict[story_part][\"translated_dialogue\"]]\n",
    "    dialogue_audio_list = story_data_dict[story_part][\"translated_dialogue_audio\"]\n",
    "\n",
    "    audio_list.append(GAP_BETWEEN_PHRASES)\n",
    "    captions_list.append(f\"{story_part} - First dialogue\")\n",
    "\n",
    "    audio_list.extend(dialogue_audio_list)\n",
    "    captions_list.extend(dialogue_list)\n",
    "    #print(f\"audio {len(audio_list)} - captions {len(captions_list)}\")\n",
    "\n",
    "    audio_list.append(GAP_BETWEEN_PHRASES)\n",
    "    captions_list.append(f\"{story_part} - Practice phrases\")\n",
    "    \n",
    "    for step, phrase in enumerate(story_data_dict[story_part][\"translated_phrase_list\"]):\n",
    "        english_text = phrase[0]\n",
    "        target_text = phrase[1]\n",
    "\n",
    "        english_audio = story_data_dict[story_part][\"translated_phrase_list_audio\"][step][0]\n",
    "        target_audio_slow = story_data_dict[story_part][\"translated_phrase_list_audio\"][step][1]\n",
    "        target_audio_normal = story_data_dict[story_part][\"translated_phrase_list_audio\"][step][2]\n",
    "\n",
    "        audio_list.append(english_audio)\n",
    "        captions_list.append(english_text)\n",
    "\n",
    "        audio_list.append(THINKING_GAP)\n",
    "        captions_list.append(PAUSE_TEXT)\n",
    "\n",
    "        audio_list.append(target_audio_normal)\n",
    "        captions_list.append(target_text)\n",
    "\n",
    "        audio_list.append(GAP_BETWEEN_PHRASES)\n",
    "        captions_list.append(PAUSE_TEXT)\n",
    "\n",
    "        audio_list.append(target_audio_slow)\n",
    "        captions_list.append(target_text)\n",
    "\n",
    "        audio_list.append(GAP_BETWEEN_PHRASES)\n",
    "        captions_list.append(PAUSE_TEXT)\n",
    "\n",
    "    audio_list.append(story_data_dict[story_part][\"translated_dialogue_audio_fast\"])\n",
    "    captions_list.append(f\"{story_part} - Repeated Fast Dialogue\")\n",
    "\n",
    "    audio_list.append(GAP_BETWEEN_PHRASES)\n",
    "    captions_list.append(f\"{story_part} - Final Dialogue\")\n",
    "    \n",
    "    audio_list.extend(dialogue_audio_list)\n",
    "    captions_list.extend(dialogue_list)\n",
    "\n",
    "    create_m4a_with_timed_lyrics(audio_list, captions_list, F\"{OUTPUT_DIR}/{STORY_NAME}_{story_part}.m4a\")\n",
    "    full_audio_list.extend(audio_list)\n",
    "    full_captions_list.extend(captions_list)\n",
    "\n"
   ]
  },
  {
   "cell_type": "code",
   "execution_count": 65,
   "metadata": {},
   "outputs": [],
   "source": [
    "#add the complete story as a single dialogue at the end\n",
    "\n",
    "all_dialogue_audio = []\n",
    "all_dialogue_captions = []\n",
    "\n",
    "for story_part in story_data_dict:\n",
    "    dialogue_list = [utterence[\"text\"] for utterence in story_data_dict[story_part][\"translated_dialogue\"]]\n",
    "    dialogue_audio_list = story_data_dict[story_part][\"translated_dialogue_audio\"]\n",
    "    all_dialogue_audio.extend(dialogue_audio_list)\n",
    "    all_dialogue_captions.extend(dialogue_list)\n",
    "\n",
    "    all_dialogue_audio.append(GAP_BETWEEN_PHRASES)\n",
    "    all_dialogue_captions.append(PAUSE_TEXT)\n",
    "\n",
    "full_audio_list.extend(all_dialogue_audio)\n",
    "full_captions_list.extend(all_dialogue_captions)\n",
    "\n",
    "\n",
    "create_m4a_with_timed_lyrics(full_audio_list, full_captions_list, F\"{OUTPUT_DIR}/final_lesson_{STORY_NAME}.m4a\")"
   ]
  },
  {
   "cell_type": "markdown",
   "metadata": {},
   "source": [
    "## Create PDF Booklet\n",
    "So you can see the spelling of the phrases and dialogue"
   ]
  },
  {
   "cell_type": "code",
   "execution_count": 66,
   "metadata": {},
   "outputs": [],
   "source": [
    "create_pdf_booklet(story_data_dict, output_filename=f\"{OUTPUT_DIR}/story_booklet_{STORY_NAME}.pdf\")\n"
   ]
  },
  {
   "cell_type": "markdown",
   "metadata": {},
   "source": [
    "## Create Anki Deck for phrases"
   ]
  },
  {
   "cell_type": "code",
   "execution_count": 67,
   "metadata": {},
   "outputs": [
    {
     "name": "stdout",
     "output_type": "stream",
     "text": [
      "Anki deck exported to ../outputs/japanese_1\\japanese_1_anki_deck.apkg\n"
     ]
    }
   ],
   "source": [
    "from src.anki import export_to_anki \n",
    "\n",
    "export_to_anki(story_data_dict, OUTPUT_DIR, STORY_NAME)"
   ]
  },
  {
   "cell_type": "code",
   "execution_count": null,
   "metadata": {},
   "outputs": [],
   "source": []
  }
 ],
 "metadata": {
  "kernelspec": {
   "display_name": ".venv",
   "language": "python",
   "name": "python3"
  },
  "language_info": {
   "codemirror_mode": {
    "name": "ipython",
    "version": 3
   },
   "file_extension": ".py",
   "mimetype": "text/x-python",
   "name": "python",
   "nbconvert_exporter": "python",
   "pygments_lexer": "ipython3",
   "version": "3.11.4"
  }
 },
 "nbformat": 4,
 "nbformat_minor": 2
}
