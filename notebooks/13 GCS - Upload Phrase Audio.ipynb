{
 "cells": [
  {
   "cell_type": "code",
   "execution_count": 1,
   "metadata": {},
   "outputs": [],
   "source": [
    "from google.auth import default\n",
    "credentials, project = default()"
   ]
  },
  {
   "cell_type": "code",
   "execution_count": 11,
   "metadata": {},
   "outputs": [
    {
     "name": "stdout",
     "output_type": "stream",
     "text": [
      "The autoreload extension is already loaded. To reload it, use:\n",
      "  %reload_ext autoreload\n",
      "Found existing FFmpeg paths:\n",
      "  C:\\Users\\andyl\\AppData\\Local\\Microsoft\\WinGet\\Packages\\Gyan.FFmpeg_Microsoft.Winget.Source_8wekyb3d8bbwe\\ffmpeg-7.1.1-full_build\\bin\n",
      "Swedish\n"
     ]
    }
   ],
   "source": [
    "%load_ext autoreload\n",
    "%autoreload 2\n",
    "import os\n",
    "import sys\n",
    "from pathlib import Path\n",
    "module_path = os.path.abspath(os.path.join('..'))\n",
    "if module_path not in sys.path:\n",
    "    sys.path.append(module_path)\n",
    "from dotenv import load_dotenv\n",
    "load_dotenv()\n",
    "\n",
    "from src.config_loader import config\n",
    "from src.utils import get_first_n_items\n",
    "from src.gcs_storage import read_from_gcs, upload_to_gcs, get_translated_phrases_path\n",
    "from src.audio_generation import upload_phrases_audio_to_gcs\n",
    "print(config.TARGET_LANGUAGE_NAME)\n",
    "COLLECTION = \"LM2000\""
   ]
  },
  {
   "cell_type": "markdown",
   "metadata": {},
   "source": [
    "# Phrase Audio\n",
    "\n",
    "## Storage overview\n",
    "\n",
    "Save MP3 files of audio with the filenames of the phrase keys based on clean_filename\n",
    "\n",
    "multimedia/audio/phrases/french/normal/this_is_a_phrase.mp3\n",
    "multimedia/audio/phrases/french/slow/this_is_a_phrase.mp3\n",
    "\n",
    "This allows us to quickly retrieve a phrase based on the bucket name and the phrase key, as well as modify individual phrases for later correction"
   ]
  },
  {
   "cell_type": "code",
   "execution_count": 3,
   "metadata": {},
   "outputs": [
    {
     "name": "stdout",
     "output_type": "stream",
     "text": [
      "swedish\n"
     ]
    },
    {
     "data": {
      "text/plain": [
       "(VoiceInfo(name='en-GB-Neural2-B', provider=<VoiceProvider.GOOGLE: 'google'>, voice_id='en-GB-Neural2-B', language_code='en-GB'),\n",
       " VoiceInfo(name='sv-SE-SofieNeural', provider=<VoiceProvider.AZURE: 'azure'>, voice_id='sv-SE-SofieNeural', language_code='sv-SE'),\n",
       " VoiceInfo(name='sv-SE-MattiasNeural', provider=<VoiceProvider.AZURE: 'azure'>, voice_id='sv-SE-MattiasNeural', language_code='sv-SE'))"
      ]
     },
     "execution_count": 3,
     "metadata": {},
     "output_type": "execute_result"
    }
   ],
   "source": [
    "language_name = config.TARGET_LANGUAGE_NAME.lower()\n",
    "print(language_name)\n",
    "config.get_voice_models()"
   ]
  },
  {
   "cell_type": "code",
   "execution_count": 7,
   "metadata": {},
   "outputs": [],
   "source": [
    "# get translations\n",
    "\n",
    "phrase_translations = read_from_gcs(bucket_name=config.GCS_PRIVATE_BUCKET, file_path=get_translated_phrases_path(collection=COLLECTION))"
   ]
  },
  {
   "cell_type": "code",
   "execution_count": 8,
   "metadata": {},
   "outputs": [
    {
     "data": {
      "text/plain": [
       "{'english': \"The drug's reaction was relatively mild, thank goodness.\",\n",
       " 'swedish': 'Medicinen gav bara en mild reaktion, tur det.',\n",
       " 'modified': True,\n",
       " 'wiktionary_links': '<a href=\"https://en.wiktionary.org/wiki/medicinen#Swedish\" target=\"_blank\" rel=\"noopener\">Medicinen</a> <a href=\"https://en.wiktionary.org/wiki/gav#Swedish\">gav</a> <a href=\"https://en.wiktionary.org/wiki/bara#Swedish\">bara</a> <a href=\"https://en.wiktionary.org/wiki/en#Swedish\">en</a> <a href=\"https://en.wiktionary.org/wiki/mild#Swedish\" target=\"_blank\" rel=\"noopener\">mild</a> <a href=\"https://en.wiktionary.org/wiki/reaktion#Swedish\" target=\"_blank\" rel=\"noopener\">reaktion,</a> <a href=\"https://en.wiktionary.org/wiki/tur#Swedish\">tur</a> <a href=\"https://en.wiktionary.org/wiki/det#Swedish\">det</a>'}"
      ]
     },
     "execution_count": 8,
     "metadata": {},
     "output_type": "execute_result"
    }
   ],
   "source": [
    "phrase_translations['the_drugs_reaction_was_relatively_mild_thank_goodness']"
   ]
  },
  {
   "cell_type": "code",
   "execution_count": 5,
   "metadata": {},
   "outputs": [],
   "source": [
    "test_dict = get_first_n_items(phrase_translations, 3)"
   ]
  },
  {
   "cell_type": "code",
   "execution_count": 10,
   "metadata": {},
   "outputs": [
    {
     "name": "stdout",
     "output_type": "stream",
     "text": [
      "1\n"
     ]
    }
   ],
   "source": [
    "phrase_to_modify = ['the_drugs_reaction_was_relatively_mild_thank_goodness']\n",
    "subset_dictionary = {k: phrase_translations[k] for k in phrase_to_modify}\n",
    "print(len(subset_dictionary))"
   ]
  },
  {
   "cell_type": "code",
   "execution_count": 12,
   "metadata": {},
   "outputs": [
    {
     "name": "stderr",
     "output_type": "stream",
     "text": [
      "Generating audio: 100%|██████████| 1/1 [00:03<00:00,  3.24s/it]\n",
      "Processing phrases: 100%|██████████| 1/1 [00:06<00:00,  6.99s/it]"
     ]
    },
    {
     "name": "stdout",
     "output_type": "stream",
     "text": [
      "phrases/swedish/audio/normal/the_drugs_reaction_was_relatively_mild_thank_goodness.mp3 and phrases/swedish/audio/slow/the_drugs_reaction_was_relatively_mild_thank_goodness.mp3 uploaded to GCS\n"
     ]
    },
    {
     "name": "stderr",
     "output_type": "stream",
     "text": [
      "\n"
     ]
    }
   ],
   "source": [
    "generated_audio = upload_phrases_audio_to_gcs(phrase_dict=subset_dictionary, bucket_name=config.GCS_PRIVATE_BUCKET, overwrite=True)"
   ]
  },
  {
   "cell_type": "markdown",
   "metadata": {},
   "source": [
    "### Test a sample"
   ]
  },
  {
   "cell_type": "code",
   "execution_count": null,
   "metadata": {},
   "outputs": [],
   "source": [
    "from src.audio_generation import generate_translated_phrase_audio\n",
    "\n",
    "example_pair = test_dict['i_know_exactly_what_youre_talking_about']\n",
    "phrase_tuple = example_pair['english'], example_pair[language_name]"
   ]
  },
  {
   "cell_type": "code",
   "execution_count": null,
   "metadata": {},
   "outputs": [],
   "source": [
    "audio = generate_translated_phrase_audio([phrase_tuple], gender=\"FEMALE\")"
   ]
  },
  {
   "cell_type": "code",
   "execution_count": 5,
   "metadata": {},
   "outputs": [
    {
     "ename": "KeyError",
     "evalue": "'the_drugs_reaction_was_relatively_mild_thank_goodness'",
     "output_type": "error",
     "traceback": [
      "\u001b[31m---------------------------------------------------------------------------\u001b[39m",
      "\u001b[31mKeyError\u001b[39m                                  Traceback (most recent call last)",
      "\u001b[36mCell\u001b[39m\u001b[36m \u001b[39m\u001b[32mIn[5]\u001b[39m\u001b[32m, line 1\u001b[39m\n\u001b[32m----> \u001b[39m\u001b[32m1\u001b[39m \u001b[43mphrase_translations\u001b[49m\u001b[43m[\u001b[49m\u001b[33;43m'\u001b[39;49m\u001b[33;43mthe_drugs_reaction_was_relatively_mild_thank_goodness\u001b[39;49m\u001b[33;43m'\u001b[39;49m\u001b[43m]\u001b[49m\n",
      "\u001b[31mKeyError\u001b[39m: 'the_drugs_reaction_was_relatively_mild_thank_goodness'"
     ]
    }
   ],
   "source": [
    "phrase_translations['the_drugs_reaction_was_relatively_mild_thank_goodness']"
   ]
  },
  {
   "cell_type": "markdown",
   "metadata": {},
   "source": [
    "### Upload phrases to GCS"
   ]
  },
  {
   "cell_type": "code",
   "execution_count": null,
   "metadata": {},
   "outputs": [],
   "source": [
    "\n",
    "result = upload_phrases_audio_to_gcs(phrase_translations)"
   ]
  },
  {
   "cell_type": "code",
   "execution_count": null,
   "metadata": {},
   "outputs": [],
   "source": [
    "list(result.keys())"
   ]
  },
  {
   "cell_type": "code",
   "execution_count": null,
   "metadata": {},
   "outputs": [],
   "source": []
  }
 ],
 "metadata": {
  "kernelspec": {
   "display_name": ".venv (3.12.0)",
   "language": "python",
   "name": "python3"
  },
  "language_info": {
   "codemirror_mode": {
    "name": "ipython",
    "version": 3
   },
   "file_extension": ".py",
   "mimetype": "text/x-python",
   "name": "python",
   "nbconvert_exporter": "python",
   "pygments_lexer": "ipython3",
   "version": "3.12.0"
  }
 },
 "nbformat": 4,
 "nbformat_minor": 2
}
