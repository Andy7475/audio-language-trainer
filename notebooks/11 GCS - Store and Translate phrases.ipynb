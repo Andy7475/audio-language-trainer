{
 "cells": [
  {
   "cell_type": "code",
   "execution_count": null,
   "metadata": {},
   "outputs": [],
   "source": [
    "from google.auth import default\n",
    "credentials, project = default()"
   ]
  },
  {
   "cell_type": "code",
   "execution_count": 8,
   "metadata": {},
   "outputs": [],
   "source": [
    "%load_ext autoreload\n",
    "%autoreload 2\n",
    "import os\n",
    "import sys\n",
    "from tqdm import tqdm\n",
    "module_path = os.path.abspath(os.path.join('..'))\n",
    "if module_path not in sys.path:\n",
    "    sys.path.append(module_path)\n",
    "\n",
    "from src.utils import (load_json, save_json, save_text_file, load_text_file, clean_filename, read_from_gcs, upload_to_gcs)  # noqa: E402\n",
    "from src.config_loader import config"
   ]
  },
  {
   "cell_type": "markdown",
   "metadata": {},
   "source": [
    "# GCS Phrase Storage\n",
    "\n",
    "## System Overview\n",
    "\n",
    "The goal is to store phrases and their sequence within stories, ensuring minimal introduction of new words between phrases. This approach is crucial for maintaining linguistic consistency and learning efficiency.\n",
    "\n",
    "## Phrase Sequence Management\n",
    "\n",
    "Key principles:\n",
    "- Preserve the original order of phrases in stories\n",
    "- Track the context and progression of language learning\n",
    "- Minimise cognitive load by reducing new word introductions\n",
    "\n",
    "## Translation Storage\n",
    "\n",
    "### Design Rationale\n",
    "\n",
    "We propose a robust translation dictionary with the following characteristics:\n",
    "- English phrases as primary keys\n",
    "- Multilingual translations stored as nested dictionary\n",
    "- Flexible structure allowing future refinements\n",
    "\n",
    "### Proposed Dictionary Structure\n",
    "\n",
    "```python\n",
    "{\n",
    "    \"clean_filename_key\": {\n",
    "        \"english\": \"hello\",\n",
    "        \"french\": \"bonjour\"\n",
    "    }\n",
    "}\n",
    "```\n",
    "\n",
    "### Advantages\n",
    "- Rapid lookup capabilities\n",
    "- Easy to download and update\n",
    "- Supports iterative translation improvements\n",
    "- Language-agnostic design\n",
    "- Scalable across multiple language resources\n"
   ]
  },
  {
   "cell_type": "raw",
   "metadata": {
    "vscode": {
     "languageId": "raw"
    }
   },
   "source": [
    "/collections/\n",
    "  /LM1000/\n",
    "    metadata.json               # Collection info, story & deck mappings\n",
    "    phrases.json                # Master English phrase list\n",
    "    decks.json                  # Split up into story : [phrase list]\n",
    "    /translations/              # keyed of a phrase key\n",
    "      french.json\n",
    "      spanish.json\n",
    "  \n",
    "/content/\n",
    "  /images/\n",
    "    /core/\n",
    "      this_is_a_phrase.png\n",
    "    /french/\n",
    "      this_is_a_phrase.png       # if required we can separate\n",
    "  \n",
    "  /audio/\n",
    "    /french/\n",
    "      /normal/\n",
    "        this_is_a_phrase.mp3\n",
    "      /slow/\n",
    "        this_is_a_phrase.mp3\n",
    "  \n",
    "/stories/\n",
    "  /story_mystery/\n",
    "    metadata.json               # Story details (corresponds to deck)\n",
    "    /french/\n",
    "      dialogue.json\n",
    "      /audio/\n",
    "        story_mystery_introduction_alex_0.mp3\n",
    "      /album/\n",
    "        story_mystery_french_introduction.m4a\n",
    "        story_mystery_french_development.m4a\n",
    "\n",
    "/flashcards/                   # Generated Anki deck files\n",
    "  /french/\n",
    "    story_mystery.apkg         # Deck matches story name\n",
    "    LM1000_complete.apkg       # Full collection deck\n",
    "  /spanish/\n",
    "    story_mystery.apkg"
   ]
  },
  {
   "cell_type": "markdown",
   "metadata": {},
   "source": [
    "How to handle audio segments in dialogue:\n",
    "```json\n",
    "{\n",
    "  \"introduction\": {\n",
    "    \"title\": \"Introduction\",\n",
    "    \"complete_audio\": \"story_mystery_introduction_complete.mp3\",\n",
    "    \"fast_audio\": \"story_mystery_introduction_complete_fast.mp3\",\n",
    "    \"utterances\": [\n",
    "      {\n",
    "        \"speaker\": \"Alex\",\n",
    "        \"text\": \"Bonjour, comment vas-tu aujourd'hui?\",\n",
    "        \"audio_file\": \"story_mystery_introduction_alex_0.mp3\",\n",
    "        \"original_text\": \"Hello, how are you today?\"\n",
    "      },\n",
    "      {\n",
    "        \"speaker\": \"Sam\",\n",
    "        \"text\": \"Je vais bien, merci!\",\n",
    "        \"audio_file\": \"story_mystery_introduction_sam_0.mp3\",\n",
    "        \"original_text\": \"I'm doing well, thanks!\"\n",
    "      }\n",
    "    ]\n",
    "  },\n",
    "  \"development\": {\n",
    "    \"title\": \"Development\",\n",
    "    \"complete_audio\": \"story_mystery_development_complete.mp3\",\n",
    "    \"utterances\": [\n",
    "      // More dialogue...\n",
    "    ]\n",
    "  }\n",
    "}```"
   ]
  },
  {
   "cell_type": "markdown",
   "metadata": {},
   "source": [
    "### Translations"
   ]
  },
  {
   "cell_type": "code",
   "execution_count": 3,
   "metadata": {},
   "outputs": [],
   "source": [
    "# get the LM1000.json() file\n",
    "\n",
    "LM1000 = read_from_gcs(bucket_name=config.GCS_PRIVATE_BUCKET,\n",
    "file_path = \"collections/LM1000/LM1000-with-stories.json\")\n"
   ]
  },
  {
   "cell_type": "code",
   "execution_count": 4,
   "metadata": {},
   "outputs": [
    {
     "data": {
      "text/plain": [
       "'French'"
      ]
     },
     "execution_count": 4,
     "metadata": {},
     "output_type": "execute_result"
    }
   ],
   "source": [
    "config.TARGET_LANGUAGE_NAME"
   ]
  },
  {
   "cell_type": "markdown",
   "metadata": {},
   "source": [
    "We now want a dictionary where the key is the hash of the phrase via clean_filename -> to make an efficient lookup"
   ]
  },
  {
   "cell_type": "code",
   "execution_count": 9,
   "metadata": {},
   "outputs": [
    {
     "name": "stderr",
     "output_type": "stream",
     "text": [
      "100%|██████████| 57/57 [00:00<00:00, 59147.78it/s]\n",
      "100%|██████████| 53/53 [00:00<?, ?it/s]\n",
      "100%|██████████| 81/81 [00:00<00:00, 41624.43it/s]\n",
      "100%|██████████| 51/51 [00:00<?, ?it/s]\n",
      "100%|██████████| 59/59 [00:00<00:00, 60697.56it/s]\n",
      "100%|██████████| 52/52 [00:00<00:00, 26151.54it/s]\n",
      "100%|██████████| 37/37 [00:00<?, ?it/s]\n",
      "100%|██████████| 33/33 [00:00<00:00, 32963.09it/s]\n",
      "100%|██████████| 18/18 [00:00<?, ?it/s]\n",
      "100%|██████████| 38/38 [00:00<?, ?it/s]\n",
      "100%|██████████| 50/50 [00:00<?, ?it/s]\n",
      "100%|██████████| 33/33 [00:00<?, ?it/s]\n",
      "100%|██████████| 24/24 [00:00<00:00, 23933.26it/s]\n",
      "100%|██████████| 18/18 [00:00<00:00, 17988.44it/s]\n",
      "100%|██████████| 35/35 [00:00<00:00, 17528.43it/s]\n",
      "100%|██████████| 19/19 [00:00<?, ?it/s]\n",
      "100%|██████████| 49/49 [00:00<00:00, 24572.08it/s]\n",
      "100%|██████████| 17/17 [00:00<00:00, 16993.13it/s]\n",
      "100%|██████████| 42/42 [00:00<00:00, 41873.25it/s]\n",
      "100%|██████████| 26/26 [00:00<00:00, 26008.09it/s]\n",
      "100%|██████████| 39/39 [00:00<?, ?it/s]\n"
     ]
    }
   ],
   "source": [
    "from src.translation import translate_phrases\n",
    "language_name_lower = config.TARGET_LANGUAGE_NAME.lower()\n",
    "\n",
    "results = dict()\n",
    "for story in tqdm(LM1000, desc=\"translating stories\"):\n",
    "    # get all translations from a list\n",
    "    english_phrases = LM1000[story]\n",
    "    translated_phrases = translate_phrases(english_phrases)\n",
    "    for phrase, translation in translated_phrases:\n",
    "        phrase_key = clean_filename(phrase)\n",
    "        results[phrase_key] = {\"english\" : phrase,\n",
    "                                language_name_lower : translation}\n"
   ]
  },
  {
   "cell_type": "code",
   "execution_count": 10,
   "metadata": {},
   "outputs": [
    {
     "data": {
      "text/plain": [
       "'gs://andy7475-audio-language-trainer/collections/LM1000/translations/french.json'"
      ]
     },
     "execution_count": 10,
     "metadata": {},
     "output_type": "execute_result"
    }
   ],
   "source": [
    "upload_to_gcs(results, bucket_name=config.GCS_PRIVATE_BUCKET, file_name=f\"collections/LM1000/translations/{language_name_lower}.json\")"
   ]
  },
  {
   "cell_type": "code",
   "execution_count": 39,
   "metadata": {},
   "outputs": [],
   "source": [
    "results"
   ]
  },
  {
   "cell_type": "markdown",
   "metadata": {},
   "source": [
    "## How to get a translation from the dictionary"
   ]
  },
  {
   "cell_type": "code",
   "execution_count": null,
   "metadata": {},
   "outputs": [],
   "source": [
    "translation_lookup = results\n",
    "\n",
    "example_phrase = LM1000['story_a_fishing_trip'][5]\n",
    "\n",
    "translation_lookup[clean_filename(example_phrase)]"
   ]
  },
  {
   "cell_type": "code",
   "execution_count": null,
   "metadata": {},
   "outputs": [],
   "source": []
  }
 ],
 "metadata": {
  "kernelspec": {
   "display_name": ".venv",
   "language": "python",
   "name": "python3"
  },
  "language_info": {
   "codemirror_mode": {
    "name": "ipython",
    "version": 3
   },
   "file_extension": ".py",
   "mimetype": "text/x-python",
   "name": "python",
   "nbconvert_exporter": "python",
   "pygments_lexer": "ipython3",
   "version": "3.11.4"
  }
 },
 "nbformat": 4,
 "nbformat_minor": 2
}
