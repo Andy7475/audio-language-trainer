{
 "cells": [
  {
   "cell_type": "code",
   "execution_count": 1,
   "metadata": {},
   "outputs": [],
   "source": [
    "from google.auth import default\n",
    "credentials, project = default()"
   ]
  },
  {
   "cell_type": "code",
   "execution_count": 2,
   "metadata": {},
   "outputs": [
    {
     "data": {
      "text/plain": [
       "'Swedish'"
      ]
     },
     "execution_count": 2,
     "metadata": {},
     "output_type": "execute_result"
    }
   ],
   "source": [
    "%load_ext autoreload\n",
    "%autoreload 2\n",
    "import os\n",
    "import sys\n",
    "from tqdm import tqdm\n",
    "module_path = os.path.abspath(os.path.join('..'))\n",
    "if module_path not in sys.path:\n",
    "    sys.path.append(module_path)\n",
    "\n",
    "from src.convert import ( clean_filename)  \n",
    "from src.gcs_storage import read_from_gcs, upload_to_gcs, get_translated_phrases_path\n",
    "from src.config_loader import config\n",
    "config.TARGET_LANGUAGE_NAME"
   ]
  },
  {
   "cell_type": "markdown",
   "metadata": {},
   "source": [
    "# GCS Phrase Storage\n",
    "\n",
    "## System Overview\n",
    "\n",
    "The goal is to store phrases and their sequence within stories, ensuring minimal introduction of new words between phrases. This approach is crucial for maintaining linguistic consistency and learning efficiency.\n",
    "\n",
    "## Phrase Sequence Management\n",
    "\n",
    "Key principles:\n",
    "- Preserve the original order of phrases in stories\n",
    "- Track the context and progression of language learning\n",
    "- Minimise cognitive load by reducing new word introductions\n",
    "\n",
    "## Translation Storage\n",
    "\n",
    "### Design Rationale\n",
    "\n",
    "We propose a robust translation dictionary with the following characteristics:\n",
    "- English phrases as primary keys\n",
    "- Multilingual translations stored as nested dictionary\n",
    "- Flexible structure allowing future refinements\n",
    "\n",
    "### Proposed Dictionary Structure\n",
    "\n",
    "```python\n",
    "{\n",
    "    \"clean_filename_key\": {\n",
    "        \"english\": \"hello\",\n",
    "        \"french\": \"bonjour\"\n",
    "    }\n",
    "}\n",
    "```\n",
    "\n",
    "### Advantages\n",
    "- Rapid lookup capabilities\n",
    "- Easy to download and update\n",
    "- Supports iterative translation improvements\n",
    "- Language-agnostic design\n",
    "- Scalable across multiple language resources\n"
   ]
  },
  {
   "cell_type": "markdown",
   "metadata": {},
   "source": [
    "How to handle audio segments in dialogue:\n",
    "```json\n",
    "{\n",
    "  \"introduction\": {\n",
    "    \"title\": \"Introduction\",\n",
    "    \"complete_audio\": \"story_mystery_introduction_complete.mp3\",\n",
    "    \"fast_audio\": \"story_mystery_introduction_complete_fast.mp3\",\n",
    "    \"utterances\": [\n",
    "      {\n",
    "        \"speaker\": \"Alex\",\n",
    "        \"text\": \"Bonjour, comment vas-tu aujourd'hui?\",\n",
    "        \"audio_file\": \"story_mystery_introduction_alex_0.mp3\",\n",
    "        \"original_text\": \"Hello, how are you today?\"\n",
    "      },\n",
    "      {\n",
    "        \"speaker\": \"Sam\",\n",
    "        \"text\": \"Je vais bien, merci!\",\n",
    "        \"audio_file\": \"story_mystery_introduction_sam_0.mp3\",\n",
    "        \"original_text\": \"I'm doing well, thanks!\"\n",
    "      }\n",
    "    ]\n",
    "  },\n",
    "  \"development\": {\n",
    "    \"title\": \"Development\",\n",
    "    \"complete_audio\": \"story_mystery_development_complete.mp3\",\n",
    "    \"utterances\": [\n",
    "      // More dialogue...\n",
    "    ]\n",
    "  }\n",
    "}```"
   ]
  },
  {
   "cell_type": "markdown",
   "metadata": {},
   "source": [
    "### Translations"
   ]
  },
  {
   "cell_type": "code",
   "execution_count": 3,
   "metadata": {},
   "outputs": [],
   "source": [
    "# get the LM1000.json() file\n",
    "from src.gcs_storage import get_story_collection_path\n",
    "LM1000 = read_from_gcs(bucket_name=config.GCS_PRIVATE_BUCKET,\n",
    "file_path = get_story_collection_path(collection=\"LM1000\"))\n",
    "translated_phrases_path = get_translated_phrases_path(collection=\"LM1000\")\n"
   ]
  },
  {
   "cell_type": "markdown",
   "metadata": {},
   "source": [
    "We now want a dictionary where the key is the hash of the phrase via clean_filename -> to make an efficient lookup"
   ]
  },
  {
   "cell_type": "code",
   "execution_count": 5,
   "metadata": {},
   "outputs": [
    {
     "name": "stderr",
     "output_type": "stream",
     "text": [
      "translating stories: 100%|██████████| 20/20 [00:38<00:00,  1.94s/it]\n"
     ]
    }
   ],
   "source": [
    "from src.translation import translate_phrases\n",
    "language_name_lower = config.TARGET_LANGUAGE_NAME.lower()\n",
    "\n",
    "results = dict()\n",
    "for story in tqdm(LM1000, desc=\"translating stories\"):\n",
    "    # Extract just the phrases from the story's phrase list\n",
    "    english_phrases = [item['phrase'] for item in LM1000[story]]\n",
    "    translated_phrases = translate_phrases(english_phrases)\n",
    "    for phrase, translation in translated_phrases:\n",
    "        phrase_key = clean_filename(phrase)\n",
    "        results[phrase_key] = {\"english\": phrase,\n",
    "                             language_name_lower: translation}\n"
   ]
  },
  {
   "cell_type": "code",
   "execution_count": 39,
   "metadata": {},
   "outputs": [],
   "source": [
    "results"
   ]
  },
  {
   "cell_type": "code",
   "execution_count": 6,
   "metadata": {},
   "outputs": [
    {
     "data": {
      "text/plain": [
       "'gs://audio-language-trainer-private-content/collections/LM1000/swedish/translations.json'"
      ]
     },
     "execution_count": 6,
     "metadata": {},
     "output_type": "execute_result"
    }
   ],
   "source": [
    "upload_to_gcs(results, bucket_name=config.GCS_PRIVATE_BUCKET, file_name=translated_phrases_path)"
   ]
  },
  {
   "cell_type": "markdown",
   "metadata": {},
   "source": [
    "## How to get a translation from the dictionary"
   ]
  },
  {
   "cell_type": "code",
   "execution_count": null,
   "metadata": {},
   "outputs": [],
   "source": [
    "translation_lookup = results\n",
    "\n",
    "example_phrase = LM1000['story_a_fishing_trip'][5]\n",
    "\n",
    "translation_lookup[clean_filename(example_phrase)]"
   ]
  },
  {
   "cell_type": "code",
   "execution_count": null,
   "metadata": {},
   "outputs": [],
   "source": []
  }
 ],
 "metadata": {
  "kernelspec": {
   "display_name": ".venv",
   "language": "python",
   "name": "python3"
  },
  "language_info": {
   "codemirror_mode": {
    "name": "ipython",
    "version": 3
   },
   "file_extension": ".py",
   "mimetype": "text/x-python",
   "name": "python",
   "nbconvert_exporter": "python",
   "pygments_lexer": "ipython3",
   "version": "3.11.4"
  }
 },
 "nbformat": 4,
 "nbformat_minor": 2
}
