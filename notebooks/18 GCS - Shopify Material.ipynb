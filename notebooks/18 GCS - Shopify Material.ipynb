{
 "cells": [
  {
   "cell_type": "code",
   "execution_count": null,
   "metadata": {},
   "outputs": [],
   "source": [
    "%load_ext autoreload\n",
    "from google.auth import default\n",
    "credentials, project = default()"
   ]
  },
  {
   "cell_type": "code",
   "execution_count": null,
   "metadata": {},
   "outputs": [],
   "source": [
    "\n",
    "%autoreload 2\n",
    "import os\n",
    "import sys\n",
    "module_path = os.path.abspath(os.path.join('..'))\n",
    "if module_path not in sys.path:\n",
    "    sys.path.append(module_path)\n",
    "\n",
    "from src.config_loader import config\n",
    "from src.shop import generate_product_images, generate_shopify_csv\n",
    "from src.zip import create_m4a_zip_collections\n",
    "print(config.TARGET_LANGUAGE_NAME)\n",
    "\n",
    "# Load product configurations from JSON file\n",
    "import json\n",
    "with open('../src/product_configs.json', 'r') as f:\n",
    "    PRODUCT_CONFIG = json.load(f)\n",
    "\n",
    "# Set the current collection\n",
    "COLLECTION = \"WarmUp150\"\n",
    "current_product_config = PRODUCT_CONFIG[COLLECTION]\n",
    "\n",
    "print(f\"Loaded product config for {COLLECTION}\")\n",
    "print(f\"Individual indices: {current_product_config['individual']['indices']}\")\n",
    "print(f\"Bundle ranges: {current_product_config['bundle']['ranges']}\")\n",
    "print(f\"Complete pack price: £{current_product_config['complete']['price']}\")\n"
   ]
  },
  {
   "cell_type": "code",
   "execution_count": null,
   "metadata": {},
   "outputs": [],
   "source": [
    "\n",
    "# Option 1: Use the automated script to run all Shopify material generation steps\n",
    "print(\"=== Automated Pipeline Option ===\")\n",
    "print(f\"To run all Shopify material generation steps for {COLLECTION}, use:\")\n",
    "print(f\"!python ../src/process_collection_to_new_language.py {COLLECTION} --start-from zip\")\n",
    "print(f\"\")\n",
    "print(\"Or to run individual steps:\")\n",
    "print(f\"!python ../src/process_collection_to_new_language.py {COLLECTION} --start-from zip --skip-images --skip-csv\")\n",
    "print(\"\")\n",
    "print(\"=== Manual Step-by-Step Option ===\")\n",
    "print(\"Run the cells below to execute each step individually:\")"
   ]
  },
  {
   "cell_type": "code",
   "execution_count": null,
   "metadata": {},
   "outputs": [],
   "source": [
    "# Run the automated script for all Shopify material generation\n",
    "# Uncomment the line below to run the complete pipeline:\n",
    "# !python ../src/process_collection_to_new_language.py {COLLECTION} --start-from zip\n",
    "\n",
    "print(f\"To run the complete pipeline, execute:\")\n",
    "print(f\"!python ../src/process_collection_to_new_language.py {COLLECTION} --start-from zip\")\n"
   ]
  },
  {
   "cell_type": "code",
   "execution_count": null,
   "metadata": {},
   "outputs": [],
   "source": [
    "# Manual Step 1: Create M4A Zip Collections\n",
    "print(\"=== Step 1: Creating M4A Zip Collections ===\")\n",
    "zips = create_m4a_zip_collections(\n",
    "    product_config=current_product_config,\n",
    "    collection=COLLECTION,\n",
    "    bucket_name=config.GCS_PRIVATE_BUCKET,\n",
    "    output_base_dir=\"../outputs/gcs\",\n",
    "    use_local_files=True\n",
    ")\n",
    "\n",
    "print(f\"✅ Created {len(zips)} zip files:\")\n",
    "for zip_type, zip_path in zips.items():\n",
    "    print(f\"  {zip_type}: {zip_path}\")"
   ]
  },
  {
   "cell_type": "code",
   "execution_count": null,
   "metadata": {},
   "outputs": [],
   "source": [
    "# Manual Step 2: Generate Product Images\n",
    "print(\"=== Step 2: Generating Product Images ===\")\n",
    "generated_images = generate_product_images(\n",
    "    product_config=current_product_config,\n",
    "    collection=COLLECTION, \n",
    "    generate_individual=True\n",
    ")\n",
    "\n",
    "print(f\"✅ Generated {len(generated_images)} product images:\")\n",
    "for product_type, uri in generated_images.items():\n",
    "    print(f\"  {product_type}: {uri}\")\n"
   ]
  },
  {
   "cell_type": "code",
   "execution_count": null,
   "metadata": {},
   "outputs": [],
   "source": [
    "\n",
    "# Manual Step 3: Generate Shopify CSV\n",
    "print(\"=== Step 3: Generating Shopify CSV ===\")\n",
    "\n",
    "csv_path = generate_shopify_csv(\n",
    "    product_config=current_product_config,\n",
    "    collection=COLLECTION,\n",
    "    free_individual_count=1\n",
    ")\n",
    "\n",
    "print(f\"✅ Shopify CSV generated at: {csv_path}\")\n",
    "\n"
   ]
  },
  {
   "cell_type": "code",
   "execution_count": 27,
   "metadata": {},
   "outputs": [],
   "source": [
    "\n",
    "print(f\"Current language: {config.TARGET_LANGUAGE_NAME}\")\n",
    "print(f\"Current language code: {config.TARGET_LANGUAGE_CODE}\")"
   ]
  },
  {
   "cell_type": "code",
   "execution_count": null,
   "metadata": {},
   "outputs": [],
   "source": [
    "config.TARGET_LANGUAGE_NAME"
   ]
  }
 ],
 "metadata": {
  "kernelspec": {
   "display_name": ".venv",
   "language": "python",
   "name": "python3"
  },
  "language_info": {
   "codemirror_mode": {
    "name": "ipython",
    "version": 3
   },
   "file_extension": ".py",
   "mimetype": "text/x-python",
   "name": "python",
   "nbconvert_exporter": "python",
   "pygments_lexer": "ipython3",
   "version": "3.11.4"
  }
 },
 "nbformat": 4,
 "nbformat_minor": 2
}
