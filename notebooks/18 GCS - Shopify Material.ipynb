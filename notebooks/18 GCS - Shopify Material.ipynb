{
 "cells": [
  {
   "cell_type": "code",
   "execution_count": 1,
   "metadata": {},
   "outputs": [],
   "source": [
    "%load_ext autoreload\n",
    "from google.auth import default\n",
    "credentials, project = default()"
   ]
  },
  {
   "cell_type": "code",
   "execution_count": null,
   "metadata": {},
   "outputs": [],
   "source": [
    "\n",
    "%autoreload 2\n",
    "import os\n",
    "import sys\n",
    "module_path = os.path.abspath(os.path.join('..'))\n",
    "if module_path not in sys.path:\n",
    "    sys.path.append(module_path)\n",
    "\n",
    "from src.config_loader import config\n",
    "from src.shop import generate_product_images, generate_shopify_csv\n",
    "from src.zip import create_m4a_zip_collections\n",
    "config.TARGET_LANGUAGE_NAME"
   ]
  },
  {
   "cell_type": "code",
   "execution_count": 4,
   "metadata": {},
   "outputs": [],
   "source": [
    "\n",
    "BUNDLE_CONFIG = {\n",
    "            \"Bundle 03-04\": [3, 4],\n",
    "            #\"Bundle 09-14\": [9, 14],\n",
    "            #\"Bundle 15-20\": [15, 20],\n",
    "        }\n",
    "\n",
    "PRICES = {\"individual\": 2.99, \"bundle\": 5.99, \"complete\": 19.99}\n",
    "\n"
   ]
  },
  {
   "cell_type": "code",
   "execution_count": 13,
   "metadata": {},
   "outputs": [
    {
     "name": "stdout",
     "output_type": "stream",
     "text": [
      "Creating M4A zip collections for LM1000 in French\n",
      "Found 20 stories total\n",
      "\n",
      "=== Creating Complete Collection Zip ===\n",
      "\n",
      "Creating Complete French LM1000 Audio Collection (120 files)\n",
      "Files to be included:\n",
      "  - french_01_story_sunset_wedding_blues_introduction.m4a (from ..\\outputs\\gcs\\audio-language-trainer-private-content\\collections\\LM1000\\french\\audio\\french_01_story_sunset_wedding_blues_introduction.m4a)\n",
      "  - french_01_story_sunset_wedding_blues_introduction_FAST.m4a (from ..\\outputs\\gcs\\audio-language-trainer-private-content\\collections\\LM1000\\french\\audio\\french_01_story_sunset_wedding_blues_introduction_FAST.m4a)\n",
      "  - french_01_story_sunset_wedding_blues_development.m4a (from ..\\outputs\\gcs\\audio-language-trainer-private-content\\collections\\LM1000\\french\\audio\\french_01_story_sunset_wedding_blues_development.m4a)\n",
      "  - french_01_story_sunset_wedding_blues_development_FAST.m4a (from ..\\outputs\\gcs\\audio-language-trainer-private-content\\collections\\LM1000\\french\\audio\\french_01_story_sunset_wedding_blues_development_FAST.m4a)\n",
      "  - french_01_story_sunset_wedding_blues_resolution.m4a (from ..\\outputs\\gcs\\audio-language-trainer-private-content\\collections\\LM1000\\french\\audio\\french_01_story_sunset_wedding_blues_resolution.m4a)\n",
      "  - french_01_story_sunset_wedding_blues_resolution_FAST.m4a (from ..\\outputs\\gcs\\audio-language-trainer-private-content\\collections\\LM1000\\french\\audio\\french_01_story_sunset_wedding_blues_resolution_FAST.m4a)\n",
      "  - french_02_story_better_than_a_movie_introduction.m4a (from ..\\outputs\\gcs\\audio-language-trainer-private-content\\collections\\LM1000\\french\\audio\\french_02_story_better_than_a_movie_introduction.m4a)\n",
      "  - french_02_story_better_than_a_movie_introduction_FAST.m4a (from ..\\outputs\\gcs\\audio-language-trainer-private-content\\collections\\LM1000\\french\\audio\\french_02_story_better_than_a_movie_introduction_FAST.m4a)\n",
      "  - french_02_story_better_than_a_movie_development.m4a (from ..\\outputs\\gcs\\audio-language-trainer-private-content\\collections\\LM1000\\french\\audio\\french_02_story_better_than_a_movie_development.m4a)\n",
      "  - french_02_story_better_than_a_movie_development_FAST.m4a (from ..\\outputs\\gcs\\audio-language-trainer-private-content\\collections\\LM1000\\french\\audio\\french_02_story_better_than_a_movie_development_FAST.m4a)\n",
      "  - french_02_story_better_than_a_movie_resolution.m4a (from ..\\outputs\\gcs\\audio-language-trainer-private-content\\collections\\LM1000\\french\\audio\\french_02_story_better_than_a_movie_resolution.m4a)\n",
      "  - french_02_story_better_than_a_movie_resolution_FAST.m4a (from ..\\outputs\\gcs\\audio-language-trainer-private-content\\collections\\LM1000\\french\\audio\\french_02_story_better_than_a_movie_resolution_FAST.m4a)\n",
      "  - french_03_story_unexpected_wedding_guests_introduction.m4a (from ..\\outputs\\gcs\\audio-language-trainer-private-content\\collections\\LM1000\\french\\audio\\french_03_story_unexpected_wedding_guests_introduction.m4a)\n",
      "  - french_03_story_unexpected_wedding_guests_introduction_FAST.m4a (from ..\\outputs\\gcs\\audio-language-trainer-private-content\\collections\\LM1000\\french\\audio\\french_03_story_unexpected_wedding_guests_introduction_FAST.m4a)\n",
      "  - french_03_story_unexpected_wedding_guests_development.m4a (from ..\\outputs\\gcs\\audio-language-trainer-private-content\\collections\\LM1000\\french\\audio\\french_03_story_unexpected_wedding_guests_development.m4a)\n",
      "  - french_03_story_unexpected_wedding_guests_development_FAST.m4a (from ..\\outputs\\gcs\\audio-language-trainer-private-content\\collections\\LM1000\\french\\audio\\french_03_story_unexpected_wedding_guests_development_FAST.m4a)\n",
      "  - french_03_story_unexpected_wedding_guests_resolution.m4a (from ..\\outputs\\gcs\\audio-language-trainer-private-content\\collections\\LM1000\\french\\audio\\french_03_story_unexpected_wedding_guests_resolution.m4a)\n",
      "  - french_03_story_unexpected_wedding_guests_resolution_FAST.m4a (from ..\\outputs\\gcs\\audio-language-trainer-private-content\\collections\\LM1000\\french\\audio\\french_03_story_unexpected_wedding_guests_resolution_FAST.m4a)\n",
      "  - french_04_story_midnight_garden_mystery_introduction.m4a (from ..\\outputs\\gcs\\audio-language-trainer-private-content\\collections\\LM1000\\french\\audio\\french_04_story_midnight_garden_mystery_introduction.m4a)\n",
      "  - french_04_story_midnight_garden_mystery_introduction_FAST.m4a (from ..\\outputs\\gcs\\audio-language-trainer-private-content\\collections\\LM1000\\french\\audio\\french_04_story_midnight_garden_mystery_introduction_FAST.m4a)\n",
      "  - french_04_story_midnight_garden_mystery_development.m4a (from ..\\outputs\\gcs\\audio-language-trainer-private-content\\collections\\LM1000\\french\\audio\\french_04_story_midnight_garden_mystery_development.m4a)\n",
      "  - french_04_story_midnight_garden_mystery_development_FAST.m4a (from ..\\outputs\\gcs\\audio-language-trainer-private-content\\collections\\LM1000\\french\\audio\\french_04_story_midnight_garden_mystery_development_FAST.m4a)\n",
      "  - french_04_story_midnight_garden_mystery_resolution.m4a (from ..\\outputs\\gcs\\audio-language-trainer-private-content\\collections\\LM1000\\french\\audio\\french_04_story_midnight_garden_mystery_resolution.m4a)\n",
      "  - french_04_story_midnight_garden_mystery_resolution_FAST.m4a (from ..\\outputs\\gcs\\audio-language-trainer-private-content\\collections\\LM1000\\french\\audio\\french_04_story_midnight_garden_mystery_resolution_FAST.m4a)\n",
      "  - french_05_story_workplace_stress_vacation_introduction.m4a (from ..\\outputs\\gcs\\audio-language-trainer-private-content\\collections\\LM1000\\french\\audio\\french_05_story_workplace_stress_vacation_introduction.m4a)\n",
      "  - french_05_story_workplace_stress_vacation_introduction_FAST.m4a (from ..\\outputs\\gcs\\audio-language-trainer-private-content\\collections\\LM1000\\french\\audio\\french_05_story_workplace_stress_vacation_introduction_FAST.m4a)\n",
      "  - french_05_story_workplace_stress_vacation_development.m4a (from ..\\outputs\\gcs\\audio-language-trainer-private-content\\collections\\LM1000\\french\\audio\\french_05_story_workplace_stress_vacation_development.m4a)\n",
      "  - french_05_story_workplace_stress_vacation_development_FAST.m4a (from ..\\outputs\\gcs\\audio-language-trainer-private-content\\collections\\LM1000\\french\\audio\\french_05_story_workplace_stress_vacation_development_FAST.m4a)\n",
      "  - french_05_story_workplace_stress_vacation_resolution.m4a (from ..\\outputs\\gcs\\audio-language-trainer-private-content\\collections\\LM1000\\french\\audio\\french_05_story_workplace_stress_vacation_resolution.m4a)\n",
      "  - french_05_story_workplace_stress_vacation_resolution_FAST.m4a (from ..\\outputs\\gcs\\audio-language-trainer-private-content\\collections\\LM1000\\french\\audio\\french_05_story_workplace_stress_vacation_resolution_FAST.m4a)\n",
      "  - french_06_story_the_marathon_introduction.m4a (from ..\\outputs\\gcs\\audio-language-trainer-private-content\\collections\\LM1000\\french\\audio\\french_06_story_the_marathon_introduction.m4a)\n",
      "  - french_06_story_the_marathon_introduction_FAST.m4a (from ..\\outputs\\gcs\\audio-language-trainer-private-content\\collections\\LM1000\\french\\audio\\french_06_story_the_marathon_introduction_FAST.m4a)\n",
      "  - french_06_story_the_marathon_development.m4a (from ..\\outputs\\gcs\\audio-language-trainer-private-content\\collections\\LM1000\\french\\audio\\french_06_story_the_marathon_development.m4a)\n",
      "  - french_06_story_the_marathon_development_FAST.m4a (from ..\\outputs\\gcs\\audio-language-trainer-private-content\\collections\\LM1000\\french\\audio\\french_06_story_the_marathon_development_FAST.m4a)\n",
      "  - french_06_story_the_marathon_resolution.m4a (from ..\\outputs\\gcs\\audio-language-trainer-private-content\\collections\\LM1000\\french\\audio\\french_06_story_the_marathon_resolution.m4a)\n",
      "  - french_06_story_the_marathon_resolution_FAST.m4a (from ..\\outputs\\gcs\\audio-language-trainer-private-content\\collections\\LM1000\\french\\audio\\french_06_story_the_marathon_resolution_FAST.m4a)\n",
      "  - french_07_story_teaching_music_introduction.m4a (from ..\\outputs\\gcs\\audio-language-trainer-private-content\\collections\\LM1000\\french\\audio\\french_07_story_teaching_music_introduction.m4a)\n",
      "  - french_07_story_teaching_music_introduction_FAST.m4a (from ..\\outputs\\gcs\\audio-language-trainer-private-content\\collections\\LM1000\\french\\audio\\french_07_story_teaching_music_introduction_FAST.m4a)\n",
      "  - french_07_story_teaching_music_development.m4a (from ..\\outputs\\gcs\\audio-language-trainer-private-content\\collections\\LM1000\\french\\audio\\french_07_story_teaching_music_development.m4a)\n",
      "  - french_07_story_teaching_music_development_FAST.m4a (from ..\\outputs\\gcs\\audio-language-trainer-private-content\\collections\\LM1000\\french\\audio\\french_07_story_teaching_music_development_FAST.m4a)\n",
      "  - french_07_story_teaching_music_resolution.m4a (from ..\\outputs\\gcs\\audio-language-trainer-private-content\\collections\\LM1000\\french\\audio\\french_07_story_teaching_music_resolution.m4a)\n",
      "  - french_07_story_teaching_music_resolution_FAST.m4a (from ..\\outputs\\gcs\\audio-language-trainer-private-content\\collections\\LM1000\\french\\audio\\french_07_story_teaching_music_resolution_FAST.m4a)\n",
      "  - french_08_story_job_interview_gone_wrong_introduction.m4a (from ..\\outputs\\gcs\\audio-language-trainer-private-content\\collections\\LM1000\\french\\audio\\french_08_story_job_interview_gone_wrong_introduction.m4a)\n",
      "  - french_08_story_job_interview_gone_wrong_introduction_FAST.m4a (from ..\\outputs\\gcs\\audio-language-trainer-private-content\\collections\\LM1000\\french\\audio\\french_08_story_job_interview_gone_wrong_introduction_FAST.m4a)\n",
      "  - french_08_story_job_interview_gone_wrong_development.m4a (from ..\\outputs\\gcs\\audio-language-trainer-private-content\\collections\\LM1000\\french\\audio\\french_08_story_job_interview_gone_wrong_development.m4a)\n",
      "  - french_08_story_job_interview_gone_wrong_development_FAST.m4a (from ..\\outputs\\gcs\\audio-language-trainer-private-content\\collections\\LM1000\\french\\audio\\french_08_story_job_interview_gone_wrong_development_FAST.m4a)\n",
      "  - french_08_story_job_interview_gone_wrong_resolution.m4a (from ..\\outputs\\gcs\\audio-language-trainer-private-content\\collections\\LM1000\\french\\audio\\french_08_story_job_interview_gone_wrong_resolution.m4a)\n",
      "  - french_08_story_job_interview_gone_wrong_resolution_FAST.m4a (from ..\\outputs\\gcs\\audio-language-trainer-private-content\\collections\\LM1000\\french\\audio\\french_08_story_job_interview_gone_wrong_resolution_FAST.m4a)\n",
      "  - french_09_story_winter_in_sweden_introduction.m4a (from ..\\outputs\\gcs\\audio-language-trainer-private-content\\collections\\LM1000\\french\\audio\\french_09_story_winter_in_sweden_introduction.m4a)\n",
      "  - french_09_story_winter_in_sweden_introduction_FAST.m4a (from ..\\outputs\\gcs\\audio-language-trainer-private-content\\collections\\LM1000\\french\\audio\\french_09_story_winter_in_sweden_introduction_FAST.m4a)\n",
      "  - french_09_story_winter_in_sweden_development.m4a (from ..\\outputs\\gcs\\audio-language-trainer-private-content\\collections\\LM1000\\french\\audio\\french_09_story_winter_in_sweden_development.m4a)\n",
      "  - french_09_story_winter_in_sweden_development_FAST.m4a (from ..\\outputs\\gcs\\audio-language-trainer-private-content\\collections\\LM1000\\french\\audio\\french_09_story_winter_in_sweden_development_FAST.m4a)\n",
      "  - french_09_story_winter_in_sweden_resolution.m4a (from ..\\outputs\\gcs\\audio-language-trainer-private-content\\collections\\LM1000\\french\\audio\\french_09_story_winter_in_sweden_resolution.m4a)\n",
      "  - french_09_story_winter_in_sweden_resolution_FAST.m4a (from ..\\outputs\\gcs\\audio-language-trainer-private-content\\collections\\LM1000\\french\\audio\\french_09_story_winter_in_sweden_resolution_FAST.m4a)\n",
      "  - french_10_story_a_fishing_trip_introduction.m4a (from ..\\outputs\\gcs\\audio-language-trainer-private-content\\collections\\LM1000\\french\\audio\\french_10_story_a_fishing_trip_introduction.m4a)\n",
      "  - french_10_story_a_fishing_trip_introduction_FAST.m4a (from ..\\outputs\\gcs\\audio-language-trainer-private-content\\collections\\LM1000\\french\\audio\\french_10_story_a_fishing_trip_introduction_FAST.m4a)\n",
      "  - french_10_story_a_fishing_trip_development.m4a (from ..\\outputs\\gcs\\audio-language-trainer-private-content\\collections\\LM1000\\french\\audio\\french_10_story_a_fishing_trip_development.m4a)\n",
      "  - french_10_story_a_fishing_trip_development_FAST.m4a (from ..\\outputs\\gcs\\audio-language-trainer-private-content\\collections\\LM1000\\french\\audio\\french_10_story_a_fishing_trip_development_FAST.m4a)\n",
      "  - french_10_story_a_fishing_trip_resolution.m4a (from ..\\outputs\\gcs\\audio-language-trainer-private-content\\collections\\LM1000\\french\\audio\\french_10_story_a_fishing_trip_resolution.m4a)\n",
      "  - french_10_story_a_fishing_trip_resolution_FAST.m4a (from ..\\outputs\\gcs\\audio-language-trainer-private-content\\collections\\LM1000\\french\\audio\\french_10_story_a_fishing_trip_resolution_FAST.m4a)\n",
      "  - french_11_story_team_spirit_introduction.m4a (from ..\\outputs\\gcs\\audio-language-trainer-private-content\\collections\\LM1000\\french\\audio\\french_11_story_team_spirit_introduction.m4a)\n",
      "  - french_11_story_team_spirit_introduction_FAST.m4a (from ..\\outputs\\gcs\\audio-language-trainer-private-content\\collections\\LM1000\\french\\audio\\french_11_story_team_spirit_introduction_FAST.m4a)\n",
      "  - french_11_story_team_spirit_development.m4a (from ..\\outputs\\gcs\\audio-language-trainer-private-content\\collections\\LM1000\\french\\audio\\french_11_story_team_spirit_development.m4a)\n",
      "  - french_11_story_team_spirit_development_FAST.m4a (from ..\\outputs\\gcs\\audio-language-trainer-private-content\\collections\\LM1000\\french\\audio\\french_11_story_team_spirit_development_FAST.m4a)\n",
      "  - french_11_story_team_spirit_resolution.m4a (from ..\\outputs\\gcs\\audio-language-trainer-private-content\\collections\\LM1000\\french\\audio\\french_11_story_team_spirit_resolution.m4a)\n",
      "  - french_11_story_team_spirit_resolution_FAST.m4a (from ..\\outputs\\gcs\\audio-language-trainer-private-content\\collections\\LM1000\\french\\audio\\french_11_story_team_spirit_resolution_FAST.m4a)\n",
      "  - french_12_story_brussels_blend_introduction.m4a (from ..\\outputs\\gcs\\audio-language-trainer-private-content\\collections\\LM1000\\french\\audio\\french_12_story_brussels_blend_introduction.m4a)\n",
      "  - french_12_story_brussels_blend_introduction_FAST.m4a (from ..\\outputs\\gcs\\audio-language-trainer-private-content\\collections\\LM1000\\french\\audio\\french_12_story_brussels_blend_introduction_FAST.m4a)\n",
      "  - french_12_story_brussels_blend_development.m4a (from ..\\outputs\\gcs\\audio-language-trainer-private-content\\collections\\LM1000\\french\\audio\\french_12_story_brussels_blend_development.m4a)\n",
      "  - french_12_story_brussels_blend_development_FAST.m4a (from ..\\outputs\\gcs\\audio-language-trainer-private-content\\collections\\LM1000\\french\\audio\\french_12_story_brussels_blend_development_FAST.m4a)\n",
      "  - french_12_story_brussels_blend_resolution.m4a (from ..\\outputs\\gcs\\audio-language-trainer-private-content\\collections\\LM1000\\french\\audio\\french_12_story_brussels_blend_resolution.m4a)\n",
      "  - french_12_story_brussels_blend_resolution_FAST.m4a (from ..\\outputs\\gcs\\audio-language-trainer-private-content\\collections\\LM1000\\french\\audio\\french_12_story_brussels_blend_resolution_FAST.m4a)\n",
      "  - french_13_story_rainy_football_match_introduction.m4a (from ..\\outputs\\gcs\\audio-language-trainer-private-content\\collections\\LM1000\\french\\audio\\french_13_story_rainy_football_match_introduction.m4a)\n",
      "  - french_13_story_rainy_football_match_introduction_FAST.m4a (from ..\\outputs\\gcs\\audio-language-trainer-private-content\\collections\\LM1000\\french\\audio\\french_13_story_rainy_football_match_introduction_FAST.m4a)\n",
      "  - french_13_story_rainy_football_match_development.m4a (from ..\\outputs\\gcs\\audio-language-trainer-private-content\\collections\\LM1000\\french\\audio\\french_13_story_rainy_football_match_development.m4a)\n",
      "  - french_13_story_rainy_football_match_development_FAST.m4a (from ..\\outputs\\gcs\\audio-language-trainer-private-content\\collections\\LM1000\\french\\audio\\french_13_story_rainy_football_match_development_FAST.m4a)\n",
      "  - french_13_story_rainy_football_match_resolution.m4a (from ..\\outputs\\gcs\\audio-language-trainer-private-content\\collections\\LM1000\\french\\audio\\french_13_story_rainy_football_match_resolution.m4a)\n",
      "  - french_13_story_rainy_football_match_resolution_FAST.m4a (from ..\\outputs\\gcs\\audio-language-trainer-private-content\\collections\\LM1000\\french\\audio\\french_13_story_rainy_football_match_resolution_FAST.m4a)\n",
      "  - french_14_story_camping_trip_gone_awry_introduction.m4a (from ..\\outputs\\gcs\\audio-language-trainer-private-content\\collections\\LM1000\\french\\audio\\french_14_story_camping_trip_gone_awry_introduction.m4a)\n",
      "  - french_14_story_camping_trip_gone_awry_introduction_FAST.m4a (from ..\\outputs\\gcs\\audio-language-trainer-private-content\\collections\\LM1000\\french\\audio\\french_14_story_camping_trip_gone_awry_introduction_FAST.m4a)\n",
      "  - french_14_story_camping_trip_gone_awry_development.m4a (from ..\\outputs\\gcs\\audio-language-trainer-private-content\\collections\\LM1000\\french\\audio\\french_14_story_camping_trip_gone_awry_development.m4a)\n",
      "  - french_14_story_camping_trip_gone_awry_development_FAST.m4a (from ..\\outputs\\gcs\\audio-language-trainer-private-content\\collections\\LM1000\\french\\audio\\french_14_story_camping_trip_gone_awry_development_FAST.m4a)\n",
      "  - french_14_story_camping_trip_gone_awry_resolution.m4a (from ..\\outputs\\gcs\\audio-language-trainer-private-content\\collections\\LM1000\\french\\audio\\french_14_story_camping_trip_gone_awry_resolution.m4a)\n",
      "  - french_14_story_camping_trip_gone_awry_resolution_FAST.m4a (from ..\\outputs\\gcs\\audio-language-trainer-private-content\\collections\\LM1000\\french\\audio\\french_14_story_camping_trip_gone_awry_resolution_FAST.m4a)\n",
      "  - french_15_story_unexpected_career_change_introduction.m4a (from ..\\outputs\\gcs\\audio-language-trainer-private-content\\collections\\LM1000\\french\\audio\\french_15_story_unexpected_career_change_introduction.m4a)\n",
      "  - french_15_story_unexpected_career_change_introduction_FAST.m4a (from ..\\outputs\\gcs\\audio-language-trainer-private-content\\collections\\LM1000\\french\\audio\\french_15_story_unexpected_career_change_introduction_FAST.m4a)\n",
      "  - french_15_story_unexpected_career_change_development.m4a (from ..\\outputs\\gcs\\audio-language-trainer-private-content\\collections\\LM1000\\french\\audio\\french_15_story_unexpected_career_change_development.m4a)\n",
      "  - french_15_story_unexpected_career_change_development_FAST.m4a (from ..\\outputs\\gcs\\audio-language-trainer-private-content\\collections\\LM1000\\french\\audio\\french_15_story_unexpected_career_change_development_FAST.m4a)\n",
      "  - french_15_story_unexpected_career_change_resolution.m4a (from ..\\outputs\\gcs\\audio-language-trainer-private-content\\collections\\LM1000\\french\\audio\\french_15_story_unexpected_career_change_resolution.m4a)\n",
      "  - french_15_story_unexpected_career_change_resolution_FAST.m4a (from ..\\outputs\\gcs\\audio-language-trainer-private-content\\collections\\LM1000\\french\\audio\\french_15_story_unexpected_career_change_resolution_FAST.m4a)\n",
      "  - french_16_story_a_missed_stop_introduction.m4a (from ..\\outputs\\gcs\\audio-language-trainer-private-content\\collections\\LM1000\\french\\audio\\french_16_story_a_missed_stop_introduction.m4a)\n",
      "  - french_16_story_a_missed_stop_introduction_FAST.m4a (from ..\\outputs\\gcs\\audio-language-trainer-private-content\\collections\\LM1000\\french\\audio\\french_16_story_a_missed_stop_introduction_FAST.m4a)\n",
      "  - french_16_story_a_missed_stop_development.m4a (from ..\\outputs\\gcs\\audio-language-trainer-private-content\\collections\\LM1000\\french\\audio\\french_16_story_a_missed_stop_development.m4a)\n",
      "  - french_16_story_a_missed_stop_development_FAST.m4a (from ..\\outputs\\gcs\\audio-language-trainer-private-content\\collections\\LM1000\\french\\audio\\french_16_story_a_missed_stop_development_FAST.m4a)\n",
      "  - french_16_story_a_missed_stop_resolution.m4a (from ..\\outputs\\gcs\\audio-language-trainer-private-content\\collections\\LM1000\\french\\audio\\french_16_story_a_missed_stop_resolution.m4a)\n",
      "  - french_16_story_a_missed_stop_resolution_FAST.m4a (from ..\\outputs\\gcs\\audio-language-trainer-private-content\\collections\\LM1000\\french\\audio\\french_16_story_a_missed_stop_resolution_FAST.m4a)\n",
      "  - french_17_story_road_trip_introduction.m4a (from ..\\outputs\\gcs\\audio-language-trainer-private-content\\collections\\LM1000\\french\\audio\\french_17_story_road_trip_introduction.m4a)\n",
      "  - french_17_story_road_trip_introduction_FAST.m4a (from ..\\outputs\\gcs\\audio-language-trainer-private-content\\collections\\LM1000\\french\\audio\\french_17_story_road_trip_introduction_FAST.m4a)\n",
      "  - french_17_story_road_trip_development.m4a (from ..\\outputs\\gcs\\audio-language-trainer-private-content\\collections\\LM1000\\french\\audio\\french_17_story_road_trip_development.m4a)\n",
      "  - french_17_story_road_trip_development_FAST.m4a (from ..\\outputs\\gcs\\audio-language-trainer-private-content\\collections\\LM1000\\french\\audio\\french_17_story_road_trip_development_FAST.m4a)\n",
      "  - french_17_story_road_trip_resolution.m4a (from ..\\outputs\\gcs\\audio-language-trainer-private-content\\collections\\LM1000\\french\\audio\\french_17_story_road_trip_resolution.m4a)\n",
      "  - french_17_story_road_trip_resolution_FAST.m4a (from ..\\outputs\\gcs\\audio-language-trainer-private-content\\collections\\LM1000\\french\\audio\\french_17_story_road_trip_resolution_FAST.m4a)\n",
      "  - french_18_story_forgetful_diver_introduction.m4a (from ..\\outputs\\gcs\\audio-language-trainer-private-content\\collections\\LM1000\\french\\audio\\french_18_story_forgetful_diver_introduction.m4a)\n",
      "  - french_18_story_forgetful_diver_introduction_FAST.m4a (from ..\\outputs\\gcs\\audio-language-trainer-private-content\\collections\\LM1000\\french\\audio\\french_18_story_forgetful_diver_introduction_FAST.m4a)\n",
      "  - french_18_story_forgetful_diver_development.m4a (from ..\\outputs\\gcs\\audio-language-trainer-private-content\\collections\\LM1000\\french\\audio\\french_18_story_forgetful_diver_development.m4a)\n",
      "  - french_18_story_forgetful_diver_development_FAST.m4a (from ..\\outputs\\gcs\\audio-language-trainer-private-content\\collections\\LM1000\\french\\audio\\french_18_story_forgetful_diver_development_FAST.m4a)\n",
      "  - french_18_story_forgetful_diver_resolution.m4a (from ..\\outputs\\gcs\\audio-language-trainer-private-content\\collections\\LM1000\\french\\audio\\french_18_story_forgetful_diver_resolution.m4a)\n",
      "  - french_18_story_forgetful_diver_resolution_FAST.m4a (from ..\\outputs\\gcs\\audio-language-trainer-private-content\\collections\\LM1000\\french\\audio\\french_18_story_forgetful_diver_resolution_FAST.m4a)\n",
      "  - french_19_story_the_birthday_party_introduction.m4a (from ..\\outputs\\gcs\\audio-language-trainer-private-content\\collections\\LM1000\\french\\audio\\french_19_story_the_birthday_party_introduction.m4a)\n",
      "  - french_19_story_the_birthday_party_introduction_FAST.m4a (from ..\\outputs\\gcs\\audio-language-trainer-private-content\\collections\\LM1000\\french\\audio\\french_19_story_the_birthday_party_introduction_FAST.m4a)\n",
      "  - french_19_story_the_birthday_party_development.m4a (from ..\\outputs\\gcs\\audio-language-trainer-private-content\\collections\\LM1000\\french\\audio\\french_19_story_the_birthday_party_development.m4a)\n",
      "  - french_19_story_the_birthday_party_development_FAST.m4a (from ..\\outputs\\gcs\\audio-language-trainer-private-content\\collections\\LM1000\\french\\audio\\french_19_story_the_birthday_party_development_FAST.m4a)\n",
      "  - french_19_story_the_birthday_party_resolution.m4a (from ..\\outputs\\gcs\\audio-language-trainer-private-content\\collections\\LM1000\\french\\audio\\french_19_story_the_birthday_party_resolution.m4a)\n",
      "  - french_19_story_the_birthday_party_resolution_FAST.m4a (from ..\\outputs\\gcs\\audio-language-trainer-private-content\\collections\\LM1000\\french\\audio\\french_19_story_the_birthday_party_resolution_FAST.m4a)\n",
      "  - french_20_story_the_power_cut_introduction.m4a (from ..\\outputs\\gcs\\audio-language-trainer-private-content\\collections\\LM1000\\french\\audio\\french_20_story_the_power_cut_introduction.m4a)\n",
      "  - french_20_story_the_power_cut_introduction_FAST.m4a (from ..\\outputs\\gcs\\audio-language-trainer-private-content\\collections\\LM1000\\french\\audio\\french_20_story_the_power_cut_introduction_FAST.m4a)\n",
      "  - french_20_story_the_power_cut_development.m4a (from ..\\outputs\\gcs\\audio-language-trainer-private-content\\collections\\LM1000\\french\\audio\\french_20_story_the_power_cut_development.m4a)\n",
      "  - french_20_story_the_power_cut_development_FAST.m4a (from ..\\outputs\\gcs\\audio-language-trainer-private-content\\collections\\LM1000\\french\\audio\\french_20_story_the_power_cut_development_FAST.m4a)\n",
      "  - french_20_story_the_power_cut_resolution.m4a (from ..\\outputs\\gcs\\audio-language-trainer-private-content\\collections\\LM1000\\french\\audio\\french_20_story_the_power_cut_resolution.m4a)\n",
      "  - french_20_story_the_power_cut_resolution_FAST.m4a (from ..\\outputs\\gcs\\audio-language-trainer-private-content\\collections\\LM1000\\french\\audio\\french_20_story_the_power_cut_resolution_FAST.m4a)\n",
      "\n",
      "Creating zip file in memory...\n"
     ]
    },
    {
     "name": "stderr",
     "output_type": "stream",
     "text": [
      "Adding files:   0%|          | 0/120 [00:00<?, ?it/s]"
     ]
    },
    {
     "name": "stdout",
     "output_type": "stream",
     "text": [
      "Adding french_01_story_sunset_wedding_blues_introduction.m4a (472.0 KB)\n",
      "Adding french_01_story_sunset_wedding_blues_introduction_FAST.m4a (1219.5 KB)\n"
     ]
    },
    {
     "name": "stderr",
     "output_type": "stream",
     "text": [
      "Adding files:   2%|▎         | 3/120 [00:00<00:04, 27.27it/s]"
     ]
    },
    {
     "name": "stdout",
     "output_type": "stream",
     "text": [
      "Adding french_01_story_sunset_wedding_blues_development.m4a (278.2 KB)\n",
      "Adding french_01_story_sunset_wedding_blues_development_FAST.m4a (1437.0 KB)\n",
      "Adding french_01_story_sunset_wedding_blues_resolution.m4a (225.6 KB)\n",
      "Adding french_01_story_sunset_wedding_blues_resolution_FAST.m4a (1169.9 KB)\n"
     ]
    },
    {
     "name": "stderr",
     "output_type": "stream",
     "text": [
      "Adding files:   5%|▌         | 6/120 [00:00<00:04, 24.94it/s]"
     ]
    },
    {
     "name": "stdout",
     "output_type": "stream",
     "text": [
      "Adding french_02_story_better_than_a_movie_introduction.m4a (174.5 KB)\n",
      "Adding french_02_story_better_than_a_movie_introduction_FAST.m4a (911.3 KB)\n"
     ]
    },
    {
     "name": "stderr",
     "output_type": "stream",
     "text": [
      "Adding files:   8%|▊         | 9/120 [00:00<00:04, 24.14it/s]"
     ]
    },
    {
     "name": "stdout",
     "output_type": "stream",
     "text": [
      "Adding french_02_story_better_than_a_movie_development.m4a (281.3 KB)\n",
      "Adding french_02_story_better_than_a_movie_development_FAST.m4a (1471.8 KB)\n",
      "Adding french_02_story_better_than_a_movie_resolution.m4a (310.0 KB)\n"
     ]
    },
    {
     "name": "stderr",
     "output_type": "stream",
     "text": [
      "Adding files:  10%|█         | 12/120 [00:00<00:04, 22.25it/s]"
     ]
    },
    {
     "name": "stdout",
     "output_type": "stream",
     "text": [
      "Adding french_02_story_better_than_a_movie_resolution_FAST.m4a (1612.1 KB)\n",
      "Adding french_03_story_unexpected_wedding_guests_introduction.m4a (256.8 KB)\n",
      "Adding french_03_story_unexpected_wedding_guests_introduction_FAST.m4a (1304.1 KB)\n",
      "Adding french_03_story_unexpected_wedding_guests_development.m4a (277.8 KB)\n",
      "Adding french_03_story_unexpected_wedding_guests_development_FAST.m4a (1437.1 KB)\n"
     ]
    },
    {
     "name": "stderr",
     "output_type": "stream",
     "text": [
      "Adding files:  13%|█▎        | 16/120 [00:00<00:04, 24.98it/s]"
     ]
    },
    {
     "name": "stdout",
     "output_type": "stream",
     "text": [
      "Adding french_03_story_unexpected_wedding_guests_resolution.m4a (315.8 KB)\n",
      "Adding french_03_story_unexpected_wedding_guests_resolution_FAST.m4a (1613.7 KB)\n",
      "Adding french_04_story_midnight_garden_mystery_introduction.m4a (517.3 KB)\n"
     ]
    },
    {
     "name": "stderr",
     "output_type": "stream",
     "text": [
      "Adding files:  16%|█▌        | 19/120 [00:00<00:03, 25.59it/s]"
     ]
    },
    {
     "name": "stdout",
     "output_type": "stream",
     "text": [
      "Adding french_04_story_midnight_garden_mystery_introduction_FAST.m4a (1462.0 KB)\n",
      "Adding french_04_story_midnight_garden_mystery_development.m4a (578.2 KB)\n"
     ]
    },
    {
     "name": "stderr",
     "output_type": "stream",
     "text": [
      "Adding files:  18%|█▊        | 22/120 [00:00<00:04, 21.93it/s]"
     ]
    },
    {
     "name": "stdout",
     "output_type": "stream",
     "text": [
      "Adding french_04_story_midnight_garden_mystery_development_FAST.m4a (1737.7 KB)\n",
      "Adding french_04_story_midnight_garden_mystery_resolution.m4a (563.2 KB)\n",
      "Adding french_04_story_midnight_garden_mystery_resolution_FAST.m4a (1705.1 KB)\n",
      "Adding french_05_story_workplace_stress_vacation_introduction.m4a (464.3 KB)\n"
     ]
    },
    {
     "name": "stderr",
     "output_type": "stream",
     "text": [
      "Adding files:  21%|██        | 25/120 [00:01<00:04, 21.34it/s]"
     ]
    },
    {
     "name": "stdout",
     "output_type": "stream",
     "text": [
      "Adding french_05_story_workplace_stress_vacation_introduction_FAST.m4a (1378.7 KB)\n",
      "Adding french_05_story_workplace_stress_vacation_development.m4a (552.2 KB)\n",
      "Adding french_05_story_workplace_stress_vacation_development_FAST.m4a (1787.7 KB)\n"
     ]
    },
    {
     "name": "stderr",
     "output_type": "stream",
     "text": [
      "Adding files:  25%|██▌       | 30/120 [00:01<00:05, 16.87it/s]"
     ]
    },
    {
     "name": "stdout",
     "output_type": "stream",
     "text": [
      "Adding french_05_story_workplace_stress_vacation_resolution.m4a (541.3 KB)\n",
      "Adding french_05_story_workplace_stress_vacation_resolution_FAST.m4a (1751.4 KB)\n",
      "Adding french_06_story_the_marathon_introduction.m4a (568.2 KB)\n",
      "Adding french_06_story_the_marathon_introduction_FAST.m4a (1663.3 KB)\n",
      "Adding french_06_story_the_marathon_development.m4a (583.3 KB)\n"
     ]
    },
    {
     "name": "stderr",
     "output_type": "stream",
     "text": [
      "Adding files:  29%|██▉       | 35/120 [00:01<00:04, 18.23it/s]"
     ]
    },
    {
     "name": "stdout",
     "output_type": "stream",
     "text": [
      "Adding french_06_story_the_marathon_development_FAST.m4a (1742.7 KB)\n",
      "Adding french_06_story_the_marathon_resolution.m4a (577.5 KB)\n",
      "Adding french_06_story_the_marathon_resolution_FAST.m4a (1706.8 KB)\n",
      "Adding french_07_story_teaching_music_introduction.m4a (245.8 KB)\n",
      "Adding french_07_story_teaching_music_introduction_FAST.m4a (1267.1 KB)\n"
     ]
    },
    {
     "name": "stderr",
     "output_type": "stream",
     "text": [
      "Adding files:  35%|███▌      | 42/120 [00:02<00:03, 21.22it/s]"
     ]
    },
    {
     "name": "stdout",
     "output_type": "stream",
     "text": [
      "Adding french_07_story_teaching_music_development.m4a (324.5 KB)\n",
      "Adding french_07_story_teaching_music_development_FAST.m4a (1702.8 KB)\n",
      "Adding french_07_story_teaching_music_resolution.m4a (314.1 KB)\n",
      "Adding french_07_story_teaching_music_resolution_FAST.m4a (1627.3 KB)\n",
      "Adding french_08_story_job_interview_gone_wrong_introduction.m4a (286.9 KB)\n",
      "Adding french_08_story_job_interview_gone_wrong_introduction_FAST.m4a (1481.2 KB)\n"
     ]
    },
    {
     "name": "stderr",
     "output_type": "stream",
     "text": [
      "Adding files:  38%|███▊      | 46/120 [00:02<00:03, 23.33it/s]"
     ]
    },
    {
     "name": "stdout",
     "output_type": "stream",
     "text": [
      "Adding french_08_story_job_interview_gone_wrong_development.m4a (307.9 KB)\n",
      "Adding french_08_story_job_interview_gone_wrong_development_FAST.m4a (1605.7 KB)\n",
      "Adding french_08_story_job_interview_gone_wrong_resolution.m4a (329.4 KB)\n",
      "Adding french_08_story_job_interview_gone_wrong_resolution_FAST.m4a (1667.1 KB)\n",
      "Adding french_09_story_winter_in_sweden_introduction.m4a (273.0 KB)\n",
      "Adding french_09_story_winter_in_sweden_introduction_FAST.m4a (1389.2 KB)\n"
     ]
    },
    {
     "name": "stderr",
     "output_type": "stream",
     "text": [
      "Adding files:  44%|████▍     | 53/120 [00:02<00:02, 24.58it/s]"
     ]
    },
    {
     "name": "stdout",
     "output_type": "stream",
     "text": [
      "Adding french_09_story_winter_in_sweden_development.m4a (344.3 KB)\n",
      "Adding french_09_story_winter_in_sweden_development_FAST.m4a (1754.9 KB)\n",
      "Adding french_09_story_winter_in_sweden_resolution.m4a (278.1 KB)\n",
      "Adding french_09_story_winter_in_sweden_resolution_FAST.m4a (1427.9 KB)\n",
      "Adding french_10_story_a_fishing_trip_introduction.m4a (236.4 KB)\n",
      "Adding french_10_story_a_fishing_trip_introduction_FAST.m4a (1225.7 KB)\n"
     ]
    },
    {
     "name": "stderr",
     "output_type": "stream",
     "text": [
      "Adding files:  49%|████▉     | 59/120 [00:02<00:02, 22.40it/s]"
     ]
    },
    {
     "name": "stdout",
     "output_type": "stream",
     "text": [
      "Adding french_10_story_a_fishing_trip_development.m4a (315.8 KB)\n",
      "Adding french_10_story_a_fishing_trip_development_FAST.m4a (1639.2 KB)\n",
      "Adding french_10_story_a_fishing_trip_resolution.m4a (318.2 KB)\n",
      "Adding french_10_story_a_fishing_trip_resolution_FAST.m4a (1636.9 KB)\n"
     ]
    },
    {
     "name": "stderr",
     "output_type": "stream",
     "text": [
      "Adding files:  52%|█████▏    | 62/120 [00:02<00:02, 20.79it/s]"
     ]
    },
    {
     "name": "stdout",
     "output_type": "stream",
     "text": [
      "Adding french_11_story_team_spirit_introduction.m4a (308.6 KB)\n",
      "Adding french_11_story_team_spirit_introduction_FAST.m4a (1604.8 KB)\n",
      "Adding french_11_story_team_spirit_development.m4a (349.6 KB)\n",
      "Adding french_11_story_team_spirit_development_FAST.m4a (1805.7 KB)\n",
      "Adding french_11_story_team_spirit_resolution.m4a (301.9 KB)\n"
     ]
    },
    {
     "name": "stderr",
     "output_type": "stream",
     "text": [
      "Adding files:  57%|█████▋    | 68/120 [00:03<00:02, 21.74it/s]"
     ]
    },
    {
     "name": "stdout",
     "output_type": "stream",
     "text": [
      "Adding french_11_story_team_spirit_resolution_FAST.m4a (1563.0 KB)\n",
      "Adding french_12_story_brussels_blend_introduction.m4a (225.5 KB)\n",
      "Adding french_12_story_brussels_blend_introduction_FAST.m4a (1157.7 KB)\n",
      "Adding french_12_story_brussels_blend_development.m4a (399.8 KB)\n",
      "Adding french_12_story_brussels_blend_development_FAST.m4a (2066.4 KB)\n"
     ]
    },
    {
     "name": "stderr",
     "output_type": "stream",
     "text": [
      "Adding files:  62%|██████▏   | 74/120 [00:03<00:01, 23.46it/s]"
     ]
    },
    {
     "name": "stdout",
     "output_type": "stream",
     "text": [
      "Adding french_12_story_brussels_blend_resolution.m4a (284.2 KB)\n",
      "Adding french_12_story_brussels_blend_resolution_FAST.m4a (1470.8 KB)\n",
      "Adding french_13_story_rainy_football_match_introduction.m4a (275.8 KB)\n",
      "Adding french_13_story_rainy_football_match_introduction_FAST.m4a (1440.8 KB)\n",
      "Adding french_13_story_rainy_football_match_development.m4a (305.3 KB)\n",
      "Adding french_13_story_rainy_football_match_development_FAST.m4a (1582.0 KB)\n"
     ]
    },
    {
     "name": "stderr",
     "output_type": "stream",
     "text": [
      "Adding files:  64%|██████▍   | 77/120 [00:03<00:01, 24.59it/s]"
     ]
    },
    {
     "name": "stdout",
     "output_type": "stream",
     "text": [
      "Adding french_13_story_rainy_football_match_resolution.m4a (341.5 KB)\n",
      "Adding french_13_story_rainy_football_match_resolution_FAST.m4a (1765.6 KB)\n",
      "Adding french_14_story_camping_trip_gone_awry_introduction.m4a (286.0 KB)\n",
      "Adding french_14_story_camping_trip_gone_awry_introduction_FAST.m4a (1475.7 KB)\n"
     ]
    },
    {
     "name": "stderr",
     "output_type": "stream",
     "text": [
      "Adding files:  70%|███████   | 84/120 [00:03<00:01, 20.11it/s]"
     ]
    },
    {
     "name": "stdout",
     "output_type": "stream",
     "text": [
      "Adding french_14_story_camping_trip_gone_awry_development.m4a (313.3 KB)\n",
      "Adding french_14_story_camping_trip_gone_awry_development_FAST.m4a (1616.6 KB)\n",
      "Adding french_14_story_camping_trip_gone_awry_resolution.m4a (308.1 KB)\n",
      "Adding french_14_story_camping_trip_gone_awry_resolution_FAST.m4a (1585.9 KB)\n",
      "Adding french_15_story_unexpected_career_change_introduction.m4a (335.5 KB)\n",
      "Adding french_15_story_unexpected_career_change_introduction_FAST.m4a (1728.5 KB)\n"
     ]
    },
    {
     "name": "stderr",
     "output_type": "stream",
     "text": [
      "Adding files:  73%|███████▎  | 88/120 [00:04<00:01, 21.80it/s]"
     ]
    },
    {
     "name": "stdout",
     "output_type": "stream",
     "text": [
      "Adding french_15_story_unexpected_career_change_development.m4a (350.6 KB)\n",
      "Adding french_15_story_unexpected_career_change_development_FAST.m4a (1810.7 KB)\n",
      "Adding french_15_story_unexpected_career_change_resolution.m4a (355.8 KB)\n",
      "Adding french_15_story_unexpected_career_change_resolution_FAST.m4a (1837.0 KB)\n",
      "Adding french_16_story_a_missed_stop_introduction.m4a (264.3 KB)\n",
      "Adding french_16_story_a_missed_stop_introduction_FAST.m4a (1361.4 KB)\n"
     ]
    },
    {
     "name": "stderr",
     "output_type": "stream",
     "text": [
      "Adding files:  77%|███████▋  | 92/120 [00:04<00:01, 23.09it/s]"
     ]
    },
    {
     "name": "stdout",
     "output_type": "stream",
     "text": [
      "Adding french_16_story_a_missed_stop_development.m4a (357.2 KB)\n",
      "Adding french_16_story_a_missed_stop_development_FAST.m4a (1879.4 KB)\n",
      "Adding french_16_story_a_missed_stop_resolution.m4a (410.6 KB)\n"
     ]
    },
    {
     "name": "stderr",
     "output_type": "stream",
     "text": [
      "Adding files:  82%|████████▏ | 98/120 [00:04<00:01, 18.98it/s]"
     ]
    },
    {
     "name": "stdout",
     "output_type": "stream",
     "text": [
      "Adding french_16_story_a_missed_stop_resolution_FAST.m4a (2133.1 KB)\n",
      "Adding french_17_story_road_trip_introduction.m4a (309.3 KB)\n",
      "Adding french_17_story_road_trip_introduction_FAST.m4a (1594.2 KB)\n",
      "Adding french_17_story_road_trip_development.m4a (292.5 KB)\n",
      "Adding french_17_story_road_trip_development_FAST.m4a (1504.9 KB)\n"
     ]
    },
    {
     "name": "stderr",
     "output_type": "stream",
     "text": [
      "Adding files:  85%|████████▌ | 102/120 [00:04<00:00, 20.97it/s]"
     ]
    },
    {
     "name": "stdout",
     "output_type": "stream",
     "text": [
      "Adding french_17_story_road_trip_resolution.m4a (354.3 KB)\n",
      "Adding french_17_story_road_trip_resolution_FAST.m4a (1815.0 KB)\n",
      "Adding french_18_story_forgetful_diver_introduction.m4a (307.8 KB)\n",
      "Adding french_18_story_forgetful_diver_introduction_FAST.m4a (1571.9 KB)\n",
      "Adding french_18_story_forgetful_diver_development.m4a (342.1 KB)\n"
     ]
    },
    {
     "name": "stderr",
     "output_type": "stream",
     "text": [
      "Adding files:  90%|█████████ | 108/120 [00:05<00:00, 19.13it/s]"
     ]
    },
    {
     "name": "stdout",
     "output_type": "stream",
     "text": [
      "Adding french_18_story_forgetful_diver_development_FAST.m4a (1735.5 KB)\n",
      "Adding french_18_story_forgetful_diver_resolution.m4a (334.8 KB)\n",
      "Adding french_18_story_forgetful_diver_resolution_FAST.m4a (1707.8 KB)\n"
     ]
    },
    {
     "name": "stderr",
     "output_type": "stream",
     "text": [
      "Adding files:  93%|█████████▎| 112/120 [00:05<00:00, 21.00it/s]"
     ]
    },
    {
     "name": "stdout",
     "output_type": "stream",
     "text": [
      "Adding french_19_story_the_birthday_party_introduction.m4a (315.0 KB)\n",
      "Adding french_19_story_the_birthday_party_introduction_FAST.m4a (1627.4 KB)\n",
      "Adding french_19_story_the_birthday_party_development.m4a (366.7 KB)\n",
      "Adding french_19_story_the_birthday_party_development_FAST.m4a (1884.0 KB)\n",
      "Adding french_19_story_the_birthday_party_resolution.m4a (388.9 KB)\n",
      "Adding french_19_story_the_birthday_party_resolution_FAST.m4a (1999.2 KB)\n"
     ]
    },
    {
     "name": "stderr",
     "output_type": "stream",
     "text": [
      "Adding files:  98%|█████████▊| 118/120 [00:05<00:00, 20.92it/s]"
     ]
    },
    {
     "name": "stdout",
     "output_type": "stream",
     "text": [
      "Adding french_20_story_the_power_cut_introduction.m4a (279.3 KB)\n",
      "Adding french_20_story_the_power_cut_introduction_FAST.m4a (1445.4 KB)\n",
      "Adding french_20_story_the_power_cut_development.m4a (327.5 KB)\n",
      "Adding french_20_story_the_power_cut_development_FAST.m4a (1679.0 KB)\n",
      "Adding french_20_story_the_power_cut_resolution.m4a (334.8 KB)\n",
      "Adding french_20_story_the_power_cut_resolution_FAST.m4a (1705.8 KB)\n"
     ]
    },
    {
     "name": "stderr",
     "output_type": "stream",
     "text": [
      "                                                               \r"
     ]
    },
    {
     "name": "stdout",
     "output_type": "stream",
     "text": [
      "\n",
      "Zip file created in memory: 113.0 MB\n",
      "\n",
      "Writing zip file to local path: ..\\outputs\\gcs\\audio-language-trainer-private-content\\collections\\LM1000\\french\\audio\\french_lm1000_complete_audio_collection.zip\n",
      "Local file written successfully: 113.0 MB\n",
      "\n",
      "=== Creating Bundle Zips ===\n",
      "\n",
      "Creating French LM1000 Bundle 03-04 Audio (12 files)\n",
      "Files to be included:\n",
      "  - french_03_story_unexpected_wedding_guests_introduction.m4a (from ..\\outputs\\gcs\\audio-language-trainer-private-content\\collections\\LM1000\\french\\audio\\french_03_story_unexpected_wedding_guests_introduction.m4a)\n",
      "  - french_03_story_unexpected_wedding_guests_introduction_FAST.m4a (from ..\\outputs\\gcs\\audio-language-trainer-private-content\\collections\\LM1000\\french\\audio\\french_03_story_unexpected_wedding_guests_introduction_FAST.m4a)\n",
      "  - french_03_story_unexpected_wedding_guests_development.m4a (from ..\\outputs\\gcs\\audio-language-trainer-private-content\\collections\\LM1000\\french\\audio\\french_03_story_unexpected_wedding_guests_development.m4a)\n",
      "  - french_03_story_unexpected_wedding_guests_development_FAST.m4a (from ..\\outputs\\gcs\\audio-language-trainer-private-content\\collections\\LM1000\\french\\audio\\french_03_story_unexpected_wedding_guests_development_FAST.m4a)\n",
      "  - french_03_story_unexpected_wedding_guests_resolution.m4a (from ..\\outputs\\gcs\\audio-language-trainer-private-content\\collections\\LM1000\\french\\audio\\french_03_story_unexpected_wedding_guests_resolution.m4a)\n",
      "  - french_03_story_unexpected_wedding_guests_resolution_FAST.m4a (from ..\\outputs\\gcs\\audio-language-trainer-private-content\\collections\\LM1000\\french\\audio\\french_03_story_unexpected_wedding_guests_resolution_FAST.m4a)\n",
      "  - french_04_story_midnight_garden_mystery_introduction.m4a (from ..\\outputs\\gcs\\audio-language-trainer-private-content\\collections\\LM1000\\french\\audio\\french_04_story_midnight_garden_mystery_introduction.m4a)\n",
      "  - french_04_story_midnight_garden_mystery_introduction_FAST.m4a (from ..\\outputs\\gcs\\audio-language-trainer-private-content\\collections\\LM1000\\french\\audio\\french_04_story_midnight_garden_mystery_introduction_FAST.m4a)\n",
      "  - french_04_story_midnight_garden_mystery_development.m4a (from ..\\outputs\\gcs\\audio-language-trainer-private-content\\collections\\LM1000\\french\\audio\\french_04_story_midnight_garden_mystery_development.m4a)\n",
      "  - french_04_story_midnight_garden_mystery_development_FAST.m4a (from ..\\outputs\\gcs\\audio-language-trainer-private-content\\collections\\LM1000\\french\\audio\\french_04_story_midnight_garden_mystery_development_FAST.m4a)\n",
      "  - french_04_story_midnight_garden_mystery_resolution.m4a (from ..\\outputs\\gcs\\audio-language-trainer-private-content\\collections\\LM1000\\french\\audio\\french_04_story_midnight_garden_mystery_resolution.m4a)\n",
      "  - french_04_story_midnight_garden_mystery_resolution_FAST.m4a (from ..\\outputs\\gcs\\audio-language-trainer-private-content\\collections\\LM1000\\french\\audio\\french_04_story_midnight_garden_mystery_resolution_FAST.m4a)\n",
      "\n",
      "Creating zip file in memory...\n"
     ]
    },
    {
     "name": "stderr",
     "output_type": "stream",
     "text": [
      "Adding files:  33%|███▎      | 4/12 [00:00<00:00, 30.07it/s]"
     ]
    },
    {
     "name": "stdout",
     "output_type": "stream",
     "text": [
      "Adding french_03_story_unexpected_wedding_guests_introduction.m4a (256.8 KB)\n",
      "Adding french_03_story_unexpected_wedding_guests_introduction_FAST.m4a (1304.1 KB)\n",
      "Adding french_03_story_unexpected_wedding_guests_development.m4a (277.8 KB)\n",
      "Adding french_03_story_unexpected_wedding_guests_development_FAST.m4a (1437.1 KB)\n",
      "Adding french_03_story_unexpected_wedding_guests_resolution.m4a (315.8 KB)\n",
      "Adding french_03_story_unexpected_wedding_guests_resolution_FAST.m4a (1613.7 KB)\n"
     ]
    },
    {
     "name": "stderr",
     "output_type": "stream",
     "text": [
      "Adding files:  67%|██████▋   | 8/12 [00:00<00:00, 26.28it/s]"
     ]
    },
    {
     "name": "stdout",
     "output_type": "stream",
     "text": [
      "Adding french_04_story_midnight_garden_mystery_introduction.m4a (517.3 KB)\n",
      "Adding french_04_story_midnight_garden_mystery_introduction_FAST.m4a (1462.0 KB)\n",
      "Adding french_04_story_midnight_garden_mystery_development.m4a (578.2 KB)\n",
      "Adding french_04_story_midnight_garden_mystery_development_FAST.m4a (1737.7 KB)\n"
     ]
    },
    {
     "name": "stderr",
     "output_type": "stream",
     "text": [
      "Adding files:  92%|█████████▏| 11/12 [00:00<00:00, 25.60it/s]"
     ]
    },
    {
     "name": "stdout",
     "output_type": "stream",
     "text": [
      "Adding french_04_story_midnight_garden_mystery_resolution.m4a (563.2 KB)\n"
     ]
    },
    {
     "name": "stderr",
     "output_type": "stream",
     "text": [
      "                                                             \r"
     ]
    },
    {
     "name": "stdout",
     "output_type": "stream",
     "text": [
      "Adding french_04_story_midnight_garden_mystery_resolution_FAST.m4a (1705.1 KB)\n",
      "\n",
      "Zip file created in memory: 11.4 MB\n",
      "\n",
      "Writing zip file to local path: ..\\outputs\\gcs\\audio-language-trainer-private-content\\collections\\LM1000\\french\\audio\\french_lm1000_bundle_03_04_audio.zip\n",
      "Local file written successfully: 11.4 MB\n",
      "\n",
      "=== Creating Individual Story Zips ===\n"
     ]
    },
    {
     "name": "stderr",
     "output_type": "stream",
     "text": [
      "Creating individual zips:   0%|          | 0/20 [00:00<?, ?it/s]"
     ]
    },
    {
     "name": "stdout",
     "output_type": "stream",
     "text": [
      "\n",
      "Creating French LM1000 Story 01: Sunset Wedding Blues Audio (6 files)\n",
      "Files to be included:\n",
      "  - french_01_story_sunset_wedding_blues_introduction.m4a (from ..\\outputs\\gcs\\audio-language-trainer-private-content\\collections\\LM1000\\french\\audio\\french_01_story_sunset_wedding_blues_introduction.m4a)\n",
      "  - french_01_story_sunset_wedding_blues_introduction_FAST.m4a (from ..\\outputs\\gcs\\audio-language-trainer-private-content\\collections\\LM1000\\french\\audio\\french_01_story_sunset_wedding_blues_introduction_FAST.m4a)\n",
      "  - french_01_story_sunset_wedding_blues_development.m4a (from ..\\outputs\\gcs\\audio-language-trainer-private-content\\collections\\LM1000\\french\\audio\\french_01_story_sunset_wedding_blues_development.m4a)\n",
      "  - french_01_story_sunset_wedding_blues_development_FAST.m4a (from ..\\outputs\\gcs\\audio-language-trainer-private-content\\collections\\LM1000\\french\\audio\\french_01_story_sunset_wedding_blues_development_FAST.m4a)\n",
      "  - french_01_story_sunset_wedding_blues_resolution.m4a (from ..\\outputs\\gcs\\audio-language-trainer-private-content\\collections\\LM1000\\french\\audio\\french_01_story_sunset_wedding_blues_resolution.m4a)\n",
      "  - french_01_story_sunset_wedding_blues_resolution_FAST.m4a (from ..\\outputs\\gcs\\audio-language-trainer-private-content\\collections\\LM1000\\french\\audio\\french_01_story_sunset_wedding_blues_resolution_FAST.m4a)\n",
      "\n",
      "Creating zip file in memory...\n"
     ]
    },
    {
     "name": "stderr",
     "output_type": "stream",
     "text": []
    },
    {
     "name": "stdout",
     "output_type": "stream",
     "text": [
      "Adding french_01_story_sunset_wedding_blues_introduction.m4a (472.0 KB)\n",
      "Adding french_01_story_sunset_wedding_blues_introduction_FAST.m4a (1219.5 KB)\n"
     ]
    },
    {
     "name": "stderr",
     "output_type": "stream",
     "text": []
    },
    {
     "name": "stdout",
     "output_type": "stream",
     "text": [
      "Adding french_01_story_sunset_wedding_blues_development.m4a (278.2 KB)\n",
      "Adding french_01_story_sunset_wedding_blues_development_FAST.m4a (1437.0 KB)\n",
      "Adding french_01_story_sunset_wedding_blues_resolution.m4a (225.6 KB)\n",
      "Adding french_01_story_sunset_wedding_blues_resolution_FAST.m4a (1169.9 KB)\n"
     ]
    },
    {
     "name": "stderr",
     "output_type": "stream",
     "text": [
      "Creating individual zips:   5%|▌         | 1/20 [00:00<00:05,  3.25it/s]"
     ]
    },
    {
     "name": "stdout",
     "output_type": "stream",
     "text": [
      "\n",
      "Zip file created in memory: 4.7 MB\n",
      "\n",
      "Writing zip file to local path: ..\\outputs\\gcs\\audio-language-trainer-private-content\\collections\\LM1000\\french\\audio\\french_lm1000_story_01_sunset-wedding-blues_audio.zip\n",
      "Local file written successfully: 4.7 MB\n",
      "\n",
      "Creating French LM1000 Story 02: Better Than A Movie Audio (6 files)\n",
      "Files to be included:\n",
      "  - french_02_story_better_than_a_movie_introduction.m4a (from ..\\outputs\\gcs\\audio-language-trainer-private-content\\collections\\LM1000\\french\\audio\\french_02_story_better_than_a_movie_introduction.m4a)\n",
      "  - french_02_story_better_than_a_movie_introduction_FAST.m4a (from ..\\outputs\\gcs\\audio-language-trainer-private-content\\collections\\LM1000\\french\\audio\\french_02_story_better_than_a_movie_introduction_FAST.m4a)\n",
      "  - french_02_story_better_than_a_movie_development.m4a (from ..\\outputs\\gcs\\audio-language-trainer-private-content\\collections\\LM1000\\french\\audio\\french_02_story_better_than_a_movie_development.m4a)\n",
      "  - french_02_story_better_than_a_movie_development_FAST.m4a (from ..\\outputs\\gcs\\audio-language-trainer-private-content\\collections\\LM1000\\french\\audio\\french_02_story_better_than_a_movie_development_FAST.m4a)\n",
      "  - french_02_story_better_than_a_movie_resolution.m4a (from ..\\outputs\\gcs\\audio-language-trainer-private-content\\collections\\LM1000\\french\\audio\\french_02_story_better_than_a_movie_resolution.m4a)\n",
      "  - french_02_story_better_than_a_movie_resolution_FAST.m4a (from ..\\outputs\\gcs\\audio-language-trainer-private-content\\collections\\LM1000\\french\\audio\\french_02_story_better_than_a_movie_resolution_FAST.m4a)\n",
      "\n",
      "Creating zip file in memory...\n"
     ]
    },
    {
     "name": "stderr",
     "output_type": "stream",
     "text": []
    },
    {
     "name": "stdout",
     "output_type": "stream",
     "text": [
      "Adding french_02_story_better_than_a_movie_introduction.m4a (174.5 KB)\n",
      "Adding french_02_story_better_than_a_movie_introduction_FAST.m4a (911.3 KB)\n",
      "Adding french_02_story_better_than_a_movie_development.m4a (281.3 KB)\n",
      "Adding french_02_story_better_than_a_movie_development_FAST.m4a (1471.8 KB)\n"
     ]
    },
    {
     "name": "stderr",
     "output_type": "stream",
     "text": []
    },
    {
     "name": "stdout",
     "output_type": "stream",
     "text": [
      "Adding french_02_story_better_than_a_movie_resolution.m4a (310.0 KB)\n",
      "Adding french_02_story_better_than_a_movie_resolution_FAST.m4a (1612.1 KB)\n"
     ]
    },
    {
     "name": "stderr",
     "output_type": "stream",
     "text": [
      "Creating individual zips:  10%|█         | 2/20 [00:00<00:05,  3.05it/s]"
     ]
    },
    {
     "name": "stdout",
     "output_type": "stream",
     "text": [
      "\n",
      "Zip file created in memory: 4.6 MB\n",
      "\n",
      "Writing zip file to local path: ..\\outputs\\gcs\\audio-language-trainer-private-content\\collections\\LM1000\\french\\audio\\french_lm1000_story_02_better-than-a-movie_audio.zip\n",
      "Local file written successfully: 4.6 MB\n",
      "\n",
      "Creating French LM1000 Story 03: Unexpected Wedding Guests Audio (6 files)\n",
      "Files to be included:\n",
      "  - french_03_story_unexpected_wedding_guests_introduction.m4a (from ..\\outputs\\gcs\\audio-language-trainer-private-content\\collections\\LM1000\\french\\audio\\french_03_story_unexpected_wedding_guests_introduction.m4a)\n",
      "  - french_03_story_unexpected_wedding_guests_introduction_FAST.m4a (from ..\\outputs\\gcs\\audio-language-trainer-private-content\\collections\\LM1000\\french\\audio\\french_03_story_unexpected_wedding_guests_introduction_FAST.m4a)\n",
      "  - french_03_story_unexpected_wedding_guests_development.m4a (from ..\\outputs\\gcs\\audio-language-trainer-private-content\\collections\\LM1000\\french\\audio\\french_03_story_unexpected_wedding_guests_development.m4a)\n",
      "  - french_03_story_unexpected_wedding_guests_development_FAST.m4a (from ..\\outputs\\gcs\\audio-language-trainer-private-content\\collections\\LM1000\\french\\audio\\french_03_story_unexpected_wedding_guests_development_FAST.m4a)\n",
      "  - french_03_story_unexpected_wedding_guests_resolution.m4a (from ..\\outputs\\gcs\\audio-language-trainer-private-content\\collections\\LM1000\\french\\audio\\french_03_story_unexpected_wedding_guests_resolution.m4a)\n",
      "  - french_03_story_unexpected_wedding_guests_resolution_FAST.m4a (from ..\\outputs\\gcs\\audio-language-trainer-private-content\\collections\\LM1000\\french\\audio\\french_03_story_unexpected_wedding_guests_resolution_FAST.m4a)\n",
      "\n",
      "Creating zip file in memory...\n"
     ]
    },
    {
     "name": "stderr",
     "output_type": "stream",
     "text": []
    },
    {
     "name": "stdout",
     "output_type": "stream",
     "text": [
      "Adding french_03_story_unexpected_wedding_guests_introduction.m4a (256.8 KB)\n",
      "Adding french_03_story_unexpected_wedding_guests_introduction_FAST.m4a (1304.1 KB)\n"
     ]
    },
    {
     "name": "stderr",
     "output_type": "stream",
     "text": []
    },
    {
     "name": "stdout",
     "output_type": "stream",
     "text": [
      "Adding french_03_story_unexpected_wedding_guests_development.m4a (277.8 KB)\n",
      "Adding french_03_story_unexpected_wedding_guests_development_FAST.m4a (1437.1 KB)\n",
      "Adding french_03_story_unexpected_wedding_guests_resolution.m4a (315.8 KB)\n",
      "Adding french_03_story_unexpected_wedding_guests_resolution_FAST.m4a (1613.7 KB)\n"
     ]
    },
    {
     "name": "stderr",
     "output_type": "stream",
     "text": [
      "Creating individual zips:  15%|█▌        | 3/20 [00:00<00:05,  3.00it/s]"
     ]
    },
    {
     "name": "stdout",
     "output_type": "stream",
     "text": [
      "\n",
      "Zip file created in memory: 5.0 MB\n",
      "\n",
      "Writing zip file to local path: ..\\outputs\\gcs\\audio-language-trainer-private-content\\collections\\LM1000\\french\\audio\\french_lm1000_story_03_unexpected-wedding-guests_audio.zip\n",
      "Local file written successfully: 5.0 MB\n",
      "\n",
      "Creating French LM1000 Story 04: Midnight Garden Mystery Audio (6 files)\n",
      "Files to be included:\n",
      "  - french_04_story_midnight_garden_mystery_introduction.m4a (from ..\\outputs\\gcs\\audio-language-trainer-private-content\\collections\\LM1000\\french\\audio\\french_04_story_midnight_garden_mystery_introduction.m4a)\n",
      "  - french_04_story_midnight_garden_mystery_introduction_FAST.m4a (from ..\\outputs\\gcs\\audio-language-trainer-private-content\\collections\\LM1000\\french\\audio\\french_04_story_midnight_garden_mystery_introduction_FAST.m4a)\n",
      "  - french_04_story_midnight_garden_mystery_development.m4a (from ..\\outputs\\gcs\\audio-language-trainer-private-content\\collections\\LM1000\\french\\audio\\french_04_story_midnight_garden_mystery_development.m4a)\n",
      "  - french_04_story_midnight_garden_mystery_development_FAST.m4a (from ..\\outputs\\gcs\\audio-language-trainer-private-content\\collections\\LM1000\\french\\audio\\french_04_story_midnight_garden_mystery_development_FAST.m4a)\n",
      "  - french_04_story_midnight_garden_mystery_resolution.m4a (from ..\\outputs\\gcs\\audio-language-trainer-private-content\\collections\\LM1000\\french\\audio\\french_04_story_midnight_garden_mystery_resolution.m4a)\n",
      "  - french_04_story_midnight_garden_mystery_resolution_FAST.m4a (from ..\\outputs\\gcs\\audio-language-trainer-private-content\\collections\\LM1000\\french\\audio\\french_04_story_midnight_garden_mystery_resolution_FAST.m4a)\n",
      "\n",
      "Creating zip file in memory...\n"
     ]
    },
    {
     "name": "stderr",
     "output_type": "stream",
     "text": []
    },
    {
     "name": "stdout",
     "output_type": "stream",
     "text": [
      "Adding french_04_story_midnight_garden_mystery_introduction.m4a (517.3 KB)\n",
      "Adding french_04_story_midnight_garden_mystery_introduction_FAST.m4a (1462.0 KB)\n"
     ]
    },
    {
     "name": "stderr",
     "output_type": "stream",
     "text": []
    },
    {
     "name": "stdout",
     "output_type": "stream",
     "text": [
      "Adding french_04_story_midnight_garden_mystery_development.m4a (578.2 KB)\n",
      "Adding french_04_story_midnight_garden_mystery_development_FAST.m4a (1737.7 KB)\n",
      "Adding french_04_story_midnight_garden_mystery_resolution.m4a (563.2 KB)"
     ]
    },
    {
     "name": "stderr",
     "output_type": "stream",
     "text": []
    },
    {
     "name": "stdout",
     "output_type": "stream",
     "text": [
      "\n",
      "Adding french_04_story_midnight_garden_mystery_resolution_FAST.m4a (1705.1 KB)\n"
     ]
    },
    {
     "name": "stderr",
     "output_type": "stream",
     "text": []
    },
    {
     "name": "stdout",
     "output_type": "stream",
     "text": [
      "\n",
      "Zip file created in memory: 6.4 MB\n",
      "\n",
      "Writing zip file to local path: ..\\outputs\\gcs\\audio-language-trainer-private-content\\collections\\LM1000\\french\\audio\\french_lm1000_story_04_midnight-garden-mystery_audio.zip\n",
      "Local file written successfully: 6.4 MB\n"
     ]
    },
    {
     "name": "stderr",
     "output_type": "stream",
     "text": [
      "Creating individual zips:  20%|██        | 4/20 [00:01<00:05,  2.76it/s]"
     ]
    },
    {
     "name": "stdout",
     "output_type": "stream",
     "text": [
      "\n",
      "Creating French LM1000 Story 05: Workplace Stress Vacation Audio (6 files)\n",
      "Files to be included:\n",
      "  - french_05_story_workplace_stress_vacation_introduction.m4a (from ..\\outputs\\gcs\\audio-language-trainer-private-content\\collections\\LM1000\\french\\audio\\french_05_story_workplace_stress_vacation_introduction.m4a)\n",
      "  - french_05_story_workplace_stress_vacation_introduction_FAST.m4a (from ..\\outputs\\gcs\\audio-language-trainer-private-content\\collections\\LM1000\\french\\audio\\french_05_story_workplace_stress_vacation_introduction_FAST.m4a)\n",
      "  - french_05_story_workplace_stress_vacation_development.m4a (from ..\\outputs\\gcs\\audio-language-trainer-private-content\\collections\\LM1000\\french\\audio\\french_05_story_workplace_stress_vacation_development.m4a)\n",
      "  - french_05_story_workplace_stress_vacation_development_FAST.m4a (from ..\\outputs\\gcs\\audio-language-trainer-private-content\\collections\\LM1000\\french\\audio\\french_05_story_workplace_stress_vacation_development_FAST.m4a)\n",
      "  - french_05_story_workplace_stress_vacation_resolution.m4a (from ..\\outputs\\gcs\\audio-language-trainer-private-content\\collections\\LM1000\\french\\audio\\french_05_story_workplace_stress_vacation_resolution.m4a)\n",
      "  - french_05_story_workplace_stress_vacation_resolution_FAST.m4a (from ..\\outputs\\gcs\\audio-language-trainer-private-content\\collections\\LM1000\\french\\audio\\french_05_story_workplace_stress_vacation_resolution_FAST.m4a)\n",
      "\n",
      "Creating zip file in memory...\n"
     ]
    },
    {
     "name": "stderr",
     "output_type": "stream",
     "text": []
    },
    {
     "name": "stdout",
     "output_type": "stream",
     "text": [
      "Adding french_05_story_workplace_stress_vacation_introduction.m4a (464.3 KB)\n",
      "Adding french_05_story_workplace_stress_vacation_introduction_FAST.m4a (1378.7 KB)\n",
      "Adding french_05_story_workplace_stress_vacation_development.m4a (552.2 KB)\n",
      "Adding french_05_story_workplace_stress_vacation_development_FAST.m4a (1787.7 KB)\n",
      "Adding french_05_story_workplace_stress_vacation_resolution.m4a (541.3 KB)\n",
      "Adding french_05_story_workplace_stress_vacation_resolution_FAST.m4a (1751.4 KB)\n"
     ]
    },
    {
     "name": "stderr",
     "output_type": "stream",
     "text": [
      "Creating individual zips:  25%|██▌       | 5/20 [00:01<00:05,  2.91it/s]"
     ]
    },
    {
     "name": "stdout",
     "output_type": "stream",
     "text": [
      "\n",
      "Zip file created in memory: 6.3 MB\n",
      "\n",
      "Writing zip file to local path: ..\\outputs\\gcs\\audio-language-trainer-private-content\\collections\\LM1000\\french\\audio\\french_lm1000_story_05_workplace-stress-vacation_audio.zip\n",
      "Local file written successfully: 6.3 MB\n",
      "\n",
      "Creating French LM1000 Story 06: The Marathon Audio (6 files)\n",
      "Files to be included:\n",
      "  - french_06_story_the_marathon_introduction.m4a (from ..\\outputs\\gcs\\audio-language-trainer-private-content\\collections\\LM1000\\french\\audio\\french_06_story_the_marathon_introduction.m4a)\n",
      "  - french_06_story_the_marathon_introduction_FAST.m4a (from ..\\outputs\\gcs\\audio-language-trainer-private-content\\collections\\LM1000\\french\\audio\\french_06_story_the_marathon_introduction_FAST.m4a)\n",
      "  - french_06_story_the_marathon_development.m4a (from ..\\outputs\\gcs\\audio-language-trainer-private-content\\collections\\LM1000\\french\\audio\\french_06_story_the_marathon_development.m4a)\n",
      "  - french_06_story_the_marathon_development_FAST.m4a (from ..\\outputs\\gcs\\audio-language-trainer-private-content\\collections\\LM1000\\french\\audio\\french_06_story_the_marathon_development_FAST.m4a)\n",
      "  - french_06_story_the_marathon_resolution.m4a (from ..\\outputs\\gcs\\audio-language-trainer-private-content\\collections\\LM1000\\french\\audio\\french_06_story_the_marathon_resolution.m4a)\n",
      "  - french_06_story_the_marathon_resolution_FAST.m4a (from ..\\outputs\\gcs\\audio-language-trainer-private-content\\collections\\LM1000\\french\\audio\\french_06_story_the_marathon_resolution_FAST.m4a)\n",
      "\n",
      "Creating zip file in memory...\n"
     ]
    },
    {
     "name": "stderr",
     "output_type": "stream",
     "text": []
    },
    {
     "name": "stdout",
     "output_type": "stream",
     "text": [
      "Adding french_06_story_the_marathon_introduction.m4a (568.2 KB)\n",
      "Adding french_06_story_the_marathon_introduction_FAST.m4a (1663.3 KB)\n"
     ]
    },
    {
     "name": "stderr",
     "output_type": "stream",
     "text": []
    },
    {
     "name": "stdout",
     "output_type": "stream",
     "text": [
      "Adding french_06_story_the_marathon_development.m4a (583.3 KB)\n",
      "Adding french_06_story_the_marathon_development_FAST.m4a (1742.7 KB)\n",
      "Adding french_06_story_the_marathon_resolution.m4a (577.5 KB)\n",
      "Adding french_06_story_the_marathon_resolution_FAST.m4a (1706.8 KB)\n"
     ]
    },
    {
     "name": "stderr",
     "output_type": "stream",
     "text": [
      "Creating individual zips:  30%|███       | 6/20 [00:02<00:05,  2.73it/s]"
     ]
    },
    {
     "name": "stdout",
     "output_type": "stream",
     "text": [
      "\n",
      "Zip file created in memory: 6.6 MB\n",
      "\n",
      "Writing zip file to local path: ..\\outputs\\gcs\\audio-language-trainer-private-content\\collections\\LM1000\\french\\audio\\french_lm1000_story_06_the-marathon_audio.zip\n",
      "Local file written successfully: 6.6 MB\n",
      "\n",
      "Creating French LM1000 Story 07: Teaching Music Audio (6 files)\n",
      "Files to be included:\n",
      "  - french_07_story_teaching_music_introduction.m4a (from ..\\outputs\\gcs\\audio-language-trainer-private-content\\collections\\LM1000\\french\\audio\\french_07_story_teaching_music_introduction.m4a)\n",
      "  - french_07_story_teaching_music_introduction_FAST.m4a (from ..\\outputs\\gcs\\audio-language-trainer-private-content\\collections\\LM1000\\french\\audio\\french_07_story_teaching_music_introduction_FAST.m4a)\n",
      "  - french_07_story_teaching_music_development.m4a (from ..\\outputs\\gcs\\audio-language-trainer-private-content\\collections\\LM1000\\french\\audio\\french_07_story_teaching_music_development.m4a)\n",
      "  - french_07_story_teaching_music_development_FAST.m4a (from ..\\outputs\\gcs\\audio-language-trainer-private-content\\collections\\LM1000\\french\\audio\\french_07_story_teaching_music_development_FAST.m4a)\n",
      "  - french_07_story_teaching_music_resolution.m4a (from ..\\outputs\\gcs\\audio-language-trainer-private-content\\collections\\LM1000\\french\\audio\\french_07_story_teaching_music_resolution.m4a)\n",
      "  - french_07_story_teaching_music_resolution_FAST.m4a (from ..\\outputs\\gcs\\audio-language-trainer-private-content\\collections\\LM1000\\french\\audio\\french_07_story_teaching_music_resolution_FAST.m4a)\n",
      "\n",
      "Creating zip file in memory...\n"
     ]
    },
    {
     "name": "stderr",
     "output_type": "stream",
     "text": []
    },
    {
     "name": "stdout",
     "output_type": "stream",
     "text": [
      "Adding french_07_story_teaching_music_introduction.m4a (245.8 KB)\n",
      "Adding french_07_story_teaching_music_introduction_FAST.m4a (1267.1 KB)\n"
     ]
    },
    {
     "name": "stderr",
     "output_type": "stream",
     "text": []
    },
    {
     "name": "stdout",
     "output_type": "stream",
     "text": [
      "Adding french_07_story_teaching_music_development.m4a (324.5 KB)\n",
      "Adding french_07_story_teaching_music_development_FAST.m4a (1702.8 KB)\n"
     ]
    },
    {
     "name": "stderr",
     "output_type": "stream",
     "text": []
    },
    {
     "name": "stdout",
     "output_type": "stream",
     "text": [
      "Adding french_07_story_teaching_music_resolution.m4a (314.1 KB)\n",
      "Adding french_07_story_teaching_music_resolution_FAST.m4a (1627.3 KB)\n"
     ]
    },
    {
     "name": "stderr",
     "output_type": "stream",
     "text": [
      "Creating individual zips:  35%|███▌      | 7/20 [00:02<00:04,  2.68it/s]"
     ]
    },
    {
     "name": "stdout",
     "output_type": "stream",
     "text": [
      "\n",
      "Zip file created in memory: 5.3 MB\n",
      "\n",
      "Writing zip file to local path: ..\\outputs\\gcs\\audio-language-trainer-private-content\\collections\\LM1000\\french\\audio\\french_lm1000_story_07_teaching-music_audio.zip\n",
      "Local file written successfully: 5.3 MB\n",
      "\n",
      "Creating French LM1000 Story 08: Job Interview Gone Wrong Audio (6 files)\n",
      "Files to be included:\n",
      "  - french_08_story_job_interview_gone_wrong_introduction.m4a (from ..\\outputs\\gcs\\audio-language-trainer-private-content\\collections\\LM1000\\french\\audio\\french_08_story_job_interview_gone_wrong_introduction.m4a)\n",
      "  - french_08_story_job_interview_gone_wrong_introduction_FAST.m4a (from ..\\outputs\\gcs\\audio-language-trainer-private-content\\collections\\LM1000\\french\\audio\\french_08_story_job_interview_gone_wrong_introduction_FAST.m4a)\n",
      "  - french_08_story_job_interview_gone_wrong_development.m4a (from ..\\outputs\\gcs\\audio-language-trainer-private-content\\collections\\LM1000\\french\\audio\\french_08_story_job_interview_gone_wrong_development.m4a)\n",
      "  - french_08_story_job_interview_gone_wrong_development_FAST.m4a (from ..\\outputs\\gcs\\audio-language-trainer-private-content\\collections\\LM1000\\french\\audio\\french_08_story_job_interview_gone_wrong_development_FAST.m4a)\n",
      "  - french_08_story_job_interview_gone_wrong_resolution.m4a (from ..\\outputs\\gcs\\audio-language-trainer-private-content\\collections\\LM1000\\french\\audio\\french_08_story_job_interview_gone_wrong_resolution.m4a)\n",
      "  - french_08_story_job_interview_gone_wrong_resolution_FAST.m4a (from ..\\outputs\\gcs\\audio-language-trainer-private-content\\collections\\LM1000\\french\\audio\\french_08_story_job_interview_gone_wrong_resolution_FAST.m4a)\n",
      "\n",
      "Creating zip file in memory...\n"
     ]
    },
    {
     "name": "stderr",
     "output_type": "stream",
     "text": []
    },
    {
     "name": "stdout",
     "output_type": "stream",
     "text": [
      "Adding french_08_story_job_interview_gone_wrong_introduction.m4a (286.9 KB)\n",
      "Adding french_08_story_job_interview_gone_wrong_introduction_FAST.m4a (1481.2 KB)\n"
     ]
    },
    {
     "name": "stderr",
     "output_type": "stream",
     "text": []
    },
    {
     "name": "stdout",
     "output_type": "stream",
     "text": [
      "Adding french_08_story_job_interview_gone_wrong_development.m4a (307.9 KB)\n",
      "Adding french_08_story_job_interview_gone_wrong_development_FAST.m4a (1605.7 KB)\n",
      "Adding french_08_story_job_interview_gone_wrong_resolution.m4a (329.4 KB)\n",
      "Adding french_08_story_job_interview_gone_wrong_resolution_FAST.m4a (1667.1 KB)\n"
     ]
    },
    {
     "name": "stderr",
     "output_type": "stream",
     "text": [
      "Creating individual zips:  40%|████      | 8/20 [00:02<00:04,  2.63it/s]"
     ]
    },
    {
     "name": "stdout",
     "output_type": "stream",
     "text": [
      "\n",
      "Zip file created in memory: 5.5 MB\n",
      "\n",
      "Writing zip file to local path: ..\\outputs\\gcs\\audio-language-trainer-private-content\\collections\\LM1000\\french\\audio\\french_lm1000_story_08_job-interview-gone-wrong_audio.zip\n",
      "Local file written successfully: 5.5 MB\n",
      "\n",
      "Creating French LM1000 Story 09: Winter In Sweden Audio (6 files)\n",
      "Files to be included:\n",
      "  - french_09_story_winter_in_sweden_introduction.m4a (from ..\\outputs\\gcs\\audio-language-trainer-private-content\\collections\\LM1000\\french\\audio\\french_09_story_winter_in_sweden_introduction.m4a)\n",
      "  - french_09_story_winter_in_sweden_introduction_FAST.m4a (from ..\\outputs\\gcs\\audio-language-trainer-private-content\\collections\\LM1000\\french\\audio\\french_09_story_winter_in_sweden_introduction_FAST.m4a)\n",
      "  - french_09_story_winter_in_sweden_development.m4a (from ..\\outputs\\gcs\\audio-language-trainer-private-content\\collections\\LM1000\\french\\audio\\french_09_story_winter_in_sweden_development.m4a)\n",
      "  - french_09_story_winter_in_sweden_development_FAST.m4a (from ..\\outputs\\gcs\\audio-language-trainer-private-content\\collections\\LM1000\\french\\audio\\french_09_story_winter_in_sweden_development_FAST.m4a)\n",
      "  - french_09_story_winter_in_sweden_resolution.m4a (from ..\\outputs\\gcs\\audio-language-trainer-private-content\\collections\\LM1000\\french\\audio\\french_09_story_winter_in_sweden_resolution.m4a)\n",
      "  - french_09_story_winter_in_sweden_resolution_FAST.m4a (from ..\\outputs\\gcs\\audio-language-trainer-private-content\\collections\\LM1000\\french\\audio\\french_09_story_winter_in_sweden_resolution_FAST.m4a)\n",
      "\n",
      "Creating zip file in memory...\n"
     ]
    },
    {
     "name": "stderr",
     "output_type": "stream",
     "text": []
    },
    {
     "name": "stdout",
     "output_type": "stream",
     "text": [
      "Adding french_09_story_winter_in_sweden_introduction.m4a (273.0 KB)\n",
      "Adding french_09_story_winter_in_sweden_introduction_FAST.m4a (1389.2 KB)\n",
      "Adding french_09_story_winter_in_sweden_development.m4a (344.3 KB)\n",
      "Adding french_09_story_winter_in_sweden_development_FAST.m4a (1754.9 KB)\n",
      "Adding french_09_story_winter_in_sweden_resolution.m4a (278.1 KB)\n",
      "Adding french_09_story_winter_in_sweden_resolution_FAST.m4a (1427.9 KB)\n"
     ]
    },
    {
     "name": "stderr",
     "output_type": "stream",
     "text": [
      "Creating individual zips:  45%|████▌     | 9/20 [00:03<00:03,  2.93it/s]"
     ]
    },
    {
     "name": "stdout",
     "output_type": "stream",
     "text": [
      "\n",
      "Zip file created in memory: 5.3 MB\n",
      "\n",
      "Writing zip file to local path: ..\\outputs\\gcs\\audio-language-trainer-private-content\\collections\\LM1000\\french\\audio\\french_lm1000_story_09_winter-in-sweden_audio.zip\n",
      "Local file written successfully: 5.3 MB\n",
      "\n",
      "Creating French LM1000 Story 10: A Fishing Trip Audio (6 files)\n",
      "Files to be included:\n",
      "  - french_10_story_a_fishing_trip_introduction.m4a (from ..\\outputs\\gcs\\audio-language-trainer-private-content\\collections\\LM1000\\french\\audio\\french_10_story_a_fishing_trip_introduction.m4a)\n",
      "  - french_10_story_a_fishing_trip_introduction_FAST.m4a (from ..\\outputs\\gcs\\audio-language-trainer-private-content\\collections\\LM1000\\french\\audio\\french_10_story_a_fishing_trip_introduction_FAST.m4a)\n",
      "  - french_10_story_a_fishing_trip_development.m4a (from ..\\outputs\\gcs\\audio-language-trainer-private-content\\collections\\LM1000\\french\\audio\\french_10_story_a_fishing_trip_development.m4a)\n",
      "  - french_10_story_a_fishing_trip_development_FAST.m4a (from ..\\outputs\\gcs\\audio-language-trainer-private-content\\collections\\LM1000\\french\\audio\\french_10_story_a_fishing_trip_development_FAST.m4a)\n",
      "  - french_10_story_a_fishing_trip_resolution.m4a (from ..\\outputs\\gcs\\audio-language-trainer-private-content\\collections\\LM1000\\french\\audio\\french_10_story_a_fishing_trip_resolution.m4a)\n",
      "  - french_10_story_a_fishing_trip_resolution_FAST.m4a (from ..\\outputs\\gcs\\audio-language-trainer-private-content\\collections\\LM1000\\french\\audio\\french_10_story_a_fishing_trip_resolution_FAST.m4a)\n",
      "\n",
      "Creating zip file in memory...\n"
     ]
    },
    {
     "name": "stderr",
     "output_type": "stream",
     "text": []
    },
    {
     "name": "stdout",
     "output_type": "stream",
     "text": [
      "Adding french_10_story_a_fishing_trip_introduction.m4a (236.4 KB)\n",
      "Adding french_10_story_a_fishing_trip_introduction_FAST.m4a (1225.7 KB)\n",
      "Adding french_10_story_a_fishing_trip_development.m4a (315.8 KB)\n",
      "Adding french_10_story_a_fishing_trip_development_FAST.m4a (1639.2 KB)\n",
      "Adding french_10_story_a_fishing_trip_resolution.m4a (318.2 KB)\n",
      "Adding french_10_story_a_fishing_trip_resolution_FAST.m4a (1636.9 KB)\n"
     ]
    },
    {
     "name": "stderr",
     "output_type": "stream",
     "text": [
      "Creating individual zips:  50%|█████     | 10/20 [00:03<00:03,  3.18it/s]"
     ]
    },
    {
     "name": "stdout",
     "output_type": "stream",
     "text": [
      "\n",
      "Zip file created in memory: 5.2 MB\n",
      "\n",
      "Writing zip file to local path: ..\\outputs\\gcs\\audio-language-trainer-private-content\\collections\\LM1000\\french\\audio\\french_lm1000_story_10_a-fishing-trip_audio.zip\n",
      "Local file written successfully: 5.2 MB\n",
      "\n",
      "Creating French LM1000 Story 11: Team Spirit Audio (6 files)\n",
      "Files to be included:\n",
      "  - french_11_story_team_spirit_introduction.m4a (from ..\\outputs\\gcs\\audio-language-trainer-private-content\\collections\\LM1000\\french\\audio\\french_11_story_team_spirit_introduction.m4a)\n",
      "  - french_11_story_team_spirit_introduction_FAST.m4a (from ..\\outputs\\gcs\\audio-language-trainer-private-content\\collections\\LM1000\\french\\audio\\french_11_story_team_spirit_introduction_FAST.m4a)\n",
      "  - french_11_story_team_spirit_development.m4a (from ..\\outputs\\gcs\\audio-language-trainer-private-content\\collections\\LM1000\\french\\audio\\french_11_story_team_spirit_development.m4a)\n",
      "  - french_11_story_team_spirit_development_FAST.m4a (from ..\\outputs\\gcs\\audio-language-trainer-private-content\\collections\\LM1000\\french\\audio\\french_11_story_team_spirit_development_FAST.m4a)\n",
      "  - french_11_story_team_spirit_resolution.m4a (from ..\\outputs\\gcs\\audio-language-trainer-private-content\\collections\\LM1000\\french\\audio\\french_11_story_team_spirit_resolution.m4a)\n",
      "  - french_11_story_team_spirit_resolution_FAST.m4a (from ..\\outputs\\gcs\\audio-language-trainer-private-content\\collections\\LM1000\\french\\audio\\french_11_story_team_spirit_resolution_FAST.m4a)\n",
      "\n",
      "Creating zip file in memory...\n"
     ]
    },
    {
     "name": "stderr",
     "output_type": "stream",
     "text": []
    },
    {
     "name": "stdout",
     "output_type": "stream",
     "text": [
      "Adding french_11_story_team_spirit_introduction.m4a (308.6 KB)\n",
      "Adding french_11_story_team_spirit_introduction_FAST.m4a (1604.8 KB)\n",
      "Adding french_11_story_team_spirit_development.m4a (349.6 KB)\n",
      "Adding french_11_story_team_spirit_development_FAST.m4a (1805.7 KB)\n"
     ]
    },
    {
     "name": "stderr",
     "output_type": "stream",
     "text": [
      "Creating individual zips:  55%|█████▌    | 11/20 [00:03<00:02,  3.28it/s]"
     ]
    },
    {
     "name": "stdout",
     "output_type": "stream",
     "text": [
      "Adding french_11_story_team_spirit_resolution.m4a (301.9 KB)\n",
      "Adding french_11_story_team_spirit_resolution_FAST.m4a (1563.0 KB)\n",
      "\n",
      "Zip file created in memory: 5.8 MB\n",
      "\n",
      "Writing zip file to local path: ..\\outputs\\gcs\\audio-language-trainer-private-content\\collections\\LM1000\\french\\audio\\french_lm1000_story_11_team-spirit_audio.zip\n",
      "Local file written successfully: 5.8 MB\n",
      "\n",
      "Creating French LM1000 Story 12: Brussels Blend Audio (6 files)\n",
      "Files to be included:\n",
      "  - french_12_story_brussels_blend_introduction.m4a (from ..\\outputs\\gcs\\audio-language-trainer-private-content\\collections\\LM1000\\french\\audio\\french_12_story_brussels_blend_introduction.m4a)\n",
      "  - french_12_story_brussels_blend_introduction_FAST.m4a (from ..\\outputs\\gcs\\audio-language-trainer-private-content\\collections\\LM1000\\french\\audio\\french_12_story_brussels_blend_introduction_FAST.m4a)\n",
      "  - french_12_story_brussels_blend_development.m4a (from ..\\outputs\\gcs\\audio-language-trainer-private-content\\collections\\LM1000\\french\\audio\\french_12_story_brussels_blend_development.m4a)\n",
      "  - french_12_story_brussels_blend_development_FAST.m4a (from ..\\outputs\\gcs\\audio-language-trainer-private-content\\collections\\LM1000\\french\\audio\\french_12_story_brussels_blend_development_FAST.m4a)\n",
      "  - french_12_story_brussels_blend_resolution.m4a (from ..\\outputs\\gcs\\audio-language-trainer-private-content\\collections\\LM1000\\french\\audio\\french_12_story_brussels_blend_resolution.m4a)\n",
      "  - french_12_story_brussels_blend_resolution_FAST.m4a (from ..\\outputs\\gcs\\audio-language-trainer-private-content\\collections\\LM1000\\french\\audio\\french_12_story_brussels_blend_resolution_FAST.m4a)\n",
      "\n",
      "Creating zip file in memory...\n"
     ]
    },
    {
     "name": "stderr",
     "output_type": "stream",
     "text": []
    },
    {
     "name": "stdout",
     "output_type": "stream",
     "text": [
      "Adding french_12_story_brussels_blend_introduction.m4a (225.5 KB)\n",
      "Adding french_12_story_brussels_blend_introduction_FAST.m4a (1157.7 KB)\n"
     ]
    },
    {
     "name": "stderr",
     "output_type": "stream",
     "text": []
    },
    {
     "name": "stdout",
     "output_type": "stream",
     "text": [
      "Adding french_12_story_brussels_blend_development.m4a (399.8 KB)\n",
      "Adding french_12_story_brussels_blend_development_FAST.m4a (2066.4 KB)\n"
     ]
    },
    {
     "name": "stderr",
     "output_type": "stream",
     "text": []
    },
    {
     "name": "stdout",
     "output_type": "stream",
     "text": [
      "Adding french_12_story_brussels_blend_resolution.m4a (284.2 KB)\n",
      "Adding french_12_story_brussels_blend_resolution_FAST.m4a (1470.8 KB)\n"
     ]
    },
    {
     "name": "stderr",
     "output_type": "stream",
     "text": [
      "Creating individual zips:  60%|██████    | 12/20 [00:04<00:02,  3.12it/s]"
     ]
    },
    {
     "name": "stdout",
     "output_type": "stream",
     "text": [
      "\n",
      "Zip file created in memory: 5.4 MB\n",
      "\n",
      "Writing zip file to local path: ..\\outputs\\gcs\\audio-language-trainer-private-content\\collections\\LM1000\\french\\audio\\french_lm1000_story_12_brussels-blend_audio.zip\n",
      "Local file written successfully: 5.4 MB\n",
      "\n",
      "Creating French LM1000 Story 13: Rainy Football Match Audio (6 files)\n",
      "Files to be included:\n",
      "  - french_13_story_rainy_football_match_introduction.m4a (from ..\\outputs\\gcs\\audio-language-trainer-private-content\\collections\\LM1000\\french\\audio\\french_13_story_rainy_football_match_introduction.m4a)\n",
      "  - french_13_story_rainy_football_match_introduction_FAST.m4a (from ..\\outputs\\gcs\\audio-language-trainer-private-content\\collections\\LM1000\\french\\audio\\french_13_story_rainy_football_match_introduction_FAST.m4a)\n",
      "  - french_13_story_rainy_football_match_development.m4a (from ..\\outputs\\gcs\\audio-language-trainer-private-content\\collections\\LM1000\\french\\audio\\french_13_story_rainy_football_match_development.m4a)\n",
      "  - french_13_story_rainy_football_match_development_FAST.m4a (from ..\\outputs\\gcs\\audio-language-trainer-private-content\\collections\\LM1000\\french\\audio\\french_13_story_rainy_football_match_development_FAST.m4a)\n",
      "  - french_13_story_rainy_football_match_resolution.m4a (from ..\\outputs\\gcs\\audio-language-trainer-private-content\\collections\\LM1000\\french\\audio\\french_13_story_rainy_football_match_resolution.m4a)\n",
      "  - french_13_story_rainy_football_match_resolution_FAST.m4a (from ..\\outputs\\gcs\\audio-language-trainer-private-content\\collections\\LM1000\\french\\audio\\french_13_story_rainy_football_match_resolution_FAST.m4a)\n",
      "\n",
      "Creating zip file in memory...\n"
     ]
    },
    {
     "name": "stderr",
     "output_type": "stream",
     "text": []
    },
    {
     "name": "stdout",
     "output_type": "stream",
     "text": [
      "Adding french_13_story_rainy_football_match_introduction.m4a (275.8 KB)\n",
      "Adding french_13_story_rainy_football_match_introduction_FAST.m4a (1440.8 KB)\n",
      "Adding french_13_story_rainy_football_match_development.m4a (305.3 KB)\n",
      "Adding french_13_story_rainy_football_match_development_FAST.m4a (1582.0 KB)\n"
     ]
    },
    {
     "name": "stderr",
     "output_type": "stream",
     "text": []
    },
    {
     "name": "stdout",
     "output_type": "stream",
     "text": [
      "Adding french_13_story_rainy_football_match_resolution.m4a (341.5 KB)\n",
      "Adding french_13_story_rainy_football_match_resolution_FAST.m4a (1765.6 KB)\n"
     ]
    },
    {
     "name": "stderr",
     "output_type": "stream",
     "text": [
      "Creating individual zips:  65%|██████▌   | 13/20 [00:04<00:02,  3.27it/s]"
     ]
    },
    {
     "name": "stdout",
     "output_type": "stream",
     "text": [
      "\n",
      "Zip file created in memory: 5.5 MB\n",
      "\n",
      "Writing zip file to local path: ..\\outputs\\gcs\\audio-language-trainer-private-content\\collections\\LM1000\\french\\audio\\french_lm1000_story_13_rainy-football-match_audio.zip\n",
      "Local file written successfully: 5.5 MB\n",
      "\n",
      "Creating French LM1000 Story 14: Camping Trip Gone Awry Audio (6 files)\n",
      "Files to be included:\n",
      "  - french_14_story_camping_trip_gone_awry_introduction.m4a (from ..\\outputs\\gcs\\audio-language-trainer-private-content\\collections\\LM1000\\french\\audio\\french_14_story_camping_trip_gone_awry_introduction.m4a)\n",
      "  - french_14_story_camping_trip_gone_awry_introduction_FAST.m4a (from ..\\outputs\\gcs\\audio-language-trainer-private-content\\collections\\LM1000\\french\\audio\\french_14_story_camping_trip_gone_awry_introduction_FAST.m4a)\n",
      "  - french_14_story_camping_trip_gone_awry_development.m4a (from ..\\outputs\\gcs\\audio-language-trainer-private-content\\collections\\LM1000\\french\\audio\\french_14_story_camping_trip_gone_awry_development.m4a)\n",
      "  - french_14_story_camping_trip_gone_awry_development_FAST.m4a (from ..\\outputs\\gcs\\audio-language-trainer-private-content\\collections\\LM1000\\french\\audio\\french_14_story_camping_trip_gone_awry_development_FAST.m4a)\n",
      "  - french_14_story_camping_trip_gone_awry_resolution.m4a (from ..\\outputs\\gcs\\audio-language-trainer-private-content\\collections\\LM1000\\french\\audio\\french_14_story_camping_trip_gone_awry_resolution.m4a)\n",
      "  - french_14_story_camping_trip_gone_awry_resolution_FAST.m4a (from ..\\outputs\\gcs\\audio-language-trainer-private-content\\collections\\LM1000\\french\\audio\\french_14_story_camping_trip_gone_awry_resolution_FAST.m4a)\n",
      "\n",
      "Creating zip file in memory...\n"
     ]
    },
    {
     "name": "stderr",
     "output_type": "stream",
     "text": []
    },
    {
     "name": "stdout",
     "output_type": "stream",
     "text": [
      "Adding french_14_story_camping_trip_gone_awry_introduction.m4a (286.0 KB)\n",
      "Adding french_14_story_camping_trip_gone_awry_introduction_FAST.m4a (1475.7 KB)\n"
     ]
    },
    {
     "name": "stderr",
     "output_type": "stream",
     "text": []
    },
    {
     "name": "stdout",
     "output_type": "stream",
     "text": [
      "Adding french_14_story_camping_trip_gone_awry_development.m4a (313.3 KB)\n",
      "Adding french_14_story_camping_trip_gone_awry_development_FAST.m4a (1616.6 KB)\n"
     ]
    },
    {
     "name": "stderr",
     "output_type": "stream",
     "text": []
    },
    {
     "name": "stdout",
     "output_type": "stream",
     "text": [
      "Adding french_14_story_camping_trip_gone_awry_resolution.m4a (308.1 KB)\n",
      "Adding french_14_story_camping_trip_gone_awry_resolution_FAST.m4a (1585.9 KB)\n"
     ]
    },
    {
     "name": "stderr",
     "output_type": "stream",
     "text": [
      "Creating individual zips:  70%|███████   | 14/20 [00:04<00:01,  3.08it/s]"
     ]
    },
    {
     "name": "stdout",
     "output_type": "stream",
     "text": [
      "\n",
      "Zip file created in memory: 5.4 MB\n",
      "\n",
      "Writing zip file to local path: ..\\outputs\\gcs\\audio-language-trainer-private-content\\collections\\LM1000\\french\\audio\\french_lm1000_story_14_camping-trip-gone-awry_audio.zip\n",
      "Local file written successfully: 5.4 MB\n",
      "\n",
      "Creating French LM1000 Story 15: Unexpected Career Change Audio (6 files)\n",
      "Files to be included:\n",
      "  - french_15_story_unexpected_career_change_introduction.m4a (from ..\\outputs\\gcs\\audio-language-trainer-private-content\\collections\\LM1000\\french\\audio\\french_15_story_unexpected_career_change_introduction.m4a)\n",
      "  - french_15_story_unexpected_career_change_introduction_FAST.m4a (from ..\\outputs\\gcs\\audio-language-trainer-private-content\\collections\\LM1000\\french\\audio\\french_15_story_unexpected_career_change_introduction_FAST.m4a)\n",
      "  - french_15_story_unexpected_career_change_development.m4a (from ..\\outputs\\gcs\\audio-language-trainer-private-content\\collections\\LM1000\\french\\audio\\french_15_story_unexpected_career_change_development.m4a)\n",
      "  - french_15_story_unexpected_career_change_development_FAST.m4a (from ..\\outputs\\gcs\\audio-language-trainer-private-content\\collections\\LM1000\\french\\audio\\french_15_story_unexpected_career_change_development_FAST.m4a)\n",
      "  - french_15_story_unexpected_career_change_resolution.m4a (from ..\\outputs\\gcs\\audio-language-trainer-private-content\\collections\\LM1000\\french\\audio\\french_15_story_unexpected_career_change_resolution.m4a)\n",
      "  - french_15_story_unexpected_career_change_resolution_FAST.m4a (from ..\\outputs\\gcs\\audio-language-trainer-private-content\\collections\\LM1000\\french\\audio\\french_15_story_unexpected_career_change_resolution_FAST.m4a)\n",
      "\n",
      "Creating zip file in memory...\n"
     ]
    },
    {
     "name": "stderr",
     "output_type": "stream",
     "text": [
      "\n"
     ]
    },
    {
     "name": "stdout",
     "output_type": "stream",
     "text": [
      "Adding french_15_story_unexpected_career_change_introduction.m4a (335.5 KB)\n"
     ]
    },
    {
     "name": "stderr",
     "output_type": "stream",
     "text": [
      "Adding files:  17%|█▋        | 1/6 [00:00<00:00, 10.00it/s]\u001b[A"
     ]
    },
    {
     "name": "stdout",
     "output_type": "stream",
     "text": [
      "Adding french_15_story_unexpected_career_change_introduction_FAST.m4a (1728.5 KB)\n"
     ]
    },
    {
     "name": "stderr",
     "output_type": "stream",
     "text": []
    },
    {
     "name": "stdout",
     "output_type": "stream",
     "text": [
      "Adding french_15_story_unexpected_career_change_development.m4a (350.6 KB)\n",
      "Adding french_15_story_unexpected_career_change_development_FAST.m4a (1810.7 KB)\n"
     ]
    },
    {
     "name": "stderr",
     "output_type": "stream",
     "text": []
    },
    {
     "name": "stdout",
     "output_type": "stream",
     "text": [
      "Adding french_15_story_unexpected_career_change_resolution.m4a (355.8 KB)\n",
      "Adding french_15_story_unexpected_career_change_resolution_FAST.m4a (1837.0 KB)\n"
     ]
    },
    {
     "name": "stderr",
     "output_type": "stream",
     "text": [
      "Creating individual zips:  75%|███████▌  | 15/20 [00:05<00:01,  2.65it/s]"
     ]
    },
    {
     "name": "stdout",
     "output_type": "stream",
     "text": [
      "\n",
      "Zip file created in memory: 6.2 MB\n",
      "\n",
      "Writing zip file to local path: ..\\outputs\\gcs\\audio-language-trainer-private-content\\collections\\LM1000\\french\\audio\\french_lm1000_story_15_unexpected-career-change_audio.zip\n",
      "Local file written successfully: 6.2 MB\n",
      "\n",
      "Creating French LM1000 Story 16: A Missed Stop Audio (6 files)\n",
      "Files to be included:\n",
      "  - french_16_story_a_missed_stop_introduction.m4a (from ..\\outputs\\gcs\\audio-language-trainer-private-content\\collections\\LM1000\\french\\audio\\french_16_story_a_missed_stop_introduction.m4a)\n",
      "  - french_16_story_a_missed_stop_introduction_FAST.m4a (from ..\\outputs\\gcs\\audio-language-trainer-private-content\\collections\\LM1000\\french\\audio\\french_16_story_a_missed_stop_introduction_FAST.m4a)\n",
      "  - french_16_story_a_missed_stop_development.m4a (from ..\\outputs\\gcs\\audio-language-trainer-private-content\\collections\\LM1000\\french\\audio\\french_16_story_a_missed_stop_development.m4a)\n",
      "  - french_16_story_a_missed_stop_development_FAST.m4a (from ..\\outputs\\gcs\\audio-language-trainer-private-content\\collections\\LM1000\\french\\audio\\french_16_story_a_missed_stop_development_FAST.m4a)\n",
      "  - french_16_story_a_missed_stop_resolution.m4a (from ..\\outputs\\gcs\\audio-language-trainer-private-content\\collections\\LM1000\\french\\audio\\french_16_story_a_missed_stop_resolution.m4a)\n",
      "  - french_16_story_a_missed_stop_resolution_FAST.m4a (from ..\\outputs\\gcs\\audio-language-trainer-private-content\\collections\\LM1000\\french\\audio\\french_16_story_a_missed_stop_resolution_FAST.m4a)\n",
      "\n",
      "Creating zip file in memory...\n"
     ]
    },
    {
     "name": "stderr",
     "output_type": "stream",
     "text": []
    },
    {
     "name": "stdout",
     "output_type": "stream",
     "text": [
      "Adding french_16_story_a_missed_stop_introduction.m4a (264.3 KB)\n",
      "Adding french_16_story_a_missed_stop_introduction_FAST.m4a (1361.4 KB)\n",
      "Adding french_16_story_a_missed_stop_development.m4a (357.2 KB)\n"
     ]
    },
    {
     "name": "stderr",
     "output_type": "stream",
     "text": []
    },
    {
     "name": "stdout",
     "output_type": "stream",
     "text": [
      "Adding french_16_story_a_missed_stop_development_FAST.m4a (1879.4 KB)\n",
      "Adding french_16_story_a_missed_stop_resolution.m4a (410.6 KB)\n",
      "Adding french_16_story_a_missed_stop_resolution_FAST.m4a (2133.1 KB)\n"
     ]
    },
    {
     "name": "stderr",
     "output_type": "stream",
     "text": []
    },
    {
     "name": "stdout",
     "output_type": "stream",
     "text": [
      "\n",
      "Zip file created in memory: 6.2 MB\n",
      "\n",
      "Writing zip file to local path: ..\\outputs\\gcs\\audio-language-trainer-private-content\\collections\\LM1000\\french\\audio\\french_lm1000_story_16_a-missed-stop_audio.zip\n",
      "Local file written successfully: 6.2 MB\n"
     ]
    },
    {
     "name": "stderr",
     "output_type": "stream",
     "text": [
      "Creating individual zips:  80%|████████  | 16/20 [00:05<00:01,  2.41it/s]"
     ]
    },
    {
     "name": "stdout",
     "output_type": "stream",
     "text": [
      "\n",
      "Creating French LM1000 Story 17: Road Trip Audio (6 files)\n",
      "Files to be included:\n",
      "  - french_17_story_road_trip_introduction.m4a (from ..\\outputs\\gcs\\audio-language-trainer-private-content\\collections\\LM1000\\french\\audio\\french_17_story_road_trip_introduction.m4a)\n",
      "  - french_17_story_road_trip_introduction_FAST.m4a (from ..\\outputs\\gcs\\audio-language-trainer-private-content\\collections\\LM1000\\french\\audio\\french_17_story_road_trip_introduction_FAST.m4a)\n",
      "  - french_17_story_road_trip_development.m4a (from ..\\outputs\\gcs\\audio-language-trainer-private-content\\collections\\LM1000\\french\\audio\\french_17_story_road_trip_development.m4a)\n",
      "  - french_17_story_road_trip_development_FAST.m4a (from ..\\outputs\\gcs\\audio-language-trainer-private-content\\collections\\LM1000\\french\\audio\\french_17_story_road_trip_development_FAST.m4a)\n",
      "  - french_17_story_road_trip_resolution.m4a (from ..\\outputs\\gcs\\audio-language-trainer-private-content\\collections\\LM1000\\french\\audio\\french_17_story_road_trip_resolution.m4a)\n",
      "  - french_17_story_road_trip_resolution_FAST.m4a (from ..\\outputs\\gcs\\audio-language-trainer-private-content\\collections\\LM1000\\french\\audio\\french_17_story_road_trip_resolution_FAST.m4a)\n",
      "\n",
      "Creating zip file in memory...\n"
     ]
    },
    {
     "name": "stderr",
     "output_type": "stream",
     "text": []
    },
    {
     "name": "stdout",
     "output_type": "stream",
     "text": [
      "Adding french_17_story_road_trip_introduction.m4a (309.3 KB)\n",
      "Adding french_17_story_road_trip_introduction_FAST.m4a (1594.2 KB)\n",
      "Adding french_17_story_road_trip_development.m4a (292.5 KB)\n",
      "Adding french_17_story_road_trip_development_FAST.m4a (1504.9 KB)\n",
      "Adding french_17_story_road_trip_resolution.m4a (354.3 KB)\n"
     ]
    },
    {
     "name": "stderr",
     "output_type": "stream",
     "text": [
      "Creating individual zips:  85%|████████▌ | 17/20 [00:05<00:01,  2.62it/s]"
     ]
    },
    {
     "name": "stdout",
     "output_type": "stream",
     "text": [
      "Adding french_17_story_road_trip_resolution_FAST.m4a (1815.0 KB)\n",
      "\n",
      "Zip file created in memory: 5.7 MB\n",
      "\n",
      "Writing zip file to local path: ..\\outputs\\gcs\\audio-language-trainer-private-content\\collections\\LM1000\\french\\audio\\french_lm1000_story_17_road-trip_audio.zip\n",
      "Local file written successfully: 5.7 MB\n",
      "\n",
      "Creating French LM1000 Story 18: Forgetful Diver Audio (6 files)\n",
      "Files to be included:\n",
      "  - french_18_story_forgetful_diver_introduction.m4a (from ..\\outputs\\gcs\\audio-language-trainer-private-content\\collections\\LM1000\\french\\audio\\french_18_story_forgetful_diver_introduction.m4a)\n",
      "  - french_18_story_forgetful_diver_introduction_FAST.m4a (from ..\\outputs\\gcs\\audio-language-trainer-private-content\\collections\\LM1000\\french\\audio\\french_18_story_forgetful_diver_introduction_FAST.m4a)\n",
      "  - french_18_story_forgetful_diver_development.m4a (from ..\\outputs\\gcs\\audio-language-trainer-private-content\\collections\\LM1000\\french\\audio\\french_18_story_forgetful_diver_development.m4a)\n",
      "  - french_18_story_forgetful_diver_development_FAST.m4a (from ..\\outputs\\gcs\\audio-language-trainer-private-content\\collections\\LM1000\\french\\audio\\french_18_story_forgetful_diver_development_FAST.m4a)\n",
      "  - french_18_story_forgetful_diver_resolution.m4a (from ..\\outputs\\gcs\\audio-language-trainer-private-content\\collections\\LM1000\\french\\audio\\french_18_story_forgetful_diver_resolution.m4a)\n",
      "  - french_18_story_forgetful_diver_resolution_FAST.m4a (from ..\\outputs\\gcs\\audio-language-trainer-private-content\\collections\\LM1000\\french\\audio\\french_18_story_forgetful_diver_resolution_FAST.m4a)\n",
      "\n",
      "Creating zip file in memory...\n"
     ]
    },
    {
     "name": "stderr",
     "output_type": "stream",
     "text": []
    },
    {
     "name": "stdout",
     "output_type": "stream",
     "text": [
      "Adding french_18_story_forgetful_diver_introduction.m4a (307.8 KB)\n",
      "Adding french_18_story_forgetful_diver_introduction_FAST.m4a (1571.9 KB)\n",
      "Adding french_18_story_forgetful_diver_development.m4a (342.1 KB)\n"
     ]
    },
    {
     "name": "stderr",
     "output_type": "stream",
     "text": []
    },
    {
     "name": "stdout",
     "output_type": "stream",
     "text": [
      "Adding french_18_story_forgetful_diver_development_FAST.m4a (1735.5 KB)\n"
     ]
    },
    {
     "name": "stderr",
     "output_type": "stream",
     "text": [
      "\n"
     ]
    },
    {
     "name": "stdout",
     "output_type": "stream",
     "text": [
      "Adding french_18_story_forgetful_diver_resolution.m4a (334.8 KB)\n",
      "Adding french_18_story_forgetful_diver_resolution_FAST.m4a (1707.8 KB)\n"
     ]
    },
    {
     "name": "stderr",
     "output_type": "stream",
     "text": [
      "Creating individual zips:  90%|█████████ | 18/20 [00:06<00:00,  2.72it/s]"
     ]
    },
    {
     "name": "stdout",
     "output_type": "stream",
     "text": [
      "\n",
      "Zip file created in memory: 5.8 MB\n",
      "\n",
      "Writing zip file to local path: ..\\outputs\\gcs\\audio-language-trainer-private-content\\collections\\LM1000\\french\\audio\\french_lm1000_story_18_forgetful-diver_audio.zip\n",
      "Local file written successfully: 5.8 MB\n",
      "\n",
      "Creating French LM1000 Story 19: The Birthday Party Audio (6 files)\n",
      "Files to be included:\n",
      "  - french_19_story_the_birthday_party_introduction.m4a (from ..\\outputs\\gcs\\audio-language-trainer-private-content\\collections\\LM1000\\french\\audio\\french_19_story_the_birthday_party_introduction.m4a)\n",
      "  - french_19_story_the_birthday_party_introduction_FAST.m4a (from ..\\outputs\\gcs\\audio-language-trainer-private-content\\collections\\LM1000\\french\\audio\\french_19_story_the_birthday_party_introduction_FAST.m4a)\n",
      "  - french_19_story_the_birthday_party_development.m4a (from ..\\outputs\\gcs\\audio-language-trainer-private-content\\collections\\LM1000\\french\\audio\\french_19_story_the_birthday_party_development.m4a)\n",
      "  - french_19_story_the_birthday_party_development_FAST.m4a (from ..\\outputs\\gcs\\audio-language-trainer-private-content\\collections\\LM1000\\french\\audio\\french_19_story_the_birthday_party_development_FAST.m4a)\n",
      "  - french_19_story_the_birthday_party_resolution.m4a (from ..\\outputs\\gcs\\audio-language-trainer-private-content\\collections\\LM1000\\french\\audio\\french_19_story_the_birthday_party_resolution.m4a)\n",
      "  - french_19_story_the_birthday_party_resolution_FAST.m4a (from ..\\outputs\\gcs\\audio-language-trainer-private-content\\collections\\LM1000\\french\\audio\\french_19_story_the_birthday_party_resolution_FAST.m4a)\n",
      "\n",
      "Creating zip file in memory...\n"
     ]
    },
    {
     "name": "stderr",
     "output_type": "stream",
     "text": []
    },
    {
     "name": "stdout",
     "output_type": "stream",
     "text": [
      "Adding french_19_story_the_birthday_party_introduction.m4a (315.0 KB)\n",
      "Adding french_19_story_the_birthday_party_introduction_FAST.m4a (1627.4 KB)\n"
     ]
    },
    {
     "name": "stderr",
     "output_type": "stream",
     "text": []
    },
    {
     "name": "stdout",
     "output_type": "stream",
     "text": [
      "Adding french_19_story_the_birthday_party_development.m4a (366.7 KB)\n",
      "Adding french_19_story_the_birthday_party_development_FAST.m4a (1884.0 KB)\n",
      "Adding french_19_story_the_birthday_party_resolution.m4a (388.9 KB)\n",
      "Adding french_19_story_the_birthday_party_resolution_FAST.m4a (1999.2 KB)\n"
     ]
    },
    {
     "name": "stderr",
     "output_type": "stream",
     "text": [
      "Creating individual zips:  95%|█████████▌| 19/20 [00:06<00:00,  2.53it/s]"
     ]
    },
    {
     "name": "stdout",
     "output_type": "stream",
     "text": [
      "\n",
      "Zip file created in memory: 6.4 MB\n",
      "\n",
      "Writing zip file to local path: ..\\outputs\\gcs\\audio-language-trainer-private-content\\collections\\LM1000\\french\\audio\\french_lm1000_story_19_the-birthday-party_audio.zip\n",
      "Local file written successfully: 6.4 MB\n",
      "\n",
      "Creating French LM1000 Story 20: The Power Cut Audio (6 files)\n",
      "Files to be included:\n",
      "  - french_20_story_the_power_cut_introduction.m4a (from ..\\outputs\\gcs\\audio-language-trainer-private-content\\collections\\LM1000\\french\\audio\\french_20_story_the_power_cut_introduction.m4a)\n",
      "  - french_20_story_the_power_cut_introduction_FAST.m4a (from ..\\outputs\\gcs\\audio-language-trainer-private-content\\collections\\LM1000\\french\\audio\\french_20_story_the_power_cut_introduction_FAST.m4a)\n",
      "  - french_20_story_the_power_cut_development.m4a (from ..\\outputs\\gcs\\audio-language-trainer-private-content\\collections\\LM1000\\french\\audio\\french_20_story_the_power_cut_development.m4a)\n",
      "  - french_20_story_the_power_cut_development_FAST.m4a (from ..\\outputs\\gcs\\audio-language-trainer-private-content\\collections\\LM1000\\french\\audio\\french_20_story_the_power_cut_development_FAST.m4a)\n",
      "  - french_20_story_the_power_cut_resolution.m4a (from ..\\outputs\\gcs\\audio-language-trainer-private-content\\collections\\LM1000\\french\\audio\\french_20_story_the_power_cut_resolution.m4a)\n",
      "  - french_20_story_the_power_cut_resolution_FAST.m4a (from ..\\outputs\\gcs\\audio-language-trainer-private-content\\collections\\LM1000\\french\\audio\\french_20_story_the_power_cut_resolution_FAST.m4a)\n",
      "\n",
      "Creating zip file in memory...\n"
     ]
    },
    {
     "name": "stderr",
     "output_type": "stream",
     "text": []
    },
    {
     "name": "stdout",
     "output_type": "stream",
     "text": [
      "Adding french_20_story_the_power_cut_introduction.m4a (279.3 KB)\n",
      "Adding french_20_story_the_power_cut_introduction_FAST.m4a (1445.4 KB)\n",
      "Adding french_20_story_the_power_cut_development.m4a (327.5 KB)\n",
      "Adding french_20_story_the_power_cut_development_FAST.m4a (1679.0 KB)\n"
     ]
    },
    {
     "name": "stderr",
     "output_type": "stream",
     "text": [
      "Creating individual zips: 100%|██████████| 20/20 [00:07<00:00,  2.81it/s]"
     ]
    },
    {
     "name": "stdout",
     "output_type": "stream",
     "text": [
      "Adding french_20_story_the_power_cut_resolution.m4a (334.8 KB)\n",
      "Adding french_20_story_the_power_cut_resolution_FAST.m4a (1705.8 KB)\n",
      "\n",
      "Zip file created in memory: 5.6 MB\n",
      "\n",
      "Writing zip file to local path: ..\\outputs\\gcs\\audio-language-trainer-private-content\\collections\\LM1000\\french\\audio\\french_lm1000_story_20_the-power-cut_audio.zip\n",
      "Local file written successfully: 5.6 MB\n",
      "\n",
      "🎉 Created 22 zip files successfully!\n",
      "Zip files saved to: ..\\outputs\\gcs\\audio-language-trainer-private-content\\collections\\LM1000\\french\\audio\n"
     ]
    },
    {
     "name": "stderr",
     "output_type": "stream",
     "text": [
      "\n"
     ]
    },
    {
     "data": {
      "text/plain": [
       "{'complete': '..\\\\outputs\\\\gcs\\\\audio-language-trainer-private-content\\\\collections\\\\LM1000\\\\french\\\\audio\\\\french_lm1000_complete_audio_collection.zip',\n",
       " 'bundle_03_04': '..\\\\outputs\\\\gcs\\\\audio-language-trainer-private-content\\\\collections\\\\LM1000\\\\french\\\\audio\\\\french_lm1000_bundle_03_04_audio.zip',\n",
       " 'individual_story_sunset_wedding_blues': '..\\\\outputs\\\\gcs\\\\audio-language-trainer-private-content\\\\collections\\\\LM1000\\\\french\\\\audio\\\\french_lm1000_story_01_sunset-wedding-blues_audio.zip',\n",
       " 'individual_story_better_than_a_movie': '..\\\\outputs\\\\gcs\\\\audio-language-trainer-private-content\\\\collections\\\\LM1000\\\\french\\\\audio\\\\french_lm1000_story_02_better-than-a-movie_audio.zip',\n",
       " 'individual_story_unexpected_wedding_guests': '..\\\\outputs\\\\gcs\\\\audio-language-trainer-private-content\\\\collections\\\\LM1000\\\\french\\\\audio\\\\french_lm1000_story_03_unexpected-wedding-guests_audio.zip',\n",
       " 'individual_story_midnight_garden_mystery': '..\\\\outputs\\\\gcs\\\\audio-language-trainer-private-content\\\\collections\\\\LM1000\\\\french\\\\audio\\\\french_lm1000_story_04_midnight-garden-mystery_audio.zip',\n",
       " 'individual_story_workplace_stress_vacation': '..\\\\outputs\\\\gcs\\\\audio-language-trainer-private-content\\\\collections\\\\LM1000\\\\french\\\\audio\\\\french_lm1000_story_05_workplace-stress-vacation_audio.zip',\n",
       " 'individual_story_the_marathon': '..\\\\outputs\\\\gcs\\\\audio-language-trainer-private-content\\\\collections\\\\LM1000\\\\french\\\\audio\\\\french_lm1000_story_06_the-marathon_audio.zip',\n",
       " 'individual_story_teaching_music': '..\\\\outputs\\\\gcs\\\\audio-language-trainer-private-content\\\\collections\\\\LM1000\\\\french\\\\audio\\\\french_lm1000_story_07_teaching-music_audio.zip',\n",
       " 'individual_story_job_interview_gone_wrong': '..\\\\outputs\\\\gcs\\\\audio-language-trainer-private-content\\\\collections\\\\LM1000\\\\french\\\\audio\\\\french_lm1000_story_08_job-interview-gone-wrong_audio.zip',\n",
       " 'individual_story_winter_in_sweden': '..\\\\outputs\\\\gcs\\\\audio-language-trainer-private-content\\\\collections\\\\LM1000\\\\french\\\\audio\\\\french_lm1000_story_09_winter-in-sweden_audio.zip',\n",
       " 'individual_story_a_fishing_trip': '..\\\\outputs\\\\gcs\\\\audio-language-trainer-private-content\\\\collections\\\\LM1000\\\\french\\\\audio\\\\french_lm1000_story_10_a-fishing-trip_audio.zip',\n",
       " 'individual_story_team_spirit': '..\\\\outputs\\\\gcs\\\\audio-language-trainer-private-content\\\\collections\\\\LM1000\\\\french\\\\audio\\\\french_lm1000_story_11_team-spirit_audio.zip',\n",
       " 'individual_story_brussels_blend': '..\\\\outputs\\\\gcs\\\\audio-language-trainer-private-content\\\\collections\\\\LM1000\\\\french\\\\audio\\\\french_lm1000_story_12_brussels-blend_audio.zip',\n",
       " 'individual_story_rainy_football_match': '..\\\\outputs\\\\gcs\\\\audio-language-trainer-private-content\\\\collections\\\\LM1000\\\\french\\\\audio\\\\french_lm1000_story_13_rainy-football-match_audio.zip',\n",
       " 'individual_story_camping_trip_gone_awry': '..\\\\outputs\\\\gcs\\\\audio-language-trainer-private-content\\\\collections\\\\LM1000\\\\french\\\\audio\\\\french_lm1000_story_14_camping-trip-gone-awry_audio.zip',\n",
       " 'individual_story_unexpected_career_change': '..\\\\outputs\\\\gcs\\\\audio-language-trainer-private-content\\\\collections\\\\LM1000\\\\french\\\\audio\\\\french_lm1000_story_15_unexpected-career-change_audio.zip',\n",
       " 'individual_story_a_missed_stop': '..\\\\outputs\\\\gcs\\\\audio-language-trainer-private-content\\\\collections\\\\LM1000\\\\french\\\\audio\\\\french_lm1000_story_16_a-missed-stop_audio.zip',\n",
       " 'individual_story_road_trip': '..\\\\outputs\\\\gcs\\\\audio-language-trainer-private-content\\\\collections\\\\LM1000\\\\french\\\\audio\\\\french_lm1000_story_17_road-trip_audio.zip',\n",
       " 'individual_story_forgetful_diver': '..\\\\outputs\\\\gcs\\\\audio-language-trainer-private-content\\\\collections\\\\LM1000\\\\french\\\\audio\\\\french_lm1000_story_18_forgetful-diver_audio.zip',\n",
       " 'individual_story_the_birthday_party': '..\\\\outputs\\\\gcs\\\\audio-language-trainer-private-content\\\\collections\\\\LM1000\\\\french\\\\audio\\\\french_lm1000_story_19_the-birthday-party_audio.zip',\n",
       " 'individual_story_the_power_cut': '..\\\\outputs\\\\gcs\\\\audio-language-trainer-private-content\\\\collections\\\\LM1000\\\\french\\\\audio\\\\french_lm1000_story_20_the-power-cut_audio.zip'}"
      ]
     },
     "execution_count": 13,
     "metadata": {},
     "output_type": "execute_result"
    }
   ],
   "source": [
    "create_m4a_zip_collections(bundle_config=BUNDLE_CONFIG,collection=\"LM1000\")"
   ]
  },
  {
   "cell_type": "code",
   "execution_count": null,
   "metadata": {},
   "outputs": [],
   "source": [
    "# Default configuration (stories 1-8, 9-14, 15-20)\n",
    "print(\"=== Generating Product Images ===\")\n",
    "generated_images = generate_product_images(bundle_config=BUNDLE_CONFIG,\n",
    "    collection=\"LM1000\", generate_individual=False\n",
    ")\n",
    "\n",
    "print(\"\\nGenerated images:\")\n",
    "for product_type, uri in generated_images.items():\n",
    "    print(f\"  {product_type}: {uri}\")\n"
   ]
  },
  {
   "cell_type": "code",
   "execution_count": null,
   "metadata": {},
   "outputs": [],
   "source": [
    "\n",
    "# 2. Generate the Shopify CSV with default settings\n",
    "print(\"\\n=== Generating Shopify CSV ===\")\n",
    "\n",
    "csv_path = generate_shopify_csv(\n",
    "    bundle_config=BUNDLE_CONFIG,\n",
    "    prices=PRICES,\n",
    "    collection=\"LM1000\",\n",
    "    free_individual_count=2\n",
    ")\n",
    "\n",
    "print(f\"CSV generated at: {csv_path}\")\n",
    "\n"
   ]
  },
  {
   "cell_type": "code",
   "execution_count": null,
   "metadata": {},
   "outputs": [],
   "source": []
  }
 ],
 "metadata": {
  "kernelspec": {
   "display_name": ".venv",
   "language": "python",
   "name": "python3"
  },
  "language_info": {
   "codemirror_mode": {
    "name": "ipython",
    "version": 3
   },
   "file_extension": ".py",
   "mimetype": "text/x-python",
   "name": "python",
   "nbconvert_exporter": "python",
   "pygments_lexer": "ipython3",
   "version": "3.11.4"
  }
 },
 "nbformat": 4,
 "nbformat_minor": 2
}
