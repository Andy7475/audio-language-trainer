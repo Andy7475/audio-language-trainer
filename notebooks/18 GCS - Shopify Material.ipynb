{
 "cells": [
  {
   "cell_type": "code",
   "execution_count": 1,
   "metadata": {},
   "outputs": [],
   "source": [
    "%load_ext autoreload\n",
    "from google.auth import default\n",
    "credentials, project = default()"
   ]
  },
  {
   "cell_type": "code",
   "execution_count": null,
   "metadata": {},
   "outputs": [],
   "source": [
    "\n",
    "%autoreload 2\n",
    "import os\n",
    "import sys\n",
    "module_path = os.path.abspath(os.path.join('..'))\n",
    "if module_path not in sys.path:\n",
    "    sys.path.append(module_path)\n",
    "\n",
    "from src.config_loader import config\n",
    "from src.shop import generate_product_images, generate_shopify_csv\n",
    "from src.zip import create_m4a_zip_collections\n",
    "print(config.TARGET_LANGUAGE_NAME)\n",
    "COLLECTION=\"LM1000\"\n"
   ]
  },
  {
   "cell_type": "code",
   "execution_count": 21,
   "metadata": {},
   "outputs": [],
   "source": [
    "\n",
    "PRODUCT_CONFIG = {\n",
    "    \"individual\": {\n",
    "        \"price\": 2.99,\n",
    "        \"template\": \"shop/individual_pack_template.html\",\n",
    "        \"indices\": list(range(1, 2)),  # or your desired range\n",
    "    },\n",
    "    \"bundle\": {\n",
    "        \"price\": 5.99,\n",
    "        \"template\": \"shop/bundle_pack_template.html\",\n",
    "        \"ranges\": [[2, 3]],\n",
    "    },\n",
    "    \"complete\": {\n",
    "        \"price\": 19.99,\n",
    "        \"template\": \"shop/complete_pack_template.html\",\n",
    "    }\n",
    "}"
   ]
  },
  {
   "cell_type": "code",
   "execution_count": null,
   "metadata": {},
   "outputs": [],
   "source": [
    "zips = create_m4a_zip_collections(\n",
    "    product_config=PRODUCT_CONFIG,\n",
    "    collection=COLLECTION,\n",
    "    bucket_name=config.GCS_PRIVATE_BUCKET,\n",
    "    output_base_dir=\"../outputs/gcs\",\n",
    "    use_local_files=True\n",
    ")"
   ]
  },
  {
   "cell_type": "code",
   "execution_count": 29,
   "metadata": {},
   "outputs": [
    {
     "name": "stdout",
     "output_type": "stream",
     "text": [
      "=== Generating Product Images ===\n",
      "Generating product images for LM1000 in German\n",
      "Found 20 stories total\n",
      "\n",
      "=== Generating Template Types Image ===\n"
     ]
    },
    {
     "name": "stderr",
     "output_type": "stream",
     "text": [
      "Building phrase dictionary: 100%|██████████| 1/1 [00:00<00:00,  3.79it/s]\n"
     ]
    },
    {
     "name": "stdout",
     "output_type": "stream",
     "text": [
      "Exported normal audio to ../outputs/temp\\temp_template_types_dont_worry_the_alarm_will_sound_if_theres_danger\\normal_dont_worry_the_alarm_will_sound_if_theres_danger.mp3\n",
      "Exported slow audio to ../outputs/temp\\temp_template_types_dont_worry_the_alarm_will_sound_if_theres_danger\\slow_dont_worry_the_alarm_will_sound_if_theres_danger.mp3\n",
      "Exported image to ../outputs/temp\\temp_template_types_dont_worry_the_alarm_will_sound_if_theres_danger\\dont_worry_the_alarm_will_sound_if_theres_danger.png\n",
      "Generated test HTML files in '../outputs/temp\\temp_template_types_dont_worry_the_alarm_will_sound_if_theres_danger' directory\n",
      "Open '../outputs/temp\\temp_template_types_dont_worry_the_alarm_will_sound_if_theres_danger\\index.html' to navigate between the templates\n",
      "✅ Template types image: gs://audio-language-trainer-private-content/collections/LM1000/german/marketing/german_LM1000_template_types.png\n",
      "\n",
      "=== Generating Complete Pack Spread Deck Image ===\n"
     ]
    },
    {
     "name": "stderr",
     "output_type": "stream",
     "text": [
      "Building phrase dictionary: 100%|██████████| 1/1 [00:00<00:00,  2.53it/s]\n"
     ]
    },
    {
     "name": "stdout",
     "output_type": "stream",
     "text": [
      "Exported normal audio to ../outputs/temp\\german\\temp_did_she_forget_to_pay_for_the_service\\normal_did_she_forget_to_pay_for_the_service.mp3\n",
      "Exported slow audio to ../outputs/temp\\german\\temp_did_she_forget_to_pay_for_the_service\\slow_did_she_forget_to_pay_for_the_service.mp3\n",
      "Exported image to ../outputs/temp\\german\\temp_did_she_forget_to_pay_for_the_service\\did_she_forget_to_pay_for_the_service.png\n",
      "Generated test HTML files in '../outputs/temp\\german\\temp_did_she_forget_to_pay_for_the_service' directory\n",
      "Open '../outputs/temp\\german\\temp_did_she_forget_to_pay_for_the_service\\index.html' to navigate between the templates\n"
     ]
    },
    {
     "name": "stderr",
     "output_type": "stream",
     "text": [
      "Building phrase dictionary: 100%|██████████| 1/1 [00:00<00:00,  1.41it/s]\n"
     ]
    },
    {
     "name": "stdout",
     "output_type": "stream",
     "text": [
      "Exported normal audio to ../outputs/temp\\german\\temp_dont_forget_to_charge_your_electric_car_overnight\\normal_dont_forget_to_charge_your_electric_car_overnight.mp3\n",
      "Exported slow audio to ../outputs/temp\\german\\temp_dont_forget_to_charge_your_electric_car_overnight\\slow_dont_forget_to_charge_your_electric_car_overnight.mp3\n",
      "Exported image to ../outputs/temp\\german\\temp_dont_forget_to_charge_your_electric_car_overnight\\dont_forget_to_charge_your_electric_car_overnight.png\n",
      "Generated test HTML files in '../outputs/temp\\german\\temp_dont_forget_to_charge_your_electric_car_overnight' directory\n",
      "Open '../outputs/temp\\german\\temp_dont_forget_to_charge_your_electric_car_overnight\\index.html' to navigate between the templates\n"
     ]
    },
    {
     "name": "stderr",
     "output_type": "stream",
     "text": [
      "Building phrase dictionary: 100%|██████████| 1/1 [00:00<00:00,  2.66it/s]\n"
     ]
    },
    {
     "name": "stdout",
     "output_type": "stream",
     "text": [
      "Exported normal audio to ../outputs/temp\\german\\temp_shall_we_try_that_restaurant\\normal_shall_we_try_that_restaurant.mp3\n",
      "Exported slow audio to ../outputs/temp\\german\\temp_shall_we_try_that_restaurant\\slow_shall_we_try_that_restaurant.mp3\n",
      "Exported image to ../outputs/temp\\german\\temp_shall_we_try_that_restaurant\\shall_we_try_that_restaurant.png\n",
      "Generated test HTML files in '../outputs/temp\\german\\temp_shall_we_try_that_restaurant' directory\n",
      "Open '../outputs/temp\\german\\temp_shall_we_try_that_restaurant\\index.html' to navigate between the templates\n"
     ]
    },
    {
     "name": "stderr",
     "output_type": "stream",
     "text": [
      "Building phrase dictionary: 100%|██████████| 1/1 [00:00<00:00,  5.41it/s]\n"
     ]
    },
    {
     "name": "stdout",
     "output_type": "stream",
     "text": [
      "Exported normal audio to ../outputs/temp\\german\\temp_think_carefully_before_making_your_final_decision\\normal_think_carefully_before_making_your_final_decision.mp3\n",
      "Exported slow audio to ../outputs/temp\\german\\temp_think_carefully_before_making_your_final_decision\\slow_think_carefully_before_making_your_final_decision.mp3\n",
      "Exported image to ../outputs/temp\\german\\temp_think_carefully_before_making_your_final_decision\\think_carefully_before_making_your_final_decision.png\n",
      "Generated test HTML files in '../outputs/temp\\german\\temp_think_carefully_before_making_your_final_decision' directory\n",
      "Open '../outputs/temp\\german\\temp_think_carefully_before_making_your_final_decision\\index.html' to navigate between the templates\n"
     ]
    },
    {
     "name": "stderr",
     "output_type": "stream",
     "text": [
      "Building phrase dictionary: 100%|██████████| 1/1 [00:00<00:00,  5.89it/s]\n"
     ]
    },
    {
     "name": "stdout",
     "output_type": "stream",
     "text": [
      "Exported normal audio to ../outputs/temp\\german\\temp_theyre_getting_married_in_the_spring\\normal_theyre_getting_married_in_the_spring.mp3\n",
      "Exported slow audio to ../outputs/temp\\german\\temp_theyre_getting_married_in_the_spring\\slow_theyre_getting_married_in_the_spring.mp3\n",
      "Exported image to ../outputs/temp\\german\\temp_theyre_getting_married_in_the_spring\\theyre_getting_married_in_the_spring.png\n",
      "Generated test HTML files in '../outputs/temp\\german\\temp_theyre_getting_married_in_the_spring' directory\n",
      "Open '../outputs/temp\\german\\temp_theyre_getting_married_in_the_spring\\index.html' to navigate between the templates\n"
     ]
    },
    {
     "name": "stderr",
     "output_type": "stream",
     "text": [
      "Building phrase dictionary: 100%|██████████| 1/1 [00:00<00:00,  2.81it/s]\n"
     ]
    },
    {
     "name": "stdout",
     "output_type": "stream",
     "text": [
      "Exported normal audio to ../outputs/temp\\german\\temp_you_have_to_face_your_fears_to_grow_stronger\\normal_you_have_to_face_your_fears_to_grow_stronger.mp3\n",
      "Exported slow audio to ../outputs/temp\\german\\temp_you_have_to_face_your_fears_to_grow_stronger\\slow_you_have_to_face_your_fears_to_grow_stronger.mp3\n",
      "Exported image to ../outputs/temp\\german\\temp_you_have_to_face_your_fears_to_grow_stronger\\you_have_to_face_your_fears_to_grow_stronger.png\n",
      "Generated test HTML files in '../outputs/temp\\german\\temp_you_have_to_face_your_fears_to_grow_stronger' directory\n",
      "Open '../outputs/temp\\german\\temp_you_have_to_face_your_fears_to_grow_stronger\\index.html' to navigate between the templates\n"
     ]
    },
    {
     "name": "stderr",
     "output_type": "stream",
     "text": [
      "Building phrase dictionary: 100%|██████████| 1/1 [00:00<00:00,  6.29it/s]\n"
     ]
    },
    {
     "name": "stdout",
     "output_type": "stream",
     "text": [
      "Exported normal audio to ../outputs/temp\\german\\temp_can_you_imagine_a_world_without_any_troubles\\normal_can_you_imagine_a_world_without_any_troubles.mp3\n",
      "Exported slow audio to ../outputs/temp\\german\\temp_can_you_imagine_a_world_without_any_troubles\\slow_can_you_imagine_a_world_without_any_troubles.mp3\n",
      "Exported image to ../outputs/temp\\german\\temp_can_you_imagine_a_world_without_any_troubles\\can_you_imagine_a_world_without_any_troubles.png\n",
      "Generated test HTML files in '../outputs/temp\\german\\temp_can_you_imagine_a_world_without_any_troubles' directory\n",
      "Open '../outputs/temp\\german\\temp_can_you_imagine_a_world_without_any_troubles\\index.html' to navigate between the templates\n"
     ]
    },
    {
     "name": "stderr",
     "output_type": "stream",
     "text": [
      "Building phrase dictionary: 100%|██████████| 1/1 [00:00<00:00,  6.17it/s]\n"
     ]
    },
    {
     "name": "stdout",
     "output_type": "stream",
     "text": [
      "Exported normal audio to ../outputs/temp\\german\\temp_did_you_try_to_guess_the_correct_answer\\normal_did_you_try_to_guess_the_correct_answer.mp3\n",
      "Exported slow audio to ../outputs/temp\\german\\temp_did_you_try_to_guess_the_correct_answer\\slow_did_you_try_to_guess_the_correct_answer.mp3\n",
      "Exported image to ../outputs/temp\\german\\temp_did_you_try_to_guess_the_correct_answer\\did_you_try_to_guess_the_correct_answer.png\n",
      "Generated test HTML files in '../outputs/temp\\german\\temp_did_you_try_to_guess_the_correct_answer' directory\n",
      "Open '../outputs/temp\\german\\temp_did_you_try_to_guess_the_correct_answer\\index.html' to navigate between the templates\n"
     ]
    },
    {
     "name": "stderr",
     "output_type": "stream",
     "text": [
      "Building phrase dictionary: 100%|██████████| 1/1 [00:00<00:00,  5.40it/s]\n"
     ]
    },
    {
     "name": "stdout",
     "output_type": "stream",
     "text": [
      "Exported normal audio to ../outputs/temp\\german\\temp_he_might_mention_your_name_in_the_report\\normal_he_might_mention_your_name_in_the_report.mp3\n",
      "Exported slow audio to ../outputs/temp\\german\\temp_he_might_mention_your_name_in_the_report\\slow_he_might_mention_your_name_in_the_report.mp3\n",
      "Exported image to ../outputs/temp\\german\\temp_he_might_mention_your_name_in_the_report\\he_might_mention_your_name_in_the_report.png\n",
      "Generated test HTML files in '../outputs/temp\\german\\temp_he_might_mention_your_name_in_the_report' directory\n",
      "Open '../outputs/temp\\german\\temp_he_might_mention_your_name_in_the_report\\index.html' to navigate between the templates\n"
     ]
    },
    {
     "name": "stderr",
     "output_type": "stream",
     "text": [
      "Building phrase dictionary: 100%|██████████| 1/1 [00:00<00:00,  5.56it/s]\n"
     ]
    },
    {
     "name": "stdout",
     "output_type": "stream",
     "text": [
      "Exported normal audio to ../outputs/temp\\german\\temp_hold_onto_the_rail_its_slippery\\normal_hold_onto_the_rail_its_slippery.mp3\n",
      "Exported slow audio to ../outputs/temp\\german\\temp_hold_onto_the_rail_its_slippery\\slow_hold_onto_the_rail_its_slippery.mp3\n",
      "Exported image to ../outputs/temp\\german\\temp_hold_onto_the_rail_its_slippery\\hold_onto_the_rail_its_slippery.png\n",
      "Generated test HTML files in '../outputs/temp\\german\\temp_hold_onto_the_rail_its_slippery' directory\n",
      "Open '../outputs/temp\\german\\temp_hold_onto_the_rail_its_slippery\\index.html' to navigate between the templates\n"
     ]
    },
    {
     "name": "stderr",
     "output_type": "stream",
     "text": [
      "Building phrase dictionary: 100%|██████████| 1/1 [00:00<00:00,  2.56it/s]\n"
     ]
    },
    {
     "name": "stdout",
     "output_type": "stream",
     "text": [
      "Exported normal audio to ../outputs/temp\\german\\temp_hes_going_to_build_us_a_proper_table\\normal_hes_going_to_build_us_a_proper_table.mp3\n",
      "Exported slow audio to ../outputs/temp\\german\\temp_hes_going_to_build_us_a_proper_table\\slow_hes_going_to_build_us_a_proper_table.mp3\n",
      "Exported image to ../outputs/temp\\german\\temp_hes_going_to_build_us_a_proper_table\\hes_going_to_build_us_a_proper_table.png\n",
      "Generated test HTML files in '../outputs/temp\\german\\temp_hes_going_to_build_us_a_proper_table' directory\n",
      "Open '../outputs/temp\\german\\temp_hes_going_to_build_us_a_proper_table\\index.html' to navigate between the templates\n"
     ]
    },
    {
     "name": "stderr",
     "output_type": "stream",
     "text": [
      "Building phrase dictionary: 100%|██████████| 1/1 [00:00<00:00,  6.17it/s]\n"
     ]
    },
    {
     "name": "stdout",
     "output_type": "stream",
     "text": [
      "Exported normal audio to ../outputs/temp\\german\\temp_how_long_will_this_meeting_last\\normal_how_long_will_this_meeting_last.mp3\n",
      "Exported slow audio to ../outputs/temp\\german\\temp_how_long_will_this_meeting_last\\slow_how_long_will_this_meeting_last.mp3\n",
      "Exported image to ../outputs/temp\\german\\temp_how_long_will_this_meeting_last\\how_long_will_this_meeting_last.png\n",
      "Generated test HTML files in '../outputs/temp\\german\\temp_how_long_will_this_meeting_last' directory\n",
      "Open '../outputs/temp\\german\\temp_how_long_will_this_meeting_last\\index.html' to navigate between the templates\n",
      "\n",
      "=== Generating Bundle Pack Spread Deck Images ===\n"
     ]
    },
    {
     "name": "stderr",
     "output_type": "stream",
     "text": [
      "Building phrase dictionary: 100%|██████████| 1/1 [00:00<00:00,  5.95it/s]\n"
     ]
    },
    {
     "name": "stdout",
     "output_type": "stream",
     "text": [
      "Exported normal audio to ../outputs/temp\\german\\temp_you_should_have_chosen_a_different_color\\normal_you_should_have_chosen_a_different_color.mp3\n",
      "Exported slow audio to ../outputs/temp\\german\\temp_you_should_have_chosen_a_different_color\\slow_you_should_have_chosen_a_different_color.mp3\n",
      "Exported image to ../outputs/temp\\german\\temp_you_should_have_chosen_a_different_color\\you_should_have_chosen_a_different_color.png\n",
      "Generated test HTML files in '../outputs/temp\\german\\temp_you_should_have_chosen_a_different_color' directory\n",
      "Open '../outputs/temp\\german\\temp_you_should_have_chosen_a_different_color\\index.html' to navigate between the templates\n"
     ]
    },
    {
     "name": "stderr",
     "output_type": "stream",
     "text": [
      "Building phrase dictionary: 100%|██████████| 1/1 [00:00<00:00,  5.38it/s]\n"
     ]
    },
    {
     "name": "stdout",
     "output_type": "stream",
     "text": [
      "Exported normal audio to ../outputs/temp\\german\\temp_quick_help_me_carry_this_injured_person_to_safety\\normal_quick_help_me_carry_this_injured_person_to_safety.mp3\n",
      "Exported slow audio to ../outputs/temp\\german\\temp_quick_help_me_carry_this_injured_person_to_safety\\slow_quick_help_me_carry_this_injured_person_to_safety.mp3\n",
      "Exported image to ../outputs/temp\\german\\temp_quick_help_me_carry_this_injured_person_to_safety\\quick_help_me_carry_this_injured_person_to_safety.png\n",
      "Generated test HTML files in '../outputs/temp\\german\\temp_quick_help_me_carry_this_injured_person_to_safety' directory\n",
      "Open '../outputs/temp\\german\\temp_quick_help_me_carry_this_injured_person_to_safety\\index.html' to navigate between the templates\n"
     ]
    },
    {
     "name": "stderr",
     "output_type": "stream",
     "text": [
      "Building phrase dictionary: 100%|██████████| 1/1 [00:00<00:00,  3.53it/s]\n"
     ]
    },
    {
     "name": "stdout",
     "output_type": "stream",
     "text": [
      "Exported normal audio to ../outputs/temp\\german\\temp_did_you_hear_they_passed_the_test_with_flying_colors\\normal_did_you_hear_they_passed_the_test_with_flying_colors.mp3\n",
      "Exported slow audio to ../outputs/temp\\german\\temp_did_you_hear_they_passed_the_test_with_flying_colors\\slow_did_you_hear_they_passed_the_test_with_flying_colors.mp3\n",
      "Exported image to ../outputs/temp\\german\\temp_did_you_hear_they_passed_the_test_with_flying_colors\\did_you_hear_they_passed_the_test_with_flying_colors.png\n",
      "Generated test HTML files in '../outputs/temp\\german\\temp_did_you_hear_they_passed_the_test_with_flying_colors' directory\n",
      "Open '../outputs/temp\\german\\temp_did_you_hear_they_passed_the_test_with_flying_colors\\index.html' to navigate between the templates\n"
     ]
    },
    {
     "name": "stderr",
     "output_type": "stream",
     "text": [
      "Building phrase dictionary: 100%|██████████| 1/1 [00:00<00:00,  5.68it/s]\n"
     ]
    },
    {
     "name": "stdout",
     "output_type": "stream",
     "text": [
      "Exported normal audio to ../outputs/temp\\german\\temp_dont_worry_ill_remind_you_about_the_meeting_tomorrow\\normal_dont_worry_ill_remind_you_about_the_meeting_tomorrow.mp3\n",
      "Exported slow audio to ../outputs/temp\\german\\temp_dont_worry_ill_remind_you_about_the_meeting_tomorrow\\slow_dont_worry_ill_remind_you_about_the_meeting_tomorrow.mp3\n",
      "Exported image to ../outputs/temp\\german\\temp_dont_worry_ill_remind_you_about_the_meeting_tomorrow\\dont_worry_ill_remind_you_about_the_meeting_tomorrow.png\n",
      "Generated test HTML files in '../outputs/temp\\german\\temp_dont_worry_ill_remind_you_about_the_meeting_tomorrow' directory\n",
      "Open '../outputs/temp\\german\\temp_dont_worry_ill_remind_you_about_the_meeting_tomorrow\\index.html' to navigate between the templates\n"
     ]
    },
    {
     "name": "stderr",
     "output_type": "stream",
     "text": [
      "Building phrase dictionary: 100%|██████████| 1/1 [00:00<00:00,  6.80it/s]\n"
     ]
    },
    {
     "name": "stdout",
     "output_type": "stream",
     "text": [
      "Exported normal audio to ../outputs/temp\\german\\temp_ill_call_you_back_later\\normal_ill_call_you_back_later.mp3\n",
      "Exported slow audio to ../outputs/temp\\german\\temp_ill_call_you_back_later\\slow_ill_call_you_back_later.mp3\n",
      "Exported image to ../outputs/temp\\german\\temp_ill_call_you_back_later\\ill_call_you_back_later.png\n",
      "Generated test HTML files in '../outputs/temp\\german\\temp_ill_call_you_back_later' directory\n",
      "Open '../outputs/temp\\german\\temp_ill_call_you_back_later\\index.html' to navigate between the templates\n",
      "\n",
      "=== Generating Individual Pack Spread Deck Images ===\n"
     ]
    },
    {
     "name": "stderr",
     "output_type": "stream",
     "text": [
      "Building phrase dictionary: 100%|██████████| 1/1 [00:00<00:00,  6.49it/s] ?it/s]\n"
     ]
    },
    {
     "name": "stdout",
     "output_type": "stream",
     "text": [
      "Exported normal audio to ../outputs/temp\\german\\temp_i_want_to_enhance_my_public_speaking_skills\\normal_i_want_to_enhance_my_public_speaking_skills.mp3\n",
      "Exported slow audio to ../outputs/temp\\german\\temp_i_want_to_enhance_my_public_speaking_skills\\slow_i_want_to_enhance_my_public_speaking_skills.mp3\n",
      "Exported image to ../outputs/temp\\german\\temp_i_want_to_enhance_my_public_speaking_skills\\i_want_to_enhance_my_public_speaking_skills.png\n",
      "Generated test HTML files in '../outputs/temp\\german\\temp_i_want_to_enhance_my_public_speaking_skills' directory\n",
      "Open '../outputs/temp\\german\\temp_i_want_to_enhance_my_public_speaking_skills\\index.html' to navigate between the templates\n"
     ]
    },
    {
     "name": "stderr",
     "output_type": "stream",
     "text": [
      "Building phrase dictionary: 100%|██████████| 1/1 [00:00<00:00,  5.95it/s]\n"
     ]
    },
    {
     "name": "stdout",
     "output_type": "stream",
     "text": [
      "Exported normal audio to ../outputs/temp\\german\\temp_shall_we_head_to_the_meeting_now\\normal_shall_we_head_to_the_meeting_now.mp3\n",
      "Exported slow audio to ../outputs/temp\\german\\temp_shall_we_head_to_the_meeting_now\\slow_shall_we_head_to_the_meeting_now.mp3\n",
      "Exported image to ../outputs/temp\\german\\temp_shall_we_head_to_the_meeting_now\\shall_we_head_to_the_meeting_now.png\n",
      "Generated test HTML files in '../outputs/temp\\german\\temp_shall_we_head_to_the_meeting_now' directory\n",
      "Open '../outputs/temp\\german\\temp_shall_we_head_to_the_meeting_now\\index.html' to navigate between the templates\n"
     ]
    },
    {
     "name": "stderr",
     "output_type": "stream",
     "text": [
      "Generating individual spread deck images: 100%|██████████| 20/20 [00:15<00:00,  1.27it/s]"
     ]
    },
    {
     "name": "stdout",
     "output_type": "stream",
     "text": [
      "\n",
      "🎉 Generated 4 spread deck images successfully!\n",
      "\n",
      "Generated images:\n",
      "  template_types: gs://audio-language-trainer-private-content/collections/LM1000/german/marketing/german_LM1000_template_types.png\n",
      "  complete_spread_deck: collections/LM1000/german/marketing/german_LM1000_complete_pack.png\n",
      "  bundle_02-03_spread_deck: collections/LM1000/german/marketing/german_LM1000_bundle_02-03.png\n",
      "  individual_story_sunset_wedding_blues_spread_deck: collections/LM1000/german/marketing/german_LM1000_individual_story_sunset_wedding_blues.png\n"
     ]
    },
    {
     "name": "stderr",
     "output_type": "stream",
     "text": [
      "\n"
     ]
    }
   ],
   "source": [
    "# Default configuration (stories 1-8, 9-14, 15-20)\n",
    "print(\"=== Generating Product Images ===\")\n",
    "generated_images = generate_product_images(product_config=PRODUCT_CONFIG,\n",
    "    collection=COLLECTION, generate_individual=True\n",
    ")\n",
    "\n",
    "print(\"\\nGenerated images:\")\n",
    "for product_type, uri in generated_images.items():\n",
    "    print(f\"  {product_type}: {uri}\")\n"
   ]
  },
  {
   "cell_type": "code",
   "execution_count": null,
   "metadata": {},
   "outputs": [],
   "source": [
    "\n",
    "# 2. Generate the Shopify CSV with default settings\n",
    "print(\"\\n=== Generating Shopify CSV ===\")\n",
    "\n",
    "csv_path = generate_shopify_csv(\n",
    "    product_config=PRODUCT_CONFIG,\n",
    "    collection=COLLECTION,\n",
    "    free_individual_count=1\n",
    ")\n",
    "\n",
    "print(f\"CSV generated at: {csv_path}\")\n",
    "\n"
   ]
  },
  {
   "cell_type": "code",
   "execution_count": 27,
   "metadata": {},
   "outputs": [],
   "source": [
    "config.TARGET_LANGUAGE_CODE = \"de-DE\""
   ]
  },
  {
   "cell_type": "code",
   "execution_count": 28,
   "metadata": {},
   "outputs": [
    {
     "data": {
      "text/plain": [
       "'German'"
      ]
     },
     "execution_count": 28,
     "metadata": {},
     "output_type": "execute_result"
    }
   ],
   "source": [
    "config.TARGET_LANGUAGE_NAME"
   ]
  }
 ],
 "metadata": {
  "kernelspec": {
   "display_name": ".venv",
   "language": "python",
   "name": "python3"
  },
  "language_info": {
   "codemirror_mode": {
    "name": "ipython",
    "version": 3
   },
   "file_extension": ".py",
   "mimetype": "text/x-python",
   "name": "python",
   "nbconvert_exporter": "python",
   "pygments_lexer": "ipython3",
   "version": "3.11.4"
  }
 },
 "nbformat": 4,
 "nbformat_minor": 2
}
