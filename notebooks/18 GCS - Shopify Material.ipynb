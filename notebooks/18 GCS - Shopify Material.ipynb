{
 "cells": [
  {
   "cell_type": "code",
   "execution_count": 1,
   "metadata": {},
   "outputs": [],
   "source": [
    "from google.auth import default\n",
    "credentials, project = default()"
   ]
  },
  {
   "cell_type": "code",
   "execution_count": null,
   "metadata": {},
   "outputs": [],
   "source": [
    "%load_ext autoreload\n",
    "%autoreload 2\n",
    "import os\n",
    "import sys\n",
    "from pathlib import Path\n",
    "module_path = os.path.abspath(os.path.join('..'))\n",
    "if module_path not in sys.path:\n",
    "    sys.path.append(module_path)\n",
    "\n",
    "from src.utils import load_json, save_text_file, load_text_file  # noqa: E402\n",
    "from src.config_loader import config\n",
    "config.TARGET_LANGUAGE_NAME"
   ]
  },
  {
   "cell_type": "code",
   "execution_count": null,
   "metadata": {},
   "outputs": [],
   "source": [
    "# Import required modules\n",
    "from src.shop import generate_product_images, generate_shopify_csv\n",
    "from src.config_loader import config\n",
    "\n",
    "# 1. First, generate all the product marketing images\n",
    "print(\"=== Generating Product Images ===\")\n",
    "BUNDLE_CONFIG = {\n",
    "            \"Bundle 01-08\": [1, 8],\n",
    "            \"Bundle 09-14\": [9, 14],\n",
    "            \"Bundle 15-20\": [15, 20],\n",
    "        }\n",
    "\n",
    "PRICES = {\"individual\": 1.99, \"bundle\": 7.99, \"complete\": 19.99}\n",
    "# Default configuration (stories 1-8, 9-14, 15-20)\n",
    "generated_images = generate_product_images(bundle_config=BUNDLE_CONFIG,\n",
    "    collection=\"LM1000\", generate_individual=False\n",
    ")\n",
    "\n",
    "print(\"\\nGenerated images:\")\n",
    "for product_type, uri in generated_images.items():\n",
    "    print(f\"  {product_type}: {uri}\")\n"
   ]
  },
  {
   "cell_type": "code",
   "execution_count": null,
   "metadata": {},
   "outputs": [],
   "source": [
    "\n",
    "# 2. Generate the Shopify CSV with default settings\n",
    "print(\"\\n=== Generating Shopify CSV ===\")\n",
    "\n",
    "\n",
    "csv_path = generate_shopify_csv(\n",
    "    bundle_config=BUNDLE_CONFIG,\n",
    "    prices=PRICES,\n",
    "    collection=\"LM1000\"\n",
    ")\n",
    "\n",
    "print(f\"CSV generated at: {csv_path}\")\n",
    "\n"
   ]
  }
 ],
 "metadata": {
  "kernelspec": {
   "display_name": ".venv",
   "language": "python",
   "name": "python3"
  },
  "language_info": {
   "codemirror_mode": {
    "name": "ipython",
    "version": 3
   },
   "file_extension": ".py",
   "mimetype": "text/x-python",
   "name": "python",
   "nbconvert_exporter": "python",
   "pygments_lexer": "ipython3",
   "version": "3.11.4"
  }
 },
 "nbformat": 4,
 "nbformat_minor": 2
}
