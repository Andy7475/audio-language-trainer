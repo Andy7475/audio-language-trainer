{
 "cells": [
  {
   "cell_type": "code",
   "execution_count": 1,
   "metadata": {},
   "outputs": [],
   "source": [
    "from google.auth import default\n",
    "credentials, project = default()"
   ]
  },
  {
   "cell_type": "code",
   "execution_count": 3,
   "metadata": {},
   "outputs": [
    {
     "name": "stdout",
     "output_type": "stream",
     "text": [
      "The autoreload extension is already loaded. To reload it, use:\n",
      "  %reload_ext autoreload\n"
     ]
    },
    {
     "data": {
      "text/plain": [
       "'French'"
      ]
     },
     "execution_count": 3,
     "metadata": {},
     "output_type": "execute_result"
    }
   ],
   "source": [
    "%load_ext autoreload\n",
    "%autoreload 2\n",
    "import os\n",
    "import sys\n",
    "from pathlib import Path\n",
    "module_path = os.path.abspath(os.path.join('..'))\n",
    "if module_path not in sys.path:\n",
    "    sys.path.append(module_path)\n",
    "\n",
    "from src.utils import load_json, save_text_file, load_text_file  # noqa: E402\n",
    "from src.config_loader import config\n",
    "config.TARGET_LANGUAGE_NAME"
   ]
  },
  {
   "cell_type": "code",
   "execution_count": 12,
   "metadata": {},
   "outputs": [
    {
     "name": "stdout",
     "output_type": "stream",
     "text": [
      "=== Generating Product Images ===\n",
      "Generating complete pack image...\n"
     ]
    },
    {
     "ename": "PermissionError",
     "evalue": "[WinError 32] The process cannot access the file because it is being used by another process: '../outputs/temp\\\\temp_spread_deck.png'",
     "output_type": "error",
     "traceback": [
      "\u001b[1;31m---------------------------------------------------------------------------\u001b[0m",
      "\u001b[1;31mPermissionError\u001b[0m                           Traceback (most recent call last)",
      "Cell \u001b[1;32mIn[12], line 15\u001b[0m\n\u001b[0;32m     13\u001b[0m PRICES \u001b[38;5;241m=\u001b[39m {\u001b[38;5;124m\"\u001b[39m\u001b[38;5;124mindividual\u001b[39m\u001b[38;5;124m\"\u001b[39m: \u001b[38;5;241m1.99\u001b[39m, \u001b[38;5;124m\"\u001b[39m\u001b[38;5;124mbundle\u001b[39m\u001b[38;5;124m\"\u001b[39m: \u001b[38;5;241m7.99\u001b[39m, \u001b[38;5;124m\"\u001b[39m\u001b[38;5;124mcomplete\u001b[39m\u001b[38;5;124m\"\u001b[39m: \u001b[38;5;241m19.99\u001b[39m}\n\u001b[0;32m     14\u001b[0m \u001b[38;5;66;03m# Default configuration (stories 1-8, 9-14, 15-20)\u001b[39;00m\n\u001b[1;32m---> 15\u001b[0m generated_images \u001b[38;5;241m=\u001b[39m \u001b[43mgenerate_product_images\u001b[49m\u001b[43m(\u001b[49m\u001b[43mbundle_config\u001b[49m\u001b[38;5;241;43m=\u001b[39;49m\u001b[43mBUNDLE_CONFIG\u001b[49m\u001b[43m,\u001b[49m\n\u001b[0;32m     16\u001b[0m \u001b[43m    \u001b[49m\u001b[43mcollection\u001b[49m\u001b[38;5;241;43m=\u001b[39;49m\u001b[38;5;124;43m\"\u001b[39;49m\u001b[38;5;124;43mLM1000\u001b[39;49m\u001b[38;5;124;43m\"\u001b[39;49m\n\u001b[0;32m     17\u001b[0m \u001b[43m)\u001b[49m\n\u001b[0;32m     19\u001b[0m \u001b[38;5;28mprint\u001b[39m(\u001b[38;5;124m\"\u001b[39m\u001b[38;5;130;01m\\n\u001b[39;00m\u001b[38;5;124mGenerated images:\u001b[39m\u001b[38;5;124m\"\u001b[39m)\n\u001b[0;32m     20\u001b[0m \u001b[38;5;28;01mfor\u001b[39;00m product_type, uri \u001b[38;5;129;01min\u001b[39;00m generated_images\u001b[38;5;241m.\u001b[39mitems():\n",
      "File \u001b[1;32my:\\Python Scripts\\audio-language-trainer\\src\\shop.py:562\u001b[0m, in \u001b[0;36mgenerate_product_images\u001b[1;34m(collection, bundle_config, bucket_name)\u001b[0m\n\u001b[0;32m    559\u001b[0m \u001b[38;5;66;03m# 1. Generate Complete Pack Image\u001b[39;00m\n\u001b[0;32m    560\u001b[0m \u001b[38;5;66;03m# More cards, smaller angles and offsets for cleaner look\u001b[39;00m\n\u001b[0;32m    561\u001b[0m \u001b[38;5;28mprint\u001b[39m(\u001b[38;5;124m\"\u001b[39m\u001b[38;5;124mGenerating complete pack image...\u001b[39m\u001b[38;5;124m\"\u001b[39m)\n\u001b[1;32m--> 562\u001b[0m complete_uri \u001b[38;5;241m=\u001b[39m \u001b[43mgenerate_spread_deck_image\u001b[49m\u001b[43m(\u001b[49m\n\u001b[0;32m    563\u001b[0m \u001b[43m    \u001b[49m\u001b[43mstory_positions\u001b[49m\u001b[38;5;241;43m=\u001b[39;49m\u001b[38;5;28;43;01mNone\u001b[39;49;00m\u001b[43m,\u001b[49m\u001b[43m  \u001b[49m\u001b[38;5;66;43;03m# Uses entire collection\u001b[39;49;00m\n\u001b[0;32m    564\u001b[0m \u001b[43m    \u001b[49m\u001b[43mcollection\u001b[49m\u001b[38;5;241;43m=\u001b[39;49m\u001b[43mcollection\u001b[49m\u001b[43m,\u001b[49m\n\u001b[0;32m    565\u001b[0m \u001b[43m    \u001b[49m\u001b[43mbucket_name\u001b[49m\u001b[38;5;241;43m=\u001b[39;49m\u001b[43mbucket_name\u001b[49m\u001b[43m,\u001b[49m\n\u001b[0;32m    566\u001b[0m \u001b[43m    \u001b[49m\u001b[43mnum_phrases\u001b[49m\u001b[38;5;241;43m=\u001b[39;49m\u001b[38;5;241;43m12\u001b[39;49m\u001b[43m,\u001b[49m\n\u001b[0;32m    567\u001b[0m \u001b[43m    \u001b[49m\u001b[43mangle_offset\u001b[49m\u001b[38;5;241;43m=\u001b[39;49m\u001b[38;5;241;43m6.0\u001b[39;49m\u001b[43m,\u001b[49m\u001b[43m  \u001b[49m\u001b[38;5;66;43;03m# Smaller angle for many cards\u001b[39;49;00m\n\u001b[0;32m    568\u001b[0m \u001b[43m    \u001b[49m\u001b[43mx_offset\u001b[49m\u001b[38;5;241;43m=\u001b[39;49m\u001b[38;5;241;43m20.0\u001b[39;49m\u001b[43m,\u001b[49m\u001b[43m  \u001b[49m\u001b[38;5;66;43;03m# Minimal offset for tight spread\u001b[39;49;00m\n\u001b[0;32m    569\u001b[0m \u001b[43m    \u001b[49m\u001b[43mbackground_color\u001b[49m\u001b[38;5;241;43m=\u001b[39;49m\u001b[38;5;124;43m\"\u001b[39;49m\u001b[38;5;124;43m#FFFFFF\u001b[39;49m\u001b[38;5;124;43m\"\u001b[39;49m\u001b[43m,\u001b[49m\n\u001b[0;32m    570\u001b[0m \u001b[43m    \u001b[49m\u001b[43mproduct_type\u001b[49m\u001b[38;5;241;43m=\u001b[39;49m\u001b[38;5;124;43m\"\u001b[39;49m\u001b[38;5;124;43mcomplete\u001b[39;49m\u001b[38;5;124;43m\"\u001b[39;49m\u001b[43m,\u001b[49m\n\u001b[0;32m    571\u001b[0m \u001b[43m\u001b[49m\u001b[43m)\u001b[49m\n\u001b[0;32m    572\u001b[0m generated_images[\u001b[38;5;124m\"\u001b[39m\u001b[38;5;124mcomplete\u001b[39m\u001b[38;5;124m\"\u001b[39m] \u001b[38;5;241m=\u001b[39m complete_uri\n\u001b[0;32m    573\u001b[0m \u001b[38;5;28mprint\u001b[39m(\u001b[38;5;124mf\u001b[39m\u001b[38;5;124m\"\u001b[39m\u001b[38;5;124m✅ Complete pack image: \u001b[39m\u001b[38;5;132;01m{\u001b[39;00mcomplete_uri\u001b[38;5;132;01m}\u001b[39;00m\u001b[38;5;124m\"\u001b[39m)\n",
      "File \u001b[1;32my:\\Python Scripts\\audio-language-trainer\\src\\shop.py:934\u001b[0m, in \u001b[0;36mgenerate_spread_deck_image\u001b[1;34m(story_positions, collection, bucket_name, num_phrases, angle_offset, x_offset, background_color, product_type)\u001b[0m\n\u001b[0;32m    926\u001b[0m gcs_uri \u001b[38;5;241m=\u001b[39m upload_to_gcs(\n\u001b[0;32m    927\u001b[0m     obj\u001b[38;5;241m=\u001b[39mimage_data,\n\u001b[0;32m    928\u001b[0m     bucket_name\u001b[38;5;241m=\u001b[39mbucket_name,\n\u001b[0;32m    929\u001b[0m     file_name\u001b[38;5;241m=\u001b[39mgcs_file_path,\n\u001b[0;32m    930\u001b[0m     content_type\u001b[38;5;241m=\u001b[39m\u001b[38;5;124m\"\u001b[39m\u001b[38;5;124mimage/png\u001b[39m\u001b[38;5;124m\"\u001b[39m,\n\u001b[0;32m    931\u001b[0m )\n\u001b[0;32m    933\u001b[0m \u001b[38;5;66;03m# Clean up only the final spread deck image\u001b[39;00m\n\u001b[1;32m--> 934\u001b[0m os\u001b[38;5;241m.\u001b[39mremove(temp_output)\n\u001b[0;32m    936\u001b[0m \u001b[38;5;28;01mreturn\u001b[39;00m gcs_uri\n",
      "\u001b[1;31mPermissionError\u001b[0m: [WinError 32] The process cannot access the file because it is being used by another process: '../outputs/temp\\\\temp_spread_deck.png'"
     ]
    }
   ],
   "source": [
    "# Import required modules\n",
    "from src.shop import generate_product_images, generate_shopify_csv\n",
    "from src.config_loader import config\n",
    "\n",
    "# 1. First, generate all the product marketing images\n",
    "print(\"=== Generating Product Images ===\")\n",
    "BUNDLE_CONFIG = {\n",
    "            \"Bundle 01-08\": [1, 8],\n",
    "            \"Bundle 09-14\": [9, 14],\n",
    "            \"Bundle 15-20\": [15, 20],\n",
    "        }\n",
    "\n",
    "PRICES = {\"individual\": 1.99, \"bundle\": 7.99, \"complete\": 19.99}\n",
    "# Default configuration (stories 1-8, 9-14, 15-20)\n",
    "generated_images = generate_product_images(bundle_config=BUNDLE_CONFIG,\n",
    "    collection=\"LM1000\"\n",
    ")\n",
    "\n",
    "print(\"\\nGenerated images:\")\n",
    "for product_type, uri in generated_images.items():\n",
    "    print(f\"  {product_type}: {uri}\")\n"
   ]
  },
  {
   "cell_type": "code",
   "execution_count": null,
   "metadata": {},
   "outputs": [],
   "source": [
    "\n",
    "# 2. Generate the Shopify CSV with default settings\n",
    "print(\"\\n=== Generating Shopify CSV ===\")\n",
    "\n",
    "\n",
    "csv_path = generate_shopify_csv(\n",
    "    bundle_config=BUNDLE_CONFIG,\n",
    "    prices=PRICES,\n",
    "    collection=\"LM1000\"\n",
    ")\n",
    "\n",
    "print(f\"CSV generated at: {csv_path}\")\n",
    "\n"
   ]
  }
 ],
 "metadata": {
  "kernelspec": {
   "display_name": ".venv",
   "language": "python",
   "name": "python3"
  },
  "language_info": {
   "codemirror_mode": {
    "name": "ipython",
    "version": 3
   },
   "file_extension": ".py",
   "mimetype": "text/x-python",
   "name": "python",
   "nbconvert_exporter": "python",
   "pygments_lexer": "ipython3",
   "version": "3.11.4"
  }
 },
 "nbformat": 4,
 "nbformat_minor": 2
}
