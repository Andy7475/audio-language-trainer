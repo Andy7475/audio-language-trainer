{
 "cells": [
  {
   "cell_type": "code",
   "execution_count": null,
   "metadata": {},
   "outputs": [],
   "source": [
    "%load_ext autoreload\n",
    "from google.auth import default\n",
    "credentials, project = default()"
   ]
  },
  {
   "cell_type": "code",
   "execution_count": null,
   "metadata": {},
   "outputs": [],
   "source": [
    "\n",
    "%autoreload 2\n",
    "import os\n",
    "import sys\n",
    "module_path = os.path.abspath(os.path.join('..'))\n",
    "if module_path not in sys.path:\n",
    "    sys.path.append(module_path)\n",
    "\n",
    "from src.config_loader import config\n",
    "from src.shop import generate_product_images, generate_shopify_csv\n",
    "from src.zip import create_m4a_zip_collections\n",
    "config.TARGET_LANGUAGE_NAME"
   ]
  },
  {
   "cell_type": "code",
   "execution_count": 3,
   "metadata": {},
   "outputs": [],
   "source": [
    "\n",
    "PRODUCT_CONFIG = {\n",
    "    \"individual\": {\n",
    "        \"price\": 2.99,\n",
    "        \"template\": \"shop/individual_pack_template.html\",\n",
    "        \"indices\": list(range(1, 3)),  # or your desired range\n",
    "    },\n",
    "    \"bundle\": {\n",
    "        \"price\": 5.99,\n",
    "        \"template\": \"shop/bundle_pack_template.html\",\n",
    "        \"ranges\": [[3, 4]],\n",
    "    },\n",
    "    \"complete\": {\n",
    "        \"price\": 19.99,\n",
    "        \"template\": \"shop/complete_pack_template.html\",\n",
    "    }\n",
    "}"
   ]
  },
  {
   "cell_type": "code",
   "execution_count": null,
   "metadata": {},
   "outputs": [],
   "source": [
    "zips = create_m4a_zip_collections(\n",
    "    product_config=PRODUCT_CONFIG,\n",
    "    collection=\"LM1000\",\n",
    "    bucket_name=config.GCS_PRIVATE_BUCKET,\n",
    "    output_base_dir=\"../outputs/gcs\",\n",
    "    use_local_files=True\n",
    ")"
   ]
  },
  {
   "cell_type": "code",
   "execution_count": null,
   "metadata": {},
   "outputs": [],
   "source": [
    "# Default configuration (stories 1-8, 9-14, 15-20)\n",
    "print(\"=== Generating Product Images ===\")\n",
    "generated_images = generate_product_images(product_config=PRODUCT_CONFIG,\n",
    "    collection=\"LM1000\", generate_individual=True\n",
    ")\n",
    "\n",
    "print(\"\\nGenerated images:\")\n",
    "for product_type, uri in generated_images.items():\n",
    "    print(f\"  {product_type}: {uri}\")\n"
   ]
  },
  {
   "cell_type": "code",
   "execution_count": 15,
   "metadata": {},
   "outputs": [
    {
     "name": "stdout",
     "output_type": "stream",
     "text": [
      "\n",
      "=== Generating Shopify CSV ===\n",
      "CSV generated at: ../outputs/shopify\\swedish_lm1000_shopify.csv\n"
     ]
    }
   ],
   "source": [
    "\n",
    "# 2. Generate the Shopify CSV with default settings\n",
    "print(\"\\n=== Generating Shopify CSV ===\")\n",
    "\n",
    "csv_path = generate_shopify_csv(\n",
    "    product_config=PRODUCT_CONFIG,\n",
    "    collection=\"LM1000\",\n",
    "    free_individual_count=2\n",
    ")\n",
    "\n",
    "print(f\"CSV generated at: {csv_path}\")\n",
    "\n"
   ]
  },
  {
   "cell_type": "code",
   "execution_count": null,
   "metadata": {},
   "outputs": [],
   "source": []
  }
 ],
 "metadata": {
  "kernelspec": {
   "display_name": ".venv",
   "language": "python",
   "name": "python3"
  },
  "language_info": {
   "codemirror_mode": {
    "name": "ipython",
    "version": 3
   },
   "file_extension": ".py",
   "mimetype": "text/x-python",
   "name": "python",
   "nbconvert_exporter": "python",
   "pygments_lexer": "ipython3",
   "version": "3.11.4"
  }
 },
 "nbformat": 4,
 "nbformat_minor": 2
}
