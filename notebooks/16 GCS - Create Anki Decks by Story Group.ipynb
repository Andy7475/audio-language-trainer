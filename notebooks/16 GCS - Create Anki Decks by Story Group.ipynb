{
 "cells": [
  {
   "cell_type": "code",
   "execution_count": 1,
   "metadata": {},
   "outputs": [],
   "source": [
    "from google.auth import default\n",
    "credentials, project = default()"
   ]
  },
  {
   "cell_type": "code",
   "execution_count": 2,
   "metadata": {},
   "outputs": [
    {
     "name": "stdout",
     "output_type": "stream",
     "text": [
      "Default FFmpeg path added to system PATH: C:\\Program Files\\ffmpeg-7.0-essentials_build\\bin\n"
     ]
    },
    {
     "data": {
      "text/plain": [
       "'Spanish'"
      ]
     },
     "execution_count": 2,
     "metadata": {},
     "output_type": "execute_result"
    }
   ],
   "source": [
    "%load_ext autoreload\n",
    "%autoreload 2\n",
    "import os\n",
    "import sys\n",
    "from pathlib import Path\n",
    "module_path = os.path.abspath(os.path.join('..'))\n",
    "if module_path not in sys.path:\n",
    "    sys.path.append(module_path)\n",
    "from dotenv import load_dotenv\n",
    "load_dotenv()\n",
    "\n",
    "from src.gcs_storage import get_flashcard_path, get_story_collection_path # noqa: E402\n",
    "from src.config_loader import config\n",
    "from src.anki_tools import create_anki_deck_from_gcs\n",
    "config.TARGET_LANGUAGE_NAME"
   ]
  },
  {
   "cell_type": "markdown",
   "metadata": {},
   "source": [
    "## Anki Deck Plan\n",
    "\n",
    "1. A deck is created for each story, ordered e.g. Swedish::LM1000::01 First Story\n",
    "2.  hrase data is stored outside of collections (audio, images)\n",
    "3. Phrase translations are stored within a collection, but they both operate off the same key\n",
    "4. We want to get the collection dictionary, which gives us a story name (and therefore deck title) and a list of phrases\n",
    "5. We then want to get the data from GCS for all of those phrases: audio normal and slow, english, target, wiktionary_links, image\n",
    "6. We can then create an anki deck based off this data and upload to GCS\n"
   ]
  },
  {
   "cell_type": "code",
   "execution_count": 6,
   "metadata": {},
   "outputs": [
    {
     "name": "stderr",
     "output_type": "stream",
     "text": [
      "Building phrase dictionary: 100%|██████████| 39/39 [00:05<00:00,  7.26it/s]\n",
      "adding notes to deck: 100%|██████████| 39/39 [00:00<?, ?it/s]\n"
     ]
    },
    {
     "name": "stdout",
     "output_type": "stream",
     "text": [
      "Anki deck exported to ../outputs/gcs\\audio-language-trainer-private-content\\collections/LM1000/spanish/flashcards/spanish_10_story_a_fishing_trip.apkg\n",
      "Flashcard file uploaded to GCS: gs://audio-language-trainer-private-content/collections/LM1000/spanish/flashcards/spanish_10_story_a_fishing_trip.apkg\n"
     ]
    },
    {
     "name": "stderr",
     "output_type": "stream",
     "text": [
      "deleting temp files: 100%|██████████| 117/117 [00:00<00:00, 1314.61it/s]"
     ]
    },
    {
     "name": "stdout",
     "output_type": "stream",
     "text": [
      "Cleanup of temporary files completed.\n"
     ]
    },
    {
     "name": "stderr",
     "output_type": "stream",
     "text": [
      "\n"
     ]
    }
   ],
   "source": [
    "from src.anki_tools import create_anki_deck_from_gcs\n",
    "\n",
    "create_anki_deck_from_gcs(story_name=\"story_a_fishing_trip\", collection=\"LM1000\", bucket_name=config.GCS_PRIVATE_BUCKET)\n"
   ]
  },
  {
   "cell_type": "code",
   "execution_count": 7,
   "metadata": {},
   "outputs": [],
   "source": [
    "#import to anki\n",
    "from src.anki_tools import import_anki_packages"
   ]
  },
  {
   "cell_type": "code",
   "execution_count": 19,
   "metadata": {},
   "outputs": [],
   "source": [
    "\n",
    "flashcard_path = os.path.join(\"../outputs/gcs/\", config.GCS_PRIVATE_BUCKET, get_flashcard_path(collection=\"LM1000\"))\n",
    "apkg_files = [file for file in os.listdir(flashcard_path) if file.endswith(\"apkg\")]\n",
    "apkg_paths = [str(flashcard_path + \"/\" + file) for file in apkg_files]"
   ]
  },
  {
   "cell_type": "code",
   "execution_count": 20,
   "metadata": {},
   "outputs": [
    {
     "data": {
      "text/plain": [
       "['../outputs/gcs/audio-language-trainer-private-content\\\\collections/LM1000/spanish/flashcards//spanish_10_story_a_fishing_trip.apkg']"
      ]
     },
     "execution_count": 20,
     "metadata": {},
     "output_type": "execute_result"
    }
   ],
   "source": [
    "apkg_paths"
   ]
  },
  {
   "cell_type": "code",
   "execution_count": 22,
   "metadata": {},
   "outputs": [
    {
     "name": "stdout",
     "output_type": "stream",
     "text": [
      "Connected to Anki collection: C:/Users/i5/AppData/Roaming/Anki2/User 1/collection.anki2\n",
      "Importing 1 package(s)...\n",
      "audio-language-trainer\\src\\anki_tools.py:101:save() is deprecated: saving is automatic\n",
      "Import summary:\n",
      "Total notes imported: 39\n",
      "Successfully imported packages: 1\n",
      "\n",
      "Successful imports:\n",
      "- ../outputs/gcs/audio-language-trainer-private-content\\collections/LM1000/spanish/flashcards//spanish_10_story_a_fishing_trip.apkg: 39 notes\n"
     ]
    },
    {
     "data": {
      "text/plain": [
       "{'total_imported': 39,\n",
       " 'successful': [{'path': '../outputs/gcs/audio-language-trainer-private-content\\\\collections/LM1000/spanish/flashcards//spanish_10_story_a_fishing_trip.apkg',\n",
       "   'notes_imported': 39}],\n",
       " 'failed': {}}"
      ]
     },
     "execution_count": 22,
     "metadata": {},
     "output_type": "execute_result"
    }
   ],
   "source": [
    "import_anki_packages(apkg_paths)"
   ]
  },
  {
   "cell_type": "code",
   "execution_count": null,
   "metadata": {},
   "outputs": [],
   "source": []
  }
 ],
 "metadata": {
  "kernelspec": {
   "display_name": ".venv",
   "language": "python",
   "name": "python3"
  },
  "language_info": {
   "codemirror_mode": {
    "name": "ipython",
    "version": 3
   },
   "file_extension": ".py",
   "mimetype": "text/x-python",
   "name": "python",
   "nbconvert_exporter": "python",
   "pygments_lexer": "ipython3",
   "version": "3.11.4"
  }
 },
 "nbformat": 4,
 "nbformat_minor": 2
}
