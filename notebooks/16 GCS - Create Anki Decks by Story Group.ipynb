{
 "cells": [
  {
   "cell_type": "code",
   "execution_count": 1,
   "metadata": {},
   "outputs": [],
   "source": [
    "from google.auth import default\n",
    "credentials, project = default()"
   ]
  },
  {
   "cell_type": "code",
   "execution_count": 2,
   "metadata": {},
   "outputs": [
    {
     "name": "stdout",
     "output_type": "stream",
     "text": [
      "Default FFmpeg path added to system PATH: C:\\Program Files\\ffmpeg-7.0-essentials_build\\bin\n"
     ]
    },
    {
     "data": {
      "text/plain": [
       "'French'"
      ]
     },
     "execution_count": 2,
     "metadata": {},
     "output_type": "execute_result"
    }
   ],
   "source": [
    "%load_ext autoreload\n",
    "%autoreload 2\n",
    "import os\n",
    "import sys\n",
    "from pathlib import Path\n",
    "module_path = os.path.abspath(os.path.join('..'))\n",
    "if module_path not in sys.path:\n",
    "    sys.path.append(module_path)\n",
    "from dotenv import load_dotenv\n",
    "load_dotenv()\n",
    "\n",
    "from src.utils import (load_json, get_first_n_items, list_story_folders, save_json, save_text_file, load_text_file)  # noqa: E402\n",
    "from src.config_loader import config\n",
    "from src.anki_tools import create_anki_deck_from_gcs\n",
    "config.TARGET_LANGUAGE_NAME"
   ]
  },
  {
   "cell_type": "markdown",
   "metadata": {},
   "source": [
    "## Anki Deck Plan\n",
    "\n",
    "1. A deck is created for each story, ordered e.g. Swedish::LM1000::01 First Story\n",
    "2.  hrase data is stored outside of collections (audio, images)\n",
    "3. Phrase translations are stored within a collection, but they both operate off the same key\n",
    "4. We want to get the collection dictionary, which gives us a story name (and therefore deck title) and a list of phrases\n",
    "5. We then want to get the data from GCS for all of those phrases: audio normal and slow, english, target, wiktionary_links, image\n",
    "6. We can then create an anki deck based off this data and upload to GCS\n"
   ]
  },
  {
   "cell_type": "code",
   "execution_count": 3,
   "metadata": {},
   "outputs": [
    {
     "name": "stdout",
     "output_type": "stream",
     "text": [
      "french\n"
     ]
    }
   ],
   "source": [
    "language_name = config.TARGET_LANGUAGE_NAME.lower()\n",
    "print(language_name)"
   ]
  },
  {
   "cell_type": "code",
   "execution_count": 4,
   "metadata": {},
   "outputs": [
    {
     "name": "stderr",
     "output_type": "stream",
     "text": [
      "Building phrase dictionary: 100%|██████████| 51/51 [00:10<00:00,  4.84it/s]\n",
      "adding notes to deck: 100%|██████████| 51/51 [00:00<?, ?it/s]\n"
     ]
    },
    {
     "name": "stdout",
     "output_type": "stream",
     "text": [
      "Anki deck exported to ../outputs/flashcards\\french_sunset_wedding_blues_anki_deck.apkg\n"
     ]
    },
    {
     "name": "stderr",
     "output_type": "stream",
     "text": [
      "deleting temp files: 100%|██████████| 153/153 [00:00<00:00, 3187.34it/s]\n"
     ]
    },
    {
     "name": "stdout",
     "output_type": "stream",
     "text": [
      "Cleanup of temporary files completed.\n"
     ]
    },
    {
     "name": "stderr",
     "output_type": "stream",
     "text": [
      "Building phrase dictionary: 100%|██████████| 51/51 [00:09<00:00,  5.27it/s]\n",
      "adding notes to deck: 100%|██████████| 51/51 [00:00<00:00, 51040.21it/s]\n"
     ]
    },
    {
     "name": "stdout",
     "output_type": "stream",
     "text": [
      "Anki deck exported to ../outputs/flashcards\\french_better_than_a_movie_anki_deck.apkg\n"
     ]
    },
    {
     "name": "stderr",
     "output_type": "stream",
     "text": [
      "deleting temp files: 100%|██████████| 153/153 [00:00<00:00, 3644.16it/s]\n"
     ]
    },
    {
     "name": "stdout",
     "output_type": "stream",
     "text": [
      "Cleanup of temporary files completed.\n"
     ]
    },
    {
     "name": "stderr",
     "output_type": "stream",
     "text": [
      "Building phrase dictionary: 100%|██████████| 50/50 [00:10<00:00,  4.92it/s]\n",
      "adding notes to deck: 100%|██████████| 50/50 [00:00<?, ?it/s]\n"
     ]
    },
    {
     "name": "stdout",
     "output_type": "stream",
     "text": [
      "Anki deck exported to ../outputs/flashcards\\french_unexpected_wedding_guests_anki_deck.apkg\n"
     ]
    },
    {
     "name": "stderr",
     "output_type": "stream",
     "text": [
      "deleting temp files: 100%|██████████| 150/150 [00:00<00:00, 3949.59it/s]\n"
     ]
    },
    {
     "name": "stdout",
     "output_type": "stream",
     "text": [
      "Cleanup of temporary files completed.\n"
     ]
    },
    {
     "name": "stderr",
     "output_type": "stream",
     "text": [
      "Building phrase dictionary: 100%|██████████| 50/50 [00:10<00:00,  4.94it/s]\n",
      "adding notes to deck: 100%|██████████| 50/50 [00:00<00:00, 49979.79it/s]\n"
     ]
    },
    {
     "name": "stdout",
     "output_type": "stream",
     "text": [
      "Anki deck exported to ../outputs/flashcards\\french_midnight_garden_mystery_anki_deck.apkg\n"
     ]
    },
    {
     "name": "stderr",
     "output_type": "stream",
     "text": [
      "deleting temp files: 100%|██████████| 150/150 [00:00<00:00, 2941.03it/s]\n"
     ]
    },
    {
     "name": "stdout",
     "output_type": "stream",
     "text": [
      "Cleanup of temporary files completed.\n"
     ]
    },
    {
     "name": "stderr",
     "output_type": "stream",
     "text": [
      "Building phrase dictionary: 100%|██████████| 50/50 [00:09<00:00,  5.10it/s]\n",
      "adding notes to deck: 100%|██████████| 50/50 [00:00<?, ?it/s]\n"
     ]
    },
    {
     "name": "stdout",
     "output_type": "stream",
     "text": [
      "Anki deck exported to ../outputs/flashcards\\french_workplace_stress_vacation_anki_deck.apkg\n"
     ]
    },
    {
     "name": "stderr",
     "output_type": "stream",
     "text": [
      "deleting temp files: 100%|██████████| 150/150 [00:00<00:00, 2777.68it/s]\n"
     ]
    },
    {
     "name": "stdout",
     "output_type": "stream",
     "text": [
      "Cleanup of temporary files completed.\n"
     ]
    },
    {
     "name": "stderr",
     "output_type": "stream",
     "text": [
      "Building phrase dictionary: 100%|██████████| 51/51 [00:11<00:00,  4.53it/s]\n",
      "adding notes to deck: 100%|██████████| 51/51 [00:00<?, ?it/s]\n"
     ]
    },
    {
     "name": "stdout",
     "output_type": "stream",
     "text": [
      "Anki deck exported to ../outputs/flashcards\\french_the_marathon_anki_deck.apkg\n"
     ]
    },
    {
     "name": "stderr",
     "output_type": "stream",
     "text": [
      "deleting temp files: 100%|██████████| 153/153 [00:00<00:00, 3477.37it/s]\n"
     ]
    },
    {
     "name": "stdout",
     "output_type": "stream",
     "text": [
      "Cleanup of temporary files completed.\n"
     ]
    },
    {
     "name": "stderr",
     "output_type": "stream",
     "text": [
      "Building phrase dictionary: 100%|██████████| 49/49 [00:09<00:00,  4.95it/s]\n",
      "adding notes to deck: 100%|██████████| 49/49 [00:00<?, ?it/s]\n"
     ]
    },
    {
     "name": "stdout",
     "output_type": "stream",
     "text": [
      "Anki deck exported to ../outputs/flashcards\\french_teaching_music_anki_deck.apkg\n"
     ]
    },
    {
     "name": "stderr",
     "output_type": "stream",
     "text": [
      "deleting temp files: 100%|██████████| 147/147 [00:00<00:00, 3499.84it/s]\n"
     ]
    },
    {
     "name": "stdout",
     "output_type": "stream",
     "text": [
      "Cleanup of temporary files completed.\n"
     ]
    },
    {
     "name": "stderr",
     "output_type": "stream",
     "text": [
      "Building phrase dictionary: 100%|██████████| 51/51 [00:08<00:00,  6.01it/s]\n",
      "adding notes to deck: 100%|██████████| 51/51 [00:00<?, ?it/s]\n"
     ]
    },
    {
     "name": "stdout",
     "output_type": "stream",
     "text": [
      "Anki deck exported to ../outputs/flashcards\\french_job_interview_gone_wrong_anki_deck.apkg\n"
     ]
    },
    {
     "name": "stderr",
     "output_type": "stream",
     "text": [
      "deleting temp files: 100%|██████████| 153/153 [00:00<00:00, 4026.53it/s]\n"
     ]
    },
    {
     "name": "stdout",
     "output_type": "stream",
     "text": [
      "Cleanup of temporary files completed.\n"
     ]
    },
    {
     "name": "stderr",
     "output_type": "stream",
     "text": [
      "Building phrase dictionary: 100%|██████████| 34/34 [00:06<00:00,  4.87it/s]\n",
      "adding notes to deck: 100%|██████████| 34/34 [00:00<?, ?it/s]\n"
     ]
    },
    {
     "name": "stdout",
     "output_type": "stream",
     "text": [
      "Anki deck exported to ../outputs/flashcards\\french_winter_in_sweden_anki_deck.apkg\n"
     ]
    },
    {
     "name": "stderr",
     "output_type": "stream",
     "text": [
      "deleting temp files: 100%|██████████| 102/102 [00:00<00:00, 3922.75it/s]\n"
     ]
    },
    {
     "name": "stdout",
     "output_type": "stream",
     "text": [
      "Cleanup of temporary files completed.\n"
     ]
    },
    {
     "name": "stderr",
     "output_type": "stream",
     "text": [
      "Building phrase dictionary: 100%|██████████| 40/40 [00:06<00:00,  5.99it/s]\n",
      "adding notes to deck: 100%|██████████| 40/40 [00:00<?, ?it/s]\n"
     ]
    },
    {
     "name": "stdout",
     "output_type": "stream",
     "text": [
      "Anki deck exported to ../outputs/flashcards\\french_a_fishing_trip_anki_deck.apkg\n"
     ]
    },
    {
     "name": "stderr",
     "output_type": "stream",
     "text": [
      "deleting temp files: 100%|██████████| 120/120 [00:00<00:00, 3428.63it/s]\n"
     ]
    },
    {
     "name": "stdout",
     "output_type": "stream",
     "text": [
      "Cleanup of temporary files completed.\n"
     ]
    },
    {
     "name": "stderr",
     "output_type": "stream",
     "text": [
      "Building phrase dictionary: 100%|██████████| 48/48 [00:08<00:00,  5.81it/s]\n",
      "adding notes to deck: 100%|██████████| 48/48 [00:00<00:00, 47969.17it/s]\n"
     ]
    },
    {
     "name": "stdout",
     "output_type": "stream",
     "text": [
      "Anki deck exported to ../outputs/flashcards\\french_team_spirit_anki_deck.apkg\n"
     ]
    },
    {
     "name": "stderr",
     "output_type": "stream",
     "text": [
      "deleting temp files: 100%|██████████| 144/144 [00:00<00:00, 3199.71it/s]\n"
     ]
    },
    {
     "name": "stdout",
     "output_type": "stream",
     "text": [
      "Cleanup of temporary files completed.\n"
     ]
    },
    {
     "name": "stderr",
     "output_type": "stream",
     "text": [
      "Building phrase dictionary: 100%|██████████| 39/39 [00:06<00:00,  5.67it/s]\n",
      "adding notes to deck: 100%|██████████| 39/39 [00:00<?, ?it/s]\n"
     ]
    },
    {
     "name": "stdout",
     "output_type": "stream",
     "text": [
      "Anki deck exported to ../outputs/flashcards\\french_brussels_blend_anki_deck.apkg\n"
     ]
    },
    {
     "name": "stderr",
     "output_type": "stream",
     "text": [
      "deleting temp files: 100%|██████████| 117/117 [00:00<00:00, 3545.58it/s]\n"
     ]
    },
    {
     "name": "stdout",
     "output_type": "stream",
     "text": [
      "Cleanup of temporary files completed.\n"
     ]
    },
    {
     "name": "stderr",
     "output_type": "stream",
     "text": [
      "Building phrase dictionary: 100%|██████████| 33/33 [00:06<00:00,  4.74it/s]\n",
      "adding notes to deck: 100%|██████████| 33/33 [00:00<?, ?it/s]\n"
     ]
    },
    {
     "name": "stdout",
     "output_type": "stream",
     "text": [
      "Anki deck exported to ../outputs/flashcards\\french_rainy_football_match_anki_deck.apkg\n"
     ]
    },
    {
     "name": "stderr",
     "output_type": "stream",
     "text": [
      "deleting temp files: 100%|██████████| 99/99 [00:00<00:00, 626.58it/s]\n"
     ]
    },
    {
     "name": "stdout",
     "output_type": "stream",
     "text": [
      "Cleanup of temporary files completed.\n"
     ]
    },
    {
     "name": "stderr",
     "output_type": "stream",
     "text": [
      "Building phrase dictionary: 100%|██████████| 25/25 [00:04<00:00,  5.68it/s]\n",
      "adding notes to deck: 100%|██████████| 25/25 [00:00<?, ?it/s]\n"
     ]
    },
    {
     "name": "stdout",
     "output_type": "stream",
     "text": [
      "Anki deck exported to ../outputs/flashcards\\french_camping_trip_gone_awry_anki_deck.apkg\n"
     ]
    },
    {
     "name": "stderr",
     "output_type": "stream",
     "text": [
      "deleting temp files: 100%|██████████| 75/75 [00:00<00:00, 3947.95it/s]\n"
     ]
    },
    {
     "name": "stdout",
     "output_type": "stream",
     "text": [
      "Cleanup of temporary files completed.\n"
     ]
    },
    {
     "name": "stderr",
     "output_type": "stream",
     "text": [
      "Building phrase dictionary: 100%|██████████| 50/50 [00:08<00:00,  5.59it/s]\n",
      "adding notes to deck: 100%|██████████| 50/50 [00:00<?, ?it/s]\n"
     ]
    },
    {
     "name": "stdout",
     "output_type": "stream",
     "text": [
      "Anki deck exported to ../outputs/flashcards\\french_unexpected_career_change_anki_deck.apkg\n"
     ]
    },
    {
     "name": "stderr",
     "output_type": "stream",
     "text": [
      "deleting temp files: 100%|██████████| 150/150 [00:00<00:00, 3488.32it/s]\n"
     ]
    },
    {
     "name": "stdout",
     "output_type": "stream",
     "text": [
      "Cleanup of temporary files completed.\n"
     ]
    },
    {
     "name": "stderr",
     "output_type": "stream",
     "text": [
      "Building phrase dictionary: 100%|██████████| 30/30 [00:05<00:00,  5.37it/s]\n",
      "adding notes to deck: 100%|██████████| 30/30 [00:00<?, ?it/s]\n"
     ]
    },
    {
     "name": "stdout",
     "output_type": "stream",
     "text": [
      "Anki deck exported to ../outputs/flashcards\\french_a_missed_stop_anki_deck.apkg\n"
     ]
    },
    {
     "name": "stderr",
     "output_type": "stream",
     "text": [
      "deleting temp files: 100%|██████████| 90/90 [00:00<00:00, 3599.64it/s]\n"
     ]
    },
    {
     "name": "stdout",
     "output_type": "stream",
     "text": [
      "Cleanup of temporary files completed.\n"
     ]
    },
    {
     "name": "stderr",
     "output_type": "stream",
     "text": [
      "Building phrase dictionary: 100%|██████████| 32/32 [00:05<00:00,  5.53it/s]\n",
      "adding notes to deck: 100%|██████████| 32/32 [00:00<?, ?it/s]\n"
     ]
    },
    {
     "name": "stdout",
     "output_type": "stream",
     "text": [
      "Anki deck exported to ../outputs/flashcards\\french_road_trip_anki_deck.apkg\n"
     ]
    },
    {
     "name": "stderr",
     "output_type": "stream",
     "text": [
      "deleting temp files: 100%|██████████| 96/96 [00:00<00:00, 3199.85it/s]\n"
     ]
    },
    {
     "name": "stdout",
     "output_type": "stream",
     "text": [
      "Cleanup of temporary files completed.\n"
     ]
    },
    {
     "name": "stderr",
     "output_type": "stream",
     "text": [
      "Building phrase dictionary: 100%|██████████| 29/29 [00:05<00:00,  5.71it/s]\n",
      "adding notes to deck: 100%|██████████| 29/29 [00:00<?, ?it/s]\n"
     ]
    },
    {
     "name": "stdout",
     "output_type": "stream",
     "text": [
      "Anki deck exported to ../outputs/flashcards\\french_forgetful_diver_anki_deck.apkg\n"
     ]
    },
    {
     "name": "stderr",
     "output_type": "stream",
     "text": [
      "deleting temp files: 100%|██████████| 87/87 [00:00<00:00, 3479.39it/s]\n"
     ]
    },
    {
     "name": "stdout",
     "output_type": "stream",
     "text": [
      "Cleanup of temporary files completed.\n"
     ]
    },
    {
     "name": "stderr",
     "output_type": "stream",
     "text": [
      "Building phrase dictionary: 100%|██████████| 30/30 [00:05<00:00,  5.48it/s]\n",
      "adding notes to deck: 100%|██████████| 30/30 [00:00<?, ?it/s]\n"
     ]
    },
    {
     "name": "stdout",
     "output_type": "stream",
     "text": [
      "Anki deck exported to ../outputs/flashcards\\french_the_birthday_party_anki_deck.apkg\n"
     ]
    },
    {
     "name": "stderr",
     "output_type": "stream",
     "text": [
      "deleting temp files: 100%|██████████| 90/90 [00:00<00:00, 3461.66it/s]\n"
     ]
    },
    {
     "name": "stdout",
     "output_type": "stream",
     "text": [
      "Cleanup of temporary files completed.\n"
     ]
    },
    {
     "name": "stderr",
     "output_type": "stream",
     "text": [
      "Building phrase dictionary: 100%|██████████| 37/37 [00:06<00:00,  5.62it/s]\n",
      "adding notes to deck: 100%|██████████| 37/37 [00:00<?, ?it/s]\n"
     ]
    },
    {
     "name": "stdout",
     "output_type": "stream",
     "text": [
      "Anki deck exported to ../outputs/flashcards\\french_the_power_cut_anki_deck.apkg\n"
     ]
    },
    {
     "name": "stderr",
     "output_type": "stream",
     "text": [
      "deleting temp files: 100%|██████████| 111/111 [00:00<00:00, 3171.38it/s]"
     ]
    },
    {
     "name": "stdout",
     "output_type": "stream",
     "text": [
      "Cleanup of temporary files completed.\n"
     ]
    },
    {
     "name": "stderr",
     "output_type": "stream",
     "text": [
      "\n"
     ]
    }
   ],
   "source": [
    "from src.anki_tools import create_anki_deck_from_gcs\n",
    "\n",
    "create_anki_deck_from_gcs(collection=\"LM1000\", bucket_name=config.GCS_PRIVATE_BUCKET)\n"
   ]
  },
  {
   "cell_type": "code",
   "execution_count": 5,
   "metadata": {},
   "outputs": [],
   "source": [
    "#import to anki\n",
    "from src.anki_tools import import_anki_packages"
   ]
  },
  {
   "cell_type": "code",
   "execution_count": 6,
   "metadata": {},
   "outputs": [],
   "source": [
    "from pathlib import Path\n",
    "\n",
    "flashcard_path = Path().absolute().parent / \"outputs\" / \"flashcards\"\n",
    "apkg_files = [file for file in os.listdir(\"../outputs/flashcards\") if file.endswith(\"apkg\")]\n",
    "apkg_paths = [str(flashcard_path / file) for file in apkg_files]"
   ]
  },
  {
   "cell_type": "code",
   "execution_count": 8,
   "metadata": {},
   "outputs": [
    {
     "data": {
      "text/plain": [
       "'y:\\\\Python Scripts\\\\audio-language-trainer\\\\outputs\\\\flashcards\\\\french_sunset_wedding_blues_anki_deck.apkg'"
      ]
     },
     "execution_count": 8,
     "metadata": {},
     "output_type": "execute_result"
    }
   ],
   "source": [
    "apkg_paths[10]"
   ]
  },
  {
   "cell_type": "code",
   "execution_count": 9,
   "metadata": {},
   "outputs": [
    {
     "name": "stdout",
     "output_type": "stream",
     "text": [
      "Connected to Anki collection: C:/Users/i5/AppData/Roaming/Anki2/User 1/collection.anki2\n",
      "Importing 20 package(s)...\n",
      "blocked main thread for 670ms:\n",
      "  File \"<frozen runpy>\", line 198, in _run_module_as_main\n",
      "  File \"<frozen runpy>\", line 88, in _run_code\n",
      "  File \"y:\\Python Scripts\\audio-language-trainer\\.venv\\Lib\\site-packages\\ipykernel_launcher.py\", line 18, in <module>\n",
      "    app.launch_new_instance()\n",
      "  File \"y:\\Python Scripts\\audio-language-trainer\\.venv\\Lib\\site-packages\\traitlets\\config\\application.py\", line 1075, in launch_instance\n",
      "    app.start()\n",
      "  File \"y:\\Python Scripts\\audio-language-trainer\\.venv\\Lib\\site-packages\\ipykernel\\kernelapp.py\", line 739, in start\n",
      "    self.io_loop.start()\n",
      "  File \"y:\\Python Scripts\\audio-language-trainer\\.venv\\Lib\\site-packages\\tornado\\platform\\asyncio.py\", line 205, in start\n",
      "    self.asyncio_loop.run_forever()\n",
      "  File \"C:\\Users\\i5\\AppData\\Local\\Programs\\Python\\Python311\\Lib\\asyncio\\base_events.py\", line 607, in run_forever\n",
      "    self._run_once()\n",
      "  File \"C:\\Users\\i5\\AppData\\Local\\Programs\\Python\\Python311\\Lib\\asyncio\\base_events.py\", line 1922, in _run_once\n",
      "    handle._run()\n",
      "  File \"C:\\Users\\i5\\AppData\\Local\\Programs\\Python\\Python311\\Lib\\asyncio\\events.py\", line 80, in _run\n",
      "    self._context.run(self._callback, *self._args)\n",
      "  File \"y:\\Python Scripts\\audio-language-trainer\\.venv\\Lib\\site-packages\\ipykernel\\kernelbase.py\", line 545, in dispatch_queue\n",
      "    await self.process_one()\n",
      "  File \"y:\\Python Scripts\\audio-language-trainer\\.venv\\Lib\\site-packages\\ipykernel\\kernelbase.py\", line 534, in process_one\n",
      "    await dispatch(*args)\n",
      "  File \"y:\\Python Scripts\\audio-language-trainer\\.venv\\Lib\\site-packages\\ipykernel\\kernelbase.py\", line 437, in dispatch_shell\n",
      "    await result\n",
      "  File \"y:\\Python Scripts\\audio-language-trainer\\.venv\\Lib\\site-packages\\ipykernel\\ipkernel.py\", line 362, in execute_request\n",
      "    await super().execute_request(stream, ident, parent)\n",
      "  File \"y:\\Python Scripts\\audio-language-trainer\\.venv\\Lib\\site-packages\\ipykernel\\kernelbase.py\", line 778, in execute_request\n",
      "    reply_content = await reply_content\n",
      "  File \"y:\\Python Scripts\\audio-language-trainer\\.venv\\Lib\\site-packages\\ipykernel\\ipkernel.py\", line 449, in do_execute\n",
      "    res = shell.run_cell(\n",
      "  File \"y:\\Python Scripts\\audio-language-trainer\\.venv\\Lib\\site-packages\\ipykernel\\zmqshell.py\", line 549, in run_cell\n",
      "    return super().run_cell(*args, **kwargs)\n",
      "  File \"y:\\Python Scripts\\audio-language-trainer\\.venv\\Lib\\site-packages\\IPython\\core\\interactiveshell.py\", line 3075, in run_cell\n",
      "    result = self._run_cell(\n",
      "  File \"y:\\Python Scripts\\audio-language-trainer\\.venv\\Lib\\site-packages\\IPython\\core\\interactiveshell.py\", line 3130, in _run_cell\n",
      "    result = runner(coro)\n",
      "  File \"y:\\Python Scripts\\audio-language-trainer\\.venv\\Lib\\site-packages\\IPython\\core\\async_helpers.py\", line 128, in _pseudo_sync_runner\n",
      "    coro.send(None)\n",
      "  File \"y:\\Python Scripts\\audio-language-trainer\\.venv\\Lib\\site-packages\\IPython\\core\\interactiveshell.py\", line 3334, in run_cell_async\n",
      "    has_raised = await self.run_ast_nodes(code_ast.body, cell_name,\n",
      "  File \"y:\\Python Scripts\\audio-language-trainer\\.venv\\Lib\\site-packages\\IPython\\core\\interactiveshell.py\", line 3517, in run_ast_nodes\n",
      "    if await self.run_code(code, result, async_=asy):\n",
      "  File \"y:\\Python Scripts\\audio-language-trainer\\.venv\\Lib\\site-packages\\IPython\\core\\interactiveshell.py\", line 3577, in run_code\n",
      "    exec(code_obj, self.user_global_ns, self.user_ns)\n",
      "  File \"C:\\Users\\i5\\AppData\\Local\\Temp\\ipykernel_18768\\71270641.py\", line 1, in <module>\n",
      "    import_anki_packages(apkg_paths)\n",
      "  File \"y:\\Python Scripts\\audio-language-trainer\\src\\anki_tools.py\", line 86, in import_anki_packages\n",
      "    imported = reader.col.import_anki_package(request)\n",
      "  File \"y:\\Python Scripts\\audio-language-trainer\\.venv\\Lib\\site-packages\\anki\\collection.py\", line 362, in import_anki_package\n",
      "    log = self._backend.import_anki_package_raw(request.SerializeToString())\n",
      "  File \"y:\\Python Scripts\\audio-language-trainer\\.venv\\Lib\\site-packages\\anki\\_backend_generated.py\", line 1875, in import_anki_package_raw\n",
      "    return self._run_command(35, 2, message)\n",
      "  File \"y:\\Python Scripts\\audio-language-trainer\\.venv\\Lib\\site-packages\\anki\\_backend.py\", line 167, in _run_command\n",
      "    print(\"\".join(traceback.format_stack()))\n",
      "\n",
      "blocked main thread for 306ms:\n",
      "  File \"<frozen runpy>\", line 198, in _run_module_as_main\n",
      "  File \"<frozen runpy>\", line 88, in _run_code\n",
      "  File \"y:\\Python Scripts\\audio-language-trainer\\.venv\\Lib\\site-packages\\ipykernel_launcher.py\", line 18, in <module>\n",
      "    app.launch_new_instance()\n",
      "  File \"y:\\Python Scripts\\audio-language-trainer\\.venv\\Lib\\site-packages\\traitlets\\config\\application.py\", line 1075, in launch_instance\n",
      "    app.start()\n",
      "  File \"y:\\Python Scripts\\audio-language-trainer\\.venv\\Lib\\site-packages\\ipykernel\\kernelapp.py\", line 739, in start\n",
      "    self.io_loop.start()\n",
      "  File \"y:\\Python Scripts\\audio-language-trainer\\.venv\\Lib\\site-packages\\tornado\\platform\\asyncio.py\", line 205, in start\n",
      "    self.asyncio_loop.run_forever()\n",
      "  File \"C:\\Users\\i5\\AppData\\Local\\Programs\\Python\\Python311\\Lib\\asyncio\\base_events.py\", line 607, in run_forever\n",
      "    self._run_once()\n",
      "  File \"C:\\Users\\i5\\AppData\\Local\\Programs\\Python\\Python311\\Lib\\asyncio\\base_events.py\", line 1922, in _run_once\n",
      "    handle._run()\n",
      "  File \"C:\\Users\\i5\\AppData\\Local\\Programs\\Python\\Python311\\Lib\\asyncio\\events.py\", line 80, in _run\n",
      "    self._context.run(self._callback, *self._args)\n",
      "  File \"y:\\Python Scripts\\audio-language-trainer\\.venv\\Lib\\site-packages\\ipykernel\\kernelbase.py\", line 545, in dispatch_queue\n",
      "    await self.process_one()\n",
      "  File \"y:\\Python Scripts\\audio-language-trainer\\.venv\\Lib\\site-packages\\ipykernel\\kernelbase.py\", line 534, in process_one\n",
      "    await dispatch(*args)\n",
      "  File \"y:\\Python Scripts\\audio-language-trainer\\.venv\\Lib\\site-packages\\ipykernel\\kernelbase.py\", line 437, in dispatch_shell\n",
      "    await result\n",
      "  File \"y:\\Python Scripts\\audio-language-trainer\\.venv\\Lib\\site-packages\\ipykernel\\ipkernel.py\", line 362, in execute_request\n",
      "    await super().execute_request(stream, ident, parent)\n",
      "  File \"y:\\Python Scripts\\audio-language-trainer\\.venv\\Lib\\site-packages\\ipykernel\\kernelbase.py\", line 778, in execute_request\n",
      "    reply_content = await reply_content\n",
      "  File \"y:\\Python Scripts\\audio-language-trainer\\.venv\\Lib\\site-packages\\ipykernel\\ipkernel.py\", line 449, in do_execute\n",
      "    res = shell.run_cell(\n",
      "  File \"y:\\Python Scripts\\audio-language-trainer\\.venv\\Lib\\site-packages\\ipykernel\\zmqshell.py\", line 549, in run_cell\n",
      "    return super().run_cell(*args, **kwargs)\n",
      "  File \"y:\\Python Scripts\\audio-language-trainer\\.venv\\Lib\\site-packages\\IPython\\core\\interactiveshell.py\", line 3075, in run_cell\n",
      "    result = self._run_cell(\n",
      "  File \"y:\\Python Scripts\\audio-language-trainer\\.venv\\Lib\\site-packages\\IPython\\core\\interactiveshell.py\", line 3130, in _run_cell\n",
      "    result = runner(coro)\n",
      "  File \"y:\\Python Scripts\\audio-language-trainer\\.venv\\Lib\\site-packages\\IPython\\core\\async_helpers.py\", line 128, in _pseudo_sync_runner\n",
      "    coro.send(None)\n",
      "  File \"y:\\Python Scripts\\audio-language-trainer\\.venv\\Lib\\site-packages\\IPython\\core\\interactiveshell.py\", line 3334, in run_cell_async\n",
      "    has_raised = await self.run_ast_nodes(code_ast.body, cell_name,\n",
      "  File \"y:\\Python Scripts\\audio-language-trainer\\.venv\\Lib\\site-packages\\IPython\\core\\interactiveshell.py\", line 3517, in run_ast_nodes\n",
      "    if await self.run_code(code, result, async_=asy):\n",
      "  File \"y:\\Python Scripts\\audio-language-trainer\\.venv\\Lib\\site-packages\\IPython\\core\\interactiveshell.py\", line 3577, in run_code\n",
      "    exec(code_obj, self.user_global_ns, self.user_ns)\n",
      "  File \"C:\\Users\\i5\\AppData\\Local\\Temp\\ipykernel_18768\\71270641.py\", line 1, in <module>\n",
      "    import_anki_packages(apkg_paths)\n",
      "  File \"y:\\Python Scripts\\audio-language-trainer\\src\\anki_tools.py\", line 86, in import_anki_packages\n",
      "    imported = reader.col.import_anki_package(request)\n",
      "  File \"y:\\Python Scripts\\audio-language-trainer\\.venv\\Lib\\site-packages\\anki\\collection.py\", line 362, in import_anki_package\n",
      "    log = self._backend.import_anki_package_raw(request.SerializeToString())\n",
      "  File \"y:\\Python Scripts\\audio-language-trainer\\.venv\\Lib\\site-packages\\anki\\_backend_generated.py\", line 1875, in import_anki_package_raw\n",
      "    return self._run_command(35, 2, message)\n",
      "  File \"y:\\Python Scripts\\audio-language-trainer\\.venv\\Lib\\site-packages\\anki\\_backend.py\", line 167, in _run_command\n",
      "    print(\"\".join(traceback.format_stack()))\n",
      "\n",
      "blocked main thread for 519ms:\n",
      "  File \"<frozen runpy>\", line 198, in _run_module_as_main\n",
      "  File \"<frozen runpy>\", line 88, in _run_code\n",
      "  File \"y:\\Python Scripts\\audio-language-trainer\\.venv\\Lib\\site-packages\\ipykernel_launcher.py\", line 18, in <module>\n",
      "    app.launch_new_instance()\n",
      "  File \"y:\\Python Scripts\\audio-language-trainer\\.venv\\Lib\\site-packages\\traitlets\\config\\application.py\", line 1075, in launch_instance\n",
      "    app.start()\n",
      "  File \"y:\\Python Scripts\\audio-language-trainer\\.venv\\Lib\\site-packages\\ipykernel\\kernelapp.py\", line 739, in start\n",
      "    self.io_loop.start()\n",
      "  File \"y:\\Python Scripts\\audio-language-trainer\\.venv\\Lib\\site-packages\\tornado\\platform\\asyncio.py\", line 205, in start\n",
      "    self.asyncio_loop.run_forever()\n",
      "  File \"C:\\Users\\i5\\AppData\\Local\\Programs\\Python\\Python311\\Lib\\asyncio\\base_events.py\", line 607, in run_forever\n",
      "    self._run_once()\n",
      "  File \"C:\\Users\\i5\\AppData\\Local\\Programs\\Python\\Python311\\Lib\\asyncio\\base_events.py\", line 1922, in _run_once\n",
      "    handle._run()\n",
      "  File \"C:\\Users\\i5\\AppData\\Local\\Programs\\Python\\Python311\\Lib\\asyncio\\events.py\", line 80, in _run\n",
      "    self._context.run(self._callback, *self._args)\n",
      "  File \"y:\\Python Scripts\\audio-language-trainer\\.venv\\Lib\\site-packages\\ipykernel\\kernelbase.py\", line 545, in dispatch_queue\n",
      "    await self.process_one()\n",
      "  File \"y:\\Python Scripts\\audio-language-trainer\\.venv\\Lib\\site-packages\\ipykernel\\kernelbase.py\", line 534, in process_one\n",
      "    await dispatch(*args)\n",
      "  File \"y:\\Python Scripts\\audio-language-trainer\\.venv\\Lib\\site-packages\\ipykernel\\kernelbase.py\", line 437, in dispatch_shell\n",
      "    await result\n",
      "  File \"y:\\Python Scripts\\audio-language-trainer\\.venv\\Lib\\site-packages\\ipykernel\\ipkernel.py\", line 362, in execute_request\n",
      "    await super().execute_request(stream, ident, parent)\n",
      "  File \"y:\\Python Scripts\\audio-language-trainer\\.venv\\Lib\\site-packages\\ipykernel\\kernelbase.py\", line 778, in execute_request\n",
      "    reply_content = await reply_content\n",
      "  File \"y:\\Python Scripts\\audio-language-trainer\\.venv\\Lib\\site-packages\\ipykernel\\ipkernel.py\", line 449, in do_execute\n",
      "    res = shell.run_cell(\n",
      "  File \"y:\\Python Scripts\\audio-language-trainer\\.venv\\Lib\\site-packages\\ipykernel\\zmqshell.py\", line 549, in run_cell\n",
      "    return super().run_cell(*args, **kwargs)\n",
      "  File \"y:\\Python Scripts\\audio-language-trainer\\.venv\\Lib\\site-packages\\IPython\\core\\interactiveshell.py\", line 3075, in run_cell\n",
      "    result = self._run_cell(\n",
      "  File \"y:\\Python Scripts\\audio-language-trainer\\.venv\\Lib\\site-packages\\IPython\\core\\interactiveshell.py\", line 3130, in _run_cell\n",
      "    result = runner(coro)\n",
      "  File \"y:\\Python Scripts\\audio-language-trainer\\.venv\\Lib\\site-packages\\IPython\\core\\async_helpers.py\", line 128, in _pseudo_sync_runner\n",
      "    coro.send(None)\n",
      "  File \"y:\\Python Scripts\\audio-language-trainer\\.venv\\Lib\\site-packages\\IPython\\core\\interactiveshell.py\", line 3334, in run_cell_async\n",
      "    has_raised = await self.run_ast_nodes(code_ast.body, cell_name,\n",
      "  File \"y:\\Python Scripts\\audio-language-trainer\\.venv\\Lib\\site-packages\\IPython\\core\\interactiveshell.py\", line 3517, in run_ast_nodes\n",
      "    if await self.run_code(code, result, async_=asy):\n",
      "  File \"y:\\Python Scripts\\audio-language-trainer\\.venv\\Lib\\site-packages\\IPython\\core\\interactiveshell.py\", line 3577, in run_code\n",
      "    exec(code_obj, self.user_global_ns, self.user_ns)\n",
      "  File \"C:\\Users\\i5\\AppData\\Local\\Temp\\ipykernel_18768\\71270641.py\", line 1, in <module>\n",
      "    import_anki_packages(apkg_paths)\n",
      "  File \"y:\\Python Scripts\\audio-language-trainer\\src\\anki_tools.py\", line 86, in import_anki_packages\n",
      "    imported = reader.col.import_anki_package(request)\n",
      "  File \"y:\\Python Scripts\\audio-language-trainer\\.venv\\Lib\\site-packages\\anki\\collection.py\", line 362, in import_anki_package\n",
      "    log = self._backend.import_anki_package_raw(request.SerializeToString())\n",
      "  File \"y:\\Python Scripts\\audio-language-trainer\\.venv\\Lib\\site-packages\\anki\\_backend_generated.py\", line 1875, in import_anki_package_raw\n",
      "    return self._run_command(35, 2, message)\n",
      "  File \"y:\\Python Scripts\\audio-language-trainer\\.venv\\Lib\\site-packages\\anki\\_backend.py\", line 167, in _run_command\n",
      "    print(\"\".join(traceback.format_stack()))\n",
      "\n",
      "blocked main thread for 468ms:\n",
      "  File \"<frozen runpy>\", line 198, in _run_module_as_main\n",
      "  File \"<frozen runpy>\", line 88, in _run_code\n",
      "  File \"y:\\Python Scripts\\audio-language-trainer\\.venv\\Lib\\site-packages\\ipykernel_launcher.py\", line 18, in <module>\n",
      "    app.launch_new_instance()\n",
      "  File \"y:\\Python Scripts\\audio-language-trainer\\.venv\\Lib\\site-packages\\traitlets\\config\\application.py\", line 1075, in launch_instance\n",
      "    app.start()\n",
      "  File \"y:\\Python Scripts\\audio-language-trainer\\.venv\\Lib\\site-packages\\ipykernel\\kernelapp.py\", line 739, in start\n",
      "    self.io_loop.start()\n",
      "  File \"y:\\Python Scripts\\audio-language-trainer\\.venv\\Lib\\site-packages\\tornado\\platform\\asyncio.py\", line 205, in start\n",
      "    self.asyncio_loop.run_forever()\n",
      "  File \"C:\\Users\\i5\\AppData\\Local\\Programs\\Python\\Python311\\Lib\\asyncio\\base_events.py\", line 607, in run_forever\n",
      "    self._run_once()\n",
      "  File \"C:\\Users\\i5\\AppData\\Local\\Programs\\Python\\Python311\\Lib\\asyncio\\base_events.py\", line 1922, in _run_once\n",
      "    handle._run()\n",
      "  File \"C:\\Users\\i5\\AppData\\Local\\Programs\\Python\\Python311\\Lib\\asyncio\\events.py\", line 80, in _run\n",
      "    self._context.run(self._callback, *self._args)\n",
      "  File \"y:\\Python Scripts\\audio-language-trainer\\.venv\\Lib\\site-packages\\ipykernel\\kernelbase.py\", line 545, in dispatch_queue\n",
      "    await self.process_one()\n",
      "  File \"y:\\Python Scripts\\audio-language-trainer\\.venv\\Lib\\site-packages\\ipykernel\\kernelbase.py\", line 534, in process_one\n",
      "    await dispatch(*args)\n",
      "  File \"y:\\Python Scripts\\audio-language-trainer\\.venv\\Lib\\site-packages\\ipykernel\\kernelbase.py\", line 437, in dispatch_shell\n",
      "    await result\n",
      "  File \"y:\\Python Scripts\\audio-language-trainer\\.venv\\Lib\\site-packages\\ipykernel\\ipkernel.py\", line 362, in execute_request\n",
      "    await super().execute_request(stream, ident, parent)\n",
      "  File \"y:\\Python Scripts\\audio-language-trainer\\.venv\\Lib\\site-packages\\ipykernel\\kernelbase.py\", line 778, in execute_request\n",
      "    reply_content = await reply_content\n",
      "  File \"y:\\Python Scripts\\audio-language-trainer\\.venv\\Lib\\site-packages\\ipykernel\\ipkernel.py\", line 449, in do_execute\n",
      "    res = shell.run_cell(\n",
      "  File \"y:\\Python Scripts\\audio-language-trainer\\.venv\\Lib\\site-packages\\ipykernel\\zmqshell.py\", line 549, in run_cell\n",
      "    return super().run_cell(*args, **kwargs)\n",
      "  File \"y:\\Python Scripts\\audio-language-trainer\\.venv\\Lib\\site-packages\\IPython\\core\\interactiveshell.py\", line 3075, in run_cell\n",
      "    result = self._run_cell(\n",
      "  File \"y:\\Python Scripts\\audio-language-trainer\\.venv\\Lib\\site-packages\\IPython\\core\\interactiveshell.py\", line 3130, in _run_cell\n",
      "    result = runner(coro)\n",
      "  File \"y:\\Python Scripts\\audio-language-trainer\\.venv\\Lib\\site-packages\\IPython\\core\\async_helpers.py\", line 128, in _pseudo_sync_runner\n",
      "    coro.send(None)\n",
      "  File \"y:\\Python Scripts\\audio-language-trainer\\.venv\\Lib\\site-packages\\IPython\\core\\interactiveshell.py\", line 3334, in run_cell_async\n",
      "    has_raised = await self.run_ast_nodes(code_ast.body, cell_name,\n",
      "  File \"y:\\Python Scripts\\audio-language-trainer\\.venv\\Lib\\site-packages\\IPython\\core\\interactiveshell.py\", line 3517, in run_ast_nodes\n",
      "    if await self.run_code(code, result, async_=asy):\n",
      "  File \"y:\\Python Scripts\\audio-language-trainer\\.venv\\Lib\\site-packages\\IPython\\core\\interactiveshell.py\", line 3577, in run_code\n",
      "    exec(code_obj, self.user_global_ns, self.user_ns)\n",
      "  File \"C:\\Users\\i5\\AppData\\Local\\Temp\\ipykernel_18768\\71270641.py\", line 1, in <module>\n",
      "    import_anki_packages(apkg_paths)\n",
      "  File \"y:\\Python Scripts\\audio-language-trainer\\src\\anki_tools.py\", line 86, in import_anki_packages\n",
      "    imported = reader.col.import_anki_package(request)\n",
      "  File \"y:\\Python Scripts\\audio-language-trainer\\.venv\\Lib\\site-packages\\anki\\collection.py\", line 362, in import_anki_package\n",
      "    log = self._backend.import_anki_package_raw(request.SerializeToString())\n",
      "  File \"y:\\Python Scripts\\audio-language-trainer\\.venv\\Lib\\site-packages\\anki\\_backend_generated.py\", line 1875, in import_anki_package_raw\n",
      "    return self._run_command(35, 2, message)\n",
      "  File \"y:\\Python Scripts\\audio-language-trainer\\.venv\\Lib\\site-packages\\anki\\_backend.py\", line 167, in _run_command\n",
      "    print(\"\".join(traceback.format_stack()))\n",
      "\n",
      "blocked main thread for 308ms:\n",
      "  File \"<frozen runpy>\", line 198, in _run_module_as_main\n",
      "  File \"<frozen runpy>\", line 88, in _run_code\n",
      "  File \"y:\\Python Scripts\\audio-language-trainer\\.venv\\Lib\\site-packages\\ipykernel_launcher.py\", line 18, in <module>\n",
      "    app.launch_new_instance()\n",
      "  File \"y:\\Python Scripts\\audio-language-trainer\\.venv\\Lib\\site-packages\\traitlets\\config\\application.py\", line 1075, in launch_instance\n",
      "    app.start()\n",
      "  File \"y:\\Python Scripts\\audio-language-trainer\\.venv\\Lib\\site-packages\\ipykernel\\kernelapp.py\", line 739, in start\n",
      "    self.io_loop.start()\n",
      "  File \"y:\\Python Scripts\\audio-language-trainer\\.venv\\Lib\\site-packages\\tornado\\platform\\asyncio.py\", line 205, in start\n",
      "    self.asyncio_loop.run_forever()\n",
      "  File \"C:\\Users\\i5\\AppData\\Local\\Programs\\Python\\Python311\\Lib\\asyncio\\base_events.py\", line 607, in run_forever\n",
      "    self._run_once()\n",
      "  File \"C:\\Users\\i5\\AppData\\Local\\Programs\\Python\\Python311\\Lib\\asyncio\\base_events.py\", line 1922, in _run_once\n",
      "    handle._run()\n",
      "  File \"C:\\Users\\i5\\AppData\\Local\\Programs\\Python\\Python311\\Lib\\asyncio\\events.py\", line 80, in _run\n",
      "    self._context.run(self._callback, *self._args)\n",
      "  File \"y:\\Python Scripts\\audio-language-trainer\\.venv\\Lib\\site-packages\\ipykernel\\kernelbase.py\", line 545, in dispatch_queue\n",
      "    await self.process_one()\n",
      "  File \"y:\\Python Scripts\\audio-language-trainer\\.venv\\Lib\\site-packages\\ipykernel\\kernelbase.py\", line 534, in process_one\n",
      "    await dispatch(*args)\n",
      "  File \"y:\\Python Scripts\\audio-language-trainer\\.venv\\Lib\\site-packages\\ipykernel\\kernelbase.py\", line 437, in dispatch_shell\n",
      "    await result\n",
      "  File \"y:\\Python Scripts\\audio-language-trainer\\.venv\\Lib\\site-packages\\ipykernel\\ipkernel.py\", line 362, in execute_request\n",
      "    await super().execute_request(stream, ident, parent)\n",
      "  File \"y:\\Python Scripts\\audio-language-trainer\\.venv\\Lib\\site-packages\\ipykernel\\kernelbase.py\", line 778, in execute_request\n",
      "    reply_content = await reply_content\n",
      "  File \"y:\\Python Scripts\\audio-language-trainer\\.venv\\Lib\\site-packages\\ipykernel\\ipkernel.py\", line 449, in do_execute\n",
      "    res = shell.run_cell(\n",
      "  File \"y:\\Python Scripts\\audio-language-trainer\\.venv\\Lib\\site-packages\\ipykernel\\zmqshell.py\", line 549, in run_cell\n",
      "    return super().run_cell(*args, **kwargs)\n",
      "  File \"y:\\Python Scripts\\audio-language-trainer\\.venv\\Lib\\site-packages\\IPython\\core\\interactiveshell.py\", line 3075, in run_cell\n",
      "    result = self._run_cell(\n",
      "  File \"y:\\Python Scripts\\audio-language-trainer\\.venv\\Lib\\site-packages\\IPython\\core\\interactiveshell.py\", line 3130, in _run_cell\n",
      "    result = runner(coro)\n",
      "  File \"y:\\Python Scripts\\audio-language-trainer\\.venv\\Lib\\site-packages\\IPython\\core\\async_helpers.py\", line 128, in _pseudo_sync_runner\n",
      "    coro.send(None)\n",
      "  File \"y:\\Python Scripts\\audio-language-trainer\\.venv\\Lib\\site-packages\\IPython\\core\\interactiveshell.py\", line 3334, in run_cell_async\n",
      "    has_raised = await self.run_ast_nodes(code_ast.body, cell_name,\n",
      "  File \"y:\\Python Scripts\\audio-language-trainer\\.venv\\Lib\\site-packages\\IPython\\core\\interactiveshell.py\", line 3517, in run_ast_nodes\n",
      "    if await self.run_code(code, result, async_=asy):\n",
      "  File \"y:\\Python Scripts\\audio-language-trainer\\.venv\\Lib\\site-packages\\IPython\\core\\interactiveshell.py\", line 3577, in run_code\n",
      "    exec(code_obj, self.user_global_ns, self.user_ns)\n",
      "  File \"C:\\Users\\i5\\AppData\\Local\\Temp\\ipykernel_18768\\71270641.py\", line 1, in <module>\n",
      "    import_anki_packages(apkg_paths)\n",
      "  File \"y:\\Python Scripts\\audio-language-trainer\\src\\anki_tools.py\", line 86, in import_anki_packages\n",
      "    imported = reader.col.import_anki_package(request)\n",
      "  File \"y:\\Python Scripts\\audio-language-trainer\\.venv\\Lib\\site-packages\\anki\\collection.py\", line 362, in import_anki_package\n",
      "    log = self._backend.import_anki_package_raw(request.SerializeToString())\n",
      "  File \"y:\\Python Scripts\\audio-language-trainer\\.venv\\Lib\\site-packages\\anki\\_backend_generated.py\", line 1875, in import_anki_package_raw\n",
      "    return self._run_command(35, 2, message)\n",
      "  File \"y:\\Python Scripts\\audio-language-trainer\\.venv\\Lib\\site-packages\\anki\\_backend.py\", line 167, in _run_command\n",
      "    print(\"\".join(traceback.format_stack()))\n",
      "\n",
      "blocked main thread for 306ms:\n",
      "  File \"<frozen runpy>\", line 198, in _run_module_as_main\n",
      "  File \"<frozen runpy>\", line 88, in _run_code\n",
      "  File \"y:\\Python Scripts\\audio-language-trainer\\.venv\\Lib\\site-packages\\ipykernel_launcher.py\", line 18, in <module>\n",
      "    app.launch_new_instance()\n",
      "  File \"y:\\Python Scripts\\audio-language-trainer\\.venv\\Lib\\site-packages\\traitlets\\config\\application.py\", line 1075, in launch_instance\n",
      "    app.start()\n",
      "  File \"y:\\Python Scripts\\audio-language-trainer\\.venv\\Lib\\site-packages\\ipykernel\\kernelapp.py\", line 739, in start\n",
      "    self.io_loop.start()\n",
      "  File \"y:\\Python Scripts\\audio-language-trainer\\.venv\\Lib\\site-packages\\tornado\\platform\\asyncio.py\", line 205, in start\n",
      "    self.asyncio_loop.run_forever()\n",
      "  File \"C:\\Users\\i5\\AppData\\Local\\Programs\\Python\\Python311\\Lib\\asyncio\\base_events.py\", line 607, in run_forever\n",
      "    self._run_once()\n",
      "  File \"C:\\Users\\i5\\AppData\\Local\\Programs\\Python\\Python311\\Lib\\asyncio\\base_events.py\", line 1922, in _run_once\n",
      "    handle._run()\n",
      "  File \"C:\\Users\\i5\\AppData\\Local\\Programs\\Python\\Python311\\Lib\\asyncio\\events.py\", line 80, in _run\n",
      "    self._context.run(self._callback, *self._args)\n",
      "  File \"y:\\Python Scripts\\audio-language-trainer\\.venv\\Lib\\site-packages\\ipykernel\\kernelbase.py\", line 545, in dispatch_queue\n",
      "    await self.process_one()\n",
      "  File \"y:\\Python Scripts\\audio-language-trainer\\.venv\\Lib\\site-packages\\ipykernel\\kernelbase.py\", line 534, in process_one\n",
      "    await dispatch(*args)\n",
      "  File \"y:\\Python Scripts\\audio-language-trainer\\.venv\\Lib\\site-packages\\ipykernel\\kernelbase.py\", line 437, in dispatch_shell\n",
      "    await result\n",
      "  File \"y:\\Python Scripts\\audio-language-trainer\\.venv\\Lib\\site-packages\\ipykernel\\ipkernel.py\", line 362, in execute_request\n",
      "    await super().execute_request(stream, ident, parent)\n",
      "  File \"y:\\Python Scripts\\audio-language-trainer\\.venv\\Lib\\site-packages\\ipykernel\\kernelbase.py\", line 778, in execute_request\n",
      "    reply_content = await reply_content\n",
      "  File \"y:\\Python Scripts\\audio-language-trainer\\.venv\\Lib\\site-packages\\ipykernel\\ipkernel.py\", line 449, in do_execute\n",
      "    res = shell.run_cell(\n",
      "  File \"y:\\Python Scripts\\audio-language-trainer\\.venv\\Lib\\site-packages\\ipykernel\\zmqshell.py\", line 549, in run_cell\n",
      "    return super().run_cell(*args, **kwargs)\n",
      "  File \"y:\\Python Scripts\\audio-language-trainer\\.venv\\Lib\\site-packages\\IPython\\core\\interactiveshell.py\", line 3075, in run_cell\n",
      "    result = self._run_cell(\n",
      "  File \"y:\\Python Scripts\\audio-language-trainer\\.venv\\Lib\\site-packages\\IPython\\core\\interactiveshell.py\", line 3130, in _run_cell\n",
      "    result = runner(coro)\n",
      "  File \"y:\\Python Scripts\\audio-language-trainer\\.venv\\Lib\\site-packages\\IPython\\core\\async_helpers.py\", line 128, in _pseudo_sync_runner\n",
      "    coro.send(None)\n",
      "  File \"y:\\Python Scripts\\audio-language-trainer\\.venv\\Lib\\site-packages\\IPython\\core\\interactiveshell.py\", line 3334, in run_cell_async\n",
      "    has_raised = await self.run_ast_nodes(code_ast.body, cell_name,\n",
      "  File \"y:\\Python Scripts\\audio-language-trainer\\.venv\\Lib\\site-packages\\IPython\\core\\interactiveshell.py\", line 3517, in run_ast_nodes\n",
      "    if await self.run_code(code, result, async_=asy):\n",
      "  File \"y:\\Python Scripts\\audio-language-trainer\\.venv\\Lib\\site-packages\\IPython\\core\\interactiveshell.py\", line 3577, in run_code\n",
      "    exec(code_obj, self.user_global_ns, self.user_ns)\n",
      "  File \"C:\\Users\\i5\\AppData\\Local\\Temp\\ipykernel_18768\\71270641.py\", line 1, in <module>\n",
      "    import_anki_packages(apkg_paths)\n",
      "  File \"y:\\Python Scripts\\audio-language-trainer\\src\\anki_tools.py\", line 86, in import_anki_packages\n",
      "    imported = reader.col.import_anki_package(request)\n",
      "  File \"y:\\Python Scripts\\audio-language-trainer\\.venv\\Lib\\site-packages\\anki\\collection.py\", line 362, in import_anki_package\n",
      "    log = self._backend.import_anki_package_raw(request.SerializeToString())\n",
      "  File \"y:\\Python Scripts\\audio-language-trainer\\.venv\\Lib\\site-packages\\anki\\_backend_generated.py\", line 1875, in import_anki_package_raw\n",
      "    return self._run_command(35, 2, message)\n",
      "  File \"y:\\Python Scripts\\audio-language-trainer\\.venv\\Lib\\site-packages\\anki\\_backend.py\", line 167, in _run_command\n",
      "    print(\"\".join(traceback.format_stack()))\n",
      "\n",
      "blocked main thread for 442ms:\n",
      "  File \"<frozen runpy>\", line 198, in _run_module_as_main\n",
      "  File \"<frozen runpy>\", line 88, in _run_code\n",
      "  File \"y:\\Python Scripts\\audio-language-trainer\\.venv\\Lib\\site-packages\\ipykernel_launcher.py\", line 18, in <module>\n",
      "    app.launch_new_instance()\n",
      "  File \"y:\\Python Scripts\\audio-language-trainer\\.venv\\Lib\\site-packages\\traitlets\\config\\application.py\", line 1075, in launch_instance\n",
      "    app.start()\n",
      "  File \"y:\\Python Scripts\\audio-language-trainer\\.venv\\Lib\\site-packages\\ipykernel\\kernelapp.py\", line 739, in start\n",
      "    self.io_loop.start()\n",
      "  File \"y:\\Python Scripts\\audio-language-trainer\\.venv\\Lib\\site-packages\\tornado\\platform\\asyncio.py\", line 205, in start\n",
      "    self.asyncio_loop.run_forever()\n",
      "  File \"C:\\Users\\i5\\AppData\\Local\\Programs\\Python\\Python311\\Lib\\asyncio\\base_events.py\", line 607, in run_forever\n",
      "    self._run_once()\n",
      "  File \"C:\\Users\\i5\\AppData\\Local\\Programs\\Python\\Python311\\Lib\\asyncio\\base_events.py\", line 1922, in _run_once\n",
      "    handle._run()\n",
      "  File \"C:\\Users\\i5\\AppData\\Local\\Programs\\Python\\Python311\\Lib\\asyncio\\events.py\", line 80, in _run\n",
      "    self._context.run(self._callback, *self._args)\n",
      "  File \"y:\\Python Scripts\\audio-language-trainer\\.venv\\Lib\\site-packages\\ipykernel\\kernelbase.py\", line 545, in dispatch_queue\n",
      "    await self.process_one()\n",
      "  File \"y:\\Python Scripts\\audio-language-trainer\\.venv\\Lib\\site-packages\\ipykernel\\kernelbase.py\", line 534, in process_one\n",
      "    await dispatch(*args)\n",
      "  File \"y:\\Python Scripts\\audio-language-trainer\\.venv\\Lib\\site-packages\\ipykernel\\kernelbase.py\", line 437, in dispatch_shell\n",
      "    await result\n",
      "  File \"y:\\Python Scripts\\audio-language-trainer\\.venv\\Lib\\site-packages\\ipykernel\\ipkernel.py\", line 362, in execute_request\n",
      "    await super().execute_request(stream, ident, parent)\n",
      "  File \"y:\\Python Scripts\\audio-language-trainer\\.venv\\Lib\\site-packages\\ipykernel\\kernelbase.py\", line 778, in execute_request\n",
      "    reply_content = await reply_content\n",
      "  File \"y:\\Python Scripts\\audio-language-trainer\\.venv\\Lib\\site-packages\\ipykernel\\ipkernel.py\", line 449, in do_execute\n",
      "    res = shell.run_cell(\n",
      "  File \"y:\\Python Scripts\\audio-language-trainer\\.venv\\Lib\\site-packages\\ipykernel\\zmqshell.py\", line 549, in run_cell\n",
      "    return super().run_cell(*args, **kwargs)\n",
      "  File \"y:\\Python Scripts\\audio-language-trainer\\.venv\\Lib\\site-packages\\IPython\\core\\interactiveshell.py\", line 3075, in run_cell\n",
      "    result = self._run_cell(\n",
      "  File \"y:\\Python Scripts\\audio-language-trainer\\.venv\\Lib\\site-packages\\IPython\\core\\interactiveshell.py\", line 3130, in _run_cell\n",
      "    result = runner(coro)\n",
      "  File \"y:\\Python Scripts\\audio-language-trainer\\.venv\\Lib\\site-packages\\IPython\\core\\async_helpers.py\", line 128, in _pseudo_sync_runner\n",
      "    coro.send(None)\n",
      "  File \"y:\\Python Scripts\\audio-language-trainer\\.venv\\Lib\\site-packages\\IPython\\core\\interactiveshell.py\", line 3334, in run_cell_async\n",
      "    has_raised = await self.run_ast_nodes(code_ast.body, cell_name,\n",
      "  File \"y:\\Python Scripts\\audio-language-trainer\\.venv\\Lib\\site-packages\\IPython\\core\\interactiveshell.py\", line 3517, in run_ast_nodes\n",
      "    if await self.run_code(code, result, async_=asy):\n",
      "  File \"y:\\Python Scripts\\audio-language-trainer\\.venv\\Lib\\site-packages\\IPython\\core\\interactiveshell.py\", line 3577, in run_code\n",
      "    exec(code_obj, self.user_global_ns, self.user_ns)\n",
      "  File \"C:\\Users\\i5\\AppData\\Local\\Temp\\ipykernel_18768\\71270641.py\", line 1, in <module>\n",
      "    import_anki_packages(apkg_paths)\n",
      "  File \"y:\\Python Scripts\\audio-language-trainer\\src\\anki_tools.py\", line 86, in import_anki_packages\n",
      "    imported = reader.col.import_anki_package(request)\n",
      "  File \"y:\\Python Scripts\\audio-language-trainer\\.venv\\Lib\\site-packages\\anki\\collection.py\", line 362, in import_anki_package\n",
      "    log = self._backend.import_anki_package_raw(request.SerializeToString())\n",
      "  File \"y:\\Python Scripts\\audio-language-trainer\\.venv\\Lib\\site-packages\\anki\\_backend_generated.py\", line 1875, in import_anki_package_raw\n",
      "    return self._run_command(35, 2, message)\n",
      "  File \"y:\\Python Scripts\\audio-language-trainer\\.venv\\Lib\\site-packages\\anki\\_backend.py\", line 167, in _run_command\n",
      "    print(\"\".join(traceback.format_stack()))\n",
      "\n",
      "blocked main thread for 500ms:\n",
      "  File \"<frozen runpy>\", line 198, in _run_module_as_main\n",
      "  File \"<frozen runpy>\", line 88, in _run_code\n",
      "  File \"y:\\Python Scripts\\audio-language-trainer\\.venv\\Lib\\site-packages\\ipykernel_launcher.py\", line 18, in <module>\n",
      "    app.launch_new_instance()\n",
      "  File \"y:\\Python Scripts\\audio-language-trainer\\.venv\\Lib\\site-packages\\traitlets\\config\\application.py\", line 1075, in launch_instance\n",
      "    app.start()\n",
      "  File \"y:\\Python Scripts\\audio-language-trainer\\.venv\\Lib\\site-packages\\ipykernel\\kernelapp.py\", line 739, in start\n",
      "    self.io_loop.start()\n",
      "  File \"y:\\Python Scripts\\audio-language-trainer\\.venv\\Lib\\site-packages\\tornado\\platform\\asyncio.py\", line 205, in start\n",
      "    self.asyncio_loop.run_forever()\n",
      "  File \"C:\\Users\\i5\\AppData\\Local\\Programs\\Python\\Python311\\Lib\\asyncio\\base_events.py\", line 607, in run_forever\n",
      "    self._run_once()\n",
      "  File \"C:\\Users\\i5\\AppData\\Local\\Programs\\Python\\Python311\\Lib\\asyncio\\base_events.py\", line 1922, in _run_once\n",
      "    handle._run()\n",
      "  File \"C:\\Users\\i5\\AppData\\Local\\Programs\\Python\\Python311\\Lib\\asyncio\\events.py\", line 80, in _run\n",
      "    self._context.run(self._callback, *self._args)\n",
      "  File \"y:\\Python Scripts\\audio-language-trainer\\.venv\\Lib\\site-packages\\ipykernel\\kernelbase.py\", line 545, in dispatch_queue\n",
      "    await self.process_one()\n",
      "  File \"y:\\Python Scripts\\audio-language-trainer\\.venv\\Lib\\site-packages\\ipykernel\\kernelbase.py\", line 534, in process_one\n",
      "    await dispatch(*args)\n",
      "  File \"y:\\Python Scripts\\audio-language-trainer\\.venv\\Lib\\site-packages\\ipykernel\\kernelbase.py\", line 437, in dispatch_shell\n",
      "    await result\n",
      "  File \"y:\\Python Scripts\\audio-language-trainer\\.venv\\Lib\\site-packages\\ipykernel\\ipkernel.py\", line 362, in execute_request\n",
      "    await super().execute_request(stream, ident, parent)\n",
      "  File \"y:\\Python Scripts\\audio-language-trainer\\.venv\\Lib\\site-packages\\ipykernel\\kernelbase.py\", line 778, in execute_request\n",
      "    reply_content = await reply_content\n",
      "  File \"y:\\Python Scripts\\audio-language-trainer\\.venv\\Lib\\site-packages\\ipykernel\\ipkernel.py\", line 449, in do_execute\n",
      "    res = shell.run_cell(\n",
      "  File \"y:\\Python Scripts\\audio-language-trainer\\.venv\\Lib\\site-packages\\ipykernel\\zmqshell.py\", line 549, in run_cell\n",
      "    return super().run_cell(*args, **kwargs)\n",
      "  File \"y:\\Python Scripts\\audio-language-trainer\\.venv\\Lib\\site-packages\\IPython\\core\\interactiveshell.py\", line 3075, in run_cell\n",
      "    result = self._run_cell(\n",
      "  File \"y:\\Python Scripts\\audio-language-trainer\\.venv\\Lib\\site-packages\\IPython\\core\\interactiveshell.py\", line 3130, in _run_cell\n",
      "    result = runner(coro)\n",
      "  File \"y:\\Python Scripts\\audio-language-trainer\\.venv\\Lib\\site-packages\\IPython\\core\\async_helpers.py\", line 128, in _pseudo_sync_runner\n",
      "    coro.send(None)\n",
      "  File \"y:\\Python Scripts\\audio-language-trainer\\.venv\\Lib\\site-packages\\IPython\\core\\interactiveshell.py\", line 3334, in run_cell_async\n",
      "    has_raised = await self.run_ast_nodes(code_ast.body, cell_name,\n",
      "  File \"y:\\Python Scripts\\audio-language-trainer\\.venv\\Lib\\site-packages\\IPython\\core\\interactiveshell.py\", line 3517, in run_ast_nodes\n",
      "    if await self.run_code(code, result, async_=asy):\n",
      "  File \"y:\\Python Scripts\\audio-language-trainer\\.venv\\Lib\\site-packages\\IPython\\core\\interactiveshell.py\", line 3577, in run_code\n",
      "    exec(code_obj, self.user_global_ns, self.user_ns)\n",
      "  File \"C:\\Users\\i5\\AppData\\Local\\Temp\\ipykernel_18768\\71270641.py\", line 1, in <module>\n",
      "    import_anki_packages(apkg_paths)\n",
      "  File \"y:\\Python Scripts\\audio-language-trainer\\src\\anki_tools.py\", line 86, in import_anki_packages\n",
      "    imported = reader.col.import_anki_package(request)\n",
      "  File \"y:\\Python Scripts\\audio-language-trainer\\.venv\\Lib\\site-packages\\anki\\collection.py\", line 362, in import_anki_package\n",
      "    log = self._backend.import_anki_package_raw(request.SerializeToString())\n",
      "  File \"y:\\Python Scripts\\audio-language-trainer\\.venv\\Lib\\site-packages\\anki\\_backend_generated.py\", line 1875, in import_anki_package_raw\n",
      "    return self._run_command(35, 2, message)\n",
      "  File \"y:\\Python Scripts\\audio-language-trainer\\.venv\\Lib\\site-packages\\anki\\_backend.py\", line 167, in _run_command\n",
      "    print(\"\".join(traceback.format_stack()))\n",
      "\n",
      "blocked main thread for 288ms:\n",
      "  File \"<frozen runpy>\", line 198, in _run_module_as_main\n",
      "  File \"<frozen runpy>\", line 88, in _run_code\n",
      "  File \"y:\\Python Scripts\\audio-language-trainer\\.venv\\Lib\\site-packages\\ipykernel_launcher.py\", line 18, in <module>\n",
      "    app.launch_new_instance()\n",
      "  File \"y:\\Python Scripts\\audio-language-trainer\\.venv\\Lib\\site-packages\\traitlets\\config\\application.py\", line 1075, in launch_instance\n",
      "    app.start()\n",
      "  File \"y:\\Python Scripts\\audio-language-trainer\\.venv\\Lib\\site-packages\\ipykernel\\kernelapp.py\", line 739, in start\n",
      "    self.io_loop.start()\n",
      "  File \"y:\\Python Scripts\\audio-language-trainer\\.venv\\Lib\\site-packages\\tornado\\platform\\asyncio.py\", line 205, in start\n",
      "    self.asyncio_loop.run_forever()\n",
      "  File \"C:\\Users\\i5\\AppData\\Local\\Programs\\Python\\Python311\\Lib\\asyncio\\base_events.py\", line 607, in run_forever\n",
      "    self._run_once()\n",
      "  File \"C:\\Users\\i5\\AppData\\Local\\Programs\\Python\\Python311\\Lib\\asyncio\\base_events.py\", line 1922, in _run_once\n",
      "    handle._run()\n",
      "  File \"C:\\Users\\i5\\AppData\\Local\\Programs\\Python\\Python311\\Lib\\asyncio\\events.py\", line 80, in _run\n",
      "    self._context.run(self._callback, *self._args)\n",
      "  File \"y:\\Python Scripts\\audio-language-trainer\\.venv\\Lib\\site-packages\\ipykernel\\kernelbase.py\", line 545, in dispatch_queue\n",
      "    await self.process_one()\n",
      "  File \"y:\\Python Scripts\\audio-language-trainer\\.venv\\Lib\\site-packages\\ipykernel\\kernelbase.py\", line 534, in process_one\n",
      "    await dispatch(*args)\n",
      "  File \"y:\\Python Scripts\\audio-language-trainer\\.venv\\Lib\\site-packages\\ipykernel\\kernelbase.py\", line 437, in dispatch_shell\n",
      "    await result\n",
      "  File \"y:\\Python Scripts\\audio-language-trainer\\.venv\\Lib\\site-packages\\ipykernel\\ipkernel.py\", line 362, in execute_request\n",
      "    await super().execute_request(stream, ident, parent)\n",
      "  File \"y:\\Python Scripts\\audio-language-trainer\\.venv\\Lib\\site-packages\\ipykernel\\kernelbase.py\", line 778, in execute_request\n",
      "    reply_content = await reply_content\n",
      "  File \"y:\\Python Scripts\\audio-language-trainer\\.venv\\Lib\\site-packages\\ipykernel\\ipkernel.py\", line 449, in do_execute\n",
      "    res = shell.run_cell(\n",
      "  File \"y:\\Python Scripts\\audio-language-trainer\\.venv\\Lib\\site-packages\\ipykernel\\zmqshell.py\", line 549, in run_cell\n",
      "    return super().run_cell(*args, **kwargs)\n",
      "  File \"y:\\Python Scripts\\audio-language-trainer\\.venv\\Lib\\site-packages\\IPython\\core\\interactiveshell.py\", line 3075, in run_cell\n",
      "    result = self._run_cell(\n",
      "  File \"y:\\Python Scripts\\audio-language-trainer\\.venv\\Lib\\site-packages\\IPython\\core\\interactiveshell.py\", line 3130, in _run_cell\n",
      "    result = runner(coro)\n",
      "  File \"y:\\Python Scripts\\audio-language-trainer\\.venv\\Lib\\site-packages\\IPython\\core\\async_helpers.py\", line 128, in _pseudo_sync_runner\n",
      "    coro.send(None)\n",
      "  File \"y:\\Python Scripts\\audio-language-trainer\\.venv\\Lib\\site-packages\\IPython\\core\\interactiveshell.py\", line 3334, in run_cell_async\n",
      "    has_raised = await self.run_ast_nodes(code_ast.body, cell_name,\n",
      "  File \"y:\\Python Scripts\\audio-language-trainer\\.venv\\Lib\\site-packages\\IPython\\core\\interactiveshell.py\", line 3517, in run_ast_nodes\n",
      "    if await self.run_code(code, result, async_=asy):\n",
      "  File \"y:\\Python Scripts\\audio-language-trainer\\.venv\\Lib\\site-packages\\IPython\\core\\interactiveshell.py\", line 3577, in run_code\n",
      "    exec(code_obj, self.user_global_ns, self.user_ns)\n",
      "  File \"C:\\Users\\i5\\AppData\\Local\\Temp\\ipykernel_18768\\71270641.py\", line 1, in <module>\n",
      "    import_anki_packages(apkg_paths)\n",
      "  File \"y:\\Python Scripts\\audio-language-trainer\\src\\anki_tools.py\", line 86, in import_anki_packages\n",
      "    imported = reader.col.import_anki_package(request)\n",
      "  File \"y:\\Python Scripts\\audio-language-trainer\\.venv\\Lib\\site-packages\\anki\\collection.py\", line 362, in import_anki_package\n",
      "    log = self._backend.import_anki_package_raw(request.SerializeToString())\n",
      "  File \"y:\\Python Scripts\\audio-language-trainer\\.venv\\Lib\\site-packages\\anki\\_backend_generated.py\", line 1875, in import_anki_package_raw\n",
      "    return self._run_command(35, 2, message)\n",
      "  File \"y:\\Python Scripts\\audio-language-trainer\\.venv\\Lib\\site-packages\\anki\\_backend.py\", line 167, in _run_command\n",
      "    print(\"\".join(traceback.format_stack()))\n",
      "\n",
      "blocked main thread for 565ms:\n",
      "  File \"<frozen runpy>\", line 198, in _run_module_as_main\n",
      "  File \"<frozen runpy>\", line 88, in _run_code\n",
      "  File \"y:\\Python Scripts\\audio-language-trainer\\.venv\\Lib\\site-packages\\ipykernel_launcher.py\", line 18, in <module>\n",
      "    app.launch_new_instance()\n",
      "  File \"y:\\Python Scripts\\audio-language-trainer\\.venv\\Lib\\site-packages\\traitlets\\config\\application.py\", line 1075, in launch_instance\n",
      "    app.start()\n",
      "  File \"y:\\Python Scripts\\audio-language-trainer\\.venv\\Lib\\site-packages\\ipykernel\\kernelapp.py\", line 739, in start\n",
      "    self.io_loop.start()\n",
      "  File \"y:\\Python Scripts\\audio-language-trainer\\.venv\\Lib\\site-packages\\tornado\\platform\\asyncio.py\", line 205, in start\n",
      "    self.asyncio_loop.run_forever()\n",
      "  File \"C:\\Users\\i5\\AppData\\Local\\Programs\\Python\\Python311\\Lib\\asyncio\\base_events.py\", line 607, in run_forever\n",
      "    self._run_once()\n",
      "  File \"C:\\Users\\i5\\AppData\\Local\\Programs\\Python\\Python311\\Lib\\asyncio\\base_events.py\", line 1922, in _run_once\n",
      "    handle._run()\n",
      "  File \"C:\\Users\\i5\\AppData\\Local\\Programs\\Python\\Python311\\Lib\\asyncio\\events.py\", line 80, in _run\n",
      "    self._context.run(self._callback, *self._args)\n",
      "  File \"y:\\Python Scripts\\audio-language-trainer\\.venv\\Lib\\site-packages\\ipykernel\\kernelbase.py\", line 545, in dispatch_queue\n",
      "    await self.process_one()\n",
      "  File \"y:\\Python Scripts\\audio-language-trainer\\.venv\\Lib\\site-packages\\ipykernel\\kernelbase.py\", line 534, in process_one\n",
      "    await dispatch(*args)\n",
      "  File \"y:\\Python Scripts\\audio-language-trainer\\.venv\\Lib\\site-packages\\ipykernel\\kernelbase.py\", line 437, in dispatch_shell\n",
      "    await result\n",
      "  File \"y:\\Python Scripts\\audio-language-trainer\\.venv\\Lib\\site-packages\\ipykernel\\ipkernel.py\", line 362, in execute_request\n",
      "    await super().execute_request(stream, ident, parent)\n",
      "  File \"y:\\Python Scripts\\audio-language-trainer\\.venv\\Lib\\site-packages\\ipykernel\\kernelbase.py\", line 778, in execute_request\n",
      "    reply_content = await reply_content\n",
      "  File \"y:\\Python Scripts\\audio-language-trainer\\.venv\\Lib\\site-packages\\ipykernel\\ipkernel.py\", line 449, in do_execute\n",
      "    res = shell.run_cell(\n",
      "  File \"y:\\Python Scripts\\audio-language-trainer\\.venv\\Lib\\site-packages\\ipykernel\\zmqshell.py\", line 549, in run_cell\n",
      "    return super().run_cell(*args, **kwargs)\n",
      "  File \"y:\\Python Scripts\\audio-language-trainer\\.venv\\Lib\\site-packages\\IPython\\core\\interactiveshell.py\", line 3075, in run_cell\n",
      "    result = self._run_cell(\n",
      "  File \"y:\\Python Scripts\\audio-language-trainer\\.venv\\Lib\\site-packages\\IPython\\core\\interactiveshell.py\", line 3130, in _run_cell\n",
      "    result = runner(coro)\n",
      "  File \"y:\\Python Scripts\\audio-language-trainer\\.venv\\Lib\\site-packages\\IPython\\core\\async_helpers.py\", line 128, in _pseudo_sync_runner\n",
      "    coro.send(None)\n",
      "  File \"y:\\Python Scripts\\audio-language-trainer\\.venv\\Lib\\site-packages\\IPython\\core\\interactiveshell.py\", line 3334, in run_cell_async\n",
      "    has_raised = await self.run_ast_nodes(code_ast.body, cell_name,\n",
      "  File \"y:\\Python Scripts\\audio-language-trainer\\.venv\\Lib\\site-packages\\IPython\\core\\interactiveshell.py\", line 3517, in run_ast_nodes\n",
      "    if await self.run_code(code, result, async_=asy):\n",
      "  File \"y:\\Python Scripts\\audio-language-trainer\\.venv\\Lib\\site-packages\\IPython\\core\\interactiveshell.py\", line 3577, in run_code\n",
      "    exec(code_obj, self.user_global_ns, self.user_ns)\n",
      "  File \"C:\\Users\\i5\\AppData\\Local\\Temp\\ipykernel_18768\\71270641.py\", line 1, in <module>\n",
      "    import_anki_packages(apkg_paths)\n",
      "  File \"y:\\Python Scripts\\audio-language-trainer\\src\\anki_tools.py\", line 86, in import_anki_packages\n",
      "    imported = reader.col.import_anki_package(request)\n",
      "  File \"y:\\Python Scripts\\audio-language-trainer\\.venv\\Lib\\site-packages\\anki\\collection.py\", line 362, in import_anki_package\n",
      "    log = self._backend.import_anki_package_raw(request.SerializeToString())\n",
      "  File \"y:\\Python Scripts\\audio-language-trainer\\.venv\\Lib\\site-packages\\anki\\_backend_generated.py\", line 1875, in import_anki_package_raw\n",
      "    return self._run_command(35, 2, message)\n",
      "  File \"y:\\Python Scripts\\audio-language-trainer\\.venv\\Lib\\site-packages\\anki\\_backend.py\", line 167, in _run_command\n",
      "    print(\"\".join(traceback.format_stack()))\n",
      "\n",
      "blocked main thread for 409ms:\n",
      "  File \"<frozen runpy>\", line 198, in _run_module_as_main\n",
      "  File \"<frozen runpy>\", line 88, in _run_code\n",
      "  File \"y:\\Python Scripts\\audio-language-trainer\\.venv\\Lib\\site-packages\\ipykernel_launcher.py\", line 18, in <module>\n",
      "    app.launch_new_instance()\n",
      "  File \"y:\\Python Scripts\\audio-language-trainer\\.venv\\Lib\\site-packages\\traitlets\\config\\application.py\", line 1075, in launch_instance\n",
      "    app.start()\n",
      "  File \"y:\\Python Scripts\\audio-language-trainer\\.venv\\Lib\\site-packages\\ipykernel\\kernelapp.py\", line 739, in start\n",
      "    self.io_loop.start()\n",
      "  File \"y:\\Python Scripts\\audio-language-trainer\\.venv\\Lib\\site-packages\\tornado\\platform\\asyncio.py\", line 205, in start\n",
      "    self.asyncio_loop.run_forever()\n",
      "  File \"C:\\Users\\i5\\AppData\\Local\\Programs\\Python\\Python311\\Lib\\asyncio\\base_events.py\", line 607, in run_forever\n",
      "    self._run_once()\n",
      "  File \"C:\\Users\\i5\\AppData\\Local\\Programs\\Python\\Python311\\Lib\\asyncio\\base_events.py\", line 1922, in _run_once\n",
      "    handle._run()\n",
      "  File \"C:\\Users\\i5\\AppData\\Local\\Programs\\Python\\Python311\\Lib\\asyncio\\events.py\", line 80, in _run\n",
      "    self._context.run(self._callback, *self._args)\n",
      "  File \"y:\\Python Scripts\\audio-language-trainer\\.venv\\Lib\\site-packages\\ipykernel\\kernelbase.py\", line 545, in dispatch_queue\n",
      "    await self.process_one()\n",
      "  File \"y:\\Python Scripts\\audio-language-trainer\\.venv\\Lib\\site-packages\\ipykernel\\kernelbase.py\", line 534, in process_one\n",
      "    await dispatch(*args)\n",
      "  File \"y:\\Python Scripts\\audio-language-trainer\\.venv\\Lib\\site-packages\\ipykernel\\kernelbase.py\", line 437, in dispatch_shell\n",
      "    await result\n",
      "  File \"y:\\Python Scripts\\audio-language-trainer\\.venv\\Lib\\site-packages\\ipykernel\\ipkernel.py\", line 362, in execute_request\n",
      "    await super().execute_request(stream, ident, parent)\n",
      "  File \"y:\\Python Scripts\\audio-language-trainer\\.venv\\Lib\\site-packages\\ipykernel\\kernelbase.py\", line 778, in execute_request\n",
      "    reply_content = await reply_content\n",
      "  File \"y:\\Python Scripts\\audio-language-trainer\\.venv\\Lib\\site-packages\\ipykernel\\ipkernel.py\", line 449, in do_execute\n",
      "    res = shell.run_cell(\n",
      "  File \"y:\\Python Scripts\\audio-language-trainer\\.venv\\Lib\\site-packages\\ipykernel\\zmqshell.py\", line 549, in run_cell\n",
      "    return super().run_cell(*args, **kwargs)\n",
      "  File \"y:\\Python Scripts\\audio-language-trainer\\.venv\\Lib\\site-packages\\IPython\\core\\interactiveshell.py\", line 3075, in run_cell\n",
      "    result = self._run_cell(\n",
      "  File \"y:\\Python Scripts\\audio-language-trainer\\.venv\\Lib\\site-packages\\IPython\\core\\interactiveshell.py\", line 3130, in _run_cell\n",
      "    result = runner(coro)\n",
      "  File \"y:\\Python Scripts\\audio-language-trainer\\.venv\\Lib\\site-packages\\IPython\\core\\async_helpers.py\", line 128, in _pseudo_sync_runner\n",
      "    coro.send(None)\n",
      "  File \"y:\\Python Scripts\\audio-language-trainer\\.venv\\Lib\\site-packages\\IPython\\core\\interactiveshell.py\", line 3334, in run_cell_async\n",
      "    has_raised = await self.run_ast_nodes(code_ast.body, cell_name,\n",
      "  File \"y:\\Python Scripts\\audio-language-trainer\\.venv\\Lib\\site-packages\\IPython\\core\\interactiveshell.py\", line 3517, in run_ast_nodes\n",
      "    if await self.run_code(code, result, async_=asy):\n",
      "  File \"y:\\Python Scripts\\audio-language-trainer\\.venv\\Lib\\site-packages\\IPython\\core\\interactiveshell.py\", line 3577, in run_code\n",
      "    exec(code_obj, self.user_global_ns, self.user_ns)\n",
      "  File \"C:\\Users\\i5\\AppData\\Local\\Temp\\ipykernel_18768\\71270641.py\", line 1, in <module>\n",
      "    import_anki_packages(apkg_paths)\n",
      "  File \"y:\\Python Scripts\\audio-language-trainer\\src\\anki_tools.py\", line 86, in import_anki_packages\n",
      "    imported = reader.col.import_anki_package(request)\n",
      "  File \"y:\\Python Scripts\\audio-language-trainer\\.venv\\Lib\\site-packages\\anki\\collection.py\", line 362, in import_anki_package\n",
      "    log = self._backend.import_anki_package_raw(request.SerializeToString())\n",
      "  File \"y:\\Python Scripts\\audio-language-trainer\\.venv\\Lib\\site-packages\\anki\\_backend_generated.py\", line 1875, in import_anki_package_raw\n",
      "    return self._run_command(35, 2, message)\n",
      "  File \"y:\\Python Scripts\\audio-language-trainer\\.venv\\Lib\\site-packages\\anki\\_backend.py\", line 167, in _run_command\n",
      "    print(\"\".join(traceback.format_stack()))\n",
      "\n",
      "blocked main thread for 385ms:\n",
      "  File \"<frozen runpy>\", line 198, in _run_module_as_main\n",
      "  File \"<frozen runpy>\", line 88, in _run_code\n",
      "  File \"y:\\Python Scripts\\audio-language-trainer\\.venv\\Lib\\site-packages\\ipykernel_launcher.py\", line 18, in <module>\n",
      "    app.launch_new_instance()\n",
      "  File \"y:\\Python Scripts\\audio-language-trainer\\.venv\\Lib\\site-packages\\traitlets\\config\\application.py\", line 1075, in launch_instance\n",
      "    app.start()\n",
      "  File \"y:\\Python Scripts\\audio-language-trainer\\.venv\\Lib\\site-packages\\ipykernel\\kernelapp.py\", line 739, in start\n",
      "    self.io_loop.start()\n",
      "  File \"y:\\Python Scripts\\audio-language-trainer\\.venv\\Lib\\site-packages\\tornado\\platform\\asyncio.py\", line 205, in start\n",
      "    self.asyncio_loop.run_forever()\n",
      "  File \"C:\\Users\\i5\\AppData\\Local\\Programs\\Python\\Python311\\Lib\\asyncio\\base_events.py\", line 607, in run_forever\n",
      "    self._run_once()\n",
      "  File \"C:\\Users\\i5\\AppData\\Local\\Programs\\Python\\Python311\\Lib\\asyncio\\base_events.py\", line 1922, in _run_once\n",
      "    handle._run()\n",
      "  File \"C:\\Users\\i5\\AppData\\Local\\Programs\\Python\\Python311\\Lib\\asyncio\\events.py\", line 80, in _run\n",
      "    self._context.run(self._callback, *self._args)\n",
      "  File \"y:\\Python Scripts\\audio-language-trainer\\.venv\\Lib\\site-packages\\ipykernel\\kernelbase.py\", line 545, in dispatch_queue\n",
      "    await self.process_one()\n",
      "  File \"y:\\Python Scripts\\audio-language-trainer\\.venv\\Lib\\site-packages\\ipykernel\\kernelbase.py\", line 534, in process_one\n",
      "    await dispatch(*args)\n",
      "  File \"y:\\Python Scripts\\audio-language-trainer\\.venv\\Lib\\site-packages\\ipykernel\\kernelbase.py\", line 437, in dispatch_shell\n",
      "    await result\n",
      "  File \"y:\\Python Scripts\\audio-language-trainer\\.venv\\Lib\\site-packages\\ipykernel\\ipkernel.py\", line 362, in execute_request\n",
      "    await super().execute_request(stream, ident, parent)\n",
      "  File \"y:\\Python Scripts\\audio-language-trainer\\.venv\\Lib\\site-packages\\ipykernel\\kernelbase.py\", line 778, in execute_request\n",
      "    reply_content = await reply_content\n",
      "  File \"y:\\Python Scripts\\audio-language-trainer\\.venv\\Lib\\site-packages\\ipykernel\\ipkernel.py\", line 449, in do_execute\n",
      "    res = shell.run_cell(\n",
      "  File \"y:\\Python Scripts\\audio-language-trainer\\.venv\\Lib\\site-packages\\ipykernel\\zmqshell.py\", line 549, in run_cell\n",
      "    return super().run_cell(*args, **kwargs)\n",
      "  File \"y:\\Python Scripts\\audio-language-trainer\\.venv\\Lib\\site-packages\\IPython\\core\\interactiveshell.py\", line 3075, in run_cell\n",
      "    result = self._run_cell(\n",
      "  File \"y:\\Python Scripts\\audio-language-trainer\\.venv\\Lib\\site-packages\\IPython\\core\\interactiveshell.py\", line 3130, in _run_cell\n",
      "    result = runner(coro)\n",
      "  File \"y:\\Python Scripts\\audio-language-trainer\\.venv\\Lib\\site-packages\\IPython\\core\\async_helpers.py\", line 128, in _pseudo_sync_runner\n",
      "    coro.send(None)\n",
      "  File \"y:\\Python Scripts\\audio-language-trainer\\.venv\\Lib\\site-packages\\IPython\\core\\interactiveshell.py\", line 3334, in run_cell_async\n",
      "    has_raised = await self.run_ast_nodes(code_ast.body, cell_name,\n",
      "  File \"y:\\Python Scripts\\audio-language-trainer\\.venv\\Lib\\site-packages\\IPython\\core\\interactiveshell.py\", line 3517, in run_ast_nodes\n",
      "    if await self.run_code(code, result, async_=asy):\n",
      "  File \"y:\\Python Scripts\\audio-language-trainer\\.venv\\Lib\\site-packages\\IPython\\core\\interactiveshell.py\", line 3577, in run_code\n",
      "    exec(code_obj, self.user_global_ns, self.user_ns)\n",
      "  File \"C:\\Users\\i5\\AppData\\Local\\Temp\\ipykernel_18768\\71270641.py\", line 1, in <module>\n",
      "    import_anki_packages(apkg_paths)\n",
      "  File \"y:\\Python Scripts\\audio-language-trainer\\src\\anki_tools.py\", line 86, in import_anki_packages\n",
      "    imported = reader.col.import_anki_package(request)\n",
      "  File \"y:\\Python Scripts\\audio-language-trainer\\.venv\\Lib\\site-packages\\anki\\collection.py\", line 362, in import_anki_package\n",
      "    log = self._backend.import_anki_package_raw(request.SerializeToString())\n",
      "  File \"y:\\Python Scripts\\audio-language-trainer\\.venv\\Lib\\site-packages\\anki\\_backend_generated.py\", line 1875, in import_anki_package_raw\n",
      "    return self._run_command(35, 2, message)\n",
      "  File \"y:\\Python Scripts\\audio-language-trainer\\.venv\\Lib\\site-packages\\anki\\_backend.py\", line 167, in _run_command\n",
      "    print(\"\".join(traceback.format_stack()))\n",
      "\n",
      "blocked main thread for 524ms:\n",
      "  File \"<frozen runpy>\", line 198, in _run_module_as_main\n",
      "  File \"<frozen runpy>\", line 88, in _run_code\n",
      "  File \"y:\\Python Scripts\\audio-language-trainer\\.venv\\Lib\\site-packages\\ipykernel_launcher.py\", line 18, in <module>\n",
      "    app.launch_new_instance()\n",
      "  File \"y:\\Python Scripts\\audio-language-trainer\\.venv\\Lib\\site-packages\\traitlets\\config\\application.py\", line 1075, in launch_instance\n",
      "    app.start()\n",
      "  File \"y:\\Python Scripts\\audio-language-trainer\\.venv\\Lib\\site-packages\\ipykernel\\kernelapp.py\", line 739, in start\n",
      "    self.io_loop.start()\n",
      "  File \"y:\\Python Scripts\\audio-language-trainer\\.venv\\Lib\\site-packages\\tornado\\platform\\asyncio.py\", line 205, in start\n",
      "    self.asyncio_loop.run_forever()\n",
      "  File \"C:\\Users\\i5\\AppData\\Local\\Programs\\Python\\Python311\\Lib\\asyncio\\base_events.py\", line 607, in run_forever\n",
      "    self._run_once()\n",
      "  File \"C:\\Users\\i5\\AppData\\Local\\Programs\\Python\\Python311\\Lib\\asyncio\\base_events.py\", line 1922, in _run_once\n",
      "    handle._run()\n",
      "  File \"C:\\Users\\i5\\AppData\\Local\\Programs\\Python\\Python311\\Lib\\asyncio\\events.py\", line 80, in _run\n",
      "    self._context.run(self._callback, *self._args)\n",
      "  File \"y:\\Python Scripts\\audio-language-trainer\\.venv\\Lib\\site-packages\\ipykernel\\kernelbase.py\", line 545, in dispatch_queue\n",
      "    await self.process_one()\n",
      "  File \"y:\\Python Scripts\\audio-language-trainer\\.venv\\Lib\\site-packages\\ipykernel\\kernelbase.py\", line 534, in process_one\n",
      "    await dispatch(*args)\n",
      "  File \"y:\\Python Scripts\\audio-language-trainer\\.venv\\Lib\\site-packages\\ipykernel\\kernelbase.py\", line 437, in dispatch_shell\n",
      "    await result\n",
      "  File \"y:\\Python Scripts\\audio-language-trainer\\.venv\\Lib\\site-packages\\ipykernel\\ipkernel.py\", line 362, in execute_request\n",
      "    await super().execute_request(stream, ident, parent)\n",
      "  File \"y:\\Python Scripts\\audio-language-trainer\\.venv\\Lib\\site-packages\\ipykernel\\kernelbase.py\", line 778, in execute_request\n",
      "    reply_content = await reply_content\n",
      "  File \"y:\\Python Scripts\\audio-language-trainer\\.venv\\Lib\\site-packages\\ipykernel\\ipkernel.py\", line 449, in do_execute\n",
      "    res = shell.run_cell(\n",
      "  File \"y:\\Python Scripts\\audio-language-trainer\\.venv\\Lib\\site-packages\\ipykernel\\zmqshell.py\", line 549, in run_cell\n",
      "    return super().run_cell(*args, **kwargs)\n",
      "  File \"y:\\Python Scripts\\audio-language-trainer\\.venv\\Lib\\site-packages\\IPython\\core\\interactiveshell.py\", line 3075, in run_cell\n",
      "    result = self._run_cell(\n",
      "  File \"y:\\Python Scripts\\audio-language-trainer\\.venv\\Lib\\site-packages\\IPython\\core\\interactiveshell.py\", line 3130, in _run_cell\n",
      "    result = runner(coro)\n",
      "  File \"y:\\Python Scripts\\audio-language-trainer\\.venv\\Lib\\site-packages\\IPython\\core\\async_helpers.py\", line 128, in _pseudo_sync_runner\n",
      "    coro.send(None)\n",
      "  File \"y:\\Python Scripts\\audio-language-trainer\\.venv\\Lib\\site-packages\\IPython\\core\\interactiveshell.py\", line 3334, in run_cell_async\n",
      "    has_raised = await self.run_ast_nodes(code_ast.body, cell_name,\n",
      "  File \"y:\\Python Scripts\\audio-language-trainer\\.venv\\Lib\\site-packages\\IPython\\core\\interactiveshell.py\", line 3517, in run_ast_nodes\n",
      "    if await self.run_code(code, result, async_=asy):\n",
      "  File \"y:\\Python Scripts\\audio-language-trainer\\.venv\\Lib\\site-packages\\IPython\\core\\interactiveshell.py\", line 3577, in run_code\n",
      "    exec(code_obj, self.user_global_ns, self.user_ns)\n",
      "  File \"C:\\Users\\i5\\AppData\\Local\\Temp\\ipykernel_18768\\71270641.py\", line 1, in <module>\n",
      "    import_anki_packages(apkg_paths)\n",
      "  File \"y:\\Python Scripts\\audio-language-trainer\\src\\anki_tools.py\", line 86, in import_anki_packages\n",
      "    imported = reader.col.import_anki_package(request)\n",
      "  File \"y:\\Python Scripts\\audio-language-trainer\\.venv\\Lib\\site-packages\\anki\\collection.py\", line 362, in import_anki_package\n",
      "    log = self._backend.import_anki_package_raw(request.SerializeToString())\n",
      "  File \"y:\\Python Scripts\\audio-language-trainer\\.venv\\Lib\\site-packages\\anki\\_backend_generated.py\", line 1875, in import_anki_package_raw\n",
      "    return self._run_command(35, 2, message)\n",
      "  File \"y:\\Python Scripts\\audio-language-trainer\\.venv\\Lib\\site-packages\\anki\\_backend.py\", line 167, in _run_command\n",
      "    print(\"\".join(traceback.format_stack()))\n",
      "\n",
      "blocked main thread for 279ms:\n",
      "  File \"<frozen runpy>\", line 198, in _run_module_as_main\n",
      "  File \"<frozen runpy>\", line 88, in _run_code\n",
      "  File \"y:\\Python Scripts\\audio-language-trainer\\.venv\\Lib\\site-packages\\ipykernel_launcher.py\", line 18, in <module>\n",
      "    app.launch_new_instance()\n",
      "  File \"y:\\Python Scripts\\audio-language-trainer\\.venv\\Lib\\site-packages\\traitlets\\config\\application.py\", line 1075, in launch_instance\n",
      "    app.start()\n",
      "  File \"y:\\Python Scripts\\audio-language-trainer\\.venv\\Lib\\site-packages\\ipykernel\\kernelapp.py\", line 739, in start\n",
      "    self.io_loop.start()\n",
      "  File \"y:\\Python Scripts\\audio-language-trainer\\.venv\\Lib\\site-packages\\tornado\\platform\\asyncio.py\", line 205, in start\n",
      "    self.asyncio_loop.run_forever()\n",
      "  File \"C:\\Users\\i5\\AppData\\Local\\Programs\\Python\\Python311\\Lib\\asyncio\\base_events.py\", line 607, in run_forever\n",
      "    self._run_once()\n",
      "  File \"C:\\Users\\i5\\AppData\\Local\\Programs\\Python\\Python311\\Lib\\asyncio\\base_events.py\", line 1922, in _run_once\n",
      "    handle._run()\n",
      "  File \"C:\\Users\\i5\\AppData\\Local\\Programs\\Python\\Python311\\Lib\\asyncio\\events.py\", line 80, in _run\n",
      "    self._context.run(self._callback, *self._args)\n",
      "  File \"y:\\Python Scripts\\audio-language-trainer\\.venv\\Lib\\site-packages\\ipykernel\\kernelbase.py\", line 545, in dispatch_queue\n",
      "    await self.process_one()\n",
      "  File \"y:\\Python Scripts\\audio-language-trainer\\.venv\\Lib\\site-packages\\ipykernel\\kernelbase.py\", line 534, in process_one\n",
      "    await dispatch(*args)\n",
      "  File \"y:\\Python Scripts\\audio-language-trainer\\.venv\\Lib\\site-packages\\ipykernel\\kernelbase.py\", line 437, in dispatch_shell\n",
      "    await result\n",
      "  File \"y:\\Python Scripts\\audio-language-trainer\\.venv\\Lib\\site-packages\\ipykernel\\ipkernel.py\", line 362, in execute_request\n",
      "    await super().execute_request(stream, ident, parent)\n",
      "  File \"y:\\Python Scripts\\audio-language-trainer\\.venv\\Lib\\site-packages\\ipykernel\\kernelbase.py\", line 778, in execute_request\n",
      "    reply_content = await reply_content\n",
      "  File \"y:\\Python Scripts\\audio-language-trainer\\.venv\\Lib\\site-packages\\ipykernel\\ipkernel.py\", line 449, in do_execute\n",
      "    res = shell.run_cell(\n",
      "  File \"y:\\Python Scripts\\audio-language-trainer\\.venv\\Lib\\site-packages\\ipykernel\\zmqshell.py\", line 549, in run_cell\n",
      "    return super().run_cell(*args, **kwargs)\n",
      "  File \"y:\\Python Scripts\\audio-language-trainer\\.venv\\Lib\\site-packages\\IPython\\core\\interactiveshell.py\", line 3075, in run_cell\n",
      "    result = self._run_cell(\n",
      "  File \"y:\\Python Scripts\\audio-language-trainer\\.venv\\Lib\\site-packages\\IPython\\core\\interactiveshell.py\", line 3130, in _run_cell\n",
      "    result = runner(coro)\n",
      "  File \"y:\\Python Scripts\\audio-language-trainer\\.venv\\Lib\\site-packages\\IPython\\core\\async_helpers.py\", line 128, in _pseudo_sync_runner\n",
      "    coro.send(None)\n",
      "  File \"y:\\Python Scripts\\audio-language-trainer\\.venv\\Lib\\site-packages\\IPython\\core\\interactiveshell.py\", line 3334, in run_cell_async\n",
      "    has_raised = await self.run_ast_nodes(code_ast.body, cell_name,\n",
      "  File \"y:\\Python Scripts\\audio-language-trainer\\.venv\\Lib\\site-packages\\IPython\\core\\interactiveshell.py\", line 3517, in run_ast_nodes\n",
      "    if await self.run_code(code, result, async_=asy):\n",
      "  File \"y:\\Python Scripts\\audio-language-trainer\\.venv\\Lib\\site-packages\\IPython\\core\\interactiveshell.py\", line 3577, in run_code\n",
      "    exec(code_obj, self.user_global_ns, self.user_ns)\n",
      "  File \"C:\\Users\\i5\\AppData\\Local\\Temp\\ipykernel_18768\\71270641.py\", line 1, in <module>\n",
      "    import_anki_packages(apkg_paths)\n",
      "  File \"y:\\Python Scripts\\audio-language-trainer\\src\\anki_tools.py\", line 86, in import_anki_packages\n",
      "    imported = reader.col.import_anki_package(request)\n",
      "  File \"y:\\Python Scripts\\audio-language-trainer\\.venv\\Lib\\site-packages\\anki\\collection.py\", line 362, in import_anki_package\n",
      "    log = self._backend.import_anki_package_raw(request.SerializeToString())\n",
      "  File \"y:\\Python Scripts\\audio-language-trainer\\.venv\\Lib\\site-packages\\anki\\_backend_generated.py\", line 1875, in import_anki_package_raw\n",
      "    return self._run_command(35, 2, message)\n",
      "  File \"y:\\Python Scripts\\audio-language-trainer\\.venv\\Lib\\site-packages\\anki\\_backend.py\", line 167, in _run_command\n",
      "    print(\"\".join(traceback.format_stack()))\n",
      "\n",
      "blocked main thread for 451ms:\n",
      "  File \"<frozen runpy>\", line 198, in _run_module_as_main\n",
      "  File \"<frozen runpy>\", line 88, in _run_code\n",
      "  File \"y:\\Python Scripts\\audio-language-trainer\\.venv\\Lib\\site-packages\\ipykernel_launcher.py\", line 18, in <module>\n",
      "    app.launch_new_instance()\n",
      "  File \"y:\\Python Scripts\\audio-language-trainer\\.venv\\Lib\\site-packages\\traitlets\\config\\application.py\", line 1075, in launch_instance\n",
      "    app.start()\n",
      "  File \"y:\\Python Scripts\\audio-language-trainer\\.venv\\Lib\\site-packages\\ipykernel\\kernelapp.py\", line 739, in start\n",
      "    self.io_loop.start()\n",
      "  File \"y:\\Python Scripts\\audio-language-trainer\\.venv\\Lib\\site-packages\\tornado\\platform\\asyncio.py\", line 205, in start\n",
      "    self.asyncio_loop.run_forever()\n",
      "  File \"C:\\Users\\i5\\AppData\\Local\\Programs\\Python\\Python311\\Lib\\asyncio\\base_events.py\", line 607, in run_forever\n",
      "    self._run_once()\n",
      "  File \"C:\\Users\\i5\\AppData\\Local\\Programs\\Python\\Python311\\Lib\\asyncio\\base_events.py\", line 1922, in _run_once\n",
      "    handle._run()\n",
      "  File \"C:\\Users\\i5\\AppData\\Local\\Programs\\Python\\Python311\\Lib\\asyncio\\events.py\", line 80, in _run\n",
      "    self._context.run(self._callback, *self._args)\n",
      "  File \"y:\\Python Scripts\\audio-language-trainer\\.venv\\Lib\\site-packages\\ipykernel\\kernelbase.py\", line 545, in dispatch_queue\n",
      "    await self.process_one()\n",
      "  File \"y:\\Python Scripts\\audio-language-trainer\\.venv\\Lib\\site-packages\\ipykernel\\kernelbase.py\", line 534, in process_one\n",
      "    await dispatch(*args)\n",
      "  File \"y:\\Python Scripts\\audio-language-trainer\\.venv\\Lib\\site-packages\\ipykernel\\kernelbase.py\", line 437, in dispatch_shell\n",
      "    await result\n",
      "  File \"y:\\Python Scripts\\audio-language-trainer\\.venv\\Lib\\site-packages\\ipykernel\\ipkernel.py\", line 362, in execute_request\n",
      "    await super().execute_request(stream, ident, parent)\n",
      "  File \"y:\\Python Scripts\\audio-language-trainer\\.venv\\Lib\\site-packages\\ipykernel\\kernelbase.py\", line 778, in execute_request\n",
      "    reply_content = await reply_content\n",
      "  File \"y:\\Python Scripts\\audio-language-trainer\\.venv\\Lib\\site-packages\\ipykernel\\ipkernel.py\", line 449, in do_execute\n",
      "    res = shell.run_cell(\n",
      "  File \"y:\\Python Scripts\\audio-language-trainer\\.venv\\Lib\\site-packages\\ipykernel\\zmqshell.py\", line 549, in run_cell\n",
      "    return super().run_cell(*args, **kwargs)\n",
      "  File \"y:\\Python Scripts\\audio-language-trainer\\.venv\\Lib\\site-packages\\IPython\\core\\interactiveshell.py\", line 3075, in run_cell\n",
      "    result = self._run_cell(\n",
      "  File \"y:\\Python Scripts\\audio-language-trainer\\.venv\\Lib\\site-packages\\IPython\\core\\interactiveshell.py\", line 3130, in _run_cell\n",
      "    result = runner(coro)\n",
      "  File \"y:\\Python Scripts\\audio-language-trainer\\.venv\\Lib\\site-packages\\IPython\\core\\async_helpers.py\", line 128, in _pseudo_sync_runner\n",
      "    coro.send(None)\n",
      "  File \"y:\\Python Scripts\\audio-language-trainer\\.venv\\Lib\\site-packages\\IPython\\core\\interactiveshell.py\", line 3334, in run_cell_async\n",
      "    has_raised = await self.run_ast_nodes(code_ast.body, cell_name,\n",
      "  File \"y:\\Python Scripts\\audio-language-trainer\\.venv\\Lib\\site-packages\\IPython\\core\\interactiveshell.py\", line 3517, in run_ast_nodes\n",
      "    if await self.run_code(code, result, async_=asy):\n",
      "  File \"y:\\Python Scripts\\audio-language-trainer\\.venv\\Lib\\site-packages\\IPython\\core\\interactiveshell.py\", line 3577, in run_code\n",
      "    exec(code_obj, self.user_global_ns, self.user_ns)\n",
      "  File \"C:\\Users\\i5\\AppData\\Local\\Temp\\ipykernel_18768\\71270641.py\", line 1, in <module>\n",
      "    import_anki_packages(apkg_paths)\n",
      "  File \"y:\\Python Scripts\\audio-language-trainer\\src\\anki_tools.py\", line 86, in import_anki_packages\n",
      "    imported = reader.col.import_anki_package(request)\n",
      "  File \"y:\\Python Scripts\\audio-language-trainer\\.venv\\Lib\\site-packages\\anki\\collection.py\", line 362, in import_anki_package\n",
      "    log = self._backend.import_anki_package_raw(request.SerializeToString())\n",
      "  File \"y:\\Python Scripts\\audio-language-trainer\\.venv\\Lib\\site-packages\\anki\\_backend_generated.py\", line 1875, in import_anki_package_raw\n",
      "    return self._run_command(35, 2, message)\n",
      "  File \"y:\\Python Scripts\\audio-language-trainer\\.venv\\Lib\\site-packages\\anki\\_backend.py\", line 167, in _run_command\n",
      "    print(\"\".join(traceback.format_stack()))\n",
      "\n",
      "blocked main thread for 462ms:\n",
      "  File \"<frozen runpy>\", line 198, in _run_module_as_main\n",
      "  File \"<frozen runpy>\", line 88, in _run_code\n",
      "  File \"y:\\Python Scripts\\audio-language-trainer\\.venv\\Lib\\site-packages\\ipykernel_launcher.py\", line 18, in <module>\n",
      "    app.launch_new_instance()\n",
      "  File \"y:\\Python Scripts\\audio-language-trainer\\.venv\\Lib\\site-packages\\traitlets\\config\\application.py\", line 1075, in launch_instance\n",
      "    app.start()\n",
      "  File \"y:\\Python Scripts\\audio-language-trainer\\.venv\\Lib\\site-packages\\ipykernel\\kernelapp.py\", line 739, in start\n",
      "    self.io_loop.start()\n",
      "  File \"y:\\Python Scripts\\audio-language-trainer\\.venv\\Lib\\site-packages\\tornado\\platform\\asyncio.py\", line 205, in start\n",
      "    self.asyncio_loop.run_forever()\n",
      "  File \"C:\\Users\\i5\\AppData\\Local\\Programs\\Python\\Python311\\Lib\\asyncio\\base_events.py\", line 607, in run_forever\n",
      "    self._run_once()\n",
      "  File \"C:\\Users\\i5\\AppData\\Local\\Programs\\Python\\Python311\\Lib\\asyncio\\base_events.py\", line 1922, in _run_once\n",
      "    handle._run()\n",
      "  File \"C:\\Users\\i5\\AppData\\Local\\Programs\\Python\\Python311\\Lib\\asyncio\\events.py\", line 80, in _run\n",
      "    self._context.run(self._callback, *self._args)\n",
      "  File \"y:\\Python Scripts\\audio-language-trainer\\.venv\\Lib\\site-packages\\ipykernel\\kernelbase.py\", line 545, in dispatch_queue\n",
      "    await self.process_one()\n",
      "  File \"y:\\Python Scripts\\audio-language-trainer\\.venv\\Lib\\site-packages\\ipykernel\\kernelbase.py\", line 534, in process_one\n",
      "    await dispatch(*args)\n",
      "  File \"y:\\Python Scripts\\audio-language-trainer\\.venv\\Lib\\site-packages\\ipykernel\\kernelbase.py\", line 437, in dispatch_shell\n",
      "    await result\n",
      "  File \"y:\\Python Scripts\\audio-language-trainer\\.venv\\Lib\\site-packages\\ipykernel\\ipkernel.py\", line 362, in execute_request\n",
      "    await super().execute_request(stream, ident, parent)\n",
      "  File \"y:\\Python Scripts\\audio-language-trainer\\.venv\\Lib\\site-packages\\ipykernel\\kernelbase.py\", line 778, in execute_request\n",
      "    reply_content = await reply_content\n",
      "  File \"y:\\Python Scripts\\audio-language-trainer\\.venv\\Lib\\site-packages\\ipykernel\\ipkernel.py\", line 449, in do_execute\n",
      "    res = shell.run_cell(\n",
      "  File \"y:\\Python Scripts\\audio-language-trainer\\.venv\\Lib\\site-packages\\ipykernel\\zmqshell.py\", line 549, in run_cell\n",
      "    return super().run_cell(*args, **kwargs)\n",
      "  File \"y:\\Python Scripts\\audio-language-trainer\\.venv\\Lib\\site-packages\\IPython\\core\\interactiveshell.py\", line 3075, in run_cell\n",
      "    result = self._run_cell(\n",
      "  File \"y:\\Python Scripts\\audio-language-trainer\\.venv\\Lib\\site-packages\\IPython\\core\\interactiveshell.py\", line 3130, in _run_cell\n",
      "    result = runner(coro)\n",
      "  File \"y:\\Python Scripts\\audio-language-trainer\\.venv\\Lib\\site-packages\\IPython\\core\\async_helpers.py\", line 128, in _pseudo_sync_runner\n",
      "    coro.send(None)\n",
      "  File \"y:\\Python Scripts\\audio-language-trainer\\.venv\\Lib\\site-packages\\IPython\\core\\interactiveshell.py\", line 3334, in run_cell_async\n",
      "    has_raised = await self.run_ast_nodes(code_ast.body, cell_name,\n",
      "  File \"y:\\Python Scripts\\audio-language-trainer\\.venv\\Lib\\site-packages\\IPython\\core\\interactiveshell.py\", line 3517, in run_ast_nodes\n",
      "    if await self.run_code(code, result, async_=asy):\n",
      "  File \"y:\\Python Scripts\\audio-language-trainer\\.venv\\Lib\\site-packages\\IPython\\core\\interactiveshell.py\", line 3577, in run_code\n",
      "    exec(code_obj, self.user_global_ns, self.user_ns)\n",
      "  File \"C:\\Users\\i5\\AppData\\Local\\Temp\\ipykernel_18768\\71270641.py\", line 1, in <module>\n",
      "    import_anki_packages(apkg_paths)\n",
      "  File \"y:\\Python Scripts\\audio-language-trainer\\src\\anki_tools.py\", line 86, in import_anki_packages\n",
      "    imported = reader.col.import_anki_package(request)\n",
      "  File \"y:\\Python Scripts\\audio-language-trainer\\.venv\\Lib\\site-packages\\anki\\collection.py\", line 362, in import_anki_package\n",
      "    log = self._backend.import_anki_package_raw(request.SerializeToString())\n",
      "  File \"y:\\Python Scripts\\audio-language-trainer\\.venv\\Lib\\site-packages\\anki\\_backend_generated.py\", line 1875, in import_anki_package_raw\n",
      "    return self._run_command(35, 2, message)\n",
      "  File \"y:\\Python Scripts\\audio-language-trainer\\.venv\\Lib\\site-packages\\anki\\_backend.py\", line 167, in _run_command\n",
      "    print(\"\".join(traceback.format_stack()))\n",
      "\n",
      "blocked main thread for 496ms:\n",
      "  File \"<frozen runpy>\", line 198, in _run_module_as_main\n",
      "  File \"<frozen runpy>\", line 88, in _run_code\n",
      "  File \"y:\\Python Scripts\\audio-language-trainer\\.venv\\Lib\\site-packages\\ipykernel_launcher.py\", line 18, in <module>\n",
      "    app.launch_new_instance()\n",
      "  File \"y:\\Python Scripts\\audio-language-trainer\\.venv\\Lib\\site-packages\\traitlets\\config\\application.py\", line 1075, in launch_instance\n",
      "    app.start()\n",
      "  File \"y:\\Python Scripts\\audio-language-trainer\\.venv\\Lib\\site-packages\\ipykernel\\kernelapp.py\", line 739, in start\n",
      "    self.io_loop.start()\n",
      "  File \"y:\\Python Scripts\\audio-language-trainer\\.venv\\Lib\\site-packages\\tornado\\platform\\asyncio.py\", line 205, in start\n",
      "    self.asyncio_loop.run_forever()\n",
      "  File \"C:\\Users\\i5\\AppData\\Local\\Programs\\Python\\Python311\\Lib\\asyncio\\base_events.py\", line 607, in run_forever\n",
      "    self._run_once()\n",
      "  File \"C:\\Users\\i5\\AppData\\Local\\Programs\\Python\\Python311\\Lib\\asyncio\\base_events.py\", line 1922, in _run_once\n",
      "    handle._run()\n",
      "  File \"C:\\Users\\i5\\AppData\\Local\\Programs\\Python\\Python311\\Lib\\asyncio\\events.py\", line 80, in _run\n",
      "    self._context.run(self._callback, *self._args)\n",
      "  File \"y:\\Python Scripts\\audio-language-trainer\\.venv\\Lib\\site-packages\\ipykernel\\kernelbase.py\", line 545, in dispatch_queue\n",
      "    await self.process_one()\n",
      "  File \"y:\\Python Scripts\\audio-language-trainer\\.venv\\Lib\\site-packages\\ipykernel\\kernelbase.py\", line 534, in process_one\n",
      "    await dispatch(*args)\n",
      "  File \"y:\\Python Scripts\\audio-language-trainer\\.venv\\Lib\\site-packages\\ipykernel\\kernelbase.py\", line 437, in dispatch_shell\n",
      "    await result\n",
      "  File \"y:\\Python Scripts\\audio-language-trainer\\.venv\\Lib\\site-packages\\ipykernel\\ipkernel.py\", line 362, in execute_request\n",
      "    await super().execute_request(stream, ident, parent)\n",
      "  File \"y:\\Python Scripts\\audio-language-trainer\\.venv\\Lib\\site-packages\\ipykernel\\kernelbase.py\", line 778, in execute_request\n",
      "    reply_content = await reply_content\n",
      "  File \"y:\\Python Scripts\\audio-language-trainer\\.venv\\Lib\\site-packages\\ipykernel\\ipkernel.py\", line 449, in do_execute\n",
      "    res = shell.run_cell(\n",
      "  File \"y:\\Python Scripts\\audio-language-trainer\\.venv\\Lib\\site-packages\\ipykernel\\zmqshell.py\", line 549, in run_cell\n",
      "    return super().run_cell(*args, **kwargs)\n",
      "  File \"y:\\Python Scripts\\audio-language-trainer\\.venv\\Lib\\site-packages\\IPython\\core\\interactiveshell.py\", line 3075, in run_cell\n",
      "    result = self._run_cell(\n",
      "  File \"y:\\Python Scripts\\audio-language-trainer\\.venv\\Lib\\site-packages\\IPython\\core\\interactiveshell.py\", line 3130, in _run_cell\n",
      "    result = runner(coro)\n",
      "  File \"y:\\Python Scripts\\audio-language-trainer\\.venv\\Lib\\site-packages\\IPython\\core\\async_helpers.py\", line 128, in _pseudo_sync_runner\n",
      "    coro.send(None)\n",
      "  File \"y:\\Python Scripts\\audio-language-trainer\\.venv\\Lib\\site-packages\\IPython\\core\\interactiveshell.py\", line 3334, in run_cell_async\n",
      "    has_raised = await self.run_ast_nodes(code_ast.body, cell_name,\n",
      "  File \"y:\\Python Scripts\\audio-language-trainer\\.venv\\Lib\\site-packages\\IPython\\core\\interactiveshell.py\", line 3517, in run_ast_nodes\n",
      "    if await self.run_code(code, result, async_=asy):\n",
      "  File \"y:\\Python Scripts\\audio-language-trainer\\.venv\\Lib\\site-packages\\IPython\\core\\interactiveshell.py\", line 3577, in run_code\n",
      "    exec(code_obj, self.user_global_ns, self.user_ns)\n",
      "  File \"C:\\Users\\i5\\AppData\\Local\\Temp\\ipykernel_18768\\71270641.py\", line 1, in <module>\n",
      "    import_anki_packages(apkg_paths)\n",
      "  File \"y:\\Python Scripts\\audio-language-trainer\\src\\anki_tools.py\", line 86, in import_anki_packages\n",
      "    imported = reader.col.import_anki_package(request)\n",
      "  File \"y:\\Python Scripts\\audio-language-trainer\\.venv\\Lib\\site-packages\\anki\\collection.py\", line 362, in import_anki_package\n",
      "    log = self._backend.import_anki_package_raw(request.SerializeToString())\n",
      "  File \"y:\\Python Scripts\\audio-language-trainer\\.venv\\Lib\\site-packages\\anki\\_backend_generated.py\", line 1875, in import_anki_package_raw\n",
      "    return self._run_command(35, 2, message)\n",
      "  File \"y:\\Python Scripts\\audio-language-trainer\\.venv\\Lib\\site-packages\\anki\\_backend.py\", line 167, in _run_command\n",
      "    print(\"\".join(traceback.format_stack()))\n",
      "\n",
      "blocked main thread for 3034ms:\n",
      "  File \"<frozen runpy>\", line 198, in _run_module_as_main\n",
      "  File \"<frozen runpy>\", line 88, in _run_code\n",
      "  File \"y:\\Python Scripts\\audio-language-trainer\\.venv\\Lib\\site-packages\\ipykernel_launcher.py\", line 18, in <module>\n",
      "    app.launch_new_instance()\n",
      "  File \"y:\\Python Scripts\\audio-language-trainer\\.venv\\Lib\\site-packages\\traitlets\\config\\application.py\", line 1075, in launch_instance\n",
      "    app.start()\n",
      "  File \"y:\\Python Scripts\\audio-language-trainer\\.venv\\Lib\\site-packages\\ipykernel\\kernelapp.py\", line 739, in start\n",
      "    self.io_loop.start()\n",
      "  File \"y:\\Python Scripts\\audio-language-trainer\\.venv\\Lib\\site-packages\\tornado\\platform\\asyncio.py\", line 205, in start\n",
      "    self.asyncio_loop.run_forever()\n",
      "  File \"C:\\Users\\i5\\AppData\\Local\\Programs\\Python\\Python311\\Lib\\asyncio\\base_events.py\", line 607, in run_forever\n",
      "    self._run_once()\n",
      "  File \"C:\\Users\\i5\\AppData\\Local\\Programs\\Python\\Python311\\Lib\\asyncio\\base_events.py\", line 1922, in _run_once\n",
      "    handle._run()\n",
      "  File \"C:\\Users\\i5\\AppData\\Local\\Programs\\Python\\Python311\\Lib\\asyncio\\events.py\", line 80, in _run\n",
      "    self._context.run(self._callback, *self._args)\n",
      "  File \"y:\\Python Scripts\\audio-language-trainer\\.venv\\Lib\\site-packages\\ipykernel\\kernelbase.py\", line 545, in dispatch_queue\n",
      "    await self.process_one()\n",
      "  File \"y:\\Python Scripts\\audio-language-trainer\\.venv\\Lib\\site-packages\\ipykernel\\kernelbase.py\", line 534, in process_one\n",
      "    await dispatch(*args)\n",
      "  File \"y:\\Python Scripts\\audio-language-trainer\\.venv\\Lib\\site-packages\\ipykernel\\kernelbase.py\", line 437, in dispatch_shell\n",
      "    await result\n",
      "  File \"y:\\Python Scripts\\audio-language-trainer\\.venv\\Lib\\site-packages\\ipykernel\\ipkernel.py\", line 362, in execute_request\n",
      "    await super().execute_request(stream, ident, parent)\n",
      "  File \"y:\\Python Scripts\\audio-language-trainer\\.venv\\Lib\\site-packages\\ipykernel\\kernelbase.py\", line 778, in execute_request\n",
      "    reply_content = await reply_content\n",
      "  File \"y:\\Python Scripts\\audio-language-trainer\\.venv\\Lib\\site-packages\\ipykernel\\ipkernel.py\", line 449, in do_execute\n",
      "    res = shell.run_cell(\n",
      "  File \"y:\\Python Scripts\\audio-language-trainer\\.venv\\Lib\\site-packages\\ipykernel\\zmqshell.py\", line 549, in run_cell\n",
      "    return super().run_cell(*args, **kwargs)\n",
      "  File \"y:\\Python Scripts\\audio-language-trainer\\.venv\\Lib\\site-packages\\IPython\\core\\interactiveshell.py\", line 3075, in run_cell\n",
      "    result = self._run_cell(\n",
      "  File \"y:\\Python Scripts\\audio-language-trainer\\.venv\\Lib\\site-packages\\IPython\\core\\interactiveshell.py\", line 3130, in _run_cell\n",
      "    result = runner(coro)\n",
      "  File \"y:\\Python Scripts\\audio-language-trainer\\.venv\\Lib\\site-packages\\IPython\\core\\async_helpers.py\", line 128, in _pseudo_sync_runner\n",
      "    coro.send(None)\n",
      "  File \"y:\\Python Scripts\\audio-language-trainer\\.venv\\Lib\\site-packages\\IPython\\core\\interactiveshell.py\", line 3334, in run_cell_async\n",
      "    has_raised = await self.run_ast_nodes(code_ast.body, cell_name,\n",
      "  File \"y:\\Python Scripts\\audio-language-trainer\\.venv\\Lib\\site-packages\\IPython\\core\\interactiveshell.py\", line 3517, in run_ast_nodes\n",
      "    if await self.run_code(code, result, async_=asy):\n",
      "  File \"y:\\Python Scripts\\audio-language-trainer\\.venv\\Lib\\site-packages\\IPython\\core\\interactiveshell.py\", line 3577, in run_code\n",
      "    exec(code_obj, self.user_global_ns, self.user_ns)\n",
      "  File \"C:\\Users\\i5\\AppData\\Local\\Temp\\ipykernel_18768\\71270641.py\", line 1, in <module>\n",
      "    import_anki_packages(apkg_paths)\n",
      "  File \"y:\\Python Scripts\\audio-language-trainer\\src\\anki_tools.py\", line 86, in import_anki_packages\n",
      "    imported = reader.col.import_anki_package(request)\n",
      "  File \"y:\\Python Scripts\\audio-language-trainer\\.venv\\Lib\\site-packages\\anki\\collection.py\", line 362, in import_anki_package\n",
      "    log = self._backend.import_anki_package_raw(request.SerializeToString())\n",
      "  File \"y:\\Python Scripts\\audio-language-trainer\\.venv\\Lib\\site-packages\\anki\\_backend_generated.py\", line 1875, in import_anki_package_raw\n",
      "    return self._run_command(35, 2, message)\n",
      "  File \"y:\\Python Scripts\\audio-language-trainer\\.venv\\Lib\\site-packages\\anki\\_backend.py\", line 167, in _run_command\n",
      "    print(\"\".join(traceback.format_stack()))\n",
      "\n",
      "blocked main thread for 374ms:\n",
      "  File \"<frozen runpy>\", line 198, in _run_module_as_main\n",
      "  File \"<frozen runpy>\", line 88, in _run_code\n",
      "  File \"y:\\Python Scripts\\audio-language-trainer\\.venv\\Lib\\site-packages\\ipykernel_launcher.py\", line 18, in <module>\n",
      "    app.launch_new_instance()\n",
      "  File \"y:\\Python Scripts\\audio-language-trainer\\.venv\\Lib\\site-packages\\traitlets\\config\\application.py\", line 1075, in launch_instance\n",
      "    app.start()\n",
      "  File \"y:\\Python Scripts\\audio-language-trainer\\.venv\\Lib\\site-packages\\ipykernel\\kernelapp.py\", line 739, in start\n",
      "    self.io_loop.start()\n",
      "  File \"y:\\Python Scripts\\audio-language-trainer\\.venv\\Lib\\site-packages\\tornado\\platform\\asyncio.py\", line 205, in start\n",
      "    self.asyncio_loop.run_forever()\n",
      "  File \"C:\\Users\\i5\\AppData\\Local\\Programs\\Python\\Python311\\Lib\\asyncio\\base_events.py\", line 607, in run_forever\n",
      "    self._run_once()\n",
      "  File \"C:\\Users\\i5\\AppData\\Local\\Programs\\Python\\Python311\\Lib\\asyncio\\base_events.py\", line 1922, in _run_once\n",
      "    handle._run()\n",
      "  File \"C:\\Users\\i5\\AppData\\Local\\Programs\\Python\\Python311\\Lib\\asyncio\\events.py\", line 80, in _run\n",
      "    self._context.run(self._callback, *self._args)\n",
      "  File \"y:\\Python Scripts\\audio-language-trainer\\.venv\\Lib\\site-packages\\ipykernel\\kernelbase.py\", line 545, in dispatch_queue\n",
      "    await self.process_one()\n",
      "  File \"y:\\Python Scripts\\audio-language-trainer\\.venv\\Lib\\site-packages\\ipykernel\\kernelbase.py\", line 534, in process_one\n",
      "    await dispatch(*args)\n",
      "  File \"y:\\Python Scripts\\audio-language-trainer\\.venv\\Lib\\site-packages\\ipykernel\\kernelbase.py\", line 437, in dispatch_shell\n",
      "    await result\n",
      "  File \"y:\\Python Scripts\\audio-language-trainer\\.venv\\Lib\\site-packages\\ipykernel\\ipkernel.py\", line 362, in execute_request\n",
      "    await super().execute_request(stream, ident, parent)\n",
      "  File \"y:\\Python Scripts\\audio-language-trainer\\.venv\\Lib\\site-packages\\ipykernel\\kernelbase.py\", line 778, in execute_request\n",
      "    reply_content = await reply_content\n",
      "  File \"y:\\Python Scripts\\audio-language-trainer\\.venv\\Lib\\site-packages\\ipykernel\\ipkernel.py\", line 449, in do_execute\n",
      "    res = shell.run_cell(\n",
      "  File \"y:\\Python Scripts\\audio-language-trainer\\.venv\\Lib\\site-packages\\ipykernel\\zmqshell.py\", line 549, in run_cell\n",
      "    return super().run_cell(*args, **kwargs)\n",
      "  File \"y:\\Python Scripts\\audio-language-trainer\\.venv\\Lib\\site-packages\\IPython\\core\\interactiveshell.py\", line 3075, in run_cell\n",
      "    result = self._run_cell(\n",
      "  File \"y:\\Python Scripts\\audio-language-trainer\\.venv\\Lib\\site-packages\\IPython\\core\\interactiveshell.py\", line 3130, in _run_cell\n",
      "    result = runner(coro)\n",
      "  File \"y:\\Python Scripts\\audio-language-trainer\\.venv\\Lib\\site-packages\\IPython\\core\\async_helpers.py\", line 128, in _pseudo_sync_runner\n",
      "    coro.send(None)\n",
      "  File \"y:\\Python Scripts\\audio-language-trainer\\.venv\\Lib\\site-packages\\IPython\\core\\interactiveshell.py\", line 3334, in run_cell_async\n",
      "    has_raised = await self.run_ast_nodes(code_ast.body, cell_name,\n",
      "  File \"y:\\Python Scripts\\audio-language-trainer\\.venv\\Lib\\site-packages\\IPython\\core\\interactiveshell.py\", line 3517, in run_ast_nodes\n",
      "    if await self.run_code(code, result, async_=asy):\n",
      "  File \"y:\\Python Scripts\\audio-language-trainer\\.venv\\Lib\\site-packages\\IPython\\core\\interactiveshell.py\", line 3577, in run_code\n",
      "    exec(code_obj, self.user_global_ns, self.user_ns)\n",
      "  File \"C:\\Users\\i5\\AppData\\Local\\Temp\\ipykernel_18768\\71270641.py\", line 1, in <module>\n",
      "    import_anki_packages(apkg_paths)\n",
      "  File \"y:\\Python Scripts\\audio-language-trainer\\src\\anki_tools.py\", line 86, in import_anki_packages\n",
      "    imported = reader.col.import_anki_package(request)\n",
      "  File \"y:\\Python Scripts\\audio-language-trainer\\.venv\\Lib\\site-packages\\anki\\collection.py\", line 362, in import_anki_package\n",
      "    log = self._backend.import_anki_package_raw(request.SerializeToString())\n",
      "  File \"y:\\Python Scripts\\audio-language-trainer\\.venv\\Lib\\site-packages\\anki\\_backend_generated.py\", line 1875, in import_anki_package_raw\n",
      "    return self._run_command(35, 2, message)\n",
      "  File \"y:\\Python Scripts\\audio-language-trainer\\.venv\\Lib\\site-packages\\anki\\_backend.py\", line 167, in _run_command\n",
      "    print(\"\".join(traceback.format_stack()))\n",
      "\n",
      "blocked main thread for 409ms:\n",
      "  File \"<frozen runpy>\", line 198, in _run_module_as_main\n",
      "  File \"<frozen runpy>\", line 88, in _run_code\n",
      "  File \"y:\\Python Scripts\\audio-language-trainer\\.venv\\Lib\\site-packages\\ipykernel_launcher.py\", line 18, in <module>\n",
      "    app.launch_new_instance()\n",
      "  File \"y:\\Python Scripts\\audio-language-trainer\\.venv\\Lib\\site-packages\\traitlets\\config\\application.py\", line 1075, in launch_instance\n",
      "    app.start()\n",
      "  File \"y:\\Python Scripts\\audio-language-trainer\\.venv\\Lib\\site-packages\\ipykernel\\kernelapp.py\", line 739, in start\n",
      "    self.io_loop.start()\n",
      "  File \"y:\\Python Scripts\\audio-language-trainer\\.venv\\Lib\\site-packages\\tornado\\platform\\asyncio.py\", line 205, in start\n",
      "    self.asyncio_loop.run_forever()\n",
      "  File \"C:\\Users\\i5\\AppData\\Local\\Programs\\Python\\Python311\\Lib\\asyncio\\base_events.py\", line 607, in run_forever\n",
      "    self._run_once()\n",
      "  File \"C:\\Users\\i5\\AppData\\Local\\Programs\\Python\\Python311\\Lib\\asyncio\\base_events.py\", line 1922, in _run_once\n",
      "    handle._run()\n",
      "  File \"C:\\Users\\i5\\AppData\\Local\\Programs\\Python\\Python311\\Lib\\asyncio\\events.py\", line 80, in _run\n",
      "    self._context.run(self._callback, *self._args)\n",
      "  File \"y:\\Python Scripts\\audio-language-trainer\\.venv\\Lib\\site-packages\\ipykernel\\kernelbase.py\", line 545, in dispatch_queue\n",
      "    await self.process_one()\n",
      "  File \"y:\\Python Scripts\\audio-language-trainer\\.venv\\Lib\\site-packages\\ipykernel\\kernelbase.py\", line 534, in process_one\n",
      "    await dispatch(*args)\n",
      "  File \"y:\\Python Scripts\\audio-language-trainer\\.venv\\Lib\\site-packages\\ipykernel\\kernelbase.py\", line 437, in dispatch_shell\n",
      "    await result\n",
      "  File \"y:\\Python Scripts\\audio-language-trainer\\.venv\\Lib\\site-packages\\ipykernel\\ipkernel.py\", line 362, in execute_request\n",
      "    await super().execute_request(stream, ident, parent)\n",
      "  File \"y:\\Python Scripts\\audio-language-trainer\\.venv\\Lib\\site-packages\\ipykernel\\kernelbase.py\", line 778, in execute_request\n",
      "    reply_content = await reply_content\n",
      "  File \"y:\\Python Scripts\\audio-language-trainer\\.venv\\Lib\\site-packages\\ipykernel\\ipkernel.py\", line 449, in do_execute\n",
      "    res = shell.run_cell(\n",
      "  File \"y:\\Python Scripts\\audio-language-trainer\\.venv\\Lib\\site-packages\\ipykernel\\zmqshell.py\", line 549, in run_cell\n",
      "    return super().run_cell(*args, **kwargs)\n",
      "  File \"y:\\Python Scripts\\audio-language-trainer\\.venv\\Lib\\site-packages\\IPython\\core\\interactiveshell.py\", line 3075, in run_cell\n",
      "    result = self._run_cell(\n",
      "  File \"y:\\Python Scripts\\audio-language-trainer\\.venv\\Lib\\site-packages\\IPython\\core\\interactiveshell.py\", line 3130, in _run_cell\n",
      "    result = runner(coro)\n",
      "  File \"y:\\Python Scripts\\audio-language-trainer\\.venv\\Lib\\site-packages\\IPython\\core\\async_helpers.py\", line 128, in _pseudo_sync_runner\n",
      "    coro.send(None)\n",
      "  File \"y:\\Python Scripts\\audio-language-trainer\\.venv\\Lib\\site-packages\\IPython\\core\\interactiveshell.py\", line 3334, in run_cell_async\n",
      "    has_raised = await self.run_ast_nodes(code_ast.body, cell_name,\n",
      "  File \"y:\\Python Scripts\\audio-language-trainer\\.venv\\Lib\\site-packages\\IPython\\core\\interactiveshell.py\", line 3517, in run_ast_nodes\n",
      "    if await self.run_code(code, result, async_=asy):\n",
      "  File \"y:\\Python Scripts\\audio-language-trainer\\.venv\\Lib\\site-packages\\IPython\\core\\interactiveshell.py\", line 3577, in run_code\n",
      "    exec(code_obj, self.user_global_ns, self.user_ns)\n",
      "  File \"C:\\Users\\i5\\AppData\\Local\\Temp\\ipykernel_18768\\71270641.py\", line 1, in <module>\n",
      "    import_anki_packages(apkg_paths)\n",
      "  File \"y:\\Python Scripts\\audio-language-trainer\\src\\anki_tools.py\", line 86, in import_anki_packages\n",
      "    imported = reader.col.import_anki_package(request)\n",
      "  File \"y:\\Python Scripts\\audio-language-trainer\\.venv\\Lib\\site-packages\\anki\\collection.py\", line 362, in import_anki_package\n",
      "    log = self._backend.import_anki_package_raw(request.SerializeToString())\n",
      "  File \"y:\\Python Scripts\\audio-language-trainer\\.venv\\Lib\\site-packages\\anki\\_backend_generated.py\", line 1875, in import_anki_package_raw\n",
      "    return self._run_command(35, 2, message)\n",
      "  File \"y:\\Python Scripts\\audio-language-trainer\\.venv\\Lib\\site-packages\\anki\\_backend.py\", line 167, in _run_command\n",
      "    print(\"\".join(traceback.format_stack()))\n",
      "\n",
      "audio-language-trainer\\src\\anki_tools.py:95:save() is deprecated: saving is automatic\n",
      "Import summary:\n",
      "Total notes imported: 830\n",
      "Successfully imported packages: 20\n",
      "\n",
      "Successful imports:\n",
      "- y:\\Python Scripts\\audio-language-trainer\\outputs\\flashcards\\french_a_fishing_trip_anki_deck.apkg: 40 notes\n",
      "- y:\\Python Scripts\\audio-language-trainer\\outputs\\flashcards\\french_a_missed_stop_anki_deck.apkg: 30 notes\n",
      "- y:\\Python Scripts\\audio-language-trainer\\outputs\\flashcards\\french_better_than_a_movie_anki_deck.apkg: 51 notes\n",
      "- y:\\Python Scripts\\audio-language-trainer\\outputs\\flashcards\\french_brussels_blend_anki_deck.apkg: 39 notes\n",
      "- y:\\Python Scripts\\audio-language-trainer\\outputs\\flashcards\\french_camping_trip_gone_awry_anki_deck.apkg: 25 notes\n",
      "- y:\\Python Scripts\\audio-language-trainer\\outputs\\flashcards\\french_forgetful_diver_anki_deck.apkg: 29 notes\n",
      "- y:\\Python Scripts\\audio-language-trainer\\outputs\\flashcards\\french_job_interview_gone_wrong_anki_deck.apkg: 51 notes\n",
      "- y:\\Python Scripts\\audio-language-trainer\\outputs\\flashcards\\french_midnight_garden_mystery_anki_deck.apkg: 50 notes\n",
      "- y:\\Python Scripts\\audio-language-trainer\\outputs\\flashcards\\french_rainy_football_match_anki_deck.apkg: 33 notes\n",
      "- y:\\Python Scripts\\audio-language-trainer\\outputs\\flashcards\\french_road_trip_anki_deck.apkg: 32 notes\n",
      "- y:\\Python Scripts\\audio-language-trainer\\outputs\\flashcards\\french_sunset_wedding_blues_anki_deck.apkg: 51 notes\n",
      "- y:\\Python Scripts\\audio-language-trainer\\outputs\\flashcards\\french_teaching_music_anki_deck.apkg: 49 notes\n",
      "- y:\\Python Scripts\\audio-language-trainer\\outputs\\flashcards\\french_team_spirit_anki_deck.apkg: 48 notes\n",
      "- y:\\Python Scripts\\audio-language-trainer\\outputs\\flashcards\\french_the_birthday_party_anki_deck.apkg: 30 notes\n",
      "- y:\\Python Scripts\\audio-language-trainer\\outputs\\flashcards\\french_the_marathon_anki_deck.apkg: 51 notes\n",
      "- y:\\Python Scripts\\audio-language-trainer\\outputs\\flashcards\\french_the_power_cut_anki_deck.apkg: 37 notes\n",
      "- y:\\Python Scripts\\audio-language-trainer\\outputs\\flashcards\\french_unexpected_career_change_anki_deck.apkg: 50 notes\n",
      "- y:\\Python Scripts\\audio-language-trainer\\outputs\\flashcards\\french_unexpected_wedding_guests_anki_deck.apkg: 50 notes\n",
      "- y:\\Python Scripts\\audio-language-trainer\\outputs\\flashcards\\french_winter_in_sweden_anki_deck.apkg: 34 notes\n",
      "- y:\\Python Scripts\\audio-language-trainer\\outputs\\flashcards\\french_workplace_stress_vacation_anki_deck.apkg: 50 notes\n"
     ]
    },
    {
     "data": {
      "text/plain": [
       "{'total_imported': 830,\n",
       " 'successful': [{'path': 'y:\\\\Python Scripts\\\\audio-language-trainer\\\\outputs\\\\flashcards\\\\french_a_fishing_trip_anki_deck.apkg',\n",
       "   'notes_imported': 40},\n",
       "  {'path': 'y:\\\\Python Scripts\\\\audio-language-trainer\\\\outputs\\\\flashcards\\\\french_a_missed_stop_anki_deck.apkg',\n",
       "   'notes_imported': 30},\n",
       "  {'path': 'y:\\\\Python Scripts\\\\audio-language-trainer\\\\outputs\\\\flashcards\\\\french_better_than_a_movie_anki_deck.apkg',\n",
       "   'notes_imported': 51},\n",
       "  {'path': 'y:\\\\Python Scripts\\\\audio-language-trainer\\\\outputs\\\\flashcards\\\\french_brussels_blend_anki_deck.apkg',\n",
       "   'notes_imported': 39},\n",
       "  {'path': 'y:\\\\Python Scripts\\\\audio-language-trainer\\\\outputs\\\\flashcards\\\\french_camping_trip_gone_awry_anki_deck.apkg',\n",
       "   'notes_imported': 25},\n",
       "  {'path': 'y:\\\\Python Scripts\\\\audio-language-trainer\\\\outputs\\\\flashcards\\\\french_forgetful_diver_anki_deck.apkg',\n",
       "   'notes_imported': 29},\n",
       "  {'path': 'y:\\\\Python Scripts\\\\audio-language-trainer\\\\outputs\\\\flashcards\\\\french_job_interview_gone_wrong_anki_deck.apkg',\n",
       "   'notes_imported': 51},\n",
       "  {'path': 'y:\\\\Python Scripts\\\\audio-language-trainer\\\\outputs\\\\flashcards\\\\french_midnight_garden_mystery_anki_deck.apkg',\n",
       "   'notes_imported': 50},\n",
       "  {'path': 'y:\\\\Python Scripts\\\\audio-language-trainer\\\\outputs\\\\flashcards\\\\french_rainy_football_match_anki_deck.apkg',\n",
       "   'notes_imported': 33},\n",
       "  {'path': 'y:\\\\Python Scripts\\\\audio-language-trainer\\\\outputs\\\\flashcards\\\\french_road_trip_anki_deck.apkg',\n",
       "   'notes_imported': 32},\n",
       "  {'path': 'y:\\\\Python Scripts\\\\audio-language-trainer\\\\outputs\\\\flashcards\\\\french_sunset_wedding_blues_anki_deck.apkg',\n",
       "   'notes_imported': 51},\n",
       "  {'path': 'y:\\\\Python Scripts\\\\audio-language-trainer\\\\outputs\\\\flashcards\\\\french_teaching_music_anki_deck.apkg',\n",
       "   'notes_imported': 49},\n",
       "  {'path': 'y:\\\\Python Scripts\\\\audio-language-trainer\\\\outputs\\\\flashcards\\\\french_team_spirit_anki_deck.apkg',\n",
       "   'notes_imported': 48},\n",
       "  {'path': 'y:\\\\Python Scripts\\\\audio-language-trainer\\\\outputs\\\\flashcards\\\\french_the_birthday_party_anki_deck.apkg',\n",
       "   'notes_imported': 30},\n",
       "  {'path': 'y:\\\\Python Scripts\\\\audio-language-trainer\\\\outputs\\\\flashcards\\\\french_the_marathon_anki_deck.apkg',\n",
       "   'notes_imported': 51},\n",
       "  {'path': 'y:\\\\Python Scripts\\\\audio-language-trainer\\\\outputs\\\\flashcards\\\\french_the_power_cut_anki_deck.apkg',\n",
       "   'notes_imported': 37},\n",
       "  {'path': 'y:\\\\Python Scripts\\\\audio-language-trainer\\\\outputs\\\\flashcards\\\\french_unexpected_career_change_anki_deck.apkg',\n",
       "   'notes_imported': 50},\n",
       "  {'path': 'y:\\\\Python Scripts\\\\audio-language-trainer\\\\outputs\\\\flashcards\\\\french_unexpected_wedding_guests_anki_deck.apkg',\n",
       "   'notes_imported': 50},\n",
       "  {'path': 'y:\\\\Python Scripts\\\\audio-language-trainer\\\\outputs\\\\flashcards\\\\french_winter_in_sweden_anki_deck.apkg',\n",
       "   'notes_imported': 34},\n",
       "  {'path': 'y:\\\\Python Scripts\\\\audio-language-trainer\\\\outputs\\\\flashcards\\\\french_workplace_stress_vacation_anki_deck.apkg',\n",
       "   'notes_imported': 50}],\n",
       " 'failed': {}}"
      ]
     },
     "execution_count": 9,
     "metadata": {},
     "output_type": "execute_result"
    }
   ],
   "source": [
    "import_anki_packages(apkg_paths)"
   ]
  },
  {
   "cell_type": "code",
   "execution_count": null,
   "metadata": {},
   "outputs": [],
   "source": []
  }
 ],
 "metadata": {
  "kernelspec": {
   "display_name": ".venv",
   "language": "python",
   "name": "python3"
  },
  "language_info": {
   "codemirror_mode": {
    "name": "ipython",
    "version": 3
   },
   "file_extension": ".py",
   "mimetype": "text/x-python",
   "name": "python",
   "nbconvert_exporter": "python",
   "pygments_lexer": "ipython3",
   "version": "3.11.4"
  }
 },
 "nbformat": 4,
 "nbformat_minor": 2
}
