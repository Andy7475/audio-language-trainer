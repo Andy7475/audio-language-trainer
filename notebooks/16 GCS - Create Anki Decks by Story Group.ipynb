{
 "cells": [
  {
   "cell_type": "code",
   "execution_count": 1,
   "metadata": {},
   "outputs": [],
   "source": [
    "from google.auth import default\n",
    "credentials, project = default()"
   ]
  },
  {
   "cell_type": "code",
   "execution_count": 6,
   "metadata": {},
   "outputs": [
    {
     "name": "stdout",
     "output_type": "stream",
     "text": [
      "The autoreload extension is already loaded. To reload it, use:\n",
      "  %reload_ext autoreload\n",
      "French\n"
     ]
    }
   ],
   "source": [
    "%load_ext autoreload\n",
    "%autoreload 2\n",
    "import os\n",
    "import sys\n",
    "from pathlib import Path\n",
    "module_path = os.path.abspath(os.path.join('..'))\n",
    "if module_path not in sys.path:\n",
    "    sys.path.append(module_path)\n",
    "from dotenv import load_dotenv\n",
    "load_dotenv()\n",
    "\n",
    "from src.gcs_storage import get_flashcard_path, get_story_collection_path, read_from_gcs # noqa: E402\n",
    "from src.config_loader import config\n",
    "from src.anki_tools import create_anki_deck_from_gcs\n",
    "print(config.TARGET_LANGUAGE_NAME)\n",
    "COLLECTION=\"LM1000\""
   ]
  },
  {
   "cell_type": "markdown",
   "metadata": {},
   "source": [
    "## Anki Deck Plan\n",
    "\n",
    "1. A deck is created for each story, ordered e.g. Swedish::LM1000::01 First Story\n",
    "2.  hrase data is stored outside of collections (audio, images)\n",
    "3. Phrase translations are stored within a collection, but they both operate off the same key\n",
    "4. We want to get the collection dictionary, which gives us a story name (and therefore deck title) and a list of phrases\n",
    "5. We then want to get the data from GCS for all of those phrases: audio normal and slow, english, target, wiktionary_links, image\n",
    "6. We can then create an anki deck based off this data and upload to GCS\n"
   ]
  },
  {
   "cell_type": "code",
   "execution_count": 7,
   "metadata": {},
   "outputs": [],
   "source": [
    "all_stories = read_from_gcs(bucket_name=config.GCS_PRIVATE_BUCKET, file_path=get_story_collection_path(collection=COLLECTION))\n"
   ]
  },
  {
   "cell_type": "code",
   "execution_count": 8,
   "metadata": {},
   "outputs": [],
   "source": [
    "for story_name in all_stories:\n",
    "    read_from_gcs(bucket_name=config.GCS_PRIVATE_BUCKET, file_path=get_flashcard_path(story_name, collection=COLLECTION))"
   ]
  },
  {
   "cell_type": "code",
   "execution_count": null,
   "metadata": {},
   "outputs": [],
   "source": [
    "from src.anki_tools import create_anki_deck_from_gcs\n",
    "\n",
    "create_anki_deck_from_gcs(collection=COLLECTION, bucket_name=config.GCS_PRIVATE_BUCKET)\n"
   ]
  },
  {
   "cell_type": "code",
   "execution_count": null,
   "metadata": {},
   "outputs": [],
   "source": [
    "#import to anki\n",
    "from src.anki_tools import import_anki_packages"
   ]
  },
  {
   "cell_type": "code",
   "execution_count": 14,
   "metadata": {},
   "outputs": [],
   "source": [
    "from pathlib import Path\n",
    "\n",
    "flashcard_path = os.path.join(\"../outputs/gcs/\", config.GCS_PRIVATE_BUCKET, get_flashcard_path(collection=COLLECTION))\n",
    "apkg_files = [file for file in os.listdir(flashcard_path) if file.endswith(\"apkg\")]\n",
    "apkg_paths = [os.path.join(flashcard_path, file) for file in apkg_files]\n"
   ]
  },
  {
   "cell_type": "code",
   "execution_count": null,
   "metadata": {},
   "outputs": [],
   "source": [
    "apkg_paths"
   ]
  },
  {
   "cell_type": "code",
   "execution_count": null,
   "metadata": {},
   "outputs": [],
   "source": [
    "import_anki_packages(apkg_paths)"
   ]
  },
  {
   "cell_type": "code",
   "execution_count": null,
   "metadata": {},
   "outputs": [],
   "source": []
  }
 ],
 "metadata": {
  "kernelspec": {
   "display_name": ".venv",
   "language": "python",
   "name": "python3"
  },
  "language_info": {
   "codemirror_mode": {
    "name": "ipython",
    "version": 3
   },
   "file_extension": ".py",
   "mimetype": "text/x-python",
   "name": "python",
   "nbconvert_exporter": "python",
   "pygments_lexer": "ipython3",
   "version": "3.11.4"
  }
 },
 "nbformat": 4,
 "nbformat_minor": 2
}
