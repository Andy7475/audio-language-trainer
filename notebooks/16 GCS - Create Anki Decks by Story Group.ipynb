{
 "cells": [
  {
   "cell_type": "code",
   "execution_count": 1,
   "metadata": {},
   "outputs": [],
   "source": [
    "from google.auth import default\n",
    "credentials, project = default()"
   ]
  },
  {
   "cell_type": "code",
   "execution_count": 2,
   "metadata": {},
   "outputs": [
    {
     "name": "stdout",
     "output_type": "stream",
     "text": [
      "Default FFmpeg path added to system PATH: C:\\Program Files\\ffmpeg-7.0-essentials_build\\bin\n"
     ]
    },
    {
     "data": {
      "text/plain": [
       "'French'"
      ]
     },
     "execution_count": 2,
     "metadata": {},
     "output_type": "execute_result"
    }
   ],
   "source": [
    "%load_ext autoreload\n",
    "%autoreload 2\n",
    "import os\n",
    "import sys\n",
    "from pathlib import Path\n",
    "module_path = os.path.abspath(os.path.join('..'))\n",
    "if module_path not in sys.path:\n",
    "    sys.path.append(module_path)\n",
    "from dotenv import load_dotenv\n",
    "load_dotenv()\n",
    "\n",
    "from src.gcs_storage import get_flashcard_path, get_story_collection_path # noqa: E402\n",
    "from src.config_loader import config\n",
    "from src.anki_tools import create_anki_deck_from_gcs\n",
    "config.TARGET_LANGUAGE_NAME"
   ]
  },
  {
   "cell_type": "markdown",
   "metadata": {},
   "source": [
    "## Anki Deck Plan\n",
    "\n",
    "1. A deck is created for each story, ordered e.g. Swedish::LM1000::01 First Story\n",
    "2.  hrase data is stored outside of collections (audio, images)\n",
    "3. Phrase translations are stored within a collection, but they both operate off the same key\n",
    "4. We want to get the collection dictionary, which gives us a story name (and therefore deck title) and a list of phrases\n",
    "5. We then want to get the data from GCS for all of those phrases: audio normal and slow, english, target, wiktionary_links, image\n",
    "6. We can then create an anki deck based off this data and upload to GCS\n"
   ]
  },
  {
   "cell_type": "code",
   "execution_count": 3,
   "metadata": {},
   "outputs": [
    {
     "name": "stderr",
     "output_type": "stream",
     "text": [
      "Building phrase dictionary: 100%|██████████| 50/50 [05:21<00:00,  6.44s/it]\n",
      "adding notes to deck: 100%|██████████| 50/50 [00:00<?, ?it/s]\n"
     ]
    },
    {
     "name": "stdout",
     "output_type": "stream",
     "text": [
      "Anki deck exported to ../outputs/gcs\\audio-language-trainer-private-content\\collections/LM1000/french/flashcards/french_04_story_midnight_garden_mystery.apkg\n",
      "Flashcard file uploaded to GCS: gs://audio-language-trainer-private-content/collections/LM1000/french/flashcards/french_04_story_midnight_garden_mystery.apkg\n"
     ]
    },
    {
     "name": "stderr",
     "output_type": "stream",
     "text": [
      "deleting temp files: 100%|██████████| 150/150 [00:00<00:00, 3488.16it/s]\n"
     ]
    },
    {
     "name": "stdout",
     "output_type": "stream",
     "text": [
      "Cleanup of temporary files completed.\n"
     ]
    },
    {
     "name": "stderr",
     "output_type": "stream",
     "text": [
      "Building phrase dictionary: 100%|██████████| 50/50 [06:39<00:00,  7.98s/it]\n",
      "adding notes to deck: 100%|██████████| 50/50 [00:00<?, ?it/s]\n"
     ]
    },
    {
     "name": "stdout",
     "output_type": "stream",
     "text": [
      "Anki deck exported to ../outputs/gcs\\audio-language-trainer-private-content\\collections/LM1000/french/flashcards/french_05_story_workplace_stress_vacation.apkg\n",
      "Flashcard file uploaded to GCS: gs://audio-language-trainer-private-content/collections/LM1000/french/flashcards/french_05_story_workplace_stress_vacation.apkg\n"
     ]
    },
    {
     "name": "stderr",
     "output_type": "stream",
     "text": [
      "deleting temp files: 100%|██████████| 150/150 [00:00<00:00, 3947.65it/s]\n"
     ]
    },
    {
     "name": "stdout",
     "output_type": "stream",
     "text": [
      "Cleanup of temporary files completed.\n"
     ]
    },
    {
     "name": "stderr",
     "output_type": "stream",
     "text": [
      "Building phrase dictionary: 100%|██████████| 51/51 [07:08<00:00,  8.41s/it]\n",
      "adding notes to deck: 100%|██████████| 51/51 [00:00<00:00, 50689.46it/s]\n"
     ]
    },
    {
     "name": "stdout",
     "output_type": "stream",
     "text": [
      "Anki deck exported to ../outputs/gcs\\audio-language-trainer-private-content\\collections/LM1000/french/flashcards/french_06_story_the_marathon.apkg\n",
      "Flashcard file uploaded to GCS: gs://audio-language-trainer-private-content/collections/LM1000/french/flashcards/french_06_story_the_marathon.apkg\n"
     ]
    },
    {
     "name": "stderr",
     "output_type": "stream",
     "text": [
      "deleting temp files: 100%|██████████| 153/153 [00:00<00:00, 509.09it/s]"
     ]
    },
    {
     "name": "stdout",
     "output_type": "stream",
     "text": [
      "Cleanup of temporary files completed.\n"
     ]
    },
    {
     "name": "stderr",
     "output_type": "stream",
     "text": [
      "\n"
     ]
    }
   ],
   "source": [
    "from src.anki_tools import create_anki_deck_from_gcs\n",
    "\n",
    "create_anki_deck_from_gcs(story_name = ['story_midnight_garden_mystery',\n",
    " 'story_workplace_stress_vacation',\n",
    " 'story_the_marathon'], collection=\"LM1000\", bucket_name=config.GCS_PRIVATE_BUCKET)\n"
   ]
  },
  {
   "cell_type": "code",
   "execution_count": 7,
   "metadata": {},
   "outputs": [],
   "source": [
    "#import to anki\n",
    "from src.anki_tools import import_anki_packages"
   ]
  },
  {
   "cell_type": "code",
   "execution_count": 24,
   "metadata": {},
   "outputs": [],
   "source": [
    "\n",
    "flashcard_path = os.path.join(\"../outputs/gcs/\", config.GCS_PRIVATE_BUCKET, get_flashcard_path(collection=\"LM1000\"))\n",
    "apkg_files = [file for file in os.listdir(flashcard_path) if file.endswith(\"apkg\")]\n",
    "apkg_paths = [str(flashcard_path + \"/\" + file) for file in apkg_files]"
   ]
  },
  {
   "cell_type": "code",
   "execution_count": null,
   "metadata": {},
   "outputs": [],
   "source": [
    "apkg_paths"
   ]
  },
  {
   "cell_type": "code",
   "execution_count": null,
   "metadata": {},
   "outputs": [],
   "source": [
    "import_anki_packages(apkg_paths)"
   ]
  },
  {
   "cell_type": "code",
   "execution_count": null,
   "metadata": {},
   "outputs": [],
   "source": []
  }
 ],
 "metadata": {
  "kernelspec": {
   "display_name": ".venv",
   "language": "python",
   "name": "python3"
  },
  "language_info": {
   "codemirror_mode": {
    "name": "ipython",
    "version": 3
   },
   "file_extension": ".py",
   "mimetype": "text/x-python",
   "name": "python",
   "nbconvert_exporter": "python",
   "pygments_lexer": "ipython3",
   "version": "3.11.4"
  }
 },
 "nbformat": 4,
 "nbformat_minor": 2
}
