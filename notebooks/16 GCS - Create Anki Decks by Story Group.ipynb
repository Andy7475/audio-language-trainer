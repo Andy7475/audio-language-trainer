{
 "cells": [
  {
   "cell_type": "code",
   "execution_count": 3,
   "metadata": {},
   "outputs": [],
   "source": [
    "from google.auth import default\n",
    "credentials, project = default()"
   ]
  },
  {
   "cell_type": "code",
   "execution_count": null,
   "metadata": {},
   "outputs": [],
   "source": [
    "%load_ext autoreload\n",
    "%autoreload 2\n",
    "import os\n",
    "import sys\n",
    "from pathlib import Path\n",
    "module_path = os.path.abspath(os.path.join('..'))\n",
    "if module_path not in sys.path:\n",
    "    sys.path.append(module_path)\n",
    "from dotenv import load_dotenv\n",
    "load_dotenv()\n",
    "\n",
    "from src.utils import (load_json, get_first_n_items, list_story_folders, save_json, save_text_file, load_text_file)  # noqa: E402\n",
    "from src.gcs_storage import read_from_gcs, upload_to_gcs, get_translated_phrases_path\n",
    "from src.convert import clean_filename\n",
    "from src.config_loader import config\n",
    "from src.phrase import get_phrase_multimedia, build_phrase_dict_from_gcs, build_phrase_dict_from_gcs_async\n",
    "from src.anki_tools import create_anki_deck_from_gcs\n",
    "config.TARGET_LANGUAGE_NAME"
   ]
  },
  {
   "cell_type": "markdown",
   "metadata": {},
   "source": [
    "## Anki Deck Plan\n",
    "\n",
    "1. A deck is created for each story, ordered e.g. Swedish::LM1000::01 First Story\n",
    "2.  hrase data is stored outside of collections (audio, images)\n",
    "3. Phrase translations are stored within a collection, but they both operate off the same key\n",
    "4. We want to get the collection dictionary, which gives us a story name (and therefore deck title) and a list of phrases\n",
    "5. We then want to get the data from GCS for all of those phrases: audio normal and slow, english, target, wiktionary_links, image\n",
    "6. We can then create an anki deck based off this data and upload to GCS\n"
   ]
  },
  {
   "cell_type": "code",
   "execution_count": null,
   "metadata": {},
   "outputs": [],
   "source": [
    "language_name = config.TARGET_LANGUAGE_NAME.lower()\n",
    "print(language_name)"
   ]
  },
  {
   "cell_type": "code",
   "execution_count": 6,
   "metadata": {},
   "outputs": [],
   "source": [
    "collection_dict = read_from_gcs(bucket_name=config.GCS_PRIVATE_BUCKET, file_path=get_translated_phrases_path(collection=\"LM1000\"))\n"
   ]
  },
  {
   "cell_type": "code",
   "execution_count": 32,
   "metadata": {},
   "outputs": [],
   "source": [
    "from src.gcs_storage import get_story_collection_path\n",
    "story_phrases = read_from_gcs(bucket_name=config.GCS_PRIVATE_BUCKET, file_path=get_story_collection_path(collection=\"LM1000\"))\n"
   ]
  },
  {
   "cell_type": "code",
   "execution_count": null,
   "metadata": {},
   "outputs": [],
   "source": [
    "from src.anki_tools import create_anki_deck_from_gcs\n",
    "\n",
    "create_anki_deck_from_gcs(collection=\"LM1000\", bucket_name=config.GCS_PRIVATE_BUCKET)\n"
   ]
  },
  {
   "cell_type": "code",
   "execution_count": null,
   "metadata": {},
   "outputs": [],
   "source": []
  }
 ],
 "metadata": {
  "kernelspec": {
   "display_name": ".venv",
   "language": "python",
   "name": "python3"
  },
  "language_info": {
   "codemirror_mode": {
    "name": "ipython",
    "version": 3
   },
   "file_extension": ".py",
   "mimetype": "text/x-python",
   "name": "python",
   "nbconvert_exporter": "python",
   "pygments_lexer": "ipython3",
   "version": "3.11.4"
  }
 },
 "nbformat": 4,
 "nbformat_minor": 2
}
