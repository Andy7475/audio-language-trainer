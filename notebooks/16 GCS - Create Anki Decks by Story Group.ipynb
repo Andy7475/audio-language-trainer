{
 "cells": [
  {
   "cell_type": "code",
   "execution_count": 1,
   "metadata": {},
   "outputs": [],
   "source": [
    "from google.auth import default\n",
    "credentials, project = default()"
   ]
  },
  {
   "cell_type": "code",
   "execution_count": 2,
   "metadata": {},
   "outputs": [
    {
     "name": "stdout",
     "output_type": "stream",
     "text": [
      "Default FFmpeg path added to system PATH: C:\\Program Files\\ffmpeg-7.0-essentials_build\\bin\n",
      "German\n"
     ]
    }
   ],
   "source": [
    "%load_ext autoreload\n",
    "%autoreload 2\n",
    "import os\n",
    "import sys\n",
    "from pathlib import Path\n",
    "module_path = os.path.abspath(os.path.join('..'))\n",
    "if module_path not in sys.path:\n",
    "    sys.path.append(module_path)\n",
    "from dotenv import load_dotenv\n",
    "load_dotenv()\n",
    "\n",
    "from src.gcs_storage import get_flashcard_path, get_story_collection_path, get_story_names, get_translated_phrases_path, read_from_gcs # noqa: E402\n",
    "from src.config_loader import config\n",
    "from src.anki_tools import create_anki_deck_from_gcs\n",
    "print(config.TARGET_LANGUAGE_NAME)\n",
    "COLLECTION=\"WarmUp150\""
   ]
  },
  {
   "cell_type": "markdown",
   "metadata": {},
   "source": [
    "## Anki Deck Plan\n",
    "\n",
    "1. A deck is created for each story, ordered e.g. Swedish::LM1000::01 First Story\n",
    "2.  hrase data is stored outside of collections (audio, images)\n",
    "3. Phrase translations are stored within a collection, but they both operate off the same key\n",
    "4. We want to get the collection dictionary, which gives us a story name (and therefore deck title) and a list of phrases\n",
    "5. We then want to get the data from GCS for all of those phrases: audio normal and slow, english, target, wiktionary_links, image\n",
    "6. We can then create an anki deck based off this data and upload to GCS\n"
   ]
  },
  {
   "cell_type": "code",
   "execution_count": 14,
   "metadata": {},
   "outputs": [],
   "source": [
    "phrase_translations = read_from_gcs(bucket_name=config.GCS_PRIVATE_BUCKET, file_path=get_translated_phrases_path(COLLECTION))"
   ]
  },
  {
   "cell_type": "code",
   "execution_count": 7,
   "metadata": {},
   "outputs": [],
   "source": [
    "COLLECTION = \"WarmUp150\"\n",
    "all_stories = get_story_names(collection=COLLECTION)"
   ]
  },
  {
   "cell_type": "code",
   "execution_count": 8,
   "metadata": {},
   "outputs": [
    {
     "data": {
      "text/plain": [
       "['story_airport_wedding_chaos',\n",
       " 'story_birthday_train_adventure',\n",
       " 'story_concert_plans_unravel',\n",
       " 'story_midnight_bakery',\n",
       " 'story_mysterious_wedding_gift',\n",
       " 'story_sunset_adventure_documentary',\n",
       " 'story_the_wedding_planner',\n",
       " 'story_underwater_community_centre']"
      ]
     },
     "execution_count": 8,
     "metadata": {},
     "output_type": "execute_result"
    }
   ],
   "source": [
    "all_stories"
   ]
  },
  {
   "cell_type": "code",
   "execution_count": 11,
   "metadata": {},
   "outputs": [],
   "source": [
    "COLLECTION = \"LM1000\"\n",
    "for story_name in [\"story_sunset_wedding_blues\"]:\n",
    "    read_from_gcs(bucket_name=config.GCS_PRIVATE_BUCKET, file_path=get_flashcard_path(story_name, collection=COLLECTION, language=\"french\"))"
   ]
  },
  {
   "cell_type": "code",
   "execution_count": null,
   "metadata": {},
   "outputs": [],
   "source": [
    "config.TARGET_LANGUAGE_NAME.lower()"
   ]
  },
  {
   "cell_type": "code",
   "execution_count": null,
   "metadata": {},
   "outputs": [],
   "source": [
    "from src.anki_tools import create_anki_deck_from_gcs\n",
    "\n",
    "create_anki_deck_from_gcs(collection=COLLECTION, bucket_name=config.GCS_PRIVATE_BUCKET)\n"
   ]
  },
  {
   "cell_type": "code",
   "execution_count": 19,
   "metadata": {},
   "outputs": [],
   "source": [
    "#import to anki\n",
    "from src.anki_tools import import_anki_packages"
   ]
  },
  {
   "cell_type": "code",
   "execution_count": 20,
   "metadata": {},
   "outputs": [],
   "source": [
    "from pathlib import Path\n",
    "\n",
    "flashcard_path = os.path.join(\"../outputs/gcs/\", config.GCS_PRIVATE_BUCKET, get_flashcard_path(collection=COLLECTION))\n",
    "apkg_files = [file for file in os.listdir(flashcard_path) if file.endswith(\"apkg\")]\n",
    "apkg_paths = [os.path.join(flashcard_path, file) for file in apkg_files]\n"
   ]
  },
  {
   "cell_type": "code",
   "execution_count": null,
   "metadata": {},
   "outputs": [],
   "source": [
    "apkg_paths"
   ]
  },
  {
   "cell_type": "code",
   "execution_count": null,
   "metadata": {},
   "outputs": [],
   "source": [
    "import_anki_packages(apkg_paths)"
   ]
  },
  {
   "cell_type": "code",
   "execution_count": null,
   "metadata": {},
   "outputs": [],
   "source": [
    "\n",
    "# Option 1: Use the automated script to run all Shopify material generation steps\n",
    "print(\"=== Automated Pipeline Option ===\")\n",
    "print(f\"To run all Shopify material generation steps for {COLLECTION}, use:\")\n",
    "print(f\"!python ../src/process_collection_to_new_language.py {COLLECTION} --start-from zip\")\n",
    "print(f\"\")\n",
    "print(\"Or to run individual steps:\")\n",
    "print(f\"!python ../src/process_collection_to_new_language.py {COLLECTION} --start-from zip --skip-images --skip-csv\")\n",
    "print(\"\")\n",
    "print(\"=== Manual Step-by-Step Option ===\")\n",
    "print(\"Run the cells below to execute each step individually:\")"
   ]
  },
  {
   "cell_type": "code",
   "execution_count": null,
   "metadata": {},
   "outputs": [],
   "source": [
    "\n",
    "# Option 1: Use the automated script to run all Shopify material generation steps\n",
    "print(\"=== Automated Pipeline Option ===\")\n",
    "print(f\"To run all Shopify material generation steps for {COLLECTION}, use:\")\n",
    "print(f\"!python ../src/process_collection_to_new_language.py {COLLECTION} --start-from zip\")\n",
    "print(f\"\")\n",
    "print(\"Or to run individual steps:\")\n",
    "print(f\"!python ../src/process_collection_to_new_language.py {COLLECTION} --start-from zip --skip-images --skip-csv\")\n",
    "print(\"\")\n",
    "print(\"=== Manual Step-by-Step Option ===\")\n",
    "print(\"Run the cells below to execute each step individually:\")"
   ]
  },
  {
   "cell_type": "code",
   "execution_count": null,
   "metadata": {},
   "outputs": [],
   "source": []
  }
 ],
 "metadata": {
  "kernelspec": {
   "display_name": ".venv",
   "language": "python",
   "name": "python3"
  },
  "language_info": {
   "codemirror_mode": {
    "name": "ipython",
    "version": 3
   },
   "file_extension": ".py",
   "mimetype": "text/x-python",
   "name": "python",
   "nbconvert_exporter": "python",
   "pygments_lexer": "ipython3",
   "version": "3.11.4"
  }
 },
 "nbformat": 4,
 "nbformat_minor": 2
}
