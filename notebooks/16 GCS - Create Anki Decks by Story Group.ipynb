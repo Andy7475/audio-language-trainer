{
 "cells": [
  {
   "cell_type": "code",
   "execution_count": 1,
   "metadata": {},
   "outputs": [],
   "source": [
    "from google.auth import default\n",
    "credentials, project = default()"
   ]
  },
  {
   "cell_type": "code",
   "execution_count": 36,
   "metadata": {},
   "outputs": [
    {
     "name": "stdout",
     "output_type": "stream",
     "text": [
      "The autoreload extension is already loaded. To reload it, use:\n",
      "  %reload_ext autoreload\n"
     ]
    },
    {
     "data": {
      "text/plain": [
       "'French'"
      ]
     },
     "execution_count": 36,
     "metadata": {},
     "output_type": "execute_result"
    }
   ],
   "source": [
    "%load_ext autoreload\n",
    "%autoreload 2\n",
    "import os\n",
    "import sys\n",
    "from pathlib import Path\n",
    "module_path = os.path.abspath(os.path.join('..'))\n",
    "if module_path not in sys.path:\n",
    "    sys.path.append(module_path)\n",
    "from dotenv import load_dotenv\n",
    "load_dotenv()\n",
    "\n",
    "from src.utils import (load_json, get_first_n_items, list_story_folders, save_json, save_text_file, load_text_file)  # noqa: E402\n",
    "from src.gcs_storage import read_from_gcs, upload_to_gcs, get_translated_phrases_path\n",
    "from src.convert import clean_filename\n",
    "from src.config_loader import config\n",
    "from src.phrase import get_phrase_multimedia, build_phrase_dict_from_gcs, get_phrase_keys\n",
    "from src.anki_tools import create_anki_deck_from_gcs\n",
    "config.TARGET_LANGUAGE_NAME"
   ]
  },
  {
   "cell_type": "markdown",
   "metadata": {},
   "source": [
    "## Anki Deck Plan\n",
    "\n",
    "1. A deck is created for each story, ordered e.g. Swedish::LM1000::01 First Story\n",
    "2.  hrase data is stored outside of collections (audio, images)\n",
    "3. Phrase translations are stored within a collection, but they both operate off the same key\n",
    "4. We want to get the collection dictionary, which gives us a story name (and therefore deck title) and a list of phrases\n",
    "5. We then want to get the data from GCS for all of those phrases: audio normal and slow, english, target, wiktionary_links, image\n",
    "6. We can then create an anki deck based off this data and upload to GCS\n"
   ]
  },
  {
   "cell_type": "code",
   "execution_count": 5,
   "metadata": {},
   "outputs": [
    {
     "name": "stdout",
     "output_type": "stream",
     "text": [
      "french\n"
     ]
    }
   ],
   "source": [
    "language_name = config.TARGET_LANGUAGE_NAME.lower()\n",
    "print(language_name)"
   ]
  },
  {
   "cell_type": "code",
   "execution_count": 28,
   "metadata": {},
   "outputs": [],
   "source": [
    "collection_dict = read_from_gcs(bucket_name=config.GCS_PRIVATE_BUCKET, file_path=get_translated_phrases_path(collection=\"LM1000\"))\n"
   ]
  },
  {
   "cell_type": "code",
   "execution_count": 25,
   "metadata": {},
   "outputs": [],
   "source": [
    "phrase_data = get_phrase_multimedia(phrase_key=\"he_might_offer_to_help_with_the_work\")\n"
   ]
  },
  {
   "cell_type": "code",
   "execution_count": 30,
   "metadata": {},
   "outputs": [],
   "source": [
    "from src.gcs_storage import get_story_collection_path\n",
    "story_phrases = read_from_gcs(bucket_name=config.GCS_PRIVATE_BUCKET, file_path=get_story_collection_path(collection=\"LM1000\"))\n"
   ]
  },
  {
   "cell_type": "code",
   "execution_count": 33,
   "metadata": {},
   "outputs": [],
   "source": [
    "\n",
    "from src.phrase import get_phrase_keys\n",
    "\n",
    "bpart_phrase_keys = get_phrase_keys(story_name=\"story_the_birthday_party\", collection=\"LM1000\")"
   ]
  },
  {
   "cell_type": "code",
   "execution_count": 34,
   "metadata": {},
   "outputs": [],
   "source": [
    "phrase_dict_test = build_phrase_dict_from_gcs(collection=\"LM1000\", phrase_keys=bpart_phrase_keys)"
   ]
  },
  {
   "cell_type": "code",
   "execution_count": 1,
   "metadata": {},
   "outputs": [
    {
     "ename": "ModuleNotFoundError",
     "evalue": "No module named 'src'",
     "output_type": "error",
     "traceback": [
      "\u001b[1;31m---------------------------------------------------------------------------\u001b[0m",
      "\u001b[1;31mModuleNotFoundError\u001b[0m                       Traceback (most recent call last)",
      "Cell \u001b[1;32mIn[1], line 1\u001b[0m\n\u001b[1;32m----> 1\u001b[0m \u001b[38;5;28;01mfrom\u001b[39;00m \u001b[38;5;21;01msrc\u001b[39;00m\u001b[38;5;21;01m.\u001b[39;00m\u001b[38;5;21;01manki_tools\u001b[39;00m \u001b[38;5;28;01mimport\u001b[39;00m export_phrases_to_anki\n\u001b[0;32m      2\u001b[0m export_phrases_to_anki(phrase_dict_test, output_dir\u001b[38;5;241m=\u001b[39m\u001b[38;5;124m\"\u001b[39m\u001b[38;5;124m../outputs/flashcards\u001b[39m\u001b[38;5;124m\"\u001b[39m, story_name\u001b[38;5;241m=\u001b[39m\u001b[38;5;124m\"\u001b[39m\u001b[38;5;124mstory_the_birthday_party\u001b[39m\u001b[38;5;124m\"\u001b[39m, story_position\u001b[38;5;241m=\u001b[39m\u001b[38;5;241m1\u001b[39m)\n",
      "\u001b[1;31mModuleNotFoundError\u001b[0m: No module named 'src'"
     ]
    }
   ],
   "source": [
    "from src.anki_tools import export_phrases_to_anki\n",
    "export_phrases_to_anki(phrase_dict_test, output_dir=\"../outputs/flashcards\", story_name=\"story_the_birthday_party\", story_position=1)"
   ]
  },
  {
   "cell_type": "code",
   "execution_count": null,
   "metadata": {},
   "outputs": [
    {
     "name": "stderr",
     "output_type": "stream",
     "text": [
      "adding notes to deck: 100%|██████████| 57/57 [00:00<?, ?it/s]\n"
     ]
    },
    {
     "ename": "OSError",
     "evalue": "[Errno 22] Invalid argument: '../outputs/fkashcards\\\\French::LM1000::01 The Birthday Party_anki_deck.apkg'",
     "output_type": "error",
     "traceback": [
      "\u001b[1;31m---------------------------------------------------------------------------\u001b[0m\n",
      "\u001b[1;31mOSError\u001b[0m                                   Traceback (most recent call last)\n",
      "Cell \u001b[1;32mIn[37], line 2\u001b[0m\n",
      "\u001b[0;32m      1\u001b[0m \u001b[38;5;28;01mfrom\u001b[39;00m \u001b[38;5;21;01msrc\u001b[39;00m\u001b[38;5;21;01m.\u001b[39;00m\u001b[38;5;21;01manki_tools\u001b[39;00m \u001b[38;5;28;01mimport\u001b[39;00m export_phrases_to_anki\n",
      "\u001b[1;32m----> 2\u001b[0m \u001b[43mexport_phrases_to_anki\u001b[49m\u001b[43m(\u001b[49m\u001b[43mphrase_dict_test\u001b[49m\u001b[43m,\u001b[49m\u001b[43m \u001b[49m\u001b[43moutput_dir\u001b[49m\u001b[38;5;241;43m=\u001b[39;49m\u001b[38;5;124;43m\"\u001b[39;49m\u001b[38;5;124;43m../outputs/fkashcards\u001b[39;49m\u001b[38;5;124;43m\"\u001b[39;49m\u001b[43m,\u001b[49m\u001b[43m \u001b[49m\u001b[43mdeck_name\u001b[49m\u001b[38;5;241;43m=\u001b[39;49m\u001b[38;5;124;43m\"\u001b[39;49m\u001b[38;5;124;43mFrench::LM1000::01 The Birthday Party\u001b[39;49m\u001b[38;5;124;43m\"\u001b[39;49m\u001b[43m)\u001b[49m\n",
      "\n",
      "File \u001b[1;32my:\\Python Scripts\\audio-language-trainer\\src\\anki_tools.py:807\u001b[0m, in \u001b[0;36mexport_phrases_to_anki\u001b[1;34m(phrase_dict, output_dir, deck_name)\u001b[0m\n",
      "\u001b[0;32m    805\u001b[0m package\u001b[38;5;241m.\u001b[39mmedia_files \u001b[38;5;241m=\u001b[39m [os\u001b[38;5;241m.\u001b[39mpath\u001b[38;5;241m.\u001b[39mjoin(output_dir, file) \u001b[38;5;28;01mfor\u001b[39;00m file \u001b[38;5;129;01min\u001b[39;00m media_files]\n",
      "\u001b[0;32m    806\u001b[0m output_filename \u001b[38;5;241m=\u001b[39m os\u001b[38;5;241m.\u001b[39mpath\u001b[38;5;241m.\u001b[39mjoin(output_dir, \u001b[38;5;124mf\u001b[39m\u001b[38;5;124m\"\u001b[39m\u001b[38;5;132;01m{\u001b[39;00mdeck_name\u001b[38;5;132;01m}\u001b[39;00m\u001b[38;5;124m_anki_deck.apkg\u001b[39m\u001b[38;5;124m\"\u001b[39m)\n",
      "\u001b[1;32m--> 807\u001b[0m \u001b[43mpackage\u001b[49m\u001b[38;5;241;43m.\u001b[39;49m\u001b[43mwrite_to_file\u001b[49m\u001b[43m(\u001b[49m\u001b[43moutput_filename\u001b[49m\u001b[43m)\u001b[49m\n",
      "\u001b[0;32m    808\u001b[0m \u001b[38;5;28mprint\u001b[39m(\u001b[38;5;124mf\u001b[39m\u001b[38;5;124m\"\u001b[39m\u001b[38;5;124mAnki deck exported to \u001b[39m\u001b[38;5;132;01m{\u001b[39;00moutput_filename\u001b[38;5;132;01m}\u001b[39;00m\u001b[38;5;124m\"\u001b[39m)\n",
      "\u001b[0;32m    810\u001b[0m \u001b[38;5;66;03m# Clean up temporary files\u001b[39;00m\n",
      "\n",
      "File \u001b[1;32my:\\Python Scripts\\audio-language-trainer\\.venv\\Lib\\site-packages\\genanki\\package.py:45\u001b[0m, in \u001b[0;36mPackage.write_to_file\u001b[1;34m(self, file, timestamp)\u001b[0m\n",
      "\u001b[0;32m     42\u001b[0m conn\u001b[38;5;241m.\u001b[39mcommit()\n",
      "\u001b[0;32m     43\u001b[0m conn\u001b[38;5;241m.\u001b[39mclose()\n",
      "\u001b[1;32m---> 45\u001b[0m \u001b[38;5;28;01mwith\u001b[39;00m \u001b[43mzipfile\u001b[49m\u001b[38;5;241;43m.\u001b[39;49m\u001b[43mZipFile\u001b[49m\u001b[43m(\u001b[49m\u001b[43mfile\u001b[49m\u001b[43m,\u001b[49m\u001b[43m \u001b[49m\u001b[38;5;124;43m'\u001b[39;49m\u001b[38;5;124;43mw\u001b[39;49m\u001b[38;5;124;43m'\u001b[39;49m\u001b[43m)\u001b[49m \u001b[38;5;28;01mas\u001b[39;00m outzip:\n",
      "\u001b[0;32m     46\u001b[0m   outzip\u001b[38;5;241m.\u001b[39mwrite(dbfilename, \u001b[38;5;124m'\u001b[39m\u001b[38;5;124mcollection.anki2\u001b[39m\u001b[38;5;124m'\u001b[39m)\n",
      "\u001b[0;32m     48\u001b[0m   media_file_idx_to_path \u001b[38;5;241m=\u001b[39m \u001b[38;5;28mdict\u001b[39m(\u001b[38;5;28menumerate\u001b[39m(\u001b[38;5;28mself\u001b[39m\u001b[38;5;241m.\u001b[39mmedia_files))\n",
      "\n",
      "File \u001b[1;32m~\\AppData\\Local\\Programs\\Python\\Python311\\Lib\\zipfile.py:1284\u001b[0m, in \u001b[0;36mZipFile.__init__\u001b[1;34m(self, file, mode, compression, allowZip64, compresslevel, strict_timestamps, metadata_encoding)\u001b[0m\n",
      "\u001b[0;32m   1282\u001b[0m \u001b[38;5;28;01mwhile\u001b[39;00m \u001b[38;5;28;01mTrue\u001b[39;00m:\n",
      "\u001b[0;32m   1283\u001b[0m     \u001b[38;5;28;01mtry\u001b[39;00m:\n",
      "\u001b[1;32m-> 1284\u001b[0m         \u001b[38;5;28mself\u001b[39m\u001b[38;5;241m.\u001b[39mfp \u001b[38;5;241m=\u001b[39m \u001b[43mio\u001b[49m\u001b[38;5;241;43m.\u001b[39;49m\u001b[43mopen\u001b[49m\u001b[43m(\u001b[49m\u001b[43mfile\u001b[49m\u001b[43m,\u001b[49m\u001b[43m \u001b[49m\u001b[43mfilemode\u001b[49m\u001b[43m)\u001b[49m\n",
      "\u001b[0;32m   1285\u001b[0m     \u001b[38;5;28;01mexcept\u001b[39;00m \u001b[38;5;167;01mOSError\u001b[39;00m:\n",
      "\u001b[0;32m   1286\u001b[0m         \u001b[38;5;28;01mif\u001b[39;00m filemode \u001b[38;5;129;01min\u001b[39;00m modeDict:\n",
      "\n",
      "\u001b[1;31mOSError\u001b[0m: [Errno 22] Invalid argument: '../outputs/fkashcards\\\\French::LM1000::01 The Birthday Party_anki_deck.apkg'"
     ]
    }
   ],
   "source": [
    "from src.anki_tools import export_phrases_to_anki\n",
    "export_phrases_to_anki(phrase_dict_test, output_dir=\"../outputs/flashcards\", deck_name=\"French::LM1000::01 The Birthday Party\")"
   ]
  },
  {
   "cell_type": "code",
   "execution_count": null,
   "metadata": {},
   "outputs": [
    {
     "name": "stderr",
     "output_type": "stream",
     "text": [
      "adding notes to deck: 100%|██████████| 57/57 [00:00<?, ?it/s]\n"
     ]
    },
    {
     "ename": "OSError",
     "evalue": "[Errno 22] Invalid argument: '../outputs/fkashcards\\\\French::LM1000::01 The Birthday Party_anki_deck.apkg'",
     "output_type": "error",
     "traceback": [
      "\u001b[1;31m---------------------------------------------------------------------------\u001b[0m\n",
      "\u001b[1;31mOSError\u001b[0m                                   Traceback (most recent call last)\n",
      "Cell \u001b[1;32mIn[37], line 2\u001b[0m\n",
      "\u001b[0;32m      1\u001b[0m \u001b[38;5;28;01mfrom\u001b[39;00m \u001b[38;5;21;01msrc\u001b[39;00m\u001b[38;5;21;01m.\u001b[39;00m\u001b[38;5;21;01manki_tools\u001b[39;00m \u001b[38;5;28;01mimport\u001b[39;00m export_phrases_to_anki\n",
      "\u001b[1;32m----> 2\u001b[0m \u001b[43mexport_phrases_to_anki\u001b[49m\u001b[43m(\u001b[49m\u001b[43mphrase_dict_test\u001b[49m\u001b[43m,\u001b[49m\u001b[43m \u001b[49m\u001b[43moutput_dir\u001b[49m\u001b[38;5;241;43m=\u001b[39;49m\u001b[38;5;124;43m\"\u001b[39;49m\u001b[38;5;124;43m../outputs/fkashcards\u001b[39;49m\u001b[38;5;124;43m\"\u001b[39;49m\u001b[43m,\u001b[49m\u001b[43m \u001b[49m\u001b[43mdeck_name\u001b[49m\u001b[38;5;241;43m=\u001b[39;49m\u001b[38;5;124;43m\"\u001b[39;49m\u001b[38;5;124;43mFrench::LM1000::01 The Birthday Party\u001b[39;49m\u001b[38;5;124;43m\"\u001b[39;49m\u001b[43m)\u001b[49m\n",
      "\n",
      "File \u001b[1;32my:\\Python Scripts\\audio-language-trainer\\src\\anki_tools.py:807\u001b[0m, in \u001b[0;36mexport_phrases_to_anki\u001b[1;34m(phrase_dict, output_dir, deck_name)\u001b[0m\n",
      "\u001b[0;32m    805\u001b[0m package\u001b[38;5;241m.\u001b[39mmedia_files \u001b[38;5;241m=\u001b[39m [os\u001b[38;5;241m.\u001b[39mpath\u001b[38;5;241m.\u001b[39mjoin(output_dir, file) \u001b[38;5;28;01mfor\u001b[39;00m file \u001b[38;5;129;01min\u001b[39;00m media_files]\n",
      "\u001b[0;32m    806\u001b[0m output_filename \u001b[38;5;241m=\u001b[39m os\u001b[38;5;241m.\u001b[39mpath\u001b[38;5;241m.\u001b[39mjoin(output_dir, \u001b[38;5;124mf\u001b[39m\u001b[38;5;124m\"\u001b[39m\u001b[38;5;132;01m{\u001b[39;00mdeck_name\u001b[38;5;132;01m}\u001b[39;00m\u001b[38;5;124m_anki_deck.apkg\u001b[39m\u001b[38;5;124m\"\u001b[39m)\n",
      "\u001b[1;32m--> 807\u001b[0m \u001b[43mpackage\u001b[49m\u001b[38;5;241;43m.\u001b[39;49m\u001b[43mwrite_to_file\u001b[49m\u001b[43m(\u001b[49m\u001b[43moutput_filename\u001b[49m\u001b[43m)\u001b[49m\n",
      "\u001b[0;32m    808\u001b[0m \u001b[38;5;28mprint\u001b[39m(\u001b[38;5;124mf\u001b[39m\u001b[38;5;124m\"\u001b[39m\u001b[38;5;124mAnki deck exported to \u001b[39m\u001b[38;5;132;01m{\u001b[39;00moutput_filename\u001b[38;5;132;01m}\u001b[39;00m\u001b[38;5;124m\"\u001b[39m)\n",
      "\u001b[0;32m    810\u001b[0m \u001b[38;5;66;03m# Clean up temporary files\u001b[39;00m\n",
      "\n",
      "File \u001b[1;32my:\\Python Scripts\\audio-language-trainer\\.venv\\Lib\\site-packages\\genanki\\package.py:45\u001b[0m, in \u001b[0;36mPackage.write_to_file\u001b[1;34m(self, file, timestamp)\u001b[0m\n",
      "\u001b[0;32m     42\u001b[0m conn\u001b[38;5;241m.\u001b[39mcommit()\n",
      "\u001b[0;32m     43\u001b[0m conn\u001b[38;5;241m.\u001b[39mclose()\n",
      "\u001b[1;32m---> 45\u001b[0m \u001b[38;5;28;01mwith\u001b[39;00m \u001b[43mzipfile\u001b[49m\u001b[38;5;241;43m.\u001b[39;49m\u001b[43mZipFile\u001b[49m\u001b[43m(\u001b[49m\u001b[43mfile\u001b[49m\u001b[43m,\u001b[49m\u001b[43m \u001b[49m\u001b[38;5;124;43m'\u001b[39;49m\u001b[38;5;124;43mw\u001b[39;49m\u001b[38;5;124;43m'\u001b[39;49m\u001b[43m)\u001b[49m \u001b[38;5;28;01mas\u001b[39;00m outzip:\n",
      "\u001b[0;32m     46\u001b[0m   outzip\u001b[38;5;241m.\u001b[39mwrite(dbfilename, \u001b[38;5;124m'\u001b[39m\u001b[38;5;124mcollection.anki2\u001b[39m\u001b[38;5;124m'\u001b[39m)\n",
      "\u001b[0;32m     48\u001b[0m   media_file_idx_to_path \u001b[38;5;241m=\u001b[39m \u001b[38;5;28mdict\u001b[39m(\u001b[38;5;28menumerate\u001b[39m(\u001b[38;5;28mself\u001b[39m\u001b[38;5;241m.\u001b[39mmedia_files))\n",
      "\n",
      "File \u001b[1;32m~\\AppData\\Local\\Programs\\Python\\Python311\\Lib\\zipfile.py:1284\u001b[0m, in \u001b[0;36mZipFile.__init__\u001b[1;34m(self, file, mode, compression, allowZip64, compresslevel, strict_timestamps, metadata_encoding)\u001b[0m\n",
      "\u001b[0;32m   1282\u001b[0m \u001b[38;5;28;01mwhile\u001b[39;00m \u001b[38;5;28;01mTrue\u001b[39;00m:\n",
      "\u001b[0;32m   1283\u001b[0m     \u001b[38;5;28;01mtry\u001b[39;00m:\n",
      "\u001b[1;32m-> 1284\u001b[0m         \u001b[38;5;28mself\u001b[39m\u001b[38;5;241m.\u001b[39mfp \u001b[38;5;241m=\u001b[39m \u001b[43mio\u001b[49m\u001b[38;5;241;43m.\u001b[39;49m\u001b[43mopen\u001b[49m\u001b[43m(\u001b[49m\u001b[43mfile\u001b[49m\u001b[43m,\u001b[49m\u001b[43m \u001b[49m\u001b[43mfilemode\u001b[49m\u001b[43m)\u001b[49m\n",
      "\u001b[0;32m   1285\u001b[0m     \u001b[38;5;28;01mexcept\u001b[39;00m \u001b[38;5;167;01mOSError\u001b[39;00m:\n",
      "\u001b[0;32m   1286\u001b[0m         \u001b[38;5;28;01mif\u001b[39;00m filemode \u001b[38;5;129;01min\u001b[39;00m modeDict:\n",
      "\n",
      "\u001b[1;31mOSError\u001b[0m: [Errno 22] Invalid argument: '../outputs/fkashcards\\\\French::LM1000::01 The Birthday Party_anki_deck.apkg'"
     ]
    }
   ],
   "source": [
    "from src.anki_tools import export_phrases_to_anki\n",
    "export_phrases_to_anki(phrase_dict_test, output_dir=\"../outputs/flashcards\", deck_name=\"French::LM1000::01 The Birthday Party\")"
   ]
  },
  {
   "cell_type": "code",
   "execution_count": null,
   "metadata": {},
   "outputs": [],
   "source": []
  },
  {
   "cell_type": "code",
   "execution_count": 27,
   "metadata": {},
   "outputs": [
    {
     "data": {
      "text/plain": [
       "{'he_might_offer_to_help_with_the_work': {'english_text': 'He might offer to help with the work',\n",
       "  'target_text': 'Il pourrait proposer de donner un coup de main',\n",
       "  'audio_normal': <pydub.audio_segment.AudioSegment at 0x28a1534ce90>,\n",
       "  'audio_slow': <pydub.audio_segment.AudioSegment at 0x28a15761250>,\n",
       "  'image': <PIL.PngImagePlugin.PngImageFile image mode=RGB size=1024x1024>,\n",
       "  'wiktionary_links': '<a href=\"https://en.wiktionary.org/wiki/il#French\">Il</a> <a href=\"https://en.wiktionary.org/wiki/pourrait#French\">pourrait</a> <a href=\"https://en.wiktionary.org/wiki/proposer#French\">proposer</a> <a href=\"https://en.wiktionary.org/wiki/de#French\">de</a> <a href=\"https://en.wiktionary.org/wiki/donner#French\">donner</a> <a href=\"https://en.wiktionary.org/wiki/un#French\">un</a> <a href=\"https://en.wiktionary.org/wiki/coup#French\">coup</a> <a href=\"https://en.wiktionary.org/wiki/de#French\">de</a> <a href=\"https://en.wiktionary.org/wiki/main#French\">main</a>'}}"
      ]
     },
     "execution_count": 27,
     "metadata": {},
     "output_type": "execute_result"
    }
   ],
   "source": [
    "from src.phrase import build_phrase_dict_from_gcs\n",
    "build_phrase_dict_from_gcs(collection=\"LM1000\", phrase_keys=)"
   ]
  },
  {
   "cell_type": "code",
   "execution_count": null,
   "metadata": {},
   "outputs": [],
   "source": [
    "from src.story import create_album_files\n",
    "create_album_files(story_data, story_name)"
   ]
  },
  {
   "cell_type": "code",
   "execution_count": null,
   "metadata": {},
   "outputs": [],
   "source": [
    "from src.story import generate_and_update_index_html\n",
    "\n",
    "generate_and_update_index_html()"
   ]
  }
 ],
 "metadata": {
  "kernelspec": {
   "display_name": ".venv",
   "language": "python",
   "name": "python3"
  },
  "language_info": {
   "codemirror_mode": {
    "name": "ipython",
    "version": 3
   },
   "file_extension": ".py",
   "mimetype": "text/x-python",
   "name": "python",
   "nbconvert_exporter": "python",
   "pygments_lexer": "ipython3",
   "version": "3.11.4"
  }
 },
 "nbformat": 4,
 "nbformat_minor": 2
}
