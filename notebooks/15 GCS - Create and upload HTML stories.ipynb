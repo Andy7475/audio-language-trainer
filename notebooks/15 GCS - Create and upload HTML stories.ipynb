{
 "cells": [
  {
   "cell_type": "code",
   "execution_count": null,
   "metadata": {},
   "outputs": [],
   "source": [
    "%load_ext autoreload\n",
    "from google.auth import default\n",
    "credentials, project = default()\n"
   ]
  },
  {
   "cell_type": "code",
   "execution_count": null,
   "metadata": {},
   "outputs": [],
   "source": [
    "%autoreload 2\n",
    "import os\n",
    "import sys\n",
    "from pathlib import Path\n",
    "module_path = os.path.abspath(os.path.join('..'))\n",
    "if module_path not in sys.path:\n",
    "    sys.path.append(module_path)\n",
    "from dotenv import load_dotenv\n",
    "load_dotenv()\n",
    "\n",
    "from src.story import upload_story_image\n",
    "from src.gcs_storage import read_from_gcs, upload_to_gcs, get_m4a_file_path\n",
    "from src.convert import clean_filename\n",
    "from src.config_loader import config\n",
    "config.TARGET_LANGUAGE_NAME"
   ]
  },
  {
   "cell_type": "markdown",
   "metadata": {},
   "source": [
    "## HTML creation plan\n",
    "\n",
    "1. create the story data dictionary format from GCS files\n",
    "2. create the html file using an existing function and upload\n"
   ]
  },
  {
   "cell_type": "code",
   "execution_count": 5,
   "metadata": {},
   "outputs": [],
   "source": [
    "from src.gcs_storage import get_stories_from_collection\n",
    "\n",
    "all_stories = get_stories_from_collection(collection=\"LM1000\")"
   ]
  },
  {
   "cell_type": "code",
   "execution_count": null,
   "metadata": {},
   "outputs": [],
   "source": [
    "all_stories"
   ]
  },
  {
   "cell_type": "code",
   "execution_count": null,
   "metadata": {},
   "outputs": [],
   "source": [
    "from src.story import prepare_story_data_from_gcs, create_and_upload_html_story, create_album_files\n",
    "\n",
    "for story_name in all_stories:\n",
    "    print(story_name)\n",
    "    story_data = prepare_story_data_from_gcs(story_name, collection=\"LM1000\")\n",
    "    print(f\"Created story data\")\n",
    "    create_and_upload_html_story(story_data, story_name, collection=\"LM1000\")\n",
    "    print(f\"Story uploaded, now creating album files\")\n",
    "    #create_album_files(story_data, story_name, collection=\"LM1000\")\n",
    "    print(f\"Album files created and uploaded\")\n",
    "\n"
   ]
  },
  {
   "cell_type": "code",
   "execution_count": null,
   "metadata": {},
   "outputs": [],
   "source": [
    "%autoreload 2\n",
    "from src.story import update_all_index_pages_hierarchical\n",
    "\n",
    "update_all_index_pages_hierarchical()"
   ]
  },
  {
   "cell_type": "code",
   "execution_count": null,
   "metadata": {},
   "outputs": [],
   "source": []
  }
 ],
 "metadata": {
  "kernelspec": {
   "display_name": ".venv",
   "language": "python",
   "name": "python3"
  },
  "language_info": {
   "codemirror_mode": {
    "name": "ipython",
    "version": 3
   },
   "file_extension": ".py",
   "mimetype": "text/x-python",
   "name": "python",
   "nbconvert_exporter": "python",
   "pygments_lexer": "ipython3",
   "version": "3.12.0"
  }
 },
 "nbformat": 4,
 "nbformat_minor": 2
}
