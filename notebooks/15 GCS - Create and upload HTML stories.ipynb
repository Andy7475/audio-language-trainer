{
 "cells": [
  {
   "cell_type": "code",
   "execution_count": null,
   "metadata": {},
   "outputs": [],
   "source": [
    "from google.auth import default\n",
    "credentials, project = default()"
   ]
  },
  {
   "cell_type": "code",
   "execution_count": null,
   "metadata": {},
   "outputs": [],
   "source": [
    "%load_ext autoreload\n",
    "%autoreload 2\n",
    "import os\n",
    "import sys\n",
    "from pathlib import Path\n",
    "module_path = os.path.abspath(os.path.join('..'))\n",
    "if module_path not in sys.path:\n",
    "    sys.path.append(module_path)\n",
    "from dotenv import load_dotenv\n",
    "load_dotenv()\n",
    "\n",
    "from src.utils import (load_json, get_first_n_items, list_story_folders, save_json, save_text_file, load_text_file)  # noqa: E402\n",
    "from src.story import upload_story_image\n",
    "from src.gcs_storage import read_from_gcs, upload_to_gcs\n",
    "from src.convert import clean_filename\n",
    "from src.config_loader import config\n",
    "config.TARGET_LANGUAGE_NAME"
   ]
  },
  {
   "cell_type": "markdown",
   "metadata": {},
   "source": [
    "## HTML creation plan\n",
    "\n",
    "1. create the story data dictionary format from GCS files\n",
    "2. create the html file using an existing function and upload\n"
   ]
  },
  {
   "cell_type": "code",
   "execution_count": null,
   "metadata": {},
   "outputs": [],
   "source": [
    "language_name = config.TARGET_LANGUAGE_NAME.lower()\n",
    "print(language_name)"
   ]
  },
  {
   "cell_type": "code",
   "execution_count": null,
   "metadata": {},
   "outputs": [],
   "source": [
    "from src.gcs_storage import get_stories_from_collection\n",
    "\n",
    "all_stories = get_stories_from_collection(collection=\"LM1000\")"
   ]
  },
  {
   "cell_type": "code",
   "execution_count": 37,
   "metadata": {},
   "outputs": [
    {
     "data": {
      "text/plain": [
       "['story_a_fishing_trip']"
      ]
     },
     "execution_count": 37,
     "metadata": {},
     "output_type": "execute_result"
    }
   ],
   "source": [
    "all_stories[3:4]"
   ]
  },
  {
   "cell_type": "code",
   "execution_count": 38,
   "metadata": {},
   "outputs": [
    {
     "name": "stdout",
     "output_type": "stream",
     "text": [
      "story_a_fishing_trip\n"
     ]
    },
    {
     "name": "stderr",
     "output_type": "stream",
     "text": [
      "Downloading utterance audio: 7it [00:26,  3.79s/it]      | 0/3 [00:00<?, ?it/s]\n",
      "Downloading utterance audio: 9it [00:33,  3.77s/it]      | 1/3 [00:35<01:10, 35.38s/it]\n",
      "Downloading utterance audio: 8it [00:29,  3.64s/it]██▋   | 2/3 [01:17<00:39, 39.40s/it]\n",
      "Preparing story_a_fishing_trip in french: 100%|██████████| 3/3 [01:55<00:00, 38.62s/it]\n"
     ]
    },
    {
     "name": "stdout",
     "output_type": "stream",
     "text": [
      "Created story data\n",
      "HTML story created locally at: ..\\outputs\\stories\\story_a_fishing_trip\\French\\story_a_fishing_trip.html\n",
      "Uploaded HTML story to: gs://audio-language-trainer-stories/french/story_a_fishing_trip/story_a_fishing_trip.html\n",
      "Story uploaded, now creating album files\n",
      "Album files created and uploaded\n"
     ]
    }
   ],
   "source": [
    "from src.story import prepare_story_data_from_gcs, create_and_upload_html_story, create_album_files\n",
    "\n",
    "for story_name in all_stories[3:4]:\n",
    "    print(story_name)\n",
    "    story_data = prepare_story_data_from_gcs(story_name)\n",
    "    print(f\"Created story data\")\n",
    "    create_and_upload_html_story(story_data, story_name)\n",
    "    print(f\"Story uploaded, now creating album files\")\n",
    "    #create_album_files(story_data, story_name, upload_to_gcs=True)\n",
    "    print(f\"Album files created and uploaded\")\n",
    "\n"
   ]
  },
  {
   "cell_type": "code",
   "execution_count": null,
   "metadata": {},
   "outputs": [],
   "source": [
    "story_name = 'story_camping_trip_gone_awry'"
   ]
  },
  {
   "cell_type": "code",
   "execution_count": null,
   "metadata": {},
   "outputs": [],
   "source": [
    "story_data = prepare_story_data_from_gcs(story_name)"
   ]
  },
  {
   "cell_type": "code",
   "execution_count": null,
   "metadata": {},
   "outputs": [],
   "source": [
    "story_data['introduction']['audio_data']"
   ]
  },
  {
   "cell_type": "code",
   "execution_count": null,
   "metadata": {},
   "outputs": [],
   "source": [
    "from src.story import create_album_files\n",
    "create_album_files(story_data, story_name)"
   ]
  },
  {
   "cell_type": "code",
   "execution_count": null,
   "metadata": {},
   "outputs": [],
   "source": [
    "from src.story import generate_and_update_index_html\n",
    "\n",
    "generate_and_update_index_html()"
   ]
  },
  {
   "cell_type": "code",
   "execution_count": null,
   "metadata": {},
   "outputs": [],
   "source": []
  }
 ],
 "metadata": {
  "kernelspec": {
   "display_name": ".venv",
   "language": "python",
   "name": "python3"
  },
  "language_info": {
   "codemirror_mode": {
    "name": "ipython",
    "version": 3
   },
   "file_extension": ".py",
   "mimetype": "text/x-python",
   "name": "python",
   "nbconvert_exporter": "python",
   "pygments_lexer": "ipython3",
   "version": "3.11.4"
  }
 },
 "nbformat": 4,
 "nbformat_minor": 2
}
