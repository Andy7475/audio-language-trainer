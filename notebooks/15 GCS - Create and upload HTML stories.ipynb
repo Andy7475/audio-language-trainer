{
 "cells": [
  {
   "cell_type": "code",
   "execution_count": 1,
   "metadata": {},
   "outputs": [],
   "source": [
    "%load_ext autoreload\n",
    "from google.auth import default\n",
    "credentials, project = default()\n"
   ]
  },
  {
   "cell_type": "code",
   "execution_count": 2,
   "metadata": {},
   "outputs": [
    {
     "name": "stdout",
     "output_type": "stream",
     "text": [
      "Found existing FFmpeg paths:\n",
      "  C:\\Users\\andyl\\AppData\\Local\\Microsoft\\WinGet\\Packages\\Gyan.FFmpeg_Microsoft.Winget.Source_8wekyb3d8bbwe\\ffmpeg-7.1.1-full_build\\bin\n"
     ]
    },
    {
     "data": {
      "text/plain": [
       "'French'"
      ]
     },
     "execution_count": 2,
     "metadata": {},
     "output_type": "execute_result"
    }
   ],
   "source": [
    "%autoreload 2\n",
    "import os\n",
    "import sys\n",
    "from pathlib import Path\n",
    "module_path = os.path.abspath(os.path.join('..'))\n",
    "if module_path not in sys.path:\n",
    "    sys.path.append(module_path)\n",
    "from dotenv import load_dotenv\n",
    "load_dotenv()\n",
    "\n",
    "from src.story import upload_story_image\n",
    "from src.gcs_storage import read_from_gcs, upload_to_gcs, get_m4a_file_path\n",
    "from src.convert import clean_filename\n",
    "from src.config_loader import config\n",
    "config.TARGET_LANGUAGE_NAME"
   ]
  },
  {
   "cell_type": "markdown",
   "metadata": {},
   "source": [
    "## HTML creation plan\n",
    "\n",
    "1. create the story data dictionary format from GCS files\n",
    "2. create the html file using an existing function and upload\n"
   ]
  },
  {
   "cell_type": "code",
   "execution_count": 3,
   "metadata": {},
   "outputs": [],
   "source": [
    "from src.gcs_storage import get_stories_from_collection\n",
    "\n",
    "all_stories = get_stories_from_collection(collection=\"LM1000\")"
   ]
  },
  {
   "cell_type": "code",
   "execution_count": 4,
   "metadata": {},
   "outputs": [
    {
     "data": {
      "text/plain": [
       "['story_sunset_wedding_blues',\n",
       " 'story_better_than_a_movie',\n",
       " 'story_unexpected_wedding_guests',\n",
       " 'story_workplace_stress_vacation',\n",
       " 'story_the_marathon',\n",
       " 'story_midnight_garden_mystery',\n",
       " 'story_teaching_music',\n",
       " 'story_job_interview_gone_wrong',\n",
       " 'story_winter_in_sweden',\n",
       " 'story_a_fishing_trip',\n",
       " 'story_team_spirit',\n",
       " 'story_brussels_blend',\n",
       " 'story_rainy_football_match',\n",
       " 'story_camping_trip_gone_awry',\n",
       " 'story_unexpected_career_change',\n",
       " 'story_a_missed_stop',\n",
       " 'story_road_trip',\n",
       " 'story_forgetful_diver',\n",
       " 'story_the_birthday_party',\n",
       " 'story_the_power_cut']"
      ]
     },
     "execution_count": 4,
     "metadata": {},
     "output_type": "execute_result"
    }
   ],
   "source": [
    "all_stories"
   ]
  },
  {
   "cell_type": "code",
   "execution_count": 5,
   "metadata": {},
   "outputs": [
    {
     "name": "stdout",
     "output_type": "stream",
     "text": [
      "story_sunset_wedding_blues\n"
     ]
    },
    {
     "name": "stderr",
     "output_type": "stream",
     "text": [
      "Preparing story_sunset_wedding_blues in french:   0%|          | 0/3 [00:00<?, ?it/s]"
     ]
    },
    {
     "name": "stderr",
     "output_type": "stream",
     "text": [
      "Downloading utterance audio: 6it [00:00,  8.14it/s]\n",
      "Downloading utterance audio: 8it [00:00,  8.56it/s]%|███▎      | 1/3 [00:00<00:01,  1.06it/s]\n",
      "Downloading utterance audio: 6it [00:00,  7.61it/s]%|██████▋   | 2/3 [00:02<00:01,  1.06s/it]\n",
      "Preparing story_sunset_wedding_blues in french: 100%|██████████| 3/3 [00:03<00:00,  1.02s/it]\n"
     ]
    },
    {
     "name": "stdout",
     "output_type": "stream",
     "text": [
      "Created story data\n",
      "Uploaded HTML story to: gs://audio-language-trainer-stories/french/lm1000/story_sunset_wedding_blues/story_sunset_wedding_blues.html\n",
      "Story uploaded, now creating album files\n",
      "Album files created and uploaded\n",
      "story_better_than_a_movie\n"
     ]
    },
    {
     "name": "stderr",
     "output_type": "stream",
     "text": [
      "Downloading utterance audio: 6it [00:00,  8.79it/s]|          | 0/3 [00:00<?, ?it/s]\n",
      "Downloading utterance audio: 10it [00:01,  8.50it/s]███▎      | 1/3 [00:00<00:01,  1.15it/s]\n",
      "Downloading utterance audio: 10it [00:01,  8.31it/s]██████▋   | 2/3 [00:02<00:01,  1.16s/it]\n",
      "Preparing story_better_than_a_movie in french: 100%|██████████| 3/3 [00:03<00:00,  1.21s/it]\n"
     ]
    },
    {
     "name": "stdout",
     "output_type": "stream",
     "text": [
      "Created story data\n",
      "Uploaded HTML story to: gs://audio-language-trainer-stories/french/lm1000/story_better_than_a_movie/story_better_than_a_movie.html\n",
      "Story uploaded, now creating album files\n",
      "Album files created and uploaded\n",
      "story_unexpected_wedding_guests\n"
     ]
    },
    {
     "name": "stderr",
     "output_type": "stream",
     "text": [
      "Downloading utterance audio: 6it [00:00,  8.21it/s]:   0%|          | 0/3 [00:00<?, ?it/s]\n",
      "Downloading utterance audio: 8it [00:01,  7.61it/s]:  33%|███▎      | 1/3 [00:00<00:01,  1.07it/s]\n",
      "Downloading utterance audio: 8it [00:00,  8.35it/s]:  67%|██████▋   | 2/3 [00:02<00:01,  1.12s/it]\n",
      "Preparing story_unexpected_wedding_guests in french: 100%|██████████| 3/3 [00:03<00:00,  1.12s/it]\n"
     ]
    },
    {
     "name": "stdout",
     "output_type": "stream",
     "text": [
      "Created story data\n",
      "Uploaded HTML story to: gs://audio-language-trainer-stories/french/lm1000/story_unexpected_wedding_guests/story_unexpected_wedding_guests.html\n",
      "Story uploaded, now creating album files\n",
      "Album files created and uploaded\n",
      "story_workplace_stress_vacation\n"
     ]
    },
    {
     "name": "stderr",
     "output_type": "stream",
     "text": [
      "Downloading utterance audio: 7it [00:01,  5.88it/s]:   0%|          | 0/3 [00:00<?, ?it/s]\n",
      "Downloading utterance audio: 8it [00:01,  4.76it/s]:  33%|███▎      | 1/3 [00:01<00:03,  1.55s/it]\n",
      "Downloading utterance audio: 8it [00:01,  5.94it/s]:  67%|██████▋   | 2/3 [00:03<00:01,  1.81s/it]\n",
      "Preparing story_workplace_stress_vacation in french: 100%|██████████| 3/3 [00:05<00:00,  1.72s/it]\n"
     ]
    },
    {
     "name": "stdout",
     "output_type": "stream",
     "text": [
      "Created story data\n",
      "Uploaded HTML story to: gs://audio-language-trainer-stories/french/lm1000/story_workplace_stress_vacation/story_workplace_stress_vacation.html\n",
      "Story uploaded, now creating album files\n",
      "Album files created and uploaded\n",
      "story_the_marathon\n"
     ]
    },
    {
     "name": "stderr",
     "output_type": "stream",
     "text": [
      "Downloading utterance audio: 6it [00:01,  5.77it/s]    | 0/3 [00:00<?, ?it/s]\n",
      "Downloading utterance audio: 7it [00:01,  5.60it/s]    | 1/3 [00:01<00:02,  1.41s/it]\n",
      "Downloading utterance audio: 7it [00:01,  6.09it/s]▋   | 2/3 [00:03<00:01,  1.54s/it]\n",
      "Preparing story_the_marathon in french: 100%|██████████| 3/3 [00:04<00:00,  1.50s/it]\n"
     ]
    },
    {
     "name": "stdout",
     "output_type": "stream",
     "text": [
      "Created story data\n",
      "Uploaded HTML story to: gs://audio-language-trainer-stories/french/lm1000/story_the_marathon/story_the_marathon.html\n",
      "Story uploaded, now creating album files\n",
      "Album files created and uploaded\n",
      "story_midnight_garden_mystery\n"
     ]
    },
    {
     "name": "stderr",
     "output_type": "stream",
     "text": [
      "Downloading utterance audio: 6it [00:01,  4.84it/s]  0%|          | 0/3 [00:00<?, ?it/s]\n",
      "Downloading utterance audio: 7it [00:01,  5.65it/s] 33%|███▎      | 1/3 [00:01<00:03,  1.58s/it]\n",
      "Downloading utterance audio: 8it [00:01,  5.55it/s] 67%|██████▋   | 2/3 [00:03<00:01,  1.63s/it]\n",
      "Preparing story_midnight_garden_mystery in french: 100%|██████████| 3/3 [00:05<00:00,  1.75s/it]\n"
     ]
    },
    {
     "name": "stdout",
     "output_type": "stream",
     "text": [
      "Created story data\n",
      "Uploaded HTML story to: gs://audio-language-trainer-stories/french/lm1000/story_midnight_garden_mystery/story_midnight_garden_mystery.html\n",
      "Story uploaded, now creating album files\n",
      "Album files created and uploaded\n",
      "story_teaching_music\n"
     ]
    },
    {
     "name": "stderr",
     "output_type": "stream",
     "text": [
      "Downloading utterance audio: 8it [00:01,  5.66it/s]      | 0/3 [00:00<?, ?it/s]\n",
      "Downloading utterance audio: 10it [00:01,  5.86it/s]     | 1/3 [00:01<00:03,  1.77s/it]\n",
      "Downloading utterance audio: 9it [00:01,  6.15it/s]██▋   | 2/3 [00:03<00:01,  1.94s/it]\n",
      "Preparing story_teaching_music in french: 100%|██████████| 3/3 [00:05<00:00,  1.87s/it]\n"
     ]
    },
    {
     "name": "stdout",
     "output_type": "stream",
     "text": [
      "Created story data\n",
      "Uploaded HTML story to: gs://audio-language-trainer-stories/french/lm1000/story_teaching_music/story_teaching_music.html\n",
      "Story uploaded, now creating album files\n",
      "Album files created and uploaded\n",
      "story_job_interview_gone_wrong\n"
     ]
    },
    {
     "name": "stderr",
     "output_type": "stream",
     "text": [
      "Downloading utterance audio: 8it [00:01,  5.87it/s]   0%|          | 0/3 [00:00<?, ?it/s]\n",
      "Downloading utterance audio: 8it [00:01,  4.54it/s]  33%|███▎      | 1/3 [00:01<00:03,  1.70s/it]\n",
      "Downloading utterance audio: 8it [00:01,  5.33it/s]  67%|██████▋   | 2/3 [00:03<00:01,  1.93s/it]\n",
      "Preparing story_job_interview_gone_wrong in french: 100%|██████████| 3/3 [00:05<00:00,  1.87s/it]\n"
     ]
    },
    {
     "name": "stdout",
     "output_type": "stream",
     "text": [
      "Created story data\n",
      "Uploaded HTML story to: gs://audio-language-trainer-stories/french/lm1000/story_job_interview_gone_wrong/story_job_interview_gone_wrong.html\n",
      "Story uploaded, now creating album files\n",
      "Album files created and uploaded\n",
      "story_winter_in_sweden\n"
     ]
    },
    {
     "name": "stderr",
     "output_type": "stream",
     "text": [
      "Downloading utterance audio: 6it [00:01,  5.21it/s]        | 0/3 [00:00<?, ?it/s]\n",
      "Downloading utterance audio: 7it [00:01,  5.33it/s]█▎      | 1/3 [00:01<00:03,  1.69s/it]\n",
      "Downloading utterance audio: 6it [00:01,  5.26it/s]████▋   | 2/3 [00:03<00:01,  1.77s/it]\n",
      "Preparing story_winter_in_sweden in french: 100%|██████████| 3/3 [00:05<00:00,  1.67s/it]\n"
     ]
    },
    {
     "name": "stdout",
     "output_type": "stream",
     "text": [
      "Created story data\n",
      "Uploaded HTML story to: gs://audio-language-trainer-stories/french/lm1000/story_winter_in_sweden/story_winter_in_sweden.html\n",
      "Story uploaded, now creating album files\n",
      "Album files created and uploaded\n",
      "story_a_fishing_trip\n"
     ]
    },
    {
     "name": "stderr",
     "output_type": "stream",
     "text": [
      "Downloading utterance audio: 7it [00:00,  8.02it/s]      | 0/3 [00:00<?, ?it/s]\n",
      "Downloading utterance audio: 9it [00:01,  7.74it/s]      | 1/3 [00:01<00:02,  1.18s/it]\n",
      "Downloading utterance audio: 8it [00:00,  8.50it/s]██▋   | 2/3 [00:02<00:01,  1.36s/it]\n",
      "Preparing story_a_fishing_trip in french: 100%|██████████| 3/3 [00:04<00:00,  1.37s/it]\n"
     ]
    },
    {
     "name": "stdout",
     "output_type": "stream",
     "text": [
      "Created story data\n",
      "Uploaded HTML story to: gs://audio-language-trainer-stories/french/lm1000/story_a_fishing_trip/story_a_fishing_trip.html\n",
      "Story uploaded, now creating album files\n",
      "Album files created and uploaded\n",
      "story_team_spirit\n"
     ]
    },
    {
     "name": "stderr",
     "output_type": "stream",
     "text": [
      "Downloading utterance audio: 8it [00:01,  5.50it/s]   | 0/3 [00:00<?, ?it/s]\n",
      "Downloading utterance audio: 10it [00:01,  5.69it/s]  | 1/3 [00:01<00:03,  1.84s/it]\n",
      "Downloading utterance audio: 8it [00:01,  5.37it/s]   | 2/3 [00:03<00:01,  1.99s/it]\n",
      "Preparing story_team_spirit in french: 100%|██████████| 3/3 [00:05<00:00,  1.92s/it]\n"
     ]
    },
    {
     "name": "stdout",
     "output_type": "stream",
     "text": [
      "Created story data\n",
      "Uploaded HTML story to: gs://audio-language-trainer-stories/french/lm1000/story_team_spirit/story_team_spirit.html\n",
      "Story uploaded, now creating album files\n",
      "Album files created and uploaded\n",
      "story_brussels_blend\n"
     ]
    },
    {
     "name": "stderr",
     "output_type": "stream",
     "text": [
      "Downloading utterance audio: 6it [00:01,  5.90it/s]      | 0/3 [00:00<?, ?it/s]\n",
      "Downloading utterance audio: 10it [00:01,  5.38it/s]     | 1/3 [00:01<00:02,  1.35s/it]\n",
      "Downloading utterance audio: 8it [00:01,  4.49it/s]██▋   | 2/3 [00:03<00:01,  1.87s/it]\n",
      "Preparing story_brussels_blend in french: 100%|██████████| 3/3 [00:05<00:00,  1.90s/it]\n"
     ]
    },
    {
     "name": "stdout",
     "output_type": "stream",
     "text": [
      "Created story data\n",
      "Uploaded HTML story to: gs://audio-language-trainer-stories/french/lm1000/story_brussels_blend/story_brussels_blend.html\n",
      "Story uploaded, now creating album files\n",
      "Album files created and uploaded\n",
      "story_rainy_football_match\n"
     ]
    },
    {
     "name": "stderr",
     "output_type": "stream",
     "text": [
      "Downloading utterance audio: 9it [00:01,  8.23it/s]%|          | 0/3 [00:00<?, ?it/s]\n",
      "Downloading utterance audio: 10it [00:01,  8.08it/s]|███▎      | 1/3 [00:01<00:02,  1.29s/it]\n",
      "Downloading utterance audio: 10it [00:01,  7.40it/s]|██████▋   | 2/3 [00:02<00:01,  1.37s/it]\n",
      "Preparing story_rainy_football_match in french: 100%|██████████| 3/3 [00:04<00:00,  1.43s/it]\n"
     ]
    },
    {
     "name": "stdout",
     "output_type": "stream",
     "text": [
      "Created story data\n",
      "Uploaded HTML story to: gs://audio-language-trainer-stories/french/lm1000/story_rainy_football_match/story_rainy_football_match.html\n",
      "Story uploaded, now creating album files\n",
      "Album files created and uploaded\n",
      "story_camping_trip_gone_awry\n"
     ]
    },
    {
     "name": "stderr",
     "output_type": "stream",
     "text": [
      "Downloading utterance audio: 7it [00:10,  1.47s/it] 0%|          | 0/3 [00:00<?, ?it/s]\n",
      "Downloading utterance audio: 9it [00:12,  1.36s/it]33%|███▎      | 1/3 [00:11<00:23, 11.70s/it]\n",
      "Downloading utterance audio: 8it [00:10,  1.35s/it]67%|██████▋   | 2/3 [00:25<00:12, 12.88s/it]\n",
      "Preparing story_camping_trip_gone_awry in french: 100%|██████████| 3/3 [00:37<00:00, 12.58s/it]\n"
     ]
    },
    {
     "name": "stdout",
     "output_type": "stream",
     "text": [
      "Created story data\n",
      "Uploaded HTML story to: gs://audio-language-trainer-stories/french/lm1000/story_camping_trip_gone_awry/story_camping_trip_gone_awry.html\n",
      "Story uploaded, now creating album files\n",
      "Album files created and uploaded\n",
      "story_unexpected_career_change\n"
     ]
    },
    {
     "name": "stderr",
     "output_type": "stream",
     "text": [
      "Downloading utterance audio: 8it [00:11,  1.42s/it]   0%|          | 0/3 [00:00<?, ?it/s]\n",
      "Downloading utterance audio: 10it [00:14,  1.43s/it] 33%|███▎      | 1/3 [00:12<00:25, 12.85s/it]\n",
      "Downloading utterance audio: 10it [00:14,  1.44s/it] 67%|██████▋   | 2/3 [00:28<00:14, 14.58s/it]\n",
      "Preparing story_unexpected_career_change in french: 100%|██████████| 3/3 [00:44<00:00, 14.85s/it]\n"
     ]
    },
    {
     "name": "stdout",
     "output_type": "stream",
     "text": [
      "Created story data\n",
      "Uploaded HTML story to: gs://audio-language-trainer-stories/french/lm1000/story_unexpected_career_change/story_unexpected_career_change.html\n",
      "Story uploaded, now creating album files\n",
      "Album files created and uploaded\n",
      "story_a_missed_stop\n"
     ]
    },
    {
     "name": "stderr",
     "output_type": "stream",
     "text": [
      "Downloading utterance audio: 8it [00:12,  1.58s/it]     | 0/3 [00:00<?, ?it/s]\n",
      "Downloading utterance audio: 12it [00:19,  1.61s/it]    | 1/3 [00:14<00:28, 14.23s/it]\n",
      "Downloading utterance audio: 12it [00:18,  1.56s/it]▋   | 2/3 [00:35<00:18, 18.24s/it]\n",
      "Preparing story_a_missed_stop in french: 100%|██████████| 3/3 [00:55<00:00, 18.53s/it]\n"
     ]
    },
    {
     "name": "stdout",
     "output_type": "stream",
     "text": [
      "Created story data\n",
      "Uploaded HTML story to: gs://audio-language-trainer-stories/french/lm1000/story_a_missed_stop/story_a_missed_stop.html\n",
      "Story uploaded, now creating album files\n",
      "Album files created and uploaded\n",
      "story_road_trip\n"
     ]
    },
    {
     "name": "stderr",
     "output_type": "stream",
     "text": [
      "Downloading utterance audio: 8it [00:11,  1.45s/it] | 0/3 [00:00<?, ?it/s]\n",
      "Downloading utterance audio: 8it [00:11,  1.45s/it] | 1/3 [00:13<00:26, 13.19s/it]\n",
      "Downloading utterance audio: 8it [00:11,  1.47s/it] | 2/3 [00:26<00:13, 13.54s/it]\n",
      "Preparing story_road_trip in french: 100%|██████████| 3/3 [00:40<00:00, 13.42s/it]\n"
     ]
    },
    {
     "name": "stdout",
     "output_type": "stream",
     "text": [
      "Created story data\n",
      "Uploaded HTML story to: gs://audio-language-trainer-stories/french/lm1000/story_road_trip/story_road_trip.html\n",
      "Story uploaded, now creating album files\n",
      "Album files created and uploaded\n",
      "story_forgetful_diver\n"
     ]
    },
    {
     "name": "stderr",
     "output_type": "stream",
     "text": [
      "Downloading utterance audio: 6it [00:08,  1.39s/it]       | 0/3 [00:00<?, ?it/s]\n",
      "Downloading utterance audio: 8it [00:11,  1.44s/it]▎      | 1/3 [00:10<00:20, 10.03s/it]\n",
      "Downloading utterance audio: 8it [00:10,  1.35s/it]███▋   | 2/3 [00:23<00:11, 11.90s/it]\n",
      "Preparing story_forgetful_diver in french: 100%|██████████| 3/3 [00:35<00:00, 11.87s/it]\n"
     ]
    },
    {
     "name": "stdout",
     "output_type": "stream",
     "text": [
      "Created story data\n",
      "Uploaded HTML story to: gs://audio-language-trainer-stories/french/lm1000/story_forgetful_diver/story_forgetful_diver.html\n",
      "Story uploaded, now creating album files\n",
      "Album files created and uploaded\n",
      "story_the_birthday_party\n"
     ]
    },
    {
     "name": "stderr",
     "output_type": "stream",
     "text": [
      "Downloading utterance audio: 9it [00:12,  1.40s/it]          | 0/3 [00:00<?, ?it/s]\n",
      "Downloading utterance audio: 10it [00:13,  1.39s/it]██▎      | 1/3 [00:14<00:29, 14.63s/it]\n",
      "Downloading utterance audio: 10it [00:14,  1.44s/it]█████▋   | 2/3 [00:30<00:15, 15.41s/it]\n",
      "Preparing story_the_birthday_party in french: 100%|██████████| 3/3 [00:46<00:00, 15.64s/it]\n"
     ]
    },
    {
     "name": "stdout",
     "output_type": "stream",
     "text": [
      "Created story data\n",
      "Uploaded HTML story to: gs://audio-language-trainer-stories/french/lm1000/story_the_birthday_party/story_the_birthday_party.html\n",
      "Story uploaded, now creating album files\n",
      "Album files created and uploaded\n",
      "story_the_power_cut\n"
     ]
    },
    {
     "name": "stderr",
     "output_type": "stream",
     "text": [
      "Downloading utterance audio: 7it [00:09,  1.41s/it]     | 0/3 [00:00<?, ?it/s]\n",
      "Downloading utterance audio: 8it [00:11,  1.49s/it]     | 1/3 [00:11<00:23, 11.57s/it]\n",
      "Downloading utterance audio: 8it [00:11,  1.38s/it]█▋   | 2/3 [00:25<00:12, 12.75s/it]\n",
      "Preparing story_the_power_cut in french: 100%|██████████| 3/3 [00:38<00:00, 12.72s/it]\n"
     ]
    },
    {
     "name": "stdout",
     "output_type": "stream",
     "text": [
      "Created story data\n",
      "Uploaded HTML story to: gs://audio-language-trainer-stories/french/lm1000/story_the_power_cut/story_the_power_cut.html\n",
      "Story uploaded, now creating album files\n",
      "Album files created and uploaded\n"
     ]
    }
   ],
   "source": [
    "%autoreload 2\n",
    "from src.story import prepare_story_data_from_gcs, create_and_upload_html_story, create_album_files\n",
    "\n",
    "for story_name in all_stories:\n",
    "    print(story_name)\n",
    "    story_data = prepare_story_data_from_gcs(story_name, collection=\"LM1000\")\n",
    "    print(f\"Created story data\")\n",
    "    create_and_upload_html_story(story_data, story_name, collection=\"LM1000\")\n",
    "    print(f\"Story uploaded, now creating album files\")\n",
    "    #create_album_files(story_data, story_name, collection=\"LM1000\")\n",
    "    print(f\"Album files created and uploaded\")\n",
    "\n"
   ]
  },
  {
   "cell_type": "code",
   "execution_count": null,
   "metadata": {},
   "outputs": [],
   "source": [
    "%autoreload 2\n",
    "from src.story import update_all_index_pages_hierarchical, upload_styles_to_gcs\n",
    "upload_styles_to_gcs()\n"
   ]
  },
  {
   "cell_type": "code",
   "execution_count": null,
   "metadata": {},
   "outputs": [],
   "source": [
    "\n",
    "update_all_index_pages_hierarchical(languages=[\"French\", \"Spanish\", \"German\", \"Swedish\"], collections=[\"LM1000\"])"
   ]
  },
  {
   "cell_type": "code",
   "execution_count": null,
   "metadata": {},
   "outputs": [],
   "source": []
  }
 ],
 "metadata": {
  "kernelspec": {
   "display_name": ".venv",
   "language": "python",
   "name": "python3"
  },
  "language_info": {
   "codemirror_mode": {
    "name": "ipython",
    "version": 3
   },
   "file_extension": ".py",
   "mimetype": "text/x-python",
   "name": "python",
   "nbconvert_exporter": "python",
   "pygments_lexer": "ipython3",
   "version": "3.12.0"
  }
 },
 "nbformat": 4,
 "nbformat_minor": 2
}
