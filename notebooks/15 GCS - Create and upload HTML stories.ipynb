{
 "cells": [
  {
   "cell_type": "code",
   "execution_count": 1,
   "metadata": {},
   "outputs": [],
   "source": [
    "%load_ext autoreload\n",
    "from google.auth import default\n",
    "credentials, project = default()\n"
   ]
  },
  {
   "cell_type": "code",
   "execution_count": 2,
   "metadata": {},
   "outputs": [
    {
     "name": "stdout",
     "output_type": "stream",
     "text": [
      "Default FFmpeg path added to system PATH: C:\\Program Files\\ffmpeg-7.0-essentials_build\\bin\n"
     ]
    },
    {
     "data": {
      "text/plain": [
       "'Spanish'"
      ]
     },
     "execution_count": 2,
     "metadata": {},
     "output_type": "execute_result"
    }
   ],
   "source": [
    "%autoreload 2\n",
    "import os\n",
    "import sys\n",
    "from pathlib import Path\n",
    "module_path = os.path.abspath(os.path.join('..'))\n",
    "if module_path not in sys.path:\n",
    "    sys.path.append(module_path)\n",
    "from dotenv import load_dotenv\n",
    "load_dotenv()\n",
    "\n",
    "from src.story import upload_story_image\n",
    "from src.gcs_storage import read_from_gcs, upload_to_gcs, get_m4a_file_path\n",
    "from src.convert import clean_filename\n",
    "from src.config_loader import config\n",
    "config.TARGET_LANGUAGE_NAME"
   ]
  },
  {
   "cell_type": "markdown",
   "metadata": {},
   "source": [
    "## HTML creation plan\n",
    "\n",
    "1. create the story data dictionary format from GCS files\n",
    "2. create the html file using an existing function and upload\n"
   ]
  },
  {
   "cell_type": "code",
   "execution_count": 3,
   "metadata": {},
   "outputs": [],
   "source": [
    "from src.gcs_storage import get_stories_from_collection\n",
    "\n",
    "all_stories = get_stories_from_collection(collection=\"LM1000\")"
   ]
  },
  {
   "cell_type": "code",
   "execution_count": 4,
   "metadata": {},
   "outputs": [
    {
     "data": {
      "text/plain": [
       "['story_sunset_wedding_blues',\n",
       " 'story_better_than_a_movie',\n",
       " 'story_unexpected_wedding_guests',\n",
       " 'story_midnight_garden_mystery',\n",
       " 'story_workplace_stress_vacation',\n",
       " 'story_the_marathon',\n",
       " 'story_teaching_music',\n",
       " 'story_job_interview_gone_wrong',\n",
       " 'story_winter_in_sweden',\n",
       " 'story_a_fishing_trip',\n",
       " 'story_team_spirit',\n",
       " 'story_brussels_blend',\n",
       " 'story_rainy_football_match',\n",
       " 'story_camping_trip_gone_awry',\n",
       " 'story_unexpected_career_change',\n",
       " 'story_a_missed_stop',\n",
       " 'story_road_trip',\n",
       " 'story_forgetful_diver',\n",
       " 'story_the_birthday_party',\n",
       " 'story_the_power_cut']"
      ]
     },
     "execution_count": 4,
     "metadata": {},
     "output_type": "execute_result"
    }
   ],
   "source": [
    "all_stories"
   ]
  },
  {
   "cell_type": "code",
   "execution_count": 5,
   "metadata": {},
   "outputs": [
    {
     "name": "stdout",
     "output_type": "stream",
     "text": [
      "story_sunset_wedding_blues\n"
     ]
    },
    {
     "name": "stderr",
     "output_type": "stream",
     "text": [
      "Downloading utterance audio: 6it [00:00,  7.82it/s]0%|          | 0/3 [00:00<?, ?it/s]\n",
      "Downloading utterance audio: 8it [00:01,  7.45it/s]3%|███▎      | 1/3 [00:04<00:09,  4.97s/it]\n",
      "Downloading utterance audio: 6it [00:00,  7.70it/s]7%|██████▋   | 2/3 [00:10<00:05,  5.07s/it]\n",
      "Preparing story_sunset_wedding_blues in spanish: 100%|██████████| 3/3 [00:14<00:00,  4.88s/it]\n"
     ]
    },
    {
     "name": "stdout",
     "output_type": "stream",
     "text": [
      "Created story data\n",
      "Uploaded HTML story to: gs://audio-language-trainer-stories/spanish/lm1000/story_sunset_wedding_blues/story_sunset_wedding_blues.html\n",
      "Story uploaded, now creating album files\n"
     ]
    },
    {
     "name": "stderr",
     "output_type": "stream",
     "text": [
      "creating album:  33%|███▎      | 1/3 [00:04<00:09,  4.64s/it]"
     ]
    },
    {
     "name": "stdout",
     "output_type": "stream",
     "text": [
      "Uploaded to GCS: gs://audio-language-trainer-private-content/collections/LM1000/spanish/audio/spanish_01_story_sunset_wedding_blues_introduction.m4a\n",
      "Saved M4A file track number 1\n"
     ]
    },
    {
     "name": "stderr",
     "output_type": "stream",
     "text": [
      "creating album:  67%|██████▋   | 2/3 [00:09<00:04,  4.76s/it]"
     ]
    },
    {
     "name": "stdout",
     "output_type": "stream",
     "text": [
      "Uploaded to GCS: gs://audio-language-trainer-private-content/collections/LM1000/spanish/audio/spanish_01_story_sunset_wedding_blues_development.m4a\n",
      "Saved M4A file track number 2\n"
     ]
    },
    {
     "name": "stderr",
     "output_type": "stream",
     "text": [
      "creating album: 100%|██████████| 3/3 [00:14<00:00,  4.71s/it]\n"
     ]
    },
    {
     "name": "stdout",
     "output_type": "stream",
     "text": [
      "Uploaded to GCS: gs://audio-language-trainer-private-content/collections/LM1000/spanish/audio/spanish_01_story_sunset_wedding_blues_resolution.m4a\n",
      "Saved M4A file track number 3\n"
     ]
    },
    {
     "name": "stderr",
     "output_type": "stream",
     "text": [
      "creating fast tracks for album:  33%|███▎      | 1/3 [00:07<00:14,  7.16s/it]"
     ]
    },
    {
     "name": "stdout",
     "output_type": "stream",
     "text": [
      "Uploaded to GCS: gs://audio-language-trainer-private-content/collections/LM1000/spanish/audio/spanish_01_story_sunset_wedding_blues_introduction_FAST.m4a\n",
      "Saved M4A file track number 4\n"
     ]
    },
    {
     "name": "stderr",
     "output_type": "stream",
     "text": [
      "creating fast tracks for album:  67%|██████▋   | 2/3 [00:14<00:07,  7.29s/it]"
     ]
    },
    {
     "name": "stdout",
     "output_type": "stream",
     "text": [
      "Uploaded to GCS: gs://audio-language-trainer-private-content/collections/LM1000/spanish/audio/spanish_01_story_sunset_wedding_blues_development_FAST.m4a\n",
      "Saved M4A file track number 5\n"
     ]
    },
    {
     "name": "stderr",
     "output_type": "stream",
     "text": [
      "creating fast tracks for album: 100%|██████████| 3/3 [00:20<00:00,  6.94s/it]"
     ]
    },
    {
     "name": "stdout",
     "output_type": "stream",
     "text": [
      "Uploaded to GCS: gs://audio-language-trainer-private-content/collections/LM1000/spanish/audio/spanish_01_story_sunset_wedding_blues_resolution_FAST.m4a\n",
      "Saved M4A file track number 6\n",
      "Album files created and uploaded\n"
     ]
    },
    {
     "name": "stderr",
     "output_type": "stream",
     "text": [
      "\n"
     ]
    }
   ],
   "source": [
    "from src.story import prepare_story_data_from_gcs, create_and_upload_html_story, create_album_files\n",
    "\n",
    "for story_name in all_stories[0:1]:\n",
    "    print(story_name)\n",
    "    story_data = prepare_story_data_from_gcs(story_name, collection=\"LM1000\")\n",
    "    print(f\"Created story data\")\n",
    "    create_and_upload_html_story(story_data, story_name, collection=\"LM1000\")\n",
    "    print(f\"Story uploaded, now creating album files\")\n",
    "    create_album_files(story_data, story_name, collection=\"LM1000\")\n",
    "    print(f\"Album files created and uploaded\")\n",
    "\n"
   ]
  },
  {
   "cell_type": "code",
   "execution_count": null,
   "metadata": {},
   "outputs": [],
   "source": [
    "%autoreload 2\n",
    "from src.story import update_all_index_pages_hierarchical\n",
    "\n",
    "update_all_index_pages_hierarchical(languages=[\"French\", \"Spanish\"], collections=[\"LM1000\"])"
   ]
  },
  {
   "cell_type": "code",
   "execution_count": null,
   "metadata": {},
   "outputs": [],
   "source": []
  }
 ],
 "metadata": {
  "kernelspec": {
   "display_name": ".venv",
   "language": "python",
   "name": "python3"
  },
  "language_info": {
   "codemirror_mode": {
    "name": "ipython",
    "version": 3
   },
   "file_extension": ".py",
   "mimetype": "text/x-python",
   "name": "python",
   "nbconvert_exporter": "python",
   "pygments_lexer": "ipython3",
   "version": "3.11.4"
  }
 },
 "nbformat": 4,
 "nbformat_minor": 2
}
