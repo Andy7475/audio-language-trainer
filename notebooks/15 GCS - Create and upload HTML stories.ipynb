{
 "cells": [
  {
   "cell_type": "code",
   "execution_count": 1,
   "metadata": {},
   "outputs": [],
   "source": [
    "%load_ext autoreload\n",
    "from google.auth import default\n",
    "credentials, project = default()\n"
   ]
  },
  {
   "cell_type": "code",
   "execution_count": 2,
   "metadata": {},
   "outputs": [
    {
     "name": "stdout",
     "output_type": "stream",
     "text": [
      "Default FFmpeg path added to system PATH: C:\\Program Files\\ffmpeg-7.0-essentials_build\\bin\n"
     ]
    },
    {
     "data": {
      "text/plain": [
       "'French'"
      ]
     },
     "execution_count": 2,
     "metadata": {},
     "output_type": "execute_result"
    }
   ],
   "source": [
    "%autoreload 2\n",
    "import os\n",
    "import sys\n",
    "from pathlib import Path\n",
    "module_path = os.path.abspath(os.path.join('..'))\n",
    "if module_path not in sys.path:\n",
    "    sys.path.append(module_path)\n",
    "from dotenv import load_dotenv\n",
    "load_dotenv()\n",
    "\n",
    "from src.story import upload_story_image\n",
    "from src.gcs_storage import read_from_gcs, upload_to_gcs, get_m4a_file_path\n",
    "from src.convert import clean_filename\n",
    "from src.config_loader import config\n",
    "config.TARGET_LANGUAGE_NAME"
   ]
  },
  {
   "cell_type": "markdown",
   "metadata": {},
   "source": [
    "## HTML creation plan\n",
    "\n",
    "1. create the story data dictionary format from GCS files\n",
    "2. create the html file using an existing function and upload\n"
   ]
  },
  {
   "cell_type": "code",
   "execution_count": 9,
   "metadata": {},
   "outputs": [],
   "source": [
    "from src.gcs_storage import get_stories_from_collection\n",
    "\n",
    "all_stories = get_stories_from_collection(collection=\"LM1000\")"
   ]
  },
  {
   "cell_type": "code",
   "execution_count": 10,
   "metadata": {},
   "outputs": [
    {
     "data": {
      "text/plain": [
       "'story_unexpected_wedding_guests'"
      ]
     },
     "execution_count": 10,
     "metadata": {},
     "output_type": "execute_result"
    }
   ],
   "source": [
    "all_stories[2]"
   ]
  },
  {
   "cell_type": "code",
   "execution_count": 7,
   "metadata": {},
   "outputs": [
    {
     "name": "stdout",
     "output_type": "stream",
     "text": [
      "story_midnight_garden_mystery\n"
     ]
    },
    {
     "name": "stderr",
     "output_type": "stream",
     "text": [
      "Downloading utterance audio: 6it [00:22,  3.77s/it]  0%|          | 0/3 [00:00<?, ?it/s]\n",
      "Downloading utterance audio: 7it [00:26,  3.73s/it] 33%|███▎      | 1/3 [00:26<00:53, 26.62s/it]\n",
      "Downloading utterance audio: 8it [00:31,  3.90s/it] 67%|██████▋   | 2/3 [00:56<00:28, 28.67s/it]\n",
      "Preparing story_midnight_garden_mystery in french: 100%|██████████| 3/3 [01:32<00:00, 30.72s/it]\n"
     ]
    },
    {
     "name": "stdout",
     "output_type": "stream",
     "text": [
      "Created story data\n",
      "Story uploaded, now creating album files\n"
     ]
    },
    {
     "name": "stderr",
     "output_type": "stream",
     "text": [
      "creating album:  33%|███▎      | 1/3 [00:05<00:10,  5.19s/it]"
     ]
    },
    {
     "name": "stdout",
     "output_type": "stream",
     "text": [
      "Uploaded to GCS: gs://audio-language-trainer-private-content/collections/LM1000/french/audio/french_04_story_midnight_garden_mystery_introduction.m4a\n",
      "Saved M4A file track number 1\n"
     ]
    },
    {
     "name": "stderr",
     "output_type": "stream",
     "text": [
      "creating album:  67%|██████▋   | 2/3 [00:10<00:05,  5.27s/it]"
     ]
    },
    {
     "name": "stdout",
     "output_type": "stream",
     "text": [
      "Uploaded to GCS: gs://audio-language-trainer-private-content/collections/LM1000/french/audio/french_04_story_midnight_garden_mystery_development.m4a\n",
      "Saved M4A file track number 2\n"
     ]
    },
    {
     "name": "stderr",
     "output_type": "stream",
     "text": [
      "creating album: 100%|██████████| 3/3 [00:16<00:00,  5.34s/it]\n"
     ]
    },
    {
     "name": "stdout",
     "output_type": "stream",
     "text": [
      "Uploaded to GCS: gs://audio-language-trainer-private-content/collections/LM1000/french/audio/french_04_story_midnight_garden_mystery_resolution.m4a\n",
      "Saved M4A file track number 3\n"
     ]
    },
    {
     "name": "stderr",
     "output_type": "stream",
     "text": [
      "creating fast tracks for album:  33%|███▎      | 1/3 [00:07<00:15,  7.60s/it]"
     ]
    },
    {
     "name": "stdout",
     "output_type": "stream",
     "text": [
      "Uploaded to GCS: gs://audio-language-trainer-private-content/collections/LM1000/french/audio/french_04_story_midnight_garden_mystery_introduction_FAST.m4a\n",
      "Saved M4A file track number 4\n"
     ]
    },
    {
     "name": "stderr",
     "output_type": "stream",
     "text": [
      "creating fast tracks for album:  67%|██████▋   | 2/3 [00:16<00:08,  8.34s/it]"
     ]
    },
    {
     "name": "stdout",
     "output_type": "stream",
     "text": [
      "Uploaded to GCS: gs://audio-language-trainer-private-content/collections/LM1000/french/audio/french_04_story_midnight_garden_mystery_development_FAST.m4a\n",
      "Saved M4A file track number 5\n"
     ]
    },
    {
     "name": "stderr",
     "output_type": "stream",
     "text": [
      "creating fast tracks for album: 100%|██████████| 3/3 [00:26<00:00,  8.92s/it]"
     ]
    },
    {
     "name": "stdout",
     "output_type": "stream",
     "text": [
      "Uploaded to GCS: gs://audio-language-trainer-private-content/collections/LM1000/french/audio/french_04_story_midnight_garden_mystery_resolution_FAST.m4a\n",
      "Saved M4A file track number 6\n",
      "Album files created and uploaded\n",
      "story_workplace_stress_vacation\n"
     ]
    },
    {
     "name": "stderr",
     "output_type": "stream",
     "text": [
      "\n",
      "Downloading utterance audio: 7it [00:27,  3.93s/it]:   0%|          | 0/3 [00:00<?, ?it/s]\n",
      "Downloading utterance audio: 8it [00:31,  3.94s/it]:  33%|███▎      | 1/3 [00:31<01:03, 31.68s/it]\n",
      "Downloading utterance audio: 8it [00:32,  4.02s/it]:  67%|██████▋   | 2/3 [01:07<00:34, 34.25s/it]\n",
      "Preparing story_workplace_stress_vacation in french: 100%|██████████| 3/3 [01:43<00:00, 34.61s/it]\n"
     ]
    },
    {
     "name": "stdout",
     "output_type": "stream",
     "text": [
      "Created story data\n",
      "Story uploaded, now creating album files\n"
     ]
    },
    {
     "name": "stderr",
     "output_type": "stream",
     "text": [
      "creating album:  33%|███▎      | 1/3 [00:05<00:10,  5.49s/it]"
     ]
    },
    {
     "name": "stdout",
     "output_type": "stream",
     "text": [
      "Uploaded to GCS: gs://audio-language-trainer-private-content/collections/LM1000/french/audio/french_05_story_workplace_stress_vacation_introduction.m4a\n",
      "Saved M4A file track number 1\n"
     ]
    },
    {
     "name": "stderr",
     "output_type": "stream",
     "text": [
      "creating album:  67%|██████▋   | 2/3 [00:10<00:05,  5.43s/it]"
     ]
    },
    {
     "name": "stdout",
     "output_type": "stream",
     "text": [
      "Uploaded to GCS: gs://audio-language-trainer-private-content/collections/LM1000/french/audio/french_05_story_workplace_stress_vacation_development.m4a\n",
      "Saved M4A file track number 2\n"
     ]
    },
    {
     "name": "stderr",
     "output_type": "stream",
     "text": [
      "creating album: 100%|██████████| 3/3 [00:16<00:00,  5.41s/it]\n"
     ]
    },
    {
     "name": "stdout",
     "output_type": "stream",
     "text": [
      "Uploaded to GCS: gs://audio-language-trainer-private-content/collections/LM1000/french/audio/french_05_story_workplace_stress_vacation_resolution.m4a\n",
      "Saved M4A file track number 3\n"
     ]
    },
    {
     "name": "stderr",
     "output_type": "stream",
     "text": [
      "creating fast tracks for album:  33%|███▎      | 1/3 [00:07<00:14,  7.29s/it]"
     ]
    },
    {
     "name": "stdout",
     "output_type": "stream",
     "text": [
      "Uploaded to GCS: gs://audio-language-trainer-private-content/collections/LM1000/french/audio/french_05_story_workplace_stress_vacation_introduction_FAST.m4a\n",
      "Saved M4A file track number 4\n"
     ]
    },
    {
     "name": "stderr",
     "output_type": "stream",
     "text": [
      "creating fast tracks for album:  67%|██████▋   | 2/3 [00:15<00:07,  7.84s/it]"
     ]
    },
    {
     "name": "stdout",
     "output_type": "stream",
     "text": [
      "Uploaded to GCS: gs://audio-language-trainer-private-content/collections/LM1000/french/audio/french_05_story_workplace_stress_vacation_development_FAST.m4a\n",
      "Saved M4A file track number 5\n"
     ]
    },
    {
     "name": "stderr",
     "output_type": "stream",
     "text": [
      "creating fast tracks for album: 100%|██████████| 3/3 [00:23<00:00,  7.88s/it]"
     ]
    },
    {
     "name": "stdout",
     "output_type": "stream",
     "text": [
      "Uploaded to GCS: gs://audio-language-trainer-private-content/collections/LM1000/french/audio/french_05_story_workplace_stress_vacation_resolution_FAST.m4a\n",
      "Saved M4A file track number 6\n",
      "Album files created and uploaded\n",
      "story_the_marathon\n"
     ]
    },
    {
     "name": "stderr",
     "output_type": "stream",
     "text": [
      "\n",
      "Downloading utterance audio: 6it [00:24,  4.11s/it]    | 0/3 [00:00<?, ?it/s]\n",
      "Downloading utterance audio: 7it [00:29,  4.16s/it]    | 1/3 [00:28<00:57, 28.78s/it]\n",
      "Downloading utterance audio: 7it [00:27,  3.96s/it]▋   | 2/3 [01:02<00:31, 31.49s/it]\n",
      "Preparing story_the_marathon in french: 100%|██████████| 3/3 [01:34<00:00, 31.39s/it]\n"
     ]
    },
    {
     "name": "stdout",
     "output_type": "stream",
     "text": [
      "Created story data\n",
      "Story uploaded, now creating album files\n"
     ]
    },
    {
     "name": "stderr",
     "output_type": "stream",
     "text": [
      "creating album:  33%|███▎      | 1/3 [00:05<00:10,  5.15s/it]"
     ]
    },
    {
     "name": "stdout",
     "output_type": "stream",
     "text": [
      "Uploaded to GCS: gs://audio-language-trainer-private-content/collections/LM1000/french/audio/french_06_story_the_marathon_introduction.m4a\n",
      "Saved M4A file track number 1\n"
     ]
    },
    {
     "name": "stderr",
     "output_type": "stream",
     "text": [
      "creating album:  67%|██████▋   | 2/3 [00:10<00:05,  5.20s/it]"
     ]
    },
    {
     "name": "stdout",
     "output_type": "stream",
     "text": [
      "Uploaded to GCS: gs://audio-language-trainer-private-content/collections/LM1000/french/audio/french_06_story_the_marathon_development.m4a\n",
      "Saved M4A file track number 2\n"
     ]
    },
    {
     "name": "stderr",
     "output_type": "stream",
     "text": [
      "creating album: 100%|██████████| 3/3 [00:16<00:00,  5.37s/it]\n"
     ]
    },
    {
     "name": "stdout",
     "output_type": "stream",
     "text": [
      "Uploaded to GCS: gs://audio-language-trainer-private-content/collections/LM1000/french/audio/french_06_story_the_marathon_resolution.m4a\n",
      "Saved M4A file track number 3\n"
     ]
    },
    {
     "name": "stderr",
     "output_type": "stream",
     "text": [
      "creating fast tracks for album:  33%|███▎      | 1/3 [00:07<00:15,  7.65s/it]"
     ]
    },
    {
     "name": "stdout",
     "output_type": "stream",
     "text": [
      "Uploaded to GCS: gs://audio-language-trainer-private-content/collections/LM1000/french/audio/french_06_story_the_marathon_introduction_FAST.m4a\n",
      "Saved M4A file track number 4\n"
     ]
    },
    {
     "name": "stderr",
     "output_type": "stream",
     "text": [
      "creating fast tracks for album:  67%|██████▋   | 2/3 [00:15<00:07,  7.81s/it]"
     ]
    },
    {
     "name": "stdout",
     "output_type": "stream",
     "text": [
      "Uploaded to GCS: gs://audio-language-trainer-private-content/collections/LM1000/french/audio/french_06_story_the_marathon_development_FAST.m4a\n",
      "Saved M4A file track number 5\n"
     ]
    },
    {
     "name": "stderr",
     "output_type": "stream",
     "text": [
      "creating fast tracks for album: 100%|██████████| 3/3 [00:23<00:00,  7.76s/it]"
     ]
    },
    {
     "name": "stdout",
     "output_type": "stream",
     "text": [
      "Uploaded to GCS: gs://audio-language-trainer-private-content/collections/LM1000/french/audio/french_06_story_the_marathon_resolution_FAST.m4a\n",
      "Saved M4A file track number 6\n",
      "Album files created and uploaded\n"
     ]
    },
    {
     "name": "stderr",
     "output_type": "stream",
     "text": [
      "\n"
     ]
    }
   ],
   "source": [
    "from src.story import prepare_story_data_from_gcs, create_and_upload_html_story, create_album_files\n",
    "\n",
    "for story_name in all_stories[3:6]:\n",
    "    print(story_name)\n",
    "    story_data = prepare_story_data_from_gcs(story_name, collection=\"LM1000\")\n",
    "    print(f\"Created story data\")\n",
    "    #create_and_upload_html_story(story_data, story_name, collection=\"LM1000\")\n",
    "    print(f\"Story uploaded, now creating album files\")\n",
    "    create_album_files(story_data, story_name, collection=\"LM1000\")\n",
    "    print(f\"Album files created and uploaded\")\n",
    "\n"
   ]
  },
  {
   "cell_type": "code",
   "execution_count": null,
   "metadata": {},
   "outputs": [],
   "source": [
    "%autoreload 2\n",
    "from src.story import update_all_index_pages_hierarchical\n",
    "\n",
    "update_all_index_pages_hierarchical(languages=[\"French\", \"Spanish\"], collections=[\"LM1000\"])"
   ]
  },
  {
   "cell_type": "code",
   "execution_count": null,
   "metadata": {},
   "outputs": [],
   "source": []
  }
 ],
 "metadata": {
  "kernelspec": {
   "display_name": ".venv",
   "language": "python",
   "name": "python3"
  },
  "language_info": {
   "codemirror_mode": {
    "name": "ipython",
    "version": 3
   },
   "file_extension": ".py",
   "mimetype": "text/x-python",
   "name": "python",
   "nbconvert_exporter": "python",
   "pygments_lexer": "ipython3",
   "version": "3.11.4"
  }
 },
 "nbformat": 4,
 "nbformat_minor": 2
}
