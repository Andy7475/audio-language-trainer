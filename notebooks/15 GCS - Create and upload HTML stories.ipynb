{
 "cells": [
  {
   "cell_type": "code",
   "execution_count": 1,
   "metadata": {},
   "outputs": [],
   "source": [
    "%load_ext autoreload\n",
    "from google.auth import default\n",
    "credentials, project = default()\n"
   ]
  },
  {
   "cell_type": "code",
   "execution_count": 2,
   "metadata": {},
   "outputs": [
    {
     "name": "stdout",
     "output_type": "stream",
     "text": [
      "Found existing FFmpeg paths:\n",
      "  C:\\Users\\andyl\\AppData\\Local\\Microsoft\\WinGet\\Packages\\Gyan.FFmpeg_Microsoft.Winget.Source_8wekyb3d8bbwe\\ffmpeg-7.1.1-full_build\\bin\n",
      "French\n"
     ]
    }
   ],
   "source": [
    "%autoreload 2\n",
    "import os\n",
    "import sys\n",
    "from pathlib import Path\n",
    "module_path = os.path.abspath(os.path.join('..'))\n",
    "if module_path not in sys.path:\n",
    "    sys.path.append(module_path)\n",
    "from dotenv import load_dotenv\n",
    "load_dotenv()\n",
    "\n",
    "from src.story import upload_story_image\n",
    "from src.gcs_storage import read_from_gcs, upload_to_gcs, get_m4a_file_path\n",
    "from src.convert import clean_filename\n",
    "from src.config_loader import config\n",
    "print(config.TARGET_LANGUAGE_NAME)\n",
    "COLLECTION=\"WarmUp150\""
   ]
  },
  {
   "cell_type": "markdown",
   "metadata": {},
   "source": [
    "## HTML creation plan\n",
    "\n",
    "1. create the story data dictionary format from GCS files\n",
    "2. create the html file using an existing function and upload\n"
   ]
  },
  {
   "cell_type": "code",
   "execution_count": 5,
   "metadata": {},
   "outputs": [],
   "source": [
    "from src.gcs_storage import get_stories_from_collection\n",
    "\n",
    "all_stories = get_stories_from_collection(collection=COLLECTION)"
   ]
  },
  {
   "cell_type": "code",
   "execution_count": 6,
   "metadata": {},
   "outputs": [
    {
     "data": {
      "text/plain": [
       "['story_mysterious_wedding_gift',\n",
       " 'story_airport_wedding_chaos',\n",
       " 'story_birthday_train_adventure',\n",
       " 'story_underwater_community_centre',\n",
       " 'story_concert_plans_unravel',\n",
       " 'story_sunset_adventure_documentary',\n",
       " 'story_midnight_bakery',\n",
       " 'story_the_wedding_planner']"
      ]
     },
     "execution_count": 6,
     "metadata": {},
     "output_type": "execute_result"
    }
   ],
   "source": [
    "all_stories"
   ]
  },
  {
   "cell_type": "code",
   "execution_count": null,
   "metadata": {},
   "outputs": [
    {
     "name": "stdout",
     "output_type": "stream",
     "text": [
      "story_mysterious_wedding_gift\n"
     ]
    },
    {
     "name": "stderr",
     "output_type": "stream",
     "text": [
      "Preparing story_mysterious_wedding_gift in french:   0%|          | 0/3 [00:00<?, ?it/s]"
     ]
    },
    {
     "name": "stderr",
     "output_type": "stream",
     "text": [
      "Downloading utterance audio: 5it [00:00,  6.72it/s]\n",
      "Downloading utterance audio: 5it [00:00,  5.29it/s] 33%|███▎      | 1/3 [00:01<00:02,  1.09s/it]\n",
      "Downloading utterance audio: 5it [00:00,  6.24it/s] 67%|██████▋   | 2/3 [00:02<00:01,  1.16s/it]\n",
      "Preparing story_mysterious_wedding_gift in french: 100%|██████████| 3/3 [00:03<00:00,  1.12s/it]\n"
     ]
    },
    {
     "name": "stdout",
     "output_type": "stream",
     "text": [
      "Created story data\n",
      "Uploaded HTML story to: gs://audio-language-trainer-stories/french/warmup150/story_mysterious_wedding_gift/story_mysterious_wedding_gift.html\n",
      "Story uploaded, now creating album files\n"
     ]
    },
    {
     "name": "stderr",
     "output_type": "stream",
     "text": [
      "creating album:  33%|███▎      | 1/3 [00:02<00:05,  2.59s/it]"
     ]
    },
    {
     "name": "stdout",
     "output_type": "stream",
     "text": [
      "Uploaded to GCS: gs://audio-language-trainer-private-content/collections/WarmUp150/french/audio/french_01_story_mysterious_wedding_gift_introduction.m4a\n",
      "Saved M4A file track number 1\n"
     ]
    },
    {
     "name": "stderr",
     "output_type": "stream",
     "text": [
      "creating album:  67%|██████▋   | 2/3 [00:04<00:02,  2.48s/it]"
     ]
    },
    {
     "name": "stdout",
     "output_type": "stream",
     "text": [
      "Uploaded to GCS: gs://audio-language-trainer-private-content/collections/WarmUp150/french/audio/french_01_story_mysterious_wedding_gift_development.m4a\n",
      "Saved M4A file track number 2\n"
     ]
    },
    {
     "name": "stderr",
     "output_type": "stream",
     "text": [
      "creating album: 100%|██████████| 3/3 [00:07<00:00,  2.58s/it]\n"
     ]
    },
    {
     "name": "stdout",
     "output_type": "stream",
     "text": [
      "Uploaded to GCS: gs://audio-language-trainer-private-content/collections/WarmUp150/french/audio/french_01_story_mysterious_wedding_gift_resolution.m4a\n",
      "Saved M4A file track number 3\n"
     ]
    },
    {
     "name": "stderr",
     "output_type": "stream",
     "text": [
      "creating fast tracks for album:  33%|███▎      | 1/3 [00:03<00:06,  3.07s/it]"
     ]
    },
    {
     "name": "stdout",
     "output_type": "stream",
     "text": [
      "Uploaded to GCS: gs://audio-language-trainer-private-content/collections/LM1000/french/audio/french_01_story_mysterious_wedding_gift_introduction_FAST.m4a\n",
      "Saved M4A file track number 4\n"
     ]
    }
   ],
   "source": [
    "%autoreload 2\n",
    "from src.story import prepare_story_data_from_gcs, create_and_upload_html_story, create_album_files\n",
    "\n",
    "for story_name in all_stories:\n",
    "    print(story_name)\n",
    "    story_data = prepare_story_data_from_gcs(story_name, collection=COLLECTION)\n",
    "    print(f\"Created story data\")\n",
    "    create_and_upload_html_story(story_data, story_name, collection=COLLECTION)\n",
    "    print(f\"Story uploaded, now creating album files\")\n",
    "    create_album_files(story_data, story_name, collection=COLLECTION)\n",
    "    print(f\"Album files created and uploaded\")\n",
    "\n"
   ]
  },
  {
   "cell_type": "code",
   "execution_count": null,
   "metadata": {},
   "outputs": [],
   "source": [
    "%autoreload 2\n",
    "from src.story import update_all_index_pages_hierarchical, upload_styles_to_gcs\n",
    "upload_styles_to_gcs()\n"
   ]
  },
  {
   "cell_type": "code",
   "execution_count": null,
   "metadata": {},
   "outputs": [],
   "source": [
    "\n",
    "update_all_index_pages_hierarchical(languages=[\"French\", \"Spanish\", \"German\", \"Swedish\"], collections=[\"LM1000\", \"WarmUp150\"])"
   ]
  },
  {
   "cell_type": "code",
   "execution_count": null,
   "metadata": {},
   "outputs": [],
   "source": []
  }
 ],
 "metadata": {
  "kernelspec": {
   "display_name": ".venv",
   "language": "python",
   "name": "python3"
  },
  "language_info": {
   "codemirror_mode": {
    "name": "ipython",
    "version": 3
   },
   "file_extension": ".py",
   "mimetype": "text/x-python",
   "name": "python",
   "nbconvert_exporter": "python",
   "pygments_lexer": "ipython3",
   "version": "3.12.0"
  }
 },
 "nbformat": 4,
 "nbformat_minor": 2
}
