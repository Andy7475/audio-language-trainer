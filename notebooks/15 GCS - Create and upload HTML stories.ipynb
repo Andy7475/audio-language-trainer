{
 "cells": [
  {
   "cell_type": "code",
   "execution_count": 1,
   "metadata": {},
   "outputs": [],
   "source": [
    "from google.auth import default\n",
    "credentials, project = default()"
   ]
  },
  {
   "cell_type": "code",
   "execution_count": null,
   "metadata": {},
   "outputs": [],
   "source": [
    "%load_ext autoreload\n",
    "%autoreload 2\n",
    "import os\n",
    "import sys\n",
    "from pathlib import Path\n",
    "module_path = os.path.abspath(os.path.join('..'))\n",
    "if module_path not in sys.path:\n",
    "    sys.path.append(module_path)\n",
    "from dotenv import load_dotenv\n",
    "load_dotenv()\n",
    "\n",
    "from src.story import upload_story_image\n",
    "from src.gcs_storage import read_from_gcs, upload_to_gcs, get_m4a_file_path\n",
    "from src.convert import clean_filename\n",
    "from src.config_loader import config\n",
    "config.TARGET_LANGUAGE_NAME"
   ]
  },
  {
   "cell_type": "markdown",
   "metadata": {},
   "source": [
    "## HTML creation plan\n",
    "\n",
    "1. create the story data dictionary format from GCS files\n",
    "2. create the html file using an existing function and upload\n"
   ]
  },
  {
   "cell_type": "code",
   "execution_count": 5,
   "metadata": {},
   "outputs": [],
   "source": [
    "from src.gcs_storage import get_stories_from_collection\n",
    "\n",
    "all_stories = get_stories_from_collection(collection=\"LM1000\")"
   ]
  },
  {
   "cell_type": "code",
   "execution_count": null,
   "metadata": {},
   "outputs": [],
   "source": [
    "all_stories"
   ]
  },
  {
   "cell_type": "code",
   "execution_count": 9,
   "metadata": {},
   "outputs": [
    {
     "name": "stdout",
     "output_type": "stream",
     "text": [
      "story_unexpected_career_change\n"
     ]
    },
    {
     "name": "stderr",
     "output_type": "stream",
     "text": [
      "Downloading utterance audio: 8it [00:01,  6.89it/s]   0%|          | 0/3 [00:00<?, ?it/s]\n",
      "Downloading utterance audio: 10it [00:01,  7.20it/s] 33%|███▎      | 1/3 [00:01<00:02,  1.43s/it]\n",
      "Downloading utterance audio: 10it [00:02,  3.44it/s] 67%|██████▋   | 2/3 [00:03<00:01,  1.57s/it]\n",
      "Preparing story_unexpected_career_change in french: 100%|██████████| 3/3 [00:07<00:00,  2.54s/it]\n"
     ]
    },
    {
     "name": "stdout",
     "output_type": "stream",
     "text": [
      "Created story data\n",
      "Story uploaded, now creating album files\n"
     ]
    },
    {
     "name": "stderr",
     "output_type": "stream",
     "text": [
      "creating album:  33%|███▎      | 1/3 [00:02<00:05,  2.77s/it]"
     ]
    },
    {
     "name": "stdout",
     "output_type": "stream",
     "text": [
      "Uploaded to GCS: gs://audio-language-trainer-private-content/collections/LM1000/audio/french/french_15_story_unexpected_career_change_introduction.m4a\n",
      "Saved M4A file track number 1\n"
     ]
    },
    {
     "name": "stderr",
     "output_type": "stream",
     "text": [
      "creating album:  67%|██████▋   | 2/3 [00:06<00:03,  3.19s/it]"
     ]
    },
    {
     "name": "stdout",
     "output_type": "stream",
     "text": [
      "Uploaded to GCS: gs://audio-language-trainer-private-content/collections/LM1000/audio/french/french_15_story_unexpected_career_change_development.m4a\n",
      "Saved M4A file track number 2\n"
     ]
    },
    {
     "name": "stderr",
     "output_type": "stream",
     "text": [
      "creating album: 100%|██████████| 3/3 [00:09<00:00,  3.06s/it]\n"
     ]
    },
    {
     "name": "stdout",
     "output_type": "stream",
     "text": [
      "Uploaded to GCS: gs://audio-language-trainer-private-content/collections/LM1000/audio/french/french_15_story_unexpected_career_change_resolution.m4a\n",
      "Saved M4A file track number 3\n"
     ]
    },
    {
     "name": "stderr",
     "output_type": "stream",
     "text": [
      "creating fast tracks for album:  33%|███▎      | 1/3 [00:05<00:10,  5.34s/it]"
     ]
    },
    {
     "name": "stdout",
     "output_type": "stream",
     "text": [
      "Uploaded to GCS: gs://audio-language-trainer-private-content/collections/LM1000/audio/french/french_15_story_unexpected_career_change_introduction_FAST.m4a\n",
      "Saved M4A file track number 4\n"
     ]
    },
    {
     "name": "stderr",
     "output_type": "stream",
     "text": [
      "creating fast tracks for album:  67%|██████▋   | 2/3 [00:10<00:05,  5.49s/it]"
     ]
    },
    {
     "name": "stdout",
     "output_type": "stream",
     "text": [
      "Uploaded to GCS: gs://audio-language-trainer-private-content/collections/LM1000/audio/french/french_15_story_unexpected_career_change_development_FAST.m4a\n",
      "Saved M4A file track number 5\n"
     ]
    },
    {
     "name": "stderr",
     "output_type": "stream",
     "text": [
      "creating fast tracks for album: 100%|██████████| 3/3 [00:16<00:00,  5.48s/it]"
     ]
    },
    {
     "name": "stdout",
     "output_type": "stream",
     "text": [
      "Uploaded to GCS: gs://audio-language-trainer-private-content/collections/LM1000/audio/french/french_15_story_unexpected_career_change_resolution_FAST.m4a\n",
      "Saved M4A file track number 6\n",
      "Album files created and uploaded\n",
      "story_a_missed_stop\n"
     ]
    },
    {
     "name": "stderr",
     "output_type": "stream",
     "text": [
      "\n",
      "Downloading utterance audio: 8it [00:11,  1.46s/it]     | 0/3 [00:00<?, ?it/s]\n",
      "Downloading utterance audio: 12it [00:17,  1.45s/it]    | 1/3 [00:14<00:29, 14.60s/it]\n",
      "Downloading utterance audio: 12it [00:17,  1.50s/it]▋   | 2/3 [00:34<00:17, 17.96s/it]\n",
      "Preparing story_a_missed_stop in french: 100%|██████████| 3/3 [00:55<00:00, 18.65s/it]\n"
     ]
    },
    {
     "name": "stdout",
     "output_type": "stream",
     "text": [
      "Created story data\n",
      "Story uploaded, now creating album files\n"
     ]
    },
    {
     "name": "stderr",
     "output_type": "stream",
     "text": [
      "creating album:  33%|███▎      | 1/3 [00:02<00:05,  2.69s/it]"
     ]
    },
    {
     "name": "stdout",
     "output_type": "stream",
     "text": [
      "Uploaded to GCS: gs://audio-language-trainer-private-content/collections/LM1000/audio/french/french_16_story_a_missed_stop_introduction.m4a\n",
      "Saved M4A file track number 1\n"
     ]
    },
    {
     "name": "stderr",
     "output_type": "stream",
     "text": [
      "creating album:  67%|██████▋   | 2/3 [00:05<00:02,  2.85s/it]"
     ]
    },
    {
     "name": "stdout",
     "output_type": "stream",
     "text": [
      "Uploaded to GCS: gs://audio-language-trainer-private-content/collections/LM1000/audio/french/french_16_story_a_missed_stop_development.m4a\n",
      "Saved M4A file track number 2\n"
     ]
    },
    {
     "name": "stderr",
     "output_type": "stream",
     "text": [
      "creating album: 100%|██████████| 3/3 [00:09<00:00,  3.09s/it]\n"
     ]
    },
    {
     "name": "stdout",
     "output_type": "stream",
     "text": [
      "Uploaded to GCS: gs://audio-language-trainer-private-content/collections/LM1000/audio/french/french_16_story_a_missed_stop_resolution.m4a\n",
      "Saved M4A file track number 3\n"
     ]
    },
    {
     "name": "stderr",
     "output_type": "stream",
     "text": [
      "creating fast tracks for album:  33%|███▎      | 1/3 [00:04<00:09,  4.54s/it]"
     ]
    },
    {
     "name": "stdout",
     "output_type": "stream",
     "text": [
      "Uploaded to GCS: gs://audio-language-trainer-private-content/collections/LM1000/audio/french/french_16_story_a_missed_stop_introduction_FAST.m4a\n",
      "Saved M4A file track number 4\n"
     ]
    },
    {
     "name": "stderr",
     "output_type": "stream",
     "text": [
      "creating fast tracks for album:  67%|██████▋   | 2/3 [00:10<00:05,  5.41s/it]"
     ]
    },
    {
     "name": "stdout",
     "output_type": "stream",
     "text": [
      "Uploaded to GCS: gs://audio-language-trainer-private-content/collections/LM1000/audio/french/french_16_story_a_missed_stop_development_FAST.m4a\n",
      "Saved M4A file track number 5\n"
     ]
    },
    {
     "name": "stderr",
     "output_type": "stream",
     "text": [
      "creating fast tracks for album: 100%|██████████| 3/3 [00:16<00:00,  5.52s/it]"
     ]
    },
    {
     "name": "stdout",
     "output_type": "stream",
     "text": [
      "Uploaded to GCS: gs://audio-language-trainer-private-content/collections/LM1000/audio/french/french_16_story_a_missed_stop_resolution_FAST.m4a\n",
      "Saved M4A file track number 6\n",
      "Album files created and uploaded\n",
      "story_road_trip\n"
     ]
    },
    {
     "name": "stderr",
     "output_type": "stream",
     "text": [
      "\n",
      "Downloading utterance audio: 8it [00:11,  1.50s/it] | 0/3 [00:00<?, ?it/s]\n",
      "Downloading utterance audio: 8it [00:11,  1.43s/it] | 1/3 [00:15<00:30, 15.23s/it]\n",
      "Downloading utterance audio: 8it [00:11,  1.46s/it] | 2/3 [00:29<00:14, 14.64s/it]\n",
      "Preparing story_road_trip in french: 100%|██████████| 3/3 [00:44<00:00, 14.69s/it]\n"
     ]
    },
    {
     "name": "stdout",
     "output_type": "stream",
     "text": [
      "Created story data\n",
      "Story uploaded, now creating album files\n"
     ]
    },
    {
     "name": "stderr",
     "output_type": "stream",
     "text": [
      "creating album:  33%|███▎      | 1/3 [00:02<00:05,  2.85s/it]"
     ]
    },
    {
     "name": "stdout",
     "output_type": "stream",
     "text": [
      "Uploaded to GCS: gs://audio-language-trainer-private-content/collections/LM1000/audio/french/french_17_story_road_trip_introduction.m4a\n",
      "Saved M4A file track number 1\n"
     ]
    },
    {
     "name": "stderr",
     "output_type": "stream",
     "text": [
      "creating album:  67%|██████▋   | 2/3 [00:05<00:02,  2.76s/it]"
     ]
    },
    {
     "name": "stdout",
     "output_type": "stream",
     "text": [
      "Uploaded to GCS: gs://audio-language-trainer-private-content/collections/LM1000/audio/french/french_17_story_road_trip_development.m4a\n",
      "Saved M4A file track number 2\n"
     ]
    },
    {
     "name": "stderr",
     "output_type": "stream",
     "text": [
      "creating album: 100%|██████████| 3/3 [00:08<00:00,  2.79s/it]\n"
     ]
    },
    {
     "name": "stdout",
     "output_type": "stream",
     "text": [
      "Uploaded to GCS: gs://audio-language-trainer-private-content/collections/LM1000/audio/french/french_17_story_road_trip_resolution.m4a\n",
      "Saved M4A file track number 3\n"
     ]
    },
    {
     "name": "stderr",
     "output_type": "stream",
     "text": [
      "creating fast tracks for album:  33%|███▎      | 1/3 [00:05<00:10,  5.17s/it]"
     ]
    },
    {
     "name": "stdout",
     "output_type": "stream",
     "text": [
      "Uploaded to GCS: gs://audio-language-trainer-private-content/collections/LM1000/audio/french/french_17_story_road_trip_introduction_FAST.m4a\n",
      "Saved M4A file track number 4\n"
     ]
    },
    {
     "name": "stderr",
     "output_type": "stream",
     "text": [
      "creating fast tracks for album:  67%|██████▋   | 2/3 [00:10<00:05,  5.02s/it]"
     ]
    },
    {
     "name": "stdout",
     "output_type": "stream",
     "text": [
      "Uploaded to GCS: gs://audio-language-trainer-private-content/collections/LM1000/audio/french/french_17_story_road_trip_development_FAST.m4a\n",
      "Saved M4A file track number 5\n"
     ]
    },
    {
     "name": "stderr",
     "output_type": "stream",
     "text": [
      "creating fast tracks for album: 100%|██████████| 3/3 [00:15<00:00,  5.15s/it]"
     ]
    },
    {
     "name": "stdout",
     "output_type": "stream",
     "text": [
      "Uploaded to GCS: gs://audio-language-trainer-private-content/collections/LM1000/audio/french/french_17_story_road_trip_resolution_FAST.m4a\n",
      "Saved M4A file track number 6\n",
      "Album files created and uploaded\n",
      "story_forgetful_diver\n"
     ]
    },
    {
     "name": "stderr",
     "output_type": "stream",
     "text": [
      "\n",
      "Downloading utterance audio: 6it [00:09,  1.50s/it]       | 0/3 [00:00<?, ?it/s]\n",
      "Downloading utterance audio: 8it [00:12,  1.57s/it]▎      | 1/3 [00:12<00:25, 12.70s/it]\n",
      "Downloading utterance audio: 8it [00:11,  1.43s/it]███▋   | 2/3 [00:28<00:14, 14.38s/it]\n",
      "Preparing story_forgetful_diver in french: 100%|██████████| 3/3 [00:42<00:00, 14.21s/it]\n"
     ]
    },
    {
     "name": "stdout",
     "output_type": "stream",
     "text": [
      "Created story data\n",
      "Story uploaded, now creating album files\n"
     ]
    },
    {
     "name": "stderr",
     "output_type": "stream",
     "text": [
      "creating album:  33%|███▎      | 1/3 [00:02<00:05,  2.67s/it]"
     ]
    },
    {
     "name": "stdout",
     "output_type": "stream",
     "text": [
      "Uploaded to GCS: gs://audio-language-trainer-private-content/collections/LM1000/audio/french/french_18_story_forgetful_diver_introduction.m4a\n",
      "Saved M4A file track number 1\n"
     ]
    },
    {
     "name": "stderr",
     "output_type": "stream",
     "text": [
      "creating album:  67%|██████▋   | 2/3 [00:05<00:02,  2.76s/it]"
     ]
    },
    {
     "name": "stdout",
     "output_type": "stream",
     "text": [
      "Uploaded to GCS: gs://audio-language-trainer-private-content/collections/LM1000/audio/french/french_18_story_forgetful_diver_development.m4a\n",
      "Saved M4A file track number 2\n"
     ]
    },
    {
     "name": "stderr",
     "output_type": "stream",
     "text": [
      "creating album: 100%|██████████| 3/3 [00:08<00:00,  2.80s/it]\n"
     ]
    },
    {
     "name": "stdout",
     "output_type": "stream",
     "text": [
      "Uploaded to GCS: gs://audio-language-trainer-private-content/collections/LM1000/audio/french/french_18_story_forgetful_diver_resolution.m4a\n",
      "Saved M4A file track number 3\n"
     ]
    },
    {
     "name": "stderr",
     "output_type": "stream",
     "text": [
      "creating fast tracks for album:  33%|███▎      | 1/3 [00:05<00:10,  5.04s/it]"
     ]
    },
    {
     "name": "stdout",
     "output_type": "stream",
     "text": [
      "Uploaded to GCS: gs://audio-language-trainer-private-content/collections/LM1000/audio/french/french_18_story_forgetful_diver_introduction_FAST.m4a\n",
      "Saved M4A file track number 4\n"
     ]
    },
    {
     "name": "stderr",
     "output_type": "stream",
     "text": [
      "creating fast tracks for album:  67%|██████▋   | 2/3 [00:10<00:05,  5.31s/it]"
     ]
    },
    {
     "name": "stdout",
     "output_type": "stream",
     "text": [
      "Uploaded to GCS: gs://audio-language-trainer-private-content/collections/LM1000/audio/french/french_18_story_forgetful_diver_development_FAST.m4a\n",
      "Saved M4A file track number 5\n"
     ]
    },
    {
     "name": "stderr",
     "output_type": "stream",
     "text": [
      "creating fast tracks for album: 100%|██████████| 3/3 [00:16<00:00,  5.39s/it]"
     ]
    },
    {
     "name": "stdout",
     "output_type": "stream",
     "text": [
      "Uploaded to GCS: gs://audio-language-trainer-private-content/collections/LM1000/audio/french/french_18_story_forgetful_diver_resolution_FAST.m4a\n",
      "Saved M4A file track number 6\n",
      "Album files created and uploaded\n",
      "story_the_birthday_party\n"
     ]
    },
    {
     "name": "stderr",
     "output_type": "stream",
     "text": [
      "\n",
      "Downloading utterance audio: 9it [00:12,  1.44s/it]          | 0/3 [00:00<?, ?it/s]\n",
      "Downloading utterance audio: 10it [00:14,  1.50s/it]██▎      | 1/3 [00:16<00:32, 16.14s/it]\n",
      "Downloading utterance audio: 10it [00:14,  1.50s/it]█████▋   | 2/3 [00:34<00:17, 17.54s/it]\n",
      "Preparing story_the_birthday_party in french: 100%|██████████| 3/3 [00:52<00:00, 17.67s/it]\n"
     ]
    },
    {
     "name": "stdout",
     "output_type": "stream",
     "text": [
      "Created story data\n",
      "Story uploaded, now creating album files\n"
     ]
    },
    {
     "name": "stderr",
     "output_type": "stream",
     "text": [
      "creating album:  33%|███▎      | 1/3 [00:03<00:07,  3.80s/it]"
     ]
    },
    {
     "name": "stdout",
     "output_type": "stream",
     "text": [
      "Uploaded to GCS: gs://audio-language-trainer-private-content/collections/LM1000/audio/french/french_19_story_the_birthday_party_introduction.m4a\n",
      "Saved M4A file track number 1\n"
     ]
    },
    {
     "name": "stderr",
     "output_type": "stream",
     "text": [
      "creating album:  67%|██████▋   | 2/3 [00:07<00:03,  3.87s/it]"
     ]
    },
    {
     "name": "stdout",
     "output_type": "stream",
     "text": [
      "Uploaded to GCS: gs://audio-language-trainer-private-content/collections/LM1000/audio/french/french_19_story_the_birthday_party_development.m4a\n",
      "Saved M4A file track number 2\n"
     ]
    },
    {
     "name": "stderr",
     "output_type": "stream",
     "text": [
      "creating album: 100%|██████████| 3/3 [00:11<00:00,  3.99s/it]\n"
     ]
    },
    {
     "name": "stdout",
     "output_type": "stream",
     "text": [
      "Uploaded to GCS: gs://audio-language-trainer-private-content/collections/LM1000/audio/french/french_19_story_the_birthday_party_resolution.m4a\n",
      "Saved M4A file track number 3\n"
     ]
    },
    {
     "name": "stderr",
     "output_type": "stream",
     "text": [
      "creating fast tracks for album:  33%|███▎      | 1/3 [00:06<00:12,  6.11s/it]"
     ]
    },
    {
     "name": "stdout",
     "output_type": "stream",
     "text": [
      "Uploaded to GCS: gs://audio-language-trainer-private-content/collections/LM1000/audio/french/french_19_story_the_birthday_party_introduction_FAST.m4a\n",
      "Saved M4A file track number 4\n"
     ]
    },
    {
     "name": "stderr",
     "output_type": "stream",
     "text": [
      "creating fast tracks for album:  67%|██████▋   | 2/3 [00:12<00:06,  6.49s/it]"
     ]
    },
    {
     "name": "stdout",
     "output_type": "stream",
     "text": [
      "Uploaded to GCS: gs://audio-language-trainer-private-content/collections/LM1000/audio/french/french_19_story_the_birthday_party_development_FAST.m4a\n",
      "Saved M4A file track number 5\n"
     ]
    },
    {
     "name": "stderr",
     "output_type": "stream",
     "text": [
      "creating fast tracks for album: 100%|██████████| 3/3 [00:20<00:00,  6.69s/it]"
     ]
    },
    {
     "name": "stdout",
     "output_type": "stream",
     "text": [
      "Uploaded to GCS: gs://audio-language-trainer-private-content/collections/LM1000/audio/french/french_19_story_the_birthday_party_resolution_FAST.m4a\n",
      "Saved M4A file track number 6\n",
      "Album files created and uploaded\n",
      "story_the_power_cut\n"
     ]
    },
    {
     "name": "stderr",
     "output_type": "stream",
     "text": [
      "\n",
      "Downloading utterance audio: 7it [00:10,  1.43s/it]     | 0/3 [00:00<?, ?it/s]\n",
      "Downloading utterance audio: 8it [00:11,  1.48s/it]     | 1/3 [00:12<00:25, 12.96s/it]\n",
      "Downloading utterance audio: 8it [00:12,  1.50s/it]█▋   | 2/3 [00:27<00:14, 14.08s/it]\n",
      "Preparing story_the_power_cut in french: 100%|██████████| 3/3 [00:42<00:00, 14.24s/it]\n"
     ]
    },
    {
     "name": "stdout",
     "output_type": "stream",
     "text": [
      "Created story data\n",
      "Story uploaded, now creating album files\n"
     ]
    },
    {
     "name": "stderr",
     "output_type": "stream",
     "text": [
      "creating album:  33%|███▎      | 1/3 [00:02<00:05,  2.59s/it]"
     ]
    },
    {
     "name": "stdout",
     "output_type": "stream",
     "text": [
      "Uploaded to GCS: gs://audio-language-trainer-private-content/collections/LM1000/audio/french/french_20_story_the_power_cut_introduction.m4a\n",
      "Saved M4A file track number 1\n"
     ]
    },
    {
     "name": "stderr",
     "output_type": "stream",
     "text": [
      "creating album:  67%|██████▋   | 2/3 [00:05<00:02,  2.62s/it]"
     ]
    },
    {
     "name": "stdout",
     "output_type": "stream",
     "text": [
      "Uploaded to GCS: gs://audio-language-trainer-private-content/collections/LM1000/audio/french/french_20_story_the_power_cut_development.m4a\n",
      "Saved M4A file track number 2\n"
     ]
    },
    {
     "name": "stderr",
     "output_type": "stream",
     "text": [
      "creating album: 100%|██████████| 3/3 [00:07<00:00,  2.64s/it]\n"
     ]
    },
    {
     "name": "stdout",
     "output_type": "stream",
     "text": [
      "Uploaded to GCS: gs://audio-language-trainer-private-content/collections/LM1000/audio/french/french_20_story_the_power_cut_resolution.m4a\n",
      "Saved M4A file track number 3\n"
     ]
    },
    {
     "name": "stderr",
     "output_type": "stream",
     "text": [
      "creating fast tracks for album:  33%|███▎      | 1/3 [00:04<00:09,  4.65s/it]"
     ]
    },
    {
     "name": "stdout",
     "output_type": "stream",
     "text": [
      "Uploaded to GCS: gs://audio-language-trainer-private-content/collections/LM1000/audio/french/french_20_story_the_power_cut_introduction_FAST.m4a\n",
      "Saved M4A file track number 4\n"
     ]
    },
    {
     "name": "stderr",
     "output_type": "stream",
     "text": [
      "creating fast tracks for album:  67%|██████▋   | 2/3 [00:10<00:05,  5.11s/it]"
     ]
    },
    {
     "name": "stdout",
     "output_type": "stream",
     "text": [
      "Uploaded to GCS: gs://audio-language-trainer-private-content/collections/LM1000/audio/french/french_20_story_the_power_cut_development_FAST.m4a\n",
      "Saved M4A file track number 5\n"
     ]
    },
    {
     "name": "stderr",
     "output_type": "stream",
     "text": [
      "creating fast tracks for album: 100%|██████████| 3/3 [00:15<00:00,  5.11s/it]"
     ]
    },
    {
     "name": "stdout",
     "output_type": "stream",
     "text": [
      "Uploaded to GCS: gs://audio-language-trainer-private-content/collections/LM1000/audio/french/french_20_story_the_power_cut_resolution_FAST.m4a\n",
      "Saved M4A file track number 6\n",
      "Album files created and uploaded\n"
     ]
    },
    {
     "name": "stderr",
     "output_type": "stream",
     "text": [
      "\n"
     ]
    }
   ],
   "source": [
    "from src.story import prepare_story_data_from_gcs, create_and_upload_html_story, create_album_files\n",
    "\n",
    "for story_name in all_stories[14:]:\n",
    "    print(story_name)\n",
    "    story_data = prepare_story_data_from_gcs(story_name)\n",
    "    print(f\"Created story data\")\n",
    "    #create_and_upload_html_story(story_data, story_name)\n",
    "    print(f\"Story uploaded, now creating album files\")\n",
    "    create_album_files(story_data, story_name, collection=\"LM1000\")\n",
    "    print(f\"Album files created and uploaded\")\n",
    "\n"
   ]
  },
  {
   "cell_type": "code",
   "execution_count": null,
   "metadata": {},
   "outputs": [],
   "source": [
    "from src.story import generate_and_update_index_html\n",
    "\n",
    "generate_and_update_index_html()"
   ]
  },
  {
   "cell_type": "code",
   "execution_count": null,
   "metadata": {},
   "outputs": [],
   "source": []
  }
 ],
 "metadata": {
  "kernelspec": {
   "display_name": ".venv",
   "language": "python",
   "name": "python3"
  },
  "language_info": {
   "codemirror_mode": {
    "name": "ipython",
    "version": 3
   },
   "file_extension": ".py",
   "mimetype": "text/x-python",
   "name": "python",
   "nbconvert_exporter": "python",
   "pygments_lexer": "ipython3",
   "version": "3.12.0"
  }
 },
 "nbformat": 4,
 "nbformat_minor": 2
}
