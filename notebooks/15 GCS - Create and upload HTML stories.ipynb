{
 "cells": [
  {
   "cell_type": "code",
   "execution_count": 1,
   "metadata": {},
   "outputs": [],
   "source": [
    "from google.auth import default\n",
    "credentials, project = default()"
   ]
  },
  {
   "cell_type": "code",
   "execution_count": 3,
   "metadata": {},
   "outputs": [
    {
     "name": "stdout",
     "output_type": "stream",
     "text": [
      "The autoreload extension is already loaded. To reload it, use:\n",
      "  %reload_ext autoreload\n",
      "Found existing FFmpeg paths:\n",
      "  C:\\Users\\andyl\\AppData\\Local\\Microsoft\\WinGet\\Packages\\Gyan.FFmpeg_Microsoft.Winget.Source_8wekyb3d8bbwe\\ffmpeg-7.1.1-full_build\\bin\n"
     ]
    },
    {
     "data": {
      "text/plain": [
       "'French'"
      ]
     },
     "execution_count": 3,
     "metadata": {},
     "output_type": "execute_result"
    }
   ],
   "source": [
    "%load_ext autoreload\n",
    "%autoreload 2\n",
    "import os\n",
    "import sys\n",
    "from pathlib import Path\n",
    "module_path = os.path.abspath(os.path.join('..'))\n",
    "if module_path not in sys.path:\n",
    "    sys.path.append(module_path)\n",
    "from dotenv import load_dotenv\n",
    "load_dotenv()\n",
    "\n",
    "from src.story import upload_story_image\n",
    "from src.gcs_storage import read_from_gcs, upload_to_gcs\n",
    "from src.convert import clean_filename\n",
    "from src.config_loader import config\n",
    "config.TARGET_LANGUAGE_NAME"
   ]
  },
  {
   "cell_type": "markdown",
   "metadata": {},
   "source": [
    "## HTML creation plan\n",
    "\n",
    "1. create the story data dictionary format from GCS files\n",
    "2. create the html file using an existing function and upload\n"
   ]
  },
  {
   "cell_type": "code",
   "execution_count": 4,
   "metadata": {},
   "outputs": [],
   "source": [
    "from src.gcs_storage import get_stories_from_collection\n",
    "\n",
    "all_stories = get_stories_from_collection(collection=\"LM1000\")"
   ]
  },
  {
   "cell_type": "code",
   "execution_count": 5,
   "metadata": {},
   "outputs": [
    {
     "data": {
      "text/plain": [
       "['story_sunset_wedding_blues',\n",
       " 'story_better_than_a_movie',\n",
       " 'story_unexpected_wedding_guests',\n",
       " 'story_workplace_stress_vacation',\n",
       " 'story_the_marathon',\n",
       " 'story_midnight_garden_mystery',\n",
       " 'story_teaching_music',\n",
       " 'story_job_interview_gone_wrong',\n",
       " 'story_winter_in_sweden',\n",
       " 'story_a_fishing_trip',\n",
       " 'story_team_spirit',\n",
       " 'story_brussels_blend',\n",
       " 'story_rainy_football_match',\n",
       " 'story_camping_trip_gone_awry',\n",
       " 'story_unexpected_career_change',\n",
       " 'story_a_missed_stop',\n",
       " 'story_road_trip',\n",
       " 'story_forgetful_diver',\n",
       " 'story_the_birthday_party',\n",
       " 'story_the_power_cut']"
      ]
     },
     "execution_count": 5,
     "metadata": {},
     "output_type": "execute_result"
    }
   ],
   "source": [
    "all_stories"
   ]
  },
  {
   "cell_type": "code",
   "execution_count": 6,
   "metadata": {},
   "outputs": [
    {
     "name": "stderr",
     "output_type": "stream",
     "text": [
      "[autoreload of src.story failed: Traceback (most recent call last):\n",
      "  File \"c:\\Users\\andyl\\Python\\audio-language-trainer\\.venv\\Lib\\site-packages\\IPython\\extensions\\autoreload.py\", line 280, in check\n",
      "    elif self.deduper_reloader.maybe_reload_module(m):\n",
      "         ^^^^^^^^^^^^^^^^^^^^^^^^^^^^^^^^^^^^^^^^^^^^\n",
      "  File \"c:\\Users\\andyl\\Python\\audio-language-trainer\\.venv\\Lib\\site-packages\\IPython\\extensions\\deduperreload\\deduperreload.py\", line 533, in maybe_reload_module\n",
      "    new_source_code = f.read()\n",
      "                      ^^^^^^^^\n",
      "  File \"C:\\Users\\andyl\\AppData\\Local\\Programs\\Python\\Python312\\Lib\\encodings\\cp1252.py\", line 23, in decode\n",
      "    return codecs.charmap_decode(input,self.errors,decoding_table)[0]\n",
      "           ^^^^^^^^^^^^^^^^^^^^^^^^^^^^^^^^^^^^^^^^^^^^^^^^^^^^^^^\n",
      "UnicodeDecodeError: 'charmap' codec can't decode byte 0x8f in position 3931: character maps to <undefined>\n",
      "]\n"
     ]
    },
    {
     "name": "stdout",
     "output_type": "stream",
     "text": [
      "story_sunset_wedding_blues\n"
     ]
    },
    {
     "name": "stderr",
     "output_type": "stream",
     "text": [
      "Downloading utterance audio: 6it [00:10,  1.77s/it]%|          | 0/3 [00:00<?, ?it/s]\n",
      "Downloading utterance audio: 8it [00:15,  1.90s/it]%|███▎      | 1/3 [00:14<00:29, 14.55s/it]\n",
      "Downloading utterance audio: 6it [00:10,  1.82s/it]%|██████▋   | 2/3 [00:33<00:17, 17.10s/it]\n",
      "Preparing story_sunset_wedding_blues in french: 100%|██████████| 3/3 [01:04<00:00, 21.42s/it]\n"
     ]
    },
    {
     "name": "stdout",
     "output_type": "stream",
     "text": [
      "Created story data\n",
      "Story uploaded, now creating album files\n"
     ]
    },
    {
     "name": "stderr",
     "output_type": "stream",
     "text": [
      "creating album:   0%|          | 0/3 [00:00<?, ?it/s]\n"
     ]
    },
    {
     "ename": "TypeError",
     "evalue": "create_m4a_with_timed_lyrics() got an unexpected keyword argument 'output_file'",
     "output_type": "error",
     "traceback": [
      "\u001b[31m---------------------------------------------------------------------------\u001b[39m",
      "\u001b[31mTypeError\u001b[39m                                 Traceback (most recent call last)",
      "\u001b[36mCell\u001b[39m\u001b[36m \u001b[39m\u001b[32mIn[6]\u001b[39m\u001b[32m, line 9\u001b[39m\n\u001b[32m      7\u001b[39m \u001b[38;5;66;03m#create_and_upload_html_story(story_data, story_name)\u001b[39;00m\n\u001b[32m      8\u001b[39m \u001b[38;5;28mprint\u001b[39m(\u001b[33mf\u001b[39m\u001b[33m\"\u001b[39m\u001b[33mStory uploaded, now creating album files\u001b[39m\u001b[33m\"\u001b[39m)\n\u001b[32m----> \u001b[39m\u001b[32m9\u001b[39m \u001b[43mcreate_album_files\u001b[49m\u001b[43m(\u001b[49m\u001b[43mstory_data\u001b[49m\u001b[43m,\u001b[49m\u001b[43m \u001b[49m\u001b[43mstory_name\u001b[49m\u001b[43m,\u001b[49m\u001b[43m \u001b[49m\u001b[43mupload_to_gcs\u001b[49m\u001b[43m=\u001b[49m\u001b[38;5;28;43;01mTrue\u001b[39;49;00m\u001b[43m,\u001b[49m\u001b[43m \u001b[49m\u001b[43mcollection\u001b[49m\u001b[43m=\u001b[49m\u001b[33;43m\"\u001b[39;49m\u001b[33;43mLM1000\u001b[39;49m\u001b[33;43m\"\u001b[39;49m\u001b[43m)\u001b[49m\n\u001b[32m     10\u001b[39m \u001b[38;5;28mprint\u001b[39m(\u001b[33mf\u001b[39m\u001b[33m\"\u001b[39m\u001b[33mAlbum files created and uploaded\u001b[39m\u001b[33m\"\u001b[39m)\n",
      "\u001b[36mFile \u001b[39m\u001b[32mc:\\Users\\andyl\\Python\\audio-language-trainer\\src\\story.py:466\u001b[39m, in \u001b[36mcreate_album_files\u001b[39m\u001b[34m(story_data_dict, story_name, output_dir, upload_to_gcs, collection)\u001b[39m\n\u001b[32m    455\u001b[39m \u001b[38;5;66;03m# Create M4A file\u001b[39;00m\n\u001b[32m    456\u001b[39m m4a_filename = get_m4a_filename(story_name, story_part, fast=\u001b[38;5;28;01mFalse\u001b[39;00m, story_position=story_position)\n\u001b[32m    459\u001b[39m m4a_path = create_m4a_with_timed_lyrics(\n\u001b[32m    460\u001b[39m     audio_segments=audio_list,\n\u001b[32m    461\u001b[39m     phrases=captions_list,\n\u001b[32m    462\u001b[39m     m4a_filename=m4a_filename,\n\u001b[32m    463\u001b[39m     album_name=ALBUM_NAME,\n\u001b[32m    464\u001b[39m     track_title=story_part,\n\u001b[32m    465\u001b[39m     track_number=track_number,\n\u001b[32m--> \u001b[39m\u001b[32m466\u001b[39m     total_tracks=TOTAL_TRACKS,\n\u001b[32m    467\u001b[39m     cover_image_base64=cover_image_base64,\n\u001b[32m    468\u001b[39m     bucket_name=gcs_bucket_name,\n\u001b[32m    469\u001b[39m )\n\u001b[32m    470\u001b[39m m4a_file_paths.append(m4a_path)\n\u001b[32m    471\u001b[39m \u001b[38;5;28mprint\u001b[39m(\u001b[33mf\u001b[39m\u001b[33m\"\u001b[39m\u001b[33mSaved M4A file track number \u001b[39m\u001b[38;5;132;01m{\u001b[39;00mtrack_number\u001b[38;5;132;01m}\u001b[39;00m\u001b[33m\"\u001b[39m)\n",
      "\u001b[31mTypeError\u001b[39m: create_m4a_with_timed_lyrics() got an unexpected keyword argument 'output_file'"
     ]
    }
   ],
   "source": [
    "from src.story import prepare_story_data_from_gcs, create_and_upload_html_story, create_album_files\n",
    "\n",
    "for story_name in all_stories[0:1]:\n",
    "    print(story_name)\n",
    "    story_data = prepare_story_data_from_gcs(story_name)\n",
    "    print(f\"Created story data\")\n",
    "    #create_and_upload_html_story(story_data, story_name)\n",
    "    print(f\"Story uploaded, now creating album files\")\n",
    "    create_album_files(story_data, story_name, collection=\"LM1000\")\n",
    "    print(f\"Album files created and uploaded\")\n",
    "\n"
   ]
  },
  {
   "cell_type": "code",
   "execution_count": null,
   "metadata": {},
   "outputs": [],
   "source": [
    "from src.story import generate_and_update_index_html\n",
    "\n",
    "generate_and_update_index_html()"
   ]
  },
  {
   "cell_type": "code",
   "execution_count": null,
   "metadata": {},
   "outputs": [],
   "source": []
  }
 ],
 "metadata": {
  "kernelspec": {
   "display_name": ".venv",
   "language": "python",
   "name": "python3"
  },
  "language_info": {
   "codemirror_mode": {
    "name": "ipython",
    "version": 3
   },
   "file_extension": ".py",
   "mimetype": "text/x-python",
   "name": "python",
   "nbconvert_exporter": "python",
   "pygments_lexer": "ipython3",
   "version": "3.12.0"
  }
 },
 "nbformat": 4,
 "nbformat_minor": 2
}
