{
 "cells": [
  {
   "cell_type": "code",
   "execution_count": 1,
   "metadata": {},
   "outputs": [],
   "source": [
    "%load_ext autoreload\n",
    "from google.auth import default\n",
    "credentials, project = default()"
   ]
  },
  {
   "cell_type": "code",
   "execution_count": 2,
   "metadata": {},
   "outputs": [
    {
     "data": {
      "text/plain": [
       "'Swedish'"
      ]
     },
     "execution_count": 2,
     "metadata": {},
     "output_type": "execute_result"
    }
   ],
   "source": [
    "\n",
    "%autoreload 2\n",
    "import os\n",
    "import sys\n",
    "from pathlib import Path\n",
    "module_path = os.path.abspath(os.path.join('..'))\n",
    "if module_path not in sys.path:\n",
    "    sys.path.append(module_path)\n",
    "from dotenv import load_dotenv\n",
    "load_dotenv()\n",
    "\n",
    "from src.config_loader import config\n",
    "from src.gcs_storage import read_from_gcs, upload_to_gcs,get_wiktionary_cache_path \n",
    "from src.utils import get_first_n_items\n",
    "from src.wiktionary import generate_wiktionary_links\n",
    "from tqdm import tqdm\n",
    "config.TARGET_LANGUAGE_NAME"
   ]
  },
  {
   "cell_type": "markdown",
   "metadata": {},
   "source": [
    "# Wiktionary Links\n",
    "\n",
    "```raw\n",
    "These are stored as a space separated string of either the words or a <a href> <\\a> item.\n",
    "\n",
    "Within the phrase dictionary they are stored with the key 'wiktionary_link'\n",
    "\n",
    "phrase_key : {'english' : phrase key,\n",
    "            'french' : phrase key,\n",
    "            'wiktionary_links' : <a href>phrase</a> key}```\n",
    "\n",
    "We store the wiktionary links as a cache so they can be reused in, e.g. the stories"
   ]
  },
  {
   "cell_type": "code",
   "execution_count": 3,
   "metadata": {},
   "outputs": [],
   "source": [
    "# get current translated JSON file\n",
    "from src.gcs_storage import get_wiktionary_cache_path, get_translated_phrases_path\n",
    "\n",
    "phrase_translations = read_from_gcs(bucket_name=config.GCS_PRIVATE_BUCKET, file_path=get_translated_phrases_path())\n",
    "#word_link_cache = read_from_gcs(bucket_name=config.GCS_PRIVATE_BUCKET, file_path=get_wiktionary_cache_path())"
   ]
  },
  {
   "cell_type": "code",
   "execution_count": 4,
   "metadata": {},
   "outputs": [],
   "source": [
    "word_link_cache= read_from_gcs(config.GCS_PRIVATE_BUCKET, file_path = get_wiktionary_cache_path())"
   ]
  },
  {
   "cell_type": "code",
   "execution_count": 5,
   "metadata": {},
   "outputs": [
    {
     "name": "stderr",
     "output_type": "stream",
     "text": [
      "Adding wiktionary links:   0%|          | 1/838 [00:01<17:04,  1.22s/it]"
     ]
    },
    {
     "name": "stdout",
     "output_type": "stream",
     "text": [
      "modified dont_worry_the_alarm_will_sound_if_theres_danger\n"
     ]
    },
    {
     "name": "stderr",
     "output_type": "stream",
     "text": [
      "Adding wiktionary links:   0%|          | 2/838 [00:01<10:28,  1.33it/s]"
     ]
    },
    {
     "name": "stdout",
     "output_type": "stream",
     "text": [
      "modified lets_go_to_bed_early_so_we_feel_better_tomorrow\n",
      "modified i_know_exactly_what_youre_talking_about\n"
     ]
    },
    {
     "name": "stderr",
     "output_type": "stream",
     "text": [
      "Adding wiktionary links:   0%|          | 4/838 [00:02<07:23,  1.88it/s]"
     ]
    },
    {
     "name": "stdout",
     "output_type": "stream",
     "text": [
      "modified have_you_seen_the_feast_they_prepared_for_the_wedding\n"
     ]
    },
    {
     "name": "stderr",
     "output_type": "stream",
     "text": [
      "Adding wiktionary links:   1%|          | 5/838 [00:03<09:21,  1.48it/s]"
     ]
    },
    {
     "name": "stdout",
     "output_type": "stream",
     "text": [
      "modified still_i_think_we_should_give_it_a_try\n"
     ]
    },
    {
     "name": "stderr",
     "output_type": "stream",
     "text": [
      "Adding wiktionary links:   1%|          | 6/838 [00:03<08:37,  1.61it/s]"
     ]
    },
    {
     "name": "stdout",
     "output_type": "stream",
     "text": [
      "modified i_cant_figure_out_this_puzzle_yet\n"
     ]
    },
    {
     "name": "stderr",
     "output_type": "stream",
     "text": [
      "Adding wiktionary links:   1%|          | 7/838 [00:05<12:01,  1.15it/s]"
     ]
    },
    {
     "name": "stdout",
     "output_type": "stream",
     "text": [
      "modified stop_making_excuses_and_lets_start_working\n"
     ]
    },
    {
     "name": "stderr",
     "output_type": "stream",
     "text": [
      "Adding wiktionary links:   1%|          | 8/838 [00:06<12:24,  1.11it/s]"
     ]
    },
    {
     "name": "stdout",
     "output_type": "stream",
     "text": [
      "modified she_might_forget_to_bring_her_lunch_today\n"
     ]
    },
    {
     "name": "stderr",
     "output_type": "stream",
     "text": [
      "Adding wiktionary links:   1%|          | 9/838 [00:07<12:08,  1.14it/s]"
     ]
    },
    {
     "name": "stdout",
     "output_type": "stream",
     "text": [
      "modified remember_to_speak_softly_in_the_library\n"
     ]
    },
    {
     "name": "stderr",
     "output_type": "stream",
     "text": [
      "Adding wiktionary links:   1%|          | 10/838 [00:09<17:58,  1.30s/it]"
     ]
    },
    {
     "name": "stdout",
     "output_type": "stream",
     "text": [
      "modified i_tried_to_catch_up_with_the_others\n"
     ]
    },
    {
     "name": "stderr",
     "output_type": "stream",
     "text": [
      "Adding wiktionary links:   1%|▏         | 11/838 [00:09<14:11,  1.03s/it]"
     ]
    },
    {
     "name": "stdout",
     "output_type": "stream",
     "text": [
      "modified theyre_getting_married_in_the_spring\n"
     ]
    },
    {
     "name": "stderr",
     "output_type": "stream",
     "text": [
      "Adding wiktionary links:   1%|▏         | 12/838 [00:11<15:33,  1.13s/it]"
     ]
    },
    {
     "name": "stdout",
     "output_type": "stream",
     "text": [
      "modified take_your_time_answering_the_question\n"
     ]
    },
    {
     "name": "stderr",
     "output_type": "stream",
     "text": [
      "Adding wiktionary links:   2%|▏         | 13/838 [00:11<12:20,  1.11it/s]"
     ]
    },
    {
     "name": "stdout",
     "output_type": "stream",
     "text": [
      "modified are_they_out_of_their_mind_saying_that\n",
      "modified weve_got_to_save_up_for_our_holiday\n"
     ]
    },
    {
     "name": "stderr",
     "output_type": "stream",
     "text": [
      "Adding wiktionary links:   2%|▏         | 15/838 [00:12<08:37,  1.59it/s]"
     ]
    },
    {
     "name": "stdout",
     "output_type": "stream",
     "text": [
      "modified can_you_believe_they_won_the_game_against_all_odds\n",
      "modified shall_we_head_to_the_meeting_now\n",
      "modified hurry_up_or_well_miss_the_train\n"
     ]
    },
    {
     "name": "stderr",
     "output_type": "stream",
     "text": [
      "Adding wiktionary links:   2%|▏         | 18/838 [00:14<08:47,  1.56it/s]"
     ]
    },
    {
     "name": "stdout",
     "output_type": "stream",
     "text": [
      "modified finish_your_homework_before_watching_tv\n"
     ]
    },
    {
     "name": "stderr",
     "output_type": "stream",
     "text": [
      "Adding wiktionary links:   2%|▏         | 19/838 [00:15<09:50,  1.39it/s]"
     ]
    },
    {
     "name": "stdout",
     "output_type": "stream",
     "text": [
      "modified did_you_hear_someone_knock_on_the_door_late_at_night\n"
     ]
    },
    {
     "name": "stderr",
     "output_type": "stream",
     "text": [
      "Adding wiktionary links:   2%|▏         | 20/838 [00:16<10:01,  1.36it/s]"
     ]
    },
    {
     "name": "stdout",
     "output_type": "stream",
     "text": [
      "modified just_stay_calm_everything_will_be_fine\n"
     ]
    },
    {
     "name": "stderr",
     "output_type": "stream",
     "text": [
      "Adding wiktionary links:   3%|▎         | 21/838 [00:16<09:46,  1.39it/s]"
     ]
    },
    {
     "name": "stdout",
     "output_type": "stream",
     "text": [
      "modified do_you_support_these_new_environmental_laws\n"
     ]
    },
    {
     "name": "stderr",
     "output_type": "stream",
     "text": [
      "Adding wiktionary links:   3%|▎         | 22/838 [00:19<18:00,  1.32s/it]"
     ]
    },
    {
     "name": "stdout",
     "output_type": "stream",
     "text": [
      "modified have_you_noticed_how_much_the_regions_air_quality_has_improved\n",
      "modified i_want_to_enhance_my_public_speaking_skills\n"
     ]
    },
    {
     "name": "stderr",
     "output_type": "stream",
     "text": [
      "Adding wiktionary links:   3%|▎         | 24/838 [00:21<14:06,  1.04s/it]"
     ]
    },
    {
     "name": "stdout",
     "output_type": "stream",
     "text": [
      "modified oh_no_i_dropped_the_glass_and_it_broke\n"
     ]
    },
    {
     "name": "stderr",
     "output_type": "stream",
     "text": [
      "Adding wiktionary links:   3%|▎         | 25/838 [00:23<17:41,  1.31s/it]"
     ]
    },
    {
     "name": "stdout",
     "output_type": "stream",
     "text": [
      "modified could_the_best_solution_be_right_in_front_of_us\n",
      "modified look_at_the_beautiful_view_from_here\n"
     ]
    },
    {
     "name": "stderr",
     "output_type": "stream",
     "text": [
      "Adding wiktionary links:   3%|▎         | 27/838 [00:23<11:22,  1.19it/s]"
     ]
    },
    {
     "name": "stdout",
     "output_type": "stream",
     "text": [
      "modified i_meant_to_call_but_forgot\n"
     ]
    },
    {
     "name": "stderr",
     "output_type": "stream",
     "text": [
      "Adding wiktionary links:   3%|▎         | 28/838 [00:25<14:51,  1.10s/it]"
     ]
    },
    {
     "name": "stdout",
     "output_type": "stream",
     "text": [
      "modified stand_up_straight_when_you_give_your_speech\n"
     ]
    },
    {
     "name": "stderr",
     "output_type": "stream",
     "text": [
      "Adding wiktionary links:   3%|▎         | 29/838 [00:26<13:03,  1.03it/s]"
     ]
    },
    {
     "name": "stdout",
     "output_type": "stream",
     "text": [
      "modified they_kept_cooking_even_in_this_terrible_weather\n",
      "modified hold_your_breath_as_you_dive_underwater\n"
     ]
    },
    {
     "name": "stderr",
     "output_type": "stream",
     "text": [
      "Adding wiktionary links:   4%|▎         | 31/838 [00:27<11:23,  1.18it/s]"
     ]
    },
    {
     "name": "stdout",
     "output_type": "stream",
     "text": [
      "modified everyone_seems_to_be_stressed_these_days\n"
     ]
    },
    {
     "name": "stderr",
     "output_type": "stream",
     "text": [
      "Adding wiktionary links:   4%|▍         | 32/838 [00:28<10:41,  1.26it/s]"
     ]
    },
    {
     "name": "stdout",
     "output_type": "stream",
     "text": [
      "modified he_might_offer_to_help_with_the_work\n"
     ]
    },
    {
     "name": "stderr",
     "output_type": "stream",
     "text": [
      "Adding wiktionary links:   4%|▍         | 33/838 [00:29<11:10,  1.20it/s]"
     ]
    },
    {
     "name": "stdout",
     "output_type": "stream",
     "text": [
      "modified you_have_to_face_your_fears_to_grow_stronger\n"
     ]
    },
    {
     "name": "stderr",
     "output_type": "stream",
     "text": [
      "Adding wiktionary links:   4%|▍         | 34/838 [00:29<10:35,  1.26it/s]"
     ]
    },
    {
     "name": "stdout",
     "output_type": "stream",
     "text": [
      "modified ask_for_help_if_you_need_it\n",
      "modified you_should_write_down_your_ideas_before_you_forget\n"
     ]
    },
    {
     "name": "stderr",
     "output_type": "stream",
     "text": [
      "Adding wiktionary links:   4%|▍         | 36/838 [00:31<10:51,  1.23it/s]"
     ]
    },
    {
     "name": "stdout",
     "output_type": "stream",
     "text": [
      "modified this_accident_is_causing_a_major_traffic_jam\n"
     ]
    },
    {
     "name": "stderr",
     "output_type": "stream",
     "text": [
      "Adding wiktionary links:   4%|▍         | 37/838 [00:31<09:19,  1.43it/s]"
     ]
    },
    {
     "name": "stdout",
     "output_type": "stream",
     "text": [
      "modified dont_bother_calling_ill_be_busy\n"
     ]
    },
    {
     "name": "stderr",
     "output_type": "stream",
     "text": [
      "Adding wiktionary links:   5%|▍         | 38/838 [00:33<11:21,  1.17it/s]"
     ]
    },
    {
     "name": "stdout",
     "output_type": "stream",
     "text": [
      "modified open_your_heart_to_new_possibilities\n",
      "modified shes_likely_to_arrive_at_any_moment_now\n"
     ]
    },
    {
     "name": "stderr",
     "output_type": "stream",
     "text": [
      "Adding wiktionary links:   5%|▍         | 40/838 [00:34<11:40,  1.14it/s]"
     ]
    },
    {
     "name": "stdout",
     "output_type": "stream",
     "text": [
      "modified shed_like_to_share_her_experience_with_us\n"
     ]
    },
    {
     "name": "stderr",
     "output_type": "stream",
     "text": [
      "Adding wiktionary links:   5%|▍         | 41/838 [00:35<11:31,  1.15it/s]"
     ]
    },
    {
     "name": "stdout",
     "output_type": "stream",
     "text": [
      "modified choose_your_friends_wisely\n"
     ]
    },
    {
     "name": "stderr",
     "output_type": "stream",
     "text": [
      "Adding wiktionary links:   5%|▌         | 42/838 [00:36<12:21,  1.07it/s]"
     ]
    },
    {
     "name": "stdout",
     "output_type": "stream",
     "text": [
      "modified did_you_hear_her_sing_about_love_and_loss\n"
     ]
    },
    {
     "name": "stderr",
     "output_type": "stream",
     "text": [
      "Adding wiktionary links:   5%|▌         | 43/838 [00:37<10:28,  1.27it/s]"
     ]
    },
    {
     "name": "stdout",
     "output_type": "stream",
     "text": [
      "modified i_cant_figure_out_this_math_problem\n",
      "modified shouldnt_we_mention_this_to_the_others\n",
      "modified when_should_we_schedule_the_meeting\n"
     ]
    },
    {
     "name": "stderr",
     "output_type": "stream",
     "text": [
      "Adding wiktionary links:   5%|▌         | 46/838 [00:38<07:33,  1.75it/s]"
     ]
    },
    {
     "name": "stdout",
     "output_type": "stream",
     "text": [
      "modified i_recognize_that_man_from_somewhere\n",
      "modified can_you_figure_out_this_math_problem\n"
     ]
    },
    {
     "name": "stderr",
     "output_type": "stream",
     "text": [
      "Adding wiktionary links:   6%|▌         | 48/838 [00:39<06:44,  1.95it/s]"
     ]
    },
    {
     "name": "stdout",
     "output_type": "stream",
     "text": [
      "modified will_the_customer_recognize_me\n"
     ]
    },
    {
     "name": "stderr",
     "output_type": "stream",
     "text": [
      "Adding wiktionary links:   6%|▌         | 49/838 [00:40<08:33,  1.54it/s]"
     ]
    },
    {
     "name": "stdout",
     "output_type": "stream",
     "text": [
      "modified dont_forget_to_feed_the_dog_tonight\n"
     ]
    },
    {
     "name": "stderr",
     "output_type": "stream",
     "text": [
      "Adding wiktionary links:   6%|▌         | 50/838 [00:41<10:09,  1.29it/s]"
     ]
    },
    {
     "name": "stdout",
     "output_type": "stream",
     "text": [
      "modified the_teacher_will_mention_your_good_work_today\n"
     ]
    },
    {
     "name": "stderr",
     "output_type": "stream",
     "text": [
      "Adding wiktionary links:   6%|▌         | 51/838 [00:42<09:57,  1.32it/s]"
     ]
    },
    {
     "name": "stdout",
     "output_type": "stream",
     "text": [
      "modified hi_there_how_are_you_doing_this_morning\n"
     ]
    },
    {
     "name": "stderr",
     "output_type": "stream",
     "text": [
      "Adding wiktionary links:   6%|▌         | 52/838 [00:42<09:22,  1.40it/s]"
     ]
    },
    {
     "name": "stdout",
     "output_type": "stream",
     "text": [
      "modified are_you_selling_your_old_car_soon\n"
     ]
    },
    {
     "name": "stderr",
     "output_type": "stream",
     "text": [
      "Adding wiktionary links:   6%|▋         | 53/838 [00:43<08:03,  1.62it/s]"
     ]
    },
    {
     "name": "stdout",
     "output_type": "stream",
     "text": [
      "modified i_bet_she_wont_show_up_tonight\n"
     ]
    },
    {
     "name": "stderr",
     "output_type": "stream",
     "text": [
      "Adding wiktionary links:   6%|▋         | 54/838 [00:43<08:13,  1.59it/s]"
     ]
    },
    {
     "name": "stdout",
     "output_type": "stream",
     "text": [
      "modified wouldnt_it_be_amazing_to_find_buried_treasure\n"
     ]
    },
    {
     "name": "stderr",
     "output_type": "stream",
     "text": [
      "Adding wiktionary links:   7%|▋         | 55/838 [00:44<07:01,  1.86it/s]"
     ]
    },
    {
     "name": "stdout",
     "output_type": "stream",
     "text": [
      "modified tell_us_about_your_adventures_abroad\n"
     ]
    },
    {
     "name": "stderr",
     "output_type": "stream",
     "text": [
      "Adding wiktionary links:   7%|▋         | 56/838 [00:46<14:10,  1.09s/it]"
     ]
    },
    {
     "name": "stdout",
     "output_type": "stream",
     "text": [
      "modified do_you_play_golf_on_weekends\n"
     ]
    },
    {
     "name": "stderr",
     "output_type": "stream",
     "text": [
      "Adding wiktionary links:   7%|▋         | 57/838 [00:47<14:36,  1.12s/it]"
     ]
    },
    {
     "name": "stdout",
     "output_type": "stream",
     "text": [
      "modified did_you_learn_about_different_cultures_in_school\n"
     ]
    },
    {
     "name": "stderr",
     "output_type": "stream",
     "text": [
      "Adding wiktionary links:   7%|▋         | 58/838 [00:48<14:32,  1.12s/it]"
     ]
    },
    {
     "name": "stdout",
     "output_type": "stream",
     "text": [
      "modified theyre_turning_off_the_lights_early\n"
     ]
    },
    {
     "name": "stderr",
     "output_type": "stream",
     "text": [
      "Adding wiktionary links:   7%|▋         | 59/838 [00:51<19:01,  1.47s/it]"
     ]
    },
    {
     "name": "stdout",
     "output_type": "stream",
     "text": [
      "modified did_you_know_he_met_his_wife_at_a_social_event\n"
     ]
    },
    {
     "name": "stderr",
     "output_type": "stream",
     "text": [
      "Adding wiktionary links:   7%|▋         | 60/838 [00:52<17:35,  1.36s/it]"
     ]
    },
    {
     "name": "stdout",
     "output_type": "stream",
     "text": [
      "modified shall_we_dive_underwater_to_explore_the_reef\n"
     ]
    },
    {
     "name": "stderr",
     "output_type": "stream",
     "text": [
      "Adding wiktionary links:   7%|▋         | 61/838 [00:53<17:26,  1.35s/it]"
     ]
    },
    {
     "name": "stdout",
     "output_type": "stream",
     "text": [
      "modified i_want_to_produce_a_documentary_film\n"
     ]
    },
    {
     "name": "stderr",
     "output_type": "stream",
     "text": [
      "Adding wiktionary links:   7%|▋         | 62/838 [00:53<13:29,  1.04s/it]"
     ]
    },
    {
     "name": "stdout",
     "output_type": "stream",
     "text": [
      "modified sometimes_we_just_need_to_mind_our_own_business\n"
     ]
    },
    {
     "name": "stderr",
     "output_type": "stream",
     "text": [
      "Adding wiktionary links:   8%|▊         | 63/838 [00:55<13:26,  1.04s/it]"
     ]
    },
    {
     "name": "stdout",
     "output_type": "stream",
     "text": [
      "modified follow_the_road_until_you_reach_the_bridge\n"
     ]
    },
    {
     "name": "stderr",
     "output_type": "stream",
     "text": [
      "Adding wiktionary links:   8%|▊         | 64/838 [00:55<10:25,  1.24it/s]"
     ]
    },
    {
     "name": "stdout",
     "output_type": "stream",
     "text": [
      "modified yep_that_sounds_like_a_great_plan_to_me\n"
     ]
    },
    {
     "name": "stderr",
     "output_type": "stream",
     "text": [
      "Adding wiktionary links:   8%|▊         | 65/838 [00:57<17:33,  1.36s/it]"
     ]
    },
    {
     "name": "stdout",
     "output_type": "stream",
     "text": [
      "modified i_just_want_to_sit_quietly_and_read_my_book\n"
     ]
    },
    {
     "name": "stderr",
     "output_type": "stream",
     "text": [
      "Adding wiktionary links:   8%|▊         | 66/838 [00:58<14:24,  1.12s/it]"
     ]
    },
    {
     "name": "stdout",
     "output_type": "stream",
     "text": [
      "modified is_she_really_an_expert_in_the_field\n",
      "modified they_decided_to_eat_at_the_local_restaurant\n"
     ]
    },
    {
     "name": "stderr",
     "output_type": "stream",
     "text": [
      "Adding wiktionary links:   8%|▊         | 68/838 [01:01<16:12,  1.26s/it]"
     ]
    },
    {
     "name": "stdout",
     "output_type": "stream",
     "text": [
      "modified i_hurt_my_back_lifting_those_heavy_boxes\n",
      "modified lets_talk_about_something_more_interesting\n"
     ]
    },
    {
     "name": "stderr",
     "output_type": "stream",
     "text": [
      "Adding wiktionary links:   8%|▊         | 70/838 [01:03<15:01,  1.17s/it]"
     ]
    },
    {
     "name": "stdout",
     "output_type": "stream",
     "text": [
      "modified yes_im_sure_its_worth_at_least_a_pound\n"
     ]
    },
    {
     "name": "stderr",
     "output_type": "stream",
     "text": [
      "Adding wiktionary links:   8%|▊         | 71/838 [01:04<13:50,  1.08s/it]"
     ]
    },
    {
     "name": "stdout",
     "output_type": "stream",
     "text": [
      "modified dont_forget_to_ring_the_church_bell\n"
     ]
    },
    {
     "name": "stderr",
     "output_type": "stream",
     "text": [
      "Adding wiktionary links:   9%|▊         | 72/838 [01:06<17:25,  1.36s/it]"
     ]
    },
    {
     "name": "stdout",
     "output_type": "stream",
     "text": [
      "modified dont_you_think_this_movie_is_dragging_on_forever\n"
     ]
    },
    {
     "name": "stderr",
     "output_type": "stream",
     "text": [
      "Adding wiktionary links:   9%|▊         | 73/838 [01:07<14:54,  1.17s/it]"
     ]
    },
    {
     "name": "stdout",
     "output_type": "stream",
     "text": [
      "modified who_will_teach_the_class_next_week\n"
     ]
    },
    {
     "name": "stderr",
     "output_type": "stream",
     "text": [
      "Adding wiktionary links:   9%|▉         | 74/838 [01:08<16:56,  1.33s/it]"
     ]
    },
    {
     "name": "stdout",
     "output_type": "stream",
     "text": [
      "modified did_you_hear_theyre_building_a_new_community_center\n"
     ]
    },
    {
     "name": "stderr",
     "output_type": "stream",
     "text": [
      "Adding wiktionary links:   9%|▉         | 75/838 [01:10<17:22,  1.37s/it]"
     ]
    },
    {
     "name": "stdout",
     "output_type": "stream",
     "text": [
      "modified ill_definitely_note_your_concerns_about_this\n"
     ]
    },
    {
     "name": "stderr",
     "output_type": "stream",
     "text": [
      "Adding wiktionary links:   9%|▉         | 76/838 [01:12<19:50,  1.56s/it]"
     ]
    },
    {
     "name": "stdout",
     "output_type": "stream",
     "text": [
      "modified i_want_to_live_a_more_balanced_life\n"
     ]
    },
    {
     "name": "stderr",
     "output_type": "stream",
     "text": [
      "Adding wiktionary links:   9%|▉         | 77/838 [01:14<20:20,  1.60s/it]"
     ]
    },
    {
     "name": "stdout",
     "output_type": "stream",
     "text": [
      "modified excuse_me_where_is_the_nearest_bank\n"
     ]
    },
    {
     "name": "stderr",
     "output_type": "stream",
     "text": [
      "Adding wiktionary links:   9%|▉         | 78/838 [01:15<19:33,  1.54s/it]"
     ]
    },
    {
     "name": "stdout",
     "output_type": "stream",
     "text": [
      "modified you_have_to_accept_the_consequences_of_your_actions\n"
     ]
    },
    {
     "name": "stderr",
     "output_type": "stream",
     "text": [
      "Adding wiktionary links:   9%|▉         | 79/838 [01:16<17:43,  1.40s/it]"
     ]
    },
    {
     "name": "stdout",
     "output_type": "stream",
     "text": [
      "modified im_expecting_to_graduate_next_spring\n"
     ]
    },
    {
     "name": "stderr",
     "output_type": "stream",
     "text": [
      "Adding wiktionary links:  10%|▉         | 80/838 [01:18<21:10,  1.68s/it]"
     ]
    },
    {
     "name": "stdout",
     "output_type": "stream",
     "text": [
      "modified did_you_see_the_ball_hit_the_wall_and_bounce_back\n"
     ]
    },
    {
     "name": "stderr",
     "output_type": "stream",
     "text": [
      "Adding wiktionary links:  10%|▉         | 81/838 [01:20<21:33,  1.71s/it]"
     ]
    },
    {
     "name": "stdout",
     "output_type": "stream",
     "text": [
      "modified dont_the_kids_just_love_singing_in_the_rain\n"
     ]
    },
    {
     "name": "stderr",
     "output_type": "stream",
     "text": [
      "Adding wiktionary links:  10%|▉         | 82/838 [01:21<18:38,  1.48s/it]"
     ]
    },
    {
     "name": "stdout",
     "output_type": "stream",
     "text": [
      "modified we_need_to_act_now_or_well_lose_everything\n"
     ]
    },
    {
     "name": "stderr",
     "output_type": "stream",
     "text": [
      "Adding wiktionary links:  10%|▉         | 83/838 [01:22<16:55,  1.34s/it]"
     ]
    },
    {
     "name": "stdout",
     "output_type": "stream",
     "text": [
      "modified did_you_hear_they_passed_the_test_with_flying_colors\n"
     ]
    },
    {
     "name": "stderr",
     "output_type": "stream",
     "text": [
      "Adding wiktionary links:  10%|█         | 84/838 [01:24<17:16,  1.37s/it]"
     ]
    },
    {
     "name": "stdout",
     "output_type": "stream",
     "text": [
      "modified do_you_like_playing_the_guitar_at_night\n"
     ]
    },
    {
     "name": "stderr",
     "output_type": "stream",
     "text": [
      "Adding wiktionary links:  10%|█         | 85/838 [01:24<13:29,  1.07s/it]"
     ]
    },
    {
     "name": "stdout",
     "output_type": "stream",
     "text": [
      "modified ill_draw_you_a_map_to_the_new_office\n"
     ]
    },
    {
     "name": "stderr",
     "output_type": "stream",
     "text": [
      "Adding wiktionary links:  10%|█         | 86/838 [01:25<14:33,  1.16s/it]"
     ]
    },
    {
     "name": "stdout",
     "output_type": "stream",
     "text": [
      "modified he_tried_to_catch_the_falling_glass\n"
     ]
    },
    {
     "name": "stderr",
     "output_type": "stream",
     "text": [
      "Adding wiktionary links:  10%|█         | 87/838 [01:26<11:15,  1.11it/s]"
     ]
    },
    {
     "name": "stdout",
     "output_type": "stream",
     "text": [
      "modified i_want_to_listen_to_different_opinions_first\n"
     ]
    },
    {
     "name": "stderr",
     "output_type": "stream",
     "text": [
      "Adding wiktionary links:  11%|█         | 88/838 [01:26<10:29,  1.19it/s]"
     ]
    },
    {
     "name": "stdout",
     "output_type": "stream",
     "text": [
      "modified he_tried_to_catch_the_falling_plate\n",
      "modified wasnt_that_film_absolutely_amazing\n"
     ]
    },
    {
     "name": "stderr",
     "output_type": "stream",
     "text": [
      "Adding wiktionary links:  11%|█         | 90/838 [01:28<10:07,  1.23it/s]"
     ]
    },
    {
     "name": "stdout",
     "output_type": "stream",
     "text": [
      "modified i_want_to_live_in_a_quiet_neighborhood\n",
      "modified what_do_you_mean_by_that_statement\n"
     ]
    },
    {
     "name": "stderr",
     "output_type": "stream",
     "text": [
      "Adding wiktionary links:  11%|█         | 92/838 [01:28<06:42,  1.85it/s]"
     ]
    },
    {
     "name": "stdout",
     "output_type": "stream",
     "text": [
      "modified do_you_care_about_the_publics_opinion\n"
     ]
    },
    {
     "name": "stderr",
     "output_type": "stream",
     "text": [
      "Adding wiktionary links:  11%|█         | 93/838 [01:29<07:40,  1.62it/s]"
     ]
    },
    {
     "name": "stdout",
     "output_type": "stream",
     "text": [
      "modified do_you_care_about_the_environment\n"
     ]
    },
    {
     "name": "stderr",
     "output_type": "stream",
     "text": [
      "Adding wiktionary links:  11%|█         | 94/838 [01:30<09:03,  1.37it/s]"
     ]
    },
    {
     "name": "stdout",
     "output_type": "stream",
     "text": [
      "modified shall_we_meet_at_the_store\n"
     ]
    },
    {
     "name": "stderr",
     "output_type": "stream",
     "text": [
      "Adding wiktionary links:  11%|█▏        | 95/838 [01:32<12:06,  1.02it/s]"
     ]
    },
    {
     "name": "stdout",
     "output_type": "stream",
     "text": [
      "modified im_trying_to_dry_my_clothes_in_the_sun\n"
     ]
    },
    {
     "name": "stderr",
     "output_type": "stream",
     "text": [
      "Adding wiktionary links:  11%|█▏        | 96/838 [01:32<10:15,  1.20it/s]"
     ]
    },
    {
     "name": "stdout",
     "output_type": "stream",
     "text": [
      "modified shell_catch_a_cold_in_this_weather\n"
     ]
    },
    {
     "name": "stderr",
     "output_type": "stream",
     "text": [
      "Adding wiktionary links:  12%|█▏        | 97/838 [01:33<09:25,  1.31it/s]"
     ]
    },
    {
     "name": "stdout",
     "output_type": "stream",
     "text": [
      "modified you_should_have_chosen_a_different_color\n"
     ]
    },
    {
     "name": "stderr",
     "output_type": "stream",
     "text": [
      "Adding wiktionary links:  12%|█▏        | 98/838 [01:34<09:18,  1.32it/s]"
     ]
    },
    {
     "name": "stdout",
     "output_type": "stream",
     "text": [
      "modified shes_letting_the_children_play_outside\n",
      "modified the_movies_about_to_end\n"
     ]
    },
    {
     "name": "stderr",
     "output_type": "stream",
     "text": [
      "Adding wiktionary links:  12%|█▏        | 100/838 [01:34<06:19,  1.94it/s]"
     ]
    },
    {
     "name": "stdout",
     "output_type": "stream",
     "text": [
      "modified were_selling_our_old_car_soon\n"
     ]
    },
    {
     "name": "stderr",
     "output_type": "stream",
     "text": [
      "Adding wiktionary links:  12%|█▏        | 101/838 [01:35<08:06,  1.51it/s]"
     ]
    },
    {
     "name": "stdout",
     "output_type": "stream",
     "text": [
      "modified i_want_to_live_in_a_modern_city\n"
     ]
    },
    {
     "name": "stderr",
     "output_type": "stream",
     "text": [
      "Adding wiktionary links:  12%|█▏        | 102/838 [01:35<07:07,  1.72it/s]"
     ]
    },
    {
     "name": "stdout",
     "output_type": "stream",
     "text": [
      "modified they_sold_all_their_tickets\n"
     ]
    },
    {
     "name": "stderr",
     "output_type": "stream",
     "text": [
      "Adding wiktionary links:  12%|█▏        | 103/838 [01:37<10:16,  1.19it/s]"
     ]
    },
    {
     "name": "stdout",
     "output_type": "stream",
     "text": [
      "modified this_dress_fits_me_like_a_glove\n",
      "modified i_hope_the_weather_will_be_nice_tomorrow\n",
      "modified do_you_want_to_buy_his_hat\n",
      "modified dont_forget_to_feed_the_dog_before_you_leave\n"
     ]
    },
    {
     "name": "stderr",
     "output_type": "stream",
     "text": [
      "Adding wiktionary links:  13%|█▎        | 107/838 [01:37<04:46,  2.55it/s]"
     ]
    },
    {
     "name": "stdout",
     "output_type": "stream",
     "text": [
      "modified dont_you_hate_waking_up_early_in_the_morning\n"
     ]
    },
    {
     "name": "stderr",
     "output_type": "stream",
     "text": [
      "Adding wiktionary links:  13%|█▎        | 108/838 [01:39<06:49,  1.78it/s]"
     ]
    },
    {
     "name": "stdout",
     "output_type": "stream",
     "text": [
      "modified do_you_check_your_account_balance_every_day\n"
     ]
    },
    {
     "name": "stderr",
     "output_type": "stream",
     "text": [
      "Adding wiktionary links:  13%|█▎        | 109/838 [01:40<08:38,  1.41it/s]"
     ]
    },
    {
     "name": "stdout",
     "output_type": "stream",
     "text": [
      "modified did_you_enjoy_the_beautiful_garden_this_afternoon\n"
     ]
    },
    {
     "name": "stderr",
     "output_type": "stream",
     "text": [
      "Adding wiktionary links:  13%|█▎        | 110/838 [01:41<08:35,  1.41it/s]"
     ]
    },
    {
     "name": "stdout",
     "output_type": "stream",
     "text": [
      "modified use_this_bottle_to_carry_your_water\n"
     ]
    },
    {
     "name": "stderr",
     "output_type": "stream",
     "text": [
      "Adding wiktionary links:  13%|█▎        | 111/838 [01:41<08:12,  1.48it/s]"
     ]
    },
    {
     "name": "stdout",
     "output_type": "stream",
     "text": [
      "modified he_realized_his_mistake_too_late\n"
     ]
    },
    {
     "name": "stderr",
     "output_type": "stream",
     "text": [
      "Adding wiktionary links:  13%|█▎        | 112/838 [01:42<08:33,  1.42it/s]"
     ]
    },
    {
     "name": "stdout",
     "output_type": "stream",
     "text": [
      "modified did_you_hear_theyre_closing_the_shop_for_renovations\n"
     ]
    },
    {
     "name": "stderr",
     "output_type": "stream",
     "text": [
      "Adding wiktionary links:  13%|█▎        | 113/838 [01:44<13:34,  1.12s/it]"
     ]
    },
    {
     "name": "stdout",
     "output_type": "stream",
     "text": [
      "modified look_at_those_two_boys_fighting_over_a_toy_car\n"
     ]
    },
    {
     "name": "stderr",
     "output_type": "stream",
     "text": [
      "Adding wiktionary links:  14%|█▎        | 114/838 [01:45<12:56,  1.07s/it]"
     ]
    },
    {
     "name": "stdout",
     "output_type": "stream",
     "text": [
      "modified can_you_imagine_a_world_without_technology\n"
     ]
    },
    {
     "name": "stderr",
     "output_type": "stream",
     "text": [
      "Adding wiktionary links:  14%|█▎        | 115/838 [01:46<13:15,  1.10s/it]"
     ]
    },
    {
     "name": "stdout",
     "output_type": "stream",
     "text": [
      "modified we_received_such_a_warm_welcome_at_the_airport\n"
     ]
    },
    {
     "name": "stderr",
     "output_type": "stream",
     "text": [
      "Adding wiktionary links:  14%|█▍        | 116/838 [01:48<14:25,  1.20s/it]"
     ]
    },
    {
     "name": "stdout",
     "output_type": "stream",
     "text": [
      "modified she_couldnt_afford_the_expensive_birthday_gift_unfortunately\n"
     ]
    },
    {
     "name": "stderr",
     "output_type": "stream",
     "text": [
      "Adding wiktionary links:  14%|█▍        | 117/838 [01:49<13:10,  1.10s/it]"
     ]
    },
    {
     "name": "stdout",
     "output_type": "stream",
     "text": [
      "modified quick_help_me_carry_this_injured_person_to_safety\n"
     ]
    },
    {
     "name": "stderr",
     "output_type": "stream",
     "text": [
      "Adding wiktionary links:  14%|█▍        | 118/838 [01:50<12:41,  1.06s/it]"
     ]
    },
    {
     "name": "stdout",
     "output_type": "stream",
     "text": [
      "modified the_show_lasted_for_an_hour_and_half\n"
     ]
    },
    {
     "name": "stderr",
     "output_type": "stream",
     "text": [
      "Adding wiktionary links:  14%|█▍        | 119/838 [01:51<15:10,  1.27s/it]"
     ]
    },
    {
     "name": "stdout",
     "output_type": "stream",
     "text": [
      "modified deal_the_cards_quickly_and_efficiently\n"
     ]
    },
    {
     "name": "stderr",
     "output_type": "stream",
     "text": [
      "Adding wiktionary links:  14%|█▍        | 120/838 [01:52<12:37,  1.05s/it]"
     ]
    },
    {
     "name": "stdout",
     "output_type": "stream",
     "text": [
      "modified this_cake_tastes_absolutely_delicious\n"
     ]
    },
    {
     "name": "stderr",
     "output_type": "stream",
     "text": [
      "Adding wiktionary links:  14%|█▍        | 121/838 [01:53<12:33,  1.05s/it]"
     ]
    },
    {
     "name": "stdout",
     "output_type": "stream",
     "text": [
      "modified should_we_stick_to_our_original_plan_despite_the_doubts\n"
     ]
    },
    {
     "name": "stderr",
     "output_type": "stream",
     "text": [
      "Adding wiktionary links:  15%|█▍        | 122/838 [01:54<13:49,  1.16s/it]"
     ]
    },
    {
     "name": "stdout",
     "output_type": "stream",
     "text": [
      "modified shes_planning_to_apply_for_a_new_job_soon\n",
      "modified yeah_im_totally_fine_with_that_no_problem\n"
     ]
    },
    {
     "name": "stderr",
     "output_type": "stream",
     "text": [
      "Adding wiktionary links:  15%|█▍        | 124/838 [01:55<08:10,  1.46it/s]"
     ]
    },
    {
     "name": "stdout",
     "output_type": "stream",
     "text": [
      "modified hes_going_to_build_us_a_proper_table\n"
     ]
    },
    {
     "name": "stderr",
     "output_type": "stream",
     "text": [
      "Adding wiktionary links:  15%|█▍        | 125/838 [01:57<13:28,  1.13s/it]"
     ]
    },
    {
     "name": "stdout",
     "output_type": "stream",
     "text": [
      "modified many_soldiers_died_defending_their_country\n"
     ]
    },
    {
     "name": "stderr",
     "output_type": "stream",
     "text": [
      "Adding wiktionary links:  15%|█▌        | 126/838 [02:00<18:03,  1.52s/it]"
     ]
    },
    {
     "name": "stdout",
     "output_type": "stream",
     "text": [
      "modified we_must_ensure_everyones_safety_first\n"
     ]
    },
    {
     "name": "stderr",
     "output_type": "stream",
     "text": [
      "Adding wiktionary links:  15%|█▌        | 127/838 [02:00<14:01,  1.18s/it]"
     ]
    },
    {
     "name": "stdout",
     "output_type": "stream",
     "text": [
      "modified stand_up_straight_and_look_ahead\n"
     ]
    },
    {
     "name": "stderr",
     "output_type": "stream",
     "text": [
      "Adding wiktionary links:  15%|█▌        | 128/838 [02:02<16:44,  1.42s/it]"
     ]
    },
    {
     "name": "stdout",
     "output_type": "stream",
     "text": [
      "modified wash_your_hands_before_you_eat_please\n"
     ]
    },
    {
     "name": "stderr",
     "output_type": "stream",
     "text": [
      "Adding wiktionary links:  15%|█▌        | 129/838 [02:03<14:21,  1.21s/it]"
     ]
    },
    {
     "name": "stdout",
     "output_type": "stream",
     "text": [
      "modified i_bet_you_cant_fit_through_that_hole\n"
     ]
    },
    {
     "name": "stderr",
     "output_type": "stream",
     "text": [
      "Adding wiktionary links:  16%|█▌        | 130/838 [02:03<11:05,  1.06it/s]"
     ]
    },
    {
     "name": "stdout",
     "output_type": "stream",
     "text": [
      "modified ill_call_you_back_later\n",
      "modified i_suppose_we_should_leave_early_tomorrow\n"
     ]
    },
    {
     "name": "stderr",
     "output_type": "stream",
     "text": [
      "Adding wiktionary links:  16%|█▌        | 132/838 [02:05<11:47,  1.00s/it]"
     ]
    },
    {
     "name": "stdout",
     "output_type": "stream",
     "text": [
      "modified you_need_two_people_to_lift_anything_over_fifty_pounds\n"
     ]
    },
    {
     "name": "stderr",
     "output_type": "stream",
     "text": [
      "Adding wiktionary links:  16%|█▌        | 133/838 [02:06<11:53,  1.01s/it]"
     ]
    },
    {
     "name": "stdout",
     "output_type": "stream",
     "text": [
      "modified dont_you_think_the_price_is_too_high\n"
     ]
    },
    {
     "name": "stderr",
     "output_type": "stream",
     "text": [
      "Adding wiktionary links:  16%|█▌        | 134/838 [02:07<09:35,  1.22it/s]"
     ]
    },
    {
     "name": "stdout",
     "output_type": "stream",
     "text": [
      "modified dont_worry_ill_remind_you_about_the_meeting_tomorrow\n"
     ]
    },
    {
     "name": "stderr",
     "output_type": "stream",
     "text": [
      "Adding wiktionary links:  16%|█▌        | 135/838 [02:07<09:07,  1.29it/s]"
     ]
    },
    {
     "name": "stdout",
     "output_type": "stream",
     "text": [
      "modified i_think_we_should_leave_now\n"
     ]
    },
    {
     "name": "stderr",
     "output_type": "stream",
     "text": [
      "Adding wiktionary links:  16%|█▌        | 136/838 [02:08<10:28,  1.12it/s]"
     ]
    },
    {
     "name": "stdout",
     "output_type": "stream",
     "text": [
      "modified i_drew_a_picture_of_the_land\n",
      "modified can_you_believe_they_ate_the_entire_cake_by_themselves\n"
     ]
    },
    {
     "name": "stderr",
     "output_type": "stream",
     "text": [
      "Adding wiktionary links:  16%|█▋        | 138/838 [02:09<08:33,  1.36it/s]"
     ]
    },
    {
     "name": "stdout",
     "output_type": "stream",
     "text": [
      "modified we_need_to_fight_for_our_rights\n",
      "modified dont_you_think_its_a_good_idea\n"
     ]
    },
    {
     "name": "stderr",
     "output_type": "stream",
     "text": [
      "Adding wiktionary links:  17%|█▋        | 140/838 [02:10<06:02,  1.92it/s]"
     ]
    },
    {
     "name": "stdout",
     "output_type": "stream",
     "text": [
      "modified are_you_ready_for_the_party_tonight\n"
     ]
    },
    {
     "name": "stderr",
     "output_type": "stream",
     "text": [
      "Adding wiktionary links:  17%|█▋        | 141/838 [02:11<07:19,  1.58it/s]"
     ]
    },
    {
     "name": "stdout",
     "output_type": "stream",
     "text": [
      "modified press_the_button_to_call_the_elevator\n",
      "modified act_now_before_its_too_late\n"
     ]
    },
    {
     "name": "stderr",
     "output_type": "stream",
     "text": [
      "Adding wiktionary links:  17%|█▋        | 143/838 [02:12<07:27,  1.55it/s]"
     ]
    },
    {
     "name": "stdout",
     "output_type": "stream",
     "text": [
      "modified lets_deal_with_this_issue_right_now\n"
     ]
    },
    {
     "name": "stderr",
     "output_type": "stream",
     "text": [
      "Adding wiktionary links:  17%|█▋        | 144/838 [02:14<09:25,  1.23it/s]"
     ]
    },
    {
     "name": "stdout",
     "output_type": "stream",
     "text": [
      "modified dont_bother_me_with_such_trivial_matters\n"
     ]
    },
    {
     "name": "stderr",
     "output_type": "stream",
     "text": [
      "Adding wiktionary links:  17%|█▋        | 145/838 [02:15<10:16,  1.12it/s]"
     ]
    },
    {
     "name": "stdout",
     "output_type": "stream",
     "text": [
      "modified did_you_see_her_green_dress_at_the_party\n"
     ]
    },
    {
     "name": "stderr",
     "output_type": "stream",
     "text": [
      "Adding wiktionary links:  17%|█▋        | 146/838 [02:16<11:09,  1.03it/s]"
     ]
    },
    {
     "name": "stdout",
     "output_type": "stream",
     "text": [
      "modified does_it_matter_what_color_we_choose\n",
      "modified can_you_explain_this_concept_to_me\n"
     ]
    },
    {
     "name": "stderr",
     "output_type": "stream",
     "text": [
      "Adding wiktionary links:  18%|█▊        | 148/838 [02:17<09:52,  1.17it/s]"
     ]
    },
    {
     "name": "stdout",
     "output_type": "stream",
     "text": [
      "modified i_suffered_a_heavy_loss_at_the_bank\n"
     ]
    },
    {
     "name": "stderr",
     "output_type": "stream",
     "text": [
      "Adding wiktionary links:  18%|█▊        | 149/838 [02:18<08:25,  1.36it/s]"
     ]
    },
    {
     "name": "stdout",
     "output_type": "stream",
     "text": [
      "modified check_with_somebody_before_making_any_decisions\n"
     ]
    },
    {
     "name": "stderr",
     "output_type": "stream",
     "text": [
      "Adding wiktionary links:  18%|█▊        | 150/838 [02:18<07:33,  1.52it/s]"
     ]
    },
    {
     "name": "stdout",
     "output_type": "stream",
     "text": [
      "modified i_care_deeply_about_environmental_issues\n",
      "modified what_will_you_do_with_your_free_time\n"
     ]
    },
    {
     "name": "stderr",
     "output_type": "stream",
     "text": [
      "Adding wiktionary links:  18%|█▊        | 152/838 [02:19<07:02,  1.62it/s]"
     ]
    },
    {
     "name": "stdout",
     "output_type": "stream",
     "text": [
      "modified have_you_chosen_a_white_church_for_the_wedding\n",
      "modified this_shirt_doesnt_fit_me_anymore\n",
      "modified guess_what_theyre_moving_to_a_different_city\n",
      "modified i_cant_wait_to_see_my_daughter_at_the_airport\n",
      "modified are_you_coming_to_the_party_tonight\n",
      "modified we_still_havent_solved_the_problem\n"
     ]
    },
    {
     "name": "stderr",
     "output_type": "stream",
     "text": [
      "Adding wiktionary links:  19%|█▉        | 158/838 [02:20<03:44,  3.03it/s]"
     ]
    },
    {
     "name": "stdout",
     "output_type": "stream",
     "text": [
      "modified did_you_hear_that_strange_noise_from_upstairs\n"
     ]
    },
    {
     "name": "stderr",
     "output_type": "stream",
     "text": [
      "Adding wiktionary links:  19%|█▉        | 159/838 [02:21<03:53,  2.91it/s]"
     ]
    },
    {
     "name": "stdout",
     "output_type": "stream",
     "text": [
      "modified dont_lie_again_or_youll_suffer\n"
     ]
    },
    {
     "name": "stderr",
     "output_type": "stream",
     "text": [
      "Adding wiktionary links:  19%|█▉        | 160/838 [02:22<05:31,  2.04it/s]"
     ]
    },
    {
     "name": "stdout",
     "output_type": "stream",
     "text": [
      "modified shall_we_pick_fresh_vegetables_for_dinner\n",
      "modified lets_help_this_elderly_person_cross_the_street\n"
     ]
    },
    {
     "name": "stderr",
     "output_type": "stream",
     "text": [
      "Adding wiktionary links:  19%|█▉        | 162/838 [02:28<13:52,  1.23s/it]"
     ]
    },
    {
     "name": "stdout",
     "output_type": "stream",
     "text": [
      "modified push_the_door_open_with_your_free_hand\n"
     ]
    },
    {
     "name": "stderr",
     "output_type": "stream",
     "text": [
      "Adding wiktionary links:  19%|█▉        | 163/838 [02:30<15:03,  1.34s/it]"
     ]
    },
    {
     "name": "stdout",
     "output_type": "stream",
     "text": [
      "modified everyone_must_wear_a_mask_inside\n",
      "modified wash_your_hands_before_you_cook_okay\n"
     ]
    },
    {
     "name": "stderr",
     "output_type": "stream",
     "text": [
      "Adding wiktionary links:  20%|█▉        | 165/838 [02:31<11:56,  1.06s/it]"
     ]
    },
    {
     "name": "stdout",
     "output_type": "stream",
     "text": [
      "modified they_found_a_dead_body_behind_the_club\n"
     ]
    },
    {
     "name": "stderr",
     "output_type": "stream",
     "text": [
      "Adding wiktionary links:  20%|█▉        | 166/838 [02:33<13:49,  1.23s/it]"
     ]
    },
    {
     "name": "stdout",
     "output_type": "stream",
     "text": [
      "modified just_use_your_common_sense_here\n"
     ]
    },
    {
     "name": "stderr",
     "output_type": "stream",
     "text": [
      "Adding wiktionary links:  20%|█▉        | 167/838 [02:33<12:05,  1.08s/it]"
     ]
    },
    {
     "name": "stdout",
     "output_type": "stream",
     "text": [
      "modified we_missed_the_train_by_five_minutes\n"
     ]
    },
    {
     "name": "stderr",
     "output_type": "stream",
     "text": [
      "Adding wiktionary links:  20%|██        | 168/838 [02:33<10:05,  1.11it/s]"
     ]
    },
    {
     "name": "stdout",
     "output_type": "stream",
     "text": [
      "modified do_you_like_playing_with_your_pet_cat\n",
      "modified did_you_hear_someone_knock_at_the_door_past_midnight\n"
     ]
    },
    {
     "name": "stderr",
     "output_type": "stream",
     "text": [
      "Adding wiktionary links:  20%|██        | 170/838 [02:34<07:47,  1.43it/s]"
     ]
    },
    {
     "name": "stdout",
     "output_type": "stream",
     "text": [
      "modified i_want_to_live_in_a_big_city_someday\n"
     ]
    },
    {
     "name": "stderr",
     "output_type": "stream",
     "text": [
      "Adding wiktionary links:  20%|██        | 171/838 [02:35<07:09,  1.55it/s]"
     ]
    },
    {
     "name": "stdout",
     "output_type": "stream",
     "text": [
      "modified dont_you_think_the_solution_seems_quite_simple\n"
     ]
    },
    {
     "name": "stderr",
     "output_type": "stream",
     "text": [
      "Adding wiktionary links:  21%|██        | 172/838 [02:35<06:13,  1.78it/s]"
     ]
    },
    {
     "name": "stdout",
     "output_type": "stream",
     "text": [
      "modified lets_try_to_walk_more_and_drive_less\n"
     ]
    },
    {
     "name": "stderr",
     "output_type": "stream",
     "text": [
      "Adding wiktionary links:  21%|██        | 173/838 [02:36<06:48,  1.63it/s]"
     ]
    },
    {
     "name": "stdout",
     "output_type": "stream",
     "text": [
      "modified cover_your_mouth_when_you_cough_please\n"
     ]
    },
    {
     "name": "stderr",
     "output_type": "stream",
     "text": [
      "Adding wiktionary links:  21%|██        | 174/838 [02:36<06:18,  1.75it/s]"
     ]
    },
    {
     "name": "stdout",
     "output_type": "stream",
     "text": [
      "modified he_cleared_his_throat_before_the_speech_began\n"
     ]
    },
    {
     "name": "stderr",
     "output_type": "stream",
     "text": [
      "Adding wiktionary links:  21%|██        | 175/838 [02:38<09:12,  1.20it/s]"
     ]
    },
    {
     "name": "stdout",
     "output_type": "stream",
     "text": [
      "modified we_really_need_to_cut_back_on_spending_this_month\n"
     ]
    },
    {
     "name": "stderr",
     "output_type": "stream",
     "text": [
      "Adding wiktionary links:  21%|██        | 176/838 [02:38<09:00,  1.23it/s]"
     ]
    },
    {
     "name": "stdout",
     "output_type": "stream",
     "text": [
      "modified look_how_fast_that_black_horse_runs\n"
     ]
    },
    {
     "name": "stderr",
     "output_type": "stream",
     "text": [
      "Adding wiktionary links:  21%|██        | 177/838 [02:40<10:14,  1.08it/s]"
     ]
    },
    {
     "name": "stdout",
     "output_type": "stream",
     "text": [
      "modified i_accept_your_apology_lets_move_on\n"
     ]
    },
    {
     "name": "stderr",
     "output_type": "stream",
     "text": [
      "Adding wiktionary links:  21%|██        | 178/838 [02:40<08:41,  1.27it/s]"
     ]
    },
    {
     "name": "stdout",
     "output_type": "stream",
     "text": [
      "modified hes_planning_to_grow_vegetables_in_his_garden\n"
     ]
    },
    {
     "name": "stderr",
     "output_type": "stream",
     "text": [
      "Adding wiktionary links:  21%|██▏       | 179/838 [02:41<08:27,  1.30it/s]"
     ]
    },
    {
     "name": "stdout",
     "output_type": "stream",
     "text": [
      "modified dont_forget_to_bring_the_ticket\n",
      "modified do_you_need_help_with_your_homework_assignment\n"
     ]
    },
    {
     "name": "stderr",
     "output_type": "stream",
     "text": [
      "Adding wiktionary links:  22%|██▏       | 181/838 [02:42<07:54,  1.39it/s]"
     ]
    },
    {
     "name": "stdout",
     "output_type": "stream",
     "text": [
      "modified call_me_if_you_need_any_help\n"
     ]
    },
    {
     "name": "stderr",
     "output_type": "stream",
     "text": [
      "Adding wiktionary links:  22%|██▏       | 182/838 [02:43<08:05,  1.35it/s]"
     ]
    },
    {
     "name": "stdout",
     "output_type": "stream",
     "text": [
      "modified did_you_forget_your_license_again\n"
     ]
    },
    {
     "name": "stderr",
     "output_type": "stream",
     "text": [
      "Adding wiktionary links:  22%|██▏       | 183/838 [02:44<09:09,  1.19it/s]"
     ]
    },
    {
     "name": "stdout",
     "output_type": "stream",
     "text": [
      "modified close_the_window_its_getting_cold_outside\n"
     ]
    },
    {
     "name": "stderr",
     "output_type": "stream",
     "text": [
      "Adding wiktionary links:  22%|██▏       | 184/838 [02:46<12:17,  1.13s/it]"
     ]
    },
    {
     "name": "stdout",
     "output_type": "stream",
     "text": [
      "modified dont_forget_to_stamp_these_envelopes\n"
     ]
    },
    {
     "name": "stderr",
     "output_type": "stream",
     "text": [
      "Adding wiktionary links:  22%|██▏       | 185/838 [02:46<09:58,  1.09it/s]"
     ]
    },
    {
     "name": "stdout",
     "output_type": "stream",
     "text": [
      "modified dont_worry_everything_will_be_fine\n"
     ]
    },
    {
     "name": "stderr",
     "output_type": "stream",
     "text": [
      "Adding wiktionary links:  22%|██▏       | 186/838 [02:48<12:56,  1.19s/it]"
     ]
    },
    {
     "name": "stdout",
     "output_type": "stream",
     "text": [
      "modified could_you_hang_the_picture_on_the_bedroom_wall\n"
     ]
    },
    {
     "name": "stderr",
     "output_type": "stream",
     "text": [
      "Adding wiktionary links:  22%|██▏       | 187/838 [02:49<10:38,  1.02it/s]"
     ]
    },
    {
     "name": "stdout",
     "output_type": "stream",
     "text": [
      "modified shall_we_move_on_to_something_else\n",
      "modified i_bet_it_will_rain_this_weekend\n",
      "modified why_wont_anyone_help\n"
     ]
    },
    {
     "name": "stderr",
     "output_type": "stream",
     "text": [
      "Adding wiktionary links:  23%|██▎       | 190/838 [02:49<05:34,  1.94it/s]"
     ]
    },
    {
     "name": "stdout",
     "output_type": "stream",
     "text": [
      "modified could_you_close_the_curtains_before_you_leave\n"
     ]
    },
    {
     "name": "stderr",
     "output_type": "stream",
     "text": [
      "Adding wiktionary links:  23%|██▎       | 192/838 [02:52<07:52,  1.37it/s]"
     ]
    },
    {
     "name": "stdout",
     "output_type": "stream",
     "text": [
      "modified i_opened_the_letter_with_shaking_hands\n",
      "modified dont_worry_about_what_others_think_of_you\n"
     ]
    },
    {
     "name": "stderr",
     "output_type": "stream",
     "text": [
      "Adding wiktionary links:  23%|██▎       | 194/838 [02:52<05:52,  1.83it/s]"
     ]
    },
    {
     "name": "stdout",
     "output_type": "stream",
     "text": [
      "modified i_need_to_get_rid_of_this_old_furniture\n",
      "modified im_afraid_theres_no_easy_solution_to_this\n"
     ]
    },
    {
     "name": "stderr",
     "output_type": "stream",
     "text": [
      "Adding wiktionary links:  23%|██▎       | 195/838 [02:53<05:54,  1.81it/s]"
     ]
    },
    {
     "name": "stdout",
     "output_type": "stream",
     "text": [
      "modified be_careful_the_glass_will_break_if_you_drop_it\n"
     ]
    },
    {
     "name": "stderr",
     "output_type": "stream",
     "text": [
      "Adding wiktionary links:  23%|██▎       | 196/838 [02:54<08:16,  1.29it/s]"
     ]
    },
    {
     "name": "stdout",
     "output_type": "stream",
     "text": [
      "modified hes_thinking_of_changing_his_work_schedule\n"
     ]
    },
    {
     "name": "stderr",
     "output_type": "stream",
     "text": [
      "Adding wiktionary links:  24%|██▎       | 197/838 [02:55<07:08,  1.50it/s]"
     ]
    },
    {
     "name": "stdout",
     "output_type": "stream",
     "text": [
      "modified i_dont_know_the_answer_to_that\n",
      "modified please_close_the_door_on_your_way_out\n"
     ]
    },
    {
     "name": "stderr",
     "output_type": "stream",
     "text": [
      "Adding wiktionary links:  24%|██▎       | 199/838 [02:55<05:35,  1.90it/s]"
     ]
    },
    {
     "name": "stdout",
     "output_type": "stream",
     "text": [
      "modified she_will_call_you_as_soon_as_possible\n",
      "modified ill_be_at_the_event_myself\n"
     ]
    },
    {
     "name": "stderr",
     "output_type": "stream",
     "text": [
      "Adding wiktionary links:  24%|██▍       | 201/838 [02:57<05:39,  1.88it/s]"
     ]
    },
    {
     "name": "stdout",
     "output_type": "stream",
     "text": [
      "modified roll_the_dice_to_see_who_goes_first\n"
     ]
    },
    {
     "name": "stderr",
     "output_type": "stream",
     "text": [
      "Adding wiktionary links:  24%|██▍       | 202/838 [02:57<05:43,  1.85it/s]"
     ]
    },
    {
     "name": "stdout",
     "output_type": "stream",
     "text": [
      "modified didnt_she_sing_beautifully_at_the_wedding\n"
     ]
    },
    {
     "name": "stderr",
     "output_type": "stream",
     "text": [
      "Adding wiktionary links:  24%|██▍       | 203/838 [02:58<06:22,  1.66it/s]"
     ]
    },
    {
     "name": "stdout",
     "output_type": "stream",
     "text": [
      "modified dont_forget_to_check_your_emails_in_the_morning\n"
     ]
    },
    {
     "name": "stderr",
     "output_type": "stream",
     "text": [
      "Adding wiktionary links:  24%|██▍       | 204/838 [02:58<05:34,  1.89it/s]"
     ]
    },
    {
     "name": "stdout",
     "output_type": "stream",
     "text": [
      "modified dont_forget_to_bring_your_own_food_to_the_picnic\n"
     ]
    },
    {
     "name": "stderr",
     "output_type": "stream",
     "text": [
      "Adding wiktionary links:  24%|██▍       | 205/838 [03:00<08:42,  1.21it/s]"
     ]
    },
    {
     "name": "stdout",
     "output_type": "stream",
     "text": [
      "modified can_you_manage_this_project_by_yourself\n"
     ]
    },
    {
     "name": "stderr",
     "output_type": "stream",
     "text": [
      "Adding wiktionary links:  25%|██▍       | 206/838 [03:01<09:23,  1.12it/s]"
     ]
    },
    {
     "name": "stdout",
     "output_type": "stream",
     "text": [
      "modified were_planning_to_visit_rome_next_summer\n",
      "modified have_you_considered_all_your_options\n"
     ]
    },
    {
     "name": "stderr",
     "output_type": "stream",
     "text": [
      "Adding wiktionary links:  25%|██▍       | 208/838 [03:02<07:24,  1.42it/s]"
     ]
    },
    {
     "name": "stdout",
     "output_type": "stream",
     "text": [
      "modified he_might_draw_a_picture_of_the_village\n",
      "modified she_works_hard_to_provide_for_her_family\n"
     ]
    },
    {
     "name": "stderr",
     "output_type": "stream",
     "text": [
      "Adding wiktionary links:  25%|██▌       | 210/838 [03:03<07:25,  1.41it/s]"
     ]
    },
    {
     "name": "stdout",
     "output_type": "stream",
     "text": [
      "modified i_cant_remember_where_i_put_my_keys\n"
     ]
    },
    {
     "name": "stderr",
     "output_type": "stream",
     "text": [
      "Adding wiktionary links:  25%|██▌       | 211/838 [03:04<07:30,  1.39it/s]"
     ]
    },
    {
     "name": "stdout",
     "output_type": "stream",
     "text": [
      "modified it_all_depends_on_tomorrows_test_results\n"
     ]
    },
    {
     "name": "stderr",
     "output_type": "stream",
     "text": [
      "Adding wiktionary links:  25%|██▌       | 212/838 [03:05<07:00,  1.49it/s]"
     ]
    },
    {
     "name": "stdout",
     "output_type": "stream",
     "text": [
      "modified actually_id_rather_not_discuss_it_if_possible\n"
     ]
    },
    {
     "name": "stderr",
     "output_type": "stream",
     "text": [
      "Adding wiktionary links:  25%|██▌       | 213/838 [03:05<06:27,  1.61it/s]"
     ]
    },
    {
     "name": "stdout",
     "output_type": "stream",
     "text": [
      "modified lets_mention_this_to_our_boss\n"
     ]
    },
    {
     "name": "stderr",
     "output_type": "stream",
     "text": [
      "Adding wiktionary links:  26%|██▌       | 214/838 [03:06<08:16,  1.26it/s]"
     ]
    },
    {
     "name": "stdout",
     "output_type": "stream",
     "text": [
      "modified hang_the_coat_on_the_rack_thanks\n"
     ]
    },
    {
     "name": "stderr",
     "output_type": "stream",
     "text": [
      "Adding wiktionary links:  26%|██▌       | 215/838 [03:07<08:21,  1.24it/s]"
     ]
    },
    {
     "name": "stdout",
     "output_type": "stream",
     "text": [
      "modified always_compare_prices_before_buying_anything\n",
      "modified im_certain_this_is_the_right_way_forward\n"
     ]
    },
    {
     "name": "stderr",
     "output_type": "stream",
     "text": [
      "Adding wiktionary links:  26%|██▌       | 217/838 [03:09<07:51,  1.32it/s]"
     ]
    },
    {
     "name": "stdout",
     "output_type": "stream",
     "text": [
      "modified we_watched_the_sunrise_over_the_mountains\n"
     ]
    },
    {
     "name": "stderr",
     "output_type": "stream",
     "text": [
      "Adding wiktionary links:  26%|██▌       | 218/838 [03:09<08:15,  1.25it/s]"
     ]
    },
    {
     "name": "stdout",
     "output_type": "stream",
     "text": [
      "modified arent_you_enjoying_our_vacation_by_the_sea\n"
     ]
    },
    {
     "name": "stderr",
     "output_type": "stream",
     "text": [
      "Adding wiktionary links:  26%|██▌       | 219/838 [03:11<10:40,  1.03s/it]"
     ]
    },
    {
     "name": "stdout",
     "output_type": "stream",
     "text": [
      "modified all_this_pressure_at_work_is_causing_me_stress\n"
     ]
    },
    {
     "name": "stderr",
     "output_type": "stream",
     "text": [
      "Adding wiktionary links:  26%|██▋       | 220/838 [03:12<10:49,  1.05s/it]"
     ]
    },
    {
     "name": "stdout",
     "output_type": "stream",
     "text": [
      "modified ill_have_the_report_ready_by_next_week\n"
     ]
    },
    {
     "name": "stderr",
     "output_type": "stream",
     "text": [
      "Adding wiktionary links:  26%|██▋       | 221/838 [03:14<12:07,  1.18s/it]"
     ]
    },
    {
     "name": "stdout",
     "output_type": "stream",
     "text": [
      "modified do_you_train_every_day_to_achieve_success\n"
     ]
    },
    {
     "name": "stderr",
     "output_type": "stream",
     "text": [
      "Adding wiktionary links:  26%|██▋       | 222/838 [03:14<10:34,  1.03s/it]"
     ]
    },
    {
     "name": "stdout",
     "output_type": "stream",
     "text": [
      "modified dont_forget_to_stamp_the_letter_before_mailing_it\n"
     ]
    },
    {
     "name": "stderr",
     "output_type": "stream",
     "text": [
      "Adding wiktionary links:  27%|██▋       | 223/838 [03:15<09:19,  1.10it/s]"
     ]
    },
    {
     "name": "stdout",
     "output_type": "stream",
     "text": [
      "modified ever_wonder_why_things_happen_the_way_they_do\n"
     ]
    },
    {
     "name": "stderr",
     "output_type": "stream",
     "text": [
      "Adding wiktionary links:  27%|██▋       | 224/838 [03:16<10:56,  1.07s/it]"
     ]
    },
    {
     "name": "stdout",
     "output_type": "stream",
     "text": [
      "modified i_wished_to_join_the_army_years_ago\n"
     ]
    },
    {
     "name": "stderr",
     "output_type": "stream",
     "text": [
      "Adding wiktionary links:  27%|██▋       | 225/838 [03:17<10:17,  1.01s/it]"
     ]
    },
    {
     "name": "stdout",
     "output_type": "stream",
     "text": [
      "modified are_you_worried_about_the_economy\n"
     ]
    },
    {
     "name": "stderr",
     "output_type": "stream",
     "text": [
      "Adding wiktionary links:  27%|██▋       | 226/838 [03:18<10:20,  1.01s/it]"
     ]
    },
    {
     "name": "stdout",
     "output_type": "stream",
     "text": [
      "modified i_wonder_what_the_future_holds_for_us\n"
     ]
    },
    {
     "name": "stderr",
     "output_type": "stream",
     "text": [
      "Adding wiktionary links:  27%|██▋       | 227/838 [03:19<10:35,  1.04s/it]"
     ]
    },
    {
     "name": "stdout",
     "output_type": "stream",
     "text": [
      "modified have_you_considered_the_consequences\n",
      "modified i_cant_remember_where_i_left_my_keys\n"
     ]
    },
    {
     "name": "stderr",
     "output_type": "stream",
     "text": [
      "Adding wiktionary links:  27%|██▋       | 229/838 [03:21<08:06,  1.25it/s]"
     ]
    },
    {
     "name": "stdout",
     "output_type": "stream",
     "text": [
      "modified did_you_hear_about_the_new_shopping_center\n"
     ]
    },
    {
     "name": "stderr",
     "output_type": "stream",
     "text": [
      "Adding wiktionary links:  27%|██▋       | 230/838 [03:22<08:33,  1.18it/s]"
     ]
    },
    {
     "name": "stdout",
     "output_type": "stream",
     "text": [
      "modified raise_your_hand_if_you_have_a_question\n",
      "modified can_we_afford_to_go_on_vacation\n"
     ]
    },
    {
     "name": "stderr",
     "output_type": "stream",
     "text": [
      "Adding wiktionary links:  28%|██▊       | 232/838 [03:22<05:56,  1.70it/s]"
     ]
    },
    {
     "name": "stdout",
     "output_type": "stream",
     "text": [
      "modified how_do_you_manage_your_time_so_efficiently\n"
     ]
    },
    {
     "name": "stderr",
     "output_type": "stream",
     "text": [
      "Adding wiktionary links:  28%|██▊       | 233/838 [03:25<11:02,  1.10s/it]"
     ]
    },
    {
     "name": "stdout",
     "output_type": "stream",
     "text": [
      "modified did_you_hear_theyre_allowing_pets_in_the_building_now\n"
     ]
    },
    {
     "name": "stderr",
     "output_type": "stream",
     "text": [
      "Adding wiktionary links:  28%|██▊       | 234/838 [03:25<09:33,  1.05it/s]"
     ]
    },
    {
     "name": "stdout",
     "output_type": "stream",
     "text": [
      "modified hold_onto_the_railing_for_dear_life\n"
     ]
    },
    {
     "name": "stderr",
     "output_type": "stream",
     "text": [
      "Adding wiktionary links:  28%|██▊       | 235/838 [03:27<11:52,  1.18s/it]"
     ]
    },
    {
     "name": "stdout",
     "output_type": "stream",
     "text": [
      "modified what_does_this_sentence_actually_mean\n",
      "modified can_you_manage_the_office_until_tonight\n"
     ]
    },
    {
     "name": "stderr",
     "output_type": "stream",
     "text": [
      "Adding wiktionary links:  28%|██▊       | 237/838 [03:27<07:32,  1.33it/s]"
     ]
    },
    {
     "name": "stdout",
     "output_type": "stream",
     "text": [
      "modified this_situation_is_hard_to_understand\n"
     ]
    },
    {
     "name": "stderr",
     "output_type": "stream",
     "text": [
      "Adding wiktionary links:  28%|██▊       | 238/838 [03:29<08:26,  1.18it/s]"
     ]
    },
    {
     "name": "stdout",
     "output_type": "stream",
     "text": [
      "modified speak_up_if_you_have_any_concerns\n"
     ]
    },
    {
     "name": "stderr",
     "output_type": "stream",
     "text": [
      "Adding wiktionary links:  29%|██▊       | 239/838 [03:31<11:10,  1.12s/it]"
     ]
    },
    {
     "name": "stdout",
     "output_type": "stream",
     "text": [
      "modified set_the_table_for_dinner_would_you\n"
     ]
    },
    {
     "name": "stderr",
     "output_type": "stream",
     "text": [
      "Adding wiktionary links:  29%|██▊       | 240/838 [03:32<11:04,  1.11s/it]"
     ]
    },
    {
     "name": "stdout",
     "output_type": "stream",
     "text": [
      "modified would_you_like_me_to_serve_coffee_to_the_guests\n"
     ]
    },
    {
     "name": "stderr",
     "output_type": "stream",
     "text": [
      "Adding wiktionary links:  29%|██▉       | 241/838 [03:32<09:50,  1.01it/s]"
     ]
    },
    {
     "name": "stdout",
     "output_type": "stream",
     "text": [
      "modified im_teaching_the_new_employees_tomorrow\n",
      "modified i_care_about_you_my_friend\n"
     ]
    },
    {
     "name": "stderr",
     "output_type": "stream",
     "text": [
      "Adding wiktionary links:  29%|██▉       | 243/838 [03:34<09:28,  1.05it/s]"
     ]
    },
    {
     "name": "stdout",
     "output_type": "stream",
     "text": [
      "modified are_you_fighting_for_equal_rights_and_justice\n",
      "modified who_really_knows_what_the_future_holds\n"
     ]
    },
    {
     "name": "stderr",
     "output_type": "stream",
     "text": [
      "Adding wiktionary links:  29%|██▉       | 245/838 [03:34<06:23,  1.55it/s]"
     ]
    },
    {
     "name": "stdout",
     "output_type": "stream",
     "text": [
      "modified clear_your_mind_before_you_begin\n"
     ]
    },
    {
     "name": "stderr",
     "output_type": "stream",
     "text": [
      "Adding wiktionary links:  29%|██▉       | 246/838 [03:35<06:20,  1.56it/s]"
     ]
    },
    {
     "name": "stdout",
     "output_type": "stream",
     "text": [
      "modified did_you_hear_about_the_latest_news\n",
      "modified i_want_to_live_in_a_different_country\n",
      "modified you_need_excellent_communication_skills_for_this_job\n",
      "modified push_the_button_to_answer\n"
     ]
    },
    {
     "name": "stderr",
     "output_type": "stream",
     "text": [
      "Adding wiktionary links:  30%|██▉       | 250/838 [03:38<06:23,  1.53it/s]"
     ]
    },
    {
     "name": "stdout",
     "output_type": "stream",
     "text": [
      "modified i_want_to_become_a_famous_actress\n"
     ]
    },
    {
     "name": "stderr",
     "output_type": "stream",
     "text": [
      "Adding wiktionary links:  30%|██▉       | 251/838 [03:38<05:56,  1.65it/s]"
     ]
    },
    {
     "name": "stdout",
     "output_type": "stream",
     "text": [
      "modified how_do_you_maintain_worklife_balance\n"
     ]
    },
    {
     "name": "stderr",
     "output_type": "stream",
     "text": [
      "Adding wiktionary links:  30%|███       | 252/838 [03:39<07:05,  1.38it/s]"
     ]
    },
    {
     "name": "stdout",
     "output_type": "stream",
     "text": [
      "modified would_you_eat_the_fish_if_its_fresh\n"
     ]
    },
    {
     "name": "stderr",
     "output_type": "stream",
     "text": [
      "Adding wiktionary links:  30%|███       | 253/838 [03:41<08:56,  1.09it/s]"
     ]
    },
    {
     "name": "stdout",
     "output_type": "stream",
     "text": [
      "modified wouldnt_it_be_great_to_win_the_lottery\n"
     ]
    },
    {
     "name": "stderr",
     "output_type": "stream",
     "text": [
      "Adding wiktionary links:  30%|███       | 254/838 [03:43<11:57,  1.23s/it]"
     ]
    },
    {
     "name": "stdout",
     "output_type": "stream",
     "text": [
      "modified i_achieved_my_dreams_through_hard_work\n"
     ]
    },
    {
     "name": "stderr",
     "output_type": "stream",
     "text": [
      "Adding wiktionary links:  30%|███       | 255/838 [03:44<10:55,  1.12s/it]"
     ]
    },
    {
     "name": "stdout",
     "output_type": "stream",
     "text": [
      "modified are_you_ready_for_the_big_event_tomorrow\n"
     ]
    },
    {
     "name": "stderr",
     "output_type": "stream",
     "text": [
      "Adding wiktionary links:  31%|███       | 256/838 [03:44<08:40,  1.12it/s]"
     ]
    },
    {
     "name": "stdout",
     "output_type": "stream",
     "text": [
      "modified want_to_run_a_marathon_for_charity\n",
      "modified wash_your_hands_before_handling_food\n"
     ]
    },
    {
     "name": "stderr",
     "output_type": "stream",
     "text": [
      "Adding wiktionary links:  31%|███       | 258/838 [03:46<09:02,  1.07it/s]"
     ]
    },
    {
     "name": "stdout",
     "output_type": "stream",
     "text": [
      "modified instead_of_complaining_lets_find_a_solution_together\n"
     ]
    },
    {
     "name": "stderr",
     "output_type": "stream",
     "text": [
      "Adding wiktionary links:  31%|███       | 259/838 [03:47<08:13,  1.17it/s]"
     ]
    },
    {
     "name": "stdout",
     "output_type": "stream",
     "text": [
      "modified stop_smoking_its_bad_for_your_health\n"
     ]
    },
    {
     "name": "stderr",
     "output_type": "stream",
     "text": [
      "Adding wiktionary links:  31%|███       | 260/838 [03:48<08:49,  1.09it/s]"
     ]
    },
    {
     "name": "stdout",
     "output_type": "stream",
     "text": [
      "modified try_to_rid_yourself_of_negative_thoughts\n",
      "modified lets_try_to_sort_out_our_differences\n"
     ]
    },
    {
     "name": "stderr",
     "output_type": "stream",
     "text": [
      "Adding wiktionary links:  31%|███▏      | 262/838 [03:49<06:47,  1.41it/s]"
     ]
    },
    {
     "name": "stdout",
     "output_type": "stream",
     "text": [
      "modified lets_refer_to_the_second_copy\n"
     ]
    },
    {
     "name": "stderr",
     "output_type": "stream",
     "text": [
      "Adding wiktionary links:  31%|███▏      | 263/838 [03:49<06:42,  1.43it/s]"
     ]
    },
    {
     "name": "stdout",
     "output_type": "stream",
     "text": [
      "modified i_should_phone_the_doctor_for_an_appointment\n"
     ]
    },
    {
     "name": "stderr",
     "output_type": "stream",
     "text": [
      "Adding wiktionary links:  32%|███▏      | 264/838 [03:50<06:01,  1.59it/s]"
     ]
    },
    {
     "name": "stdout",
     "output_type": "stream",
     "text": [
      "modified thank_you_so_much_for_your_kind_gesture\n"
     ]
    },
    {
     "name": "stderr",
     "output_type": "stream",
     "text": [
      "Adding wiktionary links:  32%|███▏      | 265/838 [03:50<05:26,  1.75it/s]"
     ]
    },
    {
     "name": "stdout",
     "output_type": "stream",
     "text": [
      "modified do_you_think_well_reach_our_fitness_goals\n"
     ]
    },
    {
     "name": "stderr",
     "output_type": "stream",
     "text": [
      "Adding wiktionary links:  32%|███▏      | 266/838 [03:51<06:27,  1.48it/s]"
     ]
    },
    {
     "name": "stdout",
     "output_type": "stream",
     "text": [
      "modified im_nearly_done_with_this_particular_task_honestly\n"
     ]
    },
    {
     "name": "stderr",
     "output_type": "stream",
     "text": [
      "Adding wiktionary links:  32%|███▏      | 267/838 [03:52<06:52,  1.38it/s]"
     ]
    },
    {
     "name": "stdout",
     "output_type": "stream",
     "text": [
      "modified i_hurt_my_ankle_while_playing_tennis\n"
     ]
    },
    {
     "name": "stderr",
     "output_type": "stream",
     "text": [
      "Adding wiktionary links:  32%|███▏      | 268/838 [03:53<07:52,  1.21it/s]"
     ]
    },
    {
     "name": "stdout",
     "output_type": "stream",
     "text": [
      "modified did_you_like_their_facebook_page_yesterday\n"
     ]
    },
    {
     "name": "stderr",
     "output_type": "stream",
     "text": [
      "Adding wiktionary links:  32%|███▏      | 269/838 [03:54<07:34,  1.25it/s]"
     ]
    },
    {
     "name": "stdout",
     "output_type": "stream",
     "text": [
      "modified i_suppose_the_meeting_will_end_soon\n"
     ]
    },
    {
     "name": "stderr",
     "output_type": "stream",
     "text": [
      "Adding wiktionary links:  32%|███▏      | 270/838 [03:55<07:33,  1.25it/s]"
     ]
    },
    {
     "name": "stdout",
     "output_type": "stream",
     "text": [
      "modified i_recognized_her_voice_on_the_phone_right_away\n",
      "modified were_throwing_a_surprise_party_for_him\n"
     ]
    },
    {
     "name": "stderr",
     "output_type": "stream",
     "text": [
      "Adding wiktionary links:  32%|███▏      | 272/838 [03:55<05:32,  1.70it/s]"
     ]
    },
    {
     "name": "stdout",
     "output_type": "stream",
     "text": [
      "modified do_you_think_the_weather_might_change_later_today\n",
      "modified do_you_think_well_achieve_our_goals_soon\n"
     ]
    },
    {
     "name": "stderr",
     "output_type": "stream",
     "text": [
      "Adding wiktionary links:  33%|███▎      | 274/838 [03:56<04:37,  2.03it/s]"
     ]
    },
    {
     "name": "stdout",
     "output_type": "stream",
     "text": [
      "modified are_you_joining_the_charity_event\n"
     ]
    },
    {
     "name": "stderr",
     "output_type": "stream",
     "text": [
      "Adding wiktionary links:  33%|███▎      | 275/838 [03:57<04:48,  1.95it/s]"
     ]
    },
    {
     "name": "stdout",
     "output_type": "stream",
     "text": [
      "modified fill_the_glass_with_water_would_you\n",
      "modified how_do_you_handle_stress_at_work\n"
     ]
    },
    {
     "name": "stderr",
     "output_type": "stream",
     "text": [
      "Adding wiktionary links:  33%|███▎      | 277/838 [03:57<04:03,  2.31it/s]"
     ]
    },
    {
     "name": "stdout",
     "output_type": "stream",
     "text": [
      "modified do_you_think_well_achieve_financial_independence_soon\n"
     ]
    },
    {
     "name": "stderr",
     "output_type": "stream",
     "text": [
      "Adding wiktionary links:  33%|███▎      | 278/838 [03:58<04:10,  2.24it/s]"
     ]
    },
    {
     "name": "stdout",
     "output_type": "stream",
     "text": [
      "modified please_answer_all_questions_honestly\n",
      "modified what_happened_to_the_rest_of_the_cake\n"
     ]
    },
    {
     "name": "stderr",
     "output_type": "stream",
     "text": [
      "Adding wiktionary links:  33%|███▎      | 280/838 [03:58<03:53,  2.39it/s]"
     ]
    },
    {
     "name": "stdout",
     "output_type": "stream",
     "text": [
      "modified this_feeling_of_success_will_stay_with_you\n"
     ]
    },
    {
     "name": "stderr",
     "output_type": "stream",
     "text": [
      "Adding wiktionary links:  34%|███▎      | 281/838 [03:59<03:37,  2.56it/s]"
     ]
    },
    {
     "name": "stdout",
     "output_type": "stream",
     "text": [
      "modified dont_you_think_being_together_is_what_matters_most\n"
     ]
    },
    {
     "name": "stderr",
     "output_type": "stream",
     "text": [
      "Adding wiktionary links:  34%|███▎      | 282/838 [04:00<06:17,  1.47it/s]"
     ]
    },
    {
     "name": "stdout",
     "output_type": "stream",
     "text": [
      "modified do_you_think_it_could_still_happen_even_if_it_seems_unlikely\n"
     ]
    },
    {
     "name": "stderr",
     "output_type": "stream",
     "text": [
      "Adding wiktionary links:  34%|███▍      | 283/838 [04:01<06:04,  1.52it/s]"
     ]
    },
    {
     "name": "stdout",
     "output_type": "stream",
     "text": [
      "modified wash_your_hands_with_soap_and_water\n"
     ]
    },
    {
     "name": "stderr",
     "output_type": "stream",
     "text": [
      "Adding wiktionary links:  34%|███▍      | 284/838 [04:02<05:51,  1.57it/s]"
     ]
    },
    {
     "name": "stdout",
     "output_type": "stream",
     "text": [
      "modified can_i_share_my_thoughts_on_this\n"
     ]
    },
    {
     "name": "stderr",
     "output_type": "stream",
     "text": [
      "Adding wiktionary links:  34%|███▍      | 285/838 [04:02<06:13,  1.48it/s]"
     ]
    },
    {
     "name": "stdout",
     "output_type": "stream",
     "text": [
      "modified im_preparing_for_the_worst_but_hoping_for_the_best\n"
     ]
    },
    {
     "name": "stderr",
     "output_type": "stream",
     "text": [
      "Adding wiktionary links:  34%|███▍      | 286/838 [04:03<06:21,  1.45it/s]"
     ]
    },
    {
     "name": "stdout",
     "output_type": "stream",
     "text": [
      "modified whether_you_like_it_or_not_its_happening\n"
     ]
    },
    {
     "name": "stderr",
     "output_type": "stream",
     "text": [
      "Adding wiktionary links:  34%|███▍      | 287/838 [04:04<05:48,  1.58it/s]"
     ]
    },
    {
     "name": "stdout",
     "output_type": "stream",
     "text": [
      "modified i_hope_to_graduate_with_honors_next_year\n",
      "modified do_you_train_hard_to_improve_your_skills\n",
      "modified make_sure_you_consider_all_your_options_first\n"
     ]
    },
    {
     "name": "stderr",
     "output_type": "stream",
     "text": [
      "Adding wiktionary links:  35%|███▍      | 290/838 [04:05<04:28,  2.04it/s]"
     ]
    },
    {
     "name": "stdout",
     "output_type": "stream",
     "text": [
      "modified shall_we_help_organize_the_sale_next_week\n",
      "modified lets_work_hard_to_achieve_our_goals\n"
     ]
    },
    {
     "name": "stderr",
     "output_type": "stream",
     "text": [
      "Adding wiktionary links:  35%|███▍      | 292/838 [04:06<04:21,  2.09it/s]"
     ]
    },
    {
     "name": "stdout",
     "output_type": "stream",
     "text": [
      "modified we_dont_care_if_its_a_boy_or_girl\n"
     ]
    },
    {
     "name": "stderr",
     "output_type": "stream",
     "text": [
      "Adding wiktionary links:  35%|███▍      | 293/838 [04:06<04:19,  2.10it/s]"
     ]
    },
    {
     "name": "stdout",
     "output_type": "stream",
     "text": [
      "modified could_you_help_me_set_the_table_for_dinner_guests\n"
     ]
    },
    {
     "name": "stderr",
     "output_type": "stream",
     "text": [
      "Adding wiktionary links:  35%|███▌      | 294/838 [04:06<03:54,  2.32it/s]"
     ]
    },
    {
     "name": "stdout",
     "output_type": "stream",
     "text": [
      "modified i_really_want_to_achieve_more_in_my_career\n",
      "modified would_you_like_to_join_us_for_dinner\n",
      "modified i_want_to_answer_all_these_questions_correctly\n",
      "modified do_you_know_the_way_to_the_hospital\n"
     ]
    },
    {
     "name": "stderr",
     "output_type": "stream",
     "text": [
      "Adding wiktionary links:  36%|███▌      | 298/838 [04:07<02:08,  4.21it/s]"
     ]
    },
    {
     "name": "stdout",
     "output_type": "stream",
     "text": [
      "modified are_you_joining_our_community_cleanup_event\n"
     ]
    },
    {
     "name": "stderr",
     "output_type": "stream",
     "text": [
      "Adding wiktionary links:  36%|███▌      | 299/838 [04:07<02:54,  3.08it/s]"
     ]
    },
    {
     "name": "stdout",
     "output_type": "stream",
     "text": [
      "modified are_they_training_hard_for_the_upcoming_competition\n",
      "modified stay_calm_during_the_interview\n"
     ]
    },
    {
     "name": "stderr",
     "output_type": "stream",
     "text": [
      "Adding wiktionary links:  36%|███▌      | 301/838 [04:08<02:57,  3.03it/s]"
     ]
    },
    {
     "name": "stdout",
     "output_type": "stream",
     "text": [
      "modified i_love_to_read_books_in_my_bedroom\n"
     ]
    },
    {
     "name": "stderr",
     "output_type": "stream",
     "text": [
      "Adding wiktionary links:  36%|███▌      | 302/838 [04:09<03:08,  2.84it/s]"
     ]
    },
    {
     "name": "stdout",
     "output_type": "stream",
     "text": [
      "modified we_had_to_put_the_meeting_on_hold\n"
     ]
    },
    {
     "name": "stderr",
     "output_type": "stream",
     "text": [
      "Adding wiktionary links:  36%|███▌      | 303/838 [04:09<03:18,  2.70it/s]"
     ]
    },
    {
     "name": "stdout",
     "output_type": "stream",
     "text": [
      "modified love_your_neighbors_as_yourself\n"
     ]
    },
    {
     "name": "stderr",
     "output_type": "stream",
     "text": [
      "Adding wiktionary links:  36%|███▋      | 304/838 [04:10<03:56,  2.25it/s]"
     ]
    },
    {
     "name": "stdout",
     "output_type": "stream",
     "text": [
      "modified we_have_to_tell_the_truth_about_what_happened\n"
     ]
    },
    {
     "name": "stderr",
     "output_type": "stream",
     "text": [
      "Adding wiktionary links:  36%|███▋      | 305/838 [04:10<04:18,  2.06it/s]"
     ]
    },
    {
     "name": "stdout",
     "output_type": "stream",
     "text": [
      "modified can_you_teach_us_how_to_meditate\n"
     ]
    },
    {
     "name": "stderr",
     "output_type": "stream",
     "text": [
      "Adding wiktionary links:  37%|███▋      | 306/838 [04:11<04:10,  2.12it/s]"
     ]
    },
    {
     "name": "stdout",
     "output_type": "stream",
     "text": [
      "modified do_you_think_well_achieve_our_dreams_someday\n"
     ]
    },
    {
     "name": "stderr",
     "output_type": "stream",
     "text": [
      "Adding wiktionary links:  37%|███▋      | 307/838 [04:11<04:37,  1.92it/s]"
     ]
    },
    {
     "name": "stdout",
     "output_type": "stream",
     "text": [
      "modified did_you_hear_he_hurt_himself_fixing_the_roof\n"
     ]
    },
    {
     "name": "stderr",
     "output_type": "stream",
     "text": [
      "Adding wiktionary links:  37%|███▋      | 308/838 [04:12<04:16,  2.07it/s]"
     ]
    },
    {
     "name": "stdout",
     "output_type": "stream",
     "text": [
      "modified did_you_forget_to_include_the_data_in_the_report\n",
      "modified i_want_to_produce_a_hit_song\n"
     ]
    },
    {
     "name": "stderr",
     "output_type": "stream",
     "text": [
      "Adding wiktionary links:  37%|███▋      | 310/838 [04:14<06:18,  1.40it/s]"
     ]
    },
    {
     "name": "stdout",
     "output_type": "stream",
     "text": [
      "modified did_you_know_he_collects_rare_coins_as_a_hobby\n"
     ]
    },
    {
     "name": "stderr",
     "output_type": "stream",
     "text": [
      "Adding wiktionary links:  37%|███▋      | 311/838 [04:15<07:26,  1.18it/s]"
     ]
    },
    {
     "name": "stdout",
     "output_type": "stream",
     "text": [
      "modified did_you_know_he_was_born_into_a_wealthy_family\n"
     ]
    },
    {
     "name": "stderr",
     "output_type": "stream",
     "text": [
      "Adding wiktionary links:  37%|███▋      | 312/838 [04:16<08:13,  1.07it/s]"
     ]
    },
    {
     "name": "stdout",
     "output_type": "stream",
     "text": [
      "modified did_you_see_how_he_led_the_team_to_victory_last_night\n"
     ]
    },
    {
     "name": "stderr",
     "output_type": "stream",
     "text": [
      "Adding wiktionary links:  37%|███▋      | 313/838 [04:17<08:24,  1.04it/s]"
     ]
    },
    {
     "name": "stdout",
     "output_type": "stream",
     "text": [
      "modified ok_lets_review_the_list_one_more_time\n"
     ]
    },
    {
     "name": "stderr",
     "output_type": "stream",
     "text": [
      "Adding wiktionary links:  37%|███▋      | 314/838 [04:18<07:34,  1.15it/s]"
     ]
    },
    {
     "name": "stdout",
     "output_type": "stream",
     "text": [
      "modified i_love_listening_to_music_while_cooking_dinner\n"
     ]
    },
    {
     "name": "stderr",
     "output_type": "stream",
     "text": [
      "Adding wiktionary links:  38%|███▊      | 315/838 [04:18<06:46,  1.29it/s]"
     ]
    },
    {
     "name": "stdout",
     "output_type": "stream",
     "text": [
      "modified the_firms_method_is_completely_different_than_ours\n"
     ]
    },
    {
     "name": "stderr",
     "output_type": "stream",
     "text": [
      "Adding wiktionary links:  38%|███▊      | 316/838 [04:19<06:17,  1.38it/s]"
     ]
    },
    {
     "name": "stdout",
     "output_type": "stream",
     "text": [
      "modified i_cook_special_meals_for_my_husband\n",
      "modified have_you_already_thought_about_this_a_lot\n"
     ]
    },
    {
     "name": "stderr",
     "output_type": "stream",
     "text": [
      "Adding wiktionary links:  38%|███▊      | 318/838 [04:20<05:36,  1.55it/s]"
     ]
    },
    {
     "name": "stdout",
     "output_type": "stream",
     "text": [
      "modified do_you_read_bedtime_stories_to_your_children\n"
     ]
    },
    {
     "name": "stderr",
     "output_type": "stream",
     "text": [
      "Adding wiktionary links:  38%|███▊      | 319/838 [04:23<10:07,  1.17s/it]"
     ]
    },
    {
     "name": "stdout",
     "output_type": "stream",
     "text": [
      "modified i_sang_a_lullaby_to_my_baby_sister\n"
     ]
    },
    {
     "name": "stderr",
     "output_type": "stream",
     "text": [
      "Adding wiktionary links:  38%|███▊      | 320/838 [04:24<09:50,  1.14s/it]"
     ]
    },
    {
     "name": "stdout",
     "output_type": "stream",
     "text": [
      "modified ill_tell_you_the_real_reason_later\n"
     ]
    },
    {
     "name": "stderr",
     "output_type": "stream",
     "text": [
      "Adding wiktionary links:  38%|███▊      | 321/838 [04:24<08:06,  1.06it/s]"
     ]
    },
    {
     "name": "stdout",
     "output_type": "stream",
     "text": [
      "modified have_you_been_to_that_new_bar_in_the_centre\n"
     ]
    },
    {
     "name": "stderr",
     "output_type": "stream",
     "text": [
      "Adding wiktionary links:  38%|███▊      | 322/838 [04:25<07:44,  1.11it/s]"
     ]
    },
    {
     "name": "stdout",
     "output_type": "stream",
     "text": [
      "modified can_you_explain_this_chart_to_me\n"
     ]
    },
    {
     "name": "stderr",
     "output_type": "stream",
     "text": [
      "Adding wiktionary links:  39%|███▊      | 323/838 [04:26<07:39,  1.12it/s]"
     ]
    },
    {
     "name": "stdout",
     "output_type": "stream",
     "text": [
      "modified lets_base_our_research_on_this_data\n"
     ]
    },
    {
     "name": "stderr",
     "output_type": "stream",
     "text": [
      "Adding wiktionary links:  39%|███▊      | 324/838 [04:27<08:01,  1.07it/s]"
     ]
    },
    {
     "name": "stdout",
     "output_type": "stream",
     "text": [
      "modified you_should_reduce_your_sugar_intake_for_better_health\n",
      "modified lets_share_our_food_with_those_in_need\n"
     ]
    },
    {
     "name": "stderr",
     "output_type": "stream",
     "text": [
      "Adding wiktionary links:  39%|███▉      | 326/838 [04:28<06:12,  1.38it/s]"
     ]
    },
    {
     "name": "stdout",
     "output_type": "stream",
     "text": [
      "modified we_all_make_typing_mistakes_even_me\n"
     ]
    },
    {
     "name": "stderr",
     "output_type": "stream",
     "text": [
      "Adding wiktionary links:  39%|███▉      | 327/838 [04:28<05:38,  1.51it/s]"
     ]
    },
    {
     "name": "stdout",
     "output_type": "stream",
     "text": [
      "modified lets_share_our_concerns_with_the_panel\n"
     ]
    },
    {
     "name": "stderr",
     "output_type": "stream",
     "text": [
      "Adding wiktionary links:  39%|███▉      | 328/838 [04:30<07:14,  1.17it/s]"
     ]
    },
    {
     "name": "stdout",
     "output_type": "stream",
     "text": [
      "modified i_want_to_enhance_my_leadership_skills\n"
     ]
    },
    {
     "name": "stderr",
     "output_type": "stream",
     "text": [
      "Adding wiktionary links:  39%|███▉      | 329/838 [04:31<07:06,  1.19it/s]"
     ]
    },
    {
     "name": "stdout",
     "output_type": "stream",
     "text": [
      "modified are_they_going_to_teach_us_how_to_apply_makeup\n",
      "modified lets_prepare_for_the_worst_scenario\n"
     ]
    },
    {
     "name": "stderr",
     "output_type": "stream",
     "text": [
      "Adding wiktionary links:  39%|███▉      | 331/838 [04:32<05:52,  1.44it/s]"
     ]
    },
    {
     "name": "stdout",
     "output_type": "stream",
     "text": [
      "modified i_need_to_cost_this_project_before_starting_it\n"
     ]
    },
    {
     "name": "stderr",
     "output_type": "stream",
     "text": [
      "Adding wiktionary links:  40%|███▉      | 332/838 [04:32<05:26,  1.55it/s]"
     ]
    },
    {
     "name": "stdout",
     "output_type": "stream",
     "text": [
      "modified were_planning_a_world_tour\n",
      "modified i_just_realized_i_forgot_my_keys\n"
     ]
    },
    {
     "name": "stderr",
     "output_type": "stream",
     "text": [
      "Adding wiktionary links:  40%|███▉      | 334/838 [04:33<04:41,  1.79it/s]"
     ]
    },
    {
     "name": "stdout",
     "output_type": "stream",
     "text": [
      "modified shall_we_plan_a_surprise_party_for_mom\n"
     ]
    },
    {
     "name": "stderr",
     "output_type": "stream",
     "text": [
      "Adding wiktionary links:  40%|███▉      | 335/838 [04:34<05:08,  1.63it/s]"
     ]
    },
    {
     "name": "stdout",
     "output_type": "stream",
     "text": [
      "modified can_you_teach_me_how_to_dance\n"
     ]
    },
    {
     "name": "stderr",
     "output_type": "stream",
     "text": [
      "Adding wiktionary links:  40%|████      | 336/838 [04:35<06:45,  1.24it/s]"
     ]
    },
    {
     "name": "stdout",
     "output_type": "stream",
     "text": [
      "modified shall_we_dive_into_the_pool_together\n"
     ]
    },
    {
     "name": "stderr",
     "output_type": "stream",
     "text": [
      "Adding wiktionary links:  40%|████      | 337/838 [04:36<06:04,  1.37it/s]"
     ]
    },
    {
     "name": "stdout",
     "output_type": "stream",
     "text": [
      "modified she_really_wants_to_serve_her_community_better\n"
     ]
    },
    {
     "name": "stderr",
     "output_type": "stream",
     "text": [
      "Adding wiktionary links:  40%|████      | 338/838 [04:36<05:17,  1.57it/s]"
     ]
    },
    {
     "name": "stdout",
     "output_type": "stream",
     "text": [
      "modified dont_forget_your_passport_for_the_trip\n"
     ]
    },
    {
     "name": "stderr",
     "output_type": "stream",
     "text": [
      "Adding wiktionary links:  40%|████      | 339/838 [04:37<05:59,  1.39it/s]"
     ]
    },
    {
     "name": "stdout",
     "output_type": "stream",
     "text": [
      "modified lets_prepare_for_any_possible_outcome\n"
     ]
    },
    {
     "name": "stderr",
     "output_type": "stream",
     "text": [
      "Adding wiktionary links:  41%|████      | 340/838 [04:38<06:36,  1.26it/s]"
     ]
    },
    {
     "name": "stdout",
     "output_type": "stream",
     "text": [
      "modified shall_we_go_to_the_park_to_feed_the_ducks\n"
     ]
    },
    {
     "name": "stderr",
     "output_type": "stream",
     "text": [
      "Adding wiktionary links:  41%|████      | 341/838 [04:39<05:48,  1.43it/s]"
     ]
    },
    {
     "name": "stdout",
     "output_type": "stream",
     "text": [
      "modified you_need_to_accept_the_job_offer_today\n",
      "modified i_cant_understand_why_he_did_that\n"
     ]
    },
    {
     "name": "stderr",
     "output_type": "stream",
     "text": [
      "Adding wiktionary links:  41%|████      | 343/838 [04:39<03:56,  2.09it/s]"
     ]
    },
    {
     "name": "stdout",
     "output_type": "stream",
     "text": [
      "modified lets_find_a_solution_to_this_issue\n"
     ]
    },
    {
     "name": "stderr",
     "output_type": "stream",
     "text": [
      "Adding wiktionary links:  41%|████      | 344/838 [04:41<07:09,  1.15it/s]"
     ]
    },
    {
     "name": "stdout",
     "output_type": "stream",
     "text": [
      "modified lets_teach_the_members_how_to_dive_carefully\n"
     ]
    },
    {
     "name": "stderr",
     "output_type": "stream",
     "text": [
      "Adding wiktionary links:  41%|████      | 345/838 [04:42<06:42,  1.23it/s]"
     ]
    },
    {
     "name": "stdout",
     "output_type": "stream",
     "text": [
      "modified have_you_seen_the_video_about_preparing_this_meal\n",
      "modified can_you_teach_me_how_to_cook\n",
      "modified the_show_starts_in_five_minutes\n",
      "modified shes_starting_her_new_job_next_week\n",
      "modified lets_look_into_this_matter_carefully\n"
     ]
    },
    {
     "name": "stderr",
     "output_type": "stream",
     "text": [
      "Adding wiktionary links:  42%|████▏     | 350/838 [04:44<04:34,  1.78it/s]"
     ]
    },
    {
     "name": "stdout",
     "output_type": "stream",
     "text": [
      "modified shall_we_serve_breakfast_in_bed_this_sunday\n"
     ]
    },
    {
     "name": "stderr",
     "output_type": "stream",
     "text": [
      "Adding wiktionary links:  42%|████▏     | 351/838 [04:45<04:59,  1.62it/s]"
     ]
    },
    {
     "name": "stdout",
     "output_type": "stream",
     "text": [
      "modified did_she_forget_to_pay_for_the_service\n",
      "modified lets_include_everyone_in_this_event\n"
     ]
    },
    {
     "name": "stderr",
     "output_type": "stream",
     "text": [
      "Adding wiktionary links:  42%|████▏     | 353/838 [04:46<04:25,  1.83it/s]"
     ]
    },
    {
     "name": "stdout",
     "output_type": "stream",
     "text": [
      "modified press_the_button_to_start_the_process\n"
     ]
    },
    {
     "name": "stderr",
     "output_type": "stream",
     "text": [
      "Adding wiktionary links:  42%|████▏     | 354/838 [04:46<04:11,  1.92it/s]"
     ]
    },
    {
     "name": "stdout",
     "output_type": "stream",
     "text": [
      "modified he_sounds_excited_about_the_new_project\n"
     ]
    },
    {
     "name": "stderr",
     "output_type": "stream",
     "text": [
      "Adding wiktionary links:  42%|████▏     | 355/838 [04:47<04:45,  1.69it/s]"
     ]
    },
    {
     "name": "stdout",
     "output_type": "stream",
     "text": [
      "modified we_need_to_collect_the_data_by_next_week\n"
     ]
    },
    {
     "name": "stderr",
     "output_type": "stream",
     "text": [
      "Adding wiktionary links:  42%|████▏     | 356/838 [04:47<04:55,  1.63it/s]"
     ]
    },
    {
     "name": "stdout",
     "output_type": "stream",
     "text": [
      "modified did_you_hear_that_lovely_bird_song_this_morning\n"
     ]
    },
    {
     "name": "stderr",
     "output_type": "stream",
     "text": [
      "Adding wiktionary links:  43%|████▎     | 357/838 [04:48<04:15,  1.88it/s]"
     ]
    },
    {
     "name": "stdout",
     "output_type": "stream",
     "text": [
      "modified shall_we_build_a_better_future_together\n"
     ]
    },
    {
     "name": "stderr",
     "output_type": "stream",
     "text": [
      "Adding wiktionary links:  43%|████▎     | 358/838 [04:49<04:56,  1.62it/s]"
     ]
    },
    {
     "name": "stdout",
     "output_type": "stream",
     "text": [
      "modified clean_your_room_before_going_out\n"
     ]
    },
    {
     "name": "stderr",
     "output_type": "stream",
     "text": [
      "Adding wiktionary links:  43%|████▎     | 359/838 [04:50<05:44,  1.39it/s]"
     ]
    },
    {
     "name": "stdout",
     "output_type": "stream",
     "text": [
      "modified did_they_enter_the_building_through_the_back_door\n"
     ]
    },
    {
     "name": "stderr",
     "output_type": "stream",
     "text": [
      "Adding wiktionary links:  43%|████▎     | 360/838 [04:50<05:54,  1.35it/s]"
     ]
    },
    {
     "name": "stdout",
     "output_type": "stream",
     "text": [
      "modified be_prepared_the_actual_results_might_be_different\n"
     ]
    },
    {
     "name": "stderr",
     "output_type": "stream",
     "text": [
      "Adding wiktionary links:  43%|████▎     | 361/838 [04:51<04:47,  1.66it/s]"
     ]
    },
    {
     "name": "stdout",
     "output_type": "stream",
     "text": [
      "modified have_you_been_wearing_the_same_shirt_since_then\n",
      "modified they_just_want_a_chance_to_prove_themselves\n"
     ]
    },
    {
     "name": "stderr",
     "output_type": "stream",
     "text": [
      "Adding wiktionary links:  43%|████▎     | 363/838 [04:52<04:36,  1.72it/s]"
     ]
    },
    {
     "name": "stdout",
     "output_type": "stream",
     "text": [
      "modified add_some_spice_to_make_it_taste\n"
     ]
    },
    {
     "name": "stderr",
     "output_type": "stream",
     "text": [
      "Adding wiktionary links:  43%|████▎     | 364/838 [04:53<06:01,  1.31it/s]"
     ]
    },
    {
     "name": "stdout",
     "output_type": "stream",
     "text": [
      "modified dont_forget_to_water_the_plant_or_it_will_die\n"
     ]
    },
    {
     "name": "stderr",
     "output_type": "stream",
     "text": [
      "Adding wiktionary links:  44%|████▎     | 365/838 [04:54<06:26,  1.22it/s]"
     ]
    },
    {
     "name": "stdout",
     "output_type": "stream",
     "text": [
      "modified shall_we_drink_our_coffee_on_the_ground\n"
     ]
    },
    {
     "name": "stderr",
     "output_type": "stream",
     "text": [
      "Adding wiktionary links:  44%|████▎     | 366/838 [04:55<07:09,  1.10it/s]"
     ]
    },
    {
     "name": "stdout",
     "output_type": "stream",
     "text": [
      "modified i_tend_to_forget_peoples_names_its_so_embarrassing\n"
     ]
    },
    {
     "name": "stderr",
     "output_type": "stream",
     "text": [
      "Adding wiktionary links:  44%|████▍     | 368/838 [04:56<04:40,  1.67it/s]"
     ]
    },
    {
     "name": "stdout",
     "output_type": "stream",
     "text": [
      "modified im_planning_to_organize_the_office_party_soon\n",
      "modified lets_sort_this_mess_out_once_and_for_all\n",
      "modified i_feel_sick_after_eating_that_stuff\n"
     ]
    },
    {
     "name": "stderr",
     "output_type": "stream",
     "text": [
      "Adding wiktionary links:  44%|████▍     | 370/838 [04:57<03:58,  1.96it/s]"
     ]
    },
    {
     "name": "stdout",
     "output_type": "stream",
     "text": [
      "modified dont_forget_to_cut_your_hair_before_the_interview\n",
      "modified lets_choose_our_words_more_carefully\n",
      "modified no_one_else_can_do_it_its_yours\n"
     ]
    },
    {
     "name": "stderr",
     "output_type": "stream",
     "text": [
      "Adding wiktionary links:  45%|████▍     | 373/838 [04:57<02:49,  2.74it/s]"
     ]
    },
    {
     "name": "stdout",
     "output_type": "stream",
     "text": [
      "modified did_you_try_to_guess_the_correct_answer\n"
     ]
    },
    {
     "name": "stderr",
     "output_type": "stream",
     "text": [
      "Adding wiktionary links:  45%|████▍     | 374/838 [04:58<02:45,  2.80it/s]"
     ]
    },
    {
     "name": "stdout",
     "output_type": "stream",
     "text": [
      "modified i_cant_handle_this_awful_heat_anymore\n"
     ]
    },
    {
     "name": "stderr",
     "output_type": "stream",
     "text": [
      "Adding wiktionary links:  45%|████▍     | 375/838 [04:58<03:33,  2.17it/s]"
     ]
    },
    {
     "name": "stdout",
     "output_type": "stream",
     "text": [
      "modified did_you_hear_about_the_noise_causing_trouble_in_the_neighborhood\n"
     ]
    },
    {
     "name": "stderr",
     "output_type": "stream",
     "text": [
      "Adding wiktionary links:  45%|████▍     | 376/838 [04:59<03:20,  2.30it/s]"
     ]
    },
    {
     "name": "stdout",
     "output_type": "stream",
     "text": [
      "modified dont_forget_to_pay_the_gas_bill\n"
     ]
    },
    {
     "name": "stderr",
     "output_type": "stream",
     "text": [
      "Adding wiktionary links:  45%|████▍     | 377/838 [05:01<06:14,  1.23it/s]"
     ]
    },
    {
     "name": "stdout",
     "output_type": "stream",
     "text": [
      "modified can_you_lend_me_a_buck_fifty_until_payday\n"
     ]
    },
    {
     "name": "stderr",
     "output_type": "stream",
     "text": [
      "Adding wiktionary links:  45%|████▌     | 378/838 [05:02<06:31,  1.18it/s]"
     ]
    },
    {
     "name": "stdout",
     "output_type": "stream",
     "text": [
      "modified dont_forget_to_charge_your_electric_car_overnight\n",
      "modified press_the_red_button_to_start\n"
     ]
    },
    {
     "name": "stderr",
     "output_type": "stream",
     "text": [
      "Adding wiktionary links:  45%|████▌     | 380/838 [05:02<04:26,  1.72it/s]"
     ]
    },
    {
     "name": "stdout",
     "output_type": "stream",
     "text": [
      "modified i_care_about_the_quality_of_education\n"
     ]
    },
    {
     "name": "stderr",
     "output_type": "stream",
     "text": [
      "Adding wiktionary links:  45%|████▌     | 381/838 [05:03<04:07,  1.85it/s]"
     ]
    },
    {
     "name": "stdout",
     "output_type": "stream",
     "text": [
      "modified knock_on_the_door_before_you_enter\n"
     ]
    },
    {
     "name": "stderr",
     "output_type": "stream",
     "text": [
      "Adding wiktionary links:  46%|████▌     | 382/838 [05:04<04:55,  1.54it/s]"
     ]
    },
    {
     "name": "stdout",
     "output_type": "stream",
     "text": [
      "modified when_did_you_arrive_at_the_airport\n",
      "modified the_meeting_starts_at_half_past\n"
     ]
    },
    {
     "name": "stderr",
     "output_type": "stream",
     "text": [
      "Adding wiktionary links:  46%|████▌     | 384/838 [05:05<05:19,  1.42it/s]"
     ]
    },
    {
     "name": "stdout",
     "output_type": "stream",
     "text": [
      "modified shes_trying_to_break_her_bad_habits\n"
     ]
    },
    {
     "name": "stderr",
     "output_type": "stream",
     "text": [
      "Adding wiktionary links:  46%|████▌     | 385/838 [05:06<05:21,  1.41it/s]"
     ]
    },
    {
     "name": "stdout",
     "output_type": "stream",
     "text": [
      "modified this_noise_is_keeping_me_awake\n",
      "modified what_happened_to_your_old_car\n"
     ]
    },
    {
     "name": "stderr",
     "output_type": "stream",
     "text": [
      "Adding wiktionary links:  46%|████▌     | 387/838 [05:06<03:58,  1.89it/s]"
     ]
    },
    {
     "name": "stdout",
     "output_type": "stream",
     "text": [
      "modified im_trying_to_stick_to_my_diet_plan\n"
     ]
    },
    {
     "name": "stderr",
     "output_type": "stream",
     "text": [
      "Adding wiktionary links:  46%|████▋     | 388/838 [05:07<04:31,  1.66it/s]"
     ]
    },
    {
     "name": "stdout",
     "output_type": "stream",
     "text": [
      "modified ill_keep_bothering_you_until_you_agree\n"
     ]
    },
    {
     "name": "stderr",
     "output_type": "stream",
     "text": [
      "Adding wiktionary links:  46%|████▋     | 389/838 [05:08<04:06,  1.82it/s]"
     ]
    },
    {
     "name": "stdout",
     "output_type": "stream",
     "text": [
      "modified do_you_think_shell_start_her_speech_with_a_joke\n"
     ]
    },
    {
     "name": "stderr",
     "output_type": "stream",
     "text": [
      "Adding wiktionary links:  47%|████▋     | 390/838 [05:09<05:07,  1.46it/s]"
     ]
    },
    {
     "name": "stdout",
     "output_type": "stream",
     "text": [
      "modified i_run_a_mile_every_morning_before_work\n",
      "modified i_learned_to_sing_in_front_of_everybody\n"
     ]
    },
    {
     "name": "stderr",
     "output_type": "stream",
     "text": [
      "Adding wiktionary links:  47%|████▋     | 392/838 [05:09<03:50,  1.94it/s]"
     ]
    },
    {
     "name": "stdout",
     "output_type": "stream",
     "text": [
      "modified im_graduating_from_college_next_term\n"
     ]
    },
    {
     "name": "stderr",
     "output_type": "stream",
     "text": [
      "Adding wiktionary links:  47%|████▋     | 393/838 [05:09<03:25,  2.17it/s]"
     ]
    },
    {
     "name": "stdout",
     "output_type": "stream",
     "text": [
      "modified i_knocked_on_the_wrong_door\n"
     ]
    },
    {
     "name": "stderr",
     "output_type": "stream",
     "text": [
      "Adding wiktionary links:  47%|████▋     | 394/838 [05:10<03:59,  1.85it/s]"
     ]
    },
    {
     "name": "stdout",
     "output_type": "stream",
     "text": [
      "modified im_graduating_from_university_next_year\n",
      "modified i_suppose_we_could_try_it_your_way\n"
     ]
    },
    {
     "name": "stderr",
     "output_type": "stream",
     "text": [
      "Adding wiktionary links:  47%|████▋     | 396/838 [05:11<03:42,  1.98it/s]"
     ]
    },
    {
     "name": "stdout",
     "output_type": "stream",
     "text": [
      "modified i_based_my_decision_on_previous_experience\n"
     ]
    },
    {
     "name": "stderr",
     "output_type": "stream",
     "text": [
      "Adding wiktionary links:  47%|████▋     | 397/838 [05:13<05:56,  1.24it/s]"
     ]
    },
    {
     "name": "stdout",
     "output_type": "stream",
     "text": [
      "modified im_just_killing_time_reading_these_books_about_nature\n"
     ]
    },
    {
     "name": "stderr",
     "output_type": "stream",
     "text": [
      "Adding wiktionary links:  47%|████▋     | 398/838 [05:15<07:16,  1.01it/s]"
     ]
    },
    {
     "name": "stdout",
     "output_type": "stream",
     "text": [
      "modified have_you_noticed_how_many_more_participants_there_are_now\n",
      "modified could_you_clear_the_table_after_dinner\n"
     ]
    },
    {
     "name": "stderr",
     "output_type": "stream",
     "text": [
      "Adding wiktionary links:  48%|████▊     | 400/838 [05:17<08:23,  1.15s/it]"
     ]
    },
    {
     "name": "stdout",
     "output_type": "stream",
     "text": [
      "modified then_again_anything_is_possible_these_days_right\n"
     ]
    },
    {
     "name": "stderr",
     "output_type": "stream",
     "text": [
      "Adding wiktionary links:  48%|████▊     | 401/838 [05:18<07:52,  1.08s/it]"
     ]
    },
    {
     "name": "stdout",
     "output_type": "stream",
     "text": [
      "modified change_your_shirt_before_the_important_meeting\n"
     ]
    },
    {
     "name": "stderr",
     "output_type": "stream",
     "text": [
      "Adding wiktionary links:  48%|████▊     | 402/838 [05:19<07:14,  1.00it/s]"
     ]
    },
    {
     "name": "stdout",
     "output_type": "stream",
     "text": [
      "modified dont_forget_to_pay_the_bills_on_time\n"
     ]
    },
    {
     "name": "stderr",
     "output_type": "stream",
     "text": [
      "Adding wiktionary links:  48%|████▊     | 403/838 [05:20<06:50,  1.06it/s]"
     ]
    },
    {
     "name": "stdout",
     "output_type": "stream",
     "text": [
      "modified im_preparing_a_delicious_meal_for_my_family\n",
      "modified hes_trying_to_learn_french\n",
      "modified theyre_keeping_the_matter_private\n"
     ]
    },
    {
     "name": "stderr",
     "output_type": "stream",
     "text": [
      "Adding wiktionary links:  48%|████▊     | 406/838 [05:21<04:34,  1.57it/s]"
     ]
    },
    {
     "name": "stdout",
     "output_type": "stream",
     "text": [
      "modified please_arrive_by_noon\n"
     ]
    },
    {
     "name": "stderr",
     "output_type": "stream",
     "text": [
      "Adding wiktionary links:  49%|████▊     | 407/838 [05:22<05:45,  1.25it/s]"
     ]
    },
    {
     "name": "stdout",
     "output_type": "stream",
     "text": [
      "modified think_carefully_before_making_your_final_decision\n",
      "modified dont_forget_to_be_on_time\n"
     ]
    },
    {
     "name": "stderr",
     "output_type": "stream",
     "text": [
      "Adding wiktionary links:  49%|████▉     | 409/838 [05:24<05:21,  1.33it/s]"
     ]
    },
    {
     "name": "stdout",
     "output_type": "stream",
     "text": [
      "modified this_trip_is_going_to_cost_us_a_pretty_penny\n"
     ]
    },
    {
     "name": "stderr",
     "output_type": "stream",
     "text": [
      "Adding wiktionary links:  49%|████▉     | 410/838 [05:25<06:19,  1.13it/s]"
     ]
    },
    {
     "name": "stdout",
     "output_type": "stream",
     "text": [
      "modified our_waiter_is_so_friendly_serving_us_with_a_smile\n"
     ]
    },
    {
     "name": "stderr",
     "output_type": "stream",
     "text": [
      "Adding wiktionary links:  49%|████▉     | 411/838 [05:26<05:58,  1.19it/s]"
     ]
    },
    {
     "name": "stdout",
     "output_type": "stream",
     "text": [
      "modified dont_worry_about_the_small_stuff_honey\n"
     ]
    },
    {
     "name": "stderr",
     "output_type": "stream",
     "text": [
      "Adding wiktionary links:  49%|████▉     | 412/838 [05:26<05:36,  1.27it/s]"
     ]
    },
    {
     "name": "stdout",
     "output_type": "stream",
     "text": [
      "modified keep_your_eyes_on_the_road_ahead\n"
     ]
    },
    {
     "name": "stderr",
     "output_type": "stream",
     "text": [
      "Adding wiktionary links:  49%|████▉     | 413/838 [05:27<04:55,  1.44it/s]"
     ]
    },
    {
     "name": "stdout",
     "output_type": "stream",
     "text": [
      "modified do_you_think_the_product_is_entirely_safe\n"
     ]
    },
    {
     "name": "stderr",
     "output_type": "stream",
     "text": [
      "Adding wiktionary links:  49%|████▉     | 414/838 [05:28<05:40,  1.25it/s]"
     ]
    },
    {
     "name": "stdout",
     "output_type": "stream",
     "text": [
      "modified i_wonder_if_that_rumor_is_true\n"
     ]
    },
    {
     "name": "stderr",
     "output_type": "stream",
     "text": [
      "Adding wiktionary links:  50%|████▉     | 415/838 [05:29<07:02,  1.00it/s]"
     ]
    },
    {
     "name": "stdout",
     "output_type": "stream",
     "text": [
      "modified im_teaching_english_to_foreign_students\n"
     ]
    },
    {
     "name": "stderr",
     "output_type": "stream",
     "text": [
      "Adding wiktionary links:  50%|████▉     | 416/838 [05:31<07:35,  1.08s/it]"
     ]
    },
    {
     "name": "stdout",
     "output_type": "stream",
     "text": [
      "modified look_how_the_suns_clearing_away_the_morning_fog\n"
     ]
    },
    {
     "name": "stderr",
     "output_type": "stream",
     "text": [
      "Adding wiktionary links:  50%|████▉     | 417/838 [05:31<07:11,  1.02s/it]"
     ]
    },
    {
     "name": "stdout",
     "output_type": "stream",
     "text": [
      "modified send_the_application_as_soon_as_possible\n"
     ]
    },
    {
     "name": "stderr",
     "output_type": "stream",
     "text": [
      "Adding wiktionary links:  50%|████▉     | 418/838 [05:32<06:31,  1.07it/s]"
     ]
    },
    {
     "name": "stdout",
     "output_type": "stream",
     "text": [
      "modified does_it_really_matter_in_the_long_run\n"
     ]
    },
    {
     "name": "stderr",
     "output_type": "stream",
     "text": [
      "Adding wiktionary links:  50%|█████     | 419/838 [05:33<07:06,  1.02s/it]"
     ]
    },
    {
     "name": "stdout",
     "output_type": "stream",
     "text": [
      "modified did_you_see_the_blue_chair_fall_across_the_large_room\n"
     ]
    },
    {
     "name": "stderr",
     "output_type": "stream",
     "text": [
      "Adding wiktionary links:  50%|█████     | 420/838 [05:35<08:18,  1.19s/it]"
     ]
    },
    {
     "name": "stdout",
     "output_type": "stream",
     "text": [
      "modified watch_the_ball_roll_down_the_hill\n",
      "modified we_still_havent_resolved_this_issue\n"
     ]
    },
    {
     "name": "stderr",
     "output_type": "stream",
     "text": [
      "Adding wiktionary links:  50%|█████     | 422/838 [05:35<05:02,  1.38it/s]"
     ]
    },
    {
     "name": "stdout",
     "output_type": "stream",
     "text": [
      "modified do_you_agree_with_the_new_company_policy\n",
      "modified nobody_got_hurt_in_the_accident_just_the_car\n"
     ]
    },
    {
     "name": "stderr",
     "output_type": "stream",
     "text": [
      "Adding wiktionary links:  51%|█████     | 424/838 [05:38<06:39,  1.04it/s]"
     ]
    },
    {
     "name": "stdout",
     "output_type": "stream",
     "text": [
      "modified only_a_single_line_separates_success_from_failure\n"
     ]
    },
    {
     "name": "stderr",
     "output_type": "stream",
     "text": [
      "Adding wiktionary links:  51%|█████     | 425/838 [05:39<06:48,  1.01it/s]"
     ]
    },
    {
     "name": "stdout",
     "output_type": "stream",
     "text": [
      "modified isnt_it_surprising_how_the_movement_has_gained_momentum\n"
     ]
    },
    {
     "name": "stderr",
     "output_type": "stream",
     "text": [
      "Adding wiktionary links:  51%|█████     | 426/838 [05:40<06:13,  1.10it/s]"
     ]
    },
    {
     "name": "stdout",
     "output_type": "stream",
     "text": [
      "modified do_you_know_what_factors_affect_our_success_rate\n"
     ]
    },
    {
     "name": "stderr",
     "output_type": "stream",
     "text": [
      "Adding wiktionary links:  51%|█████     | 427/838 [05:42<07:51,  1.15s/it]"
     ]
    },
    {
     "name": "stdout",
     "output_type": "stream",
     "text": [
      "modified dont_you_think_the_character_is_welldeveloped\n"
     ]
    },
    {
     "name": "stderr",
     "output_type": "stream",
     "text": [
      "Adding wiktionary links:  51%|█████     | 428/838 [05:42<06:32,  1.04it/s]"
     ]
    },
    {
     "name": "stdout",
     "output_type": "stream",
     "text": [
      "modified we_need_to_raise_awareness_about_this\n"
     ]
    },
    {
     "name": "stderr",
     "output_type": "stream",
     "text": [
      "Adding wiktionary links:  51%|█████     | 429/838 [05:43<07:02,  1.03s/it]"
     ]
    },
    {
     "name": "stdout",
     "output_type": "stream",
     "text": [
      "modified could_you_fill_in_this_form_with_your_personal_details\n"
     ]
    },
    {
     "name": "stderr",
     "output_type": "stream",
     "text": [
      "Adding wiktionary links:  51%|█████▏    | 430/838 [05:44<06:14,  1.09it/s]"
     ]
    },
    {
     "name": "stdout",
     "output_type": "stream",
     "text": [
      "modified do_you_understand_the_main_idea_here\n"
     ]
    },
    {
     "name": "stderr",
     "output_type": "stream",
     "text": [
      "Adding wiktionary links:  51%|█████▏    | 431/838 [05:44<05:25,  1.25it/s]"
     ]
    },
    {
     "name": "stdout",
     "output_type": "stream",
     "text": [
      "modified did_you_see_that_shooting_star\n"
     ]
    },
    {
     "name": "stderr",
     "output_type": "stream",
     "text": [
      "Adding wiktionary links:  52%|█████▏    | 432/838 [05:45<05:31,  1.23it/s]"
     ]
    },
    {
     "name": "stdout",
     "output_type": "stream",
     "text": [
      "modified dont_forget_to_set_your_alarm_for_six\n"
     ]
    },
    {
     "name": "stderr",
     "output_type": "stream",
     "text": [
      "Adding wiktionary links:  52%|█████▏    | 433/838 [05:47<07:27,  1.10s/it]"
     ]
    },
    {
     "name": "stdout",
     "output_type": "stream",
     "text": [
      "modified that_young_girl_is_determined_to_succeed\n"
     ]
    },
    {
     "name": "stderr",
     "output_type": "stream",
     "text": [
      "Adding wiktionary links:  52%|█████▏    | 434/838 [05:48<06:53,  1.02s/it]"
     ]
    },
    {
     "name": "stdout",
     "output_type": "stream",
     "text": [
      "modified did_you_hear_theyre_shutting_down_the_factory_next_month\n"
     ]
    },
    {
     "name": "stderr",
     "output_type": "stream",
     "text": [
      "Adding wiktionary links:  52%|█████▏    | 435/838 [05:49<07:56,  1.18s/it]"
     ]
    },
    {
     "name": "stdout",
     "output_type": "stream",
     "text": [
      "modified does_this_example_help_clarify_things\n"
     ]
    },
    {
     "name": "stderr",
     "output_type": "stream",
     "text": [
      "Adding wiktionary links:  52%|█████▏    | 436/838 [05:50<06:23,  1.05it/s]"
     ]
    },
    {
     "name": "stdout",
     "output_type": "stream",
     "text": [
      "modified do_you_think_theyll_reach_an_agreement_soon\n"
     ]
    },
    {
     "name": "stderr",
     "output_type": "stream",
     "text": [
      "Adding wiktionary links:  52%|█████▏    | 437/838 [05:50<05:09,  1.30it/s]"
     ]
    },
    {
     "name": "stdout",
     "output_type": "stream",
     "text": [
      "modified do_you_think_theyll_reach_their_goals_soon\n",
      "modified lets_not_worry_so_much_about_small_things\n",
      "modified we_need_to_cut_back_on_spending_this_month\n"
     ]
    },
    {
     "name": "stderr",
     "output_type": "stream",
     "text": [
      "Adding wiktionary links:  53%|█████▎    | 440/838 [05:51<02:58,  2.23it/s]"
     ]
    },
    {
     "name": "stdout",
     "output_type": "stream",
     "text": [
      "modified did_they_really_see_a_ufo\n"
     ]
    },
    {
     "name": "stderr",
     "output_type": "stream",
     "text": [
      "Adding wiktionary links:  53%|█████▎    | 443/838 [05:51<01:53,  3.48it/s]"
     ]
    },
    {
     "name": "stdout",
     "output_type": "stream",
     "text": [
      "modified dont_you_think_they_worry_too_much_about_small_things\n",
      "modified i_hope_to_graduate_from_college_soon\n",
      "modified just_follow_the_instructions_step_by_step\n"
     ]
    },
    {
     "name": "stderr",
     "output_type": "stream",
     "text": [
      "Adding wiktionary links:  53%|█████▎    | 444/838 [05:53<04:10,  1.57it/s]"
     ]
    },
    {
     "name": "stdout",
     "output_type": "stream",
     "text": [
      "modified the_coffee_at_the_national_park_was_excellent\n"
     ]
    },
    {
     "name": "stderr",
     "output_type": "stream",
     "text": [
      "Adding wiktionary links:  53%|█████▎    | 445/838 [05:54<04:41,  1.40it/s]"
     ]
    },
    {
     "name": "stdout",
     "output_type": "stream",
     "text": [
      "modified speak_clearly_when_you_give_directions\n"
     ]
    },
    {
     "name": "stderr",
     "output_type": "stream",
     "text": [
      "Adding wiktionary links:  53%|█████▎    | 446/838 [05:55<04:28,  1.46it/s]"
     ]
    },
    {
     "name": "stdout",
     "output_type": "stream",
     "text": [
      "modified listen_to_the_wonderful_sound_of_nature\n"
     ]
    },
    {
     "name": "stderr",
     "output_type": "stream",
     "text": [
      "Adding wiktionary links:  53%|█████▎    | 447/838 [05:55<04:20,  1.50it/s]"
     ]
    },
    {
     "name": "stdout",
     "output_type": "stream",
     "text": [
      "modified did_you_get_a_fair_deal_on_your_car\n"
     ]
    },
    {
     "name": "stderr",
     "output_type": "stream",
     "text": [
      "Adding wiktionary links:  53%|█████▎    | 448/838 [05:56<04:30,  1.44it/s]"
     ]
    },
    {
     "name": "stdout",
     "output_type": "stream",
     "text": [
      "modified stay_aware_of_your_surroundings_at_night\n"
     ]
    },
    {
     "name": "stderr",
     "output_type": "stream",
     "text": [
      "Adding wiktionary links:  54%|█████▎    | 449/838 [05:57<05:17,  1.22it/s]"
     ]
    },
    {
     "name": "stdout",
     "output_type": "stream",
     "text": [
      "modified drive_carefully_on_your_way_home_dear\n"
     ]
    },
    {
     "name": "stderr",
     "output_type": "stream",
     "text": [
      "Adding wiktionary links:  54%|█████▎    | 450/838 [05:58<04:50,  1.34it/s]"
     ]
    },
    {
     "name": "stdout",
     "output_type": "stream",
     "text": [
      "modified dont_tell_anyone_about_this_its_absolutely_secret\n"
     ]
    },
    {
     "name": "stderr",
     "output_type": "stream",
     "text": [
      "Adding wiktionary links:  54%|█████▍    | 451/838 [05:58<04:25,  1.46it/s]"
     ]
    },
    {
     "name": "stdout",
     "output_type": "stream",
     "text": [
      "modified lay_the_clothes_on_the_bed_please\n"
     ]
    },
    {
     "name": "stderr",
     "output_type": "stream",
     "text": [
      "Adding wiktionary links:  54%|█████▍    | 452/838 [06:00<06:29,  1.01s/it]"
     ]
    },
    {
     "name": "stdout",
     "output_type": "stream",
     "text": [
      "modified suddenly_it_all_became_clear_as_day\n"
     ]
    },
    {
     "name": "stderr",
     "output_type": "stream",
     "text": [
      "Adding wiktionary links:  54%|█████▍    | 453/838 [06:01<07:03,  1.10s/it]"
     ]
    },
    {
     "name": "stdout",
     "output_type": "stream",
     "text": [
      "modified pull_the_car_over_safely\n"
     ]
    },
    {
     "name": "stderr",
     "output_type": "stream",
     "text": [
      "Adding wiktionary links:  54%|█████▍    | 454/838 [06:02<06:54,  1.08s/it]"
     ]
    },
    {
     "name": "stdout",
     "output_type": "stream",
     "text": [
      "modified i_want_to_continue_my_studies_abroad\n"
     ]
    },
    {
     "name": "stderr",
     "output_type": "stream",
     "text": [
      "Adding wiktionary links:  54%|█████▍    | 455/838 [06:04<07:21,  1.15s/it]"
     ]
    },
    {
     "name": "stdout",
     "output_type": "stream",
     "text": [
      "modified it_might_rain_later_bring_an_umbrella\n"
     ]
    },
    {
     "name": "stderr",
     "output_type": "stream",
     "text": [
      "Adding wiktionary links:  54%|█████▍    | 456/838 [06:05<07:54,  1.24s/it]"
     ]
    },
    {
     "name": "stdout",
     "output_type": "stream",
     "text": [
      "modified dont_forget_to_round_up_the_cost_to_the_nearest_cent\n"
     ]
    },
    {
     "name": "stderr",
     "output_type": "stream",
     "text": [
      "Adding wiktionary links:  55%|█████▍    | 457/838 [06:06<06:11,  1.02it/s]"
     ]
    },
    {
     "name": "stdout",
     "output_type": "stream",
     "text": [
      "modified should_we_order_takeout_for_dinner_tonight\n"
     ]
    },
    {
     "name": "stderr",
     "output_type": "stream",
     "text": [
      "Adding wiktionary links:  55%|█████▍    | 458/838 [06:07<06:36,  1.04s/it]"
     ]
    },
    {
     "name": "stdout",
     "output_type": "stream",
     "text": [
      "modified lets_dive_into_the_pool_to_cool_off\n"
     ]
    },
    {
     "name": "stderr",
     "output_type": "stream",
     "text": [
      "Adding wiktionary links:  55%|█████▍    | 459/838 [06:08<06:39,  1.05s/it]"
     ]
    },
    {
     "name": "stdout",
     "output_type": "stream",
     "text": [
      "modified stop_wasting_time_on_this\n"
     ]
    },
    {
     "name": "stderr",
     "output_type": "stream",
     "text": [
      "Adding wiktionary links:  55%|█████▍    | 460/838 [06:08<05:25,  1.16it/s]"
     ]
    },
    {
     "name": "stdout",
     "output_type": "stream",
     "text": [
      "modified the_meeting_ends_at_noon\n",
      "modified lets_stop_worrying_about_small_things\n"
     ]
    },
    {
     "name": "stderr",
     "output_type": "stream",
     "text": [
      "Adding wiktionary links:  55%|█████▌    | 462/838 [06:09<03:59,  1.57it/s]"
     ]
    },
    {
     "name": "stdout",
     "output_type": "stream",
     "text": [
      "modified we_have_to_pass_this_exam_to_graduate\n"
     ]
    },
    {
     "name": "stderr",
     "output_type": "stream",
     "text": [
      "Adding wiktionary links:  55%|█████▌    | 463/838 [06:10<04:13,  1.48it/s]"
     ]
    },
    {
     "name": "stdout",
     "output_type": "stream",
     "text": [
      "modified the_car_stops_at_the_next_station\n",
      "modified do_you_think_well_get_a_response_by_tomorrow\n",
      "modified lets_stop_wasting_time_on_this\n"
     ]
    },
    {
     "name": "stderr",
     "output_type": "stream",
     "text": [
      "Adding wiktionary links:  56%|█████▌    | 466/838 [06:11<03:11,  1.94it/s]"
     ]
    },
    {
     "name": "stdout",
     "output_type": "stream",
     "text": [
      "modified look_at_that_beautiful_sunset_over_there\n",
      "modified the_rain_should_stop_soon\n"
     ]
    },
    {
     "name": "stderr",
     "output_type": "stream",
     "text": [
      "Adding wiktionary links:  56%|█████▌    | 468/838 [06:12<03:03,  2.02it/s]"
     ]
    },
    {
     "name": "stdout",
     "output_type": "stream",
     "text": [
      "modified shall_we_pick_some_flowers_from_the_garden\n",
      "modified would_you_mind_closing_the_window_please\n"
     ]
    },
    {
     "name": "stderr",
     "output_type": "stream",
     "text": [
      "Adding wiktionary links:  56%|█████▌    | 470/838 [06:13<02:49,  2.18it/s]"
     ]
    },
    {
     "name": "stdout",
     "output_type": "stream",
     "text": [
      "modified stop_trying_to_carry_the_weight_of_the_world\n",
      "modified we_have_to_reach_an_agreement_by_tomorrow\n",
      "modified theyre_shutting_the_shop_early_today\n"
     ]
    },
    {
     "name": "stderr",
     "output_type": "stream",
     "text": [
      "Adding wiktionary links:  56%|█████▋    | 473/838 [06:15<03:50,  1.58it/s]"
     ]
    },
    {
     "name": "stdout",
     "output_type": "stream",
     "text": [
      "modified remember_honesty_is_the_best_policy\n"
     ]
    },
    {
     "name": "stderr",
     "output_type": "stream",
     "text": [
      "Adding wiktionary links:  57%|█████▋    | 474/838 [06:18<05:44,  1.06it/s]"
     ]
    },
    {
     "name": "stdout",
     "output_type": "stream",
     "text": [
      "modified remember_when_we_met_at_the_coffee_shop_last_week\n"
     ]
    },
    {
     "name": "stderr",
     "output_type": "stream",
     "text": [
      "Adding wiktionary links:  57%|█████▋    | 475/838 [06:19<06:28,  1.07s/it]"
     ]
    },
    {
     "name": "stdout",
     "output_type": "stream",
     "text": [
      "modified ill_get_back_to_your_email_as_soon_as_i_can\n"
     ]
    },
    {
     "name": "stderr",
     "output_type": "stream",
     "text": [
      "Adding wiktionary links:  57%|█████▋    | 476/838 [06:20<05:28,  1.10it/s]"
     ]
    },
    {
     "name": "stdout",
     "output_type": "stream",
     "text": [
      "modified are_you_coming_to_the_party_next_weekend\n"
     ]
    },
    {
     "name": "stderr",
     "output_type": "stream",
     "text": [
      "Adding wiktionary links:  57%|█████▋    | 477/838 [06:20<04:46,  1.26it/s]"
     ]
    },
    {
     "name": "stdout",
     "output_type": "stream",
     "text": [
      "modified lets_compare_the_prices_of_different_cars\n"
     ]
    },
    {
     "name": "stderr",
     "output_type": "stream",
     "text": [
      "Adding wiktionary links:  57%|█████▋    | 478/838 [06:21<04:30,  1.33it/s]"
     ]
    },
    {
     "name": "stdout",
     "output_type": "stream",
     "text": [
      "modified dont_lose_hope_better_days_are_ahead\n"
     ]
    },
    {
     "name": "stderr",
     "output_type": "stream",
     "text": [
      "Adding wiktionary links:  57%|█████▋    | 479/838 [06:22<04:36,  1.30it/s]"
     ]
    },
    {
     "name": "stdout",
     "output_type": "stream",
     "text": [
      "modified you_should_have_realized_your_mistake_earlier\n"
     ]
    },
    {
     "name": "stderr",
     "output_type": "stream",
     "text": [
      "Adding wiktionary links:  57%|█████▋    | 480/838 [06:23<05:19,  1.12it/s]"
     ]
    },
    {
     "name": "stdout",
     "output_type": "stream",
     "text": [
      "modified im_writing_a_letter_to_my_local_minister\n"
     ]
    },
    {
     "name": "stderr",
     "output_type": "stream",
     "text": [
      "Adding wiktionary links:  57%|█████▋    | 481/838 [06:24<05:46,  1.03it/s]"
     ]
    },
    {
     "name": "stdout",
     "output_type": "stream",
     "text": [
      "modified ive_never_seen_anything_like_this\n"
     ]
    },
    {
     "name": "stderr",
     "output_type": "stream",
     "text": [
      "Adding wiktionary links:  58%|█████▊    | 482/838 [06:24<04:52,  1.22it/s]"
     ]
    },
    {
     "name": "stdout",
     "output_type": "stream",
     "text": [
      "modified do_you_think_shell_become_a_famous_artist_one_day\n"
     ]
    },
    {
     "name": "stderr",
     "output_type": "stream",
     "text": [
      "Adding wiktionary links:  58%|█████▊    | 483/838 [06:25<04:23,  1.35it/s]"
     ]
    },
    {
     "name": "stdout",
     "output_type": "stream",
     "text": [
      "modified i_was_born_in_a_small_fishing_village\n"
     ]
    },
    {
     "name": "stderr",
     "output_type": "stream",
     "text": [
      "Adding wiktionary links:  58%|█████▊    | 484/838 [06:26<04:18,  1.37it/s]"
     ]
    },
    {
     "name": "stdout",
     "output_type": "stream",
     "text": [
      "modified shes_writing_a_letter_to_the_local_newspaper\n"
     ]
    },
    {
     "name": "stderr",
     "output_type": "stream",
     "text": [
      "Adding wiktionary links:  58%|█████▊    | 485/838 [06:27<05:11,  1.13it/s]"
     ]
    },
    {
     "name": "stdout",
     "output_type": "stream",
     "text": [
      "modified we_shared_our_food_with_the_homeless_guy\n"
     ]
    },
    {
     "name": "stderr",
     "output_type": "stream",
     "text": [
      "Adding wiktionary links:  58%|█████▊    | 486/838 [06:29<06:25,  1.09s/it]"
     ]
    },
    {
     "name": "stdout",
     "output_type": "stream",
     "text": [
      "modified look_the_eagles_diving_for_its_prey\n"
     ]
    },
    {
     "name": "stderr",
     "output_type": "stream",
     "text": [
      "Adding wiktionary links:  58%|█████▊    | 487/838 [06:30<07:29,  1.28s/it]"
     ]
    },
    {
     "name": "stdout",
     "output_type": "stream",
     "text": [
      "modified they_play_football_every_sunday_afternoon\n"
     ]
    },
    {
     "name": "stderr",
     "output_type": "stream",
     "text": [
      "Adding wiktionary links:  58%|█████▊    | 488/838 [06:31<05:40,  1.03it/s]"
     ]
    },
    {
     "name": "stdout",
     "output_type": "stream",
     "text": [
      "modified which_job_offer_should_i_choose\n"
     ]
    },
    {
     "name": "stderr",
     "output_type": "stream",
     "text": [
      "Adding wiktionary links:  58%|█████▊    | 489/838 [06:31<04:38,  1.25it/s]"
     ]
    },
    {
     "name": "stdout",
     "output_type": "stream",
     "text": [
      "modified theyre_laying_the_foundation_for_a_new_hospital\n"
     ]
    },
    {
     "name": "stderr",
     "output_type": "stream",
     "text": [
      "Adding wiktionary links:  58%|█████▊    | 490/838 [06:32<05:21,  1.08it/s]"
     ]
    },
    {
     "name": "stdout",
     "output_type": "stream",
     "text": [
      "modified of_course_theres_always_room_for_improvement_right\n"
     ]
    },
    {
     "name": "stderr",
     "output_type": "stream",
     "text": [
      "Adding wiktionary links:  59%|█████▊    | 491/838 [06:32<04:11,  1.38it/s]"
     ]
    },
    {
     "name": "stdout",
     "output_type": "stream",
     "text": [
      "modified do_you_think_we_can_control_the_situation\n"
     ]
    },
    {
     "name": "stderr",
     "output_type": "stream",
     "text": [
      "Adding wiktionary links:  59%|█████▊    | 492/838 [06:33<04:16,  1.35it/s]"
     ]
    },
    {
     "name": "stdout",
     "output_type": "stream",
     "text": [
      "modified can_you_hang_the_wet_clothes_out_to_dry\n"
     ]
    },
    {
     "name": "stderr",
     "output_type": "stream",
     "text": [
      "Adding wiktionary links:  59%|█████▉    | 493/838 [06:35<05:23,  1.07it/s]"
     ]
    },
    {
     "name": "stdout",
     "output_type": "stream",
     "text": [
      "modified should_we_rethink_our_initial_plan_everyone\n"
     ]
    },
    {
     "name": "stderr",
     "output_type": "stream",
     "text": [
      "Adding wiktionary links:  59%|█████▉    | 494/838 [06:35<05:00,  1.14it/s]"
     ]
    },
    {
     "name": "stdout",
     "output_type": "stream",
     "text": [
      "modified wait_for_me_at_the_bus_stop\n"
     ]
    },
    {
     "name": "stderr",
     "output_type": "stream",
     "text": [
      "Adding wiktionary links:  59%|█████▉    | 495/838 [06:36<04:53,  1.17it/s]"
     ]
    },
    {
     "name": "stdout",
     "output_type": "stream",
     "text": [
      "modified show_more_respect_to_elders\n"
     ]
    },
    {
     "name": "stderr",
     "output_type": "stream",
     "text": [
      "Adding wiktionary links:  59%|█████▉    | 496/838 [06:36<04:02,  1.41it/s]"
     ]
    },
    {
     "name": "stdout",
     "output_type": "stream",
     "text": [
      "modified i_should_have_chosen_a_different_career_path\n",
      "modified ill_start_the_car_and_drive_home\n"
     ]
    },
    {
     "name": "stderr",
     "output_type": "stream",
     "text": [
      "Adding wiktionary links:  59%|█████▉    | 498/838 [06:37<03:14,  1.75it/s]"
     ]
    },
    {
     "name": "stdout",
     "output_type": "stream",
     "text": [
      "modified did_you_see_his_funny_hat_at_the_party\n"
     ]
    },
    {
     "name": "stderr",
     "output_type": "stream",
     "text": [
      "Adding wiktionary links:  60%|█████▉    | 499/838 [06:38<03:15,  1.73it/s]"
     ]
    },
    {
     "name": "stdout",
     "output_type": "stream",
     "text": [
      "modified did_you_hear_about_the_accident_on_the_busy_street_corner\n"
     ]
    },
    {
     "name": "stderr",
     "output_type": "stream",
     "text": [
      "Adding wiktionary links:  60%|█████▉    | 500/838 [06:38<03:06,  1.81it/s]"
     ]
    },
    {
     "name": "stdout",
     "output_type": "stream",
     "text": [
      "modified we_brought_cake_to_the_party\n"
     ]
    },
    {
     "name": "stderr",
     "output_type": "stream",
     "text": [
      "Adding wiktionary links:  60%|█████▉    | 501/838 [06:39<03:12,  1.75it/s]"
     ]
    },
    {
     "name": "stdout",
     "output_type": "stream",
     "text": [
      "modified did_you_hear_about_the_accident_on_the_busy_street\n",
      "modified lets_throw_a_surprise_party_for_mom\n",
      "modified ill_answer_your_questions_soon\n",
      "modified what_did_you_say_to_him_yesterday\n"
     ]
    },
    {
     "name": "stderr",
     "output_type": "stream",
     "text": [
      "Adding wiktionary links:  60%|██████    | 505/838 [06:40<01:57,  2.82it/s]"
     ]
    },
    {
     "name": "stdout",
     "output_type": "stream",
     "text": [
      "modified drive_carefully_on_the_icy_roads\n"
     ]
    },
    {
     "name": "stderr",
     "output_type": "stream",
     "text": [
      "Adding wiktionary links:  60%|██████    | 506/838 [06:40<02:14,  2.47it/s]"
     ]
    },
    {
     "name": "stdout",
     "output_type": "stream",
     "text": [
      "modified have_you_heard_they_joined_the_football_team_yesterday\n",
      "modified the_traffic_will_be_terrible_for_drivers_during_the_holiday\n",
      "modified are_they_hoping_to_graduate_with_honors_next_year\n"
     ]
    },
    {
     "name": "stderr",
     "output_type": "stream",
     "text": [
      "Adding wiktionary links:  61%|██████    | 509/838 [06:41<01:31,  3.61it/s]"
     ]
    },
    {
     "name": "stdout",
     "output_type": "stream",
     "text": [
      "modified send_the_package_as_soon_as_possible\n",
      "modified he_paid_a_high_price_for_his_mistake\n",
      "modified should_we_take_a_different_route\n"
     ]
    },
    {
     "name": "stderr",
     "output_type": "stream",
     "text": [
      "Adding wiktionary links:  61%|██████    | 512/838 [06:41<01:20,  4.07it/s]"
     ]
    },
    {
     "name": "stdout",
     "output_type": "stream",
     "text": [
      "modified we_wish_you_the_best_of_luck\n",
      "modified hes_picking_up_the_kids_from_school\n",
      "modified just_say_what_you_mean\n"
     ]
    },
    {
     "name": "stderr",
     "output_type": "stream",
     "text": [
      "Adding wiktionary links:  61%|██████▏   | 515/838 [06:42<01:15,  4.26it/s]"
     ]
    },
    {
     "name": "stdout",
     "output_type": "stream",
     "text": [
      "modified thank_goodness_nobody_was_hurt_in_the_accident\n"
     ]
    },
    {
     "name": "stderr",
     "output_type": "stream",
     "text": [
      "Adding wiktionary links:  62%|██████▏   | 516/838 [06:43<01:26,  3.72it/s]"
     ]
    },
    {
     "name": "stdout",
     "output_type": "stream",
     "text": [
      "modified are_you_selling_your_house_next_year\n",
      "modified lets_deal_with_this_problem_right_away\n"
     ]
    },
    {
     "name": "stderr",
     "output_type": "stream",
     "text": [
      "Adding wiktionary links:  62%|██████▏   | 518/838 [06:43<01:24,  3.77it/s]"
     ]
    },
    {
     "name": "stdout",
     "output_type": "stream",
     "text": [
      "modified dont_shoot_its_just_a_game\n"
     ]
    },
    {
     "name": "stderr",
     "output_type": "stream",
     "text": [
      "Adding wiktionary links:  62%|██████▏   | 519/838 [06:44<02:01,  2.63it/s]"
     ]
    },
    {
     "name": "stdout",
     "output_type": "stream",
     "text": [
      "modified did_you_hurt_your_leg_during_the_football_game\n"
     ]
    },
    {
     "name": "stderr",
     "output_type": "stream",
     "text": [
      "Adding wiktionary links:  62%|██████▏   | 520/838 [06:45<02:46,  1.91it/s]"
     ]
    },
    {
     "name": "stdout",
     "output_type": "stream",
     "text": [
      "modified were_staying_at_this_lovely_hotel_by_the_sea\n",
      "modified dont_you_think_strange_things_happen_in_that_old_house\n"
     ]
    },
    {
     "name": "stderr",
     "output_type": "stream",
     "text": [
      "Adding wiktionary links:  62%|██████▏   | 522/838 [06:46<02:20,  2.25it/s]"
     ]
    },
    {
     "name": "stdout",
     "output_type": "stream",
     "text": [
      "modified the_children_are_playing_outside\n"
     ]
    },
    {
     "name": "stderr",
     "output_type": "stream",
     "text": [
      "Adding wiktionary links:  62%|██████▏   | 523/838 [06:46<02:43,  1.93it/s]"
     ]
    },
    {
     "name": "stdout",
     "output_type": "stream",
     "text": [
      "modified did_you_hear_they_pulled_out_of_the_competition\n",
      "modified did_the_ball_hit_the_window_by_accident\n"
     ]
    },
    {
     "name": "stderr",
     "output_type": "stream",
     "text": [
      "Adding wiktionary links:  63%|██████▎   | 525/838 [06:48<02:57,  1.76it/s]"
     ]
    },
    {
     "name": "stdout",
     "output_type": "stream",
     "text": [
      "modified did_you_hear_his_arm_was_injured_during_the_operation\n"
     ]
    },
    {
     "name": "stderr",
     "output_type": "stream",
     "text": [
      "Adding wiktionary links:  63%|██████▎   | 526/838 [06:48<02:49,  1.84it/s]"
     ]
    },
    {
     "name": "stdout",
     "output_type": "stream",
     "text": [
      "modified lets_deal_with_this_problem_in_private\n"
     ]
    },
    {
     "name": "stderr",
     "output_type": "stream",
     "text": [
      "Adding wiktionary links:  63%|██████▎   | 527/838 [06:50<03:50,  1.35it/s]"
     ]
    },
    {
     "name": "stdout",
     "output_type": "stream",
     "text": [
      "modified were_producing_a_new_product_soon\n",
      "modified which_movie_should_we_watch\n"
     ]
    },
    {
     "name": "stderr",
     "output_type": "stream",
     "text": [
      "Adding wiktionary links:  63%|██████▎   | 529/838 [06:50<02:34,  2.00it/s]"
     ]
    },
    {
     "name": "stdout",
     "output_type": "stream",
     "text": [
      "modified hes_thinking_of_referring_a_friend_for_the_job\n",
      "modified well_have_to_stay_home_because_of_the_rain\n",
      "modified mine_is_the_red_one_on_the_table\n",
      "modified shell_ring_the_doorbell_when_she_gets_here\n"
     ]
    },
    {
     "name": "stderr",
     "output_type": "stream",
     "text": [
      "Adding wiktionary links:  64%|██████▎   | 533/838 [06:51<01:39,  3.05it/s]"
     ]
    },
    {
     "name": "stdout",
     "output_type": "stream",
     "text": [
      "modified i_cant_remember_where_i_parked_my_car\n"
     ]
    },
    {
     "name": "stderr",
     "output_type": "stream",
     "text": [
      "Adding wiktionary links:  64%|██████▎   | 534/838 [06:52<02:15,  2.24it/s]"
     ]
    },
    {
     "name": "stdout",
     "output_type": "stream",
     "text": [
      "modified how_do_you_deal_with_difficult_customers\n",
      "modified put_your_coat_on_its_cold_outside\n"
     ]
    },
    {
     "name": "stderr",
     "output_type": "stream",
     "text": [
      "Adding wiktionary links:  64%|██████▍   | 536/838 [06:52<02:02,  2.47it/s]"
     ]
    },
    {
     "name": "stdout",
     "output_type": "stream",
     "text": [
      "modified make_your_own_choice_in_this_matter\n"
     ]
    },
    {
     "name": "stderr",
     "output_type": "stream",
     "text": [
      "Adding wiktionary links:  64%|██████▍   | 537/838 [06:53<01:52,  2.67it/s]"
     ]
    },
    {
     "name": "stdout",
     "output_type": "stream",
     "text": [
      "modified these_new_shoes_dont_fit_my_feet_properly\n"
     ]
    },
    {
     "name": "stderr",
     "output_type": "stream",
     "text": [
      "Adding wiktionary links:  64%|██████▍   | 538/838 [06:54<03:18,  1.51it/s]"
     ]
    },
    {
     "name": "stdout",
     "output_type": "stream",
     "text": [
      "modified did_you_hear_they_got_married_on_a_boat_in_this_hot_weather\n"
     ]
    },
    {
     "name": "stderr",
     "output_type": "stream",
     "text": [
      "Adding wiktionary links:  64%|██████▍   | 539/838 [06:55<02:51,  1.74it/s]"
     ]
    },
    {
     "name": "stdout",
     "output_type": "stream",
     "text": [
      "modified it_seems_like_a_normal_day_so_far\n"
     ]
    },
    {
     "name": "stderr",
     "output_type": "stream",
     "text": [
      "Adding wiktionary links:  64%|██████▍   | 540/838 [06:55<02:26,  2.03it/s]"
     ]
    },
    {
     "name": "stdout",
     "output_type": "stream",
     "text": [
      "modified lets_meet_at_the_usual_place_tonight\n"
     ]
    },
    {
     "name": "stderr",
     "output_type": "stream",
     "text": [
      "Adding wiktionary links:  65%|██████▍   | 541/838 [06:57<04:57,  1.00s/it]"
     ]
    },
    {
     "name": "stdout",
     "output_type": "stream",
     "text": [
      "modified i_hate_the_taste_of_brussels_sprouts\n"
     ]
    },
    {
     "name": "stderr",
     "output_type": "stream",
     "text": [
      "Adding wiktionary links:  65%|██████▍   | 542/838 [06:58<05:08,  1.04s/it]"
     ]
    },
    {
     "name": "stdout",
     "output_type": "stream",
     "text": [
      "modified i_achieved_my_goals_within_three_months\n"
     ]
    },
    {
     "name": "stderr",
     "output_type": "stream",
     "text": [
      "Adding wiktionary links:  65%|██████▍   | 543/838 [06:59<04:44,  1.04it/s]"
     ]
    },
    {
     "name": "stdout",
     "output_type": "stream",
     "text": [
      "modified did_they_offer_you_a_reasonable_salary_for_the_position\n"
     ]
    },
    {
     "name": "stderr",
     "output_type": "stream",
     "text": [
      "Adding wiktionary links:  65%|██████▍   | 544/838 [07:01<05:35,  1.14s/it]"
     ]
    },
    {
     "name": "stdout",
     "output_type": "stream",
     "text": [
      "modified did_you_hear_him_cough_during_the_quiet_moment\n"
     ]
    },
    {
     "name": "stderr",
     "output_type": "stream",
     "text": [
      "Adding wiktionary links:  65%|██████▌   | 545/838 [07:03<06:57,  1.42s/it]"
     ]
    },
    {
     "name": "stdout",
     "output_type": "stream",
     "text": [
      "modified both_mummy_and_daddy_are_concerned_about_tax\n"
     ]
    },
    {
     "name": "stderr",
     "output_type": "stream",
     "text": [
      "Adding wiktionary links:  65%|██████▌   | 546/838 [07:03<05:16,  1.08s/it]"
     ]
    },
    {
     "name": "stdout",
     "output_type": "stream",
     "text": [
      "modified remember_that_specific_case_i_mentioned\n"
     ]
    },
    {
     "name": "stderr",
     "output_type": "stream",
     "text": [
      "Adding wiktionary links:  65%|██████▌   | 547/838 [07:03<04:03,  1.19it/s]"
     ]
    },
    {
     "name": "stdout",
     "output_type": "stream",
     "text": [
      "modified i_want_to_produce_highquality_content_regularly\n",
      "modified hold_on_tight_the_ride_is_starting\n"
     ]
    },
    {
     "name": "stderr",
     "output_type": "stream",
     "text": [
      "Adding wiktionary links:  66%|██████▌   | 549/838 [07:05<04:19,  1.11it/s]"
     ]
    },
    {
     "name": "stdout",
     "output_type": "stream",
     "text": [
      "modified god_im_afraid_nobodys_totally_honest_these_days\n"
     ]
    },
    {
     "name": "stderr",
     "output_type": "stream",
     "text": [
      "Adding wiktionary links:  66%|██████▌   | 550/838 [07:06<04:02,  1.19it/s]"
     ]
    },
    {
     "name": "stdout",
     "output_type": "stream",
     "text": [
      "modified have_you_heard_the_company_suffered_significant_financial_losses\n"
     ]
    },
    {
     "name": "stderr",
     "output_type": "stream",
     "text": [
      "Adding wiktionary links:  66%|██████▌   | 551/838 [07:09<06:46,  1.42s/it]"
     ]
    },
    {
     "name": "stdout",
     "output_type": "stream",
     "text": [
      "modified its_a_quarter_past_nine_were_late\n",
      "modified lets_walk_to_work_to_save_money\n"
     ]
    },
    {
     "name": "stderr",
     "output_type": "stream",
     "text": [
      "Adding wiktionary links:  66%|██████▌   | 553/838 [07:10<04:56,  1.04s/it]"
     ]
    },
    {
     "name": "stdout",
     "output_type": "stream",
     "text": [
      "modified i_tried_to_hit_the_target_but_missed\n",
      "modified should_we_start_from_the_beginning_again\n",
      "modified we_should_discuss_this_issue_more\n"
     ]
    },
    {
     "name": "stderr",
     "output_type": "stream",
     "text": [
      "Adding wiktionary links:  66%|██████▋   | 556/838 [07:11<02:55,  1.61it/s]"
     ]
    },
    {
     "name": "stdout",
     "output_type": "stream",
     "text": [
      "modified push_the_red_button_to_start_the_machine\n"
     ]
    },
    {
     "name": "stderr",
     "output_type": "stream",
     "text": [
      "Adding wiktionary links:  66%|██████▋   | 557/838 [07:11<02:41,  1.74it/s]"
     ]
    },
    {
     "name": "stdout",
     "output_type": "stream",
     "text": [
      "modified do_you_walk_through_the_park_every_evening\n",
      "modified lets_call_for_help_the_car_broke_down\n",
      "modified i_tried_to_hit_the_ball_but_missed\n",
      "modified can_you_imagine_a_world_without_any_troubles\n",
      "modified have_you_finished_your_homework_before_dinner\n",
      "modified im_taking_the_dog_for_a_walk\n"
     ]
    },
    {
     "name": "stderr",
     "output_type": "stream",
     "text": [
      "Adding wiktionary links:  67%|██████▋   | 563/838 [07:12<01:15,  3.64it/s]"
     ]
    },
    {
     "name": "stdout",
     "output_type": "stream",
     "text": [
      "modified lets_provide_more_information_to_the_public\n"
     ]
    },
    {
     "name": "stderr",
     "output_type": "stream",
     "text": [
      "Adding wiktionary links:  67%|██████▋   | 564/838 [07:13<01:53,  2.41it/s]"
     ]
    },
    {
     "name": "stdout",
     "output_type": "stream",
     "text": [
      "modified lets_use_this_material_for_the_project\n",
      "modified i_want_to_lead_the_team_to_victory\n",
      "modified can_you_guess_the_answer_to_this_question\n"
     ]
    },
    {
     "name": "stderr",
     "output_type": "stream",
     "text": [
      "Adding wiktionary links:  68%|██████▊   | 567/838 [07:14<01:49,  2.47it/s]"
     ]
    },
    {
     "name": "stdout",
     "output_type": "stream",
     "text": [
      "modified even_a_low_rate_is_better_than_nothing\n"
     ]
    },
    {
     "name": "stderr",
     "output_type": "stream",
     "text": [
      "Adding wiktionary links:  68%|██████▊   | 568/838 [07:15<02:13,  2.03it/s]"
     ]
    },
    {
     "name": "stdout",
     "output_type": "stream",
     "text": [
      "modified are_you_watching_the_two_teams_fight_for_first_place\n"
     ]
    },
    {
     "name": "stderr",
     "output_type": "stream",
     "text": [
      "Adding wiktionary links:  68%|██████▊   | 569/838 [07:16<02:30,  1.79it/s]"
     ]
    },
    {
     "name": "stdout",
     "output_type": "stream",
     "text": [
      "modified did_you_hear_the_car_hit_a_tree\n",
      "modified i_want_to_listen_to_different_perspectives_first\n"
     ]
    },
    {
     "name": "stderr",
     "output_type": "stream",
     "text": [
      "Adding wiktionary links:  68%|██████▊   | 571/838 [07:17<02:11,  2.03it/s]"
     ]
    },
    {
     "name": "stdout",
     "output_type": "stream",
     "text": [
      "modified could_you_cut_the_cake_into_equal_pieces\n",
      "modified lets_hope_we_get_lucky_with_this\n"
     ]
    },
    {
     "name": "stderr",
     "output_type": "stream",
     "text": [
      "Adding wiktionary links:  68%|██████▊   | 573/838 [07:19<03:24,  1.29it/s]"
     ]
    },
    {
     "name": "stdout",
     "output_type": "stream",
     "text": [
      "modified dont_you_believe_in_the_power_of_positive_thinking\n"
     ]
    },
    {
     "name": "stderr",
     "output_type": "stream",
     "text": [
      "Adding wiktionary links:  68%|██████▊   | 574/838 [07:21<04:15,  1.03it/s]"
     ]
    },
    {
     "name": "stdout",
     "output_type": "stream",
     "text": [
      "modified that_short_man_can_throw_the_ball_really_far\n"
     ]
    },
    {
     "name": "stderr",
     "output_type": "stream",
     "text": [
      "Adding wiktionary links:  69%|██████▊   | 575/838 [07:22<04:22,  1.00it/s]"
     ]
    },
    {
     "name": "stdout",
     "output_type": "stream",
     "text": [
      "modified could_you_explain_the_difference_between_these_rules\n"
     ]
    },
    {
     "name": "stderr",
     "output_type": "stream",
     "text": [
      "Adding wiktionary links:  69%|██████▊   | 576/838 [07:23<03:49,  1.14it/s]"
     ]
    },
    {
     "name": "stdout",
     "output_type": "stream",
     "text": [
      "modified theyre_building_a_new_union_headquarters_soon\n"
     ]
    },
    {
     "name": "stderr",
     "output_type": "stream",
     "text": [
      "Adding wiktionary links:  69%|██████▉   | 577/838 [07:24<04:06,  1.06it/s]"
     ]
    },
    {
     "name": "stdout",
     "output_type": "stream",
     "text": [
      "modified they_just_explained_the_budget_system_to_me\n",
      "modified feel_free_to_pick_any_tree_in_this_area\n"
     ]
    },
    {
     "name": "stderr",
     "output_type": "stream",
     "text": [
      "Adding wiktionary links:  69%|██████▉   | 579/838 [07:25<03:28,  1.24it/s]"
     ]
    },
    {
     "name": "stdout",
     "output_type": "stream",
     "text": [
      "modified she_might_show_us_her_art_collection_soon\n"
     ]
    },
    {
     "name": "stderr",
     "output_type": "stream",
     "text": [
      "Adding wiktionary links:  69%|██████▉   | 580/838 [07:26<03:26,  1.25it/s]"
     ]
    },
    {
     "name": "stdout",
     "output_type": "stream",
     "text": [
      "modified we_really_need_to_reduce_our_carbon_footprint\n"
     ]
    },
    {
     "name": "stderr",
     "output_type": "stream",
     "text": [
      "Adding wiktionary links:  69%|██████▉   | 581/838 [07:27<03:26,  1.24it/s]"
     ]
    },
    {
     "name": "stdout",
     "output_type": "stream",
     "text": [
      "modified should_we_excuse_ourselves_from_this_boring_party\n"
     ]
    },
    {
     "name": "stderr",
     "output_type": "stream",
     "text": [
      "Adding wiktionary links:  69%|██████▉   | 582/838 [07:27<03:10,  1.34it/s]"
     ]
    },
    {
     "name": "stdout",
     "output_type": "stream",
     "text": [
      "modified use_the_glue_to_make_it_stick_firmly\n"
     ]
    },
    {
     "name": "stderr",
     "output_type": "stream",
     "text": [
      "Adding wiktionary links:  70%|██████▉   | 583/838 [07:28<02:58,  1.43it/s]"
     ]
    },
    {
     "name": "stdout",
     "output_type": "stream",
     "text": [
      "modified she_always_brings_up_her_ex_in_conversations\n"
     ]
    },
    {
     "name": "stderr",
     "output_type": "stream",
     "text": [
      "Adding wiktionary links:  70%|██████▉   | 584/838 [07:30<04:18,  1.02s/it]"
     ]
    },
    {
     "name": "stdout",
     "output_type": "stream",
     "text": [
      "modified do_you_believe_in_ghosts_and_supernatural_phenomena\n"
     ]
    },
    {
     "name": "stderr",
     "output_type": "stream",
     "text": [
      "Adding wiktionary links:  70%|██████▉   | 585/838 [07:31<04:13,  1.00s/it]"
     ]
    },
    {
     "name": "stdout",
     "output_type": "stream",
     "text": [
      "modified make_sure_to_pay_attention_to_every_little_detail\n"
     ]
    },
    {
     "name": "stderr",
     "output_type": "stream",
     "text": [
      "Adding wiktionary links:  70%|███████   | 587/838 [07:32<03:11,  1.31it/s]"
     ]
    },
    {
     "name": "stdout",
     "output_type": "stream",
     "text": [
      "modified put_the_paper_on_the_board_please\n",
      "modified would_you_show_us_around_the_college_campus\n"
     ]
    },
    {
     "name": "stderr",
     "output_type": "stream",
     "text": [
      "Adding wiktionary links:  70%|███████   | 588/838 [07:35<05:36,  1.35s/it]"
     ]
    },
    {
     "name": "stdout",
     "output_type": "stream",
     "text": [
      "modified i_based_my_argument_on_scientific_facts\n"
     ]
    },
    {
     "name": "stderr",
     "output_type": "stream",
     "text": [
      "Adding wiktionary links:  70%|███████   | 589/838 [07:35<04:26,  1.07s/it]"
     ]
    },
    {
     "name": "stdout",
     "output_type": "stream",
     "text": [
      "modified im_sure_our_team_will_win_tomorrow\n"
     ]
    },
    {
     "name": "stderr",
     "output_type": "stream",
     "text": [
      "Adding wiktionary links:  70%|███████   | 590/838 [07:36<04:41,  1.13s/it]"
     ]
    },
    {
     "name": "stdout",
     "output_type": "stream",
     "text": [
      "modified lets_get_rid_of_these_old_newspapers\n",
      "modified lets_face_our_fears_to_succeed\n",
      "modified can_you_show_me_how_to_organize_this\n"
     ]
    },
    {
     "name": "stderr",
     "output_type": "stream",
     "text": [
      "Adding wiktionary links:  71%|███████   | 593/838 [07:37<02:43,  1.50it/s]"
     ]
    },
    {
     "name": "stdout",
     "output_type": "stream",
     "text": [
      "modified we_train_every_day_to_win_the_cup\n"
     ]
    },
    {
     "name": "stderr",
     "output_type": "stream",
     "text": [
      "Adding wiktionary links:  71%|███████   | 594/838 [07:38<03:04,  1.32it/s]"
     ]
    },
    {
     "name": "stdout",
     "output_type": "stream",
     "text": [
      "modified lets_press_for_better_working_conditions\n"
     ]
    },
    {
     "name": "stderr",
     "output_type": "stream",
     "text": [
      "Adding wiktionary links:  71%|███████   | 595/838 [07:39<02:58,  1.36it/s]"
     ]
    },
    {
     "name": "stdout",
     "output_type": "stream",
     "text": [
      "modified were_keeping_the_old_furniture_for_now\n"
     ]
    },
    {
     "name": "stderr",
     "output_type": "stream",
     "text": [
      "Adding wiktionary links:  71%|███████   | 596/838 [07:39<02:38,  1.53it/s]"
     ]
    },
    {
     "name": "stdout",
     "output_type": "stream",
     "text": [
      "modified it_depends_on_the_weather_obviously\n",
      "modified can_you_show_me_how_it_works\n"
     ]
    },
    {
     "name": "stderr",
     "output_type": "stream",
     "text": [
      "Adding wiktionary links:  71%|███████▏  | 598/838 [07:40<01:51,  2.15it/s]"
     ]
    },
    {
     "name": "stdout",
     "output_type": "stream",
     "text": [
      "modified lets_train_harder_to_win_the_competition\n"
     ]
    },
    {
     "name": "stderr",
     "output_type": "stream",
     "text": [
      "Adding wiktionary links:  71%|███████▏  | 599/838 [07:41<02:16,  1.75it/s]"
     ]
    },
    {
     "name": "stdout",
     "output_type": "stream",
     "text": [
      "modified pay_more_attention_to_details\n",
      "modified let_me_show_you_around_the_city\n"
     ]
    },
    {
     "name": "stderr",
     "output_type": "stream",
     "text": [
      "Adding wiktionary links:  72%|███████▏  | 601/838 [07:41<01:56,  2.03it/s]"
     ]
    },
    {
     "name": "stdout",
     "output_type": "stream",
     "text": [
      "modified lets_keep_our_options_open_for_now\n"
     ]
    },
    {
     "name": "stderr",
     "output_type": "stream",
     "text": [
      "Adding wiktionary links:  72%|███████▏  | 602/838 [07:42<01:59,  1.97it/s]"
     ]
    },
    {
     "name": "stdout",
     "output_type": "stream",
     "text": [
      "modified i_hope_to_win_the_contract_this_week\n"
     ]
    },
    {
     "name": "stderr",
     "output_type": "stream",
     "text": [
      "Adding wiktionary links:  72%|███████▏  | 603/838 [07:42<01:49,  2.14it/s]"
     ]
    },
    {
     "name": "stdout",
     "output_type": "stream",
     "text": [
      "modified keep_working_until_you_finish_the_job\n",
      "modified im_so_happy_for_you\n"
     ]
    },
    {
     "name": "stderr",
     "output_type": "stream",
     "text": [
      "Adding wiktionary links:  72%|███████▏  | 605/838 [07:43<01:29,  2.61it/s]"
     ]
    },
    {
     "name": "stdout",
     "output_type": "stream",
     "text": [
      "modified are_you_going_to_sleep_late_this_weekend\n"
     ]
    },
    {
     "name": "stderr",
     "output_type": "stream",
     "text": [
      "Adding wiktionary links:  72%|███████▏  | 606/838 [07:44<01:45,  2.19it/s]"
     ]
    },
    {
     "name": "stdout",
     "output_type": "stream",
     "text": [
      "modified look_at_the_clear_sky_up_north\n"
     ]
    },
    {
     "name": "stderr",
     "output_type": "stream",
     "text": [
      "Adding wiktionary links:  72%|███████▏  | 607/838 [07:44<02:06,  1.83it/s]"
     ]
    },
    {
     "name": "stdout",
     "output_type": "stream",
     "text": [
      "modified did_you_see_the_lovely_egg_she_made_for_her_mum\n"
     ]
    },
    {
     "name": "stderr",
     "output_type": "stream",
     "text": [
      "Adding wiktionary links:  73%|███████▎  | 608/838 [07:45<02:26,  1.57it/s]"
     ]
    },
    {
     "name": "stdout",
     "output_type": "stream",
     "text": [
      "modified this_soup_tastes_nothing_like_the_original\n"
     ]
    },
    {
     "name": "stderr",
     "output_type": "stream",
     "text": [
      "Adding wiktionary links:  73%|███████▎  | 609/838 [07:46<02:21,  1.62it/s]"
     ]
    },
    {
     "name": "stdout",
     "output_type": "stream",
     "text": [
      "modified is_your_brother_really_going_to_run_towards_hell\n"
     ]
    },
    {
     "name": "stderr",
     "output_type": "stream",
     "text": [
      "Adding wiktionary links:  73%|███████▎  | 610/838 [07:47<02:27,  1.54it/s]"
     ]
    },
    {
     "name": "stdout",
     "output_type": "stream",
     "text": [
      "modified is_this_space_wide_enough_for_us\n",
      "modified i_want_to_buy_a_new_television_set\n",
      "modified lets_check_the_weather_forecast_today\n"
     ]
    },
    {
     "name": "stderr",
     "output_type": "stream",
     "text": [
      "Adding wiktionary links:  73%|███████▎  | 613/838 [07:48<01:51,  2.02it/s]"
     ]
    },
    {
     "name": "stdout",
     "output_type": "stream",
     "text": [
      "modified although_its_similar_there_are_some_key_differences\n"
     ]
    },
    {
     "name": "stderr",
     "output_type": "stream",
     "text": [
      "Adding wiktionary links:  73%|███████▎  | 614/838 [07:48<01:52,  1.99it/s]"
     ]
    },
    {
     "name": "stdout",
     "output_type": "stream",
     "text": [
      "modified lets_think_twice_before_making_decisions\n"
     ]
    },
    {
     "name": "stderr",
     "output_type": "stream",
     "text": [
      "Adding wiktionary links:  73%|███████▎  | 615/838 [07:50<02:46,  1.34it/s]"
     ]
    },
    {
     "name": "stdout",
     "output_type": "stream",
     "text": [
      "modified did_you_join_the_protest_against_high_taxes\n"
     ]
    },
    {
     "name": "stderr",
     "output_type": "stream",
     "text": [
      "Adding wiktionary links:  74%|███████▎  | 616/838 [07:51<02:57,  1.25it/s]"
     ]
    },
    {
     "name": "stdout",
     "output_type": "stream",
     "text": [
      "modified are_they_fighting_for_justice_in_the_court\n"
     ]
    },
    {
     "name": "stderr",
     "output_type": "stream",
     "text": [
      "Adding wiktionary links:  74%|███████▎  | 617/838 [07:51<02:25,  1.52it/s]"
     ]
    },
    {
     "name": "stdout",
     "output_type": "stream",
     "text": [
      "modified i_just_got_a_message_from_my_father\n"
     ]
    },
    {
     "name": "stderr",
     "output_type": "stream",
     "text": [
      "Adding wiktionary links:  74%|███████▎  | 618/838 [07:52<02:11,  1.67it/s]"
     ]
    },
    {
     "name": "stdout",
     "output_type": "stream",
     "text": [
      "modified the_level_of_difficulty_is_pretty_low\n",
      "modified did_you_remember_to_turn_off_the_stove\n"
     ]
    },
    {
     "name": "stderr",
     "output_type": "stream",
     "text": [
      "Adding wiktionary links:  74%|███████▍  | 620/838 [07:52<01:33,  2.34it/s]"
     ]
    },
    {
     "name": "stdout",
     "output_type": "stream",
     "text": [
      "modified she_might_imagine_a_better_future_for_herself\n"
     ]
    },
    {
     "name": "stderr",
     "output_type": "stream",
     "text": [
      "Adding wiktionary links:  74%|███████▍  | 621/838 [07:53<02:02,  1.77it/s]"
     ]
    },
    {
     "name": "stdout",
     "output_type": "stream",
     "text": [
      "modified are_you_going_to_the_science_lecture_tomorrow\n",
      "modified bye_for_now_see_you_later_this_evening\n"
     ]
    },
    {
     "name": "stderr",
     "output_type": "stream",
     "text": [
      "Adding wiktionary links:  74%|███████▍  | 623/838 [07:54<01:43,  2.07it/s]"
     ]
    },
    {
     "name": "stdout",
     "output_type": "stream",
     "text": [
      "modified do_you_support_the_new_regional_development_programme\n",
      "modified lets_finish_our_homework_before_dinner\n"
     ]
    },
    {
     "name": "stderr",
     "output_type": "stream",
     "text": [
      "Adding wiktionary links:  75%|███████▍  | 625/838 [07:54<01:17,  2.75it/s]"
     ]
    },
    {
     "name": "stdout",
     "output_type": "stream",
     "text": [
      "modified we_just_moved_to_a_new_house_last_month\n"
     ]
    },
    {
     "name": "stderr",
     "output_type": "stream",
     "text": [
      "Adding wiktionary links:  75%|███████▍  | 626/838 [07:55<01:31,  2.32it/s]"
     ]
    },
    {
     "name": "stdout",
     "output_type": "stream",
     "text": [
      "modified im_moving_to_a_new_apartment_next_month\n"
     ]
    },
    {
     "name": "stderr",
     "output_type": "stream",
     "text": [
      "Adding wiktionary links:  75%|███████▍  | 627/838 [07:58<03:36,  1.03s/it]"
     ]
    },
    {
     "name": "stdout",
     "output_type": "stream",
     "text": [
      "modified want_to_go_on_a_camping_trip\n"
     ]
    },
    {
     "name": "stderr",
     "output_type": "stream",
     "text": [
      "Adding wiktionary links:  75%|███████▍  | 628/838 [07:59<03:37,  1.04s/it]"
     ]
    },
    {
     "name": "stdout",
     "output_type": "stream",
     "text": [
      "modified can_you_carry_this_heavy_bag_for_me\n",
      "modified we_need_to_finish_the_project_by_friday\n"
     ]
    },
    {
     "name": "stderr",
     "output_type": "stream",
     "text": [
      "Adding wiktionary links:  75%|███████▌  | 630/838 [08:00<02:52,  1.20it/s]"
     ]
    },
    {
     "name": "stdout",
     "output_type": "stream",
     "text": [
      "modified check_the_file_for_any_recent_changes\n"
     ]
    },
    {
     "name": "stderr",
     "output_type": "stream",
     "text": [
      "Adding wiktionary links:  75%|███████▌  | 631/838 [08:00<02:32,  1.36it/s]"
     ]
    },
    {
     "name": "stdout",
     "output_type": "stream",
     "text": [
      "modified sorry_im_really_tired_right_now\n"
     ]
    },
    {
     "name": "stderr",
     "output_type": "stream",
     "text": [
      "Adding wiktionary links:  75%|███████▌  | 632/838 [08:01<02:14,  1.53it/s]"
     ]
    },
    {
     "name": "stdout",
     "output_type": "stream",
     "text": [
      "modified the_operation_was_serious_but_shes_all_right\n"
     ]
    },
    {
     "name": "stderr",
     "output_type": "stream",
     "text": [
      "Adding wiktionary links:  76%|███████▌  | 633/838 [08:01<02:20,  1.46it/s]"
     ]
    },
    {
     "name": "stdout",
     "output_type": "stream",
     "text": [
      "modified how_much_does_this_service_usually_cost\n"
     ]
    },
    {
     "name": "stderr",
     "output_type": "stream",
     "text": [
      "Adding wiktionary links:  76%|███████▌  | 634/838 [08:02<02:17,  1.49it/s]"
     ]
    },
    {
     "name": "stdout",
     "output_type": "stream",
     "text": [
      "modified ask_your_parents_for_their_opinion_first\n"
     ]
    },
    {
     "name": "stderr",
     "output_type": "stream",
     "text": [
      "Adding wiktionary links:  76%|███████▌  | 635/838 [08:03<02:07,  1.59it/s]"
     ]
    },
    {
     "name": "stdout",
     "output_type": "stream",
     "text": [
      "modified lets_make_a_wish_upon_a_star_tonight\n"
     ]
    },
    {
     "name": "stderr",
     "output_type": "stream",
     "text": [
      "Adding wiktionary links:  76%|███████▌  | 636/838 [08:04<02:24,  1.40it/s]"
     ]
    },
    {
     "name": "stdout",
     "output_type": "stream",
     "text": [
      "modified do_you_like_collecting_seashells_at_the_beach\n"
     ]
    },
    {
     "name": "stderr",
     "output_type": "stream",
     "text": [
      "Adding wiktionary links:  76%|███████▌  | 637/838 [08:04<02:39,  1.26it/s]"
     ]
    },
    {
     "name": "stdout",
     "output_type": "stream",
     "text": [
      "modified did_you_hear_about_the_assassination_attempt_on_the_president\n",
      "modified hold_onto_the_rail_its_slippery\n"
     ]
    },
    {
     "name": "stderr",
     "output_type": "stream",
     "text": [
      "Adding wiktionary links:  76%|███████▋  | 639/838 [08:05<02:08,  1.55it/s]"
     ]
    },
    {
     "name": "stdout",
     "output_type": "stream",
     "text": [
      "modified did_you_phone_your_mother_to_say_hello\n"
     ]
    },
    {
     "name": "stderr",
     "output_type": "stream",
     "text": [
      "Adding wiktionary links:  76%|███████▋  | 640/838 [08:06<02:00,  1.65it/s]"
     ]
    },
    {
     "name": "stdout",
     "output_type": "stream",
     "text": [
      "modified cut_the_cake_into_equal_pieces_please\n"
     ]
    },
    {
     "name": "stderr",
     "output_type": "stream",
     "text": [
      "Adding wiktionary links:  76%|███████▋  | 641/838 [08:08<03:50,  1.17s/it]"
     ]
    },
    {
     "name": "stdout",
     "output_type": "stream",
     "text": [
      "modified did_the_minister_really_support_the_communitys_interests\n",
      "modified plenty_of_people_have_tried_but_with_little_success\n",
      "modified dont_strange_things_happen_in_the_middle_of_nowhere\n",
      "modified can_you_afford_to_buy_a_house\n",
      "modified dont_you_think_its_time_for_a_change\n"
     ]
    },
    {
     "name": "stderr",
     "output_type": "stream",
     "text": [
      "Adding wiktionary links:  77%|███████▋  | 646/838 [08:09<01:17,  2.47it/s]"
     ]
    },
    {
     "name": "stdout",
     "output_type": "stream",
     "text": [
      "modified did_you_draw_a_picture_of_your_family\n",
      "modified how_long_will_this_meeting_last\n",
      "modified im_taking_a_vacation_next_month\n"
     ]
    },
    {
     "name": "stderr",
     "output_type": "stream",
     "text": [
      "Adding wiktionary links:  77%|███████▋  | 649/838 [08:09<01:05,  2.90it/s]"
     ]
    },
    {
     "name": "stdout",
     "output_type": "stream",
     "text": [
      "modified lets_have_the_meeting_in_the_central_office\n",
      "modified lets_mention_this_in_the_meeting\n"
     ]
    },
    {
     "name": "stderr",
     "output_type": "stream",
     "text": [
      "Adding wiktionary links:  78%|███████▊  | 651/838 [08:10<00:56,  3.31it/s]"
     ]
    },
    {
     "name": "stdout",
     "output_type": "stream",
     "text": [
      "modified sorry_im_late_to_the_meeting\n"
     ]
    },
    {
     "name": "stderr",
     "output_type": "stream",
     "text": [
      "Adding wiktionary links:  78%|███████▊  | 652/838 [08:10<00:57,  3.26it/s]"
     ]
    },
    {
     "name": "stdout",
     "output_type": "stream",
     "text": [
      "modified have_you_heard_the_old_building_is_closed_for_renovation\n"
     ]
    },
    {
     "name": "stderr",
     "output_type": "stream",
     "text": [
      "Adding wiktionary links:  78%|███████▊  | 653/838 [08:10<00:54,  3.37it/s]"
     ]
    },
    {
     "name": "stdout",
     "output_type": "stream",
     "text": [
      "modified shouldnt_we_consider_other_options_too\n"
     ]
    },
    {
     "name": "stderr",
     "output_type": "stream",
     "text": [
      "Adding wiktionary links:  78%|███████▊  | 654/838 [08:11<01:12,  2.53it/s]"
     ]
    },
    {
     "name": "stdout",
     "output_type": "stream",
     "text": [
      "modified shouldnt_we_spend_more_time_with_family\n",
      "modified did_you_hear_they_won_the_big_contract\n",
      "modified the_meeting_starts_in_five_minutes\n"
     ]
    },
    {
     "name": "stderr",
     "output_type": "stream",
     "text": [
      "Adding wiktionary links:  78%|███████▊  | 657/838 [08:12<01:09,  2.62it/s]"
     ]
    },
    {
     "name": "stdout",
     "output_type": "stream",
     "text": [
      "modified lets_talk_about_the_language_of_love\n"
     ]
    },
    {
     "name": "stderr",
     "output_type": "stream",
     "text": [
      "Adding wiktionary links:  79%|███████▊  | 658/838 [08:13<01:07,  2.66it/s]"
     ]
    },
    {
     "name": "stdout",
     "output_type": "stream",
     "text": [
      "modified lets_talk_about_our_holiday_plans\n",
      "modified were_building_a_new_house_next_year\n",
      "modified i_wonder_whats_for_dinner_tonight\n",
      "modified we_need_to_talk_about_our_relationship\n"
     ]
    },
    {
     "name": "stderr",
     "output_type": "stream",
     "text": [
      "Adding wiktionary links:  79%|███████▉  | 662/838 [08:13<00:46,  3.80it/s]"
     ]
    },
    {
     "name": "stdout",
     "output_type": "stream",
     "text": [
      "modified mind_your_own_business_young_man\n",
      "modified the_company_will_charge_a_fair_amount\n"
     ]
    },
    {
     "name": "stderr",
     "output_type": "stream",
     "text": [
      "Adding wiktionary links:  79%|███████▉  | 664/838 [08:15<01:07,  2.56it/s]"
     ]
    },
    {
     "name": "stdout",
     "output_type": "stream",
     "text": [
      "modified im_letting_my_hair_grow_long_and_wild\n"
     ]
    },
    {
     "name": "stderr",
     "output_type": "stream",
     "text": [
      "Adding wiktionary links:  79%|███████▉  | 665/838 [08:16<01:30,  1.92it/s]"
     ]
    },
    {
     "name": "stdout",
     "output_type": "stream",
     "text": [
      "modified he_might_lose_his_job_if_hes_late\n"
     ]
    },
    {
     "name": "stderr",
     "output_type": "stream",
     "text": [
      "Adding wiktionary links:  79%|███████▉  | 666/838 [08:17<01:38,  1.74it/s]"
     ]
    },
    {
     "name": "stdout",
     "output_type": "stream",
     "text": [
      "modified we_should_support_local_businesses_more_often\n"
     ]
    },
    {
     "name": "stderr",
     "output_type": "stream",
     "text": [
      "Adding wiktionary links:  80%|███████▉  | 667/838 [08:17<01:46,  1.61it/s]"
     ]
    },
    {
     "name": "stdout",
     "output_type": "stream",
     "text": [
      "modified we_need_to_handle_this_situation_carefully\n",
      "modified have_you_heard_theyre_building_a_house_near_the_sea\n",
      "modified lets_compare_prices_before_we_decide\n"
     ]
    },
    {
     "name": "stderr",
     "output_type": "stream",
     "text": [
      "Adding wiktionary links:  80%|███████▉  | 670/838 [08:19<01:28,  1.89it/s]"
     ]
    },
    {
     "name": "stdout",
     "output_type": "stream",
     "text": [
      "modified did_you_hear_the_conversation_through_the_thin_wall\n"
     ]
    },
    {
     "name": "stderr",
     "output_type": "stream",
     "text": [
      "Adding wiktionary links:  80%|████████  | 671/838 [08:20<01:39,  1.68it/s]"
     ]
    },
    {
     "name": "stdout",
     "output_type": "stream",
     "text": [
      "modified have_you_applied_for_a_loan_at_the_bank\n",
      "modified are_you_planning_to_expand_your_business_next_year\n",
      "modified decide_what_you_want_for_dinner\n"
     ]
    },
    {
     "name": "stderr",
     "output_type": "stream",
     "text": [
      "Adding wiktionary links:  80%|████████  | 674/838 [08:20<01:06,  2.47it/s]"
     ]
    },
    {
     "name": "stdout",
     "output_type": "stream",
     "text": [
      "modified im_sorry_but_thats_simply_not_good_enough\n",
      "modified lets_drink_to_our_success_tonight\n"
     ]
    },
    {
     "name": "stderr",
     "output_type": "stream",
     "text": [
      "Adding wiktionary links:  81%|████████  | 676/838 [08:21<01:09,  2.32it/s]"
     ]
    },
    {
     "name": "stdout",
     "output_type": "stream",
     "text": [
      "modified consider_your_options_before_making_a_decision\n"
     ]
    },
    {
     "name": "stderr",
     "output_type": "stream",
     "text": [
      "Adding wiktionary links:  81%|████████  | 677/838 [08:22<01:11,  2.25it/s]"
     ]
    },
    {
     "name": "stdout",
     "output_type": "stream",
     "text": [
      "modified theyve_started_growing_their_own_vegetables\n",
      "modified i_want_to_learn_a_new_language_this_year\n"
     ]
    },
    {
     "name": "stderr",
     "output_type": "stream",
     "text": [
      "Adding wiktionary links:  81%|████████  | 679/838 [08:25<02:24,  1.10it/s]"
     ]
    },
    {
     "name": "stdout",
     "output_type": "stream",
     "text": [
      "modified lets_talk_about_the_opportunity_over_coffee\n"
     ]
    },
    {
     "name": "stderr",
     "output_type": "stream",
     "text": [
      "Adding wiktionary links:  81%|████████  | 680/838 [08:27<02:42,  1.03s/it]"
     ]
    },
    {
     "name": "stdout",
     "output_type": "stream",
     "text": [
      "modified are_you_trying_to_sell_that_radio_at_the_market\n"
     ]
    },
    {
     "name": "stderr",
     "output_type": "stream",
     "text": [
      "Adding wiktionary links:  81%|████████▏ | 681/838 [08:28<02:45,  1.05s/it]"
     ]
    },
    {
     "name": "stdout",
     "output_type": "stream",
     "text": [
      "modified mind_the_gap_between_the_train_and_the_platform\n"
     ]
    },
    {
     "name": "stderr",
     "output_type": "stream",
     "text": [
      "Adding wiktionary links:  81%|████████▏ | 682/838 [08:29<02:27,  1.06it/s]"
     ]
    },
    {
     "name": "stdout",
     "output_type": "stream",
     "text": [
      "modified just_follow_the_signs_to_reach_your_destination\n"
     ]
    },
    {
     "name": "stderr",
     "output_type": "stream",
     "text": [
      "Adding wiktionary links:  82%|████████▏ | 683/838 [08:29<02:00,  1.29it/s]"
     ]
    },
    {
     "name": "stdout",
     "output_type": "stream",
     "text": [
      "modified should_we_move_to_another_location\n"
     ]
    },
    {
     "name": "stderr",
     "output_type": "stream",
     "text": [
      "Adding wiktionary links:  82%|████████▏ | 684/838 [08:30<02:29,  1.03it/s]"
     ]
    },
    {
     "name": "stdout",
     "output_type": "stream",
     "text": [
      "modified i_want_to_show_my_artwork_at_the_gallery\n"
     ]
    },
    {
     "name": "stderr",
     "output_type": "stream",
     "text": [
      "Adding wiktionary links:  82%|████████▏ | 685/838 [08:31<02:09,  1.18it/s]"
     ]
    },
    {
     "name": "stdout",
     "output_type": "stream",
     "text": [
      "modified i_was_born_in_a_small_country_town\n"
     ]
    },
    {
     "name": "stderr",
     "output_type": "stream",
     "text": [
      "Adding wiktionary links:  82%|████████▏ | 686/838 [08:31<01:42,  1.48it/s]"
     ]
    },
    {
     "name": "stdout",
     "output_type": "stream",
     "text": [
      "modified i_keep_falling_asleep_during_this_boring_lecture\n"
     ]
    },
    {
     "name": "stderr",
     "output_type": "stream",
     "text": [
      "Adding wiktionary links:  82%|████████▏ | 687/838 [08:31<01:21,  1.84it/s]"
     ]
    },
    {
     "name": "stdout",
     "output_type": "stream",
     "text": [
      "modified are_you_training_new_staff_next_month\n",
      "modified i_just_cant_understand_this_complex_math_problem\n"
     ]
    },
    {
     "name": "stderr",
     "output_type": "stream",
     "text": [
      "Adding wiktionary links:  82%|████████▏ | 689/838 [08:32<00:59,  2.51it/s]"
     ]
    },
    {
     "name": "stdout",
     "output_type": "stream",
     "text": [
      "modified i_want_to_marry_my_longtime_girlfriend\n"
     ]
    },
    {
     "name": "stderr",
     "output_type": "stream",
     "text": [
      "Adding wiktionary links:  82%|████████▏ | 690/838 [08:32<01:03,  2.33it/s]"
     ]
    },
    {
     "name": "stdout",
     "output_type": "stream",
     "text": [
      "modified whatever_happens_well_face_it_together_my_son\n"
     ]
    },
    {
     "name": "stderr",
     "output_type": "stream",
     "text": [
      "Adding wiktionary links:  82%|████████▏ | 691/838 [08:34<01:40,  1.47it/s]"
     ]
    },
    {
     "name": "stdout",
     "output_type": "stream",
     "text": [
      "modified lets_compare_the_size_of_our_profits\n"
     ]
    },
    {
     "name": "stderr",
     "output_type": "stream",
     "text": [
      "Adding wiktionary links:  83%|████████▎ | 692/838 [08:34<01:39,  1.47it/s]"
     ]
    },
    {
     "name": "stdout",
     "output_type": "stream",
     "text": [
      "modified shall_we_collect_interesting_rocks_along_the_beach\n",
      "modified dont_you_think_unity_is_crucial_right_now\n"
     ]
    },
    {
     "name": "stderr",
     "output_type": "stream",
     "text": [
      "Adding wiktionary links:  83%|████████▎ | 694/838 [08:35<01:09,  2.06it/s]"
     ]
    },
    {
     "name": "stdout",
     "output_type": "stream",
     "text": [
      "modified were_going_to_sing_at_the_local_concert\n",
      "modified shall_we_think_of_something_else\n",
      "modified are_they_providing_food_for_the_event\n"
     ]
    },
    {
     "name": "stderr",
     "output_type": "stream",
     "text": [
      "Adding wiktionary links:  83%|████████▎ | 697/838 [08:38<01:36,  1.46it/s]"
     ]
    },
    {
     "name": "stdout",
     "output_type": "stream",
     "text": [
      "modified i_hate_missing_the_bus_in_summer\n",
      "modified do_you_collect_rare_coins_as_a_hobby\n"
     ]
    },
    {
     "name": "stderr",
     "output_type": "stream",
     "text": [
      "Adding wiktionary links:  83%|████████▎ | 699/838 [08:38<01:11,  1.94it/s]"
     ]
    },
    {
     "name": "stdout",
     "output_type": "stream",
     "text": [
      "modified shall_we_try_that_restaurant\n"
     ]
    },
    {
     "name": "stderr",
     "output_type": "stream",
     "text": [
      "Adding wiktionary links:  84%|████████▎ | 701/838 [08:38<01:00,  2.26it/s]"
     ]
    },
    {
     "name": "stdout",
     "output_type": "stream",
     "text": [
      "modified do_you_collect_old_bottles_as_a_hobby\n",
      "modified you_should_eat_more_vegetables_to_stay_healthy\n",
      "modified i_was_born_in_a_small_town\n"
     ]
    },
    {
     "name": "stderr",
     "output_type": "stream",
     "text": [
      "Adding wiktionary links:  84%|████████▍ | 703/838 [08:40<01:12,  1.86it/s]"
     ]
    },
    {
     "name": "stdout",
     "output_type": "stream",
     "text": [
      "modified i_excused_myself_from_the_boring_conversation\n",
      "modified lets_sit_down_and_discuss_this_calmly\n"
     ]
    },
    {
     "name": "stderr",
     "output_type": "stream",
     "text": [
      "Adding wiktionary links:  84%|████████▍ | 705/838 [08:41<01:10,  1.88it/s]"
     ]
    },
    {
     "name": "stdout",
     "output_type": "stream",
     "text": [
      "modified she_ran_to_catch_the_last_train_home\n",
      "modified i_tried_to_catch_the_last_bus_home\n"
     ]
    },
    {
     "name": "stderr",
     "output_type": "stream",
     "text": [
      "Adding wiktionary links:  84%|████████▍ | 707/838 [08:41<00:55,  2.37it/s]"
     ]
    },
    {
     "name": "stdout",
     "output_type": "stream",
     "text": [
      "modified did_you_see_the_dog_catch_the_ball_in_midair\n"
     ]
    },
    {
     "name": "stderr",
     "output_type": "stream",
     "text": [
      "Adding wiktionary links:  84%|████████▍ | 708/838 [08:44<01:42,  1.27it/s]"
     ]
    },
    {
     "name": "stdout",
     "output_type": "stream",
     "text": [
      "modified shes_loved_art_since_she_was_little\n",
      "modified excuse_me_could_you_explain_that_again\n"
     ]
    },
    {
     "name": "stderr",
     "output_type": "stream",
     "text": [
      "Adding wiktionary links:  85%|████████▍ | 710/838 [08:44<01:12,  1.76it/s]"
     ]
    },
    {
     "name": "stdout",
     "output_type": "stream",
     "text": [
      "modified when_will_the_package_come_in_the_mail\n"
     ]
    },
    {
     "name": "stderr",
     "output_type": "stream",
     "text": [
      "Adding wiktionary links:  85%|████████▍ | 711/838 [08:45<01:17,  1.63it/s]"
     ]
    },
    {
     "name": "stdout",
     "output_type": "stream",
     "text": [
      "modified i_bet_you_cant_eat_the_whole_cake\n"
     ]
    },
    {
     "name": "stderr",
     "output_type": "stream",
     "text": [
      "Adding wiktionary links:  85%|████████▍ | 712/838 [08:45<01:06,  1.88it/s]"
     ]
    },
    {
     "name": "stdout",
     "output_type": "stream",
     "text": [
      "modified dont_you_think_this_is_pretty_ordinary\n"
     ]
    },
    {
     "name": "stderr",
     "output_type": "stream",
     "text": [
      "Adding wiktionary links:  85%|████████▌ | 713/838 [08:46<01:19,  1.57it/s]"
     ]
    },
    {
     "name": "stdout",
     "output_type": "stream",
     "text": [
      "modified lets_thank_dad_for_his_useful_advice\n"
     ]
    },
    {
     "name": "stderr",
     "output_type": "stream",
     "text": [
      "Adding wiktionary links:  85%|████████▌ | 714/838 [08:46<01:11,  1.73it/s]"
     ]
    },
    {
     "name": "stdout",
     "output_type": "stream",
     "text": [
      "modified how_did_i_miss_noticing_that_huge_fire\n"
     ]
    },
    {
     "name": "stderr",
     "output_type": "stream",
     "text": [
      "Adding wiktionary links:  85%|████████▌ | 715/838 [08:47<01:06,  1.84it/s]"
     ]
    },
    {
     "name": "stdout",
     "output_type": "stream",
     "text": [
      "modified clean_the_floor_before_the_guests_arrive\n"
     ]
    },
    {
     "name": "stderr",
     "output_type": "stream",
     "text": [
      "Adding wiktionary links:  85%|████████▌ | 716/838 [08:48<01:43,  1.18it/s]"
     ]
    },
    {
     "name": "stdout",
     "output_type": "stream",
     "text": [
      "modified add_some_spice_to_make_the_dish_tastier\n"
     ]
    },
    {
     "name": "stderr",
     "output_type": "stream",
     "text": [
      "Adding wiktionary links:  86%|████████▌ | 717/838 [08:50<01:59,  1.01it/s]"
     ]
    },
    {
     "name": "stdout",
     "output_type": "stream",
     "text": [
      "modified does_the_hotel_provide_breakfast_in_the_morning\n"
     ]
    },
    {
     "name": "stderr",
     "output_type": "stream",
     "text": [
      "Adding wiktionary links:  86%|████████▌ | 718/838 [08:50<01:31,  1.31it/s]"
     ]
    },
    {
     "name": "stdout",
     "output_type": "stream",
     "text": [
      "modified the_meeting_will_begin_at_noon_sharp\n"
     ]
    },
    {
     "name": "stderr",
     "output_type": "stream",
     "text": [
      "Adding wiktionary links:  86%|████████▌ | 719/838 [08:52<01:57,  1.01it/s]"
     ]
    },
    {
     "name": "stdout",
     "output_type": "stream",
     "text": [
      "modified are_they_still_going_to_produce_cheap_materials\n"
     ]
    },
    {
     "name": "stderr",
     "output_type": "stream",
     "text": [
      "Adding wiktionary links:  86%|████████▌ | 720/838 [08:54<02:33,  1.30s/it]"
     ]
    },
    {
     "name": "stdout",
     "output_type": "stream",
     "text": [
      "modified did_you_see_the_cat_bounce_off_the_kitchen_window\n"
     ]
    },
    {
     "name": "stderr",
     "output_type": "stream",
     "text": [
      "Adding wiktionary links:  86%|████████▌ | 721/838 [08:54<02:01,  1.04s/it]"
     ]
    },
    {
     "name": "stdout",
     "output_type": "stream",
     "text": [
      "modified anyway_lets_get_back_to_the_main_point\n"
     ]
    },
    {
     "name": "stderr",
     "output_type": "stream",
     "text": [
      "Adding wiktionary links:  86%|████████▌ | 722/838 [08:55<02:01,  1.05s/it]"
     ]
    },
    {
     "name": "stdout",
     "output_type": "stream",
     "text": [
      "modified dont_forget_to_wear_a_helmet_while_cycling\n",
      "modified let_me_tell_you_the_story_of_our_journey\n"
     ]
    },
    {
     "name": "stderr",
     "output_type": "stream",
     "text": [
      "Adding wiktionary links:  86%|████████▋ | 724/838 [08:56<01:20,  1.42it/s]"
     ]
    },
    {
     "name": "stdout",
     "output_type": "stream",
     "text": [
      "modified dont_try_to_lift_heavy_furniture_alone\n"
     ]
    },
    {
     "name": "stderr",
     "output_type": "stream",
     "text": [
      "Adding wiktionary links:  87%|████████▋ | 725/838 [08:57<01:39,  1.14it/s]"
     ]
    },
    {
     "name": "stdout",
     "output_type": "stream",
     "text": [
      "modified just_throw_the_old_computer_in_the_trash\n",
      "modified feel_free_to_sit_anywhere_in_this_section\n"
     ]
    },
    {
     "name": "stderr",
     "output_type": "stream",
     "text": [
      "Adding wiktionary links:  87%|████████▋ | 727/838 [08:59<01:33,  1.19it/s]"
     ]
    },
    {
     "name": "stdout",
     "output_type": "stream",
     "text": [
      "modified did_you_hear_they_set_a_new_record_in_the_race\n",
      "modified lets_think_about_this_more_carefully\n",
      "modified were_going_on_vacation_next_month\n"
     ]
    },
    {
     "name": "stderr",
     "output_type": "stream",
     "text": [
      "Adding wiktionary links:  87%|████████▋ | 730/838 [08:59<00:57,  1.87it/s]"
     ]
    },
    {
     "name": "stdout",
     "output_type": "stream",
     "text": [
      "modified lets_think_outside_the_box_more_often\n"
     ]
    },
    {
     "name": "stderr",
     "output_type": "stream",
     "text": [
      "Adding wiktionary links:  87%|████████▋ | 731/838 [09:00<01:03,  1.68it/s]"
     ]
    },
    {
     "name": "stdout",
     "output_type": "stream",
     "text": [
      "modified lets_base_our_decision_on_facts\n",
      "modified turn_off_the_radio_please\n"
     ]
    },
    {
     "name": "stderr",
     "output_type": "stream",
     "text": [
      "Adding wiktionary links:  87%|████████▋ | 733/838 [09:01<00:53,  1.95it/s]"
     ]
    },
    {
     "name": "stdout",
     "output_type": "stream",
     "text": [
      "modified lets_base_our_decision_on_the_data\n"
     ]
    },
    {
     "name": "stderr",
     "output_type": "stream",
     "text": [
      "Adding wiktionary links:  88%|████████▊ | 734/838 [09:01<00:54,  1.91it/s]"
     ]
    },
    {
     "name": "stdout",
     "output_type": "stream",
     "text": [
      "modified did_you_hear_she_won_an_award_for_her_scientific_research\n",
      "modified hes_going_to_show_us_around_the_new_office\n",
      "modified we_cant_make_any_mistakes_now\n",
      "modified dont_forget_to_drink_more_water\n"
     ]
    },
    {
     "name": "stderr",
     "output_type": "stream",
     "text": [
      "Adding wiktionary links:  88%|████████▊ | 738/838 [09:03<00:46,  2.13it/s]"
     ]
    },
    {
     "name": "stdout",
     "output_type": "stream",
     "text": [
      "modified did_you_hear_theyre_spending_their_holiday_down_south\n",
      "modified i_want_to_wear_something_special_for_the_occasion\n",
      "modified i_want_to_read_more_books_this_year\n"
     ]
    },
    {
     "name": "stderr",
     "output_type": "stream",
     "text": [
      "Adding wiktionary links:  88%|████████▊ | 741/838 [09:04<00:34,  2.78it/s]"
     ]
    },
    {
     "name": "stdout",
     "output_type": "stream",
     "text": [
      "modified lets_sort_out_this_mess_quickly\n",
      "modified did_you_see_the_new_film_last_week\n"
     ]
    },
    {
     "name": "stderr",
     "output_type": "stream",
     "text": [
      "Adding wiktionary links:  89%|████████▊ | 743/838 [09:05<00:47,  1.99it/s]"
     ]
    },
    {
     "name": "stdout",
     "output_type": "stream",
     "text": [
      "modified i_need_to_find_my_lost_ticket\n"
     ]
    },
    {
     "name": "stderr",
     "output_type": "stream",
     "text": [
      "Adding wiktionary links:  89%|████████▉ | 744/838 [09:06<00:46,  2.02it/s]"
     ]
    },
    {
     "name": "stdout",
     "output_type": "stream",
     "text": [
      "modified the_total_cost_is_a_bit_higher_than_we_thought\n",
      "modified im_so_excited_about_our_upcoming_vacation\n",
      "modified i_need_to_read_this_important_letter_right_away\n",
      "modified i_need_extra_time_to_finish_my_homework\n",
      "modified make_sure_to_doublecheck_your_work\n"
     ]
    },
    {
     "name": "stderr",
     "output_type": "stream",
     "text": [
      "Adding wiktionary links:  89%|████████▉ | 749/838 [09:08<00:43,  2.04it/s]"
     ]
    },
    {
     "name": "stdout",
     "output_type": "stream",
     "text": [
      "modified lets_share_the_good_news_right_away\n"
     ]
    },
    {
     "name": "stderr",
     "output_type": "stream",
     "text": [
      "Adding wiktionary links:  89%|████████▉ | 750/838 [09:09<00:48,  1.81it/s]"
     ]
    },
    {
     "name": "stdout",
     "output_type": "stream",
     "text": [
      "modified do_you_want_to_become_a_famous_writer\n"
     ]
    },
    {
     "name": "stderr",
     "output_type": "stream",
     "text": [
      "Adding wiktionary links:  90%|████████▉ | 751/838 [09:11<01:00,  1.43it/s]"
     ]
    },
    {
     "name": "stdout",
     "output_type": "stream",
     "text": [
      "modified lets_cut_unnecessary_expenses_this_year\n"
     ]
    },
    {
     "name": "stderr",
     "output_type": "stream",
     "text": [
      "Adding wiktionary links:  90%|████████▉ | 752/838 [09:12<01:06,  1.29it/s]"
     ]
    },
    {
     "name": "stdout",
     "output_type": "stream",
     "text": [
      "modified stop_the_production_immediately\n",
      "modified shall_we_take_a_quick_break\n"
     ]
    },
    {
     "name": "stderr",
     "output_type": "stream",
     "text": [
      "Adding wiktionary links:  90%|████████▉ | 754/838 [09:13<00:57,  1.45it/s]"
     ]
    },
    {
     "name": "stdout",
     "output_type": "stream",
     "text": [
      "modified would_you_like_me_to_fill_your_cup_with_tea\n"
     ]
    },
    {
     "name": "stderr",
     "output_type": "stream",
     "text": [
      "Adding wiktionary links:  90%|█████████ | 755/838 [09:14<01:03,  1.30it/s]"
     ]
    },
    {
     "name": "stdout",
     "output_type": "stream",
     "text": [
      "modified look_at_the_fresh_flowers_she_put_in_each_room\n"
     ]
    },
    {
     "name": "stderr",
     "output_type": "stream",
     "text": [
      "Adding wiktionary links:  90%|█████████ | 756/838 [09:15<01:14,  1.11it/s]"
     ]
    },
    {
     "name": "stdout",
     "output_type": "stream",
     "text": [
      "modified the_death_toll_is_particularly_high_this_year\n"
     ]
    },
    {
     "name": "stderr",
     "output_type": "stream",
     "text": [
      "Adding wiktionary links:  90%|█████████ | 757/838 [09:17<01:17,  1.04it/s]"
     ]
    },
    {
     "name": "stdout",
     "output_type": "stream",
     "text": [
      "modified look_at_that_animal_dragging_itself_across_the_field\n"
     ]
    },
    {
     "name": "stderr",
     "output_type": "stream",
     "text": [
      "Adding wiktionary links:  90%|█████████ | 758/838 [09:17<01:16,  1.05it/s]"
     ]
    },
    {
     "name": "stdout",
     "output_type": "stream",
     "text": [
      "modified could_you_send_me_that_information_by_email\n",
      "modified shall_we_meet_at_the_east_side\n"
     ]
    },
    {
     "name": "stderr",
     "output_type": "stream",
     "text": [
      "Adding wiktionary links:  91%|█████████ | 760/838 [09:18<00:52,  1.48it/s]"
     ]
    },
    {
     "name": "stdout",
     "output_type": "stream",
     "text": [
      "modified look_at_that_bird_diving_into_the_clear_water\n"
     ]
    },
    {
     "name": "stderr",
     "output_type": "stream",
     "text": [
      "Adding wiktionary links:  91%|█████████ | 761/838 [09:19<00:48,  1.57it/s]"
     ]
    },
    {
     "name": "stdout",
     "output_type": "stream",
     "text": [
      "modified were_going_to_run_the_company_efficiently\n"
     ]
    },
    {
     "name": "stderr",
     "output_type": "stream",
     "text": [
      "Adding wiktionary links:  91%|█████████ | 762/838 [09:19<00:51,  1.47it/s]"
     ]
    },
    {
     "name": "stdout",
     "output_type": "stream",
     "text": [
      "modified he_might_charge_his_phone_before_leaving\n"
     ]
    },
    {
     "name": "stderr",
     "output_type": "stream",
     "text": [
      "Adding wiktionary links:  91%|█████████ | 763/838 [09:20<00:48,  1.56it/s]"
     ]
    },
    {
     "name": "stdout",
     "output_type": "stream",
     "text": [
      "modified why_dont_we_use_examples_its_the_easiest_way\n"
     ]
    },
    {
     "name": "stderr",
     "output_type": "stream",
     "text": [
      "Adding wiktionary links:  91%|█████████ | 764/838 [09:20<00:40,  1.84it/s]"
     ]
    },
    {
     "name": "stdout",
     "output_type": "stream",
     "text": [
      "modified could_you_lay_the_table_for_dinner_please\n",
      "modified i_always_forget_whats_going_on\n"
     ]
    },
    {
     "name": "stderr",
     "output_type": "stream",
     "text": [
      "Adding wiktionary links:  91%|█████████▏| 766/838 [09:21<00:40,  1.78it/s]"
     ]
    },
    {
     "name": "stdout",
     "output_type": "stream",
     "text": [
      "modified dont_worry_youll_get_used_to_the_new_system\n"
     ]
    },
    {
     "name": "stderr",
     "output_type": "stream",
     "text": [
      "Adding wiktionary links:  92%|█████████▏| 767/838 [09:22<00:38,  1.85it/s]"
     ]
    },
    {
     "name": "stdout",
     "output_type": "stream",
     "text": [
      "modified will_you_accept_my_apology_for_being_late\n"
     ]
    },
    {
     "name": "stderr",
     "output_type": "stream",
     "text": [
      "Adding wiktionary links:  92%|█████████▏| 768/838 [09:22<00:37,  1.86it/s]"
     ]
    },
    {
     "name": "stdout",
     "output_type": "stream",
     "text": [
      "modified did_they_get_into_the_site_okay\n",
      "modified close_the_door_when_you_leave_okay\n"
     ]
    },
    {
     "name": "stderr",
     "output_type": "stream",
     "text": [
      "Adding wiktionary links:  92%|█████████▏| 770/838 [09:23<00:24,  2.75it/s]"
     ]
    },
    {
     "name": "stdout",
     "output_type": "stream",
     "text": [
      "modified i_used_to_think_differently_about_this_issue\n"
     ]
    },
    {
     "name": "stderr",
     "output_type": "stream",
     "text": [
      "Adding wiktionary links:  92%|█████████▏| 771/838 [09:23<00:24,  2.71it/s]"
     ]
    },
    {
     "name": "stdout",
     "output_type": "stream",
     "text": [
      "modified i_suppose_we_should_leave_now_right\n"
     ]
    },
    {
     "name": "stderr",
     "output_type": "stream",
     "text": [
      "Adding wiktionary links:  92%|█████████▏| 772/838 [09:24<00:28,  2.34it/s]"
     ]
    },
    {
     "name": "stdout",
     "output_type": "stream",
     "text": [
      "modified the_concert_starts_at_eight_oclock\n"
     ]
    },
    {
     "name": "stderr",
     "output_type": "stream",
     "text": [
      "Adding wiktionary links:  92%|█████████▏| 773/838 [09:25<00:44,  1.46it/s]"
     ]
    },
    {
     "name": "stdout",
     "output_type": "stream",
     "text": [
      "modified add_some_salt_to_enhance_the_flavor\n",
      "modified i_love_cooking_italian_food\n",
      "modified i_feel_happy_when_im_with_you\n",
      "modified shall_we_help_with_the_cleanup\n"
     ]
    },
    {
     "name": "stderr",
     "output_type": "stream",
     "text": [
      "Adding wiktionary links:  93%|█████████▎| 777/838 [09:26<00:25,  2.38it/s]"
     ]
    },
    {
     "name": "stdout",
     "output_type": "stream",
     "text": [
      "modified she_watched_the_sunset_from_her_balcony\n"
     ]
    },
    {
     "name": "stderr",
     "output_type": "stream",
     "text": [
      "Adding wiktionary links:  93%|█████████▎| 778/838 [09:27<00:35,  1.71it/s]"
     ]
    },
    {
     "name": "stdout",
     "output_type": "stream",
     "text": [
      "modified wait_for_me_at_the_bottom_of_the_stairs\n"
     ]
    },
    {
     "name": "stderr",
     "output_type": "stream",
     "text": [
      "Adding wiktionary links:  93%|█████████▎| 779/838 [09:29<00:42,  1.38it/s]"
     ]
    },
    {
     "name": "stdout",
     "output_type": "stream",
     "text": [
      "modified did_you_see_that_stupid_comment_on_twitter\n",
      "modified we_need_to_finish_this_project_by_friday\n"
     ]
    },
    {
     "name": "stderr",
     "output_type": "stream",
     "text": [
      "Adding wiktionary links:  93%|█████████▎| 781/838 [09:30<00:40,  1.40it/s]"
     ]
    },
    {
     "name": "stdout",
     "output_type": "stream",
     "text": [
      "modified have_you_considered_the_longterm_effects_of_your_decision\n"
     ]
    },
    {
     "name": "stderr",
     "output_type": "stream",
     "text": [
      "Adding wiktionary links:  93%|█████████▎| 782/838 [09:31<00:47,  1.17it/s]"
     ]
    },
    {
     "name": "stdout",
     "output_type": "stream",
     "text": [
      "modified did_you_see_how_she_led_the_discussion_with_such_enthusiasm\n"
     ]
    },
    {
     "name": "stderr",
     "output_type": "stream",
     "text": [
      "Adding wiktionary links:  93%|█████████▎| 783/838 [09:32<00:40,  1.34it/s]"
     ]
    },
    {
     "name": "stdout",
     "output_type": "stream",
     "text": [
      "modified lets_train_new_employees_more_effectively\n"
     ]
    },
    {
     "name": "stderr",
     "output_type": "stream",
     "text": [
      "Adding wiktionary links:  94%|█████████▎| 784/838 [09:33<00:50,  1.07it/s]"
     ]
    },
    {
     "name": "stdout",
     "output_type": "stream",
     "text": [
      "modified he_passed_away_peacefully_in_his_sleep\n",
      "modified do_you_love_cooking_in_your_bedroom\n"
     ]
    },
    {
     "name": "stderr",
     "output_type": "stream",
     "text": [
      "Adding wiktionary links:  94%|█████████▍| 786/838 [09:33<00:30,  1.68it/s]"
     ]
    },
    {
     "name": "stdout",
     "output_type": "stream",
     "text": [
      "modified dont_stick_your_tongue_out_at_your_brother\n",
      "modified are_you_coming_to_her_birthday_party\n"
     ]
    },
    {
     "name": "stderr",
     "output_type": "stream",
     "text": [
      "Adding wiktionary links:  94%|█████████▍| 788/838 [09:34<00:22,  2.23it/s]"
     ]
    },
    {
     "name": "stdout",
     "output_type": "stream",
     "text": [
      "modified did_he_really_change_his_mind_at_the_last_moment\n"
     ]
    },
    {
     "name": "stderr",
     "output_type": "stream",
     "text": [
      "Adding wiktionary links:  94%|█████████▍| 789/838 [09:34<00:22,  2.15it/s]"
     ]
    },
    {
     "name": "stdout",
     "output_type": "stream",
     "text": [
      "modified do_you_think_hell_enjoy_the_concert_tonight\n",
      "modified dont_you_love_how_she_cooks_wonderful_meals_for_her_family\n",
      "modified should_we_include_everyone_in_the_plan\n"
     ]
    },
    {
     "name": "stderr",
     "output_type": "stream",
     "text": [
      "Adding wiktionary links:  95%|█████████▍| 792/838 [09:35<00:16,  2.75it/s]"
     ]
    },
    {
     "name": "stdout",
     "output_type": "stream",
     "text": [
      "modified i_suggest_we_try_the_new_restaurant\n"
     ]
    },
    {
     "name": "stderr",
     "output_type": "stream",
     "text": [
      "Adding wiktionary links:  95%|█████████▍| 793/838 [09:35<00:15,  2.91it/s]"
     ]
    },
    {
     "name": "stdout",
     "output_type": "stream",
     "text": [
      "modified he_might_mention_your_name_in_the_report\n",
      "modified hes_receiving_an_award_for_his_work\n"
     ]
    },
    {
     "name": "stderr",
     "output_type": "stream",
     "text": [
      "Adding wiktionary links:  95%|█████████▍| 795/838 [09:36<00:13,  3.18it/s]"
     ]
    },
    {
     "name": "stdout",
     "output_type": "stream",
     "text": [
      "modified dont_forget_to_send_the_email_before_leaving_work\n",
      "modified shes_trying_to_enhance_her_skills_at_work\n",
      "modified i_cook_delicious_meals_every_day\n",
      "modified what_will_happen_if_were_late\n",
      "modified shall_we_cook_dinner_together_tonight\n",
      "modified the_alarm_will_sound_at_six_oclock\n"
     ]
    },
    {
     "name": "stderr",
     "output_type": "stream",
     "text": [
      "Adding wiktionary links:  96%|█████████▌| 801/838 [09:37<00:09,  3.90it/s]"
     ]
    },
    {
     "name": "stdout",
     "output_type": "stream",
     "text": [
      "modified did_you_know_they_moved_to_the_countryside_last_year\n"
     ]
    },
    {
     "name": "stderr",
     "output_type": "stream",
     "text": [
      "Adding wiktionary links:  96%|█████████▌| 802/838 [09:39<00:14,  2.51it/s]"
     ]
    },
    {
     "name": "stdout",
     "output_type": "stream",
     "text": [
      "modified dont_lose_hope_in_difficult_times_sir\n",
      "modified i_was_careful_not_to_show_my_fear\n"
     ]
    },
    {
     "name": "stderr",
     "output_type": "stream",
     "text": [
      "Adding wiktionary links:  96%|█████████▌| 804/838 [09:39<00:11,  2.88it/s]"
     ]
    },
    {
     "name": "stdout",
     "output_type": "stream",
     "text": [
      "modified did_you_forget_to_pay_the_electricity_bill\n",
      "modified let_me_talk_to_the_manager_about_this\n"
     ]
    },
    {
     "name": "stderr",
     "output_type": "stream",
     "text": [
      "Adding wiktionary links:  96%|█████████▌| 806/838 [09:40<00:11,  2.80it/s]"
     ]
    },
    {
     "name": "stdout",
     "output_type": "stream",
     "text": [
      "modified keep_your_promises_it_builds_trust\n"
     ]
    },
    {
     "name": "stderr",
     "output_type": "stream",
     "text": [
      "Adding wiktionary links:  96%|█████████▋| 807/838 [09:41<00:17,  1.76it/s]"
     ]
    },
    {
     "name": "stdout",
     "output_type": "stream",
     "text": [
      "modified dont_they_bear_the_burden_of_societys_expectations\n"
     ]
    },
    {
     "name": "stderr",
     "output_type": "stream",
     "text": [
      "Adding wiktionary links:  96%|█████████▋| 808/838 [09:43<00:23,  1.27it/s]"
     ]
    },
    {
     "name": "stdout",
     "output_type": "stream",
     "text": [
      "modified did_you_hear_the_police_caught_the_thief_last_night\n"
     ]
    },
    {
     "name": "stderr",
     "output_type": "stream",
     "text": [
      "Adding wiktionary links:  97%|█████████▋| 809/838 [09:44<00:21,  1.36it/s]"
     ]
    },
    {
     "name": "stdout",
     "output_type": "stream",
     "text": [
      "modified pull_the_lever_to_start_the_machine\n"
     ]
    },
    {
     "name": "stderr",
     "output_type": "stream",
     "text": [
      "Adding wiktionary links:  97%|█████████▋| 810/838 [09:45<00:25,  1.10it/s]"
     ]
    },
    {
     "name": "stdout",
     "output_type": "stream",
     "text": [
      "modified have_they_shared_their_suggestion_with_management\n"
     ]
    },
    {
     "name": "stderr",
     "output_type": "stream",
     "text": [
      "Adding wiktionary links:  97%|█████████▋| 811/838 [09:47<00:29,  1.09s/it]"
     ]
    },
    {
     "name": "stdout",
     "output_type": "stream",
     "text": [
      "modified the_army_officer_must_face_the_enemy_soon\n"
     ]
    },
    {
     "name": "stderr",
     "output_type": "stream",
     "text": [
      "Adding wiktionary links:  97%|█████████▋| 812/838 [09:47<00:23,  1.10it/s]"
     ]
    },
    {
     "name": "stdout",
     "output_type": "stream",
     "text": [
      "modified are_you_preparing_the_stage_for_the_occasion\n"
     ]
    },
    {
     "name": "stderr",
     "output_type": "stream",
     "text": [
      "Adding wiktionary links:  97%|█████████▋| 813/838 [09:48<00:20,  1.23it/s]"
     ]
    },
    {
     "name": "stdout",
     "output_type": "stream",
     "text": [
      "modified shes_planning_to_move_to_the_west_coast\n"
     ]
    },
    {
     "name": "stderr",
     "output_type": "stream",
     "text": [
      "Adding wiktionary links:  97%|█████████▋| 814/838 [09:48<00:16,  1.44it/s]"
     ]
    },
    {
     "name": "stdout",
     "output_type": "stream",
     "text": [
      "modified do_you_think_well_achieve_our_sales_targets\n"
     ]
    },
    {
     "name": "stderr",
     "output_type": "stream",
     "text": [
      "Adding wiktionary links:  97%|█████████▋| 815/838 [09:49<00:14,  1.59it/s]"
     ]
    },
    {
     "name": "stdout",
     "output_type": "stream",
     "text": [
      "modified lets_sit_and_discuss_this_over_tea\n"
     ]
    },
    {
     "name": "stderr",
     "output_type": "stream",
     "text": [
      "Adding wiktionary links:  97%|█████████▋| 816/838 [09:49<00:14,  1.55it/s]"
     ]
    },
    {
     "name": "stdout",
     "output_type": "stream",
     "text": [
      "modified shall_we_take_a_tour_around_the_city\n"
     ]
    },
    {
     "name": "stderr",
     "output_type": "stream",
     "text": [
      "Adding wiktionary links:  97%|█████████▋| 817/838 [09:50<00:11,  1.80it/s]"
     ]
    },
    {
     "name": "stdout",
     "output_type": "stream",
     "text": [
      "modified lets_provide_better_service_to_our_customers\n",
      "modified that_seems_like_a_good_idea\n",
      "modified weve_got_to_find_a_solution_to_this_problem\n"
     ]
    },
    {
     "name": "stderr",
     "output_type": "stream",
     "text": [
      "Adding wiktionary links:  98%|█████████▊| 820/838 [09:51<00:07,  2.28it/s]"
     ]
    },
    {
     "name": "stdout",
     "output_type": "stream",
     "text": [
      "modified reduce_your_speed_in_this_area_please\n",
      "modified im_here_to_help_in_any_way_i_can\n",
      "modified shouldnt_we_try_to_save_some_money\n"
     ]
    },
    {
     "name": "stderr",
     "output_type": "stream",
     "text": [
      "Adding wiktionary links:  98%|█████████▊| 823/838 [09:51<00:04,  3.27it/s]"
     ]
    },
    {
     "name": "stdout",
     "output_type": "stream",
     "text": [
      "modified dont_bother_him_while_hes_working\n",
      "modified he_tried_to_knock_some_sense_into_them\n"
     ]
    },
    {
     "name": "stderr",
     "output_type": "stream",
     "text": [
      "Adding wiktionary links:  98%|█████████▊| 825/838 [09:52<00:03,  3.63it/s]"
     ]
    },
    {
     "name": "stdout",
     "output_type": "stream",
     "text": [
      "modified i_just_want_to_feel_happy_and_content\n"
     ]
    },
    {
     "name": "stderr",
     "output_type": "stream",
     "text": [
      "Adding wiktionary links:  99%|█████████▊| 826/838 [09:52<00:03,  3.37it/s]"
     ]
    },
    {
     "name": "stdout",
     "output_type": "stream",
     "text": [
      "modified she_tried_to_lift_the_heavy_box_herself\n"
     ]
    },
    {
     "name": "stderr",
     "output_type": "stream",
     "text": [
      "Adding wiktionary links:  99%|█████████▊| 827/838 [09:53<00:04,  2.43it/s]"
     ]
    },
    {
     "name": "stdout",
     "output_type": "stream",
     "text": [
      "modified did_you_notice_he_referenced_that_book_in_his_speech\n",
      "modified can_you_fix_this_problem_by_tomorrow\n",
      "modified did_you_notice_her_beautiful_smile_across_the_room\n"
     ]
    },
    {
     "name": "stderr",
     "output_type": "stream",
     "text": [
      "Adding wiktionary links:  99%|█████████▉| 830/838 [09:54<00:03,  2.53it/s]"
     ]
    },
    {
     "name": "stdout",
     "output_type": "stream",
     "text": [
      "modified normally_id_say_yes_but_not_this_time\n"
     ]
    },
    {
     "name": "stderr",
     "output_type": "stream",
     "text": [
      "Adding wiktionary links:  99%|█████████▉| 831/838 [09:54<00:02,  2.48it/s]"
     ]
    },
    {
     "name": "stdout",
     "output_type": "stream",
     "text": [
      "modified theyre_letting_us_enter_the_building_now\n"
     ]
    },
    {
     "name": "stderr",
     "output_type": "stream",
     "text": [
      "Adding wiktionary links:  99%|█████████▉| 832/838 [09:56<00:04,  1.36it/s]"
     ]
    },
    {
     "name": "stdout",
     "output_type": "stream",
     "text": [
      "modified cover_your_face_with_your_hands\n",
      "modified i_like_to_listen_to_music_while_working_out\n",
      "modified shell_get_that_phone_call_from_work\n"
     ]
    },
    {
     "name": "stderr",
     "output_type": "stream",
     "text": [
      "Adding wiktionary links: 100%|█████████▉| 835/838 [09:58<00:01,  1.66it/s]"
     ]
    },
    {
     "name": "stdout",
     "output_type": "stream",
     "text": [
      "modified knock_before_entering_its_common_courtesy\n"
     ]
    },
    {
     "name": "stderr",
     "output_type": "stream",
     "text": [
      "Adding wiktionary links: 100%|█████████▉| 836/838 [09:58<00:01,  1.77it/s]"
     ]
    },
    {
     "name": "stdout",
     "output_type": "stream",
     "text": [
      "modified lets_cover_all_aspects_of_the_problem\n",
      "modified hes_trying_to_improve_his_cooking\n"
     ]
    },
    {
     "name": "stderr",
     "output_type": "stream",
     "text": [
      "Adding wiktionary links: 100%|██████████| 838/838 [09:59<00:00,  1.40it/s]"
     ]
    },
    {
     "name": "stdout",
     "output_type": "stream",
     "text": [
      "modified wash_your_hands_before_you_drink_tea\n"
     ]
    },
    {
     "name": "stderr",
     "output_type": "stream",
     "text": [
      "\n"
     ]
    }
   ],
   "source": [
    "from src.wiktionary import add_wiktionary_links\n",
    "phrase_translations, word_link_cache = add_wiktionary_links(phrase_translations, word_link_cache, overwrite=False)"
   ]
  },
  {
   "cell_type": "code",
   "execution_count": 6,
   "metadata": {},
   "outputs": [
    {
     "data": {
      "text/plain": [
       "'gs://audio-language-trainer-private-content/collections/LM1000/swedish/translations.json'"
      ]
     },
     "execution_count": 6,
     "metadata": {},
     "output_type": "execute_result"
    }
   ],
   "source": [
    "upload_to_gcs(obj=phrase_translations, bucket_name=config.GCS_PRIVATE_BUCKET, file_name=get_translated_phrases_path(collection=\"LM1000\"))"
   ]
  },
  {
   "cell_type": "code",
   "execution_count": 7,
   "metadata": {},
   "outputs": [
    {
     "data": {
      "text/plain": [
       "'gs://audio-language-trainer-private-content/resources/swedish/swedish_wiktionary_cache.json'"
      ]
     },
     "execution_count": 7,
     "metadata": {},
     "output_type": "execute_result"
    }
   ],
   "source": [
    "upload_to_gcs(word_link_cache, bucket_name=config.GCS_PRIVATE_BUCKET, file_name=get_wiktionary_cache_path())"
   ]
  },
  {
   "cell_type": "code",
   "execution_count": null,
   "metadata": {},
   "outputs": [],
   "source": []
  }
 ],
 "metadata": {
  "kernelspec": {
   "display_name": ".venv",
   "language": "python",
   "name": "python3"
  },
  "language_info": {
   "codemirror_mode": {
    "name": "ipython",
    "version": 3
   },
   "file_extension": ".py",
   "mimetype": "text/x-python",
   "name": "python",
   "nbconvert_exporter": "python",
   "pygments_lexer": "ipython3",
   "version": "3.11.4"
  }
 },
 "nbformat": 4,
 "nbformat_minor": 2
}
