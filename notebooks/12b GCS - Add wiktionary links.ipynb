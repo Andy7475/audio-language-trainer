{
 "cells": [
  {
   "cell_type": "code",
   "execution_count": 1,
   "metadata": {},
   "outputs": [],
   "source": [
    "%load_ext autoreload\n",
    "from google.auth import default\n",
    "credentials, project = default()"
   ]
  },
  {
   "cell_type": "code",
   "execution_count": 2,
   "metadata": {},
   "outputs": [
    {
     "name": "stdout",
     "output_type": "stream",
     "text": [
      "German\n"
     ]
    }
   ],
   "source": [
    "\n",
    "%autoreload 2\n",
    "import os\n",
    "import sys\n",
    "from pathlib import Path\n",
    "module_path = os.path.abspath(os.path.join('..'))\n",
    "if module_path not in sys.path:\n",
    "    sys.path.append(module_path)\n",
    "from dotenv import load_dotenv\n",
    "load_dotenv()\n",
    "\n",
    "from src.config_loader import config\n",
    "from src.gcs_storage import read_from_gcs, upload_to_gcs,get_wiktionary_cache_path \n",
    "from src.utils import get_first_n_items\n",
    "from src.wiktionary import generate_wiktionary_links\n",
    "from tqdm import tqdm\n",
    "print(config.TARGET_LANGUAGE_NAME)\n",
    "COLLECTION = \"WarmUp150\""
   ]
  },
  {
   "cell_type": "markdown",
   "metadata": {},
   "source": [
    "# Wiktionary Links\n",
    "\n",
    "```raw\n",
    "These are stored as a space separated string of either the words or a <a href> <\\a> item.\n",
    "\n",
    "Within the phrase dictionary they are stored with the key 'wiktionary_link'\n",
    "\n",
    "phrase_key : {'english' : phrase key,\n",
    "            'french' : phrase key,\n",
    "            'wiktionary_links' : <a href>phrase</a> key}```\n",
    "\n",
    "We store the wiktionary links as a cache so they can be reused in, e.g. the stories"
   ]
  },
  {
   "cell_type": "code",
   "execution_count": 4,
   "metadata": {},
   "outputs": [],
   "source": [
    "# get current translated JSON file\n",
    "from src.gcs_storage import get_wiktionary_cache_path, get_translated_phrases_path\n",
    "\n",
    "phrase_translations = read_from_gcs(bucket_name=config.GCS_PRIVATE_BUCKET, file_path=get_translated_phrases_path(collection=COLLECTION))"
   ]
  },
  {
   "cell_type": "code",
   "execution_count": 7,
   "metadata": {},
   "outputs": [],
   "source": [
    "word_link_cache= read_from_gcs(config.GCS_PRIVATE_BUCKET, file_path = get_wiktionary_cache_path())"
   ]
  },
  {
   "cell_type": "code",
   "execution_count": null,
   "metadata": {},
   "outputs": [
    {
     "name": "stdout",
     "output_type": "stream",
     "text": [
      "Found 906 failed entries to retry: ['Arbeit', 'Hilfe', '-', 'Auto', 'Glas', 'Urlaub', 'Meer', 'E-Mail', 'Feierabend', 'Frühjahr', 'Abschluss', 'Projekt', 'Freitag', 'Herd', 'Tochter', 'Flughafen', 'Idee', 'Fehler', 'Geburtstagsfeier', 'Konzert', 'Schluss', 'Zug', 'Auszeichnung', 'Überraschungsparty', 'Mama', 'weitergekocht', 'Zukunft', 'Seite', 'Teilnehmer', 'Restaurant', 'Monat', 'Wohnung', 'Gedanken', 'Party', 'Gästen', 'Kaffee', 'Methode', 'Firma', 'Mantel', 'Garderobe', 'Salz', 'Geschmack', 'Kuchen', 'Ok', 'Liste', 'Auftrag', 'Woche', 'Team', 'Geister', 'Phänomene', 'Bett', 'Formular', 'Bruder', 'Vogel', 'Gerücht', 'Gitarre', 'Lust', 'Campingausflug', 'Gewohnheiten', 'Lotto', 'Flasche', 'Wahnsinn', 'Aussicht', 'Schlüssel', 'Wochenende', 'Tasche', 'Lösung', 'Radio', 'Chaos', 'Ordnung', 'Blumen', 'Bericht', 'Nase', 'Tür', 'Stadt', 'Regens', 'Ideen', 'Möglichkeiten', 'Pfund', 'Gott', 'Zeug', 'Show', 'Westküste', 'Suppe', 'Norden', 'Reiseabenteuern', 'Satz', 'Hausaufgaben', 'Helm', 'Maske', 'Arbeitsbedingungen', 'Zinssatz', 'Einigung', 'Picknick', 'Geste', 'Familie', 'Jobangebot', 'Sohn', 'Café', 'Treffpunkt', 'Musik', 'Training', 'Mails', 'Kleinigkeit', 'Problem', 'Leute', 'Entschuldigung', 'Bank', 'Geschäft', 'Jahr', 'Sonnenuntergang', 'Geld', 'zurückzulegen', 'Anruf', 'Mutter', 'Kunst', 'Büro', 'Anweisungen', 'Hund', 'Tisch', 'Pause', 'Anlass', 'Nachricht', 'Besprechung', 'Wettkampf', 'Zimmer', 'Fisch', 'Diskussion', 'Meeres', 'Gegend', 'Tages', 'Großstadt', 'Welt', 'Probleme', 'Feiertagen', 'Hölle', 'Budgetsystem', 'Namen', 'Leuten', 'Kleinigkeiten', 'Alarm', 'Gefahr', 'Dinge', 'Eltern', 'Privatleben', 'Hut', 'Veranstaltung', 'Kinder', 'Brief', 'Lokalzeitung', 'Baum', 'Sicherheit', 'Schatz', 'Kistenschleppen', 'Minister', 'Interessen', 'Gemeinde', 'Wegbeschreibung', 'Ehrlichkeit', 'Enten', 'Schirm', 'Erfolgsquote', 'Kopf', 'zurechtzurücken', 'Hauptgedanken', 'Antwort', 'Wecker', 'Kontostand', 'Raums', 'Sieg', 'OP', 'Fuß', 'Tippfehler', 'Event', 'Fernseher', 'Pfarrer', 'Aufgabe', 'Bundeswehr', 'Jungs', 'Spielzeugauto', 'Fischerdorf', 'Gebäude', 'Mann', 'Ball', 'Gesundheit', 'Test', 'Bravour', 'Kleb', 'Kleber', 'Lehrer', 'Angelegenheit', 'Krach', 'Nachbarschaft', 'Chance', 'Figur', 'Vater', 'Terrasse', 'weiterkommen', '25', 'Kilo', 'Wahrheit', 'Perspektiven', 'Worte', 'Erfahrungen', 'Treppe', 'Veränderung', 'Verkauf', 'Hemd', 'Erfolgsgefühl', 'Ergebnis', 'Testergebnisse', 'Bürofeier', 'Großauftrag', 'Urlaubspläne', 'Job', 'Art', 'Elektroauto', 'Nacht', 'Atem', 'Würz', 'Gericht', 'Publikum', 'Moment', 'Denkens', 'Vorstellungsgespräch', 'Pferd', 'Hitze', 'Katze', 'Küchenfenster', 'Club', 'Leiche', \"kapier'\", 'Mathe-Problem', 'Thema', \"lass'\", 'Mitternacht', 'Dach', 'Benutz', 'Menschenverstand', 'Land', 'Geräusch', 'Meile', 'Mädchen', 'Nerv', 'Station', 'Sache', 'Bus', 'Fenster', 'Bild', 'Schlafzimmer', 'Sachen', 'Mitarbeiter', 'Angst', 'Karte', 'Gemüse', 'Unfall', 'Straße', 'Menschen', 'Künstlerin', 'Schriftsteller', 'Änderungen', 'Datei', 'Cent', 'Arzt', 'Termin', 'Luftqualität', 'Hand', 'Mund', 'Situation', 'Büchern', 'Natur', 'Sonntagnachmittag', 'Fußball', 'Krankenhaus', 'Luft', 'Uni-Abschluss', 'Semester', 'Details', 'Stress', 'Wettbewerb', 'Mannschaft', 'Möbel', 'Campus', 'Ängsten', 'CO2-Ausstoß', 'Papa', 'Umweltgesetze', 'Beziehung', 'Stern', 'Wunsch', 'Balkon', 'Freund', 'Arbeitsplan', 'Meinung', 'Matheaufgabe', 'Einsatz', 'Sprache', 'Tasse', 'Tee', 'Handy', 'Farbe', 'Augen', 'Kirche', 'Hochzeit', 'Soldaten', 'Verteidigung', 'Landes', 'Kommentar', 'Twitter', 'Attentat', 'Präsidenten', 'Bein', 'Operation', 'Führerschein', 'Händen', 'Fundament', 'Mittag', 'Bewerbung', 'Schauspielerin', 'Sonntag', 'Frühstück', 'Knopf', 'Todesopfer', 'Video', 'Zubereitung', 'Meeting', 'Reisepass', 'Entscheidung', 'Hände', 'Frühjahrsputz', 'System', 'Zeiten', 'Gäste', 'Tier', 'Feld', 'Kellner', 'Gespräch', 'Forschung', 'Produkt', 'Bibliothek', 'Wäsche', 'Studenten', 'Morgennebel', 'Karten', 'Beispiele', 'Bushaltestelle', 'Bereich', 'Vorhänge', 'Sommer', 'check', 'Schneid', 'Stücke', 'Paket', 'Zusammenhalt', 'Riff', 'Kunstwerke', 'Galerie', 'Festmahl', 'Adler', 'Beute', 'Hotel', 'Boot', 'Fakten', 'Bühne', 'Kunden', 'Ostseite', 'Auge', 'Rechnungen', 'Gemeindezentrum', 'Kulturen', 'Firmenpolitik', 'Minuten', 'Welttournee', 'Lebensmitteln', 'Umsatzziele', 'Wohltätigkeitsveranstaltung', 'Geländer', 'Gehalt', 'Euro', 'Regionalentwicklungsprogramm', 'Nationalpark', 'Streck', 'Zunge', 'Straßen', 'Maschine', 'Studium', 'Umwelt', 'Verluste', 'Bücher', 'Vorstellung', 'Gesicht', 'Tellerrand', 'hinausschauen', 'Hobby', 'Rosenkohl', 'Rekord', 'Süden', 'Argumentation', 'Führungsqualitäten', 'Schaubild', 'Qualität', 'Bildung', 'Hebel', 'Freunde', 'Gewerkschaftsgebäude', 'Kopie', 'Entscheidungen', 'Seife', 'Telefon', 'Fußballmannschaft', 'UFO', 'Vorstellungsgesprächs', 'bereithält', 'Marathon', 'Zweck', 'Facebook-Seite', 'geliked', 'Tennis', 'Knöchel', 'Umweltthemen', 'Prüfung', 'Länge', 'Kirchenglocke', 'Teller', 'aufzufangen', 'ausgeglicheneres', 'Dokumentarfilm', 'Hügel', 'runterrollt', 'Einkaufszentrum', 'Gerechtigkeit', 'Autos', 'Brücke', 'Verlust', 'Freundin', 'Wirtschaft', 'Gerichte', 'Mitgliedern', 'Material', 'Witz', 'Optionen', 'Betracht', 'Vogelgesang', 'Fähigkeiten', 'Teams', 'Verspätung', 'Infos', 'Pool', 'Freizeit', 'Aspekte', 'Problems', 'Expertin', 'Vorlesung', 'Naturwissenschaften', 'Innenstadt', 'Materialien', 'Hit', 'Vorschlag', 'Geschäftsleitung', 'Grund', 'Schwester', 'Schlaflied', 'Polizei', 'Dieb', 'Rom', 'Erwartungen', 'Protest', 'Misserfolg', 'Grat', 'Strand', 'Papier', 'Inhalte', 'Landschaft', 'Wisch', 'Boden', 'Gasrechnung', 'Stromrechnung', 'Service', 'Kiste', 'Klopf', 'Öffentlichkeit', 'Produktion', 'Rat', 'Kleid', 'angegossen', 'Kunstsammlung', 'Markt', 'Fitnessziele', 'Muscheln', 'Gleichberechtigung', 'Fahrkarte', 'Fabrik', 'Differenzen', 'Sternschnuppe', 'Monaten', 'Ecke', 'Landstadt', 'Computer', 'Müll', 'Straßenecke', 'Abstand', 'Bahnsteig', 'Stuhl', 'Aufzug', 'Technologie', 'Aufmerksamkeit', 'Mut', 'Gremium', 'Pokal', 'Flaschen', 'Hauses', 'Sicht', 'Hintertür', 'Kunde', 'Renovierung', 'Ausland', 'Geburtstagsgeschenk', 'Schuhe', 'Bewegung', 'Diätplan', 'Zeitungen', 'zurückgeprallt', 'Chef', 'abzukühlen', 'Beispiel', 'Dorfes', 'Meinungen', 'Haustiere', 'Kommunikationsfähigkeiten', 'Kredit', 'Sonnenaufgang', 'Offizier', 'gegenübertreten', 'Sam', 'Veranstaltungsort', 'Unterstützung', 'Hey', 'Kino', 'Center', 'Doku', 'Kirchen', 'Tickets', '7', 'Actionfilm', 'Banküberfall', 'Ding', 'Beine', 'Abenteuer', 'Mondlicht', 'Geschichte', 'Anzug', 'Geschenk', 'Brautpaar', 'Flieger', 'Taxi', 'find', 'Hochzeitsgeschenk', \"haben's\", 'fass', \"wir's\", 'Geschenkeladen', 'Krise', \"wenn's\", 'Freunden', 'Taschenlampe', 'Abenteuerlust', 'Jacke', 'Nachbarskatze', 'Gartentor', 'Schatten', 'Gemüsebeet', \"seh's\", 'Alex', 'Herr', 'Johnson', 'Nachbar', 'Mitternachtsabenteuer', \"läuft's\", 'Dorf', 'Konzentrier', 'Herausforderungen', 'Balance', 'Wohltätigkeitsmarathon', 'Facebook', 'Wochen', 'Wohltätigkeitsorganisation', 'Läufer', 'Find', 'Helfer', 'Kindern', 'Leidenschaft', 'Lieder', 'Panik', 'Oma', 'Ohr', \"kann's\", 'Lied', 'Regengeräuschen', 'Katastrophe', 'Anfang', 'Schlamassel', 'Pech', 'sauberzumachen', \"hat's\", 'Wartezimmer', 'Güte', 'Hälfte', 'Krönung', 'Interviewer', \"du's\", 'Einstellung', 'Drink', 'Winterreise', 'Schweden', 'Stockholm', 'Wildnis', 'Resort', 'See', \"pack'\", 'Wollpulli', 'Wanderschuhe', 'Wanderung', 'Kiefernwald', 'Insel', \"glaub'\", 'Unterschlupf', 'Holzhütte', 'Schwedisch-Sprachführer', 'Hüttenbesitzer', 'Köttbullar', 'Preiselbeersoße', 'Proviant', 'Angelausflug', '6', 'Mist', 'Heimweg', 'Lage', 'Erinnerung', 'Umgebung', 'Ranger', 'Angelplatz', 'Überraschungen', 'Navi', 'Zufallstag', 'Footballspiel', 'Spieler', 'Trikot', '2', 'Genesungskarten', '302', 'Fahrstuhl', 'Wow', 'Besserung', 'Teamgeist', 'mitfeiern', 'Kaffeemischung', 'Brüssel', 'Batterie', 'anzuschieben', \"versuch's\", 'Bescheid', 'Stück', 'Grip', 'Viertelstunde', 'Brüsseler', 'Mischung', 'Aktion', 'Zufall', 'Wetterbericht', 'Lokalrivalen', 'Taktik', 'Eimern', 'matschig', 'Strategie', 'Bedingungen', 'Pässe', 'ausrutschst', 'zusammengespielt', 'hey', 'Nächte', 'Sternegucken', 'Lagerfeuer', 'Zelt', \"hol's\", 'Kochsachen', \"nehm'\", 'Schlafsäcke', 'Kurve', 'Campingkocher', 'ungeplanten', 'Wetterberichte', 'Gruselgeschichten', 'Abteilung', 'Projekte', 'Hypothek', 'Studienkredite', 'abzuzahlen', 'App-Idee', 'Verteilung', 'Hausarbeiten', 'Ahnung', 'App-Entwickeln', 'Online-Kurse', \"klappt's\", 'Geschäftsidee', 'App-Entwicklungskursen', 'Businessplan', 'Marketing', 'Reinfall', 'Planung', 'Jobverlust', 'Segen', 'Sonnencreme', 'Getränke', 'Sandwiches', 'Limonade', 'Stadtlärm', 'Haltestelle', 'Städtchen', 'Kunstgalerie', 'rumzusitzen', 'Schild', 'Reisepaket', 'Südamerika', 'All-Inclusive-Abenteuerurlaub', 'Wassersport', 'Expedition', 'Flug', 'Wetters', 'hinbringen', 'Eimer', 'Pläne', 'Roadtrip', 'Abenteuern', 'Musikfestival', 'reingestolpert', 'Urlaubschaos', \"soll's\", 'Sommerferien', 'Great', 'Barrier', 'Reef', 'Ausrüstung', 'Tauchausrüstung', 'Masken', 'Neoprenanzüge', 'Korallenriffe', \"mach'\", 'Tauchermaske', 'Tauchlehrer', 'Ersatzmaske', \"fühl'\", 'Tauchgang', \"versprech'\", \"pass'\", 'Unterwasserabenteuer', 'kristallklare', 'Geburtstagsparty', '8', 'Gästeliste', 'Deko', 'Schokolade', 'Bäckerei', 'Einladungen', 'Lasagne', 'Präsentation', 'Informationen', 'Einleitung', 'Hauptpunkte', 'Produktionszahlen', 'Notiz', 'Strom', 'Fall-', 'Vorsicht', 'Stoß', 'Papiere', 'Warnung', 'Türgriff', 'Flur', 'Notbeleuchtung', 'Technikraum', 'Sicherungskasten', 'Pausenraum', 'Hausmeister', 'Stromausfall', 'Umspannwerk', 'Zwischenzeit', 'Festwoche', 'Notizen', 'Goldfisch', 'Handschuh', 'Kultur', 'Momenten', 'Lebens', 'einzuchecken', 'den/die', 'Glocke', 'anpflanzen', 'Jahreszeit', 'Freiraum', 'Regenschirm', 'Geburtstag', 'Möglichkeit', 'Rechnung', 'Unterricht', 'Mitte', 'Plätze', 'Werdegang', 'Schutzausrüstung', 'Freundschaft', 'Regal', 'Politik', 'Frisur', 'Haarschnitt', 'Frühlingswetter', 'Dokumentation', 'Löcher', 'Wochenenden', 'Ohren', 'Produkte', 'Ort', 'weiterbilden', 'Bilder', 'Alltag', 'Orientierung', 'Region', 'Programm', 'Fahrer', 'Zinsen', 'Pump', 'Farbkombination', 'Arztes', 'Schwierigkeiten', 'Baby', 'Nachrichten', 'Tests', 'Schachtel', 'Antiquitätenladen', 'Trick', 'Ladenbesitzer', 'Markierungen', 'wow', 'Teeblätter', 'Goldfisch-Anhänger', \"'Für\", \"Leben.'\", 'Geschenke', 'Hochzeitstorte', 'Partydeko', 'Flugzeug', 'Traum', 'Brautgeschäft', 'Zugtickets', 'Städte', 'Geburtstagsabenteuer', 'Unterwasserprojekt', 'Lebensraum', 'Experten', 'Anlage', 'abgeschottet', 'Einwand', 'Gemeinschaftsbereiche', 'Grünflächen', 'Abgeschiedenheit', 'Konzertkarten', 'Website', \"mich's\", 'B', 'Vorverkaufsstelle', 'Location', 'Abendkasse', 'Filmhochschul-Abschluss', 'Balkonen', 'Jobs', 'Route', 'Fotos', 'Locations', 'Dozentin', 'Doku-Kurs', 'Sonnenuntergangsfotos', 'Sonnenuntergänge', 'Mitternachts-Service', 'Nachtschwärmer', 'Hmm', 'Reiz', 'Zeitpläne', 'Nachtfahrer', 'durchgerechnet', 'Umsatzsteigerung', 'Nachtbäcker', 'Nachbarn', 'Punkt', 'Küche', 'Lieferbereich', 'Mitarbeitern', 'Kompromiss', \"Wenn's\", 'Angebot', 'Mitternachts-Bäckerei-Abenteuer', 'Gartenhochzeit', 'Abenteuerhochzeit', 'Mittelweg', 'Erreichbarkeit', 'Wunschtermin', 'Extremsport', 'Kanu']\n",
      "✅ Successfully found link for 'Arbeit': <a href=\"https://en.wiktionary.org/wiki/Arbeit#German\">Arbeit</a>\n",
      "✅ Successfully found link for 'Hilfe': <a href=\"https://en.wiktionary.org/wiki/Hilfe#German\">Hilfe</a>\n",
      "❌ Still no link found for '-'\n",
      "✅ Successfully found link for 'Auto': <a href=\"https://en.wiktionary.org/wiki/Auto#German\">Auto</a>\n",
      "✅ Successfully found link for 'Glas': <a href=\"https://en.wiktionary.org/wiki/Glas#German\">Glas</a>\n",
      "✅ Successfully found link for 'Urlaub': <a href=\"https://en.wiktionary.org/wiki/Urlaub#German\">Urlaub</a>\n",
      "✅ Successfully found link for 'Meer': <a href=\"https://en.wiktionary.org/wiki/Meer#German\">Meer</a>\n"
     ]
    },
    {
     "ename": "KeyError",
     "evalue": "'E-Mail'",
     "output_type": "error",
     "traceback": [
      "\u001b[31m---------------------------------------------------------------------------\u001b[39m",
      "\u001b[31mKeyError\u001b[39m                                  Traceback (most recent call last)",
      "\u001b[36mCell\u001b[39m\u001b[36m \u001b[39m\u001b[32mIn[10]\u001b[39m\u001b[32m, line 25\u001b[39m\n\u001b[32m     23\u001b[39m \u001b[38;5;28;01mif\u001b[39;00m updated_cache.get(word) != word:\n\u001b[32m     24\u001b[39m     successful_retries.append(word)\n\u001b[32m---> \u001b[39m\u001b[32m25\u001b[39m     \u001b[38;5;28mprint\u001b[39m(\u001b[33mf\u001b[39m\u001b[33m\"\u001b[39m\u001b[33m✅ Successfully found link for \u001b[39m\u001b[33m'\u001b[39m\u001b[38;5;132;01m{\u001b[39;00mword\u001b[38;5;132;01m}\u001b[39;00m\u001b[33m'\u001b[39m\u001b[33m: \u001b[39m\u001b[38;5;132;01m{\u001b[39;00m\u001b[43mupdated_cache\u001b[49m\u001b[43m[\u001b[49m\u001b[43mword\u001b[49m\u001b[43m]\u001b[49m\u001b[38;5;132;01m}\u001b[39;00m\u001b[33m\"\u001b[39m)\n\u001b[32m     26\u001b[39m \u001b[38;5;28;01melse\u001b[39;00m:\n\u001b[32m     27\u001b[39m     \u001b[38;5;28mprint\u001b[39m(\u001b[33mf\u001b[39m\u001b[33m\"\u001b[39m\u001b[33m❌ Still no link found for \u001b[39m\u001b[33m'\u001b[39m\u001b[38;5;132;01m{\u001b[39;00mword\u001b[38;5;132;01m}\u001b[39;00m\u001b[33m'\u001b[39m\u001b[33m\"\u001b[39m)\n",
      "\u001b[31mKeyError\u001b[39m: 'E-Mail'"
     ]
    }
   ],
   "source": [
    "from src.wiktionary import generate_wiktionary_links\n",
    "from src.config_loader import config\n",
    "\n",
    "\n",
    "# Find failed entries (where key == value)\n",
    "failed_words = [word for word, link in word_link_cache.items() if word == link]\n",
    "print(f\"Found {len(failed_words)} failed entries to retry: {failed_words}\")\n",
    "\n",
    "# Retry each failed word using the updated function\n",
    "updated_cache = word_link_cache.copy()\n",
    "successful_retries = []\n",
    "\n",
    "for word in failed_words:\n",
    "    # Use the generate_wiktionary_links function to retry this word\n",
    "    _, updated_cache = generate_wiktionary_links(\n",
    "        phrase=word,\n",
    "        language_name=config.TARGET_LANGUAGE_NAME,  # or specify \"German\" directly\n",
    "        word_link_cache={},\n",
    "        return_cache=True\n",
    "    )\n",
    "    \n",
    "    # Check if we got a successful link this time\n",
    "    try:\n",
    "        if updated_cache[word] != word:\n",
    "            successful_retries.append(word)\n",
    "            print(f\"✅ Successfully found link for '{word}': {updated_cache[word]}\")\n",
    "        else:\n",
    "            print(f\"❌ Still no link found for '{word}'\")\n",
    "    except KeyError:\n",
    "        print(f\"Key error with {word}\")\n",
    "        continue\n",
    "\n",
    "print(f\"\\nSummary:\")\n",
    "print(f\"Retried {len(failed_words)} words\")\n",
    "print(f\"Successfully found links for {len(successful_retries)} words\")\n",
    "print(f\"Updated cache size: {len(updated_cache)}\")\n",
    "\n",
    "# Your updated cache is now ready\n",
    "word_link_cache = updated_cache"
   ]
  },
  {
   "cell_type": "code",
   "execution_count": null,
   "metadata": {},
   "outputs": [],
   "source": [
    "from src.wiktionary import add_wiktionary_links\n",
    "phrase_translations, word_link_cache = add_wiktionary_links(phrase_translations, word_link_cache, overwrite=False)"
   ]
  },
  {
   "cell_type": "code",
   "execution_count": null,
   "metadata": {},
   "outputs": [],
   "source": [
    "upload_to_gcs(obj=phrase_translations, bucket_name=config.GCS_PRIVATE_BUCKET, file_name=get_translated_phrases_path(collection=COLLECTION))"
   ]
  },
  {
   "cell_type": "code",
   "execution_count": null,
   "metadata": {},
   "outputs": [],
   "source": [
    "upload_to_gcs(word_link_cache, bucket_name=config.GCS_PRIVATE_BUCKET, file_name=get_wiktionary_cache_path())"
   ]
  },
  {
   "cell_type": "code",
   "execution_count": null,
   "metadata": {},
   "outputs": [],
   "source": []
  }
 ],
 "metadata": {
  "kernelspec": {
   "display_name": ".venv",
   "language": "python",
   "name": "python3"
  },
  "language_info": {
   "codemirror_mode": {
    "name": "ipython",
    "version": 3
   },
   "file_extension": ".py",
   "mimetype": "text/x-python",
   "name": "python",
   "nbconvert_exporter": "python",
   "pygments_lexer": "ipython3",
   "version": "3.12.0"
  }
 },
 "nbformat": 4,
 "nbformat_minor": 2
}
