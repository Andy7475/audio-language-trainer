{
 "cells": [
  {
   "cell_type": "code",
   "execution_count": 1,
   "metadata": {},
   "outputs": [],
   "source": [
    "%load_ext autoreload\n",
    "from google.auth import default\n",
    "credentials, project = default()"
   ]
  },
  {
   "cell_type": "code",
   "execution_count": null,
   "metadata": {},
   "outputs": [],
   "source": [
    "\n",
    "%autoreload 2\n",
    "import os\n",
    "import sys\n",
    "from pathlib import Path\n",
    "module_path = os.path.abspath(os.path.join('..'))\n",
    "if module_path not in sys.path:\n",
    "    sys.path.append(module_path)\n",
    "from dotenv import load_dotenv\n",
    "load_dotenv()\n",
    "\n",
    "from src.config_loader import config\n",
    "from src.gcs_storage import read_from_gcs, upload_to_gcs,get_wiktionary_cache_path \n",
    "from src.utils import get_first_n_items\n",
    "from src.wiktionary import generate_wiktionary_links\n",
    "from tqdm import tqdm\n",
    "config.TARGET_LANGUAGE_NAME"
   ]
  },
  {
   "cell_type": "markdown",
   "metadata": {},
   "source": [
    "# Wiktionary Links\n",
    "\n",
    "```raw\n",
    "These are stored as a space separated string of either the words or a <a href> <\\a> item.\n",
    "\n",
    "Within the phrase dictionary they are stored with the key 'wiktionary_link'\n",
    "\n",
    "phrase_key : {'english' : phrase key,\n",
    "            'french' : phrase key,\n",
    "            'wiktionary_links' : <a href>phrase</a> key}```\n",
    "\n",
    "We store the wiktionary links as a cache so they can be reused in, e.g. the stories"
   ]
  },
  {
   "cell_type": "code",
   "execution_count": null,
   "metadata": {},
   "outputs": [],
   "source": [
    "# get current translated JSON file\n",
    "from src.gcs_storage import get_wiktionary_cache_path, get_translated_phrases_path\n",
    "\n",
    "phrase_translations = read_from_gcs(bucket_name=config.GCS_PRIVATE_BUCKET, file_path=get_translated_phrases_path())\n",
    "word_link_cache = read_from_gcs(bucket_name=config.GCS_PRIVATE_BUCKET, file_path=get_wiktionary_cache_path())"
   ]
  },
  {
   "cell_type": "code",
   "execution_count": 4,
   "metadata": {},
   "outputs": [],
   "source": [
    "word_link_cache={}"
   ]
  },
  {
   "cell_type": "code",
   "execution_count": null,
   "metadata": {},
   "outputs": [],
   "source": [
    "from src.wiktionary import add_wiktionary_links\n",
    "phrase_translations, word_link_cache = add_wiktionary_links(phrase_translations, word_link_cache, overwrite=False)"
   ]
  },
  {
   "cell_type": "code",
   "execution_count": null,
   "metadata": {},
   "outputs": [],
   "source": [
    "upload_to_gcs(obj=phrase_translations, bucket_name=config.GCS_PRIVATE_BUCKET, file_name=get_translated_phrases_path(collection=\"LM1000\"))"
   ]
  },
  {
   "cell_type": "code",
   "execution_count": null,
   "metadata": {},
   "outputs": [],
   "source": [
    "upload_to_gcs(word_link_cache, bucket_name=config.GCS_PRIVATE_BUCKET, file_name=get_wiktionary_cache_path())"
   ]
  }
 ],
 "metadata": {
  "kernelspec": {
   "display_name": ".venv",
   "language": "python",
   "name": "python3"
  },
  "language_info": {
   "codemirror_mode": {
    "name": "ipython",
    "version": 3
   },
   "file_extension": ".py",
   "mimetype": "text/x-python",
   "name": "python",
   "nbconvert_exporter": "python",
   "pygments_lexer": "ipython3",
   "version": "3.12.0"
  }
 },
 "nbformat": 4,
 "nbformat_minor": 2
}
