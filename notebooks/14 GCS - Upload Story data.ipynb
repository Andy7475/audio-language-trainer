{
 "cells": [
  {
   "cell_type": "code",
   "execution_count": 4,
   "metadata": {},
   "outputs": [
    {
     "name": "stderr",
     "output_type": "stream",
     "text": [
      "[autoreload of src.utils failed: Traceback (most recent call last):\n",
      "  File \"y:\\Python Scripts\\audio-language-trainer\\.venv\\Lib\\site-packages\\IPython\\extensions\\autoreload.py\", line 276, in check\n",
      "    superreload(m, reload, self.old_objects)\n",
      "  File \"y:\\Python Scripts\\audio-language-trainer\\.venv\\Lib\\site-packages\\IPython\\extensions\\autoreload.py\", line 475, in superreload\n",
      "    module = reload(module)\n",
      "             ^^^^^^^^^^^^^^\n",
      "  File \"C:\\Users\\i5\\AppData\\Local\\Programs\\Python\\Python311\\Lib\\importlib\\__init__.py\", line 169, in reload\n",
      "    _bootstrap._exec(spec, module)\n",
      "  File \"<frozen importlib._bootstrap>\", line 621, in _exec\n",
      "  File \"<frozen importlib._bootstrap_external>\", line 940, in exec_module\n",
      "  File \"<frozen importlib._bootstrap>\", line 241, in _call_with_frames_removed\n",
      "  File \"y:\\Python Scripts\\audio-language-trainer\\src\\utils.py\", line 23, in <module>\n",
      "    from src.anki_tools import load_template\n",
      "  File \"y:\\Python Scripts\\audio-language-trainer\\src\\anki_tools.py\", line 22, in <module>\n",
      "    from src.images import add_image_paths\n",
      "  File \"y:\\Python Scripts\\audio-language-trainer\\src\\images.py\", line 14, in <module>\n",
      "    from src.utils import anthropic_generate, clean_filename, ok_to_query_api, load_json\n",
      "ImportError: cannot import name 'anthropic_generate' from 'src.utils' (y:\\Python Scripts\\audio-language-trainer\\src\\utils.py)\n",
      "]\n"
     ]
    }
   ],
   "source": [
    "from google.auth import default\n",
    "credentials, project = default()"
   ]
  },
  {
   "cell_type": "code",
   "execution_count": 5,
   "metadata": {},
   "outputs": [
    {
     "name": "stdout",
     "output_type": "stream",
     "text": [
      "The autoreload extension is already loaded. To reload it, use:\n",
      "  %reload_ext autoreload\n"
     ]
    },
    {
     "data": {
      "text/plain": [
       "'French'"
      ]
     },
     "execution_count": 5,
     "metadata": {},
     "output_type": "execute_result"
    }
   ],
   "source": [
    "%load_ext autoreload\n",
    "%autoreload 2\n",
    "import os\n",
    "import sys\n",
    "from pathlib import Path\n",
    "module_path = os.path.abspath(os.path.join('..'))\n",
    "if module_path not in sys.path:\n",
    "    sys.path.append(module_path)\n",
    "from dotenv import load_dotenv\n",
    "load_dotenv()\n",
    "\n",
    "from src.utils import (load_json, get_first_n_items, list_story_folders, save_json, save_text_file, load_text_file, clean_filename, read_from_gcs, upload_to_gcs)  # noqa: E402\n",
    "from src.story import upload_story_image\n",
    "from src.config_loader import config\n",
    "config.TARGET_LANGUAGE_NAME"
   ]
  },
  {
   "cell_type": "markdown",
   "metadata": {},
   "source": [
    "# Story Data\n",
    "\n",
    "## Storage overview\n",
    "\n",
    "We want to save the english story dialogue as dialogue.json\n",
    "\n",
    "Then translations by language_name, then each phrase as an audio clip. We might want higher quality audio for the stories e.g. chirp3 voice\n",
    "\n",
    "```raw\n",
    "collections/LM1000/stories/story_murder_mystery/dialogue.json\n",
    "collections/LM1000/stories/story_murder_mystery/dialogue/french/translated_dialogue.json\n",
    "collections/LM1000/stories/story_murder_mystery/images/introduction.png etc\n",
    "collections/LM1000/stories/story_murder_mystery/audio/french/introduction/part_0_sam.mp3\n",
    "collections/LM1000/stories/story_murder_mystery/audio/french/introduction/part_1_alex.mp3\n",
    "collections/LM1000/stories/story_murder_mystery/audio/french/introduction/fast/part_1_alex.mp3```\n",
    "\n",
    "\n",
    "This allows us to quickly retrieve a phrase based on the bucket name and the phrase key, as well as modify individual phrases for later correction"
   ]
  },
  {
   "cell_type": "code",
   "execution_count": 6,
   "metadata": {},
   "outputs": [
    {
     "name": "stdout",
     "output_type": "stream",
     "text": [
      "french\n"
     ]
    },
    {
     "data": {
      "text/plain": [
       "(VoiceInfo(name='en-GB-Studio-B', provider=<VoiceProvider.GOOGLE: 'google'>, voice_type=<VoiceType.STUDIO: 'studio'>, gender='MALE', language_code='en-GB', country_code='GB', voice_id='en-GB-Studio-B'),\n",
       " VoiceInfo(name='fr-FR-Chirp3-HD-Zephyr', provider=<VoiceProvider.GOOGLE: 'google'>, voice_type=<VoiceType.STANDARD: 'standard'>, gender='FEMALE', language_code='fr-FR', country_code='FR', voice_id='fr-FR-Chirp3-HD-Zephyr'),\n",
       " VoiceInfo(name='fr-FR-Chirp3-HD-Puck', provider=<VoiceProvider.GOOGLE: 'google'>, voice_type=<VoiceType.STANDARD: 'standard'>, gender='MALE', language_code='fr-FR', country_code='FR', voice_id='fr-FR-Chirp3-HD-Puck'))"
      ]
     },
     "execution_count": 6,
     "metadata": {},
     "output_type": "execute_result"
    }
   ],
   "source": [
    "language_name = config.TARGET_LANGUAGE_NAME.lower()\n",
    "print(language_name)\n",
    "config.get_voice_models()"
   ]
  },
  {
   "cell_type": "code",
   "execution_count": null,
   "metadata": {},
   "outputs": [],
   "source": [
    "# get story data\n",
    "notebook_dir = Path().absolute()  # This gives src/notebooks\n",
    "phrase_dir = notebook_dir.parent / \"data\" / \"phrases\" #where we store text files of phrases\n",
    "story_dir = notebook_dir.parent / \"outputs\" / \"stories\" # where we store our stories\n"
   ]
  },
  {
   "cell_type": "code",
   "execution_count": null,
   "metadata": {},
   "outputs": [],
   "source": [
    "all_stories = list_story_folders()"
   ]
  },
  {
   "cell_type": "code",
   "execution_count": null,
   "metadata": {},
   "outputs": [],
   "source": [
    "story_name = all_stories[0]\n",
    "story_dialogue_file = story_dir / story_name / f\"{story_name}.json\"\n",
    "story_dialogue = load_json(story_dialogue_file)"
   ]
  },
  {
   "cell_type": "markdown",
   "metadata": {},
   "source": [
    "Upload the base dialogue"
   ]
  },
  {
   "cell_type": "code",
   "execution_count": null,
   "metadata": {},
   "outputs": [],
   "source": [
    "from src.dialogue_generation import upload_dialogue_to_gcs, translate_and_upload_dialogue\n",
    "\n",
    "upload_dialogue_to_gcs(story_dialogue, story_name, collection =\"LM1000\")"
   ]
  },
  {
   "cell_type": "markdown",
   "metadata": {},
   "source": [
    "Translate and upload the story"
   ]
  },
  {
   "cell_type": "code",
   "execution_count": null,
   "metadata": {},
   "outputs": [],
   "source": [
    "translate_and_upload_dialogue(story_dialogue, story_name, collection=\"LM1000\")"
   ]
  },
  {
   "cell_type": "markdown",
   "metadata": {},
   "source": [
    "## Loop all stories (text)"
   ]
  },
  {
   "cell_type": "code",
   "execution_count": null,
   "metadata": {},
   "outputs": [],
   "source": [
    "# loop all stories for initial upload of english base story\n",
    "\n",
    "for story_name in all_stories[8:]:\n",
    "    story_dialogue_file = story_dir / story_name / f\"{story_name}.json\"\n",
    "    story_dialogue = load_json(story_dialogue_file)\n",
    "    upload_dialogue_to_gcs(story_dialogue, story_name, collection =\"LM1000\")"
   ]
  },
  {
   "cell_type": "code",
   "execution_count": null,
   "metadata": {},
   "outputs": [],
   "source": [
    "# loop stories and translate\n",
    "from src.utils import check_blob_exists\n",
    "for story_name in all_stories:\n",
    "    # get the dialogue\n",
    "    story_file_path = f\"collections/LM1000/stories/{story_name}/dialogue.json\"\n",
    "    translated_file_path = f\"collections/LM1000/stories/{story_name}/dialogue/{language_name}/translated_dialogue.json\"\n",
    "    if check_blob_exists(config.GCS_PRIVATE_BUCKET, translated_file_path):\n",
    "        print(f\"{story_name} already translated\")\n",
    "        continue\n",
    "    story_dialogue = read_from_gcs(config.GCS_PRIVATE_BUCKET, story_file_path)\n",
    "    translate_and_upload_dialogue(story_dialogue, story_name, collection=\"LM1000\")"
   ]
  },
  {
   "cell_type": "markdown",
   "metadata": {},
   "source": [
    "Generate audio and upload"
   ]
  },
  {
   "cell_type": "code",
   "execution_count": null,
   "metadata": {},
   "outputs": [],
   "source": [
    "# get the translated dialogue\n",
    "file_path = f\"collections/LM1000/stories/{story_name}/dialogue/{language_name}/translated_dialogue.json\"\n",
    "translated_dialogue = read_from_gcs(config.GCS_PRIVATE_BUCKET, file_path)"
   ]
  },
  {
   "cell_type": "code",
   "execution_count": null,
   "metadata": {},
   "outputs": [],
   "source": [
    "translated_dialogue"
   ]
  },
  {
   "cell_type": "markdown",
   "metadata": {},
   "source": [
    "### Generate audio and upload"
   ]
  },
  {
   "cell_type": "code",
   "execution_count": null,
   "metadata": {},
   "outputs": [],
   "source": [
    "config.get_voice_models()"
   ]
  },
  {
   "cell_type": "code",
   "execution_count": null,
   "metadata": {},
   "outputs": [],
   "source": [
    "from src.audio_generation import generate_dialogue_audio_and_upload\n",
    "\n",
    "generate_dialogue_audio_and_upload(translated_dialogue, story_name)"
   ]
  },
  {
   "cell_type": "markdown",
   "metadata": {},
   "source": [
    "### Loop through stories to generate audio"
   ]
  },
  {
   "cell_type": "code",
   "execution_count": null,
   "metadata": {},
   "outputs": [],
   "source": [
    "all_stories"
   ]
  },
  {
   "cell_type": "code",
   "execution_count": null,
   "metadata": {},
   "outputs": [],
   "source": [
    "for story_name in all_stories:\n",
    "    # get the dialogue\n",
    "    translated_file_path = f\"collections/LM1000/stories/{story_name}/dialogue/{language_name}/translated_dialogue.json\"\n",
    "\n",
    "    translated_dialogue = read_from_gcs(config.GCS_PRIVATE_BUCKET, translated_file_path)\n",
    "    generate_dialogue_audio_and_upload(translated_dialogue, story_name)"
   ]
  },
  {
   "cell_type": "code",
   "execution_count": null,
   "metadata": {},
   "outputs": [],
   "source": [
    "# add fast audio\n",
    "\n"
   ]
  },
  {
   "cell_type": "markdown",
   "metadata": {},
   "source": [
    "## Upload images"
   ]
  },
  {
   "cell_type": "code",
   "execution_count": 6,
   "metadata": {},
   "outputs": [
    {
     "name": "stdout",
     "output_type": "stream",
     "text": [
      "Image uploaded to gs://audio-language-trainer-private-content/collections/LM1000/stories/story_a_fishing_trip/images/introduction.png\n",
      "Image uploaded to gs://audio-language-trainer-private-content/collections/LM1000/stories/story_a_fishing_trip/images/development.png\n",
      "Image uploaded to gs://audio-language-trainer-private-content/collections/LM1000/stories/story_a_fishing_trip/images/resolution.png\n",
      "Image uploaded to gs://audio-language-trainer-private-content/collections/LM1000/stories/story_a_missed_stop/images/introduction.png\n",
      "Image uploaded to gs://audio-language-trainer-private-content/collections/LM1000/stories/story_a_missed_stop/images/development.png\n",
      "Image uploaded to gs://audio-language-trainer-private-content/collections/LM1000/stories/story_a_missed_stop/images/resolution.png\n",
      "Image uploaded to gs://audio-language-trainer-private-content/collections/LM1000/stories/story_better_than_a_movie/images/introduction.png\n",
      "Image uploaded to gs://audio-language-trainer-private-content/collections/LM1000/stories/story_better_than_a_movie/images/development.png\n",
      "Image uploaded to gs://audio-language-trainer-private-content/collections/LM1000/stories/story_better_than_a_movie/images/resolution.png\n",
      "Image uploaded to gs://audio-language-trainer-private-content/collections/LM1000/stories/story_brussels_blend/images/introduction.png\n",
      "Image uploaded to gs://audio-language-trainer-private-content/collections/LM1000/stories/story_brussels_blend/images/development.png\n",
      "Image uploaded to gs://audio-language-trainer-private-content/collections/LM1000/stories/story_brussels_blend/images/resolution.png\n",
      "Image uploaded to gs://audio-language-trainer-private-content/collections/LM1000/stories/story_camping_trip_gone_awry/images/introduction.png\n",
      "Image uploaded to gs://audio-language-trainer-private-content/collections/LM1000/stories/story_camping_trip_gone_awry/images/development.png\n",
      "Image uploaded to gs://audio-language-trainer-private-content/collections/LM1000/stories/story_camping_trip_gone_awry/images/resolution.png\n",
      "Image uploaded to gs://audio-language-trainer-private-content/collections/LM1000/stories/story_community_park/images/introduction.png\n",
      "Image uploaded to gs://audio-language-trainer-private-content/collections/LM1000/stories/story_community_park/images/development.png\n",
      "Image uploaded to gs://audio-language-trainer-private-content/collections/LM1000/stories/story_community_park/images/resolution.png\n",
      "Image uploaded to gs://audio-language-trainer-private-content/collections/LM1000/stories/story_dining_dilemma_at_local_restaurant/images/setup.png\n",
      "Image uploaded to gs://audio-language-trainer-private-content/collections/LM1000/stories/story_dining_dilemma_at_local_restaurant/images/resolution.png\n",
      "Image uploaded to gs://audio-language-trainer-private-content/collections/LM1000/stories/story_forgetful_diver/images/introduction.png\n",
      "Image uploaded to gs://audio-language-trainer-private-content/collections/LM1000/stories/story_forgetful_diver/images/development.png\n",
      "Image uploaded to gs://audio-language-trainer-private-content/collections/LM1000/stories/story_forgetful_diver/images/resolution.png\n",
      "Image uploaded to gs://audio-language-trainer-private-content/collections/LM1000/stories/story_job_interview_gone_wrong/images/introduction.png\n",
      "Image uploaded to gs://audio-language-trainer-private-content/collections/LM1000/stories/story_job_interview_gone_wrong/images/development.png\n",
      "Image uploaded to gs://audio-language-trainer-private-content/collections/LM1000/stories/story_job_interview_gone_wrong/images/resolution.png\n",
      "Image uploaded to gs://audio-language-trainer-private-content/collections/LM1000/stories/story_midnight_garden_mystery/images/introduction.png\n",
      "Image uploaded to gs://audio-language-trainer-private-content/collections/LM1000/stories/story_midnight_garden_mystery/images/development.png\n",
      "Image uploaded to gs://audio-language-trainer-private-content/collections/LM1000/stories/story_midnight_garden_mystery/images/resolution.png\n",
      "Image uploaded to gs://audio-language-trainer-private-content/collections/LM1000/stories/story_rainy_football_match/images/introduction.png\n",
      "Image uploaded to gs://audio-language-trainer-private-content/collections/LM1000/stories/story_rainy_football_match/images/development.png\n",
      "Image uploaded to gs://audio-language-trainer-private-content/collections/LM1000/stories/story_rainy_football_match/images/resolution.png\n",
      "Image uploaded to gs://audio-language-trainer-private-content/collections/LM1000/stories/story_road_trip/images/introduction.png\n",
      "Image uploaded to gs://audio-language-trainer-private-content/collections/LM1000/stories/story_road_trip/images/development.png\n",
      "Image uploaded to gs://audio-language-trainer-private-content/collections/LM1000/stories/story_road_trip/images/resolution.png\n",
      "Image uploaded to gs://audio-language-trainer-private-content/collections/LM1000/stories/story_sunset_wedding_blues/images/introduction.png\n",
      "Image uploaded to gs://audio-language-trainer-private-content/collections/LM1000/stories/story_sunset_wedding_blues/images/development.png\n",
      "Image uploaded to gs://audio-language-trainer-private-content/collections/LM1000/stories/story_sunset_wedding_blues/images/resolution.png\n",
      "Image uploaded to gs://audio-language-trainer-private-content/collections/LM1000/stories/story_teaching_music/images/introduction.png\n",
      "Image uploaded to gs://audio-language-trainer-private-content/collections/LM1000/stories/story_teaching_music/images/development.png\n",
      "Image uploaded to gs://audio-language-trainer-private-content/collections/LM1000/stories/story_teaching_music/images/resolution.png\n",
      "Image uploaded to gs://audio-language-trainer-private-content/collections/LM1000/stories/story_team_spirit/images/introduction.png\n",
      "Image uploaded to gs://audio-language-trainer-private-content/collections/LM1000/stories/story_team_spirit/images/development.png\n",
      "Image uploaded to gs://audio-language-trainer-private-content/collections/LM1000/stories/story_team_spirit/images/resolution.png\n",
      "Image uploaded to gs://audio-language-trainer-private-content/collections/LM1000/stories/story_the_birthday_party/images/introduction.png\n",
      "Image uploaded to gs://audio-language-trainer-private-content/collections/LM1000/stories/story_the_birthday_party/images/development.png\n",
      "Image uploaded to gs://audio-language-trainer-private-content/collections/LM1000/stories/story_the_birthday_party/images/resolution.png\n",
      "Image uploaded to gs://audio-language-trainer-private-content/collections/LM1000/stories/story_the_marathon/images/introduction.png\n",
      "Image uploaded to gs://audio-language-trainer-private-content/collections/LM1000/stories/story_the_marathon/images/development.png\n",
      "Image uploaded to gs://audio-language-trainer-private-content/collections/LM1000/stories/story_the_marathon/images/resolution.png\n",
      "Image uploaded to gs://audio-language-trainer-private-content/collections/LM1000/stories/story_the_power_cut/images/introduction.png\n",
      "Image uploaded to gs://audio-language-trainer-private-content/collections/LM1000/stories/story_the_power_cut/images/development.png\n",
      "Image uploaded to gs://audio-language-trainer-private-content/collections/LM1000/stories/story_the_power_cut/images/resolution.png\n",
      "Image uploaded to gs://audio-language-trainer-private-content/collections/LM1000/stories/story_unexpected_career_change/images/introduction.png\n",
      "Image uploaded to gs://audio-language-trainer-private-content/collections/LM1000/stories/story_unexpected_career_change/images/development.png\n",
      "Image uploaded to gs://audio-language-trainer-private-content/collections/LM1000/stories/story_unexpected_career_change/images/resolution.png\n",
      "Image uploaded to gs://audio-language-trainer-private-content/collections/LM1000/stories/story_unexpected_wedding_guests/images/introduction.png\n",
      "Image uploaded to gs://audio-language-trainer-private-content/collections/LM1000/stories/story_unexpected_wedding_guests/images/development.png\n",
      "Image uploaded to gs://audio-language-trainer-private-content/collections/LM1000/stories/story_unexpected_wedding_guests/images/resolution.png\n",
      "Image uploaded to gs://audio-language-trainer-private-content/collections/LM1000/stories/story_winter_in_sweden/images/introduction.png\n",
      "Image uploaded to gs://audio-language-trainer-private-content/collections/LM1000/stories/story_winter_in_sweden/images/development.png\n",
      "Image uploaded to gs://audio-language-trainer-private-content/collections/LM1000/stories/story_winter_in_sweden/images/resolution.png\n",
      "Image uploaded to gs://audio-language-trainer-private-content/collections/LM1000/stories/story_workplace_stress_vacation/images/introduction.png\n",
      "Image uploaded to gs://audio-language-trainer-private-content/collections/LM1000/stories/story_workplace_stress_vacation/images/development.png\n",
      "Image uploaded to gs://audio-language-trainer-private-content/collections/LM1000/stories/story_workplace_stress_vacation/images/resolution.png\n"
     ]
    }
   ],
   "source": [
    "for story_name in all_stories:\n",
    "    story_dialogue_file = story_dir / story_name / f\"{story_name}.json\"\n",
    "    # get the dialogue\n",
    "    story_file_path = f\"collections/LM1000/stories/{story_name}/dialogue.json\"\n",
    "    story_dialogue = read_from_gcs(config.GCS_PRIVATE_BUCKET, story_file_path)\n",
    "    for story_part in story_dialogue:\n",
    "        image_file = story_dir / story_name / f\"{story_name}_{story_part}.png\"\n",
    "        assert image_file.exists()\n",
    "        upload_story_image(image_file, story_part, story_name)"
   ]
  },
  {
   "cell_type": "code",
   "execution_count": null,
   "metadata": {},
   "outputs": [],
   "source": []
  }
 ],
 "metadata": {
  "kernelspec": {
   "display_name": ".venv",
   "language": "python",
   "name": "python3"
  },
  "language_info": {
   "codemirror_mode": {
    "name": "ipython",
    "version": 3
   },
   "file_extension": ".py",
   "mimetype": "text/x-python",
   "name": "python",
   "nbconvert_exporter": "python",
   "pygments_lexer": "ipython3",
   "version": "3.11.4"
  }
 },
 "nbformat": 4,
 "nbformat_minor": 2
}
