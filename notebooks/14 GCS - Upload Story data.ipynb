{
 "cells": [
  {
   "cell_type": "code",
   "execution_count": 3,
   "metadata": {},
   "outputs": [],
   "source": [
    "from google.auth import default\n",
    "credentials, project = default()"
   ]
  },
  {
   "cell_type": "code",
   "execution_count": 4,
   "metadata": {},
   "outputs": [
    {
     "name": "stdout",
     "output_type": "stream",
     "text": [
      "The autoreload extension is already loaded. To reload it, use:\n",
      "  %reload_ext autoreload\n"
     ]
    },
    {
     "data": {
      "text/plain": [
       "'French'"
      ]
     },
     "execution_count": 4,
     "metadata": {},
     "output_type": "execute_result"
    }
   ],
   "source": [
    "%load_ext autoreload\n",
    "%autoreload 2\n",
    "import os\n",
    "import sys\n",
    "from pathlib import Path\n",
    "module_path = os.path.abspath(os.path.join('..'))\n",
    "if module_path not in sys.path:\n",
    "    sys.path.append(module_path)\n",
    "from dotenv import load_dotenv\n",
    "load_dotenv()\n",
    "from tqdm import tqdm\n",
    "\n",
    "from src.utils import (load_json, get_first_n_items, list_story_folders, save_json, save_text_file, load_text_file)  # noqa: E402\n",
    "from src.story import upload_story_image, prepare_dialogue_with_wiktionary\n",
    "from src.gcs_storage import check_blob_exists, read_from_gcs, upload_to_gcs, get_story_translated_dialogue_path, get_story_dialogue_path\n",
    "from src.config_loader import config\n",
    "config.TARGET_LANGUAGE_NAME"
   ]
  },
  {
   "cell_type": "markdown",
   "metadata": {},
   "source": [
    "# Story Data\n",
    "\n",
    "* based around a story_name which is part of a collection (LM1000 > story_the_birthday_party)\n",
    "* translated dialogue (text file)\n",
    "    * comes from google translate\n",
    "    * added to with Wiktionary links for each utternace ('wiktionary_links')\n",
    "* audio file for each utterance of Sam and Alex\n",
    "* 1 x fast audio file for each story part, introduction etc\n",
    "* an image for each story part\n",
    "* challenges for each story\n",
    "    * from a single challenges.json file for each story\n",
    "    * the customisation is when the challenges.html file gets created as the language name is added into the prompt\n",
    "\n",
    "## Storage overview\n",
    "\n",
    "We want to save the english story dialogue as dialogue.json\n",
    "\n",
    "Then translations by language_name, then each phrase as an audio clip. We might want higher quality audio for the stories e.g. chirp3 voice\n",
    "\n",
    "```raw\n",
    "collections/LM1000/stories/story_murder_mystery/dialogue.json\n",
    "collections/LM1000/stories/story_murder_mystery/dialogue/french/translated_dialogue.json\n",
    "collections/LM1000/stories/story_murder_mystery/images/introduction.png etc\n",
    "collections/LM1000/stories/story_murder_mystery/audio/french/introduction/part_0_sam.mp3\n",
    "collections/LM1000/stories/story_murder_mystery/audio/french/introduction/part_1_alex.mp3\n",
    "collections/LM1000/stories/story_murder_mystery/audio/french/introduction/fast/part_1_alex.mp3```\n",
    "\n",
    "\n",
    "This allows us to quickly retrieve a phrase based on the bucket name and the phrase key, as well as modify individual phrases for later correction"
   ]
  },
  {
   "cell_type": "code",
   "execution_count": 24,
   "metadata": {},
   "outputs": [
    {
     "name": "stdout",
     "output_type": "stream",
     "text": [
      "swedish\n"
     ]
    },
    {
     "data": {
      "text/plain": [
       "(VoiceInfo(name='en-GB-Chirp3-HD-Algenib', provider=<VoiceProvider.GOOGLE: 'google'>, voice_id='en-GB-Chirp3-HD-Algenib', language_code='en-GB'),\n",
       " VoiceInfo(name='aSLKtNoVBZlxQEMsnGL2', provider=<VoiceProvider.ELEVENLABS: 'elevenlabs'>, voice_id='aSLKtNoVBZlxQEMsnGL2', language_code='sv-SE'),\n",
       " VoiceInfo(name='7UMEOkIJdI4hjmR2SWNq', provider=<VoiceProvider.ELEVENLABS: 'elevenlabs'>, voice_id='7UMEOkIJdI4hjmR2SWNq', language_code='sv-SE'))"
      ]
     },
     "execution_count": 24,
     "metadata": {},
     "output_type": "execute_result"
    }
   ],
   "source": [
    "config._load_config()\n",
    "language_name = config.TARGET_LANGUAGE_NAME.lower()\n",
    "print(language_name)\n",
    "config.get_voice_models(enum_type=\"stories\")"
   ]
  },
  {
   "cell_type": "code",
   "execution_count": 6,
   "metadata": {},
   "outputs": [],
   "source": [
    "from src.gcs_storage import get_stories_from_collection\n",
    "\n",
    "all_stories = get_stories_from_collection(collection=\"LM1000\")"
   ]
  },
  {
   "cell_type": "code",
   "execution_count": 25,
   "metadata": {},
   "outputs": [],
   "source": [
    "all_stories = ['story_midnight_garden_mystery']"
   ]
  },
  {
   "cell_type": "markdown",
   "metadata": {},
   "source": [
    "## Loop all stories (text)\n",
    "\n",
    "Translate and re-upload"
   ]
  },
  {
   "cell_type": "code",
   "execution_count": 26,
   "metadata": {},
   "outputs": [
    {
     "name": "stderr",
     "output_type": "stream",
     "text": [
      "adding translations:   0%|          | 0/3 [00:00<?, ?it/s]"
     ]
    },
    {
     "name": "stdout",
     "output_type": "stream",
     "text": [
      "Beginning translation for introduction\n"
     ]
    },
    {
     "name": "stderr",
     "output_type": "stream",
     "text": [
      "adding translations:  33%|███▎      | 1/3 [00:02<00:04,  2.22s/it]"
     ]
    },
    {
     "name": "stdout",
     "output_type": "stream",
     "text": [
      "Translated dialogue\n",
      "Beginning translation for development\n"
     ]
    },
    {
     "name": "stderr",
     "output_type": "stream",
     "text": [
      "adding translations:  67%|██████▋   | 2/3 [00:04<00:02,  2.18s/it]"
     ]
    },
    {
     "name": "stdout",
     "output_type": "stream",
     "text": [
      "Translated dialogue\n",
      "Beginning translation for resolution\n"
     ]
    },
    {
     "name": "stderr",
     "output_type": "stream",
     "text": [
      "adding translations: 100%|██████████| 3/3 [00:06<00:00,  2.19s/it]"
     ]
    },
    {
     "name": "stdout",
     "output_type": "stream",
     "text": [
      "Translated dialogue\n"
     ]
    },
    {
     "name": "stderr",
     "output_type": "stream",
     "text": [
      "\n"
     ]
    },
    {
     "name": "stdout",
     "output_type": "stream",
     "text": [
      "Translated dialogue uploaded to gs://audio-language-trainer-private-content/collections/LM1000/stories/story_midnight_garden_mystery/dialogue/swedish/translated_dialogue.json\n"
     ]
    }
   ],
   "source": [
    "# loop stories and translate\n",
    "from src.gcs_storage import check_blob_exists, get_story_dialogue_path, get_story_translated_dialogue_path\n",
    "from src.dialogue_generation import translate_and_upload_dialogue\n",
    "\n",
    "for story_name in ['story_midnight_garden_mystery']:\n",
    "    # get the dialogue\n",
    "    story_file_path = get_story_dialogue_path(story_name, collection=\"LM1000\")\n",
    "    translated_file_path = get_story_translated_dialogue_path(story_name, collection=\"LM1000\")\n",
    "    if check_blob_exists(config.GCS_PRIVATE_BUCKET, translated_file_path):\n",
    "        print(f\"{story_name} already translated\")\n",
    "        #continue\n",
    "    story_dialogue = read_from_gcs(config.GCS_PRIVATE_BUCKET, story_file_path)\n",
    "    translate_and_upload_dialogue(story_dialogue, story_name, collection=\"LM1000\")"
   ]
  },
  {
   "cell_type": "markdown",
   "metadata": {},
   "source": [
    "## Add wiktionary links to each story utterance"
   ]
  },
  {
   "cell_type": "code",
   "execution_count": 27,
   "metadata": {},
   "outputs": [
    {
     "name": "stdout",
     "output_type": "stream",
     "text": [
      "processing story_midnight_garden_mystery\n"
     ]
    },
    {
     "name": "stderr",
     "output_type": "stream",
     "text": [
      "Getting dialogue links for story_parts: 100%|██████████| 3/3 [01:11<00:00, 23.73s/it]\n"
     ]
    },
    {
     "name": "stdout",
     "output_type": "stream",
     "text": [
      "uploaded story_midnight_garden_mystery : gs://audio-language-trainer-private-content/collections/LM1000/stories/story_midnight_garden_mystery/dialogue/swedish/translated_dialogue.json\n"
     ]
    }
   ],
   "source": [
    "for story_name in all_stories:\n",
    "    print(f\"processing {story_name}\")\n",
    "    # get the dialogue\n",
    "    translated_file_path = get_story_translated_dialogue_path(story_name, collection=\"LM1000\")\n",
    "    if not check_blob_exists(config.GCS_PRIVATE_BUCKET, translated_file_path):\n",
    "        print(f\"{story_name} not yet translated\")\n",
    "        continue\n",
    "    translated_dialogue = read_from_gcs(config.GCS_PRIVATE_BUCKET, translated_file_path)\n",
    "    translated_dialogue_with_links = prepare_dialogue_with_wiktionary(translated_dialogue)\n",
    "    # now re-upload it with embedded witkionary_links\n",
    "    uploaded = upload_to_gcs(obj=translated_dialogue_with_links, bucket_name=config.GCS_PRIVATE_BUCKET, file_name=translated_file_path)\n",
    "    print(f\"uploaded {story_name} : {uploaded}\")"
   ]
  },
  {
   "cell_type": "markdown",
   "metadata": {},
   "source": [
    "Generate audio and upload"
   ]
  },
  {
   "cell_type": "markdown",
   "metadata": {},
   "source": [
    "### Generate audio and upload"
   ]
  },
  {
   "cell_type": "markdown",
   "metadata": {},
   "source": [
    "### Loop through stories to generate audio"
   ]
  },
  {
   "cell_type": "code",
   "execution_count": null,
   "metadata": {},
   "outputs": [],
   "source": [
    "all_stories"
   ]
  },
  {
   "cell_type": "code",
   "execution_count": 28,
   "metadata": {},
   "outputs": [
    {
     "name": "stderr",
     "output_type": "stream",
     "text": [
      "Processing story parts:   0%|          | 0/3 [00:00<?, ?it/s]"
     ]
    },
    {
     "name": "stdout",
     "output_type": "stream",
     "text": [
      "Generated and uploaded: gs://audio-language-trainer-private-content/collections/LM1000/stories/story_midnight_garden_mystery/audio/swedish/introduction/part_0_alex.mp3\n"
     ]
    },
    {
     "name": "stderr",
     "output_type": "stream",
     "text": []
    },
    {
     "name": "stdout",
     "output_type": "stream",
     "text": [
      "Generated and uploaded: gs://audio-language-trainer-private-content/collections/LM1000/stories/story_midnight_garden_mystery/audio/swedish/introduction/part_1_sam.mp3\n"
     ]
    },
    {
     "name": "stderr",
     "output_type": "stream",
     "text": []
    },
    {
     "name": "stdout",
     "output_type": "stream",
     "text": [
      "Generated and uploaded: gs://audio-language-trainer-private-content/collections/LM1000/stories/story_midnight_garden_mystery/audio/swedish/introduction/part_2_alex.mp3\n"
     ]
    },
    {
     "name": "stderr",
     "output_type": "stream",
     "text": []
    },
    {
     "name": "stdout",
     "output_type": "stream",
     "text": [
      "Generated and uploaded: gs://audio-language-trainer-private-content/collections/LM1000/stories/story_midnight_garden_mystery/audio/swedish/introduction/part_3_sam.mp3\n"
     ]
    },
    {
     "name": "stderr",
     "output_type": "stream",
     "text": []
    },
    {
     "name": "stdout",
     "output_type": "stream",
     "text": [
      "Generated and uploaded: gs://audio-language-trainer-private-content/collections/LM1000/stories/story_midnight_garden_mystery/audio/swedish/introduction/part_4_alex.mp3\n"
     ]
    },
    {
     "name": "stderr",
     "output_type": "stream",
     "text": [
      "Processing story parts:  33%|███▎      | 1/3 [00:54<01:49, 54.88s/it]"
     ]
    },
    {
     "name": "stdout",
     "output_type": "stream",
     "text": [
      "Generated and uploaded: gs://audio-language-trainer-private-content/collections/LM1000/stories/story_midnight_garden_mystery/audio/swedish/introduction/part_5_sam.mp3\n"
     ]
    },
    {
     "name": "stderr",
     "output_type": "stream",
     "text": []
    },
    {
     "name": "stdout",
     "output_type": "stream",
     "text": [
      "Generated and uploaded: gs://audio-language-trainer-private-content/collections/LM1000/stories/story_midnight_garden_mystery/audio/swedish/development/part_0_alex.mp3\n"
     ]
    },
    {
     "name": "stderr",
     "output_type": "stream",
     "text": []
    },
    {
     "name": "stdout",
     "output_type": "stream",
     "text": [
      "Generated and uploaded: gs://audio-language-trainer-private-content/collections/LM1000/stories/story_midnight_garden_mystery/audio/swedish/development/part_1_sam.mp3\n"
     ]
    },
    {
     "name": "stderr",
     "output_type": "stream",
     "text": []
    },
    {
     "name": "stdout",
     "output_type": "stream",
     "text": [
      "Generated and uploaded: gs://audio-language-trainer-private-content/collections/LM1000/stories/story_midnight_garden_mystery/audio/swedish/development/part_2_alex.mp3\n"
     ]
    },
    {
     "name": "stderr",
     "output_type": "stream",
     "text": []
    },
    {
     "name": "stdout",
     "output_type": "stream",
     "text": [
      "Generated and uploaded: gs://audio-language-trainer-private-content/collections/LM1000/stories/story_midnight_garden_mystery/audio/swedish/development/part_3_sam.mp3\n"
     ]
    },
    {
     "name": "stderr",
     "output_type": "stream",
     "text": []
    },
    {
     "name": "stdout",
     "output_type": "stream",
     "text": [
      "Generated and uploaded: gs://audio-language-trainer-private-content/collections/LM1000/stories/story_midnight_garden_mystery/audio/swedish/development/part_4_alex.mp3\n"
     ]
    },
    {
     "name": "stderr",
     "output_type": "stream",
     "text": []
    },
    {
     "name": "stdout",
     "output_type": "stream",
     "text": [
      "Generated and uploaded: gs://audio-language-trainer-private-content/collections/LM1000/stories/story_midnight_garden_mystery/audio/swedish/development/part_5_sam.mp3\n"
     ]
    },
    {
     "name": "stderr",
     "output_type": "stream",
     "text": [
      "Processing story parts:  67%|██████▋   | 2/3 [01:58<01:00, 60.08s/it]"
     ]
    },
    {
     "name": "stdout",
     "output_type": "stream",
     "text": [
      "Generated and uploaded: gs://audio-language-trainer-private-content/collections/LM1000/stories/story_midnight_garden_mystery/audio/swedish/development/part_6_alex.mp3\n"
     ]
    },
    {
     "name": "stderr",
     "output_type": "stream",
     "text": []
    },
    {
     "name": "stdout",
     "output_type": "stream",
     "text": [
      "Generated and uploaded: gs://audio-language-trainer-private-content/collections/LM1000/stories/story_midnight_garden_mystery/audio/swedish/resolution/part_0_sam.mp3\n"
     ]
    },
    {
     "name": "stderr",
     "output_type": "stream",
     "text": []
    },
    {
     "name": "stdout",
     "output_type": "stream",
     "text": [
      "Generated and uploaded: gs://audio-language-trainer-private-content/collections/LM1000/stories/story_midnight_garden_mystery/audio/swedish/resolution/part_1_alex.mp3\n"
     ]
    },
    {
     "name": "stderr",
     "output_type": "stream",
     "text": []
    },
    {
     "name": "stdout",
     "output_type": "stream",
     "text": [
      "Generated and uploaded: gs://audio-language-trainer-private-content/collections/LM1000/stories/story_midnight_garden_mystery/audio/swedish/resolution/part_2_sam.mp3\n"
     ]
    },
    {
     "name": "stderr",
     "output_type": "stream",
     "text": []
    },
    {
     "name": "stdout",
     "output_type": "stream",
     "text": [
      "Generated and uploaded: gs://audio-language-trainer-private-content/collections/LM1000/stories/story_midnight_garden_mystery/audio/swedish/resolution/part_3_alex.mp3\n"
     ]
    },
    {
     "name": "stderr",
     "output_type": "stream",
     "text": []
    },
    {
     "name": "stdout",
     "output_type": "stream",
     "text": [
      "Generated and uploaded: gs://audio-language-trainer-private-content/collections/LM1000/stories/story_midnight_garden_mystery/audio/swedish/resolution/part_4_sam.mp3\n"
     ]
    },
    {
     "name": "stderr",
     "output_type": "stream",
     "text": []
    },
    {
     "name": "stdout",
     "output_type": "stream",
     "text": [
      "Generated and uploaded: gs://audio-language-trainer-private-content/collections/LM1000/stories/story_midnight_garden_mystery/audio/swedish/resolution/part_5_alex.mp3\n"
     ]
    },
    {
     "name": "stderr",
     "output_type": "stream",
     "text": []
    },
    {
     "name": "stdout",
     "output_type": "stream",
     "text": [
      "Generated and uploaded: gs://audio-language-trainer-private-content/collections/LM1000/stories/story_midnight_garden_mystery/audio/swedish/resolution/part_6_sam.mp3\n"
     ]
    },
    {
     "name": "stderr",
     "output_type": "stream",
     "text": [
      "Processing story parts: 100%|██████████| 3/3 [03:09<00:00, 63.32s/it]"
     ]
    },
    {
     "name": "stdout",
     "output_type": "stream",
     "text": [
      "Generated and uploaded: gs://audio-language-trainer-private-content/collections/LM1000/stories/story_midnight_garden_mystery/audio/swedish/resolution/part_7_alex.mp3\n"
     ]
    },
    {
     "name": "stderr",
     "output_type": "stream",
     "text": [
      "\n"
     ]
    }
   ],
   "source": [
    "from src.audio_generation import generate_dialogue_audio_and_upload\n",
    "for story_name in all_stories:\n",
    "    # get the dialogue\n",
    "    translated_file_path = get_story_translated_dialogue_path(story_name, collection=\"LM1000\")\n",
    "\n",
    "    translated_dialogue = read_from_gcs(config.GCS_PRIVATE_BUCKET, translated_file_path)\n",
    "    generate_dialogue_audio_and_upload(translated_dialogue, story_name, overwrite=True)"
   ]
  },
  {
   "cell_type": "markdown",
   "metadata": {},
   "source": [
    "### Fast Audio \n",
    "1 file for each story part"
   ]
  },
  {
   "cell_type": "code",
   "execution_count": 29,
   "metadata": {},
   "outputs": [
    {
     "name": "stderr",
     "output_type": "stream",
     "text": [
      "  0%|          | 0/1 [00:00<?, ?it/s]\n",
      "\u001b[A\n",
      "\u001b[A\n",
      "\u001b[A\n",
      "Collecting utterance audio for introduction: 6it [00:00, 15.23it/s]\n"
     ]
    },
    {
     "name": "stdout",
     "output_type": "stream",
     "text": [
      "Generating fast audio for introduction...\n"
     ]
    },
    {
     "name": "stderr",
     "output_type": "stream",
     "text": []
    },
    {
     "name": "stdout",
     "output_type": "stream",
     "text": [
      "Uploaded fast audio for introduction to gs://audio-language-trainer-private-content/collections/LM1000/stories/story_midnight_garden_mystery/audio/swedish/introduction/fast.mp3\n"
     ]
    },
    {
     "name": "stderr",
     "output_type": "stream",
     "text": [
      "\n",
      "\u001b[A\n",
      "\u001b[A\n",
      "\u001b[A\n",
      "Collecting utterance audio for development: 7it [00:00, 13.89it/s]\n"
     ]
    },
    {
     "name": "stdout",
     "output_type": "stream",
     "text": [
      "Generating fast audio for development...\n"
     ]
    },
    {
     "name": "stderr",
     "output_type": "stream",
     "text": []
    },
    {
     "name": "stdout",
     "output_type": "stream",
     "text": [
      "Uploaded fast audio for development to gs://audio-language-trainer-private-content/collections/LM1000/stories/story_midnight_garden_mystery/audio/swedish/development/fast.mp3\n"
     ]
    },
    {
     "name": "stderr",
     "output_type": "stream",
     "text": [
      "\n",
      "\u001b[A\n",
      "\u001b[A\n",
      "\u001b[A\n",
      "\u001b[A\n",
      "Collecting utterance audio for resolution: 8it [00:00, 14.36it/s]\n"
     ]
    },
    {
     "name": "stdout",
     "output_type": "stream",
     "text": [
      "Generating fast audio for resolution...\n"
     ]
    },
    {
     "name": "stderr",
     "output_type": "stream",
     "text": [
      "Processing story_midnight_garden_mystery in swedish: 100%|██████████| 3/3 [00:15<00:00,  5.02s/it]\n",
      "100%|██████████| 1/1 [00:15<00:00, 15.06s/it]"
     ]
    },
    {
     "name": "stdout",
     "output_type": "stream",
     "text": [
      "Uploaded fast audio for resolution to gs://audio-language-trainer-private-content/collections/LM1000/stories/story_midnight_garden_mystery/audio/swedish/resolution/fast.mp3\n"
     ]
    },
    {
     "name": "stderr",
     "output_type": "stream",
     "text": [
      "\n"
     ]
    }
   ],
   "source": [
    "from src.audio_generation import generate_and_upload_fast_audio\n",
    "\n",
    "for story_name in tqdm(all_stories):\n",
    "    # uploads 1 fast mp3 file for each story part. \n",
    "    generate_and_upload_fast_audio(story_name, collection=\"LM1000\", overwrite=True)"
   ]
  },
  {
   "cell_type": "markdown",
   "metadata": {},
   "source": [
    "## Upload images\n",
    "For when we have them stored locally"
   ]
  },
  {
   "cell_type": "code",
   "execution_count": 19,
   "metadata": {},
   "outputs": [
    {
     "name": "stdout",
     "output_type": "stream",
     "text": [
      "Image uploaded to gs://audio-language-trainer-private-content/collections/LM1000/stories/story_midnight_garden_mystery/images/introduction.png\n",
      "Image uploaded to gs://audio-language-trainer-private-content/collections/LM1000/stories/story_midnight_garden_mystery/images/development.png\n",
      "Image uploaded to gs://audio-language-trainer-private-content/collections/LM1000/stories/story_midnight_garden_mystery/images/resolution.png\n"
     ]
    }
   ],
   "source": [
    "for story_name in all_stories:\n",
    "    notebook_dir = Path().absolute()  # This gives src/notebooks\n",
    "    story_dir = notebook_dir.parent / \"outputs\" / \"stories\"\n",
    "    # get the dialogue\n",
    "    story_file_path = get_story_dialogue_path(story_name, collection=\"LM1000\")\n",
    "    story_dialogue = read_from_gcs(config.GCS_PRIVATE_BUCKET, story_file_path)\n",
    "    for story_part in story_dialogue:\n",
    "        image_file = story_dir / story_name / f\"{story_name}_{story_part}.png\"\n",
    "        assert image_file.exists()\n",
    "        upload_story_image(image_file, story_part, story_name)"
   ]
  },
  {
   "cell_type": "markdown",
   "metadata": {},
   "source": [
    "## Upload challenges"
   ]
  },
  {
   "cell_type": "code",
   "execution_count": null,
   "metadata": {},
   "outputs": [],
   "source": [
    "from src.chat import get_html_challenge_inputs, create_html_challenges\n",
    "from src.gcs_storage import upload_to_gcs, get_story_challenges_path, get_story_translated_challenges_path\n",
    "notebook_dir = Path().absolute()  # This gives src/notebooks\n",
    "phrase_dir = notebook_dir.parent / \"data\" / \"phrases\" #where we store text files of phrases\n",
    "\n",
    "for story_name in all_stories:\n",
    "    story_dir = notebook_dir.parent / \"outputs\" / \"stories\" / story_name\n",
    "    chat_dir = story_dir / config.TARGET_LANGUAGE_NAME\n",
    "    scenario_dicts = load_json(file_path=f\"{story_dir}/scenarios.json\")\n",
    "    # upload the scenarios to gcs\n",
    "    challenge_file_path = get_story_challenges_path(story_name, collection=\"LM1000\")\n",
    "    upload_to_gcs(obj=scenario_dicts, bucket_name=config.GCS_PRIVATE_BUCKET, file_name=challenge_file_path)\n",
    "    challenges = get_html_challenge_inputs(scenario_dicts)\n",
    "    chat_webpage_file = create_html_challenges(challenges, output_dir=chat_dir,\n",
    "story_name=story_name)\n",
    "    gcs_chat_file_path = get_story_translated_challenges_path(story_name)\n",
    "    upload_to_gcs(obj=chat_webpage_file, bucket_name=config.GCS_PUBLIC_BUCKET, file_name=gcs_chat_file_path)"
   ]
  },
  {
   "cell_type": "code",
   "execution_count": null,
   "metadata": {},
   "outputs": [],
   "source": []
  }
 ],
 "metadata": {
  "kernelspec": {
   "display_name": ".venv",
   "language": "python",
   "name": "python3"
  },
  "language_info": {
   "codemirror_mode": {
    "name": "ipython",
    "version": 3
   },
   "file_extension": ".py",
   "mimetype": "text/x-python",
   "name": "python",
   "nbconvert_exporter": "python",
   "pygments_lexer": "ipython3",
   "version": "3.11.4"
  }
 },
 "nbformat": 4,
 "nbformat_minor": 2
}
