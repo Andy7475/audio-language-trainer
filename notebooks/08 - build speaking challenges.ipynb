{
 "cells": [
  {
   "cell_type": "code",
   "execution_count": 1,
   "metadata": {},
   "outputs": [],
   "source": [
    "%load_ext autoreload"
   ]
  },
  {
   "cell_type": "code",
   "execution_count": 4,
   "metadata": {},
   "outputs": [
    {
     "name": "stdout",
     "output_type": "stream",
     "text": [
      "FFmpeg path added to system PATH: C:\\Program Files\\ffmpeg-7.0-essentials_build\\bin\n"
     ]
    }
   ],
   "source": [
    "%autoreload 2\n",
    "\n",
    "from dotenv import load_dotenv\n",
    "import sys\n",
    "import os\n",
    "from pathlib import Path\n",
    "load_dotenv()\n",
    "# Add the parent directory of 'src' to the Python path\n",
    "module_path = os.path.abspath(os.path.join('..'))\n",
    "if module_path not in sys.path:\n",
    "    sys.path.append(module_path)\n",
    "\n",
    "from src.config_loader import config\n",
    "from src.utils import anthropic_generate, load_json, extract_json_from_llm_response, save_json, list_story_folders\n",
    "from src.chat import get_challenge_generation_prompt, create_html_challenges, get_html_challenge_inputs"
   ]
  },
  {
   "cell_type": "code",
   "execution_count": 8,
   "metadata": {},
   "outputs": [
    {
     "data": {
      "text/plain": [
       "['story_birthday_party_planning_mishap',\n",
       " 'story_camping_trip_gone_awry',\n",
       " 'story_community_park',\n",
       " 'story_dining_dilemma_at_local_restaurant',\n",
       " 'story_fishing_trip_gone_awry',\n",
       " 'story_job_interview_gone_wrong',\n",
       " 'story_lost_in_stockholm',\n",
       " 'story_roblox_bot_trouble',\n",
       " 'story_swedish_adventure_in_winter_wilderness',\n",
       " 'story_underwater_adventure_gone_wrong']"
      ]
     },
     "execution_count": 8,
     "metadata": {},
     "output_type": "execute_result"
    }
   ],
   "source": [
    "all_stories = list_story_folders()\n",
    "all_stories"
   ]
  },
  {
   "cell_type": "code",
   "execution_count": 6,
   "metadata": {},
   "outputs": [
    {
     "name": "stdout",
     "output_type": "stream",
     "text": [
      "French\n"
     ]
    }
   ],
   "source": [
    "STORY_NAME = \"story_midnight_garden_mystery\"\n",
    "notebook_dir = Path().absolute()  # This gives src/notebooks\n",
    "phrase_dir = notebook_dir.parent / \"data\" / \"phrases\" #where we store text files of phrases\n",
    "story_dir = notebook_dir.parent / \"outputs\" / \"stories\" / STORY_NAME \n",
    "chat_dir = story_dir / config.TARGET_LANGUAGE_NAME\n",
    "story_dialgoue_file = story_dir / f\"{STORY_NAME}.json\"\n",
    "print(config.TARGET_LANGUAGE_NAME)"
   ]
  },
  {
   "cell_type": "markdown",
   "metadata": {},
   "source": [
    "## Generate scenarios"
   ]
  },
  {
   "cell_type": "code",
   "execution_count": 7,
   "metadata": {},
   "outputs": [],
   "source": [
    "story_dialogue = load_json(story_dialgoue_file)"
   ]
  },
  {
   "cell_type": "code",
   "execution_count": 8,
   "metadata": {},
   "outputs": [
    {
     "name": "stdout",
     "output_type": "stream",
     "text": [
      "Function that called this one: <module>. Sleeping for 20 seconds\n"
     ]
    }
   ],
   "source": [
    "prompt = get_challenge_generation_prompt(story_dialogue)\n",
    "scenario_dicts = extract_json_from_llm_response(anthropic_generate(prompt, max_tokens=5000))\n",
    "\n",
    "save_json(data=scenario_dicts, file_path=f\"{story_dir}/scenarios.json\")"
   ]
  },
  {
   "cell_type": "markdown",
   "metadata": {},
   "source": [
    "## If scenarios already exist start here"
   ]
  },
  {
   "cell_type": "code",
   "execution_count": 18,
   "metadata": {},
   "outputs": [
    {
     "name": "stdout",
     "output_type": "stream",
     "text": [
      "HTML challenges created at: y:\\Python Scripts\\audio-language-trainer\\outputs\\stories\\story_community_park\\Swedish\\challenges.html\n"
     ]
    }
   ],
   "source": [
    "scenario_dicts = load_json(file_path=f\"{story_dir}/scenarios.json\")\n",
    "challenges = get_html_challenge_inputs(scenario_dicts) # this is the first time config.TARGET_LANGUAGE_NAME is used\n",
    "chat_webpage_file = create_html_challenges(challenges, output_dir=chat_dir,\n",
    "story_name=STORY_NAME)\n"
   ]
  },
  {
   "cell_type": "code",
   "execution_count": 19,
   "metadata": {},
   "outputs": [
    {
     "data": {
      "text/plain": [
       "'https://storage.googleapis.com/audio-language-trainer-stories/swedish/story_community_park/challenges.html'"
      ]
     },
     "execution_count": 19,
     "metadata": {},
     "output_type": "execute_result"
    }
   ],
   "source": [
    "upload_to_gcs(file_path=chat_webpage_file, bucket_prefix=f\"{config.TARGET_LANGUAGE_NAME}/{STORY_NAME}\")"
   ]
  },
  {
   "cell_type": "code",
   "execution_count": null,
   "metadata": {},
   "outputs": [],
   "source": []
  }
 ],
 "metadata": {
  "kernelspec": {
   "display_name": ".venv",
   "language": "python",
   "name": "python3"
  },
  "language_info": {
   "codemirror_mode": {
    "name": "ipython",
    "version": 3
   },
   "file_extension": ".py",
   "mimetype": "text/x-python",
   "name": "python",
   "nbconvert_exporter": "python",
   "pygments_lexer": "ipython3",
   "version": "3.11.4"
  }
 },
 "nbformat": 4,
 "nbformat_minor": 2
}
