{
 "cells": [
  {
   "cell_type": "code",
   "execution_count": 1,
   "metadata": {},
   "outputs": [],
   "source": [
    "%load_ext autoreload"
   ]
  },
  {
   "cell_type": "code",
   "execution_count": null,
   "metadata": {},
   "outputs": [],
   "source": [
    "%autoreload 2\n",
    "\n",
    "from dotenv import load_dotenv\n",
    "import sys\n",
    "import os\n",
    "from pathlib import Path\n",
    "load_dotenv()\n",
    "# Add the parent directory of 'src' to the Python path\n",
    "module_path = os.path.abspath(os.path.join('..'))\n",
    "if module_path not in sys.path:\n",
    "    sys.path.append(module_path)\n",
    "\n",
    "from src.config_loader import config\n",
    "from src.utils import anthropic_generate, extract_json_from_llm_response, save_json\n",
    "from src.chat import get_challenge_generation_prompt, create_html_challenges, get_html_challenge_inputs\n",
    "COLLECTION = \"WarmUp150\""
   ]
  },
  {
   "cell_type": "code",
   "execution_count": 4,
   "metadata": {},
   "outputs": [],
   "source": [
    "from src.gcs_storage import get_stories_from_collection, get_story_dialogue_path, get_story_challenges_path, upload_to_gcs, read_from_gcs, get_story_translated_challenges_path\n",
    "\n",
    "all_stories = get_stories_from_collection(collection=COLLECTION)"
   ]
  },
  {
   "cell_type": "markdown",
   "metadata": {},
   "source": [
    "## Generate scenarios"
   ]
  },
  {
   "cell_type": "code",
   "execution_count": null,
   "metadata": {},
   "outputs": [],
   "source": [
    "for story_name in all_stories:\n",
    "    story_dialogue = read_from_gcs(bucket_name=config.GCS_PRIVATE_BUCKET, file_path=get_story_dialogue_path(story_name=story_name, collection=COLLECTION))\n",
    "    prompt = get_challenge_generation_prompt(story_dialogue)\n",
    "    scenario_dicts = extract_json_from_llm_response(anthropic_generate(prompt, max_tokens=5000))\n",
    "\n",
    "    upload_to_gcs(obj=scenario_dicts, bucket_name=config.GCS_PRIVATE_BUCKET, file_name=get_story_challenges_path(story_name=story_name, collection=COLLECTION))"
   ]
  },
  {
   "cell_type": "markdown",
   "metadata": {},
   "source": [
    "## If scenarios already exist start here"
   ]
  },
  {
   "cell_type": "code",
   "execution_count": null,
   "metadata": {},
   "outputs": [],
   "source": [
    "scenario_dicts = read_from_gcs(bucket_name=config.GCS_PRIVATE_BUCKET, file_path=get_story_challenges_path(story_name=\"story_midnight_garden_mystery\", collection=\"LM1000\"))\n",
    "challenges = get_html_challenge_inputs(scenario_dicts) # this is the first time config.TARGET_LANGUAGE_NAME is used\n",
    "chat_webpage_file = create_html_challenges(challenges, story_name=\"story_midnight_garden_mystery\")"
   ]
  },
  {
   "cell_type": "code",
   "execution_count": null,
   "metadata": {},
   "outputs": [],
   "source": [
    "upload_to_gcs(file_path=chat_webpage_file, bucket_prefix=f\"{config.TARGET_LANGUAGE_NAME}/{STORY_NAME}\")"
   ]
  },
  {
   "cell_type": "code",
   "execution_count": null,
   "metadata": {},
   "outputs": [],
   "source": []
  }
 ],
 "metadata": {
  "kernelspec": {
   "display_name": ".venv",
   "language": "python",
   "name": "python3"
  },
  "language_info": {
   "codemirror_mode": {
    "name": "ipython",
    "version": 3
   },
   "file_extension": ".py",
   "mimetype": "text/x-python",
   "name": "python",
   "nbconvert_exporter": "python",
   "pygments_lexer": "ipython3",
   "version": "3.12.0"
  }
 },
 "nbformat": 4,
 "nbformat_minor": 2
}
