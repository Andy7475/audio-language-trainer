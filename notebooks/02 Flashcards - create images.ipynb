{
 "cells": [
  {
   "cell_type": "code",
   "execution_count": null,
   "metadata": {},
   "outputs": [],
   "source": [
    "%load_ext autoreload\n",
    "%autoreload 2\n",
    "import os\n",
    "import sys\n",
    "\n",
    "module_path = os.path.abspath(os.path.join('..'))\n",
    "if module_path not in sys.path:\n",
    "    sys.path.append(module_path)\n",
    "\n",
    "PAY_FOR_API = True #change to True to run cells that cost money via API calls"
   ]
  },
  {
   "cell_type": "markdown",
   "metadata": {},
   "source": [
    "# Flash Card Generation 02\n",
    "\n",
    "## Generate images\n",
    "\n",
    "Images are a powerful memory aid, and make learning more enjoyable.\n",
    "\n",
    "They are the most expensive part of the flashcard generation process, requiring an LLM call and an image generation call (5 - 6p per image in total)\n",
    "\n",
    "_IMPORTANT_\n",
    "\n",
    "If you are learning more than one language, to prevent memory interference, you should use a different set of images with each language"
   ]
  },
  {
   "cell_type": "markdown",
   "metadata": {},
   "source": [
    "### Load phrases\n",
    "\n",
    "I've already generated some phrases using the longman corpus from earlier"
   ]
  },
  {
   "cell_type": "code",
   "execution_count": null,
   "metadata": {},
   "outputs": [],
   "source": [
    "from src.images import add_images_to_phrases\n",
    "from src.utils import load_text_file, save_json, load_json\n",
    "from pprint import pprint\n",
    "\n",
    "filepath = \"../data/numbers_days.txt\"\n",
    "phrases = load_text_file(filepath)\n",
    "pprint(f\"First few phrases {phrases[:10]}\")"
   ]
  },
  {
   "cell_type": "markdown",
   "metadata": {},
   "source": [
    "### Generate and save images\n",
    "\n",
    "We will use a naming convention to link them to the english phrase, internally 'clean_filename' function does this. This means you can always link back to the image and associated phrase if you make a mistake\n",
    "\n",
    "The code will also check to see if you have already generated an image for that phrase, and skip if it finds it.\n",
    "\n",
    "It's useful to see the image generation prompt, so we save that as well"
   ]
  },
  {
   "cell_type": "code",
   "execution_count": null,
   "metadata": {},
   "outputs": [],
   "source": [
    "output_dir = \"../outputs/images/numbers_days\"\n",
    "prompt_store_file = \"numbers_days_prompts.json\"\n",
    "prompt_store_filepath = os.path.join(output_dir, prompt_store_file)\n",
    "\n",
    "#this allows you to carry on from where you left off on another day\n",
    "#as image generation takes some time\n",
    "prompt_store = load_json(prompt_store_filepath)\n",
    "\n",
    "if PAY_FOR_API:\n",
    "    image_files_and_prompts = add_images_to_phrases(phrases=phrases, output_dir = output_dir)\n",
    "\n",
    "prompt_store = prompt_store.update(image_files_and_prompts)\n",
    "save_json(prompt_store_filepath, prompt_store)\n"
   ]
  },
  {
   "cell_type": "code",
   "execution_count": null,
   "metadata": {},
   "outputs": [],
   "source": [
    "save_json(image_files_and_prompts, \".\")"
   ]
  }
 ],
 "metadata": {
  "kernelspec": {
   "display_name": ".venv",
   "language": "python",
   "name": "python3"
  },
  "language_info": {
   "codemirror_mode": {
    "name": "ipython",
    "version": 3
   },
   "file_extension": ".py",
   "mimetype": "text/x-python",
   "name": "python",
   "nbconvert_exporter": "python",
   "pygments_lexer": "ipython3",
   "version": "3.11.4"
  }
 },
 "nbformat": 4,
 "nbformat_minor": 2
}
