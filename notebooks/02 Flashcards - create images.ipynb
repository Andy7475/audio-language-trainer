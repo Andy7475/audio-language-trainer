{
 "cells": [
  {
   "cell_type": "code",
   "execution_count": 1,
   "metadata": {},
   "outputs": [],
   "source": [
    "%load_ext autoreload\n",
    "%autoreload 2\n",
    "import os\n",
    "import sys\n",
    "from pathlib import Path\n",
    "module_path = os.path.abspath(os.path.join('..'))\n",
    "if module_path not in sys.path:\n",
    "    sys.path.append(module_path)\n",
    "\n",
    "root_dir = Path().absolute().parent\n",
    "phrase_dir = root_dir / \"data\" / \"phrases\"\n",
    "image_dir = root_dir / \"outputs\" / \"images\"\n",
    "\n",
    "PAY_FOR_API = True #change to True to run cells that cost money via API calls"
   ]
  },
  {
   "cell_type": "markdown",
   "metadata": {},
   "source": [
    "# Flash Card Generation 02\n",
    "\n",
    "## Generate images\n",
    "\n",
    "Images are a powerful memory aid, and make learning more enjoyable.\n",
    "\n",
    "They are the most expensive part of the flashcard generation process, requiring an LLM call and an image generation call (5 - 6p per image in total)\n",
    "\n",
    "_IMPORTANT_\n",
    "\n",
    "If you are learning more than one language, to prevent memory interference, you should use a different set of images with each language"
   ]
  },
  {
   "cell_type": "markdown",
   "metadata": {},
   "source": [
    "### Load phrases\n",
    "\n",
    "I've already generated some phrases using the longman corpus from earlier"
   ]
  },
  {
   "cell_type": "code",
   "execution_count": 2,
   "metadata": {},
   "outputs": [
    {
     "name": "stdout",
     "output_type": "stream",
     "text": [
      "(\"First few phrases ['a crisp white tablecloth', 'several medium wine \"\n",
      " \"glasses', 'a warm bowl of tomato soup', 'the aromatic freshly-baked bread', \"\n",
      " \"'some chipped dinner plates', 'the polished silver cutlery', 'a romantic \"\n",
      " \"candlelit atmosphere', 'the busy outdoor terrace', 'a dirty menu with greasy \"\n",
      " \"fingerprints', 'the frozen, sour lemon sorbet']\")\n"
     ]
    }
   ],
   "source": [
    "from src.images import generate_images_from_phrases\n",
    "from src.utils import load_text_file, save_json\n",
    "from pprint import pprint\n",
    "\n",
    "filepath = phrase_dir / \"eating_out_vocab.txt\"\n",
    "phrases = load_text_file(filepath)\n",
    "pprint(f\"First few phrases {phrases[:10]}\")"
   ]
  },
  {
   "cell_type": "markdown",
   "metadata": {},
   "source": [
    "### Generate and save images\n",
    "\n",
    "We will use a naming convention to link them to the english phrase, internally 'clean_filename' function does this. This means you can always link back to the image and associated phrase if you make a mistake\n",
    "\n",
    "The code will also check to see if you have already generated an image for that phrase, and skip if it finds it.\n",
    "\n",
    "It's useful to see the image generation prompt, so we save that as well"
   ]
  },
  {
   "cell_type": "code",
   "execution_count": 3,
   "metadata": {},
   "outputs": [
    {
     "name": "stderr",
     "output_type": "stream",
     "text": [
      "  0%|          | 0/31 [00:00<?, ?it/s]"
     ]
    },
    {
     "name": "stdout",
     "output_type": "stream",
     "text": [
      "Warning: Image already exists for 'a crisp white tablecloth', skipping generation\n",
      "Warning: Image already exists for 'several medium wine glasses', skipping generation\n",
      "Warning: Image already exists for 'a warm bowl of tomato soup', skipping generation\n",
      "Warning: Image already exists for 'the aromatic freshly-baked bread', skipping generation\n",
      "Function that called this one: create_image_generation_prompt. Sleeping for 20 seconds\n"
     ]
    },
    {
     "name": "stderr",
     "output_type": "stream",
     "text": [
      "Waiting for API cooldown: 100%|\u001b[34m████████████\u001b[0m| 18/18 [00:18<00:00,  1.01s/it]\u001b[0m\n",
      "Waiting for API cooldown: 100%|\u001b[34m████████████\u001b[0m| 17/17 [00:17<00:00,  1.01s/it]\u001b[0m\n",
      "Waiting for API cooldown: 100%|\u001b[34m████████████\u001b[0m| 19/19 [00:19<00:00,  1.01s/it]\u001b[0m\n"
     ]
    },
    {
     "name": "stdout",
     "output_type": "stream",
     "text": [
      "Generated image with imagen using prompt: A stack of dinner plates with visible chips and cracks on their edges, some pieces missing, arranged precariously on a rustic wooden table in the style of a children's book illustration, Axel Scheffler style, thick brushstrokes, colored pencil texture, expressive characters, bold outlines, textured shading, pastel color palette\n"
     ]
    },
    {
     "name": "stderr",
     "output_type": "stream",
     "text": [
      " 16%|█▌        | 5/31 [01:10<06:08, 14.19s/it]"
     ]
    },
    {
     "name": "stdout",
     "output_type": "stream",
     "text": [
      "Warning: Image already exists for 'the polished silver cutlery', skipping generation\n",
      "Warning: Image already exists for 'a romantic candlelit atmosphere', skipping generation\n",
      "Warning: Image already exists for 'the busy outdoor terrace', skipping generation\n",
      "Warning: Image already exists for 'a dirty menu with greasy fingerprints', skipping generation\n",
      "Warning: Image already exists for 'the frozen, sour lemon sorbet', skipping generation\n",
      "Warning: Image already exists for 'a large beef pie with gravy', skipping generation\n",
      "Warning: Image already exists for 'the creamy chocolate mousse dessert', skipping generation\n",
      "Warning: Image already exists for 'some wobbly wooden bar stools', skipping generation\n",
      "Warning: Image already exists for 'some fresh strawberry ice-cream', skipping generation\n",
      "Warning: Image already exists for 'another clean napkin, please', skipping generation\n",
      "Warning: Image already exists for 'the delicious salmon fillet with herbs', skipping generation\n",
      "Warning: Image already exists for 'a chilled bottle of sparkling water', skipping generation\n",
      "Warning: Image already exists for 'the fried garlic prawns starter', skipping generation\n",
      "Warning: Image already exists for 'a noisy open-plan kitchen', skipping generation\n",
      "Warning: Image already exists for 'smoked cheese with fresh trout', skipping generation\n"
     ]
    },
    {
     "name": "stderr",
     "output_type": "stream",
     "text": [
      "Waiting for API cooldown: 100%|\u001b[34m██████████████\u001b[0m| 7/7 [00:07<00:00,  1.01s/it]\u001b[0m\n"
     ]
    },
    {
     "name": "stdout",
     "output_type": "stream",
     "text": [
      "Function that called this one: create_image_generation_prompt. Sleeping for 20 seconds\n"
     ]
    },
    {
     "name": "stderr",
     "output_type": "stream",
     "text": [
      "Waiting for API cooldown: 100%|\u001b[34m████████████\u001b[0m| 19/19 [00:19<00:00,  1.01s/it]\u001b[0m\n",
      "Waiting for API cooldown: 100%|\u001b[34m████████████\u001b[0m| 16/16 [00:16<00:00,  1.01s/it]\u001b[0m\n",
      "Waiting for API cooldown: 100%|\u001b[34m████████████\u001b[0m| 19/19 [00:19<00:00,  1.01s/it]\u001b[0m\n"
     ]
    },
    {
     "name": "stdout",
     "output_type": "stream",
     "text": [
      "Generated image with imagen using prompt: A succulent lamb shank on a rustic plate, surrounded by aromatic herbs and vegetables, with steam rising to indicate slow cooking, set in a cozy kitchen with a slow cooker visible in the background in the style of a children's book illustration, Axel Scheffler style, thick brushstrokes, colored pencil texture, expressive characters, bold outlines, textured shading, pastel color palette\n"
     ]
    },
    {
     "name": "stderr",
     "output_type": "stream",
     "text": [
      "100%|██████████| 31/31 [02:26<00:00,  4.73s/it]"
     ]
    },
    {
     "name": "stdout",
     "output_type": "stream",
     "text": [
      "Warning: Image already exists for 'roasted vegetables in a spicy sauce', skipping generation\n",
      "Warning: Image already exists for 'some colourful old crockery', skipping generation\n",
      "Warning: Image already exists for 'the refreshing gin and tonic aperitif', skipping generation\n",
      "Warning: Image already exists for 'a cramped corner table for two', skipping generation\n",
      "Warning: Image already exists for 'the rich red wine reduction sauce', skipping generation\n",
      "Warning: Image already exists for 'some crusty sourdough bread slices', skipping generation\n",
      "Warning: Image already exists for 'the cold citrus salad dressing', skipping generation\n",
      "Warning: Image already exists for 'a big portion of chunky chips', skipping generation\n",
      "Warning: Image already exists for 'the smooth, hot pumpkin soup', skipping generation\n",
      "Warning: Image already exists for 'the salty golden-brown onion rings', skipping generation\n"
     ]
    },
    {
     "name": "stderr",
     "output_type": "stream",
     "text": [
      "\n"
     ]
    }
   ],
   "source": [
    "output_dir = image_dir / \"core\"\n",
    "prompt_store_filepath = output_dir / \"prompts.json\"\n",
    "\n",
    "if PAY_FOR_API:\n",
    "    image_files_and_prompts = generate_images_from_phrases(phrases=phrases, output_dir = output_dir, style=\"default\")\n",
    "\n",
    "save_json(file_path=prompt_store_filepath, data=image_files_and_prompts)\n"
   ]
  },
  {
   "cell_type": "code",
   "execution_count": null,
   "metadata": {},
   "outputs": [],
   "source": [
    "save_json(image_files_and_prompts, \".\")"
   ]
  }
 ],
 "metadata": {
  "kernelspec": {
   "display_name": ".venv",
   "language": "python",
   "name": "python3"
  },
  "language_info": {
   "codemirror_mode": {
    "name": "ipython",
    "version": 3
   },
   "file_extension": ".py",
   "mimetype": "text/x-python",
   "name": "python",
   "nbconvert_exporter": "python",
   "pygments_lexer": "ipython3",
   "version": "3.11.4"
  }
 },
 "nbformat": 4,
 "nbformat_minor": 2
}
