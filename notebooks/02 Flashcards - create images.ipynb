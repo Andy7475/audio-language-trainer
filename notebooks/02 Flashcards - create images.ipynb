{
 "cells": [
  {
   "cell_type": "code",
   "execution_count": 1,
   "metadata": {},
   "outputs": [],
   "source": [
    "%load_ext autoreload\n",
    "%autoreload 2\n",
    "import os\n",
    "import sys\n",
    "from pathlib import Path\n",
    "module_path = os.path.abspath(os.path.join('..'))\n",
    "if module_path not in sys.path:\n",
    "    sys.path.append(module_path)\n",
    "\n",
    "from src.gcs_storage import get_phrase_path, read_from_gcs, upload_to_gcs\n",
    "from src.images import generate_images_from_phrases\n",
    "from src.config_loader import config\n",
    "COLLECTION = \"WarmUp150\""
   ]
  },
  {
   "cell_type": "markdown",
   "metadata": {},
   "source": [
    "# Flash Card Generation 02\n",
    "\n",
    "## Generate images\n",
    "\n",
    "Images are a powerful memory aid, and make learning more enjoyable.\n",
    "\n",
    "They are the most expensive part of the flashcard generation process, requiring an LLM call and an image generation call (5 - 6p per image in total)\n",
    "\n",
    "_IMPORTANT_\n",
    "\n",
    "If you are learning more than one language, to prevent memory interference, you should use a different set of images with each language"
   ]
  },
  {
   "cell_type": "markdown",
   "metadata": {},
   "source": [
    "### Load phrases\n",
    "\n",
    "I've already generated some phrases using the longman corpus from earlier"
   ]
  },
  {
   "cell_type": "code",
   "execution_count": 2,
   "metadata": {},
   "outputs": [
    {
     "name": "stdout",
     "output_type": "stream",
     "text": [
      "['The other one is ready', \"I'm ready to start\"]\n"
     ]
    }
   ],
   "source": [
    "\n",
    "phrases = read_from_gcs(config.GCS_PRIVATE_BUCKET, file_path=get_phrase_path(collection=COLLECTION))\n",
    "print(phrases[-2:])"
   ]
  },
  {
   "cell_type": "markdown",
   "metadata": {},
   "source": [
    "### Generate and save images\n",
    "\n",
    "We will use a naming convention to link them to the english phrase, internally 'clean_filename' function does this. This means you can always link back to the image and associated phrase if you make a mistake\n",
    "\n",
    "The code will also check to see if you have already generated an image for that phrase, and skip if it finds it.\n",
    "\n",
    "It's useful to see the image generation prompt, so we save that as well"
   ]
  },
  {
   "cell_type": "code",
   "execution_count": 4,
   "metadata": {},
   "outputs": [
    {
     "name": "stderr",
     "output_type": "stream",
     "text": [
      "Generating phrase images:  25%|██▌       | 1/4 [00:05<00:15,  5.20s/it]"
     ]
    },
    {
     "name": "stdout",
     "output_type": "stream",
     "text": [
      "Image already exists for 'We should fight for our rights', skipping generation\n",
      "Function that called this one: create_image_generation_prompt. Sleeping for 20 seconds\n"
     ]
    },
    {
     "name": "stderr",
     "output_type": "stream",
     "text": [
      "Waiting for API cooldown: 100%|\u001b[34m████████████\u001b[0m| 19/19 [00:19<00:00,  1.01s/it]\u001b[0m\n",
      "Waiting for API cooldown: 100%|\u001b[34m████████████\u001b[0m| 12/12 [00:12<00:00,  1.01s/it]\u001b[0m\n"
     ]
    },
    {
     "name": "stdout",
     "output_type": "stream",
     "text": [
      "🎨 Starting image generation process for prompt: A sleeping baby in a crib with a finger pressed to lips in a \"shh\" gesture, while a person tiptoes exaggeratedly past the crib in the style of picture book illustration style, thick brushstrokes, colored pencil texture, expressive character faces, bold black outlines, textured cross-hatch shading, warm pastel color palette, whimsical cartoon proportions, soft watercolor-like backgrounds\n",
      "📋 Will try providers in order: ['imagen', 'deepai', 'stability']\n",
      "🔄 Attempting image generation with imagen...\n"
     ]
    },
    {
     "name": "stderr",
     "output_type": "stream",
     "text": [
      "Waiting for API cooldown: 100%|\u001b[34m██████████████\u001b[0m| 1/1 [00:01<00:00,  1.01s/it]\u001b[0m\n"
     ]
    },
    {
     "name": "stdout",
     "output_type": "stream",
     "text": [
      "No image generated using imagen-3.0-generate-001 with prompt: A sleeping baby in a crib with a finger pressed to lips in a \"shh\" gesture, while a person tiptoes exaggeratedly past the crib in the style of picture book illustration style, thick brushstrokes, colored pencil texture, expressive character faces, bold black outlines, textured cross-hatch shading, warm pastel color palette, whimsical cartoon proportions, soft watercolor-like backgrounds\n",
      "❌ Failed to generate image with imagen: API returned None - possible content filtering, quota limits, or service unavailable\n",
      "🔄 Attempting image generation with deepai...\n"
     ]
    },
    {
     "name": "stderr",
     "output_type": "stream",
     "text": [
      "Waiting for API cooldown: 100%|\u001b[34m██████████████\u001b[0m| 3/3 [00:03<00:00,  1.01s/it]\u001b[0m\n"
     ]
    },
    {
     "name": "stdout",
     "output_type": "stream",
     "text": [
      "✅ Successfully generated image with deepai\n",
      "   Prompt: A sleeping baby in a crib with a finger pressed to lips in a \"shh\" gesture, while a person tiptoes exaggeratedly past the crib in the style of picture book illustration style, thick brushstrokes, colored pencil texture, expressive character faces, bold black outlines, textured cross-hatch shading, warm pastel color palette, whimsical cartoon proportions, soft watercolor-like backgrounds\n"
     ]
    },
    {
     "name": "stderr",
     "output_type": "stream",
     "text": [
      "Generating phrase images:  50%|█████     | 2/4 [01:23<01:36, 48.25s/it]"
     ]
    },
    {
     "name": "stdout",
     "output_type": "stream",
     "text": [
      "✅ Generated and uploaded image for 'Don't wake the baby, please' to gs://audio-language-trainer-private-content/phrases/common/images/dont_wake_the_baby_please.png\n"
     ]
    },
    {
     "name": "stderr",
     "output_type": "stream",
     "text": [
      "Generating phrase images:  75%|███████▌  | 3/4 [01:28<00:28, 28.54s/it]"
     ]
    },
    {
     "name": "stdout",
     "output_type": "stream",
     "text": [
      "Image already exists for 'Can you stick around longer?', skipping generation\n"
     ]
    },
    {
     "name": "stderr",
     "output_type": "stream",
     "text": [
      "Generating phrase images: 100%|██████████| 4/4 [01:34<00:00, 23.59s/it]"
     ]
    },
    {
     "name": "stdout",
     "output_type": "stream",
     "text": [
      "Image already exists for 'I might get a new job', skipping generation\n",
      "\n",
      "🎯 Successfully generated 4 images out of 4 phrases\n"
     ]
    },
    {
     "name": "stderr",
     "output_type": "stream",
     "text": [
      "\n"
     ]
    }
   ],
   "source": [
    "\n",
    "image_data = generate_images_from_phrases(phrases=phrases[72:], bucket_name=config.GCS_PRIVATE_BUCKET,\n",
    "                                          overwrite=False,#\n",
    "                                          use_language_folder=False, #will save in common\n",
    "                                           style=\"default\")\n",
    "\n"
   ]
  },
  {
   "cell_type": "code",
   "execution_count": null,
   "metadata": {},
   "outputs": [],
   "source": []
  }
 ],
 "metadata": {
  "kernelspec": {
   "display_name": ".venv",
   "language": "python",
   "name": "python3"
  },
  "language_info": {
   "codemirror_mode": {
    "name": "ipython",
    "version": 3
   },
   "file_extension": ".py",
   "mimetype": "text/x-python",
   "name": "python",
   "nbconvert_exporter": "python",
   "pygments_lexer": "ipython3",
   "version": "3.11.4"
  }
 },
 "nbformat": 4,
 "nbformat_minor": 2
}
