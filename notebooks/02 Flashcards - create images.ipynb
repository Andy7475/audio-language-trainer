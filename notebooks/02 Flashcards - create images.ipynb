{
 "cells": [
  {
   "cell_type": "code",
   "execution_count": 27,
   "metadata": {},
   "outputs": [],
   "source": [
    "%load_ext autoreload\n",
    "%autoreload 2\n",
    "import os\n",
    "import sys\n",
    "\n",
    "module_path = os.path.abspath(os.path.join('..'))\n",
    "if module_path not in sys.path:\n",
    "    sys.path.append(module_path)\n",
    "\n",
    "PAY_FOR_API = True #change to True to run cells that cost money via API calls"
   ]
  },
  {
   "cell_type": "markdown",
   "metadata": {},
   "source": [
    "# Flash Card Generation 02\n",
    "\n",
    "## Generate images\n",
    "\n",
    "Images are a powerful memory aid, and make learning more enjoyable.\n",
    "\n",
    "They are the most expensive part of the flashcard generation process, requiring an LLM call and an image generation call (5 - 6p per image in total)\n",
    "\n",
    "_IMPORTANT_\n",
    "\n",
    "If you are learning more than one language, to prevent memory interference, you should use a different set of images with each language"
   ]
  },
  {
   "cell_type": "markdown",
   "metadata": {},
   "source": [
    "### Load phrases\n",
    "\n",
    "I've already generated some phrases using the longman corpus from earlier"
   ]
  },
  {
   "cell_type": "code",
   "execution_count": 13,
   "metadata": {},
   "outputs": [
    {
     "name": "stdout",
     "output_type": "stream",
     "text": [
      "(\"First few phrases ['Mix the paint for a grand impression', 'Can you grant me \"\n",
      " \"a brief vacation?', 'Dry the washing before the rain returns', 'Beat the \"\n",
      " 'traffic by leaving super early\\', \"Don\\'t fail to return the library books\", '\n",
      " \"'Blow your nose and stop the sneezing', 'Respond to my text about the \"\n",
      " \"party', 'List your career goals on the fridge', 'Remove that disgusting \"\n",
      " \"mouse from the garage', 'Shall we shoot some exciting photos today?']\")\n"
     ]
    }
   ],
   "source": [
    "from src.images import add_images_to_phrases\n",
    "from src.utils import load_text_file, save_json, load_json\n",
    "from pprint import pprint\n",
    "\n",
    "filepath = \"../data/longman_1000_phrases.txt\"\n",
    "phrases = load_text_file(filepath)\n",
    "pprint(f\"First few phrases {phrases[:10]}\")"
   ]
  },
  {
   "cell_type": "markdown",
   "metadata": {},
   "source": [
    "### Generate and save images\n",
    "\n",
    "We will use a naming convention to link them to the english phrase, internally 'clean_filename' function does this. This means you can always link back to the image and associated phrase if you make a mistake\n",
    "\n",
    "The code will also check to see if you have already generated an image for that phrase, and skip if it finds it.\n",
    "\n",
    "It's useful to see the image generation prompt, so we save that as well"
   ]
  },
  {
   "cell_type": "code",
   "execution_count": null,
   "metadata": {},
   "outputs": [
    {
     "name": "stderr",
     "output_type": "stream",
     "text": [
      "  0%|          | 0/4 [00:00<?, ?it/s]"
     ]
    },
    {
     "name": "stdout",
     "output_type": "stream",
     "text": [
      "Warning: Image already exists for 'Mix the paint for a grand impression', skipping generation\n",
      "Warning: Image already exists for 'Can you grant me a brief vacation?', skipping generation\n",
      "Function that called this one: create_image_generation_prompt. Sleeping for 20 seconds\n"
     ]
    },
    {
     "name": "stderr",
     "output_type": "stream",
     "text": [
      "Waiting for API cooldown: 100%|\u001b[34m████████████\u001b[0m| 19/19 [00:19<00:00,  1.01s/it]\u001b[0m\n",
      "Waiting for API cooldown: 100%|\u001b[34m████████████\u001b[0m| 17/17 [00:17<00:00,  1.01s/it]\u001b[0m\n",
      "Waiting for API cooldown: 100%|\u001b[34m██████████████\u001b[0m| 8/8 [00:08<00:00,  1.01s/it]\u001b[0m\n"
     ]
    },
    {
     "name": "stdout",
     "output_type": "stream",
     "text": [
      "Function that called this one: create_image_generation_prompt. Sleeping for 20 seconds\n"
     ]
    },
    {
     "name": "stderr",
     "output_type": "stream",
     "text": [
      "Waiting for API cooldown: 100%|\u001b[34m████████████\u001b[0m| 19/19 [00:19<00:00,  1.01s/it]\u001b[0m\n",
      "Waiting for API cooldown: 100%|\u001b[34m████████████\u001b[0m| 17/17 [00:17<00:00,  1.01s/it]\u001b[0m\n",
      "100%|██████████| 4/4 [01:49<00:00, 27.29s/it]\n"
     ]
    },
    {
     "ename": "TypeError",
     "evalue": "expected str, bytes or os.PathLike object, not NoneType",
     "output_type": "error",
     "traceback": [
      "\u001b[1;31m---------------------------------------------------------------------------\u001b[0m",
      "\u001b[1;31mTypeError\u001b[0m                                 Traceback (most recent call last)",
      "Cell \u001b[1;32mIn[29], line 13\u001b[0m\n\u001b[0;32m     10\u001b[0m     image_files_and_prompts \u001b[38;5;241m=\u001b[39m add_images_to_phrases(phrases\u001b[38;5;241m=\u001b[39mphrases[:\u001b[38;5;241m4\u001b[39m], output_dir \u001b[38;5;241m=\u001b[39m output_dir)\n\u001b[0;32m     12\u001b[0m prompt_store \u001b[38;5;241m=\u001b[39m image_files_and_prompts\u001b[38;5;241m.\u001b[39mupdate(prompt_store)\n\u001b[1;32m---> 13\u001b[0m \u001b[43msave_json\u001b[49m\u001b[43m(\u001b[49m\u001b[43mprompt_store_filepath\u001b[49m\u001b[43m,\u001b[49m\u001b[43m \u001b[49m\u001b[43mprompt_store\u001b[49m\u001b[43m)\u001b[49m\n",
      "File \u001b[1;32my:\\Python Scripts\\audio-language-trainer\\src\\utils.py:339\u001b[0m, in \u001b[0;36msave_json\u001b[1;34m(data, file_path)\u001b[0m\n\u001b[0;32m    338\u001b[0m \u001b[38;5;28;01mdef\u001b[39;00m \u001b[38;5;21msave_json\u001b[39m(data, file_path):\n\u001b[1;32m--> 339\u001b[0m     \u001b[38;5;28;01mwith\u001b[39;00m \u001b[38;5;28;43mopen\u001b[39;49m\u001b[43m(\u001b[49m\u001b[43mfile_path\u001b[49m\u001b[43m,\u001b[49m\u001b[43m \u001b[49m\u001b[38;5;124;43m\"\u001b[39;49m\u001b[38;5;124;43mw\u001b[39;49m\u001b[38;5;124;43m\"\u001b[39;49m\u001b[43m)\u001b[49m \u001b[38;5;28;01mas\u001b[39;00m file:\n\u001b[0;32m    340\u001b[0m         json\u001b[38;5;241m.\u001b[39mdump(data, file, indent\u001b[38;5;241m=\u001b[39m\u001b[38;5;241m2\u001b[39m)\n",
      "\u001b[1;31mTypeError\u001b[0m: expected str, bytes or os.PathLike object, not NoneType"
     ]
    }
   ],
   "source": [
    "output_dir = \"../data/longman_phrase_images/longman1000\"\n",
    "prompt_store_file = \"longman1000_prompts.json\"\n",
    "prompt_store_filepath = os.path.join(output_dir, prompt_store_file)\n",
    "\n",
    "#this allows you to carry on from where you left off on another day\n",
    "#as image generation takes some time\n",
    "prompt_store = load_json(prompt_store_filepath)\n",
    "\n",
    "if PAY_FOR_API:\n",
    "    image_files_and_prompts = add_images_to_phrases(phrases=phrases, output_dir = output_dir)\n",
    "\n",
    "prompt_store = prompt_store.update(image_files_and_prompts)\n",
    "save_json(prompt_store_filepath, prompt_store)\n"
   ]
  },
  {
   "cell_type": "code",
   "execution_count": null,
   "metadata": {},
   "outputs": [
    {
     "ename": "TypeError",
     "evalue": "expected str, bytes or os.PathLike object, not NoneType",
     "output_type": "error",
     "traceback": [
      "\u001b[1;31m---------------------------------------------------------------------------\u001b[0m",
      "\u001b[1;31mTypeError\u001b[0m                                 Traceback (most recent call last)",
      "Cell \u001b[1;32mIn[23], line 1\u001b[0m\n\u001b[1;32m----> 1\u001b[0m \u001b[43msave_json\u001b[49m\u001b[43m(\u001b[49m\u001b[43mprompt_store_filepath\u001b[49m\u001b[43m,\u001b[49m\u001b[43m \u001b[49m\u001b[43mprompt_store\u001b[49m\u001b[43m)\u001b[49m\n",
      "File \u001b[1;32my:\\Python Scripts\\audio-language-trainer\\src\\utils.py:339\u001b[0m, in \u001b[0;36msave_json\u001b[1;34m(data, file_path)\u001b[0m\n\u001b[0;32m    338\u001b[0m \u001b[38;5;28;01mdef\u001b[39;00m \u001b[38;5;21msave_json\u001b[39m(data, file_path):\n\u001b[1;32m--> 339\u001b[0m     \u001b[38;5;28;01mwith\u001b[39;00m \u001b[38;5;28;43mopen\u001b[39;49m\u001b[43m(\u001b[49m\u001b[43mfile_path\u001b[49m\u001b[43m,\u001b[49m\u001b[43m \u001b[49m\u001b[38;5;124;43m\"\u001b[39;49m\u001b[38;5;124;43mw\u001b[39;49m\u001b[38;5;124;43m\"\u001b[39;49m\u001b[43m)\u001b[49m \u001b[38;5;28;01mas\u001b[39;00m file:\n\u001b[0;32m    340\u001b[0m         json\u001b[38;5;241m.\u001b[39mdump(data, file, indent\u001b[38;5;241m=\u001b[39m\u001b[38;5;241m2\u001b[39m)\n",
      "\u001b[1;31mTypeError\u001b[0m: expected str, bytes or os.PathLike object, not NoneType"
     ]
    }
   ],
   "source": []
  }
 ],
 "metadata": {
  "kernelspec": {
   "display_name": ".venv",
   "language": "python",
   "name": "python3"
  },
  "language_info": {
   "codemirror_mode": {
    "name": "ipython",
    "version": 3
   },
   "file_extension": ".py",
   "mimetype": "text/x-python",
   "name": "python",
   "nbconvert_exporter": "python",
   "pygments_lexer": "ipython3",
   "version": "3.11.4"
  }
 },
 "nbformat": 4,
 "nbformat_minor": 2
}
