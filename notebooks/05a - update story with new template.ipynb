{
 "cells": [
  {
   "cell_type": "markdown",
   "metadata": {},
   "source": [
    "# Story Updating\n",
    "We will have a pickle file and M4A audio files, but if we update the HTML template or the StoryViewer.js file we'll need to recomplie and upload"
   ]
  },
  {
   "cell_type": "code",
   "execution_count": 25,
   "metadata": {},
   "outputs": [
    {
     "name": "stdout",
     "output_type": "stream",
     "text": [
      "The autoreload extension is already loaded. To reload it, use:\n",
      "  %reload_ext autoreload\n"
     ]
    }
   ],
   "source": [
    "%load_ext autoreload\n",
    "%autoreload 2\n",
    "from dotenv import load_dotenv\n",
    "\n",
    "load_dotenv()\n",
    "\n",
    "PAY_FOR_API = True #change to True to run cells that cost money via API calls"
   ]
  },
  {
   "cell_type": "code",
   "execution_count": 26,
   "metadata": {},
   "outputs": [],
   "source": [
    "from pathlib import Path\n",
    "\n",
    "from src.config_loader import config\n",
    "\n",
    "from src.utils import (\n",
    "    load_pickle,\n",
    "    upload_story_to_gcs,\n",
    ")\n",
    "# Add the parent directory of 'src' to the Python path\n"
   ]
  },
  {
   "cell_type": "markdown",
   "metadata": {},
   "source": [
    "### Add directories\n",
    "story images can be re-used between languages, but audio files are language specific, so we structure the story directory story_name/language with audio files in 'language/' and images and the english JSON file in story_name dir"
   ]
  },
  {
   "cell_type": "code",
   "execution_count": 13,
   "metadata": {},
   "outputs": [
    {
     "data": {
      "text/plain": [
       "['story_birthday_party_planning_mishap',\n",
       " 'story_camping_trip_gone_awry',\n",
       " 'story_community_park',\n",
       " 'story_dining_dilemma_at_local_restaurant',\n",
       " 'story_fishing_trip_gone_awry',\n",
       " 'story_job_interview_gone_wrong',\n",
       " 'story_lost_in_stockholm',\n",
       " 'story_midnight_garden_mystery',\n",
       " 'story_rainy_football_match',\n",
       " 'story_roblox_bot_trouble',\n",
       " 'story_sunset_wedding_blues',\n",
       " 'story_surprise_hospital_adventure',\n",
       " 'story_swedish_adventure_in_winter_wilderness',\n",
       " 'story_underwater_adventure_gone_wrong',\n",
       " 'story_unexpected_career_change',\n",
       " 'story_unexpected_coffee_adventure',\n",
       " 'story_unexpected_holiday_adventure',\n",
       " 'story_unexpected_marathon_adventure',\n",
       " 'story_unexpected_movie_adventure',\n",
       " 'story_unexpected_music_project',\n",
       " 'story_unexpected_power_outage',\n",
       " 'story_unexpected_train_adventure',\n",
       " 'story_unexpected_wedding_guests',\n",
       " 'story_workplace_stress_vacation']"
      ]
     },
     "execution_count": 13,
     "metadata": {},
     "output_type": "execute_result"
    }
   ],
   "source": [
    "\n",
    "notebook_dir = Path().absolute()  # This gives src/notebooks\n",
    "phrase_dir = notebook_dir.parent / \"data\" / \"phrases\" #where we store text files of phrases\n",
    "story_dir = notebook_dir.parent / \"outputs\" / \"stories\" # where we store our stories\n",
    "\n",
    "\n",
    "def list_story_folders(base_dir=story_dir):\n",
    "    \"\"\"List all story_ folders in the specified directory.\"\"\"\n",
    "    base_path = Path(base_dir)\n",
    "    if not base_path.exists():\n",
    "        return []\n",
    "    \n",
    "    return [folder.name for folder in base_path.iterdir() \n",
    "            if folder.is_dir() and folder.name.startswith(\"story_\")]\n",
    "\n",
    "all_stories = list_story_folders()\n",
    "all_stories"
   ]
  },
  {
   "cell_type": "code",
   "execution_count": 14,
   "metadata": {},
   "outputs": [],
   "source": [
    "STORY_NAME = 'story_dining_dilemma_at_local_restaurant'\n",
    "story_dialogue_audio = load_pickle(story_dir / STORY_NAME / config.TARGET_LANGUAGE_NAME / f\"{STORY_NAME}.pkl\")"
   ]
  },
  {
   "cell_type": "code",
   "execution_count": 15,
   "metadata": {},
   "outputs": [
    {
     "name": "stderr",
     "output_type": "stream",
     "text": [
      "creating album:  50%|█████     | 1/2 [00:00<00:00,  1.51it/s]"
     ]
    },
    {
     "name": "stdout",
     "output_type": "stream",
     "text": [
      "Saved M4A file track number 1\n"
     ]
    },
    {
     "name": "stderr",
     "output_type": "stream",
     "text": [
      "creating album: 100%|██████████| 2/2 [00:01<00:00,  1.56it/s]\n"
     ]
    },
    {
     "name": "stdout",
     "output_type": "stream",
     "text": [
      "Saved M4A file track number 2\n"
     ]
    },
    {
     "name": "stderr",
     "output_type": "stream",
     "text": [
      "creating fast tracks for album:  50%|█████     | 1/2 [00:02<00:02,  2.53s/it]"
     ]
    },
    {
     "name": "stdout",
     "output_type": "stream",
     "text": [
      "Saved M4A file track number 3\n"
     ]
    },
    {
     "name": "stderr",
     "output_type": "stream",
     "text": [
      "creating fast tracks for album: 100%|██████████| 2/2 [00:04<00:00,  2.35s/it]"
     ]
    },
    {
     "name": "stdout",
     "output_type": "stream",
     "text": [
      "Saved M4A file track number 4\n"
     ]
    },
    {
     "name": "stderr",
     "output_type": "stream",
     "text": [
      "\n",
      "Uploading M4A files to GCS:  25%|██▌       | 1/4 [00:00<00:01,  1.74it/s]"
     ]
    },
    {
     "name": "stdout",
     "output_type": "stream",
     "text": [
      "Uploaded Swedish_story_dining_dilemma_at_local_restaurant_setup.m4a to gs://audio-language-trainer-stories/swedish/story_dining_dilemma_at_local_restaurant/Swedish_story_dining_dilemma_at_local_restaurant_setup.m4a\n"
     ]
    },
    {
     "name": "stderr",
     "output_type": "stream",
     "text": [
      "Uploading M4A files to GCS:  50%|█████     | 2/4 [00:00<00:00,  2.27it/s]"
     ]
    },
    {
     "name": "stdout",
     "output_type": "stream",
     "text": [
      "Uploaded Swedish_story_dining_dilemma_at_local_restaurant_resolution.m4a to gs://audio-language-trainer-stories/swedish/story_dining_dilemma_at_local_restaurant/Swedish_story_dining_dilemma_at_local_restaurant_resolution.m4a\n"
     ]
    },
    {
     "name": "stderr",
     "output_type": "stream",
     "text": [
      "Uploading M4A files to GCS:  75%|███████▌  | 3/4 [00:02<00:00,  1.13it/s]"
     ]
    },
    {
     "name": "stdout",
     "output_type": "stream",
     "text": [
      "Uploaded Swedish_story_dining_dilemma_at_local_restaurant_setup_FAST.m4a to gs://audio-language-trainer-stories/swedish/story_dining_dilemma_at_local_restaurant/Swedish_story_dining_dilemma_at_local_restaurant_setup_FAST.m4a\n"
     ]
    },
    {
     "name": "stderr",
     "output_type": "stream",
     "text": [
      "Uploading M4A files to GCS: 100%|██████████| 4/4 [00:03<00:00,  1.13it/s]"
     ]
    },
    {
     "name": "stdout",
     "output_type": "stream",
     "text": [
      "Uploaded Swedish_story_dining_dilemma_at_local_restaurant_resolution_FAST.m4a to gs://audio-language-trainer-stories/swedish/story_dining_dilemma_at_local_restaurant/Swedish_story_dining_dilemma_at_local_restaurant_resolution_FAST.m4a\n"
     ]
    },
    {
     "name": "stderr",
     "output_type": "stream",
     "text": [
      "\n"
     ]
    },
    {
     "data": {
      "text/plain": [
       "['y:\\\\Python Scripts\\\\audio-language-trainer\\\\outputs\\\\stories\\\\story_dining_dilemma_at_local_restaurant\\\\Swedish\\\\Swedish_story_dining_dilemma_at_local_restaurant_setup.m4a',\n",
       " 'y:\\\\Python Scripts\\\\audio-language-trainer\\\\outputs\\\\stories\\\\story_dining_dilemma_at_local_restaurant\\\\Swedish\\\\Swedish_story_dining_dilemma_at_local_restaurant_resolution.m4a',\n",
       " 'y:\\\\Python Scripts\\\\audio-language-trainer\\\\outputs\\\\stories\\\\story_dining_dilemma_at_local_restaurant\\\\Swedish\\\\Swedish_story_dining_dilemma_at_local_restaurant_setup_FAST.m4a',\n",
       " 'y:\\\\Python Scripts\\\\audio-language-trainer\\\\outputs\\\\stories\\\\story_dining_dilemma_at_local_restaurant\\\\Swedish\\\\Swedish_story_dining_dilemma_at_local_restaurant_resolution_FAST.m4a']"
      ]
     },
     "execution_count": 15,
     "metadata": {},
     "output_type": "execute_result"
    }
   ],
   "source": [
    "from src.story import create_album_files\n",
    "from PIL import Image\n",
    "FIRST_STORY_PART = list(story_dialogue_audio.keys())[0]\n",
    "#may need to change depending on size of story made and what parts there are\n",
    "album_image = Image.open(story_dir / STORY_NAME / f\"{STORY_NAME}_{FIRST_STORY_PART}.png\")\n",
    "#create m4a file:\n",
    "create_album_files(story_data_dict=story_dialogue_audio, cover_image=album_image, output_dir=story_dir / STORY_NAME / config.TARGET_LANGUAGE_NAME, story_name=STORY_NAME)"
   ]
  },
  {
   "cell_type": "code",
   "execution_count": 33,
   "metadata": {},
   "outputs": [
    {
     "name": "stderr",
     "output_type": "stream",
     "text": [
      "Preparing HTML data: 100%|██████████| 2/2 [00:33<00:00, 16.57s/it]"
     ]
    },
    {
     "name": "stdout",
     "output_type": "stream",
     "text": [
      "HTML story created at: y:\\Python Scripts\\audio-language-trainer\\outputs\\stories\\story_dining_dilemma_at_local_restaurant\\Swedish\\story_dining_dilemma_at_local_restaurant.html\n"
     ]
    },
    {
     "name": "stderr",
     "output_type": "stream",
     "text": [
      "\n"
     ]
    },
    {
     "data": {
      "text/plain": [
       "WindowsPath('y:/Python Scripts/audio-language-trainer/outputs/stories/story_dining_dilemma_at_local_restaurant/Swedish/story_dining_dilemma_at_local_restaurant.html')"
      ]
     },
     "execution_count": 33,
     "metadata": {},
     "output_type": "execute_result"
    }
   ],
   "source": [
    "from src.story import create_html_story\n",
    "\n",
    "create_html_story(\n",
    "            story_data_dict=story_dialogue_audio,\n",
    "            image_dir=story_dir / STORY_NAME, #the langauge sub-folders will be picked up automatically\n",
    "            story_name=STORY_NAME,\n",
    "        )"
   ]
  },
  {
   "cell_type": "markdown",
   "metadata": {},
   "source": [
    "Upload to a public google cloud bucket"
   ]
  },
  {
   "cell_type": "code",
   "execution_count": 21,
   "metadata": {},
   "outputs": [
    {
     "data": {
      "text/plain": [
       "'https://storage.googleapis.com/audio-language-trainer-stories/swedish/story_dining_dilemma_at_local_restaurant/story_dining_dilemma_at_local_restaurant.html'"
      ]
     },
     "execution_count": 21,
     "metadata": {},
     "output_type": "execute_result"
    }
   ],
   "source": [
    "html_story_path = story_dir / STORY_NAME / config.TARGET_LANGUAGE_NAME / f\"{STORY_NAME}.html\"\n",
    "assert html_story_path.exists()\n",
    "upload_story_to_gcs(html_file_path=html_story_path)"
   ]
  },
  {
   "cell_type": "markdown",
   "metadata": {},
   "source": []
  },
  {
   "cell_type": "code",
   "execution_count": null,
   "metadata": {},
   "outputs": [],
   "source": []
  },
  {
   "cell_type": "code",
   "execution_count": 32,
   "metadata": {},
   "outputs": [
    {
     "name": "stdout",
     "output_type": "stream",
     "text": [
      "Starting index page updates for bucket: audio-language-trainer-stories\n",
      "Generating main index and M4A downloads index...\n",
      "Main index uploaded to: https://storage.googleapis.com/audio-language-trainer-stories/index.html\n",
      "M4A downloads index uploaded to: https://storage.googleapis.com/audio-language-trainer-stories/m4a_downloads.html\n",
      "✅ Main index updated: https://storage.googleapis.com/audio-language-trainer-stories/index.html\n",
      "✅ M4A downloads index updated: https://storage.googleapis.com/audio-language-trainer-stories/m4a_downloads.html\n",
      "All index pages updated successfully.\n"
     ]
    },
    {
     "data": {
      "text/plain": [
       "{'main_index': {'local_path': '../outputs/stories\\\\index.html',\n",
       "  'url': 'https://storage.googleapis.com/audio-language-trainer-stories/index.html'},\n",
       " 'm4a_index': {'local_path': '../outputs/stories\\\\m4a_downloads.html',\n",
       "  'url': 'https://storage.googleapis.com/audio-language-trainer-stories/m4a_downloads.html'}}"
      ]
     },
     "execution_count": 32,
     "metadata": {},
     "output_type": "execute_result"
    }
   ],
   "source": [
    "from src.story import update_all_index_pages, generate_m4a_index_html\n",
    "\n",
    "update_all_index_pages()"
   ]
  },
  {
   "cell_type": "markdown",
   "metadata": {},
   "source": [
    "# Update all stories"
   ]
  },
  {
   "cell_type": "code",
   "execution_count": 16,
   "metadata": {},
   "outputs": [
    {
     "name": "stdout",
     "output_type": "stream",
     "text": [
      "Config file has been modified. Reloading...\n",
      "Swedish\n"
     ]
    }
   ],
   "source": [
    "print(config.TARGET_LANGUAGE_NAME)"
   ]
  },
  {
   "cell_type": "code",
   "execution_count": null,
   "metadata": {},
   "outputs": [
    {
     "name": "stderr",
     "output_type": "stream",
     "text": [
      "Preparing HTML data: 100%|██████████| 3/3 [03:38<00:00, 72.70s/it]\n"
     ]
    },
    {
     "name": "stdout",
     "output_type": "stream",
     "text": [
      "HTML story created at: y:\\Python Scripts\\audio-language-trainer\\outputs\\stories\\story_birthday_party_planning_mishap\\Swedish\\story_birthday_party_planning_mishap.html\n"
     ]
    },
    {
     "name": "stderr",
     "output_type": "stream",
     "text": [
      "Preparing HTML data: 100%|██████████| 3/3 [02:09<00:00, 43.16s/it]\n"
     ]
    },
    {
     "name": "stdout",
     "output_type": "stream",
     "text": [
      "HTML story created at: y:\\Python Scripts\\audio-language-trainer\\outputs\\stories\\story_camping_trip_gone_awry\\Swedish\\story_camping_trip_gone_awry.html\n"
     ]
    },
    {
     "name": "stderr",
     "output_type": "stream",
     "text": [
      "Preparing HTML data: 100%|██████████| 3/3 [04:57<00:00, 99.18s/it] \n"
     ]
    },
    {
     "name": "stdout",
     "output_type": "stream",
     "text": [
      "HTML story created at: y:\\Python Scripts\\audio-language-trainer\\outputs\\stories\\story_community_park\\Swedish\\story_community_park.html\n"
     ]
    },
    {
     "name": "stderr",
     "output_type": "stream",
     "text": [
      "Preparing HTML data: 100%|██████████| 2/2 [01:13<00:00, 36.61s/it]\n"
     ]
    },
    {
     "name": "stdout",
     "output_type": "stream",
     "text": [
      "HTML story created at: y:\\Python Scripts\\audio-language-trainer\\outputs\\stories\\story_dining_dilemma_at_local_restaurant\\Swedish\\story_dining_dilemma_at_local_restaurant.html\n"
     ]
    },
    {
     "name": "stderr",
     "output_type": "stream",
     "text": [
      "Preparing HTML data: 100%|██████████| 3/3 [01:40<00:00, 33.34s/it]\n"
     ]
    },
    {
     "name": "stdout",
     "output_type": "stream",
     "text": [
      "HTML story created at: y:\\Python Scripts\\audio-language-trainer\\outputs\\stories\\story_fishing_trip_gone_awry\\Swedish\\story_fishing_trip_gone_awry.html\n"
     ]
    },
    {
     "name": "stderr",
     "output_type": "stream",
     "text": [
      "Preparing HTML data: 100%|██████████| 3/3 [02:00<00:00, 40.19s/it]\n"
     ]
    },
    {
     "name": "stdout",
     "output_type": "stream",
     "text": [
      "HTML story created at: y:\\Python Scripts\\audio-language-trainer\\outputs\\stories\\story_job_interview_gone_wrong\\Swedish\\story_job_interview_gone_wrong.html\n"
     ]
    },
    {
     "name": "stderr",
     "output_type": "stream",
     "text": [
      "Preparing HTML data: 100%|██████████| 5/5 [02:29<00:00, 29.95s/it]\n"
     ]
    },
    {
     "name": "stdout",
     "output_type": "stream",
     "text": [
      "HTML story created at: y:\\Python Scripts\\audio-language-trainer\\outputs\\stories\\story_lost_in_stockholm\\Swedish\\story_lost_in_stockholm.html\n",
      "File does not exist: y:\\Python Scripts\\audio-language-trainer\\outputs\\stories\\story_roblox_bot_trouble\\Swedish\\story_roblox_bot_trouble.pkl\n"
     ]
    },
    {
     "ename": "AttributeError",
     "evalue": "'NoneType' object has no attribute 'items'",
     "output_type": "error",
     "traceback": [
      "\u001b[1;31m---------------------------------------------------------------------------\u001b[0m",
      "\u001b[1;31mAttributeError\u001b[0m                            Traceback (most recent call last)",
      "Cell \u001b[1;32mIn[19], line 3\u001b[0m\n\u001b[0;32m      1\u001b[0m \u001b[38;5;28;01mfor\u001b[39;00m story_name \u001b[38;5;129;01min\u001b[39;00m all_stories:\n\u001b[0;32m      2\u001b[0m     story_dialogue_audio \u001b[38;5;241m=\u001b[39m load_pickle(story_dir \u001b[38;5;241m/\u001b[39m story_name \u001b[38;5;241m/\u001b[39m config\u001b[38;5;241m.\u001b[39mTARGET_LANGUAGE_NAME \u001b[38;5;241m/\u001b[39m \u001b[38;5;124mf\u001b[39m\u001b[38;5;124m\"\u001b[39m\u001b[38;5;132;01m{\u001b[39;00mstory_name\u001b[38;5;132;01m}\u001b[39;00m\u001b[38;5;124m.pkl\u001b[39m\u001b[38;5;124m\"\u001b[39m)\n\u001b[1;32m----> 3\u001b[0m     new_html_path \u001b[38;5;241m=\u001b[39m \u001b[43mcreate_html_story\u001b[49m\u001b[43m(\u001b[49m\n\u001b[0;32m      4\u001b[0m \u001b[43m            \u001b[49m\u001b[43mstory_data_dict\u001b[49m\u001b[38;5;241;43m=\u001b[39;49m\u001b[43mstory_dialogue_audio\u001b[49m\u001b[43m,\u001b[49m\n\u001b[0;32m      5\u001b[0m \u001b[43m            \u001b[49m\u001b[43mimage_dir\u001b[49m\u001b[38;5;241;43m=\u001b[39;49m\u001b[43mstory_dir\u001b[49m\u001b[43m \u001b[49m\u001b[38;5;241;43m/\u001b[39;49m\u001b[43m \u001b[49m\u001b[43mstory_name\u001b[49m\u001b[43m,\u001b[49m\u001b[43m \u001b[49m\u001b[38;5;66;43;03m#the langauge sub-folders will be picked up automatically\u001b[39;49;00m\n\u001b[0;32m      6\u001b[0m \u001b[43m            \u001b[49m\u001b[43mstory_name\u001b[49m\u001b[38;5;241;43m=\u001b[39;49m\u001b[43mstory_name\u001b[49m\u001b[43m,\u001b[49m\n\u001b[0;32m      7\u001b[0m \u001b[43m        \u001b[49m\u001b[43m)\u001b[49m\n\u001b[0;32m      8\u001b[0m     upload_story_to_gcs(html_file_path\u001b[38;5;241m=\u001b[39mnew_html_path)\n",
      "File \u001b[1;32mY:\\Python Scripts\\audio-language-trainer\\src\\story.py:221\u001b[0m, in \u001b[0;36mcreate_html_story\u001b[1;34m(story_data_dict, image_dir, story_name, language, component_path, template_path)\u001b[0m\n\u001b[0;32m    218\u001b[0m story_title \u001b[38;5;241m=\u001b[39m clean_story_name(story_name)\n\u001b[0;32m    220\u001b[0m \u001b[38;5;66;03m# Process the story data and convert audio to base64\u001b[39;00m\n\u001b[1;32m--> 221\u001b[0m prepared_data \u001b[38;5;241m=\u001b[39m \u001b[43mprepare_story_data_for_html\u001b[49m\u001b[43m(\u001b[49m\n\u001b[0;32m    222\u001b[0m \u001b[43m    \u001b[49m\u001b[43mstory_data_dict\u001b[49m\u001b[43m,\u001b[49m\n\u001b[0;32m    223\u001b[0m \u001b[43m    \u001b[49m\u001b[43mstory_name\u001b[49m\u001b[38;5;241;43m=\u001b[39;49m\u001b[43mstory_name\u001b[49m\u001b[43m,\u001b[49m\n\u001b[0;32m    224\u001b[0m \u001b[43m    \u001b[49m\u001b[43mm4a_folder\u001b[49m\u001b[38;5;241;43m=\u001b[39;49m\u001b[43mimage_dir\u001b[49m\u001b[43m \u001b[49m\u001b[38;5;241;43m/\u001b[39;49m\u001b[43m \u001b[49m\u001b[43mlanguage\u001b[49m\u001b[43m,\u001b[49m\n\u001b[0;32m    225\u001b[0m \u001b[43m    \u001b[49m\u001b[43mimage_folder\u001b[49m\u001b[38;5;241;43m=\u001b[39;49m\u001b[43mimage_dir\u001b[49m\u001b[43m,\u001b[49m\n\u001b[0;32m    226\u001b[0m \u001b[43m\u001b[49m\u001b[43m)\u001b[49m\n\u001b[0;32m    228\u001b[0m \u001b[38;5;66;03m# Read the React component\u001b[39;00m\n\u001b[0;32m    229\u001b[0m react_component \u001b[38;5;241m=\u001b[39m load_template(component_path)\n",
      "File \u001b[1;32mY:\\Python Scripts\\audio-language-trainer\\src\\story.py:422\u001b[0m, in \u001b[0;36mprepare_story_data_for_html\u001b[1;34m(story_data_dict, story_name, m4a_folder, image_folder)\u001b[0m\n\u001b[0;32m    408\u001b[0m \u001b[38;5;250m\u001b[39m\u001b[38;5;124;03m\"\"\"Process the story data dictionary to include base64 encoded audio, images and M4A files.\u001b[39;00m\n\u001b[0;32m    409\u001b[0m \n\u001b[0;32m    410\u001b[0m \u001b[38;5;124;03mArgs:\u001b[39;00m\n\u001b[1;32m   (...)\u001b[0m\n\u001b[0;32m    417\u001b[0m \u001b[38;5;124;03m    Dict: Processed dictionary with base64 encoded media content\u001b[39;00m\n\u001b[0;32m    418\u001b[0m \u001b[38;5;124;03m\"\"\"\u001b[39;00m\n\u001b[0;32m    419\u001b[0m prepared_data \u001b[38;5;241m=\u001b[39m {}\n\u001b[0;32m    421\u001b[0m \u001b[38;5;28;01mfor\u001b[39;00m section_name, section_data \u001b[38;5;129;01min\u001b[39;00m tqdm(\n\u001b[1;32m--> 422\u001b[0m     \u001b[43mstory_data_dict\u001b[49m\u001b[38;5;241;43m.\u001b[39;49m\u001b[43mitems\u001b[49m(), desc\u001b[38;5;241m=\u001b[39m\u001b[38;5;124m\"\u001b[39m\u001b[38;5;124mPreparing HTML data\u001b[39m\u001b[38;5;124m\"\u001b[39m\n\u001b[0;32m    423\u001b[0m ):\n\u001b[0;32m    424\u001b[0m     prepared_data[section_name] \u001b[38;5;241m=\u001b[39m {\n\u001b[0;32m    425\u001b[0m         \u001b[38;5;124m\"\u001b[39m\u001b[38;5;124mdialogue\u001b[39m\u001b[38;5;124m\"\u001b[39m: section_data\u001b[38;5;241m.\u001b[39mget(\u001b[38;5;124m\"\u001b[39m\u001b[38;5;124mdialogue\u001b[39m\u001b[38;5;124m\"\u001b[39m, []),\n\u001b[0;32m    426\u001b[0m         \u001b[38;5;124m\"\u001b[39m\u001b[38;5;124mtranslated_dialogue\u001b[39m\u001b[38;5;124m\"\u001b[39m: prepare_dialogue_with_wiktionary(\n\u001b[1;32m   (...)\u001b[0m\n\u001b[0;32m    432\u001b[0m         },\n\u001b[0;32m    433\u001b[0m     }\n\u001b[0;32m    435\u001b[0m     \u001b[38;5;66;03m# Process normal dialogue audio\u001b[39;00m\n",
      "\u001b[1;31mAttributeError\u001b[0m: 'NoneType' object has no attribute 'items'"
     ]
    }
   ],
   "source": [
    "\n",
    "for story_name in all_stories:\n",
    "    story_dialogue_audio = load_pickle(story_dir / story_name / config.TARGET_LANGUAGE_NAME / f\"{story_name}.pkl\")\n",
    "    new_html_path = create_html_story(\n",
    "            story_data_dict=story_dialogue_audio,\n",
    "            image_dir=story_dir / story_name, #the langauge sub-folders will be picked up automatically\n",
    "            story_name=story_name,\n",
    "        )\n",
    "    upload_story_to_gcs(html_file_path=new_html_path)\n",
    "    FIRST_STORY_PART = list(story_dialogue_audio.keys())[0]\n",
    "    #may need to change depending on size of story made and what parts there are\n",
    "    album_image = Image.open(story_dir / story_name / f\"{story_name}_{FIRST_STORY_PART}.png\")\n",
    "    #create m4a file:\n",
    "    create_album_files(story_data_dict=story_dialogue_audio, cover_image=album_image, output_dir=story_dir / story_name / config.TARGET_LANGUAGE_NAME, story_name=story_name)\n",
    "    \n",
    "        "
   ]
  },
  {
   "cell_type": "code",
   "execution_count": null,
   "metadata": {},
   "outputs": [],
   "source": []
  }
 ],
 "metadata": {
  "kernelspec": {
   "display_name": ".venv",
   "language": "python",
   "name": "python3"
  },
  "language_info": {
   "codemirror_mode": {
    "name": "ipython",
    "version": 3
   },
   "file_extension": ".py",
   "mimetype": "text/x-python",
   "name": "python",
   "nbconvert_exporter": "python",
   "pygments_lexer": "ipython3",
   "version": "3.11.4"
  }
 },
 "nbformat": 4,
 "nbformat_minor": 2
}
