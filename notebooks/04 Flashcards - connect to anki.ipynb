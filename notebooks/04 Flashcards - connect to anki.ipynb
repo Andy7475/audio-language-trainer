{
 "cells": [
  {
   "cell_type": "code",
   "execution_count": 1,
   "metadata": {},
   "outputs": [],
   "source": [
    "%load_ext autoreload\n",
    "%autoreload 2\n",
    "import os\n",
    "import sys\n",
    "\n",
    "module_path = os.path.abspath(os.path.join('..'))\n",
    "if module_path not in sys.path:\n",
    "    sys.path.append(module_path)\n",
    "\n",
    "PAY_FOR_API = False #change to True to run cells that cost money via API calls"
   ]
  },
  {
   "cell_type": "markdown",
   "metadata": {},
   "source": [
    "# Flash Card Modification 05\n",
    "\n",
    "Useful for development or bulk updates.\n",
    "We can connect to anki and pull the audio and text, then we can re-attach the image files and re-upload later (with any modifications to the template etc)"
   ]
  },
  {
   "cell_type": "code",
   "execution_count": 3,
   "metadata": {},
   "outputs": [],
   "source": [
    "from src.config_loader import config"
   ]
  },
  {
   "cell_type": "code",
   "execution_count": 11,
   "metadata": {},
   "outputs": [],
   "source": [
    "# create an anki deck with the new template:\n",
    "\n",
    "from src.anki_tools import create_anki_deck_from_gcs\n"
   ]
  },
  {
   "cell_type": "code",
   "execution_count": 12,
   "metadata": {},
   "outputs": [],
   "source": [
    "story_name=\"story_sunset_wedding_blues\""
   ]
  },
  {
   "cell_type": "code",
   "execution_count": 13,
   "metadata": {},
   "outputs": [],
   "source": [
    "# modify the template then recreate the deck, \n",
    "# it will overwrite all existing templates with the same model ID\n",
    "# when uploaded into Anki\n",
    "create_anki_deck_from_gcs(story_name=story_name,\n",
    "                          output_dir=\"../outputs/flashcards\",\n",
    "                          collection=\"LM1000\")\n",
    "\n",
    "\n",
    "\n"
   ]
  },
  {
   "cell_type": "code",
   "execution_count": 15,
   "metadata": {},
   "outputs": [
    {
     "data": {
      "text/plain": [
       "<src.anki_tools.AnkiCollectionReader at 0x28c0bd49bd0>"
      ]
     },
     "execution_count": 15,
     "metadata": {},
     "output_type": "execute_result"
    }
   ],
   "source": [
    "# Import into anki\n",
    "\n",
    "from src.anki_tools import AnkiCollectionReader\n",
    "\n",
    "reader = AnkiCollectionReader()\n",
    "reader.connect()\n",
    "\n",
    "\n",
    "\n"
   ]
  },
  {
   "cell_type": "code",
   "execution_count": 19,
   "metadata": {},
   "outputs": [
    {
     "data": {
      "text/plain": [
       "{'id': 1607392313,\n",
       " 'name': 'Language Practice With Images+',\n",
       " 'type': 0,\n",
       " 'mod': 1746457805,\n",
       " 'usn': 529,\n",
       " 'sortf': 0,\n",
       " 'did': 7366164980685045145,\n",
       " 'tmpls': [{'name': 'Listening Card',\n",
       "   'ord': 0,\n",
       "   'qfmt': '<div class=\"card\">\\n    <div class=\"picture-container\">\\n        <div class=\"flip-container flip-container-image\" id=\"imageFlip\">\\n            <div class=\"flip-front\">\\n                <button class=\"reveal-button\">\\n                    <svg class=\"reveal-icon\" viewBox=\"0 0 24 24\">\\n                        <path d=\"M12 4.5C7 4.5 2.73 7.61 1 12c1.73 4.39 6 7.5 11 7.5s9.27-3.11 11-7.5c-1.73-4.39-6-7.5-11-7.5zM12 17c-2.76 0-5-2.24-5-5s2.24-5 5-5 5 2.24 5 5-2.24 5-5 5zm0-8c-1.66 0-3 1.34-3 3s1.34 3 3 3 3-1.34 3-3-1.34-3-3-3z\"/>\\n                    </svg>\\n                    Reveal Image\\n                </button>\\n            </div>\\n            <div class=\"flip-back\">{{Picture}}</div>\\n        </div>\\n    </div>\\n\\n    <div class=\"audio-controls\">\\n        <div class=\"audio-button-container\">\\n            <div class=\"audio-label\">Normal speed:</div>\\n            {{TargetAudio}}\\n        </div>\\n        <div class=\"audio-button-container\">\\n            <div class=\"audio-label\">Slow speed:</div>\\n            {{TargetAudioSlow}}\\n        </div>\\n    </div>\\n</div>\\n\\n<script>\\n// Image flip functionality\\nconst flipContainer = document.querySelector(\\'.flip-container\\');\\nif (flipContainer) {\\n    flipContainer.addEventListener(\\'click\\', function() {\\n        this.classList.toggle(\\'flipped\\');\\n        const button = this.querySelector(\\'.reveal-button\\');\\n        if (button) {\\n            button.innerHTML = `\\n                <svg class=\"reveal-icon\" viewBox=\"0 0 24 24\">\\n                    <path d=\"M12 4.5C7 4.5 2.73 7.61 1 12c1.73 4.39 6 7.5 11 7.5s9.27-3.11 11-7.5c-1.73-4.39-6-7.5-11-7.5zM12 17c-2.76 0-5-2.24-5-5s2.24-5 5-5 5 2.24 5 5-2.24 5-5 5zm0-8c-1.66 0-3 1.34-3 3s1.34 3 3 3 3-1.34 3-3-1.34-3-3-3z\"/>\\n                </svg>\\n                ${this.classList.contains(\\'flipped\\') ? \\'Hide Image\\' : \\'Reveal Image\\'}`;\\n        }\\n    });\\n}\\n\\n// Audio playback functionality \\ndocument.addEventListener(\\'DOMContentLoaded\\', function() {\\n    document.querySelectorAll(\\'.play-button\\').forEach(button => {\\n        button.addEventListener(\\'click\\', function() {\\n            const audioId = this.dataset.audio;\\n            if (typeof pycmd !== \\'undefined\\') {\\n                pycmd(\\'play:\\' + audioId);\\n            }\\n        });\\n    });\\n});\\n</script>\\n\\n',\n",
       "   'afmt': '<div class=\"card\">\\n    <hr id=\"answer\">\\n    <div class=\"picture-container\">{{Picture}}</div>\\n    \\n    <!-- Hidden prompt template -->\\n    <div class=\"prompt-template\" style=\"display: none;\">\\n        {{TargetLanguageName}} Language Learning Insights.\\n\\n        For the given English phrase: \"{{EnglishText}}\" and its translation: \"{{TargetText}}\", create some language learning insights. Present your response in this structured format:\\n\\n        # Breakdown and Alternative Translations\\n        - insights from a literal translation\\n        - where / when / why would this translation be used over others\\n        - different translations for different contexts \\n        - different formalities (e.g. tu / vous if French etc)\\n        - plural / singlaur alternatives (e.g. du, ni in Swedish)\\n\\n        # Vocabulary Building\\n        - Expand compound words or word-part origins so I learn more vocab (Bonjour = bon + jour etc.)\\n        - Common prefixes/suffixes patterns demonstrated\\n        - Related words sharing same roots/stems\\n        - Etymology and connections to other languages\\n        - Common collocations\\n        - Synonyms and antonyms\\n        - Situational variations\\n        - Register variations (formal/informal/slang)\\n        - Idiomatic expressions using similar patterns\\n\\n        # Practice Points\\n        Concrete examples showing how to use this learning in other contexts:\\n        - Similar phrases using the same pattern\\n        - Common variations\\n        - When and how to use this in real conversations\\n\\n        # Memory Hooks\\n        - Mnemonics if helpful\\n        - Connections to English or other languages\\n        - Visual associations\\n        - Memorable cultural connections\\n\\n        # Grammar Patterns\\n        These will be very language dependent (so some not relevant or you might need to insert your own).\\n        Identify key structural patterns that learners can apply elsewhere:\\n        - Word order rules demonstrated\\n        - Conjugation/declension patterns\\n        - Case/gender/number agreement if relevant\\n        - Special constructions worth noting\\n        - Similar phrases using the same pattern\\n        - Common mistakes to avoid\\n\\n        # Cultural Corner (make this a commentary rather than bullets)\\n        - Formal vs informal usage\\n        - Cultural context and connotations\\n        - Regional variations\\n        - Social situations where this phrase is commonly used\\n        - Any cultural faux pas to avoid\\n        - Historical/cultural background if relevant\\n\\n        Remember to:\\n        - Use clear, learner-friendly language\\n        - Provide plenty of examples\\n        - always provide an english translation for any {{TargetLanguageName}} text\\n        - Use bullet points and clear formatting for readability, but add explanations so it\\'s easy to understand\\n        - Link concepts together to show language patterns\\n        - Flag particularly useful or important points with 💡\\n        - Mark common pitfalls or important warnings with ⚠️\\n        - Use tables for comparing variations where appropriate\\n\\n        Note: Not every section needs to be equally detailed - expand on the most relevant aspects for this particular phrase, but maintain the consistent structure for familiarity.\\n    </div>\\n\\n    <!-- Main card content -->\\n    <div class=\"target-text\" onclick=\"copyToClipboard(this)\">{{TargetText}}</div>\\n    <div class=\"english-text\">{{EnglishText}}</div>\\n\\n    <!-- Audio controls -->\\n    <div class=\"audio-controls\">\\n        <div class=\"audio-button-container\">\\n            <div class=\"audio-label\">Normal speed:</div>\\n            {{TargetAudio}}\\n        </div>\\n        <div class=\"audio-button-container\">\\n            <div class=\"audio-label\">Slow speed:</div>\\n            {{TargetAudioSlow}}\\n        </div>\\n    </div>\\n\\n    <div class=\"wiktionary-links\">{{WiktionaryLinks}}</div>\\n\\n    <!-- Insights Button Container -->\\n    <div class=\"insights-container\">\\n        <button class=\"copy-button\" onclick=\"copyInsightsTemplate()\">\\n            📋\\n        </button>\\n        <a href=\"https://claude.ai\" target=\"_blank\" class=\"insights-button\" onclick=\"return copyPromptBeforeNavigate(event)\">\\n            <span class=\"insights-icon\">💡</span>\\n            Learning Insights\\n        </a>\\n    </div>\\n\\n    <!-- Footer info text -->\\n    <div class=\"footer-info\">\\n        Click 📋 to copy the prompt or 💡 to open Claude and automatically copy the prompt for pasting.\\n    </div>\\n\\n    <!-- Stories Section --> \\n    <div id=\"stories-section\" class=\"stories-container\">\\n        <div class=\"stories-header\">\\n            <a href=\"https://storage.googleapis.com/audio-language-trainer-stories/index.html\">Stories</a>    \\n        </div>\\n\\t\\t\\t\\t\\t<div class=\"footer-info\">\\n        Stories will direct to an external website\\n    </div>\\n        <div class=\"stories-links\">\\n            <script>\\n                (function() {\\n                    const tagString = \"{{Tags}}\";  // This will get the tags as a string\\n                    const tags = tagString ? tagString.split(\" \") : [];\\n                    const storyTags = tags.filter(tag => tag.startsWith(\\'story_\\'));\\n                    const storiesContainer = document.querySelector(\\'.stories-links\\');\\n                    \\n                    if (storyTags && storyTags.length > 0) {\\n                        storyTags.forEach(tag => {\\n                            const displayName = tag\\n                                .replace(\\'story_\\', \\'\\')\\n                                .split(\\'_\\')\\n                                .map(word => word.charAt(0).toUpperCase() + word.slice(1))\\n                                .join(\\' \\');\\n                            \\n                            const targetLang = \"{{TargetLanguageName}}\".toLowerCase();\\n                            const bucketUrl = `https://storage.googleapis.com/audio-language-trainer-stories/${targetLang}/${tag}/${tag}.html`;\\n                            \\n                            const link = document.createElement(\\'a\\');\\n                            link.href = bucketUrl;\\n                            link.className = \\'story-link\\';\\n                            link.target = \\'_blank\\';\\n                            link.textContent = displayName;\\n                            \\n                            storiesContainer.appendChild(link);\\n                        });\\n                    } else {\\n                        const placeholder = document.createElement(\\'div\\');\\n                        placeholder.className = \\'story-placeholder\\';\\n                        placeholder.innerHTML = `\\n                            <p>No stories available yet for this vocabulary.</p>\\n                            <a href=\"https://github.com/Andy7475/audio-language-trainer/discussions/118\" \\n                            target=\"_blank\" \\n                            class=\"request-story-link\">\\n                                Request a story in the GitHub discussion →\\n                            </a>\\n                        `;\\n                        storiesContainer.appendChild(placeholder);\\n                    }\\n                })();\\n            </script>\\n        </div>\\n    </div>\\n</div>\\n\\n<script>\\n// Simple copy functionality for target text\\nfunction copyToClipboard(element) {\\n    const text = element.textContent;\\n    navigator.clipboard.writeText(text).then(() => {\\n        element.classList.add(\\'copied\\');\\n        setTimeout(() => {\\n            element.classList.remove(\\'copied\\');\\n        }, 1000);\\n    });\\n}\\n\\n// Modified function to handle the copy before navigation\\nfunction copyPromptBeforeNavigate(event) {\\n    const fullPrompt = document.querySelector(\\'.prompt-template\\').textContent;\\n    const button = document.querySelector(\\'.insights-button\\');\\n    \\n    navigator.clipboard.writeText(fullPrompt).then(() => {\\n        button.classList.add(\\'copied\\');\\n        setTimeout(() => {\\n            button.classList.remove(\\'copied\\');\\n        }, 500);\\n    }).catch(err => {\\n        console.error(\\'Failed to copy text: \\', err);\\n    });\\n    \\n    return true;\\n}\\n\\n// Function to copy template text without navigation\\nfunction copyInsightsTemplate() {\\n    const templateDiv = document.querySelector(\\'.prompt-template\\');\\n    const textToCopy = templateDiv.textContent.trim();\\n    const button = document.querySelector(\\'.copy-button\\');\\n    \\n    navigator.clipboard.writeText(textToCopy).then(() => {\\n        // Visual feedback\\n        button.textContent = \\'✓\\';\\n        setTimeout(() => {\\n            button.textContent = \\'📋\\';\\n        }, 1000);\\n    }).catch(err => {\\n        console.error(\\'Failed to copy text: \\', err);\\n    });\\n}\\n</script>',\n",
       "   'bqfmt': '',\n",
       "   'bafmt': '',\n",
       "   'did': None,\n",
       "   'bfont': '',\n",
       "   'bsize': 0,\n",
       "   'id': None},\n",
       "  {'name': 'Reading Card',\n",
       "   'ord': 1,\n",
       "   'qfmt': '<div class=\"card\">\\n    <div class=\"picture-container\">{{Picture}}</div>\\n\\n    <div class=\"target-text\" id=\"target-text-container\">{{TargetText}}</div>\\n\\n    <div class=\"flip-container flip-container-text\" id=\"englishFlip\">\\n        <div class=\"flip-front\">\\n            <button class=\"reveal-button\">\\n                <svg class=\"reveal-icon\" viewBox=\"0 0 24 24\">\\n                    <path d=\"M12 4.5C7 4.5 2.73 7.61 1 12c1.73 4.39 6 7.5 11 7.5s9.27-3.11 11-7.5c-1.73-4.39-6-7.5-11-7.5zM12 17c-2.76 0-5-2.24-5-5s2.24-5 5-5 5 2.24 5 5-2.24 5-5 5zm0-8c-1.66 0-3 1.34-3 3s1.34 3 3 3 3-1.34 3-3-1.34-3-3-3z\"/>\\n                </svg>\\n                Reveal English\\n            </button>\\n        </div>\\n        <div class=\"flip-back\">{{EnglishText}}</div>\\n    </div>\\n</div>\\n\\n<script>\\n\\ndocument.querySelector(\\'#englishFlip\\').addEventListener(\\'click\\', function() {\\n    this.classList.toggle(\\'flipped\\');\\n    const button = this.querySelector(\\'.reveal-button\\');\\n    if (button) {\\n        button.innerHTML = `\\n            <svg class=\"reveal-icon\" viewBox=\"0 0 24 24\">\\n                <path d=\"M12 4.5C7 4.5 2.73 7.61 1 12c1.73 4.39 6 7.5 11 7.5s9.27-3.11 11-7.5c-1.73-4.39-6-7.5-11-7.5zM12 17c-2.76 0-5-2.24-5-5s2.24-5 5-5 5 2.24 5 5-2.24 5-5 5zm0-8c-1.66 0-3 1.34-3 3s1.34 3 3 3 3-1.34 3-3-1.34-3-3-3z\"/>\\n            </svg>\\n            ${this.classList.contains(\\'flipped\\') ? \\'Hide English\\' : \\'Reveal English\\'}`;\\n    }\\n});\\n\\nfunction processText() {\\n    const container = document.getElementById(\\'target-text-container\\');\\n    if (!container) return;\\n    \\n    const text = container.textContent.trim();\\n    if (!text) return;\\n    \\n    // Check if text contains spaces\\n    const hasSpaces = text.includes(\\' \\');\\n    \\n    if (hasSpaces) {\\n        // Simple word-based logic - just split on spaces\\n        const words = text.split(\\' \\');\\n        \\n        // Pick a random word\\n        const randomWord = words[Math.floor(Math.random() * words.length)];\\n        \\n        // Reconstruct text with hidden word\\n        const html = words.map(word => {\\n            if (word === randomWord) {\\n                return `<button onclick=\"this.classList.toggle(\\'revealed\\')\" \\n                        class=\"hide-button\">${word}</button>`;\\n            }\\n            return word;\\n        }).join(\\' \\'); // Join with spaces\\n        \\n        container.innerHTML = html;\\n    } else {\\n        // Character-based logic for non-spaced text\\n        const chars = Array.from(text);\\n        \\n        if (chars.length > 0) {\\n            const randomIndex = Math.floor(Math.random() * chars.length);\\n            \\n            const html = chars.map((char, index) => {\\n                if (index === randomIndex) {\\n                    return `<button onclick=\"this.classList.toggle(\\'revealed\\')\" \\n                            class=\"hide-button\">${char}</button>`;\\n                }\\n                return char;\\n            }).join(\\'\\');\\n            \\n            container.innerHTML = html;\\n        }\\n    }\\n}\\n\\n// Wait for document to be ready\\nif (document.readyState === \\'loading\\') {\\n    document.addEventListener(\\'DOMContentLoaded\\', processText);\\n} else {\\n    processText();\\n}\\n\\n// Wait for document to be ready\\nif (document.readyState === \\'loading\\') {\\n    document.addEventListener(\\'DOMContentLoaded\\', processText);\\n} else {\\n    processText();\\n}\\n\\n// Wait for document to be ready\\nif (document.readyState === \\'loading\\') {\\n    document.addEventListener(\\'DOMContentLoaded\\', processText);\\n} else {\\n    processText();\\n}\\n</script>\\n\\n',\n",
       "   'afmt': '<div class=\"card\">\\n    <hr id=\"answer\">\\n    <div class=\"picture-container\">{{Picture}}</div>\\n    \\n    <!-- Hidden prompt template -->\\n    <div class=\"prompt-template\" style=\"display: none;\">\\n        {{TargetLanguageName}} Language Learning Insights.\\n\\n        For the given English phrase: \"{{EnglishText}}\" and its translation: \"{{TargetText}}\", create some language learning insights. Present your response in this structured format:\\n\\n        # Breakdown and Alternative Translations\\n        - insights from a literal translation\\n        - where / when / why would this translation be used over others\\n        - different translations for different contexts \\n        - different formalities (e.g. tu / vous if French etc)\\n        - plural / singlaur alternatives (e.g. du, ni in Swedish)\\n\\n        # Vocabulary Building\\n        - Expand compound words or word-part origins so I learn more vocab (Bonjour = bon + jour etc.)\\n        - Common prefixes/suffixes patterns demonstrated\\n        - Related words sharing same roots/stems\\n        - Etymology and connections to other languages\\n        - Common collocations\\n        - Synonyms and antonyms\\n        - Situational variations\\n        - Register variations (formal/informal/slang)\\n        - Idiomatic expressions using similar patterns\\n\\n        # Practice Points\\n        Concrete examples showing how to use this learning in other contexts:\\n        - Similar phrases using the same pattern\\n        - Common variations\\n        - When and how to use this in real conversations\\n\\n        # Memory Hooks\\n        - Mnemonics if helpful\\n        - Connections to English or other languages\\n        - Visual associations\\n        - Memorable cultural connections\\n\\n        # Grammar Patterns\\n        These will be very language dependent (so some not relevant or you might need to insert your own).\\n        Identify key structural patterns that learners can apply elsewhere:\\n        - Word order rules demonstrated\\n        - Conjugation/declension patterns\\n        - Case/gender/number agreement if relevant\\n        - Special constructions worth noting\\n        - Similar phrases using the same pattern\\n        - Common mistakes to avoid\\n\\n        # Cultural Corner (make this a commentary rather than bullets)\\n        - Formal vs informal usage\\n        - Cultural context and connotations\\n        - Regional variations\\n        - Social situations where this phrase is commonly used\\n        - Any cultural faux pas to avoid\\n        - Historical/cultural background if relevant\\n\\n        Remember to:\\n        - Use clear, learner-friendly language\\n        - Provide plenty of examples\\n        - always provide an english translation for any {{TargetLanguageName}} text\\n        - Use bullet points and clear formatting for readability, but add explanations so it\\'s easy to understand\\n        - Link concepts together to show language patterns\\n        - Flag particularly useful or important points with 💡\\n        - Mark common pitfalls or important warnings with ⚠️\\n        - Use tables for comparing variations where appropriate\\n\\n        Note: Not every section needs to be equally detailed - expand on the most relevant aspects for this particular phrase, but maintain the consistent structure for familiarity.\\n    </div>\\n\\n    <!-- Main card content -->\\n    <div class=\"target-text\" onclick=\"copyToClipboard(this)\">{{TargetText}}</div>\\n    <div class=\"english-text\">{{EnglishText}}</div>\\n\\n    <!-- Audio controls -->\\n    <div class=\"audio-controls\">\\n        <div class=\"audio-button-container\">\\n            <div class=\"audio-label\">Normal speed:</div>\\n            {{TargetAudio}}\\n        </div>\\n        <div class=\"audio-button-container\">\\n            <div class=\"audio-label\">Slow speed:</div>\\n            {{TargetAudioSlow}}\\n        </div>\\n    </div>\\n\\n    <div class=\"wiktionary-links\">{{WiktionaryLinks}}</div>\\n\\n    <!-- Insights Button Container -->\\n    <div class=\"insights-container\">\\n        <button class=\"copy-button\" onclick=\"copyInsightsTemplate()\">\\n            📋\\n        </button>\\n        <a href=\"https://claude.ai\" target=\"_blank\" class=\"insights-button\" onclick=\"return copyPromptBeforeNavigate(event)\">\\n            <span class=\"insights-icon\">💡</span>\\n            Learning Insights\\n        </a>\\n    </div>\\n\\n    <!-- Footer info text -->\\n    <div class=\"footer-info\">\\n        Click 📋 to copy the prompt or 💡 to open Claude and automatically copy the prompt for pasting.\\n    </div>\\n\\n    <!-- Stories Section --> \\n    <div id=\"stories-section\" class=\"stories-container\">\\n        <div class=\"stories-header\">\\n            <a href=\"https://storage.googleapis.com/audio-language-trainer-stories/index.html\">Stories</a>    \\n        </div>\\n\\t\\t\\t\\t\\t<div class=\"footer-info\">\\n        Stories will direct to an external website\\n    </div>\\n        <div class=\"stories-links\">\\n            <script>\\n                (function() {\\n                    const tagString = \"{{Tags}}\";  // This will get the tags as a string\\n                    const tags = tagString ? tagString.split(\" \") : [];\\n                    const storyTags = tags.filter(tag => tag.startsWith(\\'story_\\'));\\n                    const storiesContainer = document.querySelector(\\'.stories-links\\');\\n                    \\n                    if (storyTags && storyTags.length > 0) {\\n                        storyTags.forEach(tag => {\\n                            const displayName = tag\\n                                .replace(\\'story_\\', \\'\\')\\n                                .split(\\'_\\')\\n                                .map(word => word.charAt(0).toUpperCase() + word.slice(1))\\n                                .join(\\' \\');\\n                            \\n                            const targetLang = \"{{TargetLanguageName}}\".toLowerCase();\\n                            const bucketUrl = `https://storage.googleapis.com/audio-language-trainer-stories/${targetLang}/${tag}/${tag}.html`;\\n                            \\n                            const link = document.createElement(\\'a\\');\\n                            link.href = bucketUrl;\\n                            link.className = \\'story-link\\';\\n                            link.target = \\'_blank\\';\\n                            link.textContent = displayName;\\n                            \\n                            storiesContainer.appendChild(link);\\n                        });\\n                    } else {\\n                        const placeholder = document.createElement(\\'div\\');\\n                        placeholder.className = \\'story-placeholder\\';\\n                        placeholder.innerHTML = `\\n                            <p>No stories available yet for this vocabulary.</p>\\n                            <a href=\"https://github.com/Andy7475/audio-language-trainer/discussions/118\" \\n                            target=\"_blank\" \\n                            class=\"request-story-link\">\\n                                Request a story in the GitHub discussion →\\n                            </a>\\n                        `;\\n                        storiesContainer.appendChild(placeholder);\\n                    }\\n                })();\\n            </script>\\n        </div>\\n    </div>\\n</div>\\n\\n<script>\\n// Simple copy functionality for target text\\nfunction copyToClipboard(element) {\\n    const text = element.textContent;\\n    navigator.clipboard.writeText(text).then(() => {\\n        element.classList.add(\\'copied\\');\\n        setTimeout(() => {\\n            element.classList.remove(\\'copied\\');\\n        }, 1000);\\n    });\\n}\\n\\n// Modified function to handle the copy before navigation\\nfunction copyPromptBeforeNavigate(event) {\\n    const fullPrompt = document.querySelector(\\'.prompt-template\\').textContent;\\n    const button = document.querySelector(\\'.insights-button\\');\\n    \\n    navigator.clipboard.writeText(fullPrompt).then(() => {\\n        button.classList.add(\\'copied\\');\\n        setTimeout(() => {\\n            button.classList.remove(\\'copied\\');\\n        }, 500);\\n    }).catch(err => {\\n        console.error(\\'Failed to copy text: \\', err);\\n    });\\n    \\n    return true;\\n}\\n\\n// Function to copy template text without navigation\\nfunction copyInsightsTemplate() {\\n    const templateDiv = document.querySelector(\\'.prompt-template\\');\\n    const textToCopy = templateDiv.textContent.trim();\\n    const button = document.querySelector(\\'.copy-button\\');\\n    \\n    navigator.clipboard.writeText(textToCopy).then(() => {\\n        // Visual feedback\\n        button.textContent = \\'✓\\';\\n        setTimeout(() => {\\n            button.textContent = \\'📋\\';\\n        }, 1000);\\n    }).catch(err => {\\n        console.error(\\'Failed to copy text: \\', err);\\n    });\\n}\\n</script>',\n",
       "   'bqfmt': '',\n",
       "   'bafmt': '',\n",
       "   'did': None,\n",
       "   'bfont': '',\n",
       "   'bsize': 0,\n",
       "   'id': None},\n",
       "  {'name': 'Speaking Card',\n",
       "   'ord': 2,\n",
       "   'qfmt': '<div class=\"card\">\\n    <div class=\"picture-container\">{{Picture}}</div>  \\n\\n    <div class=\"english-text\" onclick=\"copyToClipboard(this)\">{{EnglishText}}</div>\\n</div>\\n\\n<script>\\n\\n\\n// Copy text functionality\\nfunction copyToClipboard(element) {\\n    const text = element.textContent;\\n    navigator.clipboard.writeText(text).then(() => {\\n        element.classList.add(\\'copied\\');\\n        setTimeout(() => {\\n            element.classList.remove(\\'copied\\');\\n        }, 1000);\\n    });\\n}\\n</script>\\n\\n',\n",
       "   'afmt': '<div class=\"card\">\\n    <hr id=\"answer\">\\n    <div class=\"picture-container\">{{Picture}}</div>\\n    \\n    <!-- Hidden prompt template -->\\n    <div class=\"prompt-template\" style=\"display: none;\">\\n        {{TargetLanguageName}} Language Learning Insights.\\n\\n        For the given English phrase: \"{{EnglishText}}\" and its translation: \"{{TargetText}}\", create some language learning insights. Present your response in this structured format:\\n\\n        # Breakdown and Alternative Translations\\n        - insights from a literal translation\\n        - where / when / why would this translation be used over others\\n        - different translations for different contexts \\n        - different formalities (e.g. tu / vous if French etc)\\n        - plural / singlaur alternatives (e.g. du, ni in Swedish)\\n\\n        # Vocabulary Building\\n        - Expand compound words or word-part origins so I learn more vocab (Bonjour = bon + jour etc.)\\n        - Common prefixes/suffixes patterns demonstrated\\n        - Related words sharing same roots/stems\\n        - Etymology and connections to other languages\\n        - Common collocations\\n        - Synonyms and antonyms\\n        - Situational variations\\n        - Register variations (formal/informal/slang)\\n        - Idiomatic expressions using similar patterns\\n\\n        # Practice Points\\n        Concrete examples showing how to use this learning in other contexts:\\n        - Similar phrases using the same pattern\\n        - Common variations\\n        - When and how to use this in real conversations\\n\\n        # Memory Hooks\\n        - Mnemonics if helpful\\n        - Connections to English or other languages\\n        - Visual associations\\n        - Memorable cultural connections\\n\\n        # Grammar Patterns\\n        These will be very language dependent (so some not relevant or you might need to insert your own).\\n        Identify key structural patterns that learners can apply elsewhere:\\n        - Word order rules demonstrated\\n        - Conjugation/declension patterns\\n        - Case/gender/number agreement if relevant\\n        - Special constructions worth noting\\n        - Similar phrases using the same pattern\\n        - Common mistakes to avoid\\n\\n        # Cultural Corner (make this a commentary rather than bullets)\\n        - Formal vs informal usage\\n        - Cultural context and connotations\\n        - Regional variations\\n        - Social situations where this phrase is commonly used\\n        - Any cultural faux pas to avoid\\n        - Historical/cultural background if relevant\\n\\n        Remember to:\\n        - Use clear, learner-friendly language\\n        - Provide plenty of examples\\n        - always provide an english translation for any {{TargetLanguageName}} text\\n        - Use bullet points and clear formatting for readability, but add explanations so it\\'s easy to understand\\n        - Link concepts together to show language patterns\\n        - Flag particularly useful or important points with 💡\\n        - Mark common pitfalls or important warnings with ⚠️\\n        - Use tables for comparing variations where appropriate\\n\\n        Note: Not every section needs to be equally detailed - expand on the most relevant aspects for this particular phrase, but maintain the consistent structure for familiarity.\\n    </div>\\n\\n    <!-- Main card content -->\\n    <div class=\"target-text\" onclick=\"copyToClipboard(this)\">{{TargetText}}</div>\\n    <div class=\"english-text\">{{EnglishText}}</div>\\n\\n    <!-- Audio controls -->\\n    <div class=\"audio-controls\">\\n        <div class=\"audio-button-container\">\\n            <div class=\"audio-label\">Normal speed:</div>\\n            {{TargetAudio}}\\n        </div>\\n        <div class=\"audio-button-container\">\\n            <div class=\"audio-label\">Slow speed:</div>\\n            {{TargetAudioSlow}}\\n        </div>\\n    </div>\\n\\n    <div class=\"wiktionary-links\">{{WiktionaryLinks}}</div>\\n\\n    <!-- Insights Button Container -->\\n    <div class=\"insights-container\">\\n        <button class=\"copy-button\" onclick=\"copyInsightsTemplate()\">\\n            📋\\n        </button>\\n        <a href=\"https://claude.ai\" target=\"_blank\" class=\"insights-button\" onclick=\"return copyPromptBeforeNavigate(event)\">\\n            <span class=\"insights-icon\">💡</span>\\n            Learning Insights\\n        </a>\\n    </div>\\n\\n    <!-- Footer info text -->\\n    <div class=\"footer-info\">\\n        Click 📋 to copy the prompt or 💡 to open Claude and automatically copy the prompt for pasting.\\n    </div>\\n\\n    <!-- Stories Section --> \\n    <div id=\"stories-section\" class=\"stories-container\">\\n        <div class=\"stories-header\">\\n            <a href=\"https://storage.googleapis.com/audio-language-trainer-stories/index.html\">Stories</a>    \\n        </div>\\n\\t\\t\\t\\t\\t<div class=\"footer-info\">\\n        Stories will direct to an external website\\n    </div>\\n        <div class=\"stories-links\">\\n            <script>\\n                (function() {\\n                    const tagString = \"{{Tags}}\";  // This will get the tags as a string\\n                    const tags = tagString ? tagString.split(\" \") : [];\\n                    const storyTags = tags.filter(tag => tag.startsWith(\\'story_\\'));\\n                    const storiesContainer = document.querySelector(\\'.stories-links\\');\\n                    \\n                    if (storyTags && storyTags.length > 0) {\\n                        storyTags.forEach(tag => {\\n                            const displayName = tag\\n                                .replace(\\'story_\\', \\'\\')\\n                                .split(\\'_\\')\\n                                .map(word => word.charAt(0).toUpperCase() + word.slice(1))\\n                                .join(\\' \\');\\n                            \\n                            const targetLang = \"{{TargetLanguageName}}\".toLowerCase();\\n                            const bucketUrl = `https://storage.googleapis.com/audio-language-trainer-stories/${targetLang}/${tag}/${tag}.html`;\\n                            \\n                            const link = document.createElement(\\'a\\');\\n                            link.href = bucketUrl;\\n                            link.className = \\'story-link\\';\\n                            link.target = \\'_blank\\';\\n                            link.textContent = displayName;\\n                            \\n                            storiesContainer.appendChild(link);\\n                        });\\n                    } else {\\n                        const placeholder = document.createElement(\\'div\\');\\n                        placeholder.className = \\'story-placeholder\\';\\n                        placeholder.innerHTML = `\\n                            <p>No stories available yet for this vocabulary.</p>\\n                            <a href=\"https://github.com/Andy7475/audio-language-trainer/discussions/118\" \\n                            target=\"_blank\" \\n                            class=\"request-story-link\">\\n                                Request a story in the GitHub discussion →\\n                            </a>\\n                        `;\\n                        storiesContainer.appendChild(placeholder);\\n                    }\\n                })();\\n            </script>\\n        </div>\\n    </div>\\n</div>\\n\\n<script>\\n// Simple copy functionality for target text\\nfunction copyToClipboard(element) {\\n    const text = element.textContent;\\n    navigator.clipboard.writeText(text).then(() => {\\n        element.classList.add(\\'copied\\');\\n        setTimeout(() => {\\n            element.classList.remove(\\'copied\\');\\n        }, 1000);\\n    });\\n}\\n\\n// Modified function to handle the copy before navigation\\nfunction copyPromptBeforeNavigate(event) {\\n    const fullPrompt = document.querySelector(\\'.prompt-template\\').textContent;\\n    const button = document.querySelector(\\'.insights-button\\');\\n    \\n    navigator.clipboard.writeText(fullPrompt).then(() => {\\n        button.classList.add(\\'copied\\');\\n        setTimeout(() => {\\n            button.classList.remove(\\'copied\\');\\n        }, 500);\\n    }).catch(err => {\\n        console.error(\\'Failed to copy text: \\', err);\\n    });\\n    \\n    return true;\\n}\\n\\n// Function to copy template text without navigation\\nfunction copyInsightsTemplate() {\\n    const templateDiv = document.querySelector(\\'.prompt-template\\');\\n    const textToCopy = templateDiv.textContent.trim();\\n    const button = document.querySelector(\\'.copy-button\\');\\n    \\n    navigator.clipboard.writeText(textToCopy).then(() => {\\n        // Visual feedback\\n        button.textContent = \\'✓\\';\\n        setTimeout(() => {\\n            button.textContent = \\'📋\\';\\n        }, 1000);\\n    }).catch(err => {\\n        console.error(\\'Failed to copy text: \\', err);\\n    });\\n}\\n</script>',\n",
       "   'bqfmt': '',\n",
       "   'bafmt': '',\n",
       "   'did': None,\n",
       "   'bfont': '',\n",
       "   'bsize': 0,\n",
       "   'id': None}],\n",
       " 'flds': [{'name': 'SortOrder',\n",
       "   'ord': 0,\n",
       "   'sticky': False,\n",
       "   'rtl': False,\n",
       "   'font': 'Liberation Sans',\n",
       "   'size': 20,\n",
       "   'description': '',\n",
       "   'plainText': False,\n",
       "   'collapsed': False,\n",
       "   'excludeFromSearch': False,\n",
       "   'id': None,\n",
       "   'tag': None,\n",
       "   'preventDeletion': False,\n",
       "   'media': []},\n",
       "  {'name': 'TargetText',\n",
       "   'ord': 1,\n",
       "   'sticky': False,\n",
       "   'rtl': False,\n",
       "   'font': 'Liberation Sans',\n",
       "   'size': 20,\n",
       "   'description': '',\n",
       "   'plainText': False,\n",
       "   'collapsed': False,\n",
       "   'excludeFromSearch': False,\n",
       "   'id': None,\n",
       "   'tag': None,\n",
       "   'preventDeletion': False,\n",
       "   'media': []},\n",
       "  {'name': 'TargetAudio',\n",
       "   'ord': 2,\n",
       "   'sticky': False,\n",
       "   'rtl': False,\n",
       "   'font': 'Liberation Sans',\n",
       "   'size': 20,\n",
       "   'description': '',\n",
       "   'plainText': False,\n",
       "   'collapsed': False,\n",
       "   'excludeFromSearch': False,\n",
       "   'id': None,\n",
       "   'tag': None,\n",
       "   'preventDeletion': False,\n",
       "   'media': []},\n",
       "  {'name': 'TargetAudioSlow',\n",
       "   'ord': 3,\n",
       "   'sticky': False,\n",
       "   'rtl': False,\n",
       "   'font': 'Liberation Sans',\n",
       "   'size': 20,\n",
       "   'description': '',\n",
       "   'plainText': False,\n",
       "   'collapsed': False,\n",
       "   'excludeFromSearch': False,\n",
       "   'id': None,\n",
       "   'tag': None,\n",
       "   'preventDeletion': False,\n",
       "   'media': []},\n",
       "  {'name': 'EnglishText',\n",
       "   'ord': 4,\n",
       "   'sticky': False,\n",
       "   'rtl': False,\n",
       "   'font': 'Liberation Sans',\n",
       "   'size': 20,\n",
       "   'description': '',\n",
       "   'plainText': False,\n",
       "   'collapsed': False,\n",
       "   'excludeFromSearch': False,\n",
       "   'id': None,\n",
       "   'tag': None,\n",
       "   'preventDeletion': False,\n",
       "   'media': []},\n",
       "  {'name': 'WiktionaryLinks',\n",
       "   'ord': 5,\n",
       "   'sticky': False,\n",
       "   'rtl': False,\n",
       "   'font': 'Liberation Sans',\n",
       "   'size': 20,\n",
       "   'description': '',\n",
       "   'plainText': False,\n",
       "   'collapsed': False,\n",
       "   'excludeFromSearch': False,\n",
       "   'id': None,\n",
       "   'tag': None,\n",
       "   'preventDeletion': False,\n",
       "   'media': []},\n",
       "  {'name': 'Picture',\n",
       "   'ord': 6,\n",
       "   'sticky': False,\n",
       "   'rtl': False,\n",
       "   'font': 'Liberation Sans',\n",
       "   'size': 20,\n",
       "   'description': '',\n",
       "   'plainText': False,\n",
       "   'collapsed': False,\n",
       "   'excludeFromSearch': False,\n",
       "   'id': None,\n",
       "   'tag': None,\n",
       "   'preventDeletion': False,\n",
       "   'media': []},\n",
       "  {'name': 'TargetLanguageName',\n",
       "   'ord': 7,\n",
       "   'sticky': False,\n",
       "   'rtl': False,\n",
       "   'font': 'Liberation Sans',\n",
       "   'size': 20,\n",
       "   'description': '',\n",
       "   'plainText': False,\n",
       "   'collapsed': False,\n",
       "   'excludeFromSearch': False,\n",
       "   'id': None,\n",
       "   'tag': None,\n",
       "   'preventDeletion': False,\n",
       "   'media': []}],\n",
       " 'css': \"\\n.card {\\n    font-family: Arial, sans-serif;\\n    font-size: 20px;\\n    text-align: center;\\n    /*color: black;\\n    background-color: white; */\\n    padding: 5px;\\n}\\n\\n.picture-container {\\n    margin-bottom: 20px;\\n    text-align: center;\\n}\\n\\n.picture-container img {\\n    max-width: 90%;\\n    max-height: 300px;\\n    object-fit: contain;\\n}\\n\\n.target-text {\\n    font-size: 28px;\\n    margin: 20px 0;\\n    font-weight: bold;\\n    cursor: pointer;\\n    position: relative;\\n}\\n\\n.target-text::after {\\n    content: 'Copied!';\\n    position: absolute;\\n    top: 100%;\\n    left: 50%;\\n    transform: translateX(-50%);\\n    background-color: #4CAF50;\\n    color: white;\\n    padding: 5px 10px;\\n    border-radius: 5px;\\n    font-size: 14px;\\n    opacity: 0;\\n    transition: opacity 0.3s;\\n}\\n\\n.target-text.copied::after {\\n    opacity: 1;\\n}\\n\\n.insights-container {\\n    display: flex;\\n    align-items: center;\\n    justify-content: center;\\n    gap: 12px;\\n    margin: 20px auto;\\n}\\n\\n.insights-button {\\n    display: flex;\\n    align-items: center;\\n    justify-content: center;\\n    gap: 8px;\\n    padding: 10px 20px;\\n    background-color: #2196F3;\\n    color: white;\\n    border: none;\\n    border-radius: 5px;\\n    cursor: pointer;\\n    font-size: 16px;\\n    transition: all 0.3s ease;\\n    position: relative;\\n    text-decoration: none;\\n}\\n\\n.insights-button:hover {\\n    background-color: #1976D2;\\n    transform: translateY(-1px);\\n}\\n\\n.insights-button::after {\\n    content: 'Copied! Opening Claude...';\\n    position: absolute;\\n    top: 100%;\\n    left: 50%;\\n    transform: translateX(-50%);\\n    background-color: #4CAF50;\\n    color: white;\\n    padding: 5px 10px;\\n    border-radius: 5px;\\n    font-size: 14px;\\n    white-space: nowrap;\\n    opacity: 0;\\n    transition: opacity 0.3s;\\n    margin-top: 8px;\\n}\\n\\n.insights-button.copied::after {\\n    opacity: 1;\\n}\\n\\n.insights-icon {\\n    font-size: 20px;\\n}\\n\\n.info-icon {\\n    color: #666;\\n    cursor: pointer;\\n    font-size: 20px;\\n    position: relative;\\n    user-select: none;\\n    width: 24px;\\n    height: 24px;\\n    display: flex;\\n    align-items: center;\\n    justify-content: center;\\n    transition: color 0.3s ease;\\n}\\n\\n.info-icon:hover {\\n    color: #2196F3;\\n}\\n\\n.info-tooltip {\\n    visibility: hidden;\\n    position: absolute;\\n    bottom: 100%;\\n    left: 50%;\\n    transform: translateX(-50%);\\n    background-color: #333;\\n    color: white;\\n    text-align: center;\\n    padding: 8px 12px;\\n    border-radius: 4px;\\n    width: max-content;\\n    max-width: 220px;\\n    font-size: 14px;\\n    margin-bottom: 8px;\\n    opacity: 0;\\n    transition: opacity 0.3s, visibility 0.3s;\\n    z-index: 10;\\n}\\n.hide-button {\\n    /* Base styles that apply to the button at all times */\\n    font-size: 28px;\\n    font-family: inherit;\\n    cursor: pointer;\\n    border: none;\\n    padding: 4px 8px;  /* Increased padding for better button appearance */\\n    margin: 0;\\n}\\n\\n.hide-button:not(.revealed) {\\n    /* Styles when the text is hidden */\\n    background: rgba(181, 236, 250, 0.5);\\n    border-radius: 4px;  /* Rounded corners */\\n    color: transparent;\\n    text-shadow: 0 0 8px rgba(0,0,0,0.5);\\n}\\n\\n.hide-button.revealed {\\n    /* Styles when the text is revealed */\\n    background: none;  /* Remove background */\\n    color: inherit;      /* Inherits from base\\n    text-shadow: none;\\n    padding: 0;        /* Remove padding when revealed */\\n}\\n\\n.info-icon:focus .info-tooltip {\\n    visibility: visible;\\n    opacity: 1;\\n}\\n\\n/* Add arrow to tooltip */\\n.info-tooltip::after {\\n    content: '';\\n    position: absolute;\\n    top: 100%;\\n    left: 50%;\\n    transform: translateX(-50%);\\n    border-width: 5px;\\n    border-style: solid;\\n    border-color: #333 transparent transparent transparent;\\n}\\n\\n.target-text::after {\\n    content: 'Copied!';\\n    position: absolute;\\n    top: 100%;\\n    left: 50%;\\n    transform: translateX(-50%);\\n    background-color: #4CAF50;\\n    color: white;\\n    padding: 5px 10px;\\n    border-radius: 5px;\\n    font-size: 14px;\\n    opacity: 0;\\n    transition: opacity 0.3s;\\n}\\n\\n.target-text.copied::after {\\n    opacity: 1;\\n}\\n\\n.english-text {\\n    font-size: 22px;\\n    margin: 15px 0;\\n    font-weight: bold;\\n}\\n.audio-controls {\\n    display: flex;\\n    justify-content: center;\\n    gap: 40px;\\n    margin: 20px 0;\\n}\\n\\n.audio-button-container {\\n    display: flex;\\n    flex-direction: column;\\n    align-items: center;\\n    gap: 8px;\\n}\\n\\n.audio-label {\\n    font-size: 14px;\\n    /* color: #3b3636; */\\n    font-weight: 500;\\n    text-transform: uppercase;\\n    letter-spacing: 0.5px;\\n}\\n\\n/* Styling Anki's built-in replay button */\\n.replay-button svg {\\n    width: 50px;\\n    height: 50px;\\n}\\n\\n.replay-button svg circle {\\n    fill: #4CAF50;  /* Normal speed button color */\\n}\\n\\n/* Different color for slow speed button */\\n.audio-button-container:last-child .replay-button svg circle {\\n    fill: #2196F3;  /* Slow speed button color */\\n}\\n\\n.replay-button svg path {\\n    fill: white;\\n}\\n\\n/* Base flip container styles */\\n.flip-container {\\n    width: 90%;\\n    margin: 0 auto;\\n    position: relative;\\n    transform-style: preserve-3d;\\n    cursor: pointer;\\n    transition: transform 0.6s;\\n}\\n\\n/* Image-specific flip container */\\n.flip-container-image {\\n    height: 300px;  /* Fixed height for images */\\n}\\n\\n/* Text-specific flip container */\\n.flip-container-text {\\n    min-height: 50px;  /* Minimum height for text */\\n    height: auto;      /* Allow expansion for longer phrases */\\n}\\n\\n.flip-container.flipped {\\n    transform: rotateY(180deg);\\n}\\n\\n.flip-front, .flip-back {\\n    position: absolute;\\n    width: 100%;\\n    backface-visibility: hidden;\\n    display: flex;\\n    align-items: center;\\n    justify-content: center;\\n    border-radius: 10px;\\n}\\n\\n/* Front/back for images */\\n.flip-container-image .flip-front,\\n.flip-container-image .flip-back {\\n    height: 100%;  /* Full height for images */\\n}\\n\\n/* Front/back for text */\\n.flip-container-text .flip-front,\\n.flip-container-text .flip-back {\\n    min-height: 50px;  /* Match container minimum */\\n    height: auto;      /* Allow expansion */\\n    padding: 15px;     /* Give text some breathing room */\\n}\\n\\n.flip-front {\\n    background-color: #f0f0f0;\\n    border: 2px dashed #ccc;\\n}\\n\\n.flip-back {\\n    transform: rotateY(180deg);\\n   /* background-color: white;*/\\n}\\n\\n.reveal-button {\\n    display: flex;\\n    align-items: center;\\n    gap: 8px;\\n    padding: 10px 20px;\\n    background: none;\\n    border: none;\\n    cursor: pointer;\\n    font-size: 16px;\\n    color: #666;\\n}\\n\\n.reveal-icon {\\n    width: 24px;\\n    height: 24px;\\n    fill: currentColor;\\n}\\n    \\n    \\n.play-normal { background-color: #4CAF50; }\\n.play-slow { background-color: #2196F3; }\\n\\n.play-icon {\\n    width: 0;\\n    height: 0;\\n    border-style: solid;\\n    border-width: 12px 0 12px 18px;\\n    border-color: transparent transparent transparent white;\\n    margin-left: 4px;\\n}\\n\\n.button-label {\\n    font-size: 14px;\\n    color: #666;\\n    font-weight: 500;\\n    text-transform: uppercase;\\n    letter-spacing: 0.5px;\\n}\\n\\n.wiktionary-links {\\n    margin-top: 20px;\\n}\\n\\n.wiktionary-links a {\\n    display: inline-block;\\n    margin: 5px;\\n    padding: 10px 15px;\\n    background-color: #f0f0f0;\\n    border-radius: 5px;\\n    text-decoration: none;\\n    color: #333;\\n}\\n\\n/* Mobile support */\\n.mobile .picture-container img {\\n    max-width: 100%;\\n}\\n\\n.mobile .audio-controls {\\n    gap: 20px;\\n}\\n\\n.stories-container {\\n    margin-top: 20px;\\n    padding: 15px;\\n    background-color: #f8f9fa;\\n    border-radius: 8px;\\n}\\n\\n.stories-header {\\n    font-size: 1.1em;\\n    font-weight: bold;\\n    color: #2c3e50;\\n    margin-bottom: 12px;\\n}\\n\\n.stories-links {\\n    display: flex;\\n    flex-wrap: wrap;\\n    gap: 10px;\\n}\\n\\n.story-link {\\n    display: inline-block;\\n    padding: 8px 16px;\\n    background-color: #e2e8f0;\\n    color: #2d3748;\\n    text-decoration: none;\\n    border-radius: 6px;\\n    transition: all 0.2s ease;\\n}\\n\\n.story-link:hover {\\n    background-color: #cbd5e0;\\n    transform: translateY(-1px);\\n}\\n\\n.story-placeholder {\\n    text-align: center;\\n    padding: 15px;\\n    color: #666;\\n    background-color: #fff;\\n    border: 1px dashed #ccc;\\n    border-radius: 6px;\\n    width: 100%;\\n}\\n\\n.story-placeholder p {\\n    margin: 0 0 12px 0;\\n    font-style: italic;\\n}\\n\\n.request-story-link {\\n    display: inline-block;\\n    padding: 8px 16px;\\n    background-color: #0366d6;\\n    color: white;\\n    text-decoration: none;\\n    border-radius: 6px;\\n    font-size: 0.95em;\\n    transition: background-color 0.2s ease;\\n}\\n\\n.request-story-link:hover {\\n    background-color: #0255b3;\\n    text-decoration: none;\\n}\",\n",
       " 'latexPre': '\\\\documentclass[12pt]{article}\\n\\\\special{papersize=3in,5in}\\n\\\\usepackage[utf8]{inputenc}\\n\\\\usepackage{amssymb,amsmath}\\n\\\\pagestyle{empty}\\n\\\\setlength{\\\\parindent}{0in}\\n\\\\begin{document}\\n',\n",
       " 'latexPost': '\\\\end{document}',\n",
       " 'latexsvg': False,\n",
       " 'req': [[0, 'any', [2, 3, 6]], [1, 'any', [1, 4, 6]], [2, 'any', [4, 6]]],\n",
       " 'originalId': 1607392313,\n",
       " 'vers': [],\n",
       " 'tags': []}"
      ]
     },
     "execution_count": 19,
     "metadata": {},
     "output_type": "execute_result"
    }
   ],
   "source": [
    "reader.col.models.by_name(\"Language Practice With Images+\")"
   ]
  }
 ],
 "metadata": {
  "kernelspec": {
   "display_name": ".venv",
   "language": "python",
   "name": "python3"
  },
  "language_info": {
   "codemirror_mode": {
    "name": "ipython",
    "version": 3
   },
   "file_extension": ".py",
   "mimetype": "text/x-python",
   "name": "python",
   "nbconvert_exporter": "python",
   "pygments_lexer": "ipython3",
   "version": "3.11.4"
  }
 },
 "nbformat": 4,
 "nbformat_minor": 2
}
