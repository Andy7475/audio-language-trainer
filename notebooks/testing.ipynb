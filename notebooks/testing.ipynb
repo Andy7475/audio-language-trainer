{
 "cells": [
  {
   "cell_type": "code",
   "execution_count": 1,
   "metadata": {},
   "outputs": [],
   "source": [
    "%load_ext autoreload\n",
    "%autoreload 2"
   ]
  },
  {
   "cell_type": "code",
   "execution_count": 2,
   "metadata": {},
   "outputs": [
    {
     "name": "stdout",
     "output_type": "stream",
     "text": [
      "Found config file at: y:\\Python Scripts\\audio-language-trainer\\src\\config.json\n",
      "Language name: Swedish determined from code sv\n",
      "Successfully loaded config from: y:\\Python Scripts\\audio-language-trainer\\src\\config.json\n",
      "Multiple country codes available for en: en-AU, en-GB, en-IN, en-US\n"
     ]
    }
   ],
   "source": [
    "from dotenv import load_dotenv\n",
    "import sys\n",
    "import os\n",
    "import pickle\n",
    "\n",
    "# Add the parent directory of 'src' to the Python path\n",
    "module_path = os.path.abspath(os.path.join('..'))\n",
    "if module_path not in sys.path:\n",
    "    sys.path.append(module_path)\n",
    "# Load environment variables from .env file\n",
    "load_dotenv()\n",
    "from src.config_loader import config\n",
    "from src.utils import create_html_story, create_test_story_dict\n",
    "\n"
   ]
  },
  {
   "cell_type": "code",
   "execution_count": 50,
   "metadata": {},
   "outputs": [],
   "source": [
    "with open(\"../outputs/a_rose_in_the_office\\story_data_a_rose_in_the_office.json.pkl\", \"rb\") as file:\n",
    "    story_data = pickle.load(file)"
   ]
  },
  {
   "cell_type": "code",
   "execution_count": 51,
   "metadata": {},
   "outputs": [],
   "source": [
    "story_data = create_test_story_dict(story_data, 1, 1)"
   ]
  },
  {
   "cell_type": "code",
   "execution_count": 9,
   "metadata": {},
   "outputs": [],
   "source": [
    "from src.anki_tools import generate_wiktionary_links_non_english\n",
    "\n",
    "\n",
    "def test_wiktionary_links():\n",
    "    \"\"\"Test function to demonstrate usage.\"\"\"\n",
    "    test_cases = [\n",
    "        (\"goodbye England\", \"uk\"),  # Ukrainian\n",
    "        (\"book reading\", \"sv\"),  # Swedish\n",
    "        (\"coffee shop\", \"ja\"),  # Japanese\n",
    "    ]\n",
    "    \n",
    "    for phrase, lang_code in test_cases:\n",
    "        print(f\"\\nTesting {lang_code} Wiktionary links for: {phrase}\")\n",
    "        result = generate_wiktionary_links_non_english(phrase, lang_code)\n",
    "        print(f\"Result: {result}\")"
   ]
  },
  {
   "cell_type": "code",
   "execution_count": 13,
   "metadata": {},
   "outputs": [
    {
     "name": "stdout",
     "output_type": "stream",
     "text": [
      "\n",
      "Testing uk Wiktionary links for: goodbye England\n",
      "native url is: https://uk.wiktionary.org/wiki/goodbye\n",
      "native url is: https://uk.wiktionary.org/wiki/england\n",
      "Result: <a href=\"https://uk.wiktionary.org/wiki/goodbye#Англійська\">goodbye</a> <a href=\"https://en.wiktionary.org/wiki/england#English\">England</a>\n",
      "\n",
      "Testing sv Wiktionary links for: book reading\n",
      "native url is: https://sv.wiktionary.org/wiki/book\n",
      "native url is: https://sv.wiktionary.org/wiki/reading\n",
      "Result: <a href=\"https://sv.wiktionary.org/wiki/book#Engelska\">book</a> <a href=\"https://sv.wiktionary.org/wiki/reading#Engelska\">reading</a>\n",
      "\n",
      "Testing ja Wiktionary links for: coffee shop\n",
      "native url is: https://ja.wiktionary.org/wiki/coffee\n",
      "native url is: https://ja.wiktionary.org/wiki/shop\n",
      "Result: <a href=\"https://ja.wiktionary.org/wiki/coffee#英語\">coffee</a> <a href=\"https://ja.wiktionary.org/wiki/shop#英語\">shop</a>\n"
     ]
    }
   ],
   "source": [
    "test_wiktionary_links()"
   ]
  }
 ],
 "metadata": {
  "kernelspec": {
   "display_name": ".venv",
   "language": "python",
   "name": "python3"
  },
  "language_info": {
   "codemirror_mode": {
    "name": "ipython",
    "version": 3
   },
   "file_extension": ".py",
   "mimetype": "text/x-python",
   "name": "python",
   "nbconvert_exporter": "python",
   "pygments_lexer": "ipython3",
   "version": "3.11.4"
  }
 },
 "nbformat": 4,
 "nbformat_minor": 2
}
