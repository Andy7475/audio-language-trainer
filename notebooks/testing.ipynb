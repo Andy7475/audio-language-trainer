{
 "cells": [
  {
   "cell_type": "code",
   "execution_count": 1,
   "metadata": {},
   "outputs": [],
   "source": [
    "%load_ext autoreload\n",
    "%autoreload 2"
   ]
  },
  {
   "cell_type": "code",
   "execution_count": 3,
   "metadata": {},
   "outputs": [],
   "source": [
    "from dotenv import load_dotenv\n",
    "import sys\n",
    "import os\n",
    "import pickle\n",
    "\n",
    "# Add the parent directory of 'src' to the Python path\n",
    "module_path = os.path.abspath(os.path.join('..'))\n",
    "if module_path not in sys.path:\n",
    "    sys.path.append(module_path)\n",
    "# Load environment variables from .env file\n",
    "load_dotenv()\n",
    "from src.config_loader import config\n",
    "from src.utils import create_html_story, create_test_story_dict\n",
    "from src.audio_generation import text_to_speech\n"
   ]
  },
  {
   "cell_type": "code",
   "execution_count": 22,
   "metadata": {},
   "outputs": [],
   "source": [
    "from pydub import AudioSegment\n",
    "from pydub.silence import split_on_silence, detect_nonsilent\n",
    "import os\n",
    "import tempfile\n",
    "from google.cloud import texttospeech\n",
    "import re\n",
    "\n",
    "class SSMLWordClipper:\n",
    "    def __init__(self, break_strength='strong', break_time='250ms'):\n",
    "        \"\"\"\n",
    "        Initialize the SSML Word Clipper.\n",
    "        \n",
    "        Args:\n",
    "            break_strength (str): SSML break strength ('none', 'x-weak', 'weak', \n",
    "                                'medium', 'strong', 'x-strong')\n",
    "            break_time (str): Break time in milliseconds (e.g., '250ms')\n",
    "        \"\"\"\n",
    "        self.client = texttospeech.TextToSpeechClient()\n",
    "        self.break_strength = break_strength\n",
    "        self.break_time = break_time\n",
    "        \n",
    "    def create_ssml(self, text):\n",
    "        \"\"\"\n",
    "        Convert plain text to SSML with breaks between words.\n",
    "        \n",
    "        Args:\n",
    "            text (str): Input text\n",
    "            \n",
    "        Returns:\n",
    "            str: SSML formatted text with breaks between words\n",
    "        \"\"\"\n",
    "        # Clean the input text\n",
    "        text = text.strip()\n",
    "        \n",
    "        # Split into words while preserving punctuation\n",
    "        words = re.findall(r'\\b\\w+\\b|[.,!?;]', text)\n",
    "        \n",
    "        # Create SSML with breaks\n",
    "        ssml_parts = ['<speak>']\n",
    "        \n",
    "        for i, word in enumerate(words):\n",
    "            ssml_parts.append(word)\n",
    "            \n",
    "            # Add break after each word except the last one and punctuation\n",
    "            if i < len(words) - 1 and not re.match(r'[.,!?;]', words[i + 1]):\n",
    "                ssml_parts.append(\n",
    "                    f'<break strength=\"{self.break_strength}\" time=\"{self.break_time}\"/>'\n",
    "                )\n",
    "                \n",
    "        ssml_parts.append('</speak>')\n",
    "        \n",
    "        return ' '.join(ssml_parts)\n",
    "    \n",
    "    def synthesize_speech(self, text, output_file=\"output.mp3\"):\n",
    "        \"\"\"\n",
    "        Convert text to speech with distinct word breaks using SSML.\n",
    "        \n",
    "        Args:\n",
    "            text (str): Input text\n",
    "            output_file (str): Path to save the output audio file\n",
    "            \n",
    "        Returns:\n",
    "            str: Path to the output audio file\n",
    "        \"\"\"\n",
    "        # Generate SSML\n",
    "        ssml_text = self.create_ssml(text)\n",
    "        \n",
    "        # Configure the voice\n",
    "        voice = texttospeech.VoiceSelectionParams(\n",
    "            language_code=\"en-US\",\n",
    "            name=\"en-US-Neural2-D\",  # Using a neural voice for better quality\n",
    "            ssml_gender=texttospeech.SsmlVoiceGender.MALE\n",
    "        )\n",
    "        \n",
    "        # Configure the audio\n",
    "        audio_config = texttospeech.AudioConfig(\n",
    "            audio_encoding=texttospeech.AudioEncoding.MP3,\n",
    "            speaking_rate=0.6  # Normal speaking rate\n",
    "        )\n",
    "        \n",
    "        # Create synthesis input\n",
    "        synthesis_input = texttospeech.SynthesisInput(ssml=ssml_text)\n",
    "        \n",
    "        # Perform the text-to-speech request\n",
    "        response = self.client.synthesize_speech(\n",
    "            input=synthesis_input,\n",
    "            voice=voice,\n",
    "            audio_config=audio_config\n",
    "        )\n",
    "        \n",
    "        self.audio = response.audio_content\n",
    "        # Write the response to the output file\n",
    "        with open(output_file, \"wb\") as out:\n",
    "            out.write(response.audio_content)\n",
    "            \n",
    "        return output_file\n",
    "\n"
   ]
  },
  {
   "cell_type": "code",
   "execution_count": 25,
   "metadata": {},
   "outputs": [
    {
     "data": {
      "text/plain": [
       "'output_long_breaks.mp3'"
      ]
     },
     "execution_count": 25,
     "metadata": {},
     "output_type": "execute_result"
    }
   ],
   "source": [
    "    # Basic usage\n",
    "# Default configuration (strong breaks, 250ms)\n",
    "clipper = SSMLWordClipper()\n",
    "\n",
    "# Example 2: Longer breaks\n",
    "clipper_long = SSMLWordClipper(break_strength='medium', break_time='300ms')\n",
    "clipper_long.synthesize_speech(text, \"output_long_breaks.mp3\")\n",
    "\n"
   ]
  },
  {
   "cell_type": "code",
   "execution_count": 49,
   "metadata": {},
   "outputs": [],
   "source": [
    "class EnhancedSSMLClipper:\n",
    "    def __init__(self, \n",
    "                 word_rate=\"0.85\",        # Slower rate for clearer words\n",
    "                 word_pitch=\"-2st\",       # Slightly lower pitch for clarity\n",
    "                 word_volume=\"0dB\",       # Normal volume\n",
    "                 break_time=\"250ms\",      # Default break time\n",
    "                 sentence_break=\"500ms\"): # Longer break for sentences\n",
    "        \"\"\"\n",
    "        Initialize Enhanced SSML Clipper with more natural speech parameters.\n",
    "        \n",
    "        Args:\n",
    "            word_rate (str): Speaking rate for each word (0.85 = 85% of normal speed)\n",
    "            word_pitch (str): Pitch adjustment in semitones (st) or Hz\n",
    "            word_volume (str): Volume adjustment in dB\n",
    "            break_time (str): Break time between words\n",
    "            sentence_break (str): Break time between sentences\n",
    "        \"\"\"\n",
    "        self.client = texttospeech.TextToSpeechClient()\n",
    "        self.word_rate = word_rate\n",
    "        self.word_pitch = word_pitch\n",
    "        self.word_volume = word_volume\n",
    "        self.break_time = break_time\n",
    "        self.sentence_break = sentence_break\n",
    "        \n",
    "    def wrap_word_with_prosody(self, word):\n",
    "        \"\"\"\n",
    "        Wrap each word with prosody tags for better control.\n",
    "        \"\"\"\n",
    "        return (f'<prosody rate=\"{self.word_rate}\" '\n",
    "                f'pitch=\"{self.word_pitch}\" '\n",
    "                f'volume=\"{self.word_volume}\">'\n",
    "                f'{word}'\n",
    "                f'</prosody>')\n",
    "    \n",
    "    def get_break_length(self, next_char):\n",
    "        \"\"\"\n",
    "        Determine break length based on context.\n",
    "        \"\"\"\n",
    "        if next_char in '.!?':\n",
    "            return self.sentence_break\n",
    "        elif next_char in ',;':\n",
    "            return str(int(self.break_time[:-2]) * 1.5) + 'ms'\n",
    "        else:\n",
    "            return self.break_time\n",
    "    \n",
    "    def create_ssml(self, text):\n",
    "        \"\"\"\n",
    "        Convert plain text to SSML with enhanced word control.\n",
    "        \n",
    "        Args:\n",
    "            text (str): Input text\n",
    "        \"\"\"\n",
    "        text = text.strip()\n",
    "        \n",
    "        # Split into words while preserving punctuation\n",
    "        # Enhanced regex to capture more punctuation and preserve spacing\n",
    "        words = re.findall(r'\\b[\\w\\']+\\b|[.,!?;]|\\s+', text)\n",
    "        \n",
    "        ssml_parts = ['<speak>']\n",
    "        \n",
    "        i = 0\n",
    "        while i < len(words):\n",
    "            word = words[i].strip()\n",
    "            \n",
    "            # Skip empty strings and pure whitespace\n",
    "            if not word:\n",
    "                i += 1\n",
    "                continue\n",
    "                \n",
    "            # Handle punctuation\n",
    "            if re.match(r'[.,!?;]', word):\n",
    "                ssml_parts.append(word)\n",
    "                if i < len(words) - 1:  # If not the last token\n",
    "                    break_time = self.get_break_length(word)\n",
    "                    ssml_parts.append(f'<break time=\"{break_time}\"/>')\n",
    "            else:\n",
    "                # Wrap non-punctuation words with prosody\n",
    "                ssml_parts.append(self.wrap_word_with_prosody(word))\n",
    "                \n",
    "                # Add break if not followed by punctuation\n",
    "                next_word = words[i + 1] if i < len(words) - 1 else None\n",
    "                if next_word and not re.match(r'[.,!?;]', next_word):\n",
    "                    ssml_parts.append(f'<break time=\"{self.break_time}\"/>')\n",
    "            \n",
    "            i += 1\n",
    "        \n",
    "        ssml_parts.append('</speak>')\n",
    "        return ' '.join(ssml_parts)\n",
    "    \n",
    "    def synthesize_speech(self, text, output_file=\"output.mp3\", voice_name=\"en-US-Neural2-D\"):\n",
    "        \"\"\"\n",
    "        Convert text to speech with enhanced word clarity.\n",
    "        \n",
    "        Args:\n",
    "            text (str): Input text\n",
    "            output_file (str): Output file path\n",
    "            voice_name (str): Name of the voice to use\n",
    "        \"\"\"\n",
    "        ssml_text = self.create_ssml(text)\n",
    "        print(f\"Generated SSML:\\n{ssml_text}\\n\")  # For debugging\n",
    "        \n",
    "        voice = texttospeech.VoiceSelectionParams(\n",
    "            language_code=\"it-IT\",\n",
    "            name=voice_name,\n",
    "            ssml_gender=texttospeech.SsmlVoiceGender.MALE\n",
    "        )\n",
    "        \n",
    "        audio_config = texttospeech.AudioConfig(\n",
    "            audio_encoding=texttospeech.AudioEncoding.MP3,\n",
    "            speaking_rate=1.0,  # Base rate (will be modified by prosody tags)\n",
    "            pitch=0.0,          # Base pitch (will be modified by prosody tags)\n",
    "            volume_gain_db=0.0  # Base volume (will be modified by prosody tags)\n",
    "        )\n",
    "        \n",
    "        synthesis_input = texttospeech.SynthesisInput(ssml=ssml_text)\n",
    "        \n",
    "        response = self.client.synthesize_speech(\n",
    "            input=synthesis_input,\n",
    "            voice=voice,\n",
    "            audio_config=audio_config\n",
    "        )\n",
    "        \n",
    "        with open(output_file, \"wb\") as out:\n",
    "            out.write(response.audio_content)\n",
    "        \n",
    "        return output_file"
   ]
  },
  {
   "cell_type": "code",
   "execution_count": 50,
   "metadata": {},
   "outputs": [],
   "source": [
    "clipper = EnhancedSSMLClipper(\n",
    "    word_rate=\"0.65\",    # Very slow\n",
    "    word_pitch=\"-1st\",   # Slightly lower\n",
    "    break_time=\"300ms\",  # Longer breaks\n",
    ")\n",
    "\n"
   ]
  },
  {
   "cell_type": "code",
   "execution_count": 41,
   "metadata": {},
   "outputs": [
    {
     "name": "stdout",
     "output_type": "stream",
     "text": [
      "Generated SSML:\n",
      "<speak> <prosody rate=\"0.65\" pitch=\"-1st\" volume=\"0dB\">Здравствуйте</prosody> ! <break time=\"500ms\"/> <prosody rate=\"0.65\" pitch=\"-1st\" volume=\"0dB\">Как</prosody> <break time=\"300ms\"/> <prosody rate=\"0.65\" pitch=\"-1st\" volume=\"0dB\">дела</prosody> ? <break time=\"500ms\"/> <prosody rate=\"0.65\" pitch=\"-1st\" volume=\"0dB\">Я</prosody> <break time=\"300ms\"/> <prosody rate=\"0.65\" pitch=\"-1st\" volume=\"0dB\">изучаю</prosody> <break time=\"300ms\"/> <prosody rate=\"0.65\" pitch=\"-1st\" volume=\"0dB\">русский</prosody> <break time=\"300ms\"/> <prosody rate=\"0.65\" pitch=\"-1st\" volume=\"0dB\">язык</prosody> . </speak>\n",
      "\n"
     ]
    },
    {
     "data": {
      "text/plain": [
       "'enhanced.mp3'"
      ]
     },
     "execution_count": 41,
     "metadata": {},
     "output_type": "execute_result"
    }
   ],
   "source": [
    "# Russian text: \"Hello! How are you? I am learning Russian.\"\n",
    "russian_text = \"Здравствуйте! Как дела? Я изучаю русский язык.\"\n",
    "\n",
    "# Russian neural voice name\n",
    "russian_voice = \"ru-RU-Standard-B\"  # Female voice\n",
    "clipper.synthesize_speech(russian_text, \"enhanced.mp3\", russian_voice)"
   ]
  },
  {
   "cell_type": "code",
   "execution_count": 35,
   "metadata": {},
   "outputs": [],
   "source": [
    "audio = text_to_speech(russian_text, \"ru\", russian_voice)"
   ]
  },
  {
   "cell_type": "code",
   "execution_count": 51,
   "metadata": {},
   "outputs": [
    {
     "name": "stdout",
     "output_type": "stream",
     "text": [
      "Generated SSML:\n",
      "<speak> <prosody rate=\"0.65\" pitch=\"-1st\" volume=\"0dB\">Buongiorno</prosody> ! <break time=\"500ms\"/> <prosody rate=\"0.65\" pitch=\"-1st\" volume=\"0dB\">Come</prosody> <break time=\"300ms\"/> <prosody rate=\"0.65\" pitch=\"-1st\" volume=\"0dB\">stai</prosody> ? <break time=\"500ms\"/> <prosody rate=\"0.65\" pitch=\"-1st\" volume=\"0dB\">Oggi</prosody> <break time=\"300ms\"/> <prosody rate=\"0.65\" pitch=\"-1st\" volume=\"0dB\">vado</prosody> <break time=\"300ms\"/> <prosody rate=\"0.65\" pitch=\"-1st\" volume=\"0dB\">in</prosody> <break time=\"300ms\"/> <prosody rate=\"0.65\" pitch=\"-1st\" volume=\"0dB\">spiaggia</prosody> . </speak>\n",
      "\n"
     ]
    },
    {
     "data": {
      "text/plain": [
       "'enhanced.mp3'"
      ]
     },
     "execution_count": 51,
     "metadata": {},
     "output_type": "execute_result"
    }
   ],
   "source": [
    "italian_voice = \"it-IT-Neural2-C\"\n",
    "italian_text1 = \"Buongiorno! Come stai? Oggi vado in spiaggia.\"\n",
    "clipper.synthesize_speech(italian_text1, \"enhanced.mp3\", italian_voice)"
   ]
  },
  {
   "cell_type": "code",
   "execution_count": 9,
   "metadata": {},
   "outputs": [],
   "source": [
    "from src.anki_tools import generate_wiktionary_links_non_english\n",
    "\n",
    "\n",
    "def test_wiktionary_links():\n",
    "    \"\"\"Test function to demonstrate usage.\"\"\"\n",
    "    test_cases = [\n",
    "        (\"goodbye England\", \"uk\"),  # Ukrainian\n",
    "        (\"book reading\", \"sv\"),  # Swedish\n",
    "        (\"coffee shop\", \"ja\"),  # Japanese\n",
    "    ]\n",
    "    \n",
    "    for phrase, lang_code in test_cases:\n",
    "        print(f\"\\nTesting {lang_code} Wiktionary links for: {phrase}\")\n",
    "        result = generate_wiktionary_links_non_english(phrase, lang_code)\n",
    "        print(f\"Result: {result}\")"
   ]
  },
  {
   "cell_type": "code",
   "execution_count": 13,
   "metadata": {},
   "outputs": [
    {
     "name": "stdout",
     "output_type": "stream",
     "text": [
      "\n",
      "Testing uk Wiktionary links for: goodbye England\n",
      "native url is: https://uk.wiktionary.org/wiki/goodbye\n",
      "native url is: https://uk.wiktionary.org/wiki/england\n",
      "Result: <a href=\"https://uk.wiktionary.org/wiki/goodbye#Англійська\">goodbye</a> <a href=\"https://en.wiktionary.org/wiki/england#English\">England</a>\n",
      "\n",
      "Testing sv Wiktionary links for: book reading\n",
      "native url is: https://sv.wiktionary.org/wiki/book\n",
      "native url is: https://sv.wiktionary.org/wiki/reading\n",
      "Result: <a href=\"https://sv.wiktionary.org/wiki/book#Engelska\">book</a> <a href=\"https://sv.wiktionary.org/wiki/reading#Engelska\">reading</a>\n",
      "\n",
      "Testing ja Wiktionary links for: coffee shop\n",
      "native url is: https://ja.wiktionary.org/wiki/coffee\n",
      "native url is: https://ja.wiktionary.org/wiki/shop\n",
      "Result: <a href=\"https://ja.wiktionary.org/wiki/coffee#英語\">coffee</a> <a href=\"https://ja.wiktionary.org/wiki/shop#英語\">shop</a>\n"
     ]
    }
   ],
   "source": [
    "test_wiktionary_links()"
   ]
  }
 ],
 "metadata": {
  "kernelspec": {
   "display_name": ".venv",
   "language": "python",
   "name": "python3"
  },
  "language_info": {
   "codemirror_mode": {
    "name": "ipython",
    "version": 3
   },
   "file_extension": ".py",
   "mimetype": "text/x-python",
   "name": "python",
   "nbconvert_exporter": "python",
   "pygments_lexer": "ipython3",
   "version": "3.11.4"
  }
 },
 "nbformat": 4,
 "nbformat_minor": 2
}
